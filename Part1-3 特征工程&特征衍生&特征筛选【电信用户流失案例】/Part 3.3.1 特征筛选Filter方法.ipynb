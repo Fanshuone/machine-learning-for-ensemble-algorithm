{
 "cells": [
  {
   "cell_type": "markdown",
   "id": "c1adc4d6-47b6-460b-878c-9a3c774bef90",
   "metadata": {
    "tags": []
   },
   "source": [
    "# <center> 【Kaggle】Telco Customer Churn 电信用户流失预测案例"
   ]
  },
  {
   "cell_type": "markdown",
   "id": "a963485d-343d-4c05-9ab3-54b03690a097",
   "metadata": {},
   "source": [
    "## <font face=\"仿宋\">第三部分导读"
   ]
  },
  {
   "cell_type": "markdown",
   "id": "dab8a24e-9185-4eea-858d-372e44a2d52e",
   "metadata": {},
   "source": [
    "&emsp;&emsp;<font face=\"仿宋\">在案例的第二部分中，我们详细介绍了常用特征转化方法，其中有些是模型训练之必须，如自然数编码、独热编码，而有些方法则是以提高数据质量为核心、在大多数时候都是作为模型优化的备选方法，如连续变量分箱、数据标准化等。当然，在此之后，我们首先尝试构建一些可解释性较强的模型来进行用户流失预测，即采用逻辑回归和决策树模型来进行预测，并同时详细介绍了两种模型在实战中的调优技巧，在最终模型训练完成后，我们也重点讨论了关于两种可解释性模型建模结果的解释方法。"
   ]
  },
  {
   "cell_type": "markdown",
   "id": "d7e67bf9-f69d-4b78-b259-a834df9f8602",
   "metadata": {},
   "source": [
    "&emsp;&emsp;<font face=\"仿宋\">从理论上来说，树模型的判别能力是要强于逻辑回归的，但在上一节最后的建模结果中我们发现两个模型的建模并无显著差别，预测准确率都维持在79%-80%之间，这或许说明很多逻辑回归无法正确判别的样本决策树模型也无法判别，据此我们推测，这是一个“入门容易、精通较难”的数据集。当然，如果我们进一步尝试其他“更强”的集成学习算法，如随机森林、XGB、CatBoost等，在当前数据集上的建模结果和逻辑回归也并无太大差异，因此我们亟需通过特征工程方法进一步提升数据集质量，进而提升最终模型效果。"
   ]
  },
  {
   "cell_type": "markdown",
   "id": "bb5efa6b-6285-4f20-a4db-56d3a66fb25e",
   "metadata": {},
   "source": [
    "&emsp;&emsp;<font face=\"仿宋\">当然，哪怕是复杂模型在当前数据集上表现出了更好的效果，采用特征工程方法提升数据质量仍是优化建模结果必不可少的部分，正如时下流行的描述那样，“数据质量决定模型上界，而建模过程只是不断逼近这个上界”，特征工程中的一系列提高数据质量的方法、无论是在工业界实践中还是各大顶级竞赛里，都已然成了最为重要的提升模型效果的手段。"
   ]
  },
  {
   "cell_type": "markdown",
   "id": "28e810b9-37c4-4884-a6f0-25d88e038750",
   "metadata": {},
   "source": [
    "<center><img src=\"https://tva1.sinaimg.cn/large/008i3skNly1gwllgk4wgqj31hr0u0wh4.jpg\" alt=\"image-20211112170651500\" style=\"zoom:15%;\" />"
   ]
  },
  {
   "cell_type": "markdown",
   "id": "e6abb2b8-cecd-4eb6-8a49-3fde98342819",
   "metadata": {},
   "source": [
    "&emsp;&emsp;<font face=\"仿宋\">不过，所谓的通过特征工程方法提高数据质量，看似简单但实际操作起来却并不容易。其难点并不在于其中具体操作方法的理解，至少相比机器学习算法原理，特征工程的很多方法并不复杂，特征工程的最大难点在于配合模型与数据进行方法选择、以及各种方法的工程化部署实现。一方面，特征工程方法众多，需要根据实际情况“因地制宜”，但数据的情况千变万化，很多时候需要同时结合数据探索结论、建模人员自身经验以及对各种备选方法的熟悉程度，才能快速制定行之有效的特征工程策略；另一方面，很多特征工程方法不像机器学习算法有现成的库可以直接调用，很多方法、尤其是一些围绕当前数据集的定制方法，需要自己手动实现，而这个过程就对建模人员本身的代码编写能力及工程部署能力提出了更高的要求。总而言之，特征工程是一个实践高度相关的技术，这也是为何课程会在介绍案例的过程中同步介绍特征工程常用方法的原因。"
   ]
  },
  {
   "cell_type": "markdown",
   "id": "1cb1b89a-733f-4a2f-a5d1-4fb35282abbc",
   "metadata": {},
   "source": [
    "&emsp;&emsp;<font face=\"仿宋\">当然，从宽泛的角度来看，所有围绕数据集的数据调整工作都可以看成是特征工程的一部分，包括此前介绍的缺失值填补、数据编码、特征变换等，这些方法其实都能一定程度提升数据质量，而本节开始，我们将花费一整节的时间来讨论另一类特征工程方法：特征衍生与特征筛选。而该方法通过创建更多特征来提供更多捕捉数据规律的维度，从而提升模型效果。当然特征衍生也是目前公认的最为有效的、能够显著提升数据集质量方法。"
   ]
  },
  {
   "cell_type": "markdown",
   "id": "c9849473-7b90-41d4-9a84-d84fbb410931",
   "metadata": {},
   "source": [
    "# <center>Part 3.特征衍生与特征筛选     "
   ]
  },
  {
   "cell_type": "markdown",
   "id": "9eca40ee-26f9-4b42-ae16-5b846a2bfcb9",
   "metadata": {},
   "source": [
    "&emsp;&emsp;本节开始，我们将进入到特征筛选部分内容。首先我们需要将必要的库进行导入："
   ]
  },
  {
   "cell_type": "code",
   "execution_count": 1,
   "id": "bd0e8f37-fdf4-49fa-9f66-ed820e523d69",
   "metadata": {
    "tags": []
   },
   "outputs": [],
   "source": [
    "# 基础数据科学运算库\n",
    "import numpy as np\n",
    "import pandas as pd\n",
    "\n",
    "# 可视化库\n",
    "import seaborn as sns\n",
    "import matplotlib.pyplot as plt\n",
    "\n",
    "# 时间模块\n",
    "import time\n",
    "\n",
    "# sklearn库\n",
    "# 数据预处理\n",
    "from sklearn import preprocessing\n",
    "from sklearn.compose import ColumnTransformer\n",
    "from sklearn.preprocessing import OrdinalEncoder\n",
    "from sklearn.preprocessing import OneHotEncoder\n",
    "\n",
    "# 实用函数\n",
    "from sklearn.metrics import accuracy_score, recall_score, precision_score, f1_score, roc_auc_score\n",
    "from sklearn.model_selection import train_test_split\n",
    "\n",
    "# 常用评估器\n",
    "from sklearn.pipeline import make_pipeline\n",
    "from sklearn.linear_model import LogisticRegression\n",
    "from sklearn import tree\n",
    "from sklearn.tree import DecisionTreeClassifier\n",
    "\n",
    "# 网格搜索\n",
    "from sklearn.model_selection import GridSearchCV\n",
    "\n",
    "# 自定义评估器支持模块\n",
    "from sklearn.base import BaseEstimator, TransformerMixin\n",
    "\n",
    "# 自定义模块\n",
    "from telcoFunc import *\n",
    "# 导入特征衍生模块\n",
    "import features_creation as fc\n",
    "from features_creation import *\n",
    "\n",
    "# re模块相关\n",
    "import inspect, re\n",
    "\n",
    "# 其他模块\n",
    "from tqdm import tqdm\n",
    "import gc"
   ]
  },
  {
   "cell_type": "markdown",
   "id": "935acfda-7b6a-432c-80c5-9efa11c53383",
   "metadata": {},
   "source": [
    "&emsp;&emsp;然后执行Part 1中的数据清洗相关工作："
   ]
  },
  {
   "cell_type": "code",
   "execution_count": 2,
   "id": "7d2cd600-f49a-4be2-bc5a-b97633d1257a",
   "metadata": {},
   "outputs": [],
   "source": [
    "# 读取数据\n",
    "tcc = pd.read_csv('WA_Fn-UseC_-Telco-Customer-Churn.csv')\n",
    "\n",
    "# 标注连续/离散字段\n",
    "# 离散字段\n",
    "category_cols = ['gender', 'SeniorCitizen', 'Partner', 'Dependents',\n",
    "                'PhoneService', 'MultipleLines', 'InternetService', 'OnlineSecurity', 'OnlineBackup', \n",
    "                'DeviceProtection', 'TechSupport', 'StreamingTV', 'StreamingMovies', 'Contract', 'PaperlessBilling',\n",
    "                'PaymentMethod']\n",
    "\n",
    "# 连续字段\n",
    "numeric_cols = ['tenure', 'MonthlyCharges', 'TotalCharges']\n",
    " \n",
    "# 标签\n",
    "target = 'Churn'\n",
    "\n",
    "# ID列\n",
    "ID_col = 'customerID'\n",
    "\n",
    "# 验证是否划分能完全\n",
    "assert len(category_cols) + len(numeric_cols) + 2 == tcc.shape[1]\n",
    "\n",
    "# 连续字段转化\n",
    "tcc['TotalCharges']= tcc['TotalCharges'].apply(lambda x: x if x!= ' ' else np.nan).astype(float)\n",
    "tcc['MonthlyCharges'] = tcc['MonthlyCharges'].astype(float)\n",
    "\n",
    "# 缺失值填补\n",
    "tcc['TotalCharges'] = tcc['TotalCharges'].fillna(0)\n",
    "\n",
    "# 标签值手动转化 \n",
    "tcc['Churn'].replace(to_replace='Yes', value=1, inplace=True)\n",
    "tcc['Churn'].replace(to_replace='No',  value=0, inplace=True)"
   ]
  },
  {
   "cell_type": "code",
   "execution_count": 3,
   "id": "39b9ea41-adba-4563-b8ea-738d113a8f7b",
   "metadata": {},
   "outputs": [],
   "source": [
    "features = tcc.drop(columns=[ID_col, target]).copy()\n",
    "labels = tcc['Churn'].copy()"
   ]
  },
  {
   "cell_type": "markdown",
   "id": "365e4768-14de-490f-92af-7b8098da8e03",
   "metadata": {},
   "source": [
    "&emsp;&emsp;同时，创建自然编码后的数据集以及经过时序特征衍生的数据集："
   ]
  },
  {
   "cell_type": "code",
   "execution_count": 4,
   "id": "4b1049fa-41d3-4e12-a128-77f21e59a290",
   "metadata": {},
   "outputs": [],
   "source": [
    "# 划分训练集和测试集\n",
    "train, test = train_test_split(tcc, random_state=22)\n",
    "\n",
    "X_train = train.drop(columns=[ID_col, target]).copy()\n",
    "X_test = test.drop(columns=[ID_col, target]).copy()\n",
    "\n",
    "y_train = train['Churn'].copy()\n",
    "y_test = test['Churn'].copy()\n",
    "\n",
    "X_train_seq = pd.DataFrame()\n",
    "X_test_seq = pd.DataFrame()\n",
    "\n",
    "# 年份衍生\n",
    "X_train_seq['tenure_year'] = ((72 - X_train['tenure']) // 12) + 2014\n",
    "X_test_seq['tenure_year'] = ((72 - X_test['tenure']) // 12) + 2014\n",
    "\n",
    "# 月份衍生\n",
    "X_train_seq['tenure_month'] = (72 - X_train['tenure']) % 12 + 1\n",
    "X_test_seq['tenure_month'] = (72 - X_test['tenure']) % 12 + 1\n",
    "\n",
    "# 季度衍生\n",
    "X_train_seq['tenure_quarter'] = ((X_train_seq['tenure_month']-1) // 3) + 1\n",
    "X_test_seq['tenure_quarter'] = ((X_test_seq['tenure_month']-1) // 3) + 1\n",
    "\n",
    "# 独热编码\n",
    "enc = preprocessing.OneHotEncoder()\n",
    "enc.fit(X_train_seq)\n",
    "\n",
    "seq_new = list(X_train_seq.columns)\n",
    "\n",
    "# 创建带有列名称的独热编码之后的df\n",
    "X_train_seq = pd.DataFrame(enc.transform(X_train_seq).toarray(), \n",
    "                           columns = cate_colName(enc, seq_new, drop=None))\n",
    "\n",
    "X_test_seq = pd.DataFrame(enc.transform(X_test_seq).toarray(), \n",
    "                          columns = cate_colName(enc, seq_new, drop=None))\n",
    "\n",
    "# 调整index\n",
    "X_train_seq.index = X_train.index\n",
    "X_test_seq.index = X_test.index"
   ]
  },
  {
   "cell_type": "code",
   "execution_count": 5,
   "id": "3f75048b-3293-4851-ad23-e920c721b0a4",
   "metadata": {},
   "outputs": [],
   "source": [
    "ord_enc = OrdinalEncoder()\n",
    "ord_enc.fit(X_train[category_cols])\n",
    "\n",
    "X_train_OE = pd.DataFrame(ord_enc.transform(X_train[category_cols]), columns=category_cols)\n",
    "X_train_OE.index = X_train.index\n",
    "X_train_OE = pd.concat([X_train_OE, X_train[numeric_cols]], axis=1)\n",
    "\n",
    "X_test_OE = pd.DataFrame(ord_enc.transform(X_test[category_cols]), columns=category_cols)\n",
    "X_test_OE.index = X_test.index\n",
    "X_test_OE = pd.concat([X_test_OE, X_test[numeric_cols]], axis=1)"
   ]
  },
  {
   "cell_type": "markdown",
   "id": "694834ea-23a5-48b9-b348-e408bf852cfd",
   "metadata": {},
   "source": [
    "## <center>Ch.1 特征评估指标"
   ]
  },
  {
   "cell_type": "markdown",
   "id": "1f449298-7693-421d-bbcc-b98e50c0b76a",
   "metadata": {},
   "source": [
    "- 特征筛选方法介绍"
   ]
  },
  {
   "cell_type": "markdown",
   "id": "2cfe354b-3308-4b56-9198-b5584883cc78",
   "metadata": {},
   "source": [
    "&emsp;&emsp;在完整介绍完特征衍生方法后，我们已经掌握了一整套快速构建海量特征池的方法，并且通过一些实践经验的积累，我们也能够在执行特征衍生过程中初步判断哪些方法衍生出来的特征可能有效、其他方法可能无效，也就是说我们在衍生阶段，其实就已经力求的在更短的时间内去创建更多的特征。"
   ]
  },
  {
   "cell_type": "markdown",
   "id": "b630a4ef-15fa-4477-a924-dbb663e64364",
   "metadata": {},
   "source": [
    "&emsp;&emsp;不过尽管如此，在我们创建的海量特征中，仍然并不是所有特征都是有效的，在进行简单的模型验证的过程中我们发现，有很多特征都是0值（不包含任何信息），有些特征对模型起到了适得其反的效果，而还有些特征数值重复度较高，基本就可以看成是完全相同的两个特征。而过多的无效特征将会极大程度影响模型训练效率、甚至影响模型训练结果。因此，在特征衍生结束后，我们仍然需要围绕这些特征，进行一轮特征筛选。特征筛选的目的非常明确：剔除无效特征，筛选有效特征，从而提高模型训练效率与训练结果。"
   ]
  },
  {
   "cell_type": "markdown",
   "id": "1a663533-0d1e-479e-8d25-b2baa6e33b32",
   "metadata": {},
   "source": [
    "&emsp;&emsp;而如何围绕这些特征进行筛选，从理论上来说，一般来说有两种思路三种方法，各类方法都不复杂，并且很多方法此前我们都接触过，此处先进行整体的统一介绍："
   ]
  },
  {
   "cell_type": "markdown",
   "id": "39bf3616-9417-465b-9927-c9bfb5afacec",
   "metadata": {},
   "source": [
    "<center><img src=\"https://typora-photo1220.oss-cn-beijing.aliyuncs.com/DataAnalysis/%E7%89%B9%E5%BE%81%E8%A1%8D%E7%94%9F.jpg\" alt=\"特征筛选\" style=\"zoom:50%;\" />"
   ]
  },
  {
   "cell_type": "markdown",
   "id": "5a8d0fa3-b3f6-44ed-b43d-0697846a3c7f",
   "metadata": {},
   "source": [
    "&emsp;&emsp;当然，关于Filter、Wrapper和Embedding的划分方式非常严谨，而且也符合学术上以算法执行流程对算法进行区分的标准。但是目前来说，Filter方法确实被广泛的应用，但基于模型结果的Wrapper方法和Embedding方法，理论设计却不太符合机器学习实际建模的一般情况。"
   ]
  },
  {
   "cell_type": "markdown",
   "id": "8f62d6c0-912d-4771-82eb-eb46bc93056f",
   "metadata": {},
   "source": [
    "&emsp;&emsp;首先我们先来看Wrapper方法的实践层面问题。"
   ]
  },
  {
   "cell_type": "markdown",
   "id": "ba1c7602-c5f5-4e40-b88c-d38d3864331c",
   "metadata": {},
   "source": [
    "&emsp;&emsp;就当前的机器学习应用实践来看，集成算法无疑是效果最好、应用面最广的一类算法，而集成学习的一次训练就需要训练若干个弱分类器，并且超参数调优过程需要匹配多组超参数取值进行搜索，也就是我们需要训练多个不同超参数的模型；同时，为了保证模型泛化能力，我们还需要对其进行交叉验证（当然该过程往往结合超参数搜索一起执行），此外，在很多场景下，单模效果不如模型融合效果，而模型融合则需要训练多个集成模型和一个final model，也就是复制多个上述过程。不难看出，要严格意义上执行完一次最优的模型训练，需要耗费的计算量是非常大的。反观Wrapper方法，如果我们耗费了如此大的计算量最终只是为了输出一次筛选结果，显然是不划算的，当然，在更多情况下，也是不现实的。"
   ]
  },
  {
   "cell_type": "markdown",
   "id": "a46abea1-11af-42c4-86ec-88d7d7b98233",
   "metadata": {},
   "source": [
    "&emsp;&emsp;因此，如果我们要借助模型输出结果来进行特征筛选，也就是执行Wrapper过程，在目前来看，大多数情况下都会放宽建模要求（这也会导致筛选结果精度下降），并且放宽Wrapper的搜索目标。例如，我们可以在建模过程中只给出一组超参数（在原始特征上搜索出来的最有超参数），在模型训练阶段执行交叉验证，并根据交叉验证后集成学习输出的平均特征重要性来进行一定数量的特征筛选。尽管该过程看起来并不是严谨的Wrapper过程，并且也借鉴了一些Filter方法的思路，有些资料甚至将其划归为Embedding方法，但就是这样一种理论上并不完美的方法，却能够在较短的时间内搜索出较优的特征组合，当然，这也是目前实践和竞赛中更为常见的方法。"
   ]
  },
  {
   "cell_type": "markdown",
   "id": "5929568e-9e04-4d4b-95b9-0739d99e8c80",
   "metadata": {},
   "source": [
    "&emsp;&emsp;而另外一类方法，Embedding方法，则极大程度受限于模型原理本身。如果模型原理层面并没有给我们提供Embedding的可能，我们是无法通过参数或者建模流程调整，自行进行Embedding的。截至目前，在Scikit-Learn中，能够比较好的能够执行Embedding过程的也只有带正则项（尤其是L1正则项）的线性回归和逻辑回归，但线性方程又无法容忍（处理）过高维度的特征矩阵，这使得其无法在海量特征中进行特征筛选，只能先借助其他过程进行预筛选或者PCA降维（这或许是一种更好的方法，线性方程始终对共线性敏感），然后再带入Embedding过程。此外，由于线性方程本身模型效果有限，在很多情况下并不是我们首选的模型，因此这也限制了Embedding方法的发挥。"
   ]
  },
  {
   "cell_type": "markdown",
   "id": "c250fb5b-2829-4952-adc8-67c7ba48a30a",
   "metadata": {},
   "source": [
    "&emsp;&emsp;尽管Wrapper和Embedding的理论和实践略有脱节，但在长期的实践过程中，大家还是寻找到了很多高效的特征筛选方法，包括上述介绍的Wrapper改进方法、特征重要性筛选法，以及目前竞赛中经常被用到的null importance方法。而课程将以实战为主，并不会介绍理论严谨但实践困难的诸多方法，而是根据目前的实践情况，重点介绍高效有效的筛选方法。因此，课上也将舍弃Filter、Wrapper、Embedding的划分方式，而是按照特征评估指标和特征筛选过程两阶段来进行介绍，在大多数实践情况下，特征筛选的过程都是混合多种指标和过程的。"
   ]
  },
  {
   "cell_type": "markdown",
   "id": "06482c7a-7d18-4a11-8cd1-3d6f178e433d",
   "metadata": {},
   "source": [
    "&emsp;&emsp;本节我们将首先重点介绍关于特征有效性的评估指标。关于特征有效性的评估指标，整体来看可以分为三类，分别是特征信息量包含指标、特征和标签关联度指标以及模型重要性指标。三类评估指标层层递进，我们也将逐个对其进行介绍。"
   ]
  },
  {
   "cell_type": "markdown",
   "id": "a38660f9-cc2c-4d33-b2fc-c9a1dcd17fc1",
   "metadata": {},
   "source": [
    "## 一、信息包含量指标"
   ]
  },
  {
   "cell_type": "markdown",
   "id": "2058a52a-aefb-4909-aada-b6e55df76477",
   "metadata": {},
   "source": [
    "&emsp;&emsp;首先，最为通用、且往往用于特征筛选的第一步的特征有效性评估指标，就是特征的信息包含量指标。很明显，且不论所包含信息是否有效，如果特征本身包含信息有限甚至是根本就不包含任何有效信息，则需要在特征筛选的第一个环节就被快速的剔除，以提升后续进行特征有效性识别与筛选的效率。"
   ]
  },
  {
   "cell_type": "markdown",
   "id": "a9a04e44-b334-4d93-a22e-8fbf2eeb79dc",
   "metadata": {},
   "source": [
    "&emsp;&emsp;而对于特征所包含信息量的识别也并不复杂，我们可以通过两个指标的计算来进行判断，其一是特征的缺失值所占比例，其二是单变量的方差。对于某个特征来说，如果缺失值占比过大（如超过90%），除非从业务角度判断可以通过标记法进行填补，否则可以视作特征信息大范围缺失，是没有进一步分析必要的，可以直接剔除；其次，对于不包含缺失值的字段，我们也可以通过方差对其包含信息量进行识别，一般来说方差越小、特征包含的信息量就越少，极端情况下，方差取值为0时，该特征所有取值都一样，也就相当于不包含任何有效信息，是需要被快速识别和剔除的。"
   ]
  },
  {
   "cell_type": "markdown",
   "id": "142adf30-c0f7-44e7-972c-f9b3e49e8c49",
   "metadata": {},
   "source": [
    "### 1.缺失值比例计算与特征筛选"
   ]
  },
  {
   "cell_type": "markdown",
   "id": "4bd38a94-ddf2-43f7-a0dc-f6755470ff71",
   "metadata": {},
   "source": [
    "&emsp;&emsp;首先我们来看单变量缺失值比例计算方法与特征剔除过程。该过程并不复杂，唯一需要注意的是，从流程上来说，我们在数据预处理阶段（也就是特征衍生之前）就会完成缺失值的识别和填补工作，因此到了特征筛选阶段出现的缺失值，极有可能是特征衍生过程中生成的缺失值，该部分缺失值往往也不具备任何业务特殊性（不是某类特殊样本的某种标记），因此是可以直接考虑提出那些缺失比例较高的特征的。"
   ]
  },
  {
   "cell_type": "markdown",
   "id": "591634a8-0668-4332-818b-d721a2e4a7f1",
   "metadata": {},
   "source": [
    "&emsp;&emsp;缺失值比例计算与筛选可以通过如下方式实现。需要注意的是，在特征筛选环节，我们仍然需要在训练集上进行训练，然后再测试集上进行测试，并且如果存在缺失值但没达到剔除的标准，则对其进行固定值填补："
   ]
  },
  {
   "cell_type": "code",
   "execution_count": 6,
   "id": "b776b387-86b0-45a6-8c8e-1bc71953282e",
   "metadata": {},
   "outputs": [],
   "source": [
    "def MissingValueThreshold(X_train_temp, X_test_temp, threshold = 0.9, fn = 0):\n",
    "    \"\"\"\n",
    "    根据比例删除缺失值比例较高的特征\n",
    "    同时将其他缺失值统一填补为fn的值\n",
    "    \n",
    "    :param X_train_temp: 训练集特征\n",
    "    :param X_test_temp: 测试集特征\n",
    "    :param threshold: 缺失值比例阈值\n",
    "    :param fn: 其他缺失值填补数值\n",
    "    \n",
    "    :return：剔除指定特征后的X_train_temp和X_test_temp\n",
    "    \"\"\"\n",
    "    for col in X_train_temp:\n",
    "        if X_train_temp[col].isnull().sum() / X_train_temp.shape[0] >= threshold:\n",
    "            del X_train_temp[col]\n",
    "            del X_test_temp[col]\n",
    "        else:\n",
    "            X_train_temp[col] = X_train_temp[col].fillna(fn)\n",
    "            X_test_temp[col] = X_test_temp[col].fillna(fn)\n",
    "    return X_train_temp, X_test_temp"
   ]
  },
  {
   "cell_type": "code",
   "execution_count": 7,
   "id": "2c6f64f5-f7c2-4291-b3b7-0b1f65aa73bc",
   "metadata": {},
   "outputs": [],
   "source": [
    "df_train = pd.DataFrame({'x1':[1, np.nan, np.nan], 'x2':[1, 2, np.nan], 'X3':[1, 2, 3]})"
   ]
  },
  {
   "cell_type": "code",
   "execution_count": 8,
   "id": "ccf7f187-619a-4b77-b89d-08a86f75b4ac",
   "metadata": {},
   "outputs": [],
   "source": [
    "df_test = df_train.copy()"
   ]
  },
  {
   "cell_type": "code",
   "execution_count": 9,
   "id": "9a73f1c9-3e23-459f-b490-fb1fb32af990",
   "metadata": {},
   "outputs": [
    {
     "data": {
      "text/html": [
       "<div>\n",
       "<style scoped>\n",
       "    .dataframe tbody tr th:only-of-type {\n",
       "        vertical-align: middle;\n",
       "    }\n",
       "\n",
       "    .dataframe tbody tr th {\n",
       "        vertical-align: top;\n",
       "    }\n",
       "\n",
       "    .dataframe thead th {\n",
       "        text-align: right;\n",
       "    }\n",
       "</style>\n",
       "<table border=\"1\" class=\"dataframe\">\n",
       "  <thead>\n",
       "    <tr style=\"text-align: right;\">\n",
       "      <th></th>\n",
       "      <th>x1</th>\n",
       "      <th>x2</th>\n",
       "      <th>X3</th>\n",
       "    </tr>\n",
       "  </thead>\n",
       "  <tbody>\n",
       "    <tr>\n",
       "      <th>0</th>\n",
       "      <td>1.0</td>\n",
       "      <td>1.0</td>\n",
       "      <td>1</td>\n",
       "    </tr>\n",
       "    <tr>\n",
       "      <th>1</th>\n",
       "      <td>NaN</td>\n",
       "      <td>2.0</td>\n",
       "      <td>2</td>\n",
       "    </tr>\n",
       "    <tr>\n",
       "      <th>2</th>\n",
       "      <td>NaN</td>\n",
       "      <td>NaN</td>\n",
       "      <td>3</td>\n",
       "    </tr>\n",
       "  </tbody>\n",
       "</table>\n",
       "</div>"
      ],
      "text/plain": [
       "    x1   x2  X3\n",
       "0  1.0  1.0   1\n",
       "1  NaN  2.0   2\n",
       "2  NaN  NaN   3"
      ]
     },
     "execution_count": 9,
     "metadata": {},
     "output_type": "execute_result"
    }
   ],
   "source": [
    "df_test"
   ]
  },
  {
   "cell_type": "code",
   "execution_count": 10,
   "id": "1b032f5c-eb47-4c0f-99fa-1bf2a4b6a9cd",
   "metadata": {},
   "outputs": [
    {
     "data": {
      "text/plain": [
       "x1    2\n",
       "x2    1\n",
       "X3    0\n",
       "dtype: int64"
      ]
     },
     "execution_count": 10,
     "metadata": {},
     "output_type": "execute_result"
    }
   ],
   "source": [
    "df_test.isnull().sum()"
   ]
  },
  {
   "cell_type": "code",
   "execution_count": 11,
   "id": "ae2feab8-4337-4dad-a72f-00f0711b558c",
   "metadata": {},
   "outputs": [
    {
     "data": {
      "text/html": [
       "<div>\n",
       "<style scoped>\n",
       "    .dataframe tbody tr th:only-of-type {\n",
       "        vertical-align: middle;\n",
       "    }\n",
       "\n",
       "    .dataframe tbody tr th {\n",
       "        vertical-align: top;\n",
       "    }\n",
       "\n",
       "    .dataframe thead th {\n",
       "        text-align: right;\n",
       "    }\n",
       "</style>\n",
       "<table border=\"1\" class=\"dataframe\">\n",
       "  <thead>\n",
       "    <tr style=\"text-align: right;\">\n",
       "      <th></th>\n",
       "      <th>x2</th>\n",
       "      <th>X3</th>\n",
       "    </tr>\n",
       "  </thead>\n",
       "  <tbody>\n",
       "    <tr>\n",
       "      <th>0</th>\n",
       "      <td>1.0</td>\n",
       "      <td>1</td>\n",
       "    </tr>\n",
       "    <tr>\n",
       "      <th>1</th>\n",
       "      <td>2.0</td>\n",
       "      <td>2</td>\n",
       "    </tr>\n",
       "    <tr>\n",
       "      <th>2</th>\n",
       "      <td>0.0</td>\n",
       "      <td>3</td>\n",
       "    </tr>\n",
       "  </tbody>\n",
       "</table>\n",
       "</div>"
      ],
      "text/plain": [
       "    x2  X3\n",
       "0  1.0   1\n",
       "1  2.0   2\n",
       "2  0.0   3"
      ]
     },
     "execution_count": 11,
     "metadata": {},
     "output_type": "execute_result"
    }
   ],
   "source": [
    "X_train, X_test = MissingValueThreshold(df_train, df_test, threshold = 0.5)\n",
    "X_test"
   ]
  },
  {
   "cell_type": "markdown",
   "id": "bec804aa-6c64-4d0e-9f0b-50f1f67429ab",
   "metadata": {},
   "source": [
    "### 2.单变量方差与特征筛选"
   ]
  },
  {
   "cell_type": "markdown",
   "id": "a3b2d7de-1c7c-43cd-9372-983b0ce751b3",
   "metadata": {},
   "source": [
    "&emsp;&emsp;接下来我们进一步考虑单变量方差的计算过程与特征筛选过程，该过程要求先单独对数据集的每一列进行方差计算，然后根据给出的阈值剔除那些方差没达到阈值的列。该过程可以借助sklearn中的VarianceThreshold评估器快速实现。"
   ]
  },
  {
   "cell_type": "code",
   "execution_count": 12,
   "id": "94f49167-c8cc-4edd-abf3-cdce246fffc7",
   "metadata": {},
   "outputs": [],
   "source": [
    "from sklearn.feature_selection import VarianceThreshold"
   ]
  },
  {
   "cell_type": "markdown",
   "id": "829eaf88-7191-45d9-942f-8db4d19e1573",
   "metadata": {},
   "source": [
    "- 样本方差与总体方差"
   ]
  },
  {
   "cell_type": "markdown",
   "id": "9563e234-c3ba-426d-bbf8-65e12478abf5",
   "metadata": {},
   "source": [
    "&emsp;&emsp;首先我们简单回顾下方差计算公式。对于方差计算来说，其实有两种计算方式，分别是样本方差和总体方差。对于样本方差来说，就是每个样本与均值的差值平方和除以样本总数的计算结果："
   ]
  },
  {
   "cell_type": "markdown",
   "id": "7d4f0ab9-c665-40d1-84a5-887aeb58beed",
   "metadata": {},
   "source": [
    "$$Var[X] = \\frac{\\sum^{n}_{i=1}(x_i-\\bar x)^2}{n}$$"
   ]
  },
  {
   "cell_type": "markdown",
   "id": "f2645412-6700-4c22-8a2f-78f84e290e9a",
   "metadata": {},
   "source": [
    "其中X表示随机变量，$x_i$表示某次观测值，$\\bar x$表示均值，n表示样本总数。"
   ]
  },
  {
   "cell_type": "markdown",
   "id": "09a2f450-b4cc-41fe-95f1-b703373fa338",
   "metadata": {},
   "source": [
    "&emsp;&emsp;而如果是计算总体方差，由于此间涉及到通过样本对总体进行推断的过程，因此自由度需要减1，实际计算过程如下所示："
   ]
  },
  {
   "cell_type": "markdown",
   "id": "b6530d7f-f01a-4f5d-a6d6-80e759f20983",
   "metadata": {},
   "source": [
    "$$Var[X] = \\frac{\\sum^{n}_{i=1}(x_i-\\bar x)^2}{n-1}$$"
   ]
  },
  {
   "cell_type": "markdown",
   "id": "591def02-8517-4b61-abb0-ab58ec52f062",
   "metadata": {},
   "source": [
    "即在分母位置上-1。"
   ]
  },
  {
   "cell_type": "markdown",
   "id": "69933b5f-62ce-4979-9a62-77fe9538d9bd",
   "metadata": {},
   "source": [
    "- numpy中的方差计算"
   ]
  },
  {
   "cell_type": "markdown",
   "id": "d0399e32-ac21-45bd-a30e-b4ed3f618d16",
   "metadata": {},
   "source": [
    "&emsp;&emsp;而在NumPy中，默认执行的是总体方差计算。我们可以通过如下方式进行验算："
   ]
  },
  {
   "cell_type": "code",
   "execution_count": 13,
   "id": "1c93bb59-2e35-4393-9af9-125812b2559f",
   "metadata": {},
   "outputs": [
    {
     "data": {
      "text/html": [
       "<div>\n",
       "<style scoped>\n",
       "    .dataframe tbody tr th:only-of-type {\n",
       "        vertical-align: middle;\n",
       "    }\n",
       "\n",
       "    .dataframe tbody tr th {\n",
       "        vertical-align: top;\n",
       "    }\n",
       "\n",
       "    .dataframe thead th {\n",
       "        text-align: right;\n",
       "    }\n",
       "</style>\n",
       "<table border=\"1\" class=\"dataframe\">\n",
       "  <thead>\n",
       "    <tr style=\"text-align: right;\">\n",
       "      <th></th>\n",
       "      <th>x1</th>\n",
       "      <th>x2</th>\n",
       "      <th>x3</th>\n",
       "    </tr>\n",
       "  </thead>\n",
       "  <tbody>\n",
       "    <tr>\n",
       "      <th>0</th>\n",
       "      <td>1</td>\n",
       "      <td>1</td>\n",
       "      <td>1</td>\n",
       "    </tr>\n",
       "    <tr>\n",
       "      <th>1</th>\n",
       "      <td>2</td>\n",
       "      <td>2</td>\n",
       "      <td>1</td>\n",
       "    </tr>\n",
       "    <tr>\n",
       "      <th>2</th>\n",
       "      <td>4</td>\n",
       "      <td>1</td>\n",
       "      <td>1</td>\n",
       "    </tr>\n",
       "  </tbody>\n",
       "</table>\n",
       "</div>"
      ],
      "text/plain": [
       "   x1  x2  x3\n",
       "0   1   1   1\n",
       "1   2   2   1\n",
       "2   4   1   1"
      ]
     },
     "execution_count": 13,
     "metadata": {},
     "output_type": "execute_result"
    }
   ],
   "source": [
    "df_temp = pd.DataFrame({'x1':[1, 2, 4], 'x2':[1, 2, 1], 'x3':[1, 1, 1]})\n",
    "df_temp"
   ]
  },
  {
   "cell_type": "code",
   "execution_count": 14,
   "id": "8926a16e-6568-4bbb-ad76-18b44b758104",
   "metadata": {},
   "outputs": [
    {
     "data": {
      "text/plain": [
       "x1    2.333333\n",
       "x2    0.333333\n",
       "x3    0.000000\n",
       "dtype: float64"
      ]
     },
     "execution_count": 14,
     "metadata": {},
     "output_type": "execute_result"
    }
   ],
   "source": [
    "df_temp.var()"
   ]
  },
  {
   "cell_type": "code",
   "execution_count": 15,
   "id": "d038ec10-70ac-4bed-b68c-fb48eb902626",
   "metadata": {},
   "outputs": [
    {
     "data": {
      "text/plain": [
       "2.333333333333333"
      ]
     },
     "execution_count": 15,
     "metadata": {},
     "output_type": "execute_result"
    }
   ],
   "source": [
    "np.power((df_temp['x1'] - df_temp['x1'].mean()), 2).sum() / 2"
   ]
  },
  {
   "cell_type": "markdown",
   "id": "8f98432c-1112-46fa-8af3-ce78f5cc7626",
   "metadata": {},
   "source": [
    "而若要计算单样本方差，则需要输入参数ddof=0："
   ]
  },
  {
   "cell_type": "code",
   "execution_count": 16,
   "id": "9f72c659-8f29-4494-9343-f6f56fe218c4",
   "metadata": {},
   "outputs": [
    {
     "data": {
      "text/plain": [
       "x1    1.555556\n",
       "x2    0.222222\n",
       "x3    0.000000\n",
       "dtype: float64"
      ]
     },
     "execution_count": 16,
     "metadata": {},
     "output_type": "execute_result"
    }
   ],
   "source": [
    "df_temp.var(ddof=0)"
   ]
  },
  {
   "cell_type": "code",
   "execution_count": 17,
   "id": "4348e7f2-3b03-4608-b61f-31f83d25b06f",
   "metadata": {},
   "outputs": [
    {
     "data": {
      "text/plain": [
       "1.5555555555555554"
      ]
     },
     "execution_count": 17,
     "metadata": {},
     "output_type": "execute_result"
    }
   ],
   "source": [
    "np.power((df_temp['x1'] - df_temp['x1'].mean()), 2).sum() / 3"
   ]
  },
  {
   "cell_type": "code",
   "execution_count": 18,
   "id": "e5ed03d5-2a85-4b2e-9a9a-939db33a05d1",
   "metadata": {},
   "outputs": [
    {
     "data": {
      "text/plain": [
       "x1    2.333333\n",
       "x2    0.333333\n",
       "x3    0.000000\n",
       "dtype: float64"
      ]
     },
     "execution_count": 18,
     "metadata": {},
     "output_type": "execute_result"
    }
   ],
   "source": [
    "# 而默认情况下，相当于自由度-1\n",
    "df_temp.var(ddof=1)"
   ]
  },
  {
   "cell_type": "markdown",
   "id": "fd0b443e-a99f-4050-99be-6c9f742b5360",
   "metadata": {},
   "source": [
    "- VarianceThreshold评估器"
   ]
  },
  {
   "cell_type": "markdown",
   "id": "ea5cc5ba-1c98-400e-bde0-3ec9761909a7",
   "metadata": {},
   "source": [
    "&emsp;&emsp;需要注意的是，对于sklearn中VarianceThreshold评估器则默认进行样本方差计算，且不能修改，也就是说VarianceThreshold是按照如下方式进行的方差计算及筛选："
   ]
  },
  {
   "cell_type": "markdown",
   "id": "ef220243-ed14-4d37-a642-b8918fcedaa7",
   "metadata": {},
   "source": [
    "$$Var[X] = \\frac{\\sum^{n}_{i=1}(x_i-\\bar x)^2}{n}$$"
   ]
  },
  {
   "cell_type": "code",
   "execution_count": 19,
   "id": "d8f7e56b-b8d0-4b59-804b-d44c344db039",
   "metadata": {
    "collapsed": true,
    "jupyter": {
     "outputs_hidden": true
    },
    "tags": []
   },
   "outputs": [
    {
     "data": {
      "text/plain": [
       "\u001b[1;31mInit signature:\u001b[0m \u001b[0mVarianceThreshold\u001b[0m\u001b[1;33m(\u001b[0m\u001b[0mthreshold\u001b[0m\u001b[1;33m=\u001b[0m\u001b[1;36m0.0\u001b[0m\u001b[1;33m)\u001b[0m\u001b[1;33m\u001b[0m\u001b[1;33m\u001b[0m\u001b[0m\n",
       "\u001b[1;31mDocstring:\u001b[0m     \n",
       "Feature selector that removes all low-variance features.\n",
       "\n",
       "This feature selection algorithm looks only at the features (X), not the\n",
       "desired outputs (y), and can thus be used for unsupervised learning.\n",
       "\n",
       "Read more in the :ref:`User Guide <variance_threshold>`.\n",
       "\n",
       "Parameters\n",
       "----------\n",
       "threshold : float, default=0\n",
       "    Features with a training-set variance lower than this threshold will\n",
       "    be removed. The default is to keep all features with non-zero variance,\n",
       "    i.e. remove the features that have the same value in all samples.\n",
       "\n",
       "Attributes\n",
       "----------\n",
       "variances_ : array, shape (n_features,)\n",
       "    Variances of individual features.\n",
       "\n",
       "n_features_in_ : int\n",
       "    Number of features seen during :term:`fit`.\n",
       "\n",
       "    .. versionadded:: 0.24\n",
       "\n",
       "feature_names_in_ : ndarray of shape (`n_features_in_`,)\n",
       "    Names of features seen during :term:`fit`. Defined only when `X`\n",
       "    has feature names that are all strings.\n",
       "\n",
       "    .. versionadded:: 1.0\n",
       "\n",
       "See Also\n",
       "--------\n",
       "SelectFromModel: Meta-transformer for selecting features based on\n",
       "    importance weights.\n",
       "SelectPercentile : Select features according to a percentile of the highest\n",
       "    scores.\n",
       "SequentialFeatureSelector : Transformer that performs Sequential Feature\n",
       "    Selection.\n",
       "\n",
       "Notes\n",
       "-----\n",
       "Allows NaN in the input.\n",
       "Raises ValueError if no feature in X meets the variance threshold.\n",
       "\n",
       "Examples\n",
       "--------\n",
       "The following dataset has integer features, two of which are the same\n",
       "in every sample. These are removed with the default setting for threshold::\n",
       "\n",
       "    >>> from sklearn.feature_selection import VarianceThreshold\n",
       "    >>> X = [[0, 2, 0, 3], [0, 1, 4, 3], [0, 1, 1, 3]]\n",
       "    >>> selector = VarianceThreshold()\n",
       "    >>> selector.fit_transform(X)\n",
       "    array([[2, 0],\n",
       "           [1, 4],\n",
       "           [1, 1]])\n",
       "\u001b[1;31mFile:\u001b[0m           d:\\anaconda3\\lib\\site-packages\\sklearn\\feature_selection\\_variance_threshold.py\n",
       "\u001b[1;31mType:\u001b[0m           ABCMeta\n",
       "\u001b[1;31mSubclasses:\u001b[0m     \n"
      ]
     },
     "metadata": {},
     "output_type": "display_data"
    }
   ],
   "source": [
    "VarianceThreshold?"
   ]
  },
  {
   "cell_type": "markdown",
   "id": "e71e533b-d53a-4738-8cab-f82d8b8f69e9",
   "metadata": {},
   "source": [
    "VarianceThreshold评估器有且只有一个参数，即方差阈值，需要注意的是，只有某列的方差大于该阈值，才能被保留，而小于或等于该阈值的方差对应的列都会被剔除："
   ]
  },
  {
   "cell_type": "code",
   "execution_count": 20,
   "id": "48aef77b-9621-4860-a1ea-f6d626af38be",
   "metadata": {},
   "outputs": [],
   "source": [
    "# 实例化评估器\n",
    "sel = VarianceThreshold(threshold=1.5)"
   ]
  },
  {
   "cell_type": "code",
   "execution_count": 21,
   "id": "2b7a565d-a38a-4bff-87db-898f8d6e6fad",
   "metadata": {},
   "outputs": [
    {
     "data": {
      "text/plain": [
       "array([[1],\n",
       "       [2],\n",
       "       [4]], dtype=int64)"
      ]
     },
     "execution_count": 21,
     "metadata": {},
     "output_type": "execute_result"
    }
   ],
   "source": [
    "# 训练评估器，对数据集进行修改\n",
    "sel.fit_transform(df_temp)"
   ]
  },
  {
   "cell_type": "markdown",
   "id": "015c5e9a-487f-4b32-aee9-98a8de1a2581",
   "metadata": {},
   "source": [
    "需要注意的是，由于VarianceThreshold是执行的样本方差计算，因此若将阈值设置为1.6，则无法筛选出任何特征："
   ]
  },
  {
   "cell_type": "code",
   "execution_count": 22,
   "id": "5c71daec-106a-417d-97c6-804399c00574",
   "metadata": {
    "tags": []
   },
   "outputs": [],
   "source": [
    "# sel = VarianceThreshold(threshold=1.6)\n",
    "# sel.fit_transform(df_temp)"
   ]
  },
  {
   "cell_type": "code",
   "execution_count": 23,
   "id": "eaae0a9b-4c1d-4766-8304-df54656843d5",
   "metadata": {},
   "outputs": [
    {
     "data": {
      "text/plain": [
       "x1    1.555556\n",
       "x2    0.222222\n",
       "x3    0.000000\n",
       "dtype: float64"
      ]
     },
     "execution_count": 23,
     "metadata": {},
     "output_type": "execute_result"
    }
   ],
   "source": [
    "df_temp.var(ddof=0)"
   ]
  },
  {
   "cell_type": "markdown",
   "id": "83c18195-f00b-4507-af50-167799e5f2a3",
   "metadata": {},
   "source": [
    "因此，若要先预估样本基本方差分布再设置阈值，则需要借助var(ddof=0)过程。当然，在大多数情况下，由于少量信息也可能对建模造成重大影响（如恰好能够识别异常值），所以我们往往只剔除那些方差为0的特征，也就是删除取值完全相同的特征，此时采用VarianceThreshold默认参数即可："
   ]
  },
  {
   "cell_type": "code",
   "execution_count": 24,
   "id": "5e040d19-9ff5-4f42-b20c-da08457daca1",
   "metadata": {},
   "outputs": [
    {
     "data": {
      "text/html": [
       "<div>\n",
       "<style scoped>\n",
       "    .dataframe tbody tr th:only-of-type {\n",
       "        vertical-align: middle;\n",
       "    }\n",
       "\n",
       "    .dataframe tbody tr th {\n",
       "        vertical-align: top;\n",
       "    }\n",
       "\n",
       "    .dataframe thead th {\n",
       "        text-align: right;\n",
       "    }\n",
       "</style>\n",
       "<table border=\"1\" class=\"dataframe\">\n",
       "  <thead>\n",
       "    <tr style=\"text-align: right;\">\n",
       "      <th></th>\n",
       "      <th>x1</th>\n",
       "      <th>x2</th>\n",
       "      <th>x3</th>\n",
       "    </tr>\n",
       "  </thead>\n",
       "  <tbody>\n",
       "    <tr>\n",
       "      <th>0</th>\n",
       "      <td>1</td>\n",
       "      <td>1</td>\n",
       "      <td>1</td>\n",
       "    </tr>\n",
       "    <tr>\n",
       "      <th>1</th>\n",
       "      <td>2</td>\n",
       "      <td>2</td>\n",
       "      <td>1</td>\n",
       "    </tr>\n",
       "    <tr>\n",
       "      <th>2</th>\n",
       "      <td>4</td>\n",
       "      <td>1</td>\n",
       "      <td>1</td>\n",
       "    </tr>\n",
       "  </tbody>\n",
       "</table>\n",
       "</div>"
      ],
      "text/plain": [
       "   x1  x2  x3\n",
       "0   1   1   1\n",
       "1   2   2   1\n",
       "2   4   1   1"
      ]
     },
     "execution_count": 24,
     "metadata": {},
     "output_type": "execute_result"
    }
   ],
   "source": [
    "df_temp"
   ]
  },
  {
   "cell_type": "code",
   "execution_count": 25,
   "id": "c5c38aaa-aad7-4643-b0dd-9a5cb1892e1a",
   "metadata": {},
   "outputs": [
    {
     "data": {
      "text/plain": [
       "array([[1, 1],\n",
       "       [2, 2],\n",
       "       [4, 1]], dtype=int64)"
      ]
     },
     "execution_count": 25,
     "metadata": {},
     "output_type": "execute_result"
    }
   ],
   "source": [
    "sel = VarianceThreshold()\n",
    "sel.fit_transform(df_temp)"
   ]
  },
  {
   "cell_type": "markdown",
   "id": "a15cbb49-a25c-4c5d-b122-275409801d39",
   "metadata": {},
   "source": [
    "此外需要注意的是，由于我们往往希望保留剔出特征后的列名称，而上述评估器最终输出结果是一个array，我们需要借助VarianceThreshold评估器的variances_属性，来查看每一列的方差计算结果，并据此推算剔除和保留的列，并最终给保留列赋予列名称："
   ]
  },
  {
   "cell_type": "code",
   "execution_count": 26,
   "id": "48784ed7-5522-4023-9aec-f083d6cd559b",
   "metadata": {},
   "outputs": [
    {
     "data": {
      "text/plain": [
       "array([1.55555556, 0.22222222, 0.        ])"
      ]
     },
     "execution_count": 26,
     "metadata": {},
     "output_type": "execute_result"
    }
   ],
   "source": [
    "sel.variances_"
   ]
  },
  {
   "cell_type": "code",
   "execution_count": 27,
   "id": "e19f1724-0c22-4b80-948a-1769014b1a09",
   "metadata": {},
   "outputs": [
    {
     "data": {
      "text/plain": [
       "array([False, False,  True])"
      ]
     },
     "execution_count": 27,
     "metadata": {},
     "output_type": "execute_result"
    }
   ],
   "source": [
    "sel.variances_ == 0"
   ]
  },
  {
   "cell_type": "code",
   "execution_count": 28,
   "id": "40b5e082-6817-4274-9ef9-e85742485a2c",
   "metadata": {},
   "outputs": [
    {
     "data": {
      "text/plain": [
       "Index(['x1', 'x2', 'x3'], dtype='object')"
      ]
     },
     "execution_count": 28,
     "metadata": {},
     "output_type": "execute_result"
    }
   ],
   "source": [
    "df_temp.columns"
   ]
  },
  {
   "cell_type": "code",
   "execution_count": 29,
   "id": "7cb83aca-cb6e-4305-b28a-b33992e32cd0",
   "metadata": {},
   "outputs": [
    {
     "data": {
      "text/plain": [
       "Index(['x1', 'x2'], dtype='object')"
      ]
     },
     "execution_count": 29,
     "metadata": {},
     "output_type": "execute_result"
    }
   ],
   "source": [
    "df_temp.columns[sel.variances_ != 0]"
   ]
  },
  {
   "cell_type": "code",
   "execution_count": 30,
   "id": "be758ea9-7c94-4201-b906-227c227678d7",
   "metadata": {},
   "outputs": [
    {
     "data": {
      "text/html": [
       "<div>\n",
       "<style scoped>\n",
       "    .dataframe tbody tr th:only-of-type {\n",
       "        vertical-align: middle;\n",
       "    }\n",
       "\n",
       "    .dataframe tbody tr th {\n",
       "        vertical-align: top;\n",
       "    }\n",
       "\n",
       "    .dataframe thead th {\n",
       "        text-align: right;\n",
       "    }\n",
       "</style>\n",
       "<table border=\"1\" class=\"dataframe\">\n",
       "  <thead>\n",
       "    <tr style=\"text-align: right;\">\n",
       "      <th></th>\n",
       "      <th>x1</th>\n",
       "      <th>x2</th>\n",
       "    </tr>\n",
       "  </thead>\n",
       "  <tbody>\n",
       "    <tr>\n",
       "      <th>0</th>\n",
       "      <td>1</td>\n",
       "      <td>1</td>\n",
       "    </tr>\n",
       "    <tr>\n",
       "      <th>1</th>\n",
       "      <td>2</td>\n",
       "      <td>2</td>\n",
       "    </tr>\n",
       "    <tr>\n",
       "      <th>2</th>\n",
       "      <td>4</td>\n",
       "      <td>1</td>\n",
       "    </tr>\n",
       "  </tbody>\n",
       "</table>\n",
       "</div>"
      ],
      "text/plain": [
       "   x1  x2\n",
       "0   1   1\n",
       "1   2   2\n",
       "2   4   1"
      ]
     },
     "execution_count": 30,
     "metadata": {},
     "output_type": "execute_result"
    }
   ],
   "source": [
    "df_temp[df_temp.columns[sel.variances_ != 0]]"
   ]
  },
  {
   "cell_type": "markdown",
   "id": "5ac06e1b-eaa0-47da-8af4-b35585acab27",
   "metadata": {},
   "source": [
    "- VarianceThreshold阈值选取"
   ]
  },
  {
   "cell_type": "markdown",
   "id": "666bc44a-7549-4e4d-abbc-33cc9ed740b0",
   "metadata": {},
   "source": [
    "&emsp;&emsp;需要注意的是，特征的方差会显著的受到特征取值大小的影响，即某特征本身取值较大，方差计算结果也越大，例如某列取值放大10倍，则方差会放大100倍："
   ]
  },
  {
   "cell_type": "code",
   "execution_count": 31,
   "id": "8b703c45-659e-47ab-842e-90e16033c79d",
   "metadata": {},
   "outputs": [
    {
     "data": {
      "text/plain": [
       "1.5555555555555554"
      ]
     },
     "execution_count": 31,
     "metadata": {},
     "output_type": "execute_result"
    }
   ],
   "source": [
    "(df_temp['x1']).var(ddof=0)"
   ]
  },
  {
   "cell_type": "code",
   "execution_count": 32,
   "id": "4f16757c-794a-410a-b494-5d92de376ea7",
   "metadata": {},
   "outputs": [
    {
     "data": {
      "text/plain": [
       "155.55555555555557"
      ]
     },
     "execution_count": 32,
     "metadata": {},
     "output_type": "execute_result"
    }
   ],
   "source": [
    "(df_temp['x1'] * 10).var(ddof=0)"
   ]
  },
  {
   "cell_type": "markdown",
   "id": "f2a2b4bd-c8b1-43a4-9a49-733b79eb86c1",
   "metadata": {},
   "source": [
    "因此，很多时候对于连续变量来说，除非我们很明确各连续特征的量纲一致，否则设置阈值筛选特征的意义不大，更多的时候我们是使用VarianceThreshold默认参数剔除哪些方差为0的连续特征。"
   ]
  },
  {
   "cell_type": "markdown",
   "id": "136506f1-d7b1-4af7-8f11-e5746a52cd92",
   "metadata": {},
   "source": [
    "&emsp;&emsp;当然，有同学肯定会觉得，既然取值大小会影响方差计算结果，那能不能通过标准化消除这种影响呢？答案是肯定不行。如果是Z-Score标准化，则会将特征转化为均值为0、标准差为1的特征，此时除了原本方差为0的特征，其他所有特征的方差都会转化为1："
   ]
  },
  {
   "cell_type": "code",
   "execution_count": 33,
   "id": "5cf1b9eb-2915-4874-90c8-4c30a46fcf49",
   "metadata": {},
   "outputs": [
    {
     "data": {
      "text/html": [
       "<div>\n",
       "<style scoped>\n",
       "    .dataframe tbody tr th:only-of-type {\n",
       "        vertical-align: middle;\n",
       "    }\n",
       "\n",
       "    .dataframe tbody tr th {\n",
       "        vertical-align: top;\n",
       "    }\n",
       "\n",
       "    .dataframe thead th {\n",
       "        text-align: right;\n",
       "    }\n",
       "</style>\n",
       "<table border=\"1\" class=\"dataframe\">\n",
       "  <thead>\n",
       "    <tr style=\"text-align: right;\">\n",
       "      <th></th>\n",
       "      <th>x1</th>\n",
       "      <th>x2</th>\n",
       "      <th>x3</th>\n",
       "    </tr>\n",
       "  </thead>\n",
       "  <tbody>\n",
       "    <tr>\n",
       "      <th>0</th>\n",
       "      <td>-1.069045</td>\n",
       "      <td>-0.707107</td>\n",
       "      <td>0.0</td>\n",
       "    </tr>\n",
       "    <tr>\n",
       "      <th>1</th>\n",
       "      <td>-0.267261</td>\n",
       "      <td>1.414214</td>\n",
       "      <td>0.0</td>\n",
       "    </tr>\n",
       "    <tr>\n",
       "      <th>2</th>\n",
       "      <td>1.336306</td>\n",
       "      <td>-0.707107</td>\n",
       "      <td>0.0</td>\n",
       "    </tr>\n",
       "  </tbody>\n",
       "</table>\n",
       "</div>"
      ],
      "text/plain": [
       "         x1        x2   x3\n",
       "0 -1.069045 -0.707107  0.0\n",
       "1 -0.267261  1.414214  0.0\n",
       "2  1.336306 -0.707107  0.0"
      ]
     },
     "execution_count": 33,
     "metadata": {},
     "output_type": "execute_result"
    }
   ],
   "source": [
    "df_temp1 = pd.DataFrame(preprocessing.scale(df_temp), columns=df_temp.columns)\n",
    "df_temp1"
   ]
  },
  {
   "cell_type": "code",
   "execution_count": 34,
   "id": "2e097a9e-82da-4b00-8f6d-06944f64cef4",
   "metadata": {},
   "outputs": [
    {
     "data": {
      "text/plain": [
       "x1    1.555556\n",
       "x2    0.222222\n",
       "x3    0.000000\n",
       "dtype: float64"
      ]
     },
     "execution_count": 34,
     "metadata": {},
     "output_type": "execute_result"
    }
   ],
   "source": [
    "df_temp.var(ddof=0)"
   ]
  },
  {
   "cell_type": "code",
   "execution_count": 35,
   "id": "fdc90dae-7833-4574-9edc-7e93cacf708b",
   "metadata": {},
   "outputs": [
    {
     "data": {
      "text/plain": [
       "x1    1.0\n",
       "x2    1.0\n",
       "x3    0.0\n",
       "dtype: float64"
      ]
     },
     "execution_count": 35,
     "metadata": {},
     "output_type": "execute_result"
    }
   ],
   "source": [
    "df_temp1.var(ddof=0)"
   ]
  },
  {
   "cell_type": "markdown",
   "id": "2ab11905-14d4-460d-84cf-8e1bce738021",
   "metadata": {},
   "source": [
    "而如果0-1标准化，则会有可能打乱原始方差的大小顺序："
   ]
  },
  {
   "cell_type": "code",
   "execution_count": 36,
   "id": "e1b79408-11de-454d-9d52-9e7a7cffef1d",
   "metadata": {},
   "outputs": [
    {
     "data": {
      "text/html": [
       "<div>\n",
       "<style scoped>\n",
       "    .dataframe tbody tr th:only-of-type {\n",
       "        vertical-align: middle;\n",
       "    }\n",
       "\n",
       "    .dataframe tbody tr th {\n",
       "        vertical-align: top;\n",
       "    }\n",
       "\n",
       "    .dataframe thead th {\n",
       "        text-align: right;\n",
       "    }\n",
       "</style>\n",
       "<table border=\"1\" class=\"dataframe\">\n",
       "  <thead>\n",
       "    <tr style=\"text-align: right;\">\n",
       "      <th></th>\n",
       "      <th>x1</th>\n",
       "      <th>x2</th>\n",
       "      <th>x3</th>\n",
       "    </tr>\n",
       "  </thead>\n",
       "  <tbody>\n",
       "    <tr>\n",
       "      <th>0</th>\n",
       "      <td>0.000000</td>\n",
       "      <td>0.0</td>\n",
       "      <td>0.0</td>\n",
       "    </tr>\n",
       "    <tr>\n",
       "      <th>1</th>\n",
       "      <td>0.333333</td>\n",
       "      <td>1.0</td>\n",
       "      <td>0.0</td>\n",
       "    </tr>\n",
       "    <tr>\n",
       "      <th>2</th>\n",
       "      <td>1.000000</td>\n",
       "      <td>0.0</td>\n",
       "      <td>0.0</td>\n",
       "    </tr>\n",
       "  </tbody>\n",
       "</table>\n",
       "</div>"
      ],
      "text/plain": [
       "         x1   x2   x3\n",
       "0  0.000000  0.0  0.0\n",
       "1  0.333333  1.0  0.0\n",
       "2  1.000000  0.0  0.0"
      ]
     },
     "execution_count": 36,
     "metadata": {},
     "output_type": "execute_result"
    }
   ],
   "source": [
    "df_temp1 = pd.DataFrame(preprocessing.minmax_scale(df_temp), columns=df_temp.columns)\n",
    "df_temp1"
   ]
  },
  {
   "cell_type": "code",
   "execution_count": 37,
   "id": "69e58862-b0a7-487a-b141-7652650d79ab",
   "metadata": {},
   "outputs": [
    {
     "data": {
      "text/plain": [
       "x1    0.172840\n",
       "x2    0.222222\n",
       "x3    0.000000\n",
       "dtype: float64"
      ]
     },
     "execution_count": 37,
     "metadata": {},
     "output_type": "execute_result"
    }
   ],
   "source": [
    "df_temp1.var(ddof=0)"
   ]
  },
  {
   "cell_type": "markdown",
   "id": "502899c1-6bcb-446b-a9ee-c5d263acc815",
   "metadata": {},
   "source": [
    "因此，切忌先对连续变量进行标准化再进行方差筛选。"
   ]
  },
  {
   "cell_type": "markdown",
   "id": "75b3b289-f9c9-4a03-bc0e-3efbe91a038f",
   "metadata": {},
   "source": [
    "- VarianceThreshold作用于离散变量"
   ]
  },
  {
   "cell_type": "markdown",
   "id": "da64cf89-1cb3-4a63-b0ca-4d055b0cbd3c",
   "metadata": {},
   "source": [
    "&emsp;&emsp;此外，对于上述介绍的样本方差计算公式和总体方差计算公式，其实都是针对于连续变量进行的计算，如果特征是二分类离散特征，在假设其分布为伯努利分布的情况下，我们可以通过两类样本取值的占比来计算其方差："
   ]
  },
  {
   "cell_type": "markdown",
   "id": "6ef3c229-ee74-438c-bb2d-57722d70c5d1",
   "metadata": {},
   "source": [
    "$$\\mathrm{Var}[X] = p(1 - p)$$"
   ]
  },
  {
   "cell_type": "markdown",
   "id": "e106fabe-0ab9-46e1-bf0d-20c92f551afd",
   "metadata": {},
   "source": [
    "该公式中，由于p和1-p是对应关系，因此无论是指代0类样本占比还是指代1类样本占比皆可。"
   ]
  },
  {
   "cell_type": "code",
   "execution_count": 38,
   "id": "eff61bdd-3077-4362-838d-351134a8c042",
   "metadata": {},
   "outputs": [
    {
     "data": {
      "text/html": [
       "<div>\n",
       "<style scoped>\n",
       "    .dataframe tbody tr th:only-of-type {\n",
       "        vertical-align: middle;\n",
       "    }\n",
       "\n",
       "    .dataframe tbody tr th {\n",
       "        vertical-align: top;\n",
       "    }\n",
       "\n",
       "    .dataframe thead th {\n",
       "        text-align: right;\n",
       "    }\n",
       "</style>\n",
       "<table border=\"1\" class=\"dataframe\">\n",
       "  <thead>\n",
       "    <tr style=\"text-align: right;\">\n",
       "      <th></th>\n",
       "      <th>x1</th>\n",
       "      <th>x2</th>\n",
       "      <th>x3</th>\n",
       "      <th>x4</th>\n",
       "    </tr>\n",
       "  </thead>\n",
       "  <tbody>\n",
       "    <tr>\n",
       "      <th>0</th>\n",
       "      <td>0</td>\n",
       "      <td>1</td>\n",
       "      <td>0</td>\n",
       "      <td>0</td>\n",
       "    </tr>\n",
       "    <tr>\n",
       "      <th>1</th>\n",
       "      <td>0</td>\n",
       "      <td>1</td>\n",
       "      <td>0</td>\n",
       "      <td>0</td>\n",
       "    </tr>\n",
       "    <tr>\n",
       "      <th>2</th>\n",
       "      <td>1</td>\n",
       "      <td>1</td>\n",
       "      <td>0</td>\n",
       "      <td>0</td>\n",
       "    </tr>\n",
       "    <tr>\n",
       "      <th>3</th>\n",
       "      <td>1</td>\n",
       "      <td>1</td>\n",
       "      <td>0</td>\n",
       "      <td>0</td>\n",
       "    </tr>\n",
       "    <tr>\n",
       "      <th>4</th>\n",
       "      <td>1</td>\n",
       "      <td>0</td>\n",
       "      <td>1</td>\n",
       "      <td>0</td>\n",
       "    </tr>\n",
       "    <tr>\n",
       "      <th>5</th>\n",
       "      <td>0</td>\n",
       "      <td>0</td>\n",
       "      <td>0</td>\n",
       "      <td>0</td>\n",
       "    </tr>\n",
       "  </tbody>\n",
       "</table>\n",
       "</div>"
      ],
      "text/plain": [
       "   x1  x2  x3  x4\n",
       "0   0   1   0   0\n",
       "1   0   1   0   0\n",
       "2   1   1   0   0\n",
       "3   1   1   0   0\n",
       "4   1   0   1   0\n",
       "5   0   0   0   0"
      ]
     },
     "execution_count": 38,
     "metadata": {},
     "output_type": "execute_result"
    }
   ],
   "source": [
    "df_temp = pd.DataFrame({'x1':[0, 0, 1, 1, 1, 0], 'x2':[1, 1, 1, 1, 0, 0], 'x3':[0, 0, 0, 0, 1, 0], 'x4':[0, 0, 0, 0, 0, 0]})\n",
    "df_temp"
   ]
  },
  {
   "cell_type": "code",
   "execution_count": 39,
   "id": "0f173bee-e139-4e2b-979a-ca6ed68f9fce",
   "metadata": {},
   "outputs": [
    {
     "data": {
      "text/plain": [
       "0    1\n",
       "1    1\n",
       "2    1\n",
       "3    1\n",
       "4    0\n",
       "5    0\n",
       "Name: x2, dtype: int64"
      ]
     },
     "execution_count": 39,
     "metadata": {},
     "output_type": "execute_result"
    }
   ],
   "source": [
    "df_temp['x2']"
   ]
  },
  {
   "cell_type": "code",
   "execution_count": 40,
   "id": "0fe89856-66c7-4008-a288-b0e2f6310999",
   "metadata": {},
   "outputs": [
    {
     "data": {
      "text/plain": [
       "0.22222222222222224"
      ]
     },
     "execution_count": 40,
     "metadata": {},
     "output_type": "execute_result"
    }
   ],
   "source": [
    "2/6 * (1-2/6)"
   ]
  },
  {
   "cell_type": "markdown",
   "id": "018549ef-dd7e-4647-96c5-be0f4d50e649",
   "metadata": {},
   "source": [
    "对应的，如果按照该计算方法，某列的少数类样本比例高于1/3，则最终方差也要大于0.22："
   ]
  },
  {
   "cell_type": "code",
   "execution_count": 41,
   "id": "04a3ff3d-6963-443b-8074-d2649b209c6b",
   "metadata": {},
   "outputs": [
    {
     "data": {
      "text/plain": [
       "0    0\n",
       "1    0\n",
       "2    1\n",
       "3    1\n",
       "4    1\n",
       "5    0\n",
       "Name: x1, dtype: int64"
      ]
     },
     "execution_count": 41,
     "metadata": {},
     "output_type": "execute_result"
    }
   ],
   "source": [
    "df_temp['x1']"
   ]
  },
  {
   "cell_type": "code",
   "execution_count": 42,
   "id": "ba714eaf-9d5b-4af7-bffd-0a19ba2c72be",
   "metadata": {},
   "outputs": [
    {
     "data": {
      "text/plain": [
       "0.25"
      ]
     },
     "execution_count": 42,
     "metadata": {},
     "output_type": "execute_result"
    }
   ],
   "source": [
    "# x2列方差\n",
    "1/2 * (1-1/2)"
   ]
  },
  {
   "cell_type": "markdown",
   "id": "50d01fd6-cf95-4f20-a083-14ff1ffa0e34",
   "metadata": {},
   "source": [
    "而反之，如果少数类样本比例少于1/3，则该列方差也要小于0.22："
   ]
  },
  {
   "cell_type": "code",
   "execution_count": 43,
   "id": "0303e7ce-139e-487b-b547-603169189f56",
   "metadata": {},
   "outputs": [
    {
     "data": {
      "text/plain": [
       "0    0\n",
       "1    0\n",
       "2    0\n",
       "3    0\n",
       "4    1\n",
       "5    0\n",
       "Name: x3, dtype: int64"
      ]
     },
     "execution_count": 43,
     "metadata": {},
     "output_type": "execute_result"
    }
   ],
   "source": [
    "df_temp['x3']"
   ]
  },
  {
   "cell_type": "code",
   "execution_count": 44,
   "id": "7254d601-52ee-4a90-b555-47c3b36e49fb",
   "metadata": {},
   "outputs": [
    {
     "data": {
      "text/plain": [
       "0.1388888888888889"
      ]
     },
     "execution_count": 44,
     "metadata": {},
     "output_type": "execute_result"
    }
   ],
   "source": [
    "# x2列方差\n",
    "1/6 * (1-1/6)"
   ]
  },
  {
   "cell_type": "markdown",
   "id": "5014163c-18d5-4adf-9d76-9a11362d13e1",
   "metadata": {},
   "source": [
    "据此，我们可以通过方差来剔除正负样本比例过于偏态的特征，及剔除那些少数类样本过少或者多数类样本过多的列，无论哪种情况，此时该列的取值分布会趋于一致，方差较小，且对应的包含有效信息也较少。需要注意的是，不同类别的样本占比也是我们判断离散特征是否需要被剔除的普遍依据。例如如果我们想剔除少数类样本占比少于30%的特征，则可以进行如下计算："
   ]
  },
  {
   "cell_type": "code",
   "execution_count": 45,
   "id": "0c522f93-6f09-494e-a868-3359f84dfc06",
   "metadata": {},
   "outputs": [
    {
     "data": {
      "text/plain": [
       "0.21"
      ]
     },
     "execution_count": 45,
     "metadata": {},
     "output_type": "execute_result"
    }
   ],
   "source": [
    "3/10 * (1-3/10)"
   ]
  },
  {
   "cell_type": "code",
   "execution_count": 46,
   "id": "322b7495-40c7-4452-9531-8df5547a0629",
   "metadata": {},
   "outputs": [
    {
     "data": {
      "text/html": [
       "<div>\n",
       "<style scoped>\n",
       "    .dataframe tbody tr th:only-of-type {\n",
       "        vertical-align: middle;\n",
       "    }\n",
       "\n",
       "    .dataframe tbody tr th {\n",
       "        vertical-align: top;\n",
       "    }\n",
       "\n",
       "    .dataframe thead th {\n",
       "        text-align: right;\n",
       "    }\n",
       "</style>\n",
       "<table border=\"1\" class=\"dataframe\">\n",
       "  <thead>\n",
       "    <tr style=\"text-align: right;\">\n",
       "      <th></th>\n",
       "      <th>x1</th>\n",
       "      <th>x2</th>\n",
       "      <th>x3</th>\n",
       "      <th>x4</th>\n",
       "    </tr>\n",
       "  </thead>\n",
       "  <tbody>\n",
       "    <tr>\n",
       "      <th>0</th>\n",
       "      <td>0</td>\n",
       "      <td>1</td>\n",
       "      <td>0</td>\n",
       "      <td>0</td>\n",
       "    </tr>\n",
       "    <tr>\n",
       "      <th>1</th>\n",
       "      <td>0</td>\n",
       "      <td>1</td>\n",
       "      <td>0</td>\n",
       "      <td>0</td>\n",
       "    </tr>\n",
       "    <tr>\n",
       "      <th>2</th>\n",
       "      <td>1</td>\n",
       "      <td>1</td>\n",
       "      <td>0</td>\n",
       "      <td>0</td>\n",
       "    </tr>\n",
       "    <tr>\n",
       "      <th>3</th>\n",
       "      <td>1</td>\n",
       "      <td>1</td>\n",
       "      <td>0</td>\n",
       "      <td>0</td>\n",
       "    </tr>\n",
       "    <tr>\n",
       "      <th>4</th>\n",
       "      <td>1</td>\n",
       "      <td>0</td>\n",
       "      <td>1</td>\n",
       "      <td>0</td>\n",
       "    </tr>\n",
       "    <tr>\n",
       "      <th>5</th>\n",
       "      <td>0</td>\n",
       "      <td>0</td>\n",
       "      <td>0</td>\n",
       "      <td>0</td>\n",
       "    </tr>\n",
       "  </tbody>\n",
       "</table>\n",
       "</div>"
      ],
      "text/plain": [
       "   x1  x2  x3  x4\n",
       "0   0   1   0   0\n",
       "1   0   1   0   0\n",
       "2   1   1   0   0\n",
       "3   1   1   0   0\n",
       "4   1   0   1   0\n",
       "5   0   0   0   0"
      ]
     },
     "execution_count": 46,
     "metadata": {},
     "output_type": "execute_result"
    }
   ],
   "source": [
    "df_temp"
   ]
  },
  {
   "cell_type": "code",
   "execution_count": 47,
   "id": "b2079351-3ce2-497a-97b5-5d1b4b47d243",
   "metadata": {},
   "outputs": [
    {
     "data": {
      "text/plain": [
       "array([[0, 1],\n",
       "       [0, 1],\n",
       "       [1, 1],\n",
       "       [1, 1],\n",
       "       [1, 0],\n",
       "       [0, 0]], dtype=int64)"
      ]
     },
     "execution_count": 47,
     "metadata": {},
     "output_type": "execute_result"
    }
   ],
   "source": [
    "sel = VarianceThreshold(threshold=0.21)\n",
    "sel.fit_transform(df_temp)"
   ]
  },
  {
   "cell_type": "code",
   "execution_count": 48,
   "id": "2516db1f-c817-40e1-a583-3db8a95e1a94",
   "metadata": {},
   "outputs": [
    {
     "data": {
      "text/plain": [
       "array([0.25      , 0.22222222, 0.13888889, 0.        ])"
      ]
     },
     "execution_count": 48,
     "metadata": {},
     "output_type": "execute_result"
    }
   ],
   "source": [
    "sel.variances_"
   ]
  },
  {
   "cell_type": "code",
   "execution_count": 49,
   "id": "a87c9427-657a-4ac7-b51d-09e8cb210086",
   "metadata": {},
   "outputs": [
    {
     "data": {
      "text/html": [
       "<div>\n",
       "<style scoped>\n",
       "    .dataframe tbody tr th:only-of-type {\n",
       "        vertical-align: middle;\n",
       "    }\n",
       "\n",
       "    .dataframe tbody tr th {\n",
       "        vertical-align: top;\n",
       "    }\n",
       "\n",
       "    .dataframe thead th {\n",
       "        text-align: right;\n",
       "    }\n",
       "</style>\n",
       "<table border=\"1\" class=\"dataframe\">\n",
       "  <thead>\n",
       "    <tr style=\"text-align: right;\">\n",
       "      <th></th>\n",
       "      <th>x1</th>\n",
       "      <th>x2</th>\n",
       "    </tr>\n",
       "  </thead>\n",
       "  <tbody>\n",
       "    <tr>\n",
       "      <th>0</th>\n",
       "      <td>0</td>\n",
       "      <td>1</td>\n",
       "    </tr>\n",
       "    <tr>\n",
       "      <th>1</th>\n",
       "      <td>0</td>\n",
       "      <td>1</td>\n",
       "    </tr>\n",
       "    <tr>\n",
       "      <th>2</th>\n",
       "      <td>1</td>\n",
       "      <td>1</td>\n",
       "    </tr>\n",
       "    <tr>\n",
       "      <th>3</th>\n",
       "      <td>1</td>\n",
       "      <td>1</td>\n",
       "    </tr>\n",
       "    <tr>\n",
       "      <th>4</th>\n",
       "      <td>1</td>\n",
       "      <td>0</td>\n",
       "    </tr>\n",
       "    <tr>\n",
       "      <th>5</th>\n",
       "      <td>0</td>\n",
       "      <td>0</td>\n",
       "    </tr>\n",
       "  </tbody>\n",
       "</table>\n",
       "</div>"
      ],
      "text/plain": [
       "   x1  x2\n",
       "0   0   1\n",
       "1   0   1\n",
       "2   1   1\n",
       "3   1   1\n",
       "4   1   0\n",
       "5   0   0"
      ]
     },
     "execution_count": 49,
     "metadata": {},
     "output_type": "execute_result"
    }
   ],
   "source": [
    "# 查看保留列的df\n",
    "df_temp[df_temp.columns[sel.variances_ > 0.21]]"
   ]
  },
  {
   "cell_type": "markdown",
   "id": "83aaa84e-20c1-49b4-a60c-7f988fc85c1c",
   "metadata": {},
   "source": [
    "当然，在默认情况下，无论是连续变量还是离散变量，VarianceThreshold都将剔除那些取值全部一样的列："
   ]
  },
  {
   "cell_type": "code",
   "execution_count": 50,
   "id": "2099bf42-0fdc-4bb2-b952-91bd0b205d8a",
   "metadata": {},
   "outputs": [
    {
     "data": {
      "text/plain": [
       "array([[0, 1, 0],\n",
       "       [0, 1, 0],\n",
       "       [1, 1, 0],\n",
       "       [1, 1, 0],\n",
       "       [1, 0, 1],\n",
       "       [0, 0, 0]], dtype=int64)"
      ]
     },
     "execution_count": 50,
     "metadata": {},
     "output_type": "execute_result"
    }
   ],
   "source": [
    "sel = VarianceThreshold()\n",
    "sel.fit_transform(df_temp)"
   ]
  },
  {
   "cell_type": "markdown",
   "id": "e1d3d8d0-11ff-4242-b680-05a428eaab43",
   "metadata": {},
   "source": [
    "- 总结VarianceThreshold使用方法"
   ]
  },
  {
   "cell_type": "markdown",
   "id": "ab45c1a9-82e7-4b38-b22a-79e77f2a46b7",
   "metadata": {},
   "source": [
    "【必要流程】        \n",
    "&emsp;&emsp;选择VarianceThreshold的默认参数，剔除那些数据一致的特征（无论是离散变量还是连续变量）；      \n",
    "【可选流程】      \n",
    "&emsp;&emsp;如果需要进一步剔除那些方差不为0，但取值较小的列，则可以通过修改方差阈值的方法，利用VarianceThreshold剔除那些方差不满足阈值的列。不过这里对于连续变量和离散变量的考虑是不同的，对于连续变量来说，我们可以通过var(ddof=0)查看每一列的方差，在对连续特征方差分布有一定的了解后，设置阈值并剔除方差较小的列。这里需要注意的是，方差大小也会受到特征取值大小影响，但连续变量的标准化并不能达到消除量纲影响、同时又保留方差能够衡量特征信息量的功能，因此大多数时候我们只会考虑利用VarianceThreshold剔除那些方差为0的连续变量；而对于二分类离散变量来说，我们会假设其满足伯努利分布，然后通过每一类样本的占比与方差之间的映射关系，通过少数类占比是否少于某一比例（或者多数类样本是否多于某一比例）来判断是否需要剔除某列。当然，如果是对于三分类及以上的离散变量，我们可以将其视作连续变量处理。"
   ]
  },
  {
   "cell_type": "markdown",
   "id": "b01e72bf-662c-42a0-bc4c-be33478b801c",
   "metadata": {},
   "source": [
    "## 二、特征和标签关联度指标"
   ]
  },
  {
   "cell_type": "markdown",
   "id": "d3b48b04-e216-4818-bbc7-05502f98dfcc",
   "metadata": {},
   "source": [
    "- 判断特征包含信息“是否有用”"
   ]
  },
  {
   "cell_type": "markdown",
   "id": "1300f7d5-0bd3-49a1-8fa4-489811a4809b",
   "metadata": {},
   "source": [
    "&emsp;&emsp;接下来，我们进一步介绍特征和标签关联度指标。第一部分的信息包含量指标重点衡量的是特征包含的信息量大小，而本部分开始介绍的指标，则是用于衡量特征所包含的这些信息是否有用。"
   ]
  },
  {
   "cell_type": "markdown",
   "id": "ff0b4a1e-f806-4657-88a3-9a5f746ae062",
   "metadata": {},
   "source": [
    "&emsp;&emsp;而要判断特征所包含的信息是否有用，一般来说可以通过两类方法进行衡量，其一是通过一些“先验”的统计量的计算，在实际带入模型之前，先预判该特征能否帮助模型更好的进行预测，例如此前介绍的相关系数指标。该类指标都是试图分析特征和标签是否具备某些同步变化或者相同分布的特性，来达到预判的目的，因此这类指标也被称为特征与标签关联度指标；此外，还有一类方法，则更加简单粗暴，特征是否有效其实归根结底还是需要看最终的建模结果，如果在实际建模过程中某特征确实做出了重大贡献（例如在树模型中提供了非常多的可对标签进行有效分类的点），则认为该特征是重要特征，不难看出，该类方法的实现需要将特征带入到模型中进行计算，因此该类方法也被称为模型重要性指标，典型的如树模型的features_importance。"
   ]
  },
  {
   "cell_type": "markdown",
   "id": "783eed4f-53d1-49e6-a5ee-6126c9bf4438",
   "metadata": {},
   "source": [
    "&emsp;&emsp;而对比两类方法我们不难发现，相比之下，特征和标签的关联度指标所需计算量较少且非常便于分布式计算，而模型重要性指标则是以终为始，同时也需要耗费更大量的计算量。当然两类方法都是非常重要的方法，在实际特征筛选的过程中，都有各自的使用场景。接下来我们首先介绍特征和标签关联度指标。"
   ]
  },
  {
   "cell_type": "markdown",
   "id": "5a471034-73cd-485f-b1e8-899afb9751d3",
   "metadata": {},
   "source": [
    "- 特征和标签关联度指标的“先验”过程"
   ]
  },
  {
   "cell_type": "markdown",
   "id": "a6456072-0d54-4bb6-87d0-fe157240b5f6",
   "metadata": {},
   "source": [
    "&emsp;&emsp;首先需要注意的是，对于大多数特征和标签的关联指标，由于是一个“先验”的过程，因此大多的指标在计算和使用的过程中都会涉及较强的统计背景，主要是假设检验相关知识。这里我们会更加侧重介绍方法的使用，而并不会深入介绍相关统计理论，主要原因在于两套理论有较大差异，且在机器学习建模流程中，借助关联度指标进行特征筛选也往往是初筛，并不需要精准的检验结果作为依据，例如我们并不会以p值作为特征是否可用的依据（并不只使用那些显著相关的变量），而是“简单粗暴”的划定一个范围（例如挑选相关性前100的特征）；其次，在后续的建模的环节，我们也是使用机器学习模型而非统计学模型，这也将是的基于假设检验的精准筛选意义不大。"
   ]
  },
  {
   "cell_type": "markdown",
   "id": "8ddf270a-5ad7-4049-99b5-f8cd278dba52",
   "metadata": {
    "tags": []
   },
   "source": [
    "### 1.借助sklearn进行特征评估及筛选"
   ]
  },
  {
   "cell_type": "markdown",
   "id": "4cc86e0d-318b-4cf1-8697-54e648297556",
   "metadata": {},
   "source": [
    "- 指标计算与特征筛选"
   ]
  },
  {
   "cell_type": "markdown",
   "id": "e4d5f775-886a-4b48-8e51-f7ddfbe7f66c",
   "metadata": {},
   "source": [
    "&emsp;&emsp;对于借助关联指标进行筛选的过程，我们可以借助sklearn中相关功能快速实现，这里会涉及到函数和评估器的配套使用，我们同时需要调用（指标）计算函数和特征筛选评估器。这里以挑选相关系数最大的特征为例进行说明，假设我们需要围绕原始数据集挑选和标签最相关的10个特征，则可以通过如下代码实现："
   ]
  },
  {
   "cell_type": "code",
   "execution_count": 51,
   "id": "1d095bd5-9002-4b17-a465-99508d73419b",
   "metadata": {},
   "outputs": [
    {
     "data": {
      "text/html": [
       "<div>\n",
       "<style scoped>\n",
       "    .dataframe tbody tr th:only-of-type {\n",
       "        vertical-align: middle;\n",
       "    }\n",
       "\n",
       "    .dataframe tbody tr th {\n",
       "        vertical-align: top;\n",
       "    }\n",
       "\n",
       "    .dataframe thead th {\n",
       "        text-align: right;\n",
       "    }\n",
       "</style>\n",
       "<table border=\"1\" class=\"dataframe\">\n",
       "  <thead>\n",
       "    <tr style=\"text-align: right;\">\n",
       "      <th></th>\n",
       "      <th>gender</th>\n",
       "      <th>SeniorCitizen</th>\n",
       "      <th>Partner</th>\n",
       "      <th>Dependents</th>\n",
       "      <th>PhoneService</th>\n",
       "      <th>MultipleLines</th>\n",
       "      <th>InternetService</th>\n",
       "      <th>OnlineSecurity</th>\n",
       "      <th>OnlineBackup</th>\n",
       "      <th>DeviceProtection</th>\n",
       "      <th>TechSupport</th>\n",
       "      <th>StreamingTV</th>\n",
       "      <th>StreamingMovies</th>\n",
       "      <th>Contract</th>\n",
       "      <th>PaperlessBilling</th>\n",
       "      <th>PaymentMethod</th>\n",
       "      <th>tenure</th>\n",
       "      <th>MonthlyCharges</th>\n",
       "      <th>TotalCharges</th>\n",
       "    </tr>\n",
       "  </thead>\n",
       "  <tbody>\n",
       "    <tr>\n",
       "      <th>4067</th>\n",
       "      <td>0.0</td>\n",
       "      <td>0.0</td>\n",
       "      <td>1.0</td>\n",
       "      <td>0.0</td>\n",
       "      <td>1.0</td>\n",
       "      <td>0.0</td>\n",
       "      <td>0.0</td>\n",
       "      <td>2.0</td>\n",
       "      <td>2.0</td>\n",
       "      <td>0.0</td>\n",
       "      <td>2.0</td>\n",
       "      <td>2.0</td>\n",
       "      <td>2.0</td>\n",
       "      <td>2.0</td>\n",
       "      <td>1.0</td>\n",
       "      <td>0.0</td>\n",
       "      <td>68</td>\n",
       "      <td>79.60</td>\n",
       "      <td>5515.80</td>\n",
       "    </tr>\n",
       "    <tr>\n",
       "      <th>3306</th>\n",
       "      <td>0.0</td>\n",
       "      <td>0.0</td>\n",
       "      <td>1.0</td>\n",
       "      <td>1.0</td>\n",
       "      <td>1.0</td>\n",
       "      <td>0.0</td>\n",
       "      <td>1.0</td>\n",
       "      <td>0.0</td>\n",
       "      <td>2.0</td>\n",
       "      <td>0.0</td>\n",
       "      <td>2.0</td>\n",
       "      <td>0.0</td>\n",
       "      <td>0.0</td>\n",
       "      <td>0.0</td>\n",
       "      <td>1.0</td>\n",
       "      <td>2.0</td>\n",
       "      <td>3</td>\n",
       "      <td>80.00</td>\n",
       "      <td>241.30</td>\n",
       "    </tr>\n",
       "    <tr>\n",
       "      <th>3391</th>\n",
       "      <td>1.0</td>\n",
       "      <td>0.0</td>\n",
       "      <td>0.0</td>\n",
       "      <td>0.0</td>\n",
       "      <td>1.0</td>\n",
       "      <td>0.0</td>\n",
       "      <td>2.0</td>\n",
       "      <td>1.0</td>\n",
       "      <td>1.0</td>\n",
       "      <td>1.0</td>\n",
       "      <td>1.0</td>\n",
       "      <td>1.0</td>\n",
       "      <td>1.0</td>\n",
       "      <td>0.0</td>\n",
       "      <td>0.0</td>\n",
       "      <td>3.0</td>\n",
       "      <td>4</td>\n",
       "      <td>19.00</td>\n",
       "      <td>73.45</td>\n",
       "    </tr>\n",
       "    <tr>\n",
       "      <th>3249</th>\n",
       "      <td>0.0</td>\n",
       "      <td>0.0</td>\n",
       "      <td>1.0</td>\n",
       "      <td>1.0</td>\n",
       "      <td>1.0</td>\n",
       "      <td>0.0</td>\n",
       "      <td>0.0</td>\n",
       "      <td>0.0</td>\n",
       "      <td>2.0</td>\n",
       "      <td>2.0</td>\n",
       "      <td>0.0</td>\n",
       "      <td>0.0</td>\n",
       "      <td>0.0</td>\n",
       "      <td>0.0</td>\n",
       "      <td>1.0</td>\n",
       "      <td>3.0</td>\n",
       "      <td>10</td>\n",
       "      <td>55.55</td>\n",
       "      <td>551.30</td>\n",
       "    </tr>\n",
       "    <tr>\n",
       "      <th>2674</th>\n",
       "      <td>0.0</td>\n",
       "      <td>1.0</td>\n",
       "      <td>0.0</td>\n",
       "      <td>0.0</td>\n",
       "      <td>1.0</td>\n",
       "      <td>0.0</td>\n",
       "      <td>2.0</td>\n",
       "      <td>1.0</td>\n",
       "      <td>1.0</td>\n",
       "      <td>1.0</td>\n",
       "      <td>1.0</td>\n",
       "      <td>1.0</td>\n",
       "      <td>1.0</td>\n",
       "      <td>0.0</td>\n",
       "      <td>0.0</td>\n",
       "      <td>3.0</td>\n",
       "      <td>4</td>\n",
       "      <td>20.05</td>\n",
       "      <td>91.45</td>\n",
       "    </tr>\n",
       "  </tbody>\n",
       "</table>\n",
       "</div>"
      ],
      "text/plain": [
       "      gender  SeniorCitizen  Partner  Dependents  PhoneService  MultipleLines  \\\n",
       "4067     0.0            0.0      1.0         0.0           1.0            0.0   \n",
       "3306     0.0            0.0      1.0         1.0           1.0            0.0   \n",
       "3391     1.0            0.0      0.0         0.0           1.0            0.0   \n",
       "3249     0.0            0.0      1.0         1.0           1.0            0.0   \n",
       "2674     0.0            1.0      0.0         0.0           1.0            0.0   \n",
       "\n",
       "      InternetService  OnlineSecurity  OnlineBackup  DeviceProtection  \\\n",
       "4067              0.0             2.0           2.0               0.0   \n",
       "3306              1.0             0.0           2.0               0.0   \n",
       "3391              2.0             1.0           1.0               1.0   \n",
       "3249              0.0             0.0           2.0               2.0   \n",
       "2674              2.0             1.0           1.0               1.0   \n",
       "\n",
       "      TechSupport  StreamingTV  StreamingMovies  Contract  PaperlessBilling  \\\n",
       "4067          2.0          2.0              2.0       2.0               1.0   \n",
       "3306          2.0          0.0              0.0       0.0               1.0   \n",
       "3391          1.0          1.0              1.0       0.0               0.0   \n",
       "3249          0.0          0.0              0.0       0.0               1.0   \n",
       "2674          1.0          1.0              1.0       0.0               0.0   \n",
       "\n",
       "      PaymentMethod  tenure  MonthlyCharges  TotalCharges  \n",
       "4067            0.0      68           79.60       5515.80  \n",
       "3306            2.0       3           80.00        241.30  \n",
       "3391            3.0       4           19.00         73.45  \n",
       "3249            3.0      10           55.55        551.30  \n",
       "2674            3.0       4           20.05         91.45  "
      ]
     },
     "execution_count": 51,
     "metadata": {},
     "output_type": "execute_result"
    }
   ],
   "source": [
    "# 经过自然数编码的训练集数据\n",
    "X_train_OE.head()"
   ]
  },
  {
   "cell_type": "code",
   "execution_count": 52,
   "id": "e15d9253-8d57-4097-822d-a5a4310b3895",
   "metadata": {},
   "outputs": [
    {
     "data": {
      "text/plain": [
       "gender             -0.018605\n",
       "SeniorCitizen       0.140164\n",
       "Partner            -0.159577\n",
       "Dependents         -0.152544\n",
       "PhoneService       -0.002501\n",
       "MultipleLines       0.031559\n",
       "InternetService    -0.054444\n",
       "OnlineSecurity     -0.307484\n",
       "OnlineBackup       -0.197237\n",
       "DeviceProtection   -0.191164\n",
       "TechSupport        -0.288867\n",
       "StreamingTV        -0.039879\n",
       "StreamingMovies    -0.050142\n",
       "Contract           -0.394464\n",
       "PaperlessBilling    0.186661\n",
       "PaymentMethod       0.116375\n",
       "tenure             -0.357263\n",
       "MonthlyCharges      0.181830\n",
       "TotalCharges       -0.210238\n",
       "Churn               1.000000\n",
       "Name: Churn, dtype: float64"
      ]
     },
     "execution_count": 52,
     "metadata": {},
     "output_type": "execute_result"
    }
   ],
   "source": [
    "# 计算相关系数\n",
    "df_temp = pd.concat([X_train_OE, y_train], axis=1)\n",
    "df_corr = df_temp.corr()['Churn']\n",
    "df_corr"
   ]
  },
  {
   "cell_type": "markdown",
   "id": "bffb75d0-96d8-4c7e-b94a-dab3d17fbb60",
   "metadata": {},
   "source": [
    "然后挑选绝对值最大的10个特征。当然，该过程我们也可以借助sklearn中相关功能实现，首先sklearn中的相关系数计算函数为r_regression："
   ]
  },
  {
   "cell_type": "code",
   "execution_count": 53,
   "id": "2617fdee-7990-4360-8d6a-180f4f67e5ac",
   "metadata": {},
   "outputs": [],
   "source": [
    "from sklearn.feature_selection import r_regression"
   ]
  },
  {
   "cell_type": "markdown",
   "id": "b2766579-dd68-4d3a-8d01-8f955dc85bde",
   "metadata": {},
   "source": [
    "> 注，该函数为1.0版本新增函数，若导入过程显示未找到该模块，则需要更新sklearn，可以按照如下方式进行更新：      \n",
    "> <center>conda install scikit-learn=1.0.2        "
   ]
  },
  {
   "cell_type": "code",
   "execution_count": 54,
   "id": "f6012c2c-8d0a-4b97-9ad0-8538272881a3",
   "metadata": {},
   "outputs": [
    {
     "data": {
      "text/plain": [
       "array([-0.01860513,  0.14016383, -0.15957745, -0.15254382, -0.00250081,\n",
       "        0.0315595 , -0.05444391, -0.30748405, -0.19723667, -0.19116379,\n",
       "       -0.2888665 , -0.03987906, -0.05014176, -0.39446444,  0.18666114,\n",
       "        0.11637491, -0.35726337,  0.18182966, -0.21023844])"
      ]
     },
     "execution_count": 54,
     "metadata": {},
     "output_type": "execute_result"
    }
   ],
   "source": [
    "r_regression(X_train_OE, y_train)"
   ]
  },
  {
   "cell_type": "markdown",
   "id": "d11fa53f-93d0-4a86-9d19-363d7b052f0b",
   "metadata": {},
   "source": [
    "然后，我们可以按照计算绝对值、取绝对值最大的10个特征的流程进行计算。当然，在sklearn中，提供了一种更为简便、并且可以套用在这些计算函数外层的评估器，例如，如果我们希望依据r_regression函数输出的结果，挑选相关性最强的10个特征，可以将r_regression函数SelectKBest评估器中，然后进行筛选："
   ]
  },
  {
   "cell_type": "code",
   "execution_count": 55,
   "id": "4815b5c6-4a67-4e57-8848-75a8b234b648",
   "metadata": {},
   "outputs": [],
   "source": [
    "from sklearn.feature_selection import SelectKBest"
   ]
  },
  {
   "cell_type": "code",
   "execution_count": 56,
   "id": "7a5394d4-a918-4f2a-92c3-c90ab75076ec",
   "metadata": {
    "collapsed": true,
    "jupyter": {
     "outputs_hidden": true
    },
    "tags": []
   },
   "outputs": [
    {
     "data": {
      "text/plain": [
       "\u001b[1;31mInit signature:\u001b[0m \u001b[0mSelectKBest\u001b[0m\u001b[1;33m(\u001b[0m\u001b[0mscore_func\u001b[0m\u001b[1;33m=\u001b[0m\u001b[1;33m<\u001b[0m\u001b[0mfunction\u001b[0m \u001b[0mf_classif\u001b[0m \u001b[0mat\u001b[0m \u001b[1;36m0x000001D4349A6E50\u001b[0m\u001b[1;33m>\u001b[0m\u001b[1;33m,\u001b[0m \u001b[1;33m*\u001b[0m\u001b[1;33m,\u001b[0m \u001b[0mk\u001b[0m\u001b[1;33m=\u001b[0m\u001b[1;36m10\u001b[0m\u001b[1;33m)\u001b[0m\u001b[1;33m\u001b[0m\u001b[1;33m\u001b[0m\u001b[0m\n",
       "\u001b[1;31mDocstring:\u001b[0m     \n",
       "Select features according to the k highest scores.\n",
       "\n",
       "Read more in the :ref:`User Guide <univariate_feature_selection>`.\n",
       "\n",
       "Parameters\n",
       "----------\n",
       "score_func : callable, default=f_classif\n",
       "    Function taking two arrays X and y, and returning a pair of arrays\n",
       "    (scores, pvalues) or a single array with scores.\n",
       "    Default is f_classif (see below \"See Also\"). The default function only\n",
       "    works with classification tasks.\n",
       "\n",
       "    .. versionadded:: 0.18\n",
       "\n",
       "k : int or \"all\", default=10\n",
       "    Number of top features to select.\n",
       "    The \"all\" option bypasses selection, for use in a parameter search.\n",
       "\n",
       "Attributes\n",
       "----------\n",
       "scores_ : array-like of shape (n_features,)\n",
       "    Scores of features.\n",
       "\n",
       "pvalues_ : array-like of shape (n_features,)\n",
       "    p-values of feature scores, None if `score_func` returned only scores.\n",
       "\n",
       "n_features_in_ : int\n",
       "    Number of features seen during :term:`fit`.\n",
       "\n",
       "    .. versionadded:: 0.24\n",
       "\n",
       "feature_names_in_ : ndarray of shape (`n_features_in_`,)\n",
       "    Names of features seen during :term:`fit`. Defined only when `X`\n",
       "    has feature names that are all strings.\n",
       "\n",
       "    .. versionadded:: 1.0\n",
       "\n",
       "See Also\n",
       "--------\n",
       "f_classif: ANOVA F-value between label/feature for classification tasks.\n",
       "mutual_info_classif: Mutual information for a discrete target.\n",
       "chi2: Chi-squared stats of non-negative features for classification tasks.\n",
       "f_regression: F-value between label/feature for regression tasks.\n",
       "mutual_info_regression: Mutual information for a continuous target.\n",
       "SelectPercentile: Select features based on percentile of the highest\n",
       "    scores.\n",
       "SelectFpr : Select features based on a false positive rate test.\n",
       "SelectFdr : Select features based on an estimated false discovery rate.\n",
       "SelectFwe : Select features based on family-wise error rate.\n",
       "GenericUnivariateSelect : Univariate feature selector with configurable\n",
       "    mode.\n",
       "\n",
       "Notes\n",
       "-----\n",
       "Ties between features with equal scores will be broken in an unspecified\n",
       "way.\n",
       "\n",
       "Examples\n",
       "--------\n",
       ">>> from sklearn.datasets import load_digits\n",
       ">>> from sklearn.feature_selection import SelectKBest, chi2\n",
       ">>> X, y = load_digits(return_X_y=True)\n",
       ">>> X.shape\n",
       "(1797, 64)\n",
       ">>> X_new = SelectKBest(chi2, k=20).fit_transform(X, y)\n",
       ">>> X_new.shape\n",
       "(1797, 20)\n",
       "\u001b[1;31mFile:\u001b[0m           d:\\anaconda3\\lib\\site-packages\\sklearn\\feature_selection\\_univariate_selection.py\n",
       "\u001b[1;31mType:\u001b[0m           ABCMeta\n",
       "\u001b[1;31mSubclasses:\u001b[0m     \n"
      ]
     },
     "metadata": {},
     "output_type": "display_data"
    }
   ],
   "source": [
    "SelectKBest?"
   ]
  },
  {
   "cell_type": "code",
   "execution_count": 57,
   "id": "0038e865-643a-4769-be04-da6afbc9927b",
   "metadata": {},
   "outputs": [],
   "source": [
    "KB = SelectKBest(r_regression, k=10)"
   ]
  },
  {
   "cell_type": "code",
   "execution_count": 58,
   "id": "61d04e4c-0055-4033-baa4-5911d0c0078e",
   "metadata": {},
   "outputs": [
    {
     "data": {
      "text/plain": [
       "(5282, 10)"
      ]
     },
     "execution_count": 58,
     "metadata": {},
     "output_type": "execute_result"
    }
   ],
   "source": [
    "X_new = KB.fit_transform(X_train_OE, y_train)\n",
    "X_new.shape"
   ]
  },
  {
   "cell_type": "code",
   "execution_count": 59,
   "id": "277008d8-df49-458d-bc60-dbdd94f393ba",
   "metadata": {
    "tags": []
   },
   "outputs": [
    {
     "data": {
      "text/plain": [
       "array([[ 0.  ,  0.  ,  1.  ,  0.  ,  0.  ,  2.  ,  2.  ,  1.  ,  0.  ,\n",
       "        79.6 ],\n",
       "       [ 0.  ,  0.  ,  1.  ,  0.  ,  1.  ,  0.  ,  0.  ,  1.  ,  2.  ,\n",
       "        80.  ],\n",
       "       [ 1.  ,  0.  ,  1.  ,  0.  ,  2.  ,  1.  ,  1.  ,  0.  ,  3.  ,\n",
       "        19.  ],\n",
       "       [ 0.  ,  0.  ,  1.  ,  0.  ,  0.  ,  0.  ,  0.  ,  1.  ,  3.  ,\n",
       "        55.55],\n",
       "       [ 0.  ,  1.  ,  1.  ,  0.  ,  2.  ,  1.  ,  1.  ,  0.  ,  3.  ,\n",
       "        20.05]])"
      ]
     },
     "execution_count": 59,
     "metadata": {},
     "output_type": "execute_result"
    }
   ],
   "source": [
    "X_new[:5]"
   ]
  },
  {
   "cell_type": "markdown",
   "id": "d2918b97-a876-4306-8306-1a4c5f188320",
   "metadata": {},
   "source": [
    "然后我们可以通过评估器的如下属性查看更多计算过程中的细节信息："
   ]
  },
  {
   "cell_type": "code",
   "execution_count": 60,
   "id": "5cfe36ca-89f9-49d2-992b-e678e2114ba1",
   "metadata": {},
   "outputs": [
    {
     "data": {
      "text/plain": [
       "array(['gender', 'SeniorCitizen', 'Partner', 'Dependents', 'PhoneService',\n",
       "       'MultipleLines', 'InternetService', 'OnlineSecurity',\n",
       "       'OnlineBackup', 'DeviceProtection', 'TechSupport', 'StreamingTV',\n",
       "       'StreamingMovies', 'Contract', 'PaperlessBilling', 'PaymentMethod',\n",
       "       'tenure', 'MonthlyCharges', 'TotalCharges'], dtype=object)"
      ]
     },
     "execution_count": 60,
     "metadata": {},
     "output_type": "execute_result"
    }
   ],
   "source": [
    "# 输入的所有特征\n",
    "KB.feature_names_in_"
   ]
  },
  {
   "cell_type": "code",
   "execution_count": 61,
   "id": "615f322d-80cf-4e05-98a6-75e3020fb177",
   "metadata": {},
   "outputs": [
    {
     "data": {
      "text/plain": [
       "array([-0.01860513,  0.14016383, -0.15957745, -0.15254382, -0.00250081,\n",
       "        0.0315595 , -0.05444391, -0.30748405, -0.19723667, -0.19116379,\n",
       "       -0.2888665 , -0.03987906, -0.05014176, -0.39446444,  0.18666114,\n",
       "        0.11637491, -0.35726337,  0.18182966, -0.21023844])"
      ]
     },
     "execution_count": 61,
     "metadata": {},
     "output_type": "execute_result"
    }
   ],
   "source": [
    "# 每个特征相关系数\n",
    "KB.scores_"
   ]
  },
  {
   "cell_type": "code",
   "execution_count": 62,
   "id": "9566fe17-dc54-4eb4-a8bb-0cd2da47c497",
   "metadata": {},
   "outputs": [],
   "source": [
    "# 每个特征的p值，目前返回结果为None\n",
    "KB.pvalues_"
   ]
  },
  {
   "cell_type": "code",
   "execution_count": 63,
   "id": "26781540-03c3-4f6c-ab1f-40c7c71bf815",
   "metadata": {},
   "outputs": [
    {
     "data": {
      "text/plain": [
       "10"
      ]
     },
     "execution_count": 63,
     "metadata": {},
     "output_type": "execute_result"
    }
   ],
   "source": [
    "KB.k"
   ]
  },
  {
   "cell_type": "markdown",
   "id": "2b02f09d-9568-4a63-9536-ecc071ba6c46",
   "metadata": {},
   "source": [
    "此处X_new就是我们筛选出的、根据r_regression计算得分最高的10个特征。方法使用过程并不复杂，而sklearn中的这种评分函数和筛选评估器分开的设计，也能很好的保证后续使用的灵活性，例如如果我们不想以r_regression作为评分函数，则可在筛选评估器的参数中直接修改，而如果我们不是筛选KBest（K和最好的结果），而是按照百分比进行筛选，则可以更换筛选评估器（SelectPercentile，后续会介绍）。并且筛选过程封装成评估器，也便于我们实现在训练集上进行训练、在测试集上进行测试的过程。"
   ]
  },
  {
   "cell_type": "markdown",
   "id": "12eb8405-3618-4480-9635-0cecd3f8697b",
   "metadata": {},
   "source": [
    "&emsp;&emsp;但对于上述过程，有两点需要注意，首先，SelectKBest只会根据输入函数的评分按照由高到低进行筛选，因此此处输出的特征只是相关系数最大的10个特征，并不是相关系数绝对值最大的10个特征；其次，返回结果的特征排序其实是原始特征在剔除了那些评分未进前10的特征之后的特征，并不是按照评分由高到低排名的前10个特征。我们先看在使用SelectKBest评估器时如何获取列名称，再来看如何修正相关系数评估指标。"
   ]
  },
  {
   "cell_type": "markdown",
   "id": "bad5f98a-3315-42b9-8746-958a00dcd133",
   "metadata": {},
   "source": [
    "- 列名称获取"
   ]
  },
  {
   "cell_type": "markdown",
   "id": "30197876-5a60-4ad0-a930-f2650fc92af7",
   "metadata": {},
   "source": [
    "&emsp;&emsp;该操作的基本思路也较为简单，首先我们可以根据feature_names_in_和scores_属性确定每个特征的评分，然后找出被选入特征评分的最小值，然后据此进行筛选。当然，该流程不仅适用于r_regression评分的情况，也适用于其他评分函数（后续会介绍）的情况。"
   ]
  },
  {
   "cell_type": "code",
   "execution_count": 64,
   "id": "260e1836-0bc7-4625-a7ac-030d1faf812b",
   "metadata": {},
   "outputs": [
    {
     "data": {
      "text/plain": [
       "[0.18666114409941312,\n",
       " 0.1818296585911835,\n",
       " 0.1401638312930749,\n",
       " 0.11637491358418606,\n",
       " 0.031559498813656606,\n",
       " -0.0025008080096673483,\n",
       " -0.018605127155478008,\n",
       " -0.03987905886854042,\n",
       " -0.05014175688732029,\n",
       " -0.05444390781636287]"
      ]
     },
     "execution_count": 64,
     "metadata": {},
     "output_type": "execute_result"
    }
   ],
   "source": [
    "sorted(KB.scores_, reverse=True)[:10]"
   ]
  },
  {
   "cell_type": "code",
   "execution_count": 65,
   "id": "eb955854-1535-4e53-bb4f-ca276494dd5c",
   "metadata": {},
   "outputs": [
    {
     "data": {
      "text/plain": [
       "-0.05444390781636287"
      ]
     },
     "execution_count": 65,
     "metadata": {},
     "output_type": "execute_result"
    }
   ],
   "source": [
    "threshold = sorted(KB.scores_, reverse=True)[9]\n",
    "threshold"
   ]
  },
  {
   "cell_type": "code",
   "execution_count": 66,
   "id": "895b04a7-23d9-48a9-92a9-090714ff7c89",
   "metadata": {},
   "outputs": [
    {
     "data": {
      "text/plain": [
       "array([-0.01860513,  0.14016383, -0.15957745, -0.15254382, -0.00250081,\n",
       "        0.0315595 , -0.05444391, -0.30748405, -0.19723667, -0.19116379,\n",
       "       -0.2888665 , -0.03987906, -0.05014176, -0.39446444,  0.18666114,\n",
       "        0.11637491, -0.35726337,  0.18182966, -0.21023844])"
      ]
     },
     "execution_count": 66,
     "metadata": {},
     "output_type": "execute_result"
    }
   ],
   "source": [
    "KB.scores_"
   ]
  },
  {
   "cell_type": "code",
   "execution_count": 67,
   "id": "87b9ab97-af45-4dd6-9b57-36c8ff81f253",
   "metadata": {},
   "outputs": [
    {
     "data": {
      "text/plain": [
       "array(['gender', 'SeniorCitizen', 'Partner', 'Dependents', 'PhoneService',\n",
       "       'MultipleLines', 'InternetService', 'OnlineSecurity',\n",
       "       'OnlineBackup', 'DeviceProtection', 'TechSupport', 'StreamingTV',\n",
       "       'StreamingMovies', 'Contract', 'PaperlessBilling', 'PaymentMethod',\n",
       "       'tenure', 'MonthlyCharges', 'TotalCharges'], dtype=object)"
      ]
     },
     "execution_count": 67,
     "metadata": {},
     "output_type": "execute_result"
    }
   ],
   "source": [
    "KB.feature_names_in_"
   ]
  },
  {
   "cell_type": "code",
   "execution_count": 68,
   "id": "5e46ff24-8ba0-4ce4-8237-27b0938ada00",
   "metadata": {},
   "outputs": [
    {
     "name": "stdout",
     "output_type": "stream",
     "text": [
      "(-0.018605127155478008, 'gender')\n",
      "(0.1401638312930749, 'SeniorCitizen')\n",
      "(-0.1595774481386036, 'Partner')\n",
      "(-0.15254381815342433, 'Dependents')\n",
      "(-0.0025008080096673483, 'PhoneService')\n",
      "(0.031559498813656606, 'MultipleLines')\n",
      "(-0.05444390781636287, 'InternetService')\n",
      "(-0.30748404756970066, 'OnlineSecurity')\n",
      "(-0.19723667022421654, 'OnlineBackup')\n",
      "(-0.19116379106171, 'DeviceProtection')\n",
      "(-0.2888665015816091, 'TechSupport')\n",
      "(-0.03987905886854042, 'StreamingTV')\n",
      "(-0.05014175688732029, 'StreamingMovies')\n",
      "(-0.39446444163483935, 'Contract')\n",
      "(0.18666114409941312, 'PaperlessBilling')\n",
      "(0.11637491358418606, 'PaymentMethod')\n",
      "(-0.3572633742522449, 'tenure')\n",
      "(0.1818296585911835, 'MonthlyCharges')\n",
      "(-0.21023844378550435, 'TotalCharges')\n"
     ]
    }
   ],
   "source": [
    "for i in zip(KB.scores_, KB.feature_names_in_):\n",
    "    print(i)"
   ]
  },
  {
   "cell_type": "code",
   "execution_count": 69,
   "id": "bd7269c5-127b-4b69-bd64-7b68853e0590",
   "metadata": {},
   "outputs": [],
   "source": [
    "col_names = []\n",
    "\n",
    "for i in zip(KB.scores_, KB.feature_names_in_):\n",
    "    if i[0] >= threshold:\n",
    "        col_names.append(i[1])"
   ]
  },
  {
   "cell_type": "code",
   "execution_count": 70,
   "id": "83ca0d5d-e600-4d09-aeec-c451ac38d5dd",
   "metadata": {},
   "outputs": [
    {
     "data": {
      "text/plain": [
       "['gender',\n",
       " 'SeniorCitizen',\n",
       " 'PhoneService',\n",
       " 'MultipleLines',\n",
       " 'InternetService',\n",
       " 'StreamingTV',\n",
       " 'StreamingMovies',\n",
       " 'PaperlessBilling',\n",
       " 'PaymentMethod',\n",
       " 'MonthlyCharges']"
      ]
     },
     "execution_count": 70,
     "metadata": {},
     "output_type": "execute_result"
    }
   ],
   "source": [
    "col_names"
   ]
  },
  {
   "cell_type": "markdown",
   "id": "8fd8bc09-142c-409b-8ac8-baadf9aa752f",
   "metadata": {},
   "source": [
    "验证提取列是否正确："
   ]
  },
  {
   "cell_type": "code",
   "execution_count": 71,
   "id": "f7f2ccc8-72f8-4ace-93bb-f566a81b00c4",
   "metadata": {},
   "outputs": [
    {
     "data": {
      "text/html": [
       "<div>\n",
       "<style scoped>\n",
       "    .dataframe tbody tr th:only-of-type {\n",
       "        vertical-align: middle;\n",
       "    }\n",
       "\n",
       "    .dataframe tbody tr th {\n",
       "        vertical-align: top;\n",
       "    }\n",
       "\n",
       "    .dataframe thead th {\n",
       "        text-align: right;\n",
       "    }\n",
       "</style>\n",
       "<table border=\"1\" class=\"dataframe\">\n",
       "  <thead>\n",
       "    <tr style=\"text-align: right;\">\n",
       "      <th></th>\n",
       "      <th>gender</th>\n",
       "      <th>SeniorCitizen</th>\n",
       "      <th>PhoneService</th>\n",
       "      <th>MultipleLines</th>\n",
       "      <th>InternetService</th>\n",
       "      <th>StreamingTV</th>\n",
       "      <th>StreamingMovies</th>\n",
       "      <th>PaperlessBilling</th>\n",
       "      <th>PaymentMethod</th>\n",
       "      <th>MonthlyCharges</th>\n",
       "    </tr>\n",
       "  </thead>\n",
       "  <tbody>\n",
       "    <tr>\n",
       "      <th>4067</th>\n",
       "      <td>0.0</td>\n",
       "      <td>0.0</td>\n",
       "      <td>1.0</td>\n",
       "      <td>0.0</td>\n",
       "      <td>0.0</td>\n",
       "      <td>2.0</td>\n",
       "      <td>2.0</td>\n",
       "      <td>1.0</td>\n",
       "      <td>0.0</td>\n",
       "      <td>79.60</td>\n",
       "    </tr>\n",
       "    <tr>\n",
       "      <th>3306</th>\n",
       "      <td>0.0</td>\n",
       "      <td>0.0</td>\n",
       "      <td>1.0</td>\n",
       "      <td>0.0</td>\n",
       "      <td>1.0</td>\n",
       "      <td>0.0</td>\n",
       "      <td>0.0</td>\n",
       "      <td>1.0</td>\n",
       "      <td>2.0</td>\n",
       "      <td>80.00</td>\n",
       "    </tr>\n",
       "    <tr>\n",
       "      <th>3391</th>\n",
       "      <td>1.0</td>\n",
       "      <td>0.0</td>\n",
       "      <td>1.0</td>\n",
       "      <td>0.0</td>\n",
       "      <td>2.0</td>\n",
       "      <td>1.0</td>\n",
       "      <td>1.0</td>\n",
       "      <td>0.0</td>\n",
       "      <td>3.0</td>\n",
       "      <td>19.00</td>\n",
       "    </tr>\n",
       "    <tr>\n",
       "      <th>3249</th>\n",
       "      <td>0.0</td>\n",
       "      <td>0.0</td>\n",
       "      <td>1.0</td>\n",
       "      <td>0.0</td>\n",
       "      <td>0.0</td>\n",
       "      <td>0.0</td>\n",
       "      <td>0.0</td>\n",
       "      <td>1.0</td>\n",
       "      <td>3.0</td>\n",
       "      <td>55.55</td>\n",
       "    </tr>\n",
       "    <tr>\n",
       "      <th>2674</th>\n",
       "      <td>0.0</td>\n",
       "      <td>1.0</td>\n",
       "      <td>1.0</td>\n",
       "      <td>0.0</td>\n",
       "      <td>2.0</td>\n",
       "      <td>1.0</td>\n",
       "      <td>1.0</td>\n",
       "      <td>0.0</td>\n",
       "      <td>3.0</td>\n",
       "      <td>20.05</td>\n",
       "    </tr>\n",
       "  </tbody>\n",
       "</table>\n",
       "</div>"
      ],
      "text/plain": [
       "      gender  SeniorCitizen  PhoneService  MultipleLines  InternetService  \\\n",
       "4067     0.0            0.0           1.0            0.0              0.0   \n",
       "3306     0.0            0.0           1.0            0.0              1.0   \n",
       "3391     1.0            0.0           1.0            0.0              2.0   \n",
       "3249     0.0            0.0           1.0            0.0              0.0   \n",
       "2674     0.0            1.0           1.0            0.0              2.0   \n",
       "\n",
       "      StreamingTV  StreamingMovies  PaperlessBilling  PaymentMethod  \\\n",
       "4067          2.0              2.0               1.0            0.0   \n",
       "3306          0.0              0.0               1.0            2.0   \n",
       "3391          1.0              1.0               0.0            3.0   \n",
       "3249          0.0              0.0               1.0            3.0   \n",
       "2674          1.0              1.0               0.0            3.0   \n",
       "\n",
       "      MonthlyCharges  \n",
       "4067           79.60  \n",
       "3306           80.00  \n",
       "3391           19.00  \n",
       "3249           55.55  \n",
       "2674           20.05  "
      ]
     },
     "execution_count": 71,
     "metadata": {},
     "output_type": "execute_result"
    }
   ],
   "source": [
    "X_train_OE[col_names].head()"
   ]
  },
  {
   "cell_type": "code",
   "execution_count": 72,
   "id": "f84f25ff-82dd-4615-a5ab-61b8f9e4eec2",
   "metadata": {},
   "outputs": [
    {
     "data": {
      "text/plain": [
       "array([[ 0.  ,  0.  ,  1.  ,  0.  ,  0.  ,  2.  ,  2.  ,  1.  ,  0.  ,\n",
       "        79.6 ],\n",
       "       [ 0.  ,  0.  ,  1.  ,  0.  ,  1.  ,  0.  ,  0.  ,  1.  ,  2.  ,\n",
       "        80.  ],\n",
       "       [ 1.  ,  0.  ,  1.  ,  0.  ,  2.  ,  1.  ,  1.  ,  0.  ,  3.  ,\n",
       "        19.  ],\n",
       "       [ 0.  ,  0.  ,  1.  ,  0.  ,  0.  ,  0.  ,  0.  ,  1.  ,  3.  ,\n",
       "        55.55],\n",
       "       [ 0.  ,  1.  ,  1.  ,  0.  ,  2.  ,  1.  ,  1.  ,  0.  ,  3.  ,\n",
       "        20.05]])"
      ]
     },
     "execution_count": 72,
     "metadata": {},
     "output_type": "execute_result"
    }
   ],
   "source": [
    "X_new[:5]"
   ]
  },
  {
   "cell_type": "code",
   "execution_count": 73,
   "id": "da0eaa41-f32c-4624-9ba1-688ac1e04a3a",
   "metadata": {},
   "outputs": [
    {
     "data": {
      "text/plain": [
       "gender              0\n",
       "SeniorCitizen       0\n",
       "PhoneService        0\n",
       "MultipleLines       0\n",
       "InternetService     0\n",
       "StreamingTV         0\n",
       "StreamingMovies     0\n",
       "PaperlessBilling    0\n",
       "PaymentMethod       0\n",
       "MonthlyCharges      0\n",
       "dtype: int64"
      ]
     },
     "execution_count": 73,
     "metadata": {},
     "output_type": "execute_result"
    }
   ],
   "source": [
    "(X_train_OE[col_names] != X_new).sum()"
   ]
  },
  {
   "cell_type": "markdown",
   "id": "85f1b461-35b9-48a0-9210-447aea608fe7",
   "metadata": {},
   "source": [
    "据此，我们可以将筛选后的array封装成一个dataframe："
   ]
  },
  {
   "cell_type": "code",
   "execution_count": 74,
   "id": "a50fc5ca-cdb5-4ec9-b533-eade773b20f8",
   "metadata": {},
   "outputs": [
    {
     "data": {
      "text/html": [
       "<div>\n",
       "<style scoped>\n",
       "    .dataframe tbody tr th:only-of-type {\n",
       "        vertical-align: middle;\n",
       "    }\n",
       "\n",
       "    .dataframe tbody tr th {\n",
       "        vertical-align: top;\n",
       "    }\n",
       "\n",
       "    .dataframe thead th {\n",
       "        text-align: right;\n",
       "    }\n",
       "</style>\n",
       "<table border=\"1\" class=\"dataframe\">\n",
       "  <thead>\n",
       "    <tr style=\"text-align: right;\">\n",
       "      <th></th>\n",
       "      <th>gender</th>\n",
       "      <th>SeniorCitizen</th>\n",
       "      <th>PhoneService</th>\n",
       "      <th>MultipleLines</th>\n",
       "      <th>InternetService</th>\n",
       "      <th>StreamingTV</th>\n",
       "      <th>StreamingMovies</th>\n",
       "      <th>PaperlessBilling</th>\n",
       "      <th>PaymentMethod</th>\n",
       "      <th>MonthlyCharges</th>\n",
       "    </tr>\n",
       "  </thead>\n",
       "  <tbody>\n",
       "    <tr>\n",
       "      <th>0</th>\n",
       "      <td>0.0</td>\n",
       "      <td>0.0</td>\n",
       "      <td>1.0</td>\n",
       "      <td>0.0</td>\n",
       "      <td>0.0</td>\n",
       "      <td>2.0</td>\n",
       "      <td>2.0</td>\n",
       "      <td>1.0</td>\n",
       "      <td>0.0</td>\n",
       "      <td>79.60</td>\n",
       "    </tr>\n",
       "    <tr>\n",
       "      <th>1</th>\n",
       "      <td>0.0</td>\n",
       "      <td>0.0</td>\n",
       "      <td>1.0</td>\n",
       "      <td>0.0</td>\n",
       "      <td>1.0</td>\n",
       "      <td>0.0</td>\n",
       "      <td>0.0</td>\n",
       "      <td>1.0</td>\n",
       "      <td>2.0</td>\n",
       "      <td>80.00</td>\n",
       "    </tr>\n",
       "    <tr>\n",
       "      <th>2</th>\n",
       "      <td>1.0</td>\n",
       "      <td>0.0</td>\n",
       "      <td>1.0</td>\n",
       "      <td>0.0</td>\n",
       "      <td>2.0</td>\n",
       "      <td>1.0</td>\n",
       "      <td>1.0</td>\n",
       "      <td>0.0</td>\n",
       "      <td>3.0</td>\n",
       "      <td>19.00</td>\n",
       "    </tr>\n",
       "    <tr>\n",
       "      <th>3</th>\n",
       "      <td>0.0</td>\n",
       "      <td>0.0</td>\n",
       "      <td>1.0</td>\n",
       "      <td>0.0</td>\n",
       "      <td>0.0</td>\n",
       "      <td>0.0</td>\n",
       "      <td>0.0</td>\n",
       "      <td>1.0</td>\n",
       "      <td>3.0</td>\n",
       "      <td>55.55</td>\n",
       "    </tr>\n",
       "    <tr>\n",
       "      <th>4</th>\n",
       "      <td>0.0</td>\n",
       "      <td>1.0</td>\n",
       "      <td>1.0</td>\n",
       "      <td>0.0</td>\n",
       "      <td>2.0</td>\n",
       "      <td>1.0</td>\n",
       "      <td>1.0</td>\n",
       "      <td>0.0</td>\n",
       "      <td>3.0</td>\n",
       "      <td>20.05</td>\n",
       "    </tr>\n",
       "  </tbody>\n",
       "</table>\n",
       "</div>"
      ],
      "text/plain": [
       "   gender  SeniorCitizen  PhoneService  MultipleLines  InternetService  \\\n",
       "0     0.0            0.0           1.0            0.0              0.0   \n",
       "1     0.0            0.0           1.0            0.0              1.0   \n",
       "2     1.0            0.0           1.0            0.0              2.0   \n",
       "3     0.0            0.0           1.0            0.0              0.0   \n",
       "4     0.0            1.0           1.0            0.0              2.0   \n",
       "\n",
       "   StreamingTV  StreamingMovies  PaperlessBilling  PaymentMethod  \\\n",
       "0          2.0              2.0               1.0            0.0   \n",
       "1          0.0              0.0               1.0            2.0   \n",
       "2          1.0              1.0               0.0            3.0   \n",
       "3          0.0              0.0               1.0            3.0   \n",
       "4          1.0              1.0               0.0            3.0   \n",
       "\n",
       "   MonthlyCharges  \n",
       "0           79.60  \n",
       "1           80.00  \n",
       "2           19.00  \n",
       "3           55.55  \n",
       "4           20.05  "
      ]
     },
     "execution_count": 74,
     "metadata": {},
     "output_type": "execute_result"
    }
   ],
   "source": [
    "X_train_new = pd.DataFrame(X_new, columns=col_names)\n",
    "X_train_new.head(5)"
   ]
  },
  {
   "cell_type": "markdown",
   "id": "a38ac168-5daa-46b3-9671-527e998154c7",
   "metadata": {},
   "source": [
    "由于后续我们将经常使用sklearn中相关评估器进行特征筛选，因此我们这里可以将筛选后列名称的提取过程封装为一个函数："
   ]
  },
  {
   "cell_type": "code",
   "execution_count": 75,
   "id": "a9c25b57-2323-4da1-b81b-a7f9b07557fd",
   "metadata": {},
   "outputs": [],
   "source": [
    "def SelectName(KB):\n",
    "    \"\"\"\n",
    "    根据特征筛选评估器进行列名称输出函数\n",
    "    \n",
    "    :param KB: 训练后的BestK特征筛选评估器\n",
    "    \n",
    "    :return：保留特征的列名称\n",
    "    \"\"\"\n",
    "    threshold = sorted(KB.scores_, reverse=True)[KB.k - 1]\n",
    "    \n",
    "    col_names = []\n",
    "\n",
    "    for score, col in zip(KB.scores_, KB.feature_names_in_):\n",
    "        if score >= threshold:\n",
    "            col_names.append(col)\n",
    "            \n",
    "    return col_names"
   ]
  },
  {
   "cell_type": "markdown",
   "id": "ec9fbd2b-7d39-4b7a-9b7e-f37e27374f73",
   "metadata": {},
   "source": [
    "测试函数性能："
   ]
  },
  {
   "cell_type": "code",
   "execution_count": 76,
   "id": "6f28bf81-57c3-408e-bd3e-ae89fc15e34e",
   "metadata": {},
   "outputs": [
    {
     "data": {
      "text/plain": [
       "['gender',\n",
       " 'SeniorCitizen',\n",
       " 'PhoneService',\n",
       " 'MultipleLines',\n",
       " 'InternetService',\n",
       " 'StreamingTV',\n",
       " 'StreamingMovies',\n",
       " 'PaperlessBilling',\n",
       " 'PaymentMethod',\n",
       " 'MonthlyCharges']"
      ]
     },
     "execution_count": 76,
     "metadata": {},
     "output_type": "execute_result"
    }
   ],
   "source": [
    "SelectName(KB)"
   ]
  },
  {
   "cell_type": "markdown",
   "id": "e708a3ce-e884-421b-b4b6-0a8e72c008b0",
   "metadata": {},
   "source": [
    "> 在后续介绍了更多特征筛选评估器后，还将继续修改丰富该函数"
   ]
  },
  {
   "cell_type": "markdown",
   "id": "b0ae8a40-4ee1-4760-95e1-303360c9417d",
   "metadata": {},
   "source": [
    "> 此外需要注意，在sklearn的1.0版本中加入了get_feature_names_out属性，也能够实现SelectName函数的相同功能，输出筛选后的列名称。"
   ]
  },
  {
   "cell_type": "markdown",
   "id": "8a993288-ae83-4eac-be0e-4a6420bc004a",
   "metadata": {},
   "source": [
    "- f_regression评分函数"
   ]
  },
  {
   "cell_type": "markdown",
   "id": "ba8e9ad3-8a38-4c72-965f-289cbb90ba99",
   "metadata": {},
   "source": [
    "&emsp;&emsp;接下来继续解决此前提出的另一个问题，那就是BestK过程只能提取那些评分最高的特征，但如果是计算相关系数，其实正负相关性都是可以使用的，也就是说我们更希望这个过程是一个先计算绝对值、再进行特征筛选的过程。此时如果要实现该功能，则需要借助sklearn中的另一个评分函数：f_regression"
   ]
  },
  {
   "cell_type": "code",
   "execution_count": 77,
   "id": "cb7e1420-6ffa-4b75-b376-73d402f39df9",
   "metadata": {
    "collapsed": true,
    "jupyter": {
     "outputs_hidden": true
    },
    "tags": []
   },
   "outputs": [
    {
     "data": {
      "text/plain": [
       "\u001b[1;31mSignature:\u001b[0m \u001b[0mf_regression\u001b[0m\u001b[1;33m(\u001b[0m\u001b[0mX\u001b[0m\u001b[1;33m,\u001b[0m \u001b[0my\u001b[0m\u001b[1;33m,\u001b[0m \u001b[1;33m*\u001b[0m\u001b[1;33m,\u001b[0m \u001b[0mcenter\u001b[0m\u001b[1;33m=\u001b[0m\u001b[1;32mTrue\u001b[0m\u001b[1;33m)\u001b[0m\u001b[1;33m\u001b[0m\u001b[1;33m\u001b[0m\u001b[0m\n",
       "\u001b[1;31mDocstring:\u001b[0m\n",
       "Univariate linear regression tests returning F-statistic and p-values.\n",
       "\n",
       "Quick linear model for testing the effect of a single regressor,\n",
       "sequentially for many regressors.\n",
       "\n",
       "This is done in 2 steps:\n",
       "\n",
       "1. The cross correlation between each regressor and the target is computed,\n",
       "   that is, ((X[:, i] - mean(X[:, i])) * (y - mean_y)) / (std(X[:, i]) *\n",
       "   std(y)) using r_regression function.\n",
       "2. It is converted to an F score and then to a p-value.\n",
       "\n",
       ":func:`f_regression` is derived from :func:`r_regression` and will rank\n",
       "features in the same order if all the features are positively correlated\n",
       "with the target.\n",
       "\n",
       "Note however that contrary to :func:`f_regression`, :func:`r_regression`\n",
       "values lie in [-1, 1] and can thus be negative. :func:`f_regression` is\n",
       "therefore recommended as a feature selection criterion to identify\n",
       "potentially predictive feature for a downstream classifier, irrespective of\n",
       "the sign of the association with the target variable.\n",
       "\n",
       "Furthermore :func:`f_regression` returns p-values while\n",
       ":func:`r_regression` does not.\n",
       "\n",
       "Read more in the :ref:`User Guide <univariate_feature_selection>`.\n",
       "\n",
       "Parameters\n",
       "----------\n",
       "X : {array-like, sparse matrix} of shape (n_samples, n_features)\n",
       "    The data matrix.\n",
       "\n",
       "y : array-like of shape (n_samples,)\n",
       "    The target vector.\n",
       "\n",
       "center : bool, default=True\n",
       "    Whether or not to center the data matrix `X` and the target vector `y`.\n",
       "    By default, `X` and `y` will be centered.\n",
       "\n",
       "Returns\n",
       "-------\n",
       "f_statistic : ndarray of shape (n_features,)\n",
       "    F-statistic for each feature.\n",
       "\n",
       "p_values : ndarray of shape (n_features,)\n",
       "    P-values associated with the F-statistic.\n",
       "\n",
       "See Also\n",
       "--------\n",
       "r_regression: Pearson's R between label/feature for regression tasks.\n",
       "f_classif: ANOVA F-value between label/feature for classification tasks.\n",
       "chi2: Chi-squared stats of non-negative features for classification tasks.\n",
       "SelectKBest: Select features based on the k highest scores.\n",
       "SelectFpr: Select features based on a false positive rate test.\n",
       "SelectFdr: Select features based on an estimated false discovery rate.\n",
       "SelectFwe: Select features based on family-wise error rate.\n",
       "SelectPercentile: Select features based on percentile of the highest\n",
       "    scores.\n",
       "\u001b[1;31mFile:\u001b[0m      d:\\anaconda3\\lib\\site-packages\\sklearn\\feature_selection\\_univariate_selection.py\n",
       "\u001b[1;31mType:\u001b[0m      function\n"
      ]
     },
     "metadata": {},
     "output_type": "display_data"
    }
   ],
   "source": [
    "from sklearn.feature_selection import f_regression\n",
    "f_regression?"
   ]
  },
  {
   "cell_type": "markdown",
   "id": "e85c08be-38a1-402a-863b-64069e7e04c4",
   "metadata": {},
   "source": [
    "该函数计算的是特征和标签之间的f评分（f-Score），尽管f-Score这一叫法并不常见，但其实就是进行的F检验，通过查看sklearn该部分源码，我们能够看到sklearn中的f评分是按照如下方式进行的计算："
   ]
  },
  {
   "cell_type": "markdown",
   "id": "7a8ff22e-2721-4415-ad27-9a49b2aee72f",
   "metadata": {},
   "source": [
    "<center><img src=\"https://s2.loli.net/2022/03/24/koawm45Ltqp8QB7.png\" alt=\"image-20220324152933797\" style=\"zoom:50%;\" />"
   ]
  },
  {
   "cell_type": "markdown",
   "id": "19b429f1-b1f2-4f96-acaf-3ade1a59b3a3",
   "metadata": {},
   "source": [
    "此处关于F检验的具体含义我们稍后会在补充假设检验相关理论时介绍，从使用角度来说，f_regression的本质就是评估两列的相关性，如果考虑到评分的数值结果，则从数值大小顺序上来说，就相当于相关系数取绝对值后排序结果："
   ]
  },
  {
   "cell_type": "code",
   "execution_count": 78,
   "id": "adcb59e0-c31d-47e3-a1ff-e0e0da08654c",
   "metadata": {
    "tags": []
   },
   "outputs": [
    {
     "data": {
      "text/plain": [
       "Churn               1.000000\n",
       "Contract            0.394464\n",
       "tenure              0.357263\n",
       "OnlineSecurity      0.307484\n",
       "TechSupport         0.288867\n",
       "TotalCharges        0.210238\n",
       "OnlineBackup        0.197237\n",
       "DeviceProtection    0.191164\n",
       "PaperlessBilling    0.186661\n",
       "MonthlyCharges      0.181830\n",
       "Partner             0.159577\n",
       "Dependents          0.152544\n",
       "SeniorCitizen       0.140164\n",
       "PaymentMethod       0.116375\n",
       "InternetService     0.054444\n",
       "StreamingMovies     0.050142\n",
       "StreamingTV         0.039879\n",
       "MultipleLines       0.031559\n",
       "gender              0.018605\n",
       "PhoneService        0.002501\n",
       "Name: Churn, dtype: float64"
      ]
     },
     "execution_count": 78,
     "metadata": {},
     "output_type": "execute_result"
    }
   ],
   "source": [
    "# 相关系数取绝对值后降序排列\n",
    "np.abs(df_corr).sort_values(ascending=False)"
   ]
  },
  {
   "cell_type": "code",
   "execution_count": 79,
   "id": "b86473ff-640e-4d2d-809c-c56630886447",
   "metadata": {},
   "outputs": [
    {
     "data": {
      "text/plain": [
       "array([-0.01860513,  0.14016383, -0.15957745, -0.15254382, -0.00250081,\n",
       "        0.0315595 , -0.05444391, -0.30748405, -0.19723667, -0.19116379,\n",
       "       -0.2888665 , -0.03987906, -0.05014176, -0.39446444,  0.18666114,\n",
       "        0.11637491, -0.35726337,  0.18182966, -0.21023844])"
      ]
     },
     "execution_count": 79,
     "metadata": {},
     "output_type": "execute_result"
    }
   ],
   "source": [
    "r_regression(X_train_OE, y_train)"
   ]
  },
  {
   "cell_type": "code",
   "execution_count": 80,
   "id": "62d8eb20-9456-43b2-8c84-ae56e1bed041",
   "metadata": {},
   "outputs": [
    {
     "data": {
      "text/plain": [
       "(array([1.82830886e+00, 1.05809064e+02, 1.37968358e+02, 1.25790676e+02,\n",
       "        3.30215414e-02, 5.26413346e+00, 1.56971831e+01, 5.51331645e+02,\n",
       "        2.13718300e+02, 2.00268721e+02, 4.80694566e+02, 8.41036703e+00,\n",
       "        1.33084137e+01, 9.72976942e+02, 1.90609054e+02, 7.24894091e+01,\n",
       "        7.72527122e+02, 1.80536389e+02, 2.44169411e+02]),\n",
       " array([1.76385336e-001, 1.38355399e-024, 1.81898481e-031, 7.22810806e-029,\n",
       "        8.55810777e-001, 2.18083235e-002, 7.53147576e-005, 4.77214318e-116,\n",
       "        1.77787847e-047, 1.18499278e-044, 4.77485174e-102, 3.74626992e-003,\n",
       "        2.66766949e-004, 3.37661304e-196, 1.27838178e-042, 2.16345286e-017,\n",
       "        8.46456399e-159, 1.70182240e-040, 7.67071015e-054]))"
      ]
     },
     "execution_count": 80,
     "metadata": {},
     "output_type": "execute_result"
    }
   ],
   "source": [
    "f_regression(X_train_OE, y_train)"
   ]
  },
  {
   "cell_type": "markdown",
   "id": "da302a9f-b2f9-447c-9bc3-cec8077eb69a",
   "metadata": {},
   "source": [
    "此处能看到f_regression返回了两个结果，其中第一个array是F-Score，第二个array是p值。关于p值的概念稍后会进行介绍，此处先讨论F-Score计算结果所表现出的一些特性。"
   ]
  },
  {
   "cell_type": "code",
   "execution_count": 81,
   "id": "c21ac402-b4a7-4e8f-835b-00259c4a031f",
   "metadata": {},
   "outputs": [],
   "source": [
    "df_corr1 = pd.Series(f_regression(X_train_OE, y_train)[0], index=list(X_train_OE.columns))"
   ]
  },
  {
   "cell_type": "code",
   "execution_count": 82,
   "id": "786c047c-c468-48f6-8413-0ab3f6976997",
   "metadata": {
    "tags": []
   },
   "outputs": [
    {
     "data": {
      "text/plain": [
       "Contract            972.976942\n",
       "tenure              772.527122\n",
       "OnlineSecurity      551.331645\n",
       "TechSupport         480.694566\n",
       "TotalCharges        244.169411\n",
       "OnlineBackup        213.718300\n",
       "DeviceProtection    200.268721\n",
       "PaperlessBilling    190.609054\n",
       "MonthlyCharges      180.536389\n",
       "Partner             137.968358\n",
       "Dependents          125.790676\n",
       "SeniorCitizen       105.809064\n",
       "PaymentMethod        72.489409\n",
       "InternetService      15.697183\n",
       "StreamingMovies      13.308414\n",
       "StreamingTV           8.410367\n",
       "MultipleLines         5.264133\n",
       "gender                1.828309\n",
       "PhoneService          0.033022\n",
       "dtype: float64"
      ]
     },
     "execution_count": 82,
     "metadata": {},
     "output_type": "execute_result"
    }
   ],
   "source": [
    "df_corr1.sort_values(ascending=False)"
   ]
  },
  {
   "cell_type": "code",
   "execution_count": 83,
   "id": "dc7bf820-0ee9-4f47-a3ad-cc192480593d",
   "metadata": {},
   "outputs": [
    {
     "data": {
      "text/plain": [
       "array([ True,  True,  True,  True,  True,  True,  True,  True,  True,\n",
       "        True,  True,  True,  True,  True,  True,  True,  True,  True,\n",
       "        True])"
      ]
     },
     "execution_count": 83,
     "metadata": {},
     "output_type": "execute_result"
    }
   ],
   "source": [
    "df_corr1.sort_values(ascending=False).index == np.abs(df_corr).sort_values(ascending=False)[1:].index"
   ]
  },
  {
   "cell_type": "markdown",
   "id": "2c5c554e-86fe-47a0-8c10-e00b149a620c",
   "metadata": {},
   "source": [
    "能够发现，基于F-Score的排序结果和基于相关系数绝对值的排序结果一致。那么接下来，我们就可以借助f_regression进行最相关的特征的筛选："
   ]
  },
  {
   "cell_type": "code",
   "execution_count": 84,
   "id": "e8eea063-2574-482e-bf05-22d4df8f470c",
   "metadata": {},
   "outputs": [],
   "source": [
    "KB = SelectKBest(f_regression, k=10)"
   ]
  },
  {
   "cell_type": "code",
   "execution_count": 85,
   "id": "84a354e0-4e3b-41e3-8dd4-f0f5c0976f6a",
   "metadata": {},
   "outputs": [
    {
     "data": {
      "text/plain": [
       "(5282, 10)"
      ]
     },
     "execution_count": 85,
     "metadata": {},
     "output_type": "execute_result"
    }
   ],
   "source": [
    "X_new = KB.fit_transform(X_train_OE, y_train)\n",
    "X_new.shape"
   ]
  },
  {
   "cell_type": "markdown",
   "id": "f187b702-db21-4850-8855-8046bbfd5f0b",
   "metadata": {},
   "source": [
    "此时筛选出来的特征如下："
   ]
  },
  {
   "cell_type": "code",
   "execution_count": 86,
   "id": "5a36d1a7-ebad-4171-8569-7fe196f184c4",
   "metadata": {},
   "outputs": [
    {
     "data": {
      "text/plain": [
       "['Partner',\n",
       " 'OnlineSecurity',\n",
       " 'OnlineBackup',\n",
       " 'DeviceProtection',\n",
       " 'TechSupport',\n",
       " 'Contract',\n",
       " 'PaperlessBilling',\n",
       " 'tenure',\n",
       " 'MonthlyCharges',\n",
       " 'TotalCharges']"
      ]
     },
     "execution_count": 86,
     "metadata": {},
     "output_type": "execute_result"
    }
   ],
   "source": [
    "SelectName(KB)"
   ]
  },
  {
   "cell_type": "code",
   "execution_count": 87,
   "id": "7f8a29de-1234-4e6c-a662-cf7522053a60",
   "metadata": {},
   "outputs": [
    {
     "data": {
      "text/plain": [
       "Contract            0.394464\n",
       "tenure              0.357263\n",
       "OnlineSecurity      0.307484\n",
       "TechSupport         0.288867\n",
       "TotalCharges        0.210238\n",
       "OnlineBackup        0.197237\n",
       "DeviceProtection    0.191164\n",
       "PaperlessBilling    0.186661\n",
       "MonthlyCharges      0.181830\n",
       "Partner             0.159577\n",
       "Name: Churn, dtype: float64"
      ]
     },
     "execution_count": 87,
     "metadata": {},
     "output_type": "execute_result"
    }
   ],
   "source": [
    "np.abs(df_corr).sort_values(ascending=False)[1:11]"
   ]
  },
  {
   "cell_type": "markdown",
   "id": "261767dd-1d24-4ac2-9d67-e010b38826a7",
   "metadata": {},
   "source": [
    "- SelectPercentile按比例筛选特征"
   ]
  },
  {
   "cell_type": "markdown",
   "id": "747a3d08-8a8a-4852-bf95-e91bf7de15f1",
   "metadata": {},
   "source": [
    "&emsp;&emsp;当然，对于筛选评估器来说，除了可以筛选评分最高的k个特征，还可以按照比例进行筛选。此时就需要用到SelectPercentile评估器了："
   ]
  },
  {
   "cell_type": "code",
   "execution_count": 88,
   "id": "d0bd1e3c-1a16-4ad9-bdcc-9b10f6066df0",
   "metadata": {},
   "outputs": [],
   "source": [
    "from sklearn.feature_selection import SelectPercentile"
   ]
  },
  {
   "cell_type": "code",
   "execution_count": 89,
   "id": "88ec6c45-c6a3-423f-b6f8-a22c1f0cdf9e",
   "metadata": {
    "collapsed": true,
    "jupyter": {
     "outputs_hidden": true
    },
    "tags": []
   },
   "outputs": [
    {
     "data": {
      "text/plain": [
       "\u001b[1;31mInit signature:\u001b[0m\n",
       "\u001b[0mSelectPercentile\u001b[0m\u001b[1;33m(\u001b[0m\u001b[1;33m\n",
       "\u001b[0m    \u001b[0mscore_func\u001b[0m\u001b[1;33m=\u001b[0m\u001b[1;33m<\u001b[0m\u001b[0mfunction\u001b[0m \u001b[0mf_classif\u001b[0m \u001b[0mat\u001b[0m \u001b[1;36m0x000001D4349A6E50\u001b[0m\u001b[1;33m>\u001b[0m\u001b[1;33m,\u001b[0m\u001b[1;33m\n",
       "\u001b[0m    \u001b[1;33m*\u001b[0m\u001b[1;33m,\u001b[0m\u001b[1;33m\n",
       "\u001b[0m    \u001b[0mpercentile\u001b[0m\u001b[1;33m=\u001b[0m\u001b[1;36m10\u001b[0m\u001b[1;33m,\u001b[0m\u001b[1;33m\n",
       "\u001b[0m\u001b[1;33m)\u001b[0m\u001b[1;33m\u001b[0m\u001b[1;33m\u001b[0m\u001b[0m\n",
       "\u001b[1;31mDocstring:\u001b[0m     \n",
       "Select features according to a percentile of the highest scores.\n",
       "\n",
       "Read more in the :ref:`User Guide <univariate_feature_selection>`.\n",
       "\n",
       "Parameters\n",
       "----------\n",
       "score_func : callable, default=f_classif\n",
       "    Function taking two arrays X and y, and returning a pair of arrays\n",
       "    (scores, pvalues) or a single array with scores.\n",
       "    Default is f_classif (see below \"See Also\"). The default function only\n",
       "    works with classification tasks.\n",
       "\n",
       "    .. versionadded:: 0.18\n",
       "\n",
       "percentile : int, default=10\n",
       "    Percent of features to keep.\n",
       "\n",
       "Attributes\n",
       "----------\n",
       "scores_ : array-like of shape (n_features,)\n",
       "    Scores of features.\n",
       "\n",
       "pvalues_ : array-like of shape (n_features,)\n",
       "    p-values of feature scores, None if `score_func` returned only scores.\n",
       "\n",
       "n_features_in_ : int\n",
       "    Number of features seen during :term:`fit`.\n",
       "\n",
       "    .. versionadded:: 0.24\n",
       "\n",
       "feature_names_in_ : ndarray of shape (`n_features_in_`,)\n",
       "    Names of features seen during :term:`fit`. Defined only when `X`\n",
       "    has feature names that are all strings.\n",
       "\n",
       "    .. versionadded:: 1.0\n",
       "\n",
       "See Also\n",
       "--------\n",
       "f_classif : ANOVA F-value between label/feature for classification tasks.\n",
       "mutual_info_classif : Mutual information for a discrete target.\n",
       "chi2 : Chi-squared stats of non-negative features for classification tasks.\n",
       "f_regression : F-value between label/feature for regression tasks.\n",
       "mutual_info_regression : Mutual information for a continuous target.\n",
       "SelectKBest : Select features based on the k highest scores.\n",
       "SelectFpr : Select features based on a false positive rate test.\n",
       "SelectFdr : Select features based on an estimated false discovery rate.\n",
       "SelectFwe : Select features based on family-wise error rate.\n",
       "GenericUnivariateSelect : Univariate feature selector with configurable\n",
       "    mode.\n",
       "\n",
       "Notes\n",
       "-----\n",
       "Ties between features with equal scores will be broken in an unspecified\n",
       "way.\n",
       "\n",
       "Examples\n",
       "--------\n",
       ">>> from sklearn.datasets import load_digits\n",
       ">>> from sklearn.feature_selection import SelectPercentile, chi2\n",
       ">>> X, y = load_digits(return_X_y=True)\n",
       ">>> X.shape\n",
       "(1797, 64)\n",
       ">>> X_new = SelectPercentile(chi2, percentile=10).fit_transform(X, y)\n",
       ">>> X_new.shape\n",
       "(1797, 7)\n",
       "\u001b[1;31mFile:\u001b[0m           d:\\anaconda3\\lib\\site-packages\\sklearn\\feature_selection\\_univariate_selection.py\n",
       "\u001b[1;31mType:\u001b[0m           ABCMeta\n",
       "\u001b[1;31mSubclasses:\u001b[0m     \n"
      ]
     },
     "metadata": {},
     "output_type": "display_data"
    }
   ],
   "source": [
    "SelectPercentile?"
   ]
  },
  {
   "cell_type": "markdown",
   "id": "f90b3222-5366-4f76-9b87-0c72bf5b928c",
   "metadata": {},
   "source": [
    "该评估器除了参数和SelectKBest略有差异外，其他没有任何区别，例如此处考虑筛选评分前30%的特征："
   ]
  },
  {
   "cell_type": "code",
   "execution_count": 90,
   "id": "b0188ff4-e8fe-4faa-89d0-f64b0ee142f0",
   "metadata": {},
   "outputs": [
    {
     "data": {
      "text/plain": [
       "SelectPercentile(percentile=30,\n",
       "                 score_func=<function f_regression at 0x000001D4359D20D0>)"
      ]
     },
     "execution_count": 90,
     "metadata": {},
     "output_type": "execute_result"
    }
   ],
   "source": [
    "SP = SelectPercentile(f_regression, percentile=30)\n",
    "SP.fit(X_train_OE, y_train)"
   ]
  },
  {
   "cell_type": "code",
   "execution_count": 91,
   "id": "8e4d802c-abb0-459a-b3b8-2bb47ad179ef",
   "metadata": {},
   "outputs": [
    {
     "data": {
      "text/plain": [
       "array([1.82830886e+00, 1.05809064e+02, 1.37968358e+02, 1.25790676e+02,\n",
       "       3.30215414e-02, 5.26413346e+00, 1.56971831e+01, 5.51331645e+02,\n",
       "       2.13718300e+02, 2.00268721e+02, 4.80694566e+02, 8.41036703e+00,\n",
       "       1.33084137e+01, 9.72976942e+02, 1.90609054e+02, 7.24894091e+01,\n",
       "       7.72527122e+02, 1.80536389e+02, 2.44169411e+02])"
      ]
     },
     "execution_count": 91,
     "metadata": {},
     "output_type": "execute_result"
    }
   ],
   "source": [
    "SP.scores_"
   ]
  },
  {
   "cell_type": "code",
   "execution_count": 92,
   "id": "c0c2e327-4b97-4684-ae5e-ad5368d9ae54",
   "metadata": {},
   "outputs": [
    {
     "data": {
      "text/plain": [
       "array([1.76385336e-001, 1.38355399e-024, 1.81898481e-031, 7.22810806e-029,\n",
       "       8.55810777e-001, 2.18083235e-002, 7.53147576e-005, 4.77214318e-116,\n",
       "       1.77787847e-047, 1.18499278e-044, 4.77485174e-102, 3.74626992e-003,\n",
       "       2.66766949e-004, 3.37661304e-196, 1.27838178e-042, 2.16345286e-017,\n",
       "       8.46456399e-159, 1.70182240e-040, 7.67071015e-054])"
      ]
     },
     "execution_count": 92,
     "metadata": {},
     "output_type": "execute_result"
    }
   ],
   "source": [
    "SP.pvalues_"
   ]
  },
  {
   "cell_type": "code",
   "execution_count": 93,
   "id": "7d9f6636-af64-43fc-91c1-ebaf1993c339",
   "metadata": {},
   "outputs": [
    {
     "data": {
      "text/plain": [
       "19"
      ]
     },
     "execution_count": 93,
     "metadata": {},
     "output_type": "execute_result"
    }
   ],
   "source": [
    "SP.n_features_in_"
   ]
  },
  {
   "cell_type": "code",
   "execution_count": 94,
   "id": "06c8a0ea-381d-47af-ba39-9dca269d71c8",
   "metadata": {},
   "outputs": [
    {
     "data": {
      "text/plain": [
       "30"
      ]
     },
     "execution_count": 94,
     "metadata": {},
     "output_type": "execute_result"
    }
   ],
   "source": [
    "SP.percentile"
   ]
  },
  {
   "cell_type": "code",
   "execution_count": 95,
   "id": "dfa5caa3-18bc-4f5b-b1a0-7377f307b138",
   "metadata": {},
   "outputs": [
    {
     "data": {
      "text/plain": [
       "array([[2.0000e+00, 2.0000e+00, 2.0000e+00, 2.0000e+00, 6.8000e+01,\n",
       "        5.5158e+03],\n",
       "       [0.0000e+00, 2.0000e+00, 2.0000e+00, 0.0000e+00, 3.0000e+00,\n",
       "        2.4130e+02],\n",
       "       [1.0000e+00, 1.0000e+00, 1.0000e+00, 0.0000e+00, 4.0000e+00,\n",
       "        7.3450e+01],\n",
       "       ...,\n",
       "       [0.0000e+00, 2.0000e+00, 0.0000e+00, 0.0000e+00, 2.8000e+01,\n",
       "        3.1525e+03],\n",
       "       [1.0000e+00, 1.0000e+00, 1.0000e+00, 1.0000e+00, 1.5000e+01,\n",
       "        3.3595e+02],\n",
       "       [1.0000e+00, 1.0000e+00, 1.0000e+00, 2.0000e+00, 6.8000e+01,\n",
       "        1.6643e+03]])"
      ]
     },
     "execution_count": 95,
     "metadata": {},
     "output_type": "execute_result"
    }
   ],
   "source": [
    "SP.transform(X_train_OE)"
   ]
  },
  {
   "cell_type": "code",
   "execution_count": 96,
   "id": "c6fe0423-5677-4e0c-8f0f-53f3ed1e4ce0",
   "metadata": {},
   "outputs": [
    {
     "data": {
      "text/plain": [
       "(5282, 6)"
      ]
     },
     "execution_count": 96,
     "metadata": {},
     "output_type": "execute_result"
    }
   ],
   "source": [
    "SP.transform(X_train_OE).shape"
   ]
  },
  {
   "cell_type": "markdown",
   "id": "126cc5f2-b615-4997-9e4b-df8987447513",
   "metadata": {},
   "source": [
    "能够看出此时筛选出了前6个特征。同样，我们希望能够自动化的创建这些特征的名称，因此我们需要简单修改SelectName函数，使其能够从SelectPercentile评估器中也能够自动创建筛选后的列的名称。这里需要注意的一点是，SelectPercentile最终输出的筛选特征的个数，尤其是当比例和原始特征数量无法整除时输出的特征数量。通过观察源码我们发现，SelectPercentile最终输出的筛选特征的个数是由np.percentile函数决定的："
   ]
  },
  {
   "cell_type": "markdown",
   "id": "67927efb-d74f-4970-b8ce-96a4cc78deca",
   "metadata": {},
   "source": [
    "<center><img src=\"https://tva1.sinaimg.cn/large/e6c9d24ely1h0omgl9ez0j20pb0ky771.jpg\" alt=\"特征筛选\" style=\"zoom:50%;\" /> "
   ]
  },
  {
   "cell_type": "markdown",
   "id": "725ae229-5cca-4f1c-a519-9b536710ad1d",
   "metadata": {},
   "source": [
    "具体来说，当我们总共输入19个特征时，如果需要挑选前30%评分的特征，则会执行以下过程："
   ]
  },
  {
   "cell_type": "code",
   "execution_count": 97,
   "id": "334120f6-cc8d-4360-b813-ae9edebe8b6a",
   "metadata": {},
   "outputs": [
    {
     "name": "stdout",
     "output_type": "stream",
     "text": [
      "[ 1  2  3  4  5  6  7  8  9 10 11 12 13 14 15 16 17 18 19]\n"
     ]
    },
    {
     "data": {
      "text/plain": [
       "30"
      ]
     },
     "execution_count": 97,
     "metadata": {},
     "output_type": "execute_result"
    }
   ],
   "source": [
    "l=np.array(range(1, 20))\n",
    "print(l)\n",
    "\n",
    "pre = 30\n",
    "pre"
   ]
  },
  {
   "cell_type": "code",
   "execution_count": 98,
   "id": "ddd66851-7969-4003-bcd1-ec5244133c31",
   "metadata": {},
   "outputs": [
    {
     "data": {
      "text/plain": [
       "13.6"
      ]
     },
     "execution_count": 98,
     "metadata": {},
     "output_type": "execute_result"
    }
   ],
   "source": [
    "thr = np.percentile(l, 100 - pre)\n",
    "thr"
   ]
  },
  {
   "cell_type": "code",
   "execution_count": 99,
   "id": "0ae57fd2-067d-4945-8911-1dd25972c049",
   "metadata": {},
   "outputs": [
    {
     "data": {
      "text/plain": [
       "6"
      ]
     },
     "execution_count": 99,
     "metadata": {},
     "output_type": "execute_result"
    }
   ],
   "source": [
    "(l > 13.6).sum()"
   ]
  },
  {
   "cell_type": "markdown",
   "id": "f1733fbe-117a-4fb4-b246-c5d483c46b47",
   "metadata": {},
   "source": [
    "也就是评分最高的6个特征。当然我们也可以稍加验证："
   ]
  },
  {
   "cell_type": "code",
   "execution_count": 100,
   "id": "1a07b0bc-4f5a-4448-b670-5b2b3b54ac52",
   "metadata": {},
   "outputs": [
    {
     "data": {
      "text/plain": [
       "[10, 20, 30, 40, 50, 60, 70, 80, 90]"
      ]
     },
     "execution_count": 100,
     "metadata": {},
     "output_type": "execute_result"
    }
   ],
   "source": [
    "list(range(10, 100, 10))"
   ]
  },
  {
   "cell_type": "code",
   "execution_count": 101,
   "id": "21f11656-d45e-4768-b18c-50e8821ccc0e",
   "metadata": {},
   "outputs": [
    {
     "name": "stdout",
     "output_type": "stream",
     "text": [
      "2 2\n",
      "4 4\n",
      "6 6\n",
      "8 8\n",
      "9 9\n",
      "11 11\n",
      "13 13\n",
      "15 15\n",
      "17 17\n"
     ]
    }
   ],
   "source": [
    "for i in range(10, 100, 10):\n",
    "    SP = SelectPercentile(f_regression, percentile=i)\n",
    "    X_new = SP.fit_transform(X_train_OE, y_train)\n",
    "    a1 = X_new.shape[1]\n",
    "    a2 = (l > np.percentile(l, 100 - i)).sum()\n",
    "    print(a1, a2)"
   ]
  },
  {
   "cell_type": "code",
   "execution_count": 102,
   "id": "82b86921-c9e9-4822-8a41-3d90b68f07a7",
   "metadata": {
    "tags": []
   },
   "outputs": [
    {
     "name": "stdout",
     "output_type": "stream",
     "text": [
      "2 2\n",
      "3 3\n",
      "4 4\n",
      "4 4\n",
      "5 5\n",
      "6 6\n",
      "7 7\n",
      "7 7\n",
      "8 8\n",
      "9 9\n",
      "9 9\n",
      "10 10\n",
      "11 11\n",
      "12 12\n",
      "12 12\n",
      "13 13\n",
      "14 14\n",
      "15 15\n",
      "15 15\n",
      "16 16\n",
      "17 17\n",
      "17 17\n",
      "18 18\n"
     ]
    }
   ],
   "source": [
    "for i in range(10, 100, 4):\n",
    "    SP = SelectPercentile(f_regression, percentile=i)\n",
    "    X_new = SP.fit_transform(X_train_OE, y_train)\n",
    "    a1 = X_new.shape[1]\n",
    "    a2 = (l > np.percentile(l, 100 - i)).sum()\n",
    "    print(a1, a2)"
   ]
  },
  {
   "cell_type": "markdown",
   "id": "1b09763e-0dfb-4756-99af-176480286420",
   "metadata": {},
   "source": [
    "据此，我们可以修改SelectName函数，使其能够基于SelectPercentile的筛选结果输出列名称："
   ]
  },
  {
   "cell_type": "code",
   "execution_count": 103,
   "id": "346607e4-eed9-45eb-baa1-3082987b1635",
   "metadata": {},
   "outputs": [],
   "source": [
    "def SelectName(Select, KBest=True):\n",
    "    \"\"\"\n",
    "    根据特征筛选评估器进行列名称输出函数\n",
    "    \n",
    "    :param Select: 训练后的特征筛选评估器\n",
    "    :param KBest: 是否是挑选评分最高的若干个特征\n",
    "    \n",
    "    :return：保留特征的列名称\n",
    "    \"\"\"\n",
    "    if KBest == True:\n",
    "        K = Select.k\n",
    "    else:\n",
    "        l = np.array(range(Select.n_features_in_))\n",
    "        K = (l > np.percentile(l, 100 - Select.percentile)).sum()\n",
    "    \n",
    "    threshold = sorted(Select.scores_, reverse=True)[K-1]\n",
    "    \n",
    "    col_names = []\n",
    "\n",
    "    for score, col in zip(Select.scores_, Select.feature_names_in_):\n",
    "        if score >= threshold:\n",
    "            col_names.append(col)\n",
    "            \n",
    "    return col_names"
   ]
  },
  {
   "cell_type": "code",
   "execution_count": 104,
   "id": "549cbf2b-bbd2-4f1b-987d-bf98f4934498",
   "metadata": {},
   "outputs": [],
   "source": [
    "SP = SelectPercentile(f_regression, percentile=35).fit(X_train_OE, y_train)"
   ]
  },
  {
   "cell_type": "code",
   "execution_count": 105,
   "id": "4d2f07d8-1806-448f-a9b7-407c84699bce",
   "metadata": {},
   "outputs": [
    {
     "data": {
      "text/plain": [
       "['OnlineSecurity',\n",
       " 'OnlineBackup',\n",
       " 'DeviceProtection',\n",
       " 'TechSupport',\n",
       " 'Contract',\n",
       " 'tenure',\n",
       " 'TotalCharges']"
      ]
     },
     "execution_count": 105,
     "metadata": {},
     "output_type": "execute_result"
    }
   ],
   "source": [
    "SelectName(SP, KBest=False)"
   ]
  },
  {
   "cell_type": "code",
   "execution_count": 332,
   "id": "3330694a-b069-4002-bdc0-2ef44a02190a",
   "metadata": {},
   "outputs": [
    {
     "data": {
      "text/plain": [
       "7"
      ]
     },
     "execution_count": 332,
     "metadata": {},
     "output_type": "execute_result"
    }
   ],
   "source": [
    "len(SelectName(SP, KBest=False))"
   ]
  },
  {
   "cell_type": "code",
   "execution_count": 333,
   "id": "245118f7-6920-417b-a783-6bf4850cca6b",
   "metadata": {},
   "outputs": [
    {
     "data": {
      "text/plain": [
       "(5282, 7)"
      ]
     },
     "execution_count": 333,
     "metadata": {},
     "output_type": "execute_result"
    }
   ],
   "source": [
    "X_new = SP.transform(X_train_OE)\n",
    "X_new.shape"
   ]
  },
  {
   "cell_type": "code",
   "execution_count": 334,
   "id": "293d2cfc-535a-4589-b430-66c527497bcc",
   "metadata": {},
   "outputs": [
    {
     "data": {
      "text/plain": [
       "array([  0. ,   2. ,   0. ,   2. ,   0. ,   3. , 241.3])"
      ]
     },
     "execution_count": 334,
     "metadata": {},
     "output_type": "execute_result"
    }
   ],
   "source": [
    "X_new[1]"
   ]
  },
  {
   "cell_type": "code",
   "execution_count": 335,
   "id": "8d95ab57-0595-45b4-bdaf-1aa1ada2e465",
   "metadata": {},
   "outputs": [
    {
     "data": {
      "text/html": [
       "<div>\n",
       "<style scoped>\n",
       "    .dataframe tbody tr th:only-of-type {\n",
       "        vertical-align: middle;\n",
       "    }\n",
       "\n",
       "    .dataframe tbody tr th {\n",
       "        vertical-align: top;\n",
       "    }\n",
       "\n",
       "    .dataframe thead th {\n",
       "        text-align: right;\n",
       "    }\n",
       "</style>\n",
       "<table border=\"1\" class=\"dataframe\">\n",
       "  <thead>\n",
       "    <tr style=\"text-align: right;\">\n",
       "      <th></th>\n",
       "      <th>OnlineSecurity</th>\n",
       "      <th>OnlineBackup</th>\n",
       "      <th>DeviceProtection</th>\n",
       "      <th>TechSupport</th>\n",
       "      <th>Contract</th>\n",
       "      <th>tenure</th>\n",
       "      <th>TotalCharges</th>\n",
       "    </tr>\n",
       "  </thead>\n",
       "  <tbody>\n",
       "    <tr>\n",
       "      <th>4067</th>\n",
       "      <td>2.0</td>\n",
       "      <td>2.0</td>\n",
       "      <td>0.0</td>\n",
       "      <td>2.0</td>\n",
       "      <td>2.0</td>\n",
       "      <td>68</td>\n",
       "      <td>5515.80</td>\n",
       "    </tr>\n",
       "    <tr>\n",
       "      <th>3306</th>\n",
       "      <td>0.0</td>\n",
       "      <td>2.0</td>\n",
       "      <td>0.0</td>\n",
       "      <td>2.0</td>\n",
       "      <td>0.0</td>\n",
       "      <td>3</td>\n",
       "      <td>241.30</td>\n",
       "    </tr>\n",
       "    <tr>\n",
       "      <th>3391</th>\n",
       "      <td>1.0</td>\n",
       "      <td>1.0</td>\n",
       "      <td>1.0</td>\n",
       "      <td>1.0</td>\n",
       "      <td>0.0</td>\n",
       "      <td>4</td>\n",
       "      <td>73.45</td>\n",
       "    </tr>\n",
       "    <tr>\n",
       "      <th>3249</th>\n",
       "      <td>0.0</td>\n",
       "      <td>2.0</td>\n",
       "      <td>2.0</td>\n",
       "      <td>0.0</td>\n",
       "      <td>0.0</td>\n",
       "      <td>10</td>\n",
       "      <td>551.30</td>\n",
       "    </tr>\n",
       "    <tr>\n",
       "      <th>2674</th>\n",
       "      <td>1.0</td>\n",
       "      <td>1.0</td>\n",
       "      <td>1.0</td>\n",
       "      <td>1.0</td>\n",
       "      <td>0.0</td>\n",
       "      <td>4</td>\n",
       "      <td>91.45</td>\n",
       "    </tr>\n",
       "  </tbody>\n",
       "</table>\n",
       "</div>"
      ],
      "text/plain": [
       "      OnlineSecurity  OnlineBackup  DeviceProtection  TechSupport  Contract  \\\n",
       "4067             2.0           2.0               0.0          2.0       2.0   \n",
       "3306             0.0           2.0               0.0          2.0       0.0   \n",
       "3391             1.0           1.0               1.0          1.0       0.0   \n",
       "3249             0.0           2.0               2.0          0.0       0.0   \n",
       "2674             1.0           1.0               1.0          1.0       0.0   \n",
       "\n",
       "      tenure  TotalCharges  \n",
       "4067      68       5515.80  \n",
       "3306       3        241.30  \n",
       "3391       4         73.45  \n",
       "3249      10        551.30  \n",
       "2674       4         91.45  "
      ]
     },
     "execution_count": 335,
     "metadata": {},
     "output_type": "execute_result"
    }
   ],
   "source": [
    "X_train_OE[SelectName(SP, KBest=False)].head()"
   ]
  },
  {
   "cell_type": "markdown",
   "id": "111b4c89-faa5-4268-8de6-06566d63b1ed",
   "metadata": {},
   "source": [
    "至此，我们就简单尝试了借助sklearn中的相关功能来进行特征筛选的全流程。其实筛选的执行流程并不复杂，在实际进行筛选时，最重要的一点就是关于评分函数的选择。通过查看sklearn的说明文档，sklearn中至少提供了五种常用的特征评分函数，并且围绕不同问题（分类还是回归），建议选择不同的评分函数："
   ]
  },
  {
   "cell_type": "markdown",
   "id": "c114fda7-44cd-4c86-b936-86207821243e",
   "metadata": {},
   "source": [
    "<center><img src=\"https://s2.loli.net/2022/03/24/HT9cvZGQqtaRNUE.png\" alt=\"image-20220324155348429\" style=\"zoom:50%;\" />"
   ]
  },
  {
   "cell_type": "markdown",
   "id": "2a729278-011a-4003-ac5a-11a5954f3fd3",
   "metadata": {},
   "source": [
    "再结合此前所说，从严格意义上来说，相关系数只能衡量连续变量的同步变化趋势，很多分类问题采用相关系数进行衡量并不能得到一个很好的结果。更进一步说，在大多数情况下，根据指标进行特征筛选的结果好坏的根本往往就在于评分函数的选取，因此接下来，我们重点介绍不同评分函数的计算流程和使用场景，这里需要注意的是，由于根据评分进行特征筛选本质上是一个“先验”的过程，很多评分指标背后都有非常强的统计学背景，此处仅从机器学习算法的使用角度切入进行介绍，并补充必要的统计学知识。"
   ]
  },
  {
   "cell_type": "markdown",
   "id": "207e4cae-f9d0-4dd4-89c2-ea30c4201937",
   "metadata": {},
   "source": [
    "### 2.假设检验与统计推断"
   ]
  },
  {
   "cell_type": "markdown",
   "id": "18fc37bb-e2c8-4158-92fe-d943779bce8f",
   "metadata": {},
   "source": [
    "&emsp;&emsp;首先需要了解的，同时也是整个统计学中至关重要的概念——假设检验与统计推断。在课程的最开始，在我们介绍机器学习和统计分析方法异同的时候我们就曾经谈到，尽管机器学习和统计分析方法都在试图通过已知去推断未知，但统计分析方法的根本思路，是借助样本和总体这一理论体系，通过样本的特性判断总体的特性，进而“先验”的判断其他来自同一总体的数据的情况。而要做到这点，最重要的环节就是假设检验与统计推断，其中推断是目的、假设检验是手段。当然，不仅统计模型是如此，包括特征有效性识别在内的很多需要在建模前就“先验”的判别结果的过程，都需要用到建设检验。"
   ]
  },
  {
   "cell_type": "markdown",
   "id": "8523dae7-8b2c-4c28-a137-5bfba9f8c52a",
   "metadata": {},
   "source": [
    "&emsp;&emsp;要了解到底什么是假设检验，我们可以通过一个极简的例子入手进行学习。"
   ]
  },
  {
   "cell_type": "markdown",
   "id": "dc171bc0-f512-4dd7-b7da-c1acb2f1a3fc",
   "metadata": {},
   "source": [
    "- 假设检验的目的：证明结论"
   ]
  },
  {
   "cell_type": "markdown",
   "id": "be010054-e2a6-44f2-acdb-0d1b8d16e50c",
   "metadata": {},
   "source": [
    "&emsp;&emsp;首先我们需要知道所有假设检验的最终目的都是为了证明某个结论。例如，我想证明某一枚硬币是一枚质地均匀的硬币，在抛硬币的过程中正面和反面出现的概率都是50%，以此就能确保以该硬币进行的选择权的随机划分是公平公正的。"
   ]
  },
  {
   "cell_type": "markdown",
   "id": "0608c215-7025-4be4-9ca2-89b7b4256285",
   "metadata": {},
   "source": [
    "- 假设检验的准备工作：组织实验与采集数据"
   ]
  },
  {
   "cell_type": "markdown",
   "id": "7b346e5d-581e-4a54-8869-31e9e06c922a",
   "metadata": {},
   "source": [
    "&emsp;&emsp;为了证明这枚硬币是质地均匀的，我们需要通过一些实验来进行论证。例如我们简单设计该实验为反复抛硬币十次，然后观察正反面出现的次数。当然，很多假设检验无法设计实验或者不需要实验，但都需要数据的支撑，如果无法通过设计实验获取数据，则需要从历史统计数据中进行抽样。"
   ]
  },
  {
   "cell_type": "markdown",
   "id": "eec54d2d-3b5d-48f4-b4ac-7fbfea4089dc",
   "metadata": {},
   "source": [
    "> 以此实验可以有多次观测，例如此处的抛十次硬币，并不是抛一次硬币就是一次实验。"
   ]
  },
  {
   "cell_type": "markdown",
   "id": "7b950cc3-3ad0-4868-b4b6-72be9dfae0c8",
   "metadata": {},
   "source": [
    "- 假设检验的第一步：提出假设"
   ]
  },
  {
   "cell_type": "markdown",
   "id": "8f225e55-61d1-4652-9d99-982042ccaab1",
   "metadata": {},
   "source": [
    "&emsp;&emsp;比较有趣的一点是，假设检验的过程往往是采用了类似“反证法”的方法进行论证，例如如果我想证明这枚硬币是质地均匀的，那么在论证之前，我需要提出一个相反的假设，即这枚硬币有问题、质地不均匀，该假设会被记为$H_0$，也就是所谓的零假设。当然既然是假设，就肯定有假设不成立的时候，此时假设结论的对立假设就是这枚硬币没有问题、是质地均匀的，该假设会被记为$H_1$，也被称为备择假设或者对立假设。目前假设情况如下："
   ]
  },
  {
   "cell_type": "markdown",
   "id": "9ea5d191-fcba-4728-bcd6-210f5faef237",
   "metadata": {},
   "source": [
    "$$H_0:硬币质地均匀$$\n",
    "$$H_1:硬币质地不均匀$$"
   ]
  },
  {
   "cell_type": "markdown",
   "id": "2b094b12-0001-47cc-9e5c-1ac6799c7a7b",
   "metadata": {},
   "source": [
    "> 关于此处为何我们往往希望提出一个和我们希望论证的结论相反的假设，稍后会进行详细解释。"
   ]
  },
  {
   "cell_type": "markdown",
   "id": "13d685a4-9fc4-4669-8f27-70832d7179f3",
   "metadata": {},
   "source": [
    "- 假设检验涉及的核心概念：概率与分布"
   ]
  },
  {
   "cell_type": "markdown",
   "id": "8335f697-0b42-48b9-87ea-fc0316a08d1a",
   "metadata": {},
   "source": [
    "&emsp;&emsp;好了，接下来我们来判断假设是否成立。这里肯定要用到此前的实验数据，假设此前实验过程中，抛10次硬币的结果是9次正面1次反面。对此，我们主观判断可能会觉得这枚硬币好像不太正常，当然我们需要将这种感性上的判断转化成数学的语言与逻辑并进行表述，我们可以按照如下方式进行表达，这里的表述分为两个层面：其一，抛10次9次都是正面，在过往的经验中，这种事情发生的概率太小了；其二则是，这么小概率的事情居然发生在我当前的这次实验中，简直太巧了。"
   ]
  },
  {
   "cell_type": "markdown",
   "id": "20fadff4-c566-4a72-8863-d31850a7c582",
   "metadata": {},
   "source": [
    "&emsp;&emsp;相比感性上觉得“不正常”，上面这种表述已经是比较趋近于数学的表述了，不过仍然还可以更进一步，将其描述的更加严谨一些。首先是第一个层面的描述，“抛10次9次都是正面，在过往的经验中，这种事情发生的概率太小了”，这里的“过往经验”，可以换成更为严谨的统计学概念，即以往我们遇到的正常的硬币，整体来看正面向上还是反面向上应该出现的次数差不多。这里我们可以将抛硬币的结果看成是随机变量X、出现反面向上记为X=0，反面向上记为X=1，根据以往统计的结果来看，多次抛硬币时X=0和X=1的占比应该都是50%，将其转化为概率就是P(X=0)=P(X=1)=0.5。当然，此时的随机变量X有且只有两个不同的取值，在单次抛硬币情况下，X是满足伯努利分布（Bernoulli distribution）的。"
   ]
  },
  {
   "cell_type": "markdown",
   "id": "6733d04e-3273-4310-b90f-a0abf94b8ac2",
   "metadata": {},
   "source": [
    "$$P(X=0)=p=0.5$$\n",
    "$$P(X=1)=1-p=0.5$$"
   ]
  },
  {
   "cell_type": "markdown",
   "id": "21a751a6-e914-4eb9-ba67-aad3408070e9",
   "metadata": {},
   "source": [
    "> 对于离散随机变量来说，分布表达式就是取得不同值时的概率表达式"
   ]
  },
  {
   "cell_type": "markdown",
   "id": "923ba290-3fe6-4cde-b394-c22e8bc7ed7c",
   "metadata": {},
   "source": [
    "而此时，我们对“十次抛硬币，9次都是正面朝上”的结果感觉异常，是因为这个结果和正面反面出现概率都是50%这个历史经验偏离有点远，这种“偏离”我们可以通过用事件概率来进行衡量，此时单次抛硬币的结果是满足伯努利分布的，则在进行多次抛硬币时，我们设n为总共抛硬币的次数，X为正面朝上的次数，则随机变量X此时就满足二项式分布（binomial distrubution），X也就是n重伯努利实验的中正面朝上的记录结果："
   ]
  },
  {
   "cell_type": "markdown",
   "id": "41810d42-8454-4ee0-8e02-70de5d0d13fd",
   "metadata": {},
   "source": [
    "$$X\\sim B(n,p)$$"
   ]
  },
  {
   "cell_type": "markdown",
   "id": "9f5ce846-db6e-49a7-8a21-d7f83deae44f",
   "metadata": {},
   "source": [
    "当然，此时n=10，p=0.5，因此："
   ]
  },
  {
   "cell_type": "markdown",
   "id": "458073bc-4da7-4f80-8873-806acc49f4bf",
   "metadata": {},
   "source": [
    "$$X\\sim B(10,0.5)$$"
   ]
  },
  {
   "cell_type": "markdown",
   "id": "2fe003d0-fc01-4cde-b67b-f4b43e743236",
   "metadata": {},
   "source": [
    "在该分布下，X=9的概率为："
   ]
  },
  {
   "cell_type": "markdown",
   "id": "f322c3e3-92dc-48a3-a037-29a9e09dcbe7",
   "metadata": {},
   "source": [
    "$$P(X=9)=C_{10}^9*0.5^9*(1-0.5)^1=0.009765625$$"
   ]
  },
  {
   "cell_type": "markdown",
   "id": "f78fc232-9931-4976-9cc9-91efdbc50be8",
   "metadata": {},
   "source": [
    "相关计算过程可以手动计算："
   ]
  },
  {
   "cell_type": "code",
   "execution_count": 336,
   "id": "8e793752-8423-4b15-a744-a1e0bf470311",
   "metadata": {},
   "outputs": [
    {
     "data": {
      "text/plain": [
       "0.009765625"
      ]
     },
     "execution_count": 336,
     "metadata": {},
     "output_type": "execute_result"
    }
   ],
   "source": [
    "np.power(0.5,10) * 10"
   ]
  },
  {
   "cell_type": "markdown",
   "id": "761dd9f3-d2c2-481c-bc2a-0cb30ac09187",
   "metadata": {},
   "source": [
    "也可以借助scipy当中的统计函数进行计算："
   ]
  },
  {
   "cell_type": "code",
   "execution_count": 337,
   "id": "7993387a-0c64-42e4-9d09-e773b8bd18d2",
   "metadata": {},
   "outputs": [
    {
     "data": {
      "text/plain": [
       "0.009765625000000002"
      ]
     },
     "execution_count": 337,
     "metadata": {},
     "output_type": "execute_result"
    }
   ],
   "source": [
    "import scipy\n",
    "\n",
    "# 创建二项分布\n",
    "dist = scipy.stats.binom(p=0.5, n=10)\n",
    "\n",
    "# 计算对应概率\n",
    "dist.pmf(k=9)"
   ]
  },
  {
   "cell_type": "markdown",
   "id": "842834bd-d22e-4095-a48d-55ccee9efea1",
   "metadata": {},
   "source": [
    "&emsp;&emsp;也就是说，该实验结果结果（9次正面朝上）不是不可能出现，而是出现的概率非常小，这也导致我们会觉得“这么小概率的事情居然发生在我当前的这次实验中，简直太巧了”。"
   ]
  },
  {
   "cell_type": "markdown",
   "id": "9575438c-903b-4130-a1f4-9129bdc71e17",
   "metadata": {},
   "source": [
    "- 假设检验的核心观点：小概率事件在单独一次实验中不可能出现"
   ]
  },
  {
   "cell_type": "markdown",
   "id": "15e5f401-aded-40b9-90cb-2913221f783d",
   "metadata": {},
   "source": [
    "&emsp;&emsp;而这个事件发生的小概率，会如何影响到的我们对零假设的判断呢？这就要谈到假设检验的一个基本核心观点，即小概率事件在一次实验中不可能出现的，并且，为了避免这个如何定义小概率过于主观，一般来说我们会将概率小于0.05或0.01的事件化为小概率事件，这里十次抛硬币、9次朝上的事件发生的概率只有0.0097，很显然就是小概率事件了。而所谓的小概率事件在一次实验中不可能发生，指的是如果一次实验的结果是小概率事件，则实验假设前提不成立。例如这里我们计算该实验结果发生的概率其实是基于$H_0$假设而来，即在硬币质地正常情况下，单次抛硬币的正反面出现概率应该是50%，基于此我们计算得出当前实验结果发生的概率是0.0097。而如果我们本来就假设这枚硬币不太正常，反面注铅（或者某种比金属更重的物质），或许多次正面朝上反而是正常的结果。"
   ]
  },
  {
   "cell_type": "markdown",
   "id": "764bcaa3-7607-4cf5-ae5a-a8a2111fecd0",
   "metadata": {
    "tags": []
   },
   "source": [
    "&emsp;&emsp;无论如何，在当前假设下实验结果为小概率事件，因此我们拒绝原假设，备择假设成立，即论证了“硬币不正常”这一结论。更严谨一点说明这个观点，就是在显著性水平为0.05（或0.01）下，拒绝原假设。这里的0.05（或0.01）就是此前划定小概率事件的概率阈值，同时也就是统计学里的显著性水平，它表示我们统计推断过程中犯错的最大概率（解释见下），同时也是我们解释推断结果不可或缺的说明。"
   ]
  },
  {
   "cell_type": "markdown",
   "id": "c035003a-c978-4a3d-8688-3d04b9577fbc",
   "metadata": {},
   "source": [
    "> 相信很多严谨的小伙伴肯定发现此处存在的隐患，那就是哪怕是小概率事件，仍然有发生的概率，万一真的这枚硬币就没有问题，就是在这次实验中发生了小概率事件呢？此时我们拒绝原假设岂不是就犯错了？这里考虑的没错，任何假设检验都存在一定错误的概率，此处如果我们拒绝原假设，则错误的概率就是0.00976，而如果接受原假设，犯错的概率要比这个概率大得多，因此“两权相害取其轻”，我们宁愿承担更少的犯错概率，拒绝原假设。需要注意的是，这类错误也被称为假设检验的I类错误。"
   ]
  },
  {
   "cell_type": "markdown",
   "id": "b47ebc95-c8a3-491e-b201-191e6e6acb40",
   "metadata": {},
   "source": [
    "&emsp;&emsp;当然如果我们发现实验结果并不是小概率事件，则会接受原假设。这里我们不难我们不难发现，接受原假设的条件其实是很宽的，只要实验的结果出现的理论概率高于0.05，我们就接受原假设。其实很多时候概率为0.05也是非常小的概率，单次实验的结果是如此小的概率也算是比较异常的了。因此，出于严谨性考虑，被拒绝后选择备择假设，推导出的结果往往更有可信度。"
   ]
  },
  {
   "cell_type": "markdown",
   "id": "b9f8d869-ce7c-48ee-81b2-edbdb8499fbc",
   "metadata": {},
   "source": [
    "> 需要注意的是，假设此时实验结果概率为p，由于p>0.05所以我们接受了原假设，此时也是有可能犯错的，也就是说我们接受了假设，但假设其实不成立，此时犯错的概率就是1-p，这类错误在假设检验中被称作II类错误。"
   ]
  },
  {
   "cell_type": "markdown",
   "id": "284634a6-63bd-405d-8753-123fea845f69",
   "metadata": {},
   "source": [
    "- 假设检验与统计推断"
   ]
  },
  {
   "cell_type": "markdown",
   "id": "da1e86bc-a14a-4c93-b01e-2e7ad462bdb5",
   "metadata": {},
   "source": [
    "&emsp;&emsp;推翻或者接受假设其实都是完成了推断，本质上都是一个通过既有数据对未来进行了推断，例如此处我们判断硬币质地不均匀，其实背后的结论是单次抛硬币，出现正反面的结果并不服从p=0.5的伯努利分布，据此我们判断未来多次实验的实验结果数据分布也将不会是正反面各50%左右。"
   ]
  },
  {
   "cell_type": "markdown",
   "id": "a2cbe388-2b97-48b7-a041-08e9ee7df17e",
   "metadata": {},
   "source": [
    "- 假设检验在特征筛选过程中的应用"
   ]
  },
  {
   "cell_type": "markdown",
   "id": "2ada351e-8e57-46bc-887d-af6a24c5164c",
   "metadata": {},
   "source": [
    "&emsp;&emsp;假设检验在统计推断的方方面面都有非常多的应用，而在机器学习的特征筛选环节，我们也可以借助假设检验来进行特征是否有效的“先验”的判断。我们这里先简单以上述抛硬币为例，稍微进行一些拓展。例如现在数据集的标签是抛硬币的正反面结果，每一条数据是每一次抛硬币的记录，数据集的特征包括硬币生产的厂家，例如这里有两批分别来自A厂和B厂生产的游戏硬币，分别抽取A硬币和B硬币十枚并进行抛硬币实验，每一枚硬币抛一次，有实验数据如下："
   ]
  },
  {
   "cell_type": "markdown",
   "id": "e840cf60-0c73-4fc8-a393-374432ddd68a",
   "metadata": {},
   "source": [
    "<center><img src=\"https://s2.loli.net/2022/03/24/3kBlGsnroSpZXR6.png\" alt=\"image-20220324214236286\" style=\"zoom:50%;\" />"
   ]
  },
  {
   "cell_type": "markdown",
   "id": "ead02427-715c-4334-9b91-498f5a335ad7",
   "metadata": {},
   "source": [
    "很明显，此时我们可以借助假设检验，还是复用上述的流程，我们发现A厂商的硬币属于正常硬币，B厂商的硬币不正常，换而言之，就是生产厂商的不同对最后抛硬币的结果有很明显的影响，也就是特征厂商对标签取值分布有较大影响，那么该特征就是可用特征（例如按照厂商=0.5进行一层树模型的生长、能够很有效的完成对标签的区分）。此处就相当于借助假设检验探究了标签和特征之间的相互影响的关系。"
   ]
  },
  {
   "cell_type": "markdown",
   "id": "8a41bbfa-e7f0-420f-ba11-4f16eb4bbb8b",
   "metadata": {},
   "source": [
    "- 假设检验流程总结"
   ]
  },
  {
   "cell_type": "markdown",
   "id": "1dcb9f90-443d-4d2f-8218-8ff820fce324",
   "metadata": {},
   "source": [
    "&emsp;&emsp;不过需要注意的是，上述的假设检验是一个偏简单的过程，主要还是用来展示假设检验的一般过程，实际在进行离散变量的之间是否存在显著的相互影响关系，还是要进行更为严谨、同时也更为复杂的卡方检验（Chi-Squared Test）。而在介绍后续更复杂的假设检验之前，我们需要总结上述假设检验的关键环节，以帮助我们更快速的理解其他假设检验过程。"
   ]
  },
  {
   "cell_type": "markdown",
   "id": "c3845fc7-965f-4d54-a654-2e481cb1dfaa",
   "metadata": {},
   "source": [
    "<center><img src=\"https://s2.loli.net/2022/03/24/kC5vZdeLun2OY3g.png\" alt=\"假设检验流程\" style=\"zoom:40%;\" />"
   ]
  },
  {
   "cell_type": "markdown",
   "id": "5b248296-ed90-42e6-b1b1-f92f47ecad45",
   "metadata": {},
   "source": [
    "有了这些知识储备，接下来我们来看能够帮助我们进行特征筛选的卡方检验。"
   ]
  },
  {
   "cell_type": "markdown",
   "id": "b6267a73-dff8-4ffd-bc88-e7d0494ad979",
   "metadata": {},
   "source": [
    "> 注：上述假设检验的内容介绍旨在帮助同学更快速的掌握假设检验的精髓、并借此帮助大家更快速的理解后续借助假设检验进行特征筛选等相关内容。统计学博大精深，若深究此间各种概念，则需要进一步查阅相关专业数据，此处推荐《概率论与数理统计（陈希孺）》。"
   ]
  },
  {
   "cell_type": "markdown",
   "id": "064c4946-fd51-4f46-896d-185e1e1a5e14",
   "metadata": {
    "tags": []
   },
   "source": [
    "### 3.卡方检验（Chi-Squared Test）"
   ]
  },
  {
   "cell_type": "markdown",
   "id": "166eb36c-5249-475d-8326-64ee3104ba30",
   "metadata": {},
   "source": [
    "&emsp;&emsp;接下来，我们来看卡方检验。"
   ]
  },
  {
   "cell_type": "markdown",
   "id": "99712169-f011-4c1c-846d-7a12d0a394c1",
   "metadata": {},
   "source": [
    "&emsp;&emsp;在一般情况下，卡方检验是针对于离散变量的独立性检验，卡方检验的零假设为两个离散变量相互独立。很明显，如果我们将其用于标签和特征的判别，就能借此判断某特征和标签是不是独立的，如果是，则说明特征对标签的预测毫无帮助。因此在很多时候，卡方检验都是非常重要的剔除无关特征的方法。"
   ]
  },
  {
   "cell_type": "markdown",
   "id": "732e6290-8a1f-42ce-a588-09c102d90d13",
   "metadata": {},
   "source": [
    "#### 3.1 卡方检验流程"
   ]
  },
  {
   "cell_type": "markdown",
   "id": "c5fadfc5-9086-4f56-9208-9a9e09205be2",
   "metadata": {},
   "source": [
    "- Step 1.提出假设"
   ]
  },
  {
   "cell_type": "markdown",
   "id": "a8d65a5f-3f65-48c2-956d-2e573766d313",
   "metadata": {},
   "source": [
    "&emsp;&emsp;同样我们通过Telco数据集来阐述卡方检验的过程。这里我们挑选原数据集的Contract字段和标签来进行卡方检验，即判断这两个离散变量是否相互独立。即首先有如下假设："
   ]
  },
  {
   "cell_type": "markdown",
   "id": "6884929c-859a-4dad-a6ce-3584e9f0de0c",
   "metadata": {},
   "source": [
    "$$H_0:Contract字段和标签相互独立$$\n",
    "$$H_1:Contract字段和标签不相互独立$$"
   ]
  },
  {
   "cell_type": "markdown",
   "id": "f8d82272-8c29-4446-8b35-9641377f7c40",
   "metadata": {},
   "source": [
    "- Step 2.采集数据"
   ]
  },
  {
   "cell_type": "markdown",
   "id": "9cab3658-2829-4b25-b5b4-3513233c0ad3",
   "metadata": {},
   "source": [
    "&emsp;&emsp;然后我们需要围绕这个假设进行数据采集，这里我们挑选原数据集的Contract字段和标签来进行卡方检验，即判断这两个离散变量是否相互独立。对于Contract字段来说，按月付费用户为0、年度付费用户标记为1、两年一次付费用户标记为2。标签是Churn代表是否流失，0表示未流失、1表示流失："
   ]
  },
  {
   "cell_type": "code",
   "execution_count": 338,
   "id": "d6e4b606-b2f5-4283-82fa-aa6f5fec4b10",
   "metadata": {},
   "outputs": [
    {
     "data": {
      "text/plain": [
       "4067    2.0\n",
       "3306    0.0\n",
       "3391    0.0\n",
       "3249    0.0\n",
       "2674    0.0\n",
       "       ... \n",
       "5478    2.0\n",
       "356     0.0\n",
       "4908    0.0\n",
       "6276    1.0\n",
       "2933    2.0\n",
       "Name: Contract, Length: 5282, dtype: float64"
      ]
     },
     "execution_count": 338,
     "metadata": {},
     "output_type": "execute_result"
    }
   ],
   "source": [
    "X_train_OE['Contract']"
   ]
  },
  {
   "cell_type": "code",
   "execution_count": 339,
   "id": "c79d61df-a234-4526-9710-2f55823d0dee",
   "metadata": {},
   "outputs": [
    {
     "data": {
      "text/plain": [
       "[array(['Female', 'Male'], dtype=object),\n",
       " array([0, 1], dtype=int64),\n",
       " array(['No', 'Yes'], dtype=object),\n",
       " array(['No', 'Yes'], dtype=object),\n",
       " array(['No', 'Yes'], dtype=object),\n",
       " array(['No', 'No phone service', 'Yes'], dtype=object),\n",
       " array(['DSL', 'Fiber optic', 'No'], dtype=object),\n",
       " array(['No', 'No internet service', 'Yes'], dtype=object),\n",
       " array(['No', 'No internet service', 'Yes'], dtype=object),\n",
       " array(['No', 'No internet service', 'Yes'], dtype=object),\n",
       " array(['No', 'No internet service', 'Yes'], dtype=object),\n",
       " array(['No', 'No internet service', 'Yes'], dtype=object),\n",
       " array(['No', 'No internet service', 'Yes'], dtype=object),\n",
       " array(['Month-to-month', 'One year', 'Two year'], dtype=object),\n",
       " array(['No', 'Yes'], dtype=object),\n",
       " array(['Bank transfer (automatic)', 'Credit card (automatic)',\n",
       "        'Electronic check', 'Mailed check'], dtype=object)]"
      ]
     },
     "execution_count": 339,
     "metadata": {},
     "output_type": "execute_result"
    }
   ],
   "source": [
    "ord_enc.categories_"
   ]
  },
  {
   "cell_type": "code",
   "execution_count": 340,
   "id": "dadf7d12-2bb8-479c-b29d-0014691eebf4",
   "metadata": {},
   "outputs": [
    {
     "data": {
      "text/plain": [
       "4067    0\n",
       "3306    0\n",
       "3391    0\n",
       "3249    0\n",
       "2674    0\n",
       "       ..\n",
       "5478    0\n",
       "356     0\n",
       "4908    1\n",
       "6276    0\n",
       "2933    0\n",
       "Name: Churn, Length: 5282, dtype: int64"
      ]
     },
     "execution_count": 340,
     "metadata": {},
     "output_type": "execute_result"
    }
   ],
   "source": [
    "y_train"
   ]
  },
  {
   "cell_type": "markdown",
   "id": "a2bc4348-2429-4bad-bea1-6646f3340fe1",
   "metadata": {},
   "source": [
    "对于卡方检验来说，为了方便后续计算，我们需要对原始数据集进行关联汇总，并形成列联表，其实也就是按照标签不同取值进行分组求和，这里我们可以使用crosstab快速进行分组频数的统计："
   ]
  },
  {
   "cell_type": "code",
   "execution_count": 341,
   "id": "83136673-345d-49b8-8d4a-fc0030472d0d",
   "metadata": {},
   "outputs": [
    {
     "data": {
      "text/html": [
       "<div>\n",
       "<style scoped>\n",
       "    .dataframe tbody tr th:only-of-type {\n",
       "        vertical-align: middle;\n",
       "    }\n",
       "\n",
       "    .dataframe tbody tr th {\n",
       "        vertical-align: top;\n",
       "    }\n",
       "\n",
       "    .dataframe thead th {\n",
       "        text-align: right;\n",
       "    }\n",
       "</style>\n",
       "<table border=\"1\" class=\"dataframe\">\n",
       "  <thead>\n",
       "    <tr style=\"text-align: right;\">\n",
       "      <th>Contract</th>\n",
       "      <th>0.0</th>\n",
       "      <th>1.0</th>\n",
       "      <th>2.0</th>\n",
       "    </tr>\n",
       "    <tr>\n",
       "      <th>Churn</th>\n",
       "      <th></th>\n",
       "      <th></th>\n",
       "      <th></th>\n",
       "    </tr>\n",
       "  </thead>\n",
       "  <tbody>\n",
       "    <tr>\n",
       "      <th>0</th>\n",
       "      <td>1695</td>\n",
       "      <td>973</td>\n",
       "      <td>1233</td>\n",
       "    </tr>\n",
       "    <tr>\n",
       "      <th>1</th>\n",
       "      <td>1226</td>\n",
       "      <td>125</td>\n",
       "      <td>30</td>\n",
       "    </tr>\n",
       "  </tbody>\n",
       "</table>\n",
       "</div>"
      ],
      "text/plain": [
       "Contract   0.0  1.0   2.0\n",
       "Churn                    \n",
       "0         1695  973  1233\n",
       "1         1226  125    30"
      ]
     },
     "execution_count": 341,
     "metadata": {},
     "output_type": "execute_result"
    }
   ],
   "source": [
    "df_count = pd.crosstab(y_train, X_train_OE['Contract'])\n",
    "df_count"
   ]
  },
  {
   "cell_type": "markdown",
   "id": "bbce8b6d-ea34-443b-8d5d-83ca2f54324e",
   "metadata": {},
   "source": [
    "- Step 3.设计统计量"
   ]
  },
  {
   "cell_type": "markdown",
   "id": "1594b905-7cfe-4bd4-90fc-a2aa38e4b456",
   "metadata": {},
   "source": [
    "&emsp;&emsp;接下来，我们进一步进行统计量的设计。设计统计量的最终目的是为了能够量化的判断当前数据所表现出的情况是否能够支持或者拒绝原假设。当前检验的零假设是两个离散特征相互独立，而所谓的两个变量相互独立，指的是任意一个变量的取值不受到另一个变量取值的影响，对应当前数据，则是指Churn取得0或者1，不受Contract取值影响（也就是用户是否流失和签订合约形式无关）。这里我们可以试想，如果假设成立，即两个变量真的相互独立，那么在总体数据量不变的情况下，两个变量的列联表是可以有一个期望观测值的，通过对比理论上的期望观测值和真实值，我们就能够判断假设是否成立。这就好比在抛硬币的例子中，抛了10次硬币，如果“硬币质地均匀”的假设成立，则最有可能发生的情况就是5次正面5次反面，而由于实验数据距离期望假设较远，我们最终在二项分布统计量提供的概率结果协助下，拒绝了原假设。"
   ]
  },
  {
   "cell_type": "markdown",
   "id": "da28ddaa-e988-4fdf-8051-755377392a75",
   "metadata": {},
   "source": [
    "&emsp;&emsp;而就目前数据集而言，我们应该如何计算Contract和Churn取值的期望分布呢？这个过程其实也并不复杂，首先我们对df_count按行按列进行汇总："
   ]
  },
  {
   "cell_type": "code",
   "execution_count": 342,
   "id": "5be16d27-9e01-4aa1-a571-f6bf68f9ed20",
   "metadata": {},
   "outputs": [
    {
     "data": {
      "text/html": [
       "<div>\n",
       "<style scoped>\n",
       "    .dataframe tbody tr th:only-of-type {\n",
       "        vertical-align: middle;\n",
       "    }\n",
       "\n",
       "    .dataframe tbody tr th {\n",
       "        vertical-align: top;\n",
       "    }\n",
       "\n",
       "    .dataframe thead th {\n",
       "        text-align: right;\n",
       "    }\n",
       "</style>\n",
       "<table border=\"1\" class=\"dataframe\">\n",
       "  <thead>\n",
       "    <tr style=\"text-align: right;\">\n",
       "      <th>Contract</th>\n",
       "      <th>0.0</th>\n",
       "      <th>1.0</th>\n",
       "      <th>2.0</th>\n",
       "      <th>Churn-all</th>\n",
       "    </tr>\n",
       "    <tr>\n",
       "      <th>Churn</th>\n",
       "      <th></th>\n",
       "      <th></th>\n",
       "      <th></th>\n",
       "      <th></th>\n",
       "    </tr>\n",
       "  </thead>\n",
       "  <tbody>\n",
       "    <tr>\n",
       "      <th>0</th>\n",
       "      <td>1695</td>\n",
       "      <td>973</td>\n",
       "      <td>1233</td>\n",
       "      <td>3901</td>\n",
       "    </tr>\n",
       "    <tr>\n",
       "      <th>1</th>\n",
       "      <td>1226</td>\n",
       "      <td>125</td>\n",
       "      <td>30</td>\n",
       "      <td>1381</td>\n",
       "    </tr>\n",
       "    <tr>\n",
       "      <th>Contract-all</th>\n",
       "      <td>2921</td>\n",
       "      <td>1098</td>\n",
       "      <td>1263</td>\n",
       "      <td>5282</td>\n",
       "    </tr>\n",
       "  </tbody>\n",
       "</table>\n",
       "</div>"
      ],
      "text/plain": [
       "Contract       0.0   1.0   2.0  Churn-all\n",
       "Churn                                    \n",
       "0             1695   973  1233       3901\n",
       "1             1226   125    30       1381\n",
       "Contract-all  2921  1098  1263       5282"
      ]
     },
     "execution_count": 342,
     "metadata": {},
     "output_type": "execute_result"
    }
   ],
   "source": [
    "df_count_all = df_count.copy()\n",
    "\n",
    "df_count_all.loc['Contract-all'] = df_count.sum(0)\n",
    "df_count_all['Churn-all'] = df_count_all.sum(1)\n",
    "df_count_all"
   ]
  },
  {
   "cell_type": "markdown",
   "id": "62e48bf2-c642-43b9-89b0-4167d0095761",
   "metadata": {},
   "source": [
    "现在，我们假各变量总体数据分布不变，即Contract总共是有三个不同取值，Contract=0有2921位用户、Contract=1有1098名用户、Contract=2有1263名用户，而Churn有两个不同取值，Churn=0有3901名用户、Churn=1有1381名用户。在此统计结果基础上，𝐶𝑜𝑛𝑡𝑟𝑎𝑐𝑡取值分布如下：："
   ]
  },
  {
   "cell_type": "markdown",
   "id": "ed4239ff-7617-44f7-9534-bce5539e8651",
   "metadata": {},
   "source": [
    "$$P(Contract=0) = \\frac{2921}{5282} \\approx0.553$$"
   ]
  },
  {
   "cell_type": "markdown",
   "id": "ec5fbed4-5afc-4a1a-9f69-1b2d157caa21",
   "metadata": {},
   "source": [
    "$$P(Contract=1) = \\frac{1098}{5282} \\approx0.2078$$"
   ]
  },
  {
   "cell_type": "markdown",
   "id": "028725d9-81c8-4313-87a6-c2c86b0b7398",
   "metadata": {},
   "source": [
    "$$P(Contract=1) = \\frac{1263}{5282} \\approx 0.2391$$"
   ]
  },
  {
   "cell_type": "markdown",
   "id": "7348db04-3b48-4901-8f53-e8c2f5890cdf",
   "metadata": {},
   "source": [
    "同时，𝐶ℎ𝑢𝑟𝑛的取值分布如下："
   ]
  },
  {
   "cell_type": "markdown",
   "id": "3b88574c-8d5d-46b0-a3d3-9d61c682b692",
   "metadata": {},
   "source": [
    "$$P(Churn=0) = \\frac{3901}{5282} \\approx 0.7385$$"
   ]
  },
  {
   "cell_type": "markdown",
   "id": "9b4f5a8c-532b-4cfe-a138-6cd305a11960",
   "metadata": {},
   "source": [
    "$$P(Churn=1) = \\frac{1381}{5282} \\approx 0.2614$$"
   ]
  },
  {
   "cell_type": "markdown",
   "id": "382e7f16-8203-41d5-9b2f-e62e506a9930",
   "metadata": {},
   "source": [
    "现依据零假设，𝐶𝑜𝑛𝑡𝑟𝑎𝑐𝑡和𝐶ℎ𝑢𝑟𝑛相互独立，因此对于任意一名用户，同时𝐶𝑜𝑛𝑡𝑟𝑎𝑐𝑡=0且𝐶ℎ𝑢𝑟𝑛=0的概率为："
   ]
  },
  {
   "cell_type": "markdown",
   "id": "70822a06-bbdb-40e9-9869-608e5a8bd00d",
   "metadata": {},
   "source": [
    "$$P(Contract=0, Churn=0) = P(Contract=0) * P(Churn=0) = 0.533 * 0.7385 = 0.39$$"
   ]
  },
  {
   "cell_type": "markdown",
   "id": "38e183d0-eb3f-4cee-85a2-efd066ebbc07",
   "metadata": {},
   "source": [
    "> 根据联合概率计算公式，当A、B两个随机变量相互独立时，$P(A, B) = P(A)*P(B)$"
   ]
  },
  {
   "cell_type": "markdown",
   "id": "927f4c40-b604-4777-902b-fb4d1166c9b1",
   "metadata": {},
   "source": [
    "而目前，总共有5282名用户，因此在零假设的情况下，𝐶𝑜𝑛𝑡𝑟𝑎𝑐𝑡=0且𝐶ℎ𝑢𝑟𝑛=0的用户总数期望为："
   ]
  },
  {
   "cell_type": "markdown",
   "id": "b7f6901c-6da1-4f57-87f4-22526b8a3304",
   "metadata": {},
   "source": [
    "$$E_{0, 0} = P(Contract=0, Churn=0) * 5282 = 0.39*5282=2060$$"
   ]
  },
  {
   "cell_type": "markdown",
   "id": "52b7861b-3a75-49ec-8847-d258072143c8",
   "metadata": {},
   "source": [
    "而真实的统计结果是𝐶𝑜𝑛𝑡𝑟𝑎𝑐𝑡=0且𝐶ℎ𝑢𝑟𝑛=0总用户有1695，和期望人数有些差异，很明显，当实际人数和期望人数的差异越大，我们就越有理由怀疑零假设。但这种差异是不能通过𝐶𝑜𝑛𝑡𝑟𝑎𝑐𝑡和𝐶ℎ𝑢𝑟𝑛的一组取值结果来判定，我们还需要进一步查看列联表中其他位置的期望频数。"
   ]
  },
  {
   "cell_type": "code",
   "execution_count": 343,
   "id": "b16d5409-36d1-49d5-9620-7c5843398ed4",
   "metadata": {},
   "outputs": [
    {
     "data": {
      "text/html": [
       "<div>\n",
       "<style scoped>\n",
       "    .dataframe tbody tr th:only-of-type {\n",
       "        vertical-align: middle;\n",
       "    }\n",
       "\n",
       "    .dataframe tbody tr th {\n",
       "        vertical-align: top;\n",
       "    }\n",
       "\n",
       "    .dataframe thead th {\n",
       "        text-align: right;\n",
       "    }\n",
       "</style>\n",
       "<table border=\"1\" class=\"dataframe\">\n",
       "  <thead>\n",
       "    <tr style=\"text-align: right;\">\n",
       "      <th>Contract</th>\n",
       "      <th>0.0</th>\n",
       "      <th>1.0</th>\n",
       "      <th>2.0</th>\n",
       "    </tr>\n",
       "    <tr>\n",
       "      <th>Churn</th>\n",
       "      <th></th>\n",
       "      <th></th>\n",
       "      <th></th>\n",
       "    </tr>\n",
       "  </thead>\n",
       "  <tbody>\n",
       "    <tr>\n",
       "      <th>0</th>\n",
       "      <td>1695</td>\n",
       "      <td>973</td>\n",
       "      <td>1233</td>\n",
       "    </tr>\n",
       "    <tr>\n",
       "      <th>1</th>\n",
       "      <td>1226</td>\n",
       "      <td>125</td>\n",
       "      <td>30</td>\n",
       "    </tr>\n",
       "  </tbody>\n",
       "</table>\n",
       "</div>"
      ],
      "text/plain": [
       "Contract   0.0  1.0   2.0\n",
       "Churn                    \n",
       "0         1695  973  1233\n",
       "1         1226  125    30"
      ]
     },
     "execution_count": 343,
     "metadata": {},
     "output_type": "execute_result"
    }
   ],
   "source": [
    "df_count_temp = df_count.copy()\n",
    "df_count_temp"
   ]
  },
  {
   "cell_type": "markdown",
   "id": "1b730811-5890-4821-97d7-10412f87823a",
   "metadata": {},
   "source": [
    "此处我们仍然需要借助笛卡尔积遍历列表中的每个位置："
   ]
  },
  {
   "cell_type": "code",
   "execution_count": 344,
   "id": "ddf6132f-1a29-4a73-8b57-a164549d50e3",
   "metadata": {},
   "outputs": [],
   "source": [
    "from itertools import product"
   ]
  },
  {
   "cell_type": "code",
   "execution_count": 345,
   "id": "1f530c1f-7b70-4aff-b017-00fc6a2fec51",
   "metadata": {},
   "outputs": [
    {
     "name": "stdout",
     "output_type": "stream",
     "text": [
      "0 0\n",
      "0 1\n",
      "0 2\n",
      "1 0\n",
      "1 1\n",
      "1 2\n"
     ]
    }
   ],
   "source": [
    "for i, j in product(range(2), range(3)):\n",
    "    print(i, j)"
   ]
  },
  {
   "cell_type": "code",
   "execution_count": 346,
   "id": "f547c631-366c-430e-ac70-4230b4a7e1d0",
   "metadata": {},
   "outputs": [
    {
     "data": {
      "text/plain": [
       "30"
      ]
     },
     "execution_count": 346,
     "metadata": {},
     "output_type": "execute_result"
    }
   ],
   "source": [
    "df_count_temp.iloc[i, j]"
   ]
  },
  {
   "cell_type": "markdown",
   "id": "a8c91e43-407e-4d67-82c2-984706f79b1a",
   "metadata": {},
   "source": [
    "然后根据每个变量的统计结果计算期望频数："
   ]
  },
  {
   "cell_type": "code",
   "execution_count": 347,
   "id": "376fcb1f-f432-4e23-8f8b-9f4bf72c854a",
   "metadata": {},
   "outputs": [
    {
     "data": {
      "text/plain": [
       "Contract\n",
       "0.0          2921\n",
       "1.0          1098\n",
       "2.0          1263\n",
       "Churn-all    5282\n",
       "Name: Contract-all, dtype: int64"
      ]
     },
     "execution_count": 347,
     "metadata": {},
     "output_type": "execute_result"
    }
   ],
   "source": [
    "Contract_all = df_count_all.loc['Contract-all', :].copy()\n",
    "Contract_all"
   ]
  },
  {
   "cell_type": "code",
   "execution_count": 348,
   "id": "281189bb-cbb0-4d12-ab60-6fd7ddf1345c",
   "metadata": {},
   "outputs": [
    {
     "data": {
      "text/plain": [
       "Churn\n",
       "0               3901\n",
       "1               1381\n",
       "Contract-all    5282\n",
       "Name: Churn-all, dtype: int64"
      ]
     },
     "execution_count": 348,
     "metadata": {},
     "output_type": "execute_result"
    }
   ],
   "source": [
    "Churn_all = df_count_all.loc[:, 'Churn-all'].copy()\n",
    "Churn_all"
   ]
  },
  {
   "cell_type": "code",
   "execution_count": 349,
   "id": "869a89d0-6f25-4ccc-84c8-0a2bb47f0f50",
   "metadata": {},
   "outputs": [],
   "source": [
    "tol = 5282"
   ]
  },
  {
   "cell_type": "markdown",
   "id": "f5b47175-28a9-4a58-8911-beeae2d0338e",
   "metadata": {},
   "source": [
    "对于每个单元格，期望频数的计算应该是$(\\frac{Churn\\_all[i]}{tol}) * (\\frac{Contract\\_all[j]}{tol}) * tol$，等于$\\frac{Churn\\_all[i] * Contract\\_all[j]}{tol}$"
   ]
  },
  {
   "cell_type": "code",
   "execution_count": 350,
   "id": "948ae581-9fdd-43e9-aae6-67c9eb00fe68",
   "metadata": {},
   "outputs": [],
   "source": [
    "for i, j in product(range(2), range(3)):\n",
    "    Eij = Churn_all[i] * Contract_all[j] / tol\n",
    "    df_count_temp.iloc[i, j] = Eij"
   ]
  },
  {
   "cell_type": "code",
   "execution_count": 351,
   "id": "e5e8fa0d-6392-4451-9937-7f18ef8868bf",
   "metadata": {},
   "outputs": [
    {
     "data": {
      "text/html": [
       "<div>\n",
       "<style scoped>\n",
       "    .dataframe tbody tr th:only-of-type {\n",
       "        vertical-align: middle;\n",
       "    }\n",
       "\n",
       "    .dataframe tbody tr th {\n",
       "        vertical-align: top;\n",
       "    }\n",
       "\n",
       "    .dataframe thead th {\n",
       "        text-align: right;\n",
       "    }\n",
       "</style>\n",
       "<table border=\"1\" class=\"dataframe\">\n",
       "  <thead>\n",
       "    <tr style=\"text-align: right;\">\n",
       "      <th>Contract</th>\n",
       "      <th>0.0</th>\n",
       "      <th>1.0</th>\n",
       "      <th>2.0</th>\n",
       "    </tr>\n",
       "    <tr>\n",
       "      <th>Churn</th>\n",
       "      <th></th>\n",
       "      <th></th>\n",
       "      <th></th>\n",
       "    </tr>\n",
       "  </thead>\n",
       "  <tbody>\n",
       "    <tr>\n",
       "      <th>0</th>\n",
       "      <td>2157.292881</td>\n",
       "      <td>810.923514</td>\n",
       "      <td>932.783605</td>\n",
       "    </tr>\n",
       "    <tr>\n",
       "      <th>1</th>\n",
       "      <td>763.707119</td>\n",
       "      <td>287.076486</td>\n",
       "      <td>330.216395</td>\n",
       "    </tr>\n",
       "  </tbody>\n",
       "</table>\n",
       "</div>"
      ],
      "text/plain": [
       "Contract          0.0         1.0         2.0\n",
       "Churn                                        \n",
       "0         2157.292881  810.923514  932.783605\n",
       "1          763.707119  287.076486  330.216395"
      ]
     },
     "execution_count": 351,
     "metadata": {},
     "output_type": "execute_result"
    }
   ],
   "source": [
    "df_count_temp"
   ]
  },
  {
   "cell_type": "markdown",
   "id": "c953c0b8-4f36-4995-a216-f6519365f8f5",
   "metadata": {},
   "source": [
    "即为最终期望频数，对比统计频数表："
   ]
  },
  {
   "cell_type": "code",
   "execution_count": 352,
   "id": "6f29b61c-da62-419e-931f-baeda19c16ef",
   "metadata": {},
   "outputs": [
    {
     "data": {
      "text/html": [
       "<div>\n",
       "<style scoped>\n",
       "    .dataframe tbody tr th:only-of-type {\n",
       "        vertical-align: middle;\n",
       "    }\n",
       "\n",
       "    .dataframe tbody tr th {\n",
       "        vertical-align: top;\n",
       "    }\n",
       "\n",
       "    .dataframe thead th {\n",
       "        text-align: right;\n",
       "    }\n",
       "</style>\n",
       "<table border=\"1\" class=\"dataframe\">\n",
       "  <thead>\n",
       "    <tr style=\"text-align: right;\">\n",
       "      <th>Contract</th>\n",
       "      <th>0.0</th>\n",
       "      <th>1.0</th>\n",
       "      <th>2.0</th>\n",
       "    </tr>\n",
       "    <tr>\n",
       "      <th>Churn</th>\n",
       "      <th></th>\n",
       "      <th></th>\n",
       "      <th></th>\n",
       "    </tr>\n",
       "  </thead>\n",
       "  <tbody>\n",
       "    <tr>\n",
       "      <th>0</th>\n",
       "      <td>1695</td>\n",
       "      <td>973</td>\n",
       "      <td>1233</td>\n",
       "    </tr>\n",
       "    <tr>\n",
       "      <th>1</th>\n",
       "      <td>1226</td>\n",
       "      <td>125</td>\n",
       "      <td>30</td>\n",
       "    </tr>\n",
       "  </tbody>\n",
       "</table>\n",
       "</div>"
      ],
      "text/plain": [
       "Contract   0.0  1.0   2.0\n",
       "Churn                    \n",
       "0         1695  973  1233\n",
       "1         1226  125    30"
      ]
     },
     "execution_count": 352,
     "metadata": {},
     "output_type": "execute_result"
    }
   ],
   "source": [
    "df_count"
   ]
  },
  {
   "cell_type": "markdown",
   "id": "d227c5ab-5627-40d6-af0b-49e11b4c1bf6",
   "metadata": {},
   "source": [
    "为了衡量二者的差异，我们可以构造如下统计量："
   ]
  },
  {
   "cell_type": "markdown",
   "id": "5ea63f5e-e005-4afb-81de-7a354a2669e4",
   "metadata": {},
   "source": [
    "$$\\mathcal{X}^2 = \\sum_{i=1}^{m}\\sum_{j=1}^{n}\\frac{(O_{i,j}-E_{i,j})^2}{E_{i,j}}$$"
   ]
  },
  {
   "cell_type": "markdown",
   "id": "e533d659-5ee6-4812-acf6-bdb57ea43a24",
   "metadata": {},
   "source": [
    "其中i、j代表列联表的行和列，$O_{i,j}$表示i行j列的观测值（observe）、$E_{i,j}$表示期望值。而此处的$\\mathcal{X}^2$就是卡方值，也就是卡方检验中的统计量。我们可以通过如下方式进行卡方值的计算："
   ]
  },
  {
   "cell_type": "code",
   "execution_count": 353,
   "id": "07de2c36-c610-4d20-981a-b528c071afcf",
   "metadata": {},
   "outputs": [
    {
     "data": {
      "text/html": [
       "<div>\n",
       "<style scoped>\n",
       "    .dataframe tbody tr th:only-of-type {\n",
       "        vertical-align: middle;\n",
       "    }\n",
       "\n",
       "    .dataframe tbody tr th {\n",
       "        vertical-align: top;\n",
       "    }\n",
       "\n",
       "    .dataframe thead th {\n",
       "        text-align: right;\n",
       "    }\n",
       "</style>\n",
       "<table border=\"1\" class=\"dataframe\">\n",
       "  <thead>\n",
       "    <tr style=\"text-align: right;\">\n",
       "      <th>Contract</th>\n",
       "      <th>0.0</th>\n",
       "      <th>1.0</th>\n",
       "      <th>2.0</th>\n",
       "    </tr>\n",
       "    <tr>\n",
       "      <th>Churn</th>\n",
       "      <th></th>\n",
       "      <th></th>\n",
       "      <th></th>\n",
       "    </tr>\n",
       "  </thead>\n",
       "  <tbody>\n",
       "    <tr>\n",
       "      <th>0</th>\n",
       "      <td>99.066154</td>\n",
       "      <td>32.393668</td>\n",
       "      <td>96.624644</td>\n",
       "    </tr>\n",
       "    <tr>\n",
       "      <th>1</th>\n",
       "      <td>279.838570</td>\n",
       "      <td>91.504490</td>\n",
       "      <td>272.941881</td>\n",
       "    </tr>\n",
       "  </tbody>\n",
       "</table>\n",
       "</div>"
      ],
      "text/plain": [
       "Contract         0.0        1.0         2.0\n",
       "Churn                                      \n",
       "0          99.066154  32.393668   96.624644\n",
       "1         279.838570  91.504490  272.941881"
      ]
     },
     "execution_count": 353,
     "metadata": {},
     "output_type": "execute_result"
    }
   ],
   "source": [
    "np.power(df_count_temp - df_count, 2) / df_count_temp"
   ]
  },
  {
   "cell_type": "code",
   "execution_count": 354,
   "id": "f0883ae4-191a-4e4d-9335-e1feaceac2d6",
   "metadata": {},
   "outputs": [
    {
     "data": {
      "text/plain": [
       "872.369407342287"
      ]
     },
     "execution_count": 354,
     "metadata": {},
     "output_type": "execute_result"
    }
   ],
   "source": [
    "np.sum(np.power(df_count_temp - df_count, 2) / df_count_temp).sum()"
   ]
  },
  {
   "cell_type": "markdown",
   "id": "10063659-706d-4456-a2c3-d189b1976664",
   "metadata": {},
   "source": [
    "很明显，$\\mathcal{X}^2$越大，说明实际结果和期望结果差异越大，当然这里也会受到单元格数量的影响，因此我们需要用某种方式表示单元格对其的影响，对于卡方检验来说，就是所谓的自由度（degree of freedom，简称df或者dof），其影响的具体表现稍后再说，这里我们先介绍卡方检验的自由度的计算方式，对于二维列联表来说，自由度就是$(m-1)*(n-1)$，行数-1和列数-1的乘积："
   ]
  },
  {
   "cell_type": "code",
   "execution_count": 355,
   "id": "9987e0b4-eeb4-4236-ae75-50931975c0f2",
   "metadata": {},
   "outputs": [
    {
     "data": {
      "text/plain": [
       "2"
      ]
     },
     "execution_count": 355,
     "metadata": {},
     "output_type": "execute_result"
    }
   ],
   "source": [
    "(2-1) * (3-1)"
   ]
  },
  {
   "cell_type": "markdown",
   "id": "0e37b4c3-f305-45fa-810c-2c85fb21b0b3",
   "metadata": {},
   "source": [
    "即完整的卡方统计结果的表示方法如下："
   ]
  },
  {
   "cell_type": "markdown",
   "id": "80944dfb-eaa0-400c-9050-bed34824d915",
   "metadata": {},
   "source": [
    "$$\\mathcal{X}^2(2) = 872.369407342287$$"
   ]
  },
  {
   "cell_type": "markdown",
   "id": "a22ae023-9d37-456b-b379-25d78956a95e",
   "metadata": {},
   "source": [
    "&emsp;&emsp;在具体讨论关于$\\mathcal{X}^2(2)$概率大小之前，我们先思考一个问题，那就是列联表中绝对数值大小，是否也会影响到卡方检验呢？      \n",
    "&emsp;&emsp;在上述过程中，相信有小伙伴肯定会觉得列联表中绝对数值大小也会影响到最终卡方值的计算，事实上也是如此，但这却并不影响最终的结论判别。需要知道的是列联表中的数据都是频数统计结果，并不是带量纲的连续变量（如月消费金额），而频数统计结果大小本身也是能说明一定问题的，例如抛10次硬币，7次正面3次反面，我们据此判断硬币有问题，可能可信度并不是很高，但如果抛10万次硬币，发现7万次是正面3万次是反面，则基本能判断硬币肯定有问题。因此尽管列联表中频数大小会直接影响卡方值，但这种影响是需要被考虑的，是我们推翻或保留原结论的有效助力。"
   ]
  },
  {
   "cell_type": "markdown",
   "id": "a78bc9b8-db09-48d2-ad1b-0050a1883e6c",
   "metadata": {},
   "source": [
    "> 简而言之，数据量越大、越可信"
   ]
  },
  {
   "cell_type": "markdown",
   "id": "277adc1f-c80d-4ac1-bca4-0ddc072e05da",
   "metadata": {},
   "source": [
    "&emsp;&emsp;此外，需要注意的是，如果某统计量是我们为了假设检验而构造的，并且在零假设的情况下服从一个给定的概率分布，则也被称为统计检验量。此处卡方值其实就是一种统计量，并且在零假设的情况下服从卡方分布，因此是一个统计检验量。"
   ]
  },
  {
   "cell_type": "markdown",
   "id": "d5f7539c-2405-4d71-aea9-e356ff954b3d",
   "metadata": {},
   "source": [
    "> - 统计量、随机变量     \n",
    "&emsp;&emsp;这里进一步补充关于统计量、随机变量和随机变量分布的相关知识。简单理解，任何统计过程的结果都可以看成是一个统计量，如计算一组数值的均值、方差，这里的均值和方差都是统计量，并且是比较有名的统计量，此外例如我们这里计算的卡方值，本质上也是一个统计量，是通过计算期望频数和真实值之间的差值计算得到的统计量。      \n",
    "&emsp;&emsp;而随机变量，则是一种用于不确定性结果的概念，例如抛硬币的结果，我们可以将其视作随机变量X，该随机变量有可能取得“正面向上”的结果（另其为1），也有可能取得“反面向上”的结果（另其为0）。当然统计量和随机变量并不是彼此独立的，只是看待同一个事物的不同角度，在很多场景下，我们也会将统计量看成是随机变量的一次观测结果，例如上述的$\\mathcal{X}^2(2)$。        \n",
    "> - 随机变量与概率分布        \n",
    "&emsp;&emsp;当然，尽管随机变量的取值并不确定，但我们却能通过某种方式表示随机变量取值和对应概率之间的关系，也就是所谓的随机变量的概率分布。例如我们通过枚举的方式对随机变量的取值和概率进行描述，即P(X=0)=P(X=1)=0.5。同样，不同随机变量有不同的分布，但有些典型的分布会适用于很多离散变量，例如此前介绍的伯努利分布和二项分布，该分布不是针对某一个离散变量的描述、而是很多不同的离散变量都会表现出相同的分布特征，然后我们对这些经典分布进行了命名。        \n",
    "&emsp;&emsp;这里需要知道的是，对于离散型随机变量（只能取得有限个值）来说，枚举是最常见也是最有效的描述其随机变量分布的方法。而如果是连续性随机变量，如某地区居民的体重身高等，此时随机变量的概率分布就无法用枚举的方法来进行描述，而需要用概率密度曲线进行描述。连续型随机变量的分布规律千千万，但同样很多时候我们会发现很多连续型随机变量都会遵循某些经典分布，例如正态分布。      \n",
    "&emsp;&emsp;总结一下，离散型随机变量往往我们会用枚举法或者计算公式来表示其概率分布，而连续型随机变量我们则只能采用概率密度函数（本质上也是公式）来表示其概率分布。而如果某个随机变量我们能够找到其概率分布，就相当于是我们知道了其任意取值下的概率，换而言之，我们如果希望计算某随机变量的某个取值下的概率，就必须找到其概率分布。而卡方统计量，作为随机变量，我们希望知道$\\mathcal{X}^2(2)$的概率分布，就必须查阅卡方分布表。从实际作用来看，卡方分布表和随机变量的概率分布公式或者概率密度曲线的作用没有任何区别，都是查阅随机变量取值下的概率。"
   ]
  },
  {
   "cell_type": "markdown",
   "id": "fa23d3a8-b7c6-4c37-a900-0120d2ce793a",
   "metadata": {},
   "source": [
    "- Step 4-5.事件发生概率计算与统计推断"
   ]
  },
  {
   "cell_type": "markdown",
   "id": "e17b4d54-bf74-497e-bd37-f29c4aa41103",
   "metadata": {},
   "source": [
    "&emsp;&emsp;有了描述事件的统计量后，接下来我们需要依据这个统计量来计算这个事件发生的概率，即$\\mathcal{X}^2(2)=872$发生的概率是多少呢？该过程类似于我们计算在单次抛硬币结果满足伯努利分布的情况下，10次抛硬币中9次正面朝上出现的概率一样。不同的是，卡方统计量（随机变量）的分布无法用一个公式来进行描述，而是要查阅卡方分布表来判断$\\mathcal{X}^2(2)=872$发生的概率。"
   ]
  },
  {
   "cell_type": "markdown",
   "id": "77679dfb-be68-4758-a687-3db71614e01e",
   "metadata": {},
   "source": [
    "所谓卡方分布表，指的是记录了卡方统计量在不同自由度的情况下取得不同值的概率表，我们可以在很多统计书籍的附录或网上查到："
   ]
  },
  {
   "cell_type": "markdown",
   "id": "14097d40-33d6-463f-94b6-6dfac8a56be1",
   "metadata": {},
   "source": [
    "<center><img src=\"https://s2.loli.net/2022/04/11/wMcTGZSKHiRjpUJ.png\" alt=\"image-20220411113613274\" style=\"zoom:50%;\" />"
   ]
  },
  {
   "cell_type": "markdown",
   "id": "223a6169-d234-4528-a5a2-6a36cbfafdef",
   "metadata": {},
   "source": [
    "对于卡方统计表，首先我们找到自由度为2的一行，然后我们发现$\\mathcal{X}^2(2)=0.01$的概率为0.995，也就是说如果卡方统计结果为0.01，则99.5%的概率带入检验的两列相互独立，而伴随着卡方值越来越大，相互独立的概率也随之减少，例如当卡方值增长到4.6时，只有0.1的概率二者相互独立，而当卡方值取到13.82时，只有0.01的概率二者相互独立。很明显，此时卡方值为872，说明Contract和Churn相互独立的概率不到0.01。据此我们就有充分的理由拒绝零假设，即Contract和Churn并不是相互独立的。而基于该推论，我们也就得出了针对特征筛选环节的最终结论——保留Contract列。"
   ]
  },
  {
   "cell_type": "markdown",
   "id": "9fb59538-1b07-4f91-93c6-b1a872d368b6",
   "metadata": {},
   "source": [
    "> 此外，通过观察卡方分布表我们也发现，自由度越大，卡方检验对频数分布的期望与实际层面的差异的容忍度越高。具体原因不必深究，但需要注意的是自由度是会影响随机变量的概率分布的，不仅卡方值是如此，其他很多随机变量也是如此。"
   ]
  },
  {
   "cell_type": "markdown",
   "id": "8d3cf8e5-2268-4bbc-a62f-0c5eb771c324",
   "metadata": {
    "tags": []
   },
   "source": [
    "#### 3.2 借助scipy进行卡方检验"
   ]
  },
  {
   "cell_type": "markdown",
   "id": "d6176592-300c-4a92-aa43-131bff4d3113",
   "metadata": {},
   "source": [
    "- scipy计算函数"
   ]
  },
  {
   "cell_type": "markdown",
   "id": "a26e2e38-b4f9-4292-bda3-9c48851f22f6",
   "metadata": {},
   "source": [
    "&emsp;&emsp;当然，上述过程我们也可以通过scipy快速执行，这里我们需要调用scipy模块下的stats模块，并借助其中chi2_contingency函数完成相关计算："
   ]
  },
  {
   "cell_type": "code",
   "execution_count": 356,
   "id": "0acbdc7a-e5be-4da6-9ed2-6f6b7e674ad5",
   "metadata": {},
   "outputs": [],
   "source": [
    "from scipy import stats"
   ]
  },
  {
   "cell_type": "code",
   "execution_count": 357,
   "id": "e96af939-9b3c-44f2-9d2b-cd8150ae5e12",
   "metadata": {},
   "outputs": [
    {
     "data": {
      "text/html": [
       "<div>\n",
       "<style scoped>\n",
       "    .dataframe tbody tr th:only-of-type {\n",
       "        vertical-align: middle;\n",
       "    }\n",
       "\n",
       "    .dataframe tbody tr th {\n",
       "        vertical-align: top;\n",
       "    }\n",
       "\n",
       "    .dataframe thead th {\n",
       "        text-align: right;\n",
       "    }\n",
       "</style>\n",
       "<table border=\"1\" class=\"dataframe\">\n",
       "  <thead>\n",
       "    <tr style=\"text-align: right;\">\n",
       "      <th>Contract</th>\n",
       "      <th>0.0</th>\n",
       "      <th>1.0</th>\n",
       "      <th>2.0</th>\n",
       "    </tr>\n",
       "    <tr>\n",
       "      <th>Churn</th>\n",
       "      <th></th>\n",
       "      <th></th>\n",
       "      <th></th>\n",
       "    </tr>\n",
       "  </thead>\n",
       "  <tbody>\n",
       "    <tr>\n",
       "      <th>0</th>\n",
       "      <td>1695</td>\n",
       "      <td>973</td>\n",
       "      <td>1233</td>\n",
       "    </tr>\n",
       "    <tr>\n",
       "      <th>1</th>\n",
       "      <td>1226</td>\n",
       "      <td>125</td>\n",
       "      <td>30</td>\n",
       "    </tr>\n",
       "  </tbody>\n",
       "</table>\n",
       "</div>"
      ],
      "text/plain": [
       "Contract   0.0  1.0   2.0\n",
       "Churn                    \n",
       "0         1695  973  1233\n",
       "1         1226  125    30"
      ]
     },
     "execution_count": 357,
     "metadata": {},
     "output_type": "execute_result"
    }
   ],
   "source": [
    "df_count"
   ]
  },
  {
   "cell_type": "code",
   "execution_count": 358,
   "id": "6c90c276-95d0-4867-8d52-5efbe4b96318",
   "metadata": {},
   "outputs": [
    {
     "data": {
      "text/plain": [
       "(872.3694073422871,\n",
       " 3.6930918159708266e-190,\n",
       " 2,\n",
       " array([[2157.29288148,  810.92351382,  932.7836047 ],\n",
       "        [ 763.70711852,  287.07648618,  330.2163953 ]]))"
      ]
     },
     "execution_count": 358,
     "metadata": {},
     "output_type": "execute_result"
    }
   ],
   "source": [
    "stats.chi2_contingency(observed = df_count)"
   ]
  },
  {
   "cell_type": "markdown",
   "id": "471831ae-e0d6-4b4c-bd63-a646b025f68c",
   "metadata": {},
   "source": [
    "chi2_contingency函数返回了四个结果，分别是卡方值、概率值、自由度以及期望频数表，和我们此前手动计算结果完全一致。当然，如果不想每次都查阅卡方表，也可以通过如下方式根据卡方值和自由度进行概率p的计算："
   ]
  },
  {
   "cell_type": "code",
   "execution_count": 359,
   "id": "4cbb93a3-4b0c-46e9-950b-6efff80030c4",
   "metadata": {},
   "outputs": [
    {
     "data": {
      "text/plain": [
       "3.6930918159708266e-190"
      ]
     },
     "execution_count": 359,
     "metadata": {},
     "output_type": "execute_result"
    }
   ],
   "source": [
    "scipy.special.chdtrc(2, 872.3694073422871)"
   ]
  },
  {
   "cell_type": "markdown",
   "id": "784007bc-e528-4139-a468-746d0d668677",
   "metadata": {},
   "source": [
    "- p值评分与卡方评分"
   ]
  },
  {
   "cell_type": "markdown",
   "id": "c7d18214-90b1-4549-9776-844caff73ccb",
   "metadata": {},
   "source": [
    "&emsp;&emsp;需要注意的是，这里的p值既是事件发生的概率，同时也是我们后续在进行特征筛选时的一个评分，类似相关系数，p值越小说明越不独立，也就是说明这两个变量关联性越强。当然，除了p值意外，卡方值也可以作为评估关联性强弱的评分，卡方值越大、p值越小、不相关的假设越不成立、变量越相关。"
   ]
  },
  {
   "cell_type": "markdown",
   "id": "32951f86-0ec0-4a8c-b00a-a40f5a2136c5",
   "metadata": {},
   "source": [
    "#### 3.3 连续变量的卡方检验"
   ]
  },
  {
   "cell_type": "markdown",
   "id": "417db293-9071-4c93-b3cd-1039e22f5cd5",
   "metadata": {},
   "source": [
    "&emsp;&emsp;接下来，我们就可以考虑借助sklearn中的相关函数，通过卡方检验来进行特征筛选。不过这里需要注意的是，通常来说卡方检验是作用于离散变量之间的独立性检验，但sklearn中的卡方检验只需要参与检验的其中标签是离散特征即可，即sklearn中的卡方检验不仅可以作用于两个离散变量、还可以作用于连续变量和离散变量之间，因此我们这里需要补充介绍关于连续变量与离散变量之间的卡方检验计算流程。"
   ]
  },
  {
   "cell_type": "markdown",
   "id": "dbc4b7a1-112f-4f6e-a274-fada0d43acb7",
   "metadata": {},
   "source": [
    "- 连续变量的卡方检验过程"
   ]
  },
  {
   "cell_type": "markdown",
   "id": "fc6c29a4-a22c-4dfa-ab19-b711766132e2",
   "metadata": {},
   "source": [
    "&emsp;&emsp;其实关于连续变量和离散变量的卡方检验，其根本过程与离散变量间的卡方检验并没有本质区别，都是通过比较期望观测值和实际值来判断两个变量是否独立，只不过对于连续变量来说，无法通过列联表的方式进行频数的汇总统计。此处以MonthlyCharges作为连续变量与标签进行卡方检验，并说明该计算过程："
   ]
  },
  {
   "cell_type": "code",
   "execution_count": 360,
   "id": "564bc364-ae94-4f18-b85b-f0ccfca9fbc7",
   "metadata": {},
   "outputs": [
    {
     "data": {
      "text/plain": [
       "4067     79.60\n",
       "3306     80.00\n",
       "3391     19.00\n",
       "3249     55.55\n",
       "2674     20.05\n",
       "         ...  \n",
       "5478    106.30\n",
       "356      54.10\n",
       "4908    106.15\n",
       "6276     20.35\n",
       "2933     24.00\n",
       "Name: MonthlyCharges, Length: 5282, dtype: float64"
      ]
     },
     "execution_count": 360,
     "metadata": {},
     "output_type": "execute_result"
    }
   ],
   "source": [
    "X_train_OE['MonthlyCharges']"
   ]
  },
  {
   "cell_type": "code",
   "execution_count": 361,
   "id": "a8eb090f-240c-47d6-88a4-e6dd800b4a22",
   "metadata": {},
   "outputs": [
    {
     "data": {
      "text/plain": [
       "4067    0\n",
       "3306    0\n",
       "3391    0\n",
       "3249    0\n",
       "2674    0\n",
       "       ..\n",
       "5478    0\n",
       "356     0\n",
       "4908    1\n",
       "6276    0\n",
       "2933    0\n",
       "Name: Churn, Length: 5282, dtype: int64"
      ]
     },
     "execution_count": 361,
     "metadata": {},
     "output_type": "execute_result"
    }
   ],
   "source": [
    "y_train"
   ]
  },
  {
   "cell_type": "markdown",
   "id": "cb4444ad-3fcd-44e9-8afa-c43feca322f2",
   "metadata": {},
   "source": [
    "首先我们需要求得连续特征总和："
   ]
  },
  {
   "cell_type": "code",
   "execution_count": 362,
   "id": "bf0820e7-b92e-454a-a994-1abf87563b8a",
   "metadata": {},
   "outputs": [
    {
     "data": {
      "text/plain": [
       "341636.35"
      ]
     },
     "execution_count": 362,
     "metadata": {},
     "output_type": "execute_result"
    }
   ],
   "source": [
    "tol = X_train_OE['MonthlyCharges'].sum()\n",
    "tol"
   ]
  },
  {
   "cell_type": "markdown",
   "id": "97493956-c7ba-4a49-af12-1490dafc37b3",
   "metadata": {},
   "source": [
    "然后计算标签的不同取值占比："
   ]
  },
  {
   "cell_type": "code",
   "execution_count": 363,
   "id": "811c81f3-8109-4035-8a02-d2d58755b42e",
   "metadata": {},
   "outputs": [
    {
     "data": {
      "text/plain": [
       "(0.7385460053010223, 0.2614539946989777)"
      ]
     },
     "execution_count": 363,
     "metadata": {},
     "output_type": "execute_result"
    }
   ],
   "source": [
    "t1 = y_train.mean()\n",
    "t0 = 1-t1\n",
    "\n",
    "t0, t1"
   ]
  },
  {
   "cell_type": "markdown",
   "id": "f5ab33d3-d933-4a42-97cb-9373d0169b8d",
   "metadata": {},
   "source": [
    "也就是说在当前二分类标签y_train中，0类占比约0.73，1类占比约0.26。然后我们用总值tol分别乘以t0和t1，算得MonthlyCharges在0类用户和1类用户中的期望总值："
   ]
  },
  {
   "cell_type": "code",
   "execution_count": 364,
   "id": "ba5ff369-3771-44e3-bfc4-9a0291b1ca38",
   "metadata": {},
   "outputs": [
    {
     "data": {
      "text/plain": [
       "array([252314.16155812,  89322.18844188])"
      ]
     },
     "execution_count": 364,
     "metadata": {},
     "output_type": "execute_result"
    }
   ],
   "source": [
    "E0 = tol * t0\n",
    "E1 = tol * t1\n",
    "\n",
    "E = np.array([E0, E1])\n",
    "E"
   ]
  },
  {
   "cell_type": "markdown",
   "id": "45d67735-251e-4548-a8fc-0ec49b248fb1",
   "metadata": {},
   "source": [
    "而实际上，0类用户和1类用户的MonthlyCharges实际总值如下："
   ]
  },
  {
   "cell_type": "code",
   "execution_count": 365,
   "id": "78301504-846d-41bd-a2ac-6c0618283763",
   "metadata": {},
   "outputs": [
    {
     "data": {
      "text/plain": [
       "array([239683.75, 101952.6 ])"
      ]
     },
     "execution_count": 365,
     "metadata": {},
     "output_type": "execute_result"
    }
   ],
   "source": [
    "O1 = (X_train_OE['MonthlyCharges'] * y_train).sum()\n",
    "O0 = tol - O1\n",
    "\n",
    "O = np.array([O0, O1])\n",
    "O"
   ]
  },
  {
   "cell_type": "markdown",
   "id": "b87a307a-7fa5-4f83-bc85-3e7283f9297e",
   "metadata": {},
   "source": [
    "如此就算出了真实值和期望值的分布，接下来我们同样需要构建卡方统计量来衡量二者的差异，此时卡方值的计算过程和列联表的卡方值计算过程无异，都是求观测值和期望值差值的平方再除以期望值，最后进行求和。只不过此时涉及多行或者多列，直接计算即可："
   ]
  },
  {
   "cell_type": "markdown",
   "id": "8ef6345f-f9db-40eb-b572-c93963bca5e9",
   "metadata": {},
   "source": [
    "$$\\mathcal{X}^2 = \\sum_{i=1}^{m}\\sum_{j=1}^{n}\\frac{(O_{i,j}-E_{i,j})^2}{E_{i,j}}$$"
   ]
  },
  {
   "cell_type": "code",
   "execution_count": 366,
   "id": "ee1c1f8f-44fb-4467-9014-414fe46d1e99",
   "metadata": {},
   "outputs": [
    {
     "data": {
      "text/plain": [
       "2418.232735295197"
      ]
     },
     "execution_count": 366,
     "metadata": {},
     "output_type": "execute_result"
    }
   ],
   "source": [
    "chi2 = (np.power((O-E), 2) / E).sum()\n",
    "chi2"
   ]
  },
  {
   "cell_type": "markdown",
   "id": "5b594ae6-3e85-4aa0-ad6b-c78edb539244",
   "metadata": {},
   "source": [
    "能够发现，最后的卡方值仍然是一个非常大的值，而在连续变量和离散变量的卡方检验中，自由度是离散变量类别数-1，也就是2-1=1。也就是说当前计算结果为："
   ]
  },
  {
   "cell_type": "markdown",
   "id": "a1c6d518-0f5d-42e7-97c9-302fd965a07f",
   "metadata": {},
   "source": [
    "$$\\mathcal{X}^2(1) = 2418$$"
   ]
  },
  {
   "cell_type": "markdown",
   "id": "10a84900-3b20-4c42-a6e0-8799ab1c6a8f",
   "metadata": {},
   "source": [
    "根据此前我们查阅卡方表的经验来看，该值对应的概率一定是一个非常非常小的概率。也就是说，在假设——两个变量相互独立的情况下，当前数值结果是一个非常小概率的事件，因此我们有充分理由拒绝原假设，即两个变量并不独立。此处我们可以通过如下方式进行p值的计算："
   ]
  },
  {
   "cell_type": "code",
   "execution_count": 367,
   "id": "8bae4433-67c1-4452-a05f-a3a3e2500368",
   "metadata": {},
   "outputs": [
    {
     "data": {
      "text/plain": [
       "0.0"
      ]
     },
     "execution_count": 367,
     "metadata": {},
     "output_type": "execute_result"
    }
   ],
   "source": [
    "scipy.special.chdtrc(1, chi2)"
   ]
  },
  {
   "cell_type": "markdown",
   "id": "33b259b8-50f8-4088-8c4f-e89849e42c99",
   "metadata": {},
   "source": [
    "由于概率太小，在当前显示精度的情况下已经无法表示。"
   ]
  },
  {
   "cell_type": "markdown",
   "id": "e5093c8c-e2b8-4196-bbfc-a1f9773f603b",
   "metadata": {},
   "source": [
    "- 连续变量卡方检验注意事项"
   ]
  },
  {
   "cell_type": "markdown",
   "id": "97591364-1e1d-44c3-bfe3-e6d69ab3237f",
   "metadata": {},
   "source": [
    "&emsp;&emsp;上述检验过程尽管无误，但需要注意的是，连续变量的取值毕竟不是频数结果，最终的卡方值会严重受到连续变量的量纲影响，而这种影响对统计推断而言是无意义的，例如我们将'MonthlyCharges'缩小至原来的1/10。"
   ]
  },
  {
   "cell_type": "code",
   "execution_count": 368,
   "id": "96f20a45-2236-4e75-9ccd-96d3d7702c0d",
   "metadata": {},
   "outputs": [
    {
     "data": {
      "text/plain": [
       "241.82327352952004"
      ]
     },
     "execution_count": 368,
     "metadata": {},
     "output_type": "execute_result"
    }
   ],
   "source": [
    "tol = (X_train_OE['MonthlyCharges'] * 0.1).sum()\n",
    "\n",
    "t1 = y_train.mean()\n",
    "t0 = 1-t1\n",
    "\n",
    "E0 = tol * t0\n",
    "E1 = tol * t1\n",
    "\n",
    "E = np.array([E0, E1])\n",
    "\n",
    "O1 = (X_train_OE['MonthlyCharges'] * 0.1 * y_train).sum()\n",
    "O0 = tol - O1\n",
    "O = np.array([O0, O1])\n",
    "\n",
    "chi2 = (np.power((O-E), 2) / E).sum()\n",
    "chi2"
   ]
  },
  {
   "cell_type": "code",
   "execution_count": 369,
   "id": "f439e6ba-0c15-4336-834f-3091fdea3133",
   "metadata": {},
   "outputs": [
    {
     "data": {
      "text/plain": [
       "1.5745507037607935e-54"
      ]
     },
     "execution_count": 369,
     "metadata": {},
     "output_type": "execute_result"
    }
   ],
   "source": [
    "scipy.special.chdtrc(1, chi2)"
   ]
  },
  {
   "cell_type": "markdown",
   "id": "4f29297b-1730-4798-9d25-1ba6c6e7920e",
   "metadata": {},
   "source": [
    "我们发现卡方值和最终的p值都发生了变化。但这个过程并不能说明调整量纲后'MonthlyCharges'和标签的关联性就发生了变化（量纲的改变并不影响最终建模结果），因此这种数值调整对最终的统计推断是毫无意义的，进一步也就是说，上述计算的p值和卡方值结果其实并不具备绝对值大小的参考意义。这其实也是带入连续变量进行卡方检验不够严谨的地方。"
   ]
  },
  {
   "cell_type": "markdown",
   "id": "fafaa442-3cbd-4705-95d4-4caad84e9d56",
   "metadata": {},
   "source": [
    "&emsp;&emsp;因此，在实际进行连续变量的卡方检验过程中，建议先对原始变量进行标准化处理，该过程会将所有连续变量取值放缩至类似水平，同样也会将p值和卡方值放缩至同样水平，然后我们在单独针对连续变量进行BestK筛选，而不建议同时比较连续变量和离散变量的K值然后在一个流程中进行筛选（因为连续变量的p值和卡方值没有绝对大小的意义）。"
   ]
  },
  {
   "cell_type": "markdown",
   "id": "99d11e3d-5ac7-4a43-a8de-9e0c8458f81d",
   "metadata": {},
   "source": [
    "#### 3.4 借助sklearn进行卡方检验特征筛选"
   ]
  },
  {
   "cell_type": "markdown",
   "id": "b81b6063-eee8-4710-be3d-1732280db43a",
   "metadata": {},
   "source": [
    "- 评分函数"
   ]
  },
  {
   "cell_type": "markdown",
   "id": "47fe87da-a2bd-44fb-b8af-b616af2548f1",
   "metadata": {},
   "source": [
    "&emsp;&emsp;在了解卡方检验的计算流程后，接下来，我们尝试借助sklearn进行基于卡方检验的特征筛选。该过程同样涉及评分函数和筛选评估器两部分，此处筛选评估器仍然选用SelectKBest，而卡方检验的评分函数是chi2："
   ]
  },
  {
   "cell_type": "code",
   "execution_count": 370,
   "id": "2de2b2ff-5db9-4c1c-a89a-3a48202bc28c",
   "metadata": {},
   "outputs": [],
   "source": [
    "from sklearn.feature_selection import chi2"
   ]
  },
  {
   "cell_type": "code",
   "execution_count": 371,
   "id": "d312afa1-9a6e-4eb4-93fb-85791b7d3a33",
   "metadata": {
    "tags": []
   },
   "outputs": [
    {
     "data": {
      "text/plain": [
       "\u001b[1;31mSignature:\u001b[0m \u001b[0mchi2\u001b[0m\u001b[1;33m(\u001b[0m\u001b[0mX\u001b[0m\u001b[1;33m,\u001b[0m \u001b[0my\u001b[0m\u001b[1;33m)\u001b[0m\u001b[1;33m\u001b[0m\u001b[1;33m\u001b[0m\u001b[0m\n",
       "\u001b[1;31mDocstring:\u001b[0m\n",
       "Compute chi-squared stats between each non-negative feature and class.\n",
       "\n",
       "This score can be used to select the n_features features with the\n",
       "highest values for the test chi-squared statistic from X, which must\n",
       "contain only non-negative features such as booleans or frequencies\n",
       "(e.g., term counts in document classification), relative to the classes.\n",
       "\n",
       "Recall that the chi-square test measures dependence between stochastic\n",
       "variables, so using this function \"weeds out\" the features that are the\n",
       "most likely to be independent of class and therefore irrelevant for\n",
       "classification.\n",
       "\n",
       "Read more in the :ref:`User Guide <univariate_feature_selection>`.\n",
       "\n",
       "Parameters\n",
       "----------\n",
       "X : {array-like, sparse matrix} of shape (n_samples, n_features)\n",
       "    Sample vectors.\n",
       "\n",
       "y : array-like of shape (n_samples,)\n",
       "    Target vector (class labels).\n",
       "\n",
       "Returns\n",
       "-------\n",
       "chi2 : ndarray of shape (n_features,)\n",
       "    Chi2 statistics for each feature.\n",
       "\n",
       "p_values : ndarray of shape (n_features,)\n",
       "    P-values for each feature.\n",
       "\n",
       "Notes\n",
       "-----\n",
       "Complexity of this algorithm is O(n_classes * n_features).\n",
       "\n",
       "See Also\n",
       "--------\n",
       "f_classif : ANOVA F-value between label/feature for classification tasks.\n",
       "f_regression : F-value between label/feature for regression tasks.\n",
       "\u001b[1;31mFile:\u001b[0m      d:\\anaconda3\\lib\\site-packages\\sklearn\\feature_selection\\_univariate_selection.py\n",
       "\u001b[1;31mType:\u001b[0m      function\n"
      ]
     },
     "metadata": {},
     "output_type": "display_data"
    }
   ],
   "source": [
    "chi2?"
   ]
  },
  {
   "cell_type": "markdown",
   "id": "bb6ff156-816c-4adf-b98d-f4c3762fec1b",
   "metadata": {},
   "source": [
    "只看函数说明，我们可能觉得这就是个简单的输入X、Y两列，然后计算卡方值并卡方检验的函数，最终输出卡方值和p值。但实际情况可能并没有那么简单，我们简单测试离散变量Contract和标签进行卡方检验、以及连续变量MonthlyCharges和标签进行卡方检验的结果："
   ]
  },
  {
   "cell_type": "code",
   "execution_count": 372,
   "id": "ad4b70ea-e78c-46c3-b99f-809f07abd5e1",
   "metadata": {},
   "outputs": [
    {
     "data": {
      "text/plain": [
       "(array([830.86265549]), array([1.05225513e-182]))"
      ]
     },
     "execution_count": 372,
     "metadata": {},
     "output_type": "execute_result"
    }
   ],
   "source": [
    "chi2(X_train_OE['Contract'].values.reshape(-1, 1), y_train.values.reshape(-1, 1))"
   ]
  },
  {
   "cell_type": "code",
   "execution_count": 373,
   "id": "20625e62-b51c-4859-adf3-c92e4526d314",
   "metadata": {},
   "outputs": [
    {
     "data": {
      "text/plain": [
       "(array([2418.2327353]), array([0.]))"
      ]
     },
     "execution_count": 373,
     "metadata": {},
     "output_type": "execute_result"
    }
   ],
   "source": [
    "chi2(X_train_OE['MonthlyCharges'].values.reshape(-1, 1), y_train.values.reshape(-1, 1))"
   ]
  },
  {
   "cell_type": "markdown",
   "id": "00431d68-ff14-413c-854b-6b6a92a10cf8",
   "metadata": {},
   "source": [
    "我们发现连续变量的结果和手动实现结果一致，而离散变量的卡方检验结果和此前手动实现的结果略有差异。通过查阅sklearn源码我们发现，差异的来源是因为sklearn其实是采用类似连续变量的卡方检验流程来进行的离散变量卡方检验。其实这也并不奇怪，对于sklearn来说，默认是不区分连续变量和离散变量的，因此二者采用相同的计算流程也不足为奇。我们尝试使用连续变量的计算流程来进行离散变量的卡方检验，得到结果如下："
   ]
  },
  {
   "cell_type": "code",
   "execution_count": 374,
   "id": "c54e4360-dde0-49df-a1c8-3fc7a5714181",
   "metadata": {},
   "outputs": [
    {
     "data": {
      "text/plain": [
       "830.8626554912448"
      ]
     },
     "execution_count": 374,
     "metadata": {},
     "output_type": "execute_result"
    }
   ],
   "source": [
    "tol = X_train_OE['Contract'].sum()\n",
    "\n",
    "t1 = y_train.mean()\n",
    "t0 = 1-t1\n",
    "\n",
    "E0 = tol * t0\n",
    "E1 = tol * t1\n",
    "\n",
    "E = np.array([E0, E1])\n",
    "\n",
    "O1 = (X_train_OE['Contract'] * y_train).sum()\n",
    "O0 = tol - O1\n",
    "O = np.array([O0, O1])\n",
    "\n",
    "chi2_temp = (np.power((O-E), 2) / E).sum()\n",
    "chi2_temp"
   ]
  },
  {
   "cell_type": "markdown",
   "id": "51dca964-8d5d-4078-a887-f28ef833e91a",
   "metadata": {},
   "source": [
    "此时计算结果即和chi2函数计算结果一致。当然这里的略微差异并不会对最终的结果有根本影响，但我们仍然需要清楚的认识到sklearn中的卡方检验并不是标准意义上的卡方检验，并且计算过程中的自由度也不再是列联表行数-1和列数-1相乘的结果，而是标签取值水平-1。当然，在得出卡方值和自由度之后，sklearn中的卡方检验也是根据special.chdtrc函数计算得出的结果："
   ]
  },
  {
   "cell_type": "code",
   "execution_count": 375,
   "id": "d64e4d18-0e28-4095-b40d-45c3e2652f2b",
   "metadata": {},
   "outputs": [
    {
     "data": {
      "text/plain": [
       "1.0522551320898455e-182"
      ]
     },
     "execution_count": 375,
     "metadata": {},
     "output_type": "execute_result"
    }
   ],
   "source": [
    "scipy.special.chdtrc(1, chi2_temp)"
   ]
  },
  {
   "cell_type": "markdown",
   "id": "8359d09e-edd0-46f3-baa9-98f60ba89209",
   "metadata": {},
   "source": [
    "&emsp;&emsp;当然，在sklearn中这么设计计算流程还有另一个好处，那就是可以统一自由度。原生的卡方检验的自由度是同时受到两个离散变量类别个数影响，此时带入不同离散变量时自由度可能不同，而不同的自由度将影响评分数值绝对值的有效性（自由度越高对评分大值容忍度就越高），也会影响后续根据评分结果进行特征筛选的过程。"
   ]
  },
  {
   "cell_type": "markdown",
   "id": "19a62f8e-a1b7-4b78-8e8a-c56c2b0eac0c",
   "metadata": {},
   "source": [
    "- 特征筛选"
   ]
  },
  {
   "cell_type": "markdown",
   "id": "ee2f4aab-c92a-4dc1-bcef-d77de7740c28",
   "metadata": {},
   "source": [
    "&emsp;&emsp;而在最终的SelectKBest筛选过程，实际上是按照卡方值的大小，筛选卡方值最大的k个特征(不是按照p值进行筛选)。根据卡方检验的计算流程，卡方值不会存在负数情况，并且卡方值越大、说明变量之间关联关系越强。相关实现流程如下："
   ]
  },
  {
   "cell_type": "code",
   "execution_count": 376,
   "id": "89e8fdcc-1fb3-471f-a061-6434e83006fc",
   "metadata": {},
   "outputs": [
    {
     "data": {
      "text/plain": [
       "SelectKBest(score_func=<function chi2 at 0x000001D4349A6F70>)"
      ]
     },
     "execution_count": 376,
     "metadata": {},
     "output_type": "execute_result"
    }
   ],
   "source": [
    "KB_chi2 = SelectKBest(chi2, k=10)\n",
    "KB_chi2.fit(X_train_OE, y_train)"
   ]
  },
  {
   "cell_type": "code",
   "execution_count": 377,
   "id": "880db7ed-9b4c-4237-aa8f-0a4afef010eb",
   "metadata": {},
   "outputs": [
    {
     "data": {
      "text/plain": [
       "array([9.11414942e-01, 8.73653155e+01, 6.99267855e+01, 8.58416151e+01,\n",
       "       3.28337137e-03, 5.05565036e+00, 9.87028913e+00, 4.70600801e+02,\n",
       "       1.79111384e+02, 1.66587107e+02, 4.13243802e+02, 6.73755161e+00,\n",
       "       1.06279915e+01, 8.30862655e+02, 7.51550195e+01, 5.15568690e+01,\n",
       "       1.26971147e+04, 2.41823274e+03, 5.31943415e+05])"
      ]
     },
     "execution_count": 377,
     "metadata": {},
     "output_type": "execute_result"
    }
   ],
   "source": [
    "KB_chi2.scores_"
   ]
  },
  {
   "cell_type": "code",
   "execution_count": 378,
   "id": "bc76e3e0-925d-470f-821f-7cf2da69122b",
   "metadata": {},
   "outputs": [
    {
     "data": {
      "text/plain": [
       "array([3.39739272e-001, 9.02188129e-021, 6.15469914e-017, 1.94940242e-020,\n",
       "       9.54305655e-001, 2.45457682e-002, 1.67969111e-003, 2.37153824e-104,\n",
       "       7.57606574e-041, 4.11736822e-038, 7.21175221e-092, 9.44041024e-003,\n",
       "       1.11388631e-003, 1.05225513e-182, 4.35169013e-018, 6.95529154e-013,\n",
       "       0.00000000e+000, 0.00000000e+000, 0.00000000e+000])"
      ]
     },
     "execution_count": 378,
     "metadata": {},
     "output_type": "execute_result"
    }
   ],
   "source": [
    "KB_chi2.pvalues_"
   ]
  },
  {
   "cell_type": "code",
   "execution_count": 379,
   "id": "d80df6e2-5322-4ec4-a5de-e3806050fe77",
   "metadata": {},
   "outputs": [
    {
     "data": {
      "text/plain": [
       "array([[0.0000e+00, 0.0000e+00, 2.0000e+00, ..., 6.8000e+01, 7.9600e+01,\n",
       "        5.5158e+03],\n",
       "       [0.0000e+00, 1.0000e+00, 0.0000e+00, ..., 3.0000e+00, 8.0000e+01,\n",
       "        2.4130e+02],\n",
       "       [0.0000e+00, 0.0000e+00, 1.0000e+00, ..., 4.0000e+00, 1.9000e+01,\n",
       "        7.3450e+01],\n",
       "       ...,\n",
       "       [1.0000e+00, 0.0000e+00, 0.0000e+00, ..., 2.8000e+01, 1.0615e+02,\n",
       "        3.1525e+03],\n",
       "       [0.0000e+00, 1.0000e+00, 1.0000e+00, ..., 1.5000e+01, 2.0350e+01,\n",
       "        3.3595e+02],\n",
       "       [0.0000e+00, 1.0000e+00, 1.0000e+00, ..., 6.8000e+01, 2.4000e+01,\n",
       "        1.6643e+03]])"
      ]
     },
     "execution_count": 379,
     "metadata": {},
     "output_type": "execute_result"
    }
   ],
   "source": [
    "X_chi2_new = KB_chi2.transform(X_train_OE)\n",
    "X_chi2_new"
   ]
  },
  {
   "cell_type": "code",
   "execution_count": 380,
   "id": "24871ffd-8211-4b29-a0e2-4d5a58179fc2",
   "metadata": {},
   "outputs": [
    {
     "data": {
      "text/plain": [
       "['SeniorCitizen',\n",
       " 'Dependents',\n",
       " 'OnlineSecurity',\n",
       " 'OnlineBackup',\n",
       " 'DeviceProtection',\n",
       " 'TechSupport',\n",
       " 'Contract',\n",
       " 'tenure',\n",
       " 'MonthlyCharges',\n",
       " 'TotalCharges']"
      ]
     },
     "execution_count": 380,
     "metadata": {},
     "output_type": "execute_result"
    }
   ],
   "source": [
    "SelectName(KB_chi2)"
   ]
  },
  {
   "cell_type": "markdown",
   "id": "a985eea6-5764-42ec-929f-6bc625acfcbe",
   "metadata": {},
   "source": [
    "> 注，此处因为连续变量不多，且主要目的为展示卡方检验筛选特征的流程，因此并未进行区分连续变量和离散变量、以及对连续变量进行标准化处理等操作。实际针对海量特征进行筛选时，建议执行更严谨的流程。"
   ]
  },
  {
   "cell_type": "markdown",
   "id": "9a4fad0f-1098-4216-971a-e06459ebcba1",
   "metadata": {},
   "source": [
    "- 通过设置显著性水平进行特征筛选"
   ]
  },
  {
   "cell_type": "markdown",
   "id": "55d5f643-c38f-4291-8513-6354f8cd1c71",
   "metadata": {},
   "source": [
    "&emsp;&emsp;当然，既然都选择卡方检验来进行特征筛选了，我们也可以尝试以显著性水平来进行特征筛选。例如我们设置显著性水平为0.01，则p值小于显著性水平的就是可以拒绝零假设的范畴，即p值小于0.01时两个特征存在显著的关联关系，筛选过程如下："
   ]
  },
  {
   "cell_type": "code",
   "execution_count": 381,
   "id": "c9280cd2-e02f-4298-a9bb-a3f1dc05cc72",
   "metadata": {},
   "outputs": [],
   "source": [
    "def SelectName_P(P, KB):\n",
    "    \"\"\"\n",
    "    根据显著性水平筛选特征\n",
    "    \n",
    "    :param P: 显著性水平\n",
    "    :param KB: 训练好的SelectKBest评估器\n",
    "    \n",
    "    :return：筛选后的列名称 \n",
    "    \n",
    "    \"\"\"\n",
    "    col_names = []\n",
    "    \n",
    "    for pvalues, cols in zip(KB.pvalues_, KB.feature_names_in_):\n",
    "        if pvalues <= P:\n",
    "            col_names.append(cols)\n",
    "            \n",
    "    return col_names"
   ]
  },
  {
   "cell_type": "code",
   "execution_count": 382,
   "id": "69c2ed3a-73fc-4c28-96a3-e16ce67e1cb4",
   "metadata": {
    "tags": []
   },
   "outputs": [
    {
     "data": {
      "text/plain": [
       "['SeniorCitizen',\n",
       " 'Partner',\n",
       " 'Dependents',\n",
       " 'InternetService',\n",
       " 'OnlineSecurity',\n",
       " 'OnlineBackup',\n",
       " 'DeviceProtection',\n",
       " 'TechSupport',\n",
       " 'StreamingTV',\n",
       " 'StreamingMovies',\n",
       " 'Contract',\n",
       " 'PaperlessBilling',\n",
       " 'PaymentMethod',\n",
       " 'tenure',\n",
       " 'MonthlyCharges',\n",
       " 'TotalCharges']"
      ]
     },
     "execution_count": 382,
     "metadata": {},
     "output_type": "execute_result"
    }
   ],
   "source": [
    "SelectName_P(0.01, KB_chi2)"
   ]
  },
  {
   "cell_type": "markdown",
   "id": "10b78c81-248f-4183-8139-5c72fd24324f",
   "metadata": {
    "tags": []
   },
   "source": [
    "### 4.方差分析（Analysis of Variance，简称ANOVA）"
   ]
  },
  {
   "cell_type": "markdown",
   "id": "8a43e4f5-7df4-43e8-bf0a-0e7506e975b2",
   "metadata": {},
   "source": [
    "&emsp;&emsp;正如此前所说，卡方检验更多的会考虑在衡量两个离散变量是否独立时使用，如果是连续变量和离散变量之间的独立性，更常见的做法是进行方差分析。"
   ]
  },
  {
   "cell_type": "markdown",
   "id": "04a1d4a6-6796-4b69-a79b-bb521d0aca44",
   "metadata": {},
   "source": [
    "#### 4.1 方差分析流程"
   ]
  },
  {
   "cell_type": "markdown",
   "id": "8650ed71-f5d4-4010-a29f-52b5f89198ed",
   "metadata": {},
   "source": [
    "&emsp;&emsp;方差分析也是一种假设检验，因此我们仍然会采用介绍假设检验的一般流程来介绍方差分析。"
   ]
  },
  {
   "cell_type": "markdown",
   "id": "81c3aa97-d597-442d-b5f3-5868fcdb469c",
   "metadata": {},
   "source": [
    "- Step 1.提出假设"
   ]
  },
  {
   "cell_type": "markdown",
   "id": "253e7ab7-00e7-4d58-8936-34c1ab800ffb",
   "metadata": {},
   "source": [
    "&emsp;&emsp;首先第一步是提出假设，不像卡方检验的零假设那样直接明了、就是假设变量之间相互独立，方差分析的零假设会更加复杂一些，而理解方差分析的零假设也会需要一些统计学背景知识。这里我们先提出方差分析的零假设，然后再解释为何这样的假设能够帮助我们判断连续变量和离散变量之间是否独立。"
   ]
  },
  {
   "cell_type": "markdown",
   "id": "cdc957d5-a14c-4380-8922-fc489cd96f14",
   "metadata": {},
   "source": [
    "这里我们选取月消费金额和标签作为分析的对象，方差分析零假设如下："
   ]
  },
  {
   "cell_type": "markdown",
   "id": "eae9da70-829c-4d04-a910-5784668548d1",
   "metadata": {},
   "source": [
    "$$H_0:流失用户群体和非流失用户群体的月消费金额没有差异$$\n",
    "$$H_1:流失用户群体和非流失用户群体的月消费金额存在显著差异$$"
   ]
  },
  {
   "cell_type": "markdown",
   "id": "8bffb329-214c-4539-bb60-074f75f3e114",
   "metadata": {},
   "source": [
    "这里有两点需要解释，其一是该假设如何帮助我们筛选特征，其二则是我们如何衡量两类不同的消费群体在月消费金额这个指标上是否存在差异。"
   ]
  },
  {
   "cell_type": "markdown",
   "id": "d2b0527c-d8ec-4625-833b-7548267ff6bb",
   "metadata": {},
   "source": [
    "&emsp;&emsp;首先，是关于该假设如何帮助我们进行特征筛选。"
   ]
  },
  {
   "cell_type": "markdown",
   "id": "f11f332c-b097-4f1f-9787-4559171ed3db",
   "metadata": {},
   "source": [
    "&emsp;&emsp;我们知道，在建模的过程中，如果月消费金额这一字段对标签取值的预测能够起到帮助作用，一定是因为这个字段对标签具备一定的区分度，例如流失用户可能普遍月消费金额比较低，那么我们就能通过月消费金额较低的角度对用户是否可能会流失进行提前的预判；而反之，如果流失用户和非流失用户，这两批用户在月消费金额的角度完全看不出差异，那么月消费金额这一字段也不太可能对后续建模提供任何有效信息，该字段完全可以考虑删除。"
   ]
  },
  {
   "cell_type": "markdown",
   "id": "c6e7504b-e2b9-48cf-a7e1-cd7e70149abb",
   "metadata": {},
   "source": [
    "&emsp;&emsp;其次，是关于我们如何判别这两类不同的群体是否存在差异。"
   ]
  },
  {
   "cell_type": "markdown",
   "id": "ebd1e935-86db-400f-bfdf-ebf77b4da316",
   "metadata": {},
   "source": [
    "&emsp;&emsp;首先我们需要知道，统计学里判别两个样本是否存在差异，其实实在判别这两个样本是否取自不同的总体，也就是说这两个样本的差异（如果有的话），是否是统计误差导致、还是因为抽样自不同的总体。如果能判断样本取自不同的总体，则能判断两类样本存在明显差异，反之则不行。"
   ]
  },
  {
   "cell_type": "markdown",
   "id": "c371da09-7425-4366-b55b-1f928084853a",
   "metadata": {},
   "source": [
    "&emsp;&emsp;那要怎么判断样本是否源于不同总体呢？这里就需要回顾此前介绍的，关于样本和总体的统计指标一致性的特点，也就是说很多时候，样本的统计指标会和总体趋于一致。例如样本的均值为1，则总体的均值很有可能也在1附近。基于此，如果现在的两个样本的均值相差巨大，则有较大把握两个样本是来自不同总体，反之则无法判断是否来自不同总体。很明显，为了通过均值差异程度而量化的判断是否取自不同总体，我们又需要构造统计量了。"
   ]
  },
  {
   "cell_type": "markdown",
   "id": "37ce9baf-3f39-4505-af82-63f8c9d2e426",
   "metadata": {},
   "source": [
    "- Step 2.采集数据"
   ]
  },
  {
   "cell_type": "markdown",
   "id": "8ddfce92-621e-437a-8094-86ca9f30a999",
   "metadata": {},
   "source": [
    "&emsp;&emsp;此处我们就采用月消费金额MonthlyCharges和标签Churn字段进行分析。"
   ]
  },
  {
   "cell_type": "code",
   "execution_count": 383,
   "id": "6319d313-deac-4fd9-8b04-0da70960a8c2",
   "metadata": {},
   "outputs": [
    {
     "data": {
      "text/plain": [
       "4067     79.60\n",
       "3306     80.00\n",
       "3391     19.00\n",
       "3249     55.55\n",
       "2674     20.05\n",
       "         ...  \n",
       "5478    106.30\n",
       "356      54.10\n",
       "4908    106.15\n",
       "6276     20.35\n",
       "2933     24.00\n",
       "Name: MonthlyCharges, Length: 5282, dtype: float64"
      ]
     },
     "execution_count": 383,
     "metadata": {},
     "output_type": "execute_result"
    }
   ],
   "source": [
    "X_train_OE['MonthlyCharges']"
   ]
  },
  {
   "cell_type": "code",
   "execution_count": 384,
   "id": "798973e2-db55-4d47-b682-ce9e505dfa5f",
   "metadata": {},
   "outputs": [
    {
     "data": {
      "text/plain": [
       "4067    0\n",
       "3306    0\n",
       "3391    0\n",
       "3249    0\n",
       "2674    0\n",
       "       ..\n",
       "5478    0\n",
       "356     0\n",
       "4908    1\n",
       "6276    0\n",
       "2933    0\n",
       "Name: Churn, Length: 5282, dtype: int64"
      ]
     },
     "execution_count": 384,
     "metadata": {},
     "output_type": "execute_result"
    }
   ],
   "source": [
    "y_train"
   ]
  },
  {
   "cell_type": "markdown",
   "id": "4a081fc1-c6c3-4069-8928-8dd2403b221b",
   "metadata": {},
   "source": [
    "而这里的两类样本，其实就是流失用户样本和非流失用户。我们可以通过如下方式快速划分两类用户："
   ]
  },
  {
   "cell_type": "code",
   "execution_count": 385,
   "id": "f732e781-803f-4eda-8b04-82186f225f9e",
   "metadata": {},
   "outputs": [
    {
     "data": {
      "text/plain": [
       "4067     79.60\n",
       "3306     80.00\n",
       "3391     19.00\n",
       "3249     55.55\n",
       "2674     20.05\n",
       "         ...  \n",
       "6646     19.40\n",
       "5478    106.30\n",
       "356      54.10\n",
       "6276     20.35\n",
       "2933     24.00\n",
       "Name: MonthlyCharges, Length: 3901, dtype: float64"
      ]
     },
     "execution_count": 385,
     "metadata": {},
     "output_type": "execute_result"
    }
   ],
   "source": [
    "# 非流失用户\n",
    "cat_0 = X_train_OE['MonthlyCharges'][y_train == 0]\n",
    "cat_0"
   ]
  },
  {
   "cell_type": "code",
   "execution_count": 386,
   "id": "e398e630-bb9c-4065-84ac-a073d4ce0fe1",
   "metadata": {},
   "outputs": [
    {
     "data": {
      "text/plain": [
       "6846     79.55\n",
       "2815     88.35\n",
       "4900     85.70\n",
       "2798     94.90\n",
       "3737     50.60\n",
       "         ...  \n",
       "6824     80.45\n",
       "6616    101.40\n",
       "5646     19.25\n",
       "2527     83.30\n",
       "4908    106.15\n",
       "Name: MonthlyCharges, Length: 1381, dtype: float64"
      ]
     },
     "execution_count": 386,
     "metadata": {},
     "output_type": "execute_result"
    }
   ],
   "source": [
    "# 流失用户\n",
    "cat_1 = X_train_OE['MonthlyCharges'][y_train == 1]\n",
    "cat_1"
   ]
  },
  {
   "cell_type": "markdown",
   "id": "8316e583-b5a5-4626-81dc-1d4d814347e5",
   "metadata": {},
   "source": [
    "- Step 3.设计统计量"
   ]
  },
  {
   "cell_type": "markdown",
   "id": "2f93ee88-25e2-404d-acf4-295a20b9bc83",
   "metadata": {},
   "source": [
    "&emsp;&emsp;最关键的环节，肯定就是如何构造统计量来判断两类样本均值差异程度了。这里我们需要借助此前我们曾介绍的一组概念，这组概念曾在线性回归以及K-Means快速聚类中提及，是一组专门用来衡量整体误差、组内误差和组间误差的概念。这里我们再通过严谨的数学公式描述一遍。假设目前有n条数据被分成k组（即标签有k个类别），其中第j个类别中包含$n_j$条样本，并且$x_{i,j}$表示第j个类别的第i条样本，则有样本整体偏差计算公式如下："
   ]
  },
  {
   "cell_type": "markdown",
   "id": "763fc4ee-4da2-45a1-a4ba-b823024b4850",
   "metadata": {},
   "source": [
    "$$SST = \\sum^k_{j=1}\\sum^{n_j}_{i=1}(x_{ij}-\\bar x)^2$$"
   ]
  },
  {
   "cell_type": "markdown",
   "id": "441511fe-7e18-41b7-9500-62f9cb8a7c94",
   "metadata": {},
   "source": [
    "及样本与均值的差值平方和，此处$\\bar x = \\frac{\\sum^k_{j=1}\\sum^{n_j}_{i=1}x_{ij}}{n}$"
   ]
  },
  {
   "cell_type": "markdown",
   "id": "110151cd-1fcf-427d-b2f3-9ad119ecd231",
   "metadata": {},
   "source": [
    "&emsp;&emsp;而如果我们更进一步，计算每个组内的样本与均值的差值的平方和，则可以算得如下结果："
   ]
  },
  {
   "cell_type": "markdown",
   "id": "29415434-52ef-41c0-ab3e-1ba5e83ce48e",
   "metadata": {},
   "source": [
    "$$SSE_j = \\sum^{n_j}_{i=1}(x_{ij}-\\bar {x_j})^2$$"
   ]
  },
  {
   "cell_type": "markdown",
   "id": "9cd58c5c-a2ad-4222-8927-ace87a63fb90",
   "metadata": {},
   "source": [
    "即第j组的组内偏差平方和，其中$\\bar {x_j} = \\frac{\\sum_{i=1}^{n_j}x_{ij}}{n_j}$，为第j组数据的组内均值。而k个分组的组内偏差总和为："
   ]
  },
  {
   "cell_type": "markdown",
   "id": "ab3b1362-38f1-4062-b188-0e3bdc12325e",
   "metadata": {},
   "source": [
    "$$SSE = \\sum_{j=1}^k SSE_j = \\sum_{j=1}^k\\sum^{n_j}_{i=1}(x_{ij}-\\bar {x_j})^2$$"
   ]
  },
  {
   "cell_type": "markdown",
   "id": "cb76e7b2-fafa-4269-93bc-6f448e692ef8",
   "metadata": {},
   "source": [
    "&emsp;&emsp;SSE即为组内偏差平方和。此时（在欧式空间情况下）则可以通过数学公式推导得出，SST和SSE之间的差值如下："
   ]
  },
  {
   "cell_type": "markdown",
   "id": "bbf76ab0-dbee-4246-af13-71c120b3cde6",
   "metadata": {},
   "source": [
    "$$SSB=SST-SSE=\\sum_{j=1}^k n_j (\\bar{x_j}-\\bar x)^2$$"
   ]
  },
  {
   "cell_type": "markdown",
   "id": "5bab8cfb-7283-4b05-86d2-8e176fca2bbf",
   "metadata": {},
   "source": [
    "即每个组的均值和总体均值的差值的平方加权求和的结果，其中权重就是每个组的样本数量。SSB也被称为组间偏差平方和。"
   ]
  },
  {
   "cell_type": "markdown",
   "id": "7ffd43d2-1047-4fce-89ec-1eaaadd3c4d3",
   "metadata": {},
   "source": [
    "> 关于组间偏差平方和，有很多种标记方法，包括SSA、SSR等。而线性回归中的决定系数则是$\\frac{SSR}{SST}$。"
   ]
  },
  {
   "cell_type": "markdown",
   "id": "cc1ebe95-a2ed-4977-8843-51b991dd8518",
   "metadata": {},
   "source": [
    "&emsp;&emsp;关于SST相关概念，在线性回归中我们曾利用其构建决定系数、在聚类分析中我们曾利用其评估聚类效果好坏。此处对比与当前应用场景更为接近的聚类分析来帮助大家理解这些概念在方差分析中的作用。"
   ]
  },
  {
   "cell_type": "markdown",
   "id": "26a38506-de16-4bc6-97b3-527559cd621b",
   "metadata": {},
   "source": [
    "&emsp;&emsp;在聚类分析中，我们曾谈到，在总体偏差不变的情况下(给定一组数据，就会有一个固定的SST)，我们希望组内偏差越小越好、而组间偏差越大越好，因为这样就能证明组内数据彼此更加相似、而不同分组的数据彼此会更加不同。同样的观点也适用于当前情况，即在给定一个离散变量和连续变量的时候，我们就可以利用离散变量的不同取值对连续变量进行分组（例如根据是否流失，划分为流失用户组和非流失用户组），此时SST是一个确定的值，并且如果SSB很大、SSE很小，则说明不同组的组间差异越大、组内差异较小，而所谓的组间差异，其实也就是由均值的不同导致的，SSB越大则不同组的均值都和整体均值差异较大，并且由于此时SSE很小，也就说明每个组内的取值和该组的均值比较接近，此时我们会更倾向于判断不同组是取自不同总体；而反之，如果SSB很小而SSE很大，则倾向于判断不同组是取自同一个总体。"
   ]
  },
  {
   "cell_type": "markdown",
   "id": "aa67f5c4-4833-423e-9708-8a31a4c46b12",
   "metadata": {},
   "source": [
    "&emsp;&emsp;此外，我们也需要理解方差分析中方差的含义，在实际计算过程中，SST、SSE和SSB都可以看成是方差计算，其中SST衡量的数据整体方差、SSE衡量的组内方差，而SSB则衡量的是每一组的均值分布的方差，即每一组均值和整体均值的离散程度。"
   ]
  },
  {
   "cell_type": "markdown",
   "id": "2cfecc79-dd8c-4e58-8453-7938f0020209",
   "metadata": {},
   "source": [
    "> 此处或许会有同学会觉得，根据SSB的计算公式，是否存在每个分组均值类似但都和整体均值相差较大的情况呢？此时也会发现SSB较大但并不能说明不同组的数据取自不同总体（因为均值类似）。需要注意的是，这种情况并不可能发生，原因是整体的均值是由每个分组均值决定的，如果分组数据的均值彼此接近，则整体数据的均值肯定也是一个接近这些分组均值的数，因此并不会存在分组均值接近但都和整体均值差距较大的情况。如果SSB较大，则只有一种可能，即分组均值的离散程度较大。"
   ]
  },
  {
   "cell_type": "markdown",
   "id": "2267edce-56b5-4d64-b32e-f08c0aaf5a64",
   "metadata": {},
   "source": [
    "&emsp;&emsp;如此，我们就找到了如何衡量不同组均值差异的基础理论工具，接下来需要进一步的构造统计检验量，来更具体的量化的表示这种均值差异程度。此处构造的统计检验量就是F，F计算公式如下："
   ]
  },
  {
   "cell_type": "markdown",
   "id": "cd5fb1a1-73ea-4da4-97f4-14de078c653b",
   "metadata": {},
   "source": [
    "$$F=\\frac{MSB}{MSE}=\\frac{SSB/df_B}{SSE/df_E}=\\frac{SSB/(k-1)}{SSE/(n-k)}$$"
   ]
  },
  {
   "cell_type": "markdown",
   "id": "43aa1fc6-fcdd-4863-a9d1-d026a0fa20a3",
   "metadata": {},
   "source": [
    "此处$df_b$就是统计量SSB的自由度，类似于卡方检验过程中(行数-1\\*列数-1)用于修正卡方值，$df_b$也是一个用于修正SSB计算量的值——为了防止分组的数量影响了SSB的计算结果；类似的$df_E$就是SSE的自由度，用于修正样本数量对SSE计算结果的影响。目前来说我们并不用深究自由度的学术含义，只需要知道统计检验量会利用自由度对统计量进行数值上的修正，并且这些修正的值会在最一开始就确定，例如k（分成几类）、n（数据总量）等，并不会受到实际数据取值大小的影响。"
   ]
  },
  {
   "cell_type": "markdown",
   "id": "fc2952ce-f2ad-4aa0-ba4c-2f67110758ae",
   "metadata": {},
   "source": [
    "&emsp;&emsp;而F作为统计检验量，也是有对应概率分布的，即满足F(k-1, n-k)的概率分布，并且根据此前介绍的基本原理我们可以判断，F值越大则SSB相比SSE越大，也就是组间差异越大、不同组的数据更倾向于抽样自不同总体、零假设成立的可能性（p值）越低，反之则零假设成立的可能性就越高。"
   ]
  },
  {
   "cell_type": "markdown",
   "id": "b16f57a0-8889-41f4-8158-e95db0321188",
   "metadata": {},
   "source": [
    "- Step 4-5.事件发生概率计算与统计推断"
   ]
  },
  {
   "cell_type": "markdown",
   "id": "9a192250-8aeb-4de6-bec4-fad43d3877b0",
   "metadata": {},
   "source": [
    "&emsp;&emsp;接下来我们通过带入数据，即可算出具体的F值大小，进一步通过查看F值在对应的F(k-1, n-k)中的概率结果，就能够判断是否接受或拒绝原假设。这里我们带入此前导入的月消费金额和标签进行计算："
   ]
  },
  {
   "cell_type": "code",
   "execution_count": 387,
   "id": "8ed8718e-fbc2-41e0-8882-121a419d290d",
   "metadata": {},
   "outputs": [
    {
     "data": {
      "text/plain": [
       "(2, 5282)"
      ]
     },
     "execution_count": 387,
     "metadata": {},
     "output_type": "execute_result"
    }
   ],
   "source": [
    "k = y_train.nunique()\n",
    "n = len(y_train)\n",
    "\n",
    "k, n"
   ]
  },
  {
   "cell_type": "code",
   "execution_count": 388,
   "id": "b600f95f-187e-43f5-a371-6d5e2f35ad9d",
   "metadata": {},
   "outputs": [
    {
     "data": {
      "text/plain": [
       "2"
      ]
     },
     "execution_count": 388,
     "metadata": {},
     "output_type": "execute_result"
    }
   ],
   "source": [
    "y_train.nunique()"
   ]
  },
  {
   "cell_type": "code",
   "execution_count": 389,
   "id": "cbc30bdb-c63c-4841-bea8-441dbda83970",
   "metadata": {},
   "outputs": [
    {
     "data": {
      "text/plain": [
       "4574387.408963599"
      ]
     },
     "execution_count": 389,
     "metadata": {},
     "output_type": "execute_result"
    }
   ],
   "source": [
    "cat_0_mean = cat_0.mean()\n",
    "cat_1_mean = cat_1.mean()\n",
    "\n",
    "SSE0 = np.power(cat_0 - cat_0_mean, 2).sum()\n",
    "SSE1 = np.power(cat_1 - cat_1_mean, 2).sum()\n",
    "\n",
    "SSE = SSE0 + SSE1\n",
    "SSE"
   ]
  },
  {
   "cell_type": "code",
   "execution_count": 390,
   "id": "44f8fd12-870c-4b18-b1db-2649d2091aca",
   "metadata": {},
   "outputs": [
    {
     "data": {
      "text/plain": [
       "156409.73213494403"
      ]
     },
     "execution_count": 390,
     "metadata": {},
     "output_type": "execute_result"
    }
   ],
   "source": [
    "n0 = len(cat_0)\n",
    "n1 = len(cat_1)\n",
    "\n",
    "cat_mean = X_train_OE['MonthlyCharges'].mean()\n",
    "\n",
    "SSB = n0 * np.power(cat_0_mean-cat_mean, 2) + n1 * np.power(cat_1_mean-cat_mean, 2)\n",
    "SSB"
   ]
  },
  {
   "cell_type": "markdown",
   "id": "f8b40f5c-814d-4582-9295-7707edb7bd87",
   "metadata": {},
   "source": [
    "这里我们可以很简单检验SSE和SSB之和是否会等于SST："
   ]
  },
  {
   "cell_type": "code",
   "execution_count": 391,
   "id": "23b15f96-8476-4a20-9d94-c126e904c26e",
   "metadata": {},
   "outputs": [
    {
     "data": {
      "text/plain": [
       "4730797.141098542"
      ]
     },
     "execution_count": 391,
     "metadata": {},
     "output_type": "execute_result"
    }
   ],
   "source": [
    "SST = np.power(X_train_OE['MonthlyCharges'] - cat_mean, 2).sum()\n",
    "SST"
   ]
  },
  {
   "cell_type": "code",
   "execution_count": 392,
   "id": "c2933dab-91de-40de-89a8-b228555d2529",
   "metadata": {},
   "outputs": [
    {
     "data": {
      "text/plain": [
       "4730797.141098543"
      ]
     },
     "execution_count": 392,
     "metadata": {},
     "output_type": "execute_result"
    }
   ],
   "source": [
    "SSE + SSB"
   ]
  },
  {
   "cell_type": "markdown",
   "id": "b11dc10a-1523-4007-8d76-a9bfcbbb09c9",
   "metadata": {},
   "source": [
    "接下来计算F值："
   ]
  },
  {
   "cell_type": "code",
   "execution_count": 393,
   "id": "b8841a1e-f1d1-4f5b-b245-985bf76ffdd4",
   "metadata": {},
   "outputs": [
    {
     "data": {
      "text/plain": [
       "180.53638921230166"
      ]
     },
     "execution_count": 393,
     "metadata": {},
     "output_type": "execute_result"
    }
   ],
   "source": [
    "MSB = SSB/(k-1)\n",
    "MSE = SSE/(n-k)\n",
    "\n",
    "F_score = MSB/MSE\n",
    "F_score"
   ]
  },
  {
   "cell_type": "markdown",
   "id": "95f7d172-981e-49b8-a257-62d0860ad66a",
   "metadata": {},
   "source": [
    "对于F值为180的结果到底能否支撑我们接受或者推翻原假设，还需要结合F分布来进行判断，即需要计算当前F值作为随机变量时取得180的概率，这里我们也能查看F分布表进行查看，这里F分布表的查看需要同时注意$df_1$和$df_2$，其中$df_1=k-1$，$df_2=n-k$："
   ]
  },
  {
   "cell_type": "markdown",
   "id": "c7f1edf8-f63f-4aae-bbad-d49470a8555f",
   "metadata": {},
   "source": [
    "<center><img src=\"https://tva1.sinaimg.cn/large/e6c9d24ely1h0omjgpln2j20qy0h4djv.jpg\" alt=\"image-20220324214236286\" style=\"zoom:50%;\" />"
   ]
  },
  {
   "cell_type": "markdown",
   "id": "56a1e934-8001-4b2b-a898-e33cac4227d5",
   "metadata": {},
   "source": [
    "由于差值过大，查表并不方便，并且查看临界值表只能查到显著性水平为0.01时的临界值（即超过该值时p小于显著性水平），此处推荐使用scipy.special.fdtrc进行p值计算："
   ]
  },
  {
   "cell_type": "code",
   "execution_count": 394,
   "id": "62295a1e-11b3-4e47-98dc-9d72c6a3b1dd",
   "metadata": {
    "tags": []
   },
   "outputs": [
    {
     "data": {
      "text/plain": [
       "\u001b[1;31mCall signature:\u001b[0m  \u001b[0mscipy\u001b[0m\u001b[1;33m.\u001b[0m\u001b[0mspecial\u001b[0m\u001b[1;33m.\u001b[0m\u001b[0mfdtrc\u001b[0m\u001b[1;33m(\u001b[0m\u001b[1;33m*\u001b[0m\u001b[0margs\u001b[0m\u001b[1;33m,\u001b[0m \u001b[1;33m**\u001b[0m\u001b[0mkwargs\u001b[0m\u001b[1;33m)\u001b[0m\u001b[1;33m\u001b[0m\u001b[1;33m\u001b[0m\u001b[0m\n",
       "\u001b[1;31mType:\u001b[0m            ufunc\n",
       "\u001b[1;31mString form:\u001b[0m     <ufunc 'fdtrc'>\n",
       "\u001b[1;31mFile:\u001b[0m            d:\\anaconda3\\lib\\site-packages\\numpy\\__init__.py\n",
       "\u001b[1;31mDocstring:\u001b[0m      \n",
       "fdtrc(x1, x2, x3, /, out=None, *, where=True, casting='same_kind', order='K', dtype=None, subok=True[, signature, extobj])\n",
       "\n",
       "fdtrc(dfn, dfd, x)\n",
       "\n",
       "F survival function.\n",
       "\n",
       "Returns the complemented F-distribution function (the integral of the\n",
       "density from `x` to infinity).\n",
       "\n",
       "Parameters\n",
       "----------\n",
       "dfn : array_like\n",
       "    First parameter (positive float).\n",
       "dfd : array_like\n",
       "    Second parameter (positive float).\n",
       "x : array_like\n",
       "    Argument (nonnegative float).\n",
       "\n",
       "Returns\n",
       "-------\n",
       "y : ndarray\n",
       "    The complemented F-distribution function with parameters `dfn` and\n",
       "    `dfd` at `x`.\n",
       "\n",
       "See also\n",
       "--------\n",
       "fdtr\n",
       "\n",
       "Notes\n",
       "-----\n",
       "The regularized incomplete beta function is used, according to the\n",
       "formula,\n",
       "\n",
       ".. math::\n",
       "    F(d_n, d_d; x) = I_{d_d/(d_d + xd_n)}(d_d/2, d_n/2).\n",
       "\n",
       "Wrapper for the Cephes [1]_ routine `fdtrc`.\n",
       "\n",
       "References\n",
       "----------\n",
       ".. [1] Cephes Mathematical Functions Library,\n",
       "       http://www.netlib.org/cephes/\n",
       "\u001b[1;31mClass docstring:\u001b[0m\n",
       "Functions that operate element by element on whole arrays.\n",
       "\n",
       "To see the documentation for a specific ufunc, use `info`.  For\n",
       "example, ``np.info(np.sin)``.  Because ufuncs are written in C\n",
       "(for speed) and linked into Python with NumPy's ufunc facility,\n",
       "Python's help() function finds this page whenever help() is called\n",
       "on a ufunc.\n",
       "\n",
       "A detailed explanation of ufuncs can be found in the docs for :ref:`ufuncs`.\n",
       "\n",
       "**Calling ufuncs:** ``op(*x[, out], where=True, **kwargs)``\n",
       "\n",
       "Apply `op` to the arguments `*x` elementwise, broadcasting the arguments.\n",
       "\n",
       "The broadcasting rules are:\n",
       "\n",
       "* Dimensions of length 1 may be prepended to either array.\n",
       "* Arrays may be repeated along dimensions of length 1.\n",
       "\n",
       "Parameters\n",
       "----------\n",
       "*x : array_like\n",
       "    Input arrays.\n",
       "out : ndarray, None, or tuple of ndarray and None, optional\n",
       "    Alternate array object(s) in which to put the result; if provided, it\n",
       "    must have a shape that the inputs broadcast to. A tuple of arrays\n",
       "    (possible only as a keyword argument) must have length equal to the\n",
       "    number of outputs; use None for uninitialized outputs to be\n",
       "    allocated by the ufunc.\n",
       "where : array_like, optional\n",
       "    This condition is broadcast over the input. At locations where the\n",
       "    condition is True, the `out` array will be set to the ufunc result.\n",
       "    Elsewhere, the `out` array will retain its original value.\n",
       "    Note that if an uninitialized `out` array is created via the default\n",
       "    ``out=None``, locations within it where the condition is False will\n",
       "    remain uninitialized.\n",
       "**kwargs\n",
       "    For other keyword-only arguments, see the :ref:`ufunc docs <ufuncs.kwargs>`.\n",
       "\n",
       "Returns\n",
       "-------\n",
       "r : ndarray or tuple of ndarray\n",
       "    `r` will have the shape that the arrays in `x` broadcast to; if `out` is\n",
       "    provided, it will be returned. If not, `r` will be allocated and\n",
       "    may contain uninitialized values. If the function has more than one\n",
       "    output, then the result will be a tuple of arrays.\n"
      ]
     },
     "metadata": {},
     "output_type": "display_data"
    }
   ],
   "source": [
    "scipy.special.fdtrc?"
   ]
  },
  {
   "cell_type": "code",
   "execution_count": 395,
   "id": "3b2d25b0-a44c-4cfc-9b1f-f68fe77ba7e4",
   "metadata": {},
   "outputs": [
    {
     "data": {
      "text/plain": [
       "1.7018224028003695e-40"
      ]
     },
     "execution_count": 395,
     "metadata": {},
     "output_type": "execute_result"
    }
   ],
   "source": [
    "scipy.special.fdtrc(k-1, n-k, F_score)"
   ]
  },
  {
   "cell_type": "markdown",
   "id": "cae2ae47-425a-4ce9-8d74-b6b5f72c1ded",
   "metadata": {},
   "source": [
    "能够看出，F取值180的概率几乎为零，也就是说零假设成立的概率几乎为零，我们可以推翻零假设，即流失人群和非流失人群的月消费金额存在显著差异。进一步应用到特征筛选环节，得到的结论就是月消费金额和标签存在显著的关联关系，不同类别人群在月消费金额上存在显出差异，可以从月消费金额入手进行分析和预测，月消费金额特征可以带入模型进行训练。"
   ]
  },
  {
   "cell_type": "markdown",
   "id": "17fda92f-52a2-4270-8cdb-5e408907738a",
   "metadata": {},
   "source": [
    "&emsp;&emsp;补充一点，如果希望验证F分布表中相关数值，例如$n_1=1,n_2=2$的临界值，则可以考虑如下验算过程："
   ]
  },
  {
   "cell_type": "code",
   "execution_count": 396,
   "id": "c5c30e62-c2e4-4bfb-a505-1c97fcd9f40e",
   "metadata": {},
   "outputs": [
    {
     "data": {
      "text/plain": [
       "0.09996306923929875"
      ]
     },
     "execution_count": 396,
     "metadata": {},
     "output_type": "execute_result"
    }
   ],
   "source": [
    "scipy.special.fdtrc(1, 2, 8.53)"
   ]
  },
  {
   "cell_type": "code",
   "execution_count": 397,
   "id": "5072a3e9-e314-4394-b077-8b79bc703723",
   "metadata": {},
   "outputs": [
    {
     "data": {
      "text/plain": [
       "0.09546596626670914"
      ]
     },
     "execution_count": 397,
     "metadata": {},
     "output_type": "execute_result"
    }
   ],
   "source": [
    "# 超过临界值，p值小于0.1\n",
    "scipy.special.fdtrc(1, 2, 9)"
   ]
  },
  {
   "cell_type": "markdown",
   "id": "62b0a351-fbff-427a-acda-645076e5209b",
   "metadata": {},
   "source": [
    "此外，我们也可以借助scipy中的stats.f_oneway函数直接进行方差分析计算，此处仅需带入两类不同的样本即可："
   ]
  },
  {
   "cell_type": "code",
   "execution_count": 398,
   "id": "6068b80e-4754-4a2d-b149-64422a13c536",
   "metadata": {
    "tags": []
   },
   "outputs": [
    {
     "data": {
      "text/plain": [
       "\u001b[1;31mSignature:\u001b[0m \u001b[0mscipy\u001b[0m\u001b[1;33m.\u001b[0m\u001b[0mstats\u001b[0m\u001b[1;33m.\u001b[0m\u001b[0mf_oneway\u001b[0m\u001b[1;33m(\u001b[0m\u001b[1;33m*\u001b[0m\u001b[0margs\u001b[0m\u001b[1;33m,\u001b[0m \u001b[0maxis\u001b[0m\u001b[1;33m=\u001b[0m\u001b[1;36m0\u001b[0m\u001b[1;33m)\u001b[0m\u001b[1;33m\u001b[0m\u001b[1;33m\u001b[0m\u001b[0m\n",
       "\u001b[1;31mDocstring:\u001b[0m\n",
       "Perform one-way ANOVA.\n",
       "\n",
       "The one-way ANOVA tests the null hypothesis that two or more groups have\n",
       "the same population mean.  The test is applied to samples from two or\n",
       "more groups, possibly with differing sizes.\n",
       "\n",
       "Parameters\n",
       "----------\n",
       "sample1, sample2, ... : array_like\n",
       "    The sample measurements for each group.  There must be at least\n",
       "    two arguments.  If the arrays are multidimensional, then all the\n",
       "    dimensions of the array must be the same except for `axis`.\n",
       "axis : int, optional\n",
       "    Axis of the input arrays along which the test is applied.\n",
       "    Default is 0.\n",
       "\n",
       "Returns\n",
       "-------\n",
       "statistic : float\n",
       "    The computed F statistic of the test.\n",
       "pvalue : float\n",
       "    The associated p-value from the F distribution.\n",
       "\n",
       "Warns\n",
       "-----\n",
       "F_onewayConstantInputWarning\n",
       "    Raised if each of the input arrays is constant array.\n",
       "    In this case the F statistic is either infinite or isn't defined,\n",
       "    so ``np.inf`` or ``np.nan`` is returned.\n",
       "\n",
       "F_onewayBadInputSizesWarning\n",
       "    Raised if the length of any input array is 0, or if all the input\n",
       "    arrays have length 1.  ``np.nan`` is returned for the F statistic\n",
       "    and the p-value in these cases.\n",
       "\n",
       "Notes\n",
       "-----\n",
       "The ANOVA test has important assumptions that must be satisfied in order\n",
       "for the associated p-value to be valid.\n",
       "\n",
       "1. The samples are independent.\n",
       "2. Each sample is from a normally distributed population.\n",
       "3. The population standard deviations of the groups are all equal.  This\n",
       "   property is known as homoscedasticity.\n",
       "\n",
       "If these assumptions are not true for a given set of data, it may still\n",
       "be possible to use the Kruskal-Wallis H-test (`scipy.stats.kruskal`) or\n",
       "the Alexander-Govern test (`scipy.stats.alexandergovern`) although with\n",
       "some loss of power.\n",
       "\n",
       "The length of each group must be at least one, and there must be at\n",
       "least one group with length greater than one.  If these conditions\n",
       "are not satisfied, a warning is generated and (``np.nan``, ``np.nan``)\n",
       "is returned.\n",
       "\n",
       "If each group contains constant values, and there exist at least two\n",
       "groups with different values, the function generates a warning and\n",
       "returns (``np.inf``, 0).\n",
       "\n",
       "If all values in all groups are the same, function generates a warning\n",
       "and returns (``np.nan``, ``np.nan``).\n",
       "\n",
       "The algorithm is from Heiman [2]_, pp.394-7.\n",
       "\n",
       "References\n",
       "----------\n",
       ".. [1] R. Lowry, \"Concepts and Applications of Inferential Statistics\",\n",
       "       Chapter 14, 2014, http://vassarstats.net/textbook/\n",
       "\n",
       ".. [2] G.W. Heiman, \"Understanding research methods and statistics: An\n",
       "       integrated introduction for psychology\", Houghton, Mifflin and\n",
       "       Company, 2001.\n",
       "\n",
       ".. [3] G.H. McDonald, \"Handbook of Biological Statistics\", One-way ANOVA.\n",
       "       http://www.biostathandbook.com/onewayanova.html\n",
       "\n",
       "Examples\n",
       "--------\n",
       ">>> from scipy.stats import f_oneway\n",
       "\n",
       "Here are some data [3]_ on a shell measurement (the length of the anterior\n",
       "adductor muscle scar, standardized by dividing by length) in the mussel\n",
       "Mytilus trossulus from five locations: Tillamook, Oregon; Newport, Oregon;\n",
       "Petersburg, Alaska; Magadan, Russia; and Tvarminne, Finland, taken from a\n",
       "much larger data set used in McDonald et al. (1991).\n",
       "\n",
       ">>> tillamook = [0.0571, 0.0813, 0.0831, 0.0976, 0.0817, 0.0859, 0.0735,\n",
       "...              0.0659, 0.0923, 0.0836]\n",
       ">>> newport = [0.0873, 0.0662, 0.0672, 0.0819, 0.0749, 0.0649, 0.0835,\n",
       "...            0.0725]\n",
       ">>> petersburg = [0.0974, 0.1352, 0.0817, 0.1016, 0.0968, 0.1064, 0.105]\n",
       ">>> magadan = [0.1033, 0.0915, 0.0781, 0.0685, 0.0677, 0.0697, 0.0764,\n",
       "...            0.0689]\n",
       ">>> tvarminne = [0.0703, 0.1026, 0.0956, 0.0973, 0.1039, 0.1045]\n",
       ">>> f_oneway(tillamook, newport, petersburg, magadan, tvarminne)\n",
       "F_onewayResult(statistic=7.121019471642447, pvalue=0.0002812242314534544)\n",
       "\n",
       "`f_oneway` accepts multidimensional input arrays.  When the inputs\n",
       "are multidimensional and `axis` is not given, the test is performed\n",
       "along the first axis of the input arrays.  For the following data, the\n",
       "test is performed three times, once for each column.\n",
       "\n",
       ">>> a = np.array([[9.87, 9.03, 6.81],\n",
       "...               [7.18, 8.35, 7.00],\n",
       "...               [8.39, 7.58, 7.68],\n",
       "...               [7.45, 6.33, 9.35],\n",
       "...               [6.41, 7.10, 9.33],\n",
       "...               [8.00, 8.24, 8.44]])\n",
       ">>> b = np.array([[6.35, 7.30, 7.16],\n",
       "...               [6.65, 6.68, 7.63],\n",
       "...               [5.72, 7.73, 6.72],\n",
       "...               [7.01, 9.19, 7.41],\n",
       "...               [7.75, 7.87, 8.30],\n",
       "...               [6.90, 7.97, 6.97]])\n",
       ">>> c = np.array([[3.31, 8.77, 1.01],\n",
       "...               [8.25, 3.24, 3.62],\n",
       "...               [6.32, 8.81, 5.19],\n",
       "...               [7.48, 8.83, 8.91],\n",
       "...               [8.59, 6.01, 6.07],\n",
       "...               [3.07, 9.72, 7.48]])\n",
       ">>> F, p = f_oneway(a, b, c)\n",
       ">>> F\n",
       "array([1.75676344, 0.03701228, 3.76439349])\n",
       ">>> p\n",
       "array([0.20630784, 0.96375203, 0.04733157])\n",
       "\u001b[1;31mFile:\u001b[0m      d:\\anaconda3\\lib\\site-packages\\scipy\\stats\\_stats_py.py\n",
       "\u001b[1;31mType:\u001b[0m      function\n"
      ]
     },
     "metadata": {},
     "output_type": "display_data"
    }
   ],
   "source": [
    "scipy.stats.f_oneway?"
   ]
  },
  {
   "cell_type": "code",
   "execution_count": 399,
   "id": "0c4d73e2-6c53-49d8-8ed7-044b4b21eeee",
   "metadata": {},
   "outputs": [
    {
     "data": {
      "text/plain": [
       "F_onewayResult(statistic=180.5363892123, pvalue=1.7018224028019414e-40)"
      ]
     },
     "execution_count": 399,
     "metadata": {},
     "output_type": "execute_result"
    }
   ],
   "source": [
    "scipy.stats.f_oneway(cat_0, cat_1)"
   ]
  },
  {
   "cell_type": "markdown",
   "id": "e03d776d-1553-4b1a-bf02-289f5541df71",
   "metadata": {},
   "source": [
    "能够发现计算结果和手动计算结果一致。此外，我们也可以尝试创建两组抽取自同一总体的数据，看下方差分析是否还会拒绝原假设："
   ]
  },
  {
   "cell_type": "code",
   "execution_count": 400,
   "id": "7b11a267-1c10-4617-a999-345a346b5491",
   "metadata": {},
   "outputs": [],
   "source": [
    "a1 = np.random.randn(100)\n",
    "a2 = np.random.randn(100)"
   ]
  },
  {
   "cell_type": "code",
   "execution_count": 401,
   "id": "ffc78532-8d45-45dc-8394-59c89a85864a",
   "metadata": {},
   "outputs": [
    {
     "data": {
      "text/plain": [
       "F_onewayResult(statistic=0.16029754125771858, pvalue=0.6893143690343888)"
      ]
     },
     "execution_count": 401,
     "metadata": {},
     "output_type": "execute_result"
    }
   ],
   "source": [
    "scipy.stats.f_oneway(a1, a2)"
   ]
  },
  {
   "cell_type": "markdown",
   "id": "212f3ad4-b0a2-4c68-95b7-02e9f90f5e2b",
   "metadata": {},
   "source": [
    "很明显，此时a1和a2都是抽样自标准正态分布的数组，二者并不存在显著差异。"
   ]
  },
  {
   "cell_type": "markdown",
   "id": "6964fc96-0bbe-4a86-88bc-6db469eb2def",
   "metadata": {},
   "source": [
    "> - one-way ANOVA        \n",
    "&emsp;&emsp;所谓one-way ANOVA其实是特指单因素方差分析，即只有一个因素导致的数据分组，在当前情况下就是指依据是否流失这一个因素对用户进行分组。而除了单因素方差外，还有two-way ANOVA，指的是双因素方差分析，此时情况会更加复杂，我们即需要考虑不同因素对结果的影响，还要考虑双因素之间是否还有交互作用。对于特征筛选来说，由于我们往往是针对标签进行分组，因此不会涉及双因素方差分析的问题。"
   ]
  },
  {
   "cell_type": "markdown",
   "id": "44b0d761-6bdb-4d01-bedd-551d1ec7abfc",
   "metadata": {},
   "source": [
    "> - 方差分析与F检验        \n",
    "&emsp;&emsp;尽管我们在方差分析中用到了F检验，但方差分析不同于F检验。F检验泛指一切借助F值进行检验的过程，而方差分析只是其中一种。换而言之，只要假设检验中的检验统计量满足F分布，则该过程就用到了F检验。"
   ]
  },
  {
   "cell_type": "markdown",
   "id": "b7d67e45-4041-4d86-98f9-388bbe01f575",
   "metadata": {},
   "source": [
    "> - F检验与卡方检验        \n",
    "&emsp;&emsp;从理论上来说，F计算量的分子和分母都是服从卡方分布的，$F=\\frac{SSB/(k-1)}{SSE/(n-k)}$中，分子是服从自由度为n-k的卡方分布，而分母是服从自由度为n-k的卡方分布，且能够证明二者相互独立。也就是说，统计检验量F是借助卡方分布构建的，更进一步来说，只要是相互独立的、服从卡方分母的随机变量，相除构成的随机变量都是服从F分布的。而F统计量的标准表达公式如下：$$F=\\frac{X_1/d_1}{X_2/d_2}$$其中$X_1$和$X_2$相互独立且服从自由度为$d_1$、$d_2$的卡方分布，此时随机变量F服从自由度为($d_1,d_2$)的F分布。"
   ]
  },
  {
   "cell_type": "markdown",
   "id": "32c3d29b-abb3-4eab-af80-fac70fc3c2cd",
   "metadata": {},
   "source": [
    "> - 方差分析与t检验      \n",
    "&emsp;&emsp;另外需要拓展了解的一点是，除了方差分析以外，还有一种检验也能判断两个样本的均值是否一致，也就是t检验。所不同的是，方差分析能够同时检验多个样本，也就是如果是三分类标签、则对应三个不同的样本，卡方检验能够同时判断三个样本是否取自同一总体，进而判断该特征是否可用（从特征筛选的角度来看）。而t检验只能两两比较，很明显应如果是用于特征筛选环节，t检验并不够高效。而t检验、卡方检验和方差分析，被称作统计学三大检验。"
   ]
  },
  {
   "cell_type": "markdown",
   "id": "d103e638-8c4f-4ed4-95b2-a3985b5bf102",
   "metadata": {
    "tags": []
   },
   "source": [
    "#### 4.2 借助sklean进行基于方差分析的特征筛选"
   ]
  },
  {
   "cell_type": "markdown",
   "id": "232665f3-99ef-4a63-ba7c-f30e7e0fcb3c",
   "metadata": {},
   "source": [
    "- 评分函数"
   ]
  },
  {
   "cell_type": "markdown",
   "id": "8851f8c2-6aa7-421f-b7f0-26be4253cc33",
   "metadata": {},
   "source": [
    "&emsp;&emsp;接下来我们来看在sklearn如何借助方差分析来完成特征筛选。这里需要借助f_classif评估函数来实现方差分析的过程："
   ]
  },
  {
   "cell_type": "code",
   "execution_count": 402,
   "id": "38ee81bf-e557-4715-94fd-fb1880627f26",
   "metadata": {},
   "outputs": [],
   "source": [
    "from sklearn.feature_selection import f_classif"
   ]
  },
  {
   "cell_type": "code",
   "execution_count": 403,
   "id": "e2b45e8b-7d83-48ae-8cd7-5e787e58c397",
   "metadata": {
    "tags": []
   },
   "outputs": [
    {
     "data": {
      "text/plain": [
       "\u001b[1;31mSignature:\u001b[0m \u001b[0mf_classif\u001b[0m\u001b[1;33m(\u001b[0m\u001b[0mX\u001b[0m\u001b[1;33m,\u001b[0m \u001b[0my\u001b[0m\u001b[1;33m)\u001b[0m\u001b[1;33m\u001b[0m\u001b[1;33m\u001b[0m\u001b[0m\n",
       "\u001b[1;31mDocstring:\u001b[0m\n",
       "Compute the ANOVA F-value for the provided sample.\n",
       "\n",
       "Read more in the :ref:`User Guide <univariate_feature_selection>`.\n",
       "\n",
       "Parameters\n",
       "----------\n",
       "X : {array-like, sparse matrix} of shape (n_samples, n_features)\n",
       "    The set of regressors that will be tested sequentially.\n",
       "\n",
       "y : ndarray of shape (n_samples,)\n",
       "    The target vector.\n",
       "\n",
       "Returns\n",
       "-------\n",
       "f_statistic : ndarray of shape (n_features,)\n",
       "    F-statistic for each feature.\n",
       "\n",
       "p_values : ndarray of shape (n_features,)\n",
       "    P-values associated with the F-statistic.\n",
       "\n",
       "See Also\n",
       "--------\n",
       "chi2 : Chi-squared stats of non-negative features for classification tasks.\n",
       "f_regression : F-value between label/feature for regression tasks.\n",
       "\u001b[1;31mFile:\u001b[0m      d:\\anaconda3\\lib\\site-packages\\sklearn\\feature_selection\\_univariate_selection.py\n",
       "\u001b[1;31mType:\u001b[0m      function\n"
      ]
     },
     "metadata": {},
     "output_type": "display_data"
    }
   ],
   "source": [
    "f_classif?"
   ]
  },
  {
   "cell_type": "code",
   "execution_count": 404,
   "id": "1c5a12d9-249b-4cc4-b618-3c49da39187e",
   "metadata": {},
   "outputs": [
    {
     "data": {
      "text/plain": [
       "(array([180.53638921]), array([1.7018224e-40]))"
      ]
     },
     "execution_count": 404,
     "metadata": {},
     "output_type": "execute_result"
    }
   ],
   "source": [
    "f_classif(X_train_OE['MonthlyCharges'].values.reshape(-1, 1), y_train.ravel())"
   ]
  },
  {
   "cell_type": "markdown",
   "id": "8cb219db-b429-4217-a557-d6f69b78ce26",
   "metadata": {},
   "source": [
    "而通过查看源码能够发现，sklearn中的f_classif也就是调用f_oneway函数进行的计算，因此最终输出结果和此前实验结果完全一致。同时f_classif本身也是评分函数，输出的F值就是评分。很明显F值越大、p值越小、我们就越有理由相信两列存在关联关系，反之F值越小则说明两列没有关系，可以考虑剔除。"
   ]
  },
  {
   "cell_type": "markdown",
   "id": "5ad5f57f-080f-41c2-9bb1-b532ca665437",
   "metadata": {},
   "source": [
    "- 特征筛选"
   ]
  },
  {
   "cell_type": "markdown",
   "id": "69ba13dc-9b78-4844-b511-5d9a9f6b7fa4",
   "metadata": {},
   "source": [
    "&emsp;&emsp;接下来我们借助SelectKBest来进行基于方差分析评分的特征筛选。这里需要注意的是，基于方差分析的基本流程，即对分组后的变量进行均值方差计算等过程，我们不难发现方差分析其实并不适用于两个离散变量之间的检验。在sklearn中，尽管没有要求只能针对分类问题对连续特征进行检验，但实际上带入离散特征进行检验是毫无意义的。对于分类问题，离散特征的检验完全可以交给卡方检验。因此此处我们仅针对两个连续变量进行方差分析检验特征筛选："
   ]
  },
  {
   "cell_type": "code",
   "execution_count": 405,
   "id": "56969481-ea06-420c-85fc-ee5d10bcd250",
   "metadata": {},
   "outputs": [
    {
     "data": {
      "text/plain": [
       "['tenure', 'MonthlyCharges', 'TotalCharges']"
      ]
     },
     "execution_count": 405,
     "metadata": {},
     "output_type": "execute_result"
    }
   ],
   "source": [
    "numeric_cols"
   ]
  },
  {
   "cell_type": "code",
   "execution_count": 406,
   "id": "4b173edb-fea3-4947-9173-f9a9da0dbc44",
   "metadata": {},
   "outputs": [
    {
     "data": {
      "text/plain": [
       "SelectKBest(k=2)"
      ]
     },
     "execution_count": 406,
     "metadata": {},
     "output_type": "execute_result"
    }
   ],
   "source": [
    "KB_CF = SelectKBest(f_classif, k=2)\n",
    "KB_CF.fit(X_train_OE[numeric_cols], y_train)"
   ]
  },
  {
   "cell_type": "code",
   "execution_count": 407,
   "id": "b166149b-0522-40a1-bf67-6152a7546ec1",
   "metadata": {},
   "outputs": [
    {
     "data": {
      "text/plain": [
       "array([772.52712199, 180.53638921, 244.16941072])"
      ]
     },
     "execution_count": 407,
     "metadata": {},
     "output_type": "execute_result"
    }
   ],
   "source": [
    "KB_CF.scores_"
   ]
  },
  {
   "cell_type": "code",
   "execution_count": 408,
   "id": "9ad1185d-f2de-4264-be5f-3b25a22369b1",
   "metadata": {},
   "outputs": [
    {
     "data": {
      "text/plain": [
       "array([8.46456399e-159, 1.70182240e-040, 7.67071015e-054])"
      ]
     },
     "execution_count": 408,
     "metadata": {},
     "output_type": "execute_result"
    }
   ],
   "source": [
    "KB_CF.pvalues_"
   ]
  },
  {
   "cell_type": "code",
   "execution_count": 409,
   "id": "203706d2-b501-41b6-9746-d5fe38544de8",
   "metadata": {},
   "outputs": [
    {
     "data": {
      "text/plain": [
       "['tenure', 'TotalCharges']"
      ]
     },
     "execution_count": 409,
     "metadata": {},
     "output_type": "execute_result"
    }
   ],
   "source": [
    "SelectName(KB_CF)"
   ]
  },
  {
   "cell_type": "code",
   "execution_count": 410,
   "id": "81c19928-c238-4369-8ddb-12a448afc70a",
   "metadata": {},
   "outputs": [
    {
     "data": {
      "text/plain": [
       "['tenure', 'MonthlyCharges', 'TotalCharges']"
      ]
     },
     "execution_count": 410,
     "metadata": {},
     "output_type": "execute_result"
    }
   ],
   "source": [
    "SelectName_P(P=0.01, KB=KB_CF)"
   ]
  },
  {
   "cell_type": "markdown",
   "id": "f54c452d-3542-4453-a228-296c123c6ef5",
   "metadata": {},
   "source": [
    "能够看出，对于卡方检验来说，tenure字段（如果看成是连续变量的话）和总消费金额字段会比月消费金额字段更有效果。"
   ]
  },
  {
   "cell_type": "markdown",
   "id": "faf303cf-dddf-4a02-a008-69c0ac7b8aa6",
   "metadata": {},
   "source": [
    "- f_classif与chi2"
   ]
  },
  {
   "cell_type": "markdown",
   "id": "890957d5-19ac-454f-b965-6e108676fd44",
   "metadata": {},
   "source": [
    "&emsp;&emsp;如果是针对分类问题，f_classif与chi2两个评分函数搭配使用，就能够完成一次完整的特征筛选，其中chi2用于筛选离散特征、f_classif用于筛选连续特征。在介绍完所有方法后我们会考虑将其封装在一个流程中使用。"
   ]
  },
  {
   "cell_type": "markdown",
   "id": "41ed1f0a-4ef9-40ac-9c22-6361c2cdf098",
   "metadata": {
    "tags": []
   },
   "source": [
    "### 5.线性相关性的F检验"
   ]
  },
  {
   "cell_type": "markdown",
   "id": "5c274913-364a-4909-975a-1099ac262764",
   "metadata": {},
   "source": [
    "- f_regression的计算过程"
   ]
  },
  {
   "cell_type": "markdown",
   "id": "f86a608f-ca3d-4fe4-9ff0-bdab08691288",
   "metadata": {},
   "source": [
    "&emsp;&emsp;f_classif和chi2检验能够很好的解决分类问题的特征筛选。而如果是回归问题，sklearn提供了一种基于F检验的线性相关性检验方法f_regression，该检验方法并不常见，但却和方差分析过程非常类似，我们可以对比来进行理解："
   ]
  },
  {
   "cell_type": "code",
   "execution_count": 411,
   "id": "50a555b4-1a17-4899-b354-de848b03fb6f",
   "metadata": {
    "tags": []
   },
   "outputs": [
    {
     "data": {
      "text/plain": [
       "\u001b[1;31mSignature:\u001b[0m \u001b[0mf_regression\u001b[0m\u001b[1;33m(\u001b[0m\u001b[0mX\u001b[0m\u001b[1;33m,\u001b[0m \u001b[0my\u001b[0m\u001b[1;33m,\u001b[0m \u001b[1;33m*\u001b[0m\u001b[1;33m,\u001b[0m \u001b[0mcenter\u001b[0m\u001b[1;33m=\u001b[0m\u001b[1;32mTrue\u001b[0m\u001b[1;33m)\u001b[0m\u001b[1;33m\u001b[0m\u001b[1;33m\u001b[0m\u001b[0m\n",
       "\u001b[1;31mDocstring:\u001b[0m\n",
       "Univariate linear regression tests returning F-statistic and p-values.\n",
       "\n",
       "Quick linear model for testing the effect of a single regressor,\n",
       "sequentially for many regressors.\n",
       "\n",
       "This is done in 2 steps:\n",
       "\n",
       "1. The cross correlation between each regressor and the target is computed,\n",
       "   that is, ((X[:, i] - mean(X[:, i])) * (y - mean_y)) / (std(X[:, i]) *\n",
       "   std(y)) using r_regression function.\n",
       "2. It is converted to an F score and then to a p-value.\n",
       "\n",
       ":func:`f_regression` is derived from :func:`r_regression` and will rank\n",
       "features in the same order if all the features are positively correlated\n",
       "with the target.\n",
       "\n",
       "Note however that contrary to :func:`f_regression`, :func:`r_regression`\n",
       "values lie in [-1, 1] and can thus be negative. :func:`f_regression` is\n",
       "therefore recommended as a feature selection criterion to identify\n",
       "potentially predictive feature for a downstream classifier, irrespective of\n",
       "the sign of the association with the target variable.\n",
       "\n",
       "Furthermore :func:`f_regression` returns p-values while\n",
       ":func:`r_regression` does not.\n",
       "\n",
       "Read more in the :ref:`User Guide <univariate_feature_selection>`.\n",
       "\n",
       "Parameters\n",
       "----------\n",
       "X : {array-like, sparse matrix} of shape (n_samples, n_features)\n",
       "    The data matrix.\n",
       "\n",
       "y : array-like of shape (n_samples,)\n",
       "    The target vector.\n",
       "\n",
       "center : bool, default=True\n",
       "    Whether or not to center the data matrix `X` and the target vector `y`.\n",
       "    By default, `X` and `y` will be centered.\n",
       "\n",
       "Returns\n",
       "-------\n",
       "f_statistic : ndarray of shape (n_features,)\n",
       "    F-statistic for each feature.\n",
       "\n",
       "p_values : ndarray of shape (n_features,)\n",
       "    P-values associated with the F-statistic.\n",
       "\n",
       "See Also\n",
       "--------\n",
       "r_regression: Pearson's R between label/feature for regression tasks.\n",
       "f_classif: ANOVA F-value between label/feature for classification tasks.\n",
       "chi2: Chi-squared stats of non-negative features for classification tasks.\n",
       "SelectKBest: Select features based on the k highest scores.\n",
       "SelectFpr: Select features based on a false positive rate test.\n",
       "SelectFdr: Select features based on an estimated false discovery rate.\n",
       "SelectFwe: Select features based on family-wise error rate.\n",
       "SelectPercentile: Select features based on percentile of the highest\n",
       "    scores.\n",
       "\u001b[1;31mFile:\u001b[0m      d:\\anaconda3\\lib\\site-packages\\sklearn\\feature_selection\\_univariate_selection.py\n",
       "\u001b[1;31mType:\u001b[0m      function\n"
      ]
     },
     "metadata": {},
     "output_type": "display_data"
    }
   ],
   "source": [
    "f_regression?"
   ]
  },
  {
   "cell_type": "markdown",
   "id": "299c33b4-cb12-4b79-90fd-0a27063fe78e",
   "metadata": {},
   "source": [
    "而f_regression的函数源码如下："
   ]
  },
  {
   "cell_type": "markdown",
   "id": "ad17b88a-e6fb-412a-b336-4a9b1194b045",
   "metadata": {},
   "source": [
    "<center><img src=\"https://s2.loli.net/2022/03/24/koawm45Ltqp8QB7.png\" alt=\"image-20220324152933797\" style=\"zoom:50%;\" />"
   ]
  },
  {
   "cell_type": "markdown",
   "id": "adadbab2-5b03-442e-8613-9d05d109aa9a",
   "metadata": {},
   "source": [
    "能够看出，f_regression构建了一个如下形式的F统计量："
   ]
  },
  {
   "cell_type": "markdown",
   "id": "e90a68d7-5e6b-476b-8597-048bbd626b25",
   "metadata": {},
   "source": [
    "$$F = \\frac{r^2_{xy}}{1-r^2_{xy}} * (n-2)$$"
   ]
  },
  {
   "cell_type": "markdown",
   "id": "f1041ff1-2e02-4910-9b56-178138566415",
   "metadata": {},
   "source": [
    "其中$r_{xy}$为两个连续变量的相关系数，并且满足自由度为(1,n-2)的F分布。该计算过程并不复杂，并且统计量F和$r_{xy}^2$变化方向一致，即与相关系数绝对值的变化保持一致，本质上和相关系数一样，也是衡量了两个变量之间的相关性，并且是一种线性相关关系，并且数值越大、线性相关关系越强，反之则越弱。这些都不难理解，但问题是为什么$\\frac{r^2_{xy}}{1-r^2_{xy}} * (n-2)$会服从F分布呢？这里我们需要先回顾下$r_{xy}$的计算公式，相关系数的计算公式是用xy的协方差除以x的标准差和y的标准差之积："
   ]
  },
  {
   "cell_type": "markdown",
   "id": "3c099868-da08-45c7-94e5-f1d33d8ced1e",
   "metadata": {},
   "source": [
    "$$r_{xy} = \\frac{\\sum^n_{i=1} (x_i-\\bar x)(y_i-\\bar y)}{\\sqrt{\\sum_{i=1}^n(x_i-\\bar x)^2}\\sqrt{\\sum_{i=1}^n(y_i-\\bar y)^2}}$$"
   ]
  },
  {
   "cell_type": "markdown",
   "id": "e59cf439-5f25-4de4-902d-c53ac3e37f88",
   "metadata": {},
   "source": [
    "&emsp;&emsp;相关系数的另一种解释方法是相互解释的变异占变异的比例。这里我们可以和此前离散变量的方差分析类似，定义总变差(Total variation)为SST："
   ]
  },
  {
   "cell_type": "markdown",
   "id": "20fe82a1-f34c-4def-ba67-f6acda588640",
   "metadata": {},
   "source": [
    "$$SST = \\sum_{i=1}^n(x_i-\\bar x)^2\\sum_{i=1}^n(y_i-\\bar y)^2$$"
   ]
  },
  {
   "cell_type": "markdown",
   "id": "2877a240-3427-4515-9728-dbcb531e54ff",
   "metadata": {},
   "source": [
    "而已经解释的变差(Explained variation)为SSR："
   ]
  },
  {
   "cell_type": "markdown",
   "id": "8b5d5f5e-8b43-4e99-80fb-05d82ec43a6c",
   "metadata": {},
   "source": [
    "$$SSR=(\\sum_{i=1}^n ( x_i-\\bar x)(y_i-\\bar y))^2$$"
   ]
  },
  {
   "cell_type": "markdown",
   "id": "fa41b1cf-99cb-40a4-9cd8-c524b96b87b2",
   "metadata": {},
   "source": [
    "则有："
   ]
  },
  {
   "cell_type": "markdown",
   "id": "34243169-3073-4b2e-b8bf-d7cb4d0f045c",
   "metadata": {},
   "source": [
    "$$r_{xy}^2=\\frac{SSR}{SST}$$"
   ]
  },
  {
   "cell_type": "markdown",
   "id": "de7d78a2-d1be-4f55-85e6-715798bc0b41",
   "metadata": {},
   "source": [
    "当然，类似的，未解释的变差部分我们也可以用SSE来进行表示，即SSE=SST-SSR。"
   ]
  },
  {
   "cell_type": "markdown",
   "id": "e427c103-cbd2-4199-9656-54834633a4ab",
   "metadata": {},
   "source": [
    "&emsp;&emsp;这里需要注意，如果这里不是x和y，而是y的预测值和y的真实值，则决定系数$R^2=\\frac{SSR}{SST}$。这也是为何经常会说决定系数实际上就是相关系数的平方的结论。此时我们再看$\\frac{r^2_{xy}}{1-r^2_{xy}}$所代表的含义，就非常清楚了："
   ]
  },
  {
   "cell_type": "markdown",
   "id": "efa0336b-9e2d-4e86-a02f-60f99ea7c6c2",
   "metadata": {},
   "source": [
    "$$\\frac{r^2_{xy}}{1-r^2_{xy}}=\\frac{SSR/SST}{1-SSR/SST}=\\frac{SSR}{SSE}$$"
   ]
  },
  {
   "cell_type": "markdown",
   "id": "5fe6855d-70eb-4c53-9000-423bb92fbd52",
   "metadata": {},
   "source": [
    "也就是已解释的变差和未解释的变差比例，就类似此前方差分析中的$\\frac{SSB}{SSE}$，而(n-2)实际上就是自由度，即："
   ]
  },
  {
   "cell_type": "markdown",
   "id": "ef43978b-5263-47b6-a299-bccfe382154d",
   "metadata": {},
   "source": [
    "$$F = \\frac{r^2_{xy}}{1-r^2_{xy}} * (n-2)=\\frac{SSR/1}{SSE/(n-2)}$$"
   ]
  },
  {
   "cell_type": "markdown",
   "id": "6ce09761-83dd-4998-b019-d0e6445d5215",
   "metadata": {},
   "source": [
    "相当于是对统计量的修正，而最终$\\frac{r^2_{xy}}{1-r^2_{xy}} * (n-2)\\sim F(1, n-2)$。"
   ]
  },
  {
   "cell_type": "markdown",
   "id": "0d9003a3-b9d6-4a62-94bd-d3561ed5041d",
   "metadata": {},
   "source": [
    "&emsp;&emsp;一旦找到了检验统计变量，我们就可以推断当前事件发生的概率，进而有理有据的接受或者拒绝零假设。而这里的基于相关系数的检验，零假设是二者不存在线性相关关系。由于最终的检验统计变量仍然是服从F分布的，因此我们称其为线性相关性的F检验。"
   ]
  },
  {
   "cell_type": "markdown",
   "id": "7bd91e61-c44b-43a0-8a33-99ae148bf072",
   "metadata": {},
   "source": [
    "&emsp;&emsp;并且，此时假设检验中零假设与备择假设如下："
   ]
  },
  {
   "cell_type": "markdown",
   "id": "5121da1a-a7ca-41c5-abc8-1a8accc52210",
   "metadata": {},
   "source": [
    "$$H_0:两个连续变量间不存在线性相关关系$$\n",
    "$$H_0:两个连续变量间存在线性相关关系$$"
   ]
  },
  {
   "cell_type": "markdown",
   "id": "5c835674-feab-41cc-a459-ccfa1e5c8ae0",
   "metadata": {},
   "source": [
    "- 借助f_regression进行特征筛选"
   ]
  },
  {
   "cell_type": "markdown",
   "id": "f2eecd7c-b6cd-4347-be62-0ca307c15dae",
   "metadata": {},
   "source": [
    "&emsp;&emsp;而借助f_regression进行特征筛选的过程我们在一开始就尝试过，这里需要注意，该方法只能用于回归问题中，并且只能筛选出与标签呈现线性相关关系的连续变量。当前数据集其实并不符合该要求，此处我们仅仅作展示使用："
   ]
  },
  {
   "cell_type": "code",
   "execution_count": 412,
   "id": "a843e520-d804-4735-a8af-d489dc92fe1d",
   "metadata": {},
   "outputs": [],
   "source": [
    "KB = SelectKBest(f_regression, k=10)"
   ]
  },
  {
   "cell_type": "code",
   "execution_count": 413,
   "id": "36b47698-130a-4b60-ada3-ea4e85fddcba",
   "metadata": {},
   "outputs": [
    {
     "data": {
      "text/plain": [
       "(5282, 10)"
      ]
     },
     "execution_count": 413,
     "metadata": {},
     "output_type": "execute_result"
    }
   ],
   "source": [
    "X_new = KB.fit_transform(X_train_OE, y_train)\n",
    "X_new.shape"
   ]
  },
  {
   "cell_type": "markdown",
   "id": "bc018017-1f03-4dfb-8cd5-18ff16c395ce",
   "metadata": {},
   "source": [
    "此时筛选出来的特征如下："
   ]
  },
  {
   "cell_type": "code",
   "execution_count": 414,
   "id": "643366b2-9275-4688-a371-e66477db9443",
   "metadata": {},
   "outputs": [
    {
     "data": {
      "text/plain": [
       "['Partner',\n",
       " 'OnlineSecurity',\n",
       " 'OnlineBackup',\n",
       " 'DeviceProtection',\n",
       " 'TechSupport',\n",
       " 'Contract',\n",
       " 'PaperlessBilling',\n",
       " 'tenure',\n",
       " 'MonthlyCharges',\n",
       " 'TotalCharges']"
      ]
     },
     "execution_count": 414,
     "metadata": {},
     "output_type": "execute_result"
    }
   ],
   "source": [
    "SelectName(KB)"
   ]
  },
  {
   "cell_type": "code",
   "execution_count": 415,
   "id": "eee0c339-3a75-486a-bd99-8bca02ee3249",
   "metadata": {},
   "outputs": [
    {
     "data": {
      "text/plain": [
       "array(['Partner', 'OnlineSecurity', 'OnlineBackup', 'DeviceProtection',\n",
       "       'TechSupport', 'Contract', 'PaperlessBilling', 'tenure',\n",
       "       'MonthlyCharges', 'TotalCharges'], dtype=object)"
      ]
     },
     "execution_count": 415,
     "metadata": {},
     "output_type": "execute_result"
    }
   ],
   "source": [
    "KB.get_feature_names_out()"
   ]
  },
  {
   "cell_type": "markdown",
   "id": "53cd39c6-cdbc-4dd1-95bc-14d16a50d466",
   "metadata": {
    "tags": []
   },
   "source": [
    "### 6.互信息法（mutual information）"
   ]
  },
  {
   "cell_type": "markdown",
   "id": "aed9ee49-9947-4358-9ba9-41bd6fc7a325",
   "metadata": {},
   "source": [
    "&emsp;&emsp;尽管f_regression巧妙的构建了一个F统计量，并借此成功的借助假设检验来判断变量之间是否存在线性相关关系，但f_regression仍然存在较大局限，首当其冲当然是f_regression只能挖掘线性相关关系，也就是两个变量的同步变化关系，但除了线性关联关系外，变量之间存在其他类别的“关联关系”也是有助于模型建模，而其他类型的关系，无法被f_regression识别；其二就是由于离散变量（尤其是名义型变量）的数值大小是没有意义的，因此判断离散变量和其他变量的“线性关系”意义不大，因此f_regression只能作用于两个连续变量之间。综上所述，f_regression唯一适用的场景就是用于线性回归的连续变量特征筛选的过程中。而对于机器学习，针对于回归类问题，仅仅依靠f_regression进行连续型变量的特征筛选肯定是远远不够的。接下来我们就进一步介绍可以挖掘除了线性相关关系外的特征筛选方法：互信息法。"
   ]
  },
  {
   "cell_type": "markdown",
   "id": "58f01e62-ccc4-4ec9-9b84-b1215d5768da",
   "metadata": {
    "tags": []
   },
   "source": [
    "#### 6.1 离散变量之间的互信息"
   ]
  },
  {
   "cell_type": "markdown",
   "id": "f4885bc7-1223-43b6-8dc0-eb56f2a0bc3d",
   "metadata": {},
   "source": [
    "&emsp;&emsp;互信息法的作用范围非常广，可用于不同类型变量间的关联性挖掘，而同时该方法的原理比较复杂，我们先从相对简单的离散变量之间的互信息开始介绍，然后再拓展到连续变量的互信息法。"
   ]
  },
  {
   "cell_type": "markdown",
   "id": "e714366d-4a7a-44fb-a33f-206b083d86c5",
   "metadata": {},
   "source": [
    "- 从信息增益角度理解互信息"
   ]
  },
  {
   "cell_type": "markdown",
   "id": "377612f7-f7db-4e19-ade6-cc39770ef20c",
   "metadata": {},
   "source": [
    "&emsp;&emsp;简而言之，互信息法就是借助互信息这一评估指标来进行特征筛选，我们先借助此前介绍过的信息熵与信息增益的相关概念来理解到底什么是互信息，然后再进行更为复杂的公式推导。"
   ]
  },
  {
   "cell_type": "markdown",
   "id": "f0f0382d-e294-4091-9233-eb8e07179d13",
   "metadata": {},
   "source": [
    "&emsp;&emsp;在Lesson 4逻辑回归的参数估计与Lesson 8的决策树的基本原理章节中，我们曾介绍过关于和信息增益等概念，此处进行简单回顾，所谓信息熵，以离散变量为例，指的是某个数组（更多时候指的是标签）取值的混乱程度，数组取值越不纯、信息熵数值越大。信息熵计算公式如下："
   ]
  },
  {
   "cell_type": "markdown",
   "id": "3e9c4a5c-94f4-409c-b2c5-35906c7463d9",
   "metadata": {},
   "source": [
    "$$H(X) = -\\sum^n_{i=1}p(x_i)log(p(x_i))$$"
   ]
  },
  {
   "cell_type": "markdown",
   "id": "9e579164-9db1-45ac-bf23-b46a2d26cd14",
   "metadata": {},
   "source": [
    "其中，$p(x_i)$表示多分类问题中第$i$个类别出现的概率，$n$表示类别总数，通常来说信息熵的计算都取底数为2，并且规定$log0=0$。举例说明信息熵计算过程，假设有二分类数据集标签如下："
   ]
  },
  {
   "cell_type": "markdown",
   "id": "ffdf8ecf-814f-4858-96c4-9707ffdbb40e",
   "metadata": {},
   "source": [
    "|index|labels|      \n",
    "|:--:|:--:|   \n",
    "|1|0|      \n",
    "|2|1|\n",
    "|3|1|\n",
    "|4|1|"
   ]
  },
  {
   "cell_type": "markdown",
   "id": "7f97fdcc-2a4c-447b-b5d5-7c26d015b2f9",
   "metadata": {},
   "source": [
    "则信息熵的计算过程中$n=2$，令$p(x_1)$表示类别0的概率，$p(x_2)$表示类别1的概率（反之亦然），则$$p(x_1)=\\frac{1}{4}$$\n",
    "$$p(x_2)=\\frac{3}{4}$$"
   ]
  },
  {
   "cell_type": "markdown",
   "id": "48def44a-a575-484a-a9d0-91f65d02049e",
   "metadata": {},
   "source": [
    "则该数据集的信息熵计算结果如下："
   ]
  },
  {
   "cell_type": "markdown",
   "id": "955d9077-7440-4abe-80f2-e7289bdd47a4",
   "metadata": {},
   "source": [
    "$$\\begin{aligned}\n",
    "H(X) &= -(p(x_1)log(p(x_1))+p(x_2)log(p(x_2))) \\\\\n",
    "&=-(\\frac{1}{4})log(\\frac{1}{4})-(\\frac{3}{4})log(\\frac{3}{4})\n",
    "\\end{aligned}$$"
   ]
  },
  {
   "cell_type": "code",
   "execution_count": 416,
   "id": "cf509b4c-f2db-4c27-964f-409f9f6e6f8d",
   "metadata": {},
   "outputs": [
    {
     "data": {
      "text/plain": [
       "0.8112781244591328"
      ]
     },
     "execution_count": 416,
     "metadata": {},
     "output_type": "execute_result"
    }
   ],
   "source": [
    "-1/4 * np.log2(1/4) - 3/4 * np.log2(3/4)"
   ]
  },
  {
   "cell_type": "markdown",
   "id": "8d1901b2-612d-442b-a764-2f05a49f98fc",
   "metadata": {},
   "source": [
    "当然，此处也可以借助scipy中的stats.entropy函数来完成信息熵的计算："
   ]
  },
  {
   "cell_type": "code",
   "execution_count": 417,
   "id": "9a357980-50c2-4652-b051-5fcecfb77459",
   "metadata": {},
   "outputs": [
    {
     "data": {
      "text/plain": [
       "0.8112781244591328"
      ]
     },
     "execution_count": 417,
     "metadata": {},
     "output_type": "execute_result"
    }
   ],
   "source": [
    "scipy.stats.entropy([1/4, 3/4], base=2)"
   ]
  },
  {
   "cell_type": "markdown",
   "id": "da0c62da-7033-4730-919f-0a95f17b4567",
   "metadata": {},
   "source": [
    "&emsp;&emsp;如果不纯度继续提升，例如有如下两个数据集，其中数据集2总共4条样本，0、1类各占50%。"
   ]
  },
  {
   "cell_type": "markdown",
   "id": "c4031fb8-a04f-4cb7-99a9-ce1df35413f4",
   "metadata": {},
   "source": [
    "|index|labels|      \n",
    "|:--:|:--:|   \n",
    "|1|0|      \n",
    "|2|1|\n",
    "|3|0|\n",
    "|4|1|"
   ]
  },
  {
   "cell_type": "markdown",
   "id": "ec2f189a-bd5a-4f0c-83c9-bf5a72cf16c1",
   "metadata": {},
   "source": [
    "对于该数据集，则信息熵也会继续提升：$$H_1(X) = -(\\frac{1}{2})log(\\frac{1}{2})-(\\frac{1}{2})log(\\frac{1}{2})$$"
   ]
  },
  {
   "cell_type": "code",
   "execution_count": 418,
   "id": "cb81a687-50a1-4df1-ace8-7d547f0d6845",
   "metadata": {},
   "outputs": [
    {
     "data": {
      "text/plain": [
       "1.0"
      ]
     },
     "execution_count": 418,
     "metadata": {},
     "output_type": "execute_result"
    }
   ],
   "source": [
    "-1/2 * np.log2(1/2) - 1/2 * np.log2(1/2)"
   ]
  },
  {
   "cell_type": "markdown",
   "id": "ef381890-dde7-460a-8812-f00a48d44f16",
   "metadata": {},
   "source": [
    "&emsp;&emsp;而过数据集不纯度下降，则信息熵也会下降："
   ]
  },
  {
   "cell_type": "markdown",
   "id": "0d04efa9-10f6-45fd-8fb7-ae252492124f",
   "metadata": {},
   "source": [
    "|index|labels|      \n",
    "|:--:|:--:|   \n",
    "|1|1|      \n",
    "|2|1|\n",
    "|3|1|\n",
    "|4|1|"
   ]
  },
  {
   "cell_type": "markdown",
   "id": "19245a99-3184-4954-983e-e42a6ce80612",
   "metadata": {},
   "source": [
    "信息熵计算可得：$$H_1(X) = -(\\frac{4}{4})log(\\frac{4}{4})-(\\frac{0}{4})log(\\frac{0}{4})=0$$"
   ]
  },
  {
   "cell_type": "markdown",
   "id": "5722c69a-a4c4-4786-b72a-e0ec50a0b9b4",
   "metadata": {},
   "source": [
    "&emsp;&emsp;而信息增益，则表示如果以某一列数组对另一列数组进行划分，划分前数组信息熵和划分后子数据集信息熵的差值，该概念首次出现是在介绍ID 3决策树算法时，其基本计算公式如下："
   ]
  },
  {
   "cell_type": "markdown",
   "id": "73e69483-9a00-4775-b444-ba2b9268e977",
   "metadata": {},
   "source": [
    "$$\\begin{align}\n",
    "I(D\\,;A) & = H(D) - H(D|A) = H(D) - \\sum\\limits_{v=1}^\\mathcal{V}\\frac{|D^v|}{|D|} H(D^v)   \n",
    "\\end{align}$$"
   ]
  },
  {
   "cell_type": "markdown",
   "id": "3c380777-5181-4c05-aadb-411437d46aa5",
   "metadata": {},
   "source": [
    "其中D代表原始数据集的某数组（假设该数组为数据集的标签），A代表数据集中另一个数组（假设该数组为数据集的某个特征），H(D)表示原始状态下标签D的信息熵，而H(D|A)则表示在依据A数组不同取值的划分后，子数据集整体的信息熵，也被称为条件熵。而具体H(D|A)的过程，则是$\\sum\\limits_{v=1}^\\mathcal{V}\\frac{|D^v|}{|D|} H(D^v)$，其中$\\mathcal{V}$表示总类别个数（即A的类别取值个数），$|D^v|$表示第$v$个子集样本总数、$|D|$表示原始数据集样本总数，即子数据集整体的信息熵实际上就是每个子数据各自的信息熵进行加权求和后的结果，而权重就是每个子数据集样本数占总数据集样本数的比例。"
   ]
  },
  {
   "cell_type": "markdown",
   "id": "f2c35e7e-a53a-44ac-8526-38e6f5ff0a84",
   "metadata": {},
   "source": [
    "&emsp;&emsp;接下里举例说明，例如现有简单数组如下，在按照特征对标签进行分组后，各数据集的信息熵计算结果如下："
   ]
  },
  {
   "cell_type": "markdown",
   "id": "249f938f-e0e9-47d9-bd6b-2a181a6fb920",
   "metadata": {},
   "source": [
    "<center><img src=\"https://s2.loli.net/2022/04/07/8XOLFrQtmzYVkPC.png\" alt=\"image-20220407152703999\" style=\"zoom:33%;\" />"
   ]
  },
  {
   "cell_type": "code",
   "execution_count": 419,
   "id": "2502ba4e-ed54-4582-a68c-9f3af47875bd",
   "metadata": {},
   "outputs": [
    {
     "data": {
      "text/plain": [
       "0.9182958340544896"
      ]
     },
     "execution_count": 419,
     "metadata": {},
     "output_type": "execute_result"
    }
   ],
   "source": [
    "-1/3 * np.log2(1/3) - 2/3 * np.log2(2/3)"
   ]
  },
  {
   "cell_type": "markdown",
   "id": "b8bef86d-a2bd-4d7a-add8-111f42c68827",
   "metadata": {},
   "source": [
    "此时可以计算信息增益："
   ]
  },
  {
   "cell_type": "code",
   "execution_count": 420,
   "id": "1de74ab9-e70d-4408-8a80-1de2e060b5ea",
   "metadata": {},
   "outputs": [
    {
     "data": {
      "text/plain": [
       "(0.918, 0.459)"
      ]
     },
     "execution_count": 420,
     "metadata": {},
     "output_type": "execute_result"
    }
   ],
   "source": [
    "# 原数据集信息熵\n",
    "ent_A = 0.918\n",
    "\n",
    "# 子数据集整体信息熵，各个子数据集信息熵加权求和\n",
    "ent_B = 1/2 * 0.918 + 1/2 * 0\n",
    "\n",
    "ent_A, ent_B"
   ]
  },
  {
   "cell_type": "code",
   "execution_count": 421,
   "id": "67dd5208-28c9-4bf8-9597-b0b99ba9e056",
   "metadata": {},
   "outputs": [
    {
     "data": {
      "text/plain": [
       "0.459"
      ]
     },
     "execution_count": 421,
     "metadata": {},
     "output_type": "execute_result"
    }
   ],
   "source": [
    "gain = ent_A - ent_B\n",
    "gain"
   ]
  },
  {
   "cell_type": "markdown",
   "id": "cbb1a4db-bee5-4605-a998-acde9607fc16",
   "metadata": {},
   "source": [
    "而这也是ID 3决策树的基本建树流程，即找到最能够降低子数据集标签不纯度的特征对数据集进行划分，而这里的信息增益，其实也就是这个降低不纯度的量化的指标。"
   ]
  },
  {
   "cell_type": "markdown",
   "id": "94d5fbe7-450e-4a85-81a7-669e99003a7c",
   "metadata": {},
   "source": [
    "> ID 3决策树的建模流程详情可回顾Lesson 8.3 ID3、C4.5决策树的建模流程的相关内容。"
   ]
  },
  {
   "cell_type": "markdown",
   "id": "2365b9f0-a57d-430f-a2b4-13924ef8b411",
   "metadata": {},
   "source": [
    "&emsp;&emsp;当然，对于信息增益来说，还有另外一种理解角度，即某个变量对另一个变量的解释程度，或者说某个变量所包含另一个变量的信息，而从本质上来说，信息增益其实就是互信息，而互信息中的“互”，其实也就是两个变量相互包含对方信息的意思。我们可以借助维基百科上关于互信息法的解释图进行理解："
   ]
  },
  {
   "cell_type": "markdown",
   "id": "16ba47bc-96c4-4b5a-9d26-0aee5c90fc5a",
   "metadata": {},
   "source": [
    "<center><img src=\"https://s2.loli.net/2022/04/07/AykP87JQ9r1qVij.png\" alt=\"image-20220407155034722\" style=\"zoom:20%;\" />"
   ]
  },
  {
   "cell_type": "markdown",
   "id": "a9fc6cd4-4b43-4be8-a90d-a20a6c01c434",
   "metadata": {},
   "source": [
    "其中，$H(X)、H(Y)$表示X和Y的信息熵，$H(X|Y)$则表示在Y确定时X不确定的部分，$H(Y|X)$表示在X确定时Y不确定的部分，这些也被称为条件熵。而$I(X;Y)$则表示两个变量能相互解释的部分，即互信息。"
   ]
  },
  {
   "cell_type": "markdown",
   "id": "eb479df5-fadd-4a97-b69e-4512fa3f8fa7",
   "metadata": {},
   "source": [
    "- 互信息法特征筛选过程"
   ]
  },
  {
   "cell_type": "markdown",
   "id": "aff949f4-1a17-4efe-aae9-a9db35cd2aca",
   "metadata": {},
   "source": [
    "&emsp;&emsp;在理解了互信息的本质之后，接下来借助互信息来进行特征筛选的过程就呼之欲出了。在互信息法的特征筛选过程中，我们将互信息视作每个特征的评分，然后挑选那些评分较高的特征带入模型进行训练。也就是说互信息从特征筛选角度来看，也是一种特征的评分方法，并且这也是非常适用于机器学习算法、并且拥有广泛适用场景的评分，稍后还会进行更进一步的介绍。"
   ]
  },
  {
   "cell_type": "markdown",
   "id": "2be9d360-e601-442c-afe6-61a1569754b8",
   "metadata": {},
   "source": [
    "- 树的生长与互信息法"
   ]
  },
  {
   "cell_type": "markdown",
   "id": "fad42f0a-d2d0-46cf-8d6c-0dd444718399",
   "metadata": {},
   "source": [
    "&emsp;&emsp;由此再反观ID 3的建树流程，我们知道对于ID3来说，如果是带入多个特征进行决策树的构建，那么模型会首选信息增益最大的列进行数据集划分（即树的生长），这个过程从另一个角度来说其实就是一个借助互信息来进行特征筛选的过程，即ID3每次生长都会先选取那些（在剩余特征中）互信息最大的特征带入进行规则提取。理解到这层，我们其实就能够很顺利的解决两个问题：其一是为什么树模型以及以树模型为弱分类器的集成算法可以不进行特征筛选，原因是树模型的生长过程其实是会自动进行特征筛选的（CART树也有类似过程，只不过更换了信息熵为基尼系数）；其二则是互信息这一指标的实际作用，确实能够挑选出能有效帮助模型建模的特征。而互信息法的本质，我们也可以将其理解为一个剥离决策树模型训练、单纯只对每个特征进行互信息计算、然后根据互信息进行挑选特征的过程。"
   ]
  },
  {
   "cell_type": "markdown",
   "id": "df3eb910-d9ba-4c8d-aadf-e03b570d78e0",
   "metadata": {},
   "source": [
    "> 此外，树模型的feature_importance的属性值，本质上也是多次生长后累计的互信息值。"
   ]
  },
  {
   "cell_type": "markdown",
   "id": "5ed2d1c6-59ef-4422-8bf7-937b663c7943",
   "metadata": {},
   "source": [
    "&emsp;&emsp;不过这里需要再次强调的是，尽管树模型的自动特征挑选和互信息法看起来有些重复，但如果是经过特征衍生的特征矩阵，对其进行特征筛选仍然是非常必要的。在特征筛选过程中动则就会创建数以万计的特征，而如果不进行特征筛选，仅靠树模型以此进行互信息的计算然后再挑选最优特征再进行一层层生长，将会非常耗时。而反之，对于目前机器学习算法来说，如果只有数量较少的原始特征而不进行特征衍生，则完全可以不用进行互信息法特征筛选，直接带入模型进行训练即可。"
   ]
  },
  {
   "cell_type": "markdown",
   "id": "6372b51c-5043-42d3-aca3-6cab3ef3eaf7",
   "metadata": {},
   "source": [
    "- 互信息的对称性"
   ]
  },
  {
   "cell_type": "markdown",
   "id": "6e8281a9-5eee-42d3-8690-2bc623a4a4fa",
   "metadata": {},
   "source": [
    "&emsp;&emsp;既然是两个变量相互包含对方的信息被称作“互信息”，那么很明显，用A来解释D还是用D来解释A，其实都不存在任何差异，即如果上述极简示例中我们将A和D的位置互换，则仍然能够得到相同的信息增益计算结果："
   ]
  },
  {
   "cell_type": "markdown",
   "id": "5b0f71f8-5f86-4d83-823e-a84e9f8dd928",
   "metadata": {},
   "source": [
    "<center><img src=\"https://s2.loli.net/2022/04/07/qcrdQJwOKf3GmIW.png\" alt=\"image-20220407155724777\" style=\"zoom:33%;\" />"
   ]
  },
  {
   "cell_type": "code",
   "execution_count": 422,
   "id": "03c52cd0-bf25-4e94-9150-a3b5f3324e18",
   "metadata": {},
   "outputs": [
    {
     "data": {
      "text/plain": [
       "0.8112781244591328"
      ]
     },
     "execution_count": 422,
     "metadata": {},
     "output_type": "execute_result"
    }
   ],
   "source": [
    "-1/4 * np.log2(1/4) - 3/4 * np.log2(3/4)"
   ]
  },
  {
   "cell_type": "code",
   "execution_count": 423,
   "id": "05ca9309-1617-4301-90bd-3410ecca2932",
   "metadata": {},
   "outputs": [
    {
     "data": {
      "text/plain": [
       "(1, 0.5406666666666666)"
      ]
     },
     "execution_count": 423,
     "metadata": {},
     "output_type": "execute_result"
    }
   ],
   "source": [
    "# 原数据集信息熵\n",
    "ent_A = 1\n",
    "\n",
    "# 子数据集整体信息熵，各个子数据集信息熵加权求和\n",
    "ent_B = 1/3 * 0 + 2/3 * 0.811\n",
    "\n",
    "ent_A, ent_B"
   ]
  },
  {
   "cell_type": "code",
   "execution_count": 424,
   "id": "167797a2-443d-4212-8af0-5704de2d43ff",
   "metadata": {},
   "outputs": [
    {
     "data": {
      "text/plain": [
       "0.45933333333333337"
      ]
     },
     "execution_count": 424,
     "metadata": {},
     "output_type": "execute_result"
    }
   ],
   "source": [
    "gain = ent_A - ent_B\n",
    "gain"
   ]
  },
  {
   "cell_type": "markdown",
   "id": "9b0132c9-13b0-49c8-874d-c59452deac5e",
   "metadata": {},
   "source": [
    "也就是说，互信息这一计算指标本身就具备对称性。"
   ]
  },
  {
   "cell_type": "markdown",
   "id": "ce6658d5-0e82-4aa7-92e3-f030fe114018",
   "metadata": {},
   "source": [
    "- 互信息的计算函数"
   ]
  },
  {
   "cell_type": "markdown",
   "id": "10b71e5d-8032-4180-a8d1-31339fc1dd9b",
   "metadata": {},
   "source": [
    "&emsp;&emsp;当然，我们也可以借助sklearn中的相关函数来更加自动化的执行互信息的计算，对于上述分类变量的互信息计算过程，可以借助sklearn中评估函数的mutual_info_score来完成计算："
   ]
  },
  {
   "cell_type": "code",
   "execution_count": 425,
   "id": "a9bae73f-8c87-4549-9923-bb3346b3ce88",
   "metadata": {},
   "outputs": [],
   "source": [
    "from sklearn.metrics import mutual_info_score"
   ]
  },
  {
   "cell_type": "code",
   "execution_count": 426,
   "id": "2ece98b3-3c06-4484-bcf0-fbbae1ea6daf",
   "metadata": {},
   "outputs": [],
   "source": [
    "A = np.array([0, 0, 0, 1, 1, 1])\n",
    "D = np.array([0, 1, 1, 0, 0, 0])"
   ]
  },
  {
   "cell_type": "code",
   "execution_count": 427,
   "id": "193a22c2-5a9c-4499-9f11-a7004f3582cb",
   "metadata": {},
   "outputs": [
    {
     "data": {
      "text/plain": [
       "0.3182570841474064"
      ]
     },
     "execution_count": 427,
     "metadata": {},
     "output_type": "execute_result"
    }
   ],
   "source": [
    "mutual_info_score(A, D)"
   ]
  },
  {
   "cell_type": "code",
   "execution_count": 428,
   "id": "35558e88-41f0-4c8f-a104-d8def5c8f5d8",
   "metadata": {},
   "outputs": [
    {
     "data": {
      "text/plain": [
       "0.3182570841474064"
      ]
     },
     "execution_count": 428,
     "metadata": {},
     "output_type": "execute_result"
    }
   ],
   "source": [
    "mutual_info_score(D, A)"
   ]
  },
  {
   "cell_type": "markdown",
   "id": "fe706685-8c66-4248-bb62-17efd31584bc",
   "metadata": {},
   "source": [
    "此处需要注意，sklearn中在进行信息熵计算时默认以e为底，修改底数后验证互信息计算结果："
   ]
  },
  {
   "cell_type": "markdown",
   "id": "d226abc3-2eae-41a1-a397-9b8f707b8204",
   "metadata": {},
   "source": [
    "<center><img src=\"https://s2.loli.net/2022/04/07/qcrdQJwOKf3GmIW.png\" alt=\"image-20220407155724777\" style=\"zoom:33%;\" />"
   ]
  },
  {
   "cell_type": "code",
   "execution_count": 429,
   "id": "89a8a274-c91c-4046-a1c6-5bec57bb4f2a",
   "metadata": {},
   "outputs": [
    {
     "data": {
      "text/plain": [
       "0.6365141682948128"
      ]
     },
     "execution_count": 429,
     "metadata": {},
     "output_type": "execute_result"
    }
   ],
   "source": [
    "-1/3 * np.log(1/3) - 2/3 * np.log(2/3)"
   ]
  },
  {
   "cell_type": "code",
   "execution_count": 430,
   "id": "977e6880-9f7e-440f-a88e-e1b4c0c96a46",
   "metadata": {},
   "outputs": [
    {
     "data": {
      "text/plain": [
       "(0.6365, 0.31825)"
      ]
     },
     "execution_count": 430,
     "metadata": {},
     "output_type": "execute_result"
    }
   ],
   "source": [
    "# 原数据集信息熵\n",
    "ent_A = 0.6365\n",
    "\n",
    "# 子数据集整体信息熵，各个子数据集信息熵加权求和\n",
    "ent_B = 1/2 * 0.6365 + 1/2 * 0\n",
    "\n",
    "ent_A, ent_B"
   ]
  },
  {
   "cell_type": "code",
   "execution_count": 431,
   "id": "3c110e55-fabf-42f5-8acf-1e927a027f74",
   "metadata": {},
   "outputs": [
    {
     "data": {
      "text/plain": [
       "0.31825"
      ]
     },
     "execution_count": 431,
     "metadata": {},
     "output_type": "execute_result"
    }
   ],
   "source": [
    "gain = ent_A - ent_B\n",
    "gain"
   ]
  },
  {
   "cell_type": "markdown",
   "id": "58baf55c-e332-410b-99c7-4ecdecc8d5f6",
   "metadata": {},
   "source": [
    "和手动计算结果一致。"
   ]
  },
  {
   "cell_type": "markdown",
   "id": "a152b451-d819-4f4b-9f08-604a542551d4",
   "metadata": {},
   "source": [
    "- 从变量分布一致角度理解互信息"
   ]
  },
  {
   "cell_type": "markdown",
   "id": "7fd4d2d4-b074-44be-9ff7-eb7dd42a8f4e",
   "metadata": {},
   "source": [
    "&emsp;&emsp;除了能够从信息熵和信息增益的角度理解互信息外，还可以从变量分布的角度进行理解。其实不难发现，对于两个离散变量来说，如果取值分布较为一致，则互信息肯定也比较大。对于前例数据集来说，特征A和标签D的取值其实是高度一致的："
   ]
  },
  {
   "cell_type": "code",
   "execution_count": 432,
   "id": "8e912ca2-51ac-43d5-bf8a-843a3bd10aea",
   "metadata": {},
   "outputs": [
    {
     "data": {
      "text/plain": [
       "(array([0, 0, 0, 1, 1, 1]), array([0, 1, 1, 0, 0, 0]))"
      ]
     },
     "execution_count": 432,
     "metadata": {},
     "output_type": "execute_result"
    }
   ],
   "source": [
    "A, D"
   ]
  },
  {
   "cell_type": "markdown",
   "id": "13773c7a-3c40-44df-a2b9-9fc909ff8b99",
   "metadata": {},
   "source": [
    "|feature_A|label_D|      \n",
    "|:--:|:--:|   \n",
    "|0|0|      \n",
    "|0|1|\n",
    "|0|1|\n",
    "|1|0|\n",
    "|1|0|\n",
    "|1|0|"
   ]
  },
  {
   "cell_type": "markdown",
   "id": "2ef90a23-5f37-47cb-bc75-662014abf1d9",
   "metadata": {},
   "source": [
    "可能有同学无法从上述数据分布中观察到A和D分布的一致性，其实对于离散变量来说取值只是一种标记，我们将A的0、1标记互换，则能够更加明显的观察到二者分布的一致性："
   ]
  },
  {
   "cell_type": "markdown",
   "id": "4db0dcf9-6af4-46c6-80f5-6c2ecd5fc30b",
   "metadata": {},
   "source": [
    "|feature_A|label_D|      \n",
    "|:--:|:--:|   \n",
    "|1|0|      \n",
    "|1|1|\n",
    "|1|1|\n",
    "|0|0|\n",
    "|0|0|\n",
    "|0|0|"
   ]
  },
  {
   "cell_type": "markdown",
   "id": "3a7171da-3632-4699-9ace-a82868147f38",
   "metadata": {},
   "source": [
    "而此时二者的互信息其实数值也是相对较高："
   ]
  },
  {
   "cell_type": "code",
   "execution_count": 433,
   "id": "aa26f52d-1eed-4624-bfac-b308cc6b2b5d",
   "metadata": {},
   "outputs": [
    {
     "data": {
      "text/plain": [
       "0.3182570841474064"
      ]
     },
     "execution_count": 433,
     "metadata": {},
     "output_type": "execute_result"
    }
   ],
   "source": [
    "mutual_info_score(D, A)"
   ]
  },
  {
   "cell_type": "markdown",
   "id": "6b3151b5-ca6f-4de0-9157-a5d3e26ad036",
   "metadata": {},
   "source": [
    "而此时如果我们添加一个分布完全不一致的特征B，则会算出一个互信息更少的结果："
   ]
  },
  {
   "cell_type": "markdown",
   "id": "d1abf94a-be22-4c00-a3bd-fb4ba850abb3",
   "metadata": {},
   "source": [
    "|feature_A|feature_B|label_D|      \n",
    "|:--:|:--:|:--:|   \n",
    "|0|0|0|      \n",
    "|0|1|1|\n",
    "|0|0|1|\n",
    "|1|1|0|\n",
    "|1|0|0|\n",
    "|1|1|0|"
   ]
  },
  {
   "cell_type": "code",
   "execution_count": 434,
   "id": "8699158d-2dfe-4c11-bfff-105e53d58614",
   "metadata": {},
   "outputs": [
    {
     "data": {
      "text/plain": [
       "array([0, 1, 0, 1, 0, 1])"
      ]
     },
     "execution_count": 434,
     "metadata": {},
     "output_type": "execute_result"
    }
   ],
   "source": [
    "B = np.array([0, 1]*3)\n",
    "B"
   ]
  },
  {
   "cell_type": "code",
   "execution_count": 435,
   "id": "e931b35f-56b1-4dc9-8a0e-9a74389efbd7",
   "metadata": {},
   "outputs": [
    {
     "data": {
      "text/plain": [
       "0.0"
      ]
     },
     "execution_count": 435,
     "metadata": {},
     "output_type": "execute_result"
    }
   ],
   "source": [
    "mutual_info_score(D, B)"
   ]
  },
  {
   "cell_type": "markdown",
   "id": "28a3d502-fc06-4590-8de4-4978ddbea087",
   "metadata": {},
   "source": [
    "而从信息增益角度考虑，互信息结果为0，则说明以B的不同取值对数据集进行划分，子数据集的标签不纯度并没有任何的变化："
   ]
  },
  {
   "cell_type": "markdown",
   "id": "350b62c0-9429-4964-8e9b-63ddcb859c35",
   "metadata": {},
   "source": [
    "<center><img src=\"https://s2.loli.net/2022/04/07/7gdDbpis5WMPr9y.png\" alt=\"image-20220407190349480\" style=\"zoom: 33%;\" />"
   ]
  },
  {
   "cell_type": "code",
   "execution_count": 436,
   "id": "98b61bc3-ed24-4e02-b008-caeee84f2c73",
   "metadata": {},
   "outputs": [
    {
     "data": {
      "text/plain": [
       "0.6365141682948128"
      ]
     },
     "execution_count": 436,
     "metadata": {},
     "output_type": "execute_result"
    }
   ],
   "source": [
    "# 此处以e为底计算信息熵\n",
    "scipy.stats.entropy([1/3, 2/3])"
   ]
  },
  {
   "cell_type": "markdown",
   "id": "fe93f718-06dd-4129-b5ac-8d035106f78b",
   "metadata": {},
   "source": [
    "而如果创建一个和D分布完全一致的特征C，则将算得一个更大的互信息："
   ]
  },
  {
   "cell_type": "markdown",
   "id": "25de5e47-8057-4711-9156-833dc52b80ed",
   "metadata": {},
   "source": [
    "|feature_A|feature_B|feature_C|label_D|      \n",
    "|:--:|:--:|:--:|:--:|   \n",
    "|0|0|0|0|      \n",
    "|0|1|1|1|\n",
    "|0|0|1|1|\n",
    "|1|1|0|0|\n",
    "|1|0|0|0|\n",
    "|1|1|0|0|"
   ]
  },
  {
   "cell_type": "code",
   "execution_count": 437,
   "id": "e3aeb681-7f8e-4115-987c-5a695f80e47b",
   "metadata": {},
   "outputs": [
    {
     "data": {
      "text/plain": [
       "array([0, 1, 1, 0, 0, 0])"
      ]
     },
     "execution_count": 437,
     "metadata": {},
     "output_type": "execute_result"
    }
   ],
   "source": [
    "C = np.array([0, 1, 1, 0, 0, 0])\n",
    "C"
   ]
  },
  {
   "cell_type": "code",
   "execution_count": 438,
   "id": "d304b7cd-e97c-42ad-b770-f438d7bd2ea0",
   "metadata": {},
   "outputs": [
    {
     "data": {
      "text/plain": [
       "0.6365141682948128"
      ]
     },
     "execution_count": 438,
     "metadata": {},
     "output_type": "execute_result"
    }
   ],
   "source": [
    "mutual_info_score(D, C)"
   ]
  },
  {
   "cell_type": "markdown",
   "id": "0f5aa311-8fbd-476d-9907-c2542a667db5",
   "metadata": {},
   "source": [
    "此时C和D信息完全相互包含、每个数组都能够完全解释对方，因此互信息就是各自的信息熵，也就是根据C进行数据集划分后，子数据集D的取值纯度为100%。"
   ]
  },
  {
   "cell_type": "markdown",
   "id": "86e96a8a-b9c8-4e2d-aa5d-4b6503f9da66",
   "metadata": {},
   "source": [
    "<center><img src=\"https://s2.loli.net/2022/04/07/CRFWXs1iVm7wtqh.png\" alt=\"image-20220407190353543\" style=\"zoom:33%;\" />"
   ]
  },
  {
   "cell_type": "markdown",
   "id": "a88c655c-e1a8-4e46-af00-6b9239737d2b",
   "metadata": {},
   "source": [
    "从这个过程中也能看出，互信息的取值范围其实是在0到参与计算的两个特征的熵值最大值之间。"
   ]
  },
  {
   "cell_type": "markdown",
   "id": "f33e8d65-8907-4109-8b4f-819775f3b44b",
   "metadata": {},
   "source": [
    "&emsp;&emsp;而需要知道的是，此前我们曾在Lesson 4.2中介绍过一个概念，也是用于衡量变量分布是否一致的，即KL散度。在此前的课程中，我们用如下公式来判断拟合分布Q（预测值）和真实分布P（真实值）之间的差异："
   ]
  },
  {
   "cell_type": "markdown",
   "id": "d54b320d-fa0b-4f03-b389-ab11c75accd6",
   "metadata": {},
   "source": [
    "$$\n",
    "D_{KL}(P||Q)=\\sum ^n_{i=1}P(x_i)log(\\frac{P(x_i)}{Q(x_i)})\n",
    "$$"
   ]
  },
  {
   "cell_type": "markdown",
   "id": "d959e78c-0e07-4017-b8d5-58adc2187fb7",
   "metadata": {},
   "source": [
    "而借助该公式，我们也最终推导得出交叉熵损失函数的一般形式。简而言之，该公式能够很好的衡量Q分布距离P分布之间的差异，或者说从Q分布出发，还需要额外多少信息才能表达P分布。而此处如果我们将P分布改为A和D的联合分布p(x,y)，而Q分布改为各自原始分布（边缘分布）之积，则此时KL散度公式如下："
   ]
  },
  {
   "cell_type": "markdown",
   "id": "7328e7b8-f910-4481-8144-cb8636911d73",
   "metadata": {},
   "source": [
    "$$ D_{KL}(p(x,y) || p(x)p(y))  = \\sum\\limits_{y \\in \\mathcal{Y}}\\sum\\limits_{x \\in \\mathcal{X}} p(x,y) \\,\\text{log}\\left(\\frac{p(x,y)}{p(x)p(y)}\\right) $$"
   ]
  },
  {
   "cell_type": "markdown",
   "id": "bb5172f5-1826-44f6-985a-6d38edf54339",
   "metadata": {},
   "source": [
    "根据其统计学含义，此时$D_{KL}(p(x,y) || p(x)p(y))$表示由边缘分布之积到联合分布之间的差异，或者用边缘分布之积表示联合分布的差距，也就是两个变量可以相互解释的部分。通过数学推导可以证明，上述公式其实完全等价于信息增益，也就是说，上述表达式可以等价如下形式："
   ]
  },
  {
   "cell_type": "markdown",
   "id": "6a359f50-c3c5-4000-98cf-ae8ce68c12e0",
   "metadata": {},
   "source": [
    "$$ D_{KL}(p(x,y) || p(x)p(y))  = \\sum\\limits_{y \\in \\mathcal{Y}}\\sum\\limits_{x \\in \\mathcal{X}} p(x,y) \\,\\text{log}\\left(\\frac{p(x,y)}{p(x)p(y)}\\right)=H(Y)-H(Y|X)=H(X)-H(X|Y)$$"
   ]
  },
  {
   "cell_type": "markdown",
   "id": "b9ce2d13-359a-4d59-8c0c-d65128cdaccb",
   "metadata": {},
   "source": [
    "此处具体的数学推导较为复杂，我们仅对结论进行数值层面上的验证："
   ]
  },
  {
   "cell_type": "code",
   "execution_count": 439,
   "id": "03134ff5-2e64-4d13-b4c1-9823b54f931d",
   "metadata": {},
   "outputs": [
    {
     "data": {
      "text/plain": [
       "(array([0, 0, 0, 1, 1, 1]), array([0, 1, 1, 0, 0, 0]))"
      ]
     },
     "execution_count": 439,
     "metadata": {},
     "output_type": "execute_result"
    }
   ],
   "source": [
    "A, D"
   ]
  },
  {
   "cell_type": "code",
   "execution_count": 440,
   "id": "aae8a2dd-458f-478c-b061-af38aae131ad",
   "metadata": {},
   "outputs": [],
   "source": [
    "p_A0 = 1/2\n",
    "p_A1 = 1/2\n",
    "p_D0 = 2/3\n",
    "p_D1 = 1/3"
   ]
  },
  {
   "cell_type": "code",
   "execution_count": 441,
   "id": "8a86481a-d9c2-4a0a-8fda-281d0e3629dc",
   "metadata": {},
   "outputs": [],
   "source": [
    "p_A0D0 = 1/6\n",
    "p_A0D1 = 1/3\n",
    "p_A1D0 = 1/2\n",
    "p_A1D1 = 0"
   ]
  },
  {
   "cell_type": "code",
   "execution_count": 442,
   "id": "de3ec2a1-eeb4-4cdc-96e7-f77e847d723e",
   "metadata": {},
   "outputs": [
    {
     "data": {
      "text/plain": [
       "0.3182570841474064"
      ]
     },
     "execution_count": 442,
     "metadata": {},
     "output_type": "execute_result"
    }
   ],
   "source": [
    "KL_AD = p_A0D0 * np.log(p_A0D0/(p_A0*p_D0)) + p_A0D1 * np.log(p_A0D1/(p_A0*p_D1)) + p_A1D0 * np.log(p_A1D0/(p_A1*p_D0))\n",
    "KL_AD"
   ]
  },
  {
   "cell_type": "code",
   "execution_count": 443,
   "id": "53d00815-1e95-4e6d-ac48-a6551dd77ad0",
   "metadata": {},
   "outputs": [
    {
     "data": {
      "text/plain": [
       "0.3182570841474064"
      ]
     },
     "execution_count": 443,
     "metadata": {},
     "output_type": "execute_result"
    }
   ],
   "source": [
    "mutual_info_score(D, A)"
   ]
  },
  {
   "cell_type": "markdown",
   "id": "1441fb90-d865-4ad0-b088-a9ddc3b0a2bd",
   "metadata": {},
   "source": [
    "和信息增益最终计算结果完全一致。当然，KL散度也是可以通过scipy.stats.entropy来进行计算的，只需要分别输入Q分布和P分布即可："
   ]
  },
  {
   "cell_type": "code",
   "execution_count": 444,
   "id": "31a71ab1-0293-4151-a7f4-6c82b6b3ff45",
   "metadata": {},
   "outputs": [
    {
     "data": {
      "text/plain": [
       "([0.16666666666666666, 0.3333333333333333, 0.5, 0],\n",
       " [0.3333333333333333,\n",
       "  0.16666666666666666,\n",
       "  0.3333333333333333,\n",
       "  0.16666666666666666])"
      ]
     },
     "execution_count": 444,
     "metadata": {},
     "output_type": "execute_result"
    }
   ],
   "source": [
    "# P分布\n",
    "pk = [p_A0D0, p_A0D1, p_A1D0, p_A1D1]\n",
    "\n",
    "# Q分布\n",
    "qk = [p_A0*p_D0, p_A1*p_D1, p_A1*p_D0, p_A1*p_D1]\n",
    "\n",
    "pk, qk"
   ]
  },
  {
   "cell_type": "code",
   "execution_count": 445,
   "id": "46ab32c5-f7fc-44e0-b874-122ce70a0651",
   "metadata": {},
   "outputs": [
    {
     "data": {
      "text/plain": [
       "0.3182570841474063"
      ]
     },
     "execution_count": 445,
     "metadata": {},
     "output_type": "execute_result"
    }
   ],
   "source": [
    "scipy.stats.entropy(pk = pk, qk = qk)"
   ]
  },
  {
   "cell_type": "markdown",
   "id": "7407f27f-bf81-4467-a5cb-7cad9bab4850",
   "metadata": {},
   "source": [
    "而从KL散度的公式角度出发，我们不难发现，其实互信息也是在衡量联合分布和边缘分布的差异，而如果两个变量完全独立，从信息增益角度来看就是数据集再划分并不会提升子集标签纯度，而对于KL散度则是有$p(x,y) = p(x) * p(y)$，此时KL散度的计算结果也为0，二者殊途同归。"
   ]
  },
  {
   "cell_type": "markdown",
   "id": "b7251e57-fe31-45b3-bef5-d1827ce92dbb",
   "metadata": {},
   "source": [
    "> 从KL散度推导至信息增益的过程如下：$$\\begin{align*}\n",
    "I(X;Y) = I(Y;X)&= \\sum\\limits_{y \\in \\mathcal{Y}}\\sum\\limits_{x \\in \\mathcal{X}} p(x,y) \\,\\text{log}\\left(\\frac{p(x,y)}{p(x)p(y)}\\right) \\\\\n",
    "& = -\\sum\\limits_y\\sum\\limits_x p(x,y)\\,\\text{log}\\,p(y) + \\sum\\limits_x\\sum\\limits_y p(x,y)\\text{log} \\left(\\frac{p(x,y)}{p(x)}\\right) \\\\\n",
    "& = -\\sum\\limits_y p(y)\\,\\text{log}\\,p(y) + \\sum\\limits_x\\sum\\limits_y p(x)p(y|x)\\text{log}\\, p(y|x) \\\\\n",
    "& = -\\sum\\limits_y p(y)\\,\\text{log}\\,p(y) + \\sum\\limits_x p(x) \\sum\\limits_y p(y|x)\\text{log}\\, p(y|x)  \\\\\n",
    "& = H(Y) - \\sum\\limits_x p(x)H(Y|X=x) \\\\\n",
    "& = H(Y) - H(Y|X)\n",
    "\\end{align*}$$"
   ]
  },
  {
   "cell_type": "markdown",
   "id": "19f19017-90bd-4e35-8eb8-6e8ab75ff4f6",
   "metadata": {
    "tags": []
   },
   "source": [
    "#### 6.2 卡方检验与离散变量的互信息法"
   ]
  },
  {
   "cell_type": "markdown",
   "id": "406e7391-0b73-4a85-ae3c-c226677a6404",
   "metadata": {},
   "source": [
    "&emsp;&emsp;我们知道，除了互信息外，卡方检验也能很好的进行离散变量的关联性挖掘。接下来对比两种方法的异同，并给出各自适用的使用场景。"
   ]
  },
  {
   "cell_type": "code",
   "execution_count": 446,
   "id": "4fa04980-9381-4bda-9b36-6561d10f65ff",
   "metadata": {},
   "outputs": [],
   "source": [
    "from sklearn.feature_selection import chi2"
   ]
  },
  {
   "cell_type": "code",
   "execution_count": 447,
   "id": "940bcd88-21bc-4257-bf3b-7206a3e748c4",
   "metadata": {},
   "outputs": [
    {
     "data": {
      "text/plain": [
       "(array([1.5]), array([0.22067136]))"
      ]
     },
     "execution_count": 447,
     "metadata": {},
     "output_type": "execute_result"
    }
   ],
   "source": [
    "chi2(A.reshape(-1, 1), D)"
   ]
  },
  {
   "cell_type": "code",
   "execution_count": 448,
   "id": "43fef966-6fd6-4a2e-9c9a-42957ae6c356",
   "metadata": {},
   "outputs": [
    {
     "data": {
      "text/plain": [
       "0.3182570841474064"
      ]
     },
     "execution_count": 448,
     "metadata": {},
     "output_type": "execute_result"
    }
   ],
   "source": [
    "mutual_info_score(A, D)"
   ]
  },
  {
   "cell_type": "markdown",
   "id": "5de511f0-34f7-4761-b9bc-4bde3285045d",
   "metadata": {},
   "source": [
    "&emsp;&emsp;首先也是最明显的一点，就是卡方检验能够给出明确的p值用于评估是否是小概率事件，而互信息法只能给出信息增益的计算结果，很多时候由于信息增益的计算结果是在0到最小信息熵之间取值，因此信息增益的数值在判断特征是否有效时并不如p值那么直观。"
   ]
  },
  {
   "cell_type": "markdown",
   "id": "62691846-77f8-453d-afce-8e7fa4f951c3",
   "metadata": {},
   "source": [
    "&emsp;&emsp;其次需要注意的是，卡方检验的p值源于假设检验统计量服从卡方分布，这种有假设分布的方法也被称为参数方法，而互信息法并不涉及任何假定的参数分布，因此是一种非参数方法。不难发现，参数方法是借助样本估计总体，然后根据总体进行推断的过程，而非参数方法则无需总体信息即可计算。尽管从方法理解层面来看非参数方法会更加简单，但这种“简单”所带来的代价，就是非参数方法无法对小样本进行合理的预估。例如在当前数据情况下，互信息法计算得出的结果应该是一个还不错的结果，从肉眼观察来看A和D也应该存在一定的关联性："
   ]
  },
  {
   "cell_type": "code",
   "execution_count": 449,
   "id": "8eeb665b-8a60-487b-a9dc-d8f48e843b17",
   "metadata": {},
   "outputs": [
    {
     "data": {
      "text/plain": [
       "(array([0, 0, 0, 1, 1, 1]), array([0, 1, 1, 0, 0, 0]))"
      ]
     },
     "execution_count": 449,
     "metadata": {},
     "output_type": "execute_result"
    }
   ],
   "source": [
    "A, D"
   ]
  },
  {
   "cell_type": "code",
   "execution_count": 450,
   "id": "9267c969-6810-40d7-b8b8-f01fbaad5b69",
   "metadata": {},
   "outputs": [
    {
     "data": {
      "text/plain": [
       "0.6365141682948128"
      ]
     },
     "execution_count": 450,
     "metadata": {},
     "output_type": "execute_result"
    }
   ],
   "source": [
    "scipy.stats.entropy([1/3, 2/3])"
   ]
  },
  {
   "cell_type": "markdown",
   "id": "f0233694-3467-44c6-8e0c-3859a25be1a5",
   "metadata": {},
   "source": [
    "但在卡方检验看来，并不能一定判断二者就不是相互独立的，在二者相互独立的零假设下，接受假设的概率高达22%。这又是什么原因呢？从计算流程来看，此前我们强调过，卡方检验是会收到样本数量影响的，而此时卡方检验不敢下结论的原因或许并不是因为现在的A和D表现出来的关联性不够强，而是目前样本数量太少了（只有六条样本）。因此这里如果我们不改变A和D的数据分布，而仅仅将样本数量扩增至10倍，则卡方检验结果如下："
   ]
  },
  {
   "cell_type": "code",
   "execution_count": 451,
   "id": "88a533a9-4e5c-4ecb-b927-89ba415c148a",
   "metadata": {},
   "outputs": [
    {
     "data": {
      "text/plain": [
       "(array([0, 0, 0, 1, 1, 1, 0, 0, 0, 1, 1, 1, 0, 0, 0, 1, 1, 1, 0, 0, 0, 1,\n",
       "        1, 1, 0, 0, 0, 1, 1, 1, 0, 0, 0, 1, 1, 1, 0, 0, 0, 1, 1, 1, 0, 0,\n",
       "        0, 1, 1, 1, 0, 0, 0, 1, 1, 1, 0, 0, 0, 1, 1, 1]),\n",
       " array([0, 1, 1, 0, 0, 0, 0, 1, 1, 0, 0, 0, 0, 1, 1, 0, 0, 0, 0, 1, 1, 0,\n",
       "        0, 0, 0, 1, 1, 0, 0, 0, 0, 1, 1, 0, 0, 0, 0, 1, 1, 0, 0, 0, 0, 1,\n",
       "        1, 0, 0, 0, 0, 1, 1, 0, 0, 0, 0, 1, 1, 0, 0, 0]))"
      ]
     },
     "execution_count": 451,
     "metadata": {},
     "output_type": "execute_result"
    }
   ],
   "source": [
    "A1 = np.array(A.tolist() * 10)\n",
    "D1 = np.array(D.tolist() * 10)\n",
    "A1, D1"
   ]
  },
  {
   "cell_type": "code",
   "execution_count": 452,
   "id": "ad50c50b-a415-456b-9d95-d1625ee89d80",
   "metadata": {},
   "outputs": [
    {
     "data": {
      "text/plain": [
       "(array([15.]), array([0.00010751]))"
      ]
     },
     "execution_count": 452,
     "metadata": {},
     "output_type": "execute_result"
    }
   ],
   "source": [
    "chi2(A1.reshape(-1, 1), D1)"
   ]
  },
  {
   "cell_type": "markdown",
   "id": "ae7ec24e-6ae0-423c-9d0e-19732af26ea2",
   "metadata": {},
   "source": [
    "能够发现，此时卡方检验认为当前数据情况下A1和D1相互独立就是一个非常小概率的事件了，即判断A1和D1存在显著的关联关系。但此时互信息的计算结果仍然不变："
   ]
  },
  {
   "cell_type": "code",
   "execution_count": 453,
   "id": "04b2fbe4-de43-49fc-a970-c8ed26863129",
   "metadata": {},
   "outputs": [
    {
     "data": {
      "text/plain": [
       "0.31825708414740617"
      ]
     },
     "execution_count": 453,
     "metadata": {},
     "output_type": "execute_result"
    }
   ],
   "source": [
    "mutual_info_score(A1, D1)"
   ]
  },
  {
   "cell_type": "markdown",
   "id": "9de192b1-fbf4-45c1-ac96-dd6ef2b65229",
   "metadata": {},
   "source": [
    "由此我们能够更加直观的感受到参数方法和非参数方法二者的差异，即参数方法会考虑到样本数量这一影响因素，如果样本数量较少，则参数方法会更加趋于保守、更加趋于保留原假设，例如卡方检验，尽管A和D表现出了“肉眼可见”的关联性，但由于样本数量太少，不足以做出有力的推断A和D背后的总体就一定不独立，因此趋于保留原假设，即二者独立。而当样本数量增加后，卡方检验的检验结论也会随之发生变化，越来越多的数据表示二者存在关联性，那么二者独立的概率也将越来越小，这也是A1和D1最终的检验结论。但非参数方法则是“所见即所得”，结论并不受样本数量影响，这一点其实从互信息的KL公式中也能看出："
   ]
  },
  {
   "cell_type": "markdown",
   "id": "a5fe9a39-1131-446b-bb58-7ca0f5fd041a",
   "metadata": {},
   "source": [
    "$$ D_{KL}(p(x,y) || p(x)p(y))  = \\sum\\limits_{y \\in \\mathcal{Y}}\\sum\\limits_{x \\in \\mathcal{X}} p(x,y) \\,\\text{log}\\left(\\frac{p(x,y)}{p(x)p(y)}\\right) $$"
   ]
  },
  {
   "cell_type": "markdown",
   "id": "f6a0285a-f0ac-4739-93d4-fc16b30b4ec3",
   "metadata": {},
   "source": [
    "尽管公式中的p是代表概率，但实际上只是由当前的样本计算得出的比例，很多时候比例和随机变量的概率还是存在一定差异的。而比例其实并不受到样本数量影响，如A、D与A1、D1，二者数量不同但不同类别样本比例相同，因此互信息计算结果并不差异。"
   ]
  },
  {
   "cell_type": "markdown",
   "id": "56649aac-3a2e-4f19-ac25-e540e1637854",
   "metadata": {},
   "source": [
    "&emsp;&emsp;而这将如何影响我们对这两种方法的选用呢？一般来说，对于小样本而言，卡方检验的结果可信度会高于互信息法，因此优先考虑卡方检验，而对于大样本而言，卡方检验和互信息法二者的结果其实并不会有特别大的差异，卡方检验的p值越小、互信息的值就会越大、二者关联度就越高。对于大样本数据，若最终采用模型融合策略进行建模，则最好采用不同的特征筛选方法训练不同模型，以期能达到更好的融合效果。"
   ]
  },
  {
   "cell_type": "markdown",
   "id": "6c3f87e9-c3ee-43d5-ad7e-44387fd069eb",
   "metadata": {},
   "source": [
    "&emsp;&emsp;最后，需要强调的是，如果分类变量样本偏态非常严重，也会影响互信息的结果，但不会影响卡方检验结果："
   ]
  },
  {
   "cell_type": "code",
   "execution_count": 454,
   "id": "0ab918cd-13dc-47b5-8410-23f20c90147c",
   "metadata": {},
   "outputs": [
    {
     "data": {
      "text/plain": [
       "(array([0, 0, 0, 1, 1, 1]), array([0, 1, 1, 0, 0, 0]))"
      ]
     },
     "execution_count": 454,
     "metadata": {},
     "output_type": "execute_result"
    }
   ],
   "source": [
    "A, D"
   ]
  },
  {
   "cell_type": "code",
   "execution_count": 455,
   "id": "69a5aa7b-a950-4877-ab06-4edd953bef18",
   "metadata": {},
   "outputs": [
    {
     "data": {
      "text/plain": [
       "[0, 0, 0, 1, 1, 1, 1, 1, 1, 1, 1, 1, 1, 1, 1, 1]"
      ]
     },
     "execution_count": 455,
     "metadata": {},
     "output_type": "execute_result"
    }
   ],
   "source": [
    "A2 = A.tolist()\n",
    "A2.extend([1]*10)\n",
    "A2"
   ]
  },
  {
   "cell_type": "code",
   "execution_count": 456,
   "id": "767a02c4-1fef-4f5f-8024-2aa0689a2d54",
   "metadata": {},
   "outputs": [
    {
     "data": {
      "text/plain": [
       "[0, 1, 1, 0, 0, 0, 0, 0, 0, 0, 0, 0, 0, 0, 0, 0]"
      ]
     },
     "execution_count": 456,
     "metadata": {},
     "output_type": "execute_result"
    }
   ],
   "source": [
    "D2 = D.tolist()\n",
    "D2.extend([0]*10)\n",
    "D2"
   ]
  },
  {
   "cell_type": "code",
   "execution_count": 457,
   "id": "bca8dc50-df3f-4e9b-ac8a-c3f76505c9a6",
   "metadata": {},
   "outputs": [
    {
     "data": {
      "text/plain": [
       "0.25742375470115947"
      ]
     },
     "execution_count": 457,
     "metadata": {},
     "output_type": "execute_result"
    }
   ],
   "source": [
    "mutual_info_score(A2, D2)"
   ]
  },
  {
   "cell_type": "code",
   "execution_count": 458,
   "id": "0ccff2e6-724b-4460-b736-be17d2d6d6d2",
   "metadata": {},
   "outputs": [
    {
     "data": {
      "text/plain": [
       "(array([1.85714286]), array([0.17295492]))"
      ]
     },
     "execution_count": 458,
     "metadata": {},
     "output_type": "execute_result"
    }
   ],
   "source": [
    "chi2(np.array(A2).reshape(-1, 1), np.array(D2))"
   ]
  },
  {
   "cell_type": "markdown",
   "id": "ba946b2e-0fc4-46b7-a50d-cfaf84163b3b",
   "metadata": {
    "tags": []
   },
   "source": [
    "#### 6.3 连续变量的互信息法"
   ]
  },
  {
   "cell_type": "markdown",
   "id": "6ca445d5-f014-4041-95f0-82c5a5a2a151",
   "metadata": {},
   "source": [
    "&emsp;&emsp;对于互信息法来说，一大优势就是不仅可以分析挖掘离散变量之间的关联性，还可以挖掘离散变量与连续变量、以及连续变量彼此之间的关联性。接下来我们逐一对其进行介绍。首先是离散变量与连续变量的互信息计算过程，根据此前介绍的互信息的对称性，离散变量与连续变量的互信息即可用于回归问题筛选离散特征、也可以用于分类问题筛选连续特征。不过需要注意的是，由于参与计算的一方变成了连续变量，无论是信息增益还是KL散度的计算公式都将发生变化，即需要将原公式中的累加改为积分运算："
   ]
  },
  {
   "cell_type": "markdown",
   "id": "c5dbfd26-653f-430a-9be6-835ea8d12d0b",
   "metadata": {},
   "source": [
    "$$I(X;Y) = \\int_{\\mathcal{Y}}\\int_{\\mathcal{X}} p(x,y) \\,\\text{log}\\left(\\frac{p(x,y)}{p(x)p(y)}\\right) dxdy  $$"
   ]
  },
  {
   "cell_type": "markdown",
   "id": "d656b9f5-b740-4091-9f50-3cb6143853ff",
   "metadata": {},
   "source": [
    "不过积分运算在机器学习领域并不好实现，因此sklearn中将这个过程等价于一个K近邻过程，即通过K近邻过程来计算带入连续变量的互信息。具体的理论依据详见[《Estimating mutual information》(A. Kraskov, H. Stogbauer and P. Grassberger, Phys. Rev. E 69, 2004)](https://www.researchgate.net/publication/303264392_Grassberger_Estimating_mutual_information)以及[《PLoS ONE 9(2), 2014Mutual Information between Discrete and Continuous Data Sets》(B. C. Ross, PLoS ONE 9(2), 2014)](https://www.oalib.com/paper/3061136#.Yk_iRyhByPo)两篇论文。该转化过程较为复杂，其间会涉及大量朝纲的数学内容，此处仅介绍最终结论以及提供一个理解该过程的角度，以帮助我们灵活的该方法进行特征筛选。"
   ]
  },
  {
   "cell_type": "markdown",
   "id": "134a2875-4dec-4585-a32d-8afb3c40db42",
   "metadata": {},
   "source": [
    "##### 6.3.1 最近邻计算函数"
   ]
  },
  {
   "cell_type": "markdown",
   "id": "26d5401f-81c6-4d7b-a714-bce1c22b4403",
   "metadata": {},
   "source": [
    "&emsp;&emsp;带入连续变量的互信息计算过程需要借助最近邻函数进行计算，最近邻是一种非常通用的搜索算法，此处补充关于最近邻方法的相关知识。"
   ]
  },
  {
   "cell_type": "markdown",
   "id": "f0c537f5-7411-466f-8a28-b92fad0cddd4",
   "metadata": {},
   "source": [
    "&emsp;&emsp;首先，对于最近邻方法来说，既有单纯进行最近邻元素计算的无监督算法、也有通过最近邻进行类别判别或数值预测的有监督学习算法。互信息中用到的是无监督的最近邻算法，该算法较为简单，就是单纯的进行最近邻元素的搜索与半径的计算，例如，有简单数组如下："
   ]
  },
  {
   "cell_type": "code",
   "execution_count": 459,
   "id": "8e3dc343-1e74-4f2a-a3a0-945385637549",
   "metadata": {},
   "outputs": [
    {
     "data": {
      "text/plain": [
       "array([0, 1, 2, 4, 7, 9, 3])"
      ]
     },
     "execution_count": 459,
     "metadata": {},
     "output_type": "execute_result"
    }
   ],
   "source": [
    "a = np.array([0, 1, 2, 4, 7, 9, 3])\n",
    "a"
   ]
  },
  {
   "cell_type": "markdown",
   "id": "85c79e57-4b64-4379-a72d-1f396d535229",
   "metadata": {},
   "source": [
    "则对于a中第一个元素0来说，数值上距离最近的元素就是第二个元素1，其次是第三个元素2，也就是说，1和2是0的两个最近邻。无监督的最近邻方法能够借助sklearn中的NearestNeighbors评估器完成计算："
   ]
  },
  {
   "cell_type": "code",
   "execution_count": 460,
   "id": "c3bf981a-9040-493b-8327-390a0559ff37",
   "metadata": {},
   "outputs": [],
   "source": [
    "from sklearn.neighbors import NearestNeighbors"
   ]
  },
  {
   "cell_type": "code",
   "execution_count": 461,
   "id": "e7e0c4c7-b82e-4c2b-a7be-a2a3a1ac82f5",
   "metadata": {
    "collapsed": true,
    "jupyter": {
     "outputs_hidden": true
    },
    "tags": []
   },
   "outputs": [
    {
     "data": {
      "text/plain": [
       "\u001b[1;31mInit signature:\u001b[0m\n",
       "\u001b[0mNearestNeighbors\u001b[0m\u001b[1;33m(\u001b[0m\u001b[1;33m\n",
       "\u001b[0m    \u001b[1;33m*\u001b[0m\u001b[1;33m,\u001b[0m\u001b[1;33m\n",
       "\u001b[0m    \u001b[0mn_neighbors\u001b[0m\u001b[1;33m=\u001b[0m\u001b[1;36m5\u001b[0m\u001b[1;33m,\u001b[0m\u001b[1;33m\n",
       "\u001b[0m    \u001b[0mradius\u001b[0m\u001b[1;33m=\u001b[0m\u001b[1;36m1.0\u001b[0m\u001b[1;33m,\u001b[0m\u001b[1;33m\n",
       "\u001b[0m    \u001b[0malgorithm\u001b[0m\u001b[1;33m=\u001b[0m\u001b[1;34m'auto'\u001b[0m\u001b[1;33m,\u001b[0m\u001b[1;33m\n",
       "\u001b[0m    \u001b[0mleaf_size\u001b[0m\u001b[1;33m=\u001b[0m\u001b[1;36m30\u001b[0m\u001b[1;33m,\u001b[0m\u001b[1;33m\n",
       "\u001b[0m    \u001b[0mmetric\u001b[0m\u001b[1;33m=\u001b[0m\u001b[1;34m'minkowski'\u001b[0m\u001b[1;33m,\u001b[0m\u001b[1;33m\n",
       "\u001b[0m    \u001b[0mp\u001b[0m\u001b[1;33m=\u001b[0m\u001b[1;36m2\u001b[0m\u001b[1;33m,\u001b[0m\u001b[1;33m\n",
       "\u001b[0m    \u001b[0mmetric_params\u001b[0m\u001b[1;33m=\u001b[0m\u001b[1;32mNone\u001b[0m\u001b[1;33m,\u001b[0m\u001b[1;33m\n",
       "\u001b[0m    \u001b[0mn_jobs\u001b[0m\u001b[1;33m=\u001b[0m\u001b[1;32mNone\u001b[0m\u001b[1;33m,\u001b[0m\u001b[1;33m\n",
       "\u001b[0m\u001b[1;33m)\u001b[0m\u001b[1;33m\u001b[0m\u001b[1;33m\u001b[0m\u001b[0m\n",
       "\u001b[1;31mDocstring:\u001b[0m     \n",
       "Unsupervised learner for implementing neighbor searches.\n",
       "\n",
       "Read more in the :ref:`User Guide <unsupervised_neighbors>`.\n",
       "\n",
       ".. versionadded:: 0.9\n",
       "\n",
       "Parameters\n",
       "----------\n",
       "n_neighbors : int, default=5\n",
       "    Number of neighbors to use by default for :meth:`kneighbors` queries.\n",
       "\n",
       "radius : float, default=1.0\n",
       "    Range of parameter space to use by default for :meth:`radius_neighbors`\n",
       "    queries.\n",
       "\n",
       "algorithm : {'auto', 'ball_tree', 'kd_tree', 'brute'}, default='auto'\n",
       "    Algorithm used to compute the nearest neighbors:\n",
       "\n",
       "    - 'ball_tree' will use :class:`BallTree`\n",
       "    - 'kd_tree' will use :class:`KDTree`\n",
       "    - 'brute' will use a brute-force search.\n",
       "    - 'auto' will attempt to decide the most appropriate algorithm\n",
       "      based on the values passed to :meth:`fit` method.\n",
       "\n",
       "    Note: fitting on sparse input will override the setting of\n",
       "    this parameter, using brute force.\n",
       "\n",
       "leaf_size : int, default=30\n",
       "    Leaf size passed to BallTree or KDTree.  This can affect the\n",
       "    speed of the construction and query, as well as the memory\n",
       "    required to store the tree.  The optimal value depends on the\n",
       "    nature of the problem.\n",
       "\n",
       "metric : str or callable, default='minkowski'\n",
       "    The distance metric to use for the tree.  The default metric is\n",
       "    minkowski, and with p=2 is equivalent to the standard Euclidean\n",
       "    metric. For a list of available metrics, see the documentation of\n",
       "    :class:`~sklearn.metrics.DistanceMetric`.\n",
       "    If metric is \"precomputed\", X is assumed to be a distance matrix and\n",
       "    must be square during fit. X may be a :term:`sparse graph`,\n",
       "    in which case only \"nonzero\" elements may be considered neighbors.\n",
       "\n",
       "p : int, default=2\n",
       "    Parameter for the Minkowski metric from\n",
       "    sklearn.metrics.pairwise.pairwise_distances. When p = 1, this is\n",
       "    equivalent to using manhattan_distance (l1), and euclidean_distance\n",
       "    (l2) for p = 2. For arbitrary p, minkowski_distance (l_p) is used.\n",
       "\n",
       "metric_params : dict, default=None\n",
       "    Additional keyword arguments for the metric function.\n",
       "\n",
       "n_jobs : int, default=None\n",
       "    The number of parallel jobs to run for neighbors search.\n",
       "    ``None`` means 1 unless in a :obj:`joblib.parallel_backend` context.\n",
       "    ``-1`` means using all processors. See :term:`Glossary <n_jobs>`\n",
       "    for more details.\n",
       "\n",
       "Attributes\n",
       "----------\n",
       "effective_metric_ : str\n",
       "    Metric used to compute distances to neighbors.\n",
       "\n",
       "effective_metric_params_ : dict\n",
       "    Parameters for the metric used to compute distances to neighbors.\n",
       "\n",
       "n_features_in_ : int\n",
       "    Number of features seen during :term:`fit`.\n",
       "\n",
       "    .. versionadded:: 0.24\n",
       "\n",
       "feature_names_in_ : ndarray of shape (`n_features_in_`,)\n",
       "    Names of features seen during :term:`fit`. Defined only when `X`\n",
       "    has feature names that are all strings.\n",
       "\n",
       "    .. versionadded:: 1.0\n",
       "\n",
       "n_samples_fit_ : int\n",
       "    Number of samples in the fitted data.\n",
       "\n",
       "See Also\n",
       "--------\n",
       "KNeighborsClassifier : Classifier implementing the k-nearest neighbors\n",
       "    vote.\n",
       "RadiusNeighborsClassifier : Classifier implementing a vote among neighbors\n",
       "    within a given radius.\n",
       "KNeighborsRegressor : Regression based on k-nearest neighbors.\n",
       "RadiusNeighborsRegressor : Regression based on neighbors within a fixed\n",
       "    radius.\n",
       "BallTree : Space partitioning data structure for organizing points in a\n",
       "    multi-dimensional space, used for nearest neighbor search.\n",
       "\n",
       "Notes\n",
       "-----\n",
       "See :ref:`Nearest Neighbors <neighbors>` in the online documentation\n",
       "for a discussion of the choice of ``algorithm`` and ``leaf_size``.\n",
       "\n",
       "https://en.wikipedia.org/wiki/K-nearest_neighbors_algorithm\n",
       "\n",
       "Examples\n",
       "--------\n",
       ">>> import numpy as np\n",
       ">>> from sklearn.neighbors import NearestNeighbors\n",
       ">>> samples = [[0, 0, 2], [1, 0, 0], [0, 0, 1]]\n",
       "\n",
       ">>> neigh = NearestNeighbors(n_neighbors=2, radius=0.4)\n",
       ">>> neigh.fit(samples)\n",
       "NearestNeighbors(...)\n",
       "\n",
       ">>> neigh.kneighbors([[0, 0, 1.3]], 2, return_distance=False)\n",
       "array([[2, 0]]...)\n",
       "\n",
       ">>> nbrs = neigh.radius_neighbors(\n",
       "...    [[0, 0, 1.3]], 0.4, return_distance=False\n",
       "... )\n",
       ">>> np.asarray(nbrs[0][0])\n",
       "array(2)\n",
       "\u001b[1;31mFile:\u001b[0m           d:\\anaconda3\\lib\\site-packages\\sklearn\\neighbors\\_unsupervised.py\n",
       "\u001b[1;31mType:\u001b[0m           ABCMeta\n",
       "\u001b[1;31mSubclasses:\u001b[0m     \n"
      ]
     },
     "metadata": {},
     "output_type": "display_data"
    }
   ],
   "source": [
    "NearestNeighbors?"
   ]
  },
  {
   "cell_type": "markdown",
   "id": "8ba7e1f3-d3a1-4fa5-b697-9c4a320b1611",
   "metadata": {},
   "source": [
    "参数中的闵可夫斯基距离的计算公式如下："
   ]
  },
  {
   "cell_type": "markdown",
   "id": "16f4185c-3319-440f-b5d9-15c5db7fb156",
   "metadata": {},
   "source": [
    "$$D(x, y) = (\\sum^n_{u=1}|x_u-y_u|^p)^{\\frac{1}{p}}$$"
   ]
  },
  {
   "cell_type": "markdown",
   "id": "86d418cc-c96d-433d-90f8-b2763d26090b",
   "metadata": {},
   "source": [
    "而在p等于2时其实就是欧式距离，p=1时就是曼哈顿距离。接下来对a中每个元素进行n_neighbors=2的最近邻搜索："
   ]
  },
  {
   "cell_type": "code",
   "execution_count": 462,
   "id": "10538172-3b29-4bae-8fa9-17be6921af73",
   "metadata": {},
   "outputs": [
    {
     "data": {
      "text/plain": [
       "NearestNeighbors(n_neighbors=2)"
      ]
     },
     "execution_count": 462,
     "metadata": {},
     "output_type": "execute_result"
    }
   ],
   "source": [
    "nn = NearestNeighbors(n_neighbors=2)\n",
    "nn.fit(a.reshape(-1, 1))"
   ]
  },
  {
   "cell_type": "markdown",
   "id": "aa8d96b8-4835-46c0-9a7f-648d7cc3f508",
   "metadata": {},
   "source": [
    "查看计算结果，其中nn.kneighbors返回的第一个结果是距离两个最近邻之间的距离，第二个结果则是两个最近邻的索引："
   ]
  },
  {
   "cell_type": "code",
   "execution_count": 463,
   "id": "f0462915-7fca-47db-ac53-5baec6ef4d09",
   "metadata": {},
   "outputs": [
    {
     "data": {
      "text/plain": [
       "(array([[1., 2.],\n",
       "        [1., 1.],\n",
       "        [1., 1.],\n",
       "        [1., 2.],\n",
       "        [2., 3.],\n",
       "        [2., 5.],\n",
       "        [1., 1.]]),\n",
       " array([[1, 2],\n",
       "        [2, 0],\n",
       "        [6, 1],\n",
       "        [6, 2],\n",
       "        [5, 3],\n",
       "        [4, 3],\n",
       "        [2, 3]], dtype=int64))"
      ]
     },
     "execution_count": 463,
     "metadata": {},
     "output_type": "execute_result"
    }
   ],
   "source": [
    "nn.kneighbors()"
   ]
  },
  {
   "cell_type": "markdown",
   "id": "313727a8-1391-4555-8b5a-b0742177847e",
   "metadata": {},
   "source": [
    "例如，a中第六个元素9，距离第五个元素7和第四个元素4最近，且距离分别为2和5："
   ]
  },
  {
   "cell_type": "code",
   "execution_count": 464,
   "id": "930173d5-dee2-4821-96ab-cfac6fff1844",
   "metadata": {},
   "outputs": [
    {
     "data": {
      "text/plain": [
       "array([0, 1, 2, 4, 7, 9, 3])"
      ]
     },
     "execution_count": 464,
     "metadata": {},
     "output_type": "execute_result"
    }
   ],
   "source": [
    "a"
   ]
  },
  {
   "cell_type": "code",
   "execution_count": 465,
   "id": "f101a383-3e76-4b73-9816-e721c1c1b96c",
   "metadata": {},
   "outputs": [
    {
     "data": {
      "text/plain": [
       "9"
      ]
     },
     "execution_count": 465,
     "metadata": {},
     "output_type": "execute_result"
    }
   ],
   "source": [
    "a[5]"
   ]
  },
  {
   "cell_type": "code",
   "execution_count": 466,
   "id": "f962225c-82bc-45a7-b219-55b3d03b8639",
   "metadata": {},
   "outputs": [
    {
     "data": {
      "text/plain": [
       "array([4, 3], dtype=int64)"
      ]
     },
     "execution_count": 466,
     "metadata": {},
     "output_type": "execute_result"
    }
   ],
   "source": [
    "nn.kneighbors()[1][5]"
   ]
  },
  {
   "cell_type": "code",
   "execution_count": 467,
   "id": "f4e16447-6e24-4ba8-9f9b-22868afeac06",
   "metadata": {},
   "outputs": [
    {
     "data": {
      "text/plain": [
       "(7, 4)"
      ]
     },
     "execution_count": 467,
     "metadata": {},
     "output_type": "execute_result"
    }
   ],
   "source": [
    "a[4], a[3]"
   ]
  },
  {
   "cell_type": "code",
   "execution_count": 468,
   "id": "1230add9-2916-4416-af32-eee02f7240b0",
   "metadata": {},
   "outputs": [
    {
     "data": {
      "text/plain": [
       "array([2., 5.])"
      ]
     },
     "execution_count": 468,
     "metadata": {},
     "output_type": "execute_result"
    }
   ],
   "source": [
    "nn.kneighbors()[0][5]"
   ]
  },
  {
   "cell_type": "markdown",
   "id": "7d71f75b-5a5e-493a-a264-31f100a6701c",
   "metadata": {},
   "source": [
    "当然，我们也可以将其推广至多维空间内任意n近邻的计算过程中去。需要注意的是，有的时候我们是通过设置最近邻的个数来查找最近邻，而有的时候我们可能希望通过设置个距离范围半径，来查找半径范围内的所有可能的近邻，此时则需要用到KDTree（或者BallTree）来查找，基本流程如下："
   ]
  },
  {
   "cell_type": "code",
   "execution_count": 469,
   "id": "3a67a039-0db1-432a-a8a0-325825830f53",
   "metadata": {},
   "outputs": [],
   "source": [
    "from sklearn.neighbors import KDTree"
   ]
  },
  {
   "cell_type": "code",
   "execution_count": 470,
   "id": "60373eea-2136-4414-be78-5e296c684e9a",
   "metadata": {
    "collapsed": true,
    "jupyter": {
     "outputs_hidden": true
    },
    "tags": []
   },
   "outputs": [
    {
     "data": {
      "text/plain": [
       "\u001b[1;31mInit signature:\u001b[0m \u001b[0mKDTree\u001b[0m\u001b[1;33m(\u001b[0m\u001b[0mself\u001b[0m\u001b[1;33m,\u001b[0m \u001b[1;33m/\u001b[0m\u001b[1;33m,\u001b[0m \u001b[1;33m*\u001b[0m\u001b[0margs\u001b[0m\u001b[1;33m,\u001b[0m \u001b[1;33m**\u001b[0m\u001b[0mkwargs\u001b[0m\u001b[1;33m)\u001b[0m\u001b[1;33m\u001b[0m\u001b[1;33m\u001b[0m\u001b[0m\n",
       "\u001b[1;31mDocstring:\u001b[0m     \n",
       "KDTree(X, leaf_size=40, metric='minkowski', **kwargs)\n",
       "\n",
       "KDTree for fast generalized N-point problems\n",
       "\n",
       "Read more in the :ref:`User Guide <unsupervised_neighbors>`.\n",
       "\n",
       "Parameters\n",
       "----------\n",
       "X : array-like of shape (n_samples, n_features)\n",
       "    n_samples is the number of points in the data set, and\n",
       "    n_features is the dimension of the parameter space.\n",
       "    Note: if X is a C-contiguous array of doubles then data will\n",
       "    not be copied. Otherwise, an internal copy will be made.\n",
       "\n",
       "leaf_size : positive int, default=40\n",
       "    Number of points at which to switch to brute-force. Changing\n",
       "    leaf_size will not affect the results of a query, but can\n",
       "    significantly impact the speed of a query and the memory required\n",
       "    to store the constructed tree.  The amount of memory needed to\n",
       "    store the tree scales as approximately n_samples / leaf_size.\n",
       "    For a specified ``leaf_size``, a leaf node is guaranteed to\n",
       "    satisfy ``leaf_size <= n_points <= 2 * leaf_size``, except in\n",
       "    the case that ``n_samples < leaf_size``.\n",
       "\n",
       "metric : str or DistanceMetric object\n",
       "    the distance metric to use for the tree.  Default='minkowski'\n",
       "    with p=2 (that is, a euclidean metric). See the documentation\n",
       "    of the DistanceMetric class for a list of available metrics.\n",
       "    kd_tree.valid_metrics gives a list of the metrics which\n",
       "    are valid for KDTree.\n",
       "\n",
       "Additional keywords are passed to the distance metric class.\n",
       "Note: Callable functions in the metric parameter are NOT supported for KDTree\n",
       "and Ball Tree. Function call overhead will result in very poor performance.\n",
       "\n",
       "Attributes\n",
       "----------\n",
       "data : memory view\n",
       "    The training data\n",
       "\n",
       "Examples\n",
       "--------\n",
       "Query for k-nearest neighbors\n",
       "\n",
       "    >>> import numpy as np\n",
       "    >>> from sklearn.neighbors import KDTree\n",
       "    >>> rng = np.random.RandomState(0)\n",
       "    >>> X = rng.random_sample((10, 3))  # 10 points in 3 dimensions\n",
       "    >>> tree = KDTree(X, leaf_size=2)              # doctest: +SKIP\n",
       "    >>> dist, ind = tree.query(X[:1], k=3)                # doctest: +SKIP\n",
       "    >>> print(ind)  # indices of 3 closest neighbors\n",
       "    [0 3 1]\n",
       "    >>> print(dist)  # distances to 3 closest neighbors\n",
       "    [ 0.          0.19662693  0.29473397]\n",
       "\n",
       "Pickle and Unpickle a tree.  Note that the state of the tree is saved in the\n",
       "pickle operation: the tree needs not be rebuilt upon unpickling.\n",
       "\n",
       "    >>> import numpy as np\n",
       "    >>> import pickle\n",
       "    >>> rng = np.random.RandomState(0)\n",
       "    >>> X = rng.random_sample((10, 3))  # 10 points in 3 dimensions\n",
       "    >>> tree = KDTree(X, leaf_size=2)        # doctest: +SKIP\n",
       "    >>> s = pickle.dumps(tree)                     # doctest: +SKIP\n",
       "    >>> tree_copy = pickle.loads(s)                # doctest: +SKIP\n",
       "    >>> dist, ind = tree_copy.query(X[:1], k=3)     # doctest: +SKIP\n",
       "    >>> print(ind)  # indices of 3 closest neighbors\n",
       "    [0 3 1]\n",
       "    >>> print(dist)  # distances to 3 closest neighbors\n",
       "    [ 0.          0.19662693  0.29473397]\n",
       "\n",
       "Query for neighbors within a given radius\n",
       "\n",
       "    >>> import numpy as np\n",
       "    >>> rng = np.random.RandomState(0)\n",
       "    >>> X = rng.random_sample((10, 3))  # 10 points in 3 dimensions\n",
       "    >>> tree = KDTree(X, leaf_size=2)     # doctest: +SKIP\n",
       "    >>> print(tree.query_radius(X[:1], r=0.3, count_only=True))\n",
       "    3\n",
       "    >>> ind = tree.query_radius(X[:1], r=0.3)  # doctest: +SKIP\n",
       "    >>> print(ind)  # indices of neighbors within distance 0.3\n",
       "    [3 0 1]\n",
       "\n",
       "\n",
       "Compute a gaussian kernel density estimate:\n",
       "\n",
       "    >>> import numpy as np\n",
       "    >>> rng = np.random.RandomState(42)\n",
       "    >>> X = rng.random_sample((100, 3))\n",
       "    >>> tree = KDTree(X)                # doctest: +SKIP\n",
       "    >>> tree.kernel_density(X[:3], h=0.1, kernel='gaussian')\n",
       "    array([ 6.94114649,  7.83281226,  7.2071716 ])\n",
       "\n",
       "Compute a two-point auto-correlation function\n",
       "\n",
       "    >>> import numpy as np\n",
       "    >>> rng = np.random.RandomState(0)\n",
       "    >>> X = rng.random_sample((30, 3))\n",
       "    >>> r = np.linspace(0, 1, 5)\n",
       "    >>> tree = KDTree(X)                # doctest: +SKIP\n",
       "    >>> tree.two_point_correlation(X, r)\n",
       "    array([ 30,  62, 278, 580, 820])\n",
       "\u001b[1;31mFile:\u001b[0m           d:\\anaconda3\\lib\\site-packages\\sklearn\\neighbors\\_kd_tree.cp39-win_amd64.pyd\n",
       "\u001b[1;31mType:\u001b[0m           type\n",
       "\u001b[1;31mSubclasses:\u001b[0m     \n"
      ]
     },
     "metadata": {},
     "output_type": "display_data"
    }
   ],
   "source": [
    "KDTree?"
   ]
  },
  {
   "cell_type": "code",
   "execution_count": 471,
   "id": "6d1a72fc-bf53-4d53-9180-112c63a366c3",
   "metadata": {},
   "outputs": [],
   "source": [
    "kd = KDTree(a.reshape(-1, 1))"
   ]
  },
  {
   "cell_type": "code",
   "execution_count": 472,
   "id": "34aeeb77-ea64-466d-859b-f472b5fcce69",
   "metadata": {},
   "outputs": [
    {
     "data": {
      "text/plain": [
       "array([array([0, 1], dtype=int64), array([0, 1, 2], dtype=int64),\n",
       "       array([1, 2, 6], dtype=int64), array([3, 6], dtype=int64),\n",
       "       array([4], dtype=int64), array([5], dtype=int64),\n",
       "       array([2, 3, 6], dtype=int64)], dtype=object)"
      ]
     },
     "execution_count": 472,
     "metadata": {},
     "output_type": "execute_result"
    }
   ],
   "source": [
    "kd.query_radius(a.reshape(-1, 1), 1)"
   ]
  },
  {
   "cell_type": "markdown",
   "id": "672030d6-0054-4d04-8db4-212bec2185bd",
   "metadata": {},
   "source": [
    "此时返回的结果就是每个元素在给定半径1时，搜索到的距离小于等于1的元素的索引，这里需要注意的是，KDTree在根据距离查找最近邻时，会将自己也算作近邻之一，例如对于a中第六个元素9，半径范围为1时并不存在其他元素的近邻，此时返回的结果只有自己："
   ]
  },
  {
   "cell_type": "code",
   "execution_count": 473,
   "id": "bffa6713-1ac1-4794-b66c-924ccec61066",
   "metadata": {},
   "outputs": [
    {
     "data": {
      "text/plain": [
       "array([0, 1, 2, 4, 7, 9, 3])"
      ]
     },
     "execution_count": 473,
     "metadata": {},
     "output_type": "execute_result"
    }
   ],
   "source": [
    "a"
   ]
  },
  {
   "cell_type": "code",
   "execution_count": 474,
   "id": "1d7646a3-c894-44f9-9f0b-343d0645948b",
   "metadata": {
    "tags": []
   },
   "outputs": [
    {
     "data": {
      "text/plain": [
       "array([5], dtype=int64)"
      ]
     },
     "execution_count": 474,
     "metadata": {},
     "output_type": "execute_result"
    }
   ],
   "source": [
    "kd.query_radius(a.reshape(-1, 1), 1)[5]"
   ]
  },
  {
   "cell_type": "markdown",
   "id": "39a48218-e999-47bf-9d95-1f01a4ed241c",
   "metadata": {},
   "source": [
    "此外，当我们限制距离后，返回的近邻个数将是不确定的结果，例如对于第二个元素1来说，半径范围内总共存在3个近邻（将自己算入）："
   ]
  },
  {
   "cell_type": "code",
   "execution_count": 475,
   "id": "456ab413-7e71-40e0-868d-4cfb38eca08b",
   "metadata": {},
   "outputs": [
    {
     "data": {
      "text/plain": [
       "array([0, 1, 2], dtype=int64)"
      ]
     },
     "execution_count": 475,
     "metadata": {},
     "output_type": "execute_result"
    }
   ],
   "source": [
    "kd.query_radius(a.reshape(-1, 1), 1)[1]"
   ]
  },
  {
   "cell_type": "markdown",
   "id": "1faefc47-f7e6-4b46-93c3-00766662f10a",
   "metadata": {},
   "source": [
    "有了这些基础知识储备后，接下来进一步查看连续变量的互信息计算过程。"
   ]
  },
  {
   "cell_type": "markdown",
   "id": "8edcd8ab-6519-41ee-af9f-d7177b60e024",
   "metadata": {},
   "source": [
    "##### 6.3.2 连续变量与离散变量的互信息计算"
   ]
  },
  {
   "cell_type": "markdown",
   "id": "f434d522-3998-4879-a75b-90f52e18723d",
   "metadata": {},
   "source": [
    "&emsp;&emsp;首先先看相对简单的情况，即参与计算的双方分别是连续变量和离散变量的情况。这里首先需要理清基本思路，在连续变量和离散变量的互信息计算过程中，我们的基本思路仍然是根据离散变量的不同取值对连续变量进行分组，然后通过衡量组内差异和组间差异来判断如此分组是否有效。该思路和方差分析的思路完全一致，只不过方差分析通过构建了一个F统计量来量化的衡量组间差异的程度，并且是一种参数方法，而互信息则是借助K近邻来衡量组内差异和组间差异。"
   ]
  },
  {
   "cell_type": "markdown",
   "id": "68f9d652-4c09-46bc-a3fe-a99a838d2efb",
   "metadata": {},
   "source": [
    "&emsp;&emsp;具体的计算流程我们可以直接参照sklearn中相关函数的源码，sklearn用于计算离散变量和连续变量之间的互信息的函数为_compute_mi_cd，可以在[sklearn特征筛选源码](https://github.com/scikit-learn/scikit-learn/blob/baf828ca1/sklearn/feature_selection/_mutual_info.py#L387)部分直接查看，我们直接拷贝该段源码来进行分析："
   ]
  },
  {
   "cell_type": "code",
   "execution_count": 476,
   "id": "1578f7c7-f72d-4d98-8b75-ed8fdb36b884",
   "metadata": {},
   "outputs": [],
   "source": [
    "def _compute_mi_cd_temp(c, d, n_neighbors):\n",
    "    n_samples = c.shape[0]\n",
    "    c = c.reshape((-1, 1))\n",
    "\n",
    "    radius = np.empty(n_samples)\n",
    "    label_counts = np.empty(n_samples)\n",
    "    k_all = np.empty(n_samples)\n",
    "    nn = NearestNeighbors()\n",
    "    for label in np.unique(d):\n",
    "        mask = d == label\n",
    "        count = np.sum(mask)\n",
    "        if count > 1:\n",
    "            k = min(n_neighbors, count - 1)\n",
    "            nn.set_params(n_neighbors=k)\n",
    "            nn.fit(c[mask])\n",
    "            r = nn.kneighbors()[0]\n",
    "            radius[mask] = np.nextafter(r[:, -1], 0)\n",
    "            k_all[mask] = k\n",
    "        label_counts[mask] = count\n",
    "\n",
    "    # Ignore points with unique labels.\n",
    "    mask = label_counts > 1\n",
    "    n_samples = np.sum(mask)\n",
    "    label_counts = label_counts[mask]\n",
    "    k_all = k_all[mask]\n",
    "    c = c[mask]\n",
    "    radius = radius[mask]\n",
    "\n",
    "    kd = KDTree(c)\n",
    "    m_all = kd.query_radius(c, radius, count_only=True, return_distance=False)\n",
    "    m_all = np.array(m_all) - 1.0\n",
    "\n",
    "    mi = (\n",
    "        digamma(n_samples)\n",
    "        + np.mean(digamma(k_all))\n",
    "        - np.mean(digamma(label_counts))\n",
    "        - np.mean(digamma(m_all + 1))\n",
    "    )\n",
    "\n",
    "    return max(0, mi)"
   ]
  },
  {
   "cell_type": "markdown",
   "id": "4cbbb217-3b66-4204-9d62-ac88ee655402",
   "metadata": {},
   "source": [
    "> 为避免冲突，此处修改函数名称为_compute_mi_cd_temp"
   ]
  },
  {
   "cell_type": "markdown",
   "id": "fa514c14-2331-4eee-bdb9-f527f4dd5efc",
   "metadata": {},
   "source": [
    "该函数看似复杂，但实际上过程非常清楚。对于函数参数来说，c代表连续变量、d代表离散变量，n_neighbors代表最近邻元素个数。类似的，我们创建一组简单的数据来进行计算："
   ]
  },
  {
   "cell_type": "code",
   "execution_count": 477,
   "id": "b68843f8-98cd-4b01-a287-c3e2049bc9a2",
   "metadata": {},
   "outputs": [],
   "source": [
    "# 创建离散变量\n",
    "d = np.array([1]*10 + [2]*9 + [3]*8)\n",
    "\n",
    "# 创建连续变量\n",
    "cl = []\n",
    "np.random.seed(22)\n",
    "\n",
    "for i in range(1, 4):\n",
    "    cl.extend(np.random.randn(11-i) + i)\n",
    "    \n",
    "c = np.array(cl)"
   ]
  },
  {
   "cell_type": "code",
   "execution_count": 478,
   "id": "dc8e35f8-4b22-4a91-9d2d-b57527f1f0f8",
   "metadata": {},
   "outputs": [
    {
     "data": {
      "text/plain": [
       "array([1, 1, 1, 1, 1, 1, 1, 1, 1, 1, 2, 2, 2, 2, 2, 2, 2, 2, 2, 3, 3, 3,\n",
       "       3, 3, 3, 3, 3])"
      ]
     },
     "execution_count": 478,
     "metadata": {},
     "output_type": "execute_result"
    }
   ],
   "source": [
    "d"
   ]
  },
  {
   "cell_type": "code",
   "execution_count": 479,
   "id": "146a8b8a-265b-448a-8717-b96510b4827c",
   "metadata": {},
   "outputs": [
    {
     "data": {
      "text/plain": [
       "array([ 9.08050080e-01, -4.63350653e-01,  2.08179168e+00,  7.60674832e-01,\n",
       "        5.08870864e-01, -2.27201029e-03,  1.91882150e+00, -1.03632101e-01,\n",
       "        1.62649346e+00,  4.38486219e-01,  2.02885512e+00,  1.76923281e+00,\n",
       "        2.58775221e+00,  2.75231758e+00,  9.41497446e-01,  3.05597241e+00,\n",
       "        2.74775027e+00,  3.06467659e+00,  3.52012959e+00,  1.51139706e+00,\n",
       "        4.85998989e+00,  1.40138697e+00,  2.35392639e+00,  3.33732500e+00,\n",
       "        4.04672873e+00,  3.62914334e+00,  3.36305909e+00])"
      ]
     },
     "execution_count": 479,
     "metadata": {},
     "output_type": "execute_result"
    }
   ],
   "source": [
    "c"
   ]
  },
  {
   "cell_type": "code",
   "execution_count": 480,
   "id": "d47e5340-068f-4b1e-900d-4287de14f8f7",
   "metadata": {},
   "outputs": [
    {
     "data": {
      "text/plain": [
       "((27,), (27,))"
      ]
     },
     "execution_count": 480,
     "metadata": {},
     "output_type": "execute_result"
    }
   ],
   "source": [
    "d.shape, c.shape"
   ]
  },
  {
   "cell_type": "code",
   "execution_count": 481,
   "id": "b5c56200-2848-436d-bde6-14b3f2d32d36",
   "metadata": {},
   "outputs": [
    {
     "data": {
      "text/html": [
       "<div>\n",
       "<style scoped>\n",
       "    .dataframe tbody tr th:only-of-type {\n",
       "        vertical-align: middle;\n",
       "    }\n",
       "\n",
       "    .dataframe tbody tr th {\n",
       "        vertical-align: top;\n",
       "    }\n",
       "\n",
       "    .dataframe thead th {\n",
       "        text-align: right;\n",
       "    }\n",
       "</style>\n",
       "<table border=\"1\" class=\"dataframe\">\n",
       "  <thead>\n",
       "    <tr style=\"text-align: right;\">\n",
       "      <th></th>\n",
       "      <th>c</th>\n",
       "      <th>d</th>\n",
       "    </tr>\n",
       "  </thead>\n",
       "  <tbody>\n",
       "    <tr>\n",
       "      <th>0</th>\n",
       "      <td>0.908050</td>\n",
       "      <td>1</td>\n",
       "    </tr>\n",
       "    <tr>\n",
       "      <th>1</th>\n",
       "      <td>-0.463351</td>\n",
       "      <td>1</td>\n",
       "    </tr>\n",
       "    <tr>\n",
       "      <th>2</th>\n",
       "      <td>2.081792</td>\n",
       "      <td>1</td>\n",
       "    </tr>\n",
       "    <tr>\n",
       "      <th>3</th>\n",
       "      <td>0.760675</td>\n",
       "      <td>1</td>\n",
       "    </tr>\n",
       "    <tr>\n",
       "      <th>4</th>\n",
       "      <td>0.508871</td>\n",
       "      <td>1</td>\n",
       "    </tr>\n",
       "  </tbody>\n",
       "</table>\n",
       "</div>"
      ],
      "text/plain": [
       "          c  d\n",
       "0  0.908050  1\n",
       "1 -0.463351  1\n",
       "2  2.081792  1\n",
       "3  0.760675  1\n",
       "4  0.508871  1"
      ]
     },
     "execution_count": 481,
     "metadata": {},
     "output_type": "execute_result"
    }
   ],
   "source": [
    "pd.DataFrame({'c':c, 'd':d}).head(5)"
   ]
  },
  {
   "cell_type": "markdown",
   "id": "5c99639a-53d6-42f6-8840-1611bd8631f2",
   "metadata": {},
   "source": [
    "这里需要注意，两个变量需要长度一致，并且为了让离散变量对连续变量有一定的区分度（反之亦然），这里对应不同离散变量取值的连续变量取自不同均值、相同方差、满足正态分布的样本总体。"
   ]
  },
  {
   "cell_type": "markdown",
   "id": "ed8664fa-8aea-49f5-bf66-a68b14324cc6",
   "metadata": {},
   "source": [
    "&emsp;&emsp;然后我们带入这组数据进行计算，首先是参数定义部分："
   ]
  },
  {
   "cell_type": "code",
   "execution_count": 482,
   "id": "1fb5458a-7d73-4442-9b15-48a711e9e773",
   "metadata": {},
   "outputs": [],
   "source": [
    "# 样本总数\n",
    "n_samples = c.shape[0]\n",
    "# 将连续变量转化为列向量（以满足后续最近邻计算要求）\n",
    "c = c.reshape((-1, 1))\n",
    "# 定义最近邻元素个数\n",
    "n_neighbors = 3\n",
    "\n",
    "# 创建空的用于存储每个元素半径的空数组\n",
    "radius = np.empty(n_samples)\n",
    "label_counts = np.empty(n_samples)\n",
    "k_all = np.empty(n_samples)"
   ]
  },
  {
   "cell_type": "code",
   "execution_count": 483,
   "id": "40302f19-03e0-42a1-837e-56fd9035bb46",
   "metadata": {},
   "outputs": [],
   "source": [
    "# 实例化最近邻评估器\n",
    "nn = NearestNeighbors()"
   ]
  },
  {
   "cell_type": "code",
   "execution_count": 484,
   "id": "8ca7ebca-4086-410c-8530-0c3b48b26015",
   "metadata": {},
   "outputs": [
    {
     "name": "stdout",
     "output_type": "stream",
     "text": [
      "[ True  True  True  True  True  True  True  True  True  True False False\n",
      " False False False False False False False False False False False False\n",
      " False False False]\n",
      "10\n",
      "[False False False False False False False False False False  True  True\n",
      "  True  True  True  True  True  True  True False False False False False\n",
      " False False False]\n",
      "9\n",
      "[False False False False False False False False False False False False\n",
      " False False False False False False False  True  True  True  True  True\n",
      "  True  True  True]\n",
      "8\n"
     ]
    }
   ],
   "source": [
    "# 计算离散变量不同取值的样本总数\n",
    "for label in np.unique(d):\n",
    "    # mask是每个类别的布尔索引标识\n",
    "    mask = d == label\n",
    "    print(mask)\n",
    "    count = np.sum(mask)\n",
    "    print(count)"
   ]
  },
  {
   "cell_type": "code",
   "execution_count": 485,
   "id": "f4759886-dc5d-4305-8469-baff1b90b79a",
   "metadata": {},
   "outputs": [],
   "source": [
    "for label in np.unique(d):\n",
    "    mask = d == label\n",
    "    count = np.sum(mask)\n",
    "    # 避免最近邻个数少于类别样本数的情况\n",
    "    if count > 1:\n",
    "        k = min(n_neighbors, count - 1)\n",
    "        # 设置最近邻个数参数\n",
    "        nn.set_params(n_neighbors=k)\n",
    "        # 针对某一类样本进行连续变量的最近邻计算\n",
    "        nn.fit(c[mask])\n",
    "        # 找出某类样本最近邻计算结果的距离\n",
    "        r = nn.kneighbors()[0]\n",
    "        # 将某类样本的最近邻的最远距离填入radius\n",
    "        radius[mask] = np.nextafter(r[:, -1], 0)\n",
    "        # 将实际某类样本的最近邻个数填入k_all\n",
    "        k_all[mask] = k\n",
    "    # 将某类样本的样本总数填入label_counts\n",
    "    label_counts[mask] = count"
   ]
  },
  {
   "cell_type": "code",
   "execution_count": 486,
   "id": "0040cbc3-4349-4ae5-ace8-b30d3394957f",
   "metadata": {},
   "outputs": [
    {
     "data": {
      "text/plain": [
       "array([False, False, False, False, False, False, False, False, False,\n",
       "       False, False, False, False, False, False, False, False, False,\n",
       "       False,  True,  True,  True,  True,  True,  True,  True,  True])"
      ]
     },
     "execution_count": 486,
     "metadata": {},
     "output_type": "execute_result"
    }
   ],
   "source": [
    "# 第三类样本的布尔索引\n",
    "mask"
   ]
  },
  {
   "cell_type": "code",
   "execution_count": 487,
   "id": "2423b3a4-4883-4470-950f-ea44ea61e625",
   "metadata": {},
   "outputs": [
    {
     "data": {
      "text/plain": [
       "array([[1.51139706],\n",
       "       [4.85998989],\n",
       "       [1.40138697],\n",
       "       [2.35392639],\n",
       "       [3.337325  ],\n",
       "       [4.04672873],\n",
       "       [3.62914334],\n",
       "       [3.36305909]])"
      ]
     },
     "execution_count": 487,
     "metadata": {},
     "output_type": "execute_result"
    }
   ],
   "source": [
    "# 第三类样本对应的连续变量\n",
    "c[mask]"
   ]
  },
  {
   "cell_type": "code",
   "execution_count": 488,
   "id": "77733f82-d685-4473-8246-6c82d27159e3",
   "metadata": {},
   "outputs": [],
   "source": [
    "nn.set_params(n_neighbors=3)\n",
    "# 针对某一类样本进行连续变量的最近邻计算\n",
    "nn.fit(c[mask])\n",
    "# 找出某类样本最近邻计算结果的距离\n",
    "r = nn.kneighbors()[0]"
   ]
  },
  {
   "cell_type": "code",
   "execution_count": 489,
   "id": "8305eff0-31e0-487f-afc3-d09060696cfe",
   "metadata": {},
   "outputs": [
    {
     "data": {
      "text/plain": [
       "array([[0.11001009, 0.84252932, 1.82592794],\n",
       "       [0.81326117, 1.23084655, 1.4969308 ],\n",
       "       [0.11001009, 0.95253941, 1.93593803],\n",
       "       [0.84252932, 0.95253941, 0.98339861],\n",
       "       [0.02573409, 0.29181834, 0.70940372],\n",
       "       [0.41758538, 0.68366963, 0.70940372],\n",
       "       [0.26608425, 0.29181834, 0.41758538],\n",
       "       [0.02573409, 0.26608425, 0.68366963]])"
      ]
     },
     "execution_count": 489,
     "metadata": {},
     "output_type": "execute_result"
    }
   ],
   "source": [
    "r"
   ]
  },
  {
   "cell_type": "markdown",
   "id": "8f2a1848-d7fa-4fc0-bb36-5c4c13f35cb6",
   "metadata": {},
   "source": [
    "这里需要注意的是，r[:, -1]代表最近邻的最远距离（第三个最近邻的距离）："
   ]
  },
  {
   "cell_type": "code",
   "execution_count": 490,
   "id": "552c34f2-3604-4896-bce2-ac2a1e0669a2",
   "metadata": {},
   "outputs": [
    {
     "data": {
      "text/plain": [
       "array([1.82592794, 1.4969308 , 1.93593803, 0.98339861, 0.70940372,\n",
       "       0.70940372, 0.41758538, 0.68366963])"
      ]
     },
     "execution_count": 490,
     "metadata": {},
     "output_type": "execute_result"
    }
   ],
   "source": [
    "r[:, -1]"
   ]
  },
  {
   "cell_type": "markdown",
   "id": "95a1bf1a-f683-47f6-b744-902653ac6cc0",
   "metadata": {},
   "source": [
    "而np.nextafter(r[:, -1], 0)则是r[:, -1]朝向0移动一个浮点数计数的最小单位，即等价于r[:, -1]-α，其中α代表浮点数计数的最小单位，并且是一个大于0的数，尽管我们从显示精度来看并不能看出二者区别"
   ]
  },
  {
   "cell_type": "code",
   "execution_count": 491,
   "id": "6c83b85c-79af-4d33-bcc5-c62319e1c5b4",
   "metadata": {},
   "outputs": [
    {
     "data": {
      "text/plain": [
       "array([1.82592794, 1.4969308 , 1.93593803, 0.98339861, 0.70940372,\n",
       "       0.70940372, 0.41758538, 0.68366963])"
      ]
     },
     "execution_count": 491,
     "metadata": {},
     "output_type": "execute_result"
    }
   ],
   "source": [
    "np.nextafter(r[:, -1], 0)"
   ]
  },
  {
   "cell_type": "markdown",
   "id": "57332ed2-768c-4316-8865-3b76f955502b",
   "metadata": {},
   "source": [
    "但是实际上np.nextafter(r[:, -1], 0)是略小于r[:, -1]的："
   ]
  },
  {
   "cell_type": "code",
   "execution_count": 492,
   "id": "7c335507-e63e-42f0-92a5-4beb79938558",
   "metadata": {},
   "outputs": [
    {
     "data": {
      "text/plain": [
       "array([ True,  True,  True,  True,  True,  True,  True,  True])"
      ]
     },
     "execution_count": 492,
     "metadata": {},
     "output_type": "execute_result"
    }
   ],
   "source": [
    "np.nextafter(r[:, -1], 0) < r[:, -1]"
   ]
  },
  {
   "cell_type": "code",
   "execution_count": 493,
   "id": "5ede4c5e-70d6-4416-82f6-2f1f1d326b33",
   "metadata": {},
   "outputs": [
    {
     "data": {
      "text/plain": [
       "array([-2.22044605e-16, -2.22044605e-16, -2.22044605e-16, -1.11022302e-16,\n",
       "       -1.11022302e-16, -1.11022302e-16, -5.55111512e-17, -1.11022302e-16])"
      ]
     },
     "execution_count": 493,
     "metadata": {},
     "output_type": "execute_result"
    }
   ],
   "source": [
    "np.nextafter(r[:, -1], 0) - r[:, -1]"
   ]
  },
  {
   "cell_type": "markdown",
   "id": "7ba31771-269b-4817-a437-dd2b5682dd7a",
   "metadata": {},
   "source": [
    "也就是说，我们最后记录的radius半径结果，最多只能容纳k-1个最近邻。"
   ]
  },
  {
   "cell_type": "markdown",
   "id": "b649dbc4-374a-4b83-849f-6f7554c3df5c",
   "metadata": {},
   "source": [
    "执行完循环后，再查看三个关键结果如下所示："
   ]
  },
  {
   "cell_type": "code",
   "execution_count": 494,
   "id": "2c73b60e-c29d-4ef1-8b25-e18510b7dbf1",
   "metadata": {},
   "outputs": [
    {
     "data": {
      "text/plain": [
       "array([0.46956386, 0.90183687, 1.1737416 , 0.32218861, 0.39917922,\n",
       "       0.46107864, 1.01077142, 0.54211832, 0.71844338, 0.44075823,\n",
       "       0.71889515, 0.82773537, 0.4682202 , 0.30365483, 1.64625477,\n",
       "       0.30822215, 0.30822215, 0.31692632, 0.76781201, 1.82592794,\n",
       "       1.4969308 , 1.93593803, 0.98339861, 0.70940372, 0.70940372,\n",
       "       0.41758538, 0.68366963])"
      ]
     },
     "execution_count": 494,
     "metadata": {},
     "output_type": "execute_result"
    }
   ],
   "source": [
    "radius"
   ]
  },
  {
   "cell_type": "code",
   "execution_count": 495,
   "id": "8b8cd063-1212-482b-995f-0905d97abb82",
   "metadata": {},
   "outputs": [
    {
     "data": {
      "text/plain": [
       "array([3., 3., 3., 3., 3., 3., 3., 3., 3., 3., 3., 3., 3., 3., 3., 3., 3.,\n",
       "       3., 3., 3., 3., 3., 3., 3., 3., 3., 3.])"
      ]
     },
     "execution_count": 495,
     "metadata": {},
     "output_type": "execute_result"
    }
   ],
   "source": [
    "k_all"
   ]
  },
  {
   "cell_type": "code",
   "execution_count": 496,
   "id": "802f1219-7119-45be-9de2-5f5202bcf87a",
   "metadata": {},
   "outputs": [
    {
     "data": {
      "text/plain": [
       "array([10., 10., 10., 10., 10., 10., 10., 10., 10., 10.,  9.,  9.,  9.,\n",
       "        9.,  9.,  9.,  9.,  9.,  9.,  8.,  8.,  8.,  8.,  8.,  8.,  8.,\n",
       "        8.])"
      ]
     },
     "execution_count": 496,
     "metadata": {},
     "output_type": "execute_result"
    }
   ],
   "source": [
    "label_counts"
   ]
  },
  {
   "cell_type": "markdown",
   "id": "3f50b0e6-8b3c-45a6-b347-3c98684fd27a",
   "metadata": {},
   "source": [
    "接下来的这段代码用于删除只有一个样本的类，由于目前数据集的三个类的样本数量都大于1，因此本段代码并不会起到实质性效果："
   ]
  },
  {
   "cell_type": "code",
   "execution_count": 497,
   "id": "c0258ba7-f8ad-4769-9b11-97923dc97b40",
   "metadata": {},
   "outputs": [],
   "source": [
    "mask = label_counts > 1\n",
    "n_samples = np.sum(mask)\n",
    "label_counts = label_counts[mask]\n",
    "k_all = k_all[mask]\n",
    "c = c[mask]\n",
    "radius = radius[mask]"
   ]
  },
  {
   "cell_type": "code",
   "execution_count": 498,
   "id": "1cc32d27-6aec-4007-b2af-678e5fb3762c",
   "metadata": {},
   "outputs": [
    {
     "data": {
      "text/plain": [
       "array([0.46956386, 0.90183687, 1.1737416 , 0.32218861, 0.39917922,\n",
       "       0.46107864, 1.01077142, 0.54211832, 0.71844338, 0.44075823,\n",
       "       0.71889515, 0.82773537, 0.4682202 , 0.30365483, 1.64625477,\n",
       "       0.30822215, 0.30822215, 0.31692632, 0.76781201, 1.82592794,\n",
       "       1.4969308 , 1.93593803, 0.98339861, 0.70940372, 0.70940372,\n",
       "       0.41758538, 0.68366963])"
      ]
     },
     "execution_count": 498,
     "metadata": {},
     "output_type": "execute_result"
    }
   ],
   "source": [
    "radius"
   ]
  },
  {
   "cell_type": "markdown",
   "id": "bc29dd02-6eb4-4392-af65-fd673bc726eb",
   "metadata": {},
   "source": [
    "接下来借助KDTree，来根据半径搜索元素个数。这里需要注意的是，此时的搜索不再是分类别进行搜索，而是带入全部数据进行搜索，因此哪怕是用radius的半径范围来进行搜索，最后搜索出来的（除自己外）最近邻的个数应该也是大于等于k-1（也就是2）的。例如在分类计算最近邻时，k=1时点1的半径为0.5："
   ]
  },
  {
   "cell_type": "markdown",
   "id": "6be072d6-e7c8-46ff-86a3-3da3f967ad9f",
   "metadata": {},
   "source": [
    "<center><img src=\"https://s2.loli.net/2022/04/08/PVQuLMk1hx9IlnT.png\" alt=\"image-20220408180540791\" style=\"zoom:33%;\" />"
   ]
  },
  {
   "cell_type": "markdown",
   "id": "0a9cc409-3df6-4ba4-87de-b346c946f256",
   "metadata": {},
   "source": [
    "而当取消不同类别划分后，把所有点纳入一起进行考虑，点1在半径为0.5的范围内就存在两个最近邻，分别是0.5和1.2："
   ]
  },
  {
   "cell_type": "markdown",
   "id": "0774f977-17c6-4adc-a43e-60a9c828d9bd",
   "metadata": {},
   "source": [
    "<center><img src=\"https://s2.loli.net/2022/04/08/4rNV7RGbuvyetD1.png\" alt=\"image-20220408181230733\" style=\"zoom:33%;\" />"
   ]
  },
  {
   "cell_type": "markdown",
   "id": "f10c7e79-a93e-4c5d-aef9-87f1360f1be3",
   "metadata": {},
   "source": [
    "也就是说，在相同半径下，组内只有一个最近邻，但跨组总共有两个最近邻，而在给定半径范围内，组内最近邻和跨组最近邻个数之间的差别，其实就是衡量组内差异与组间差异的指标。只不过此处需要注意的是，这里给定的半径，是根据给定组内最近邻的个数通过KDTree算出来的，所以上述判别过程也就等价于在组内包含3个最近邻的半径范围r内，我们可以根据跨组最近邻的个数来衡量组内差异和组间差异。"
   ]
  },
  {
   "cell_type": "markdown",
   "id": "baebe9b2-1df7-4479-b09a-acaaea4f6daf",
   "metadata": {},
   "source": [
    "&emsp;&emsp;其实这也不难理解，我们不妨设想，如果对于某一种分组情况来说，在组内3个最近邻决定的半径r内，如果包含了多个跨组最近邻，则说明相比组内差异、组间差异较小，此时离散变量对连续变量的区分效力较弱，此时连续变量和离散变量的关联性也较弱，此时的直观理解就是不同分组的数据彼此交叉；反之，如果在组内3个最近邻决定的半径r内，只包含少量跨组最近邻，则说明相比组内差异、组间差异较大，此时的直观理解就是不同分组的数据各自处于不同区间，此时离散变量对连续变量的区分效力较强，此时连续变量和离散变量的关联性也较强。"
   ]
  },
  {
   "cell_type": "markdown",
   "id": "aeb4f499-8f3d-4b95-9f38-09c40477c90f",
   "metadata": {},
   "source": [
    "此外需要重点强调的是每一个组划定的半径范围是根据组内数据分布情况（即最近邻情况）决定的，而非人工设置。"
   ]
  },
  {
   "cell_type": "markdown",
   "id": "8de51ac7-e463-4e1c-bb03-50bc0e6e22e9",
   "metadata": {},
   "source": [
    "&emsp;&emsp;在此思路下，我们进一步查看最终互信息这一数值指标是如何计算的："
   ]
  },
  {
   "cell_type": "code",
   "execution_count": 499,
   "id": "4b046f2a-e7ba-4008-8bd5-f042efbbd28a",
   "metadata": {},
   "outputs": [],
   "source": [
    "kd = KDTree(c)\n",
    "m_all = kd.query_radius(c, radius, count_only=True, return_distance=False)\n",
    "m_all = np.array(m_all) - 1.0"
   ]
  },
  {
   "cell_type": "markdown",
   "id": "73678899-3005-4b37-abcf-353c9be6d28b",
   "metadata": {},
   "source": [
    "此时m_all-1表示出去自身后的跨组最近邻，同时不难发现，由于我们给的每一组的半径是略小于k=3的组内最近邻半径的，因此部分跨组最近邻计算过程中出现了m_all=2的情况，此时整体最近邻个数=组内最近邻个数，说明并不存在跨组最近邻。"
   ]
  },
  {
   "cell_type": "code",
   "execution_count": 500,
   "id": "b1767736-d155-4a34-83ba-a7e9f69657cb",
   "metadata": {},
   "outputs": [
    {
     "data": {
      "text/plain": [
       "array([ 3.,  2., 13.,  3.,  2.,  2., 11.,  2.,  7.,  2.,  8.,  8.,  3.,\n",
       "        2., 15.,  4.,  2.,  4.,  6., 19.,  3., 20., 12.,  7.,  3.,  3.,\n",
       "        7.])"
      ]
     },
     "execution_count": 500,
     "metadata": {},
     "output_type": "execute_result"
    }
   ],
   "source": [
    "m_all"
   ]
  },
  {
   "cell_type": "markdown",
   "id": "1a4b8423-1e96-4797-ac6f-8ff6a85bfaa0",
   "metadata": {},
   "source": [
    "此外需要注意的是，尽管我们是对每个元素进行最近邻的计算，但每个元素的最近邻范围是组内相同的，也就是对于m_all来说，前10个元素对应的都是第一分组，因此他们的最近邻范围相同："
   ]
  },
  {
   "cell_type": "code",
   "execution_count": 501,
   "id": "2c392b94-1aee-4534-9147-e5624f5af7a5",
   "metadata": {},
   "outputs": [
    {
     "data": {
      "text/plain": [
       "array([10., 10., 10., 10., 10., 10., 10., 10., 10., 10.,  9.,  9.,  9.,\n",
       "        9.,  9.,  9.,  9.,  9.,  9.,  8.,  8.,  8.,  8.,  8.,  8.,  8.,\n",
       "        8.])"
      ]
     },
     "execution_count": 501,
     "metadata": {},
     "output_type": "execute_result"
    }
   ],
   "source": [
    "label_counts"
   ]
  },
  {
   "cell_type": "markdown",
   "id": "14c37e37-6c69-4231-be6d-459ecd9edfc8",
   "metadata": {},
   "source": [
    "我们也可以查看实际最近邻情况："
   ]
  },
  {
   "cell_type": "code",
   "execution_count": 502,
   "id": "226382d9-9ec1-4b6f-9454-2d4a4aab5a0d",
   "metadata": {
    "tags": []
   },
   "outputs": [
    {
     "data": {
      "text/plain": [
       "array([array([ 0,  3,  4, 14], dtype=int64),\n",
       "       array([1, 5, 7], dtype=int64),\n",
       "       array([ 2,  6,  8, 10, 11, 12, 13, 14, 15, 16, 17, 19, 21, 22],\n",
       "             dtype=int64)                                             ,\n",
       "       array([ 0,  3,  4, 14], dtype=int64),\n",
       "       array([3, 4, 9], dtype=int64), array([5, 7, 9], dtype=int64),\n",
       "       array([ 2,  6,  8, 10, 11, 12, 13, 14, 16, 19, 21, 22], dtype=int64),\n",
       "       array([1, 5, 7], dtype=int64),\n",
       "       array([ 2,  6,  8, 10, 11, 14, 19, 21], dtype=int64),\n",
       "       array([3, 4, 9], dtype=int64),\n",
       "       array([ 2,  6,  8, 10, 11, 12, 19, 21, 22], dtype=int64),\n",
       "       array([ 2,  6,  8, 10, 11, 12, 19, 21, 22], dtype=int64),\n",
       "       array([12, 13, 16, 22], dtype=int64),\n",
       "       array([12, 13, 16], dtype=int64),\n",
       "       array([ 0,  1,  2,  3,  4,  5,  6,  7,  8,  9, 10, 11, 14, 19, 21, 22],\n",
       "             dtype=int64)                                                     ,\n",
       "       array([13, 15, 17, 23, 26], dtype=int64),\n",
       "       array([12, 13, 16], dtype=int64),\n",
       "       array([13, 15, 17, 23, 26], dtype=int64),\n",
       "       array([15, 17, 18, 23, 24, 25, 26], dtype=int64),\n",
       "       array([ 0,  2,  3,  4,  5,  6,  7,  8,  9, 10, 11, 12, 13, 14, 15, 16, 17,\n",
       "              19, 21, 22], dtype=int64)                                          ,\n",
       "       array([18, 20, 24, 25], dtype=int64),\n",
       "       array([ 0,  1,  2,  3,  4,  5,  6,  7,  8,  9, 10, 11, 12, 13, 14, 15, 16,\n",
       "              17, 19, 21, 22], dtype=int64)                                      ,\n",
       "       array([ 2,  6,  8, 10, 11, 12, 13, 15, 16, 17, 19, 21, 22], dtype=int64),\n",
       "       array([13, 15, 16, 17, 18, 23, 25, 26], dtype=int64),\n",
       "       array([18, 24, 25, 26], dtype=int64),\n",
       "       array([18, 23, 25, 26], dtype=int64),\n",
       "       array([13, 15, 16, 17, 18, 23, 25, 26], dtype=int64)], dtype=object)"
      ]
     },
     "execution_count": 502,
     "metadata": {},
     "output_type": "execute_result"
    }
   ],
   "source": [
    "kd.query_radius(c, radius)"
   ]
  },
  {
   "cell_type": "markdown",
   "id": "aa105b65-c7da-4588-8696-8bbcf3e9cfa9",
   "metadata": {},
   "source": [
    "尽管我们知道跨组最近邻个数越少、两个变量的关联性就越强，并且已经能够算出整体最近邻个数，但我们仍然需要采用某种计算流程量化的衡量这种根据跨组最近邻个数算得的关联性，此处根据[《Estimating mutual information》(A. Kraskov, H. Stogbauer and P. Grassberger, Phys. Rev. E 69, 2004)](https://www.researchgate.net/publication/303264392_Grassberger_Estimating_mutual_information)论文中推导，可以借助伽马函数的对数导函数——digamma函数来进行计算。我们可以简单查看该函数的一般属性："
   ]
  },
  {
   "cell_type": "code",
   "execution_count": 503,
   "id": "aba8177d-8e0a-4cfa-809e-01e35496e479",
   "metadata": {},
   "outputs": [],
   "source": [
    "from scipy.special import digamma"
   ]
  },
  {
   "cell_type": "code",
   "execution_count": 504,
   "id": "99971652-94d2-46e9-ab69-ce71f7bcd622",
   "metadata": {},
   "outputs": [],
   "source": [
    "X = np.linspace(0.1, 10, 100)\n",
    "Y = digamma(X)"
   ]
  },
  {
   "cell_type": "code",
   "execution_count": 505,
   "id": "22b6acd6-d282-435c-ad98-6b4d7ac6f517",
   "metadata": {},
   "outputs": [
    {
     "data": {
      "text/plain": [
       "[<matplotlib.lines.Line2D at 0x1d43793cf10>]"
      ]
     },
     "execution_count": 505,
     "metadata": {},
     "output_type": "execute_result"
    },
    {
     "data": {
      "image/png": "[encoded data removed]",
      "text/plain": [
       "<Figure size 432x288 with 1 Axes>"
      ]
     },
     "metadata": {
      "needs_background": "light"
     },
     "output_type": "display_data"
    }
   ],
   "source": [
    "plt.plot(X, Y)"
   ]
  },
  {
   "cell_type": "markdown",
   "id": "ea0b0eb0-9746-47db-af6a-85a67800cbd1",
   "metadata": {},
   "source": [
    "能够发现，digamma函数在正实数域上是单调递增的，并且增速随着X增加而逐步放缓。而根据论文公式推导，最终的互信息MI值可以由如下公式算得："
   ]
  },
  {
   "cell_type": "markdown",
   "id": "29892a1b-24fc-4b80-8fc5-e37e11a53fa1",
   "metadata": {},
   "source": [
    "$$MI(X,Y)=Ψ(k)−<Ψ(n_x+1)+Ψ(n _y+1)>+Ψ(N)$$"
   ]
  },
  {
   "cell_type": "markdown",
   "id": "eb7b4f16-ed17-4035-b8c4-2215fd042c25",
   "metadata": {},
   "source": [
    "转化成更容易理解的代码公式就是："
   ]
  },
  {
   "cell_type": "code",
   "execution_count": 506,
   "id": "7ea01029-d335-4804-9cf6-026aa8ef8a40",
   "metadata": {},
   "outputs": [
    {
     "data": {
      "text/plain": [
       "0.36956281121710144"
      ]
     },
     "execution_count": 506,
     "metadata": {},
     "output_type": "execute_result"
    }
   ],
   "source": [
    "mi=digamma(n_samples)+np.mean(digamma(k_all))-np.mean(digamma(label_counts))-np.mean(digamma(m_all + 1))\n",
    "mi"
   ]
  },
  {
   "cell_type": "markdown",
   "id": "06551b0d-6880-4304-a0b1-5c8d42022958",
   "metadata": {},
   "source": [
    "其中每部分的计算都用到的digamma函数，而这里的n_samples、k_all、label_counts和m_all + 1都在正实数域上取值，因此随着这些值的增加digamma也会增加，并且会呈现出一种增速逐渐放缓的增加趋势，其中n_samples是样本总数、k_all是每一组的k近邻个数、label_counts是每一组的元素个数、m_all + 1是整体最近邻个数。由此我们不难得出以下结论："
   ]
  },
  {
   "cell_type": "markdown",
   "id": "c7a3c42e-3443-408c-a229-3dcb472d9fcd",
   "metadata": {},
   "source": [
    "- 伴随着样本数量增加和最近邻K的增加，互信息也将增加，而伴随着每一组的元素个数增加和整体最近邻（组内最近邻+跨组最近邻）个数增加，互信息将减少。"
   ]
  },
  {
   "cell_type": "markdown",
   "id": "ae4743d6-d77e-4247-8cfc-4b1f6ea01919",
   "metadata": {},
   "source": [
    "&emsp;&emsp;但这只是浅层次的结论，这里需要注意的是，在样本总数固定的情况下，离散变量的分类水平越多、每个组的组内样本数量就越少，np.mean(digamma(label_counts))就越小、而MI就会越大，这也就是为何sklearn在互信息法的方法使用注解中说的，互信息法在离散变量与连续变量的筛选过程中，会更加倾向于将分类水平更多的离散变量筛选出来的原因。"
   ]
  },
  {
   "cell_type": "markdown",
   "id": "ba0c920c-66c9-422c-a7cc-3c4390931eb6",
   "metadata": {},
   "source": [
    "- 其二需要注意的是，最近邻K的个数选取也会影响最终的MI计算结果。根据sklearn中的相关寿命，伴随着K的增加，方差将会减少而偏差将增加。这里的方差，指的是相同分组内的元素的整体最近邻个数将趋于一致，而偏差指的是MI指标的判别效力将逐渐下降，这一点从上述MI计算公式中也不难看出。因此K建议就设置为默认值3（后续会介绍），以确保在方差和偏差中保持平衡。"
   ]
  },
  {
   "cell_type": "markdown",
   "id": "c86bb4d1-5ba5-438d-8aa7-5a35890e2fd0",
   "metadata": {},
   "source": [
    "- 其三也是最关键的一点，就是m_all、即整体最近邻个数对MI的影响。这里需要结合np.mean(digamma(k_all))一起来进行观察。MI中计算流程为np.mean(digamma(k_all))-np.mean(digamma(m_all + 1))，很明显k_all是趋于确定的，也就是组内最近邻个数，而m_all表示整体最近邻个数，因此上述计算结果可以粗略理解成跨组最近邻元素个数，很明显，跨组最近邻元素个数越多、组间差异越小、np.mean(digamma(k_all))-np.mean(digamma(m_all + 1))越小、MI值越小，反之亦然。这也是最能体现MI能够衡量组间差异和组内差异的部分，决定MI最终计算结果的核心部分。"
   ]
  },
  {
   "cell_type": "markdown",
   "id": "6463dba2-a365-47ae-adc7-f4e8ff4bc2de",
   "metadata": {},
   "source": [
    "&emsp;&emsp;至此，我们就完整理解了离散变量与连续变量之间的MI计算过程。接下来总结离散变量与连续变量之间的MI特征筛选的使用注意事项："
   ]
  },
  {
   "cell_type": "markdown",
   "id": "b13d0e4f-fea8-4b1c-a97e-b196c189de19",
   "metadata": {},
   "source": [
    "- MI越大、两个变量的关联性就越强；"
   ]
  },
  {
   "cell_type": "markdown",
   "id": "daae3306-2235-4249-9674-180433a42809",
   "metadata": {},
   "source": [
    "- 最近邻个数k建议默认选择3，k越大方差越小偏差越大、k越小方差越大偏差越小；"
   ]
  },
  {
   "cell_type": "markdown",
   "id": "da1bc705-3a6e-489d-a79b-99624f7b3eaa",
   "metadata": {},
   "source": [
    "- 对于小样本来说，MI的计算结果会明显受到离散变量取值个数的影响，取值个数越多、MI计算结果也越大，该趋势会在样本数量增加后被削弱，因此小样本仍然建议采用方差分析这一参数方法以保证效果，而在大量样本情况下MI计算效率更高，并且可以同时采用两种方法进行特征筛选，同样也能增加特征筛选结果的丰富性以提升模型融合的效果。"
   ]
  },
  {
   "cell_type": "markdown",
   "id": "e4b6b07a-397f-4fed-852f-2d7aeb5d3064",
   "metadata": {},
   "source": [
    "##### 6.3.3 连续变量之间的互信息计算"
   ]
  },
  {
   "cell_type": "markdown",
   "id": "9421e4e5-8ce4-4e76-b263-604f2ba919df",
   "metadata": {},
   "source": [
    "&emsp;&emsp;接下来继续介绍连续变量之间的互信息计算方法。该方法十分巧妙并且适用面非常广，能够挖掘包括线性关系在内的任意类型关联关系，而用于连续变量之间的特征筛选，也是互信息法应用最广泛的场景。"
   ]
  },
  {
   "cell_type": "markdown",
   "id": "54b43ded-5fa5-485c-9690-0005b19d85d5",
   "metadata": {},
   "source": [
    "- 连续变量互信息计算的基本思想"
   ]
  },
  {
   "cell_type": "markdown",
   "id": "17b4651b-4fc2-489f-8f08-d6e76eab8365",
   "metadata": {},
   "source": [
    "&emsp;&emsp;那么互信息法是如何判断连续变量之间是否存在关联关系的呢？其基本思路并不复杂：假设有x和y是两个连续变量，如果伴随着x变化y不变化，则说明二者无关，反之则说明二者相关，并且可以两两样本进行观察并计算最终累积效应，例如现在有极简数据集如下："
   ]
  },
  {
   "cell_type": "code",
   "execution_count": 507,
   "id": "23f4634c-0468-4dce-85cc-7ad09d51637a",
   "metadata": {},
   "outputs": [
    {
     "data": {
      "text/html": [
       "<div>\n",
       "<style scoped>\n",
       "    .dataframe tbody tr th:only-of-type {\n",
       "        vertical-align: middle;\n",
       "    }\n",
       "\n",
       "    .dataframe tbody tr th {\n",
       "        vertical-align: top;\n",
       "    }\n",
       "\n",
       "    .dataframe thead th {\n",
       "        text-align: right;\n",
       "    }\n",
       "</style>\n",
       "<table border=\"1\" class=\"dataframe\">\n",
       "  <thead>\n",
       "    <tr style=\"text-align: right;\">\n",
       "      <th></th>\n",
       "      <th>x</th>\n",
       "      <th>y</th>\n",
       "    </tr>\n",
       "  </thead>\n",
       "  <tbody>\n",
       "    <tr>\n",
       "      <th>0</th>\n",
       "      <td>0</td>\n",
       "      <td>1</td>\n",
       "    </tr>\n",
       "    <tr>\n",
       "      <th>1</th>\n",
       "      <td>1</td>\n",
       "      <td>2</td>\n",
       "    </tr>\n",
       "  </tbody>\n",
       "</table>\n",
       "</div>"
      ],
      "text/plain": [
       "   x  y\n",
       "0  0  1\n",
       "1  1  2"
      ]
     },
     "execution_count": 507,
     "metadata": {},
     "output_type": "execute_result"
    }
   ],
   "source": [
    "x = np.array([0, 1])\n",
    "y = np.array([1, 2])\n",
    "pd.DataFrame({'x':x, 'y':y})"
   ]
  },
  {
   "cell_type": "markdown",
   "id": "49eb88d6-d555-4393-ac8d-8c508ef4a5ca",
   "metadata": {},
   "source": [
    "其中x和y是两个变量，现总共有两条数据，不难发现，从0号样本到1号样本，x取值增加1、y的取值也增加1，这说明伴随x变化，y也发生了变化，二者或许存在关联性，我们暂时将由这两条样本观察到的关联性记作$α_{01}$。当然，如果样本数量进一步增加，x和y呈现如下数据情况："
   ]
  },
  {
   "cell_type": "code",
   "execution_count": 508,
   "id": "5b28b38b-1640-4b55-b7a1-16b3c9db4f91",
   "metadata": {},
   "outputs": [
    {
     "data": {
      "text/html": [
       "<div>\n",
       "<style scoped>\n",
       "    .dataframe tbody tr th:only-of-type {\n",
       "        vertical-align: middle;\n",
       "    }\n",
       "\n",
       "    .dataframe tbody tr th {\n",
       "        vertical-align: top;\n",
       "    }\n",
       "\n",
       "    .dataframe thead th {\n",
       "        text-align: right;\n",
       "    }\n",
       "</style>\n",
       "<table border=\"1\" class=\"dataframe\">\n",
       "  <thead>\n",
       "    <tr style=\"text-align: right;\">\n",
       "      <th></th>\n",
       "      <th>x</th>\n",
       "      <th>y</th>\n",
       "    </tr>\n",
       "  </thead>\n",
       "  <tbody>\n",
       "    <tr>\n",
       "      <th>0</th>\n",
       "      <td>0</td>\n",
       "      <td>1</td>\n",
       "    </tr>\n",
       "    <tr>\n",
       "      <th>1</th>\n",
       "      <td>1</td>\n",
       "      <td>2</td>\n",
       "    </tr>\n",
       "    <tr>\n",
       "      <th>2</th>\n",
       "      <td>2</td>\n",
       "      <td>1</td>\n",
       "    </tr>\n",
       "  </tbody>\n",
       "</table>\n",
       "</div>"
      ],
      "text/plain": [
       "   x  y\n",
       "0  0  1\n",
       "1  1  2\n",
       "2  2  1"
      ]
     },
     "execution_count": 508,
     "metadata": {},
     "output_type": "execute_result"
    }
   ],
   "source": [
    "x = np.array([0, 1, 2])\n",
    "y = np.array([1, 2, 1])\n",
    "pd.DataFrame({'x':x, 'y':y})"
   ]
  },
  {
   "cell_type": "markdown",
   "id": "a0ea2a16-3fd9-4f27-a7a3-5ed42630c028",
   "metadata": {},
   "source": [
    "此时我们再进行两两比较，则会发现从1号样本到2号样本，x变化y也发生了变化（反向变化），因此二者关联性进一步增加，我们暂时将由这两条样本观察到的关联性记作$α_{12}$，但是，如果我们挑选0号样本和2号样本，则会发现伴随着x变化，y并没有发生任何变化，二者并不存在关联性，因此$α_{02}=0$。但整体来看，x和y的关联性应该是由$α_{01}、α_{12}和α_{02}$共同决定，因此整体来看x和y还是存在一定关联性的。"
   ]
  },
  {
   "cell_type": "markdown",
   "id": "21ab2f3c-b89a-40c2-ab8f-7784574ffa99",
   "metadata": {},
   "source": [
    "&emsp;&emsp;这也就是连续变量之间的互信息计算的基本思想，不难看出，也正是受该思想的影响，互信息才能有效的识别各种不同类别的变量之间的关联性。但是接下来的问题就是具体数值的指标应该如何计算呢？"
   ]
  },
  {
   "cell_type": "markdown",
   "id": "70b487c1-b36d-47cb-b978-98e1fb51c8dd",
   "metadata": {},
   "source": [
    "- 连续变量的互信息计算过程"
   ]
  },
  {
   "cell_type": "markdown",
   "id": "c260f4cc-9d60-461a-b0dc-189612b7ae59",
   "metadata": {},
   "source": [
    "&emsp;&emsp;连续变量之间的互信息计算流程非常巧妙，首先仍然是采用了最近邻的计算过程，并且采用了一种名为切比雪夫距离（Chebyshev distance）的计算流程。这里先补充关于切比雪夫距离计算公式："
   ]
  },
  {
   "cell_type": "markdown",
   "id": "8abdcac3-ec6c-4a09-b6b6-d1784458a1b9",
   "metadata": {},
   "source": [
    "$$Chebyshe\\_distance(P,Q) = \\max{(|x_1-x_2|,|y_1-y_2|)}$$"
   ]
  },
  {
   "cell_type": "markdown",
   "id": "2c85d473-e570-4ad7-9f04-65b746b2cdff",
   "metadata": {},
   "source": [
    "其中$P(x_1,y_1)$和$Q(x_2,y_2)$是二维平面空间中两个不同的点。而从上述公式中也不难看出，切比雪夫距离实际上就是横坐标和纵坐标差值绝对值的最大值。"
   ]
  },
  {
   "cell_type": "markdown",
   "id": "03d86b58-8e8a-4000-9cee-18761b48d451",
   "metadata": {},
   "source": [
    "> 为避免混淆，此处简单回顾欧式距离与曼哈顿距离：     \n",
    "$$Euclidean\\_distance(P,Q) = \\sqrt{(x_1-x_2)^2+(y_1-y_2)^2}$$\n",
    "$$Manhattan\\_distance(P,Q) = |x_1-x_2|+|y_1-y_2|$$"
   ]
  },
  {
   "cell_type": "markdown",
   "id": "668a65e9-6362-454d-81ea-9c6ca5fe821c",
   "metadata": {},
   "source": [
    "现假设有两条样本、数据分布如下："
   ]
  },
  {
   "cell_type": "code",
   "execution_count": 509,
   "id": "a2eaa2d5-a9b7-4fa9-be02-e610fd4a1ec1",
   "metadata": {},
   "outputs": [
    {
     "data": {
      "text/html": [
       "<div>\n",
       "<style scoped>\n",
       "    .dataframe tbody tr th:only-of-type {\n",
       "        vertical-align: middle;\n",
       "    }\n",
       "\n",
       "    .dataframe tbody tr th {\n",
       "        vertical-align: top;\n",
       "    }\n",
       "\n",
       "    .dataframe thead th {\n",
       "        text-align: right;\n",
       "    }\n",
       "</style>\n",
       "<table border=\"1\" class=\"dataframe\">\n",
       "  <thead>\n",
       "    <tr style=\"text-align: right;\">\n",
       "      <th></th>\n",
       "      <th>x</th>\n",
       "      <th>y</th>\n",
       "    </tr>\n",
       "  </thead>\n",
       "  <tbody>\n",
       "    <tr>\n",
       "      <th>0</th>\n",
       "      <td>0</td>\n",
       "      <td>1</td>\n",
       "    </tr>\n",
       "    <tr>\n",
       "      <th>1</th>\n",
       "      <td>1</td>\n",
       "      <td>3</td>\n",
       "    </tr>\n",
       "  </tbody>\n",
       "</table>\n",
       "</div>"
      ],
      "text/plain": [
       "   x  y\n",
       "0  0  1\n",
       "1  1  3"
      ]
     },
     "execution_count": 509,
     "metadata": {},
     "output_type": "execute_result"
    }
   ],
   "source": [
    "x = np.array([0, 1])\n",
    "y = np.array([1, 3])\n",
    "pd.DataFrame({'x':x, 'y':y})"
   ]
  },
  {
   "cell_type": "markdown",
   "id": "d8f301e0-0f5a-4f0a-b207-320741f6be3d",
   "metadata": {},
   "source": [
    "则我们可以将这两条样本视作二维空间内的两个点，x和y分别是两个坐标轴，两点分布如下："
   ]
  },
  {
   "cell_type": "code",
   "execution_count": 510,
   "id": "fbf59ce5-35bf-40a3-aad4-1f9727f62d6a",
   "metadata": {},
   "outputs": [
    {
     "data": {
      "text/plain": [
       "[<matplotlib.lines.Line2D at 0x1d4383b9640>]"
      ]
     },
     "execution_count": 510,
     "metadata": {},
     "output_type": "execute_result"
    },
    {
     "data": {
      "image/png": "[encoded data removed]",
      "text/plain": [
       "<Figure size 432x288 with 1 Axes>"
      ]
     },
     "metadata": {
      "needs_background": "light"
     },
     "output_type": "display_data"
    }
   ],
   "source": [
    "plt.plot(x, y, 'o')"
   ]
  },
  {
   "cell_type": "markdown",
   "id": "9d3a2206-0ed0-487b-a28e-8d45810d4dc3",
   "metadata": {},
   "source": [
    "而此时，两个点的切比雪夫距离就是$$\\max{(|x_1-x_2|,|y_1-y_2|)}=\\max{(|1-0|,|3-1|)}=2$$"
   ]
  },
  {
   "cell_type": "markdown",
   "id": "95e7a4d3-e21e-4ea7-9134-66ad79658790",
   "metadata": {},
   "source": [
    "也就是纵坐标之间的差值。"
   ]
  },
  {
   "cell_type": "markdown",
   "id": "34bde573-b611-409c-bc06-f49a5261c291",
   "metadata": {},
   "source": [
    "&emsp;&emsp;接下来，我们在这个数据集基础上，我们做一个有趣的实验：首先在切比雪夫距离计算下，最近邻为1时范围半径为2，也就是0、1两个样本互为最近邻。然后我们仍然在切比雪夫距离下，以2为半径进行最近邻筛选，当然如果只有0号1号两个样本，仍然是各自能入选对方最近邻。这里进一步进行设想，有没有可能存在这样的一个样本，不是0号样本以（切比雪夫距离等于）2为半径的最近邻，但却是零号样本x维度上以2为半径的最近邻。"
   ]
  },
  {
   "cell_type": "markdown",
   "id": "846ab01a-71e5-4994-97a0-cc5ccbbd10e3",
   "metadata": {},
   "source": [
    "&emsp;&emsp;这种样本当然是可能存在的，假设该样本为2号样本$(x_3,y_3)$，由于2号样本是0号样本在x维度上以2为半径的最近邻，因此要满足$x_3 \\in[x_1-2,x_1+2]$，即$x_3 \\in[-2,2]$，同时2号样本不是0号样本最近邻，因此切比雪夫距离要大于2，也就是y维度上的距离要大于2，即$y_3 \\in(-∞,y_1-2)\\mathop{\\cup}(y_1+2, +∞)$，即$y_3 \\in(-∞,-1)\\mathop{\\cup}(3, +∞)$。也就是说，这样的样本需要在x维度上尽可能接近0号样本、而在y维度上尽可能远离0号样本，而往往这种样本其实就是削弱x和y的关联性的存在，极端情况下例如点(0, 4)、(0, -2)等，此时对比0号样本(0, 1)不难发现，二者伴随x变化y并不会发生变化。"
   ]
  },
  {
   "cell_type": "markdown",
   "id": "ace96740-4373-4692-8811-45bd34d86ac0",
   "metadata": {},
   "source": [
    "&emsp;&emsp;当然，由于x和y的对称性，如果存在不是0号样本以（切比雪夫距离等于）2为半径的最近邻，但却是零号样本y维度上以2为半径的最近邻的样本，则也能说明x和y的关联性不强，并且这类样本越多、则说明x和y的关联性也就越弱。"
   ]
  },
  {
   "cell_type": "markdown",
   "id": "1fa582fe-4aaf-4759-9cb1-8b37f05aafb1",
   "metadata": {},
   "source": [
    "&emsp;&emsp;更进一步的，由于距离计算的对称性，因此如果是对于1号样本来说也是类似，在给定的最近邻范围内，无论是x还是y单维度上存在更多的最近邻，都会削弱x和y的关联性。"
   ]
  },
  {
   "cell_type": "markdown",
   "id": "fe7782ba-5b29-46fd-88a9-e6deaef0a17a",
   "metadata": {},
   "source": [
    "&emsp;&emsp;综上所述，借助最近邻进行连续变量关联性挖掘的计算流程如下："
   ]
  },
  {
   "cell_type": "markdown",
   "id": "acd3c156-0db1-48ca-99c1-91cfc2c6e1e5",
   "metadata": {},
   "source": [
    "&emsp;&emsp;Step 1.根据给定的最近邻个数𝑛_𝑛𝑒𝑖𝑔ℎ𝑏𝑜𝑟𝑠（往往也是3）计算每个样本的切比雪夫半径距离r；"
   ]
  },
  {
   "cell_type": "markdown",
   "id": "378e26b8-1a4e-4ce8-ac7a-d5c7327353f4",
   "metadata": {},
   "source": [
    "&emsp;&emsp;Step 2.根据半径r，进一步计算每个样本x和y单维度上的最近邻个数，$n_x、n_y$ ;"
   ]
  },
  {
   "cell_type": "markdown",
   "id": "1260c051-5707-435d-9b16-fb0b7764dd3d",
   "metadata": {},
   "source": [
    "&emsp;&emsp;Step 3.根据$n_x和n_y$，参照如下公式计算互信息MI：$$MI=(digamma(n\\_samples)+digamma(n\\_neighbors)-mean(digamma(n_x))-mean(digamma(n_y)))$$"
   ]
  },
  {
   "cell_type": "markdown",
   "id": "718c702b-e78e-48b7-8ad0-d2e1bca9e50c",
   "metadata": {},
   "source": [
    "其中𝑛_𝑠𝑎𝑚𝑝𝑙𝑒𝑠是样本总数、𝑑𝑖𝑔𝑎𝑚𝑚𝑎就是此前介绍的伽马函数的对数导函数。从𝑑𝑖𝑔𝑎𝑚𝑚𝑎函数的单调递增性不难发现，伴随$n_x、n_y$的增加，MI也将逐渐减少，而和此前离散变量的互信息计算过程一样，MI越大则两个变量的关联性越明显。不难看出，$n_x、n_y$对变量关联性的影响的量化结果也见于此。"
   ]
  },
  {
   "cell_type": "markdown",
   "id": "021baace-8d72-49ec-b986-91d317dfb0c7",
   "metadata": {},
   "source": [
    "&emsp;&emsp;当然，上述过程的讨论是一半理论推导一半感性理解，详细严谨的数学推导过程详见[《Estimating mutual information》(A. Kraskov, H. Stogbauer and P. Grassberger, Phys. Rev. E 69, 2004)](https://www.researchgate.net/publication/303264392_Grassberger_Estimating_mutual_information)。接下来我们通过参考sklearn中相关计算流程的源码，来查看如何通过代码来执行具体的计算。此处源码函数为_compute_mi_cc，我们复制源码函数为_compute_mi_cc_temp函数如下："
   ]
  },
  {
   "cell_type": "code",
   "execution_count": 511,
   "id": "5b2831ef-b816-48cd-bdbe-a17430204664",
   "metadata": {},
   "outputs": [],
   "source": [
    "def _compute_mi_cc_temp(x, y, n_neighbors):\n",
    "    n_samples = x.size\n",
    "\n",
    "    x = x.reshape((-1, 1))\n",
    "    y = y.reshape((-1, 1))\n",
    "    xy = np.hstack((x, y))\n",
    "\n",
    "    nn = NearestNeighbors(metric=\"chebyshev\", n_neighbors=n_neighbors)\n",
    "\n",
    "    nn.fit(xy)\n",
    "    radius = nn.kneighbors()[0]\n",
    "    radius = np.nextafter(radius[:, -1], 0)\n",
    "\n",
    "    kd = KDTree(x, metric=\"chebyshev\")\n",
    "    nx = kd.query_radius(x, radius, count_only=True, return_distance=False)\n",
    "    nx = np.array(nx) - 1.0\n",
    "\n",
    "    kd = KDTree(y, metric=\"chebyshev\")\n",
    "    ny = kd.query_radius(y, radius, count_only=True, return_distance=False)\n",
    "    ny = np.array(ny) - 1.0\n",
    "\n",
    "    mi = (\n",
    "        digamma(n_samples)\n",
    "        + digamma(n_neighbors)\n",
    "        - np.mean(digamma(nx + 1))\n",
    "        - np.mean(digamma(ny + 1))\n",
    "    )\n",
    "\n",
    "    return max(0, mi)"
   ]
  },
  {
   "cell_type": "markdown",
   "id": "62c6c6c4-62a6-4e00-816e-0c3a6bdf39cb",
   "metadata": {},
   "source": [
    "在熟悉最近邻的计算过程后，上述代码整体难度并不大，这里重点解释几个关键步骤，首先是双变量的合并所采用的hstack函数："
   ]
  },
  {
   "cell_type": "code",
   "execution_count": 512,
   "id": "cebf2b7c-599c-404d-9e3a-6230275a42e4",
   "metadata": {},
   "outputs": [
    {
     "data": {
      "text/plain": [
       "array([[1, 2],\n",
       "       [2, 3],\n",
       "       [3, 4]])"
      ]
     },
     "execution_count": 512,
     "metadata": {},
     "output_type": "execute_result"
    }
   ],
   "source": [
    "x = np.array([1, 2, 3])\n",
    "y = np.array([2, 3, 4])\n",
    "xy = np.hstack((x.reshape(-1, 1), y.reshape(-1, 1)))\n",
    "xy"
   ]
  },
  {
   "cell_type": "markdown",
   "id": "10d4a71b-ed6a-4967-9264-aa5e53613d7f",
   "metadata": {},
   "source": [
    "然后是我们可以通过在NearestNeighbors评估器中输入metric=\"chebyshev\"来根据切比雪夫距离进行最近邻的计算，更多可以调用的距离计算类函数可以参见sklearn.metrics.DistanceMetric相关说明文档："
   ]
  },
  {
   "cell_type": "code",
   "execution_count": 513,
   "id": "96f162d7-359e-4a0d-a481-9bc9d33c46dd",
   "metadata": {},
   "outputs": [
    {
     "data": {
      "text/plain": [
       "NearestNeighbors(metric='chebyshev', n_neighbors=3)"
      ]
     },
     "execution_count": 513,
     "metadata": {},
     "output_type": "execute_result"
    }
   ],
   "source": [
    "NearestNeighbors(metric=\"chebyshev\", n_neighbors=3)"
   ]
  },
  {
   "cell_type": "markdown",
   "id": "60a89b27-73d7-440a-bb8a-7800d477cc67",
   "metadata": {},
   "source": [
    "其三，在使用KDTree进行最近邻元素搜索时，也可以选择切比雪夫距离，只不过此时x是单一维度的变量，切比雪夫距离计算结果就等于欧式距离。"
   ]
  },
  {
   "cell_type": "code",
   "execution_count": 514,
   "id": "e96d5f0b-d0e3-42e0-bbfc-a3ca555b3d04",
   "metadata": {},
   "outputs": [
    {
     "data": {
      "text/plain": [
       "<sklearn.neighbors._kd_tree.KDTree at 0x1d434f92560>"
      ]
     },
     "execution_count": 514,
     "metadata": {},
     "output_type": "execute_result"
    }
   ],
   "source": [
    "KDTree(x.reshape(-1, 1), metric=\"chebyshev\")"
   ]
  },
  {
   "cell_type": "markdown",
   "id": "894696cc-2568-43c4-ad10-78bfd3179345",
   "metadata": {},
   "source": [
    "其他计算过程和_compute_mi_cd_temp基本类似。"
   ]
  },
  {
   "cell_type": "markdown",
   "id": "786589b4-59e7-43e6-ac78-c8df1ffa22b5",
   "metadata": {},
   "source": [
    "> 此外，我们可以通过函数命名来区分函数作用，在本部分代码中，c代表连续变量，d代表离散变量，因此cc代表连续变量之间的MI计算，而cd则代表连续变量和离散变量之间的MI计算。"
   ]
  },
  {
   "cell_type": "markdown",
   "id": "519a8f2a-9f09-412d-9e59-bca2350c20a3",
   "metadata": {},
   "source": [
    "##### 6.3.4 连续变量的互信息计算特性"
   ]
  },
  {
   "cell_type": "markdown",
   "id": "48fb342b-38dc-472a-9eb0-28b52704cac6",
   "metadata": {},
   "source": [
    "- 能够挖掘任意关联关系"
   ]
  },
  {
   "cell_type": "markdown",
   "id": "57f9ade2-7e3a-4115-83d5-d9e8ee10cccc",
   "metadata": {},
   "source": [
    "&emsp;&emsp;接下来，我们继续来看连续变量之间的MI指标的计算特性。首先也是最重要的一点就是，互信息法能够挖掘包括线性关系在内的任意关联关系。我们可以通过如下一组实验来进行验证，首先创建一组完全随机分布的x和y，并计算最终MI值："
   ]
  },
  {
   "cell_type": "code",
   "execution_count": 558,
   "id": "198acb6f-e3e2-4492-9bf9-651d8db080be",
   "metadata": {},
   "outputs": [],
   "source": [
    "n_neighbors = 3"
   ]
  },
  {
   "cell_type": "code",
   "execution_count": 559,
   "id": "dec7bd20-cc8c-444f-8de4-359b2b6b977d",
   "metadata": {},
   "outputs": [
    {
     "data": {
      "text/plain": [
       "Text(0.5, 1.0, 'MI_0=0.10190')"
      ]
     },
     "execution_count": 559,
     "metadata": {},
     "output_type": "execute_result"
    },
    {
     "data": {
      "image/png": "[encoded data removed]",
      "text/plain": [
       "<Figure size 432x288 with 1 Axes>"
      ]
     },
     "metadata": {
      "needs_background": "light"
     },
     "output_type": "display_data"
    }
   ],
   "source": [
    "np.random.seed(24)\n",
    "x0 = np.random.rand(100)\n",
    "y0 = np.random.rand(100)\n",
    "\n",
    "plt.plot(x0, y0, 'o')\n",
    "plt.title('MI_0={:.5f}'.format(_compute_mi_cc_temp(x0, y0, n_neighbors)))"
   ]
  },
  {
   "cell_type": "markdown",
   "id": "c912a524-aec0-43e7-ba6a-228b2d744cfa",
   "metadata": {},
   "source": [
    "然后在相同样本量情况下创建一组基本满足线性关系、只包含少量扰动项的x1和y1："
   ]
  },
  {
   "cell_type": "code",
   "execution_count": 517,
   "id": "e692f03d-e9a1-40c4-9623-3bf00250a611",
   "metadata": {},
   "outputs": [
    {
     "data": {
      "text/plain": [
       "Text(0.5, 1.0, 'MI_1=0.83846')"
      ]
     },
     "execution_count": 517,
     "metadata": {},
     "output_type": "execute_result"
    },
    {
     "data": {
      "image/png": "[encoded data removed]",
      "text/plain": [
       "<Figure size 432x288 with 1 Axes>"
      ]
     },
     "metadata": {
      "needs_background": "light"
     },
     "output_type": "display_data"
    }
   ],
   "source": [
    "np.random.seed(24)\n",
    "x1 = np.random.rand(100) * 10\n",
    "y1 = x1 + 2 + 5 * np.random.rand(100)\n",
    "\n",
    "plt.plot(x1, y1, 'o')\n",
    "plt.title('MI_1={:.5f}'.format(_compute_mi_cc_temp(x1, y1, n_neighbors)))"
   ]
  },
  {
   "cell_type": "markdown",
   "id": "992e7a07-f94c-4e19-ba32-cf5fc8885c0c",
   "metadata": {},
   "source": [
    "能够发现MI_1明显大于MI_2，表明互信息能够顺利判别线性关系。然后再创建一组非线性关系的x2和y2并计算MI："
   ]
  },
  {
   "cell_type": "code",
   "execution_count": 518,
   "id": "9560c2ef-3502-4f7e-84c1-56669d34fdd4",
   "metadata": {},
   "outputs": [
    {
     "data": {
      "text/plain": [
       "Text(0.5, 1.0, 'MI_2=0.43613')"
      ]
     },
     "execution_count": 518,
     "metadata": {},
     "output_type": "execute_result"
    },
    {
     "data": {
      "image/png": "[encoded data removed]",
      "text/plain": [
       "<Figure size 432x288 with 1 Axes>"
      ]
     },
     "metadata": {
      "needs_background": "light"
     },
     "output_type": "display_data"
    }
   ],
   "source": [
    "np.random.seed(24)\n",
    "x2 = np.random.rand(100) * 10\n",
    "y2 = np.power(x2, 3) + np.random.rand(100)\n",
    "\n",
    "plt.plot(x2, y2, 'o')\n",
    "plt.title('MI_2={:.5f}'.format(_compute_mi_cc_temp(x2, y2, n_neighbors)))"
   ]
  },
  {
   "cell_type": "markdown",
   "id": "f0baab28-04f9-46a2-b77d-8665aa04b04d",
   "metadata": {},
   "source": [
    "能够发现，尽管MI_2值要小于MI_1，但互信息法仍然能够很好的识别非线性关系。接下来创建一组更复杂的非线性关系的x3和y3："
   ]
  },
  {
   "cell_type": "code",
   "execution_count": 519,
   "id": "6a6475e8-93e9-4fce-93ab-c32745ff8467",
   "metadata": {},
   "outputs": [
    {
     "data": {
      "text/plain": [
       "Text(0.5, 1.0, 'MI=0.43438')"
      ]
     },
     "execution_count": 519,
     "metadata": {},
     "output_type": "execute_result"
    },
    {
     "data": {
      "image/png": "[encoded data removed]",
      "text/plain": [
       "<Figure size 432x288 with 1 Axes>"
      ]
     },
     "metadata": {
      "needs_background": "light"
     },
     "output_type": "display_data"
    }
   ],
   "source": [
    "np.random.seed(24)\n",
    "\n",
    "x3 = np.random.rand(100)\n",
    "y3 = np.sin(6 * np.pi * x3) + 0.01 * np.random.randn(100)\n",
    "\n",
    "plt.plot(x3, y3, 'o')\n",
    "plt.title('MI={:.5f}'.format(_compute_mi_cc_temp(x3, y3, n_neighbors)))"
   ]
  },
  {
   "cell_type": "markdown",
   "id": "d35f19d9-677d-4edb-9715-1817e5750dfe",
   "metadata": {},
   "source": [
    "能够发现互信息法仍然能够做出较为准确的识别。综上不难发现，互信息法确实能够判别各种类型的关联关系，就这点而言，相比相关性的F检验，互信息法拥有较大优势。"
   ]
  },
  {
   "cell_type": "markdown",
   "id": "a0e06708-ed84-4f4b-b285-627c6f1de54e",
   "metadata": {},
   "source": [
    "- 非参数方法的样本数量影响特性"
   ]
  },
  {
   "cell_type": "markdown",
   "id": "ad7da834-3fa2-4681-a1f8-fc6180244635",
   "metadata": {},
   "source": [
    "&emsp;&emsp;当然，所有的非参数方法都将极大程度受到样本数量影响，而能够挖掘任意关联关系的连续变量间的互信息计算过程也是如此，并且也是因为能够挖掘任意关联关系，连续变量之间的MI计算结果尤其受到样本数量影响严重。例如我们从上述x3和y3中进行无放回抽样，抽取10个元素："
   ]
  },
  {
   "cell_type": "code",
   "execution_count": 520,
   "id": "9bdc1f6a-3d36-4f77-9161-ed72b4668d01",
   "metadata": {},
   "outputs": [],
   "source": [
    "import random"
   ]
  },
  {
   "cell_type": "code",
   "execution_count": 521,
   "id": "4eb91d09-fba0-4c2d-a2d5-0546314d320b",
   "metadata": {
    "tags": []
   },
   "outputs": [
    {
     "data": {
      "text/plain": [
       "\u001b[1;31mSignature:\u001b[0m \u001b[0mrandom\u001b[0m\u001b[1;33m.\u001b[0m\u001b[0mchoices\u001b[0m\u001b[1;33m(\u001b[0m\u001b[0mpopulation\u001b[0m\u001b[1;33m,\u001b[0m \u001b[0mweights\u001b[0m\u001b[1;33m=\u001b[0m\u001b[1;32mNone\u001b[0m\u001b[1;33m,\u001b[0m \u001b[1;33m*\u001b[0m\u001b[1;33m,\u001b[0m \u001b[0mcum_weights\u001b[0m\u001b[1;33m=\u001b[0m\u001b[1;32mNone\u001b[0m\u001b[1;33m,\u001b[0m \u001b[0mk\u001b[0m\u001b[1;33m=\u001b[0m\u001b[1;36m1\u001b[0m\u001b[1;33m)\u001b[0m\u001b[1;33m\u001b[0m\u001b[1;33m\u001b[0m\u001b[0m\n",
       "\u001b[1;31mDocstring:\u001b[0m\n",
       "Return a k sized list of population elements chosen with replacement.\n",
       "\n",
       "If the relative weights or cumulative weights are not specified,\n",
       "the selections are made with equal probability.\n",
       "\u001b[1;31mFile:\u001b[0m      d:\\anaconda3\\lib\\random.py\n",
       "\u001b[1;31mType:\u001b[0m      method\n"
      ]
     },
     "metadata": {},
     "output_type": "display_data"
    }
   ],
   "source": [
    "random.choices?"
   ]
  },
  {
   "cell_type": "code",
   "execution_count": 522,
   "id": "8e015a74-c824-4f31-90cf-50241d492740",
   "metadata": {
    "tags": []
   },
   "outputs": [
    {
     "data": {
      "text/plain": [
       "array([[ 0.67180656,  0.09093717],\n",
       "       [ 0.59689144, -0.97304678],\n",
       "       [ 0.03143881,  0.55263815],\n",
       "       [ 0.40925902,  0.99159534],\n",
       "       [ 0.30601259, -0.48945662],\n",
       "       [ 0.97012789, -0.51972642],\n",
       "       [ 0.36281177,  0.53398133],\n",
       "       [ 0.00202327,  0.03962933],\n",
       "       [ 0.91666435, -1.00899835],\n",
       "       [ 0.68023886,  0.26177167]])"
      ]
     },
     "execution_count": 522,
     "metadata": {},
     "output_type": "execute_result"
    }
   ],
   "source": [
    "random.seed(21)\n",
    "\n",
    "xy = np.hstack([x3.reshape(-1, 1), y3.reshape(-1, 1)])\n",
    "\n",
    "xy_choices = random.choices(xy,k=10)\n",
    "xy_choices = np.array(xy_choices)\n",
    "xy_choices"
   ]
  },
  {
   "cell_type": "code",
   "execution_count": 523,
   "id": "d2f3efef-2b6d-44ef-9ef9-b8fcb86c0d18",
   "metadata": {},
   "outputs": [
    {
     "data": {
      "text/plain": [
       "Text(0.5, 1.0, 'MI=0.00000')"
      ]
     },
     "execution_count": 523,
     "metadata": {},
     "output_type": "execute_result"
    },
    {
     "data": {
      "image/png": "[encoded data removed]",
      "text/plain": [
       "<Figure size 432x288 with 1 Axes>"
      ]
     },
     "metadata": {
      "needs_background": "light"
     },
     "output_type": "display_data"
    }
   ],
   "source": [
    "plt.plot(xy_choices[:, 0], xy_choices[:, 1], 'o')\n",
    "plt.title('MI={:.5f}'.format(_compute_mi_cc_temp(xy_choices[:, 0], xy_choices[:, 1], n_neighbors)))"
   ]
  },
  {
   "cell_type": "markdown",
   "id": "ecb3621f-0818-416c-971e-995f8dcccf73",
   "metadata": {},
   "source": [
    "从抽样结果中我们很难判断x和y是否存在关联性，而最终的MI计算结果也验证了这点。但我们如果从最开始的满足线性关系的x1、y1中进行抽样，结论会略有不同："
   ]
  },
  {
   "cell_type": "code",
   "execution_count": 524,
   "id": "2c7c0552-8fdd-4f21-93ae-d0cdb2974c3a",
   "metadata": {},
   "outputs": [
    {
     "data": {
      "text/plain": [
       "Text(0.5, 1.0, 'MI=0.44397')"
      ]
     },
     "execution_count": 524,
     "metadata": {},
     "output_type": "execute_result"
    },
    {
     "data": {
      "image/png": "[encoded data removed]",
      "text/plain": [
       "<Figure size 432x288 with 1 Axes>"
      ]
     },
     "metadata": {
      "needs_background": "light"
     },
     "output_type": "display_data"
    }
   ],
   "source": [
    "random.seed(21)\n",
    "\n",
    "xy = np.hstack([x1.reshape(-1, 1), y1.reshape(-1, 1)])\n",
    "\n",
    "xy_choices = random.choices(xy,k=10)\n",
    "xy_choices = np.array(xy_choices)\n",
    "\n",
    "plt.plot(xy_choices[:, 0], xy_choices[:, 1], 'o')\n",
    "plt.title('MI={:.5f}'.format(_compute_mi_cc_temp(xy_choices[:, 0], xy_choices[:, 1], n_neighbors)))"
   ]
  },
  {
   "cell_type": "markdown",
   "id": "e23d6191-be52-4813-ba0c-dbe4b319226c",
   "metadata": {},
   "source": [
    "此时我们发现，尽管只有10个样本，但x和y已经表现出了一定的线性相关性，而最终的MI计算结果也验证了这点。通过对比这次采样结果和上次采样结果我们不难判断，其实线性相关性是一种非常特殊的相关关系，只需要少量样本就能够刻画；而如果是更加复杂的非线性关系，则在样本数量较少时难以体现，此时MI的计算结果也会非常小。这也就是互信息法在作用与连续变量时非参数方法受到样本量影响的具体体现。"
   ]
  },
  {
   "cell_type": "markdown",
   "id": "105bac66-22e5-46be-8b2e-140defb21db0",
   "metadata": {},
   "source": [
    "&emsp;&emsp;综上所述，如果是需要挖掘线性关系，则样本量大小影响不大，而如果要挖掘非线性关系，需要更大量的样本才能获得更加准确的结果。"
   ]
  },
  {
   "cell_type": "markdown",
   "id": "761c905e-f788-4ee8-9402-f52a675a5b63",
   "metadata": {},
   "source": [
    "#### 6.4 借助互信息法进行特征筛选"
   ]
  },
  {
   "cell_type": "markdown",
   "id": "bb343459-d368-4047-a631-72bdb5e02521",
   "metadata": {},
   "source": [
    "##### 6.4.1 互信息评分函数的参数解释"
   ]
  },
  {
   "cell_type": "markdown",
   "id": "b7e3f795-b8db-414a-8471-fd2d133afedd",
   "metadata": {},
   "source": [
    "&emsp;&emsp;在了解了互信息的基本原理和计算流程之后，接下来我们来讨论如何借助互信息法来进行特征筛选。需要注意的是，此前介绍的诸多函数（mutual_info_score、_compute_mi_cc和_compute_mi_cd）其实都是底层计算函数，也就是最原始的MI值计算函数，在sklearn中互信息法的实际评分函数为mutual_info_regression和mutual_info_classif，这两个函数是封装在之前那些函数基础之上、更高层同时也是直接面向用户可以调用的函数："
   ]
  },
  {
   "cell_type": "code",
   "execution_count": 525,
   "id": "da0082ff-4b97-47ee-933a-e3e348bef2bd",
   "metadata": {},
   "outputs": [],
   "source": [
    "from sklearn.feature_selection import mutual_info_regression,mutual_info_classif"
   ]
  },
  {
   "cell_type": "markdown",
   "id": "74e48b0f-bbd4-4b6e-b7e1-b37c58a17aa5",
   "metadata": {},
   "source": [
    "很明显，mutual_info_regression用于回归问题的特征筛选，而mutual_info_classif则用于分类问题的特征筛选。但由于互信息的计算过程较为复杂，因此这些函数的实际使用过程也会更加复杂，两个函数的参数相同，我们以mutual_info_regression为例进行参数解释："
   ]
  },
  {
   "cell_type": "code",
   "execution_count": 526,
   "id": "5eff64f8-4090-4bb1-8e28-85f2f8e1f80d",
   "metadata": {
    "collapsed": true,
    "jupyter": {
     "outputs_hidden": true
    },
    "tags": []
   },
   "outputs": [
    {
     "data": {
      "text/plain": [
       "\u001b[1;31mSignature:\u001b[0m\n",
       "\u001b[0mmutual_info_regression\u001b[0m\u001b[1;33m(\u001b[0m\u001b[1;33m\n",
       "\u001b[0m    \u001b[0mX\u001b[0m\u001b[1;33m,\u001b[0m\u001b[1;33m\n",
       "\u001b[0m    \u001b[0my\u001b[0m\u001b[1;33m,\u001b[0m\u001b[1;33m\n",
       "\u001b[0m    \u001b[1;33m*\u001b[0m\u001b[1;33m,\u001b[0m\u001b[1;33m\n",
       "\u001b[0m    \u001b[0mdiscrete_features\u001b[0m\u001b[1;33m=\u001b[0m\u001b[1;34m'auto'\u001b[0m\u001b[1;33m,\u001b[0m\u001b[1;33m\n",
       "\u001b[0m    \u001b[0mn_neighbors\u001b[0m\u001b[1;33m=\u001b[0m\u001b[1;36m3\u001b[0m\u001b[1;33m,\u001b[0m\u001b[1;33m\n",
       "\u001b[0m    \u001b[0mcopy\u001b[0m\u001b[1;33m=\u001b[0m\u001b[1;32mTrue\u001b[0m\u001b[1;33m,\u001b[0m\u001b[1;33m\n",
       "\u001b[0m    \u001b[0mrandom_state\u001b[0m\u001b[1;33m=\u001b[0m\u001b[1;32mNone\u001b[0m\u001b[1;33m,\u001b[0m\u001b[1;33m\n",
       "\u001b[0m\u001b[1;33m)\u001b[0m\u001b[1;33m\u001b[0m\u001b[1;33m\u001b[0m\u001b[0m\n",
       "\u001b[1;31mDocstring:\u001b[0m\n",
       "Estimate mutual information for a continuous target variable.\n",
       "\n",
       "Mutual information (MI) [1]_ between two random variables is a non-negative\n",
       "value, which measures the dependency between the variables. It is equal\n",
       "to zero if and only if two random variables are independent, and higher\n",
       "values mean higher dependency.\n",
       "\n",
       "The function relies on nonparametric methods based on entropy estimation\n",
       "from k-nearest neighbors distances as described in [2]_ and [3]_. Both\n",
       "methods are based on the idea originally proposed in [4]_.\n",
       "\n",
       "It can be used for univariate features selection, read more in the\n",
       ":ref:`User Guide <univariate_feature_selection>`.\n",
       "\n",
       "Parameters\n",
       "----------\n",
       "X : array-like or sparse matrix, shape (n_samples, n_features)\n",
       "    Feature matrix.\n",
       "\n",
       "y : array-like of shape (n_samples,)\n",
       "    Target vector.\n",
       "\n",
       "discrete_features : {'auto', bool, array-like}, default='auto'\n",
       "    If bool, then determines whether to consider all features discrete\n",
       "    or continuous. If array, then it should be either a boolean mask\n",
       "    with shape (n_features,) or array with indices of discrete features.\n",
       "    If 'auto', it is assigned to False for dense `X` and to True for\n",
       "    sparse `X`.\n",
       "\n",
       "n_neighbors : int, default=3\n",
       "    Number of neighbors to use for MI estimation for continuous variables,\n",
       "    see [2]_ and [3]_. Higher values reduce variance of the estimation, but\n",
       "    could introduce a bias.\n",
       "\n",
       "copy : bool, default=True\n",
       "    Whether to make a copy of the given data. If set to False, the initial\n",
       "    data will be overwritten.\n",
       "\n",
       "random_state : int, RandomState instance or None, default=None\n",
       "    Determines random number generation for adding small noise to\n",
       "    continuous variables in order to remove repeated values.\n",
       "    Pass an int for reproducible results across multiple function calls.\n",
       "    See :term:`Glossary <random_state>`.\n",
       "\n",
       "Returns\n",
       "-------\n",
       "mi : ndarray, shape (n_features,)\n",
       "    Estimated mutual information between each feature and the target.\n",
       "\n",
       "Notes\n",
       "-----\n",
       "1. The term \"discrete features\" is used instead of naming them\n",
       "   \"categorical\", because it describes the essence more accurately.\n",
       "   For example, pixel intensities of an image are discrete features\n",
       "   (but hardly categorical) and you will get better results if mark them\n",
       "   as such. Also note, that treating a continuous variable as discrete and\n",
       "   vice versa will usually give incorrect results, so be attentive about\n",
       "   that.\n",
       "2. True mutual information can't be negative. If its estimate turns out\n",
       "   to be negative, it is replaced by zero.\n",
       "\n",
       "References\n",
       "----------\n",
       ".. [1] `Mutual Information\n",
       "       <https://en.wikipedia.org/wiki/Mutual_information>`_\n",
       "       on Wikipedia.\n",
       ".. [2] A. Kraskov, H. Stogbauer and P. Grassberger, \"Estimating mutual\n",
       "       information\". Phys. Rev. E 69, 2004.\n",
       ".. [3] B. C. Ross \"Mutual Information between Discrete and Continuous\n",
       "       Data Sets\". PLoS ONE 9(2), 2014.\n",
       ".. [4] L. F. Kozachenko, N. N. Leonenko, \"Sample Estimate of the Entropy\n",
       "       of a Random Vector\", Probl. Peredachi Inf., 23:2 (1987), 9-16\n",
       "\u001b[1;31mFile:\u001b[0m      d:\\anaconda3\\lib\\site-packages\\sklearn\\feature_selection\\_mutual_info.py\n",
       "\u001b[1;31mType:\u001b[0m      function\n"
      ]
     },
     "metadata": {},
     "output_type": "display_data"
    }
   ],
   "source": [
    "mutual_info_regression?"
   ]
  },
  {
   "cell_type": "markdown",
   "id": "1b7d81bd-34d2-4684-b2c7-38235652f190",
   "metadata": {},
   "source": [
    "除了必须要输入的x和y之外，还需要人工输入discrete_features、也就是离散变量的列，此处可以输入离散变量列的布尔索引或者列索引，该参数的默认值是auto，在aotu情况下会将所有保存为稀疏矩阵的特征视作离散变量、将其他特征视作连续变量。很明显，基于此前对MI计算过程的了解，离散特征和连续特征的互信息计算过程并不相同，因此该参数需要准确输入才能得到想要的结果。"
   ]
  },
  {
   "cell_type": "markdown",
   "id": "15116b1d-ff18-49e7-8479-0d98e412f27c",
   "metadata": {},
   "source": [
    "> 这里有一个可能会引起误解的地方，尽管auto会根据变量类型自动判别是离散变量还是连续变量，但这是针对输入的特征矩阵X整体进行的判别，即X要么是稀疏矩阵而所有的特征都被识别为离散变量、要么X是密集矩阵而所有的特征都被识别为连续变量，而无法在X中部分列设置成稀疏矩阵部分列设置成密集矩阵，函数也无法针对不同列采用不同的方法。"
   ]
  },
  {
   "cell_type": "markdown",
   "id": "1f34b052-2109-4ac6-a995-5aa38c06a91f",
   "metadata": {},
   "source": [
    "&emsp;&emsp;这里可以简单梳理mutual_info_regression和mutual_info_classif函数分别是调用哪些基础计算函数来进行的计算："
   ]
  },
  {
   "cell_type": "markdown",
   "id": "00b7f367-cc05-4fc0-b33f-1b11624e4fde",
   "metadata": {},
   "source": [
    "- mutual_info_classif+离散变量：mutual_info_score\n",
    "- mutual_info_classif+连续变量：_compute_mi_cd\n",
    "- mutual_info_regression+离散变量：_compute_mi_cd\n",
    "- mutual_info_regression+连续变量：_compute_mi_cc"
   ]
  },
  {
   "cell_type": "markdown",
   "id": "97133628-b23f-4e57-a10c-8a194b80d142",
   "metadata": {},
   "source": [
    "具体可参照源码的如下代码部分："
   ]
  },
  {
   "cell_type": "markdown",
   "id": "48ec0097-d640-47ec-b448-bf6d45bf8ee7",
   "metadata": {
    "jp-MarkdownHeadingCollapsed": true,
    "tags": []
   },
   "source": [
    "<center><img src=\"https://tva1.sinaimg.cn/large/e6c9d24ely1h14zf6o8k4j20tp0hjwh5.jpg\" alt=\"image-20220408181230733\" style=\"zoom:50%;\" />"
   ]
  },
  {
   "cell_type": "markdown",
   "id": "c7a7a3b2-21b2-4616-888a-986658e677ce",
   "metadata": {},
   "source": [
    "也正是因为要调用不同函数进行MI值的计算，所以需要在参数位说明哪些是离散变量，剩下的就是连续变量。这也是sklearn中为数不多的需要区分离散变量和连续变量的情况。"
   ]
  },
  {
   "cell_type": "markdown",
   "id": "185ed6b8-aeec-46eb-98ed-26f5be4d0c44",
   "metadata": {},
   "source": [
    "&emsp;&emsp;此外，关于最近邻个数n_neighbors，建议保留默认值3，正如此前所说，随着n_neighbors值增加，将会减少方差但会增加偏差，而n_neighbors值的减少则会提升方差但会降低偏差。同时需要注意的是，mutual_info_regression和mutual_info_classif函数中会随机小幅修改离散变量的值，以确保不存在重复的连续变量值并且和离散变量的MI值保持在同一水平，因此如果是进行带有连续变量的MI计算，结果会有一定的随机性，若要使得结果可重复，则需要设置随机数种子random_state。"
   ]
  },
  {
   "cell_type": "markdown",
   "id": "3ba0d03c-0d6d-4ec8-9d62-ab3d93ebbf51",
   "metadata": {},
   "source": [
    "##### 6.4.2 借助互信息法进行特征筛选"
   ]
  },
  {
   "cell_type": "markdown",
   "id": "509e80de-6ff5-4f18-aa74-12a69f114d2c",
   "metadata": {},
   "source": [
    "&emsp;&emsp;接下来我们尝试借助互信息这一指标来进行特征筛选，由于当前数据集是分类标签，因此采用mutual_info_classif评分函数，同时需要注意的是，特征筛选评估器内的评分函数是无法修改默认参数的，因此如果我们要同时计算离散变量和连续变量的MI值，则需要直接采用mutual_info_classif评分函数而非特征筛选评估器进行特征筛选。"
   ]
  },
  {
   "cell_type": "markdown",
   "id": "0278c06d-4b9c-4fbc-9272-9b4569eea815",
   "metadata": {},
   "source": [
    "- 计算各特征评分"
   ]
  },
  {
   "cell_type": "markdown",
   "id": "6aae9aca-4efb-4295-8ea3-365f21a4f096",
   "metadata": {},
   "source": [
    "&emsp;&emsp;首先我们带入全部特征，完整执行一次针对各特征的互信息评分。对于原始telco数据集来说，离散变量排布在连续变量之前，因此我们可以按照如下方式创造离散变量的布尔索引："
   ]
  },
  {
   "cell_type": "code",
   "execution_count": 527,
   "id": "30282f38-ba4d-4cb6-8c03-9f671902526b",
   "metadata": {
    "tags": []
   },
   "outputs": [
    {
     "data": {
      "text/plain": [
       "['gender',\n",
       " 'SeniorCitizen',\n",
       " 'Partner',\n",
       " 'Dependents',\n",
       " 'PhoneService',\n",
       " 'MultipleLines',\n",
       " 'InternetService',\n",
       " 'OnlineSecurity',\n",
       " 'OnlineBackup',\n",
       " 'DeviceProtection',\n",
       " 'TechSupport',\n",
       " 'StreamingTV',\n",
       " 'StreamingMovies',\n",
       " 'Contract',\n",
       " 'PaperlessBilling',\n",
       " 'PaymentMethod']"
      ]
     },
     "execution_count": 527,
     "metadata": {},
     "output_type": "execute_result"
    }
   ],
   "source": [
    "category_cols"
   ]
  },
  {
   "cell_type": "code",
   "execution_count": 528,
   "id": "25a60a66-8f5c-4ccc-88af-49423d76c077",
   "metadata": {},
   "outputs": [
    {
     "data": {
      "text/plain": [
       "['tenure', 'MonthlyCharges', 'TotalCharges']"
      ]
     },
     "execution_count": 528,
     "metadata": {},
     "output_type": "execute_result"
    }
   ],
   "source": [
    "numeric_cols"
   ]
  },
  {
   "cell_type": "code",
   "execution_count": 529,
   "id": "707a7ed6-0e2a-444b-ab6a-38f46a0e5b55",
   "metadata": {},
   "outputs": [
    {
     "data": {
      "text/html": [
       "<div>\n",
       "<style scoped>\n",
       "    .dataframe tbody tr th:only-of-type {\n",
       "        vertical-align: middle;\n",
       "    }\n",
       "\n",
       "    .dataframe tbody tr th {\n",
       "        vertical-align: top;\n",
       "    }\n",
       "\n",
       "    .dataframe thead th {\n",
       "        text-align: right;\n",
       "    }\n",
       "</style>\n",
       "<table border=\"1\" class=\"dataframe\">\n",
       "  <thead>\n",
       "    <tr style=\"text-align: right;\">\n",
       "      <th></th>\n",
       "      <th>gender</th>\n",
       "      <th>SeniorCitizen</th>\n",
       "      <th>Partner</th>\n",
       "      <th>Dependents</th>\n",
       "      <th>PhoneService</th>\n",
       "      <th>MultipleLines</th>\n",
       "      <th>InternetService</th>\n",
       "      <th>OnlineSecurity</th>\n",
       "      <th>OnlineBackup</th>\n",
       "      <th>DeviceProtection</th>\n",
       "      <th>TechSupport</th>\n",
       "      <th>StreamingTV</th>\n",
       "      <th>StreamingMovies</th>\n",
       "      <th>Contract</th>\n",
       "      <th>PaperlessBilling</th>\n",
       "      <th>PaymentMethod</th>\n",
       "      <th>tenure</th>\n",
       "      <th>MonthlyCharges</th>\n",
       "      <th>TotalCharges</th>\n",
       "    </tr>\n",
       "  </thead>\n",
       "  <tbody>\n",
       "    <tr>\n",
       "      <th>4067</th>\n",
       "      <td>0.0</td>\n",
       "      <td>0.0</td>\n",
       "      <td>1.0</td>\n",
       "      <td>0.0</td>\n",
       "      <td>1.0</td>\n",
       "      <td>0.0</td>\n",
       "      <td>0.0</td>\n",
       "      <td>2.0</td>\n",
       "      <td>2.0</td>\n",
       "      <td>0.0</td>\n",
       "      <td>2.0</td>\n",
       "      <td>2.0</td>\n",
       "      <td>2.0</td>\n",
       "      <td>2.0</td>\n",
       "      <td>1.0</td>\n",
       "      <td>0.0</td>\n",
       "      <td>68</td>\n",
       "      <td>79.60</td>\n",
       "      <td>5515.80</td>\n",
       "    </tr>\n",
       "    <tr>\n",
       "      <th>3306</th>\n",
       "      <td>0.0</td>\n",
       "      <td>0.0</td>\n",
       "      <td>1.0</td>\n",
       "      <td>1.0</td>\n",
       "      <td>1.0</td>\n",
       "      <td>0.0</td>\n",
       "      <td>1.0</td>\n",
       "      <td>0.0</td>\n",
       "      <td>2.0</td>\n",
       "      <td>0.0</td>\n",
       "      <td>2.0</td>\n",
       "      <td>0.0</td>\n",
       "      <td>0.0</td>\n",
       "      <td>0.0</td>\n",
       "      <td>1.0</td>\n",
       "      <td>2.0</td>\n",
       "      <td>3</td>\n",
       "      <td>80.00</td>\n",
       "      <td>241.30</td>\n",
       "    </tr>\n",
       "    <tr>\n",
       "      <th>3391</th>\n",
       "      <td>1.0</td>\n",
       "      <td>0.0</td>\n",
       "      <td>0.0</td>\n",
       "      <td>0.0</td>\n",
       "      <td>1.0</td>\n",
       "      <td>0.0</td>\n",
       "      <td>2.0</td>\n",
       "      <td>1.0</td>\n",
       "      <td>1.0</td>\n",
       "      <td>1.0</td>\n",
       "      <td>1.0</td>\n",
       "      <td>1.0</td>\n",
       "      <td>1.0</td>\n",
       "      <td>0.0</td>\n",
       "      <td>0.0</td>\n",
       "      <td>3.0</td>\n",
       "      <td>4</td>\n",
       "      <td>19.00</td>\n",
       "      <td>73.45</td>\n",
       "    </tr>\n",
       "    <tr>\n",
       "      <th>3249</th>\n",
       "      <td>0.0</td>\n",
       "      <td>0.0</td>\n",
       "      <td>1.0</td>\n",
       "      <td>1.0</td>\n",
       "      <td>1.0</td>\n",
       "      <td>0.0</td>\n",
       "      <td>0.0</td>\n",
       "      <td>0.0</td>\n",
       "      <td>2.0</td>\n",
       "      <td>2.0</td>\n",
       "      <td>0.0</td>\n",
       "      <td>0.0</td>\n",
       "      <td>0.0</td>\n",
       "      <td>0.0</td>\n",
       "      <td>1.0</td>\n",
       "      <td>3.0</td>\n",
       "      <td>10</td>\n",
       "      <td>55.55</td>\n",
       "      <td>551.30</td>\n",
       "    </tr>\n",
       "    <tr>\n",
       "      <th>2674</th>\n",
       "      <td>0.0</td>\n",
       "      <td>1.0</td>\n",
       "      <td>0.0</td>\n",
       "      <td>0.0</td>\n",
       "      <td>1.0</td>\n",
       "      <td>0.0</td>\n",
       "      <td>2.0</td>\n",
       "      <td>1.0</td>\n",
       "      <td>1.0</td>\n",
       "      <td>1.0</td>\n",
       "      <td>1.0</td>\n",
       "      <td>1.0</td>\n",
       "      <td>1.0</td>\n",
       "      <td>0.0</td>\n",
       "      <td>0.0</td>\n",
       "      <td>3.0</td>\n",
       "      <td>4</td>\n",
       "      <td>20.05</td>\n",
       "      <td>91.45</td>\n",
       "    </tr>\n",
       "  </tbody>\n",
       "</table>\n",
       "</div>"
      ],
      "text/plain": [
       "      gender  SeniorCitizen  Partner  Dependents  PhoneService  MultipleLines  \\\n",
       "4067     0.0            0.0      1.0         0.0           1.0            0.0   \n",
       "3306     0.0            0.0      1.0         1.0           1.0            0.0   \n",
       "3391     1.0            0.0      0.0         0.0           1.0            0.0   \n",
       "3249     0.0            0.0      1.0         1.0           1.0            0.0   \n",
       "2674     0.0            1.0      0.0         0.0           1.0            0.0   \n",
       "\n",
       "      InternetService  OnlineSecurity  OnlineBackup  DeviceProtection  \\\n",
       "4067              0.0             2.0           2.0               0.0   \n",
       "3306              1.0             0.0           2.0               0.0   \n",
       "3391              2.0             1.0           1.0               1.0   \n",
       "3249              0.0             0.0           2.0               2.0   \n",
       "2674              2.0             1.0           1.0               1.0   \n",
       "\n",
       "      TechSupport  StreamingTV  StreamingMovies  Contract  PaperlessBilling  \\\n",
       "4067          2.0          2.0              2.0       2.0               1.0   \n",
       "3306          2.0          0.0              0.0       0.0               1.0   \n",
       "3391          1.0          1.0              1.0       0.0               0.0   \n",
       "3249          0.0          0.0              0.0       0.0               1.0   \n",
       "2674          1.0          1.0              1.0       0.0               0.0   \n",
       "\n",
       "      PaymentMethod  tenure  MonthlyCharges  TotalCharges  \n",
       "4067            0.0      68           79.60       5515.80  \n",
       "3306            2.0       3           80.00        241.30  \n",
       "3391            3.0       4           19.00         73.45  \n",
       "3249            3.0      10           55.55        551.30  \n",
       "2674            3.0       4           20.05         91.45  "
      ]
     },
     "execution_count": 529,
     "metadata": {},
     "output_type": "execute_result"
    }
   ],
   "source": [
    "X_train_OE.head()"
   ]
  },
  {
   "cell_type": "code",
   "execution_count": 530,
   "id": "5e80772e-ee1e-46ee-b0bd-ceef87c855af",
   "metadata": {
    "tags": []
   },
   "outputs": [
    {
     "data": {
      "text/plain": [
       "[True,\n",
       " True,\n",
       " True,\n",
       " True,\n",
       " True,\n",
       " True,\n",
       " True,\n",
       " True,\n",
       " True,\n",
       " True,\n",
       " True,\n",
       " True,\n",
       " True,\n",
       " True,\n",
       " True,\n",
       " True,\n",
       " False,\n",
       " False,\n",
       " False]"
      ]
     },
     "execution_count": 530,
     "metadata": {},
     "output_type": "execute_result"
    }
   ],
   "source": [
    "mask = [True]*len(category_cols) + [False]*len(numeric_cols)\n",
    "mask"
   ]
  },
  {
   "cell_type": "markdown",
   "id": "0fad5ae5-e79b-467d-b84f-08b98b48082e",
   "metadata": {},
   "source": [
    "然后带入进行互信息的计算："
   ]
  },
  {
   "cell_type": "code",
   "execution_count": 531,
   "id": "f129292e-5da0-4824-a26b-e4025933945e",
   "metadata": {},
   "outputs": [
    {
     "data": {
      "text/plain": [
       "array([1.73090078e-04, 9.13473736e-03, 1.29159500e-02, 1.24089586e-02,\n",
       "       3.11949909e-06, 4.99279481e-04, 5.43286385e-02, 7.08580232e-02,\n",
       "       4.78061879e-02, 4.70107520e-02, 6.57416875e-02, 3.30813850e-02,\n",
       "       3.34860937e-02, 9.78731272e-02, 1.81578691e-02, 4.59939447e-02,\n",
       "       7.08277944e-02, 4.57067323e-02, 4.28992124e-02])"
      ]
     },
     "execution_count": 531,
     "metadata": {},
     "output_type": "execute_result"
    }
   ],
   "source": [
    "mutual_info_classif(X_train_OE, y_train, discrete_features=mask)"
   ]
  },
  {
   "cell_type": "code",
   "execution_count": 532,
   "id": "dceb3426-474e-420b-b70a-6b5fd7c89b9c",
   "metadata": {},
   "outputs": [
    {
     "data": {
      "text/plain": [
       "gender              0.000173\n",
       "SeniorCitizen       0.009135\n",
       "Partner             0.012916\n",
       "Dependents          0.012409\n",
       "PhoneService        0.000003\n",
       "MultipleLines       0.000499\n",
       "InternetService     0.054329\n",
       "OnlineSecurity      0.070858\n",
       "OnlineBackup        0.047806\n",
       "DeviceProtection    0.047011\n",
       "TechSupport         0.065742\n",
       "StreamingTV         0.033081\n",
       "StreamingMovies     0.033486\n",
       "Contract            0.097873\n",
       "PaperlessBilling    0.018158\n",
       "PaymentMethod       0.045994\n",
       "tenure              0.073132\n",
       "MonthlyCharges      0.047550\n",
       "TotalCharges        0.042000\n",
       "dtype: float64"
      ]
     },
     "execution_count": 532,
     "metadata": {},
     "output_type": "execute_result"
    }
   ],
   "source": [
    "MIC = mutual_info_classif(X_train_OE, y_train, discrete_features=mask, random_state=21)\n",
    "MIC = pd.Series(MIC, index=category_cols + numeric_cols)\n",
    "MIC"
   ]
  },
  {
   "cell_type": "code",
   "execution_count": 533,
   "id": "3838f555-e0b8-49da-ac9e-174856564203",
   "metadata": {},
   "outputs": [
    {
     "data": {
      "text/plain": [
       "Contract            0.097873\n",
       "tenure              0.073132\n",
       "OnlineSecurity      0.070858\n",
       "TechSupport         0.065742\n",
       "InternetService     0.054329\n",
       "OnlineBackup        0.047806\n",
       "MonthlyCharges      0.047550\n",
       "DeviceProtection    0.047011\n",
       "PaymentMethod       0.045994\n",
       "TotalCharges        0.042000\n",
       "StreamingMovies     0.033486\n",
       "StreamingTV         0.033081\n",
       "PaperlessBilling    0.018158\n",
       "Partner             0.012916\n",
       "Dependents          0.012409\n",
       "SeniorCitizen       0.009135\n",
       "MultipleLines       0.000499\n",
       "gender              0.000173\n",
       "PhoneService        0.000003\n",
       "dtype: float64"
      ]
     },
     "execution_count": 533,
     "metadata": {},
     "output_type": "execute_result"
    }
   ],
   "source": [
    "MIC.sort_values(ascending=False)"
   ]
  },
  {
   "cell_type": "markdown",
   "id": "1c92e824-6116-49ef-9b47-ad7cd0392564",
   "metadata": {},
   "source": [
    "能够发现，受到样本不均匀影响，全部特征的互信息数值都偏小，不过仔细观察互信息计算结果不难发现，不同特征的评分还是出现了较为明显的“分层”，例如大多数特征（包括连续变量和离散变量在内）的MI都在小数点后两位，而只有gender、SeniorCitizen、PhoneService等特征的MI值在小数点后三位甚至更小，很明显这些特征和标签的关联性要明显小于其他特征，据此我们就可以对其进行特征筛选。"
   ]
  },
  {
   "cell_type": "markdown",
   "id": "8b5625a8-0e5a-46ca-8d79-5620b1af135d",
   "metadata": {},
   "source": [
    "&emsp;&emsp;当然围绕上述结果，需要注意的是，对于mutual_info_classif和mutual_info_regression函数来说，离散变量是直接使用mutual_info_score进行的计算，而连续变量则进行了一定程度数值调整，最终以保持和离散变量类似的结果水平方便进行横向比较。这也是互信息法易用性的具体表现。"
   ]
  },
  {
   "cell_type": "markdown",
   "id": "0db542b7-7e90-4764-8c0a-e6418c86bc6f",
   "metadata": {},
   "source": [
    "- 以互信息为评分函数的特征筛选器"
   ]
  },
  {
   "cell_type": "markdown",
   "id": "24775686-f3d2-4a8c-bf0e-638743d12542",
   "metadata": {},
   "source": [
    "&emsp;&emsp;与此同时需要注意，因为此处我们修改了mutual_info_classif默认参数，因此已无法使用SelectKBest等评估器进行自动特征筛选了，特征筛选评估器在调用score_func时只能使用默认参数，即把密集矩阵视作连续变量、稀疏矩阵视作离散变量，并且一个X特征矩阵只能有一种类别判定。因此若要调用特征筛选评估器借助MI进行特征筛选，则只能分连续变量和离散变量分别进行筛选。首先是连续变量情况："
   ]
  },
  {
   "cell_type": "code",
   "execution_count": 534,
   "id": "e3527512-bb11-49c8-9a67-c27aa0dc91cd",
   "metadata": {},
   "outputs": [
    {
     "data": {
      "text/plain": [
       "array([0.0716352 , 0.04662425, 0.04380887])"
      ]
     },
     "execution_count": 534,
     "metadata": {},
     "output_type": "execute_result"
    }
   ],
   "source": [
    "KB = SelectKBest(mutual_info_classif, k=2)\n",
    "KB.fit(X_train_OE[numeric_cols], y_train)\n",
    "KB.scores_"
   ]
  },
  {
   "cell_type": "code",
   "execution_count": 535,
   "id": "96154352-a730-4121-b82d-e3f1b109158b",
   "metadata": {},
   "outputs": [
    {
     "data": {
      "text/plain": [
       "array([0.07371748, 0.04257017, 0.04368372])"
      ]
     },
     "execution_count": 535,
     "metadata": {},
     "output_type": "execute_result"
    }
   ],
   "source": [
    "KB = SelectKBest(mutual_info_classif, k=2)\n",
    "KB.fit(X_train_OE[numeric_cols], y_train)\n",
    "KB.scores_"
   ]
  },
  {
   "cell_type": "markdown",
   "id": "d77219cd-01be-4091-9c8c-ccf11a025441",
   "metadata": {},
   "source": [
    "能够发现，多次执行会有略微数值上的差异，但此时我们并不能修改mutual_info_classif的参数，只能在外层设置一个全域的随机数种子，以确保结果是可重复的："
   ]
  },
  {
   "cell_type": "code",
   "execution_count": 536,
   "id": "2b2457a2-965f-4de7-83e2-252695799e7a",
   "metadata": {},
   "outputs": [
    {
     "data": {
      "text/plain": [
       "array([0.07313173, 0.04755022, 0.04200039])"
      ]
     },
     "execution_count": 536,
     "metadata": {},
     "output_type": "execute_result"
    }
   ],
   "source": [
    "np.random.seed(21)\n",
    "KB = SelectKBest(mutual_info_classif, k=2)\n",
    "KB.fit(X_train_OE[numeric_cols], y_train)\n",
    "KB.scores_"
   ]
  },
  {
   "cell_type": "code",
   "execution_count": 537,
   "id": "9e73d009-a3b3-4078-978c-2d263286e748",
   "metadata": {},
   "outputs": [
    {
     "data": {
      "text/plain": [
       "array([0.07313173, 0.04755022, 0.04200039])"
      ]
     },
     "execution_count": 537,
     "metadata": {},
     "output_type": "execute_result"
    }
   ],
   "source": [
    "np.random.seed(21)\n",
    "KB = SelectKBest(mutual_info_classif, k=2)\n",
    "KB.fit(X_train_OE[numeric_cols], y_train)\n",
    "KB.scores_"
   ]
  },
  {
   "cell_type": "code",
   "execution_count": 538,
   "id": "12b5dd5e-e118-46ba-bab3-e8a35ee45575",
   "metadata": {},
   "outputs": [
    {
     "data": {
      "text/plain": [
       "['tenure', 'MonthlyCharges']"
      ]
     },
     "execution_count": 538,
     "metadata": {},
     "output_type": "execute_result"
    }
   ],
   "source": [
    "SelectName(KB)"
   ]
  },
  {
   "cell_type": "code",
   "execution_count": 539,
   "id": "8df1194d-9ad2-4b8b-9ca9-54a1fe703cbc",
   "metadata": {},
   "outputs": [
    {
     "data": {
      "text/plain": [
       "array(['tenure', 'MonthlyCharges'], dtype=object)"
      ]
     },
     "execution_count": 539,
     "metadata": {},
     "output_type": "execute_result"
    }
   ],
   "source": [
    "KB.get_feature_names_out()"
   ]
  },
  {
   "cell_type": "markdown",
   "id": "c18d323f-7f68-4e9d-a7c7-c4838321cecd",
   "metadata": {},
   "source": [
    "此外，如果要对离散变量进行特征筛选，则需要先将离散变量转化为稀疏矩阵。关于稀疏矩阵的详细内容会在后续案例中进行讲解，此处仅作简单介绍。"
   ]
  },
  {
   "cell_type": "markdown",
   "id": "9d816607-875b-4db3-a488-ddcd147b61d7",
   "metadata": {},
   "source": [
    "&emsp;&emsp;稀疏矩阵中的稀疏，并不是一种数学层面对矩阵类型的划分（如正定矩阵、满秩矩阵等），而是数据格式层面对当前矩阵进行的说明。也就是说，对于A矩阵来说，无论是不是稀疏矩阵，实际上都是代表同一组数："
   ]
  },
  {
   "cell_type": "code",
   "execution_count": 540,
   "id": "774e40aa-f785-43da-a93b-9c7a12663971",
   "metadata": {},
   "outputs": [
    {
     "data": {
      "text/html": [
       "<div>\n",
       "<style scoped>\n",
       "    .dataframe tbody tr th:only-of-type {\n",
       "        vertical-align: middle;\n",
       "    }\n",
       "\n",
       "    .dataframe tbody tr th {\n",
       "        vertical-align: top;\n",
       "    }\n",
       "\n",
       "    .dataframe thead th {\n",
       "        text-align: right;\n",
       "    }\n",
       "</style>\n",
       "<table border=\"1\" class=\"dataframe\">\n",
       "  <thead>\n",
       "    <tr style=\"text-align: right;\">\n",
       "      <th></th>\n",
       "      <th>0</th>\n",
       "      <th>1</th>\n",
       "      <th>2</th>\n",
       "    </tr>\n",
       "  </thead>\n",
       "  <tbody>\n",
       "    <tr>\n",
       "      <th>0</th>\n",
       "      <td>1</td>\n",
       "      <td>0</td>\n",
       "      <td>0</td>\n",
       "    </tr>\n",
       "    <tr>\n",
       "      <th>1</th>\n",
       "      <td>0</td>\n",
       "      <td>0</td>\n",
       "      <td>1</td>\n",
       "    </tr>\n",
       "  </tbody>\n",
       "</table>\n",
       "</div>"
      ],
      "text/plain": [
       "   0  1  2\n",
       "0  1  0  0\n",
       "1  0  0  1"
      ]
     },
     "execution_count": 540,
     "metadata": {},
     "output_type": "execute_result"
    }
   ],
   "source": [
    "A = pd.DataFrame([[1, 0, 0], [0, 0, 1]])\n",
    "A"
   ]
  },
  {
   "cell_type": "code",
   "execution_count": 541,
   "id": "c3a5dd7a-78f3-4dab-96ba-3edfde66aed6",
   "metadata": {},
   "outputs": [
    {
     "data": {
      "text/plain": [
       "0    int64\n",
       "1    int64\n",
       "2    int64\n",
       "dtype: object"
      ]
     },
     "execution_count": 541,
     "metadata": {},
     "output_type": "execute_result"
    }
   ],
   "source": [
    "A.dtypes"
   ]
  },
  {
   "cell_type": "markdown",
   "id": "1bbab76b-3d46-4138-ab72-c61ecb928ed1",
   "metadata": {},
   "source": [
    "&emsp;&emsp;那为什么还要区分是否是稀疏矩阵呢？其实在特征衍生阶段我们不难发现，很多时候我们都会遇到大量0值的数组，一般情况下数组和矩阵的存储都是不同位置记录不同元素，例如对于上述矩阵A来说，计算机中的存储方式是：$$(0,0)=1（第一行第一列值为1）、(0,1)=0、(0,2)=0... \\tag 1$$这种存储方式简洁易懂，但对于大量零值的矩阵、甚至是非零值也全都是1的矩阵来说会比较浪费存储空间（记录的信息太多），对于上述A矩阵，其实还可以按照另外一种形式进行记录，即：$$取值为1的位置有(0,0)、(1,2)，其他所有位置取值为0 \\tag 2$$很明显，后者要简单很多、面对大量零值、少量1值的矩阵来说也会非常节省存储空间，当然第二种记录方法也只有在矩阵本身非常稀疏时才能体现存储优势。据此就有了密集矩阵和稀疏矩阵的区分， 即按照第一种方式存储的矩阵就被称为密集矩阵、按照第二种方式存储的矩阵就被称为稀疏矩阵。"
   ]
  },
  {
   "cell_type": "markdown",
   "id": "b35225e8-3775-4d99-8d30-01339aef1345",
   "metadata": {},
   "source": [
    "> 除了矩阵，向量也可以划分稀疏向量和密集向量；并且除了上述稀疏矩阵的存储方式外，还有非常多种其他存储方法。"
   ]
  },
  {
   "cell_type": "markdown",
   "id": "13f8176f-be79-4aba-a566-f38acd57b059",
   "metadata": {},
   "source": [
    "> 此外，需要注意稀疏性和稀疏矩阵二者定义的差别。"
   ]
  },
  {
   "cell_type": "markdown",
   "id": "ab66e803-dd86-434d-ab4f-c4f0808bd413",
   "metadata": {},
   "source": [
    "&emsp;&emsp;而对于稀疏矩阵，有很多创建、转化和本地保存的方法，此处仅介绍如何将密集矩阵转化为稀疏矩阵，其他内容将在后续案例中进行介绍。在pandas中存在一种Spare类型，可以表示稀疏矩阵："
   ]
  },
  {
   "cell_type": "code",
   "execution_count": 542,
   "id": "2f0d6f69-6188-40b9-a285-713095f42654",
   "metadata": {
    "collapsed": true,
    "jupyter": {
     "outputs_hidden": true
    },
    "tags": []
   },
   "outputs": [
    {
     "data": {
      "text/plain": [
       "\u001b[1;31mInit signature:\u001b[0m\n",
       "\u001b[0mpd\u001b[0m\u001b[1;33m.\u001b[0m\u001b[0mSparseDtype\u001b[0m\u001b[1;33m(\u001b[0m\u001b[1;33m\n",
       "\u001b[0m    \u001b[0mdtype\u001b[0m\u001b[1;33m:\u001b[0m \u001b[1;34m'Dtype'\u001b[0m \u001b[1;33m=\u001b[0m \u001b[1;33m<\u001b[0m\u001b[1;32mclass\u001b[0m \u001b[1;34m'numpy.float64'\u001b[0m\u001b[1;33m>\u001b[0m\u001b[1;33m,\u001b[0m\u001b[1;33m\n",
       "\u001b[0m    \u001b[0mfill_value\u001b[0m\u001b[1;33m:\u001b[0m \u001b[1;34m'Any'\u001b[0m \u001b[1;33m=\u001b[0m \u001b[1;32mNone\u001b[0m\u001b[1;33m,\u001b[0m\u001b[1;33m\n",
       "\u001b[0m\u001b[1;33m)\u001b[0m\u001b[1;33m\u001b[0m\u001b[1;33m\u001b[0m\u001b[0m\n",
       "\u001b[1;31mDocstring:\u001b[0m     \n",
       "Dtype for data stored in :class:`SparseArray`.\n",
       "\n",
       "This dtype implements the pandas ExtensionDtype interface.\n",
       "\n",
       "Parameters\n",
       "----------\n",
       "dtype : str, ExtensionDtype, numpy.dtype, type, default numpy.float64\n",
       "    The dtype of the underlying array storing the non-fill value values.\n",
       "fill_value : scalar, optional\n",
       "    The scalar value not stored in the SparseArray. By default, this\n",
       "    depends on `dtype`.\n",
       "\n",
       "    =========== ==========\n",
       "    dtype       na_value\n",
       "    =========== ==========\n",
       "    float       ``np.nan``\n",
       "    int         ``0``\n",
       "    bool        ``False``\n",
       "    datetime64  ``pd.NaT``\n",
       "    timedelta64 ``pd.NaT``\n",
       "    =========== ==========\n",
       "\n",
       "    The default value may be overridden by specifying a `fill_value`.\n",
       "\n",
       "Attributes\n",
       "----------\n",
       "None\n",
       "\n",
       "Methods\n",
       "-------\n",
       "None\n",
       "\u001b[1;31mFile:\u001b[0m           d:\\anaconda3\\lib\\site-packages\\pandas\\core\\arrays\\sparse\\dtype.py\n",
       "\u001b[1;31mType:\u001b[0m           type\n",
       "\u001b[1;31mSubclasses:\u001b[0m     \n"
      ]
     },
     "metadata": {},
     "output_type": "display_data"
    }
   ],
   "source": [
    "pd.SparseDtype?"
   ]
  },
  {
   "cell_type": "code",
   "execution_count": 543,
   "id": "b4f375e6-ae11-4727-af65-69c9677ea10e",
   "metadata": {},
   "outputs": [],
   "source": [
    "int_spar = pd.SparseDtype(int, fill_value=0)"
   ]
  },
  {
   "cell_type": "code",
   "execution_count": 544,
   "id": "6fbe9010-7763-4318-bf2d-738f2e5a5aac",
   "metadata": {},
   "outputs": [
    {
     "data": {
      "text/html": [
       "<div>\n",
       "<style scoped>\n",
       "    .dataframe tbody tr th:only-of-type {\n",
       "        vertical-align: middle;\n",
       "    }\n",
       "\n",
       "    .dataframe tbody tr th {\n",
       "        vertical-align: top;\n",
       "    }\n",
       "\n",
       "    .dataframe thead th {\n",
       "        text-align: right;\n",
       "    }\n",
       "</style>\n",
       "<table border=\"1\" class=\"dataframe\">\n",
       "  <thead>\n",
       "    <tr style=\"text-align: right;\">\n",
       "      <th></th>\n",
       "      <th>0</th>\n",
       "      <th>1</th>\n",
       "      <th>2</th>\n",
       "    </tr>\n",
       "  </thead>\n",
       "  <tbody>\n",
       "    <tr>\n",
       "      <th>0</th>\n",
       "      <td>1</td>\n",
       "      <td>0</td>\n",
       "      <td>0</td>\n",
       "    </tr>\n",
       "    <tr>\n",
       "      <th>1</th>\n",
       "      <td>0</td>\n",
       "      <td>0</td>\n",
       "      <td>1</td>\n",
       "    </tr>\n",
       "  </tbody>\n",
       "</table>\n",
       "</div>"
      ],
      "text/plain": [
       "   0  1  2\n",
       "0  1  0  0\n",
       "1  0  0  1"
      ]
     },
     "execution_count": 544,
     "metadata": {},
     "output_type": "execute_result"
    }
   ],
   "source": [
    "A"
   ]
  },
  {
   "cell_type": "code",
   "execution_count": 545,
   "id": "d5a6610e-9f5b-4614-9d0a-139079a2530b",
   "metadata": {},
   "outputs": [
    {
     "data": {
      "text/html": [
       "<div>\n",
       "<style scoped>\n",
       "    .dataframe tbody tr th:only-of-type {\n",
       "        vertical-align: middle;\n",
       "    }\n",
       "\n",
       "    .dataframe tbody tr th {\n",
       "        vertical-align: top;\n",
       "    }\n",
       "\n",
       "    .dataframe thead th {\n",
       "        text-align: right;\n",
       "    }\n",
       "</style>\n",
       "<table border=\"1\" class=\"dataframe\">\n",
       "  <thead>\n",
       "    <tr style=\"text-align: right;\">\n",
       "      <th></th>\n",
       "      <th>0</th>\n",
       "      <th>1</th>\n",
       "      <th>2</th>\n",
       "    </tr>\n",
       "  </thead>\n",
       "  <tbody>\n",
       "    <tr>\n",
       "      <th>0</th>\n",
       "      <td>1</td>\n",
       "      <td>0</td>\n",
       "      <td>0</td>\n",
       "    </tr>\n",
       "    <tr>\n",
       "      <th>1</th>\n",
       "      <td>0</td>\n",
       "      <td>0</td>\n",
       "      <td>1</td>\n",
       "    </tr>\n",
       "  </tbody>\n",
       "</table>\n",
       "</div>"
      ],
      "text/plain": [
       "   0  1  2\n",
       "0  1  0  0\n",
       "1  0  0  1"
      ]
     },
     "execution_count": 545,
     "metadata": {},
     "output_type": "execute_result"
    }
   ],
   "source": [
    "A = A.astype(int_spar)\n",
    "A"
   ]
  },
  {
   "cell_type": "code",
   "execution_count": 546,
   "id": "9dd6c1ed-1614-4313-a029-40e48f182a76",
   "metadata": {},
   "outputs": [
    {
     "data": {
      "text/plain": [
       "0    Sparse[int32, 0]\n",
       "1    Sparse[int32, 0]\n",
       "2    Sparse[int32, 0]\n",
       "dtype: object"
      ]
     },
     "execution_count": 546,
     "metadata": {},
     "output_type": "execute_result"
    }
   ],
   "source": [
    "A.dtypes"
   ]
  },
  {
   "cell_type": "markdown",
   "id": "3c02a15c-5214-461f-a4b4-2065377d8c6d",
   "metadata": {},
   "source": [
    "> pandas中是按照列进行是否是稀疏向量的设置"
   ]
  },
  {
   "cell_type": "markdown",
   "id": "2e8a28d4-5d78-44ae-9447-9419ddd8c3f4",
   "metadata": {},
   "source": [
    "至此，我们就将矩阵A转化为了稀疏矩阵。接下来我们尝试将原数据集中离散变量转化为稀疏矩阵并带入评估器中进行特征筛选："
   ]
  },
  {
   "cell_type": "code",
   "execution_count": 547,
   "id": "1a5d6fab-705f-4f26-8876-5406495165bc",
   "metadata": {},
   "outputs": [
    {
     "data": {
      "text/html": [
       "<div>\n",
       "<style scoped>\n",
       "    .dataframe tbody tr th:only-of-type {\n",
       "        vertical-align: middle;\n",
       "    }\n",
       "\n",
       "    .dataframe tbody tr th {\n",
       "        vertical-align: top;\n",
       "    }\n",
       "\n",
       "    .dataframe thead th {\n",
       "        text-align: right;\n",
       "    }\n",
       "</style>\n",
       "<table border=\"1\" class=\"dataframe\">\n",
       "  <thead>\n",
       "    <tr style=\"text-align: right;\">\n",
       "      <th></th>\n",
       "      <th>gender</th>\n",
       "      <th>SeniorCitizen</th>\n",
       "      <th>Partner</th>\n",
       "      <th>Dependents</th>\n",
       "      <th>PhoneService</th>\n",
       "      <th>MultipleLines</th>\n",
       "      <th>InternetService</th>\n",
       "      <th>OnlineSecurity</th>\n",
       "      <th>OnlineBackup</th>\n",
       "      <th>DeviceProtection</th>\n",
       "      <th>TechSupport</th>\n",
       "      <th>StreamingTV</th>\n",
       "      <th>StreamingMovies</th>\n",
       "      <th>Contract</th>\n",
       "      <th>PaperlessBilling</th>\n",
       "      <th>PaymentMethod</th>\n",
       "    </tr>\n",
       "  </thead>\n",
       "  <tbody>\n",
       "    <tr>\n",
       "      <th>4067</th>\n",
       "      <td>0.0</td>\n",
       "      <td>0.0</td>\n",
       "      <td>1.0</td>\n",
       "      <td>0.0</td>\n",
       "      <td>1.0</td>\n",
       "      <td>0.0</td>\n",
       "      <td>0.0</td>\n",
       "      <td>2.0</td>\n",
       "      <td>2.0</td>\n",
       "      <td>0.0</td>\n",
       "      <td>2.0</td>\n",
       "      <td>2.0</td>\n",
       "      <td>2.0</td>\n",
       "      <td>2.0</td>\n",
       "      <td>1.0</td>\n",
       "      <td>0.0</td>\n",
       "    </tr>\n",
       "    <tr>\n",
       "      <th>3306</th>\n",
       "      <td>0.0</td>\n",
       "      <td>0.0</td>\n",
       "      <td>1.0</td>\n",
       "      <td>1.0</td>\n",
       "      <td>1.0</td>\n",
       "      <td>0.0</td>\n",
       "      <td>1.0</td>\n",
       "      <td>0.0</td>\n",
       "      <td>2.0</td>\n",
       "      <td>0.0</td>\n",
       "      <td>2.0</td>\n",
       "      <td>0.0</td>\n",
       "      <td>0.0</td>\n",
       "      <td>0.0</td>\n",
       "      <td>1.0</td>\n",
       "      <td>2.0</td>\n",
       "    </tr>\n",
       "    <tr>\n",
       "      <th>3391</th>\n",
       "      <td>1.0</td>\n",
       "      <td>0.0</td>\n",
       "      <td>0.0</td>\n",
       "      <td>0.0</td>\n",
       "      <td>1.0</td>\n",
       "      <td>0.0</td>\n",
       "      <td>2.0</td>\n",
       "      <td>1.0</td>\n",
       "      <td>1.0</td>\n",
       "      <td>1.0</td>\n",
       "      <td>1.0</td>\n",
       "      <td>1.0</td>\n",
       "      <td>1.0</td>\n",
       "      <td>0.0</td>\n",
       "      <td>0.0</td>\n",
       "      <td>3.0</td>\n",
       "    </tr>\n",
       "    <tr>\n",
       "      <th>3249</th>\n",
       "      <td>0.0</td>\n",
       "      <td>0.0</td>\n",
       "      <td>1.0</td>\n",
       "      <td>1.0</td>\n",
       "      <td>1.0</td>\n",
       "      <td>0.0</td>\n",
       "      <td>0.0</td>\n",
       "      <td>0.0</td>\n",
       "      <td>2.0</td>\n",
       "      <td>2.0</td>\n",
       "      <td>0.0</td>\n",
       "      <td>0.0</td>\n",
       "      <td>0.0</td>\n",
       "      <td>0.0</td>\n",
       "      <td>1.0</td>\n",
       "      <td>3.0</td>\n",
       "    </tr>\n",
       "    <tr>\n",
       "      <th>2674</th>\n",
       "      <td>0.0</td>\n",
       "      <td>1.0</td>\n",
       "      <td>0.0</td>\n",
       "      <td>0.0</td>\n",
       "      <td>1.0</td>\n",
       "      <td>0.0</td>\n",
       "      <td>2.0</td>\n",
       "      <td>1.0</td>\n",
       "      <td>1.0</td>\n",
       "      <td>1.0</td>\n",
       "      <td>1.0</td>\n",
       "      <td>1.0</td>\n",
       "      <td>1.0</td>\n",
       "      <td>0.0</td>\n",
       "      <td>0.0</td>\n",
       "      <td>3.0</td>\n",
       "    </tr>\n",
       "  </tbody>\n",
       "</table>\n",
       "</div>"
      ],
      "text/plain": [
       "      gender  SeniorCitizen  Partner  Dependents  PhoneService  MultipleLines  \\\n",
       "4067     0.0            0.0      1.0         0.0           1.0            0.0   \n",
       "3306     0.0            0.0      1.0         1.0           1.0            0.0   \n",
       "3391     1.0            0.0      0.0         0.0           1.0            0.0   \n",
       "3249     0.0            0.0      1.0         1.0           1.0            0.0   \n",
       "2674     0.0            1.0      0.0         0.0           1.0            0.0   \n",
       "\n",
       "      InternetService  OnlineSecurity  OnlineBackup  DeviceProtection  \\\n",
       "4067              0.0             2.0           2.0               0.0   \n",
       "3306              1.0             0.0           2.0               0.0   \n",
       "3391              2.0             1.0           1.0               1.0   \n",
       "3249              0.0             0.0           2.0               2.0   \n",
       "2674              2.0             1.0           1.0               1.0   \n",
       "\n",
       "      TechSupport  StreamingTV  StreamingMovies  Contract  PaperlessBilling  \\\n",
       "4067          2.0          2.0              2.0       2.0               1.0   \n",
       "3306          2.0          0.0              0.0       0.0               1.0   \n",
       "3391          1.0          1.0              1.0       0.0               0.0   \n",
       "3249          0.0          0.0              0.0       0.0               1.0   \n",
       "2674          1.0          1.0              1.0       0.0               0.0   \n",
       "\n",
       "      PaymentMethod  \n",
       "4067            0.0  \n",
       "3306            2.0  \n",
       "3391            3.0  \n",
       "3249            3.0  \n",
       "2674            3.0  "
      ]
     },
     "execution_count": 547,
     "metadata": {},
     "output_type": "execute_result"
    }
   ],
   "source": [
    "X_train_OE[category_cols].head()"
   ]
  },
  {
   "cell_type": "code",
   "execution_count": 548,
   "id": "a1a35ee9-b155-42a4-bc19-73e50bf8fa1b",
   "metadata": {},
   "outputs": [
    {
     "data": {
      "text/plain": [
       "gender              float64\n",
       "SeniorCitizen       float64\n",
       "Partner             float64\n",
       "Dependents          float64\n",
       "PhoneService        float64\n",
       "MultipleLines       float64\n",
       "InternetService     float64\n",
       "OnlineSecurity      float64\n",
       "OnlineBackup        float64\n",
       "DeviceProtection    float64\n",
       "TechSupport         float64\n",
       "StreamingTV         float64\n",
       "StreamingMovies     float64\n",
       "Contract            float64\n",
       "PaperlessBilling    float64\n",
       "PaymentMethod       float64\n",
       "dtype: object"
      ]
     },
     "execution_count": 548,
     "metadata": {},
     "output_type": "execute_result"
    }
   ],
   "source": [
    "X_train_OE[category_cols].dtypes"
   ]
  },
  {
   "cell_type": "code",
   "execution_count": 549,
   "id": "7533a4d4-5dfe-4cc8-8acf-00550dd550f6",
   "metadata": {},
   "outputs": [
    {
     "data": {
      "text/html": [
       "<div>\n",
       "<style scoped>\n",
       "    .dataframe tbody tr th:only-of-type {\n",
       "        vertical-align: middle;\n",
       "    }\n",
       "\n",
       "    .dataframe tbody tr th {\n",
       "        vertical-align: top;\n",
       "    }\n",
       "\n",
       "    .dataframe thead th {\n",
       "        text-align: right;\n",
       "    }\n",
       "</style>\n",
       "<table border=\"1\" class=\"dataframe\">\n",
       "  <thead>\n",
       "    <tr style=\"text-align: right;\">\n",
       "      <th></th>\n",
       "      <th>gender</th>\n",
       "      <th>SeniorCitizen</th>\n",
       "      <th>Partner</th>\n",
       "      <th>Dependents</th>\n",
       "      <th>PhoneService</th>\n",
       "      <th>MultipleLines</th>\n",
       "      <th>InternetService</th>\n",
       "      <th>OnlineSecurity</th>\n",
       "      <th>OnlineBackup</th>\n",
       "      <th>DeviceProtection</th>\n",
       "      <th>TechSupport</th>\n",
       "      <th>StreamingTV</th>\n",
       "      <th>StreamingMovies</th>\n",
       "      <th>Contract</th>\n",
       "      <th>PaperlessBilling</th>\n",
       "      <th>PaymentMethod</th>\n",
       "    </tr>\n",
       "  </thead>\n",
       "  <tbody>\n",
       "    <tr>\n",
       "      <th>4067</th>\n",
       "      <td>0</td>\n",
       "      <td>0</td>\n",
       "      <td>1</td>\n",
       "      <td>0</td>\n",
       "      <td>1</td>\n",
       "      <td>0</td>\n",
       "      <td>0</td>\n",
       "      <td>2</td>\n",
       "      <td>2</td>\n",
       "      <td>0</td>\n",
       "      <td>2</td>\n",
       "      <td>2</td>\n",
       "      <td>2</td>\n",
       "      <td>2</td>\n",
       "      <td>1</td>\n",
       "      <td>0</td>\n",
       "    </tr>\n",
       "    <tr>\n",
       "      <th>3306</th>\n",
       "      <td>0</td>\n",
       "      <td>0</td>\n",
       "      <td>1</td>\n",
       "      <td>1</td>\n",
       "      <td>1</td>\n",
       "      <td>0</td>\n",
       "      <td>1</td>\n",
       "      <td>0</td>\n",
       "      <td>2</td>\n",
       "      <td>0</td>\n",
       "      <td>2</td>\n",
       "      <td>0</td>\n",
       "      <td>0</td>\n",
       "      <td>0</td>\n",
       "      <td>1</td>\n",
       "      <td>2</td>\n",
       "    </tr>\n",
       "    <tr>\n",
       "      <th>3391</th>\n",
       "      <td>1</td>\n",
       "      <td>0</td>\n",
       "      <td>0</td>\n",
       "      <td>0</td>\n",
       "      <td>1</td>\n",
       "      <td>0</td>\n",
       "      <td>2</td>\n",
       "      <td>1</td>\n",
       "      <td>1</td>\n",
       "      <td>1</td>\n",
       "      <td>1</td>\n",
       "      <td>1</td>\n",
       "      <td>1</td>\n",
       "      <td>0</td>\n",
       "      <td>0</td>\n",
       "      <td>3</td>\n",
       "    </tr>\n",
       "    <tr>\n",
       "      <th>3249</th>\n",
       "      <td>0</td>\n",
       "      <td>0</td>\n",
       "      <td>1</td>\n",
       "      <td>1</td>\n",
       "      <td>1</td>\n",
       "      <td>0</td>\n",
       "      <td>0</td>\n",
       "      <td>0</td>\n",
       "      <td>2</td>\n",
       "      <td>2</td>\n",
       "      <td>0</td>\n",
       "      <td>0</td>\n",
       "      <td>0</td>\n",
       "      <td>0</td>\n",
       "      <td>1</td>\n",
       "      <td>3</td>\n",
       "    </tr>\n",
       "    <tr>\n",
       "      <th>2674</th>\n",
       "      <td>0</td>\n",
       "      <td>1</td>\n",
       "      <td>0</td>\n",
       "      <td>0</td>\n",
       "      <td>1</td>\n",
       "      <td>0</td>\n",
       "      <td>2</td>\n",
       "      <td>1</td>\n",
       "      <td>1</td>\n",
       "      <td>1</td>\n",
       "      <td>1</td>\n",
       "      <td>1</td>\n",
       "      <td>1</td>\n",
       "      <td>0</td>\n",
       "      <td>0</td>\n",
       "      <td>3</td>\n",
       "    </tr>\n",
       "  </tbody>\n",
       "</table>\n",
       "</div>"
      ],
      "text/plain": [
       "      gender  SeniorCitizen  Partner  Dependents  PhoneService  MultipleLines  \\\n",
       "4067       0              0        1           0             1              0   \n",
       "3306       0              0        1           1             1              0   \n",
       "3391       1              0        0           0             1              0   \n",
       "3249       0              0        1           1             1              0   \n",
       "2674       0              1        0           0             1              0   \n",
       "\n",
       "      InternetService  OnlineSecurity  OnlineBackup  DeviceProtection  \\\n",
       "4067                0               2             2                 0   \n",
       "3306                1               0             2                 0   \n",
       "3391                2               1             1                 1   \n",
       "3249                0               0             2                 2   \n",
       "2674                2               1             1                 1   \n",
       "\n",
       "      TechSupport  StreamingTV  StreamingMovies  Contract  PaperlessBilling  \\\n",
       "4067            2            2                2         2                 1   \n",
       "3306            2            0                0         0                 1   \n",
       "3391            1            1                1         0                 0   \n",
       "3249            0            0                0         0                 1   \n",
       "2674            1            1                1         0                 0   \n",
       "\n",
       "      PaymentMethod  \n",
       "4067              0  \n",
       "3306              2  \n",
       "3391              3  \n",
       "3249              3  \n",
       "2674              3  "
      ]
     },
     "execution_count": 549,
     "metadata": {},
     "output_type": "execute_result"
    }
   ],
   "source": [
    "category_part = X_train_OE[category_cols].astype(int_spar)\n",
    "category_part.head()"
   ]
  },
  {
   "cell_type": "code",
   "execution_count": 550,
   "id": "bc6c4442-0d83-40ee-8197-72a96f147a9e",
   "metadata": {},
   "outputs": [
    {
     "data": {
      "text/plain": [
       "gender              Sparse[int32, 0]\n",
       "SeniorCitizen       Sparse[int32, 0]\n",
       "Partner             Sparse[int32, 0]\n",
       "Dependents          Sparse[int32, 0]\n",
       "PhoneService        Sparse[int32, 0]\n",
       "MultipleLines       Sparse[int32, 0]\n",
       "InternetService     Sparse[int32, 0]\n",
       "OnlineSecurity      Sparse[int32, 0]\n",
       "OnlineBackup        Sparse[int32, 0]\n",
       "DeviceProtection    Sparse[int32, 0]\n",
       "TechSupport         Sparse[int32, 0]\n",
       "StreamingTV         Sparse[int32, 0]\n",
       "StreamingMovies     Sparse[int32, 0]\n",
       "Contract            Sparse[int32, 0]\n",
       "PaperlessBilling    Sparse[int32, 0]\n",
       "PaymentMethod       Sparse[int32, 0]\n",
       "dtype: object"
      ]
     },
     "execution_count": 550,
     "metadata": {},
     "output_type": "execute_result"
    }
   ],
   "source": [
    "category_part.dtypes"
   ]
  },
  {
   "cell_type": "code",
   "execution_count": 551,
   "id": "445f86ad-c115-4d57-a4d9-452aa8d87fe6",
   "metadata": {},
   "outputs": [
    {
     "data": {
      "text/plain": [
       "array([1.73090078e-04, 9.13473736e-03, 1.29159500e-02, 1.24089586e-02,\n",
       "       3.11949909e-06, 4.99279481e-04, 5.43286385e-02, 7.08580232e-02,\n",
       "       4.78061879e-02, 4.70107520e-02, 6.57416875e-02, 3.30813850e-02,\n",
       "       3.34860937e-02, 9.78731272e-02, 1.81578691e-02, 4.59939447e-02])"
      ]
     },
     "execution_count": 551,
     "metadata": {},
     "output_type": "execute_result"
    }
   ],
   "source": [
    "KB = SelectKBest(mutual_info_classif, k=10)\n",
    "KB.fit(category_part, y_train)\n",
    "KB.scores_"
   ]
  },
  {
   "cell_type": "markdown",
   "id": "6926891c-7dc6-470c-a7e2-681ac6d3a95b",
   "metadata": {},
   "source": [
    "也得到了类似的评分结果。这里需要注意，我们不能将稀疏矩阵和密集矩阵拼接到一起然后带入进行特征筛选，mutual_info_classif无法在一个X中区分连续变量还是离散变量，最终都会将其视作连续变量（也就是密集矩阵），而最终输出结果也将是极度不准确的："
   ]
  },
  {
   "cell_type": "code",
   "execution_count": 552,
   "id": "84070639-11c2-4998-857f-107c0a593dad",
   "metadata": {},
   "outputs": [],
   "source": [
    "X_train_OE_spar = pd.concat([category_part, X_train_OE[numeric_cols]], axis=1)"
   ]
  },
  {
   "cell_type": "code",
   "execution_count": 553,
   "id": "54c0308a-5119-4446-931f-a1b6010a7c11",
   "metadata": {},
   "outputs": [
    {
     "data": {
      "text/plain": [
       "gender              Sparse[int32, 0]\n",
       "SeniorCitizen       Sparse[int32, 0]\n",
       "Partner             Sparse[int32, 0]\n",
       "Dependents          Sparse[int32, 0]\n",
       "PhoneService        Sparse[int32, 0]\n",
       "MultipleLines       Sparse[int32, 0]\n",
       "InternetService     Sparse[int32, 0]\n",
       "OnlineSecurity      Sparse[int32, 0]\n",
       "OnlineBackup        Sparse[int32, 0]\n",
       "DeviceProtection    Sparse[int32, 0]\n",
       "TechSupport         Sparse[int32, 0]\n",
       "StreamingTV         Sparse[int32, 0]\n",
       "StreamingMovies     Sparse[int32, 0]\n",
       "Contract            Sparse[int32, 0]\n",
       "PaperlessBilling    Sparse[int32, 0]\n",
       "PaymentMethod       Sparse[int32, 0]\n",
       "tenure                         int64\n",
       "MonthlyCharges               float64\n",
       "TotalCharges                 float64\n",
       "dtype: object"
      ]
     },
     "execution_count": 553,
     "metadata": {},
     "output_type": "execute_result"
    }
   ],
   "source": [
    "X_train_OE_spar.dtypes"
   ]
  },
  {
   "cell_type": "code",
   "execution_count": 554,
   "id": "d88307a7-4935-4d51-a0cd-b1c386387a20",
   "metadata": {},
   "outputs": [
    {
     "name": "stderr",
     "output_type": "stream",
     "text": [
      "D:\\anaconda3\\lib\\site-packages\\sklearn\\utils\\validation.py:624: UserWarning: pandas.DataFrame with sparse columns found.It will be converted to a dense numpy array.\n",
      "  warnings.warn(\n"
     ]
    },
    {
     "data": {
      "text/plain": [
       "array([0.01258467, 0.00622113, 0.01795915, 0.00999533, 0.        ,\n",
       "       0.        , 0.04713925, 0.07712814, 0.04608793, 0.05024197,\n",
       "       0.06922447, 0.02616885, 0.03397653, 0.10177979, 0.01922933,\n",
       "       0.04941821, 0.07751313, 0.05026959, 0.04433634])"
      ]
     },
     "execution_count": 554,
     "metadata": {},
     "output_type": "execute_result"
    }
   ],
   "source": [
    "KB = SelectKBest(mutual_info_classif, k=10)\n",
    "KB.fit(X_train_OE_spar, y_train)\n",
    "KB.scores_"
   ]
  },
  {
   "cell_type": "code",
   "execution_count": 555,
   "id": "26af9567-2773-4b49-8f8c-8e888da7bb22",
   "metadata": {},
   "outputs": [
    {
     "name": "stderr",
     "output_type": "stream",
     "text": [
      "D:\\anaconda3\\lib\\site-packages\\sklearn\\utils\\validation.py:624: UserWarning: pandas.DataFrame with sparse columns found.It will be converted to a dense numpy array.\n",
      "  warnings.warn(\n"
     ]
    },
    {
     "data": {
      "text/plain": [
       "array([0.        , 0.01491473, 0.00680964, 0.00386814, 0.00338383,\n",
       "       0.        , 0.05816477, 0.06796908, 0.05277894, 0.04531854,\n",
       "       0.06085727, 0.02753767, 0.03438466, 0.1061525 , 0.01747497,\n",
       "       0.03970667, 0.07175468, 0.05023533, 0.04330436])"
      ]
     },
     "execution_count": 555,
     "metadata": {},
     "output_type": "execute_result"
    }
   ],
   "source": [
    "KB = SelectKBest(mutual_info_classif, k=10)\n",
    "KB.fit(X_train_OE_spar, y_train)\n",
    "KB.scores_"
   ]
  },
  {
   "cell_type": "markdown",
   "id": "c207862c-e02a-4757-b995-61c392825c5b",
   "metadata": {},
   "source": [
    "这也是sklearn说明文档中反复强调禁止的操作。"
   ]
  },
  {
   "cell_type": "markdown",
   "id": "b4a364e3-de60-4a6b-b04f-21202f049d6d",
   "metadata": {},
   "source": [
    "&emsp;&emsp;最后需要注意的是，如果是针对分类问题对离散变量进行特征筛选，则还可以选择normalized_mutual_info_score和adjusted_mutual_info_score两个指标，两个指标都是对mutual_info_score进行的修正，二者都是借助分类变量的信息熵构建了F统计量，并借助这个F统计量对原始mutual_info_score过程进行修改，normalized_mutual_info_score能够将最终的评分放缩到0-1范围内，从而进一步方便进行数值层面上的比较，而adjusted_mutual_info_score则是修正了分类变量的类别数越大、MI值越高的问题，使得最终能够更好的比较不同分类水平下的离散变量的关联性。"
   ]
  },
  {
   "cell_type": "code",
   "execution_count": 560,
   "id": "802d6f16-37c9-4550-9187-75b98a8134ac",
   "metadata": {},
   "outputs": [],
   "source": [
    "from sklearn.metrics import normalized_mutual_info_score,adjusted_mutual_info_score"
   ]
  },
  {
   "cell_type": "code",
   "execution_count": 561,
   "id": "e9ec05bc-839b-4a14-8242-8b66208d3593",
   "metadata": {},
   "outputs": [
    {
     "data": {
      "text/plain": [
       "gender              0.000273\n",
       "SeniorCitizen       0.018070\n",
       "Partner             0.020389\n",
       "Dependents          0.020912\n",
       "PhoneService        0.000007\n",
       "MultipleLines       0.000657\n",
       "InternetService     0.066543\n",
       "OnlineSecurity      0.088089\n",
       "OnlineBackup        0.058660\n",
       "DeviceProtection    0.057629\n",
       "TechSupport         0.081629\n",
       "StreamingTV         0.040404\n",
       "StreamingMovies     0.040897\n",
       "Contract            0.124614\n",
       "PaperlessBilling    0.029033\n",
       "PaymentMethod       0.047419\n",
       "dtype: float64"
      ]
     },
     "execution_count": 561,
     "metadata": {},
     "output_type": "execute_result"
    }
   ],
   "source": [
    "NMI = pd.Series(0, index=category_cols)\n",
    "\n",
    "for col in category_cols:\n",
    "    NMI[col] = normalized_mutual_info_score(X_train_OE[col], y_train)\n",
    "\n",
    "NMI"
   ]
  },
  {
   "cell_type": "code",
   "execution_count": 562,
   "id": "9a985b5c-e0e1-41db-8f13-e9a7936bfe75",
   "metadata": {},
   "outputs": [
    {
     "data": {
      "text/plain": [
       "0.0002730741488599909"
      ]
     },
     "execution_count": 562,
     "metadata": {},
     "output_type": "execute_result"
    }
   ],
   "source": [
    "NMI['gender']"
   ]
  },
  {
   "cell_type": "code",
   "execution_count": 563,
   "id": "2b779ddb-3097-48ad-a496-8275017dec3b",
   "metadata": {},
   "outputs": [
    {
     "data": {
      "text/plain": [
       "gender              0.000124\n",
       "SeniorCitizen       0.017886\n",
       "Partner             0.020243\n",
       "Dependents          0.020756\n",
       "PhoneService       -0.000204\n",
       "MultipleLines       0.000408\n",
       "InternetService     0.066326\n",
       "OnlineSecurity      0.087874\n",
       "OnlineBackup        0.058442\n",
       "DeviceProtection    0.057410\n",
       "TechSupport         0.081413\n",
       "StreamingTV         0.040182\n",
       "StreamingMovies     0.040675\n",
       "Contract            0.124402\n",
       "PaperlessBilling    0.028886\n",
       "PaymentMethod       0.047140\n",
       "dtype: float64"
      ]
     },
     "execution_count": 563,
     "metadata": {},
     "output_type": "execute_result"
    }
   ],
   "source": [
    "AMI = pd.Series(0, index=category_cols)\n",
    "\n",
    "for col in category_cols:\n",
    "    AMI[col] = adjusted_mutual_info_score(X_train_OE[col], y_train)\n",
    "\n",
    "AMI"
   ]
  },
  {
   "cell_type": "markdown",
   "id": "aea31510-f6f1-44b4-a91c-6d71cfeaa8cf",
   "metadata": {},
   "source": [
    "&emsp;&emsp;至此，我们就完整介绍了不带入模型情况下所有的特征筛选方法。"
   ]
  }
 ],
 "metadata": {
  "kernelspec": {
   "display_name": "Python 3 (ipykernel)",
   "language": "python",
   "name": "python3"
  },
  "language_info": {
   "codemirror_mode": {
    "name": "ipython",
    "version": 3
   },
   "file_extension": ".py",
   "mimetype": "text/x-python",
   "name": "python",
   "nbconvert_exporter": "python",
   "pygments_lexer": "ipython3",
   "version": "3.10.9"
  }
 },
 "nbformat": 4,
 "nbformat_minor": 5
}
