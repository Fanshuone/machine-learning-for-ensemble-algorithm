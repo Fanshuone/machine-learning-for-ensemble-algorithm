{
 "cells": [
  {
   "cell_type": "markdown",
   "id": "67af6d26",
   "metadata": {
    "tags": []
   },
   "source": [
    "# <center> 【Kaggle】Telco Customer Churn 电信用户流失预测案例"
   ]
  },
  {
   "cell_type": "markdown",
   "id": "8016a6e4",
   "metadata": {},
   "source": [
    "## <font face=\"仿宋\">第三部分导读"
   ]
  },
  {
   "cell_type": "markdown",
   "id": "0623a24d",
   "metadata": {},
   "source": [
    "&emsp;&emsp;<font face=\"仿宋\">在案例的第二部分中，我们详细介绍了常用特征转化方法，其中有些是模型训练之必须，如自然数编码、独热编码，而有些方法则是以提高数据质量为核心、在大多数时候都是作为模型优化的备选方法，如连续变量分箱、数据标准化等。当然，在此之后，我们首先尝试构建一些可解释性较强的模型来进行用户流失预测，即采用逻辑回归和决策树模型来进行预测，并同时详细介绍了两种模型在实战中的调优技巧，在最终模型训练完成后，我们也重点讨论了关于两种可解释性模型建模结果的解释方法。"
   ]
  },
  {
   "cell_type": "markdown",
   "id": "d73054c0",
   "metadata": {},
   "source": [
    "&emsp;&emsp;<font face=\"仿宋\">从理论上来说，树模型的判别能力是要强于逻辑回归的，但在上一节最后的建模结果中我们发现两个模型的建模并无显著差别，预测准确率都维持在79%-80%之间，这或许说明很多逻辑回归无法正确判别的样本决策树模型也无法判别，据此我们推测，这是一个“入门容易、精通较难”的数据集。当然，如果我们进一步尝试其他“更强”的集成学习算法，如随机森林、XGB、CatBoost等，在当前数据集上的建模结果和逻辑回归也并无太大差异，因此我们亟需通过特征工程方法进一步提升数据集质量，进而提升最终模型效果。"
   ]
  },
  {
   "cell_type": "markdown",
   "id": "96cb0e3f",
   "metadata": {},
   "source": [
    "&emsp;&emsp;<font face=\"仿宋\">当然，哪怕是复杂模型在当前数据集上表现出了更好的效果，采用特征工程方法提升数据质量仍是优化建模结果必不可少的部分，正如时下流行的描述那样，“数据质量决定模型上界，而建模过程只是不断逼近这个上界”，特征工程中的一系列提高数据质量的方法、无论是在工业界实践中还是各大顶级竞赛里，都已然成了最为重要的提升模型效果的手段。"
   ]
  },
  {
   "cell_type": "markdown",
   "id": "c274fce0",
   "metadata": {},
   "source": [
    "<center><img src=\"https://tva1.sinaimg.cn/large/008i3skNly1gwllgk4wgqj31hr0u0wh4.jpg\" alt=\"image-20211112170651500\" style=\"zoom:15%;\" />"
   ]
  },
  {
   "cell_type": "markdown",
   "id": "0ed48505",
   "metadata": {},
   "source": [
    "&emsp;&emsp;<font face=\"仿宋\">不过，所谓的通过特征工程方法提高数据质量，看似简单但实际操作起来却并不容易。其难点并不在于其中具体操作方法的理解，至少相比机器学习算法原理，特征工程的很多方法并不复杂，特征工程的最大难点在于配合模型与数据进行方法选择、以及各种方法的工程化部署实现。一方面，特征工程方法众多，需要根据实际情况“因地制宜”，但数据的情况千变万化，很多时候需要同时结合数据探索结论、建模人员自身经验以及对各种备选方法的熟悉程度，才能快速制定行之有效的特征工程策略；另一方面，很多特征工程方法不像机器学习算法有现成的库可以直接调用，很多方法、尤其是一些围绕当前数据集的定制方法，需要自己手动实现，而这个过程就对建模人员本身的代码编写能力及工程部署能力提出了更高的要求。总而言之，特征工程是一个实践高度相关的技术，这也是为何课程会在介绍案例的过程中同步介绍特征工程常用方法的原因。"
   ]
  },
  {
   "cell_type": "markdown",
   "id": "43125679",
   "metadata": {},
   "source": [
    "&emsp;&emsp;<font face=\"仿宋\">当然，从宽泛的角度来看，所有围绕数据集的数据调整工作都可以看成是特征工程的一部分，包括此前介绍的缺失值填补、数据编码、特征变换等，这些方法其实都能一定程度提升数据质量，而本节开始，我们将花费一整节的时间来讨论另一类特征工程方法：特征衍生与特征筛选。而该方法通过创建更多特征来提供更多捕捉数据规律的维度，从而提升模型效果。当然特征衍生也是目前公认的最为有效的、能够显著提升数据集质量方法。"
   ]
  },
  {
   "cell_type": "markdown",
   "id": "28241a54",
   "metadata": {},
   "source": [
    "# <center>Part 3.特征衍生与特征筛选"
   ]
  },
  {
   "cell_type": "markdown",
   "id": "e694eb4e",
   "metadata": {},
   "source": [
    "&emsp;&emsp;本阶开始我们将重点讨论特征工程中的特征衍生与特征筛选方法，并借此进一步提升模型效果。首先需要将此前的操作中涉及到的第三方库进行统一的导入："
   ]
  },
  {
   "cell_type": "code",
   "execution_count": 1,
   "id": "990e98d5",
   "metadata": {
    "tags": []
   },
   "outputs": [],
   "source": [
    "# 基础数据科学运算库\n",
    "import numpy as np\n",
    "import pandas as pd\n",
    "\n",
    "# 可视化库\n",
    "import seaborn as sns\n",
    "import matplotlib.pyplot as plt\n",
    "\n",
    "# 时间模块\n",
    "import time\n",
    "\n",
    "# sklearn库\n",
    "# 数据预处理\n",
    "from sklearn import preprocessing\n",
    "from sklearn.compose import ColumnTransformer\n",
    "\n",
    "# 实用函数\n",
    "from sklearn.metrics import accuracy_score, recall_score, precision_score, f1_score, roc_auc_score\n",
    "from sklearn.model_selection import train_test_split\n",
    "\n",
    "# 常用评估器\n",
    "from sklearn.pipeline import make_pipeline\n",
    "from sklearn.linear_model import LogisticRegression\n",
    "from sklearn import tree\n",
    "from sklearn.tree import DecisionTreeClassifier\n",
    "\n",
    "# 网格搜索\n",
    "from sklearn.model_selection import GridSearchCV\n",
    "\n",
    "# 自定义评估器支持模块\n",
    "from sklearn.base import BaseEstimator, TransformerMixin\n",
    "\n",
    "# 自定义模块\n",
    "from telcoFunc import *\n",
    "\n",
    "# re模块相关\n",
    "import inspect, re\n",
    "\n",
    "from tqdm import tqdm\n",
    "import gc"
   ]
  },
  {
   "cell_type": "markdown",
   "id": "19d4e2a4",
   "metadata": {},
   "source": [
    "其中telcoFunc是自定义的模块，其内保存了此前自定义的函数和类，后续新增的函数和类也将逐步写入其中，telcoFunc.py文件随课件提供，需要将其放置于当前ipy文件同一文件夹内才能正常导入。"
   ]
  },
  {
   "cell_type": "markdown",
   "id": "5826f117",
   "metadata": {},
   "source": [
    "&emsp;&emsp;接下来导入数据并执行Part 1中的数据清洗步骤。"
   ]
  },
  {
   "cell_type": "code",
   "execution_count": 2,
   "id": "9ca73710",
   "metadata": {},
   "outputs": [],
   "source": [
    "# 读取数据\n",
    "tcc = pd.read_csv('WA_Fn-UseC_-Telco-Customer-Churn.csv')\n",
    "\n",
    "# 标注连续/离散字段\n",
    "# 离散字段\n",
    "category_cols = ['gender', 'SeniorCitizen', 'Partner', 'Dependents',\n",
    "                'PhoneService', 'MultipleLines', 'InternetService', 'OnlineSecurity', 'OnlineBackup', \n",
    "                'DeviceProtection', 'TechSupport', 'StreamingTV', 'StreamingMovies', 'Contract', 'PaperlessBilling',\n",
    "                'PaymentMethod']\n",
    "\n",
    "# 连续字段\n",
    "numeric_cols = ['tenure', 'MonthlyCharges', 'TotalCharges']\n",
    " \n",
    "# 标签\n",
    "target = 'Churn'\n",
    "\n",
    "# ID列\n",
    "ID_col = 'customerID'\n",
    "\n",
    "# 验证是否划分能完全\n",
    "assert len(category_cols) + len(numeric_cols) + 2 == tcc.shape[1]\n",
    "\n",
    "# 连续字段转化\n",
    "tcc['TotalCharges']= tcc['TotalCharges'].apply(lambda x: x if x!= ' ' else np.nan).astype(float)\n",
    "tcc['MonthlyCharges'] = tcc['MonthlyCharges'].astype(float)\n",
    "\n",
    "# 缺失值填补\n",
    "tcc['TotalCharges'] = tcc['TotalCharges'].fillna(0)\n",
    "\n",
    "# 标签值手动转化 \n",
    "tcc['Churn'].replace(to_replace='Yes', value=1, inplace=True)\n",
    "tcc['Churn'].replace(to_replace='No',  value=0, inplace=True)"
   ]
  },
  {
   "cell_type": "code",
   "execution_count": 3,
   "id": "f7316ae6",
   "metadata": {},
   "outputs": [],
   "source": [
    "features = tcc.drop(columns=[ID_col, target]).copy()\n",
    "labels = tcc['Churn'].copy()"
   ]
  },
  {
   "cell_type": "markdown",
   "id": "1f12164a",
   "metadata": {},
   "source": [
    "接下来即可直接带入数据进行特征衍生。"
   ]
  },
  {
   "cell_type": "markdown",
   "id": "96b4ff62",
   "metadata": {},
   "source": [
    "&emsp;&emsp;接下来，我们对本部分介绍的有特征衍生方法进行汇总及总结。总结分为两部分，其一是对所有定义的函数代码进行汇总，并进一步进行更高层次的封装，以增加一些实用功能、同时简化各函数的调用过程；其二是对不同特征衍生方法应用场景的总结，梳理在不同场景下我们可以考虑执行的特征衍生策略，并最终结合telco数据集完成特征衍生工作。"
   ]
  },
  {
   "cell_type": "markdown",
   "id": "86e793b2",
   "metadata": {
    "tags": []
   },
   "source": [
    "## 六、特征衍生实战"
   ]
  },
  {
   "cell_type": "markdown",
   "id": "3469c41a",
   "metadata": {},
   "source": [
    "&emsp;&emsp;在完成特征衍生方法函数的封装后，接下来，我们考虑尝试调用这些方法，对案例数据集进行特征衍生，并在实践过程中测试衍生特征的实际建模效果。"
   ]
  },
  {
   "cell_type": "markdown",
   "id": "e059a269",
   "metadata": {},
   "source": [
    "#### - 特征衍生的核心矛盾"
   ]
  },
  {
   "cell_type": "markdown",
   "id": "45b051dc",
   "metadata": {},
   "source": [
    "&emsp;&emsp;尽管我们知道特征衍生有效，但很多时候却不知道哪种方法衍生出来的特征有效。并且，由于特征衍生方法众多，而且理论上这些衍生方法只要稍加组合，就能创造“无限”特征，因此这里就会面对一个非常经典的特征衍生难题，即特征衍生效果和特征衍生效率之间如何权衡的问题，也就是说理论上衍生的特征越多、可能有效的衍生特征也越多、特征衍生的最终效果就越好，但特征衍生（以及后续的特征筛选、模型验证）需要耗费大量的算力，我们实际上并不能无止尽的进行尝试，因此，在进行特征衍生之前，我们需要首先考虑的问题就是效果和效率如何权衡的问题。"
   ]
  },
  {
   "cell_type": "markdown",
   "id": "7f4fa06d",
   "metadata": {},
   "source": [
    "> 当然，如果算力没有限制，则可以尽可能在更大的范围内进行特征信息的重组、并且可以朝向无限高阶的范围延展，但一方面我们不可能拥有无限的算力，其二哪怕算力没有限制，对于高阶衍生特征的搜索效率也会伴随着阶数上升而迅速下降（越是高阶衍生的特征、有效信息就越少）。因此，效果和效率的权衡，始终是特征衍生过程无法规避的问题。"
   ]
  },
  {
   "cell_type": "markdown",
   "id": "3ce0bb55",
   "metadata": {},
   "source": [
    "&emsp;&emsp;如何做好效果和效率的平衡？这就需有一些“先验”的判断，找准了特征衍生的思路、选择对了特征衍生的方法，就能在尽可能短的时间内找到最能提升模型效果的衍生特征，反之则事倍而功半。当然，但凡涉及到思路的问题，一般都是需要根据数据的实际情况来判断接下来应该采取的策略，而最终特征衍生效果如何、特征衍生过程执行效率又如何，则是非常算法工程人员实际建模经验的一件事了。"
   ]
  },
  {
   "cell_type": "markdown",
   "id": "bf00e2b6",
   "metadata": {},
   "source": [
    "&emsp;&emsp;正因如此，在后续的案例讲解过程中，我们也将尽可能的尝试更多的方法，帮助大家快速积累实践经验，同时也会尽可能的总结一些特征衍生的思路和框架，帮助大家以更高的效率、找到更好的特征衍生方法。"
   ]
  },
  {
   "cell_type": "code",
   "execution_count": 4,
   "id": "8301931d",
   "metadata": {},
   "outputs": [],
   "source": [
    "# 导入特征衍生模块\n",
    "import features_creation as fc\n",
    "from features_creation import *"
   ]
  },
  {
   "cell_type": "code",
   "execution_count": 5,
   "id": "bb19f47b",
   "metadata": {
    "tags": []
   },
   "outputs": [
    {
     "data": {
      "text/plain": [
       "\u001b[1;31mType:\u001b[0m        module\n",
       "\u001b[1;31mString form:\u001b[0m <module 'features_creation' from 'D:\\\\Work\\\\jupyter\\\\telco\\\\正式课程\\\\features_creation.py'>\n",
       "\u001b[1;31mFile:\u001b[0m        d:\\work\\jupyter\\telco\\正式课程\\features_creation.py\n",
       "\u001b[1;31mDocstring:\u001b[0m  \n",
       "自动化批量特征衍生模块\n",
       "\n",
       "=========================\n",
       "总共分为四个板块：\n",
       "Part 1.相关第三方库\n",
       "Part 2.基本方法实现函数\n",
       "Part 3.高阶函数辅助函数\n",
       "Part 4.高阶函数\n",
       "\n",
       "=========================\n",
       "使用过程中最常调用高阶函数进行批量自动化特征衍生。\n",
       "高阶函数能够区分执行训练集和测试集的特征衍生过程，\n",
       "并且支持测试集特征自动补全、目标编码等额外功能，\n",
       "具体包括：\n",
       "\n",
       "交叉组合特征衍生函数：\n",
       "Cross_Combination\n",
       "\n",
       "多项式特征衍生函数：\n",
       "Polynomial_Features\n",
       "\n",
       "分组统计特征衍生函数：\n",
       "Group_Statistics\n",
       "\n",
       "目标编码函数：\n",
       "Target_Encode\n",
       "\n",
       "时序字段特征衍生函数：\n",
       "timeSeries_Creation\n",
       "\n",
       "NLP特征衍生函数：\n",
       "NLP_Group_Stat\n"
      ]
     },
     "metadata": {},
     "output_type": "display_data"
    }
   ],
   "source": [
    "fc?"
   ]
  },
  {
   "cell_type": "markdown",
   "id": "3510e8b7",
   "metadata": {},
   "source": [
    "#### - 特征衍生的一般顺序"
   ]
  },
  {
   "cell_type": "markdown",
   "id": "a7276b80",
   "metadata": {},
   "source": [
    "&emsp;&emsp;首先，我们可以根据此前讨论的特征衍生方法、以及方法之间的关系，制定一个基本的特征衍生方法应用顺序的基本思路："
   ]
  },
  {
   "cell_type": "markdown",
   "id": "ef408f61",
   "metadata": {},
   "source": [
    "- Stage 1.时序特征衍生"
   ]
  },
  {
   "cell_type": "markdown",
   "id": "f1e7f760",
   "metadata": {},
   "source": [
    "&emsp;&emsp;首先，如果数据集中存在时序数据，我们可以优先考虑对时序数据进行特征衍生。时序特征衍生过程并不需要依赖其他任何特征，且衍生出来的特征可以作为备选特征带入到交叉组合或者分组统计的过程中。"
   ]
  },
  {
   "cell_type": "markdown",
   "id": "0ff43195",
   "metadata": {},
   "source": [
    "- Stage 2.多项式特征衍生"
   ]
  },
  {
   "cell_type": "markdown",
   "id": "b1e0b7cd",
   "metadata": {},
   "source": [
    "&emsp;&emsp;紧接着，我们就需要来进行多项式特征衍生了。多项式特征衍生往往只适用于连续变量或者取值水平较多的有序变量，并且在实际操作过程中，需要注意衍生特征取值大小的问题，如果衍生特征的绝对值过大，则需要进行数据标准化处理。需要注意的是，这里的数据标准化只需针对演变特征进行处理即可，不需要对原始特征进行处理。而具体衍生几阶，一般来说2-3阶都是可以考虑的，如果连续特征较多并且连续特征包括很多有效特征，则可以考虑更高阶的多项式衍生。"
   ]
  },
  {
   "cell_type": "markdown",
   "id": "4261736c",
   "metadata": {},
   "source": [
    "- Stage 3.交叉组合特征衍生"
   ]
  },
  {
   "cell_type": "markdown",
   "id": "08151196",
   "metadata": {},
   "source": [
    "&emsp;&emsp;在完成了时序特征衍生和多项式特征衍生之后，接下来我们看进一步考虑交叉组合特征衍生，并且由于衍生特征的稀疏性会伴随着参与组合的特征数量增加而增加，也就是参与交叉组合的特征越多、衍生特征中有效特征占比越少，因此我们会优先考虑两两交叉组合特征衍生，然后再考虑三三组合、甚至考虑四四组合等。同时需要注意，由于交叉组合本身是一种非常通用且执行效率非常高的特征衍生方法，因此一般情况下，需要针对所有原始离散变量和部分时序衍生字段（分类水平较少的时序衍生字段）进行两两组合，而是否需要进行三三组合，则需要根据两两组合的情况来决定。"
   ]
  },
  {
   "cell_type": "markdown",
   "id": "30993f61",
   "metadata": {},
   "source": [
    "- Stage 4.分组统计特征衍生"
   ]
  },
  {
   "cell_type": "markdown",
   "id": "8d423fdf",
   "metadata": {},
   "source": [
    "&emsp;&emsp;由于很多时候分组统计特征衍生需要依据交叉组合的结果进行分组，所以分组统计特征衍生一般会放在交叉组合特征衍生之后。同时，多项式的衍生特征也可以作为被分组统计的特征，因此往往在交叉组合和多项式特征衍生之后，才会进行分组统计。"
   ]
  },
  {
   "cell_type": "markdown",
   "id": "714d2113",
   "metadata": {},
   "source": [
    "&emsp;&emsp;分组统计特征衍生既是最重要的特征衍生环节（有可能产出非常多的有效特征），同时也是最为复杂的特征衍生环节。对于分组统计特征衍生来说，无论是通常意义的分组统计还是目标编码，最重要的是要找准关键变量（keyCol）。此处关键变量可以是单独的原始变量、也可以是衍生的时序字段、当然也可以双变量（或者多变量）的交叉组合字段。但选取keyCol的过程并不简单，后续我们会在实践过程中详细讨论。"
   ]
  },
  {
   "cell_type": "markdown",
   "id": "0ca92565",
   "metadata": {},
   "source": [
    "&emsp;&emsp;此外，分组统计和目标编码是需要分开的，一般来说我们会在分组统计阶段验证合适的keyCol，而在目标编码阶段直接利用已经挑选好的keyCol进行标签的分组统计。"
   ]
  },
  {
   "cell_type": "markdown",
   "id": "34297139",
   "metadata": {},
   "source": [
    "- Stage 5.NLP特征衍生"
   ]
  },
  {
   "cell_type": "markdown",
   "id": "43867377",
   "metadata": {},
   "source": [
    "&emsp;&emsp;NLP特征衍生也可以看成是分组统计特征衍生的一种拓展形式，当然也并不是所有的数据集都适合进行NLP特征衍生，同时，NLP特征衍生也基本上可以看成是独立于其他方法的单独方法，如果出现了适合NLP特征衍生的情况，单独执行NLP方法即可，并不存在和此前方法过多的交叉，关键在于判定当前数据集是否适合进行NLP特征衍生。"
   ]
  },
  {
   "cell_type": "markdown",
   "id": "181942c5",
   "metadata": {},
   "source": [
    "&emsp;&emsp;接下来，我们就利用此前的Telco数据集来实践上述流程，由于我们现在并未介绍其他特征筛选技术以及更多的集成学习的工业化建模流程，因此特征的筛选过程仍然暂时考虑使用相关系数进行特征有效性评估，并借助此前定义的新特征建模效果判别函数来进行新特征实际效果。"
   ]
  },
  {
   "cell_type": "markdown",
   "id": "15f44522",
   "metadata": {
    "tags": []
   },
   "source": [
    "### 1.特征分析"
   ]
  },
  {
   "cell_type": "markdown",
   "id": "07d04757",
   "metadata": {},
   "source": [
    "&emsp;&emsp;在套用特征衍生方法进行特征衍生之前，我们需要简单回顾数据集特征的基本情况，也就是围绕原始数据集进行特征分析，以梳理特征衍生基本思路、确定整体特征衍生策略。"
   ]
  },
  {
   "cell_type": "markdown",
   "id": "6b44cfd4",
   "metadata": {},
   "source": [
    "<center><img src=\"https://tva1.sinaimg.cn/large/008i3skNly1gvyrhwvl01j30x40u0769.jpg\" alt=\"1\" style=\"zoom:70%;\" />"
   ]
  },
  {
   "cell_type": "markdown",
   "id": "f9a80c08",
   "metadata": {},
   "source": [
    "&emsp;&emsp;数据集并不存在需要多表关联的情况，我们只需要围绕原始表格进行分析即可。一般分析流程是是先从标签和特殊特征入手进行分析。当前数据集的标签是二分类离散变量，因此可以考虑对其进行离散变量的目标编码；同时数据集存在时序特征，尽管是非常粗粒度（也就是精确到月，假设）的时间刻度，但仍然可以进行年、月、季度的周期划分，同时，在关键时间点这块，由于原始时间刻度就是距离起止时间的差值，因此我们只需考虑进一步设置一些淡旺季的关键时间点即可；同时，根据此前的分析，我们不难发现，原始数据集中存在大量相互关联、共同描述类似事件、并且能够相互互补的字段，如人口统计方面的四个字段（性别、年龄、配偶、经济状况）、注册服务信息的若干字段（是否开通在线备份、在线服务、设备安全等）等，这些离散字段都是非常适合采用NLP方法（尤其是TF-IDF）进行特征衍生。"
   ]
  },
  {
   "cell_type": "markdown",
   "id": "66fa9cbf",
   "metadata": {},
   "source": [
    "&emsp;&emsp;然后再看数据集其他特征。整体来说，数据集分类字段较多，因此适合大规模进行交叉组合，同时这些分类字段本身以及一阶交叉组合出来的字段又可以作为分组依据进一步进行分组统计特征衍生。当然，鉴于当前数据集本身的数据量可能并不适合进行大规模高阶特征衍生，因此我们可以考虑先只对连续变量进行extension特征衍生（因为初步判断消费金额可能很大程度代表用户忠诚度），后续是否进一步围绕其他字段进行高阶特征衍生，可以根据进一步分析的结果来判断。"
   ]
  },
  {
   "cell_type": "markdown",
   "id": "a945d638",
   "metadata": {},
   "source": [
    "&emsp;&emsp;最后我们需要回顾一下特征衍生的目标。特征衍生阶段我们希望通过“重组”出更多的特征，来增强特征整体表现、提升模型效果，尽管在这个过程中衍生特征的数量往往是多多益善，但是过多的衍生特征可能也会带来一些问题，比如高阶衍生特征往往信息衰减的比较厉害（也就是高阶衍生的特征可能对模型帮助不大）、并且太多的特征也会对后续特征筛选阶段造成困扰、以及造成维度灾难、增加计算量等问题，因此如何权衡特征数量、特征表现和计算效率，就需要不断的在实践中积累经验了。"
   ]
  },
  {
   "cell_type": "markdown",
   "id": "cdad8222",
   "metadata": {
    "tags": []
   },
   "source": [
    "### 2.时序特征衍生"
   ]
  },
  {
   "cell_type": "markdown",
   "id": "0e51422c",
   "metadata": {},
   "source": [
    "&emsp;&emsp;接下来就需要实际执行特征衍生了，首先是时序特征衍生。时序特征衍生的特征一方面可以和离散变量进行交叉组合（甚至是二阶组合），另一方面也可以作为后续进行分组统计时的分组变量。对于大多数时序字段，我们都可以直接调用timeSeries函数进行时序特征衍生，但telco数据集的时序特征较为特殊，需要按照此前介绍的方法，手动创建年、月、日和所属季度的特征。"
   ]
  },
  {
   "cell_type": "markdown",
   "id": "9e460d71",
   "metadata": {},
   "source": [
    "- 时序特征衍生"
   ]
  },
  {
   "cell_type": "markdown",
   "id": "d09dc2ad",
   "metadata": {},
   "source": [
    "&emsp;&emsp;首先，出于更加严谨的建模流程考虑，此处我们需要进行训练集和测试集的划分："
   ]
  },
  {
   "cell_type": "code",
   "execution_count": 6,
   "id": "758c4690",
   "metadata": {},
   "outputs": [],
   "source": [
    "train, test = train_test_split(tcc, random_state=22)"
   ]
  },
  {
   "cell_type": "code",
   "execution_count": 7,
   "id": "7aa8f982",
   "metadata": {},
   "outputs": [],
   "source": [
    "X_train = train.drop(columns=[ID_col, target]).copy()\n",
    "X_test = test.drop(columns=[ID_col, target]).copy()\n",
    "\n",
    "y_train = train['Churn'].copy()\n",
    "y_test = test['Churn'].copy()"
   ]
  },
  {
   "cell_type": "code",
   "execution_count": 8,
   "id": "981956bd",
   "metadata": {},
   "outputs": [
    {
     "data": {
      "text/html": [
       "<div>\n",
       "<style scoped>\n",
       "    .dataframe tbody tr th:only-of-type {\n",
       "        vertical-align: middle;\n",
       "    }\n",
       "\n",
       "    .dataframe tbody tr th {\n",
       "        vertical-align: top;\n",
       "    }\n",
       "\n",
       "    .dataframe thead th {\n",
       "        text-align: right;\n",
       "    }\n",
       "</style>\n",
       "<table border=\"1\" class=\"dataframe\">\n",
       "  <thead>\n",
       "    <tr style=\"text-align: right;\">\n",
       "      <th></th>\n",
       "      <th>gender</th>\n",
       "      <th>SeniorCitizen</th>\n",
       "      <th>Partner</th>\n",
       "      <th>Dependents</th>\n",
       "      <th>tenure</th>\n",
       "      <th>PhoneService</th>\n",
       "      <th>MultipleLines</th>\n",
       "      <th>InternetService</th>\n",
       "      <th>OnlineSecurity</th>\n",
       "      <th>OnlineBackup</th>\n",
       "      <th>DeviceProtection</th>\n",
       "      <th>TechSupport</th>\n",
       "      <th>StreamingTV</th>\n",
       "      <th>StreamingMovies</th>\n",
       "      <th>Contract</th>\n",
       "      <th>PaperlessBilling</th>\n",
       "      <th>PaymentMethod</th>\n",
       "      <th>MonthlyCharges</th>\n",
       "      <th>TotalCharges</th>\n",
       "    </tr>\n",
       "  </thead>\n",
       "  <tbody>\n",
       "    <tr>\n",
       "      <th>4067</th>\n",
       "      <td>Female</td>\n",
       "      <td>0</td>\n",
       "      <td>Yes</td>\n",
       "      <td>No</td>\n",
       "      <td>68</td>\n",
       "      <td>Yes</td>\n",
       "      <td>No</td>\n",
       "      <td>DSL</td>\n",
       "      <td>Yes</td>\n",
       "      <td>Yes</td>\n",
       "      <td>No</td>\n",
       "      <td>Yes</td>\n",
       "      <td>Yes</td>\n",
       "      <td>Yes</td>\n",
       "      <td>Two year</td>\n",
       "      <td>Yes</td>\n",
       "      <td>Bank transfer (automatic)</td>\n",
       "      <td>79.60</td>\n",
       "      <td>5515.80</td>\n",
       "    </tr>\n",
       "    <tr>\n",
       "      <th>3306</th>\n",
       "      <td>Female</td>\n",
       "      <td>0</td>\n",
       "      <td>Yes</td>\n",
       "      <td>Yes</td>\n",
       "      <td>3</td>\n",
       "      <td>Yes</td>\n",
       "      <td>No</td>\n",
       "      <td>Fiber optic</td>\n",
       "      <td>No</td>\n",
       "      <td>Yes</td>\n",
       "      <td>No</td>\n",
       "      <td>Yes</td>\n",
       "      <td>No</td>\n",
       "      <td>No</td>\n",
       "      <td>Month-to-month</td>\n",
       "      <td>Yes</td>\n",
       "      <td>Electronic check</td>\n",
       "      <td>80.00</td>\n",
       "      <td>241.30</td>\n",
       "    </tr>\n",
       "    <tr>\n",
       "      <th>3391</th>\n",
       "      <td>Male</td>\n",
       "      <td>0</td>\n",
       "      <td>No</td>\n",
       "      <td>No</td>\n",
       "      <td>4</td>\n",
       "      <td>Yes</td>\n",
       "      <td>No</td>\n",
       "      <td>No</td>\n",
       "      <td>No internet service</td>\n",
       "      <td>No internet service</td>\n",
       "      <td>No internet service</td>\n",
       "      <td>No internet service</td>\n",
       "      <td>No internet service</td>\n",
       "      <td>No internet service</td>\n",
       "      <td>Month-to-month</td>\n",
       "      <td>No</td>\n",
       "      <td>Mailed check</td>\n",
       "      <td>19.00</td>\n",
       "      <td>73.45</td>\n",
       "    </tr>\n",
       "    <tr>\n",
       "      <th>3249</th>\n",
       "      <td>Female</td>\n",
       "      <td>0</td>\n",
       "      <td>Yes</td>\n",
       "      <td>Yes</td>\n",
       "      <td>10</td>\n",
       "      <td>Yes</td>\n",
       "      <td>No</td>\n",
       "      <td>DSL</td>\n",
       "      <td>No</td>\n",
       "      <td>Yes</td>\n",
       "      <td>Yes</td>\n",
       "      <td>No</td>\n",
       "      <td>No</td>\n",
       "      <td>No</td>\n",
       "      <td>Month-to-month</td>\n",
       "      <td>Yes</td>\n",
       "      <td>Mailed check</td>\n",
       "      <td>55.55</td>\n",
       "      <td>551.30</td>\n",
       "    </tr>\n",
       "    <tr>\n",
       "      <th>2674</th>\n",
       "      <td>Female</td>\n",
       "      <td>1</td>\n",
       "      <td>No</td>\n",
       "      <td>No</td>\n",
       "      <td>4</td>\n",
       "      <td>Yes</td>\n",
       "      <td>No</td>\n",
       "      <td>No</td>\n",
       "      <td>No internet service</td>\n",
       "      <td>No internet service</td>\n",
       "      <td>No internet service</td>\n",
       "      <td>No internet service</td>\n",
       "      <td>No internet service</td>\n",
       "      <td>No internet service</td>\n",
       "      <td>Month-to-month</td>\n",
       "      <td>No</td>\n",
       "      <td>Mailed check</td>\n",
       "      <td>20.05</td>\n",
       "      <td>91.45</td>\n",
       "    </tr>\n",
       "  </tbody>\n",
       "</table>\n",
       "</div>"
      ],
      "text/plain": [
       "      gender  SeniorCitizen Partner Dependents  tenure PhoneService  \\\n",
       "4067  Female              0     Yes         No      68          Yes   \n",
       "3306  Female              0     Yes        Yes       3          Yes   \n",
       "3391    Male              0      No         No       4          Yes   \n",
       "3249  Female              0     Yes        Yes      10          Yes   \n",
       "2674  Female              1      No         No       4          Yes   \n",
       "\n",
       "     MultipleLines InternetService       OnlineSecurity         OnlineBackup  \\\n",
       "4067            No             DSL                  Yes                  Yes   \n",
       "3306            No     Fiber optic                   No                  Yes   \n",
       "3391            No              No  No internet service  No internet service   \n",
       "3249            No             DSL                   No                  Yes   \n",
       "2674            No              No  No internet service  No internet service   \n",
       "\n",
       "         DeviceProtection          TechSupport          StreamingTV  \\\n",
       "4067                   No                  Yes                  Yes   \n",
       "3306                   No                  Yes                   No   \n",
       "3391  No internet service  No internet service  No internet service   \n",
       "3249                  Yes                   No                   No   \n",
       "2674  No internet service  No internet service  No internet service   \n",
       "\n",
       "          StreamingMovies        Contract PaperlessBilling  \\\n",
       "4067                  Yes        Two year              Yes   \n",
       "3306                   No  Month-to-month              Yes   \n",
       "3391  No internet service  Month-to-month               No   \n",
       "3249                   No  Month-to-month              Yes   \n",
       "2674  No internet service  Month-to-month               No   \n",
       "\n",
       "                  PaymentMethod  MonthlyCharges  TotalCharges  \n",
       "4067  Bank transfer (automatic)           79.60       5515.80  \n",
       "3306           Electronic check           80.00        241.30  \n",
       "3391               Mailed check           19.00         73.45  \n",
       "3249               Mailed check           55.55        551.30  \n",
       "2674               Mailed check           20.05         91.45  "
      ]
     },
     "execution_count": 8,
     "metadata": {},
     "output_type": "execute_result"
    }
   ],
   "source": [
    "X_train.head(5)"
   ]
  },
  {
   "cell_type": "code",
   "execution_count": 9,
   "id": "af7b0dff",
   "metadata": {},
   "outputs": [
    {
     "data": {
      "text/plain": [
       "(5282, 19)"
      ]
     },
     "execution_count": 9,
     "metadata": {},
     "output_type": "execute_result"
    }
   ],
   "source": [
    "X_train.shape"
   ]
  },
  {
   "cell_type": "code",
   "execution_count": 10,
   "id": "84628d8f",
   "metadata": {},
   "outputs": [
    {
     "data": {
      "text/plain": [
       "4067    0\n",
       "3306    0\n",
       "3391    0\n",
       "3249    0\n",
       "2674    0\n",
       "       ..\n",
       "5478    0\n",
       "356     0\n",
       "4908    1\n",
       "6276    0\n",
       "2933    0\n",
       "Name: Churn, Length: 5282, dtype: int64"
      ]
     },
     "execution_count": 10,
     "metadata": {},
     "output_type": "execute_result"
    }
   ],
   "source": [
    "y_train"
   ]
  },
  {
   "cell_type": "markdown",
   "id": "5bcc50f3",
   "metadata": {},
   "source": [
    "然后围绕tenure列，进行分训练集和测试集的时序特征衍生："
   ]
  },
  {
   "cell_type": "code",
   "execution_count": 11,
   "id": "f3bb2259",
   "metadata": {},
   "outputs": [],
   "source": [
    "X_train_seq = pd.DataFrame()\n",
    "X_test_seq = pd.DataFrame()"
   ]
  },
  {
   "cell_type": "code",
   "execution_count": 12,
   "id": "01e9c274",
   "metadata": {},
   "outputs": [],
   "source": [
    "# 年份衍生\n",
    "X_train_seq['tenure_year'] = ((72 - X_train['tenure']) // 12) + 2014\n",
    "X_test_seq['tenure_year'] = ((72 - X_test['tenure']) // 12) + 2014"
   ]
  },
  {
   "cell_type": "code",
   "execution_count": 13,
   "id": "3d7bec20",
   "metadata": {},
   "outputs": [
    {
     "data": {
      "text/html": [
       "<div>\n",
       "<style scoped>\n",
       "    .dataframe tbody tr th:only-of-type {\n",
       "        vertical-align: middle;\n",
       "    }\n",
       "\n",
       "    .dataframe tbody tr th {\n",
       "        vertical-align: top;\n",
       "    }\n",
       "\n",
       "    .dataframe thead th {\n",
       "        text-align: right;\n",
       "    }\n",
       "</style>\n",
       "<table border=\"1\" class=\"dataframe\">\n",
       "  <thead>\n",
       "    <tr style=\"text-align: right;\">\n",
       "      <th></th>\n",
       "      <th>tenure_year</th>\n",
       "    </tr>\n",
       "  </thead>\n",
       "  <tbody>\n",
       "    <tr>\n",
       "      <th>4067</th>\n",
       "      <td>2014</td>\n",
       "    </tr>\n",
       "    <tr>\n",
       "      <th>3306</th>\n",
       "      <td>2019</td>\n",
       "    </tr>\n",
       "    <tr>\n",
       "      <th>3391</th>\n",
       "      <td>2019</td>\n",
       "    </tr>\n",
       "    <tr>\n",
       "      <th>3249</th>\n",
       "      <td>2019</td>\n",
       "    </tr>\n",
       "    <tr>\n",
       "      <th>2674</th>\n",
       "      <td>2019</td>\n",
       "    </tr>\n",
       "  </tbody>\n",
       "</table>\n",
       "</div>"
      ],
      "text/plain": [
       "      tenure_year\n",
       "4067         2014\n",
       "3306         2019\n",
       "3391         2019\n",
       "3249         2019\n",
       "2674         2019"
      ]
     },
     "execution_count": 13,
     "metadata": {},
     "output_type": "execute_result"
    }
   ],
   "source": [
    "X_train_seq.head()"
   ]
  },
  {
   "cell_type": "code",
   "execution_count": 14,
   "id": "1a4be274",
   "metadata": {},
   "outputs": [],
   "source": [
    "# 月份衍生\n",
    "X_train_seq['tenure_month'] = (72 - X_train['tenure']) % 12 + 1\n",
    "X_test_seq['tenure_month'] = (72 - X_test['tenure']) % 12 + 1"
   ]
  },
  {
   "cell_type": "code",
   "execution_count": 15,
   "id": "f45cc694",
   "metadata": {},
   "outputs": [
    {
     "data": {
      "text/html": [
       "<div>\n",
       "<style scoped>\n",
       "    .dataframe tbody tr th:only-of-type {\n",
       "        vertical-align: middle;\n",
       "    }\n",
       "\n",
       "    .dataframe tbody tr th {\n",
       "        vertical-align: top;\n",
       "    }\n",
       "\n",
       "    .dataframe thead th {\n",
       "        text-align: right;\n",
       "    }\n",
       "</style>\n",
       "<table border=\"1\" class=\"dataframe\">\n",
       "  <thead>\n",
       "    <tr style=\"text-align: right;\">\n",
       "      <th></th>\n",
       "      <th>tenure_year</th>\n",
       "      <th>tenure_month</th>\n",
       "    </tr>\n",
       "  </thead>\n",
       "  <tbody>\n",
       "    <tr>\n",
       "      <th>4067</th>\n",
       "      <td>2014</td>\n",
       "      <td>5</td>\n",
       "    </tr>\n",
       "    <tr>\n",
       "      <th>3306</th>\n",
       "      <td>2019</td>\n",
       "      <td>10</td>\n",
       "    </tr>\n",
       "    <tr>\n",
       "      <th>3391</th>\n",
       "      <td>2019</td>\n",
       "      <td>9</td>\n",
       "    </tr>\n",
       "    <tr>\n",
       "      <th>3249</th>\n",
       "      <td>2019</td>\n",
       "      <td>3</td>\n",
       "    </tr>\n",
       "    <tr>\n",
       "      <th>2674</th>\n",
       "      <td>2019</td>\n",
       "      <td>9</td>\n",
       "    </tr>\n",
       "  </tbody>\n",
       "</table>\n",
       "</div>"
      ],
      "text/plain": [
       "      tenure_year  tenure_month\n",
       "4067         2014             5\n",
       "3306         2019            10\n",
       "3391         2019             9\n",
       "3249         2019             3\n",
       "2674         2019             9"
      ]
     },
     "execution_count": 15,
     "metadata": {},
     "output_type": "execute_result"
    }
   ],
   "source": [
    "X_train_seq.head()"
   ]
  },
  {
   "cell_type": "code",
   "execution_count": 16,
   "id": "4bbad939",
   "metadata": {},
   "outputs": [],
   "source": [
    "# 季度衍生\n",
    "X_train_seq['tenure_quarter'] = ((X_train_seq['tenure_month']-1) // 3) + 1\n",
    "X_test_seq['tenure_quarter'] = ((X_test_seq['tenure_month']-1) // 3) + 1"
   ]
  },
  {
   "cell_type": "code",
   "execution_count": 17,
   "id": "0a3abf5c",
   "metadata": {},
   "outputs": [
    {
     "data": {
      "text/html": [
       "<div>\n",
       "<style scoped>\n",
       "    .dataframe tbody tr th:only-of-type {\n",
       "        vertical-align: middle;\n",
       "    }\n",
       "\n",
       "    .dataframe tbody tr th {\n",
       "        vertical-align: top;\n",
       "    }\n",
       "\n",
       "    .dataframe thead th {\n",
       "        text-align: right;\n",
       "    }\n",
       "</style>\n",
       "<table border=\"1\" class=\"dataframe\">\n",
       "  <thead>\n",
       "    <tr style=\"text-align: right;\">\n",
       "      <th></th>\n",
       "      <th>tenure_year</th>\n",
       "      <th>tenure_month</th>\n",
       "      <th>tenure_quarter</th>\n",
       "    </tr>\n",
       "  </thead>\n",
       "  <tbody>\n",
       "    <tr>\n",
       "      <th>4067</th>\n",
       "      <td>2014</td>\n",
       "      <td>5</td>\n",
       "      <td>2</td>\n",
       "    </tr>\n",
       "    <tr>\n",
       "      <th>3306</th>\n",
       "      <td>2019</td>\n",
       "      <td>10</td>\n",
       "      <td>4</td>\n",
       "    </tr>\n",
       "    <tr>\n",
       "      <th>3391</th>\n",
       "      <td>2019</td>\n",
       "      <td>9</td>\n",
       "      <td>3</td>\n",
       "    </tr>\n",
       "    <tr>\n",
       "      <th>3249</th>\n",
       "      <td>2019</td>\n",
       "      <td>3</td>\n",
       "      <td>1</td>\n",
       "    </tr>\n",
       "    <tr>\n",
       "      <th>2674</th>\n",
       "      <td>2019</td>\n",
       "      <td>9</td>\n",
       "      <td>3</td>\n",
       "    </tr>\n",
       "  </tbody>\n",
       "</table>\n",
       "</div>"
      ],
      "text/plain": [
       "      tenure_year  tenure_month  tenure_quarter\n",
       "4067         2014             5               2\n",
       "3306         2019            10               4\n",
       "3391         2019             9               3\n",
       "3249         2019             3               1\n",
       "2674         2019             9               3"
      ]
     },
     "execution_count": 17,
     "metadata": {},
     "output_type": "execute_result"
    }
   ],
   "source": [
    "X_train_seq.head()"
   ]
  },
  {
   "cell_type": "markdown",
   "id": "b6d1ef52",
   "metadata": {},
   "source": [
    "然后进行独热编码："
   ]
  },
  {
   "cell_type": "code",
   "execution_count": 18,
   "id": "a16cf2ab",
   "metadata": {},
   "outputs": [
    {
     "data": {
      "text/plain": [
       "OneHotEncoder()"
      ]
     },
     "execution_count": 18,
     "metadata": {},
     "output_type": "execute_result"
    }
   ],
   "source": [
    "enc = preprocessing.OneHotEncoder()\n",
    "enc.fit(X_train_seq)"
   ]
  },
  {
   "cell_type": "code",
   "execution_count": 19,
   "id": "a68722b3",
   "metadata": {},
   "outputs": [],
   "source": [
    "seq_new = list(X_train_seq.columns)"
   ]
  },
  {
   "cell_type": "code",
   "execution_count": 20,
   "id": "866c864a",
   "metadata": {},
   "outputs": [
    {
     "data": {
      "text/html": [
       "<div>\n",
       "<style scoped>\n",
       "    .dataframe tbody tr th:only-of-type {\n",
       "        vertical-align: middle;\n",
       "    }\n",
       "\n",
       "    .dataframe tbody tr th {\n",
       "        vertical-align: top;\n",
       "    }\n",
       "\n",
       "    .dataframe thead th {\n",
       "        text-align: right;\n",
       "    }\n",
       "</style>\n",
       "<table border=\"1\" class=\"dataframe\">\n",
       "  <thead>\n",
       "    <tr style=\"text-align: right;\">\n",
       "      <th></th>\n",
       "      <th>tenure_year_2014</th>\n",
       "      <th>tenure_year_2015</th>\n",
       "      <th>tenure_year_2016</th>\n",
       "      <th>tenure_year_2017</th>\n",
       "      <th>tenure_year_2018</th>\n",
       "      <th>tenure_year_2019</th>\n",
       "      <th>tenure_year_2020</th>\n",
       "      <th>tenure_month_1</th>\n",
       "      <th>tenure_month_2</th>\n",
       "      <th>tenure_month_3</th>\n",
       "      <th>...</th>\n",
       "      <th>tenure_month_7</th>\n",
       "      <th>tenure_month_8</th>\n",
       "      <th>tenure_month_9</th>\n",
       "      <th>tenure_month_10</th>\n",
       "      <th>tenure_month_11</th>\n",
       "      <th>tenure_month_12</th>\n",
       "      <th>tenure_quarter_1</th>\n",
       "      <th>tenure_quarter_2</th>\n",
       "      <th>tenure_quarter_3</th>\n",
       "      <th>tenure_quarter_4</th>\n",
       "    </tr>\n",
       "  </thead>\n",
       "  <tbody>\n",
       "    <tr>\n",
       "      <th>0</th>\n",
       "      <td>1.0</td>\n",
       "      <td>0.0</td>\n",
       "      <td>0.0</td>\n",
       "      <td>0.0</td>\n",
       "      <td>0.0</td>\n",
       "      <td>0.0</td>\n",
       "      <td>0.0</td>\n",
       "      <td>0.0</td>\n",
       "      <td>0.0</td>\n",
       "      <td>0.0</td>\n",
       "      <td>...</td>\n",
       "      <td>0.0</td>\n",
       "      <td>0.0</td>\n",
       "      <td>0.0</td>\n",
       "      <td>0.0</td>\n",
       "      <td>0.0</td>\n",
       "      <td>0.0</td>\n",
       "      <td>0.0</td>\n",
       "      <td>1.0</td>\n",
       "      <td>0.0</td>\n",
       "      <td>0.0</td>\n",
       "    </tr>\n",
       "    <tr>\n",
       "      <th>1</th>\n",
       "      <td>0.0</td>\n",
       "      <td>0.0</td>\n",
       "      <td>0.0</td>\n",
       "      <td>0.0</td>\n",
       "      <td>0.0</td>\n",
       "      <td>1.0</td>\n",
       "      <td>0.0</td>\n",
       "      <td>0.0</td>\n",
       "      <td>0.0</td>\n",
       "      <td>0.0</td>\n",
       "      <td>...</td>\n",
       "      <td>0.0</td>\n",
       "      <td>0.0</td>\n",
       "      <td>0.0</td>\n",
       "      <td>1.0</td>\n",
       "      <td>0.0</td>\n",
       "      <td>0.0</td>\n",
       "      <td>0.0</td>\n",
       "      <td>0.0</td>\n",
       "      <td>0.0</td>\n",
       "      <td>1.0</td>\n",
       "    </tr>\n",
       "    <tr>\n",
       "      <th>2</th>\n",
       "      <td>0.0</td>\n",
       "      <td>0.0</td>\n",
       "      <td>0.0</td>\n",
       "      <td>0.0</td>\n",
       "      <td>0.0</td>\n",
       "      <td>1.0</td>\n",
       "      <td>0.0</td>\n",
       "      <td>0.0</td>\n",
       "      <td>0.0</td>\n",
       "      <td>0.0</td>\n",
       "      <td>...</td>\n",
       "      <td>0.0</td>\n",
       "      <td>0.0</td>\n",
       "      <td>1.0</td>\n",
       "      <td>0.0</td>\n",
       "      <td>0.0</td>\n",
       "      <td>0.0</td>\n",
       "      <td>0.0</td>\n",
       "      <td>0.0</td>\n",
       "      <td>1.0</td>\n",
       "      <td>0.0</td>\n",
       "    </tr>\n",
       "    <tr>\n",
       "      <th>3</th>\n",
       "      <td>0.0</td>\n",
       "      <td>0.0</td>\n",
       "      <td>0.0</td>\n",
       "      <td>0.0</td>\n",
       "      <td>0.0</td>\n",
       "      <td>1.0</td>\n",
       "      <td>0.0</td>\n",
       "      <td>0.0</td>\n",
       "      <td>0.0</td>\n",
       "      <td>1.0</td>\n",
       "      <td>...</td>\n",
       "      <td>0.0</td>\n",
       "      <td>0.0</td>\n",
       "      <td>0.0</td>\n",
       "      <td>0.0</td>\n",
       "      <td>0.0</td>\n",
       "      <td>0.0</td>\n",
       "      <td>1.0</td>\n",
       "      <td>0.0</td>\n",
       "      <td>0.0</td>\n",
       "      <td>0.0</td>\n",
       "    </tr>\n",
       "    <tr>\n",
       "      <th>4</th>\n",
       "      <td>0.0</td>\n",
       "      <td>0.0</td>\n",
       "      <td>0.0</td>\n",
       "      <td>0.0</td>\n",
       "      <td>0.0</td>\n",
       "      <td>1.0</td>\n",
       "      <td>0.0</td>\n",
       "      <td>0.0</td>\n",
       "      <td>0.0</td>\n",
       "      <td>0.0</td>\n",
       "      <td>...</td>\n",
       "      <td>0.0</td>\n",
       "      <td>0.0</td>\n",
       "      <td>1.0</td>\n",
       "      <td>0.0</td>\n",
       "      <td>0.0</td>\n",
       "      <td>0.0</td>\n",
       "      <td>0.0</td>\n",
       "      <td>0.0</td>\n",
       "      <td>1.0</td>\n",
       "      <td>0.0</td>\n",
       "    </tr>\n",
       "  </tbody>\n",
       "</table>\n",
       "<p>5 rows × 23 columns</p>\n",
       "</div>"
      ],
      "text/plain": [
       "   tenure_year_2014  tenure_year_2015  tenure_year_2016  tenure_year_2017  \\\n",
       "0               1.0               0.0               0.0               0.0   \n",
       "1               0.0               0.0               0.0               0.0   \n",
       "2               0.0               0.0               0.0               0.0   \n",
       "3               0.0               0.0               0.0               0.0   \n",
       "4               0.0               0.0               0.0               0.0   \n",
       "\n",
       "   tenure_year_2018  tenure_year_2019  tenure_year_2020  tenure_month_1  \\\n",
       "0               0.0               0.0               0.0             0.0   \n",
       "1               0.0               1.0               0.0             0.0   \n",
       "2               0.0               1.0               0.0             0.0   \n",
       "3               0.0               1.0               0.0             0.0   \n",
       "4               0.0               1.0               0.0             0.0   \n",
       "\n",
       "   tenure_month_2  tenure_month_3  ...  tenure_month_7  tenure_month_8  \\\n",
       "0             0.0             0.0  ...             0.0             0.0   \n",
       "1             0.0             0.0  ...             0.0             0.0   \n",
       "2             0.0             0.0  ...             0.0             0.0   \n",
       "3             0.0             1.0  ...             0.0             0.0   \n",
       "4             0.0             0.0  ...             0.0             0.0   \n",
       "\n",
       "   tenure_month_9  tenure_month_10  tenure_month_11  tenure_month_12  \\\n",
       "0             0.0              0.0              0.0              0.0   \n",
       "1             0.0              1.0              0.0              0.0   \n",
       "2             1.0              0.0              0.0              0.0   \n",
       "3             0.0              0.0              0.0              0.0   \n",
       "4             1.0              0.0              0.0              0.0   \n",
       "\n",
       "   tenure_quarter_1  tenure_quarter_2  tenure_quarter_3  tenure_quarter_4  \n",
       "0               0.0               1.0               0.0               0.0  \n",
       "1               0.0               0.0               0.0               1.0  \n",
       "2               0.0               0.0               1.0               0.0  \n",
       "3               1.0               0.0               0.0               0.0  \n",
       "4               0.0               0.0               1.0               0.0  \n",
       "\n",
       "[5 rows x 23 columns]"
      ]
     },
     "execution_count": 20,
     "metadata": {},
     "output_type": "execute_result"
    }
   ],
   "source": [
    "# 创建带有列名称的独热编码之后的df\n",
    "X_train_seq = pd.DataFrame(enc.transform(X_train_seq).toarray(), \n",
    "                           columns = cate_colName(enc, seq_new, drop=None))\n",
    "\n",
    "X_test_seq = pd.DataFrame(enc.transform(X_test_seq).toarray(), \n",
    "                          columns = cate_colName(enc, seq_new, drop=None))\n",
    "\n",
    "\n",
    "X_train_seq.head(5)"
   ]
  },
  {
   "cell_type": "markdown",
   "id": "39e5bee3",
   "metadata": {},
   "source": [
    "这些时序衍生特征的实际效果此前测试过，此处仍然考虑进行相关系数计算："
   ]
  },
  {
   "cell_type": "code",
   "execution_count": 21,
   "id": "9e9af25e",
   "metadata": {},
   "outputs": [],
   "source": [
    "# 首先进行index调整\n",
    "X_train_seq.index = X_train.index\n",
    "X_test_seq.index = X_test.index\n",
    "\n",
    "# 然后进行数据集拼接\n",
    "df_temp = pd.concat([X_train_seq, y_train], axis=1)"
   ]
  },
  {
   "cell_type": "code",
   "execution_count": 22,
   "id": "ae87b181",
   "metadata": {},
   "outputs": [
    {
     "data": {
      "text/html": [
       "<div>\n",
       "<style scoped>\n",
       "    .dataframe tbody tr th:only-of-type {\n",
       "        vertical-align: middle;\n",
       "    }\n",
       "\n",
       "    .dataframe tbody tr th {\n",
       "        vertical-align: top;\n",
       "    }\n",
       "\n",
       "    .dataframe thead th {\n",
       "        text-align: right;\n",
       "    }\n",
       "</style>\n",
       "<table border=\"1\" class=\"dataframe\">\n",
       "  <thead>\n",
       "    <tr style=\"text-align: right;\">\n",
       "      <th></th>\n",
       "      <th>tenure_year_2014</th>\n",
       "      <th>tenure_year_2015</th>\n",
       "      <th>tenure_year_2016</th>\n",
       "      <th>tenure_year_2017</th>\n",
       "      <th>tenure_year_2018</th>\n",
       "      <th>tenure_year_2019</th>\n",
       "      <th>tenure_year_2020</th>\n",
       "      <th>tenure_month_1</th>\n",
       "      <th>tenure_month_2</th>\n",
       "      <th>tenure_month_3</th>\n",
       "      <th>...</th>\n",
       "      <th>tenure_month_8</th>\n",
       "      <th>tenure_month_9</th>\n",
       "      <th>tenure_month_10</th>\n",
       "      <th>tenure_month_11</th>\n",
       "      <th>tenure_month_12</th>\n",
       "      <th>tenure_quarter_1</th>\n",
       "      <th>tenure_quarter_2</th>\n",
       "      <th>tenure_quarter_3</th>\n",
       "      <th>tenure_quarter_4</th>\n",
       "      <th>Churn</th>\n",
       "    </tr>\n",
       "  </thead>\n",
       "  <tbody>\n",
       "    <tr>\n",
       "      <th>4067</th>\n",
       "      <td>1.0</td>\n",
       "      <td>0.0</td>\n",
       "      <td>0.0</td>\n",
       "      <td>0.0</td>\n",
       "      <td>0.0</td>\n",
       "      <td>0.0</td>\n",
       "      <td>0.0</td>\n",
       "      <td>0.0</td>\n",
       "      <td>0.0</td>\n",
       "      <td>0.0</td>\n",
       "      <td>...</td>\n",
       "      <td>0.0</td>\n",
       "      <td>0.0</td>\n",
       "      <td>0.0</td>\n",
       "      <td>0.0</td>\n",
       "      <td>0.0</td>\n",
       "      <td>0.0</td>\n",
       "      <td>1.0</td>\n",
       "      <td>0.0</td>\n",
       "      <td>0.0</td>\n",
       "      <td>0</td>\n",
       "    </tr>\n",
       "    <tr>\n",
       "      <th>3306</th>\n",
       "      <td>0.0</td>\n",
       "      <td>0.0</td>\n",
       "      <td>0.0</td>\n",
       "      <td>0.0</td>\n",
       "      <td>0.0</td>\n",
       "      <td>1.0</td>\n",
       "      <td>0.0</td>\n",
       "      <td>0.0</td>\n",
       "      <td>0.0</td>\n",
       "      <td>0.0</td>\n",
       "      <td>...</td>\n",
       "      <td>0.0</td>\n",
       "      <td>0.0</td>\n",
       "      <td>1.0</td>\n",
       "      <td>0.0</td>\n",
       "      <td>0.0</td>\n",
       "      <td>0.0</td>\n",
       "      <td>0.0</td>\n",
       "      <td>0.0</td>\n",
       "      <td>1.0</td>\n",
       "      <td>0</td>\n",
       "    </tr>\n",
       "    <tr>\n",
       "      <th>3391</th>\n",
       "      <td>0.0</td>\n",
       "      <td>0.0</td>\n",
       "      <td>0.0</td>\n",
       "      <td>0.0</td>\n",
       "      <td>0.0</td>\n",
       "      <td>1.0</td>\n",
       "      <td>0.0</td>\n",
       "      <td>0.0</td>\n",
       "      <td>0.0</td>\n",
       "      <td>0.0</td>\n",
       "      <td>...</td>\n",
       "      <td>0.0</td>\n",
       "      <td>1.0</td>\n",
       "      <td>0.0</td>\n",
       "      <td>0.0</td>\n",
       "      <td>0.0</td>\n",
       "      <td>0.0</td>\n",
       "      <td>0.0</td>\n",
       "      <td>1.0</td>\n",
       "      <td>0.0</td>\n",
       "      <td>0</td>\n",
       "    </tr>\n",
       "    <tr>\n",
       "      <th>3249</th>\n",
       "      <td>0.0</td>\n",
       "      <td>0.0</td>\n",
       "      <td>0.0</td>\n",
       "      <td>0.0</td>\n",
       "      <td>0.0</td>\n",
       "      <td>1.0</td>\n",
       "      <td>0.0</td>\n",
       "      <td>0.0</td>\n",
       "      <td>0.0</td>\n",
       "      <td>1.0</td>\n",
       "      <td>...</td>\n",
       "      <td>0.0</td>\n",
       "      <td>0.0</td>\n",
       "      <td>0.0</td>\n",
       "      <td>0.0</td>\n",
       "      <td>0.0</td>\n",
       "      <td>1.0</td>\n",
       "      <td>0.0</td>\n",
       "      <td>0.0</td>\n",
       "      <td>0.0</td>\n",
       "      <td>0</td>\n",
       "    </tr>\n",
       "    <tr>\n",
       "      <th>2674</th>\n",
       "      <td>0.0</td>\n",
       "      <td>0.0</td>\n",
       "      <td>0.0</td>\n",
       "      <td>0.0</td>\n",
       "      <td>0.0</td>\n",
       "      <td>1.0</td>\n",
       "      <td>0.0</td>\n",
       "      <td>0.0</td>\n",
       "      <td>0.0</td>\n",
       "      <td>0.0</td>\n",
       "      <td>...</td>\n",
       "      <td>0.0</td>\n",
       "      <td>1.0</td>\n",
       "      <td>0.0</td>\n",
       "      <td>0.0</td>\n",
       "      <td>0.0</td>\n",
       "      <td>0.0</td>\n",
       "      <td>0.0</td>\n",
       "      <td>1.0</td>\n",
       "      <td>0.0</td>\n",
       "      <td>0</td>\n",
       "    </tr>\n",
       "  </tbody>\n",
       "</table>\n",
       "<p>5 rows × 24 columns</p>\n",
       "</div>"
      ],
      "text/plain": [
       "      tenure_year_2014  tenure_year_2015  tenure_year_2016  tenure_year_2017  \\\n",
       "4067               1.0               0.0               0.0               0.0   \n",
       "3306               0.0               0.0               0.0               0.0   \n",
       "3391               0.0               0.0               0.0               0.0   \n",
       "3249               0.0               0.0               0.0               0.0   \n",
       "2674               0.0               0.0               0.0               0.0   \n",
       "\n",
       "      tenure_year_2018  tenure_year_2019  tenure_year_2020  tenure_month_1  \\\n",
       "4067               0.0               0.0               0.0             0.0   \n",
       "3306               0.0               1.0               0.0             0.0   \n",
       "3391               0.0               1.0               0.0             0.0   \n",
       "3249               0.0               1.0               0.0             0.0   \n",
       "2674               0.0               1.0               0.0             0.0   \n",
       "\n",
       "      tenure_month_2  tenure_month_3  ...  tenure_month_8  tenure_month_9  \\\n",
       "4067             0.0             0.0  ...             0.0             0.0   \n",
       "3306             0.0             0.0  ...             0.0             0.0   \n",
       "3391             0.0             0.0  ...             0.0             1.0   \n",
       "3249             0.0             1.0  ...             0.0             0.0   \n",
       "2674             0.0             0.0  ...             0.0             1.0   \n",
       "\n",
       "      tenure_month_10  tenure_month_11  tenure_month_12  tenure_quarter_1  \\\n",
       "4067              0.0              0.0              0.0               0.0   \n",
       "3306              1.0              0.0              0.0               0.0   \n",
       "3391              0.0              0.0              0.0               0.0   \n",
       "3249              0.0              0.0              0.0               1.0   \n",
       "2674              0.0              0.0              0.0               0.0   \n",
       "\n",
       "      tenure_quarter_2  tenure_quarter_3  tenure_quarter_4  Churn  \n",
       "4067               1.0               0.0               0.0      0  \n",
       "3306               0.0               0.0               1.0      0  \n",
       "3391               0.0               1.0               0.0      0  \n",
       "3249               0.0               0.0               0.0      0  \n",
       "2674               0.0               1.0               0.0      0  \n",
       "\n",
       "[5 rows x 24 columns]"
      ]
     },
     "execution_count": 22,
     "metadata": {},
     "output_type": "execute_result"
    }
   ],
   "source": [
    "df_temp.head()"
   ]
  },
  {
   "cell_type": "markdown",
   "id": "f3a00908",
   "metadata": {},
   "source": [
    "- 时序特征效果验证"
   ]
  },
  {
   "cell_type": "markdown",
   "id": "f4ec90fa",
   "metadata": {},
   "source": [
    "&emsp;&emsp;和此前一样，我们可以先通过相关系数，简单验证衍生的时序特征和标签之间的关系："
   ]
  },
  {
   "cell_type": "code",
   "execution_count": 23,
   "id": "16b843a2",
   "metadata": {},
   "outputs": [],
   "source": [
    "df_corr = df_temp.corr()['Churn'].sort_values(ascending = False)"
   ]
  },
  {
   "cell_type": "code",
   "execution_count": 24,
   "id": "cbde1cab",
   "metadata": {},
   "outputs": [
    {
     "data": {
      "text/plain": [
       "Churn               1.000000\n",
       "tenure_year_2019    0.320558\n",
       "tenure_quarter_4    0.201279\n",
       "tenure_month_12     0.196918\n",
       "tenure_month_11     0.048933\n",
       "tenure_month_10     0.036697\n",
       "tenure_year_2018    0.025471\n",
       "tenure_month_9      0.017106\n",
       "tenure_month_8      0.002575\n",
       "tenure_quarter_3    0.000518\n",
       "tenure_month_6     -0.018544\n",
       "tenure_month_3     -0.019293\n",
       "tenure_month_7     -0.019341\n",
       "tenure_year_2020   -0.025913\n",
       "tenure_month_4     -0.035117\n",
       "tenure_year_2017   -0.038261\n",
       "tenure_month_5     -0.047308\n",
       "tenure_quarter_2   -0.062907\n",
       "tenure_year_2016   -0.065928\n",
       "tenure_month_2     -0.082142\n",
       "tenure_year_2015   -0.100355\n",
       "tenure_month_1     -0.131205\n",
       "tenure_quarter_1   -0.155000\n",
       "tenure_year_2014   -0.227663\n",
       "Name: Churn, dtype: float64"
      ]
     },
     "execution_count": 24,
     "metadata": {},
     "output_type": "execute_result"
    }
   ],
   "source": [
    "df_corr"
   ]
  },
  {
   "cell_type": "markdown",
   "id": "2cef0a46",
   "metadata": {},
   "source": [
    "挑选前两个相关系数最高的特征进行测试。这里我们仍然考虑使用features_test函数进行测试，唯一需要注意的是此时我们是划分了训练集和测试集的数据，因此需要简单修改原始的features_test函数，使其能够分别处理训练数据和测试数据："
   ]
  },
  {
   "cell_type": "code",
   "execution_count": 25,
   "id": "392a9dfd",
   "metadata": {},
   "outputs": [],
   "source": [
    "def features_test(features_train_new,\n",
    "                  features_test_new,\n",
    "                  X_train, \n",
    "                  X_test, \n",
    "                  y_train, \n",
    "                  y_test, \n",
    "                  category_cols, \n",
    "                  numeric_cols):\n",
    "    \"\"\"\n",
    "    新特征测试函数\n",
    "    \n",
    "    :param features_train_new: 训练集衍生特征\n",
    "    :param features_test_new: 测试集衍生特征\n",
    "    :param X_train: 训练集特征\n",
    "    :param X_test: 测试集特征\n",
    "    :param y_train: 训练集标签\n",
    "    :param y_test: 测试集标签   \n",
    "    :param category_cols: 离散列名称\n",
    "    :param numeric_cols: 连续列名称\n",
    "    :return: result_df评估指标\n",
    "    \"\"\"\n",
    "    \n",
    "    # 数据准备\n",
    "    # 如果是一个衍生特征，则将其转化为series\n",
    "    if type(features_train_new) == np.ndarray:\n",
    "        name = 'features_train_new'\n",
    "        features_train_new = pd.Series(features_train_new, name=name)\n",
    "        \n",
    "    if type(features_test_new) == np.ndarray:\n",
    "        name = 'features_test_new'\n",
    "        features_test_new = pd.Series(features_test_new, name=name)    \n",
    "    \n",
    "    # 复制里散列、连续列的列名称\n",
    "    category_cols = category_cols.copy()\n",
    "    numeric_cols = numeric_cols.copy()\n",
    "\n",
    "    # 修改衍生特征矩阵的index\n",
    "    features_train_new.index = X_train.index\n",
    "    features_test_new.index = X_test.index\n",
    "    \n",
    "    # 将衍生特征和原始特征进行拼接\n",
    "    X_train = pd.concat([X_train, features_train_new], axis=1)\n",
    "    X_test = pd.concat([X_test, features_test_new], axis=1)\n",
    "    \n",
    "    # 判断衍生特征是连续还是离散\n",
    "    if type(features_train_new) == pd.DataFrame:\n",
    "        for col in features_train_new:\n",
    "            if features_train_new[col].nunique() >= 15:\n",
    "                numeric_cols.append(col)\n",
    "            else:\n",
    "                category_cols.append(col)\n",
    "    \n",
    "    else:\n",
    "        if features_train_new.nunique() >= 15:\n",
    "            numeric_cols.append(name)\n",
    "        else:\n",
    "            category_cols.append(name)\n",
    "\n",
    "        \n",
    "    # print(category_cols)\n",
    "    # 检验列是否划分完全\n",
    "    assert len(category_cols) + len(numeric_cols) == X_train.shape[1]\n",
    "\n",
    "    # 训练部分\n",
    "    # 设置转化器流\n",
    "    logistic_pre = ColumnTransformer([\n",
    "        ('cat', preprocessing.OneHotEncoder(drop='if_binary'), category_cols), \n",
    "        ('num', 'passthrough', numeric_cols)\n",
    "    ])\n",
    "\n",
    "    num_pre = ['passthrough', preprocessing.StandardScaler(), preprocessing.KBinsDiscretizer(n_bins=3, encode='ordinal', strategy='kmeans')]\n",
    "\n",
    "    # 实例化逻辑回归评估器\n",
    "    logistic_model = logit_threshold(max_iter=int(1e8))\n",
    "\n",
    "    # 设置机器学习流\n",
    "    logistic_pipe = make_pipeline(logistic_pre, logistic_model)\n",
    "\n",
    "    # 设置超参数空间\n",
    "    logistic_param = [\n",
    "        {'columntransformer__num':num_pre, 'logit_threshold__penalty': ['l1'], 'logit_threshold__C': np.arange(0.1, 1.1, 0.1).tolist(), 'logit_threshold__solver': ['saga']}, \n",
    "        {'columntransformer__num':num_pre, 'logit_threshold__penalty': ['l2'], 'logit_threshold__C': np.arange(0.1, 1.1, 0.1).tolist(), 'logit_threshold__solver': ['lbfgs', 'newton-cg', 'sag', 'saga']}, \n",
    "    ]\n",
    "\n",
    "    # 实例化网格搜索评估器\n",
    "    logistic_search = GridSearchCV(estimator = logistic_pipe,\n",
    "                                   param_grid = logistic_param,\n",
    "                                   scoring='accuracy',\n",
    "                                   n_jobs = 12)\n",
    "\n",
    "    # 输出时间\n",
    "    s = time.time()\n",
    "    logistic_search.fit(X_train, y_train)\n",
    "    print(time.time()-s, \"s\")\n",
    "\n",
    "    # 计算预测结果\n",
    "    return(logistic_search.best_score_, logistic_search.best_params_)"
   ]
  },
  {
   "cell_type": "markdown",
   "id": "67b6aac0",
   "metadata": {},
   "source": [
    "然后带入相关系数绝对值最高的两个特征进行衍生特征效果测试："
   ]
  },
  {
   "cell_type": "code",
   "execution_count": 26,
   "id": "ce58932f",
   "metadata": {},
   "outputs": [
    {
     "name": "stdout",
     "output_type": "stream",
     "text": [
      "['tenure_year_2019', 'tenure_year_2014']\n",
      "46.666375398635864 s\n"
     ]
    },
    {
     "data": {
      "text/plain": [
       "(0.8097323757919785,\n",
       " {'columntransformer__num': StandardScaler(),\n",
       "  'logit_threshold__C': 0.2,\n",
       "  'logit_threshold__penalty': 'l1',\n",
       "  'logit_threshold__solver': 'saga'})"
      ]
     },
     "execution_count": 26,
     "metadata": {},
     "output_type": "execute_result"
    }
   ],
   "source": [
    "new_col = list(np.abs(df_corr).sort_values(ascending = False)[1: 3].index)\n",
    "print(new_col)\n",
    "\n",
    "train_new_temp = X_train_seq[new_col]\n",
    "test_new_temp = X_test_seq[new_col]\n",
    "\n",
    "features_test(train_new_temp, \n",
    "              test_new_temp, \n",
    "              X_train, \n",
    "              X_test, \n",
    "              y_train, \n",
    "              y_test, \n",
    "              category_cols, \n",
    "              numeric_cols)"
   ]
  },
  {
   "cell_type": "markdown",
   "id": "288729b0",
   "metadata": {},
   "source": [
    "能够发现，单独的时序特征衍生就已经达到了非常好的效果（原数据集情况下交叉验证的平均准确率为0.8042）。"
   ]
  },
  {
   "cell_type": "markdown",
   "id": "80d8e13a",
   "metadata": {
    "tags": []
   },
   "source": [
    "### 3.多项式特征衍生"
   ]
  },
  {
   "cell_type": "markdown",
   "id": "15408af6",
   "metadata": {},
   "source": [
    "&emsp;&emsp;接下来继续尝试进行多项式特征衍生。由于原始数据集较为简单，只有两个连续变量，因此我们只需要考虑这两个变量的多项式计算即可："
   ]
  },
  {
   "cell_type": "code",
   "execution_count": 27,
   "id": "6ed9b685",
   "metadata": {},
   "outputs": [
    {
     "data": {
      "text/plain": [
       "['tenure', 'MonthlyCharges', 'TotalCharges']"
      ]
     },
     "execution_count": 27,
     "metadata": {},
     "output_type": "execute_result"
    }
   ],
   "source": [
    "numeric_cols"
   ]
  },
  {
   "cell_type": "code",
   "execution_count": 28,
   "id": "dc993e67",
   "metadata": {},
   "outputs": [
    {
     "data": {
      "text/plain": [
       "['MonthlyCharges', 'TotalCharges']"
      ]
     },
     "execution_count": 28,
     "metadata": {},
     "output_type": "execute_result"
    }
   ],
   "source": [
    "colNames = ['MonthlyCharges', 'TotalCharges']\n",
    "colNames"
   ]
  },
  {
   "cell_type": "code",
   "execution_count": 29,
   "id": "1a3ec46f",
   "metadata": {},
   "outputs": [
    {
     "data": {
      "text/plain": [
       "\u001b[1;31mSignature:\u001b[0m \u001b[0mPolynomial_Features\u001b[0m\u001b[1;33m(\u001b[0m\u001b[0mcolNames\u001b[0m\u001b[1;33m,\u001b[0m \u001b[0mdegree\u001b[0m\u001b[1;33m,\u001b[0m \u001b[0mX_train\u001b[0m\u001b[1;33m,\u001b[0m \u001b[0mX_test\u001b[0m\u001b[1;33m,\u001b[0m \u001b[0mmulti\u001b[0m\u001b[1;33m=\u001b[0m\u001b[1;32mFalse\u001b[0m\u001b[1;33m)\u001b[0m\u001b[1;33m\u001b[0m\u001b[1;33m\u001b[0m\u001b[0m\n",
       "\u001b[1;31mDocstring:\u001b[0m\n",
       "多项式特征衍生函数\n",
       "\n",
       ":param colNames: 参与交叉衍生的列名称\n",
       ":param degree: 多项式最高阶\n",
       ":param X_train: 训练集特征\n",
       ":param X_test: 测试集特征\n",
       ":param multi: 是否进行多变量多项式组衍生\n",
       "\n",
       ":return：多项式衍生后的新特征和新列名称\n",
       "\u001b[1;31mFile:\u001b[0m      d:\\work\\jupyter\\telco\\正式课程\\features_creation.py\n",
       "\u001b[1;31mType:\u001b[0m      function\n"
      ]
     },
     "metadata": {},
     "output_type": "display_data"
    }
   ],
   "source": [
    "Polynomial_Features?"
   ]
  },
  {
   "cell_type": "code",
   "execution_count": 30,
   "id": "f45215bd",
   "metadata": {},
   "outputs": [],
   "source": [
    "X_train_ply, X_test_ply, colNames_train_new, colNames_test_new = Polynomial_Features(colNames=colNames, \n",
    "                                                                                     degree=3,\n",
    "                                                                                     X_train=X_train, \n",
    "                                                                                     X_test=X_test)"
   ]
  },
  {
   "cell_type": "code",
   "execution_count": 31,
   "id": "94d5ce3b",
   "metadata": {},
   "outputs": [
    {
     "data": {
      "text/html": [
       "<div>\n",
       "<style scoped>\n",
       "    .dataframe tbody tr th:only-of-type {\n",
       "        vertical-align: middle;\n",
       "    }\n",
       "\n",
       "    .dataframe tbody tr th {\n",
       "        vertical-align: top;\n",
       "    }\n",
       "\n",
       "    .dataframe thead th {\n",
       "        text-align: right;\n",
       "    }\n",
       "</style>\n",
       "<table border=\"1\" class=\"dataframe\">\n",
       "  <thead>\n",
       "    <tr style=\"text-align: right;\">\n",
       "      <th></th>\n",
       "      <th>MonthlyCharges**2*TotalCharges**0</th>\n",
       "      <th>MonthlyCharges**1*TotalCharges**1</th>\n",
       "      <th>MonthlyCharges**0*TotalCharges**2</th>\n",
       "      <th>MonthlyCharges**3*TotalCharges**0</th>\n",
       "      <th>MonthlyCharges**2*TotalCharges**1</th>\n",
       "      <th>MonthlyCharges**1*TotalCharges**2</th>\n",
       "      <th>MonthlyCharges**0*TotalCharges**3</th>\n",
       "    </tr>\n",
       "  </thead>\n",
       "  <tbody>\n",
       "    <tr>\n",
       "      <th>0</th>\n",
       "      <td>6336.1600</td>\n",
       "      <td>439057.6800</td>\n",
       "      <td>3.042405e+07</td>\n",
       "      <td>5.043583e+05</td>\n",
       "      <td>3.494899e+07</td>\n",
       "      <td>2.421754e+09</td>\n",
       "      <td>1.678130e+11</td>\n",
       "    </tr>\n",
       "    <tr>\n",
       "      <th>1</th>\n",
       "      <td>6400.0000</td>\n",
       "      <td>19304.0000</td>\n",
       "      <td>5.822569e+04</td>\n",
       "      <td>5.120000e+05</td>\n",
       "      <td>1.544320e+06</td>\n",
       "      <td>4.658055e+06</td>\n",
       "      <td>1.404986e+07</td>\n",
       "    </tr>\n",
       "    <tr>\n",
       "      <th>2</th>\n",
       "      <td>361.0000</td>\n",
       "      <td>1395.5500</td>\n",
       "      <td>5.394903e+03</td>\n",
       "      <td>6.859000e+03</td>\n",
       "      <td>2.651545e+04</td>\n",
       "      <td>1.025031e+05</td>\n",
       "      <td>3.962556e+05</td>\n",
       "    </tr>\n",
       "    <tr>\n",
       "      <th>3</th>\n",
       "      <td>3085.8025</td>\n",
       "      <td>30624.7150</td>\n",
       "      <td>3.039317e+05</td>\n",
       "      <td>1.714163e+05</td>\n",
       "      <td>1.701203e+06</td>\n",
       "      <td>1.688341e+07</td>\n",
       "      <td>1.675575e+08</td>\n",
       "    </tr>\n",
       "    <tr>\n",
       "      <th>4</th>\n",
       "      <td>402.0025</td>\n",
       "      <td>1833.5725</td>\n",
       "      <td>8.363103e+03</td>\n",
       "      <td>8.060150e+03</td>\n",
       "      <td>3.676313e+04</td>\n",
       "      <td>1.676802e+05</td>\n",
       "      <td>7.648057e+05</td>\n",
       "    </tr>\n",
       "    <tr>\n",
       "      <th>...</th>\n",
       "      <td>...</td>\n",
       "      <td>...</td>\n",
       "      <td>...</td>\n",
       "      <td>...</td>\n",
       "      <td>...</td>\n",
       "      <td>...</td>\n",
       "      <td>...</td>\n",
       "    </tr>\n",
       "    <tr>\n",
       "      <th>5277</th>\n",
       "      <td>11299.6900</td>\n",
       "      <td>583268.1000</td>\n",
       "      <td>3.010717e+07</td>\n",
       "      <td>1.201157e+06</td>\n",
       "      <td>6.200140e+07</td>\n",
       "      <td>3.200392e+09</td>\n",
       "      <td>1.651980e+11</td>\n",
       "    </tr>\n",
       "    <tr>\n",
       "      <th>5278</th>\n",
       "      <td>2926.8100</td>\n",
       "      <td>48094.9000</td>\n",
       "      <td>7.903210e+05</td>\n",
       "      <td>1.583404e+05</td>\n",
       "      <td>2.601934e+06</td>\n",
       "      <td>4.275637e+07</td>\n",
       "      <td>7.025954e+08</td>\n",
       "    </tr>\n",
       "    <tr>\n",
       "      <th>5279</th>\n",
       "      <td>11267.8225</td>\n",
       "      <td>334637.8750</td>\n",
       "      <td>9.938256e+06</td>\n",
       "      <td>1.196079e+06</td>\n",
       "      <td>3.552181e+07</td>\n",
       "      <td>1.054946e+09</td>\n",
       "      <td>3.133035e+10</td>\n",
       "    </tr>\n",
       "    <tr>\n",
       "      <th>5280</th>\n",
       "      <td>414.1225</td>\n",
       "      <td>6836.5825</td>\n",
       "      <td>1.128624e+05</td>\n",
       "      <td>8.427393e+03</td>\n",
       "      <td>1.391245e+05</td>\n",
       "      <td>2.296750e+06</td>\n",
       "      <td>3.791612e+07</td>\n",
       "    </tr>\n",
       "    <tr>\n",
       "      <th>5281</th>\n",
       "      <td>576.0000</td>\n",
       "      <td>39943.2000</td>\n",
       "      <td>2.769894e+06</td>\n",
       "      <td>1.382400e+04</td>\n",
       "      <td>9.586368e+05</td>\n",
       "      <td>6.647747e+07</td>\n",
       "      <td>4.609935e+09</td>\n",
       "    </tr>\n",
       "  </tbody>\n",
       "</table>\n",
       "<p>5282 rows × 7 columns</p>\n",
       "</div>"
      ],
      "text/plain": [
       "      MonthlyCharges**2*TotalCharges**0  MonthlyCharges**1*TotalCharges**1  \\\n",
       "0                             6336.1600                        439057.6800   \n",
       "1                             6400.0000                         19304.0000   \n",
       "2                              361.0000                          1395.5500   \n",
       "3                             3085.8025                         30624.7150   \n",
       "4                              402.0025                          1833.5725   \n",
       "...                                 ...                                ...   \n",
       "5277                         11299.6900                        583268.1000   \n",
       "5278                          2926.8100                         48094.9000   \n",
       "5279                         11267.8225                        334637.8750   \n",
       "5280                           414.1225                          6836.5825   \n",
       "5281                           576.0000                         39943.2000   \n",
       "\n",
       "      MonthlyCharges**0*TotalCharges**2  MonthlyCharges**3*TotalCharges**0  \\\n",
       "0                          3.042405e+07                       5.043583e+05   \n",
       "1                          5.822569e+04                       5.120000e+05   \n",
       "2                          5.394903e+03                       6.859000e+03   \n",
       "3                          3.039317e+05                       1.714163e+05   \n",
       "4                          8.363103e+03                       8.060150e+03   \n",
       "...                                 ...                                ...   \n",
       "5277                       3.010717e+07                       1.201157e+06   \n",
       "5278                       7.903210e+05                       1.583404e+05   \n",
       "5279                       9.938256e+06                       1.196079e+06   \n",
       "5280                       1.128624e+05                       8.427393e+03   \n",
       "5281                       2.769894e+06                       1.382400e+04   \n",
       "\n",
       "      MonthlyCharges**2*TotalCharges**1  MonthlyCharges**1*TotalCharges**2  \\\n",
       "0                          3.494899e+07                       2.421754e+09   \n",
       "1                          1.544320e+06                       4.658055e+06   \n",
       "2                          2.651545e+04                       1.025031e+05   \n",
       "3                          1.701203e+06                       1.688341e+07   \n",
       "4                          3.676313e+04                       1.676802e+05   \n",
       "...                                 ...                                ...   \n",
       "5277                       6.200140e+07                       3.200392e+09   \n",
       "5278                       2.601934e+06                       4.275637e+07   \n",
       "5279                       3.552181e+07                       1.054946e+09   \n",
       "5280                       1.391245e+05                       2.296750e+06   \n",
       "5281                       9.586368e+05                       6.647747e+07   \n",
       "\n",
       "      MonthlyCharges**0*TotalCharges**3  \n",
       "0                          1.678130e+11  \n",
       "1                          1.404986e+07  \n",
       "2                          3.962556e+05  \n",
       "3                          1.675575e+08  \n",
       "4                          7.648057e+05  \n",
       "...                                 ...  \n",
       "5277                       1.651980e+11  \n",
       "5278                       7.025954e+08  \n",
       "5279                       3.133035e+10  \n",
       "5280                       3.791612e+07  \n",
       "5281                       4.609935e+09  \n",
       "\n",
       "[5282 rows x 7 columns]"
      ]
     },
     "execution_count": 31,
     "metadata": {},
     "output_type": "execute_result"
    }
   ],
   "source": [
    "X_train_ply"
   ]
  },
  {
   "cell_type": "markdown",
   "id": "42a7260d",
   "metadata": {},
   "source": [
    "然后对其进行数据标准化处理："
   ]
  },
  {
   "cell_type": "code",
   "execution_count": 32,
   "id": "b2bb5278",
   "metadata": {},
   "outputs": [],
   "source": [
    "from sklearn.preprocessing import StandardScaler"
   ]
  },
  {
   "cell_type": "code",
   "execution_count": 33,
   "id": "f6c9bc33",
   "metadata": {},
   "outputs": [
    {
     "data": {
      "text/plain": [
       "StandardScaler()"
      ]
     },
     "execution_count": 33,
     "metadata": {},
     "output_type": "execute_result"
    }
   ],
   "source": [
    "scaler = StandardScaler()\n",
    "scaler.fit(X_train_ply)"
   ]
  },
  {
   "cell_type": "code",
   "execution_count": 34,
   "id": "8dee0eb2",
   "metadata": {},
   "outputs": [
    {
     "data": {
      "text/plain": [
       "array([[ 0.33464874,  1.03533026,  1.24455267, ...,  0.68739317,\n",
       "         0.85860063,  0.94153185],\n",
       "       [ 0.35164345, -0.72233392, -0.63923349, ..., -0.6317181 ,\n",
       "        -0.56737633, -0.50565539],\n",
       "       [-1.25598529, -0.79732324, -0.64251092, ..., -0.69165442,\n",
       "        -0.5700639 , -0.50577314],\n",
       "       ...,\n",
       "       [ 1.64749563,  0.59808585, -0.02631204, ...,  0.71001313,\n",
       "         0.05224576, -0.23556692],\n",
       "       [-1.24184366, -0.77453962, -0.63584403, ..., -0.68720762,\n",
       "        -0.5687694 , -0.50544955],\n",
       "       [-1.19875062, -0.63590995, -0.47101134, ..., -0.65484604,\n",
       "        -0.53090569, -0.46601802]])"
      ]
     },
     "execution_count": 34,
     "metadata": {},
     "output_type": "execute_result"
    }
   ],
   "source": [
    "scaler.transform(X_train_ply)"
   ]
  },
  {
   "cell_type": "code",
   "execution_count": 35,
   "id": "cb15ae1d",
   "metadata": {},
   "outputs": [
    {
     "data": {
      "text/html": [
       "<div>\n",
       "<style scoped>\n",
       "    .dataframe tbody tr th:only-of-type {\n",
       "        vertical-align: middle;\n",
       "    }\n",
       "\n",
       "    .dataframe tbody tr th {\n",
       "        vertical-align: top;\n",
       "    }\n",
       "\n",
       "    .dataframe thead th {\n",
       "        text-align: right;\n",
       "    }\n",
       "</style>\n",
       "<table border=\"1\" class=\"dataframe\">\n",
       "  <thead>\n",
       "    <tr style=\"text-align: right;\">\n",
       "      <th></th>\n",
       "      <th>MonthlyCharges**2*TotalCharges**0</th>\n",
       "      <th>MonthlyCharges**1*TotalCharges**1</th>\n",
       "      <th>MonthlyCharges**0*TotalCharges**2</th>\n",
       "      <th>MonthlyCharges**3*TotalCharges**0</th>\n",
       "      <th>MonthlyCharges**2*TotalCharges**1</th>\n",
       "      <th>MonthlyCharges**1*TotalCharges**2</th>\n",
       "      <th>MonthlyCharges**0*TotalCharges**3</th>\n",
       "    </tr>\n",
       "  </thead>\n",
       "  <tbody>\n",
       "    <tr>\n",
       "      <th>4067</th>\n",
       "      <td>0.334649</td>\n",
       "      <td>1.035330</td>\n",
       "      <td>1.244553</td>\n",
       "      <td>0.159190</td>\n",
       "      <td>0.687393</td>\n",
       "      <td>0.858601</td>\n",
       "      <td>0.941532</td>\n",
       "    </tr>\n",
       "    <tr>\n",
       "      <th>3306</th>\n",
       "      <td>0.351643</td>\n",
       "      <td>-0.722334</td>\n",
       "      <td>-0.639233</td>\n",
       "      <td>0.177696</td>\n",
       "      <td>-0.631718</td>\n",
       "      <td>-0.567376</td>\n",
       "      <td>-0.505655</td>\n",
       "    </tr>\n",
       "    <tr>\n",
       "      <th>3391</th>\n",
       "      <td>-1.255985</td>\n",
       "      <td>-0.797323</td>\n",
       "      <td>-0.642511</td>\n",
       "      <td>-1.045667</td>\n",
       "      <td>-0.691654</td>\n",
       "      <td>-0.570064</td>\n",
       "      <td>-0.505773</td>\n",
       "    </tr>\n",
       "    <tr>\n",
       "      <th>3249</th>\n",
       "      <td>-0.530622</td>\n",
       "      <td>-0.674930</td>\n",
       "      <td>-0.623991</td>\n",
       "      <td>-0.647138</td>\n",
       "      <td>-0.625523</td>\n",
       "      <td>-0.560164</td>\n",
       "      <td>-0.504331</td>\n",
       "    </tr>\n",
       "    <tr>\n",
       "      <th>2674</th>\n",
       "      <td>-1.245070</td>\n",
       "      <td>-0.795489</td>\n",
       "      <td>-0.642327</td>\n",
       "      <td>-1.042758</td>\n",
       "      <td>-0.691250</td>\n",
       "      <td>-0.570025</td>\n",
       "      <td>-0.505770</td>\n",
       "    </tr>\n",
       "  </tbody>\n",
       "</table>\n",
       "</div>"
      ],
      "text/plain": [
       "      MonthlyCharges**2*TotalCharges**0  MonthlyCharges**1*TotalCharges**1  \\\n",
       "4067                           0.334649                           1.035330   \n",
       "3306                           0.351643                          -0.722334   \n",
       "3391                          -1.255985                          -0.797323   \n",
       "3249                          -0.530622                          -0.674930   \n",
       "2674                          -1.245070                          -0.795489   \n",
       "\n",
       "      MonthlyCharges**0*TotalCharges**2  MonthlyCharges**3*TotalCharges**0  \\\n",
       "4067                           1.244553                           0.159190   \n",
       "3306                          -0.639233                           0.177696   \n",
       "3391                          -0.642511                          -1.045667   \n",
       "3249                          -0.623991                          -0.647138   \n",
       "2674                          -0.642327                          -1.042758   \n",
       "\n",
       "      MonthlyCharges**2*TotalCharges**1  MonthlyCharges**1*TotalCharges**2  \\\n",
       "4067                           0.687393                           0.858601   \n",
       "3306                          -0.631718                          -0.567376   \n",
       "3391                          -0.691654                          -0.570064   \n",
       "3249                          -0.625523                          -0.560164   \n",
       "2674                          -0.691250                          -0.570025   \n",
       "\n",
       "      MonthlyCharges**0*TotalCharges**3  \n",
       "4067                           0.941532  \n",
       "3306                          -0.505655  \n",
       "3391                          -0.505773  \n",
       "3249                          -0.504331  \n",
       "2674                          -0.505770  "
      ]
     },
     "execution_count": 35,
     "metadata": {},
     "output_type": "execute_result"
    }
   ],
   "source": [
    "X_train_ply = pd.DataFrame(scaler.transform(X_train_ply), columns=colNames_train_new)\n",
    "X_train_ply.index = X_train.index\n",
    "X_train_ply.head()"
   ]
  },
  {
   "cell_type": "code",
   "execution_count": 36,
   "id": "de8717ac",
   "metadata": {},
   "outputs": [
    {
     "data": {
      "text/html": [
       "<div>\n",
       "<style scoped>\n",
       "    .dataframe tbody tr th:only-of-type {\n",
       "        vertical-align: middle;\n",
       "    }\n",
       "\n",
       "    .dataframe tbody tr th {\n",
       "        vertical-align: top;\n",
       "    }\n",
       "\n",
       "    .dataframe thead th {\n",
       "        text-align: right;\n",
       "    }\n",
       "</style>\n",
       "<table border=\"1\" class=\"dataframe\">\n",
       "  <thead>\n",
       "    <tr style=\"text-align: right;\">\n",
       "      <th></th>\n",
       "      <th>MonthlyCharges**2*TotalCharges**0</th>\n",
       "      <th>MonthlyCharges**1*TotalCharges**1</th>\n",
       "      <th>MonthlyCharges**0*TotalCharges**2</th>\n",
       "      <th>MonthlyCharges**3*TotalCharges**0</th>\n",
       "      <th>MonthlyCharges**2*TotalCharges**1</th>\n",
       "      <th>MonthlyCharges**1*TotalCharges**2</th>\n",
       "      <th>MonthlyCharges**0*TotalCharges**3</th>\n",
       "    </tr>\n",
       "  </thead>\n",
       "  <tbody>\n",
       "    <tr>\n",
       "      <th>6187</th>\n",
       "      <td>-1.244000</td>\n",
       "      <td>-0.789203</td>\n",
       "      <td>-0.641146</td>\n",
       "      <td>-1.042464</td>\n",
       "      <td>-0.690048</td>\n",
       "      <td>-0.569799</td>\n",
       "      <td>-0.505737</td>\n",
       "    </tr>\n",
       "    <tr>\n",
       "      <th>6448</th>\n",
       "      <td>1.563321</td>\n",
       "      <td>1.922314</td>\n",
       "      <td>1.756934</td>\n",
       "      <td>1.713345</td>\n",
       "      <td>1.997069</td>\n",
       "      <td>1.818142</td>\n",
       "      <td>1.569246</td>\n",
       "    </tr>\n",
       "    <tr>\n",
       "      <th>5492</th>\n",
       "      <td>-1.181689</td>\n",
       "      <td>-0.617925</td>\n",
       "      <td>-0.453174</td>\n",
       "      <td>-1.023058</td>\n",
       "      <td>-0.648504</td>\n",
       "      <td>-0.524490</td>\n",
       "      <td>-0.459669</td>\n",
       "    </tr>\n",
       "    <tr>\n",
       "      <th>2028</th>\n",
       "      <td>-1.249820</td>\n",
       "      <td>-0.775952</td>\n",
       "      <td>-0.636024</td>\n",
       "      <td>-1.044043</td>\n",
       "      <td>-0.687671</td>\n",
       "      <td>-0.568853</td>\n",
       "      <td>-0.505462</td>\n",
       "    </tr>\n",
       "    <tr>\n",
       "      <th>5376</th>\n",
       "      <td>-1.201928</td>\n",
       "      <td>-0.760950</td>\n",
       "      <td>-0.631667</td>\n",
       "      <td>-1.029834</td>\n",
       "      <td>-0.683246</td>\n",
       "      <td>-0.567600</td>\n",
       "      <td>-0.505117</td>\n",
       "    </tr>\n",
       "  </tbody>\n",
       "</table>\n",
       "</div>"
      ],
      "text/plain": [
       "      MonthlyCharges**2*TotalCharges**0  MonthlyCharges**1*TotalCharges**1  \\\n",
       "6187                          -1.244000                          -0.789203   \n",
       "6448                           1.563321                           1.922314   \n",
       "5492                          -1.181689                          -0.617925   \n",
       "2028                          -1.249820                          -0.775952   \n",
       "5376                          -1.201928                          -0.760950   \n",
       "\n",
       "      MonthlyCharges**0*TotalCharges**2  MonthlyCharges**3*TotalCharges**0  \\\n",
       "6187                          -0.641146                          -1.042464   \n",
       "6448                           1.756934                           1.713345   \n",
       "5492                          -0.453174                          -1.023058   \n",
       "2028                          -0.636024                          -1.044043   \n",
       "5376                          -0.631667                          -1.029834   \n",
       "\n",
       "      MonthlyCharges**2*TotalCharges**1  MonthlyCharges**1*TotalCharges**2  \\\n",
       "6187                          -0.690048                          -0.569799   \n",
       "6448                           1.997069                           1.818142   \n",
       "5492                          -0.648504                          -0.524490   \n",
       "2028                          -0.687671                          -0.568853   \n",
       "5376                          -0.683246                          -0.567600   \n",
       "\n",
       "      MonthlyCharges**0*TotalCharges**3  \n",
       "6187                          -0.505737  \n",
       "6448                           1.569246  \n",
       "5492                          -0.459669  \n",
       "2028                          -0.505462  \n",
       "5376                          -0.505117  "
      ]
     },
     "execution_count": 36,
     "metadata": {},
     "output_type": "execute_result"
    }
   ],
   "source": [
    "X_test_ply = pd.DataFrame(scaler.transform(X_test_ply), columns=colNames_test_new)\n",
    "X_test_ply.index = X_test.index\n",
    "X_test_ply.head()"
   ]
  },
  {
   "cell_type": "markdown",
   "id": "e5ce761f",
   "metadata": {},
   "source": [
    "接下来测试衍生特征与标签的相关性："
   ]
  },
  {
   "cell_type": "code",
   "execution_count": 37,
   "id": "a195f1be",
   "metadata": {},
   "outputs": [
    {
     "data": {
      "text/html": [
       "<div>\n",
       "<style scoped>\n",
       "    .dataframe tbody tr th:only-of-type {\n",
       "        vertical-align: middle;\n",
       "    }\n",
       "\n",
       "    .dataframe tbody tr th {\n",
       "        vertical-align: top;\n",
       "    }\n",
       "\n",
       "    .dataframe thead th {\n",
       "        text-align: right;\n",
       "    }\n",
       "</style>\n",
       "<table border=\"1\" class=\"dataframe\">\n",
       "  <thead>\n",
       "    <tr style=\"text-align: right;\">\n",
       "      <th></th>\n",
       "      <th>MonthlyCharges**2*TotalCharges**0</th>\n",
       "      <th>MonthlyCharges**1*TotalCharges**1</th>\n",
       "      <th>MonthlyCharges**0*TotalCharges**2</th>\n",
       "      <th>MonthlyCharges**3*TotalCharges**0</th>\n",
       "      <th>MonthlyCharges**2*TotalCharges**1</th>\n",
       "      <th>MonthlyCharges**1*TotalCharges**2</th>\n",
       "      <th>MonthlyCharges**0*TotalCharges**3</th>\n",
       "      <th>Churn</th>\n",
       "    </tr>\n",
       "  </thead>\n",
       "  <tbody>\n",
       "    <tr>\n",
       "      <th>4067</th>\n",
       "      <td>0.334649</td>\n",
       "      <td>1.035330</td>\n",
       "      <td>1.244553</td>\n",
       "      <td>0.159190</td>\n",
       "      <td>0.687393</td>\n",
       "      <td>0.858601</td>\n",
       "      <td>0.941532</td>\n",
       "      <td>0</td>\n",
       "    </tr>\n",
       "    <tr>\n",
       "      <th>3306</th>\n",
       "      <td>0.351643</td>\n",
       "      <td>-0.722334</td>\n",
       "      <td>-0.639233</td>\n",
       "      <td>0.177696</td>\n",
       "      <td>-0.631718</td>\n",
       "      <td>-0.567376</td>\n",
       "      <td>-0.505655</td>\n",
       "      <td>0</td>\n",
       "    </tr>\n",
       "    <tr>\n",
       "      <th>3391</th>\n",
       "      <td>-1.255985</td>\n",
       "      <td>-0.797323</td>\n",
       "      <td>-0.642511</td>\n",
       "      <td>-1.045667</td>\n",
       "      <td>-0.691654</td>\n",
       "      <td>-0.570064</td>\n",
       "      <td>-0.505773</td>\n",
       "      <td>0</td>\n",
       "    </tr>\n",
       "    <tr>\n",
       "      <th>3249</th>\n",
       "      <td>-0.530622</td>\n",
       "      <td>-0.674930</td>\n",
       "      <td>-0.623991</td>\n",
       "      <td>-0.647138</td>\n",
       "      <td>-0.625523</td>\n",
       "      <td>-0.560164</td>\n",
       "      <td>-0.504331</td>\n",
       "      <td>0</td>\n",
       "    </tr>\n",
       "    <tr>\n",
       "      <th>2674</th>\n",
       "      <td>-1.245070</td>\n",
       "      <td>-0.795489</td>\n",
       "      <td>-0.642327</td>\n",
       "      <td>-1.042758</td>\n",
       "      <td>-0.691250</td>\n",
       "      <td>-0.570025</td>\n",
       "      <td>-0.505770</td>\n",
       "      <td>0</td>\n",
       "    </tr>\n",
       "  </tbody>\n",
       "</table>\n",
       "</div>"
      ],
      "text/plain": [
       "      MonthlyCharges**2*TotalCharges**0  MonthlyCharges**1*TotalCharges**1  \\\n",
       "4067                           0.334649                           1.035330   \n",
       "3306                           0.351643                          -0.722334   \n",
       "3391                          -1.255985                          -0.797323   \n",
       "3249                          -0.530622                          -0.674930   \n",
       "2674                          -1.245070                          -0.795489   \n",
       "\n",
       "      MonthlyCharges**0*TotalCharges**2  MonthlyCharges**3*TotalCharges**0  \\\n",
       "4067                           1.244553                           0.159190   \n",
       "3306                          -0.639233                           0.177696   \n",
       "3391                          -0.642511                          -1.045667   \n",
       "3249                          -0.623991                          -0.647138   \n",
       "2674                          -0.642327                          -1.042758   \n",
       "\n",
       "      MonthlyCharges**2*TotalCharges**1  MonthlyCharges**1*TotalCharges**2  \\\n",
       "4067                           0.687393                           0.858601   \n",
       "3306                          -0.631718                          -0.567376   \n",
       "3391                          -0.691654                          -0.570064   \n",
       "3249                          -0.625523                          -0.560164   \n",
       "2674                          -0.691250                          -0.570025   \n",
       "\n",
       "      MonthlyCharges**0*TotalCharges**3  Churn  \n",
       "4067                           0.941532      0  \n",
       "3306                          -0.505655      0  \n",
       "3391                          -0.505773      0  \n",
       "3249                          -0.504331      0  \n",
       "2674                          -0.505770      0  "
      ]
     },
     "execution_count": 37,
     "metadata": {},
     "output_type": "execute_result"
    }
   ],
   "source": [
    "# 然后进行数据集拼接\n",
    "df_temp = pd.concat([X_train_ply, y_train], axis=1)\n",
    "\n",
    "df_temp.head()"
   ]
  },
  {
   "cell_type": "code",
   "execution_count": 38,
   "id": "43d2723c",
   "metadata": {},
   "outputs": [],
   "source": [
    "df_corr = df_temp.corr()['Churn'].sort_values(ascending = False)"
   ]
  },
  {
   "cell_type": "code",
   "execution_count": 39,
   "id": "9be3aeac",
   "metadata": {},
   "outputs": [
    {
     "data": {
      "text/plain": [
       "Churn                                1.000000\n",
       "MonthlyCharges**2*TotalCharges**0    0.151934\n",
       "MonthlyCharges**3*TotalCharges**0    0.120895\n",
       "MonthlyCharges**2*TotalCharges**1   -0.121555\n",
       "MonthlyCharges**1*TotalCharges**1   -0.148175\n",
       "MonthlyCharges**1*TotalCharges**2   -0.152267\n",
       "MonthlyCharges**0*TotalCharges**3   -0.158389\n",
       "MonthlyCharges**0*TotalCharges**2   -0.178061\n",
       "Name: Churn, dtype: float64"
      ]
     },
     "execution_count": 39,
     "metadata": {},
     "output_type": "execute_result"
    }
   ],
   "source": [
    "df_corr"
   ]
  },
  {
   "cell_type": "markdown",
   "id": "784d24d4",
   "metadata": {},
   "source": [
    "| 原始字段 | 相关系数 |\n",
    "| ------ | ------ |\n",
    "| MonthlyCharges | 0.193356 |\n",
    "| TotalCharges | -0.199484 |"
   ]
  },
  {
   "cell_type": "markdown",
   "id": "fdf3fcd6",
   "metadata": {},
   "source": [
    "对比原始字段，我们发现衍生字段和标签仍然呈现出了一定的相关关系，但由于并没有出现衍生字段强于原始字段的情况，因此无需考虑进行更高阶的多项式衍生了。接下来带入到模型当中进行测试："
   ]
  },
  {
   "cell_type": "code",
   "execution_count": 40,
   "id": "3dd32463",
   "metadata": {},
   "outputs": [
    {
     "name": "stdout",
     "output_type": "stream",
     "text": [
      "['MonthlyCharges**0*TotalCharges**2', 'MonthlyCharges**0*TotalCharges**3']\n",
      "46.75545644760132 s\n"
     ]
    },
    {
     "data": {
      "text/plain": [
       "(0.810678628766377,\n",
       " {'columntransformer__num': 'passthrough',\n",
       "  'logit_threshold__C': 0.1,\n",
       "  'logit_threshold__penalty': 'l2',\n",
       "  'logit_threshold__solver': 'newton-cg'})"
      ]
     },
     "execution_count": 40,
     "metadata": {},
     "output_type": "execute_result"
    }
   ],
   "source": [
    "new_col = list(np.abs(df_corr).sort_values(ascending = False)[1: 3].index)\n",
    "print(new_col)\n",
    "\n",
    "train_new_temp = X_train_ply[new_col]\n",
    "test_new_temp = X_test_ply[new_col]\n",
    "\n",
    "features_test(train_new_temp, \n",
    "              test_new_temp, \n",
    "              X_train, \n",
    "              X_test, \n",
    "              y_train, \n",
    "              y_test, \n",
    "              category_cols, \n",
    "              numeric_cols)"
   ]
  },
  {
   "cell_type": "markdown",
   "id": "a8c2c8ee",
   "metadata": {
    "tags": []
   },
   "source": [
    "### 4.交叉组合特征衍生"
   ]
  },
  {
   "cell_type": "markdown",
   "id": "bb907c53",
   "metadata": {},
   "source": [
    "&emsp;&emsp;接下来我们考虑进行交叉组合特征衍生。需要注意的是，在实际建模过程中，特征衍生和后续环节（如特征筛选和模型验证等）并不是完全分割的，而是交叉进行的，也就是完全可以衍生一部分特征后就进行验证，验证后再进行更深入的特征衍生等等。不过无论是何种情况，在特征衍生的开始，我们都可以一次性的进行“全特征衍生”，也就是带入全部离散变量进行两两交叉组合。"
   ]
  },
  {
   "cell_type": "markdown",
   "id": "764b64d2-89cf-4529-941c-c9ecd67cccca",
   "metadata": {},
   "source": [
    "> 本阶段我们将进行大量实验，为制定后续特征衍生流程储备实验结果数据，在后续案例教学中我们则会效率优先，直接采用更高效的流程。"
   ]
  },
  {
   "cell_type": "markdown",
   "id": "94bbb5f6",
   "metadata": {},
   "source": [
    "#### 3.1 原始特征的两两交叉组合"
   ]
  },
  {
   "cell_type": "markdown",
   "id": "4e812216",
   "metadata": {},
   "source": [
    "- 特征衍生"
   ]
  },
  {
   "cell_type": "code",
   "execution_count": 41,
   "id": "732bc9bd",
   "metadata": {},
   "outputs": [
    {
     "data": {
      "text/plain": [
       "['gender',\n",
       " 'SeniorCitizen',\n",
       " 'Partner',\n",
       " 'Dependents',\n",
       " 'PhoneService',\n",
       " 'MultipleLines',\n",
       " 'InternetService',\n",
       " 'OnlineSecurity',\n",
       " 'OnlineBackup',\n",
       " 'DeviceProtection',\n",
       " 'TechSupport',\n",
       " 'StreamingTV',\n",
       " 'StreamingMovies',\n",
       " 'Contract',\n",
       " 'PaperlessBilling',\n",
       " 'PaymentMethod']"
      ]
     },
     "execution_count": 41,
     "metadata": {},
     "output_type": "execute_result"
    }
   ],
   "source": [
    "# 查看分类变量\n",
    "category_cols"
   ]
  },
  {
   "cell_type": "code",
   "execution_count": 42,
   "id": "13d15f0c",
   "metadata": {},
   "outputs": [
    {
     "name": "stdout",
     "output_type": "stream",
     "text": [
      "gender: ['Female' 'Male']\n",
      "SeniorCitizen: [0 1]\n",
      "Partner: ['Yes' 'No']\n",
      "Dependents: ['No' 'Yes']\n",
      "PhoneService: ['No' 'Yes']\n",
      "MultipleLines: ['No phone service' 'No' 'Yes']\n",
      "InternetService: ['DSL' 'Fiber optic' 'No']\n",
      "OnlineSecurity: ['No' 'Yes' 'No internet service']\n",
      "OnlineBackup: ['Yes' 'No' 'No internet service']\n",
      "DeviceProtection: ['No' 'Yes' 'No internet service']\n",
      "TechSupport: ['No' 'Yes' 'No internet service']\n",
      "StreamingTV: ['No' 'Yes' 'No internet service']\n",
      "StreamingMovies: ['No' 'Yes' 'No internet service']\n",
      "Contract: ['Month-to-month' 'One year' 'Two year']\n",
      "PaperlessBilling: ['Yes' 'No']\n",
      "PaymentMethod: ['Electronic check' 'Mailed check' 'Bank transfer (automatic)'\n",
      " 'Credit card (automatic)']\n"
     ]
    }
   ],
   "source": [
    "# 查看每个分类变量的取值水平\n",
    "for feature in tcc[category_cols]:\n",
    "        print(f'{feature}: {tcc[feature].unique()}')"
   ]
  },
  {
   "cell_type": "code",
   "execution_count": 43,
   "id": "c8e0238e",
   "metadata": {},
   "outputs": [
    {
     "data": {
      "text/plain": [
       "\u001b[1;31mSignature:\u001b[0m \u001b[0mCross_Combination\u001b[0m\u001b[1;33m(\u001b[0m\u001b[0mcolNames\u001b[0m\u001b[1;33m,\u001b[0m \u001b[0mX_train\u001b[0m\u001b[1;33m,\u001b[0m \u001b[0mX_test\u001b[0m\u001b[1;33m,\u001b[0m \u001b[0mmulti\u001b[0m\u001b[1;33m=\u001b[0m\u001b[1;32mFalse\u001b[0m\u001b[1;33m,\u001b[0m \u001b[0mOneHot\u001b[0m\u001b[1;33m=\u001b[0m\u001b[1;32mTrue\u001b[0m\u001b[1;33m)\u001b[0m\u001b[1;33m\u001b[0m\u001b[1;33m\u001b[0m\u001b[0m\n",
       "\u001b[1;31mDocstring:\u001b[0m\n",
       "交叉组合特征衍生函数\n",
       "\n",
       ":param colNames: 参与交叉衍生的列名称\n",
       ":param X_train: 训练集特征\n",
       ":param X_test: 测试集特征\n",
       ":param multi: 是否进行多变量交叉组合\n",
       ":param OneHot: 是否进行独热编码\n",
       "\n",
       ":return：交叉衍生后的新特征和特征名称\n",
       "\u001b[1;31mFile:\u001b[0m      d:\\work\\jupyter\\telco\\正式课程\\features_creation.py\n",
       "\u001b[1;31mType:\u001b[0m      function\n"
      ]
     },
     "metadata": {},
     "output_type": "display_data"
    }
   ],
   "source": [
    "Cross_Combination?"
   ]
  },
  {
   "cell_type": "markdown",
   "id": "867f5884",
   "metadata": {},
   "source": [
    "然后，先尝试带入原始变量的离散变量进行双变量的两两交叉特征衍生："
   ]
  },
  {
   "cell_type": "code",
   "execution_count": 44,
   "id": "3eecceef",
   "metadata": {},
   "outputs": [],
   "source": [
    "features_train_new, features_test_new, colNames_train_new, colNames_test_new = Cross_Combination(category_cols, X_train, X_test)"
   ]
  },
  {
   "cell_type": "markdown",
   "id": "33f1302f",
   "metadata": {},
   "source": [
    "> 这里需要注意，在进行交叉组合特征衍生时，无需对object对象类型进行自然数编码（ordinary encode），我们需要原始object对象类型中的字符串来协助创建衍生列的列名称。"
   ]
  },
  {
   "cell_type": "code",
   "execution_count": 45,
   "id": "1ed14e4a",
   "metadata": {},
   "outputs": [
    {
     "data": {
      "text/html": [
       "<div>\n",
       "<style scoped>\n",
       "    .dataframe tbody tr th:only-of-type {\n",
       "        vertical-align: middle;\n",
       "    }\n",
       "\n",
       "    .dataframe tbody tr th {\n",
       "        vertical-align: top;\n",
       "    }\n",
       "\n",
       "    .dataframe thead th {\n",
       "        text-align: right;\n",
       "    }\n",
       "</style>\n",
       "<table border=\"1\" class=\"dataframe\">\n",
       "  <thead>\n",
       "    <tr style=\"text-align: right;\">\n",
       "      <th></th>\n",
       "      <th>gender&amp;SeniorCitizen_Female&amp;0</th>\n",
       "      <th>gender&amp;SeniorCitizen_Female&amp;1</th>\n",
       "      <th>gender&amp;SeniorCitizen_Male&amp;0</th>\n",
       "      <th>gender&amp;SeniorCitizen_Male&amp;1</th>\n",
       "      <th>gender&amp;Partner_Female&amp;No</th>\n",
       "      <th>gender&amp;Partner_Female&amp;Yes</th>\n",
       "      <th>gender&amp;Partner_Male&amp;No</th>\n",
       "      <th>gender&amp;Partner_Male&amp;Yes</th>\n",
       "      <th>gender&amp;Dependents_Female&amp;No</th>\n",
       "      <th>gender&amp;Dependents_Female&amp;Yes</th>\n",
       "      <th>...</th>\n",
       "      <th>Contract&amp;PaymentMethod_Two year&amp;Electronic check</th>\n",
       "      <th>Contract&amp;PaymentMethod_Two year&amp;Mailed check</th>\n",
       "      <th>PaperlessBilling&amp;PaymentMethod_No&amp;Bank transfer (automatic)</th>\n",
       "      <th>PaperlessBilling&amp;PaymentMethod_No&amp;Credit card (automatic)</th>\n",
       "      <th>PaperlessBilling&amp;PaymentMethod_No&amp;Electronic check</th>\n",
       "      <th>PaperlessBilling&amp;PaymentMethod_No&amp;Mailed check</th>\n",
       "      <th>PaperlessBilling&amp;PaymentMethod_Yes&amp;Bank transfer (automatic)</th>\n",
       "      <th>PaperlessBilling&amp;PaymentMethod_Yes&amp;Credit card (automatic)</th>\n",
       "      <th>PaperlessBilling&amp;PaymentMethod_Yes&amp;Electronic check</th>\n",
       "      <th>PaperlessBilling&amp;PaymentMethod_Yes&amp;Mailed check</th>\n",
       "    </tr>\n",
       "  </thead>\n",
       "  <tbody>\n",
       "    <tr>\n",
       "      <th>0</th>\n",
       "      <td>1.0</td>\n",
       "      <td>0.0</td>\n",
       "      <td>0.0</td>\n",
       "      <td>0.0</td>\n",
       "      <td>0.0</td>\n",
       "      <td>1.0</td>\n",
       "      <td>0.0</td>\n",
       "      <td>0.0</td>\n",
       "      <td>1.0</td>\n",
       "      <td>0.0</td>\n",
       "      <td>...</td>\n",
       "      <td>0.0</td>\n",
       "      <td>0.0</td>\n",
       "      <td>0.0</td>\n",
       "      <td>0.0</td>\n",
       "      <td>0.0</td>\n",
       "      <td>0.0</td>\n",
       "      <td>1.0</td>\n",
       "      <td>0.0</td>\n",
       "      <td>0.0</td>\n",
       "      <td>0.0</td>\n",
       "    </tr>\n",
       "    <tr>\n",
       "      <th>1</th>\n",
       "      <td>1.0</td>\n",
       "      <td>0.0</td>\n",
       "      <td>0.0</td>\n",
       "      <td>0.0</td>\n",
       "      <td>0.0</td>\n",
       "      <td>1.0</td>\n",
       "      <td>0.0</td>\n",
       "      <td>0.0</td>\n",
       "      <td>0.0</td>\n",
       "      <td>1.0</td>\n",
       "      <td>...</td>\n",
       "      <td>0.0</td>\n",
       "      <td>0.0</td>\n",
       "      <td>0.0</td>\n",
       "      <td>0.0</td>\n",
       "      <td>0.0</td>\n",
       "      <td>0.0</td>\n",
       "      <td>0.0</td>\n",
       "      <td>0.0</td>\n",
       "      <td>1.0</td>\n",
       "      <td>0.0</td>\n",
       "    </tr>\n",
       "    <tr>\n",
       "      <th>2</th>\n",
       "      <td>0.0</td>\n",
       "      <td>0.0</td>\n",
       "      <td>1.0</td>\n",
       "      <td>0.0</td>\n",
       "      <td>0.0</td>\n",
       "      <td>0.0</td>\n",
       "      <td>1.0</td>\n",
       "      <td>0.0</td>\n",
       "      <td>0.0</td>\n",
       "      <td>0.0</td>\n",
       "      <td>...</td>\n",
       "      <td>0.0</td>\n",
       "      <td>0.0</td>\n",
       "      <td>0.0</td>\n",
       "      <td>0.0</td>\n",
       "      <td>0.0</td>\n",
       "      <td>1.0</td>\n",
       "      <td>0.0</td>\n",
       "      <td>0.0</td>\n",
       "      <td>0.0</td>\n",
       "      <td>0.0</td>\n",
       "    </tr>\n",
       "    <tr>\n",
       "      <th>3</th>\n",
       "      <td>1.0</td>\n",
       "      <td>0.0</td>\n",
       "      <td>0.0</td>\n",
       "      <td>0.0</td>\n",
       "      <td>0.0</td>\n",
       "      <td>1.0</td>\n",
       "      <td>0.0</td>\n",
       "      <td>0.0</td>\n",
       "      <td>0.0</td>\n",
       "      <td>1.0</td>\n",
       "      <td>...</td>\n",
       "      <td>0.0</td>\n",
       "      <td>0.0</td>\n",
       "      <td>0.0</td>\n",
       "      <td>0.0</td>\n",
       "      <td>0.0</td>\n",
       "      <td>0.0</td>\n",
       "      <td>0.0</td>\n",
       "      <td>0.0</td>\n",
       "      <td>0.0</td>\n",
       "      <td>1.0</td>\n",
       "    </tr>\n",
       "    <tr>\n",
       "      <th>4</th>\n",
       "      <td>0.0</td>\n",
       "      <td>1.0</td>\n",
       "      <td>0.0</td>\n",
       "      <td>0.0</td>\n",
       "      <td>1.0</td>\n",
       "      <td>0.0</td>\n",
       "      <td>0.0</td>\n",
       "      <td>0.0</td>\n",
       "      <td>1.0</td>\n",
       "      <td>0.0</td>\n",
       "      <td>...</td>\n",
       "      <td>0.0</td>\n",
       "      <td>0.0</td>\n",
       "      <td>0.0</td>\n",
       "      <td>0.0</td>\n",
       "      <td>0.0</td>\n",
       "      <td>1.0</td>\n",
       "      <td>0.0</td>\n",
       "      <td>0.0</td>\n",
       "      <td>0.0</td>\n",
       "      <td>0.0</td>\n",
       "    </tr>\n",
       "  </tbody>\n",
       "</table>\n",
       "<p>5 rows × 761 columns</p>\n",
       "</div>"
      ],
      "text/plain": [
       "   gender&SeniorCitizen_Female&0  gender&SeniorCitizen_Female&1  \\\n",
       "0                            1.0                            0.0   \n",
       "1                            1.0                            0.0   \n",
       "2                            0.0                            0.0   \n",
       "3                            1.0                            0.0   \n",
       "4                            0.0                            1.0   \n",
       "\n",
       "   gender&SeniorCitizen_Male&0  gender&SeniorCitizen_Male&1  \\\n",
       "0                          0.0                          0.0   \n",
       "1                          0.0                          0.0   \n",
       "2                          1.0                          0.0   \n",
       "3                          0.0                          0.0   \n",
       "4                          0.0                          0.0   \n",
       "\n",
       "   gender&Partner_Female&No  gender&Partner_Female&Yes  \\\n",
       "0                       0.0                        1.0   \n",
       "1                       0.0                        1.0   \n",
       "2                       0.0                        0.0   \n",
       "3                       0.0                        1.0   \n",
       "4                       1.0                        0.0   \n",
       "\n",
       "   gender&Partner_Male&No  gender&Partner_Male&Yes  \\\n",
       "0                     0.0                      0.0   \n",
       "1                     0.0                      0.0   \n",
       "2                     1.0                      0.0   \n",
       "3                     0.0                      0.0   \n",
       "4                     0.0                      0.0   \n",
       "\n",
       "   gender&Dependents_Female&No  gender&Dependents_Female&Yes  ...  \\\n",
       "0                          1.0                           0.0  ...   \n",
       "1                          0.0                           1.0  ...   \n",
       "2                          0.0                           0.0  ...   \n",
       "3                          0.0                           1.0  ...   \n",
       "4                          1.0                           0.0  ...   \n",
       "\n",
       "   Contract&PaymentMethod_Two year&Electronic check  \\\n",
       "0                                               0.0   \n",
       "1                                               0.0   \n",
       "2                                               0.0   \n",
       "3                                               0.0   \n",
       "4                                               0.0   \n",
       "\n",
       "   Contract&PaymentMethod_Two year&Mailed check  \\\n",
       "0                                           0.0   \n",
       "1                                           0.0   \n",
       "2                                           0.0   \n",
       "3                                           0.0   \n",
       "4                                           0.0   \n",
       "\n",
       "   PaperlessBilling&PaymentMethod_No&Bank transfer (automatic)  \\\n",
       "0                                                0.0             \n",
       "1                                                0.0             \n",
       "2                                                0.0             \n",
       "3                                                0.0             \n",
       "4                                                0.0             \n",
       "\n",
       "   PaperlessBilling&PaymentMethod_No&Credit card (automatic)  \\\n",
       "0                                                0.0           \n",
       "1                                                0.0           \n",
       "2                                                0.0           \n",
       "3                                                0.0           \n",
       "4                                                0.0           \n",
       "\n",
       "   PaperlessBilling&PaymentMethod_No&Electronic check  \\\n",
       "0                                                0.0    \n",
       "1                                                0.0    \n",
       "2                                                0.0    \n",
       "3                                                0.0    \n",
       "4                                                0.0    \n",
       "\n",
       "   PaperlessBilling&PaymentMethod_No&Mailed check  \\\n",
       "0                                             0.0   \n",
       "1                                             0.0   \n",
       "2                                             1.0   \n",
       "3                                             0.0   \n",
       "4                                             1.0   \n",
       "\n",
       "   PaperlessBilling&PaymentMethod_Yes&Bank transfer (automatic)  \\\n",
       "0                                                1.0              \n",
       "1                                                0.0              \n",
       "2                                                0.0              \n",
       "3                                                0.0              \n",
       "4                                                0.0              \n",
       "\n",
       "   PaperlessBilling&PaymentMethod_Yes&Credit card (automatic)  \\\n",
       "0                                                0.0            \n",
       "1                                                0.0            \n",
       "2                                                0.0            \n",
       "3                                                0.0            \n",
       "4                                                0.0            \n",
       "\n",
       "   PaperlessBilling&PaymentMethod_Yes&Electronic check  \\\n",
       "0                                                0.0     \n",
       "1                                                1.0     \n",
       "2                                                0.0     \n",
       "3                                                0.0     \n",
       "4                                                0.0     \n",
       "\n",
       "   PaperlessBilling&PaymentMethod_Yes&Mailed check  \n",
       "0                                              0.0  \n",
       "1                                              0.0  \n",
       "2                                              0.0  \n",
       "3                                              1.0  \n",
       "4                                              0.0  \n",
       "\n",
       "[5 rows x 761 columns]"
      ]
     },
     "execution_count": 45,
     "metadata": {},
     "output_type": "execute_result"
    }
   ],
   "source": [
    "features_train_new.head()"
   ]
  },
  {
   "cell_type": "markdown",
   "id": "ec4df0aa",
   "metadata": {},
   "source": [
    "能够发现，仅仅是双变量两两交叉衍生一项，就创建了761个新的特征。"
   ]
  },
  {
   "cell_type": "markdown",
   "id": "e1a9739f",
   "metadata": {},
   "source": [
    "- 特征效果评估"
   ]
  },
  {
   "cell_type": "markdown",
   "id": "26cc0b29",
   "metadata": {},
   "source": [
    "&emsp;&emsp;尽管我们创建了许多特征，这些衍生特征是否有效，还需要进行更进一步的检测。跟此前的思路一样，首先我们可以借助相关系数来初步评估衍生特征和标签的相关关系。这里我们首先需要修改衍生特征的index，使其与训练集的index一致，方便后续进行标签列的拼接："
   ]
  },
  {
   "cell_type": "code",
   "execution_count": 46,
   "id": "9a71c4fb",
   "metadata": {},
   "outputs": [
    {
     "data": {
      "text/plain": [
       "RangeIndex(start=0, stop=5282, step=1)"
      ]
     },
     "execution_count": 46,
     "metadata": {},
     "output_type": "execute_result"
    }
   ],
   "source": [
    "features_train_new.index"
   ]
  },
  {
   "cell_type": "code",
   "execution_count": 47,
   "id": "865fdde4",
   "metadata": {},
   "outputs": [
    {
     "data": {
      "text/plain": [
       "Int64Index([4067, 3306, 3391, 3249, 2674, 2757, 5237, 5856, 3069, 6631,\n",
       "            ...\n",
       "            6628, 2527, 2952, 4587, 6646, 5478,  356, 4908, 6276, 2933],\n",
       "           dtype='int64', length=5282)"
      ]
     },
     "execution_count": 47,
     "metadata": {},
     "output_type": "execute_result"
    }
   ],
   "source": [
    "X_train.index"
   ]
  },
  {
   "cell_type": "code",
   "execution_count": 48,
   "id": "47df81d4",
   "metadata": {},
   "outputs": [],
   "source": [
    "features_train_new.index = X_train.index"
   ]
  },
  {
   "cell_type": "code",
   "execution_count": 49,
   "id": "58e26ccf",
   "metadata": {},
   "outputs": [],
   "source": [
    "df_temp = pd.concat([features_train_new, y_train], axis=1)"
   ]
  },
  {
   "cell_type": "code",
   "execution_count": 50,
   "id": "be3a504b",
   "metadata": {},
   "outputs": [
    {
     "data": {
      "text/html": [
       "<div>\n",
       "<style scoped>\n",
       "    .dataframe tbody tr th:only-of-type {\n",
       "        vertical-align: middle;\n",
       "    }\n",
       "\n",
       "    .dataframe tbody tr th {\n",
       "        vertical-align: top;\n",
       "    }\n",
       "\n",
       "    .dataframe thead th {\n",
       "        text-align: right;\n",
       "    }\n",
       "</style>\n",
       "<table border=\"1\" class=\"dataframe\">\n",
       "  <thead>\n",
       "    <tr style=\"text-align: right;\">\n",
       "      <th></th>\n",
       "      <th>gender&amp;SeniorCitizen_Female&amp;0</th>\n",
       "      <th>gender&amp;SeniorCitizen_Female&amp;1</th>\n",
       "      <th>gender&amp;SeniorCitizen_Male&amp;0</th>\n",
       "      <th>gender&amp;SeniorCitizen_Male&amp;1</th>\n",
       "      <th>gender&amp;Partner_Female&amp;No</th>\n",
       "      <th>gender&amp;Partner_Female&amp;Yes</th>\n",
       "      <th>gender&amp;Partner_Male&amp;No</th>\n",
       "      <th>gender&amp;Partner_Male&amp;Yes</th>\n",
       "      <th>gender&amp;Dependents_Female&amp;No</th>\n",
       "      <th>gender&amp;Dependents_Female&amp;Yes</th>\n",
       "      <th>...</th>\n",
       "      <th>Contract&amp;PaymentMethod_Two year&amp;Mailed check</th>\n",
       "      <th>PaperlessBilling&amp;PaymentMethod_No&amp;Bank transfer (automatic)</th>\n",
       "      <th>PaperlessBilling&amp;PaymentMethod_No&amp;Credit card (automatic)</th>\n",
       "      <th>PaperlessBilling&amp;PaymentMethod_No&amp;Electronic check</th>\n",
       "      <th>PaperlessBilling&amp;PaymentMethod_No&amp;Mailed check</th>\n",
       "      <th>PaperlessBilling&amp;PaymentMethod_Yes&amp;Bank transfer (automatic)</th>\n",
       "      <th>PaperlessBilling&amp;PaymentMethod_Yes&amp;Credit card (automatic)</th>\n",
       "      <th>PaperlessBilling&amp;PaymentMethod_Yes&amp;Electronic check</th>\n",
       "      <th>PaperlessBilling&amp;PaymentMethod_Yes&amp;Mailed check</th>\n",
       "      <th>Churn</th>\n",
       "    </tr>\n",
       "  </thead>\n",
       "  <tbody>\n",
       "    <tr>\n",
       "      <th>4067</th>\n",
       "      <td>1.0</td>\n",
       "      <td>0.0</td>\n",
       "      <td>0.0</td>\n",
       "      <td>0.0</td>\n",
       "      <td>0.0</td>\n",
       "      <td>1.0</td>\n",
       "      <td>0.0</td>\n",
       "      <td>0.0</td>\n",
       "      <td>1.0</td>\n",
       "      <td>0.0</td>\n",
       "      <td>...</td>\n",
       "      <td>0.0</td>\n",
       "      <td>0.0</td>\n",
       "      <td>0.0</td>\n",
       "      <td>0.0</td>\n",
       "      <td>0.0</td>\n",
       "      <td>1.0</td>\n",
       "      <td>0.0</td>\n",
       "      <td>0.0</td>\n",
       "      <td>0.0</td>\n",
       "      <td>0</td>\n",
       "    </tr>\n",
       "    <tr>\n",
       "      <th>3306</th>\n",
       "      <td>1.0</td>\n",
       "      <td>0.0</td>\n",
       "      <td>0.0</td>\n",
       "      <td>0.0</td>\n",
       "      <td>0.0</td>\n",
       "      <td>1.0</td>\n",
       "      <td>0.0</td>\n",
       "      <td>0.0</td>\n",
       "      <td>0.0</td>\n",
       "      <td>1.0</td>\n",
       "      <td>...</td>\n",
       "      <td>0.0</td>\n",
       "      <td>0.0</td>\n",
       "      <td>0.0</td>\n",
       "      <td>0.0</td>\n",
       "      <td>0.0</td>\n",
       "      <td>0.0</td>\n",
       "      <td>0.0</td>\n",
       "      <td>1.0</td>\n",
       "      <td>0.0</td>\n",
       "      <td>0</td>\n",
       "    </tr>\n",
       "    <tr>\n",
       "      <th>3391</th>\n",
       "      <td>0.0</td>\n",
       "      <td>0.0</td>\n",
       "      <td>1.0</td>\n",
       "      <td>0.0</td>\n",
       "      <td>0.0</td>\n",
       "      <td>0.0</td>\n",
       "      <td>1.0</td>\n",
       "      <td>0.0</td>\n",
       "      <td>0.0</td>\n",
       "      <td>0.0</td>\n",
       "      <td>...</td>\n",
       "      <td>0.0</td>\n",
       "      <td>0.0</td>\n",
       "      <td>0.0</td>\n",
       "      <td>0.0</td>\n",
       "      <td>1.0</td>\n",
       "      <td>0.0</td>\n",
       "      <td>0.0</td>\n",
       "      <td>0.0</td>\n",
       "      <td>0.0</td>\n",
       "      <td>0</td>\n",
       "    </tr>\n",
       "    <tr>\n",
       "      <th>3249</th>\n",
       "      <td>1.0</td>\n",
       "      <td>0.0</td>\n",
       "      <td>0.0</td>\n",
       "      <td>0.0</td>\n",
       "      <td>0.0</td>\n",
       "      <td>1.0</td>\n",
       "      <td>0.0</td>\n",
       "      <td>0.0</td>\n",
       "      <td>0.0</td>\n",
       "      <td>1.0</td>\n",
       "      <td>...</td>\n",
       "      <td>0.0</td>\n",
       "      <td>0.0</td>\n",
       "      <td>0.0</td>\n",
       "      <td>0.0</td>\n",
       "      <td>0.0</td>\n",
       "      <td>0.0</td>\n",
       "      <td>0.0</td>\n",
       "      <td>0.0</td>\n",
       "      <td>1.0</td>\n",
       "      <td>0</td>\n",
       "    </tr>\n",
       "    <tr>\n",
       "      <th>2674</th>\n",
       "      <td>0.0</td>\n",
       "      <td>1.0</td>\n",
       "      <td>0.0</td>\n",
       "      <td>0.0</td>\n",
       "      <td>1.0</td>\n",
       "      <td>0.0</td>\n",
       "      <td>0.0</td>\n",
       "      <td>0.0</td>\n",
       "      <td>1.0</td>\n",
       "      <td>0.0</td>\n",
       "      <td>...</td>\n",
       "      <td>0.0</td>\n",
       "      <td>0.0</td>\n",
       "      <td>0.0</td>\n",
       "      <td>0.0</td>\n",
       "      <td>1.0</td>\n",
       "      <td>0.0</td>\n",
       "      <td>0.0</td>\n",
       "      <td>0.0</td>\n",
       "      <td>0.0</td>\n",
       "      <td>0</td>\n",
       "    </tr>\n",
       "  </tbody>\n",
       "</table>\n",
       "<p>5 rows × 762 columns</p>\n",
       "</div>"
      ],
      "text/plain": [
       "      gender&SeniorCitizen_Female&0  gender&SeniorCitizen_Female&1  \\\n",
       "4067                            1.0                            0.0   \n",
       "3306                            1.0                            0.0   \n",
       "3391                            0.0                            0.0   \n",
       "3249                            1.0                            0.0   \n",
       "2674                            0.0                            1.0   \n",
       "\n",
       "      gender&SeniorCitizen_Male&0  gender&SeniorCitizen_Male&1  \\\n",
       "4067                          0.0                          0.0   \n",
       "3306                          0.0                          0.0   \n",
       "3391                          1.0                          0.0   \n",
       "3249                          0.0                          0.0   \n",
       "2674                          0.0                          0.0   \n",
       "\n",
       "      gender&Partner_Female&No  gender&Partner_Female&Yes  \\\n",
       "4067                       0.0                        1.0   \n",
       "3306                       0.0                        1.0   \n",
       "3391                       0.0                        0.0   \n",
       "3249                       0.0                        1.0   \n",
       "2674                       1.0                        0.0   \n",
       "\n",
       "      gender&Partner_Male&No  gender&Partner_Male&Yes  \\\n",
       "4067                     0.0                      0.0   \n",
       "3306                     0.0                      0.0   \n",
       "3391                     1.0                      0.0   \n",
       "3249                     0.0                      0.0   \n",
       "2674                     0.0                      0.0   \n",
       "\n",
       "      gender&Dependents_Female&No  gender&Dependents_Female&Yes  ...  \\\n",
       "4067                          1.0                           0.0  ...   \n",
       "3306                          0.0                           1.0  ...   \n",
       "3391                          0.0                           0.0  ...   \n",
       "3249                          0.0                           1.0  ...   \n",
       "2674                          1.0                           0.0  ...   \n",
       "\n",
       "      Contract&PaymentMethod_Two year&Mailed check  \\\n",
       "4067                                           0.0   \n",
       "3306                                           0.0   \n",
       "3391                                           0.0   \n",
       "3249                                           0.0   \n",
       "2674                                           0.0   \n",
       "\n",
       "      PaperlessBilling&PaymentMethod_No&Bank transfer (automatic)  \\\n",
       "4067                                                0.0             \n",
       "3306                                                0.0             \n",
       "3391                                                0.0             \n",
       "3249                                                0.0             \n",
       "2674                                                0.0             \n",
       "\n",
       "      PaperlessBilling&PaymentMethod_No&Credit card (automatic)  \\\n",
       "4067                                                0.0           \n",
       "3306                                                0.0           \n",
       "3391                                                0.0           \n",
       "3249                                                0.0           \n",
       "2674                                                0.0           \n",
       "\n",
       "      PaperlessBilling&PaymentMethod_No&Electronic check  \\\n",
       "4067                                                0.0    \n",
       "3306                                                0.0    \n",
       "3391                                                0.0    \n",
       "3249                                                0.0    \n",
       "2674                                                0.0    \n",
       "\n",
       "      PaperlessBilling&PaymentMethod_No&Mailed check  \\\n",
       "4067                                             0.0   \n",
       "3306                                             0.0   \n",
       "3391                                             1.0   \n",
       "3249                                             0.0   \n",
       "2674                                             1.0   \n",
       "\n",
       "      PaperlessBilling&PaymentMethod_Yes&Bank transfer (automatic)  \\\n",
       "4067                                                1.0              \n",
       "3306                                                0.0              \n",
       "3391                                                0.0              \n",
       "3249                                                0.0              \n",
       "2674                                                0.0              \n",
       "\n",
       "      PaperlessBilling&PaymentMethod_Yes&Credit card (automatic)  \\\n",
       "4067                                                0.0            \n",
       "3306                                                0.0            \n",
       "3391                                                0.0            \n",
       "3249                                                0.0            \n",
       "2674                                                0.0            \n",
       "\n",
       "      PaperlessBilling&PaymentMethod_Yes&Electronic check  \\\n",
       "4067                                                0.0     \n",
       "3306                                                1.0     \n",
       "3391                                                0.0     \n",
       "3249                                                0.0     \n",
       "2674                                                0.0     \n",
       "\n",
       "      PaperlessBilling&PaymentMethod_Yes&Mailed check  Churn  \n",
       "4067                                              0.0      0  \n",
       "3306                                              0.0      0  \n",
       "3391                                              0.0      0  \n",
       "3249                                              1.0      0  \n",
       "2674                                              0.0      0  \n",
       "\n",
       "[5 rows x 762 columns]"
      ]
     },
     "execution_count": 50,
     "metadata": {},
     "output_type": "execute_result"
    }
   ],
   "source": [
    "df_temp.head()"
   ]
  },
  {
   "cell_type": "markdown",
   "id": "1d706cc8",
   "metadata": {},
   "source": [
    "然后进行衍生特征与标签的相关系数的计算："
   ]
  },
  {
   "cell_type": "code",
   "execution_count": 51,
   "id": "25a8aba1",
   "metadata": {},
   "outputs": [],
   "source": [
    "df_corr = df_temp.corr()['Churn'].sort_values(ascending = False)"
   ]
  },
  {
   "cell_type": "code",
   "execution_count": 52,
   "id": "b12851d1",
   "metadata": {},
   "outputs": [
    {
     "data": {
      "text/plain": [
       "Churn                                                                 1.000000\n",
       "OnlineSecurity&Contract_No&Month-to-month                             0.441598\n",
       "TechSupport&Contract_No&Month-to-month                                0.430260\n",
       "InternetService&Contract_Fiber optic&Month-to-month                   0.415189\n",
       "OnlineSecurity&TechSupport_No&No                                      0.398994\n",
       "                                                                        ...   \n",
       "PhoneService&InternetService_Yes&No                                  -0.230200\n",
       "OnlineSecurity&TechSupport_No internet service&No internet service   -0.230200\n",
       "Partner&Contract_Yes&Two year                                        -0.248640\n",
       "PhoneService&Contract_Yes&Two year                                   -0.283557\n",
       "SeniorCitizen&Contract_0&Two year                                    -0.289069\n",
       "Name: Churn, Length: 762, dtype: float64"
      ]
     },
     "execution_count": 52,
     "metadata": {},
     "output_type": "execute_result"
    }
   ],
   "source": [
    "df_corr"
   ]
  },
  {
   "cell_type": "code",
   "execution_count": 53,
   "id": "48701017",
   "metadata": {},
   "outputs": [
    {
     "data": {
      "text/plain": [
       "OnlineSecurity&Contract_No&Month-to-month                 0.441598\n",
       "TechSupport&Contract_No&Month-to-month                    0.430260\n",
       "InternetService&Contract_Fiber optic&Month-to-month       0.415189\n",
       "OnlineSecurity&TechSupport_No&No                          0.398994\n",
       "OnlineBackup&Contract_No&Month-to-month                   0.381821\n",
       "Contract&PaperlessBilling_Month-to-month&Yes              0.373529\n",
       "Contract&PaymentMethod_Month-to-month&Electronic check    0.373363\n",
       "Dependents&Contract_No&Month-to-month                     0.364952\n",
       "InternetService&OnlineSecurity_Fiber optic&No             0.363039\n",
       "OnlineSecurity&PaymentMethod_No&Electronic check          0.359524\n",
       "Name: Churn, dtype: float64"
      ]
     },
     "execution_count": 53,
     "metadata": {},
     "output_type": "execute_result"
    }
   ],
   "source": [
    "np.abs(df_corr).sort_values(ascending = False)[1: 11]"
   ]
  },
  {
   "cell_type": "markdown",
   "id": "986b0b79",
   "metadata": {},
   "source": [
    "能够发现，在衍生特征中，出现了非常多个和标签相关性较强的特征，例如'OnlineSecurity&Contract_No&Month-to-month'（没有买在线安全服务并且按月付费的用户）、OnlineSecurity&TechSupport_No&No（没有购买在线安全服务并且没有买技术支持的用户）等，某些衍生特征和标签的相关性甚至要强于原始特征的相关系数："
   ]
  },
  {
   "cell_type": "markdown",
   "id": "79e098e8",
   "metadata": {},
   "source": [
    "| 原始字段 | 相关系数 |\n",
    "| ------ | ------ |\n",
    "| Contract_Month-to-month | 0.405103 |\n",
    "| OnlineSecurity_No | 0.342637 |\n",
    "| TechSupport_No  | 0.337281 |"
   ]
  },
  {
   "cell_type": "markdown",
   "id": "1200561f",
   "metadata": {},
   "source": [
    "这其实非常有利的说明了交叉组合能够显著增强模型表现。根据目前的情况我们不难发现，很多相关系数很大的衍生字段（如合约期限字段），其原始字段与标签的相关性本来就很强，交叉组合只是进一步增强了这些特点。当然，也有一些原本“默默无闻”的字段，通过交叉组合后相关性明显增加，此外，还有一些字段如SeniorCitizen，原始状态下呈现出和标签的正相关，经过交叉组合后，衍生字段却大多与标签呈现出负相关。这也一定程度上也说明交叉组合会一定程度丰富特征表现。"
   ]
  },
  {
   "cell_type": "markdown",
   "id": "6ddc042b",
   "metadata": {},
   "source": [
    "> 这也是我们为何要花费大量时间来讨论衍生列取名问题的原因。如果不确定列名称，则无法“溯源”有效的衍生列背后是由哪些原始列构成。"
   ]
  },
  {
   "cell_type": "markdown",
   "id": "40016463",
   "metadata": {},
   "source": [
    "- 模型验证"
   ]
  },
  {
   "cell_type": "markdown",
   "id": "4d1d4c74",
   "metadata": {},
   "source": [
    "&emsp;&emsp;在简单进行相关系数验证后，接下来我们考虑相关系数最高的三项特征带入到逻辑回归模型中进行模型验证。此时因为我们在特征衍生环节中也加入了训练集和测试集的划分，因此我们需要稍微修改此前定义的features_test函数，令其可以分开处理训练集和测试集数据："
   ]
  },
  {
   "cell_type": "markdown",
   "id": "4ff4b2a1",
   "metadata": {},
   "source": [
    "然后选出相关系数绝对值最大的三个衍生特征："
   ]
  },
  {
   "cell_type": "code",
   "execution_count": 54,
   "id": "24f5520f",
   "metadata": {},
   "outputs": [
    {
     "data": {
      "text/plain": [
       "['OnlineSecurity&Contract_No&Month-to-month',\n",
       " 'TechSupport&Contract_No&Month-to-month',\n",
       " 'InternetService&Contract_Fiber optic&Month-to-month']"
      ]
     },
     "execution_count": 54,
     "metadata": {},
     "output_type": "execute_result"
    }
   ],
   "source": [
    "new_col = list(np.abs(df_corr).sort_values(ascending = False)[1: 4].index)\n",
    "new_col"
   ]
  },
  {
   "cell_type": "markdown",
   "id": "4cdff12d",
   "metadata": {},
   "source": [
    "带入模型进行建模："
   ]
  },
  {
   "cell_type": "code",
   "execution_count": 55,
   "id": "8f873ede",
   "metadata": {},
   "outputs": [],
   "source": [
    "train_new_temp = features_train_new[new_col]\n",
    "test_new_temp = features_test_new[new_col]"
   ]
  },
  {
   "cell_type": "code",
   "execution_count": 56,
   "id": "ef63cf2d",
   "metadata": {},
   "outputs": [
    {
     "data": {
      "text/html": [
       "<div>\n",
       "<style scoped>\n",
       "    .dataframe tbody tr th:only-of-type {\n",
       "        vertical-align: middle;\n",
       "    }\n",
       "\n",
       "    .dataframe tbody tr th {\n",
       "        vertical-align: top;\n",
       "    }\n",
       "\n",
       "    .dataframe thead th {\n",
       "        text-align: right;\n",
       "    }\n",
       "</style>\n",
       "<table border=\"1\" class=\"dataframe\">\n",
       "  <thead>\n",
       "    <tr style=\"text-align: right;\">\n",
       "      <th></th>\n",
       "      <th>OnlineSecurity&amp;Contract_No&amp;Month-to-month</th>\n",
       "      <th>TechSupport&amp;Contract_No&amp;Month-to-month</th>\n",
       "      <th>InternetService&amp;Contract_Fiber optic&amp;Month-to-month</th>\n",
       "    </tr>\n",
       "  </thead>\n",
       "  <tbody>\n",
       "    <tr>\n",
       "      <th>4067</th>\n",
       "      <td>0.0</td>\n",
       "      <td>0.0</td>\n",
       "      <td>0.0</td>\n",
       "    </tr>\n",
       "    <tr>\n",
       "      <th>3306</th>\n",
       "      <td>1.0</td>\n",
       "      <td>0.0</td>\n",
       "      <td>1.0</td>\n",
       "    </tr>\n",
       "    <tr>\n",
       "      <th>3391</th>\n",
       "      <td>0.0</td>\n",
       "      <td>0.0</td>\n",
       "      <td>0.0</td>\n",
       "    </tr>\n",
       "    <tr>\n",
       "      <th>3249</th>\n",
       "      <td>1.0</td>\n",
       "      <td>1.0</td>\n",
       "      <td>0.0</td>\n",
       "    </tr>\n",
       "    <tr>\n",
       "      <th>2674</th>\n",
       "      <td>0.0</td>\n",
       "      <td>0.0</td>\n",
       "      <td>0.0</td>\n",
       "    </tr>\n",
       "  </tbody>\n",
       "</table>\n",
       "</div>"
      ],
      "text/plain": [
       "      OnlineSecurity&Contract_No&Month-to-month  \\\n",
       "4067                                        0.0   \n",
       "3306                                        1.0   \n",
       "3391                                        0.0   \n",
       "3249                                        1.0   \n",
       "2674                                        0.0   \n",
       "\n",
       "      TechSupport&Contract_No&Month-to-month  \\\n",
       "4067                                     0.0   \n",
       "3306                                     0.0   \n",
       "3391                                     0.0   \n",
       "3249                                     1.0   \n",
       "2674                                     0.0   \n",
       "\n",
       "      InternetService&Contract_Fiber optic&Month-to-month  \n",
       "4067                                                0.0    \n",
       "3306                                                1.0    \n",
       "3391                                                0.0    \n",
       "3249                                                0.0    \n",
       "2674                                                0.0    "
      ]
     },
     "execution_count": 56,
     "metadata": {},
     "output_type": "execute_result"
    }
   ],
   "source": [
    "train_new_temp.head()"
   ]
  },
  {
   "cell_type": "code",
   "execution_count": 57,
   "id": "772a34da",
   "metadata": {},
   "outputs": [
    {
     "name": "stdout",
     "output_type": "stream",
     "text": [
      "44.58748745918274 s\n"
     ]
    },
    {
     "data": {
      "text/plain": [
       "(0.8097323757919785,\n",
       " {'columntransformer__num': 'passthrough',\n",
       "  'logit_threshold__C': 0.1,\n",
       "  'logit_threshold__penalty': 'l2',\n",
       "  'logit_threshold__solver': 'lbfgs'})"
      ]
     },
     "execution_count": 57,
     "metadata": {},
     "output_type": "execute_result"
    }
   ],
   "source": [
    "features_test(train_new_temp, \n",
    "              test_new_temp, \n",
    "              X_train, \n",
    "              X_test, \n",
    "              y_train, \n",
    "              y_test, \n",
    "              category_cols, \n",
    "              numeric_cols)"
   ]
  },
  {
   "cell_type": "markdown",
   "id": "8d09761b",
   "metadata": {},
   "source": [
    "能够看出，模型建模结果也达到了非常高的水平（原数据集情况下交叉验证的平均准确率为0.8042），这也进一步验证了特征衍生的有效性。"
   ]
  },
  {
   "cell_type": "markdown",
   "id": "65eeed35",
   "metadata": {},
   "source": [
    "&emsp;&emsp;当然，在进一步介绍特征筛选方法前，我们目前只能够通过上述方法进行简单的模型效果验证。需要注意的是，逻辑回归本身对特征数量容忍度并不高，带入过多特征数量过多反而会容易造成模型效果下降。不过，这也并不影响本阶段“尽量创造更多有效特征”这一目标，我们只要确认衍生过程有效，更多有效特征的筛选便留与后续特征筛选环节来进行。"
   ]
  },
  {
   "cell_type": "markdown",
   "id": "7b991080",
   "metadata": {},
   "source": [
    "&emsp;&emsp;通过上面的过程我们不难看出，批量特征衍生的特征创建效率是非常高的，能够快速组合出海量特征，并且我们也能够从中进一步挖掘优质特征，不过和手动特征衍生不同的是，批量自动创建的特征并没有很明显的业务层面的解释，例如我们很难找到一个准确的业务逻辑来描述不买在线安全服务且按月付费的用户为何更容易流失。不过相关规则仍然还是有价值的，可以提交业务环节进行评估。"
   ]
  },
  {
   "cell_type": "markdown",
   "id": "627d0c86",
   "metadata": {},
   "source": [
    "#### 3.2 原始特征的多变量交叉组合"
   ]
  },
  {
   "cell_type": "markdown",
   "id": "d6ce7aad",
   "metadata": {},
   "source": [
    "- 多变量交叉衍生"
   ]
  },
  {
   "cell_type": "markdown",
   "id": "69318880",
   "metadata": {},
   "source": [
    "&emsp;&emsp;通过一阶的双变量交叉衍生我们不难发现，一些原本就很强的特征经过交叉组合后表现出了更强的相关性，这不禁让我们想要进一步尝试围绕这些强相关的特征进行更进一步进行多变量交叉组合特征衍生。最为明显的、组合后效果最好的三个特征，就是'OnlineSecurity'、'Contract'和'TechSupport'："
   ]
  },
  {
   "cell_type": "code",
   "execution_count": 58,
   "id": "59ed8ef1",
   "metadata": {},
   "outputs": [
    {
     "data": {
      "text/plain": [
       "['OnlineSecurity', 'Contract', 'TechSupport']"
      ]
     },
     "execution_count": 58,
     "metadata": {},
     "output_type": "execute_result"
    }
   ],
   "source": [
    "colNames = ['OnlineSecurity', 'Contract', 'TechSupport']\n",
    "colNames"
   ]
  },
  {
   "cell_type": "markdown",
   "id": "879097b5",
   "metadata": {},
   "source": [
    "尝试对其进行交叉组合特征衍生："
   ]
  },
  {
   "cell_type": "code",
   "execution_count": 59,
   "id": "ca7fd915",
   "metadata": {},
   "outputs": [],
   "source": [
    "features_train_new, features_test_new, colNames_train_new, colNames_test_new = Cross_Combination(colNames, \n",
    "                                                                                                 X_train, \n",
    "                                                                                                 X_test, \n",
    "                                                                                                 multi=True)"
   ]
  },
  {
   "cell_type": "code",
   "execution_count": 60,
   "id": "60b7df6a",
   "metadata": {},
   "outputs": [
    {
     "data": {
      "text/html": [
       "<div>\n",
       "<style scoped>\n",
       "    .dataframe tbody tr th:only-of-type {\n",
       "        vertical-align: middle;\n",
       "    }\n",
       "\n",
       "    .dataframe tbody tr th {\n",
       "        vertical-align: top;\n",
       "    }\n",
       "\n",
       "    .dataframe thead th {\n",
       "        text-align: right;\n",
       "    }\n",
       "</style>\n",
       "<table border=\"1\" class=\"dataframe\">\n",
       "  <thead>\n",
       "    <tr style=\"text-align: right;\">\n",
       "      <th></th>\n",
       "      <th>OnlineSecurity&amp;Contract&amp;TechSupport_No internet service&amp;Month-to-month&amp;No internet service</th>\n",
       "      <th>OnlineSecurity&amp;Contract&amp;TechSupport_No internet service&amp;One year&amp;No internet service</th>\n",
       "      <th>OnlineSecurity&amp;Contract&amp;TechSupport_No internet service&amp;Two year&amp;No internet service</th>\n",
       "      <th>OnlineSecurity&amp;Contract&amp;TechSupport_No&amp;Month-to-month&amp;No</th>\n",
       "      <th>OnlineSecurity&amp;Contract&amp;TechSupport_No&amp;Month-to-month&amp;Yes</th>\n",
       "      <th>OnlineSecurity&amp;Contract&amp;TechSupport_No&amp;One year&amp;No</th>\n",
       "      <th>OnlineSecurity&amp;Contract&amp;TechSupport_No&amp;One year&amp;Yes</th>\n",
       "      <th>OnlineSecurity&amp;Contract&amp;TechSupport_No&amp;Two year&amp;No</th>\n",
       "      <th>OnlineSecurity&amp;Contract&amp;TechSupport_No&amp;Two year&amp;Yes</th>\n",
       "      <th>OnlineSecurity&amp;Contract&amp;TechSupport_Yes&amp;Month-to-month&amp;No</th>\n",
       "      <th>OnlineSecurity&amp;Contract&amp;TechSupport_Yes&amp;Month-to-month&amp;Yes</th>\n",
       "      <th>OnlineSecurity&amp;Contract&amp;TechSupport_Yes&amp;One year&amp;No</th>\n",
       "      <th>OnlineSecurity&amp;Contract&amp;TechSupport_Yes&amp;One year&amp;Yes</th>\n",
       "      <th>OnlineSecurity&amp;Contract&amp;TechSupport_Yes&amp;Two year&amp;No</th>\n",
       "      <th>OnlineSecurity&amp;Contract&amp;TechSupport_Yes&amp;Two year&amp;Yes</th>\n",
       "    </tr>\n",
       "  </thead>\n",
       "  <tbody>\n",
       "    <tr>\n",
       "      <th>0</th>\n",
       "      <td>0.0</td>\n",
       "      <td>0.0</td>\n",
       "      <td>0.0</td>\n",
       "      <td>0.0</td>\n",
       "      <td>0.0</td>\n",
       "      <td>0.0</td>\n",
       "      <td>0.0</td>\n",
       "      <td>0.0</td>\n",
       "      <td>0.0</td>\n",
       "      <td>0.0</td>\n",
       "      <td>0.0</td>\n",
       "      <td>0.0</td>\n",
       "      <td>0.0</td>\n",
       "      <td>0.0</td>\n",
       "      <td>1.0</td>\n",
       "    </tr>\n",
       "    <tr>\n",
       "      <th>1</th>\n",
       "      <td>0.0</td>\n",
       "      <td>0.0</td>\n",
       "      <td>0.0</td>\n",
       "      <td>0.0</td>\n",
       "      <td>1.0</td>\n",
       "      <td>0.0</td>\n",
       "      <td>0.0</td>\n",
       "      <td>0.0</td>\n",
       "      <td>0.0</td>\n",
       "      <td>0.0</td>\n",
       "      <td>0.0</td>\n",
       "      <td>0.0</td>\n",
       "      <td>0.0</td>\n",
       "      <td>0.0</td>\n",
       "      <td>0.0</td>\n",
       "    </tr>\n",
       "    <tr>\n",
       "      <th>2</th>\n",
       "      <td>1.0</td>\n",
       "      <td>0.0</td>\n",
       "      <td>0.0</td>\n",
       "      <td>0.0</td>\n",
       "      <td>0.0</td>\n",
       "      <td>0.0</td>\n",
       "      <td>0.0</td>\n",
       "      <td>0.0</td>\n",
       "      <td>0.0</td>\n",
       "      <td>0.0</td>\n",
       "      <td>0.0</td>\n",
       "      <td>0.0</td>\n",
       "      <td>0.0</td>\n",
       "      <td>0.0</td>\n",
       "      <td>0.0</td>\n",
       "    </tr>\n",
       "    <tr>\n",
       "      <th>3</th>\n",
       "      <td>0.0</td>\n",
       "      <td>0.0</td>\n",
       "      <td>0.0</td>\n",
       "      <td>1.0</td>\n",
       "      <td>0.0</td>\n",
       "      <td>0.0</td>\n",
       "      <td>0.0</td>\n",
       "      <td>0.0</td>\n",
       "      <td>0.0</td>\n",
       "      <td>0.0</td>\n",
       "      <td>0.0</td>\n",
       "      <td>0.0</td>\n",
       "      <td>0.0</td>\n",
       "      <td>0.0</td>\n",
       "      <td>0.0</td>\n",
       "    </tr>\n",
       "    <tr>\n",
       "      <th>4</th>\n",
       "      <td>1.0</td>\n",
       "      <td>0.0</td>\n",
       "      <td>0.0</td>\n",
       "      <td>0.0</td>\n",
       "      <td>0.0</td>\n",
       "      <td>0.0</td>\n",
       "      <td>0.0</td>\n",
       "      <td>0.0</td>\n",
       "      <td>0.0</td>\n",
       "      <td>0.0</td>\n",
       "      <td>0.0</td>\n",
       "      <td>0.0</td>\n",
       "      <td>0.0</td>\n",
       "      <td>0.0</td>\n",
       "      <td>0.0</td>\n",
       "    </tr>\n",
       "  </tbody>\n",
       "</table>\n",
       "</div>"
      ],
      "text/plain": [
       "   OnlineSecurity&Contract&TechSupport_No internet service&Month-to-month&No internet service  \\\n",
       "0                                                0.0                                            \n",
       "1                                                0.0                                            \n",
       "2                                                1.0                                            \n",
       "3                                                0.0                                            \n",
       "4                                                1.0                                            \n",
       "\n",
       "   OnlineSecurity&Contract&TechSupport_No internet service&One year&No internet service  \\\n",
       "0                                                0.0                                      \n",
       "1                                                0.0                                      \n",
       "2                                                0.0                                      \n",
       "3                                                0.0                                      \n",
       "4                                                0.0                                      \n",
       "\n",
       "   OnlineSecurity&Contract&TechSupport_No internet service&Two year&No internet service  \\\n",
       "0                                                0.0                                      \n",
       "1                                                0.0                                      \n",
       "2                                                0.0                                      \n",
       "3                                                0.0                                      \n",
       "4                                                0.0                                      \n",
       "\n",
       "   OnlineSecurity&Contract&TechSupport_No&Month-to-month&No  \\\n",
       "0                                                0.0          \n",
       "1                                                0.0          \n",
       "2                                                0.0          \n",
       "3                                                1.0          \n",
       "4                                                0.0          \n",
       "\n",
       "   OnlineSecurity&Contract&TechSupport_No&Month-to-month&Yes  \\\n",
       "0                                                0.0           \n",
       "1                                                1.0           \n",
       "2                                                0.0           \n",
       "3                                                0.0           \n",
       "4                                                0.0           \n",
       "\n",
       "   OnlineSecurity&Contract&TechSupport_No&One year&No  \\\n",
       "0                                                0.0    \n",
       "1                                                0.0    \n",
       "2                                                0.0    \n",
       "3                                                0.0    \n",
       "4                                                0.0    \n",
       "\n",
       "   OnlineSecurity&Contract&TechSupport_No&One year&Yes  \\\n",
       "0                                                0.0     \n",
       "1                                                0.0     \n",
       "2                                                0.0     \n",
       "3                                                0.0     \n",
       "4                                                0.0     \n",
       "\n",
       "   OnlineSecurity&Contract&TechSupport_No&Two year&No  \\\n",
       "0                                                0.0    \n",
       "1                                                0.0    \n",
       "2                                                0.0    \n",
       "3                                                0.0    \n",
       "4                                                0.0    \n",
       "\n",
       "   OnlineSecurity&Contract&TechSupport_No&Two year&Yes  \\\n",
       "0                                                0.0     \n",
       "1                                                0.0     \n",
       "2                                                0.0     \n",
       "3                                                0.0     \n",
       "4                                                0.0     \n",
       "\n",
       "   OnlineSecurity&Contract&TechSupport_Yes&Month-to-month&No  \\\n",
       "0                                                0.0           \n",
       "1                                                0.0           \n",
       "2                                                0.0           \n",
       "3                                                0.0           \n",
       "4                                                0.0           \n",
       "\n",
       "   OnlineSecurity&Contract&TechSupport_Yes&Month-to-month&Yes  \\\n",
       "0                                                0.0            \n",
       "1                                                0.0            \n",
       "2                                                0.0            \n",
       "3                                                0.0            \n",
       "4                                                0.0            \n",
       "\n",
       "   OnlineSecurity&Contract&TechSupport_Yes&One year&No  \\\n",
       "0                                                0.0     \n",
       "1                                                0.0     \n",
       "2                                                0.0     \n",
       "3                                                0.0     \n",
       "4                                                0.0     \n",
       "\n",
       "   OnlineSecurity&Contract&TechSupport_Yes&One year&Yes  \\\n",
       "0                                                0.0      \n",
       "1                                                0.0      \n",
       "2                                                0.0      \n",
       "3                                                0.0      \n",
       "4                                                0.0      \n",
       "\n",
       "   OnlineSecurity&Contract&TechSupport_Yes&Two year&No  \\\n",
       "0                                                0.0     \n",
       "1                                                0.0     \n",
       "2                                                0.0     \n",
       "3                                                0.0     \n",
       "4                                                0.0     \n",
       "\n",
       "   OnlineSecurity&Contract&TechSupport_Yes&Two year&Yes  \n",
       "0                                                1.0     \n",
       "1                                                0.0     \n",
       "2                                                0.0     \n",
       "3                                                0.0     \n",
       "4                                                0.0     "
      ]
     },
     "execution_count": 60,
     "metadata": {},
     "output_type": "execute_result"
    }
   ],
   "source": [
    "features_train_new.head()"
   ]
  },
  {
   "cell_type": "markdown",
   "id": "a3eab4cf",
   "metadata": {},
   "source": [
    "就像此前介绍的一样，当参与交叉组合的特征越多、取值水平越多，衍生特征中出现零值的比例也就越高。我们可以简单计算衍生特征矩阵中0值的占比："
   ]
  },
  {
   "cell_type": "code",
   "execution_count": 61,
   "id": "e4bc279f",
   "metadata": {},
   "outputs": [
    {
     "data": {
      "text/plain": [
       "(5282, 15)"
      ]
     },
     "execution_count": 61,
     "metadata": {},
     "output_type": "execute_result"
    }
   ],
   "source": [
    "features_train_new.shape"
   ]
  },
  {
   "cell_type": "code",
   "execution_count": 62,
   "id": "5b0ad933",
   "metadata": {},
   "outputs": [
    {
     "data": {
      "text/plain": [
       "OnlineSecurity&Contract&TechSupport_No internet service&Month-to-month&No internet service    0.926543\n",
       "OnlineSecurity&Contract&TechSupport_No internet service&One year&No internet service          0.948315\n",
       "OnlineSecurity&Contract&TechSupport_No internet service&Two year&No internet service          0.912533\n",
       "OnlineSecurity&Contract&TechSupport_No&Month-to-month&No                                      0.689133\n",
       "OnlineSecurity&Contract&TechSupport_No&Month-to-month&Yes                                     0.931655\n",
       "OnlineSecurity&Contract&TechSupport_No&One year&No                                            0.958728\n",
       "OnlineSecurity&Contract&TechSupport_No&One year&Yes                                           0.965165\n",
       "OnlineSecurity&Contract&TechSupport_No&Two year&No                                            0.987694\n",
       "OnlineSecurity&Contract&TechSupport_No&Two year&Yes                                           0.967815\n",
       "OnlineSecurity&Contract&TechSupport_Yes&Month-to-month&No                                     0.927490\n",
       "OnlineSecurity&Contract&TechSupport_Yes&Month-to-month&Yes                                    0.972170\n",
       "OnlineSecurity&Contract&TechSupport_Yes&One year&No                                           0.961946\n",
       "OnlineSecurity&Contract&TechSupport_Yes&One year&Yes                                          0.957970\n",
       "OnlineSecurity&Contract&TechSupport_Yes&Two year&No                                           0.978796\n",
       "OnlineSecurity&Contract&TechSupport_Yes&Two year&Yes                                          0.914048\n",
       "dtype: float64"
      ]
     },
     "execution_count": 62,
     "metadata": {},
     "output_type": "execute_result"
    }
   ],
   "source": [
    "(features_train_new == 0).sum() / 5282"
   ]
  },
  {
   "cell_type": "markdown",
   "id": "46af0b2c",
   "metadata": {},
   "source": [
    "在大多数情况下，0值占比较高列有效信息也较少，在特征筛选环节中往往也是要被剔除的。这里能够发现，几乎所有衍生列的0值占比都超过了90%（除了OnlineSecurity&Contract&TechSupport_No&Month-to-month&No外），部分衍生列的0值占比甚至超过了95%，这也应证了此前所说，伴随着参与交叉组合的特征数量增加，有效信息会迅速衰减的过程。"
   ]
  },
  {
   "cell_type": "markdown",
   "id": "ee616cbb",
   "metadata": {},
   "source": [
    "> 这里需要注意，有种方法能够降低交叉组合衍生特征矩阵的稀疏性——降低原始离散变量的取值水平。例如此处可以将在线服务由原先的'Yse'、'No'、'No internet service'改为'Yse'、'No'的二分类变量。同学们可以课后自行进行尝试。"
   ]
  },
  {
   "cell_type": "markdown",
   "id": "ebecce57",
   "metadata": {},
   "source": [
    "- 效果验证"
   ]
  },
  {
   "cell_type": "markdown",
   "id": "b5929e75",
   "metadata": {},
   "source": [
    "&emsp;&emsp;当然，更多的关于矩阵稀疏性的探讨我们会在后续进行讨论，此处我们快速验证这些衍生特征与标签的相关性："
   ]
  },
  {
   "cell_type": "code",
   "execution_count": 63,
   "id": "9178ad23",
   "metadata": {},
   "outputs": [],
   "source": [
    "features_train_new.index = X_train.index"
   ]
  },
  {
   "cell_type": "code",
   "execution_count": 64,
   "id": "f0320407",
   "metadata": {},
   "outputs": [],
   "source": [
    "df_temp = pd.concat([features_train_new, y_train], axis=1)"
   ]
  },
  {
   "cell_type": "code",
   "execution_count": 65,
   "id": "39e1a669",
   "metadata": {},
   "outputs": [
    {
     "data": {
      "text/html": [
       "<div>\n",
       "<style scoped>\n",
       "    .dataframe tbody tr th:only-of-type {\n",
       "        vertical-align: middle;\n",
       "    }\n",
       "\n",
       "    .dataframe tbody tr th {\n",
       "        vertical-align: top;\n",
       "    }\n",
       "\n",
       "    .dataframe thead th {\n",
       "        text-align: right;\n",
       "    }\n",
       "</style>\n",
       "<table border=\"1\" class=\"dataframe\">\n",
       "  <thead>\n",
       "    <tr style=\"text-align: right;\">\n",
       "      <th></th>\n",
       "      <th>OnlineSecurity&amp;Contract&amp;TechSupport_No internet service&amp;Month-to-month&amp;No internet service</th>\n",
       "      <th>OnlineSecurity&amp;Contract&amp;TechSupport_No internet service&amp;One year&amp;No internet service</th>\n",
       "      <th>OnlineSecurity&amp;Contract&amp;TechSupport_No internet service&amp;Two year&amp;No internet service</th>\n",
       "      <th>OnlineSecurity&amp;Contract&amp;TechSupport_No&amp;Month-to-month&amp;No</th>\n",
       "      <th>OnlineSecurity&amp;Contract&amp;TechSupport_No&amp;Month-to-month&amp;Yes</th>\n",
       "      <th>OnlineSecurity&amp;Contract&amp;TechSupport_No&amp;One year&amp;No</th>\n",
       "      <th>OnlineSecurity&amp;Contract&amp;TechSupport_No&amp;One year&amp;Yes</th>\n",
       "      <th>OnlineSecurity&amp;Contract&amp;TechSupport_No&amp;Two year&amp;No</th>\n",
       "      <th>OnlineSecurity&amp;Contract&amp;TechSupport_No&amp;Two year&amp;Yes</th>\n",
       "      <th>OnlineSecurity&amp;Contract&amp;TechSupport_Yes&amp;Month-to-month&amp;No</th>\n",
       "      <th>OnlineSecurity&amp;Contract&amp;TechSupport_Yes&amp;Month-to-month&amp;Yes</th>\n",
       "      <th>OnlineSecurity&amp;Contract&amp;TechSupport_Yes&amp;One year&amp;No</th>\n",
       "      <th>OnlineSecurity&amp;Contract&amp;TechSupport_Yes&amp;One year&amp;Yes</th>\n",
       "      <th>OnlineSecurity&amp;Contract&amp;TechSupport_Yes&amp;Two year&amp;No</th>\n",
       "      <th>OnlineSecurity&amp;Contract&amp;TechSupport_Yes&amp;Two year&amp;Yes</th>\n",
       "      <th>Churn</th>\n",
       "    </tr>\n",
       "  </thead>\n",
       "  <tbody>\n",
       "    <tr>\n",
       "      <th>4067</th>\n",
       "      <td>0.0</td>\n",
       "      <td>0.0</td>\n",
       "      <td>0.0</td>\n",
       "      <td>0.0</td>\n",
       "      <td>0.0</td>\n",
       "      <td>0.0</td>\n",
       "      <td>0.0</td>\n",
       "      <td>0.0</td>\n",
       "      <td>0.0</td>\n",
       "      <td>0.0</td>\n",
       "      <td>0.0</td>\n",
       "      <td>0.0</td>\n",
       "      <td>0.0</td>\n",
       "      <td>0.0</td>\n",
       "      <td>1.0</td>\n",
       "      <td>0</td>\n",
       "    </tr>\n",
       "    <tr>\n",
       "      <th>3306</th>\n",
       "      <td>0.0</td>\n",
       "      <td>0.0</td>\n",
       "      <td>0.0</td>\n",
       "      <td>0.0</td>\n",
       "      <td>1.0</td>\n",
       "      <td>0.0</td>\n",
       "      <td>0.0</td>\n",
       "      <td>0.0</td>\n",
       "      <td>0.0</td>\n",
       "      <td>0.0</td>\n",
       "      <td>0.0</td>\n",
       "      <td>0.0</td>\n",
       "      <td>0.0</td>\n",
       "      <td>0.0</td>\n",
       "      <td>0.0</td>\n",
       "      <td>0</td>\n",
       "    </tr>\n",
       "    <tr>\n",
       "      <th>3391</th>\n",
       "      <td>1.0</td>\n",
       "      <td>0.0</td>\n",
       "      <td>0.0</td>\n",
       "      <td>0.0</td>\n",
       "      <td>0.0</td>\n",
       "      <td>0.0</td>\n",
       "      <td>0.0</td>\n",
       "      <td>0.0</td>\n",
       "      <td>0.0</td>\n",
       "      <td>0.0</td>\n",
       "      <td>0.0</td>\n",
       "      <td>0.0</td>\n",
       "      <td>0.0</td>\n",
       "      <td>0.0</td>\n",
       "      <td>0.0</td>\n",
       "      <td>0</td>\n",
       "    </tr>\n",
       "    <tr>\n",
       "      <th>3249</th>\n",
       "      <td>0.0</td>\n",
       "      <td>0.0</td>\n",
       "      <td>0.0</td>\n",
       "      <td>1.0</td>\n",
       "      <td>0.0</td>\n",
       "      <td>0.0</td>\n",
       "      <td>0.0</td>\n",
       "      <td>0.0</td>\n",
       "      <td>0.0</td>\n",
       "      <td>0.0</td>\n",
       "      <td>0.0</td>\n",
       "      <td>0.0</td>\n",
       "      <td>0.0</td>\n",
       "      <td>0.0</td>\n",
       "      <td>0.0</td>\n",
       "      <td>0</td>\n",
       "    </tr>\n",
       "    <tr>\n",
       "      <th>2674</th>\n",
       "      <td>1.0</td>\n",
       "      <td>0.0</td>\n",
       "      <td>0.0</td>\n",
       "      <td>0.0</td>\n",
       "      <td>0.0</td>\n",
       "      <td>0.0</td>\n",
       "      <td>0.0</td>\n",
       "      <td>0.0</td>\n",
       "      <td>0.0</td>\n",
       "      <td>0.0</td>\n",
       "      <td>0.0</td>\n",
       "      <td>0.0</td>\n",
       "      <td>0.0</td>\n",
       "      <td>0.0</td>\n",
       "      <td>0.0</td>\n",
       "      <td>0</td>\n",
       "    </tr>\n",
       "  </tbody>\n",
       "</table>\n",
       "</div>"
      ],
      "text/plain": [
       "      OnlineSecurity&Contract&TechSupport_No internet service&Month-to-month&No internet service  \\\n",
       "4067                                                0.0                                            \n",
       "3306                                                0.0                                            \n",
       "3391                                                1.0                                            \n",
       "3249                                                0.0                                            \n",
       "2674                                                1.0                                            \n",
       "\n",
       "      OnlineSecurity&Contract&TechSupport_No internet service&One year&No internet service  \\\n",
       "4067                                                0.0                                      \n",
       "3306                                                0.0                                      \n",
       "3391                                                0.0                                      \n",
       "3249                                                0.0                                      \n",
       "2674                                                0.0                                      \n",
       "\n",
       "      OnlineSecurity&Contract&TechSupport_No internet service&Two year&No internet service  \\\n",
       "4067                                                0.0                                      \n",
       "3306                                                0.0                                      \n",
       "3391                                                0.0                                      \n",
       "3249                                                0.0                                      \n",
       "2674                                                0.0                                      \n",
       "\n",
       "      OnlineSecurity&Contract&TechSupport_No&Month-to-month&No  \\\n",
       "4067                                                0.0          \n",
       "3306                                                0.0          \n",
       "3391                                                0.0          \n",
       "3249                                                1.0          \n",
       "2674                                                0.0          \n",
       "\n",
       "      OnlineSecurity&Contract&TechSupport_No&Month-to-month&Yes  \\\n",
       "4067                                                0.0           \n",
       "3306                                                1.0           \n",
       "3391                                                0.0           \n",
       "3249                                                0.0           \n",
       "2674                                                0.0           \n",
       "\n",
       "      OnlineSecurity&Contract&TechSupport_No&One year&No  \\\n",
       "4067                                                0.0    \n",
       "3306                                                0.0    \n",
       "3391                                                0.0    \n",
       "3249                                                0.0    \n",
       "2674                                                0.0    \n",
       "\n",
       "      OnlineSecurity&Contract&TechSupport_No&One year&Yes  \\\n",
       "4067                                                0.0     \n",
       "3306                                                0.0     \n",
       "3391                                                0.0     \n",
       "3249                                                0.0     \n",
       "2674                                                0.0     \n",
       "\n",
       "      OnlineSecurity&Contract&TechSupport_No&Two year&No  \\\n",
       "4067                                                0.0    \n",
       "3306                                                0.0    \n",
       "3391                                                0.0    \n",
       "3249                                                0.0    \n",
       "2674                                                0.0    \n",
       "\n",
       "      OnlineSecurity&Contract&TechSupport_No&Two year&Yes  \\\n",
       "4067                                                0.0     \n",
       "3306                                                0.0     \n",
       "3391                                                0.0     \n",
       "3249                                                0.0     \n",
       "2674                                                0.0     \n",
       "\n",
       "      OnlineSecurity&Contract&TechSupport_Yes&Month-to-month&No  \\\n",
       "4067                                                0.0           \n",
       "3306                                                0.0           \n",
       "3391                                                0.0           \n",
       "3249                                                0.0           \n",
       "2674                                                0.0           \n",
       "\n",
       "      OnlineSecurity&Contract&TechSupport_Yes&Month-to-month&Yes  \\\n",
       "4067                                                0.0            \n",
       "3306                                                0.0            \n",
       "3391                                                0.0            \n",
       "3249                                                0.0            \n",
       "2674                                                0.0            \n",
       "\n",
       "      OnlineSecurity&Contract&TechSupport_Yes&One year&No  \\\n",
       "4067                                                0.0     \n",
       "3306                                                0.0     \n",
       "3391                                                0.0     \n",
       "3249                                                0.0     \n",
       "2674                                                0.0     \n",
       "\n",
       "      OnlineSecurity&Contract&TechSupport_Yes&One year&Yes  \\\n",
       "4067                                                0.0      \n",
       "3306                                                0.0      \n",
       "3391                                                0.0      \n",
       "3249                                                0.0      \n",
       "2674                                                0.0      \n",
       "\n",
       "      OnlineSecurity&Contract&TechSupport_Yes&Two year&No  \\\n",
       "4067                                                0.0     \n",
       "3306                                                0.0     \n",
       "3391                                                0.0     \n",
       "3249                                                0.0     \n",
       "2674                                                0.0     \n",
       "\n",
       "      OnlineSecurity&Contract&TechSupport_Yes&Two year&Yes  Churn  \n",
       "4067                                                1.0         0  \n",
       "3306                                                0.0         0  \n",
       "3391                                                0.0         0  \n",
       "3249                                                0.0         0  \n",
       "2674                                                0.0         0  "
      ]
     },
     "execution_count": 65,
     "metadata": {},
     "output_type": "execute_result"
    }
   ],
   "source": [
    "df_temp.head()"
   ]
  },
  {
   "cell_type": "markdown",
   "id": "7a71d6b7",
   "metadata": {},
   "source": [
    "然后进行衍生特征与标签的相关系数的计算："
   ]
  },
  {
   "cell_type": "code",
   "execution_count": 66,
   "id": "ff5c4033",
   "metadata": {},
   "outputs": [],
   "source": [
    "df_corr = df_temp.corr()['Churn'].sort_values(ascending = False)"
   ]
  },
  {
   "cell_type": "code",
   "execution_count": 67,
   "id": "6f37c31d",
   "metadata": {},
   "outputs": [
    {
     "data": {
      "text/plain": [
       "Churn                                                                                         1.000000\n",
       "OnlineSecurity&Contract&TechSupport_No&Month-to-month&No                                      0.440002\n",
       "OnlineSecurity&Contract&TechSupport_No&Month-to-month&Yes                                     0.042028\n",
       "OnlineSecurity&Contract&TechSupport_Yes&Month-to-month&No                                     0.021370\n",
       "OnlineSecurity&Contract&TechSupport_Yes&Month-to-month&Yes                                   -0.029948\n",
       "OnlineSecurity&Contract&TechSupport_No&One year&No                                           -0.034648\n",
       "OnlineSecurity&Contract&TechSupport_No&Two year&No                                           -0.042966\n",
       "OnlineSecurity&Contract&TechSupport_No&One year&Yes                                          -0.044896\n",
       "OnlineSecurity&Contract&TechSupport_No internet service&Month-to-month&No internet service   -0.060186\n",
       "OnlineSecurity&Contract&TechSupport_Yes&One year&Yes                                         -0.066653\n",
       "OnlineSecurity&Contract&TechSupport_Yes&One year&No                                          -0.068799\n",
       "OnlineSecurity&Contract&TechSupport_No&Two year&Yes                                          -0.084091\n",
       "OnlineSecurity&Contract&TechSupport_Yes&Two year&No                                          -0.087573\n",
       "OnlineSecurity&Contract&TechSupport_No internet service&One year&No internet service         -0.127228\n",
       "OnlineSecurity&Contract&TechSupport_Yes&Two year&Yes                                         -0.167083\n",
       "OnlineSecurity&Contract&TechSupport_No internet service&Two year&No internet service         -0.178107\n",
       "Name: Churn, dtype: float64"
      ]
     },
     "execution_count": 67,
     "metadata": {},
     "output_type": "execute_result"
    }
   ],
   "source": [
    "df_corr"
   ]
  },
  {
   "cell_type": "markdown",
   "id": "6e2dfa82",
   "metadata": {},
   "source": [
    "能够看出，组合出的特征的有效性也在快速递减，即在上述组合衍生特征中，仅有一个特征表现较好，即OnlineSecurity&Contract&TechSupport_No&Month-to-month&No，仔细观察不难发现，该特征也正是此前0值占比较少的特征。也就是说，该特征不仅包含的信息量较大，且有效信息较多，可以进一步尝试带入模型进行测试："
   ]
  },
  {
   "cell_type": "code",
   "execution_count": 68,
   "id": "9638a0e8",
   "metadata": {},
   "outputs": [
    {
     "data": {
      "text/plain": [
       "['OnlineSecurity&Contract&TechSupport_No&Month-to-month&No']"
      ]
     },
     "execution_count": 68,
     "metadata": {},
     "output_type": "execute_result"
    }
   ],
   "source": [
    "new_col = list(np.abs(df_corr).sort_values(ascending = False)[1: 2].index)\n",
    "new_col"
   ]
  },
  {
   "cell_type": "code",
   "execution_count": 69,
   "id": "48359659",
   "metadata": {},
   "outputs": [],
   "source": [
    "train_new_temp = features_train_new[new_col]\n",
    "test_new_temp = features_test_new[new_col]"
   ]
  },
  {
   "cell_type": "code",
   "execution_count": 70,
   "id": "e98e12de",
   "metadata": {},
   "outputs": [
    {
     "data": {
      "text/html": [
       "<div>\n",
       "<style scoped>\n",
       "    .dataframe tbody tr th:only-of-type {\n",
       "        vertical-align: middle;\n",
       "    }\n",
       "\n",
       "    .dataframe tbody tr th {\n",
       "        vertical-align: top;\n",
       "    }\n",
       "\n",
       "    .dataframe thead th {\n",
       "        text-align: right;\n",
       "    }\n",
       "</style>\n",
       "<table border=\"1\" class=\"dataframe\">\n",
       "  <thead>\n",
       "    <tr style=\"text-align: right;\">\n",
       "      <th></th>\n",
       "      <th>OnlineSecurity&amp;Contract&amp;TechSupport_No&amp;Month-to-month&amp;No</th>\n",
       "    </tr>\n",
       "  </thead>\n",
       "  <tbody>\n",
       "    <tr>\n",
       "      <th>4067</th>\n",
       "      <td>0.0</td>\n",
       "    </tr>\n",
       "    <tr>\n",
       "      <th>3306</th>\n",
       "      <td>0.0</td>\n",
       "    </tr>\n",
       "    <tr>\n",
       "      <th>3391</th>\n",
       "      <td>0.0</td>\n",
       "    </tr>\n",
       "    <tr>\n",
       "      <th>3249</th>\n",
       "      <td>1.0</td>\n",
       "    </tr>\n",
       "    <tr>\n",
       "      <th>2674</th>\n",
       "      <td>0.0</td>\n",
       "    </tr>\n",
       "  </tbody>\n",
       "</table>\n",
       "</div>"
      ],
      "text/plain": [
       "      OnlineSecurity&Contract&TechSupport_No&Month-to-month&No\n",
       "4067                                                0.0       \n",
       "3306                                                0.0       \n",
       "3391                                                0.0       \n",
       "3249                                                1.0       \n",
       "2674                                                0.0       "
      ]
     },
     "execution_count": 70,
     "metadata": {},
     "output_type": "execute_result"
    }
   ],
   "source": [
    "train_new_temp.head()"
   ]
  },
  {
   "cell_type": "code",
   "execution_count": 71,
   "id": "943e70b2",
   "metadata": {},
   "outputs": [
    {
     "name": "stdout",
     "output_type": "stream",
     "text": [
      "42.55664372444153 s\n"
     ]
    },
    {
     "data": {
      "text/plain": [
       "(0.8082181201800406,\n",
       " {'columntransformer__num': 'passthrough',\n",
       "  'logit_threshold__C': 0.6,\n",
       "  'logit_threshold__penalty': 'l2',\n",
       "  'logit_threshold__solver': 'lbfgs'})"
      ]
     },
     "execution_count": 71,
     "metadata": {},
     "output_type": "execute_result"
    }
   ],
   "source": [
    "features_test(train_new_temp, \n",
    "              test_new_temp, \n",
    "              X_train, \n",
    "              X_test, \n",
    "              y_train, \n",
    "              y_test, \n",
    "              category_cols, \n",
    "              numeric_cols)"
   ]
  },
  {
   "cell_type": "markdown",
   "id": "42361f73",
   "metadata": {},
   "source": [
    "并且如果进一步尝试带入相关系数最高的两个特征进行测试，效果也不会有更进一步的提升："
   ]
  },
  {
   "cell_type": "code",
   "execution_count": 72,
   "id": "b232fa80",
   "metadata": {},
   "outputs": [
    {
     "name": "stdout",
     "output_type": "stream",
     "text": [
      "['OnlineSecurity&Contract&TechSupport_No&Month-to-month&No', 'OnlineSecurity&Contract&TechSupport_No internet service&Two year&No internet service']\n",
      "43.986942291259766 s\n"
     ]
    },
    {
     "data": {
      "text/plain": [
       "(0.8097325549726213,\n",
       " {'columntransformer__num': 'passthrough',\n",
       "  'logit_threshold__C': 0.4,\n",
       "  'logit_threshold__penalty': 'l2',\n",
       "  'logit_threshold__solver': 'lbfgs'})"
      ]
     },
     "execution_count": 72,
     "metadata": {},
     "output_type": "execute_result"
    }
   ],
   "source": [
    "new_col = list(np.abs(df_corr).sort_values(ascending = False)[1: 3].index)\n",
    "print(new_col)\n",
    "\n",
    "train_new_temp = features_train_new[new_col]\n",
    "test_new_temp = features_test_new[new_col]\n",
    "\n",
    "features_test(train_new_temp, \n",
    "              test_new_temp, \n",
    "              X_train, \n",
    "              X_test, \n",
    "              y_train, \n",
    "              y_test, \n",
    "              category_cols, \n",
    "              numeric_cols)"
   ]
  },
  {
   "cell_type": "markdown",
   "id": "4f342693",
   "metadata": {},
   "source": [
    "整体来看，伴随着参与交叉组合的特征越多，有效信息衰减的越严重，因此在大多数时候，我们在执行多变量交叉组合的过程中，都是优先考虑最强特征的组合。"
   ]
  },
  {
   "cell_type": "markdown",
   "id": "69942b32",
   "metadata": {},
   "source": [
    "> 当然，如果算力足够强特征筛选过程足够高效，其实也完全可以无视这个过程，直接带入全特征的三三组合、四四组合进行特征衍生，然后再进行特征筛选，但哪怕是这样的过程，在实际操作过程中我们还是会发现，三三组合出来的有效特征要少于两两组合的有效特征，四四组合又要少于三三组合，以此类推。"
   ]
  },
  {
   "cell_type": "markdown",
   "id": "fe0c906f",
   "metadata": {},
   "source": [
    "#### 3.3 带入时序衍生特征的交叉组合衍生"
   ]
  },
  {
   "cell_type": "markdown",
   "id": "28bad61e",
   "metadata": {},
   "source": [
    "&emsp;&emsp;接下来继续测试带入时序衍生数据后的交叉组合特征衍生。首先需要注意的是，对于交叉组合特征衍生只适用于取值水平较少的离散变量（否则衍生特征矩阵会过于稀疏），因此对于时序衍生特征来说，一般只考虑带入年份（如果取值较少的话）、季度、星期几，最多可以考虑带入月份（12个取值的分类变量）。"
   ]
  },
  {
   "cell_type": "code",
   "execution_count": 73,
   "id": "38eb8a85",
   "metadata": {},
   "outputs": [
    {
     "data": {
      "text/html": [
       "<div>\n",
       "<style scoped>\n",
       "    .dataframe tbody tr th:only-of-type {\n",
       "        vertical-align: middle;\n",
       "    }\n",
       "\n",
       "    .dataframe tbody tr th {\n",
       "        vertical-align: top;\n",
       "    }\n",
       "\n",
       "    .dataframe thead th {\n",
       "        text-align: right;\n",
       "    }\n",
       "</style>\n",
       "<table border=\"1\" class=\"dataframe\">\n",
       "  <thead>\n",
       "    <tr style=\"text-align: right;\">\n",
       "      <th></th>\n",
       "      <th>tenure_year_2014</th>\n",
       "      <th>tenure_year_2015</th>\n",
       "      <th>tenure_year_2016</th>\n",
       "      <th>tenure_year_2017</th>\n",
       "      <th>tenure_year_2018</th>\n",
       "      <th>tenure_year_2019</th>\n",
       "      <th>tenure_year_2020</th>\n",
       "      <th>tenure_month_1</th>\n",
       "      <th>tenure_month_2</th>\n",
       "      <th>tenure_month_3</th>\n",
       "      <th>...</th>\n",
       "      <th>tenure_month_7</th>\n",
       "      <th>tenure_month_8</th>\n",
       "      <th>tenure_month_9</th>\n",
       "      <th>tenure_month_10</th>\n",
       "      <th>tenure_month_11</th>\n",
       "      <th>tenure_month_12</th>\n",
       "      <th>tenure_quarter_1</th>\n",
       "      <th>tenure_quarter_2</th>\n",
       "      <th>tenure_quarter_3</th>\n",
       "      <th>tenure_quarter_4</th>\n",
       "    </tr>\n",
       "  </thead>\n",
       "  <tbody>\n",
       "    <tr>\n",
       "      <th>4067</th>\n",
       "      <td>1.0</td>\n",
       "      <td>0.0</td>\n",
       "      <td>0.0</td>\n",
       "      <td>0.0</td>\n",
       "      <td>0.0</td>\n",
       "      <td>0.0</td>\n",
       "      <td>0.0</td>\n",
       "      <td>0.0</td>\n",
       "      <td>0.0</td>\n",
       "      <td>0.0</td>\n",
       "      <td>...</td>\n",
       "      <td>0.0</td>\n",
       "      <td>0.0</td>\n",
       "      <td>0.0</td>\n",
       "      <td>0.0</td>\n",
       "      <td>0.0</td>\n",
       "      <td>0.0</td>\n",
       "      <td>0.0</td>\n",
       "      <td>1.0</td>\n",
       "      <td>0.0</td>\n",
       "      <td>0.0</td>\n",
       "    </tr>\n",
       "    <tr>\n",
       "      <th>3306</th>\n",
       "      <td>0.0</td>\n",
       "      <td>0.0</td>\n",
       "      <td>0.0</td>\n",
       "      <td>0.0</td>\n",
       "      <td>0.0</td>\n",
       "      <td>1.0</td>\n",
       "      <td>0.0</td>\n",
       "      <td>0.0</td>\n",
       "      <td>0.0</td>\n",
       "      <td>0.0</td>\n",
       "      <td>...</td>\n",
       "      <td>0.0</td>\n",
       "      <td>0.0</td>\n",
       "      <td>0.0</td>\n",
       "      <td>1.0</td>\n",
       "      <td>0.0</td>\n",
       "      <td>0.0</td>\n",
       "      <td>0.0</td>\n",
       "      <td>0.0</td>\n",
       "      <td>0.0</td>\n",
       "      <td>1.0</td>\n",
       "    </tr>\n",
       "    <tr>\n",
       "      <th>3391</th>\n",
       "      <td>0.0</td>\n",
       "      <td>0.0</td>\n",
       "      <td>0.0</td>\n",
       "      <td>0.0</td>\n",
       "      <td>0.0</td>\n",
       "      <td>1.0</td>\n",
       "      <td>0.0</td>\n",
       "      <td>0.0</td>\n",
       "      <td>0.0</td>\n",
       "      <td>0.0</td>\n",
       "      <td>...</td>\n",
       "      <td>0.0</td>\n",
       "      <td>0.0</td>\n",
       "      <td>1.0</td>\n",
       "      <td>0.0</td>\n",
       "      <td>0.0</td>\n",
       "      <td>0.0</td>\n",
       "      <td>0.0</td>\n",
       "      <td>0.0</td>\n",
       "      <td>1.0</td>\n",
       "      <td>0.0</td>\n",
       "    </tr>\n",
       "    <tr>\n",
       "      <th>3249</th>\n",
       "      <td>0.0</td>\n",
       "      <td>0.0</td>\n",
       "      <td>0.0</td>\n",
       "      <td>0.0</td>\n",
       "      <td>0.0</td>\n",
       "      <td>1.0</td>\n",
       "      <td>0.0</td>\n",
       "      <td>0.0</td>\n",
       "      <td>0.0</td>\n",
       "      <td>1.0</td>\n",
       "      <td>...</td>\n",
       "      <td>0.0</td>\n",
       "      <td>0.0</td>\n",
       "      <td>0.0</td>\n",
       "      <td>0.0</td>\n",
       "      <td>0.0</td>\n",
       "      <td>0.0</td>\n",
       "      <td>1.0</td>\n",
       "      <td>0.0</td>\n",
       "      <td>0.0</td>\n",
       "      <td>0.0</td>\n",
       "    </tr>\n",
       "    <tr>\n",
       "      <th>2674</th>\n",
       "      <td>0.0</td>\n",
       "      <td>0.0</td>\n",
       "      <td>0.0</td>\n",
       "      <td>0.0</td>\n",
       "      <td>0.0</td>\n",
       "      <td>1.0</td>\n",
       "      <td>0.0</td>\n",
       "      <td>0.0</td>\n",
       "      <td>0.0</td>\n",
       "      <td>0.0</td>\n",
       "      <td>...</td>\n",
       "      <td>0.0</td>\n",
       "      <td>0.0</td>\n",
       "      <td>1.0</td>\n",
       "      <td>0.0</td>\n",
       "      <td>0.0</td>\n",
       "      <td>0.0</td>\n",
       "      <td>0.0</td>\n",
       "      <td>0.0</td>\n",
       "      <td>1.0</td>\n",
       "      <td>0.0</td>\n",
       "    </tr>\n",
       "  </tbody>\n",
       "</table>\n",
       "<p>5 rows × 23 columns</p>\n",
       "</div>"
      ],
      "text/plain": [
       "      tenure_year_2014  tenure_year_2015  tenure_year_2016  tenure_year_2017  \\\n",
       "4067               1.0               0.0               0.0               0.0   \n",
       "3306               0.0               0.0               0.0               0.0   \n",
       "3391               0.0               0.0               0.0               0.0   \n",
       "3249               0.0               0.0               0.0               0.0   \n",
       "2674               0.0               0.0               0.0               0.0   \n",
       "\n",
       "      tenure_year_2018  tenure_year_2019  tenure_year_2020  tenure_month_1  \\\n",
       "4067               0.0               0.0               0.0             0.0   \n",
       "3306               0.0               1.0               0.0             0.0   \n",
       "3391               0.0               1.0               0.0             0.0   \n",
       "3249               0.0               1.0               0.0             0.0   \n",
       "2674               0.0               1.0               0.0             0.0   \n",
       "\n",
       "      tenure_month_2  tenure_month_3  ...  tenure_month_7  tenure_month_8  \\\n",
       "4067             0.0             0.0  ...             0.0             0.0   \n",
       "3306             0.0             0.0  ...             0.0             0.0   \n",
       "3391             0.0             0.0  ...             0.0             0.0   \n",
       "3249             0.0             1.0  ...             0.0             0.0   \n",
       "2674             0.0             0.0  ...             0.0             0.0   \n",
       "\n",
       "      tenure_month_9  tenure_month_10  tenure_month_11  tenure_month_12  \\\n",
       "4067             0.0              0.0              0.0              0.0   \n",
       "3306             0.0              1.0              0.0              0.0   \n",
       "3391             1.0              0.0              0.0              0.0   \n",
       "3249             0.0              0.0              0.0              0.0   \n",
       "2674             1.0              0.0              0.0              0.0   \n",
       "\n",
       "      tenure_quarter_1  tenure_quarter_2  tenure_quarter_3  tenure_quarter_4  \n",
       "4067               0.0               1.0               0.0               0.0  \n",
       "3306               0.0               0.0               0.0               1.0  \n",
       "3391               0.0               0.0               1.0               0.0  \n",
       "3249               1.0               0.0               0.0               0.0  \n",
       "2674               0.0               0.0               1.0               0.0  \n",
       "\n",
       "[5 rows x 23 columns]"
      ]
     },
     "execution_count": 73,
     "metadata": {},
     "output_type": "execute_result"
    }
   ],
   "source": [
    "X_train_seq.head()"
   ]
  },
  {
   "cell_type": "markdown",
   "id": "ac5bc38e",
   "metadata": {},
   "source": [
    "对于当前时序衍生特征来说，可以带入全部特征进行交叉组合。"
   ]
  },
  {
   "cell_type": "markdown",
   "id": "513a8703",
   "metadata": {},
   "source": [
    "- 双变量交叉组合特征衍生"
   ]
  },
  {
   "cell_type": "markdown",
   "id": "65f23561",
   "metadata": {},
   "source": [
    "&emsp;&emsp;首先是时序特征和原始特征的两两交叉组合。首先我们将原始数据集中的离散变量与时序衍生特征进行拼接："
   ]
  },
  {
   "cell_type": "code",
   "execution_count": 74,
   "id": "5cf4a033",
   "metadata": {},
   "outputs": [],
   "source": [
    "# 调整index\n",
    "X_train_seq.index = X_train.index\n",
    "X_test_seq.index = X_test.index\n",
    "\n",
    "# 拼接数据集\n",
    "train_temp = pd.concat([X_train[category_cols], X_train_seq], axis=1)\n",
    "test_temp = pd.concat([X_test[category_cols], X_test_seq], axis=1)"
   ]
  },
  {
   "cell_type": "code",
   "execution_count": 75,
   "id": "bdd03ce8",
   "metadata": {},
   "outputs": [
    {
     "data": {
      "text/html": [
       "<div>\n",
       "<style scoped>\n",
       "    .dataframe tbody tr th:only-of-type {\n",
       "        vertical-align: middle;\n",
       "    }\n",
       "\n",
       "    .dataframe tbody tr th {\n",
       "        vertical-align: top;\n",
       "    }\n",
       "\n",
       "    .dataframe thead th {\n",
       "        text-align: right;\n",
       "    }\n",
       "</style>\n",
       "<table border=\"1\" class=\"dataframe\">\n",
       "  <thead>\n",
       "    <tr style=\"text-align: right;\">\n",
       "      <th></th>\n",
       "      <th>gender</th>\n",
       "      <th>SeniorCitizen</th>\n",
       "      <th>Partner</th>\n",
       "      <th>Dependents</th>\n",
       "      <th>PhoneService</th>\n",
       "      <th>MultipleLines</th>\n",
       "      <th>InternetService</th>\n",
       "      <th>OnlineSecurity</th>\n",
       "      <th>OnlineBackup</th>\n",
       "      <th>DeviceProtection</th>\n",
       "      <th>...</th>\n",
       "      <th>tenure_month_7</th>\n",
       "      <th>tenure_month_8</th>\n",
       "      <th>tenure_month_9</th>\n",
       "      <th>tenure_month_10</th>\n",
       "      <th>tenure_month_11</th>\n",
       "      <th>tenure_month_12</th>\n",
       "      <th>tenure_quarter_1</th>\n",
       "      <th>tenure_quarter_2</th>\n",
       "      <th>tenure_quarter_3</th>\n",
       "      <th>tenure_quarter_4</th>\n",
       "    </tr>\n",
       "  </thead>\n",
       "  <tbody>\n",
       "    <tr>\n",
       "      <th>4067</th>\n",
       "      <td>Female</td>\n",
       "      <td>0</td>\n",
       "      <td>Yes</td>\n",
       "      <td>No</td>\n",
       "      <td>Yes</td>\n",
       "      <td>No</td>\n",
       "      <td>DSL</td>\n",
       "      <td>Yes</td>\n",
       "      <td>Yes</td>\n",
       "      <td>No</td>\n",
       "      <td>...</td>\n",
       "      <td>0.0</td>\n",
       "      <td>0.0</td>\n",
       "      <td>0.0</td>\n",
       "      <td>0.0</td>\n",
       "      <td>0.0</td>\n",
       "      <td>0.0</td>\n",
       "      <td>0.0</td>\n",
       "      <td>1.0</td>\n",
       "      <td>0.0</td>\n",
       "      <td>0.0</td>\n",
       "    </tr>\n",
       "    <tr>\n",
       "      <th>3306</th>\n",
       "      <td>Female</td>\n",
       "      <td>0</td>\n",
       "      <td>Yes</td>\n",
       "      <td>Yes</td>\n",
       "      <td>Yes</td>\n",
       "      <td>No</td>\n",
       "      <td>Fiber optic</td>\n",
       "      <td>No</td>\n",
       "      <td>Yes</td>\n",
       "      <td>No</td>\n",
       "      <td>...</td>\n",
       "      <td>0.0</td>\n",
       "      <td>0.0</td>\n",
       "      <td>0.0</td>\n",
       "      <td>1.0</td>\n",
       "      <td>0.0</td>\n",
       "      <td>0.0</td>\n",
       "      <td>0.0</td>\n",
       "      <td>0.0</td>\n",
       "      <td>0.0</td>\n",
       "      <td>1.0</td>\n",
       "    </tr>\n",
       "    <tr>\n",
       "      <th>3391</th>\n",
       "      <td>Male</td>\n",
       "      <td>0</td>\n",
       "      <td>No</td>\n",
       "      <td>No</td>\n",
       "      <td>Yes</td>\n",
       "      <td>No</td>\n",
       "      <td>No</td>\n",
       "      <td>No internet service</td>\n",
       "      <td>No internet service</td>\n",
       "      <td>No internet service</td>\n",
       "      <td>...</td>\n",
       "      <td>0.0</td>\n",
       "      <td>0.0</td>\n",
       "      <td>1.0</td>\n",
       "      <td>0.0</td>\n",
       "      <td>0.0</td>\n",
       "      <td>0.0</td>\n",
       "      <td>0.0</td>\n",
       "      <td>0.0</td>\n",
       "      <td>1.0</td>\n",
       "      <td>0.0</td>\n",
       "    </tr>\n",
       "    <tr>\n",
       "      <th>3249</th>\n",
       "      <td>Female</td>\n",
       "      <td>0</td>\n",
       "      <td>Yes</td>\n",
       "      <td>Yes</td>\n",
       "      <td>Yes</td>\n",
       "      <td>No</td>\n",
       "      <td>DSL</td>\n",
       "      <td>No</td>\n",
       "      <td>Yes</td>\n",
       "      <td>Yes</td>\n",
       "      <td>...</td>\n",
       "      <td>0.0</td>\n",
       "      <td>0.0</td>\n",
       "      <td>0.0</td>\n",
       "      <td>0.0</td>\n",
       "      <td>0.0</td>\n",
       "      <td>0.0</td>\n",
       "      <td>1.0</td>\n",
       "      <td>0.0</td>\n",
       "      <td>0.0</td>\n",
       "      <td>0.0</td>\n",
       "    </tr>\n",
       "    <tr>\n",
       "      <th>2674</th>\n",
       "      <td>Female</td>\n",
       "      <td>1</td>\n",
       "      <td>No</td>\n",
       "      <td>No</td>\n",
       "      <td>Yes</td>\n",
       "      <td>No</td>\n",
       "      <td>No</td>\n",
       "      <td>No internet service</td>\n",
       "      <td>No internet service</td>\n",
       "      <td>No internet service</td>\n",
       "      <td>...</td>\n",
       "      <td>0.0</td>\n",
       "      <td>0.0</td>\n",
       "      <td>1.0</td>\n",
       "      <td>0.0</td>\n",
       "      <td>0.0</td>\n",
       "      <td>0.0</td>\n",
       "      <td>0.0</td>\n",
       "      <td>0.0</td>\n",
       "      <td>1.0</td>\n",
       "      <td>0.0</td>\n",
       "    </tr>\n",
       "  </tbody>\n",
       "</table>\n",
       "<p>5 rows × 39 columns</p>\n",
       "</div>"
      ],
      "text/plain": [
       "      gender  SeniorCitizen Partner Dependents PhoneService MultipleLines  \\\n",
       "4067  Female              0     Yes         No          Yes            No   \n",
       "3306  Female              0     Yes        Yes          Yes            No   \n",
       "3391    Male              0      No         No          Yes            No   \n",
       "3249  Female              0     Yes        Yes          Yes            No   \n",
       "2674  Female              1      No         No          Yes            No   \n",
       "\n",
       "     InternetService       OnlineSecurity         OnlineBackup  \\\n",
       "4067             DSL                  Yes                  Yes   \n",
       "3306     Fiber optic                   No                  Yes   \n",
       "3391              No  No internet service  No internet service   \n",
       "3249             DSL                   No                  Yes   \n",
       "2674              No  No internet service  No internet service   \n",
       "\n",
       "         DeviceProtection  ... tenure_month_7 tenure_month_8 tenure_month_9  \\\n",
       "4067                   No  ...            0.0            0.0            0.0   \n",
       "3306                   No  ...            0.0            0.0            0.0   \n",
       "3391  No internet service  ...            0.0            0.0            1.0   \n",
       "3249                  Yes  ...            0.0            0.0            0.0   \n",
       "2674  No internet service  ...            0.0            0.0            1.0   \n",
       "\n",
       "     tenure_month_10 tenure_month_11 tenure_month_12  tenure_quarter_1  \\\n",
       "4067             0.0             0.0             0.0               0.0   \n",
       "3306             1.0             0.0             0.0               0.0   \n",
       "3391             0.0             0.0             0.0               0.0   \n",
       "3249             0.0             0.0             0.0               1.0   \n",
       "2674             0.0             0.0             0.0               0.0   \n",
       "\n",
       "      tenure_quarter_2  tenure_quarter_3  tenure_quarter_4  \n",
       "4067               1.0               0.0               0.0  \n",
       "3306               0.0               0.0               1.0  \n",
       "3391               0.0               1.0               0.0  \n",
       "3249               0.0               0.0               0.0  \n",
       "2674               0.0               1.0               0.0  \n",
       "\n",
       "[5 rows x 39 columns]"
      ]
     },
     "execution_count": 75,
     "metadata": {},
     "output_type": "execute_result"
    }
   ],
   "source": [
    "train_temp.head()"
   ]
  },
  {
   "cell_type": "code",
   "execution_count": 76,
   "id": "53a86df8",
   "metadata": {},
   "outputs": [
    {
     "data": {
      "text/plain": [
       "((5282, 39), (1761, 39))"
      ]
     },
     "execution_count": 76,
     "metadata": {},
     "output_type": "execute_result"
    }
   ],
   "source": [
    "train_temp.shape, test_temp.shape"
   ]
  },
  {
   "cell_type": "markdown",
   "id": "f69ab80c",
   "metadata": {},
   "source": [
    "然后进行交叉组合特征衍生："
   ]
  },
  {
   "cell_type": "code",
   "execution_count": 77,
   "id": "5c05ecba",
   "metadata": {
    "tags": []
   },
   "outputs": [
    {
     "data": {
      "text/plain": [
       "['gender',\n",
       " 'SeniorCitizen',\n",
       " 'Partner',\n",
       " 'Dependents',\n",
       " 'PhoneService',\n",
       " 'MultipleLines',\n",
       " 'InternetService',\n",
       " 'OnlineSecurity',\n",
       " 'OnlineBackup',\n",
       " 'DeviceProtection',\n",
       " 'TechSupport',\n",
       " 'StreamingTV',\n",
       " 'StreamingMovies',\n",
       " 'Contract',\n",
       " 'PaperlessBilling',\n",
       " 'PaymentMethod',\n",
       " 'tenure_year_2014',\n",
       " 'tenure_year_2015',\n",
       " 'tenure_year_2016',\n",
       " 'tenure_year_2017',\n",
       " 'tenure_year_2018',\n",
       " 'tenure_year_2019',\n",
       " 'tenure_year_2020',\n",
       " 'tenure_month_1',\n",
       " 'tenure_month_2',\n",
       " 'tenure_month_3',\n",
       " 'tenure_month_4',\n",
       " 'tenure_month_5',\n",
       " 'tenure_month_6',\n",
       " 'tenure_month_7',\n",
       " 'tenure_month_8',\n",
       " 'tenure_month_9',\n",
       " 'tenure_month_10',\n",
       " 'tenure_month_11',\n",
       " 'tenure_month_12',\n",
       " 'tenure_quarter_1',\n",
       " 'tenure_quarter_2',\n",
       " 'tenure_quarter_3',\n",
       " 'tenure_quarter_4']"
      ]
     },
     "execution_count": 77,
     "metadata": {},
     "output_type": "execute_result"
    }
   ],
   "source": [
    "list(train_temp.columns)"
   ]
  },
  {
   "cell_type": "code",
   "execution_count": 78,
   "id": "c2075053",
   "metadata": {},
   "outputs": [
    {
     "data": {
      "text/plain": [
       "39"
      ]
     },
     "execution_count": 78,
     "metadata": {},
     "output_type": "execute_result"
    }
   ],
   "source": [
    "len(list(train_temp.columns))"
   ]
  },
  {
   "cell_type": "code",
   "execution_count": 79,
   "id": "d85c4f7f",
   "metadata": {},
   "outputs": [],
   "source": [
    "features_train_new, features_test_new, colNames_train_new, colNames_test_new = Cross_Combination(list(train_temp.columns), \n",
    "                                                                                                 train_temp, \n",
    "                                                                                                 test_temp)"
   ]
  },
  {
   "cell_type": "code",
   "execution_count": 80,
   "id": "a378bc2c",
   "metadata": {},
   "outputs": [
    {
     "data": {
      "text/html": [
       "<div>\n",
       "<style scoped>\n",
       "    .dataframe tbody tr th:only-of-type {\n",
       "        vertical-align: middle;\n",
       "    }\n",
       "\n",
       "    .dataframe tbody tr th {\n",
       "        vertical-align: top;\n",
       "    }\n",
       "\n",
       "    .dataframe thead th {\n",
       "        text-align: right;\n",
       "    }\n",
       "</style>\n",
       "<table border=\"1\" class=\"dataframe\">\n",
       "  <thead>\n",
       "    <tr style=\"text-align: right;\">\n",
       "      <th></th>\n",
       "      <th>gender&amp;SeniorCitizen_Female&amp;0</th>\n",
       "      <th>gender&amp;SeniorCitizen_Female&amp;1</th>\n",
       "      <th>gender&amp;SeniorCitizen_Male&amp;0</th>\n",
       "      <th>gender&amp;SeniorCitizen_Male&amp;1</th>\n",
       "      <th>gender&amp;Partner_Female&amp;No</th>\n",
       "      <th>gender&amp;Partner_Female&amp;Yes</th>\n",
       "      <th>gender&amp;Partner_Male&amp;No</th>\n",
       "      <th>gender&amp;Partner_Male&amp;Yes</th>\n",
       "      <th>gender&amp;Dependents_Female&amp;No</th>\n",
       "      <th>gender&amp;Dependents_Female&amp;Yes</th>\n",
       "      <th>...</th>\n",
       "      <th>tenure_quarter_1&amp;tenure_quarter_4_1.0&amp;0.0</th>\n",
       "      <th>tenure_quarter_2&amp;tenure_quarter_3_0.0&amp;0.0</th>\n",
       "      <th>tenure_quarter_2&amp;tenure_quarter_3_0.0&amp;1.0</th>\n",
       "      <th>tenure_quarter_2&amp;tenure_quarter_3_1.0&amp;0.0</th>\n",
       "      <th>tenure_quarter_2&amp;tenure_quarter_4_0.0&amp;0.0</th>\n",
       "      <th>tenure_quarter_2&amp;tenure_quarter_4_0.0&amp;1.0</th>\n",
       "      <th>tenure_quarter_2&amp;tenure_quarter_4_1.0&amp;0.0</th>\n",
       "      <th>tenure_quarter_3&amp;tenure_quarter_4_0.0&amp;0.0</th>\n",
       "      <th>tenure_quarter_3&amp;tenure_quarter_4_0.0&amp;1.0</th>\n",
       "      <th>tenure_quarter_3&amp;tenure_quarter_4_1.0&amp;0.0</th>\n",
       "    </tr>\n",
       "  </thead>\n",
       "  <tbody>\n",
       "    <tr>\n",
       "      <th>0</th>\n",
       "      <td>1.0</td>\n",
       "      <td>0.0</td>\n",
       "      <td>0.0</td>\n",
       "      <td>0.0</td>\n",
       "      <td>0.0</td>\n",
       "      <td>1.0</td>\n",
       "      <td>0.0</td>\n",
       "      <td>0.0</td>\n",
       "      <td>1.0</td>\n",
       "      <td>0.0</td>\n",
       "      <td>...</td>\n",
       "      <td>0.0</td>\n",
       "      <td>0.0</td>\n",
       "      <td>0.0</td>\n",
       "      <td>1.0</td>\n",
       "      <td>0.0</td>\n",
       "      <td>0.0</td>\n",
       "      <td>1.0</td>\n",
       "      <td>1.0</td>\n",
       "      <td>0.0</td>\n",
       "      <td>0.0</td>\n",
       "    </tr>\n",
       "    <tr>\n",
       "      <th>1</th>\n",
       "      <td>1.0</td>\n",
       "      <td>0.0</td>\n",
       "      <td>0.0</td>\n",
       "      <td>0.0</td>\n",
       "      <td>0.0</td>\n",
       "      <td>1.0</td>\n",
       "      <td>0.0</td>\n",
       "      <td>0.0</td>\n",
       "      <td>0.0</td>\n",
       "      <td>1.0</td>\n",
       "      <td>...</td>\n",
       "      <td>0.0</td>\n",
       "      <td>1.0</td>\n",
       "      <td>0.0</td>\n",
       "      <td>0.0</td>\n",
       "      <td>0.0</td>\n",
       "      <td>1.0</td>\n",
       "      <td>0.0</td>\n",
       "      <td>0.0</td>\n",
       "      <td>1.0</td>\n",
       "      <td>0.0</td>\n",
       "    </tr>\n",
       "    <tr>\n",
       "      <th>2</th>\n",
       "      <td>0.0</td>\n",
       "      <td>0.0</td>\n",
       "      <td>1.0</td>\n",
       "      <td>0.0</td>\n",
       "      <td>0.0</td>\n",
       "      <td>0.0</td>\n",
       "      <td>1.0</td>\n",
       "      <td>0.0</td>\n",
       "      <td>0.0</td>\n",
       "      <td>0.0</td>\n",
       "      <td>...</td>\n",
       "      <td>0.0</td>\n",
       "      <td>0.0</td>\n",
       "      <td>1.0</td>\n",
       "      <td>0.0</td>\n",
       "      <td>1.0</td>\n",
       "      <td>0.0</td>\n",
       "      <td>0.0</td>\n",
       "      <td>0.0</td>\n",
       "      <td>0.0</td>\n",
       "      <td>1.0</td>\n",
       "    </tr>\n",
       "    <tr>\n",
       "      <th>3</th>\n",
       "      <td>1.0</td>\n",
       "      <td>0.0</td>\n",
       "      <td>0.0</td>\n",
       "      <td>0.0</td>\n",
       "      <td>0.0</td>\n",
       "      <td>1.0</td>\n",
       "      <td>0.0</td>\n",
       "      <td>0.0</td>\n",
       "      <td>0.0</td>\n",
       "      <td>1.0</td>\n",
       "      <td>...</td>\n",
       "      <td>1.0</td>\n",
       "      <td>1.0</td>\n",
       "      <td>0.0</td>\n",
       "      <td>0.0</td>\n",
       "      <td>1.0</td>\n",
       "      <td>0.0</td>\n",
       "      <td>0.0</td>\n",
       "      <td>1.0</td>\n",
       "      <td>0.0</td>\n",
       "      <td>0.0</td>\n",
       "    </tr>\n",
       "    <tr>\n",
       "      <th>4</th>\n",
       "      <td>0.0</td>\n",
       "      <td>1.0</td>\n",
       "      <td>0.0</td>\n",
       "      <td>0.0</td>\n",
       "      <td>1.0</td>\n",
       "      <td>0.0</td>\n",
       "      <td>0.0</td>\n",
       "      <td>0.0</td>\n",
       "      <td>1.0</td>\n",
       "      <td>0.0</td>\n",
       "      <td>...</td>\n",
       "      <td>0.0</td>\n",
       "      <td>0.0</td>\n",
       "      <td>1.0</td>\n",
       "      <td>0.0</td>\n",
       "      <td>1.0</td>\n",
       "      <td>0.0</td>\n",
       "      <td>0.0</td>\n",
       "      <td>0.0</td>\n",
       "      <td>0.0</td>\n",
       "      <td>1.0</td>\n",
       "    </tr>\n",
       "  </tbody>\n",
       "</table>\n",
       "<p>5 rows × 3589 columns</p>\n",
       "</div>"
      ],
      "text/plain": [
       "   gender&SeniorCitizen_Female&0  gender&SeniorCitizen_Female&1  \\\n",
       "0                            1.0                            0.0   \n",
       "1                            1.0                            0.0   \n",
       "2                            0.0                            0.0   \n",
       "3                            1.0                            0.0   \n",
       "4                            0.0                            1.0   \n",
       "\n",
       "   gender&SeniorCitizen_Male&0  gender&SeniorCitizen_Male&1  \\\n",
       "0                          0.0                          0.0   \n",
       "1                          0.0                          0.0   \n",
       "2                          1.0                          0.0   \n",
       "3                          0.0                          0.0   \n",
       "4                          0.0                          0.0   \n",
       "\n",
       "   gender&Partner_Female&No  gender&Partner_Female&Yes  \\\n",
       "0                       0.0                        1.0   \n",
       "1                       0.0                        1.0   \n",
       "2                       0.0                        0.0   \n",
       "3                       0.0                        1.0   \n",
       "4                       1.0                        0.0   \n",
       "\n",
       "   gender&Partner_Male&No  gender&Partner_Male&Yes  \\\n",
       "0                     0.0                      0.0   \n",
       "1                     0.0                      0.0   \n",
       "2                     1.0                      0.0   \n",
       "3                     0.0                      0.0   \n",
       "4                     0.0                      0.0   \n",
       "\n",
       "   gender&Dependents_Female&No  gender&Dependents_Female&Yes  ...  \\\n",
       "0                          1.0                           0.0  ...   \n",
       "1                          0.0                           1.0  ...   \n",
       "2                          0.0                           0.0  ...   \n",
       "3                          0.0                           1.0  ...   \n",
       "4                          1.0                           0.0  ...   \n",
       "\n",
       "   tenure_quarter_1&tenure_quarter_4_1.0&0.0  \\\n",
       "0                                        0.0   \n",
       "1                                        0.0   \n",
       "2                                        0.0   \n",
       "3                                        1.0   \n",
       "4                                        0.0   \n",
       "\n",
       "   tenure_quarter_2&tenure_quarter_3_0.0&0.0  \\\n",
       "0                                        0.0   \n",
       "1                                        1.0   \n",
       "2                                        0.0   \n",
       "3                                        1.0   \n",
       "4                                        0.0   \n",
       "\n",
       "   tenure_quarter_2&tenure_quarter_3_0.0&1.0  \\\n",
       "0                                        0.0   \n",
       "1                                        0.0   \n",
       "2                                        1.0   \n",
       "3                                        0.0   \n",
       "4                                        1.0   \n",
       "\n",
       "   tenure_quarter_2&tenure_quarter_3_1.0&0.0  \\\n",
       "0                                        1.0   \n",
       "1                                        0.0   \n",
       "2                                        0.0   \n",
       "3                                        0.0   \n",
       "4                                        0.0   \n",
       "\n",
       "   tenure_quarter_2&tenure_quarter_4_0.0&0.0  \\\n",
       "0                                        0.0   \n",
       "1                                        0.0   \n",
       "2                                        1.0   \n",
       "3                                        1.0   \n",
       "4                                        1.0   \n",
       "\n",
       "   tenure_quarter_2&tenure_quarter_4_0.0&1.0  \\\n",
       "0                                        0.0   \n",
       "1                                        1.0   \n",
       "2                                        0.0   \n",
       "3                                        0.0   \n",
       "4                                        0.0   \n",
       "\n",
       "   tenure_quarter_2&tenure_quarter_4_1.0&0.0  \\\n",
       "0                                        1.0   \n",
       "1                                        0.0   \n",
       "2                                        0.0   \n",
       "3                                        0.0   \n",
       "4                                        0.0   \n",
       "\n",
       "   tenure_quarter_3&tenure_quarter_4_0.0&0.0  \\\n",
       "0                                        1.0   \n",
       "1                                        0.0   \n",
       "2                                        0.0   \n",
       "3                                        1.0   \n",
       "4                                        0.0   \n",
       "\n",
       "   tenure_quarter_3&tenure_quarter_4_0.0&1.0  \\\n",
       "0                                        0.0   \n",
       "1                                        1.0   \n",
       "2                                        0.0   \n",
       "3                                        0.0   \n",
       "4                                        0.0   \n",
       "\n",
       "   tenure_quarter_3&tenure_quarter_4_1.0&0.0  \n",
       "0                                        0.0  \n",
       "1                                        0.0  \n",
       "2                                        1.0  \n",
       "3                                        0.0  \n",
       "4                                        1.0  \n",
       "\n",
       "[5 rows x 3589 columns]"
      ]
     },
     "execution_count": 80,
     "metadata": {},
     "output_type": "execute_result"
    }
   ],
   "source": [
    "features_train_new.head()"
   ]
  },
  {
   "cell_type": "markdown",
   "id": "4043f612",
   "metadata": {},
   "source": [
    "由于特征数量增加，衍生特征的数量也呈现指数级上升，此时衍生的特征已达3589之多。"
   ]
  },
  {
   "cell_type": "markdown",
   "id": "29f57519",
   "metadata": {},
   "source": [
    "&emsp;&emsp;同样，我们可以通过相关系数进行有效特征的筛选："
   ]
  },
  {
   "cell_type": "code",
   "execution_count": 81,
   "id": "36fb6fae",
   "metadata": {},
   "outputs": [
    {
     "data": {
      "text/html": [
       "<div>\n",
       "<style scoped>\n",
       "    .dataframe tbody tr th:only-of-type {\n",
       "        vertical-align: middle;\n",
       "    }\n",
       "\n",
       "    .dataframe tbody tr th {\n",
       "        vertical-align: top;\n",
       "    }\n",
       "\n",
       "    .dataframe thead th {\n",
       "        text-align: right;\n",
       "    }\n",
       "</style>\n",
       "<table border=\"1\" class=\"dataframe\">\n",
       "  <thead>\n",
       "    <tr style=\"text-align: right;\">\n",
       "      <th></th>\n",
       "      <th>gender&amp;SeniorCitizen_Female&amp;0</th>\n",
       "      <th>gender&amp;SeniorCitizen_Female&amp;1</th>\n",
       "      <th>gender&amp;SeniorCitizen_Male&amp;0</th>\n",
       "      <th>gender&amp;SeniorCitizen_Male&amp;1</th>\n",
       "      <th>gender&amp;Partner_Female&amp;No</th>\n",
       "      <th>gender&amp;Partner_Female&amp;Yes</th>\n",
       "      <th>gender&amp;Partner_Male&amp;No</th>\n",
       "      <th>gender&amp;Partner_Male&amp;Yes</th>\n",
       "      <th>gender&amp;Dependents_Female&amp;No</th>\n",
       "      <th>gender&amp;Dependents_Female&amp;Yes</th>\n",
       "      <th>...</th>\n",
       "      <th>tenure_quarter_2&amp;tenure_quarter_3_0.0&amp;0.0</th>\n",
       "      <th>tenure_quarter_2&amp;tenure_quarter_3_0.0&amp;1.0</th>\n",
       "      <th>tenure_quarter_2&amp;tenure_quarter_3_1.0&amp;0.0</th>\n",
       "      <th>tenure_quarter_2&amp;tenure_quarter_4_0.0&amp;0.0</th>\n",
       "      <th>tenure_quarter_2&amp;tenure_quarter_4_0.0&amp;1.0</th>\n",
       "      <th>tenure_quarter_2&amp;tenure_quarter_4_1.0&amp;0.0</th>\n",
       "      <th>tenure_quarter_3&amp;tenure_quarter_4_0.0&amp;0.0</th>\n",
       "      <th>tenure_quarter_3&amp;tenure_quarter_4_0.0&amp;1.0</th>\n",
       "      <th>tenure_quarter_3&amp;tenure_quarter_4_1.0&amp;0.0</th>\n",
       "      <th>Churn</th>\n",
       "    </tr>\n",
       "  </thead>\n",
       "  <tbody>\n",
       "    <tr>\n",
       "      <th>4067</th>\n",
       "      <td>1.0</td>\n",
       "      <td>0.0</td>\n",
       "      <td>0.0</td>\n",
       "      <td>0.0</td>\n",
       "      <td>0.0</td>\n",
       "      <td>1.0</td>\n",
       "      <td>0.0</td>\n",
       "      <td>0.0</td>\n",
       "      <td>1.0</td>\n",
       "      <td>0.0</td>\n",
       "      <td>...</td>\n",
       "      <td>0.0</td>\n",
       "      <td>0.0</td>\n",
       "      <td>1.0</td>\n",
       "      <td>0.0</td>\n",
       "      <td>0.0</td>\n",
       "      <td>1.0</td>\n",
       "      <td>1.0</td>\n",
       "      <td>0.0</td>\n",
       "      <td>0.0</td>\n",
       "      <td>0</td>\n",
       "    </tr>\n",
       "    <tr>\n",
       "      <th>3306</th>\n",
       "      <td>1.0</td>\n",
       "      <td>0.0</td>\n",
       "      <td>0.0</td>\n",
       "      <td>0.0</td>\n",
       "      <td>0.0</td>\n",
       "      <td>1.0</td>\n",
       "      <td>0.0</td>\n",
       "      <td>0.0</td>\n",
       "      <td>0.0</td>\n",
       "      <td>1.0</td>\n",
       "      <td>...</td>\n",
       "      <td>1.0</td>\n",
       "      <td>0.0</td>\n",
       "      <td>0.0</td>\n",
       "      <td>0.0</td>\n",
       "      <td>1.0</td>\n",
       "      <td>0.0</td>\n",
       "      <td>0.0</td>\n",
       "      <td>1.0</td>\n",
       "      <td>0.0</td>\n",
       "      <td>0</td>\n",
       "    </tr>\n",
       "    <tr>\n",
       "      <th>3391</th>\n",
       "      <td>0.0</td>\n",
       "      <td>0.0</td>\n",
       "      <td>1.0</td>\n",
       "      <td>0.0</td>\n",
       "      <td>0.0</td>\n",
       "      <td>0.0</td>\n",
       "      <td>1.0</td>\n",
       "      <td>0.0</td>\n",
       "      <td>0.0</td>\n",
       "      <td>0.0</td>\n",
       "      <td>...</td>\n",
       "      <td>0.0</td>\n",
       "      <td>1.0</td>\n",
       "      <td>0.0</td>\n",
       "      <td>1.0</td>\n",
       "      <td>0.0</td>\n",
       "      <td>0.0</td>\n",
       "      <td>0.0</td>\n",
       "      <td>0.0</td>\n",
       "      <td>1.0</td>\n",
       "      <td>0</td>\n",
       "    </tr>\n",
       "    <tr>\n",
       "      <th>3249</th>\n",
       "      <td>1.0</td>\n",
       "      <td>0.0</td>\n",
       "      <td>0.0</td>\n",
       "      <td>0.0</td>\n",
       "      <td>0.0</td>\n",
       "      <td>1.0</td>\n",
       "      <td>0.0</td>\n",
       "      <td>0.0</td>\n",
       "      <td>0.0</td>\n",
       "      <td>1.0</td>\n",
       "      <td>...</td>\n",
       "      <td>1.0</td>\n",
       "      <td>0.0</td>\n",
       "      <td>0.0</td>\n",
       "      <td>1.0</td>\n",
       "      <td>0.0</td>\n",
       "      <td>0.0</td>\n",
       "      <td>1.0</td>\n",
       "      <td>0.0</td>\n",
       "      <td>0.0</td>\n",
       "      <td>0</td>\n",
       "    </tr>\n",
       "    <tr>\n",
       "      <th>2674</th>\n",
       "      <td>0.0</td>\n",
       "      <td>1.0</td>\n",
       "      <td>0.0</td>\n",
       "      <td>0.0</td>\n",
       "      <td>1.0</td>\n",
       "      <td>0.0</td>\n",
       "      <td>0.0</td>\n",
       "      <td>0.0</td>\n",
       "      <td>1.0</td>\n",
       "      <td>0.0</td>\n",
       "      <td>...</td>\n",
       "      <td>0.0</td>\n",
       "      <td>1.0</td>\n",
       "      <td>0.0</td>\n",
       "      <td>1.0</td>\n",
       "      <td>0.0</td>\n",
       "      <td>0.0</td>\n",
       "      <td>0.0</td>\n",
       "      <td>0.0</td>\n",
       "      <td>1.0</td>\n",
       "      <td>0</td>\n",
       "    </tr>\n",
       "  </tbody>\n",
       "</table>\n",
       "<p>5 rows × 3590 columns</p>\n",
       "</div>"
      ],
      "text/plain": [
       "      gender&SeniorCitizen_Female&0  gender&SeniorCitizen_Female&1  \\\n",
       "4067                            1.0                            0.0   \n",
       "3306                            1.0                            0.0   \n",
       "3391                            0.0                            0.0   \n",
       "3249                            1.0                            0.0   \n",
       "2674                            0.0                            1.0   \n",
       "\n",
       "      gender&SeniorCitizen_Male&0  gender&SeniorCitizen_Male&1  \\\n",
       "4067                          0.0                          0.0   \n",
       "3306                          0.0                          0.0   \n",
       "3391                          1.0                          0.0   \n",
       "3249                          0.0                          0.0   \n",
       "2674                          0.0                          0.0   \n",
       "\n",
       "      gender&Partner_Female&No  gender&Partner_Female&Yes  \\\n",
       "4067                       0.0                        1.0   \n",
       "3306                       0.0                        1.0   \n",
       "3391                       0.0                        0.0   \n",
       "3249                       0.0                        1.0   \n",
       "2674                       1.0                        0.0   \n",
       "\n",
       "      gender&Partner_Male&No  gender&Partner_Male&Yes  \\\n",
       "4067                     0.0                      0.0   \n",
       "3306                     0.0                      0.0   \n",
       "3391                     1.0                      0.0   \n",
       "3249                     0.0                      0.0   \n",
       "2674                     0.0                      0.0   \n",
       "\n",
       "      gender&Dependents_Female&No  gender&Dependents_Female&Yes  ...  \\\n",
       "4067                          1.0                           0.0  ...   \n",
       "3306                          0.0                           1.0  ...   \n",
       "3391                          0.0                           0.0  ...   \n",
       "3249                          0.0                           1.0  ...   \n",
       "2674                          1.0                           0.0  ...   \n",
       "\n",
       "      tenure_quarter_2&tenure_quarter_3_0.0&0.0  \\\n",
       "4067                                        0.0   \n",
       "3306                                        1.0   \n",
       "3391                                        0.0   \n",
       "3249                                        1.0   \n",
       "2674                                        0.0   \n",
       "\n",
       "      tenure_quarter_2&tenure_quarter_3_0.0&1.0  \\\n",
       "4067                                        0.0   \n",
       "3306                                        0.0   \n",
       "3391                                        1.0   \n",
       "3249                                        0.0   \n",
       "2674                                        1.0   \n",
       "\n",
       "      tenure_quarter_2&tenure_quarter_3_1.0&0.0  \\\n",
       "4067                                        1.0   \n",
       "3306                                        0.0   \n",
       "3391                                        0.0   \n",
       "3249                                        0.0   \n",
       "2674                                        0.0   \n",
       "\n",
       "      tenure_quarter_2&tenure_quarter_4_0.0&0.0  \\\n",
       "4067                                        0.0   \n",
       "3306                                        0.0   \n",
       "3391                                        1.0   \n",
       "3249                                        1.0   \n",
       "2674                                        1.0   \n",
       "\n",
       "      tenure_quarter_2&tenure_quarter_4_0.0&1.0  \\\n",
       "4067                                        0.0   \n",
       "3306                                        1.0   \n",
       "3391                                        0.0   \n",
       "3249                                        0.0   \n",
       "2674                                        0.0   \n",
       "\n",
       "      tenure_quarter_2&tenure_quarter_4_1.0&0.0  \\\n",
       "4067                                        1.0   \n",
       "3306                                        0.0   \n",
       "3391                                        0.0   \n",
       "3249                                        0.0   \n",
       "2674                                        0.0   \n",
       "\n",
       "      tenure_quarter_3&tenure_quarter_4_0.0&0.0  \\\n",
       "4067                                        1.0   \n",
       "3306                                        0.0   \n",
       "3391                                        0.0   \n",
       "3249                                        1.0   \n",
       "2674                                        0.0   \n",
       "\n",
       "      tenure_quarter_3&tenure_quarter_4_0.0&1.0  \\\n",
       "4067                                        0.0   \n",
       "3306                                        1.0   \n",
       "3391                                        0.0   \n",
       "3249                                        0.0   \n",
       "2674                                        0.0   \n",
       "\n",
       "      tenure_quarter_3&tenure_quarter_4_1.0&0.0  Churn  \n",
       "4067                                        0.0      0  \n",
       "3306                                        0.0      0  \n",
       "3391                                        1.0      0  \n",
       "3249                                        0.0      0  \n",
       "2674                                        1.0      0  \n",
       "\n",
       "[5 rows x 3590 columns]"
      ]
     },
     "execution_count": 81,
     "metadata": {},
     "output_type": "execute_result"
    }
   ],
   "source": [
    "# 修改index\n",
    "features_train_new.index = X_train.index\n",
    "\n",
    "# 拼接衍生特征与标签\n",
    "df_temp = pd.concat([features_train_new, y_train], axis=1)\n",
    "\n",
    "# 查看拼接后的df\n",
    "df_temp.head()"
   ]
  },
  {
   "cell_type": "code",
   "execution_count": 82,
   "id": "e8c43fc3",
   "metadata": {},
   "outputs": [
    {
     "data": {
      "text/plain": [
       "Churn                                                  1.000000\n",
       "OnlineSecurity&Contract_No&Month-to-month              0.441598\n",
       "TechSupport&Contract_No&Month-to-month                 0.430260\n",
       "InternetService&Contract_Fiber optic&Month-to-month    0.415189\n",
       "Contract&tenure_year_2014_Month-to-month&0.0           0.402879\n",
       "                                                         ...   \n",
       "Contract&tenure_year_2020_Two year&0.0                -0.301604\n",
       "tenure_year_2019&tenure_month_12_0.0&0.0              -0.303862\n",
       "tenure_year_2018&tenure_year_2019_0.0&0.0             -0.315952\n",
       "tenure_year_2019&tenure_year_2020_0.0&0.0             -0.317597\n",
       "SeniorCitizen&tenure_year_2019_0&0.0                  -0.319902\n",
       "Name: Churn, Length: 3590, dtype: float64"
      ]
     },
     "execution_count": 82,
     "metadata": {},
     "output_type": "execute_result"
    }
   ],
   "source": [
    "# 计算相关系数\n",
    "df_corr = df_temp.corr()['Churn'].sort_values(ascending = False)\n",
    "df_corr"
   ]
  },
  {
   "cell_type": "markdown",
   "id": "858ba1d7",
   "metadata": {},
   "source": [
    "能够看出，较强的原始特征和较强的时序衍生特征，如Contract、OnlineSecurity、tenure_year_2014等，交叉组合后仍然表现出了较强的相关性。此处我们挑选相关系数绝对值最大的20个特征进行观察："
   ]
  },
  {
   "cell_type": "code",
   "execution_count": 83,
   "id": "47fdd0ab",
   "metadata": {},
   "outputs": [
    {
     "data": {
      "text/plain": [
       "Churn                                                  1.000000\n",
       "OnlineSecurity&Contract_No&Month-to-month              0.441598\n",
       "TechSupport&Contract_No&Month-to-month                 0.430260\n",
       "InternetService&Contract_Fiber optic&Month-to-month    0.415189\n",
       "Contract&tenure_year_2014_Month-to-month&0.0           0.402879\n",
       "Contract&tenure_year_2020_Month-to-month&0.0           0.400606\n",
       "OnlineSecurity&tenure_year_2019_No&1.0                 0.399682\n",
       "OnlineSecurity&TechSupport_No&No                       0.398994\n",
       "Contract&tenure_year_2015_Month-to-month&0.0           0.398467\n",
       "Contract&tenure_month_2_Month-to-month&0.0             0.395384\n",
       "Contract&tenure_month_1_Month-to-month&0.0             0.392526\n",
       "OnlineSecurity&tenure_year_2014_No&0.0                 0.391337\n",
       "Contract&tenure_month_5_Month-to-month&0.0             0.391318\n",
       "InternetService&tenure_year_2019_Fiber optic&1.0       0.391223\n",
       "TechSupport&tenure_year_2019_No&1.0                    0.390156\n",
       "Contract&tenure_month_4_Month-to-month&0.0             0.387868\n",
       "Contract&tenure_year_2016_Month-to-month&0.0           0.384552\n",
       "Contract&tenure_month_7_Month-to-month&0.0             0.381831\n",
       "OnlineBackup&Contract_No&Month-to-month                0.381821\n",
       "Contract&tenure_year_2017_Month-to-month&0.0           0.380591\n",
       "Name: Churn, dtype: float64"
      ]
     },
     "execution_count": 83,
     "metadata": {},
     "output_type": "execute_result"
    }
   ],
   "source": [
    "np.abs(df_corr).sort_values(ascending = False)[: 20]"
   ]
  },
  {
   "cell_type": "markdown",
   "id": "3889cb0f",
   "metadata": {},
   "source": [
    "接下来带入模型进行测试。由于逻辑回归本身特征容忍程度有限，我们仅带入相关性最强的三个特征进行建模："
   ]
  },
  {
   "cell_type": "code",
   "execution_count": 84,
   "id": "d629af4e",
   "metadata": {},
   "outputs": [
    {
     "data": {
      "text/plain": [
       "['OnlineSecurity&Contract_No&Month-to-month',\n",
       " 'TechSupport&Contract_No&Month-to-month',\n",
       " 'InternetService&Contract_Fiber optic&Month-to-month']"
      ]
     },
     "execution_count": 84,
     "metadata": {},
     "output_type": "execute_result"
    }
   ],
   "source": [
    "new_col = list(np.abs(df_corr).sort_values(ascending = False)[1: 4].index)\n",
    "new_col"
   ]
  },
  {
   "cell_type": "code",
   "execution_count": 85,
   "id": "ad8eaf2e",
   "metadata": {},
   "outputs": [],
   "source": [
    "train_new_temp = features_train_new[new_col]\n",
    "test_new_temp = features_test_new[new_col]"
   ]
  },
  {
   "cell_type": "code",
   "execution_count": 86,
   "id": "546be3a0",
   "metadata": {},
   "outputs": [
    {
     "name": "stdout",
     "output_type": "stream",
     "text": [
      "44.43435311317444 s\n"
     ]
    },
    {
     "data": {
      "text/plain": [
       "(0.8097323757919785,\n",
       " {'columntransformer__num': 'passthrough',\n",
       "  'logit_threshold__C': 0.1,\n",
       "  'logit_threshold__penalty': 'l2',\n",
       "  'logit_threshold__solver': 'lbfgs'})"
      ]
     },
     "execution_count": 86,
     "metadata": {},
     "output_type": "execute_result"
    }
   ],
   "source": [
    "features_test(train_new_temp, \n",
    "              test_new_temp, \n",
    "              X_train, \n",
    "              X_test, \n",
    "              y_train, \n",
    "              y_test, \n",
    "              category_cols, \n",
    "              numeric_cols)"
   ]
  },
  {
   "cell_type": "markdown",
   "id": "5ae3a9aa",
   "metadata": {},
   "source": [
    "通过相关系数计算结果和建模结果不难发现，时序衍生特征与原始特征的交叉组合，也是极有价值的特征衍生方向。尽管目前限于逻辑回归的特征数量容忍程度，暂时无法看出更明显的模型提升效果。后续我们还将尝试更多的模型带入更多的特征，来对这些衍生特征的效果进行测试。"
   ]
  },
  {
   "cell_type": "markdown",
   "id": "e532e881",
   "metadata": {},
   "source": [
    "- 多变量交叉组合特征衍生"
   ]
  },
  {
   "cell_type": "markdown",
   "id": "50a308d2",
   "metadata": {},
   "source": [
    "&emsp;&emsp;接下来进一步尝试多变量的交叉组合特征衍生。根据“强者恒强”的原则，我们考虑将原始特征的'OnlineSecurity', 'Contract', 'TechSupport'三个字段与时序衍生特征的三个字段tenure_year_2014、tenure_year_2019、tenure_year_2020，进行三三交叉组合特征衍生，并测试最终效果。"
   ]
  },
  {
   "cell_type": "code",
   "execution_count": 87,
   "id": "fb943bc6",
   "metadata": {},
   "outputs": [
    {
     "data": {
      "text/html": [
       "<div>\n",
       "<style scoped>\n",
       "    .dataframe tbody tr th:only-of-type {\n",
       "        vertical-align: middle;\n",
       "    }\n",
       "\n",
       "    .dataframe tbody tr th {\n",
       "        vertical-align: top;\n",
       "    }\n",
       "\n",
       "    .dataframe thead th {\n",
       "        text-align: right;\n",
       "    }\n",
       "</style>\n",
       "<table border=\"1\" class=\"dataframe\">\n",
       "  <thead>\n",
       "    <tr style=\"text-align: right;\">\n",
       "      <th></th>\n",
       "      <th>tenure_year_2014</th>\n",
       "      <th>tenure_year_2015</th>\n",
       "      <th>tenure_year_2016</th>\n",
       "      <th>tenure_year_2017</th>\n",
       "      <th>tenure_year_2018</th>\n",
       "      <th>tenure_year_2019</th>\n",
       "      <th>tenure_year_2020</th>\n",
       "      <th>tenure_month_1</th>\n",
       "      <th>tenure_month_2</th>\n",
       "      <th>tenure_month_3</th>\n",
       "      <th>...</th>\n",
       "      <th>tenure_month_7</th>\n",
       "      <th>tenure_month_8</th>\n",
       "      <th>tenure_month_9</th>\n",
       "      <th>tenure_month_10</th>\n",
       "      <th>tenure_month_11</th>\n",
       "      <th>tenure_month_12</th>\n",
       "      <th>tenure_quarter_1</th>\n",
       "      <th>tenure_quarter_2</th>\n",
       "      <th>tenure_quarter_3</th>\n",
       "      <th>tenure_quarter_4</th>\n",
       "    </tr>\n",
       "  </thead>\n",
       "  <tbody>\n",
       "    <tr>\n",
       "      <th>4067</th>\n",
       "      <td>1.0</td>\n",
       "      <td>0.0</td>\n",
       "      <td>0.0</td>\n",
       "      <td>0.0</td>\n",
       "      <td>0.0</td>\n",
       "      <td>0.0</td>\n",
       "      <td>0.0</td>\n",
       "      <td>0.0</td>\n",
       "      <td>0.0</td>\n",
       "      <td>0.0</td>\n",
       "      <td>...</td>\n",
       "      <td>0.0</td>\n",
       "      <td>0.0</td>\n",
       "      <td>0.0</td>\n",
       "      <td>0.0</td>\n",
       "      <td>0.0</td>\n",
       "      <td>0.0</td>\n",
       "      <td>0.0</td>\n",
       "      <td>1.0</td>\n",
       "      <td>0.0</td>\n",
       "      <td>0.0</td>\n",
       "    </tr>\n",
       "    <tr>\n",
       "      <th>3306</th>\n",
       "      <td>0.0</td>\n",
       "      <td>0.0</td>\n",
       "      <td>0.0</td>\n",
       "      <td>0.0</td>\n",
       "      <td>0.0</td>\n",
       "      <td>1.0</td>\n",
       "      <td>0.0</td>\n",
       "      <td>0.0</td>\n",
       "      <td>0.0</td>\n",
       "      <td>0.0</td>\n",
       "      <td>...</td>\n",
       "      <td>0.0</td>\n",
       "      <td>0.0</td>\n",
       "      <td>0.0</td>\n",
       "      <td>1.0</td>\n",
       "      <td>0.0</td>\n",
       "      <td>0.0</td>\n",
       "      <td>0.0</td>\n",
       "      <td>0.0</td>\n",
       "      <td>0.0</td>\n",
       "      <td>1.0</td>\n",
       "    </tr>\n",
       "    <tr>\n",
       "      <th>3391</th>\n",
       "      <td>0.0</td>\n",
       "      <td>0.0</td>\n",
       "      <td>0.0</td>\n",
       "      <td>0.0</td>\n",
       "      <td>0.0</td>\n",
       "      <td>1.0</td>\n",
       "      <td>0.0</td>\n",
       "      <td>0.0</td>\n",
       "      <td>0.0</td>\n",
       "      <td>0.0</td>\n",
       "      <td>...</td>\n",
       "      <td>0.0</td>\n",
       "      <td>0.0</td>\n",
       "      <td>1.0</td>\n",
       "      <td>0.0</td>\n",
       "      <td>0.0</td>\n",
       "      <td>0.0</td>\n",
       "      <td>0.0</td>\n",
       "      <td>0.0</td>\n",
       "      <td>1.0</td>\n",
       "      <td>0.0</td>\n",
       "    </tr>\n",
       "    <tr>\n",
       "      <th>3249</th>\n",
       "      <td>0.0</td>\n",
       "      <td>0.0</td>\n",
       "      <td>0.0</td>\n",
       "      <td>0.0</td>\n",
       "      <td>0.0</td>\n",
       "      <td>1.0</td>\n",
       "      <td>0.0</td>\n",
       "      <td>0.0</td>\n",
       "      <td>0.0</td>\n",
       "      <td>1.0</td>\n",
       "      <td>...</td>\n",
       "      <td>0.0</td>\n",
       "      <td>0.0</td>\n",
       "      <td>0.0</td>\n",
       "      <td>0.0</td>\n",
       "      <td>0.0</td>\n",
       "      <td>0.0</td>\n",
       "      <td>1.0</td>\n",
       "      <td>0.0</td>\n",
       "      <td>0.0</td>\n",
       "      <td>0.0</td>\n",
       "    </tr>\n",
       "    <tr>\n",
       "      <th>2674</th>\n",
       "      <td>0.0</td>\n",
       "      <td>0.0</td>\n",
       "      <td>0.0</td>\n",
       "      <td>0.0</td>\n",
       "      <td>0.0</td>\n",
       "      <td>1.0</td>\n",
       "      <td>0.0</td>\n",
       "      <td>0.0</td>\n",
       "      <td>0.0</td>\n",
       "      <td>0.0</td>\n",
       "      <td>...</td>\n",
       "      <td>0.0</td>\n",
       "      <td>0.0</td>\n",
       "      <td>1.0</td>\n",
       "      <td>0.0</td>\n",
       "      <td>0.0</td>\n",
       "      <td>0.0</td>\n",
       "      <td>0.0</td>\n",
       "      <td>0.0</td>\n",
       "      <td>1.0</td>\n",
       "      <td>0.0</td>\n",
       "    </tr>\n",
       "  </tbody>\n",
       "</table>\n",
       "<p>5 rows × 23 columns</p>\n",
       "</div>"
      ],
      "text/plain": [
       "      tenure_year_2014  tenure_year_2015  tenure_year_2016  tenure_year_2017  \\\n",
       "4067               1.0               0.0               0.0               0.0   \n",
       "3306               0.0               0.0               0.0               0.0   \n",
       "3391               0.0               0.0               0.0               0.0   \n",
       "3249               0.0               0.0               0.0               0.0   \n",
       "2674               0.0               0.0               0.0               0.0   \n",
       "\n",
       "      tenure_year_2018  tenure_year_2019  tenure_year_2020  tenure_month_1  \\\n",
       "4067               0.0               0.0               0.0             0.0   \n",
       "3306               0.0               1.0               0.0             0.0   \n",
       "3391               0.0               1.0               0.0             0.0   \n",
       "3249               0.0               1.0               0.0             0.0   \n",
       "2674               0.0               1.0               0.0             0.0   \n",
       "\n",
       "      tenure_month_2  tenure_month_3  ...  tenure_month_7  tenure_month_8  \\\n",
       "4067             0.0             0.0  ...             0.0             0.0   \n",
       "3306             0.0             0.0  ...             0.0             0.0   \n",
       "3391             0.0             0.0  ...             0.0             0.0   \n",
       "3249             0.0             1.0  ...             0.0             0.0   \n",
       "2674             0.0             0.0  ...             0.0             0.0   \n",
       "\n",
       "      tenure_month_9  tenure_month_10  tenure_month_11  tenure_month_12  \\\n",
       "4067             0.0              0.0              0.0              0.0   \n",
       "3306             0.0              1.0              0.0              0.0   \n",
       "3391             1.0              0.0              0.0              0.0   \n",
       "3249             0.0              0.0              0.0              0.0   \n",
       "2674             1.0              0.0              0.0              0.0   \n",
       "\n",
       "      tenure_quarter_1  tenure_quarter_2  tenure_quarter_3  tenure_quarter_4  \n",
       "4067               0.0               1.0               0.0               0.0  \n",
       "3306               0.0               0.0               0.0               1.0  \n",
       "3391               0.0               0.0               1.0               0.0  \n",
       "3249               1.0               0.0               0.0               0.0  \n",
       "2674               0.0               0.0               1.0               0.0  \n",
       "\n",
       "[5 rows x 23 columns]"
      ]
     },
     "execution_count": 87,
     "metadata": {},
     "output_type": "execute_result"
    }
   ],
   "source": [
    "X_train_seq.head()"
   ]
  },
  {
   "cell_type": "code",
   "execution_count": 88,
   "id": "9441edef",
   "metadata": {},
   "outputs": [],
   "source": [
    "col1 = ['OnlineSecurity', 'Contract', 'TechSupport']\n",
    "col2 = ['tenure_year_2014', 'tenure_year_2019', 'tenure_year_2020']"
   ]
  },
  {
   "cell_type": "code",
   "execution_count": 89,
   "id": "501607f6",
   "metadata": {},
   "outputs": [],
   "source": [
    "# 拼接数据集\n",
    "train_temp = pd.concat([X_train[col1], X_train_seq[col2]], axis=1)\n",
    "test_temp = pd.concat([X_test[col1], X_test_seq[col2]], axis=1)"
   ]
  },
  {
   "cell_type": "code",
   "execution_count": 90,
   "id": "6f1291b6",
   "metadata": {},
   "outputs": [
    {
     "data": {
      "text/html": [
       "<div>\n",
       "<style scoped>\n",
       "    .dataframe tbody tr th:only-of-type {\n",
       "        vertical-align: middle;\n",
       "    }\n",
       "\n",
       "    .dataframe tbody tr th {\n",
       "        vertical-align: top;\n",
       "    }\n",
       "\n",
       "    .dataframe thead th {\n",
       "        text-align: right;\n",
       "    }\n",
       "</style>\n",
       "<table border=\"1\" class=\"dataframe\">\n",
       "  <thead>\n",
       "    <tr style=\"text-align: right;\">\n",
       "      <th></th>\n",
       "      <th>OnlineSecurity</th>\n",
       "      <th>Contract</th>\n",
       "      <th>TechSupport</th>\n",
       "      <th>tenure_year_2014</th>\n",
       "      <th>tenure_year_2019</th>\n",
       "      <th>tenure_year_2020</th>\n",
       "    </tr>\n",
       "  </thead>\n",
       "  <tbody>\n",
       "    <tr>\n",
       "      <th>4067</th>\n",
       "      <td>Yes</td>\n",
       "      <td>Two year</td>\n",
       "      <td>Yes</td>\n",
       "      <td>1.0</td>\n",
       "      <td>0.0</td>\n",
       "      <td>0.0</td>\n",
       "    </tr>\n",
       "    <tr>\n",
       "      <th>3306</th>\n",
       "      <td>No</td>\n",
       "      <td>Month-to-month</td>\n",
       "      <td>Yes</td>\n",
       "      <td>0.0</td>\n",
       "      <td>1.0</td>\n",
       "      <td>0.0</td>\n",
       "    </tr>\n",
       "    <tr>\n",
       "      <th>3391</th>\n",
       "      <td>No internet service</td>\n",
       "      <td>Month-to-month</td>\n",
       "      <td>No internet service</td>\n",
       "      <td>0.0</td>\n",
       "      <td>1.0</td>\n",
       "      <td>0.0</td>\n",
       "    </tr>\n",
       "    <tr>\n",
       "      <th>3249</th>\n",
       "      <td>No</td>\n",
       "      <td>Month-to-month</td>\n",
       "      <td>No</td>\n",
       "      <td>0.0</td>\n",
       "      <td>1.0</td>\n",
       "      <td>0.0</td>\n",
       "    </tr>\n",
       "    <tr>\n",
       "      <th>2674</th>\n",
       "      <td>No internet service</td>\n",
       "      <td>Month-to-month</td>\n",
       "      <td>No internet service</td>\n",
       "      <td>0.0</td>\n",
       "      <td>1.0</td>\n",
       "      <td>0.0</td>\n",
       "    </tr>\n",
       "  </tbody>\n",
       "</table>\n",
       "</div>"
      ],
      "text/plain": [
       "           OnlineSecurity        Contract          TechSupport  \\\n",
       "4067                  Yes        Two year                  Yes   \n",
       "3306                   No  Month-to-month                  Yes   \n",
       "3391  No internet service  Month-to-month  No internet service   \n",
       "3249                   No  Month-to-month                   No   \n",
       "2674  No internet service  Month-to-month  No internet service   \n",
       "\n",
       "      tenure_year_2014  tenure_year_2019  tenure_year_2020  \n",
       "4067               1.0               0.0               0.0  \n",
       "3306               0.0               1.0               0.0  \n",
       "3391               0.0               1.0               0.0  \n",
       "3249               0.0               1.0               0.0  \n",
       "2674               0.0               1.0               0.0  "
      ]
     },
     "execution_count": 90,
     "metadata": {},
     "output_type": "execute_result"
    }
   ],
   "source": [
    "train_temp.head()"
   ]
  },
  {
   "cell_type": "code",
   "execution_count": 91,
   "id": "5e9f42de",
   "metadata": {},
   "outputs": [
    {
     "data": {
      "text/plain": [
       "((5282, 6), (1761, 6))"
      ]
     },
     "execution_count": 91,
     "metadata": {},
     "output_type": "execute_result"
    }
   ],
   "source": [
    "train_temp.shape, test_temp.shape"
   ]
  },
  {
   "cell_type": "markdown",
   "id": "7df0e098",
   "metadata": {},
   "source": [
    "然后进行交叉组合特征衍生。注意此处是需要围绕上述六个特征进行三三组合，我们可以通过如下方式实现："
   ]
  },
  {
   "cell_type": "code",
   "execution_count": 92,
   "id": "439861ac",
   "metadata": {
    "tags": []
   },
   "outputs": [
    {
     "data": {
      "text/plain": [
       "['OnlineSecurity',\n",
       " 'Contract',\n",
       " 'TechSupport',\n",
       " 'tenure_year_2014',\n",
       " 'tenure_year_2019',\n",
       " 'tenure_year_2020']"
      ]
     },
     "execution_count": 92,
     "metadata": {},
     "output_type": "execute_result"
    }
   ],
   "source": [
    "cl = list(train_temp.columns)\n",
    "cl"
   ]
  },
  {
   "cell_type": "code",
   "execution_count": 93,
   "id": "689b596a",
   "metadata": {},
   "outputs": [
    {
     "data": {
      "text/plain": [
       "6"
      ]
     },
     "execution_count": 93,
     "metadata": {},
     "output_type": "execute_result"
    }
   ],
   "source": [
    "n = len(list(train_temp.columns))\n",
    "n"
   ]
  },
  {
   "cell_type": "code",
   "execution_count": 94,
   "id": "42cfd78a",
   "metadata": {
    "tags": []
   },
   "outputs": [
    {
     "name": "stdout",
     "output_type": "stream",
     "text": [
      "0 1 2\n",
      "0 1 3\n",
      "0 1 4\n",
      "0 1 5\n",
      "0 2 3\n",
      "0 2 4\n",
      "0 2 5\n",
      "0 3 4\n",
      "0 3 5\n",
      "0 4 5\n",
      "1 2 3\n",
      "1 2 4\n",
      "1 2 5\n",
      "1 3 4\n",
      "1 3 5\n",
      "1 4 5\n",
      "2 3 4\n",
      "2 3 5\n",
      "2 4 5\n",
      "3 4 5\n"
     ]
    }
   ],
   "source": [
    "for i in range(n):\n",
    "    for j in range(i+1, n):\n",
    "        for k in range(j+1, n):\n",
    "            print(i, j, k)"
   ]
  },
  {
   "cell_type": "code",
   "execution_count": 95,
   "id": "f547994c",
   "metadata": {},
   "outputs": [
    {
     "name": "stdout",
     "output_type": "stream",
     "text": [
      "['OnlineSecurity', 'Contract', 'TechSupport']\n",
      "['OnlineSecurity', 'Contract', 'tenure_year_2014']\n",
      "['OnlineSecurity', 'Contract', 'tenure_year_2019']\n",
      "['OnlineSecurity', 'Contract', 'tenure_year_2020']\n",
      "['OnlineSecurity', 'TechSupport', 'tenure_year_2014']\n",
      "['OnlineSecurity', 'TechSupport', 'tenure_year_2019']\n",
      "['OnlineSecurity', 'TechSupport', 'tenure_year_2020']\n",
      "['OnlineSecurity', 'tenure_year_2014', 'tenure_year_2019']\n",
      "['OnlineSecurity', 'tenure_year_2014', 'tenure_year_2020']\n",
      "['OnlineSecurity', 'tenure_year_2019', 'tenure_year_2020']\n",
      "['Contract', 'TechSupport', 'tenure_year_2014']\n",
      "['Contract', 'TechSupport', 'tenure_year_2019']\n",
      "['Contract', 'TechSupport', 'tenure_year_2020']\n",
      "['Contract', 'tenure_year_2014', 'tenure_year_2019']\n",
      "['Contract', 'tenure_year_2014', 'tenure_year_2020']\n",
      "['Contract', 'tenure_year_2019', 'tenure_year_2020']\n",
      "['TechSupport', 'tenure_year_2014', 'tenure_year_2019']\n",
      "['TechSupport', 'tenure_year_2014', 'tenure_year_2020']\n",
      "['TechSupport', 'tenure_year_2019', 'tenure_year_2020']\n",
      "['tenure_year_2014', 'tenure_year_2019', 'tenure_year_2020']\n"
     ]
    }
   ],
   "source": [
    "col_temp = []\n",
    "\n",
    "for i in range(n):\n",
    "    for j in range(i+1, n):\n",
    "        for k in range(j+1, n):\n",
    "            col_temp.append(cl[i])\n",
    "            col_temp.append(cl[j])\n",
    "            col_temp.append(cl[k])\n",
    "            print(col_temp)\n",
    "            col_temp = []"
   ]
  },
  {
   "cell_type": "code",
   "execution_count": 96,
   "id": "72eeda21",
   "metadata": {},
   "outputs": [],
   "source": [
    "# 创建容器\n",
    "col_temp = []\n",
    "colNames_train_new = []\n",
    "colNames_test_new = []\n",
    "features_train_new = []\n",
    "features_test_new = []\n",
    "\n",
    "# 多次循环、遍历三三组合\n",
    "for i in range(n):\n",
    "    for j in range(i+1, n):\n",
    "        for k in range(j+1, n):\n",
    "            col_temp.append(cl[i])\n",
    "            col_temp.append(cl[j])\n",
    "            col_temp.append(cl[k])\n",
    "            features_train1, features_test1, colNames_train, colNames_test = Cross_Combination(col_temp, \n",
    "                                                                                               train_temp, \n",
    "                                                                                               test_temp, \n",
    "                                                                                               multi=True)\n",
    "            \n",
    "            colNames_train_new.extend(colNames_train)\n",
    "            colNames_test_new.extend(colNames_test)\n",
    "            features_train_new.append(features_train1)\n",
    "            features_test_new.append(features_test1)\n",
    "            \n",
    "            col_temp = []"
   ]
  },
  {
   "cell_type": "code",
   "execution_count": 97,
   "id": "d017a770",
   "metadata": {},
   "outputs": [
    {
     "data": {
      "text/html": [
       "<div>\n",
       "<style scoped>\n",
       "    .dataframe tbody tr th:only-of-type {\n",
       "        vertical-align: middle;\n",
       "    }\n",
       "\n",
       "    .dataframe tbody tr th {\n",
       "        vertical-align: top;\n",
       "    }\n",
       "\n",
       "    .dataframe thead th {\n",
       "        text-align: right;\n",
       "    }\n",
       "</style>\n",
       "<table border=\"1\" class=\"dataframe\">\n",
       "  <thead>\n",
       "    <tr style=\"text-align: right;\">\n",
       "      <th></th>\n",
       "      <th>OnlineSecurity&amp;Contract&amp;TechSupport_No internet service&amp;Month-to-month&amp;No internet service</th>\n",
       "      <th>OnlineSecurity&amp;Contract&amp;TechSupport_No internet service&amp;One year&amp;No internet service</th>\n",
       "      <th>OnlineSecurity&amp;Contract&amp;TechSupport_No internet service&amp;Two year&amp;No internet service</th>\n",
       "      <th>OnlineSecurity&amp;Contract&amp;TechSupport_No&amp;Month-to-month&amp;No</th>\n",
       "      <th>OnlineSecurity&amp;Contract&amp;TechSupport_No&amp;Month-to-month&amp;Yes</th>\n",
       "      <th>OnlineSecurity&amp;Contract&amp;TechSupport_No&amp;One year&amp;No</th>\n",
       "      <th>OnlineSecurity&amp;Contract&amp;TechSupport_No&amp;One year&amp;Yes</th>\n",
       "      <th>OnlineSecurity&amp;Contract&amp;TechSupport_No&amp;Two year&amp;No</th>\n",
       "      <th>OnlineSecurity&amp;Contract&amp;TechSupport_No&amp;Two year&amp;Yes</th>\n",
       "      <th>OnlineSecurity&amp;Contract&amp;TechSupport_Yes&amp;Month-to-month&amp;No</th>\n",
       "      <th>OnlineSecurity&amp;Contract&amp;TechSupport_Yes&amp;Month-to-month&amp;Yes</th>\n",
       "      <th>OnlineSecurity&amp;Contract&amp;TechSupport_Yes&amp;One year&amp;No</th>\n",
       "      <th>OnlineSecurity&amp;Contract&amp;TechSupport_Yes&amp;One year&amp;Yes</th>\n",
       "      <th>OnlineSecurity&amp;Contract&amp;TechSupport_Yes&amp;Two year&amp;No</th>\n",
       "      <th>OnlineSecurity&amp;Contract&amp;TechSupport_Yes&amp;Two year&amp;Yes</th>\n",
       "    </tr>\n",
       "  </thead>\n",
       "  <tbody>\n",
       "    <tr>\n",
       "      <th>0</th>\n",
       "      <td>0.0</td>\n",
       "      <td>0.0</td>\n",
       "      <td>0.0</td>\n",
       "      <td>0.0</td>\n",
       "      <td>0.0</td>\n",
       "      <td>0.0</td>\n",
       "      <td>0.0</td>\n",
       "      <td>0.0</td>\n",
       "      <td>0.0</td>\n",
       "      <td>0.0</td>\n",
       "      <td>0.0</td>\n",
       "      <td>0.0</td>\n",
       "      <td>0.0</td>\n",
       "      <td>0.0</td>\n",
       "      <td>1.0</td>\n",
       "    </tr>\n",
       "    <tr>\n",
       "      <th>1</th>\n",
       "      <td>0.0</td>\n",
       "      <td>0.0</td>\n",
       "      <td>0.0</td>\n",
       "      <td>0.0</td>\n",
       "      <td>1.0</td>\n",
       "      <td>0.0</td>\n",
       "      <td>0.0</td>\n",
       "      <td>0.0</td>\n",
       "      <td>0.0</td>\n",
       "      <td>0.0</td>\n",
       "      <td>0.0</td>\n",
       "      <td>0.0</td>\n",
       "      <td>0.0</td>\n",
       "      <td>0.0</td>\n",
       "      <td>0.0</td>\n",
       "    </tr>\n",
       "    <tr>\n",
       "      <th>2</th>\n",
       "      <td>1.0</td>\n",
       "      <td>0.0</td>\n",
       "      <td>0.0</td>\n",
       "      <td>0.0</td>\n",
       "      <td>0.0</td>\n",
       "      <td>0.0</td>\n",
       "      <td>0.0</td>\n",
       "      <td>0.0</td>\n",
       "      <td>0.0</td>\n",
       "      <td>0.0</td>\n",
       "      <td>0.0</td>\n",
       "      <td>0.0</td>\n",
       "      <td>0.0</td>\n",
       "      <td>0.0</td>\n",
       "      <td>0.0</td>\n",
       "    </tr>\n",
       "    <tr>\n",
       "      <th>3</th>\n",
       "      <td>0.0</td>\n",
       "      <td>0.0</td>\n",
       "      <td>0.0</td>\n",
       "      <td>1.0</td>\n",
       "      <td>0.0</td>\n",
       "      <td>0.0</td>\n",
       "      <td>0.0</td>\n",
       "      <td>0.0</td>\n",
       "      <td>0.0</td>\n",
       "      <td>0.0</td>\n",
       "      <td>0.0</td>\n",
       "      <td>0.0</td>\n",
       "      <td>0.0</td>\n",
       "      <td>0.0</td>\n",
       "      <td>0.0</td>\n",
       "    </tr>\n",
       "    <tr>\n",
       "      <th>4</th>\n",
       "      <td>1.0</td>\n",
       "      <td>0.0</td>\n",
       "      <td>0.0</td>\n",
       "      <td>0.0</td>\n",
       "      <td>0.0</td>\n",
       "      <td>0.0</td>\n",
       "      <td>0.0</td>\n",
       "      <td>0.0</td>\n",
       "      <td>0.0</td>\n",
       "      <td>0.0</td>\n",
       "      <td>0.0</td>\n",
       "      <td>0.0</td>\n",
       "      <td>0.0</td>\n",
       "      <td>0.0</td>\n",
       "      <td>0.0</td>\n",
       "    </tr>\n",
       "  </tbody>\n",
       "</table>\n",
       "</div>"
      ],
      "text/plain": [
       "   OnlineSecurity&Contract&TechSupport_No internet service&Month-to-month&No internet service  \\\n",
       "0                                                0.0                                            \n",
       "1                                                0.0                                            \n",
       "2                                                1.0                                            \n",
       "3                                                0.0                                            \n",
       "4                                                1.0                                            \n",
       "\n",
       "   OnlineSecurity&Contract&TechSupport_No internet service&One year&No internet service  \\\n",
       "0                                                0.0                                      \n",
       "1                                                0.0                                      \n",
       "2                                                0.0                                      \n",
       "3                                                0.0                                      \n",
       "4                                                0.0                                      \n",
       "\n",
       "   OnlineSecurity&Contract&TechSupport_No internet service&Two year&No internet service  \\\n",
       "0                                                0.0                                      \n",
       "1                                                0.0                                      \n",
       "2                                                0.0                                      \n",
       "3                                                0.0                                      \n",
       "4                                                0.0                                      \n",
       "\n",
       "   OnlineSecurity&Contract&TechSupport_No&Month-to-month&No  \\\n",
       "0                                                0.0          \n",
       "1                                                0.0          \n",
       "2                                                0.0          \n",
       "3                                                1.0          \n",
       "4                                                0.0          \n",
       "\n",
       "   OnlineSecurity&Contract&TechSupport_No&Month-to-month&Yes  \\\n",
       "0                                                0.0           \n",
       "1                                                1.0           \n",
       "2                                                0.0           \n",
       "3                                                0.0           \n",
       "4                                                0.0           \n",
       "\n",
       "   OnlineSecurity&Contract&TechSupport_No&One year&No  \\\n",
       "0                                                0.0    \n",
       "1                                                0.0    \n",
       "2                                                0.0    \n",
       "3                                                0.0    \n",
       "4                                                0.0    \n",
       "\n",
       "   OnlineSecurity&Contract&TechSupport_No&One year&Yes  \\\n",
       "0                                                0.0     \n",
       "1                                                0.0     \n",
       "2                                                0.0     \n",
       "3                                                0.0     \n",
       "4                                                0.0     \n",
       "\n",
       "   OnlineSecurity&Contract&TechSupport_No&Two year&No  \\\n",
       "0                                                0.0    \n",
       "1                                                0.0    \n",
       "2                                                0.0    \n",
       "3                                                0.0    \n",
       "4                                                0.0    \n",
       "\n",
       "   OnlineSecurity&Contract&TechSupport_No&Two year&Yes  \\\n",
       "0                                                0.0     \n",
       "1                                                0.0     \n",
       "2                                                0.0     \n",
       "3                                                0.0     \n",
       "4                                                0.0     \n",
       "\n",
       "   OnlineSecurity&Contract&TechSupport_Yes&Month-to-month&No  \\\n",
       "0                                                0.0           \n",
       "1                                                0.0           \n",
       "2                                                0.0           \n",
       "3                                                0.0           \n",
       "4                                                0.0           \n",
       "\n",
       "   OnlineSecurity&Contract&TechSupport_Yes&Month-to-month&Yes  \\\n",
       "0                                                0.0            \n",
       "1                                                0.0            \n",
       "2                                                0.0            \n",
       "3                                                0.0            \n",
       "4                                                0.0            \n",
       "\n",
       "   OnlineSecurity&Contract&TechSupport_Yes&One year&No  \\\n",
       "0                                                0.0     \n",
       "1                                                0.0     \n",
       "2                                                0.0     \n",
       "3                                                0.0     \n",
       "4                                                0.0     \n",
       "\n",
       "   OnlineSecurity&Contract&TechSupport_Yes&One year&Yes  \\\n",
       "0                                                0.0      \n",
       "1                                                0.0      \n",
       "2                                                0.0      \n",
       "3                                                0.0      \n",
       "4                                                0.0      \n",
       "\n",
       "   OnlineSecurity&Contract&TechSupport_Yes&Two year&No  \\\n",
       "0                                                0.0     \n",
       "1                                                0.0     \n",
       "2                                                0.0     \n",
       "3                                                0.0     \n",
       "4                                                0.0     \n",
       "\n",
       "   OnlineSecurity&Contract&TechSupport_Yes&Two year&Yes  \n",
       "0                                                1.0     \n",
       "1                                                0.0     \n",
       "2                                                0.0     \n",
       "3                                                0.0     \n",
       "4                                                0.0     "
      ]
     },
     "execution_count": 97,
     "metadata": {},
     "output_type": "execute_result"
    }
   ],
   "source": [
    "features_train_new[0].head()"
   ]
  },
  {
   "cell_type": "code",
   "execution_count": 98,
   "id": "a3baf29f",
   "metadata": {},
   "outputs": [
    {
     "data": {
      "text/html": [
       "<div>\n",
       "<style scoped>\n",
       "    .dataframe tbody tr th:only-of-type {\n",
       "        vertical-align: middle;\n",
       "    }\n",
       "\n",
       "    .dataframe tbody tr th {\n",
       "        vertical-align: top;\n",
       "    }\n",
       "\n",
       "    .dataframe thead th {\n",
       "        text-align: right;\n",
       "    }\n",
       "</style>\n",
       "<table border=\"1\" class=\"dataframe\">\n",
       "  <thead>\n",
       "    <tr style=\"text-align: right;\">\n",
       "      <th></th>\n",
       "      <th>OnlineSecurity&amp;Contract&amp;tenure_year_2014_No internet service&amp;Month-to-month&amp;0.0</th>\n",
       "      <th>OnlineSecurity&amp;Contract&amp;tenure_year_2014_No internet service&amp;Month-to-month&amp;1.0</th>\n",
       "      <th>OnlineSecurity&amp;Contract&amp;tenure_year_2014_No internet service&amp;One year&amp;0.0</th>\n",
       "      <th>OnlineSecurity&amp;Contract&amp;tenure_year_2014_No internet service&amp;One year&amp;1.0</th>\n",
       "      <th>OnlineSecurity&amp;Contract&amp;tenure_year_2014_No internet service&amp;Two year&amp;0.0</th>\n",
       "      <th>OnlineSecurity&amp;Contract&amp;tenure_year_2014_No internet service&amp;Two year&amp;1.0</th>\n",
       "      <th>OnlineSecurity&amp;Contract&amp;tenure_year_2014_No&amp;Month-to-month&amp;0.0</th>\n",
       "      <th>OnlineSecurity&amp;Contract&amp;tenure_year_2014_No&amp;Month-to-month&amp;1.0</th>\n",
       "      <th>OnlineSecurity&amp;Contract&amp;tenure_year_2014_No&amp;One year&amp;0.0</th>\n",
       "      <th>OnlineSecurity&amp;Contract&amp;tenure_year_2014_No&amp;One year&amp;1.0</th>\n",
       "      <th>OnlineSecurity&amp;Contract&amp;tenure_year_2014_No&amp;Two year&amp;0.0</th>\n",
       "      <th>OnlineSecurity&amp;Contract&amp;tenure_year_2014_No&amp;Two year&amp;1.0</th>\n",
       "      <th>OnlineSecurity&amp;Contract&amp;tenure_year_2014_Yes&amp;Month-to-month&amp;0.0</th>\n",
       "      <th>OnlineSecurity&amp;Contract&amp;tenure_year_2014_Yes&amp;Month-to-month&amp;1.0</th>\n",
       "      <th>OnlineSecurity&amp;Contract&amp;tenure_year_2014_Yes&amp;One year&amp;0.0</th>\n",
       "      <th>OnlineSecurity&amp;Contract&amp;tenure_year_2014_Yes&amp;One year&amp;1.0</th>\n",
       "      <th>OnlineSecurity&amp;Contract&amp;tenure_year_2014_Yes&amp;Two year&amp;0.0</th>\n",
       "      <th>OnlineSecurity&amp;Contract&amp;tenure_year_2014_Yes&amp;Two year&amp;1.0</th>\n",
       "    </tr>\n",
       "  </thead>\n",
       "  <tbody>\n",
       "    <tr>\n",
       "      <th>0</th>\n",
       "      <td>0.0</td>\n",
       "      <td>0</td>\n",
       "      <td>0.0</td>\n",
       "      <td>0.0</td>\n",
       "      <td>0.0</td>\n",
       "      <td>0.0</td>\n",
       "      <td>0.0</td>\n",
       "      <td>0.0</td>\n",
       "      <td>0.0</td>\n",
       "      <td>0.0</td>\n",
       "      <td>0.0</td>\n",
       "      <td>0.0</td>\n",
       "      <td>0.0</td>\n",
       "      <td>0.0</td>\n",
       "      <td>0.0</td>\n",
       "      <td>0.0</td>\n",
       "      <td>0.0</td>\n",
       "      <td>1.0</td>\n",
       "    </tr>\n",
       "    <tr>\n",
       "      <th>1</th>\n",
       "      <td>0.0</td>\n",
       "      <td>0</td>\n",
       "      <td>0.0</td>\n",
       "      <td>0.0</td>\n",
       "      <td>0.0</td>\n",
       "      <td>0.0</td>\n",
       "      <td>1.0</td>\n",
       "      <td>0.0</td>\n",
       "      <td>0.0</td>\n",
       "      <td>0.0</td>\n",
       "      <td>0.0</td>\n",
       "      <td>0.0</td>\n",
       "      <td>0.0</td>\n",
       "      <td>0.0</td>\n",
       "      <td>0.0</td>\n",
       "      <td>0.0</td>\n",
       "      <td>0.0</td>\n",
       "      <td>0.0</td>\n",
       "    </tr>\n",
       "    <tr>\n",
       "      <th>2</th>\n",
       "      <td>1.0</td>\n",
       "      <td>0</td>\n",
       "      <td>0.0</td>\n",
       "      <td>0.0</td>\n",
       "      <td>0.0</td>\n",
       "      <td>0.0</td>\n",
       "      <td>0.0</td>\n",
       "      <td>0.0</td>\n",
       "      <td>0.0</td>\n",
       "      <td>0.0</td>\n",
       "      <td>0.0</td>\n",
       "      <td>0.0</td>\n",
       "      <td>0.0</td>\n",
       "      <td>0.0</td>\n",
       "      <td>0.0</td>\n",
       "      <td>0.0</td>\n",
       "      <td>0.0</td>\n",
       "      <td>0.0</td>\n",
       "    </tr>\n",
       "    <tr>\n",
       "      <th>3</th>\n",
       "      <td>0.0</td>\n",
       "      <td>0</td>\n",
       "      <td>0.0</td>\n",
       "      <td>0.0</td>\n",
       "      <td>0.0</td>\n",
       "      <td>0.0</td>\n",
       "      <td>1.0</td>\n",
       "      <td>0.0</td>\n",
       "      <td>0.0</td>\n",
       "      <td>0.0</td>\n",
       "      <td>0.0</td>\n",
       "      <td>0.0</td>\n",
       "      <td>0.0</td>\n",
       "      <td>0.0</td>\n",
       "      <td>0.0</td>\n",
       "      <td>0.0</td>\n",
       "      <td>0.0</td>\n",
       "      <td>0.0</td>\n",
       "    </tr>\n",
       "    <tr>\n",
       "      <th>4</th>\n",
       "      <td>1.0</td>\n",
       "      <td>0</td>\n",
       "      <td>0.0</td>\n",
       "      <td>0.0</td>\n",
       "      <td>0.0</td>\n",
       "      <td>0.0</td>\n",
       "      <td>0.0</td>\n",
       "      <td>0.0</td>\n",
       "      <td>0.0</td>\n",
       "      <td>0.0</td>\n",
       "      <td>0.0</td>\n",
       "      <td>0.0</td>\n",
       "      <td>0.0</td>\n",
       "      <td>0.0</td>\n",
       "      <td>0.0</td>\n",
       "      <td>0.0</td>\n",
       "      <td>0.0</td>\n",
       "      <td>0.0</td>\n",
       "    </tr>\n",
       "  </tbody>\n",
       "</table>\n",
       "</div>"
      ],
      "text/plain": [
       "   OnlineSecurity&Contract&tenure_year_2014_No internet service&Month-to-month&0.0  \\\n",
       "0                                                0.0                                 \n",
       "1                                                0.0                                 \n",
       "2                                                1.0                                 \n",
       "3                                                0.0                                 \n",
       "4                                                1.0                                 \n",
       "\n",
       "   OnlineSecurity&Contract&tenure_year_2014_No internet service&Month-to-month&1.0  \\\n",
       "0                                                  0                                 \n",
       "1                                                  0                                 \n",
       "2                                                  0                                 \n",
       "3                                                  0                                 \n",
       "4                                                  0                                 \n",
       "\n",
       "   OnlineSecurity&Contract&tenure_year_2014_No internet service&One year&0.0  \\\n",
       "0                                                0.0                           \n",
       "1                                                0.0                           \n",
       "2                                                0.0                           \n",
       "3                                                0.0                           \n",
       "4                                                0.0                           \n",
       "\n",
       "   OnlineSecurity&Contract&tenure_year_2014_No internet service&One year&1.0  \\\n",
       "0                                                0.0                           \n",
       "1                                                0.0                           \n",
       "2                                                0.0                           \n",
       "3                                                0.0                           \n",
       "4                                                0.0                           \n",
       "\n",
       "   OnlineSecurity&Contract&tenure_year_2014_No internet service&Two year&0.0  \\\n",
       "0                                                0.0                           \n",
       "1                                                0.0                           \n",
       "2                                                0.0                           \n",
       "3                                                0.0                           \n",
       "4                                                0.0                           \n",
       "\n",
       "   OnlineSecurity&Contract&tenure_year_2014_No internet service&Two year&1.0  \\\n",
       "0                                                0.0                           \n",
       "1                                                0.0                           \n",
       "2                                                0.0                           \n",
       "3                                                0.0                           \n",
       "4                                                0.0                           \n",
       "\n",
       "   OnlineSecurity&Contract&tenure_year_2014_No&Month-to-month&0.0  \\\n",
       "0                                                0.0                \n",
       "1                                                1.0                \n",
       "2                                                0.0                \n",
       "3                                                1.0                \n",
       "4                                                0.0                \n",
       "\n",
       "   OnlineSecurity&Contract&tenure_year_2014_No&Month-to-month&1.0  \\\n",
       "0                                                0.0                \n",
       "1                                                0.0                \n",
       "2                                                0.0                \n",
       "3                                                0.0                \n",
       "4                                                0.0                \n",
       "\n",
       "   OnlineSecurity&Contract&tenure_year_2014_No&One year&0.0  \\\n",
       "0                                                0.0          \n",
       "1                                                0.0          \n",
       "2                                                0.0          \n",
       "3                                                0.0          \n",
       "4                                                0.0          \n",
       "\n",
       "   OnlineSecurity&Contract&tenure_year_2014_No&One year&1.0  \\\n",
       "0                                                0.0          \n",
       "1                                                0.0          \n",
       "2                                                0.0          \n",
       "3                                                0.0          \n",
       "4                                                0.0          \n",
       "\n",
       "   OnlineSecurity&Contract&tenure_year_2014_No&Two year&0.0  \\\n",
       "0                                                0.0          \n",
       "1                                                0.0          \n",
       "2                                                0.0          \n",
       "3                                                0.0          \n",
       "4                                                0.0          \n",
       "\n",
       "   OnlineSecurity&Contract&tenure_year_2014_No&Two year&1.0  \\\n",
       "0                                                0.0          \n",
       "1                                                0.0          \n",
       "2                                                0.0          \n",
       "3                                                0.0          \n",
       "4                                                0.0          \n",
       "\n",
       "   OnlineSecurity&Contract&tenure_year_2014_Yes&Month-to-month&0.0  \\\n",
       "0                                                0.0                 \n",
       "1                                                0.0                 \n",
       "2                                                0.0                 \n",
       "3                                                0.0                 \n",
       "4                                                0.0                 \n",
       "\n",
       "   OnlineSecurity&Contract&tenure_year_2014_Yes&Month-to-month&1.0  \\\n",
       "0                                                0.0                 \n",
       "1                                                0.0                 \n",
       "2                                                0.0                 \n",
       "3                                                0.0                 \n",
       "4                                                0.0                 \n",
       "\n",
       "   OnlineSecurity&Contract&tenure_year_2014_Yes&One year&0.0  \\\n",
       "0                                                0.0           \n",
       "1                                                0.0           \n",
       "2                                                0.0           \n",
       "3                                                0.0           \n",
       "4                                                0.0           \n",
       "\n",
       "   OnlineSecurity&Contract&tenure_year_2014_Yes&One year&1.0  \\\n",
       "0                                                0.0           \n",
       "1                                                0.0           \n",
       "2                                                0.0           \n",
       "3                                                0.0           \n",
       "4                                                0.0           \n",
       "\n",
       "   OnlineSecurity&Contract&tenure_year_2014_Yes&Two year&0.0  \\\n",
       "0                                                0.0           \n",
       "1                                                0.0           \n",
       "2                                                0.0           \n",
       "3                                                0.0           \n",
       "4                                                0.0           \n",
       "\n",
       "   OnlineSecurity&Contract&tenure_year_2014_Yes&Two year&1.0  \n",
       "0                                                1.0          \n",
       "1                                                0.0          \n",
       "2                                                0.0          \n",
       "3                                                0.0          \n",
       "4                                                0.0          "
      ]
     },
     "execution_count": 98,
     "metadata": {},
     "output_type": "execute_result"
    }
   ],
   "source": [
    "features_train_new[1].head()"
   ]
  },
  {
   "cell_type": "code",
   "execution_count": 99,
   "id": "c3796ba2",
   "metadata": {},
   "outputs": [],
   "source": [
    "features_train_new = pd.concat(features_train_new, axis=1)\n",
    "features_test_new = pd.concat(features_test_new, axis=1)"
   ]
  },
  {
   "cell_type": "code",
   "execution_count": 100,
   "id": "dc1a1ffe",
   "metadata": {},
   "outputs": [
    {
     "data": {
      "text/html": [
       "<div>\n",
       "<style scoped>\n",
       "    .dataframe tbody tr th:only-of-type {\n",
       "        vertical-align: middle;\n",
       "    }\n",
       "\n",
       "    .dataframe tbody tr th {\n",
       "        vertical-align: top;\n",
       "    }\n",
       "\n",
       "    .dataframe thead th {\n",
       "        text-align: right;\n",
       "    }\n",
       "</style>\n",
       "<table border=\"1\" class=\"dataframe\">\n",
       "  <thead>\n",
       "    <tr style=\"text-align: right;\">\n",
       "      <th></th>\n",
       "      <th>OnlineSecurity&amp;Contract&amp;TechSupport_No internet service&amp;Month-to-month&amp;No internet service</th>\n",
       "      <th>OnlineSecurity&amp;Contract&amp;TechSupport_No internet service&amp;One year&amp;No internet service</th>\n",
       "      <th>OnlineSecurity&amp;Contract&amp;TechSupport_No internet service&amp;Two year&amp;No internet service</th>\n",
       "      <th>OnlineSecurity&amp;Contract&amp;TechSupport_No&amp;Month-to-month&amp;No</th>\n",
       "      <th>OnlineSecurity&amp;Contract&amp;TechSupport_No&amp;Month-to-month&amp;Yes</th>\n",
       "      <th>OnlineSecurity&amp;Contract&amp;TechSupport_No&amp;One year&amp;No</th>\n",
       "      <th>OnlineSecurity&amp;Contract&amp;TechSupport_No&amp;One year&amp;Yes</th>\n",
       "      <th>OnlineSecurity&amp;Contract&amp;TechSupport_No&amp;Two year&amp;No</th>\n",
       "      <th>OnlineSecurity&amp;Contract&amp;TechSupport_No&amp;Two year&amp;Yes</th>\n",
       "      <th>OnlineSecurity&amp;Contract&amp;TechSupport_Yes&amp;Month-to-month&amp;No</th>\n",
       "      <th>...</th>\n",
       "      <th>TechSupport&amp;tenure_year_2019&amp;tenure_year_2020_No&amp;0.0&amp;0.0</th>\n",
       "      <th>TechSupport&amp;tenure_year_2019&amp;tenure_year_2020_No&amp;0.0&amp;1.0</th>\n",
       "      <th>TechSupport&amp;tenure_year_2019&amp;tenure_year_2020_No&amp;1.0&amp;0.0</th>\n",
       "      <th>TechSupport&amp;tenure_year_2019&amp;tenure_year_2020_Yes&amp;0.0&amp;0.0</th>\n",
       "      <th>TechSupport&amp;tenure_year_2019&amp;tenure_year_2020_Yes&amp;0.0&amp;1.0</th>\n",
       "      <th>TechSupport&amp;tenure_year_2019&amp;tenure_year_2020_Yes&amp;1.0&amp;0.0</th>\n",
       "      <th>tenure_year_2014&amp;tenure_year_2019&amp;tenure_year_2020_0.0&amp;0.0&amp;0.0</th>\n",
       "      <th>tenure_year_2014&amp;tenure_year_2019&amp;tenure_year_2020_0.0&amp;0.0&amp;1.0</th>\n",
       "      <th>tenure_year_2014&amp;tenure_year_2019&amp;tenure_year_2020_0.0&amp;1.0&amp;0.0</th>\n",
       "      <th>tenure_year_2014&amp;tenure_year_2019&amp;tenure_year_2020_1.0&amp;0.0&amp;0.0</th>\n",
       "    </tr>\n",
       "  </thead>\n",
       "  <tbody>\n",
       "    <tr>\n",
       "      <th>0</th>\n",
       "      <td>0.0</td>\n",
       "      <td>0.0</td>\n",
       "      <td>0.0</td>\n",
       "      <td>0.0</td>\n",
       "      <td>0.0</td>\n",
       "      <td>0.0</td>\n",
       "      <td>0.0</td>\n",
       "      <td>0.0</td>\n",
       "      <td>0.0</td>\n",
       "      <td>0.0</td>\n",
       "      <td>...</td>\n",
       "      <td>0.0</td>\n",
       "      <td>0.0</td>\n",
       "      <td>0.0</td>\n",
       "      <td>1.0</td>\n",
       "      <td>0.0</td>\n",
       "      <td>0.0</td>\n",
       "      <td>0.0</td>\n",
       "      <td>0.0</td>\n",
       "      <td>0.0</td>\n",
       "      <td>1.0</td>\n",
       "    </tr>\n",
       "    <tr>\n",
       "      <th>1</th>\n",
       "      <td>0.0</td>\n",
       "      <td>0.0</td>\n",
       "      <td>0.0</td>\n",
       "      <td>0.0</td>\n",
       "      <td>1.0</td>\n",
       "      <td>0.0</td>\n",
       "      <td>0.0</td>\n",
       "      <td>0.0</td>\n",
       "      <td>0.0</td>\n",
       "      <td>0.0</td>\n",
       "      <td>...</td>\n",
       "      <td>0.0</td>\n",
       "      <td>0.0</td>\n",
       "      <td>0.0</td>\n",
       "      <td>0.0</td>\n",
       "      <td>0.0</td>\n",
       "      <td>1.0</td>\n",
       "      <td>0.0</td>\n",
       "      <td>0.0</td>\n",
       "      <td>1.0</td>\n",
       "      <td>0.0</td>\n",
       "    </tr>\n",
       "    <tr>\n",
       "      <th>2</th>\n",
       "      <td>1.0</td>\n",
       "      <td>0.0</td>\n",
       "      <td>0.0</td>\n",
       "      <td>0.0</td>\n",
       "      <td>0.0</td>\n",
       "      <td>0.0</td>\n",
       "      <td>0.0</td>\n",
       "      <td>0.0</td>\n",
       "      <td>0.0</td>\n",
       "      <td>0.0</td>\n",
       "      <td>...</td>\n",
       "      <td>0.0</td>\n",
       "      <td>0.0</td>\n",
       "      <td>0.0</td>\n",
       "      <td>0.0</td>\n",
       "      <td>0.0</td>\n",
       "      <td>0.0</td>\n",
       "      <td>0.0</td>\n",
       "      <td>0.0</td>\n",
       "      <td>1.0</td>\n",
       "      <td>0.0</td>\n",
       "    </tr>\n",
       "    <tr>\n",
       "      <th>3</th>\n",
       "      <td>0.0</td>\n",
       "      <td>0.0</td>\n",
       "      <td>0.0</td>\n",
       "      <td>1.0</td>\n",
       "      <td>0.0</td>\n",
       "      <td>0.0</td>\n",
       "      <td>0.0</td>\n",
       "      <td>0.0</td>\n",
       "      <td>0.0</td>\n",
       "      <td>0.0</td>\n",
       "      <td>...</td>\n",
       "      <td>0.0</td>\n",
       "      <td>0.0</td>\n",
       "      <td>1.0</td>\n",
       "      <td>0.0</td>\n",
       "      <td>0.0</td>\n",
       "      <td>0.0</td>\n",
       "      <td>0.0</td>\n",
       "      <td>0.0</td>\n",
       "      <td>1.0</td>\n",
       "      <td>0.0</td>\n",
       "    </tr>\n",
       "    <tr>\n",
       "      <th>4</th>\n",
       "      <td>1.0</td>\n",
       "      <td>0.0</td>\n",
       "      <td>0.0</td>\n",
       "      <td>0.0</td>\n",
       "      <td>0.0</td>\n",
       "      <td>0.0</td>\n",
       "      <td>0.0</td>\n",
       "      <td>0.0</td>\n",
       "      <td>0.0</td>\n",
       "      <td>0.0</td>\n",
       "      <td>...</td>\n",
       "      <td>0.0</td>\n",
       "      <td>0.0</td>\n",
       "      <td>0.0</td>\n",
       "      <td>0.0</td>\n",
       "      <td>0.0</td>\n",
       "      <td>0.0</td>\n",
       "      <td>0.0</td>\n",
       "      <td>0.0</td>\n",
       "      <td>1.0</td>\n",
       "      <td>0.0</td>\n",
       "    </tr>\n",
       "  </tbody>\n",
       "</table>\n",
       "<p>5 rows × 225 columns</p>\n",
       "</div>"
      ],
      "text/plain": [
       "   OnlineSecurity&Contract&TechSupport_No internet service&Month-to-month&No internet service  \\\n",
       "0                                                0.0                                            \n",
       "1                                                0.0                                            \n",
       "2                                                1.0                                            \n",
       "3                                                0.0                                            \n",
       "4                                                1.0                                            \n",
       "\n",
       "   OnlineSecurity&Contract&TechSupport_No internet service&One year&No internet service  \\\n",
       "0                                                0.0                                      \n",
       "1                                                0.0                                      \n",
       "2                                                0.0                                      \n",
       "3                                                0.0                                      \n",
       "4                                                0.0                                      \n",
       "\n",
       "   OnlineSecurity&Contract&TechSupport_No internet service&Two year&No internet service  \\\n",
       "0                                                0.0                                      \n",
       "1                                                0.0                                      \n",
       "2                                                0.0                                      \n",
       "3                                                0.0                                      \n",
       "4                                                0.0                                      \n",
       "\n",
       "   OnlineSecurity&Contract&TechSupport_No&Month-to-month&No  \\\n",
       "0                                                0.0          \n",
       "1                                                0.0          \n",
       "2                                                0.0          \n",
       "3                                                1.0          \n",
       "4                                                0.0          \n",
       "\n",
       "   OnlineSecurity&Contract&TechSupport_No&Month-to-month&Yes  \\\n",
       "0                                                0.0           \n",
       "1                                                1.0           \n",
       "2                                                0.0           \n",
       "3                                                0.0           \n",
       "4                                                0.0           \n",
       "\n",
       "   OnlineSecurity&Contract&TechSupport_No&One year&No  \\\n",
       "0                                                0.0    \n",
       "1                                                0.0    \n",
       "2                                                0.0    \n",
       "3                                                0.0    \n",
       "4                                                0.0    \n",
       "\n",
       "   OnlineSecurity&Contract&TechSupport_No&One year&Yes  \\\n",
       "0                                                0.0     \n",
       "1                                                0.0     \n",
       "2                                                0.0     \n",
       "3                                                0.0     \n",
       "4                                                0.0     \n",
       "\n",
       "   OnlineSecurity&Contract&TechSupport_No&Two year&No  \\\n",
       "0                                                0.0    \n",
       "1                                                0.0    \n",
       "2                                                0.0    \n",
       "3                                                0.0    \n",
       "4                                                0.0    \n",
       "\n",
       "   OnlineSecurity&Contract&TechSupport_No&Two year&Yes  \\\n",
       "0                                                0.0     \n",
       "1                                                0.0     \n",
       "2                                                0.0     \n",
       "3                                                0.0     \n",
       "4                                                0.0     \n",
       "\n",
       "   OnlineSecurity&Contract&TechSupport_Yes&Month-to-month&No  ...  \\\n",
       "0                                                0.0          ...   \n",
       "1                                                0.0          ...   \n",
       "2                                                0.0          ...   \n",
       "3                                                0.0          ...   \n",
       "4                                                0.0          ...   \n",
       "\n",
       "   TechSupport&tenure_year_2019&tenure_year_2020_No&0.0&0.0  \\\n",
       "0                                                0.0          \n",
       "1                                                0.0          \n",
       "2                                                0.0          \n",
       "3                                                0.0          \n",
       "4                                                0.0          \n",
       "\n",
       "   TechSupport&tenure_year_2019&tenure_year_2020_No&0.0&1.0  \\\n",
       "0                                                0.0          \n",
       "1                                                0.0          \n",
       "2                                                0.0          \n",
       "3                                                0.0          \n",
       "4                                                0.0          \n",
       "\n",
       "   TechSupport&tenure_year_2019&tenure_year_2020_No&1.0&0.0  \\\n",
       "0                                                0.0          \n",
       "1                                                0.0          \n",
       "2                                                0.0          \n",
       "3                                                1.0          \n",
       "4                                                0.0          \n",
       "\n",
       "   TechSupport&tenure_year_2019&tenure_year_2020_Yes&0.0&0.0  \\\n",
       "0                                                1.0           \n",
       "1                                                0.0           \n",
       "2                                                0.0           \n",
       "3                                                0.0           \n",
       "4                                                0.0           \n",
       "\n",
       "   TechSupport&tenure_year_2019&tenure_year_2020_Yes&0.0&1.0  \\\n",
       "0                                                0.0           \n",
       "1                                                0.0           \n",
       "2                                                0.0           \n",
       "3                                                0.0           \n",
       "4                                                0.0           \n",
       "\n",
       "   TechSupport&tenure_year_2019&tenure_year_2020_Yes&1.0&0.0  \\\n",
       "0                                                0.0           \n",
       "1                                                1.0           \n",
       "2                                                0.0           \n",
       "3                                                0.0           \n",
       "4                                                0.0           \n",
       "\n",
       "   tenure_year_2014&tenure_year_2019&tenure_year_2020_0.0&0.0&0.0  \\\n",
       "0                                                0.0                \n",
       "1                                                0.0                \n",
       "2                                                0.0                \n",
       "3                                                0.0                \n",
       "4                                                0.0                \n",
       "\n",
       "   tenure_year_2014&tenure_year_2019&tenure_year_2020_0.0&0.0&1.0  \\\n",
       "0                                                0.0                \n",
       "1                                                0.0                \n",
       "2                                                0.0                \n",
       "3                                                0.0                \n",
       "4                                                0.0                \n",
       "\n",
       "   tenure_year_2014&tenure_year_2019&tenure_year_2020_0.0&1.0&0.0  \\\n",
       "0                                                0.0                \n",
       "1                                                1.0                \n",
       "2                                                1.0                \n",
       "3                                                1.0                \n",
       "4                                                1.0                \n",
       "\n",
       "   tenure_year_2014&tenure_year_2019&tenure_year_2020_1.0&0.0&0.0  \n",
       "0                                                1.0               \n",
       "1                                                0.0               \n",
       "2                                                0.0               \n",
       "3                                                0.0               \n",
       "4                                                0.0               \n",
       "\n",
       "[5 rows x 225 columns]"
      ]
     },
     "execution_count": 100,
     "metadata": {},
     "output_type": "execute_result"
    }
   ],
   "source": [
    "features_train_new.head()"
   ]
  },
  {
   "cell_type": "markdown",
   "id": "41b40b5d",
   "metadata": {},
   "source": [
    "同样，可以简单检验下衍生特征矩阵的稀疏性："
   ]
  },
  {
   "cell_type": "code",
   "execution_count": 101,
   "id": "77083147",
   "metadata": {},
   "outputs": [
    {
     "data": {
      "text/plain": [
       "(5282, 225)"
      ]
     },
     "execution_count": 101,
     "metadata": {},
     "output_type": "execute_result"
    }
   ],
   "source": [
    "features_train_new.shape"
   ]
  },
  {
   "cell_type": "code",
   "execution_count": 102,
   "id": "37dce913",
   "metadata": {},
   "outputs": [
    {
     "data": {
      "text/plain": [
       "OnlineSecurity&Contract&TechSupport_No internet service&Month-to-month&No internet service    0.926543\n",
       "OnlineSecurity&Contract&TechSupport_No internet service&One year&No internet service          0.948315\n",
       "OnlineSecurity&Contract&TechSupport_No internet service&Two year&No internet service          0.912533\n",
       "OnlineSecurity&Contract&TechSupport_No&Month-to-month&No                                      0.689133\n",
       "OnlineSecurity&Contract&TechSupport_No&Month-to-month&Yes                                     0.931655\n",
       "                                                                                                ...   \n",
       "TechSupport&tenure_year_2019&tenure_year_2020_Yes&1.0&0.0                                     0.960242\n",
       "tenure_year_2014&tenure_year_2019&tenure_year_2020_0.0&0.0&0.0                                0.515146\n",
       "tenure_year_2014&tenure_year_2019&tenure_year_2020_0.0&0.0&1.0                                0.998107\n",
       "tenure_year_2014&tenure_year_2019&tenure_year_2020_0.0&1.0&0.0                                0.688944\n",
       "tenure_year_2014&tenure_year_2019&tenure_year_2020_1.0&0.0&0.0                                0.797804\n",
       "Length: 225, dtype: float64"
      ]
     },
     "execution_count": 102,
     "metadata": {},
     "output_type": "execute_result"
    }
   ],
   "source": [
    "(features_train_new == 0).sum() / 5282"
   ]
  },
  {
   "cell_type": "code",
   "execution_count": 103,
   "id": "fabe0da5-259f-4caf-a358-76dee7f179fa",
   "metadata": {},
   "outputs": [
    {
     "data": {
      "text/plain": [
       "OnlineSecurity&Contract&tenure_year_2019_No&Two year&1.0                           1.000000\n",
       "Contract&TechSupport&tenure_year_2014_Month-to-month&No internet service&1.0       1.000000\n",
       "OnlineSecurity&Contract&tenure_year_2014_No internet service&Month-to-month&1.0    1.000000\n",
       "TechSupport&tenure_year_2019&tenure_year_2020_No&0.0&1.0                           0.999811\n",
       "OnlineSecurity&TechSupport&tenure_year_2020_Yes&No&1.0                             0.999811\n",
       "                                                                                     ...   \n",
       "Contract&TechSupport&tenure_year_2020_Month-to-month&No&0.0                        0.616622\n",
       "TechSupport&tenure_year_2014&tenure_year_2020_No&0.0&0.0                           0.560394\n",
       "OnlineSecurity&tenure_year_2014&tenure_year_2020_No&0.0&0.0                        0.557175\n",
       "tenure_year_2014&tenure_year_2019&tenure_year_2020_0.0&0.0&0.0                     0.515146\n",
       "Contract&tenure_year_2014&tenure_year_2020_Month-to-month&0.0&0.0                  0.462136\n",
       "Length: 225, dtype: float64"
      ]
     },
     "execution_count": 103,
     "metadata": {},
     "output_type": "execute_result"
    }
   ],
   "source": [
    "((features_train_new == 0).sum() / 5282).sort_values(ascending = False)"
   ]
  },
  {
   "cell_type": "markdown",
   "id": "595ff6f5",
   "metadata": {},
   "source": [
    "能够发现，此时就已经出现了若干全是0的列，这也是多变量交叉组合带来的结果。我们可以直接剔除这些列，当然全是0值的列在后续相关系数计算时会得到Nan的结果，因此此处也可以暂时不做处理。"
   ]
  },
  {
   "cell_type": "markdown",
   "id": "9aa3c0db",
   "metadata": {},
   "source": [
    "接下来进行相关性检验："
   ]
  },
  {
   "cell_type": "code",
   "execution_count": 104,
   "id": "1c02983b",
   "metadata": {},
   "outputs": [
    {
     "data": {
      "text/html": [
       "<div>\n",
       "<style scoped>\n",
       "    .dataframe tbody tr th:only-of-type {\n",
       "        vertical-align: middle;\n",
       "    }\n",
       "\n",
       "    .dataframe tbody tr th {\n",
       "        vertical-align: top;\n",
       "    }\n",
       "\n",
       "    .dataframe thead th {\n",
       "        text-align: right;\n",
       "    }\n",
       "</style>\n",
       "<table border=\"1\" class=\"dataframe\">\n",
       "  <thead>\n",
       "    <tr style=\"text-align: right;\">\n",
       "      <th></th>\n",
       "      <th>OnlineSecurity&amp;Contract&amp;TechSupport_No internet service&amp;Month-to-month&amp;No internet service</th>\n",
       "      <th>OnlineSecurity&amp;Contract&amp;TechSupport_No internet service&amp;One year&amp;No internet service</th>\n",
       "      <th>OnlineSecurity&amp;Contract&amp;TechSupport_No internet service&amp;Two year&amp;No internet service</th>\n",
       "      <th>OnlineSecurity&amp;Contract&amp;TechSupport_No&amp;Month-to-month&amp;No</th>\n",
       "      <th>OnlineSecurity&amp;Contract&amp;TechSupport_No&amp;Month-to-month&amp;Yes</th>\n",
       "      <th>OnlineSecurity&amp;Contract&amp;TechSupport_No&amp;One year&amp;No</th>\n",
       "      <th>OnlineSecurity&amp;Contract&amp;TechSupport_No&amp;One year&amp;Yes</th>\n",
       "      <th>OnlineSecurity&amp;Contract&amp;TechSupport_No&amp;Two year&amp;No</th>\n",
       "      <th>OnlineSecurity&amp;Contract&amp;TechSupport_No&amp;Two year&amp;Yes</th>\n",
       "      <th>OnlineSecurity&amp;Contract&amp;TechSupport_Yes&amp;Month-to-month&amp;No</th>\n",
       "      <th>...</th>\n",
       "      <th>TechSupport&amp;tenure_year_2019&amp;tenure_year_2020_No&amp;0.0&amp;1.0</th>\n",
       "      <th>TechSupport&amp;tenure_year_2019&amp;tenure_year_2020_No&amp;1.0&amp;0.0</th>\n",
       "      <th>TechSupport&amp;tenure_year_2019&amp;tenure_year_2020_Yes&amp;0.0&amp;0.0</th>\n",
       "      <th>TechSupport&amp;tenure_year_2019&amp;tenure_year_2020_Yes&amp;0.0&amp;1.0</th>\n",
       "      <th>TechSupport&amp;tenure_year_2019&amp;tenure_year_2020_Yes&amp;1.0&amp;0.0</th>\n",
       "      <th>tenure_year_2014&amp;tenure_year_2019&amp;tenure_year_2020_0.0&amp;0.0&amp;0.0</th>\n",
       "      <th>tenure_year_2014&amp;tenure_year_2019&amp;tenure_year_2020_0.0&amp;0.0&amp;1.0</th>\n",
       "      <th>tenure_year_2014&amp;tenure_year_2019&amp;tenure_year_2020_0.0&amp;1.0&amp;0.0</th>\n",
       "      <th>tenure_year_2014&amp;tenure_year_2019&amp;tenure_year_2020_1.0&amp;0.0&amp;0.0</th>\n",
       "      <th>Churn</th>\n",
       "    </tr>\n",
       "  </thead>\n",
       "  <tbody>\n",
       "    <tr>\n",
       "      <th>4067</th>\n",
       "      <td>0.0</td>\n",
       "      <td>0.0</td>\n",
       "      <td>0.0</td>\n",
       "      <td>0.0</td>\n",
       "      <td>0.0</td>\n",
       "      <td>0.0</td>\n",
       "      <td>0.0</td>\n",
       "      <td>0.0</td>\n",
       "      <td>0.0</td>\n",
       "      <td>0.0</td>\n",
       "      <td>...</td>\n",
       "      <td>0.0</td>\n",
       "      <td>0.0</td>\n",
       "      <td>1.0</td>\n",
       "      <td>0.0</td>\n",
       "      <td>0.0</td>\n",
       "      <td>0.0</td>\n",
       "      <td>0.0</td>\n",
       "      <td>0.0</td>\n",
       "      <td>1.0</td>\n",
       "      <td>0</td>\n",
       "    </tr>\n",
       "    <tr>\n",
       "      <th>3306</th>\n",
       "      <td>0.0</td>\n",
       "      <td>0.0</td>\n",
       "      <td>0.0</td>\n",
       "      <td>0.0</td>\n",
       "      <td>1.0</td>\n",
       "      <td>0.0</td>\n",
       "      <td>0.0</td>\n",
       "      <td>0.0</td>\n",
       "      <td>0.0</td>\n",
       "      <td>0.0</td>\n",
       "      <td>...</td>\n",
       "      <td>0.0</td>\n",
       "      <td>0.0</td>\n",
       "      <td>0.0</td>\n",
       "      <td>0.0</td>\n",
       "      <td>1.0</td>\n",
       "      <td>0.0</td>\n",
       "      <td>0.0</td>\n",
       "      <td>1.0</td>\n",
       "      <td>0.0</td>\n",
       "      <td>0</td>\n",
       "    </tr>\n",
       "    <tr>\n",
       "      <th>3391</th>\n",
       "      <td>1.0</td>\n",
       "      <td>0.0</td>\n",
       "      <td>0.0</td>\n",
       "      <td>0.0</td>\n",
       "      <td>0.0</td>\n",
       "      <td>0.0</td>\n",
       "      <td>0.0</td>\n",
       "      <td>0.0</td>\n",
       "      <td>0.0</td>\n",
       "      <td>0.0</td>\n",
       "      <td>...</td>\n",
       "      <td>0.0</td>\n",
       "      <td>0.0</td>\n",
       "      <td>0.0</td>\n",
       "      <td>0.0</td>\n",
       "      <td>0.0</td>\n",
       "      <td>0.0</td>\n",
       "      <td>0.0</td>\n",
       "      <td>1.0</td>\n",
       "      <td>0.0</td>\n",
       "      <td>0</td>\n",
       "    </tr>\n",
       "    <tr>\n",
       "      <th>3249</th>\n",
       "      <td>0.0</td>\n",
       "      <td>0.0</td>\n",
       "      <td>0.0</td>\n",
       "      <td>1.0</td>\n",
       "      <td>0.0</td>\n",
       "      <td>0.0</td>\n",
       "      <td>0.0</td>\n",
       "      <td>0.0</td>\n",
       "      <td>0.0</td>\n",
       "      <td>0.0</td>\n",
       "      <td>...</td>\n",
       "      <td>0.0</td>\n",
       "      <td>1.0</td>\n",
       "      <td>0.0</td>\n",
       "      <td>0.0</td>\n",
       "      <td>0.0</td>\n",
       "      <td>0.0</td>\n",
       "      <td>0.0</td>\n",
       "      <td>1.0</td>\n",
       "      <td>0.0</td>\n",
       "      <td>0</td>\n",
       "    </tr>\n",
       "    <tr>\n",
       "      <th>2674</th>\n",
       "      <td>1.0</td>\n",
       "      <td>0.0</td>\n",
       "      <td>0.0</td>\n",
       "      <td>0.0</td>\n",
       "      <td>0.0</td>\n",
       "      <td>0.0</td>\n",
       "      <td>0.0</td>\n",
       "      <td>0.0</td>\n",
       "      <td>0.0</td>\n",
       "      <td>0.0</td>\n",
       "      <td>...</td>\n",
       "      <td>0.0</td>\n",
       "      <td>0.0</td>\n",
       "      <td>0.0</td>\n",
       "      <td>0.0</td>\n",
       "      <td>0.0</td>\n",
       "      <td>0.0</td>\n",
       "      <td>0.0</td>\n",
       "      <td>1.0</td>\n",
       "      <td>0.0</td>\n",
       "      <td>0</td>\n",
       "    </tr>\n",
       "  </tbody>\n",
       "</table>\n",
       "<p>5 rows × 226 columns</p>\n",
       "</div>"
      ],
      "text/plain": [
       "      OnlineSecurity&Contract&TechSupport_No internet service&Month-to-month&No internet service  \\\n",
       "4067                                                0.0                                            \n",
       "3306                                                0.0                                            \n",
       "3391                                                1.0                                            \n",
       "3249                                                0.0                                            \n",
       "2674                                                1.0                                            \n",
       "\n",
       "      OnlineSecurity&Contract&TechSupport_No internet service&One year&No internet service  \\\n",
       "4067                                                0.0                                      \n",
       "3306                                                0.0                                      \n",
       "3391                                                0.0                                      \n",
       "3249                                                0.0                                      \n",
       "2674                                                0.0                                      \n",
       "\n",
       "      OnlineSecurity&Contract&TechSupport_No internet service&Two year&No internet service  \\\n",
       "4067                                                0.0                                      \n",
       "3306                                                0.0                                      \n",
       "3391                                                0.0                                      \n",
       "3249                                                0.0                                      \n",
       "2674                                                0.0                                      \n",
       "\n",
       "      OnlineSecurity&Contract&TechSupport_No&Month-to-month&No  \\\n",
       "4067                                                0.0          \n",
       "3306                                                0.0          \n",
       "3391                                                0.0          \n",
       "3249                                                1.0          \n",
       "2674                                                0.0          \n",
       "\n",
       "      OnlineSecurity&Contract&TechSupport_No&Month-to-month&Yes  \\\n",
       "4067                                                0.0           \n",
       "3306                                                1.0           \n",
       "3391                                                0.0           \n",
       "3249                                                0.0           \n",
       "2674                                                0.0           \n",
       "\n",
       "      OnlineSecurity&Contract&TechSupport_No&One year&No  \\\n",
       "4067                                                0.0    \n",
       "3306                                                0.0    \n",
       "3391                                                0.0    \n",
       "3249                                                0.0    \n",
       "2674                                                0.0    \n",
       "\n",
       "      OnlineSecurity&Contract&TechSupport_No&One year&Yes  \\\n",
       "4067                                                0.0     \n",
       "3306                                                0.0     \n",
       "3391                                                0.0     \n",
       "3249                                                0.0     \n",
       "2674                                                0.0     \n",
       "\n",
       "      OnlineSecurity&Contract&TechSupport_No&Two year&No  \\\n",
       "4067                                                0.0    \n",
       "3306                                                0.0    \n",
       "3391                                                0.0    \n",
       "3249                                                0.0    \n",
       "2674                                                0.0    \n",
       "\n",
       "      OnlineSecurity&Contract&TechSupport_No&Two year&Yes  \\\n",
       "4067                                                0.0     \n",
       "3306                                                0.0     \n",
       "3391                                                0.0     \n",
       "3249                                                0.0     \n",
       "2674                                                0.0     \n",
       "\n",
       "      OnlineSecurity&Contract&TechSupport_Yes&Month-to-month&No  ...  \\\n",
       "4067                                                0.0          ...   \n",
       "3306                                                0.0          ...   \n",
       "3391                                                0.0          ...   \n",
       "3249                                                0.0          ...   \n",
       "2674                                                0.0          ...   \n",
       "\n",
       "      TechSupport&tenure_year_2019&tenure_year_2020_No&0.0&1.0  \\\n",
       "4067                                                0.0          \n",
       "3306                                                0.0          \n",
       "3391                                                0.0          \n",
       "3249                                                0.0          \n",
       "2674                                                0.0          \n",
       "\n",
       "      TechSupport&tenure_year_2019&tenure_year_2020_No&1.0&0.0  \\\n",
       "4067                                                0.0          \n",
       "3306                                                0.0          \n",
       "3391                                                0.0          \n",
       "3249                                                1.0          \n",
       "2674                                                0.0          \n",
       "\n",
       "      TechSupport&tenure_year_2019&tenure_year_2020_Yes&0.0&0.0  \\\n",
       "4067                                                1.0           \n",
       "3306                                                0.0           \n",
       "3391                                                0.0           \n",
       "3249                                                0.0           \n",
       "2674                                                0.0           \n",
       "\n",
       "      TechSupport&tenure_year_2019&tenure_year_2020_Yes&0.0&1.0  \\\n",
       "4067                                                0.0           \n",
       "3306                                                0.0           \n",
       "3391                                                0.0           \n",
       "3249                                                0.0           \n",
       "2674                                                0.0           \n",
       "\n",
       "      TechSupport&tenure_year_2019&tenure_year_2020_Yes&1.0&0.0  \\\n",
       "4067                                                0.0           \n",
       "3306                                                1.0           \n",
       "3391                                                0.0           \n",
       "3249                                                0.0           \n",
       "2674                                                0.0           \n",
       "\n",
       "      tenure_year_2014&tenure_year_2019&tenure_year_2020_0.0&0.0&0.0  \\\n",
       "4067                                                0.0                \n",
       "3306                                                0.0                \n",
       "3391                                                0.0                \n",
       "3249                                                0.0                \n",
       "2674                                                0.0                \n",
       "\n",
       "      tenure_year_2014&tenure_year_2019&tenure_year_2020_0.0&0.0&1.0  \\\n",
       "4067                                                0.0                \n",
       "3306                                                0.0                \n",
       "3391                                                0.0                \n",
       "3249                                                0.0                \n",
       "2674                                                0.0                \n",
       "\n",
       "      tenure_year_2014&tenure_year_2019&tenure_year_2020_0.0&1.0&0.0  \\\n",
       "4067                                                0.0                \n",
       "3306                                                1.0                \n",
       "3391                                                1.0                \n",
       "3249                                                1.0                \n",
       "2674                                                1.0                \n",
       "\n",
       "      tenure_year_2014&tenure_year_2019&tenure_year_2020_1.0&0.0&0.0  Churn  \n",
       "4067                                                1.0                   0  \n",
       "3306                                                0.0                   0  \n",
       "3391                                                0.0                   0  \n",
       "3249                                                0.0                   0  \n",
       "2674                                                0.0                   0  \n",
       "\n",
       "[5 rows x 226 columns]"
      ]
     },
     "execution_count": 104,
     "metadata": {},
     "output_type": "execute_result"
    }
   ],
   "source": [
    "# 修改index\n",
    "features_train_new.index = X_train.index\n",
    "\n",
    "# 拼接衍生特征与标签\n",
    "df_temp = pd.concat([features_train_new, y_train], axis=1)\n",
    "\n",
    "# 查看拼接后的df\n",
    "df_temp.head()"
   ]
  },
  {
   "cell_type": "code",
   "execution_count": 105,
   "id": "87294294",
   "metadata": {},
   "outputs": [
    {
     "data": {
      "text/plain": [
       "Churn                                                                                      1.000000\n",
       "OnlineSecurity&Contract&tenure_year_2014_No&Month-to-month&0.0                             0.443017\n",
       "OnlineSecurity&Contract&tenure_year_2020_No&Month-to-month&0.0                             0.441598\n",
       "OnlineSecurity&Contract&TechSupport_No&Month-to-month&No                                   0.440002\n",
       "Contract&TechSupport&tenure_year_2014_Month-to-month&No&0.0                                0.433924\n",
       "                                                                                             ...   \n",
       "OnlineSecurity&TechSupport&tenure_year_2020_No internet service&No internet service&0.0   -0.229197\n",
       "Contract&tenure_year_2019&tenure_year_2020_Two year&0.0&0.0                               -0.294312\n",
       "OnlineSecurity&Contract&tenure_year_2014_No internet service&Month-to-month&1.0                 NaN\n",
       "OnlineSecurity&Contract&tenure_year_2019_No&Two year&1.0                                        NaN\n",
       "Contract&TechSupport&tenure_year_2014_Month-to-month&No internet service&1.0                    NaN\n",
       "Name: Churn, Length: 226, dtype: float64"
      ]
     },
     "execution_count": 105,
     "metadata": {},
     "output_type": "execute_result"
    }
   ],
   "source": [
    "# 计算相关系数\n",
    "df_corr = df_temp.corr()['Churn'].sort_values(ascending = False)\n",
    "df_corr"
   ]
  },
  {
   "cell_type": "code",
   "execution_count": 106,
   "id": "cfab5677",
   "metadata": {},
   "outputs": [
    {
     "data": {
      "text/plain": [
       "Churn                                                                1.000000\n",
       "OnlineSecurity&Contract&tenure_year_2014_No&Month-to-month&0.0       0.443017\n",
       "OnlineSecurity&Contract&tenure_year_2020_No&Month-to-month&0.0       0.441598\n",
       "OnlineSecurity&Contract&TechSupport_No&Month-to-month&No             0.440002\n",
       "Contract&TechSupport&tenure_year_2014_Month-to-month&No&0.0          0.433924\n",
       "Contract&TechSupport&tenure_year_2020_Month-to-month&No&0.0          0.430260\n",
       "OnlineSecurity&TechSupport&tenure_year_2014_No&No&0.0                0.411071\n",
       "Contract&tenure_year_2014&tenure_year_2020_Month-to-month&0.0&0.0    0.402879\n",
       "OnlineSecurity&Contract&tenure_year_2019_No&Month-to-month&1.0       0.402734\n",
       "OnlineSecurity&TechSupport&tenure_year_2019_No&No&1.0                0.401730\n",
       "OnlineSecurity&tenure_year_2014&tenure_year_2019_No&0.0&1.0          0.399682\n",
       "OnlineSecurity&tenure_year_2019&tenure_year_2020_No&1.0&0.0          0.399682\n",
       "OnlineSecurity&TechSupport&tenure_year_2020_No&No&0.0                0.398994\n",
       "Contract&TechSupport&tenure_year_2019_Month-to-month&No&1.0          0.393196\n",
       "OnlineSecurity&tenure_year_2014&tenure_year_2020_No&0.0&0.0          0.391581\n",
       "TechSupport&tenure_year_2019&tenure_year_2020_No&1.0&0.0             0.390156\n",
       "TechSupport&tenure_year_2014&tenure_year_2019_No&0.0&1.0             0.390156\n",
       "TechSupport&tenure_year_2014&tenure_year_2020_No&0.0&0.0             0.380115\n",
       "Contract&tenure_year_2014&tenure_year_2019_Month-to-month&0.0&1.0    0.353016\n",
       "Contract&tenure_year_2019&tenure_year_2020_Month-to-month&1.0&0.0    0.353016\n",
       "Name: Churn, dtype: float64"
      ]
     },
     "execution_count": 106,
     "metadata": {},
     "output_type": "execute_result"
    }
   ],
   "source": [
    "# 取相关系数绝对值最大的20个特征进行观察\n",
    "np.abs(df_corr).sort_values(ascending = False)[: 20]"
   ]
  },
  {
   "cell_type": "markdown",
   "id": "d23a4f40",
   "metadata": {},
   "source": [
    "能够看出，由于时序衍生特征的加入，哪怕是三阶特征衍生，仍然还是衍生了很多高质量特征，这也是为何建议先进行时序特征衍生后进行交叉组合的原因。接下来我们仍然考虑带入相关系数绝对值最大的三个特征进行模型检验："
   ]
  },
  {
   "cell_type": "code",
   "execution_count": 107,
   "id": "864ed307",
   "metadata": {},
   "outputs": [
    {
     "data": {
      "text/plain": [
       "['OnlineSecurity&Contract&tenure_year_2014_No&Month-to-month&0.0',\n",
       " 'OnlineSecurity&Contract&tenure_year_2020_No&Month-to-month&0.0',\n",
       " 'OnlineSecurity&Contract&TechSupport_No&Month-to-month&No']"
      ]
     },
     "execution_count": 107,
     "metadata": {},
     "output_type": "execute_result"
    }
   ],
   "source": [
    "new_col = list(np.abs(df_corr).sort_values(ascending = False)[1: 4].index)\n",
    "new_col"
   ]
  },
  {
   "cell_type": "code",
   "execution_count": 108,
   "id": "c0c2e523",
   "metadata": {},
   "outputs": [],
   "source": [
    "train_new_temp = features_train_new[new_col]\n",
    "test_new_temp = features_test_new[new_col]"
   ]
  },
  {
   "cell_type": "code",
   "execution_count": 109,
   "id": "cc2bfc7f",
   "metadata": {},
   "outputs": [
    {
     "name": "stdout",
     "output_type": "stream",
     "text": [
      "44.57247447967529 s\n"
     ]
    },
    {
     "data": {
      "text/plain": [
       "(0.8085967288781859,\n",
       " {'columntransformer__num': 'passthrough',\n",
       "  'logit_threshold__C': 0.5,\n",
       "  'logit_threshold__penalty': 'l2',\n",
       "  'logit_threshold__solver': 'lbfgs'})"
      ]
     },
     "execution_count": 109,
     "metadata": {},
     "output_type": "execute_result"
    }
   ],
   "source": [
    "features_test(train_new_temp, \n",
    "              test_new_temp, \n",
    "              X_train, \n",
    "              X_test, \n",
    "              y_train, \n",
    "              y_test, \n",
    "              category_cols, \n",
    "              numeric_cols)"
   ]
  },
  {
   "cell_type": "markdown",
   "id": "4f862d28",
   "metadata": {},
   "source": [
    "结果仍然说明当前组合特征拥有较好的效果。当然，通过上述过程我们发现，越是效果较好的特征、越值得进行更深程度的交叉组合，如果条件允许，我们甚至可以进一步尝试进行四四组合。而借助这些本来就表现较好的特征进行进一步的特征衍生，从模型训练角度来说，更深程度的交叉组合相当于是进一步强化这些特征的表现。"
   ]
  },
  {
   "cell_type": "markdown",
   "id": "c10bbed5",
   "metadata": {
    "tags": []
   },
   "source": [
    "### 5.分组统计特征"
   ]
  },
  {
   "cell_type": "markdown",
   "id": "9b687f5d-11aa-4bb2-aaa0-bdefecc3936d",
   "metadata": {},
   "source": [
    "&emsp;&emsp;接下来我们进一步尝试分组统计特征衍生。当然，在进行进一步特征衍生工作前，我们需要简单对此前的特征衍生过程与结果进行汇总，从而帮助我们更好的理解接下来分组统计特征衍生流程中的要点。"
   ]
  },
  {
   "cell_type": "markdown",
   "id": "1e6769f7-2b5a-4c57-b699-ef776bfd6908",
   "metadata": {},
   "source": [
    "- 重要特征与普通特征"
   ]
  },
  {
   "cell_type": "markdown",
   "id": "e9839e74-3684-4ecd-9d4d-bbacdd3e090e",
   "metadata": {},
   "source": [
    "&emsp;&emsp;在此前的特征衍生中，我们发现，特征“生而不同”，有些特征在原始状态下就展现出了与标签的强相关性，此类特征我们称其为重要特征（如'OnlineSecurity'、'Contract'、'TechSupport'、'tenure_year_2014'和'tenure_year_2019'等），而其他特征与标签的相关性较弱，我们可以称其为普通特征。"
   ]
  },
  {
   "cell_type": "markdown",
   "id": "d3691db4-8033-4cf5-b744-a916e6cd4ec6",
   "metadata": {},
   "source": [
    "> 关于特征重要性，此处暂时以相关系数大小作为衡量指标，后续还将介绍其他衡量方法。"
   ]
  },
  {
   "cell_type": "markdown",
   "id": "5b7909fc-1584-4ee6-98ab-2b589bcad6e4",
   "metadata": {},
   "source": [
    "- 特征衍生现象：“强者恒强”"
   ]
  },
  {
   "cell_type": "markdown",
   "id": "97bc835c-eafd-46f7-a576-47ce1b4c5afc",
   "metadata": {},
   "source": [
    "&emsp;&emsp;而在实际特征衍生过程中我们发现，在大部分情况下，重要特征彼此的两两交叉组合、或者重要特征和普通特征的两两交叉组合而成的特征，也都能够和标签展现出良好的相关性，也就是说重要特征衍生出来的特征，大概率还是重要特征；而反观普通特征，只有极少一部分普通特征在和重要特征进行交叉组合后的特征才能表现出较好的特性。当然，无论是哪种情况，都可以总结为：“重要特征的衍生特征，往往也是重要特征”"
   ]
  },
  {
   "cell_type": "markdown",
   "id": "15d99d13-8bd0-4269-a2f3-78304eb1de7d",
   "metadata": {},
   "source": [
    "- 特征衍生本质：增强特征表现"
   ]
  },
  {
   "cell_type": "markdown",
   "id": "108de9cc-81d4-4241-9d87-9f86d93d4483",
   "metadata": {},
   "source": [
    "&emsp;&emsp;当然，基于“强者恒强”的现象，其实也可以进一步窥探特征衍生的本质，即特征衍生的根本作用是（一定程度、一定概率下）增强特征表现。例如我们可以把交叉组合特征衍生的过程理解为增强特征表现的过程，其中重要特征经过交叉组合后，衍生特征的重要性（一定程度、一定概率下）得到了增强，所以才表现出了“强者恒强”的现象。"
   ]
  },
  {
   "cell_type": "markdown",
   "id": "fd91ab58-9b35-48e2-89d4-396025f3c87b",
   "metadata": {},
   "source": [
    "- 分组统计特征衍生的“方向性”"
   ]
  },
  {
   "cell_type": "markdown",
   "id": "bddc7d29-0f25-445c-9d6c-509e9a77f9e6",
   "metadata": {},
   "source": [
    "&emsp;&emsp;不过就交叉组合特征衍生来说（当然也包括多项式特征衍生），这种特征增强是不分方向的，次级特征的重要性（相关系数）都是继承自父特征，因此，我们很难说'OnlineSecurity'和'Contract'交叉组合后的特征是强化了哪个原始特征，“强者恒强”在交叉组合特征衍生过程中，对我们的指导意义在于需要尽可能带入重要特征进行大规模的交叉组合，并且如果重要特征较多，还可以更进一步进行三三组合甚至更多变量的交叉组合。但是并非所有的特征衍生方法都是如此，例如分组统计特征衍生。"
   ]
  },
  {
   "cell_type": "markdown",
   "id": "5778cf0d-2b9d-4af5-98ca-0914bfabcd37",
   "metadata": {},
   "source": [
    "&emsp;&emsp;我们知道，在分组统计特征衍生的过程中，其实是将所有变量分成了两类，其一是关键变量，也就是所谓的KeyCol，其二是分组变量，也就是根据关键变量进行分组后进行统计量计算的变量。而在此情况下，会不会仍然存在“强者恒强”的现象呢？如果存在，是KeyCol选取重要特征衍生的结果更好，还是分组变量选取KeyCol时衍生特征效果更好呢？而无论是哪种情况，是否说明对于分组统计特征衍生来说，其实就是围绕KeyCol或者分组变量进行“有针对性”的特征增强呢？或者说，分组统计衍生特征的重要性是继承自KeyCol还是分组变量呢？"
   ]
  },
  {
   "cell_type": "markdown",
   "id": "bff5499f-9d85-4273-98a7-89f3cfaa07c4",
   "metadata": {},
   "source": [
    "&emsp;&emsp;接下来我们通过具体的实验测试来进行测试。"
   ]
  },
  {
   "cell_type": "markdown",
   "id": "373cccc1",
   "metadata": {},
   "source": [
    "#### 5.1 单变量分组统计"
   ]
  },
  {
   "cell_type": "markdown",
   "id": "b7f450fb",
   "metadata": {},
   "source": [
    "&emsp;&emsp;当然，在没有任何先验知识储备的情况下，我们可以尝试遍历所有离散变量，并将其作为关键变量、对其他所有变量进行分组统计特征衍生，并借此探究关键变量和分组变量的划分方法。不过需要注意的是，遍历所有离散变量进行分组统计汇总将衍生出海量特征，这里仅作演示和探讨用，并不是一般的特征衍生策略，尤其是针对大规模数据集，该做法将极大的消耗计算量。"
   ]
  },
  {
   "cell_type": "markdown",
   "id": "ef285860",
   "metadata": {},
   "source": [
    "- 分组统计衍生探索"
   ]
  },
  {
   "cell_type": "code",
   "execution_count": 110,
   "id": "d7a071a3",
   "metadata": {
    "tags": []
   },
   "outputs": [
    {
     "data": {
      "text/plain": [
       "\u001b[1;31mSignature:\u001b[0m\n",
       "\u001b[0mGroup_Statistics\u001b[0m\u001b[1;33m(\u001b[0m\u001b[1;33m\n",
       "\u001b[0m    \u001b[0mkeyCol\u001b[0m\u001b[1;33m,\u001b[0m\u001b[1;33m\n",
       "\u001b[0m    \u001b[0mX_train\u001b[0m\u001b[1;33m,\u001b[0m\u001b[1;33m\n",
       "\u001b[0m    \u001b[0mX_test\u001b[0m\u001b[1;33m,\u001b[0m\u001b[1;33m\n",
       "\u001b[0m    \u001b[0mcol_num\u001b[0m\u001b[1;33m=\u001b[0m\u001b[1;32mNone\u001b[0m\u001b[1;33m,\u001b[0m\u001b[1;33m\n",
       "\u001b[0m    \u001b[0mcol_cat\u001b[0m\u001b[1;33m=\u001b[0m\u001b[1;32mNone\u001b[0m\u001b[1;33m,\u001b[0m\u001b[1;33m\n",
       "\u001b[0m    \u001b[0mnum_stat\u001b[0m\u001b[1;33m=\u001b[0m\u001b[1;33m[\u001b[0m\u001b[1;34m'mean'\u001b[0m\u001b[1;33m,\u001b[0m \u001b[1;34m'var'\u001b[0m\u001b[1;33m,\u001b[0m \u001b[1;34m'max'\u001b[0m\u001b[1;33m,\u001b[0m \u001b[1;34m'min'\u001b[0m\u001b[1;33m,\u001b[0m \u001b[1;34m'skew'\u001b[0m\u001b[1;33m,\u001b[0m \u001b[1;34m'median'\u001b[0m\u001b[1;33m]\u001b[0m\u001b[1;33m,\u001b[0m\u001b[1;33m\n",
       "\u001b[0m    \u001b[0mcat_stat\u001b[0m\u001b[1;33m=\u001b[0m\u001b[1;33m[\u001b[0m\u001b[1;34m'mean'\u001b[0m\u001b[1;33m,\u001b[0m \u001b[1;34m'var'\u001b[0m\u001b[1;33m,\u001b[0m \u001b[1;34m'max'\u001b[0m\u001b[1;33m,\u001b[0m \u001b[1;34m'min'\u001b[0m\u001b[1;33m,\u001b[0m \u001b[1;34m'median'\u001b[0m\u001b[1;33m,\u001b[0m \u001b[1;34m'count'\u001b[0m\u001b[1;33m,\u001b[0m \u001b[1;34m'nunique'\u001b[0m\u001b[1;33m]\u001b[0m\u001b[1;33m,\u001b[0m\u001b[1;33m\n",
       "\u001b[0m    \u001b[0mquant\u001b[0m\u001b[1;33m=\u001b[0m\u001b[1;32mTrue\u001b[0m\u001b[1;33m,\u001b[0m\u001b[1;33m\n",
       "\u001b[0m    \u001b[0mmulti\u001b[0m\u001b[1;33m=\u001b[0m\u001b[1;32mFalse\u001b[0m\u001b[1;33m,\u001b[0m\u001b[1;33m\n",
       "\u001b[0m    \u001b[0mextension\u001b[0m\u001b[1;33m=\u001b[0m\u001b[1;32mFalse\u001b[0m\u001b[1;33m,\u001b[0m\u001b[1;33m\n",
       "\u001b[0m\u001b[1;33m)\u001b[0m\u001b[1;33m\u001b[0m\u001b[1;33m\u001b[0m\u001b[0m\n",
       "\u001b[1;31mDocstring:\u001b[0m\n",
       "分组统计特征衍生函数\n",
       "\n",
       ":param keyCol: 分组参考的关键变量\n",
       ":param X_train: 训练集特征\n",
       ":param X_test: 测试集特征\n",
       ":param col_num: 参与衍生的连续型变量\n",
       ":param col_cat: 参与衍生的离散型变量\n",
       ":param num_stat: 连续变量分组统计量\n",
       ":param cat_num: 离散变量分组统计量  \n",
       ":param quant: 是否计算分位数  \n",
       ":param multi: 是否进行多变量的分组统计特征衍生\n",
       ":param extension: 是否进行二阶特征衍生\n",
       "\n",
       ":return：分组统计衍生后的新特征和新特征的名称\n",
       "\u001b[1;31mFile:\u001b[0m      d:\\work\\jupyter\\telco\\正式课程\\features_creation.py\n",
       "\u001b[1;31mType:\u001b[0m      function\n"
      ]
     },
     "metadata": {},
     "output_type": "display_data"
    }
   ],
   "source": [
    "Group_Statistics?"
   ]
  },
  {
   "cell_type": "markdown",
   "id": "1e55ed4c",
   "metadata": {},
   "source": [
    "&emsp;&emsp;首先，离散变量的遍历过程可以通过如下方式实现。这里需要注意的是，KeyCol不能和分组变量重合，并且由于我们希望带入更多的分组变量以衍生出更多的有效特征，因此我们需要在离散变量中逐个挑选KeyCol，然后将不是KeyCol的特征纳入分组变量中："
   ]
  },
  {
   "cell_type": "code",
   "execution_count": 111,
   "id": "df7e566f",
   "metadata": {},
   "outputs": [
    {
     "data": {
      "text/plain": [
       "['gender',\n",
       " 'SeniorCitizen',\n",
       " 'Partner',\n",
       " 'Dependents',\n",
       " 'PhoneService',\n",
       " 'MultipleLines',\n",
       " 'InternetService',\n",
       " 'OnlineSecurity',\n",
       " 'OnlineBackup',\n",
       " 'DeviceProtection',\n",
       " 'TechSupport',\n",
       " 'StreamingTV',\n",
       " 'StreamingMovies',\n",
       " 'Contract',\n",
       " 'PaperlessBilling',\n",
       " 'PaymentMethod']"
      ]
     },
     "execution_count": 111,
     "metadata": {},
     "output_type": "execute_result"
    }
   ],
   "source": [
    "col_temp = category_cols.copy()\n",
    "col_temp"
   ]
  },
  {
   "cell_type": "code",
   "execution_count": 112,
   "id": "6d22ab1b",
   "metadata": {},
   "outputs": [
    {
     "data": {
      "text/plain": [
       "'Partner'"
      ]
     },
     "execution_count": 112,
     "metadata": {},
     "output_type": "execute_result"
    }
   ],
   "source": [
    "keyCol = col_temp.pop(2)\n",
    "keyCol"
   ]
  },
  {
   "cell_type": "code",
   "execution_count": 113,
   "id": "3246d6e9",
   "metadata": {},
   "outputs": [
    {
     "data": {
      "text/plain": [
       "['gender',\n",
       " 'SeniorCitizen',\n",
       " 'Dependents',\n",
       " 'PhoneService',\n",
       " 'MultipleLines',\n",
       " 'InternetService',\n",
       " 'OnlineSecurity',\n",
       " 'OnlineBackup',\n",
       " 'DeviceProtection',\n",
       " 'TechSupport',\n",
       " 'StreamingTV',\n",
       " 'StreamingMovies',\n",
       " 'Contract',\n",
       " 'PaperlessBilling',\n",
       " 'PaymentMethod']"
      ]
     },
     "execution_count": 113,
     "metadata": {},
     "output_type": "execute_result"
    }
   ],
   "source": [
    "col_temp"
   ]
  },
  {
   "cell_type": "code",
   "execution_count": 114,
   "id": "f3ec0d67",
   "metadata": {},
   "outputs": [
    {
     "data": {
      "text/plain": [
       "['gender',\n",
       " 'SeniorCitizen',\n",
       " 'Partner',\n",
       " 'Dependents',\n",
       " 'PhoneService',\n",
       " 'MultipleLines',\n",
       " 'InternetService',\n",
       " 'OnlineSecurity',\n",
       " 'OnlineBackup',\n",
       " 'DeviceProtection',\n",
       " 'TechSupport',\n",
       " 'StreamingTV',\n",
       " 'StreamingMovies',\n",
       " 'Contract',\n",
       " 'PaperlessBilling',\n",
       " 'PaymentMethod']"
      ]
     },
     "execution_count": 114,
     "metadata": {},
     "output_type": "execute_result"
    }
   ],
   "source": [
    "col_temp = category_cols.copy()\n",
    "col_temp"
   ]
  },
  {
   "cell_type": "code",
   "execution_count": 115,
   "id": "a4b2a58f",
   "metadata": {},
   "outputs": [
    {
     "name": "stdout",
     "output_type": "stream",
     "text": [
      "gender\n",
      "SeniorCitizen\n",
      "Partner\n",
      "Dependents\n",
      "PhoneService\n",
      "MultipleLines\n",
      "InternetService\n",
      "OnlineSecurity\n",
      "OnlineBackup\n",
      "DeviceProtection\n",
      "TechSupport\n",
      "StreamingTV\n",
      "StreamingMovies\n",
      "Contract\n",
      "PaperlessBilling\n",
      "PaymentMethod\n"
     ]
    }
   ],
   "source": [
    "for i in range(len(col_temp)):\n",
    "    keyCol = col_temp.pop(i)\n",
    "    col_temp = category_cols.copy()\n",
    "    print(keyCol)"
   ]
  },
  {
   "cell_type": "markdown",
   "id": "49caa2b5",
   "metadata": {},
   "source": [
    "当然，在具体执行分组统计汇总之前，我们还需要对object类型的离散变量进行ordinary encode，将其转化为数值型对象："
   ]
  },
  {
   "cell_type": "code",
   "execution_count": 116,
   "id": "7b482e26",
   "metadata": {},
   "outputs": [],
   "source": [
    "from sklearn.preprocessing import OrdinalEncoder"
   ]
  },
  {
   "cell_type": "code",
   "execution_count": 117,
   "id": "6e02d8ac",
   "metadata": {},
   "outputs": [
    {
     "data": {
      "text/plain": [
       "OrdinalEncoder()"
      ]
     },
     "execution_count": 117,
     "metadata": {},
     "output_type": "execute_result"
    }
   ],
   "source": [
    "ord_enc = OrdinalEncoder()\n",
    "ord_enc.fit(X_train[category_cols])"
   ]
  },
  {
   "cell_type": "code",
   "execution_count": 118,
   "id": "28ef48a3",
   "metadata": {},
   "outputs": [
    {
     "data": {
      "text/plain": [
       "array([[0., 0., 1., ..., 2., 1., 0.],\n",
       "       [0., 0., 1., ..., 0., 1., 2.],\n",
       "       [1., 0., 0., ..., 0., 0., 3.],\n",
       "       ...,\n",
       "       [0., 1., 0., ..., 0., 1., 2.],\n",
       "       [0., 0., 1., ..., 1., 0., 1.],\n",
       "       [1., 0., 1., ..., 2., 1., 0.]])"
      ]
     },
     "execution_count": 118,
     "metadata": {},
     "output_type": "execute_result"
    }
   ],
   "source": [
    "ord_enc.transform(X_train[category_cols])"
   ]
  },
  {
   "cell_type": "code",
   "execution_count": 119,
   "id": "c55f0fe8",
   "metadata": {},
   "outputs": [],
   "source": [
    "X_train_OE = pd.DataFrame(ord_enc.transform(X_train[category_cols]), columns=category_cols)\n",
    "X_train_OE.index = X_train.index\n",
    "X_train_OE = pd.concat([X_train_OE, X_train[numeric_cols]], axis=1)\n",
    "\n",
    "X_test_OE = pd.DataFrame(ord_enc.transform(X_test[category_cols]), columns=category_cols)\n",
    "X_test_OE.index = X_test.index\n",
    "X_test_OE = pd.concat([X_test_OE, X_test[numeric_cols]], axis=1)"
   ]
  },
  {
   "cell_type": "code",
   "execution_count": 120,
   "id": "3b5dd248",
   "metadata": {},
   "outputs": [
    {
     "data": {
      "text/html": [
       "<div>\n",
       "<style scoped>\n",
       "    .dataframe tbody tr th:only-of-type {\n",
       "        vertical-align: middle;\n",
       "    }\n",
       "\n",
       "    .dataframe tbody tr th {\n",
       "        vertical-align: top;\n",
       "    }\n",
       "\n",
       "    .dataframe thead th {\n",
       "        text-align: right;\n",
       "    }\n",
       "</style>\n",
       "<table border=\"1\" class=\"dataframe\">\n",
       "  <thead>\n",
       "    <tr style=\"text-align: right;\">\n",
       "      <th></th>\n",
       "      <th>gender</th>\n",
       "      <th>SeniorCitizen</th>\n",
       "      <th>Partner</th>\n",
       "      <th>Dependents</th>\n",
       "      <th>PhoneService</th>\n",
       "      <th>MultipleLines</th>\n",
       "      <th>InternetService</th>\n",
       "      <th>OnlineSecurity</th>\n",
       "      <th>OnlineBackup</th>\n",
       "      <th>DeviceProtection</th>\n",
       "      <th>TechSupport</th>\n",
       "      <th>StreamingTV</th>\n",
       "      <th>StreamingMovies</th>\n",
       "      <th>Contract</th>\n",
       "      <th>PaperlessBilling</th>\n",
       "      <th>PaymentMethod</th>\n",
       "      <th>tenure</th>\n",
       "      <th>MonthlyCharges</th>\n",
       "      <th>TotalCharges</th>\n",
       "    </tr>\n",
       "  </thead>\n",
       "  <tbody>\n",
       "    <tr>\n",
       "      <th>4067</th>\n",
       "      <td>0.0</td>\n",
       "      <td>0.0</td>\n",
       "      <td>1.0</td>\n",
       "      <td>0.0</td>\n",
       "      <td>1.0</td>\n",
       "      <td>0.0</td>\n",
       "      <td>0.0</td>\n",
       "      <td>2.0</td>\n",
       "      <td>2.0</td>\n",
       "      <td>0.0</td>\n",
       "      <td>2.0</td>\n",
       "      <td>2.0</td>\n",
       "      <td>2.0</td>\n",
       "      <td>2.0</td>\n",
       "      <td>1.0</td>\n",
       "      <td>0.0</td>\n",
       "      <td>68</td>\n",
       "      <td>79.60</td>\n",
       "      <td>5515.80</td>\n",
       "    </tr>\n",
       "    <tr>\n",
       "      <th>3306</th>\n",
       "      <td>0.0</td>\n",
       "      <td>0.0</td>\n",
       "      <td>1.0</td>\n",
       "      <td>1.0</td>\n",
       "      <td>1.0</td>\n",
       "      <td>0.0</td>\n",
       "      <td>1.0</td>\n",
       "      <td>0.0</td>\n",
       "      <td>2.0</td>\n",
       "      <td>0.0</td>\n",
       "      <td>2.0</td>\n",
       "      <td>0.0</td>\n",
       "      <td>0.0</td>\n",
       "      <td>0.0</td>\n",
       "      <td>1.0</td>\n",
       "      <td>2.0</td>\n",
       "      <td>3</td>\n",
       "      <td>80.00</td>\n",
       "      <td>241.30</td>\n",
       "    </tr>\n",
       "    <tr>\n",
       "      <th>3391</th>\n",
       "      <td>1.0</td>\n",
       "      <td>0.0</td>\n",
       "      <td>0.0</td>\n",
       "      <td>0.0</td>\n",
       "      <td>1.0</td>\n",
       "      <td>0.0</td>\n",
       "      <td>2.0</td>\n",
       "      <td>1.0</td>\n",
       "      <td>1.0</td>\n",
       "      <td>1.0</td>\n",
       "      <td>1.0</td>\n",
       "      <td>1.0</td>\n",
       "      <td>1.0</td>\n",
       "      <td>0.0</td>\n",
       "      <td>0.0</td>\n",
       "      <td>3.0</td>\n",
       "      <td>4</td>\n",
       "      <td>19.00</td>\n",
       "      <td>73.45</td>\n",
       "    </tr>\n",
       "    <tr>\n",
       "      <th>3249</th>\n",
       "      <td>0.0</td>\n",
       "      <td>0.0</td>\n",
       "      <td>1.0</td>\n",
       "      <td>1.0</td>\n",
       "      <td>1.0</td>\n",
       "      <td>0.0</td>\n",
       "      <td>0.0</td>\n",
       "      <td>0.0</td>\n",
       "      <td>2.0</td>\n",
       "      <td>2.0</td>\n",
       "      <td>0.0</td>\n",
       "      <td>0.0</td>\n",
       "      <td>0.0</td>\n",
       "      <td>0.0</td>\n",
       "      <td>1.0</td>\n",
       "      <td>3.0</td>\n",
       "      <td>10</td>\n",
       "      <td>55.55</td>\n",
       "      <td>551.30</td>\n",
       "    </tr>\n",
       "    <tr>\n",
       "      <th>2674</th>\n",
       "      <td>0.0</td>\n",
       "      <td>1.0</td>\n",
       "      <td>0.0</td>\n",
       "      <td>0.0</td>\n",
       "      <td>1.0</td>\n",
       "      <td>0.0</td>\n",
       "      <td>2.0</td>\n",
       "      <td>1.0</td>\n",
       "      <td>1.0</td>\n",
       "      <td>1.0</td>\n",
       "      <td>1.0</td>\n",
       "      <td>1.0</td>\n",
       "      <td>1.0</td>\n",
       "      <td>0.0</td>\n",
       "      <td>0.0</td>\n",
       "      <td>3.0</td>\n",
       "      <td>4</td>\n",
       "      <td>20.05</td>\n",
       "      <td>91.45</td>\n",
       "    </tr>\n",
       "  </tbody>\n",
       "</table>\n",
       "</div>"
      ],
      "text/plain": [
       "      gender  SeniorCitizen  Partner  Dependents  PhoneService  MultipleLines  \\\n",
       "4067     0.0            0.0      1.0         0.0           1.0            0.0   \n",
       "3306     0.0            0.0      1.0         1.0           1.0            0.0   \n",
       "3391     1.0            0.0      0.0         0.0           1.0            0.0   \n",
       "3249     0.0            0.0      1.0         1.0           1.0            0.0   \n",
       "2674     0.0            1.0      0.0         0.0           1.0            0.0   \n",
       "\n",
       "      InternetService  OnlineSecurity  OnlineBackup  DeviceProtection  \\\n",
       "4067              0.0             2.0           2.0               0.0   \n",
       "3306              1.0             0.0           2.0               0.0   \n",
       "3391              2.0             1.0           1.0               1.0   \n",
       "3249              0.0             0.0           2.0               2.0   \n",
       "2674              2.0             1.0           1.0               1.0   \n",
       "\n",
       "      TechSupport  StreamingTV  StreamingMovies  Contract  PaperlessBilling  \\\n",
       "4067          2.0          2.0              2.0       2.0               1.0   \n",
       "3306          2.0          0.0              0.0       0.0               1.0   \n",
       "3391          1.0          1.0              1.0       0.0               0.0   \n",
       "3249          0.0          0.0              0.0       0.0               1.0   \n",
       "2674          1.0          1.0              1.0       0.0               0.0   \n",
       "\n",
       "      PaymentMethod  tenure  MonthlyCharges  TotalCharges  \n",
       "4067            0.0      68           79.60       5515.80  \n",
       "3306            2.0       3           80.00        241.30  \n",
       "3391            3.0       4           19.00         73.45  \n",
       "3249            3.0      10           55.55        551.30  \n",
       "2674            3.0       4           20.05         91.45  "
      ]
     },
     "execution_count": 120,
     "metadata": {},
     "output_type": "execute_result"
    }
   ],
   "source": [
    "X_train_OE.head()"
   ]
  },
  {
   "cell_type": "code",
   "execution_count": 121,
   "id": "d3b8dc24",
   "metadata": {},
   "outputs": [
    {
     "data": {
      "text/plain": [
       "((5282, 19), (5282, 19))"
      ]
     },
     "execution_count": 121,
     "metadata": {},
     "output_type": "execute_result"
    }
   ],
   "source": [
    "X_train_OE.shape, X_train.shape"
   ]
  },
  {
   "cell_type": "code",
   "execution_count": 122,
   "id": "40556079",
   "metadata": {},
   "outputs": [
    {
     "data": {
      "text/plain": [
       "((1761, 19), (1761, 19))"
      ]
     },
     "execution_count": 122,
     "metadata": {},
     "output_type": "execute_result"
    }
   ],
   "source": [
    "X_test_OE.shape, X_test.shape"
   ]
  },
  {
   "cell_type": "markdown",
   "id": "2ad04675",
   "metadata": {},
   "source": [
    "当然，离散变量的不同取值对应的数值结果，可以通过如下方式进行查看："
   ]
  },
  {
   "cell_type": "code",
   "execution_count": 123,
   "id": "0d28ade6",
   "metadata": {},
   "outputs": [
    {
     "data": {
      "text/plain": [
       "[array(['Female', 'Male'], dtype=object),\n",
       " array([0, 1], dtype=int64),\n",
       " array(['No', 'Yes'], dtype=object),\n",
       " array(['No', 'Yes'], dtype=object),\n",
       " array(['No', 'Yes'], dtype=object),\n",
       " array(['No', 'No phone service', 'Yes'], dtype=object),\n",
       " array(['DSL', 'Fiber optic', 'No'], dtype=object),\n",
       " array(['No', 'No internet service', 'Yes'], dtype=object),\n",
       " array(['No', 'No internet service', 'Yes'], dtype=object),\n",
       " array(['No', 'No internet service', 'Yes'], dtype=object),\n",
       " array(['No', 'No internet service', 'Yes'], dtype=object),\n",
       " array(['No', 'No internet service', 'Yes'], dtype=object),\n",
       " array(['No', 'No internet service', 'Yes'], dtype=object),\n",
       " array(['Month-to-month', 'One year', 'Two year'], dtype=object),\n",
       " array(['No', 'Yes'], dtype=object),\n",
       " array(['Bank transfer (automatic)', 'Credit card (automatic)',\n",
       "        'Electronic check', 'Mailed check'], dtype=object)]"
      ]
     },
     "execution_count": 123,
     "metadata": {},
     "output_type": "execute_result"
    }
   ],
   "source": [
    "ord_enc.categories_"
   ]
  },
  {
   "cell_type": "markdown",
   "id": "28edbc40",
   "metadata": {},
   "source": [
    "接下来，带入自然数编码之后的数据集，进行遍历离散变量的分组统计汇总，这里我们同时进行extension特征衍生："
   ]
  },
  {
   "cell_type": "code",
   "execution_count": 124,
   "id": "aebb7c95",
   "metadata": {
    "tags": []
   },
   "outputs": [],
   "source": [
    "# 创建容器\n",
    "col_temp = category_cols.copy()\n",
    "colNames_train_new = []\n",
    "colNames_test_new = []\n",
    "features_train_new = []\n",
    "features_test_new = []\n",
    "\n",
    "for i in range(len(col_temp)):\n",
    "    keyCol = col_temp.pop(i)\n",
    "    features_train1, features_test1, colNames_train, colNames_test = Group_Statistics(keyCol,\n",
    "                                                                                      X_train_OE,\n",
    "                                                                                      X_test_OE,\n",
    "                                                                                      col_num=numeric_cols,\n",
    "                                                                                      col_cat=col_temp, \n",
    "                                                                                      extension=True)\n",
    "    \n",
    "    colNames_train_new.extend(colNames_train)\n",
    "    colNames_test_new.extend(colNames_test)\n",
    "    features_train_new.append(features_train1)\n",
    "    features_test_new.append(features_test1)\n",
    "    \n",
    "    col_temp = category_cols.copy()"
   ]
  },
  {
   "cell_type": "code",
   "execution_count": 125,
   "id": "0699577d",
   "metadata": {},
   "outputs": [
    {
     "data": {
      "text/html": [
       "<div>\n",
       "<style scoped>\n",
       "    .dataframe tbody tr th:only-of-type {\n",
       "        vertical-align: middle;\n",
       "    }\n",
       "\n",
       "    .dataframe tbody tr th {\n",
       "        vertical-align: top;\n",
       "    }\n",
       "\n",
       "    .dataframe thead th {\n",
       "        text-align: right;\n",
       "    }\n",
       "</style>\n",
       "<table border=\"1\" class=\"dataframe\">\n",
       "  <thead>\n",
       "    <tr style=\"text-align: right;\">\n",
       "      <th></th>\n",
       "      <th>tenure_gender_mean</th>\n",
       "      <th>tenure_gender_var</th>\n",
       "      <th>tenure_gender_max</th>\n",
       "      <th>tenure_gender_min</th>\n",
       "      <th>tenure_gender_skew</th>\n",
       "      <th>tenure_gender_median</th>\n",
       "      <th>MonthlyCharges_gender_mean</th>\n",
       "      <th>MonthlyCharges_gender_var</th>\n",
       "      <th>MonthlyCharges_gender_max</th>\n",
       "      <th>MonthlyCharges_gender_min</th>\n",
       "      <th>...</th>\n",
       "      <th>InternetService_cv_gender</th>\n",
       "      <th>OnlineSecurity_cv_gender</th>\n",
       "      <th>OnlineBackup_cv_gender</th>\n",
       "      <th>DeviceProtection_cv_gender</th>\n",
       "      <th>TechSupport_cv_gender</th>\n",
       "      <th>StreamingTV_cv_gender</th>\n",
       "      <th>StreamingMovies_cv_gender</th>\n",
       "      <th>Contract_cv_gender</th>\n",
       "      <th>PaperlessBilling_cv_gender</th>\n",
       "      <th>PaymentMethod_cv_gender</th>\n",
       "    </tr>\n",
       "  </thead>\n",
       "  <tbody>\n",
       "    <tr>\n",
       "      <th>0</th>\n",
       "      <td>31.947588</td>\n",
       "      <td>601.095276</td>\n",
       "      <td>72</td>\n",
       "      <td>0</td>\n",
       "      <td>0.257136</td>\n",
       "      <td>28</td>\n",
       "      <td>65.345765</td>\n",
       "      <td>891.427517</td>\n",
       "      <td>118.75</td>\n",
       "      <td>18.40</td>\n",
       "      <td>...</td>\n",
       "      <td>0.852147</td>\n",
       "      <td>1.093349</td>\n",
       "      <td>0.990747</td>\n",
       "      <td>0.978976</td>\n",
       "      <td>1.088451</td>\n",
       "      <td>0.891776</td>\n",
       "      <td>0.899249</td>\n",
       "      <td>1.228772</td>\n",
       "      <td>0.818448</td>\n",
       "      <td>0.682600</td>\n",
       "    </tr>\n",
       "    <tr>\n",
       "      <th>1</th>\n",
       "      <td>31.947588</td>\n",
       "      <td>601.095276</td>\n",
       "      <td>72</td>\n",
       "      <td>0</td>\n",
       "      <td>0.257136</td>\n",
       "      <td>28</td>\n",
       "      <td>65.345765</td>\n",
       "      <td>891.427517</td>\n",
       "      <td>118.75</td>\n",
       "      <td>18.40</td>\n",
       "      <td>...</td>\n",
       "      <td>0.852147</td>\n",
       "      <td>1.093349</td>\n",
       "      <td>0.990747</td>\n",
       "      <td>0.978976</td>\n",
       "      <td>1.088451</td>\n",
       "      <td>0.891776</td>\n",
       "      <td>0.899249</td>\n",
       "      <td>1.228772</td>\n",
       "      <td>0.818448</td>\n",
       "      <td>0.682600</td>\n",
       "    </tr>\n",
       "    <tr>\n",
       "      <th>2</th>\n",
       "      <td>32.597584</td>\n",
       "      <td>614.757184</td>\n",
       "      <td>72</td>\n",
       "      <td>0</td>\n",
       "      <td>0.234222</td>\n",
       "      <td>29</td>\n",
       "      <td>64.016969</td>\n",
       "      <td>899.633055</td>\n",
       "      <td>118.35</td>\n",
       "      <td>18.25</td>\n",
       "      <td>...</td>\n",
       "      <td>0.857846</td>\n",
       "      <td>1.094405</td>\n",
       "      <td>0.989697</td>\n",
       "      <td>0.978766</td>\n",
       "      <td>1.083917</td>\n",
       "      <td>0.916737</td>\n",
       "      <td>0.905134</td>\n",
       "      <td>1.199651</td>\n",
       "      <td>0.843495</td>\n",
       "      <td>0.669323</td>\n",
       "    </tr>\n",
       "    <tr>\n",
       "      <th>3</th>\n",
       "      <td>31.947588</td>\n",
       "      <td>601.095276</td>\n",
       "      <td>72</td>\n",
       "      <td>0</td>\n",
       "      <td>0.257136</td>\n",
       "      <td>28</td>\n",
       "      <td>65.345765</td>\n",
       "      <td>891.427517</td>\n",
       "      <td>118.75</td>\n",
       "      <td>18.40</td>\n",
       "      <td>...</td>\n",
       "      <td>0.852147</td>\n",
       "      <td>1.093349</td>\n",
       "      <td>0.990747</td>\n",
       "      <td>0.978976</td>\n",
       "      <td>1.088451</td>\n",
       "      <td>0.891776</td>\n",
       "      <td>0.899249</td>\n",
       "      <td>1.228772</td>\n",
       "      <td>0.818448</td>\n",
       "      <td>0.682600</td>\n",
       "    </tr>\n",
       "    <tr>\n",
       "      <th>4</th>\n",
       "      <td>31.947588</td>\n",
       "      <td>601.095276</td>\n",
       "      <td>72</td>\n",
       "      <td>0</td>\n",
       "      <td>0.257136</td>\n",
       "      <td>28</td>\n",
       "      <td>65.345765</td>\n",
       "      <td>891.427517</td>\n",
       "      <td>118.75</td>\n",
       "      <td>18.40</td>\n",
       "      <td>...</td>\n",
       "      <td>0.852147</td>\n",
       "      <td>1.093349</td>\n",
       "      <td>0.990747</td>\n",
       "      <td>0.978976</td>\n",
       "      <td>1.088451</td>\n",
       "      <td>0.891776</td>\n",
       "      <td>0.899249</td>\n",
       "      <td>1.228772</td>\n",
       "      <td>0.818448</td>\n",
       "      <td>0.682600</td>\n",
       "    </tr>\n",
       "    <tr>\n",
       "      <th>...</th>\n",
       "      <td>...</td>\n",
       "      <td>...</td>\n",
       "      <td>...</td>\n",
       "      <td>...</td>\n",
       "      <td>...</td>\n",
       "      <td>...</td>\n",
       "      <td>...</td>\n",
       "      <td>...</td>\n",
       "      <td>...</td>\n",
       "      <td>...</td>\n",
       "      <td>...</td>\n",
       "      <td>...</td>\n",
       "      <td>...</td>\n",
       "      <td>...</td>\n",
       "      <td>...</td>\n",
       "      <td>...</td>\n",
       "      <td>...</td>\n",
       "      <td>...</td>\n",
       "      <td>...</td>\n",
       "      <td>...</td>\n",
       "      <td>...</td>\n",
       "    </tr>\n",
       "    <tr>\n",
       "      <th>5277</th>\n",
       "      <td>32.597584</td>\n",
       "      <td>614.757184</td>\n",
       "      <td>72</td>\n",
       "      <td>0</td>\n",
       "      <td>0.234222</td>\n",
       "      <td>29</td>\n",
       "      <td>64.016969</td>\n",
       "      <td>899.633055</td>\n",
       "      <td>118.35</td>\n",
       "      <td>18.25</td>\n",
       "      <td>...</td>\n",
       "      <td>0.857846</td>\n",
       "      <td>1.094405</td>\n",
       "      <td>0.989697</td>\n",
       "      <td>0.978766</td>\n",
       "      <td>1.083917</td>\n",
       "      <td>0.916737</td>\n",
       "      <td>0.905134</td>\n",
       "      <td>1.199651</td>\n",
       "      <td>0.843495</td>\n",
       "      <td>0.669323</td>\n",
       "    </tr>\n",
       "    <tr>\n",
       "      <th>5278</th>\n",
       "      <td>31.947588</td>\n",
       "      <td>601.095276</td>\n",
       "      <td>72</td>\n",
       "      <td>0</td>\n",
       "      <td>0.257136</td>\n",
       "      <td>28</td>\n",
       "      <td>65.345765</td>\n",
       "      <td>891.427517</td>\n",
       "      <td>118.75</td>\n",
       "      <td>18.40</td>\n",
       "      <td>...</td>\n",
       "      <td>0.852147</td>\n",
       "      <td>1.093349</td>\n",
       "      <td>0.990747</td>\n",
       "      <td>0.978976</td>\n",
       "      <td>1.088451</td>\n",
       "      <td>0.891776</td>\n",
       "      <td>0.899249</td>\n",
       "      <td>1.228772</td>\n",
       "      <td>0.818448</td>\n",
       "      <td>0.682600</td>\n",
       "    </tr>\n",
       "    <tr>\n",
       "      <th>5279</th>\n",
       "      <td>31.947588</td>\n",
       "      <td>601.095276</td>\n",
       "      <td>72</td>\n",
       "      <td>0</td>\n",
       "      <td>0.257136</td>\n",
       "      <td>28</td>\n",
       "      <td>65.345765</td>\n",
       "      <td>891.427517</td>\n",
       "      <td>118.75</td>\n",
       "      <td>18.40</td>\n",
       "      <td>...</td>\n",
       "      <td>0.852147</td>\n",
       "      <td>1.093349</td>\n",
       "      <td>0.990747</td>\n",
       "      <td>0.978976</td>\n",
       "      <td>1.088451</td>\n",
       "      <td>0.891776</td>\n",
       "      <td>0.899249</td>\n",
       "      <td>1.228772</td>\n",
       "      <td>0.818448</td>\n",
       "      <td>0.682600</td>\n",
       "    </tr>\n",
       "    <tr>\n",
       "      <th>5280</th>\n",
       "      <td>31.947588</td>\n",
       "      <td>601.095276</td>\n",
       "      <td>72</td>\n",
       "      <td>0</td>\n",
       "      <td>0.257136</td>\n",
       "      <td>28</td>\n",
       "      <td>65.345765</td>\n",
       "      <td>891.427517</td>\n",
       "      <td>118.75</td>\n",
       "      <td>18.40</td>\n",
       "      <td>...</td>\n",
       "      <td>0.852147</td>\n",
       "      <td>1.093349</td>\n",
       "      <td>0.990747</td>\n",
       "      <td>0.978976</td>\n",
       "      <td>1.088451</td>\n",
       "      <td>0.891776</td>\n",
       "      <td>0.899249</td>\n",
       "      <td>1.228772</td>\n",
       "      <td>0.818448</td>\n",
       "      <td>0.682600</td>\n",
       "    </tr>\n",
       "    <tr>\n",
       "      <th>5281</th>\n",
       "      <td>32.597584</td>\n",
       "      <td>614.757184</td>\n",
       "      <td>72</td>\n",
       "      <td>0</td>\n",
       "      <td>0.234222</td>\n",
       "      <td>29</td>\n",
       "      <td>64.016969</td>\n",
       "      <td>899.633055</td>\n",
       "      <td>118.35</td>\n",
       "      <td>18.25</td>\n",
       "      <td>...</td>\n",
       "      <td>0.857846</td>\n",
       "      <td>1.094405</td>\n",
       "      <td>0.989697</td>\n",
       "      <td>0.978766</td>\n",
       "      <td>1.083917</td>\n",
       "      <td>0.916737</td>\n",
       "      <td>0.905134</td>\n",
       "      <td>1.199651</td>\n",
       "      <td>0.843495</td>\n",
       "      <td>0.669323</td>\n",
       "    </tr>\n",
       "  </tbody>\n",
       "</table>\n",
       "<p>5282 rows × 321 columns</p>\n",
       "</div>"
      ],
      "text/plain": [
       "      tenure_gender_mean  tenure_gender_var  tenure_gender_max  \\\n",
       "0              31.947588         601.095276                 72   \n",
       "1              31.947588         601.095276                 72   \n",
       "2              32.597584         614.757184                 72   \n",
       "3              31.947588         601.095276                 72   \n",
       "4              31.947588         601.095276                 72   \n",
       "...                  ...                ...                ...   \n",
       "5277           32.597584         614.757184                 72   \n",
       "5278           31.947588         601.095276                 72   \n",
       "5279           31.947588         601.095276                 72   \n",
       "5280           31.947588         601.095276                 72   \n",
       "5281           32.597584         614.757184                 72   \n",
       "\n",
       "      tenure_gender_min  tenure_gender_skew  tenure_gender_median  \\\n",
       "0                     0            0.257136                    28   \n",
       "1                     0            0.257136                    28   \n",
       "2                     0            0.234222                    29   \n",
       "3                     0            0.257136                    28   \n",
       "4                     0            0.257136                    28   \n",
       "...                 ...                 ...                   ...   \n",
       "5277                  0            0.234222                    29   \n",
       "5278                  0            0.257136                    28   \n",
       "5279                  0            0.257136                    28   \n",
       "5280                  0            0.257136                    28   \n",
       "5281                  0            0.234222                    29   \n",
       "\n",
       "      MonthlyCharges_gender_mean  MonthlyCharges_gender_var  \\\n",
       "0                      65.345765                 891.427517   \n",
       "1                      65.345765                 891.427517   \n",
       "2                      64.016969                 899.633055   \n",
       "3                      65.345765                 891.427517   \n",
       "4                      65.345765                 891.427517   \n",
       "...                          ...                        ...   \n",
       "5277                   64.016969                 899.633055   \n",
       "5278                   65.345765                 891.427517   \n",
       "5279                   65.345765                 891.427517   \n",
       "5280                   65.345765                 891.427517   \n",
       "5281                   64.016969                 899.633055   \n",
       "\n",
       "      MonthlyCharges_gender_max  MonthlyCharges_gender_min  ...  \\\n",
       "0                        118.75                      18.40  ...   \n",
       "1                        118.75                      18.40  ...   \n",
       "2                        118.35                      18.25  ...   \n",
       "3                        118.75                      18.40  ...   \n",
       "4                        118.75                      18.40  ...   \n",
       "...                         ...                        ...  ...   \n",
       "5277                     118.35                      18.25  ...   \n",
       "5278                     118.75                      18.40  ...   \n",
       "5279                     118.75                      18.40  ...   \n",
       "5280                     118.75                      18.40  ...   \n",
       "5281                     118.35                      18.25  ...   \n",
       "\n",
       "      InternetService_cv_gender  OnlineSecurity_cv_gender  \\\n",
       "0                      0.852147                  1.093349   \n",
       "1                      0.852147                  1.093349   \n",
       "2                      0.857846                  1.094405   \n",
       "3                      0.852147                  1.093349   \n",
       "4                      0.852147                  1.093349   \n",
       "...                         ...                       ...   \n",
       "5277                   0.857846                  1.094405   \n",
       "5278                   0.852147                  1.093349   \n",
       "5279                   0.852147                  1.093349   \n",
       "5280                   0.852147                  1.093349   \n",
       "5281                   0.857846                  1.094405   \n",
       "\n",
       "      OnlineBackup_cv_gender  DeviceProtection_cv_gender  \\\n",
       "0                   0.990747                    0.978976   \n",
       "1                   0.990747                    0.978976   \n",
       "2                   0.989697                    0.978766   \n",
       "3                   0.990747                    0.978976   \n",
       "4                   0.990747                    0.978976   \n",
       "...                      ...                         ...   \n",
       "5277                0.989697                    0.978766   \n",
       "5278                0.990747                    0.978976   \n",
       "5279                0.990747                    0.978976   \n",
       "5280                0.990747                    0.978976   \n",
       "5281                0.989697                    0.978766   \n",
       "\n",
       "      TechSupport_cv_gender  StreamingTV_cv_gender  StreamingMovies_cv_gender  \\\n",
       "0                  1.088451               0.891776                   0.899249   \n",
       "1                  1.088451               0.891776                   0.899249   \n",
       "2                  1.083917               0.916737                   0.905134   \n",
       "3                  1.088451               0.891776                   0.899249   \n",
       "4                  1.088451               0.891776                   0.899249   \n",
       "...                     ...                    ...                        ...   \n",
       "5277               1.083917               0.916737                   0.905134   \n",
       "5278               1.088451               0.891776                   0.899249   \n",
       "5279               1.088451               0.891776                   0.899249   \n",
       "5280               1.088451               0.891776                   0.899249   \n",
       "5281               1.083917               0.916737                   0.905134   \n",
       "\n",
       "      Contract_cv_gender  PaperlessBilling_cv_gender  PaymentMethod_cv_gender  \n",
       "0               1.228772                    0.818448                 0.682600  \n",
       "1               1.228772                    0.818448                 0.682600  \n",
       "2               1.199651                    0.843495                 0.669323  \n",
       "3               1.228772                    0.818448                 0.682600  \n",
       "4               1.228772                    0.818448                 0.682600  \n",
       "...                  ...                         ...                      ...  \n",
       "5277            1.199651                    0.843495                 0.669323  \n",
       "5278            1.228772                    0.818448                 0.682600  \n",
       "5279            1.228772                    0.818448                 0.682600  \n",
       "5280            1.228772                    0.818448                 0.682600  \n",
       "5281            1.199651                    0.843495                 0.669323  \n",
       "\n",
       "[5282 rows x 321 columns]"
      ]
     },
     "execution_count": 125,
     "metadata": {},
     "output_type": "execute_result"
    }
   ],
   "source": [
    "features_train_new[0]"
   ]
  },
  {
   "cell_type": "code",
   "execution_count": 126,
   "id": "f5456071",
   "metadata": {},
   "outputs": [],
   "source": [
    "features_train_new = pd.concat(features_train_new, axis=1)\n",
    "features_test_new = pd.concat(features_test_new, axis=1)"
   ]
  },
  {
   "cell_type": "code",
   "execution_count": 127,
   "id": "bb220c90",
   "metadata": {},
   "outputs": [
    {
     "data": {
      "text/html": [
       "<div>\n",
       "<style scoped>\n",
       "    .dataframe tbody tr th:only-of-type {\n",
       "        vertical-align: middle;\n",
       "    }\n",
       "\n",
       "    .dataframe tbody tr th {\n",
       "        vertical-align: top;\n",
       "    }\n",
       "\n",
       "    .dataframe thead th {\n",
       "        text-align: right;\n",
       "    }\n",
       "</style>\n",
       "<table border=\"1\" class=\"dataframe\">\n",
       "  <thead>\n",
       "    <tr style=\"text-align: right;\">\n",
       "      <th></th>\n",
       "      <th>tenure_gender_mean</th>\n",
       "      <th>tenure_gender_var</th>\n",
       "      <th>tenure_gender_max</th>\n",
       "      <th>tenure_gender_min</th>\n",
       "      <th>tenure_gender_skew</th>\n",
       "      <th>tenure_gender_median</th>\n",
       "      <th>MonthlyCharges_gender_mean</th>\n",
       "      <th>MonthlyCharges_gender_var</th>\n",
       "      <th>MonthlyCharges_gender_max</th>\n",
       "      <th>MonthlyCharges_gender_min</th>\n",
       "      <th>...</th>\n",
       "      <th>MultipleLines_cv_PaymentMethod</th>\n",
       "      <th>InternetService_cv_PaymentMethod</th>\n",
       "      <th>OnlineSecurity_cv_PaymentMethod</th>\n",
       "      <th>OnlineBackup_cv_PaymentMethod</th>\n",
       "      <th>DeviceProtection_cv_PaymentMethod</th>\n",
       "      <th>TechSupport_cv_PaymentMethod</th>\n",
       "      <th>StreamingTV_cv_PaymentMethod</th>\n",
       "      <th>StreamingMovies_cv_PaymentMethod</th>\n",
       "      <th>Contract_cv_PaymentMethod</th>\n",
       "      <th>PaperlessBilling_cv_PaymentMethod</th>\n",
       "    </tr>\n",
       "  </thead>\n",
       "  <tbody>\n",
       "    <tr>\n",
       "      <th>0</th>\n",
       "      <td>31.947588</td>\n",
       "      <td>601.095276</td>\n",
       "      <td>72</td>\n",
       "      <td>0</td>\n",
       "      <td>0.257136</td>\n",
       "      <td>28</td>\n",
       "      <td>65.345765</td>\n",
       "      <td>891.427517</td>\n",
       "      <td>118.75</td>\n",
       "      <td>18.40</td>\n",
       "      <td>...</td>\n",
       "      <td>0.869666</td>\n",
       "      <td>0.891326</td>\n",
       "      <td>0.919172</td>\n",
       "      <td>0.826531</td>\n",
       "      <td>0.836828</td>\n",
       "      <td>0.889565</td>\n",
       "      <td>0.827997</td>\n",
       "      <td>0.801837</td>\n",
       "      <td>0.852233</td>\n",
       "      <td>0.864201</td>\n",
       "    </tr>\n",
       "    <tr>\n",
       "      <th>1</th>\n",
       "      <td>31.947588</td>\n",
       "      <td>601.095276</td>\n",
       "      <td>72</td>\n",
       "      <td>0</td>\n",
       "      <td>0.257136</td>\n",
       "      <td>28</td>\n",
       "      <td>65.345765</td>\n",
       "      <td>891.427517</td>\n",
       "      <td>118.75</td>\n",
       "      <td>18.40</td>\n",
       "      <td>...</td>\n",
       "      <td>0.909129</td>\n",
       "      <td>0.692528</td>\n",
       "      <td>1.702213</td>\n",
       "      <td>1.278833</td>\n",
       "      <td>1.266881</td>\n",
       "      <td>1.704683</td>\n",
       "      <td>0.956058</td>\n",
       "      <td>0.963521</td>\n",
       "      <td>2.042807</td>\n",
       "      <td>0.608718</td>\n",
       "    </tr>\n",
       "    <tr>\n",
       "      <th>2</th>\n",
       "      <td>32.597584</td>\n",
       "      <td>614.757184</td>\n",
       "      <td>72</td>\n",
       "      <td>0</td>\n",
       "      <td>0.234222</td>\n",
       "      <td>29</td>\n",
       "      <td>64.016969</td>\n",
       "      <td>899.633055</td>\n",
       "      <td>118.35</td>\n",
       "      <td>18.25</td>\n",
       "      <td>...</td>\n",
       "      <td>1.576416</td>\n",
       "      <td>0.865125</td>\n",
       "      <td>0.828221</td>\n",
       "      <td>0.893478</td>\n",
       "      <td>0.893478</td>\n",
       "      <td>0.834575</td>\n",
       "      <td>0.911518</td>\n",
       "      <td>0.923124</td>\n",
       "      <td>1.238971</td>\n",
       "      <td>1.190282</td>\n",
       "    </tr>\n",
       "    <tr>\n",
       "      <th>3</th>\n",
       "      <td>31.947588</td>\n",
       "      <td>601.095276</td>\n",
       "      <td>72</td>\n",
       "      <td>0</td>\n",
       "      <td>0.257136</td>\n",
       "      <td>28</td>\n",
       "      <td>65.345765</td>\n",
       "      <td>891.427517</td>\n",
       "      <td>118.75</td>\n",
       "      <td>18.40</td>\n",
       "      <td>...</td>\n",
       "      <td>1.576416</td>\n",
       "      <td>0.865125</td>\n",
       "      <td>0.828221</td>\n",
       "      <td>0.893478</td>\n",
       "      <td>0.893478</td>\n",
       "      <td>0.834575</td>\n",
       "      <td>0.911518</td>\n",
       "      <td>0.923124</td>\n",
       "      <td>1.238971</td>\n",
       "      <td>1.190282</td>\n",
       "    </tr>\n",
       "    <tr>\n",
       "      <th>4</th>\n",
       "      <td>31.947588</td>\n",
       "      <td>601.095276</td>\n",
       "      <td>72</td>\n",
       "      <td>0</td>\n",
       "      <td>0.257136</td>\n",
       "      <td>28</td>\n",
       "      <td>65.345765</td>\n",
       "      <td>891.427517</td>\n",
       "      <td>118.75</td>\n",
       "      <td>18.40</td>\n",
       "      <td>...</td>\n",
       "      <td>1.576416</td>\n",
       "      <td>0.865125</td>\n",
       "      <td>0.828221</td>\n",
       "      <td>0.893478</td>\n",
       "      <td>0.893478</td>\n",
       "      <td>0.834575</td>\n",
       "      <td>0.911518</td>\n",
       "      <td>0.923124</td>\n",
       "      <td>1.238971</td>\n",
       "      <td>1.190282</td>\n",
       "    </tr>\n",
       "  </tbody>\n",
       "</table>\n",
       "<p>5 rows × 5136 columns</p>\n",
       "</div>"
      ],
      "text/plain": [
       "   tenure_gender_mean  tenure_gender_var  tenure_gender_max  \\\n",
       "0           31.947588         601.095276                 72   \n",
       "1           31.947588         601.095276                 72   \n",
       "2           32.597584         614.757184                 72   \n",
       "3           31.947588         601.095276                 72   \n",
       "4           31.947588         601.095276                 72   \n",
       "\n",
       "   tenure_gender_min  tenure_gender_skew  tenure_gender_median  \\\n",
       "0                  0            0.257136                    28   \n",
       "1                  0            0.257136                    28   \n",
       "2                  0            0.234222                    29   \n",
       "3                  0            0.257136                    28   \n",
       "4                  0            0.257136                    28   \n",
       "\n",
       "   MonthlyCharges_gender_mean  MonthlyCharges_gender_var  \\\n",
       "0                   65.345765                 891.427517   \n",
       "1                   65.345765                 891.427517   \n",
       "2                   64.016969                 899.633055   \n",
       "3                   65.345765                 891.427517   \n",
       "4                   65.345765                 891.427517   \n",
       "\n",
       "   MonthlyCharges_gender_max  MonthlyCharges_gender_min  ...  \\\n",
       "0                     118.75                      18.40  ...   \n",
       "1                     118.75                      18.40  ...   \n",
       "2                     118.35                      18.25  ...   \n",
       "3                     118.75                      18.40  ...   \n",
       "4                     118.75                      18.40  ...   \n",
       "\n",
       "   MultipleLines_cv_PaymentMethod  InternetService_cv_PaymentMethod  \\\n",
       "0                        0.869666                          0.891326   \n",
       "1                        0.909129                          0.692528   \n",
       "2                        1.576416                          0.865125   \n",
       "3                        1.576416                          0.865125   \n",
       "4                        1.576416                          0.865125   \n",
       "\n",
       "   OnlineSecurity_cv_PaymentMethod  OnlineBackup_cv_PaymentMethod  \\\n",
       "0                         0.919172                       0.826531   \n",
       "1                         1.702213                       1.278833   \n",
       "2                         0.828221                       0.893478   \n",
       "3                         0.828221                       0.893478   \n",
       "4                         0.828221                       0.893478   \n",
       "\n",
       "   DeviceProtection_cv_PaymentMethod  TechSupport_cv_PaymentMethod  \\\n",
       "0                           0.836828                      0.889565   \n",
       "1                           1.266881                      1.704683   \n",
       "2                           0.893478                      0.834575   \n",
       "3                           0.893478                      0.834575   \n",
       "4                           0.893478                      0.834575   \n",
       "\n",
       "   StreamingTV_cv_PaymentMethod  StreamingMovies_cv_PaymentMethod  \\\n",
       "0                      0.827997                          0.801837   \n",
       "1                      0.956058                          0.963521   \n",
       "2                      0.911518                          0.923124   \n",
       "3                      0.911518                          0.923124   \n",
       "4                      0.911518                          0.923124   \n",
       "\n",
       "   Contract_cv_PaymentMethod  PaperlessBilling_cv_PaymentMethod  \n",
       "0                   0.852233                           0.864201  \n",
       "1                   2.042807                           0.608718  \n",
       "2                   1.238971                           1.190282  \n",
       "3                   1.238971                           1.190282  \n",
       "4                   1.238971                           1.190282  \n",
       "\n",
       "[5 rows x 5136 columns]"
      ]
     },
     "execution_count": 127,
     "metadata": {},
     "output_type": "execute_result"
    }
   ],
   "source": [
    "features_train_new.head()"
   ]
  },
  {
   "cell_type": "code",
   "execution_count": 128,
   "id": "931f24ef-9133-4ce3-8e5f-50c09cb9aa64",
   "metadata": {},
   "outputs": [
    {
     "data": {
      "text/plain": [
       "((5282, 5136), (1761, 5136))"
      ]
     },
     "execution_count": 128,
     "metadata": {},
     "output_type": "execute_result"
    }
   ],
   "source": [
    "features_train_new.shape, features_test_new.shape"
   ]
  },
  {
   "cell_type": "markdown",
   "id": "66d74ed2",
   "metadata": {},
   "source": [
    "同样，接下来进一步检测衍生特征和标签之间的相关性："
   ]
  },
  {
   "cell_type": "code",
   "execution_count": 129,
   "id": "36eaed02",
   "metadata": {},
   "outputs": [
    {
     "data": {
      "text/html": [
       "<div>\n",
       "<style scoped>\n",
       "    .dataframe tbody tr th:only-of-type {\n",
       "        vertical-align: middle;\n",
       "    }\n",
       "\n",
       "    .dataframe tbody tr th {\n",
       "        vertical-align: top;\n",
       "    }\n",
       "\n",
       "    .dataframe thead th {\n",
       "        text-align: right;\n",
       "    }\n",
       "</style>\n",
       "<table border=\"1\" class=\"dataframe\">\n",
       "  <thead>\n",
       "    <tr style=\"text-align: right;\">\n",
       "      <th></th>\n",
       "      <th>tenure_gender_mean</th>\n",
       "      <th>tenure_gender_var</th>\n",
       "      <th>tenure_gender_max</th>\n",
       "      <th>tenure_gender_min</th>\n",
       "      <th>tenure_gender_skew</th>\n",
       "      <th>tenure_gender_median</th>\n",
       "      <th>MonthlyCharges_gender_mean</th>\n",
       "      <th>MonthlyCharges_gender_var</th>\n",
       "      <th>MonthlyCharges_gender_max</th>\n",
       "      <th>MonthlyCharges_gender_min</th>\n",
       "      <th>...</th>\n",
       "      <th>InternetService_cv_PaymentMethod</th>\n",
       "      <th>OnlineSecurity_cv_PaymentMethod</th>\n",
       "      <th>OnlineBackup_cv_PaymentMethod</th>\n",
       "      <th>DeviceProtection_cv_PaymentMethod</th>\n",
       "      <th>TechSupport_cv_PaymentMethod</th>\n",
       "      <th>StreamingTV_cv_PaymentMethod</th>\n",
       "      <th>StreamingMovies_cv_PaymentMethod</th>\n",
       "      <th>Contract_cv_PaymentMethod</th>\n",
       "      <th>PaperlessBilling_cv_PaymentMethod</th>\n",
       "      <th>Churn</th>\n",
       "    </tr>\n",
       "  </thead>\n",
       "  <tbody>\n",
       "    <tr>\n",
       "      <th>4067</th>\n",
       "      <td>31.947588</td>\n",
       "      <td>601.095276</td>\n",
       "      <td>72</td>\n",
       "      <td>0</td>\n",
       "      <td>0.257136</td>\n",
       "      <td>28</td>\n",
       "      <td>65.345765</td>\n",
       "      <td>891.427517</td>\n",
       "      <td>118.75</td>\n",
       "      <td>18.40</td>\n",
       "      <td>...</td>\n",
       "      <td>0.891326</td>\n",
       "      <td>0.919172</td>\n",
       "      <td>0.826531</td>\n",
       "      <td>0.836828</td>\n",
       "      <td>0.889565</td>\n",
       "      <td>0.827997</td>\n",
       "      <td>0.801837</td>\n",
       "      <td>0.852233</td>\n",
       "      <td>0.864201</td>\n",
       "      <td>0</td>\n",
       "    </tr>\n",
       "    <tr>\n",
       "      <th>3306</th>\n",
       "      <td>31.947588</td>\n",
       "      <td>601.095276</td>\n",
       "      <td>72</td>\n",
       "      <td>0</td>\n",
       "      <td>0.257136</td>\n",
       "      <td>28</td>\n",
       "      <td>65.345765</td>\n",
       "      <td>891.427517</td>\n",
       "      <td>118.75</td>\n",
       "      <td>18.40</td>\n",
       "      <td>...</td>\n",
       "      <td>0.692528</td>\n",
       "      <td>1.702213</td>\n",
       "      <td>1.278833</td>\n",
       "      <td>1.266881</td>\n",
       "      <td>1.704683</td>\n",
       "      <td>0.956058</td>\n",
       "      <td>0.963521</td>\n",
       "      <td>2.042807</td>\n",
       "      <td>0.608718</td>\n",
       "      <td>0</td>\n",
       "    </tr>\n",
       "    <tr>\n",
       "      <th>3391</th>\n",
       "      <td>32.597584</td>\n",
       "      <td>614.757184</td>\n",
       "      <td>72</td>\n",
       "      <td>0</td>\n",
       "      <td>0.234222</td>\n",
       "      <td>29</td>\n",
       "      <td>64.016969</td>\n",
       "      <td>899.633055</td>\n",
       "      <td>118.35</td>\n",
       "      <td>18.25</td>\n",
       "      <td>...</td>\n",
       "      <td>0.865125</td>\n",
       "      <td>0.828221</td>\n",
       "      <td>0.893478</td>\n",
       "      <td>0.893478</td>\n",
       "      <td>0.834575</td>\n",
       "      <td>0.911518</td>\n",
       "      <td>0.923124</td>\n",
       "      <td>1.238971</td>\n",
       "      <td>1.190282</td>\n",
       "      <td>0</td>\n",
       "    </tr>\n",
       "    <tr>\n",
       "      <th>3249</th>\n",
       "      <td>31.947588</td>\n",
       "      <td>601.095276</td>\n",
       "      <td>72</td>\n",
       "      <td>0</td>\n",
       "      <td>0.257136</td>\n",
       "      <td>28</td>\n",
       "      <td>65.345765</td>\n",
       "      <td>891.427517</td>\n",
       "      <td>118.75</td>\n",
       "      <td>18.40</td>\n",
       "      <td>...</td>\n",
       "      <td>0.865125</td>\n",
       "      <td>0.828221</td>\n",
       "      <td>0.893478</td>\n",
       "      <td>0.893478</td>\n",
       "      <td>0.834575</td>\n",
       "      <td>0.911518</td>\n",
       "      <td>0.923124</td>\n",
       "      <td>1.238971</td>\n",
       "      <td>1.190282</td>\n",
       "      <td>0</td>\n",
       "    </tr>\n",
       "    <tr>\n",
       "      <th>2674</th>\n",
       "      <td>31.947588</td>\n",
       "      <td>601.095276</td>\n",
       "      <td>72</td>\n",
       "      <td>0</td>\n",
       "      <td>0.257136</td>\n",
       "      <td>28</td>\n",
       "      <td>65.345765</td>\n",
       "      <td>891.427517</td>\n",
       "      <td>118.75</td>\n",
       "      <td>18.40</td>\n",
       "      <td>...</td>\n",
       "      <td>0.865125</td>\n",
       "      <td>0.828221</td>\n",
       "      <td>0.893478</td>\n",
       "      <td>0.893478</td>\n",
       "      <td>0.834575</td>\n",
       "      <td>0.911518</td>\n",
       "      <td>0.923124</td>\n",
       "      <td>1.238971</td>\n",
       "      <td>1.190282</td>\n",
       "      <td>0</td>\n",
       "    </tr>\n",
       "  </tbody>\n",
       "</table>\n",
       "<p>5 rows × 5137 columns</p>\n",
       "</div>"
      ],
      "text/plain": [
       "      tenure_gender_mean  tenure_gender_var  tenure_gender_max  \\\n",
       "4067           31.947588         601.095276                 72   \n",
       "3306           31.947588         601.095276                 72   \n",
       "3391           32.597584         614.757184                 72   \n",
       "3249           31.947588         601.095276                 72   \n",
       "2674           31.947588         601.095276                 72   \n",
       "\n",
       "      tenure_gender_min  tenure_gender_skew  tenure_gender_median  \\\n",
       "4067                  0            0.257136                    28   \n",
       "3306                  0            0.257136                    28   \n",
       "3391                  0            0.234222                    29   \n",
       "3249                  0            0.257136                    28   \n",
       "2674                  0            0.257136                    28   \n",
       "\n",
       "      MonthlyCharges_gender_mean  MonthlyCharges_gender_var  \\\n",
       "4067                   65.345765                 891.427517   \n",
       "3306                   65.345765                 891.427517   \n",
       "3391                   64.016969                 899.633055   \n",
       "3249                   65.345765                 891.427517   \n",
       "2674                   65.345765                 891.427517   \n",
       "\n",
       "      MonthlyCharges_gender_max  MonthlyCharges_gender_min  ...  \\\n",
       "4067                     118.75                      18.40  ...   \n",
       "3306                     118.75                      18.40  ...   \n",
       "3391                     118.35                      18.25  ...   \n",
       "3249                     118.75                      18.40  ...   \n",
       "2674                     118.75                      18.40  ...   \n",
       "\n",
       "      InternetService_cv_PaymentMethod  OnlineSecurity_cv_PaymentMethod  \\\n",
       "4067                          0.891326                         0.919172   \n",
       "3306                          0.692528                         1.702213   \n",
       "3391                          0.865125                         0.828221   \n",
       "3249                          0.865125                         0.828221   \n",
       "2674                          0.865125                         0.828221   \n",
       "\n",
       "      OnlineBackup_cv_PaymentMethod  DeviceProtection_cv_PaymentMethod  \\\n",
       "4067                       0.826531                           0.836828   \n",
       "3306                       1.278833                           1.266881   \n",
       "3391                       0.893478                           0.893478   \n",
       "3249                       0.893478                           0.893478   \n",
       "2674                       0.893478                           0.893478   \n",
       "\n",
       "      TechSupport_cv_PaymentMethod  StreamingTV_cv_PaymentMethod  \\\n",
       "4067                      0.889565                      0.827997   \n",
       "3306                      1.704683                      0.956058   \n",
       "3391                      0.834575                      0.911518   \n",
       "3249                      0.834575                      0.911518   \n",
       "2674                      0.834575                      0.911518   \n",
       "\n",
       "      StreamingMovies_cv_PaymentMethod  Contract_cv_PaymentMethod  \\\n",
       "4067                          0.801837                   0.852233   \n",
       "3306                          0.963521                   2.042807   \n",
       "3391                          0.923124                   1.238971   \n",
       "3249                          0.923124                   1.238971   \n",
       "2674                          0.923124                   1.238971   \n",
       "\n",
       "      PaperlessBilling_cv_PaymentMethod  Churn  \n",
       "4067                           0.864201      0  \n",
       "3306                           0.608718      0  \n",
       "3391                           1.190282      0  \n",
       "3249                           1.190282      0  \n",
       "2674                           1.190282      0  \n",
       "\n",
       "[5 rows x 5137 columns]"
      ]
     },
     "execution_count": 129,
     "metadata": {},
     "output_type": "execute_result"
    }
   ],
   "source": [
    "# 修改index\n",
    "features_train_new.index = X_train.index\n",
    "\n",
    "# 拼接衍生特征与标签\n",
    "df_temp = pd.concat([features_train_new, y_train], axis=1)\n",
    "\n",
    "# 查看拼接后的df\n",
    "df_temp.head()"
   ]
  },
  {
   "cell_type": "code",
   "execution_count": 130,
   "id": "8b8dbc6f",
   "metadata": {},
   "outputs": [
    {
     "data": {
      "text/plain": [
       "Churn                                 1.000000\n",
       "tenure_cv_Contract                    0.406388\n",
       "OnlineSecurity_cv_Contract            0.406261\n",
       "Dependents_cv_Contract                0.406230\n",
       "TotalCharges_norm_Contract            0.406185\n",
       "                                        ...   \n",
       "Partner_gap_PaymentMethod                  NaN\n",
       "PhoneService_gap_PaymentMethod             NaN\n",
       "PaperlessBilling_gap_PaymentMethod         NaN\n",
       "SeniorCitizen_mag2_PaymentMethod           NaN\n",
       "Dependents_mag2_PaymentMethod              NaN\n",
       "Name: Churn, Length: 5137, dtype: float64"
      ]
     },
     "execution_count": 130,
     "metadata": {},
     "output_type": "execute_result"
    }
   ],
   "source": [
    "# 计算相关系数\n",
    "df_corr = df_temp.corr()['Churn'].sort_values(ascending = False)\n",
    "df_corr"
   ]
  },
  {
   "cell_type": "markdown",
   "id": "8d80fc40",
   "metadata": {},
   "source": [
    "初步观察发现，衍生特征中还是存在较多高质量的衍生特征。接下来我们查看相关系数绝对值最大的前20个衍生特征： "
   ]
  },
  {
   "cell_type": "code",
   "execution_count": 131,
   "id": "db313450",
   "metadata": {},
   "outputs": [
    {
     "data": {
      "text/plain": [
       "Churn                                              1.000000\n",
       "TotalCharges_mag2_Contract                         0.406394\n",
       "tenure_cv_Contract                                 0.406388\n",
       "StreamingTV_Contract_mean                          0.406276\n",
       "OnlineSecurity_cv_Contract                         0.406261\n",
       "tenure_dive2_tenure_Contract_median                0.406239\n",
       "Dependents_cv_Contract                             0.406230\n",
       "Dependents_Contract_var                            0.406203\n",
       "TotalCharges_norm_Contract                         0.406185\n",
       "DeviceProtection_cv_Contract                       0.406177\n",
       "OnlineBackup_cv_Contract                           0.406168\n",
       "OnlineBackup_Contract_mean                         0.406082\n",
       "tenure_mag2_Contract                               0.406042\n",
       "TotalCharges_Contract_skew                         0.406039\n",
       "StreamingTV_cv_Contract                            0.406021\n",
       "DeviceProtection_Contract_mean                     0.405749\n",
       "PaperlessBilling_Contract_mean                     0.405723\n",
       "TotalCharges_gap_Contract                          0.405712\n",
       "TotalCharges_dive2_TotalCharges_Contract_median    0.405701\n",
       "StreamingMovies_Contract_mean                      0.405692\n",
       "Name: Churn, dtype: float64"
      ]
     },
     "execution_count": 131,
     "metadata": {},
     "output_type": "execute_result"
    }
   ],
   "source": [
    "# 取相关系数绝对值最大的20个特征进行观察\n",
    "np.abs(df_corr).sort_values(ascending = False)[: 20]"
   ]
  },
  {
   "cell_type": "markdown",
   "id": "2b86f845",
   "metadata": {},
   "source": [
    "&emsp;&emsp;通过上述结果我们不难发现，相关性最强的衍生特征都是基于Contract字段的分组统计结果（其中mag2是数据倾斜特征、cv是变异系数），这其实就说明分组统计特征衍生其实就是围绕KeyCol进行的特征增强，也就是说，如果KeyCol本身是重要特征，则经过分组统计汇总后也能衍生出很多重要特征。并且，从数量上来看，只需一个关键特征即可衍生出如此多的重要特征：单独一个Contract字段在分组统计特征衍生过程中就衍生出了至少100个相关系数在0.4以上的特征，该数量远远高于交叉组合特征衍生。可以说分组统计特征衍生在所有特征衍生方法中，效率是最高的。"
   ]
  },
  {
   "cell_type": "code",
   "execution_count": 132,
   "id": "dce72410",
   "metadata": {},
   "outputs": [
    {
     "data": {
      "text/plain": [
       "TotalCharges_Contract_q2                          0.405671\n",
       "tenure_Contract_q2                                0.405599\n",
       "TotalCharges_Contract_q1                          0.405563\n",
       "StreamingMovies_cv_Contract                       0.405519\n",
       "TotalCharges_minus2_TotalCharges_Contract_mean    0.405406\n",
       "TotalCharges_minus1_TotalCharges_Contract_mean    0.405406\n",
       "TotalCharges_Contract_mean                        0.405402\n",
       "tenure_dive1_tenure_Contract_mean                 0.405313\n",
       "TechSupport_dive1_TechSupport_Contract_mean       0.405298\n",
       "OnlineSecurity_Contract_mean                      0.405243\n",
       "TechSupport_cv_Contract                           0.405048\n",
       "PaperlessBilling_cv_Contract                      0.404911\n",
       "TotalCharges_cv_Contract                          0.404896\n",
       "PaymentMethod_Contract_var                        0.404894\n",
       "Partner_cv_Contract                               0.404877\n",
       "MonthlyCharges_Contract_q1                        0.404671\n",
       "TotalCharges_Contract_median                      0.404136\n",
       "SeniorCitizen_mag1_Contract                       0.403737\n",
       "SeniorCitizen_Contract_mean                       0.403737\n",
       "Dependents_Contract_mean                          0.403561\n",
       "Name: Churn, dtype: float64"
      ]
     },
     "execution_count": 132,
     "metadata": {},
     "output_type": "execute_result"
    }
   ],
   "source": [
    "np.abs(df_corr).sort_values(ascending = False)[20: 40]"
   ]
  },
  {
   "cell_type": "markdown",
   "id": "b590d80f-4bb4-44f7-9385-c9244fdfa8f5",
   "metadata": {},
   "source": [
    "当然，能够衍生出如此多的重要特征，也归功于我们在设计分组统计函数时所设置的众多统计量。不过无论如何，对于交叉组合来说我们又有了一个新的理解该过程的角度，即强化KeyCol的特征重要性、增强KeyCol的特征表现，这其实也是一个“强者恒强”的过程。当然我们也可以进行进一步衍生，看下相关系数绝对值位于第二梯队的衍生特征的KeyCol是哪个："
   ]
  },
  {
   "cell_type": "code",
   "execution_count": 133,
   "id": "c5ef6014",
   "metadata": {},
   "outputs": [
    {
     "data": {
      "text/plain": [
       "MonthlyCharges_minus2_MonthlyCharges_Contract_mean       0.371829\n",
       "InternetService_mag2_Contract                            0.371437\n",
       "PaymentMethod_mag2_Contract                              0.369155\n",
       "MultipleLines_Contract_mean                              0.368319\n",
       "InternetService_Contract_mean                            0.363831\n",
       "InternetService_mag1_Contract                            0.363831\n",
       "PaymentMethod_mag1_Contract                              0.362901\n",
       "Dependents_OnlineSecurity_var                            0.362594\n",
       "MultipleLines_dive1_MultipleLines_OnlineSecurity_mean    0.362330\n",
       "Dependents_cv_OnlineSecurity                             0.361842\n",
       "SeniorCitizen_OnlineSecurity_count                       0.361838\n",
       "Partner_OnlineSecurity_count                             0.361838\n",
       "Dependents_OnlineSecurity_count                          0.361838\n",
       "PhoneService_OnlineSecurity_count                        0.361838\n",
       "MultipleLines_OnlineSecurity_count                       0.361838\n",
       "OnlineBackup_OnlineSecurity_count                        0.361838\n",
       "PaymentMethod_OnlineSecurity_count                       0.361838\n",
       "InternetService_OnlineSecurity_count                     0.361838\n",
       "PaperlessBilling_OnlineSecurity_count                    0.361838\n",
       "Contract_OnlineSecurity_count                            0.361838\n",
       "Name: Churn, dtype: float64"
      ]
     },
     "execution_count": 133,
     "metadata": {},
     "output_type": "execute_result"
    }
   ],
   "source": [
    "np.abs(df_corr).sort_values(ascending = False)[200:220]"
   ]
  },
  {
   "cell_type": "markdown",
   "id": "afe6c476-fb92-486d-bf3d-e3a9c4240853",
   "metadata": {},
   "source": [
    "能够发现，重要性位于第二梯队的衍生特征的KeyCol（OnlineSecurity）也都是重要特征，并且我们发现，衍生特征的相关性和原始特征较为接近。"
   ]
  },
  {
   "cell_type": "markdown",
   "id": "82db6bef-b593-427e-9349-99819490a752",
   "metadata": {},
   "source": [
    "| 原始字段 | 相关系数 |\n",
    "| ------ | ------ |\n",
    "| Contract_Month-to-month | 0.405103 |\n",
    "| OnlineSecurity_No | 0.342637 |\n",
    "| TechSupport_No  | 0.337281 |"
   ]
  },
  {
   "cell_type": "markdown",
   "id": "b10648c5",
   "metadata": {},
   "source": [
    "&emsp;&emsp;当然，我们也可以围绕这些衍生字段进行模型验证，挑选相关性最强的三个特征带入进行建模："
   ]
  },
  {
   "cell_type": "code",
   "execution_count": 134,
   "id": "97f38104",
   "metadata": {},
   "outputs": [
    {
     "data": {
      "text/plain": [
       "['TotalCharges_mag2_Contract',\n",
       " 'tenure_cv_Contract',\n",
       " 'StreamingTV_Contract_mean']"
      ]
     },
     "execution_count": 134,
     "metadata": {},
     "output_type": "execute_result"
    }
   ],
   "source": [
    "new_col = list(np.abs(df_corr).sort_values(ascending = False)[1: 4].index)\n",
    "new_col"
   ]
  },
  {
   "cell_type": "code",
   "execution_count": 135,
   "id": "c9f4f6e0",
   "metadata": {},
   "outputs": [],
   "source": [
    "train_new_temp = features_train_new[new_col]\n",
    "test_new_temp = features_test_new[new_col]"
   ]
  },
  {
   "cell_type": "code",
   "execution_count": 136,
   "id": "f0f942a2-e4fc-47b8-9735-f03896c30e28",
   "metadata": {},
   "outputs": [
    {
     "data": {
      "text/html": [
       "<div>\n",
       "<style scoped>\n",
       "    .dataframe tbody tr th:only-of-type {\n",
       "        vertical-align: middle;\n",
       "    }\n",
       "\n",
       "    .dataframe tbody tr th {\n",
       "        vertical-align: top;\n",
       "    }\n",
       "\n",
       "    .dataframe thead th {\n",
       "        text-align: right;\n",
       "    }\n",
       "</style>\n",
       "<table border=\"1\" class=\"dataframe\">\n",
       "  <thead>\n",
       "    <tr style=\"text-align: right;\">\n",
       "      <th></th>\n",
       "      <th>TotalCharges_mag2_Contract</th>\n",
       "      <th>tenure_cv_Contract</th>\n",
       "      <th>StreamingTV_Contract_mean</th>\n",
       "    </tr>\n",
       "  </thead>\n",
       "  <tbody>\n",
       "    <tr>\n",
       "      <th>4067</th>\n",
       "      <td>0.986651</td>\n",
       "      <td>0.312622</td>\n",
       "      <td>1.268409</td>\n",
       "    </tr>\n",
       "    <tr>\n",
       "      <th>3306</th>\n",
       "      <td>0.495887</td>\n",
       "      <td>0.986208</td>\n",
       "      <td>0.794933</td>\n",
       "    </tr>\n",
       "    <tr>\n",
       "      <th>3391</th>\n",
       "      <td>0.495887</td>\n",
       "      <td>0.986208</td>\n",
       "      <td>0.794933</td>\n",
       "    </tr>\n",
       "    <tr>\n",
       "      <th>3249</th>\n",
       "      <td>0.495887</td>\n",
       "      <td>0.986208</td>\n",
       "      <td>0.794933</td>\n",
       "    </tr>\n",
       "    <tr>\n",
       "      <th>2674</th>\n",
       "      <td>0.495887</td>\n",
       "      <td>0.986208</td>\n",
       "      <td>0.794933</td>\n",
       "    </tr>\n",
       "  </tbody>\n",
       "</table>\n",
       "</div>"
      ],
      "text/plain": [
       "      TotalCharges_mag2_Contract  tenure_cv_Contract  \\\n",
       "4067                    0.986651            0.312622   \n",
       "3306                    0.495887            0.986208   \n",
       "3391                    0.495887            0.986208   \n",
       "3249                    0.495887            0.986208   \n",
       "2674                    0.495887            0.986208   \n",
       "\n",
       "      StreamingTV_Contract_mean  \n",
       "4067                   1.268409  \n",
       "3306                   0.794933  \n",
       "3391                   0.794933  \n",
       "3249                   0.794933  \n",
       "2674                   0.794933  "
      ]
     },
     "execution_count": 136,
     "metadata": {},
     "output_type": "execute_result"
    }
   ],
   "source": [
    "train_new_temp.head()"
   ]
  },
  {
   "cell_type": "code",
   "execution_count": 137,
   "id": "062bc882",
   "metadata": {},
   "outputs": [
    {
     "name": "stdout",
     "output_type": "stream",
     "text": [
      "50.71905517578125 s\n"
     ]
    },
    {
     "data": {
      "text/plain": [
       "(0.810489414007626,\n",
       " {'columntransformer__num': StandardScaler(),\n",
       "  'logit_threshold__C': 0.30000000000000004,\n",
       "  'logit_threshold__penalty': 'l1',\n",
       "  'logit_threshold__solver': 'saga'})"
      ]
     },
     "execution_count": 137,
     "metadata": {},
     "output_type": "execute_result"
    }
   ],
   "source": [
    "features_test(train_new_temp, \n",
    "              test_new_temp, \n",
    "              X_train, \n",
    "              X_test, \n",
    "              y_train, \n",
    "              y_test, \n",
    "              category_cols, \n",
    "              numeric_cols)"
   ]
  },
  {
   "cell_type": "markdown",
   "id": "ac9c7e33",
   "metadata": {},
   "source": [
    "模型测试结果也在意料之中。"
   ]
  },
  {
   "cell_type": "markdown",
   "id": "dcfad4b0-3f2f-410a-b74d-f89c19308063",
   "metadata": {},
   "source": [
    "- 分组统计特征衍生能够强化KeyCol的本质"
   ]
  },
  {
   "cell_type": "markdown",
   "id": "c0dd1f92-196b-44cb-94de-25c168eeb9ac",
   "metadata": {},
   "source": [
    "&emsp;&emsp;当然，这里面我们可以进一步探讨分组统计强化KeyCol特征的本质，这将非常有助于我们进一步探讨这些分组统计特征本身的有效性。首先，对于分组统计特征衍生来说，衍生特征和原始特征数值不同，但分布一致：即原始情况下属于同一组的数据分组统计后还是同一组（分布一致），只不过每一组的数据大小发生变化（取值不同），例如："
   ]
  },
  {
   "cell_type": "markdown",
   "id": "eb634e6a-5296-4ae4-91c7-5a8a3f8ace89",
   "metadata": {},
   "source": [
    "<center><img src=\"https://s2.loli.net/2022/03/16/1UWuFzTK3dLHQMR.png\" alt=\"image-20220316171913807\" style=\"zoom:50%;\" />"
   ]
  },
  {
   "cell_type": "markdown",
   "id": "2752995f-04e0-413c-a4f4-3ed06e3301a2",
   "metadata": {},
   "source": [
    "这就会导致衍生特征彼此相似度很高，我们也可以挑选此前衍生出来的特征进行观察："
   ]
  },
  {
   "cell_type": "code",
   "execution_count": 138,
   "id": "e4065165-b2b8-441c-a7ed-b7b4bea7ef0a",
   "metadata": {},
   "outputs": [
    {
     "data": {
      "text/html": [
       "<div>\n",
       "<style scoped>\n",
       "    .dataframe tbody tr th:only-of-type {\n",
       "        vertical-align: middle;\n",
       "    }\n",
       "\n",
       "    .dataframe tbody tr th {\n",
       "        vertical-align: top;\n",
       "    }\n",
       "\n",
       "    .dataframe thead th {\n",
       "        text-align: right;\n",
       "    }\n",
       "</style>\n",
       "<table border=\"1\" class=\"dataframe\">\n",
       "  <thead>\n",
       "    <tr style=\"text-align: right;\">\n",
       "      <th></th>\n",
       "      <th>Contract</th>\n",
       "      <th>StreamingTV_Contract_mean</th>\n",
       "      <th>TotalCharges_mag2_Contract</th>\n",
       "    </tr>\n",
       "  </thead>\n",
       "  <tbody>\n",
       "    <tr>\n",
       "      <th>4067</th>\n",
       "      <td>2.0</td>\n",
       "      <td>1.268409</td>\n",
       "      <td>0.986651</td>\n",
       "    </tr>\n",
       "    <tr>\n",
       "      <th>3306</th>\n",
       "      <td>0.0</td>\n",
       "      <td>0.794933</td>\n",
       "      <td>0.495887</td>\n",
       "    </tr>\n",
       "    <tr>\n",
       "      <th>3391</th>\n",
       "      <td>0.0</td>\n",
       "      <td>0.794933</td>\n",
       "      <td>0.495887</td>\n",
       "    </tr>\n",
       "    <tr>\n",
       "      <th>3249</th>\n",
       "      <td>0.0</td>\n",
       "      <td>0.794933</td>\n",
       "      <td>0.495887</td>\n",
       "    </tr>\n",
       "    <tr>\n",
       "      <th>2674</th>\n",
       "      <td>0.0</td>\n",
       "      <td>0.794933</td>\n",
       "      <td>0.495887</td>\n",
       "    </tr>\n",
       "    <tr>\n",
       "      <th>2757</th>\n",
       "      <td>1.0</td>\n",
       "      <td>1.146630</td>\n",
       "      <td>0.877504</td>\n",
       "    </tr>\n",
       "    <tr>\n",
       "      <th>5237</th>\n",
       "      <td>0.0</td>\n",
       "      <td>0.794933</td>\n",
       "      <td>0.495887</td>\n",
       "    </tr>\n",
       "    <tr>\n",
       "      <th>5856</th>\n",
       "      <td>0.0</td>\n",
       "      <td>0.794933</td>\n",
       "      <td>0.495887</td>\n",
       "    </tr>\n",
       "    <tr>\n",
       "      <th>3069</th>\n",
       "      <td>0.0</td>\n",
       "      <td>0.794933</td>\n",
       "      <td>0.495887</td>\n",
       "    </tr>\n",
       "    <tr>\n",
       "      <th>6631</th>\n",
       "      <td>0.0</td>\n",
       "      <td>0.794933</td>\n",
       "      <td>0.495887</td>\n",
       "    </tr>\n",
       "  </tbody>\n",
       "</table>\n",
       "</div>"
      ],
      "text/plain": [
       "      Contract  StreamingTV_Contract_mean  TotalCharges_mag2_Contract\n",
       "4067       2.0                   1.268409                    0.986651\n",
       "3306       0.0                   0.794933                    0.495887\n",
       "3391       0.0                   0.794933                    0.495887\n",
       "3249       0.0                   0.794933                    0.495887\n",
       "2674       0.0                   0.794933                    0.495887\n",
       "2757       1.0                   1.146630                    0.877504\n",
       "5237       0.0                   0.794933                    0.495887\n",
       "5856       0.0                   0.794933                    0.495887\n",
       "3069       0.0                   0.794933                    0.495887\n",
       "6631       0.0                   0.794933                    0.495887"
      ]
     },
     "execution_count": 138,
     "metadata": {},
     "output_type": "execute_result"
    }
   ],
   "source": [
    "pd.concat([X_train_OE['Contract'], \n",
    "           features_train_new['StreamingTV_Contract_mean'], \n",
    "           features_train_new['TotalCharges_mag2_Contract']], axis=1)[:10]"
   ]
  },
  {
   "cell_type": "markdown",
   "id": "ae5cf552-ba81-4d70-88e3-f162b5633b23",
   "metadata": {},
   "source": [
    "&emsp;&emsp;而大量的同分布的衍生特征则会对部分模型的建模造成影响，典型的就是共线性敏感的模型（如不带正则项的逻辑回归），而对于目前更为主流的集成学习来说，相同分布的特征并不会对建模过程造成太大影响，并且可以给很多模型基分类器训练过程创造更大的随机性的空间（例如可以带入不同特征进行基分类器训练的随机森林）。但无论如何，正如我们此前所说，特征衍生仍然不是创造信息的过程，而是重组信息的过程，我们衍生的特征仍然还是严重的受到原始特征的影响，他们只是原始特征的“影子”，而不是和原始特征相互独立的存在。"
   ]
  },
  {
   "cell_type": "markdown",
   "id": "260b2b60-fc46-4ef4-b0ac-260d512ce037",
   "metadata": {},
   "source": [
    "&emsp;&emsp;无论如何，既然分组统计特征衍生是有针对性增强KeyCol的特征表现，那么此前创建的哪些时序特征衍生特征、以及双变量、甚至是多变量交叉组合出来的重要特征，在理论上，也是可以通过分组统计特征衍生来进一步衍生出更多重要特征的。接下来我们就此进行验证。"
   ]
  },
  {
   "cell_type": "markdown",
   "id": "61bed617-ef53-4e3b-89c2-9d9032d97850",
   "metadata": {},
   "source": [
    "#### 5.2 时序衍生字段分组统计"
   ]
  },
  {
   "cell_type": "markdown",
   "id": "f2e083d8-8ce4-4758-80b8-4ae112e487aa",
   "metadata": {},
   "source": [
    "&emsp;&emsp;接下来我们进一步测试以时序字段作为KeyCol测试特征衍生的效果。首先我们将带时序衍生字段与原始数据集进行拼接："
   ]
  },
  {
   "cell_type": "code",
   "execution_count": 139,
   "id": "71a970ac-cba0-467b-acb0-69c75379c1a6",
   "metadata": {},
   "outputs": [
    {
     "data": {
      "text/html": [
       "<div>\n",
       "<style scoped>\n",
       "    .dataframe tbody tr th:only-of-type {\n",
       "        vertical-align: middle;\n",
       "    }\n",
       "\n",
       "    .dataframe tbody tr th {\n",
       "        vertical-align: top;\n",
       "    }\n",
       "\n",
       "    .dataframe thead th {\n",
       "        text-align: right;\n",
       "    }\n",
       "</style>\n",
       "<table border=\"1\" class=\"dataframe\">\n",
       "  <thead>\n",
       "    <tr style=\"text-align: right;\">\n",
       "      <th></th>\n",
       "      <th>tenure_year_2014</th>\n",
       "      <th>tenure_year_2015</th>\n",
       "      <th>tenure_year_2016</th>\n",
       "      <th>tenure_year_2017</th>\n",
       "      <th>tenure_year_2018</th>\n",
       "      <th>tenure_year_2019</th>\n",
       "      <th>tenure_year_2020</th>\n",
       "      <th>tenure_month_1</th>\n",
       "      <th>tenure_month_2</th>\n",
       "      <th>tenure_month_3</th>\n",
       "      <th>...</th>\n",
       "      <th>tenure_month_7</th>\n",
       "      <th>tenure_month_8</th>\n",
       "      <th>tenure_month_9</th>\n",
       "      <th>tenure_month_10</th>\n",
       "      <th>tenure_month_11</th>\n",
       "      <th>tenure_month_12</th>\n",
       "      <th>tenure_quarter_1</th>\n",
       "      <th>tenure_quarter_2</th>\n",
       "      <th>tenure_quarter_3</th>\n",
       "      <th>tenure_quarter_4</th>\n",
       "    </tr>\n",
       "  </thead>\n",
       "  <tbody>\n",
       "    <tr>\n",
       "      <th>4067</th>\n",
       "      <td>1.0</td>\n",
       "      <td>0.0</td>\n",
       "      <td>0.0</td>\n",
       "      <td>0.0</td>\n",
       "      <td>0.0</td>\n",
       "      <td>0.0</td>\n",
       "      <td>0.0</td>\n",
       "      <td>0.0</td>\n",
       "      <td>0.0</td>\n",
       "      <td>0.0</td>\n",
       "      <td>...</td>\n",
       "      <td>0.0</td>\n",
       "      <td>0.0</td>\n",
       "      <td>0.0</td>\n",
       "      <td>0.0</td>\n",
       "      <td>0.0</td>\n",
       "      <td>0.0</td>\n",
       "      <td>0.0</td>\n",
       "      <td>1.0</td>\n",
       "      <td>0.0</td>\n",
       "      <td>0.0</td>\n",
       "    </tr>\n",
       "    <tr>\n",
       "      <th>3306</th>\n",
       "      <td>0.0</td>\n",
       "      <td>0.0</td>\n",
       "      <td>0.0</td>\n",
       "      <td>0.0</td>\n",
       "      <td>0.0</td>\n",
       "      <td>1.0</td>\n",
       "      <td>0.0</td>\n",
       "      <td>0.0</td>\n",
       "      <td>0.0</td>\n",
       "      <td>0.0</td>\n",
       "      <td>...</td>\n",
       "      <td>0.0</td>\n",
       "      <td>0.0</td>\n",
       "      <td>0.0</td>\n",
       "      <td>1.0</td>\n",
       "      <td>0.0</td>\n",
       "      <td>0.0</td>\n",
       "      <td>0.0</td>\n",
       "      <td>0.0</td>\n",
       "      <td>0.0</td>\n",
       "      <td>1.0</td>\n",
       "    </tr>\n",
       "    <tr>\n",
       "      <th>3391</th>\n",
       "      <td>0.0</td>\n",
       "      <td>0.0</td>\n",
       "      <td>0.0</td>\n",
       "      <td>0.0</td>\n",
       "      <td>0.0</td>\n",
       "      <td>1.0</td>\n",
       "      <td>0.0</td>\n",
       "      <td>0.0</td>\n",
       "      <td>0.0</td>\n",
       "      <td>0.0</td>\n",
       "      <td>...</td>\n",
       "      <td>0.0</td>\n",
       "      <td>0.0</td>\n",
       "      <td>1.0</td>\n",
       "      <td>0.0</td>\n",
       "      <td>0.0</td>\n",
       "      <td>0.0</td>\n",
       "      <td>0.0</td>\n",
       "      <td>0.0</td>\n",
       "      <td>1.0</td>\n",
       "      <td>0.0</td>\n",
       "    </tr>\n",
       "    <tr>\n",
       "      <th>3249</th>\n",
       "      <td>0.0</td>\n",
       "      <td>0.0</td>\n",
       "      <td>0.0</td>\n",
       "      <td>0.0</td>\n",
       "      <td>0.0</td>\n",
       "      <td>1.0</td>\n",
       "      <td>0.0</td>\n",
       "      <td>0.0</td>\n",
       "      <td>0.0</td>\n",
       "      <td>1.0</td>\n",
       "      <td>...</td>\n",
       "      <td>0.0</td>\n",
       "      <td>0.0</td>\n",
       "      <td>0.0</td>\n",
       "      <td>0.0</td>\n",
       "      <td>0.0</td>\n",
       "      <td>0.0</td>\n",
       "      <td>1.0</td>\n",
       "      <td>0.0</td>\n",
       "      <td>0.0</td>\n",
       "      <td>0.0</td>\n",
       "    </tr>\n",
       "    <tr>\n",
       "      <th>2674</th>\n",
       "      <td>0.0</td>\n",
       "      <td>0.0</td>\n",
       "      <td>0.0</td>\n",
       "      <td>0.0</td>\n",
       "      <td>0.0</td>\n",
       "      <td>1.0</td>\n",
       "      <td>0.0</td>\n",
       "      <td>0.0</td>\n",
       "      <td>0.0</td>\n",
       "      <td>0.0</td>\n",
       "      <td>...</td>\n",
       "      <td>0.0</td>\n",
       "      <td>0.0</td>\n",
       "      <td>1.0</td>\n",
       "      <td>0.0</td>\n",
       "      <td>0.0</td>\n",
       "      <td>0.0</td>\n",
       "      <td>0.0</td>\n",
       "      <td>0.0</td>\n",
       "      <td>1.0</td>\n",
       "      <td>0.0</td>\n",
       "    </tr>\n",
       "  </tbody>\n",
       "</table>\n",
       "<p>5 rows × 23 columns</p>\n",
       "</div>"
      ],
      "text/plain": [
       "      tenure_year_2014  tenure_year_2015  tenure_year_2016  tenure_year_2017  \\\n",
       "4067               1.0               0.0               0.0               0.0   \n",
       "3306               0.0               0.0               0.0               0.0   \n",
       "3391               0.0               0.0               0.0               0.0   \n",
       "3249               0.0               0.0               0.0               0.0   \n",
       "2674               0.0               0.0               0.0               0.0   \n",
       "\n",
       "      tenure_year_2018  tenure_year_2019  tenure_year_2020  tenure_month_1  \\\n",
       "4067               0.0               0.0               0.0             0.0   \n",
       "3306               0.0               1.0               0.0             0.0   \n",
       "3391               0.0               1.0               0.0             0.0   \n",
       "3249               0.0               1.0               0.0             0.0   \n",
       "2674               0.0               1.0               0.0             0.0   \n",
       "\n",
       "      tenure_month_2  tenure_month_3  ...  tenure_month_7  tenure_month_8  \\\n",
       "4067             0.0             0.0  ...             0.0             0.0   \n",
       "3306             0.0             0.0  ...             0.0             0.0   \n",
       "3391             0.0             0.0  ...             0.0             0.0   \n",
       "3249             0.0             1.0  ...             0.0             0.0   \n",
       "2674             0.0             0.0  ...             0.0             0.0   \n",
       "\n",
       "      tenure_month_9  tenure_month_10  tenure_month_11  tenure_month_12  \\\n",
       "4067             0.0              0.0              0.0              0.0   \n",
       "3306             0.0              1.0              0.0              0.0   \n",
       "3391             1.0              0.0              0.0              0.0   \n",
       "3249             0.0              0.0              0.0              0.0   \n",
       "2674             1.0              0.0              0.0              0.0   \n",
       "\n",
       "      tenure_quarter_1  tenure_quarter_2  tenure_quarter_3  tenure_quarter_4  \n",
       "4067               0.0               1.0               0.0               0.0  \n",
       "3306               0.0               0.0               0.0               1.0  \n",
       "3391               0.0               0.0               1.0               0.0  \n",
       "3249               1.0               0.0               0.0               0.0  \n",
       "2674               0.0               0.0               1.0               0.0  \n",
       "\n",
       "[5 rows x 23 columns]"
      ]
     },
     "execution_count": 139,
     "metadata": {},
     "output_type": "execute_result"
    }
   ],
   "source": [
    "X_train_seq.head()"
   ]
  },
  {
   "cell_type": "code",
   "execution_count": 140,
   "id": "5da9e41e-5e86-4c5e-850b-46ae541fdf53",
   "metadata": {},
   "outputs": [],
   "source": [
    "# 调整index\n",
    "X_train_seq.index = X_train.index\n",
    "X_test_seq.index = X_test.index\n",
    "\n",
    "# 拼接数据集\n",
    "train_temp = pd.concat([X_train_OE, X_train_seq], axis=1)\n",
    "test_temp = pd.concat([X_test_OE, X_test_seq], axis=1)"
   ]
  },
  {
   "cell_type": "code",
   "execution_count": 141,
   "id": "07862c8d-e29c-49be-9278-a200817b661a",
   "metadata": {},
   "outputs": [
    {
     "data": {
      "text/plain": [
       "(5282, 42)"
      ]
     },
     "execution_count": 141,
     "metadata": {},
     "output_type": "execute_result"
    }
   ],
   "source": [
    "train_temp.shape"
   ]
  },
  {
   "cell_type": "code",
   "execution_count": 142,
   "id": "a278ca29-ba62-4b75-af8b-69cc87da73c6",
   "metadata": {
    "tags": []
   },
   "outputs": [
    {
     "data": {
      "text/plain": [
       "['gender',\n",
       " 'SeniorCitizen',\n",
       " 'Partner',\n",
       " 'Dependents',\n",
       " 'PhoneService',\n",
       " 'MultipleLines',\n",
       " 'InternetService',\n",
       " 'OnlineSecurity',\n",
       " 'OnlineBackup',\n",
       " 'DeviceProtection',\n",
       " 'TechSupport',\n",
       " 'StreamingTV',\n",
       " 'StreamingMovies',\n",
       " 'Contract',\n",
       " 'PaperlessBilling',\n",
       " 'PaymentMethod',\n",
       " 'tenure_year_2014',\n",
       " 'tenure_year_2015',\n",
       " 'tenure_year_2016',\n",
       " 'tenure_year_2017',\n",
       " 'tenure_year_2018',\n",
       " 'tenure_year_2019',\n",
       " 'tenure_year_2020',\n",
       " 'tenure_month_1',\n",
       " 'tenure_month_2',\n",
       " 'tenure_month_3',\n",
       " 'tenure_month_4',\n",
       " 'tenure_month_5',\n",
       " 'tenure_month_6',\n",
       " 'tenure_month_7',\n",
       " 'tenure_month_8',\n",
       " 'tenure_month_9',\n",
       " 'tenure_month_10',\n",
       " 'tenure_month_11',\n",
       " 'tenure_month_12',\n",
       " 'tenure_quarter_1',\n",
       " 'tenure_quarter_2',\n",
       " 'tenure_quarter_3',\n",
       " 'tenure_quarter_4']"
      ]
     },
     "execution_count": 142,
     "metadata": {},
     "output_type": "execute_result"
    }
   ],
   "source": [
    "# 包括时序衍生变量在内的所有离散变量名\n",
    "cat_temp = (category_cols + list(X_train_seq.columns)).copy()\n",
    "cat_temp"
   ]
  },
  {
   "cell_type": "code",
   "execution_count": 143,
   "id": "78edf166-642e-45df-9d0a-0248b204b9a8",
   "metadata": {
    "tags": []
   },
   "outputs": [
    {
     "data": {
      "text/plain": [
       "['tenure_year_2014',\n",
       " 'tenure_year_2015',\n",
       " 'tenure_year_2016',\n",
       " 'tenure_year_2017',\n",
       " 'tenure_year_2018',\n",
       " 'tenure_year_2019',\n",
       " 'tenure_year_2020',\n",
       " 'tenure_month_1',\n",
       " 'tenure_month_2',\n",
       " 'tenure_month_3',\n",
       " 'tenure_month_4',\n",
       " 'tenure_month_5',\n",
       " 'tenure_month_6',\n",
       " 'tenure_month_7',\n",
       " 'tenure_month_8',\n",
       " 'tenure_month_9',\n",
       " 'tenure_month_10',\n",
       " 'tenure_month_11',\n",
       " 'tenure_month_12',\n",
       " 'tenure_quarter_1',\n",
       " 'tenure_quarter_2',\n",
       " 'tenure_quarter_3',\n",
       " 'tenure_quarter_4']"
      ]
     },
     "execution_count": 143,
     "metadata": {},
     "output_type": "execute_result"
    }
   ],
   "source": [
    "cat_temp = list(X_train_seq.columns).copy()\n",
    "cat_temp"
   ]
  },
  {
   "cell_type": "code",
   "execution_count": 144,
   "id": "12299358-1f85-4c05-b349-679eb4d64854",
   "metadata": {
    "tags": []
   },
   "outputs": [],
   "source": [
    "# 创建容器\n",
    "col_temp = cat_temp.copy()\n",
    "colNames_train_new = []\n",
    "colNames_test_new = []\n",
    "features_train_new = []\n",
    "features_test_new = []\n",
    "\n",
    "for i in range(len(col_temp)):\n",
    "    keyCol = col_temp.pop(i)\n",
    "    features_train1, features_test1, colNames_train, colNames_test = Group_Statistics(keyCol,\n",
    "                                                                                      train_temp,\n",
    "                                                                                      test_temp,\n",
    "                                                                                      col_num=numeric_cols,\n",
    "                                                                                      col_cat=col_temp+category_cols, \n",
    "                                                                                      extension=True)\n",
    "    \n",
    "    colNames_train_new.extend(colNames_train)\n",
    "    colNames_test_new.extend(colNames_test)\n",
    "    features_train_new.append(features_train1)\n",
    "    features_test_new.append(features_test1)\n",
    "    \n",
    "    col_temp = cat_temp.copy()"
   ]
  },
  {
   "cell_type": "code",
   "execution_count": 145,
   "id": "e2abea8e-0f64-4eb7-b506-dbd0633211ee",
   "metadata": {},
   "outputs": [
    {
     "data": {
      "text/html": [
       "<div>\n",
       "<style scoped>\n",
       "    .dataframe tbody tr th:only-of-type {\n",
       "        vertical-align: middle;\n",
       "    }\n",
       "\n",
       "    .dataframe tbody tr th {\n",
       "        vertical-align: top;\n",
       "    }\n",
       "\n",
       "    .dataframe thead th {\n",
       "        text-align: right;\n",
       "    }\n",
       "</style>\n",
       "<table border=\"1\" class=\"dataframe\">\n",
       "  <thead>\n",
       "    <tr style=\"text-align: right;\">\n",
       "      <th></th>\n",
       "      <th>tenure_tenure_year_2014_mean</th>\n",
       "      <th>tenure_tenure_year_2014_var</th>\n",
       "      <th>tenure_tenure_year_2014_max</th>\n",
       "      <th>tenure_tenure_year_2014_min</th>\n",
       "      <th>tenure_tenure_year_2014_skew</th>\n",
       "      <th>tenure_tenure_year_2014_median</th>\n",
       "      <th>MonthlyCharges_tenure_year_2014_mean</th>\n",
       "      <th>MonthlyCharges_tenure_year_2014_var</th>\n",
       "      <th>MonthlyCharges_tenure_year_2014_max</th>\n",
       "      <th>MonthlyCharges_tenure_year_2014_min</th>\n",
       "      <th>...</th>\n",
       "      <th>InternetService_cv_tenure_year_2014</th>\n",
       "      <th>OnlineSecurity_cv_tenure_year_2014</th>\n",
       "      <th>OnlineBackup_cv_tenure_year_2014</th>\n",
       "      <th>DeviceProtection_cv_tenure_year_2014</th>\n",
       "      <th>TechSupport_cv_tenure_year_2014</th>\n",
       "      <th>StreamingTV_cv_tenure_year_2014</th>\n",
       "      <th>StreamingMovies_cv_tenure_year_2014</th>\n",
       "      <th>Contract_cv_tenure_year_2014</th>\n",
       "      <th>PaperlessBilling_cv_tenure_year_2014</th>\n",
       "      <th>PaymentMethod_cv_tenure_year_2014</th>\n",
       "    </tr>\n",
       "  </thead>\n",
       "  <tbody>\n",
       "    <tr>\n",
       "      <th>0</th>\n",
       "      <td>68.127341</td>\n",
       "      <td>13.127162</td>\n",
       "      <td>72</td>\n",
       "      <td>61</td>\n",
       "      <td>-0.549207</td>\n",
       "      <td>69</td>\n",
       "      <td>76.213530</td>\n",
       "      <td>1022.759716</td>\n",
       "      <td>118.75</td>\n",
       "      <td>19.10</td>\n",
       "      <td>...</td>\n",
       "      <td>0.848957</td>\n",
       "      <td>0.694922</td>\n",
       "      <td>0.572021</td>\n",
       "      <td>0.566283</td>\n",
       "      <td>0.691981</td>\n",
       "      <td>0.620829</td>\n",
       "      <td>0.594970</td>\n",
       "      <td>0.380092</td>\n",
       "      <td>0.821334</td>\n",
       "      <td>0.974531</td>\n",
       "    </tr>\n",
       "    <tr>\n",
       "      <th>1</th>\n",
       "      <td>23.186758</td>\n",
       "      <td>350.262051</td>\n",
       "      <td>60</td>\n",
       "      <td>0</td>\n",
       "      <td>0.439575</td>\n",
       "      <td>19</td>\n",
       "      <td>61.756122</td>\n",
       "      <td>821.604310</td>\n",
       "      <td>116.60</td>\n",
       "      <td>18.25</td>\n",
       "      <td>...</td>\n",
       "      <td>0.856458</td>\n",
       "      <td>1.222631</td>\n",
       "      <td>1.121632</td>\n",
       "      <td>1.107576</td>\n",
       "      <td>1.212794</td>\n",
       "      <td>0.985965</td>\n",
       "      <td>0.991487</td>\n",
       "      <td>1.565422</td>\n",
       "      <td>0.833398</td>\n",
       "      <td>0.601744</td>\n",
       "    </tr>\n",
       "    <tr>\n",
       "      <th>2</th>\n",
       "      <td>23.186758</td>\n",
       "      <td>350.262051</td>\n",
       "      <td>60</td>\n",
       "      <td>0</td>\n",
       "      <td>0.439575</td>\n",
       "      <td>19</td>\n",
       "      <td>61.756122</td>\n",
       "      <td>821.604310</td>\n",
       "      <td>116.60</td>\n",
       "      <td>18.25</td>\n",
       "      <td>...</td>\n",
       "      <td>0.856458</td>\n",
       "      <td>1.222631</td>\n",
       "      <td>1.121632</td>\n",
       "      <td>1.107576</td>\n",
       "      <td>1.212794</td>\n",
       "      <td>0.985965</td>\n",
       "      <td>0.991487</td>\n",
       "      <td>1.565422</td>\n",
       "      <td>0.833398</td>\n",
       "      <td>0.601744</td>\n",
       "    </tr>\n",
       "    <tr>\n",
       "      <th>3</th>\n",
       "      <td>23.186758</td>\n",
       "      <td>350.262051</td>\n",
       "      <td>60</td>\n",
       "      <td>0</td>\n",
       "      <td>0.439575</td>\n",
       "      <td>19</td>\n",
       "      <td>61.756122</td>\n",
       "      <td>821.604310</td>\n",
       "      <td>116.60</td>\n",
       "      <td>18.25</td>\n",
       "      <td>...</td>\n",
       "      <td>0.856458</td>\n",
       "      <td>1.222631</td>\n",
       "      <td>1.121632</td>\n",
       "      <td>1.107576</td>\n",
       "      <td>1.212794</td>\n",
       "      <td>0.985965</td>\n",
       "      <td>0.991487</td>\n",
       "      <td>1.565422</td>\n",
       "      <td>0.833398</td>\n",
       "      <td>0.601744</td>\n",
       "    </tr>\n",
       "    <tr>\n",
       "      <th>4</th>\n",
       "      <td>23.186758</td>\n",
       "      <td>350.262051</td>\n",
       "      <td>60</td>\n",
       "      <td>0</td>\n",
       "      <td>0.439575</td>\n",
       "      <td>19</td>\n",
       "      <td>61.756122</td>\n",
       "      <td>821.604310</td>\n",
       "      <td>116.60</td>\n",
       "      <td>18.25</td>\n",
       "      <td>...</td>\n",
       "      <td>0.856458</td>\n",
       "      <td>1.222631</td>\n",
       "      <td>1.121632</td>\n",
       "      <td>1.107576</td>\n",
       "      <td>1.212794</td>\n",
       "      <td>0.985965</td>\n",
       "      <td>0.991487</td>\n",
       "      <td>1.565422</td>\n",
       "      <td>0.833398</td>\n",
       "      <td>0.601744</td>\n",
       "    </tr>\n",
       "    <tr>\n",
       "      <th>...</th>\n",
       "      <td>...</td>\n",
       "      <td>...</td>\n",
       "      <td>...</td>\n",
       "      <td>...</td>\n",
       "      <td>...</td>\n",
       "      <td>...</td>\n",
       "      <td>...</td>\n",
       "      <td>...</td>\n",
       "      <td>...</td>\n",
       "      <td>...</td>\n",
       "      <td>...</td>\n",
       "      <td>...</td>\n",
       "      <td>...</td>\n",
       "      <td>...</td>\n",
       "      <td>...</td>\n",
       "      <td>...</td>\n",
       "      <td>...</td>\n",
       "      <td>...</td>\n",
       "      <td>...</td>\n",
       "      <td>...</td>\n",
       "      <td>...</td>\n",
       "    </tr>\n",
       "    <tr>\n",
       "      <th>5277</th>\n",
       "      <td>23.186758</td>\n",
       "      <td>350.262051</td>\n",
       "      <td>60</td>\n",
       "      <td>0</td>\n",
       "      <td>0.439575</td>\n",
       "      <td>19</td>\n",
       "      <td>61.756122</td>\n",
       "      <td>821.604310</td>\n",
       "      <td>116.60</td>\n",
       "      <td>18.25</td>\n",
       "      <td>...</td>\n",
       "      <td>0.856458</td>\n",
       "      <td>1.222631</td>\n",
       "      <td>1.121632</td>\n",
       "      <td>1.107576</td>\n",
       "      <td>1.212794</td>\n",
       "      <td>0.985965</td>\n",
       "      <td>0.991487</td>\n",
       "      <td>1.565422</td>\n",
       "      <td>0.833398</td>\n",
       "      <td>0.601744</td>\n",
       "    </tr>\n",
       "    <tr>\n",
       "      <th>5278</th>\n",
       "      <td>23.186758</td>\n",
       "      <td>350.262051</td>\n",
       "      <td>60</td>\n",
       "      <td>0</td>\n",
       "      <td>0.439575</td>\n",
       "      <td>19</td>\n",
       "      <td>61.756122</td>\n",
       "      <td>821.604310</td>\n",
       "      <td>116.60</td>\n",
       "      <td>18.25</td>\n",
       "      <td>...</td>\n",
       "      <td>0.856458</td>\n",
       "      <td>1.222631</td>\n",
       "      <td>1.121632</td>\n",
       "      <td>1.107576</td>\n",
       "      <td>1.212794</td>\n",
       "      <td>0.985965</td>\n",
       "      <td>0.991487</td>\n",
       "      <td>1.565422</td>\n",
       "      <td>0.833398</td>\n",
       "      <td>0.601744</td>\n",
       "    </tr>\n",
       "    <tr>\n",
       "      <th>5279</th>\n",
       "      <td>23.186758</td>\n",
       "      <td>350.262051</td>\n",
       "      <td>60</td>\n",
       "      <td>0</td>\n",
       "      <td>0.439575</td>\n",
       "      <td>19</td>\n",
       "      <td>61.756122</td>\n",
       "      <td>821.604310</td>\n",
       "      <td>116.60</td>\n",
       "      <td>18.25</td>\n",
       "      <td>...</td>\n",
       "      <td>0.856458</td>\n",
       "      <td>1.222631</td>\n",
       "      <td>1.121632</td>\n",
       "      <td>1.107576</td>\n",
       "      <td>1.212794</td>\n",
       "      <td>0.985965</td>\n",
       "      <td>0.991487</td>\n",
       "      <td>1.565422</td>\n",
       "      <td>0.833398</td>\n",
       "      <td>0.601744</td>\n",
       "    </tr>\n",
       "    <tr>\n",
       "      <th>5280</th>\n",
       "      <td>23.186758</td>\n",
       "      <td>350.262051</td>\n",
       "      <td>60</td>\n",
       "      <td>0</td>\n",
       "      <td>0.439575</td>\n",
       "      <td>19</td>\n",
       "      <td>61.756122</td>\n",
       "      <td>821.604310</td>\n",
       "      <td>116.60</td>\n",
       "      <td>18.25</td>\n",
       "      <td>...</td>\n",
       "      <td>0.856458</td>\n",
       "      <td>1.222631</td>\n",
       "      <td>1.121632</td>\n",
       "      <td>1.107576</td>\n",
       "      <td>1.212794</td>\n",
       "      <td>0.985965</td>\n",
       "      <td>0.991487</td>\n",
       "      <td>1.565422</td>\n",
       "      <td>0.833398</td>\n",
       "      <td>0.601744</td>\n",
       "    </tr>\n",
       "    <tr>\n",
       "      <th>5281</th>\n",
       "      <td>68.127341</td>\n",
       "      <td>13.127162</td>\n",
       "      <td>72</td>\n",
       "      <td>61</td>\n",
       "      <td>-0.549207</td>\n",
       "      <td>69</td>\n",
       "      <td>76.213530</td>\n",
       "      <td>1022.759716</td>\n",
       "      <td>118.75</td>\n",
       "      <td>19.10</td>\n",
       "      <td>...</td>\n",
       "      <td>0.848957</td>\n",
       "      <td>0.694922</td>\n",
       "      <td>0.572021</td>\n",
       "      <td>0.566283</td>\n",
       "      <td>0.691981</td>\n",
       "      <td>0.620829</td>\n",
       "      <td>0.594970</td>\n",
       "      <td>0.380092</td>\n",
       "      <td>0.821334</td>\n",
       "      <td>0.974531</td>\n",
       "    </tr>\n",
       "  </tbody>\n",
       "</table>\n",
       "<p>5282 rows × 735 columns</p>\n",
       "</div>"
      ],
      "text/plain": [
       "      tenure_tenure_year_2014_mean  tenure_tenure_year_2014_var  \\\n",
       "0                        68.127341                    13.127162   \n",
       "1                        23.186758                   350.262051   \n",
       "2                        23.186758                   350.262051   \n",
       "3                        23.186758                   350.262051   \n",
       "4                        23.186758                   350.262051   \n",
       "...                            ...                          ...   \n",
       "5277                     23.186758                   350.262051   \n",
       "5278                     23.186758                   350.262051   \n",
       "5279                     23.186758                   350.262051   \n",
       "5280                     23.186758                   350.262051   \n",
       "5281                     68.127341                    13.127162   \n",
       "\n",
       "      tenure_tenure_year_2014_max  tenure_tenure_year_2014_min  \\\n",
       "0                              72                           61   \n",
       "1                              60                            0   \n",
       "2                              60                            0   \n",
       "3                              60                            0   \n",
       "4                              60                            0   \n",
       "...                           ...                          ...   \n",
       "5277                           60                            0   \n",
       "5278                           60                            0   \n",
       "5279                           60                            0   \n",
       "5280                           60                            0   \n",
       "5281                           72                           61   \n",
       "\n",
       "      tenure_tenure_year_2014_skew  tenure_tenure_year_2014_median  \\\n",
       "0                        -0.549207                              69   \n",
       "1                         0.439575                              19   \n",
       "2                         0.439575                              19   \n",
       "3                         0.439575                              19   \n",
       "4                         0.439575                              19   \n",
       "...                            ...                             ...   \n",
       "5277                      0.439575                              19   \n",
       "5278                      0.439575                              19   \n",
       "5279                      0.439575                              19   \n",
       "5280                      0.439575                              19   \n",
       "5281                     -0.549207                              69   \n",
       "\n",
       "      MonthlyCharges_tenure_year_2014_mean  \\\n",
       "0                                76.213530   \n",
       "1                                61.756122   \n",
       "2                                61.756122   \n",
       "3                                61.756122   \n",
       "4                                61.756122   \n",
       "...                                    ...   \n",
       "5277                             61.756122   \n",
       "5278                             61.756122   \n",
       "5279                             61.756122   \n",
       "5280                             61.756122   \n",
       "5281                             76.213530   \n",
       "\n",
       "      MonthlyCharges_tenure_year_2014_var  \\\n",
       "0                             1022.759716   \n",
       "1                              821.604310   \n",
       "2                              821.604310   \n",
       "3                              821.604310   \n",
       "4                              821.604310   \n",
       "...                                   ...   \n",
       "5277                           821.604310   \n",
       "5278                           821.604310   \n",
       "5279                           821.604310   \n",
       "5280                           821.604310   \n",
       "5281                          1022.759716   \n",
       "\n",
       "      MonthlyCharges_tenure_year_2014_max  \\\n",
       "0                                  118.75   \n",
       "1                                  116.60   \n",
       "2                                  116.60   \n",
       "3                                  116.60   \n",
       "4                                  116.60   \n",
       "...                                   ...   \n",
       "5277                               116.60   \n",
       "5278                               116.60   \n",
       "5279                               116.60   \n",
       "5280                               116.60   \n",
       "5281                               118.75   \n",
       "\n",
       "      MonthlyCharges_tenure_year_2014_min  ...  \\\n",
       "0                                   19.10  ...   \n",
       "1                                   18.25  ...   \n",
       "2                                   18.25  ...   \n",
       "3                                   18.25  ...   \n",
       "4                                   18.25  ...   \n",
       "...                                   ...  ...   \n",
       "5277                                18.25  ...   \n",
       "5278                                18.25  ...   \n",
       "5279                                18.25  ...   \n",
       "5280                                18.25  ...   \n",
       "5281                                19.10  ...   \n",
       "\n",
       "      InternetService_cv_tenure_year_2014  OnlineSecurity_cv_tenure_year_2014  \\\n",
       "0                                0.848957                            0.694922   \n",
       "1                                0.856458                            1.222631   \n",
       "2                                0.856458                            1.222631   \n",
       "3                                0.856458                            1.222631   \n",
       "4                                0.856458                            1.222631   \n",
       "...                                   ...                                 ...   \n",
       "5277                             0.856458                            1.222631   \n",
       "5278                             0.856458                            1.222631   \n",
       "5279                             0.856458                            1.222631   \n",
       "5280                             0.856458                            1.222631   \n",
       "5281                             0.848957                            0.694922   \n",
       "\n",
       "      OnlineBackup_cv_tenure_year_2014  DeviceProtection_cv_tenure_year_2014  \\\n",
       "0                             0.572021                              0.566283   \n",
       "1                             1.121632                              1.107576   \n",
       "2                             1.121632                              1.107576   \n",
       "3                             1.121632                              1.107576   \n",
       "4                             1.121632                              1.107576   \n",
       "...                                ...                                   ...   \n",
       "5277                          1.121632                              1.107576   \n",
       "5278                          1.121632                              1.107576   \n",
       "5279                          1.121632                              1.107576   \n",
       "5280                          1.121632                              1.107576   \n",
       "5281                          0.572021                              0.566283   \n",
       "\n",
       "      TechSupport_cv_tenure_year_2014  StreamingTV_cv_tenure_year_2014  \\\n",
       "0                            0.691981                         0.620829   \n",
       "1                            1.212794                         0.985965   \n",
       "2                            1.212794                         0.985965   \n",
       "3                            1.212794                         0.985965   \n",
       "4                            1.212794                         0.985965   \n",
       "...                               ...                              ...   \n",
       "5277                         1.212794                         0.985965   \n",
       "5278                         1.212794                         0.985965   \n",
       "5279                         1.212794                         0.985965   \n",
       "5280                         1.212794                         0.985965   \n",
       "5281                         0.691981                         0.620829   \n",
       "\n",
       "      StreamingMovies_cv_tenure_year_2014  Contract_cv_tenure_year_2014  \\\n",
       "0                                0.594970                      0.380092   \n",
       "1                                0.991487                      1.565422   \n",
       "2                                0.991487                      1.565422   \n",
       "3                                0.991487                      1.565422   \n",
       "4                                0.991487                      1.565422   \n",
       "...                                   ...                           ...   \n",
       "5277                             0.991487                      1.565422   \n",
       "5278                             0.991487                      1.565422   \n",
       "5279                             0.991487                      1.565422   \n",
       "5280                             0.991487                      1.565422   \n",
       "5281                             0.594970                      0.380092   \n",
       "\n",
       "      PaperlessBilling_cv_tenure_year_2014  PaymentMethod_cv_tenure_year_2014  \n",
       "0                                 0.821334                           0.974531  \n",
       "1                                 0.833398                           0.601744  \n",
       "2                                 0.833398                           0.601744  \n",
       "3                                 0.833398                           0.601744  \n",
       "4                                 0.833398                           0.601744  \n",
       "...                                    ...                                ...  \n",
       "5277                              0.833398                           0.601744  \n",
       "5278                              0.833398                           0.601744  \n",
       "5279                              0.833398                           0.601744  \n",
       "5280                              0.833398                           0.601744  \n",
       "5281                              0.821334                           0.974531  \n",
       "\n",
       "[5282 rows x 735 columns]"
      ]
     },
     "execution_count": 145,
     "metadata": {},
     "output_type": "execute_result"
    }
   ],
   "source": [
    "features_train_new[0]"
   ]
  },
  {
   "cell_type": "code",
   "execution_count": 146,
   "id": "668ca35b-695d-4cde-97b4-61fc762d22f9",
   "metadata": {},
   "outputs": [],
   "source": [
    "features_train_new = pd.concat(features_train_new, axis=1)\n",
    "features_test_new = pd.concat(features_test_new, axis=1)"
   ]
  },
  {
   "cell_type": "code",
   "execution_count": 147,
   "id": "87d4ebf2-da97-4d93-ab8b-45d8e9ee9b46",
   "metadata": {},
   "outputs": [
    {
     "data": {
      "text/html": [
       "<div>\n",
       "<style scoped>\n",
       "    .dataframe tbody tr th:only-of-type {\n",
       "        vertical-align: middle;\n",
       "    }\n",
       "\n",
       "    .dataframe tbody tr th {\n",
       "        vertical-align: top;\n",
       "    }\n",
       "\n",
       "    .dataframe thead th {\n",
       "        text-align: right;\n",
       "    }\n",
       "</style>\n",
       "<table border=\"1\" class=\"dataframe\">\n",
       "  <thead>\n",
       "    <tr style=\"text-align: right;\">\n",
       "      <th></th>\n",
       "      <th>tenure_tenure_year_2014_mean</th>\n",
       "      <th>tenure_tenure_year_2014_var</th>\n",
       "      <th>tenure_tenure_year_2014_max</th>\n",
       "      <th>tenure_tenure_year_2014_min</th>\n",
       "      <th>tenure_tenure_year_2014_skew</th>\n",
       "      <th>tenure_tenure_year_2014_median</th>\n",
       "      <th>MonthlyCharges_tenure_year_2014_mean</th>\n",
       "      <th>MonthlyCharges_tenure_year_2014_var</th>\n",
       "      <th>MonthlyCharges_tenure_year_2014_max</th>\n",
       "      <th>MonthlyCharges_tenure_year_2014_min</th>\n",
       "      <th>...</th>\n",
       "      <th>InternetService_cv_tenure_quarter_4</th>\n",
       "      <th>OnlineSecurity_cv_tenure_quarter_4</th>\n",
       "      <th>OnlineBackup_cv_tenure_quarter_4</th>\n",
       "      <th>DeviceProtection_cv_tenure_quarter_4</th>\n",
       "      <th>TechSupport_cv_tenure_quarter_4</th>\n",
       "      <th>StreamingTV_cv_tenure_quarter_4</th>\n",
       "      <th>StreamingMovies_cv_tenure_quarter_4</th>\n",
       "      <th>Contract_cv_tenure_quarter_4</th>\n",
       "      <th>PaperlessBilling_cv_tenure_quarter_4</th>\n",
       "      <th>PaymentMethod_cv_tenure_quarter_4</th>\n",
       "    </tr>\n",
       "  </thead>\n",
       "  <tbody>\n",
       "    <tr>\n",
       "      <th>0</th>\n",
       "      <td>68.127341</td>\n",
       "      <td>13.127162</td>\n",
       "      <td>72</td>\n",
       "      <td>61</td>\n",
       "      <td>-0.549207</td>\n",
       "      <td>69</td>\n",
       "      <td>76.213530</td>\n",
       "      <td>1022.759716</td>\n",
       "      <td>118.75</td>\n",
       "      <td>19.10</td>\n",
       "      <td>...</td>\n",
       "      <td>0.858849</td>\n",
       "      <td>1.015211</td>\n",
       "      <td>0.911021</td>\n",
       "      <td>0.892671</td>\n",
       "      <td>1.001012</td>\n",
       "      <td>0.842990</td>\n",
       "      <td>0.836854</td>\n",
       "      <td>1.041919</td>\n",
       "      <td>0.819885</td>\n",
       "      <td>0.736798</td>\n",
       "    </tr>\n",
       "    <tr>\n",
       "      <th>1</th>\n",
       "      <td>23.186758</td>\n",
       "      <td>350.262051</td>\n",
       "      <td>60</td>\n",
       "      <td>0</td>\n",
       "      <td>0.439575</td>\n",
       "      <td>19</td>\n",
       "      <td>61.756122</td>\n",
       "      <td>821.604310</td>\n",
       "      <td>116.60</td>\n",
       "      <td>18.25</td>\n",
       "      <td>...</td>\n",
       "      <td>0.846682</td>\n",
       "      <td>1.290253</td>\n",
       "      <td>1.186932</td>\n",
       "      <td>1.195498</td>\n",
       "      <td>1.301364</td>\n",
       "      <td>1.050394</td>\n",
       "      <td>1.059107</td>\n",
       "      <td>1.773409</td>\n",
       "      <td>0.855493</td>\n",
       "      <td>0.544229</td>\n",
       "    </tr>\n",
       "    <tr>\n",
       "      <th>2</th>\n",
       "      <td>23.186758</td>\n",
       "      <td>350.262051</td>\n",
       "      <td>60</td>\n",
       "      <td>0</td>\n",
       "      <td>0.439575</td>\n",
       "      <td>19</td>\n",
       "      <td>61.756122</td>\n",
       "      <td>821.604310</td>\n",
       "      <td>116.60</td>\n",
       "      <td>18.25</td>\n",
       "      <td>...</td>\n",
       "      <td>0.858849</td>\n",
       "      <td>1.015211</td>\n",
       "      <td>0.911021</td>\n",
       "      <td>0.892671</td>\n",
       "      <td>1.001012</td>\n",
       "      <td>0.842990</td>\n",
       "      <td>0.836854</td>\n",
       "      <td>1.041919</td>\n",
       "      <td>0.819885</td>\n",
       "      <td>0.736798</td>\n",
       "    </tr>\n",
       "    <tr>\n",
       "      <th>3</th>\n",
       "      <td>23.186758</td>\n",
       "      <td>350.262051</td>\n",
       "      <td>60</td>\n",
       "      <td>0</td>\n",
       "      <td>0.439575</td>\n",
       "      <td>19</td>\n",
       "      <td>61.756122</td>\n",
       "      <td>821.604310</td>\n",
       "      <td>116.60</td>\n",
       "      <td>18.25</td>\n",
       "      <td>...</td>\n",
       "      <td>0.858849</td>\n",
       "      <td>1.015211</td>\n",
       "      <td>0.911021</td>\n",
       "      <td>0.892671</td>\n",
       "      <td>1.001012</td>\n",
       "      <td>0.842990</td>\n",
       "      <td>0.836854</td>\n",
       "      <td>1.041919</td>\n",
       "      <td>0.819885</td>\n",
       "      <td>0.736798</td>\n",
       "    </tr>\n",
       "    <tr>\n",
       "      <th>4</th>\n",
       "      <td>23.186758</td>\n",
       "      <td>350.262051</td>\n",
       "      <td>60</td>\n",
       "      <td>0</td>\n",
       "      <td>0.439575</td>\n",
       "      <td>19</td>\n",
       "      <td>61.756122</td>\n",
       "      <td>821.604310</td>\n",
       "      <td>116.60</td>\n",
       "      <td>18.25</td>\n",
       "      <td>...</td>\n",
       "      <td>0.858849</td>\n",
       "      <td>1.015211</td>\n",
       "      <td>0.911021</td>\n",
       "      <td>0.892671</td>\n",
       "      <td>1.001012</td>\n",
       "      <td>0.842990</td>\n",
       "      <td>0.836854</td>\n",
       "      <td>1.041919</td>\n",
       "      <td>0.819885</td>\n",
       "      <td>0.736798</td>\n",
       "    </tr>\n",
       "  </tbody>\n",
       "</table>\n",
       "<p>5 rows × 16905 columns</p>\n",
       "</div>"
      ],
      "text/plain": [
       "   tenure_tenure_year_2014_mean  tenure_tenure_year_2014_var  \\\n",
       "0                     68.127341                    13.127162   \n",
       "1                     23.186758                   350.262051   \n",
       "2                     23.186758                   350.262051   \n",
       "3                     23.186758                   350.262051   \n",
       "4                     23.186758                   350.262051   \n",
       "\n",
       "   tenure_tenure_year_2014_max  tenure_tenure_year_2014_min  \\\n",
       "0                           72                           61   \n",
       "1                           60                            0   \n",
       "2                           60                            0   \n",
       "3                           60                            0   \n",
       "4                           60                            0   \n",
       "\n",
       "   tenure_tenure_year_2014_skew  tenure_tenure_year_2014_median  \\\n",
       "0                     -0.549207                              69   \n",
       "1                      0.439575                              19   \n",
       "2                      0.439575                              19   \n",
       "3                      0.439575                              19   \n",
       "4                      0.439575                              19   \n",
       "\n",
       "   MonthlyCharges_tenure_year_2014_mean  MonthlyCharges_tenure_year_2014_var  \\\n",
       "0                             76.213530                          1022.759716   \n",
       "1                             61.756122                           821.604310   \n",
       "2                             61.756122                           821.604310   \n",
       "3                             61.756122                           821.604310   \n",
       "4                             61.756122                           821.604310   \n",
       "\n",
       "   MonthlyCharges_tenure_year_2014_max  MonthlyCharges_tenure_year_2014_min  \\\n",
       "0                               118.75                                19.10   \n",
       "1                               116.60                                18.25   \n",
       "2                               116.60                                18.25   \n",
       "3                               116.60                                18.25   \n",
       "4                               116.60                                18.25   \n",
       "\n",
       "   ...  InternetService_cv_tenure_quarter_4  \\\n",
       "0  ...                             0.858849   \n",
       "1  ...                             0.846682   \n",
       "2  ...                             0.858849   \n",
       "3  ...                             0.858849   \n",
       "4  ...                             0.858849   \n",
       "\n",
       "   OnlineSecurity_cv_tenure_quarter_4  OnlineBackup_cv_tenure_quarter_4  \\\n",
       "0                            1.015211                          0.911021   \n",
       "1                            1.290253                          1.186932   \n",
       "2                            1.015211                          0.911021   \n",
       "3                            1.015211                          0.911021   \n",
       "4                            1.015211                          0.911021   \n",
       "\n",
       "   DeviceProtection_cv_tenure_quarter_4  TechSupport_cv_tenure_quarter_4  \\\n",
       "0                              0.892671                         1.001012   \n",
       "1                              1.195498                         1.301364   \n",
       "2                              0.892671                         1.001012   \n",
       "3                              0.892671                         1.001012   \n",
       "4                              0.892671                         1.001012   \n",
       "\n",
       "   StreamingTV_cv_tenure_quarter_4  StreamingMovies_cv_tenure_quarter_4  \\\n",
       "0                         0.842990                             0.836854   \n",
       "1                         1.050394                             1.059107   \n",
       "2                         0.842990                             0.836854   \n",
       "3                         0.842990                             0.836854   \n",
       "4                         0.842990                             0.836854   \n",
       "\n",
       "   Contract_cv_tenure_quarter_4  PaperlessBilling_cv_tenure_quarter_4  \\\n",
       "0                      1.041919                              0.819885   \n",
       "1                      1.773409                              0.855493   \n",
       "2                      1.041919                              0.819885   \n",
       "3                      1.041919                              0.819885   \n",
       "4                      1.041919                              0.819885   \n",
       "\n",
       "   PaymentMethod_cv_tenure_quarter_4  \n",
       "0                           0.736798  \n",
       "1                           0.544229  \n",
       "2                           0.736798  \n",
       "3                           0.736798  \n",
       "4                           0.736798  \n",
       "\n",
       "[5 rows x 16905 columns]"
      ]
     },
     "execution_count": 147,
     "metadata": {},
     "output_type": "execute_result"
    }
   ],
   "source": [
    "features_train_new.head()"
   ]
  },
  {
   "cell_type": "markdown",
   "id": "45f3aaf8-2723-4689-b9f1-2df2649ae41c",
   "metadata": {},
   "source": [
    "能够看出，伴随着带入特征数量的增加，衍生特征呈现指数级增加。接下来进一步检测衍生特征和标签之间的相关性："
   ]
  },
  {
   "cell_type": "code",
   "execution_count": 148,
   "id": "85e1bd08-0c36-4be3-979d-5dea8fedd1ad",
   "metadata": {},
   "outputs": [
    {
     "data": {
      "text/html": [
       "<div>\n",
       "<style scoped>\n",
       "    .dataframe tbody tr th:only-of-type {\n",
       "        vertical-align: middle;\n",
       "    }\n",
       "\n",
       "    .dataframe tbody tr th {\n",
       "        vertical-align: top;\n",
       "    }\n",
       "\n",
       "    .dataframe thead th {\n",
       "        text-align: right;\n",
       "    }\n",
       "</style>\n",
       "<table border=\"1\" class=\"dataframe\">\n",
       "  <thead>\n",
       "    <tr style=\"text-align: right;\">\n",
       "      <th></th>\n",
       "      <th>tenure_tenure_year_2014_mean</th>\n",
       "      <th>tenure_tenure_year_2014_var</th>\n",
       "      <th>tenure_tenure_year_2014_max</th>\n",
       "      <th>tenure_tenure_year_2014_min</th>\n",
       "      <th>tenure_tenure_year_2014_skew</th>\n",
       "      <th>tenure_tenure_year_2014_median</th>\n",
       "      <th>MonthlyCharges_tenure_year_2014_mean</th>\n",
       "      <th>MonthlyCharges_tenure_year_2014_var</th>\n",
       "      <th>MonthlyCharges_tenure_year_2014_max</th>\n",
       "      <th>MonthlyCharges_tenure_year_2014_min</th>\n",
       "      <th>...</th>\n",
       "      <th>OnlineSecurity_cv_tenure_quarter_4</th>\n",
       "      <th>OnlineBackup_cv_tenure_quarter_4</th>\n",
       "      <th>DeviceProtection_cv_tenure_quarter_4</th>\n",
       "      <th>TechSupport_cv_tenure_quarter_4</th>\n",
       "      <th>StreamingTV_cv_tenure_quarter_4</th>\n",
       "      <th>StreamingMovies_cv_tenure_quarter_4</th>\n",
       "      <th>Contract_cv_tenure_quarter_4</th>\n",
       "      <th>PaperlessBilling_cv_tenure_quarter_4</th>\n",
       "      <th>PaymentMethod_cv_tenure_quarter_4</th>\n",
       "      <th>Churn</th>\n",
       "    </tr>\n",
       "  </thead>\n",
       "  <tbody>\n",
       "    <tr>\n",
       "      <th>4067</th>\n",
       "      <td>68.127341</td>\n",
       "      <td>13.127162</td>\n",
       "      <td>72</td>\n",
       "      <td>61</td>\n",
       "      <td>-0.549207</td>\n",
       "      <td>69</td>\n",
       "      <td>76.213530</td>\n",
       "      <td>1022.759716</td>\n",
       "      <td>118.75</td>\n",
       "      <td>19.10</td>\n",
       "      <td>...</td>\n",
       "      <td>1.015211</td>\n",
       "      <td>0.911021</td>\n",
       "      <td>0.892671</td>\n",
       "      <td>1.001012</td>\n",
       "      <td>0.842990</td>\n",
       "      <td>0.836854</td>\n",
       "      <td>1.041919</td>\n",
       "      <td>0.819885</td>\n",
       "      <td>0.736798</td>\n",
       "      <td>0</td>\n",
       "    </tr>\n",
       "    <tr>\n",
       "      <th>3306</th>\n",
       "      <td>23.186758</td>\n",
       "      <td>350.262051</td>\n",
       "      <td>60</td>\n",
       "      <td>0</td>\n",
       "      <td>0.439575</td>\n",
       "      <td>19</td>\n",
       "      <td>61.756122</td>\n",
       "      <td>821.604310</td>\n",
       "      <td>116.60</td>\n",
       "      <td>18.25</td>\n",
       "      <td>...</td>\n",
       "      <td>1.290253</td>\n",
       "      <td>1.186932</td>\n",
       "      <td>1.195498</td>\n",
       "      <td>1.301364</td>\n",
       "      <td>1.050394</td>\n",
       "      <td>1.059107</td>\n",
       "      <td>1.773409</td>\n",
       "      <td>0.855493</td>\n",
       "      <td>0.544229</td>\n",
       "      <td>0</td>\n",
       "    </tr>\n",
       "    <tr>\n",
       "      <th>3391</th>\n",
       "      <td>23.186758</td>\n",
       "      <td>350.262051</td>\n",
       "      <td>60</td>\n",
       "      <td>0</td>\n",
       "      <td>0.439575</td>\n",
       "      <td>19</td>\n",
       "      <td>61.756122</td>\n",
       "      <td>821.604310</td>\n",
       "      <td>116.60</td>\n",
       "      <td>18.25</td>\n",
       "      <td>...</td>\n",
       "      <td>1.015211</td>\n",
       "      <td>0.911021</td>\n",
       "      <td>0.892671</td>\n",
       "      <td>1.001012</td>\n",
       "      <td>0.842990</td>\n",
       "      <td>0.836854</td>\n",
       "      <td>1.041919</td>\n",
       "      <td>0.819885</td>\n",
       "      <td>0.736798</td>\n",
       "      <td>0</td>\n",
       "    </tr>\n",
       "    <tr>\n",
       "      <th>3249</th>\n",
       "      <td>23.186758</td>\n",
       "      <td>350.262051</td>\n",
       "      <td>60</td>\n",
       "      <td>0</td>\n",
       "      <td>0.439575</td>\n",
       "      <td>19</td>\n",
       "      <td>61.756122</td>\n",
       "      <td>821.604310</td>\n",
       "      <td>116.60</td>\n",
       "      <td>18.25</td>\n",
       "      <td>...</td>\n",
       "      <td>1.015211</td>\n",
       "      <td>0.911021</td>\n",
       "      <td>0.892671</td>\n",
       "      <td>1.001012</td>\n",
       "      <td>0.842990</td>\n",
       "      <td>0.836854</td>\n",
       "      <td>1.041919</td>\n",
       "      <td>0.819885</td>\n",
       "      <td>0.736798</td>\n",
       "      <td>0</td>\n",
       "    </tr>\n",
       "    <tr>\n",
       "      <th>2674</th>\n",
       "      <td>23.186758</td>\n",
       "      <td>350.262051</td>\n",
       "      <td>60</td>\n",
       "      <td>0</td>\n",
       "      <td>0.439575</td>\n",
       "      <td>19</td>\n",
       "      <td>61.756122</td>\n",
       "      <td>821.604310</td>\n",
       "      <td>116.60</td>\n",
       "      <td>18.25</td>\n",
       "      <td>...</td>\n",
       "      <td>1.015211</td>\n",
       "      <td>0.911021</td>\n",
       "      <td>0.892671</td>\n",
       "      <td>1.001012</td>\n",
       "      <td>0.842990</td>\n",
       "      <td>0.836854</td>\n",
       "      <td>1.041919</td>\n",
       "      <td>0.819885</td>\n",
       "      <td>0.736798</td>\n",
       "      <td>0</td>\n",
       "    </tr>\n",
       "  </tbody>\n",
       "</table>\n",
       "<p>5 rows × 16906 columns</p>\n",
       "</div>"
      ],
      "text/plain": [
       "      tenure_tenure_year_2014_mean  tenure_tenure_year_2014_var  \\\n",
       "4067                     68.127341                    13.127162   \n",
       "3306                     23.186758                   350.262051   \n",
       "3391                     23.186758                   350.262051   \n",
       "3249                     23.186758                   350.262051   \n",
       "2674                     23.186758                   350.262051   \n",
       "\n",
       "      tenure_tenure_year_2014_max  tenure_tenure_year_2014_min  \\\n",
       "4067                           72                           61   \n",
       "3306                           60                            0   \n",
       "3391                           60                            0   \n",
       "3249                           60                            0   \n",
       "2674                           60                            0   \n",
       "\n",
       "      tenure_tenure_year_2014_skew  tenure_tenure_year_2014_median  \\\n",
       "4067                     -0.549207                              69   \n",
       "3306                      0.439575                              19   \n",
       "3391                      0.439575                              19   \n",
       "3249                      0.439575                              19   \n",
       "2674                      0.439575                              19   \n",
       "\n",
       "      MonthlyCharges_tenure_year_2014_mean  \\\n",
       "4067                             76.213530   \n",
       "3306                             61.756122   \n",
       "3391                             61.756122   \n",
       "3249                             61.756122   \n",
       "2674                             61.756122   \n",
       "\n",
       "      MonthlyCharges_tenure_year_2014_var  \\\n",
       "4067                          1022.759716   \n",
       "3306                           821.604310   \n",
       "3391                           821.604310   \n",
       "3249                           821.604310   \n",
       "2674                           821.604310   \n",
       "\n",
       "      MonthlyCharges_tenure_year_2014_max  \\\n",
       "4067                               118.75   \n",
       "3306                               116.60   \n",
       "3391                               116.60   \n",
       "3249                               116.60   \n",
       "2674                               116.60   \n",
       "\n",
       "      MonthlyCharges_tenure_year_2014_min  ...  \\\n",
       "4067                                19.10  ...   \n",
       "3306                                18.25  ...   \n",
       "3391                                18.25  ...   \n",
       "3249                                18.25  ...   \n",
       "2674                                18.25  ...   \n",
       "\n",
       "      OnlineSecurity_cv_tenure_quarter_4  OnlineBackup_cv_tenure_quarter_4  \\\n",
       "4067                            1.015211                          0.911021   \n",
       "3306                            1.290253                          1.186932   \n",
       "3391                            1.015211                          0.911021   \n",
       "3249                            1.015211                          0.911021   \n",
       "2674                            1.015211                          0.911021   \n",
       "\n",
       "      DeviceProtection_cv_tenure_quarter_4  TechSupport_cv_tenure_quarter_4  \\\n",
       "4067                              0.892671                         1.001012   \n",
       "3306                              1.195498                         1.301364   \n",
       "3391                              0.892671                         1.001012   \n",
       "3249                              0.892671                         1.001012   \n",
       "2674                              0.892671                         1.001012   \n",
       "\n",
       "      StreamingTV_cv_tenure_quarter_4  StreamingMovies_cv_tenure_quarter_4  \\\n",
       "4067                         0.842990                             0.836854   \n",
       "3306                         1.050394                             1.059107   \n",
       "3391                         0.842990                             0.836854   \n",
       "3249                         0.842990                             0.836854   \n",
       "2674                         0.842990                             0.836854   \n",
       "\n",
       "      Contract_cv_tenure_quarter_4  PaperlessBilling_cv_tenure_quarter_4  \\\n",
       "4067                      1.041919                              0.819885   \n",
       "3306                      1.773409                              0.855493   \n",
       "3391                      1.041919                              0.819885   \n",
       "3249                      1.041919                              0.819885   \n",
       "2674                      1.041919                              0.819885   \n",
       "\n",
       "      PaymentMethod_cv_tenure_quarter_4  Churn  \n",
       "4067                           0.736798      0  \n",
       "3306                           0.544229      0  \n",
       "3391                           0.736798      0  \n",
       "3249                           0.736798      0  \n",
       "2674                           0.736798      0  \n",
       "\n",
       "[5 rows x 16906 columns]"
      ]
     },
     "execution_count": 148,
     "metadata": {},
     "output_type": "execute_result"
    }
   ],
   "source": [
    "# 修改index\n",
    "features_train_new.index = X_train.index\n",
    "\n",
    "# 拼接衍生特征与标签\n",
    "df_temp = pd.concat([features_train_new, y_train], axis=1)\n",
    "\n",
    "# 查看拼接后的df\n",
    "df_temp.head()"
   ]
  },
  {
   "cell_type": "markdown",
   "id": "e666de40-6f9c-45bd-a256-1fb85857b675",
   "metadata": {},
   "source": [
    "此处增加了23个二分类特征，衍生特征增加了一万一千余条。"
   ]
  },
  {
   "cell_type": "markdown",
   "id": "e5330729-3817-44e1-b9c1-07cb35fa7fec",
   "metadata": {},
   "source": [
    "&emsp;&emsp;接下来计算相关系数，由于带入特征有所增加，采用.corr方法进行两两变量相关系数将耗费大量的时间，由于我们仅需要各特征和标签之间的相关系数结果，因此可以通过如下方式进行计算："
   ]
  },
  {
   "cell_type": "code",
   "execution_count": 149,
   "id": "1cc1347d-8659-4bd3-997e-78d242b34f5e",
   "metadata": {},
   "outputs": [
    {
     "name": "stderr",
     "output_type": "stream",
     "text": [
      "C:\\Users\\vdmion\\anaconda3\\lib\\site-packages\\numpy\\lib\\function_base.py:2642: RuntimeWarning: invalid value encountered in true_divide\n",
      "  c /= stddev[:, None]\n",
      "C:\\Users\\vdmion\\anaconda3\\lib\\site-packages\\numpy\\lib\\function_base.py:2643: RuntimeWarning: invalid value encountered in true_divide\n",
      "  c /= stddev[None, :]\n"
     ]
    }
   ],
   "source": [
    "df_corr = pd.Series(dtype=np.float64)\n",
    "\n",
    "for col in df_temp:\n",
    "    corr = np.corrcoef(df_temp[col], df_temp['Churn'])[0, 1]\n",
    "    s = pd.Series(corr, index=[col])\n",
    "    df_corr = df_corr.append(s)"
   ]
  },
  {
   "cell_type": "code",
   "execution_count": 150,
   "id": "5cd32084-c3e2-4abc-81ac-f7fe17032e4c",
   "metadata": {},
   "outputs": [
    {
     "data": {
      "text/plain": [
       "tenure_tenure_year_2014_mean           -0.227663\n",
       "tenure_tenure_year_2014_var             0.227663\n",
       "tenure_tenure_year_2014_max            -0.227663\n",
       "tenure_tenure_year_2014_min            -0.227663\n",
       "tenure_tenure_year_2014_skew            0.227663\n",
       "                                          ...   \n",
       "StreamingMovies_cv_tenure_quarter_4     0.201279\n",
       "Contract_cv_tenure_quarter_4            0.201279\n",
       "PaperlessBilling_cv_tenure_quarter_4    0.201279\n",
       "PaymentMethod_cv_tenure_quarter_4      -0.201279\n",
       "Churn                                   1.000000\n",
       "Length: 16906, dtype: float64"
      ]
     },
     "execution_count": 150,
     "metadata": {},
     "output_type": "execute_result"
    }
   ],
   "source": [
    "df_corr"
   ]
  },
  {
   "cell_type": "code",
   "execution_count": 151,
   "id": "c00b6973-be31-4255-9e55-32b704fbbf3e",
   "metadata": {},
   "outputs": [
    {
     "data": {
      "text/plain": [
       "Churn                                                            1.000000\n",
       "tenure_month_6_norm_tenure_year_2019                             0.320558\n",
       "tenure_tenure_year_2019_q2                                       0.320558\n",
       "StreamingMovies_tenure_year_2019_var                             0.320558\n",
       "MonthlyCharges_tenure_year_2019_mean                             0.320558\n",
       "tenure_year_2018_tenure_year_2019_var                            0.320558\n",
       "PaperlessBilling_cv_tenure_year_2019                             0.320558\n",
       "TotalCharges_tenure_year_2019_max                                0.320558\n",
       "TotalCharges_tenure_year_2019_var                                0.320558\n",
       "tenure_month_2_norm_tenure_year_2019                             0.320558\n",
       "tenure_month_8_norm_tenure_year_2019                             0.320558\n",
       "DeviceProtection_cv_tenure_year_2019                             0.320558\n",
       "tenure_month_9_tenure_year_2019_var                              0.320558\n",
       "MonthlyCharges_tenure_year_2019_min                              0.320558\n",
       "tenure_quarter_4_dive1_tenure_quarter_4_tenure_year_2019_mean    0.320558\n",
       "tenure_year_2020_cv_tenure_year_2019                             0.320558\n",
       "OnlineSecurity_minus2_OnlineSecurity_tenure_year_2019_mean       0.320558\n",
       "OnlineSecurity_minus1_OnlineSecurity_tenure_year_2019_mean       0.320558\n",
       "MultipleLines_cv_tenure_year_2019                                0.320558\n",
       "TotalCharges_tenure_year_2019_q2                                 0.320558\n",
       "dtype: float64"
      ]
     },
     "execution_count": 151,
     "metadata": {},
     "output_type": "execute_result"
    }
   ],
   "source": [
    "# 取相关系数绝对值最大的20个特征进行观察\n",
    "np.abs(df_corr).sort_values(ascending = False)[: 20]"
   ]
  },
  {
   "cell_type": "code",
   "execution_count": 152,
   "id": "a6c21fef-2831-4adc-8205-7844f9c68c8d",
   "metadata": {},
   "outputs": [
    {
     "data": {
      "text/plain": [
       "TechSupport_tenure_year_2014_var                                  0.227663\n",
       "StreamingMovies_dive1_StreamingMovies_tenure_year_2014_mean       0.227663\n",
       "TotalCharges_tenure_year_2014_min                                 0.227663\n",
       "PhoneService_mag2_tenure_year_2014                                0.227663\n",
       "InternetService_tenure_year_2014_mean                             0.227663\n",
       "tenure_quarter_3_minus1_tenure_quarter_3_tenure_year_2014_mean    0.227663\n",
       "tenure_month_3_cv_tenure_year_2014                                0.227663\n",
       "tenure_quarter_3_minus2_tenure_quarter_3_tenure_year_2014_mean    0.227663\n",
       "PhoneService_tenure_year_2014_var                                 0.227663\n",
       "PhoneService_norm_tenure_year_2014                                0.227663\n",
       "PaperlessBilling_mag2_tenure_year_2014                            0.227663\n",
       "PaymentMethod_norm_tenure_year_2014                               0.227663\n",
       "tenure_month_9_tenure_year_2014_var                               0.227663\n",
       "tenure_year_2019_cv_tenure_year_2014                              0.227663\n",
       "tenure_tenure_year_2014_skew                                      0.227663\n",
       "Contract_tenure_year_2014_var                                     0.227663\n",
       "tenure_month_6_dive1_tenure_month_6_tenure_year_2014_mean         0.227663\n",
       "tenure_month_9_norm_tenure_year_2014                              0.227663\n",
       "tenure_year_2018_cv_tenure_year_2014                              0.227663\n",
       "tenure_month_10_minus1_tenure_month_10_tenure_year_2014_mean      0.227663\n",
       "dtype: float64"
      ]
     },
     "execution_count": 152,
     "metadata": {},
     "output_type": "execute_result"
    }
   ],
   "source": [
    "np.abs(df_corr).sort_values(ascending = False)[500: 520]"
   ]
  },
  {
   "cell_type": "markdown",
   "id": "a9166656-4077-473a-bf20-2c5a700a84ac",
   "metadata": {},
   "source": [
    "能够发现，原本就重要的时序衍生特征，经过分组统计衍生后仍然创造了很多重要特征，并且衍生特征和原始特征相关系数较为接近："
   ]
  },
  {
   "cell_type": "markdown",
   "id": "c10dd408-3a54-429e-a871-d4c2f2dde076",
   "metadata": {},
   "source": [
    "| 原始字段 | 相关系数 |\n",
    "| ------ | ------ |\n",
    "| tenure_year_2019 | 0.320558 |\n",
    "| tenure_year_2014 | -0.227663 |"
   ]
  },
  {
   "cell_type": "markdown",
   "id": "abc3a28a",
   "metadata": {},
   "source": [
    "#### 5.3 多变量分组统计"
   ]
  },
  {
   "cell_type": "markdown",
   "id": "35463842",
   "metadata": {},
   "source": [
    "&emsp;&emsp;当然，在进行分组统计特征衍生的过程中，KeyCol不仅可以是原始变量，也可以是经过交叉组合后的变量，并且根据分组统计特征衍生实际上是在强化原始特征这一基本判断，我们仅需挑选那些重要的双变量甚至是三变量的交叉组合衍生特征进行分组统计衍生即可。"
   ]
  },
  {
   "cell_type": "markdown",
   "id": "3fcb466c-3699-4737-bc74-205619952b9d",
   "metadata": {},
   "source": [
    "- 双变量交叉组合作为KeyCol"
   ]
  },
  {
   "cell_type": "markdown",
   "id": "9bdce8d9-ebf5-4345-8858-403e081ed1ee",
   "metadata": {},
   "source": [
    "&emsp;&emsp;首先，我们挑选包括时序衍生特征在内的相关性最强的五个双变量交叉组合特征："
   ]
  },
  {
   "cell_type": "code",
   "execution_count": 153,
   "id": "131b6d62-4605-4e88-a90a-de6d8bdb2203",
   "metadata": {},
   "outputs": [
    {
     "name": "stdout",
     "output_type": "stream",
     "text": [
      "['OnlineSecurity&Contract_0.0&0.0', 'TechSupport&Contract_0.0&0.0', 'InternetService&Contract_1.0&0.0', 'Contract&tenure_year_2014_0.0&0.0', 'Contract&tenure_year_2020_0.0&0.0']\n"
     ]
    }
   ],
   "source": [
    "# 调整index\n",
    "X_train_seq.index = X_train_OE.index\n",
    "X_test_seq.index = X_test_OE.index\n",
    "\n",
    "# 拼接数据集\n",
    "train_temp = pd.concat([X_train_OE[category_cols], X_train_seq], axis=1)\n",
    "test_temp = pd.concat([X_test_OE[category_cols], X_test_seq], axis=1)\n",
    "\n",
    "# 双变量组合特征衍生\n",
    "features_train_new, features_test_new, colNames_train_new, colNames_test_new = Cross_Combination(list(train_temp.columns), \n",
    "                                                                                                 train_temp, \n",
    "                                                                                                 test_temp)\n",
    "\n",
    "# 组合标签\n",
    "features_train_new.index = X_train.index\n",
    "features_test_new.index = X_test.index\n",
    "df_temp = pd.concat([features_train_new, y_train], axis=1)\n",
    "\n",
    "# 挑选最重要的5个衍生特征\n",
    "df_corr = df_temp.corr()['Churn'].sort_values(ascending = False)\n",
    "new_col = list(np.abs(df_corr).sort_values(ascending = False)[1: 6].index)\n",
    "print(new_col)\n",
    "\n",
    "# 创建对应df\n",
    "train_new_BC = features_train_new[new_col]\n",
    "test_new_BC = features_test_new[new_col]"
   ]
  },
  {
   "cell_type": "code",
   "execution_count": 154,
   "id": "8205c6f7-f9f9-415c-93b0-a0740326d05a",
   "metadata": {},
   "outputs": [
    {
     "data": {
      "text/html": [
       "<div>\n",
       "<style scoped>\n",
       "    .dataframe tbody tr th:only-of-type {\n",
       "        vertical-align: middle;\n",
       "    }\n",
       "\n",
       "    .dataframe tbody tr th {\n",
       "        vertical-align: top;\n",
       "    }\n",
       "\n",
       "    .dataframe thead th {\n",
       "        text-align: right;\n",
       "    }\n",
       "</style>\n",
       "<table border=\"1\" class=\"dataframe\">\n",
       "  <thead>\n",
       "    <tr style=\"text-align: right;\">\n",
       "      <th></th>\n",
       "      <th>OnlineSecurity&amp;Contract_0.0&amp;0.0</th>\n",
       "      <th>TechSupport&amp;Contract_0.0&amp;0.0</th>\n",
       "      <th>InternetService&amp;Contract_1.0&amp;0.0</th>\n",
       "      <th>Contract&amp;tenure_year_2014_0.0&amp;0.0</th>\n",
       "      <th>Contract&amp;tenure_year_2020_0.0&amp;0.0</th>\n",
       "    </tr>\n",
       "  </thead>\n",
       "  <tbody>\n",
       "    <tr>\n",
       "      <th>4067</th>\n",
       "      <td>0.0</td>\n",
       "      <td>0.0</td>\n",
       "      <td>0.0</td>\n",
       "      <td>0.0</td>\n",
       "      <td>0.0</td>\n",
       "    </tr>\n",
       "    <tr>\n",
       "      <th>3306</th>\n",
       "      <td>1.0</td>\n",
       "      <td>0.0</td>\n",
       "      <td>1.0</td>\n",
       "      <td>1.0</td>\n",
       "      <td>1.0</td>\n",
       "    </tr>\n",
       "    <tr>\n",
       "      <th>3391</th>\n",
       "      <td>0.0</td>\n",
       "      <td>0.0</td>\n",
       "      <td>0.0</td>\n",
       "      <td>1.0</td>\n",
       "      <td>1.0</td>\n",
       "    </tr>\n",
       "    <tr>\n",
       "      <th>3249</th>\n",
       "      <td>1.0</td>\n",
       "      <td>1.0</td>\n",
       "      <td>0.0</td>\n",
       "      <td>1.0</td>\n",
       "      <td>1.0</td>\n",
       "    </tr>\n",
       "    <tr>\n",
       "      <th>2674</th>\n",
       "      <td>0.0</td>\n",
       "      <td>0.0</td>\n",
       "      <td>0.0</td>\n",
       "      <td>1.0</td>\n",
       "      <td>1.0</td>\n",
       "    </tr>\n",
       "  </tbody>\n",
       "</table>\n",
       "</div>"
      ],
      "text/plain": [
       "      OnlineSecurity&Contract_0.0&0.0  TechSupport&Contract_0.0&0.0  \\\n",
       "4067                              0.0                           0.0   \n",
       "3306                              1.0                           0.0   \n",
       "3391                              0.0                           0.0   \n",
       "3249                              1.0                           1.0   \n",
       "2674                              0.0                           0.0   \n",
       "\n",
       "      InternetService&Contract_1.0&0.0  Contract&tenure_year_2014_0.0&0.0  \\\n",
       "4067                               0.0                                0.0   \n",
       "3306                               1.0                                1.0   \n",
       "3391                               0.0                                1.0   \n",
       "3249                               0.0                                1.0   \n",
       "2674                               0.0                                1.0   \n",
       "\n",
       "      Contract&tenure_year_2020_0.0&0.0  \n",
       "4067                                0.0  \n",
       "3306                                1.0  \n",
       "3391                                1.0  \n",
       "3249                                1.0  \n",
       "2674                                1.0  "
      ]
     },
     "execution_count": 154,
     "metadata": {},
     "output_type": "execute_result"
    }
   ],
   "source": [
    "train_new_BC.head()"
   ]
  },
  {
   "cell_type": "markdown",
   "id": "260a3d4e-588e-4b3c-86e5-c066e913a199",
   "metadata": {},
   "source": [
    "带入进行分组统计特征衍生，此处为了减少计算量，只带入原始特征且进行非extension的分组统计："
   ]
  },
  {
   "cell_type": "code",
   "execution_count": 155,
   "id": "e44409ab-e186-4bb0-9446-cde4945dffde",
   "metadata": {
    "tags": []
   },
   "outputs": [
    {
     "name": "stdout",
     "output_type": "stream",
     "text": [
      "['OnlineSecurity&Contract_0.0&0.0', 'TechSupport&Contract_0.0&0.0', 'InternetService&Contract_1.0&0.0', 'Contract&tenure_year_2014_0.0&0.0', 'Contract&tenure_year_2020_0.0&0.0']\n",
      "(5282, 840)\n",
      "(1761, 840)\n"
     ]
    }
   ],
   "source": [
    "# 合并数据集\n",
    "train_temp = pd.concat([X_train_OE, train_new_BC], axis=1)\n",
    "test_temp = pd.concat([X_test_OE, test_new_BC], axis=1)\n",
    "\n",
    "# 包括时序衍生变量在内的所有离散变量名\n",
    "cat_temp = list(train_new_BC.columns).copy()\n",
    "print(cat_temp)\n",
    "\n",
    "# 创建容器\n",
    "col_temp = cat_temp.copy()\n",
    "colNames_train_new = []\n",
    "colNames_test_new = []\n",
    "features_train_new = []\n",
    "features_test_new = []\n",
    "\n",
    "for i in range(len(col_temp)):\n",
    "    keyCol = col_temp.pop(i)\n",
    "    features_train1, features_test1, colNames_train, colNames_test = Group_Statistics(keyCol,\n",
    "                                                                                      train_temp,\n",
    "                                                                                      test_temp,\n",
    "                                                                                      col_num=numeric_cols,\n",
    "                                                                                      col_cat=category_cols)\n",
    "    \n",
    "    colNames_train_new.extend(colNames_train)\n",
    "    colNames_test_new.extend(colNames_test)\n",
    "    features_train_new.append(features_train1)\n",
    "    features_test_new.append(features_test1)\n",
    "    \n",
    "    col_temp = cat_temp.copy()\n",
    "    \n",
    "# 合并数据集\n",
    "features_train_new = pd.concat(features_train_new, axis=1)\n",
    "features_test_new = pd.concat(features_test_new, axis=1)\n",
    "\n",
    "# 查看衍生特征规模\n",
    "print(features_train_new.shape)\n",
    "print(features_test_new.shape)"
   ]
  },
  {
   "cell_type": "markdown",
   "id": "e94e4871-ad17-4556-abf5-0003383220ef",
   "metadata": {},
   "source": [
    "接下来进行相关系数计算："
   ]
  },
  {
   "cell_type": "code",
   "execution_count": 156,
   "id": "90565667-c653-4d57-803f-4b594fe9eda3",
   "metadata": {},
   "outputs": [
    {
     "name": "stderr",
     "output_type": "stream",
     "text": [
      "C:\\Users\\vdmion\\anaconda3\\lib\\site-packages\\numpy\\lib\\function_base.py:2642: RuntimeWarning: invalid value encountered in true_divide\n",
      "  c /= stddev[:, None]\n",
      "C:\\Users\\vdmion\\anaconda3\\lib\\site-packages\\numpy\\lib\\function_base.py:2643: RuntimeWarning: invalid value encountered in true_divide\n",
      "  c /= stddev[None, :]\n"
     ]
    }
   ],
   "source": [
    "# 修改index\n",
    "features_train_new.index = X_train.index\n",
    "\n",
    "# 拼接衍生特征与标签\n",
    "df_temp = pd.concat([features_train_new, y_train], axis=1)\n",
    "\n",
    "# 计算相关系数\n",
    "df_corr = pd.Series(dtype=np.float64)\n",
    "\n",
    "for col in df_temp:\n",
    "    corr = np.corrcoef(df_temp[col], df_temp['Churn'])[0, 1]\n",
    "    s = pd.Series(corr, index=[col])\n",
    "    df_corr = df_corr.append(s)"
   ]
  },
  {
   "cell_type": "code",
   "execution_count": 157,
   "id": "7591355d-43cb-4bca-b390-a1c9a348df26",
   "metadata": {},
   "outputs": [
    {
     "data": {
      "text/plain": [
       "Churn                                                    1.000000\n",
       "TotalCharges_OnlineSecurity&Contract_0.0&0.0_min         0.441598\n",
       "StreamingTV_OnlineSecurity&Contract_0.0&0.0_var          0.441598\n",
       "MonthlyCharges_OnlineSecurity&Contract_0.0&0.0_q1        0.441598\n",
       "TechSupport_OnlineSecurity&Contract_0.0&0.0_mean         0.441598\n",
       "InternetService_OnlineSecurity&Contract_0.0&0.0_mean     0.441598\n",
       "OnlineSecurity_OnlineSecurity&Contract_0.0&0.0_var       0.441598\n",
       "MonthlyCharges_OnlineSecurity&Contract_0.0&0.0_median    0.441598\n",
       "MonthlyCharges_OnlineSecurity&Contract_0.0&0.0_var       0.441598\n",
       "MonthlyCharges_OnlineSecurity&Contract_0.0&0.0_skew      0.441598\n",
       "TotalCharges_OnlineSecurity&Contract_0.0&0.0_q2          0.441598\n",
       "StreamingTV_OnlineSecurity&Contract_0.0&0.0_mean         0.441598\n",
       "Contract_OnlineSecurity&Contract_0.0&0.0_var             0.441598\n",
       "StreamingMovies_OnlineSecurity&Contract_0.0&0.0_mean     0.441598\n",
       "OnlineBackup_OnlineSecurity&Contract_0.0&0.0_mean        0.441598\n",
       "gender_OnlineSecurity&Contract_0.0&0.0_mean              0.441598\n",
       "Contract_OnlineSecurity&Contract_0.0&0.0_mean            0.441598\n",
       "DeviceProtection_OnlineSecurity&Contract_0.0&0.0_var     0.441598\n",
       "OnlineBackup_OnlineSecurity&Contract_0.0&0.0_var         0.441598\n",
       "MultipleLines_OnlineSecurity&Contract_0.0&0.0_var        0.441598\n",
       "dtype: float64"
      ]
     },
     "execution_count": 157,
     "metadata": {},
     "output_type": "execute_result"
    }
   ],
   "source": [
    "# 取相关系数绝对值最大的20个特征进行观察\n",
    "np.abs(df_corr).sort_values(ascending = False)[: 20]"
   ]
  },
  {
   "cell_type": "markdown",
   "id": "893201f8-fe59-4376-84b2-4af4da09a548",
   "metadata": {},
   "source": [
    "能够看出来，衍生特征中相关系数的最高的几个特征的keyCol都是相关系数最高的几个双变量交叉组合的结果，并且相关性和KeyCol原始变量相关性较为接近，同时需要注意的是，此时不同衍生特征的相关系数表现出了高度相似性，其原因也是因为彼此不同取值的分布一致。"
   ]
  },
  {
   "cell_type": "markdown",
   "id": "4b60c363-dd69-485f-bb4b-94df042a4e84",
   "metadata": {},
   "source": [
    "&emsp;&emsp;另外需要注意的是，由于上述特征衍生是围绕自然数编码后的特征进行的衍生，因此如果要进一步判断每一个衍生特征具体含义，可以通过如下方式查看："
   ]
  },
  {
   "cell_type": "code",
   "execution_count": 158,
   "id": "f6ef4dca-2305-4ab4-a960-73bb8d6d4153",
   "metadata": {},
   "outputs": [
    {
     "data": {
      "text/plain": [
       "Index(['gender', 'SeniorCitizen', 'Partner', 'Dependents', 'PhoneService',\n",
       "       'MultipleLines', 'InternetService', 'OnlineSecurity', 'OnlineBackup',\n",
       "       'DeviceProtection', 'TechSupport', 'StreamingTV', 'StreamingMovies',\n",
       "       'Contract', 'PaperlessBilling', 'PaymentMethod', 'tenure',\n",
       "       'MonthlyCharges', 'TotalCharges'],\n",
       "      dtype='object')"
      ]
     },
     "execution_count": 158,
     "metadata": {},
     "output_type": "execute_result"
    }
   ],
   "source": [
    "X_train_OE.columns"
   ]
  },
  {
   "cell_type": "code",
   "execution_count": 159,
   "id": "29e3788a-4023-4916-9c53-5e1e7d042df8",
   "metadata": {},
   "outputs": [
    {
     "data": {
      "text/plain": [
       "[array(['Female', 'Male'], dtype=object),\n",
       " array([0, 1], dtype=int64),\n",
       " array(['No', 'Yes'], dtype=object),\n",
       " array(['No', 'Yes'], dtype=object),\n",
       " array(['No', 'Yes'], dtype=object),\n",
       " array(['No', 'No phone service', 'Yes'], dtype=object),\n",
       " array(['DSL', 'Fiber optic', 'No'], dtype=object),\n",
       " array(['No', 'No internet service', 'Yes'], dtype=object),\n",
       " array(['No', 'No internet service', 'Yes'], dtype=object),\n",
       " array(['No', 'No internet service', 'Yes'], dtype=object),\n",
       " array(['No', 'No internet service', 'Yes'], dtype=object),\n",
       " array(['No', 'No internet service', 'Yes'], dtype=object),\n",
       " array(['No', 'No internet service', 'Yes'], dtype=object),\n",
       " array(['Month-to-month', 'One year', 'Two year'], dtype=object),\n",
       " array(['No', 'Yes'], dtype=object),\n",
       " array(['Bank transfer (automatic)', 'Credit card (automatic)',\n",
       "        'Electronic check', 'Mailed check'], dtype=object)]"
      ]
     },
     "execution_count": 159,
     "metadata": {},
     "output_type": "execute_result"
    }
   ],
   "source": [
    "ord_enc.categories_"
   ]
  },
  {
   "cell_type": "code",
   "execution_count": 160,
   "id": "66ed49da-55e9-44b9-a81b-c60a6788de4a",
   "metadata": {},
   "outputs": [
    {
     "data": {
      "text/plain": [
       "'OnlineSecurity'"
      ]
     },
     "execution_count": 160,
     "metadata": {},
     "output_type": "execute_result"
    }
   ],
   "source": [
    "X_train_OE.columns[7]"
   ]
  },
  {
   "cell_type": "code",
   "execution_count": 161,
   "id": "102fcda2-598c-4670-aa5d-10b951812504",
   "metadata": {},
   "outputs": [
    {
     "data": {
      "text/plain": [
       "array(['No', 'No internet service', 'Yes'], dtype=object)"
      ]
     },
     "execution_count": 161,
     "metadata": {},
     "output_type": "execute_result"
    }
   ],
   "source": [
    "ord_enc.categories_[7]"
   ]
  },
  {
   "cell_type": "markdown",
   "id": "00ad8cfd-2dc6-4459-83c1-5d85dd10bb9a",
   "metadata": {},
   "source": [
    "那么第一个特征：TotalCharges_OnlineSecurity&Contract_0.0&0.0_min所代表的含义就是总消费金额在OnlineSecurity为No且Contract为Month-to-month情况下，进行最小值统计进行的特征衍生。当然，在大多数情况下，我们并不需要深究每个特征的具体含义。"
   ]
  },
  {
   "cell_type": "markdown",
   "id": "877eb809-690b-44f5-87f4-7c9cc0259487",
   "metadata": {},
   "source": [
    "- 多变量交叉组合作为KeyCol"
   ]
  },
  {
   "cell_type": "markdown",
   "id": "24ca92de-8002-40e4-a5ce-cb1f0649b4e7",
   "metadata": {},
   "source": [
    "&emsp;&emsp;当然，我们也可以使用分组统计特征衍生增强多变量交叉组合衍生出来的重要特征。和此前一样，此处采用'OnlineSecurity'、'Contract'、'TechSupport'、'tenure_year_2014'、'tenure_year_2019'及'tenure_year_2020'三三组合的衍生特征作为KeyCol，并采用非extension的形式进行特征衍生。"
   ]
  },
  {
   "cell_type": "markdown",
   "id": "507f283f-dbfd-4dc6-805d-1fae2fddaa0f",
   "metadata": {},
   "source": [
    "&emsp;&emsp;该过程会更加复杂，首先需要进行KeyCol的挑选："
   ]
  },
  {
   "cell_type": "code",
   "execution_count": 162,
   "id": "90a24fa0-6339-4987-a76b-a09ae57dd833",
   "metadata": {},
   "outputs": [],
   "source": [
    "col1 = ['OnlineSecurity', 'Contract', 'TechSupport']\n",
    "col2 = ['tenure_year_2014', 'tenure_year_2019', 'tenure_year_2020']\n",
    "cl = col1 + col2"
   ]
  },
  {
   "cell_type": "code",
   "execution_count": 163,
   "id": "a7b1e820-8895-4934-87d2-84b21b25d1aa",
   "metadata": {},
   "outputs": [
    {
     "name": "stdout",
     "output_type": "stream",
     "text": [
      "(5282, 22)\n",
      "(1761, 22)\n",
      "(5282, 225)\n",
      "(1761, 225)\n",
      "['OnlineSecurity&Contract&tenure_year_2014_0.0&0.0&0.0', 'OnlineSecurity&Contract&tenure_year_2020_0.0&0.0&0.0', 'OnlineSecurity&Contract&TechSupport_0.0&0.0&0.0', 'Contract&TechSupport&tenure_year_2014_0.0&0.0&0.0', 'Contract&TechSupport&tenure_year_2020_0.0&0.0&0.0']\n"
     ]
    }
   ],
   "source": [
    "# 拼接数据集\n",
    "train_temp = pd.concat([X_train_OE, X_train_seq[col2]], axis=1)\n",
    "test_temp = pd.concat([X_test_OE, X_test_seq[col2]], axis=1)\n",
    "print(train_temp.shape)\n",
    "print(test_temp.shape)\n",
    "\n",
    "# 创建容器\n",
    "col_temp = []\n",
    "colNames_train_new = []\n",
    "colNames_test_new = []\n",
    "features_train_new = []\n",
    "features_test_new = []\n",
    "\n",
    "# 多次循环、遍历三三组合\n",
    "for i in range(n):\n",
    "    for j in range(i+1, n):\n",
    "        for k in range(j+1, n):\n",
    "            col_temp.append(cl[i])\n",
    "            col_temp.append(cl[j])\n",
    "            col_temp.append(cl[k])\n",
    "            features_train1, features_test1, colNames_train, colNames_test = Cross_Combination(col_temp, \n",
    "                                                                                               train_temp, \n",
    "                                                                                               test_temp, \n",
    "                                                                                               multi=True)\n",
    "            \n",
    "            colNames_train_new.extend(colNames_train)\n",
    "            colNames_test_new.extend(colNames_test)\n",
    "            features_train_new.append(features_train1)\n",
    "            features_test_new.append(features_test1)\n",
    "            \n",
    "            col_temp = []\n",
    "\n",
    "# 创建三变量交叉组合衍生数据集            \n",
    "features_train_new = pd.concat(features_train_new, axis=1)\n",
    "features_test_new = pd.concat(features_test_new, axis=1)\n",
    "\n",
    "# 查看衍生数据集规模\n",
    "print(features_train_new.shape)\n",
    "print(features_test_new.shape)\n",
    "\n",
    "# 组合标签\n",
    "features_train_new.index = X_train.index\n",
    "features_test_new.index = X_test.index\n",
    "df_temp = pd.concat([features_train_new, y_train], axis=1)\n",
    "\n",
    "# 挑选最重要的5个衍生特征\n",
    "df_corr = df_temp.corr()['Churn'].sort_values(ascending = False)\n",
    "new_col = list(np.abs(df_corr).sort_values(ascending = False)[1: 6].index)\n",
    "print(new_col)\n",
    "\n",
    "# 创建对应df\n",
    "train_new_MC = features_train_new[new_col]\n",
    "test_new_MC = features_test_new[new_col]"
   ]
  },
  {
   "cell_type": "markdown",
   "id": "50f69b92-a4e1-45cb-b137-27138e81b9f7",
   "metadata": {},
   "source": [
    "接下来进行分组统计汇总："
   ]
  },
  {
   "cell_type": "code",
   "execution_count": 164,
   "id": "a24505d8-b1ce-4b3a-9e68-418dadca6fc9",
   "metadata": {
    "tags": []
   },
   "outputs": [
    {
     "name": "stdout",
     "output_type": "stream",
     "text": [
      "['OnlineSecurity&Contract&tenure_year_2014_0.0&0.0&0.0', 'OnlineSecurity&Contract&tenure_year_2020_0.0&0.0&0.0', 'OnlineSecurity&Contract&TechSupport_0.0&0.0&0.0', 'Contract&TechSupport&tenure_year_2014_0.0&0.0&0.0', 'Contract&TechSupport&tenure_year_2020_0.0&0.0&0.0']\n",
      "(5282, 840)\n",
      "(1761, 840)\n"
     ]
    }
   ],
   "source": [
    "# 合并数据集\n",
    "train_temp = pd.concat([X_train_OE, train_new_MC], axis=1)\n",
    "test_temp = pd.concat([X_test_OE, test_new_MC], axis=1)\n",
    "\n",
    "# 包括时序衍生变量在内的所有离散变量名\n",
    "cat_temp = list(train_new_MC.columns).copy()\n",
    "print(cat_temp)\n",
    "\n",
    "# 创建容器\n",
    "col_temp = cat_temp.copy()\n",
    "colNames_train_new = []\n",
    "colNames_test_new = []\n",
    "features_train_new = []\n",
    "features_test_new = []\n",
    "\n",
    "for i in range(len(col_temp)):\n",
    "    keyCol = col_temp.pop(i)\n",
    "    features_train1, features_test1, colNames_train, colNames_test = Group_Statistics(keyCol,\n",
    "                                                                                      train_temp,\n",
    "                                                                                      test_temp,\n",
    "                                                                                      col_num=numeric_cols,\n",
    "                                                                                      col_cat=category_cols)\n",
    "    \n",
    "    colNames_train_new.extend(colNames_train)\n",
    "    colNames_test_new.extend(colNames_test)\n",
    "    features_train_new.append(features_train1)\n",
    "    features_test_new.append(features_test1)\n",
    "    \n",
    "    col_temp = cat_temp.copy()\n",
    "    \n",
    "# 合并数据集\n",
    "features_train_new = pd.concat(features_train_new, axis=1)\n",
    "features_test_new = pd.concat(features_test_new, axis=1)\n",
    "\n",
    "# 查看衍生特征规模\n",
    "print(features_train_new.shape)\n",
    "print(features_test_new.shape)"
   ]
  },
  {
   "cell_type": "markdown",
   "id": "0fea95e0-49b2-4df2-a1e9-ae8b11c471f9",
   "metadata": {},
   "source": [
    "最后查看衍生特征和标签的相关系数："
   ]
  },
  {
   "cell_type": "code",
   "execution_count": 165,
   "id": "fadbb74b-ccab-497e-b8e1-e48219f4b06f",
   "metadata": {},
   "outputs": [
    {
     "name": "stderr",
     "output_type": "stream",
     "text": [
      "C:\\Users\\vdmion\\anaconda3\\lib\\site-packages\\numpy\\lib\\function_base.py:2642: RuntimeWarning: invalid value encountered in true_divide\n",
      "  c /= stddev[:, None]\n",
      "C:\\Users\\vdmion\\anaconda3\\lib\\site-packages\\numpy\\lib\\function_base.py:2643: RuntimeWarning: invalid value encountered in true_divide\n",
      "  c /= stddev[None, :]\n"
     ]
    }
   ],
   "source": [
    "# 修改index\n",
    "features_train_new.index = X_train.index\n",
    "\n",
    "# 拼接衍生特征与标签\n",
    "df_temp = pd.concat([features_train_new, y_train], axis=1)\n",
    "\n",
    "# 计算相关系数\n",
    "df_corr = pd.Series(dtype=np.float64)\n",
    "\n",
    "for col in df_temp:\n",
    "    corr = np.corrcoef(df_temp[col], df_temp['Churn'])[0, 1]\n",
    "    s = pd.Series(corr, index=[col])\n",
    "    df_corr = df_corr.append(s)"
   ]
  },
  {
   "cell_type": "code",
   "execution_count": 166,
   "id": "0c7b0f74-e23f-4367-81f8-70b0e070728a",
   "metadata": {},
   "outputs": [
    {
     "data": {
      "text/plain": [
       "Churn                                                                           1.000000\n",
       "MonthlyCharges_OnlineSecurity&Contract&tenure_year_2014_0.0&0.0&0.0_q2          0.443017\n",
       "gender_OnlineSecurity&Contract&tenure_year_2014_0.0&0.0&0.0_var                 0.443017\n",
       "DeviceProtection_OnlineSecurity&Contract&tenure_year_2014_0.0&0.0&0.0_var       0.443017\n",
       "TotalCharges_OnlineSecurity&Contract&tenure_year_2014_0.0&0.0&0.0_min           0.443017\n",
       "TotalCharges_OnlineSecurity&Contract&tenure_year_2014_0.0&0.0&0.0_var           0.443017\n",
       "DeviceProtection_OnlineSecurity&Contract&tenure_year_2014_0.0&0.0&0.0_mean      0.443017\n",
       "PaymentMethod_OnlineSecurity&Contract&tenure_year_2014_0.0&0.0&0.0_mean         0.443017\n",
       "Contract_OnlineSecurity&Contract&tenure_year_2014_0.0&0.0&0.0_mean              0.443017\n",
       "PaperlessBilling_OnlineSecurity&Contract&tenure_year_2014_0.0&0.0&0.0_mean      0.443017\n",
       "PaperlessBilling_OnlineSecurity&Contract&tenure_year_2014_0.0&0.0&0.0_var       0.443017\n",
       "tenure_OnlineSecurity&Contract&tenure_year_2014_0.0&0.0&0.0_skew                0.443017\n",
       "StreamingTV_OnlineSecurity&Contract&tenure_year_2014_0.0&0.0&0.0_var            0.443017\n",
       "TotalCharges_OnlineSecurity&Contract&tenure_year_2014_0.0&0.0&0.0_median        0.443017\n",
       "TotalCharges_OnlineSecurity&Contract&tenure_year_2014_0.0&0.0&0.0_skew          0.443017\n",
       "StreamingMovies_OnlineSecurity&Contract&tenure_year_2014_0.0&0.0&0.0_mean       0.443017\n",
       "MonthlyCharges_OnlineSecurity&Contract&tenure_year_2014_0.0&0.0&0.0_mean        0.443017\n",
       "tenure_OnlineSecurity&Contract&tenure_year_2014_0.0&0.0&0.0_median              0.443017\n",
       "DeviceProtection_OnlineSecurity&Contract&tenure_year_2014_0.0&0.0&0.0_median    0.443017\n",
       "OnlineSecurity_OnlineSecurity&Contract&tenure_year_2014_0.0&0.0&0.0_max         0.443017\n",
       "dtype: float64"
      ]
     },
     "execution_count": 166,
     "metadata": {},
     "output_type": "execute_result"
    }
   ],
   "source": [
    "# 取相关系数绝对值最大的20个特征进行观察\n",
    "np.abs(df_corr).sort_values(ascending = False)[: 20]"
   ]
  },
  {
   "cell_type": "markdown",
   "id": "5b53d913-1414-4fad-a7f8-29a247f47101",
   "metadata": {},
   "source": [
    "能够看出，分组统计汇总特征衍生过程仍然创造了大量相关性接近原始散变量交叉组合特征的衍生特征，和我们的基本预判一致。"
   ]
  },
  {
   "cell_type": "markdown",
   "id": "0243927e-8bb0-479e-967e-9fefae2cf0ef",
   "metadata": {},
   "source": [
    "#### 5.4 分组统计特征衍生使用方法拓展"
   ]
  },
  {
   "cell_type": "markdown",
   "id": "150e02e7-3dd5-4a8f-b750-d9554ff0cfda",
   "metadata": {},
   "source": [
    "- 选取独热编码的离散特征作为关键变量"
   ]
  },
  {
   "cell_type": "markdown",
   "id": "01e1b7bb-1172-4108-977f-1b505bbfb95a",
   "metadata": {},
   "source": [
    "&emsp;&emsp;在上述讨论内容中，我们从原理及实验结果两方面证明了分组统计汇总实际上就是在围绕KeyCol进行强化，衍生特征是否有效关键要看KeyCol特征是否重要。那么自然而然在讨论KeyCol的选取过程中，我们不仅会考虑原始离散变量，同时也会考虑时序衍生特征，同时也会考虑双变量甚至是散变量交叉组合衍生特征，并借此快速创造大量有效特征。这个过程看似穷尽了我们介绍的所有方法，但实则不然，还有一种情况也也是需要进行考虑的，那就是先对多分类离散变量进行独热编码、然后再进行分组统计汇总，甚至对于拥有四个甚至更高取值水平的离散变量来说，我们还可以在这个过程中穿插进行交叉组合。"
   ]
  },
  {
   "cell_type": "markdown",
   "id": "a44fcb0e-8aa4-4fd4-a73b-22242c80ccd0",
   "metadata": {},
   "source": [
    "&emsp;&emsp;这里首先需要明确的是，对于三分类的离散变量而言，是否进行独热编码，将很大程度影响最终的特征衍生结果。例如在原始情况下，Monthly Charges在Contract不同取值下进行分组统计衍生结果如下："
   ]
  },
  {
   "cell_type": "markdown",
   "id": "8bc93151-b1ad-4a6c-9730-0650dadfadca",
   "metadata": {},
   "source": [
    "<center><img src=\"https://s2.loli.net/2022/03/17/o1Vi2h6RDeMEmkb.png\" alt=\"image-20220317153432864\" style=\"zoom:40%;\" />"
   ]
  },
  {
   "cell_type": "markdown",
   "id": "97c5a7b3-f5ba-4b7e-813b-8a70e04d9138",
   "metadata": {},
   "source": [
    "而如果我们先对Contract字段进行独热编码，然后再进行分组统计的话，则会由如下特征衍生结果："
   ]
  },
  {
   "cell_type": "markdown",
   "id": "f76c6ee1-dd2d-412f-83e9-d3096c4a8b55",
   "metadata": {},
   "source": [
    "<center><img src=\"https://s2.loli.net/2022/03/17/U8ZbmpgyFSucCDz.png\" alt=\"image-20220317153443674\" style=\"zoom:50%;\" />"
   ]
  },
  {
   "cell_type": "markdown",
   "id": "0f0f64ce-b7d0-465c-9098-94f914951539",
   "metadata": {},
   "source": [
    "甚至，你还可以同时保留独热编码前后的分组统计衍生结果带入模型进行测试，如此以来便能进一步扩大衍生特征的数量范围。"
   ]
  },
  {
   "cell_type": "markdown",
   "id": "8f8db7cb-29cb-483c-afad-0bb97f20d917",
   "metadata": {},
   "source": [
    "&emsp;&emsp;当然，如果我们将独热编码也看成是一种（对于单变量）的特征衍生方法，则上述过程也可以理解为先进行单变量特征衍生、然后再进行分组统计。"
   ]
  },
  {
   "cell_type": "markdown",
   "id": "dad09341-e14b-4174-b0fc-3aaf11d7306c",
   "metadata": {},
   "source": [
    "> 需要注意，对于交叉组合特征衍生来说，无论是否先进行独热编码，都不会影响最终衍生结果。"
   ]
  },
  {
   "cell_type": "markdown",
   "id": "aa9b8c03-babe-48ca-84f0-874c35d11752",
   "metadata": {},
   "source": [
    "- 带入多项式衍生特征作为分组变量"
   ]
  },
  {
   "cell_type": "markdown",
   "id": "dfe65f38-8ae6-45a4-9856-d78b93c92a4d",
   "metadata": {},
   "source": [
    "&emsp;&emsp;对于分组变量的选择，在很多时候，我们为了尽可能增加有有效的衍生特征数量，可以考虑将将多项式衍生特征作为分组变量（被分组统计的变量）带入分组特征衍生的过程中。当然，由于分组统计特征衍生是否有效更多还是受到KeyCol的影响，因此这里我们可以考虑带入尽可能多的多项式衍生特征作为分组变量，以进一步增加有效衍生特征的数量（如果需要的话）。"
   ]
  },
  {
   "cell_type": "markdown",
   "id": "6ac1b0d8-018e-4cfa-ac0d-4ccd44011839",
   "metadata": {
    "tags": []
   },
   "source": [
    "### 6.目标编码"
   ]
  },
  {
   "cell_type": "markdown",
   "id": "e9dcf9af-77fc-43d4-8478-cdb866d8cd7d",
   "metadata": {},
   "source": [
    "&emsp;&emsp;接下来，我们尝试对数据集进行目标编码特征衍生。我们知道目标编码其实就是分组统计特征衍生方法的一种变种，但由于目标编码过程会引入交叉验证，哪怕是训练集上的衍生特征其实也是“间接”算出的，因此我们并不确定在目标编码的过程中是否仍然还是KeyCol起主导作用。"
   ]
  },
  {
   "cell_type": "markdown",
   "id": "551792b9-3f91-43ef-839c-68e65bd13239",
   "metadata": {},
   "source": [
    "#### 6.1 原始数据集单变量目标编码"
   ]
  },
  {
   "cell_type": "markdown",
   "id": "848b319c-c960-401a-a229-0d7ae5947070",
   "metadata": {},
   "source": [
    "- 特征衍生"
   ]
  },
  {
   "cell_type": "markdown",
   "id": "0e571424-5505-4808-be55-216defdb3e26",
   "metadata": {},
   "source": [
    "&emsp;&emsp;为了验证目标编码的实际作用，此处我们首先考虑在原始数据集基础上，依次带入全部离散变量进行目标编码，并测试衍生特征的实际效果："
   ]
  },
  {
   "cell_type": "code",
   "execution_count": 167,
   "id": "fba9b59b-5e4d-452f-b6a8-93c1baf9242c",
   "metadata": {
    "tags": []
   },
   "outputs": [
    {
     "name": "stdout",
     "output_type": "stream",
     "text": [
      "['Churn']\n"
     ]
    }
   ],
   "source": [
    "# 定义标签\n",
    "col_cat = [target]\n",
    "print(col_cat)\n",
    "\n",
    "# 创建容器\n",
    "col_temp = category_cols.copy()\n",
    "colNames_train_new = []\n",
    "colNames_test_new = []\n",
    "features_train_new = []\n",
    "features_test_new = []\n",
    "\n",
    "for keyCol in col_temp:\n",
    "    features_train1, features_test1, colNames_train_new, colNames_test_new = Target_Encode(keyCol, \n",
    "                                                                                           X_train_OE, \n",
    "                                                                                           y_train,\n",
    "                                                                                           X_test_OE, \n",
    "                                                                                           col_cat=col_cat, \n",
    "                                                                                           extension=True)\n",
    "    \n",
    "    colNames_train_new.extend(colNames_train)\n",
    "    colNames_test_new.extend(colNames_test)\n",
    "    features_train_new.append(features_train1)\n",
    "    features_test_new.append(features_test1)\n",
    "    \n",
    "    col_temp = category_cols.copy()"
   ]
  },
  {
   "cell_type": "code",
   "execution_count": 168,
   "id": "1dc891aa-571e-4d8e-9c05-f3e955267f45",
   "metadata": {},
   "outputs": [
    {
     "data": {
      "text/html": [
       "<div>\n",
       "<style scoped>\n",
       "    .dataframe tbody tr th:only-of-type {\n",
       "        vertical-align: middle;\n",
       "    }\n",
       "\n",
       "    .dataframe tbody tr th {\n",
       "        vertical-align: top;\n",
       "    }\n",
       "\n",
       "    .dataframe thead th {\n",
       "        text-align: right;\n",
       "    }\n",
       "</style>\n",
       "<table border=\"1\" class=\"dataframe\">\n",
       "  <thead>\n",
       "    <tr style=\"text-align: right;\">\n",
       "      <th></th>\n",
       "      <th>Churn_gender_mean_kfold</th>\n",
       "      <th>Churn_gender_var_kfold</th>\n",
       "      <th>Churn_gender_max_kfold</th>\n",
       "      <th>Churn_gender_min_kfold</th>\n",
       "      <th>Churn_gender_median_kfold</th>\n",
       "      <th>Churn_gender_count_kfold</th>\n",
       "      <th>Churn_gender_nunique_kfold</th>\n",
       "      <th>Churn_gender_q1_kfold</th>\n",
       "      <th>Churn_gender_q2_kfold</th>\n",
       "      <th>Churn_dive1_Churn_gender_mean_kfold</th>\n",
       "      <th>Churn_dive2_Churn_gender_median_kfold</th>\n",
       "      <th>Churn_minus1_Churn_gender_mean_kfold</th>\n",
       "      <th>Churn_minus2_Churn_gender_mean_kfold</th>\n",
       "      <th>Churn_norm_gender_kfold</th>\n",
       "      <th>Churn_gap_gender_kfold</th>\n",
       "      <th>Churn_mag1_gender_kfold</th>\n",
       "      <th>Churn_mag2_gender_kfold</th>\n",
       "      <th>Churn_cv_gender_kfold</th>\n",
       "    </tr>\n",
       "  </thead>\n",
       "  <tbody>\n",
       "    <tr>\n",
       "      <th>0</th>\n",
       "      <td>0.272425</td>\n",
       "      <td>0.198304</td>\n",
       "      <td>1</td>\n",
       "      <td>0</td>\n",
       "      <td>0</td>\n",
       "      <td>2107</td>\n",
       "      <td>2</td>\n",
       "      <td>0</td>\n",
       "      <td>1.00</td>\n",
       "      <td>0.000000</td>\n",
       "      <td>0.0</td>\n",
       "      <td>-0.272425</td>\n",
       "      <td>-0.272425</td>\n",
       "      <td>-0.611747</td>\n",
       "      <td>1.00</td>\n",
       "      <td>-0.272425</td>\n",
       "      <td>0.0</td>\n",
       "      <td>1.634565</td>\n",
       "    </tr>\n",
       "    <tr>\n",
       "      <th>1</th>\n",
       "      <td>0.258141</td>\n",
       "      <td>0.191594</td>\n",
       "      <td>1</td>\n",
       "      <td>0</td>\n",
       "      <td>0</td>\n",
       "      <td>2119</td>\n",
       "      <td>2</td>\n",
       "      <td>0</td>\n",
       "      <td>1.00</td>\n",
       "      <td>3.873707</td>\n",
       "      <td>100000.0</td>\n",
       "      <td>0.741859</td>\n",
       "      <td>0.741859</td>\n",
       "      <td>1.694807</td>\n",
       "      <td>1.00</td>\n",
       "      <td>-0.258141</td>\n",
       "      <td>0.0</td>\n",
       "      <td>1.695580</td>\n",
       "    </tr>\n",
       "    <tr>\n",
       "      <th>3</th>\n",
       "      <td>0.248839</td>\n",
       "      <td>0.187005</td>\n",
       "      <td>1</td>\n",
       "      <td>0</td>\n",
       "      <td>0</td>\n",
       "      <td>2154</td>\n",
       "      <td>2</td>\n",
       "      <td>0</td>\n",
       "      <td>0.00</td>\n",
       "      <td>4.018495</td>\n",
       "      <td>100000.0</td>\n",
       "      <td>0.751161</td>\n",
       "      <td>0.751161</td>\n",
       "      <td>1.736985</td>\n",
       "      <td>0.00</td>\n",
       "      <td>-0.248839</td>\n",
       "      <td>0.0</td>\n",
       "      <td>1.737762</td>\n",
       "    </tr>\n",
       "    <tr>\n",
       "      <th>4</th>\n",
       "      <td>0.272425</td>\n",
       "      <td>0.198304</td>\n",
       "      <td>1</td>\n",
       "      <td>0</td>\n",
       "      <td>0</td>\n",
       "      <td>2107</td>\n",
       "      <td>2</td>\n",
       "      <td>0</td>\n",
       "      <td>1.00</td>\n",
       "      <td>0.000000</td>\n",
       "      <td>0.0</td>\n",
       "      <td>-0.272425</td>\n",
       "      <td>-0.272425</td>\n",
       "      <td>-0.611747</td>\n",
       "      <td>1.00</td>\n",
       "      <td>-0.272425</td>\n",
       "      <td>0.0</td>\n",
       "      <td>1.634565</td>\n",
       "    </tr>\n",
       "    <tr>\n",
       "      <th>6</th>\n",
       "      <td>0.260540</td>\n",
       "      <td>0.192750</td>\n",
       "      <td>1</td>\n",
       "      <td>0</td>\n",
       "      <td>0</td>\n",
       "      <td>2111</td>\n",
       "      <td>2</td>\n",
       "      <td>0</td>\n",
       "      <td>1.00</td>\n",
       "      <td>3.838035</td>\n",
       "      <td>100000.0</td>\n",
       "      <td>0.739460</td>\n",
       "      <td>0.739460</td>\n",
       "      <td>1.684253</td>\n",
       "      <td>1.00</td>\n",
       "      <td>-0.260540</td>\n",
       "      <td>0.0</td>\n",
       "      <td>1.685025</td>\n",
       "    </tr>\n",
       "    <tr>\n",
       "      <th>...</th>\n",
       "      <td>...</td>\n",
       "      <td>...</td>\n",
       "      <td>...</td>\n",
       "      <td>...</td>\n",
       "      <td>...</td>\n",
       "      <td>...</td>\n",
       "      <td>...</td>\n",
       "      <td>...</td>\n",
       "      <td>...</td>\n",
       "      <td>...</td>\n",
       "      <td>...</td>\n",
       "      <td>...</td>\n",
       "      <td>...</td>\n",
       "      <td>...</td>\n",
       "      <td>...</td>\n",
       "      <td>...</td>\n",
       "      <td>...</td>\n",
       "      <td>...</td>\n",
       "    </tr>\n",
       "    <tr>\n",
       "      <th>7038</th>\n",
       "      <td>0.258141</td>\n",
       "      <td>0.191594</td>\n",
       "      <td>1</td>\n",
       "      <td>0</td>\n",
       "      <td>0</td>\n",
       "      <td>2119</td>\n",
       "      <td>2</td>\n",
       "      <td>0</td>\n",
       "      <td>1.00</td>\n",
       "      <td>3.873707</td>\n",
       "      <td>100000.0</td>\n",
       "      <td>0.741859</td>\n",
       "      <td>0.741859</td>\n",
       "      <td>1.694807</td>\n",
       "      <td>1.00</td>\n",
       "      <td>-0.258141</td>\n",
       "      <td>0.0</td>\n",
       "      <td>1.695580</td>\n",
       "    </tr>\n",
       "    <tr>\n",
       "      <th>7039</th>\n",
       "      <td>0.264775</td>\n",
       "      <td>0.194761</td>\n",
       "      <td>1</td>\n",
       "      <td>0</td>\n",
       "      <td>0</td>\n",
       "      <td>2115</td>\n",
       "      <td>2</td>\n",
       "      <td>0</td>\n",
       "      <td>1.00</td>\n",
       "      <td>0.000000</td>\n",
       "      <td>0.0</td>\n",
       "      <td>-0.264775</td>\n",
       "      <td>-0.264775</td>\n",
       "      <td>-0.599952</td>\n",
       "      <td>1.00</td>\n",
       "      <td>-0.264775</td>\n",
       "      <td>0.0</td>\n",
       "      <td>1.666700</td>\n",
       "    </tr>\n",
       "    <tr>\n",
       "      <th>7040</th>\n",
       "      <td>0.264775</td>\n",
       "      <td>0.194761</td>\n",
       "      <td>1</td>\n",
       "      <td>0</td>\n",
       "      <td>0</td>\n",
       "      <td>2115</td>\n",
       "      <td>2</td>\n",
       "      <td>0</td>\n",
       "      <td>1.00</td>\n",
       "      <td>0.000000</td>\n",
       "      <td>0.0</td>\n",
       "      <td>-0.264775</td>\n",
       "      <td>-0.264775</td>\n",
       "      <td>-0.599952</td>\n",
       "      <td>1.00</td>\n",
       "      <td>-0.264775</td>\n",
       "      <td>0.0</td>\n",
       "      <td>1.666700</td>\n",
       "    </tr>\n",
       "    <tr>\n",
       "      <th>7041</th>\n",
       "      <td>0.250000</td>\n",
       "      <td>0.187589</td>\n",
       "      <td>1</td>\n",
       "      <td>0</td>\n",
       "      <td>0</td>\n",
       "      <td>2096</td>\n",
       "      <td>2</td>\n",
       "      <td>0</td>\n",
       "      <td>0.25</td>\n",
       "      <td>3.999840</td>\n",
       "      <td>100000.0</td>\n",
       "      <td>0.750000</td>\n",
       "      <td>0.750000</td>\n",
       "      <td>1.731598</td>\n",
       "      <td>0.25</td>\n",
       "      <td>-0.250000</td>\n",
       "      <td>0.0</td>\n",
       "      <td>1.732395</td>\n",
       "    </tr>\n",
       "    <tr>\n",
       "      <th>7042</th>\n",
       "      <td>0.258141</td>\n",
       "      <td>0.191594</td>\n",
       "      <td>1</td>\n",
       "      <td>0</td>\n",
       "      <td>0</td>\n",
       "      <td>2119</td>\n",
       "      <td>2</td>\n",
       "      <td>0</td>\n",
       "      <td>1.00</td>\n",
       "      <td>3.873707</td>\n",
       "      <td>100000.0</td>\n",
       "      <td>0.741859</td>\n",
       "      <td>0.741859</td>\n",
       "      <td>1.694807</td>\n",
       "      <td>1.00</td>\n",
       "      <td>-0.258141</td>\n",
       "      <td>0.0</td>\n",
       "      <td>1.695580</td>\n",
       "    </tr>\n",
       "  </tbody>\n",
       "</table>\n",
       "<p>5282 rows × 18 columns</p>\n",
       "</div>"
      ],
      "text/plain": [
       "      Churn_gender_mean_kfold  Churn_gender_var_kfold  Churn_gender_max_kfold  \\\n",
       "0                    0.272425                0.198304                       1   \n",
       "1                    0.258141                0.191594                       1   \n",
       "3                    0.248839                0.187005                       1   \n",
       "4                    0.272425                0.198304                       1   \n",
       "6                    0.260540                0.192750                       1   \n",
       "...                       ...                     ...                     ...   \n",
       "7038                 0.258141                0.191594                       1   \n",
       "7039                 0.264775                0.194761                       1   \n",
       "7040                 0.264775                0.194761                       1   \n",
       "7041                 0.250000                0.187589                       1   \n",
       "7042                 0.258141                0.191594                       1   \n",
       "\n",
       "      Churn_gender_min_kfold  Churn_gender_median_kfold  \\\n",
       "0                          0                          0   \n",
       "1                          0                          0   \n",
       "3                          0                          0   \n",
       "4                          0                          0   \n",
       "6                          0                          0   \n",
       "...                      ...                        ...   \n",
       "7038                       0                          0   \n",
       "7039                       0                          0   \n",
       "7040                       0                          0   \n",
       "7041                       0                          0   \n",
       "7042                       0                          0   \n",
       "\n",
       "      Churn_gender_count_kfold  Churn_gender_nunique_kfold  \\\n",
       "0                         2107                           2   \n",
       "1                         2119                           2   \n",
       "3                         2154                           2   \n",
       "4                         2107                           2   \n",
       "6                         2111                           2   \n",
       "...                        ...                         ...   \n",
       "7038                      2119                           2   \n",
       "7039                      2115                           2   \n",
       "7040                      2115                           2   \n",
       "7041                      2096                           2   \n",
       "7042                      2119                           2   \n",
       "\n",
       "      Churn_gender_q1_kfold  Churn_gender_q2_kfold  \\\n",
       "0                         0                   1.00   \n",
       "1                         0                   1.00   \n",
       "3                         0                   0.00   \n",
       "4                         0                   1.00   \n",
       "6                         0                   1.00   \n",
       "...                     ...                    ...   \n",
       "7038                      0                   1.00   \n",
       "7039                      0                   1.00   \n",
       "7040                      0                   1.00   \n",
       "7041                      0                   0.25   \n",
       "7042                      0                   1.00   \n",
       "\n",
       "      Churn_dive1_Churn_gender_mean_kfold  \\\n",
       "0                                0.000000   \n",
       "1                                3.873707   \n",
       "3                                4.018495   \n",
       "4                                0.000000   \n",
       "6                                3.838035   \n",
       "...                                   ...   \n",
       "7038                             3.873707   \n",
       "7039                             0.000000   \n",
       "7040                             0.000000   \n",
       "7041                             3.999840   \n",
       "7042                             3.873707   \n",
       "\n",
       "      Churn_dive2_Churn_gender_median_kfold  \\\n",
       "0                                       0.0   \n",
       "1                                  100000.0   \n",
       "3                                  100000.0   \n",
       "4                                       0.0   \n",
       "6                                  100000.0   \n",
       "...                                     ...   \n",
       "7038                               100000.0   \n",
       "7039                                    0.0   \n",
       "7040                                    0.0   \n",
       "7041                               100000.0   \n",
       "7042                               100000.0   \n",
       "\n",
       "      Churn_minus1_Churn_gender_mean_kfold  \\\n",
       "0                                -0.272425   \n",
       "1                                 0.741859   \n",
       "3                                 0.751161   \n",
       "4                                -0.272425   \n",
       "6                                 0.739460   \n",
       "...                                    ...   \n",
       "7038                              0.741859   \n",
       "7039                             -0.264775   \n",
       "7040                             -0.264775   \n",
       "7041                              0.750000   \n",
       "7042                              0.741859   \n",
       "\n",
       "      Churn_minus2_Churn_gender_mean_kfold  Churn_norm_gender_kfold  \\\n",
       "0                                -0.272425                -0.611747   \n",
       "1                                 0.741859                 1.694807   \n",
       "3                                 0.751161                 1.736985   \n",
       "4                                -0.272425                -0.611747   \n",
       "6                                 0.739460                 1.684253   \n",
       "...                                    ...                      ...   \n",
       "7038                              0.741859                 1.694807   \n",
       "7039                             -0.264775                -0.599952   \n",
       "7040                             -0.264775                -0.599952   \n",
       "7041                              0.750000                 1.731598   \n",
       "7042                              0.741859                 1.694807   \n",
       "\n",
       "      Churn_gap_gender_kfold  Churn_mag1_gender_kfold  \\\n",
       "0                       1.00                -0.272425   \n",
       "1                       1.00                -0.258141   \n",
       "3                       0.00                -0.248839   \n",
       "4                       1.00                -0.272425   \n",
       "6                       1.00                -0.260540   \n",
       "...                      ...                      ...   \n",
       "7038                    1.00                -0.258141   \n",
       "7039                    1.00                -0.264775   \n",
       "7040                    1.00                -0.264775   \n",
       "7041                    0.25                -0.250000   \n",
       "7042                    1.00                -0.258141   \n",
       "\n",
       "      Churn_mag2_gender_kfold  Churn_cv_gender_kfold  \n",
       "0                         0.0               1.634565  \n",
       "1                         0.0               1.695580  \n",
       "3                         0.0               1.737762  \n",
       "4                         0.0               1.634565  \n",
       "6                         0.0               1.685025  \n",
       "...                       ...                    ...  \n",
       "7038                      0.0               1.695580  \n",
       "7039                      0.0               1.666700  \n",
       "7040                      0.0               1.666700  \n",
       "7041                      0.0               1.732395  \n",
       "7042                      0.0               1.695580  \n",
       "\n",
       "[5282 rows x 18 columns]"
      ]
     },
     "execution_count": 168,
     "metadata": {},
     "output_type": "execute_result"
    }
   ],
   "source": [
    "features_train_new[0]"
   ]
  },
  {
   "cell_type": "code",
   "execution_count": 169,
   "id": "788dad61-03bf-4ef5-a889-5574c91de820",
   "metadata": {},
   "outputs": [],
   "source": [
    "train_new_TE = pd.concat(features_train_new, axis=1)\n",
    "test_new_TE = pd.concat(features_test_new, axis=1)"
   ]
  },
  {
   "cell_type": "code",
   "execution_count": 170,
   "id": "e0ec195a-8c2c-403c-898b-f6bbf54712ae",
   "metadata": {},
   "outputs": [
    {
     "data": {
      "text/html": [
       "<div>\n",
       "<style scoped>\n",
       "    .dataframe tbody tr th:only-of-type {\n",
       "        vertical-align: middle;\n",
       "    }\n",
       "\n",
       "    .dataframe tbody tr th {\n",
       "        vertical-align: top;\n",
       "    }\n",
       "\n",
       "    .dataframe thead th {\n",
       "        text-align: right;\n",
       "    }\n",
       "</style>\n",
       "<table border=\"1\" class=\"dataframe\">\n",
       "  <thead>\n",
       "    <tr style=\"text-align: right;\">\n",
       "      <th></th>\n",
       "      <th>Churn_gender_mean_kfold</th>\n",
       "      <th>Churn_gender_var_kfold</th>\n",
       "      <th>Churn_gender_max_kfold</th>\n",
       "      <th>Churn_gender_min_kfold</th>\n",
       "      <th>Churn_gender_median_kfold</th>\n",
       "      <th>Churn_gender_count_kfold</th>\n",
       "      <th>Churn_gender_nunique_kfold</th>\n",
       "      <th>Churn_gender_q1_kfold</th>\n",
       "      <th>Churn_gender_q2_kfold</th>\n",
       "      <th>Churn_dive1_Churn_gender_mean_kfold</th>\n",
       "      <th>...</th>\n",
       "      <th>Churn_PaymentMethod_q2_kfold</th>\n",
       "      <th>Churn_dive1_Churn_PaymentMethod_mean_kfold</th>\n",
       "      <th>Churn_dive2_Churn_PaymentMethod_median_kfold</th>\n",
       "      <th>Churn_minus1_Churn_PaymentMethod_mean_kfold</th>\n",
       "      <th>Churn_minus2_Churn_PaymentMethod_mean_kfold</th>\n",
       "      <th>Churn_norm_PaymentMethod_kfold</th>\n",
       "      <th>Churn_gap_PaymentMethod_kfold</th>\n",
       "      <th>Churn_mag1_PaymentMethod_kfold</th>\n",
       "      <th>Churn_mag2_PaymentMethod_kfold</th>\n",
       "      <th>Churn_cv_PaymentMethod_kfold</th>\n",
       "    </tr>\n",
       "  </thead>\n",
       "  <tbody>\n",
       "    <tr>\n",
       "      <th>0</th>\n",
       "      <td>0.272425</td>\n",
       "      <td>0.198304</td>\n",
       "      <td>1</td>\n",
       "      <td>0</td>\n",
       "      <td>0</td>\n",
       "      <td>2107</td>\n",
       "      <td>2</td>\n",
       "      <td>0</td>\n",
       "      <td>1.0</td>\n",
       "      <td>0.000000</td>\n",
       "      <td>...</td>\n",
       "      <td>1</td>\n",
       "      <td>4.377378</td>\n",
       "      <td>200000.0</td>\n",
       "      <td>1.543115</td>\n",
       "      <td>1.543115</td>\n",
       "      <td>3.096630</td>\n",
       "      <td>1</td>\n",
       "      <td>-0.456885</td>\n",
       "      <td>0.0</td>\n",
       "      <td>1.090647</td>\n",
       "    </tr>\n",
       "    <tr>\n",
       "      <th>1</th>\n",
       "      <td>0.258141</td>\n",
       "      <td>0.191594</td>\n",
       "      <td>1</td>\n",
       "      <td>0</td>\n",
       "      <td>0</td>\n",
       "      <td>2119</td>\n",
       "      <td>2</td>\n",
       "      <td>0</td>\n",
       "      <td>1.0</td>\n",
       "      <td>3.873707</td>\n",
       "      <td>...</td>\n",
       "      <td>0</td>\n",
       "      <td>14.874910</td>\n",
       "      <td>300000.0</td>\n",
       "      <td>2.798328</td>\n",
       "      <td>2.798328</td>\n",
       "      <td>6.970235</td>\n",
       "      <td>0</td>\n",
       "      <td>-0.201672</td>\n",
       "      <td>0.0</td>\n",
       "      <td>1.990552</td>\n",
       "    </tr>\n",
       "    <tr>\n",
       "      <th>3</th>\n",
       "      <td>0.248839</td>\n",
       "      <td>0.187005</td>\n",
       "      <td>1</td>\n",
       "      <td>0</td>\n",
       "      <td>0</td>\n",
       "      <td>2154</td>\n",
       "      <td>2</td>\n",
       "      <td>0</td>\n",
       "      <td>0.0</td>\n",
       "      <td>4.018495</td>\n",
       "      <td>...</td>\n",
       "      <td>0</td>\n",
       "      <td>0.000000</td>\n",
       "      <td>0.0</td>\n",
       "      <td>-0.148724</td>\n",
       "      <td>-0.148724</td>\n",
       "      <td>-0.417735</td>\n",
       "      <td>0</td>\n",
       "      <td>-0.148724</td>\n",
       "      <td>0.0</td>\n",
       "      <td>2.393631</td>\n",
       "    </tr>\n",
       "    <tr>\n",
       "      <th>4</th>\n",
       "      <td>0.272425</td>\n",
       "      <td>0.198304</td>\n",
       "      <td>1</td>\n",
       "      <td>0</td>\n",
       "      <td>0</td>\n",
       "      <td>2107</td>\n",
       "      <td>2</td>\n",
       "      <td>0</td>\n",
       "      <td>1.0</td>\n",
       "      <td>0.000000</td>\n",
       "      <td>...</td>\n",
       "      <td>1</td>\n",
       "      <td>4.377378</td>\n",
       "      <td>200000.0</td>\n",
       "      <td>1.543115</td>\n",
       "      <td>1.543115</td>\n",
       "      <td>3.096630</td>\n",
       "      <td>1</td>\n",
       "      <td>-0.456885</td>\n",
       "      <td>0.0</td>\n",
       "      <td>1.090647</td>\n",
       "    </tr>\n",
       "    <tr>\n",
       "      <th>6</th>\n",
       "      <td>0.260540</td>\n",
       "      <td>0.192750</td>\n",
       "      <td>1</td>\n",
       "      <td>0</td>\n",
       "      <td>0</td>\n",
       "      <td>2111</td>\n",
       "      <td>2</td>\n",
       "      <td>0</td>\n",
       "      <td>1.0</td>\n",
       "      <td>3.838035</td>\n",
       "      <td>...</td>\n",
       "      <td>0</td>\n",
       "      <td>6.663735</td>\n",
       "      <td>100000.0</td>\n",
       "      <td>0.849944</td>\n",
       "      <td>0.849944</td>\n",
       "      <td>2.378554</td>\n",
       "      <td>0</td>\n",
       "      <td>-0.150056</td>\n",
       "      <td>0.0</td>\n",
       "      <td>2.381129</td>\n",
       "    </tr>\n",
       "  </tbody>\n",
       "</table>\n",
       "<p>5 rows × 288 columns</p>\n",
       "</div>"
      ],
      "text/plain": [
       "   Churn_gender_mean_kfold  Churn_gender_var_kfold  Churn_gender_max_kfold  \\\n",
       "0                 0.272425                0.198304                       1   \n",
       "1                 0.258141                0.191594                       1   \n",
       "3                 0.248839                0.187005                       1   \n",
       "4                 0.272425                0.198304                       1   \n",
       "6                 0.260540                0.192750                       1   \n",
       "\n",
       "   Churn_gender_min_kfold  Churn_gender_median_kfold  \\\n",
       "0                       0                          0   \n",
       "1                       0                          0   \n",
       "3                       0                          0   \n",
       "4                       0                          0   \n",
       "6                       0                          0   \n",
       "\n",
       "   Churn_gender_count_kfold  Churn_gender_nunique_kfold  \\\n",
       "0                      2107                           2   \n",
       "1                      2119                           2   \n",
       "3                      2154                           2   \n",
       "4                      2107                           2   \n",
       "6                      2111                           2   \n",
       "\n",
       "   Churn_gender_q1_kfold  Churn_gender_q2_kfold  \\\n",
       "0                      0                    1.0   \n",
       "1                      0                    1.0   \n",
       "3                      0                    0.0   \n",
       "4                      0                    1.0   \n",
       "6                      0                    1.0   \n",
       "\n",
       "   Churn_dive1_Churn_gender_mean_kfold  ...  Churn_PaymentMethod_q2_kfold  \\\n",
       "0                             0.000000  ...                             1   \n",
       "1                             3.873707  ...                             0   \n",
       "3                             4.018495  ...                             0   \n",
       "4                             0.000000  ...                             1   \n",
       "6                             3.838035  ...                             0   \n",
       "\n",
       "   Churn_dive1_Churn_PaymentMethod_mean_kfold  \\\n",
       "0                                    4.377378   \n",
       "1                                   14.874910   \n",
       "3                                    0.000000   \n",
       "4                                    4.377378   \n",
       "6                                    6.663735   \n",
       "\n",
       "   Churn_dive2_Churn_PaymentMethod_median_kfold  \\\n",
       "0                                      200000.0   \n",
       "1                                      300000.0   \n",
       "3                                           0.0   \n",
       "4                                      200000.0   \n",
       "6                                      100000.0   \n",
       "\n",
       "   Churn_minus1_Churn_PaymentMethod_mean_kfold  \\\n",
       "0                                     1.543115   \n",
       "1                                     2.798328   \n",
       "3                                    -0.148724   \n",
       "4                                     1.543115   \n",
       "6                                     0.849944   \n",
       "\n",
       "   Churn_minus2_Churn_PaymentMethod_mean_kfold  \\\n",
       "0                                     1.543115   \n",
       "1                                     2.798328   \n",
       "3                                    -0.148724   \n",
       "4                                     1.543115   \n",
       "6                                     0.849944   \n",
       "\n",
       "   Churn_norm_PaymentMethod_kfold  Churn_gap_PaymentMethod_kfold  \\\n",
       "0                        3.096630                              1   \n",
       "1                        6.970235                              0   \n",
       "3                       -0.417735                              0   \n",
       "4                        3.096630                              1   \n",
       "6                        2.378554                              0   \n",
       "\n",
       "   Churn_mag1_PaymentMethod_kfold  Churn_mag2_PaymentMethod_kfold  \\\n",
       "0                       -0.456885                             0.0   \n",
       "1                       -0.201672                             0.0   \n",
       "3                       -0.148724                             0.0   \n",
       "4                       -0.456885                             0.0   \n",
       "6                       -0.150056                             0.0   \n",
       "\n",
       "   Churn_cv_PaymentMethod_kfold  \n",
       "0                      1.090647  \n",
       "1                      1.990552  \n",
       "3                      2.393631  \n",
       "4                      1.090647  \n",
       "6                      2.381129  \n",
       "\n",
       "[5 rows x 288 columns]"
      ]
     },
     "execution_count": 170,
     "metadata": {},
     "output_type": "execute_result"
    }
   ],
   "source": [
    "train_new_TE.head()"
   ]
  },
  {
   "cell_type": "code",
   "execution_count": 171,
   "id": "52673937-d025-450b-bbc9-7d379cdc6656",
   "metadata": {},
   "outputs": [
    {
     "data": {
      "text/plain": [
       "((5282, 288), (1761, 288))"
      ]
     },
     "execution_count": 171,
     "metadata": {},
     "output_type": "execute_result"
    }
   ],
   "source": [
    "train_new_TE.shape, test_new_TE.shape"
   ]
  },
  {
   "cell_type": "markdown",
   "id": "40312733-4f5c-4161-a08b-85f8d6c9d3aa",
   "metadata": {},
   "source": [
    "同样，接下来进一步检测衍生特征和标签之间的相关性："
   ]
  },
  {
   "cell_type": "code",
   "execution_count": 172,
   "id": "3a14358f-880b-4a81-9966-2975d7ce7850",
   "metadata": {},
   "outputs": [
    {
     "data": {
      "text/plain": [
       "Churn                                           1.000000\n",
       "Churn_dive1_Churn_PaymentMethod_mean_kfold      0.028967\n",
       "Churn_PaymentMethod_q2_kfold                    0.028299\n",
       "Churn_gap_PaymentMethod_kfold                   0.028299\n",
       "Churn_cv_OnlineBackup_kfold                     0.027046\n",
       "Churn_StreamingTV_q2_kfold                      0.026733\n",
       "Churn_gap_StreamingMovies_kfold                 0.026733\n",
       "Churn_StreamingMovies_q2_kfold                  0.026733\n",
       "Churn_gap_StreamingTV_kfold                     0.026733\n",
       "Churn_dive1_Churn_InternetService_mean_kfold    0.026715\n",
       "Churn_cv_StreamingTV_kfold                      0.026328\n",
       "Churn_norm_InternetService_kfold                0.026254\n",
       "Churn_StreamingTV_var_kfold                     0.026090\n",
       "Churn_OnlineBackup_var_kfold                    0.026039\n",
       "Churn_OnlineBackup_count_kfold                  0.025715\n",
       "Churn_PaymentMethod_count_kfold                 0.025656\n",
       "Churn_mag1_PaymentMethod_kfold                  0.025561\n",
       "Churn_PaymentMethod_mean_kfold                  0.025561\n",
       "Churn_mag1_StreamingTV_kfold                    0.025454\n",
       "Churn_StreamingTV_mean_kfold                    0.025454\n",
       "Name: Churn, dtype: float64"
      ]
     },
     "execution_count": 172,
     "metadata": {},
     "output_type": "execute_result"
    }
   ],
   "source": [
    "# 修改index\n",
    "train_new_TE.index = X_train.index\n",
    "\n",
    "# 拼接衍生特征与标签\n",
    "df_temp = pd.concat([train_new_TE, y_train], axis=1)\n",
    "\n",
    "# 计算相关系数\n",
    "df_corr = df_temp.corr()['Churn'].sort_values(ascending = False)\n",
    "\n",
    "# 取相关系数绝对值最大的20个特征进行观察\n",
    "np.abs(df_corr).sort_values(ascending = False)[: 20]"
   ]
  },
  {
   "cell_type": "markdown",
   "id": "f47eb1e6-9a4a-4cb0-9104-1605dc8931f9",
   "metadata": {},
   "source": [
    "我们发现，目标编码衍生出的特征和标签的相关性普遍较弱，并且第一梯队的衍生特征的keyCol并不是重要特征，而是此前极少受到关注的PaymentMethod特征，该特征原始状态下和标签的相关系数在0.25左右。关于为何会出现这一现象，我们稍后再进行更深入的探究，此处我们先借助模型进行衍生特征有效性的验证，目标编码作为实际效果最强的特征衍生方法，尽管相关系数的计算结果并不如人意，但最终衍生特征是否有效还是要依据模型最终结果进行判断。"
   ]
  },
  {
   "cell_type": "markdown",
   "id": "4e25864f-4dda-491e-bf32-b1860b056521",
   "metadata": {},
   "source": [
    "- 模型验证"
   ]
  },
  {
   "cell_type": "markdown",
   "id": "4864b2dd-4c06-4aef-98c5-2d664e1ad5cf",
   "metadata": {},
   "source": [
    "&emsp;&emsp;接下来，我们带入相关性最前的衍生特征进入模型进行模型测试："
   ]
  },
  {
   "cell_type": "code",
   "execution_count": 173,
   "id": "adc909c3-4057-459f-83c9-320d357ab188",
   "metadata": {},
   "outputs": [
    {
     "data": {
      "text/plain": [
       "['Churn_dive1_Churn_PaymentMethod_mean_kfold']"
      ]
     },
     "execution_count": 173,
     "metadata": {},
     "output_type": "execute_result"
    }
   ],
   "source": [
    "new_col = list(np.abs(df_corr).sort_values(ascending = False)[1: 2].index)\n",
    "new_col"
   ]
  },
  {
   "cell_type": "code",
   "execution_count": 174,
   "id": "6551f8d0-bcf1-47be-94d2-aa186c298afe",
   "metadata": {},
   "outputs": [
    {
     "name": "stdout",
     "output_type": "stream",
     "text": [
      "43.17520570755005 s\n"
     ]
    },
    {
     "data": {
      "text/plain": [
       "(0.81067880794702,\n",
       " {'columntransformer__num': StandardScaler(),\n",
       "  'logit_threshold__C': 0.2,\n",
       "  'logit_threshold__penalty': 'l1',\n",
       "  'logit_threshold__solver': 'saga'})"
      ]
     },
     "execution_count": 174,
     "metadata": {},
     "output_type": "execute_result"
    }
   ],
   "source": [
    "train_new_temp = train_new_TE[new_col]\n",
    "test_new_temp = test_new_TE[new_col]\n",
    "\n",
    "# 带入模型进行训练\n",
    "features_test(train_new_temp, \n",
    "              test_new_temp, \n",
    "              X_train_OE, \n",
    "              X_test_OE, \n",
    "              y_train, \n",
    "              y_test, \n",
    "              category_cols, \n",
    "              numeric_cols)"
   ]
  },
  {
   "cell_type": "markdown",
   "id": "0d62095d-cdc5-48c7-b2d8-cb23895341ff",
   "metadata": {},
   "source": [
    "根据最终结果能够发现目标编码得出的特征在模型验证过程中仍然取得了较好的成绩，这也说明目标编码的特征确实也都是优质特征，但和普通的分组统计特征衍生出来的特征的特性会有所不同。接下来我们就重点探讨目标编码的衍生特征为何会有如此特性。"
   ]
  },
  {
   "cell_type": "markdown",
   "id": "fe0ece8a-de9d-4d58-82b7-5cbdf4944c05",
   "metadata": {},
   "source": [
    "- 交叉验证的多重影响"
   ]
  },
  {
   "cell_type": "markdown",
   "id": "aedf35f4-d0e1-49f9-98fe-20830218602e",
   "metadata": {},
   "source": [
    "&emsp;&emsp;当然，最为根本的原因还是在于我们在目标编码的过程中采用了交叉验证的过程，而从直观的结果上来看，在训练集上交叉验证会导致哪怕是同一组内的数据，衍生出来的特征取值也会不同。例如下述数据集中的1号数据和3号数据，尽管在tenure分组情况下属于同一组，但由于每条数据的衍生特征取值都是经过交叉统计间接算得的，因此哪怕二者属于同一组，但最后衍生特征的取值却各不相同："
   ]
  },
  {
   "cell_type": "markdown",
   "id": "c0d52a25-3f3b-40f5-bbd8-a685a1009665",
   "metadata": {},
   "source": [
    "<center><img src=\"https://s2.loli.net/2022/02/27/lKo98urN4pji2Ad.png\" alt=\"image-20220227120356377\" style=\"zoom:50%;\" />"
   ]
  },
  {
   "cell_type": "markdown",
   "id": "227c6873-d0f5-4378-855c-7dea8b743547",
   "metadata": {},
   "source": [
    "而如果是普通的分组统计特征衍生，同一组内的数据一定会算得相同的结果："
   ]
  },
  {
   "cell_type": "markdown",
   "id": "e832ee6a-822a-46fa-9bd8-2b7f6595ebce",
   "metadata": {},
   "source": [
    "<center><img src=\"https://s2.loli.net/2022/03/16/1UWuFzTK3dLHQMR.png\" alt=\"image-20220316171913807\" style=\"zoom:50%;\" />"
   ]
  },
  {
   "cell_type": "markdown",
   "id": "5efde68e-c1e5-4d46-870d-5bd3e144962d",
   "metadata": {},
   "source": [
    "而这就是导致目标编码的衍生特征取值分布和KeyCol不同，从而使得衍生特征一定程度摆脱了KeyCol的影响、衍生特征的相关性和KeyCol呈现出一定的差异，而最终在训练集上衍生出来的重要特征，其背后的KeyCol也不一定是相关性最强的特征。"
   ]
  },
  {
   "cell_type": "markdown",
   "id": "4ad5f477-349e-4ce6-bbaa-fc4e043bbb65",
   "metadata": {},
   "source": [
    "&emsp;&emsp;当然，关于这一点，其实我们也可以进行反向验证。对于目标编码来说，测试集上的衍生特征的取值分布其实是和KeyCol是完全一致的，如果测试集上标签（如果可知的话）和原始特征的相关性和训练集上一致，那么如果我们去检测测试集上的目标编码衍生变量和标签的关系，那么我们会发现重要的衍生特征，其背后的KeyCol往往也是重要特征，例如在本数据集中进行测试集的衍生特征的相关系数计算，则会有如下结果："
   ]
  },
  {
   "cell_type": "code",
   "execution_count": 175,
   "id": "4b7e8bc3-4ae1-45b5-83b1-0dc806b32711",
   "metadata": {},
   "outputs": [
    {
     "data": {
      "text/plain": [
       "Churn                                           1.000000\n",
       "Churn_Contract_count_kfold                      0.420910\n",
       "Churn_gap_Contract_kfold                        0.420833\n",
       "Churn_Contract_q2_kfold                         0.420833\n",
       "Churn_mag1_Contract_kfold                       0.419774\n",
       "Churn_Contract_mean_kfold                       0.419774\n",
       "Churn_Contract_var_kfold                        0.416007\n",
       "Churn_minus2_Churn_Contract_mean_kfold          0.412676\n",
       "Churn_minus1_Churn_Contract_mean_kfold          0.412676\n",
       "Churn_dive2_Churn_Contract_median_kfold         0.410428\n",
       "Churn_cv_Contract_kfold                         0.403028\n",
       "Churn_norm_Contract_kfold                       0.398627\n",
       "Churn_dive1_Churn_Contract_mean_kfold           0.384253\n",
       "Churn_cv_InternetService_kfold                  0.341227\n",
       "Churn_InternetService_count_kfold               0.340154\n",
       "Churn_InternetService_var_kfold                 0.338333\n",
       "Churn_mag1_InternetService_kfold                0.334336\n",
       "Churn_InternetService_mean_kfold                0.334336\n",
       "Churn_dive1_Churn_InternetService_mean_kfold    0.334306\n",
       "Churn_norm_InternetService_kfold                0.327029\n",
       "Name: Churn, dtype: float64"
      ]
     },
     "execution_count": 175,
     "metadata": {},
     "output_type": "execute_result"
    }
   ],
   "source": [
    "# 修改index\n",
    "test_new_TE.index = X_test.index\n",
    "\n",
    "# 拼接衍生特征与标签\n",
    "df_temp = pd.concat([test_new_TE, y_test], axis=1)\n",
    "\n",
    "# 计算相关系数\n",
    "df_corr = df_temp.corr()['Churn'].sort_values(ascending = False)\n",
    "\n",
    "# 取相关系数绝对值最大的20个特征进行观察\n",
    "np.abs(df_corr).sort_values(ascending = False)[: 20]"
   ]
  },
  {
   "cell_type": "markdown",
   "id": "87c3f6f8-fb47-4c64-973c-273473373998",
   "metadata": {},
   "source": [
    "我们发现，在测试集上，由于衍生特征和KeyCol的数值分布一致，此时衍生特征表现出了和分组统计汇总相类似的规律：即相关性最强的的KeyCol衍生出相关性最强的特征，并且衍生特征相关系数结果和KeyCol接近。"
   ]
  },
  {
   "cell_type": "markdown",
   "id": "7c6578be-23db-43bf-80de-f05a2ff5e0e3",
   "metadata": {},
   "source": [
    "&emsp;&emsp;当然无论何时，我们都不能依据测试集中数据进行特征筛选，并且哪怕我们通过理论判断在测试集中以Contract作为KeyCol的衍生特征（和测试集标签）会有更强的相关性（例如Churn_Contract_count_kfold），但该特征在训练集上的取值分布和测试集并不一致，利用Contract的衍生特征训练出来的模型也不一定能达到更好的效果。这其实也是我们在训练集上采用交叉统计结果的根本原因，也是解决目标编码过拟合问题的釜底抽薪之计。也就是说，我们就按照训练数据集上目标编码所展示出的特性进行特征筛选即可，筛选出来的特征就是既能保证模型效果、同时又能一定程度抑制过拟合的特征。"
   ]
  },
  {
   "cell_type": "markdown",
   "id": "ce0f5650-ff24-4c1d-bc07-ce83d0802e24",
   "metadata": {},
   "source": [
    "> 如果更进一步“钻牛角尖”想要验证目标编码过拟合特性的话，我们可以设计一组实验，将标签视作一般特征带入到分组特征衍生过程中，然后配合一些天然不会抑制过拟合的模型（如sklearn中的随机森林），在不进行网格搜索的情况下，在大量带入Contract的衍生特征的情况下，模型会表现出非常严重的过拟合现象。"
   ]
  },
  {
   "cell_type": "markdown",
   "id": "4134dbd2-f065-44ad-a81f-91981f6c617a",
   "metadata": {},
   "source": [
    "#### 6.2 基于时序衍生特征的目标编码"
   ]
  },
  {
   "cell_type": "markdown",
   "id": "61f2515e-d2e7-40ac-ad4b-1204976551a6",
   "metadata": {},
   "source": [
    "&emsp;&emsp;接下来，我们尝试带入时序衍生数据进行目标编码。时序衍生特征也同样是目标编码中非常常见且效果普遍较好的KeyCol："
   ]
  },
  {
   "cell_type": "code",
   "execution_count": 176,
   "id": "b87012c4-a2ea-4e81-9ca5-81d871520ea1",
   "metadata": {
    "tags": []
   },
   "outputs": [
    {
     "name": "stdout",
     "output_type": "stream",
     "text": [
      "['Churn']\n"
     ]
    },
    {
     "data": {
      "text/plain": [
       "Churn                                              1.000000\n",
       "Churn_gap_tenure_year_2015_kfold                   0.031359\n",
       "Churn_tenure_year_2015_q2_kfold                    0.031359\n",
       "Churn_dive2_Churn_tenure_year_2015_median_kfold    0.031359\n",
       "Churn_tenure_year_2015_count_kfold                 0.031286\n",
       "Churn_minus1_Churn_tenure_year_2015_mean_kfold     0.031271\n",
       "Churn_minus2_Churn_tenure_year_2015_mean_kfold     0.031271\n",
       "Churn_norm_tenure_year_2015_kfold                  0.030900\n",
       "Churn_tenure_year_2015_mean_kfold                  0.030564\n",
       "Churn_mag1_tenure_year_2015_kfold                  0.030564\n",
       "Churn_dive1_Churn_tenure_year_2015_mean_kfold      0.030321\n",
       "Churn_tenure_year_2015_var_kfold                   0.030229\n",
       "Churn_cv_tenure_year_2015_kfold                    0.029787\n",
       "Churn_mag1_tenure_year_2019_kfold                  0.028483\n",
       "Churn_tenure_year_2019_mean_kfold                  0.028483\n",
       "Churn_cv_tenure_year_2019_kfold                    0.028470\n",
       "Churn_tenure_year_2019_var_kfold                   0.028402\n",
       "Churn_tenure_year_2019_q2_kfold                    0.028322\n",
       "Churn_gap_tenure_year_2019_kfold                   0.028322\n",
       "Churn_dive2_Churn_tenure_year_2019_median_kfold    0.028322\n",
       "Name: Churn, dtype: float64"
      ]
     },
     "execution_count": 176,
     "metadata": {},
     "output_type": "execute_result"
    }
   ],
   "source": [
    "# 定义标签\n",
    "col_cat = [target]\n",
    "print(col_cat)\n",
    "\n",
    "# 合并数据集\n",
    "X_train_temp = pd.concat([X_train_OE, X_train_seq], axis=1)\n",
    "X_test_temp = pd.concat([X_test_OE, X_test_seq], axis=1)\n",
    "\n",
    "# 创建容器\n",
    "col_temp = list(X_train_seq.columns).copy()\n",
    "colNames_train_new = []\n",
    "colNames_test_new = []\n",
    "features_train_new = []\n",
    "features_test_new = []\n",
    "\n",
    "for keyCol in col_temp:\n",
    "    features_train1, features_test1, colNames_train_new, colNames_test_new = Target_Encode(keyCol, \n",
    "                                                                                           X_train_temp, \n",
    "                                                                                           y_train,\n",
    "                                                                                           X_test_temp, \n",
    "                                                                                           col_cat=col_cat, \n",
    "                                                                                           extension=True)\n",
    "    \n",
    "    colNames_train_new.extend(colNames_train)\n",
    "    colNames_test_new.extend(colNames_test)\n",
    "    features_train_new.append(features_train1)\n",
    "    features_test_new.append(features_test1)\n",
    "    \n",
    "    col_temp = category_cols.copy()\n",
    "    \n",
    "# 合并数据集\n",
    "train_new_TE_seq = pd.concat(features_train_new, axis=1)\n",
    "test_new_TE_seq = pd.concat(features_test_new, axis=1)\n",
    "\n",
    "# 测试相关系数\n",
    "# 修改index\n",
    "train_new_TE_seq.index = X_train.index\n",
    "\n",
    "# 拼接衍生特征与标签\n",
    "df_temp = pd.concat([train_new_TE_seq, y_train], axis=1)\n",
    "\n",
    "# 计算相关系数\n",
    "df_corr = df_temp.corr()['Churn'].sort_values(ascending = False)\n",
    "\n",
    "# 取相关系数绝对值最大的20个特征进行观察\n",
    "np.abs(df_corr).sort_values(ascending = False)[: 20]"
   ]
  },
  {
   "cell_type": "markdown",
   "id": "0df9b51e-db7c-4956-89a7-6e4aae137cbd",
   "metadata": {},
   "source": [
    "同样我们发现，衍生特征中相关性表现相对较好的特征，背后的KeyCol并不是原始特征中第一梯队的特征。接下来验证模型效果："
   ]
  },
  {
   "cell_type": "code",
   "execution_count": 177,
   "id": "febf3457-9c1e-40fc-9ea0-45b1f140d595",
   "metadata": {},
   "outputs": [
    {
     "data": {
      "text/plain": [
       "['Churn_gap_tenure_year_2015_kfold']"
      ]
     },
     "execution_count": 177,
     "metadata": {},
     "output_type": "execute_result"
    }
   ],
   "source": [
    "new_col = list(np.abs(df_corr).sort_values(ascending = False)[1: 2].index)\n",
    "new_col"
   ]
  },
  {
   "cell_type": "code",
   "execution_count": 178,
   "id": "5f75629b-5e5a-421e-ac29-8a385a3060d5",
   "metadata": {},
   "outputs": [
    {
     "name": "stdout",
     "output_type": "stream",
     "text": [
      "43.03908157348633 s\n"
     ]
    },
    {
     "data": {
      "text/plain": [
       "(0.8104897723689115,\n",
       " {'columntransformer__num': StandardScaler(),\n",
       "  'logit_threshold__C': 0.2,\n",
       "  'logit_threshold__penalty': 'l1',\n",
       "  'logit_threshold__solver': 'saga'})"
      ]
     },
     "execution_count": 178,
     "metadata": {},
     "output_type": "execute_result"
    }
   ],
   "source": [
    "train_new_temp = train_new_TE_seq[new_col]\n",
    "test_new_temp = test_new_TE_seq[new_col]\n",
    "\n",
    "# 带入模型进行训练\n",
    "features_test(train_new_temp, \n",
    "              test_new_temp, \n",
    "              X_train_OE, \n",
    "              X_test_OE, \n",
    "              y_train, \n",
    "              y_test, \n",
    "              category_cols, \n",
    "              numeric_cols)"
   ]
  },
  {
   "cell_type": "markdown",
   "id": "e9220806-54d4-4902-8288-86a0fa6b6709",
   "metadata": {},
   "source": [
    "能够发现衍生特征仍然表现出了非常不错的特性。"
   ]
  },
  {
   "cell_type": "markdown",
   "id": "27eca1eb-b078-4290-bb5a-361af1e0b5d2",
   "metadata": {},
   "source": [
    "#### 6.3 多变量交叉组合目标编码"
   ]
  },
  {
   "cell_type": "markdown",
   "id": "6b1d735c-b49e-4d5b-a50d-6dba63f220a4",
   "metadata": {},
   "source": [
    "- 双变量交叉组合目标编码"
   ]
  },
  {
   "cell_type": "markdown",
   "id": "4318ab35-2085-4d9c-82f3-acae5cca4757",
   "metadata": {},
   "source": [
    "&emsp;&emsp;接下来我们进一步尝试以交叉组合特征作为KeyCol进行目标编码。既然对于目标编码来说无法通过KeyCol的重要性提前预判衍生特征的重要性，那么我们其实就无法通过原始特征的相关性大小提前预判可能合适的双变量交叉组合KeyCol，因此我们这里首先尝试通过大范围的尝试来找出合适的衍生特征。"
   ]
  },
  {
   "cell_type": "markdown",
   "id": "ff6c389d-d432-47df-b084-7471d6651369",
   "metadata": {},
   "source": [
    "&emsp;&emsp;首先是创建交叉组合KeyCol"
   ]
  },
  {
   "cell_type": "code",
   "execution_count": 179,
   "id": "5bcb6286-b5bb-47e0-8934-512e8eef0f20",
   "metadata": {},
   "outputs": [],
   "source": [
    "# 合并数据集\n",
    "train_temp = pd.concat([X_train_OE[category_cols], X_train_seq], axis=1)\n",
    "test_temp = pd.concat([X_test_OE[category_cols], X_test_seq], axis=1)\n",
    "\n",
    "# 所有离散变量名称列表\n",
    "col_temp = (category_cols + list(X_train_seq.columns)).copy()\n",
    "\n",
    "# 双变量组合特征衍生\n",
    "features_train_new, features_test_new, colNames_train_new, colNames_test_new = Cross_Combination(col_temp, \n",
    "                                                                                                 train_temp, \n",
    "                                                                                                 test_temp)\n",
    "\n",
    "# 调整index\n",
    "features_train_new.index = X_train.index\n",
    "features_test_new.index = X_test.index\n",
    "\n",
    "# 合并数据集\n",
    "X_train_temp = pd.concat([X_train_OE, X_train_seq, features_train_new], axis=1)\n",
    "X_test_temp = pd.concat([X_test_OE, X_test_seq, features_test_new], axis=1)"
   ]
  },
  {
   "cell_type": "code",
   "execution_count": 180,
   "id": "4f32b29f-9c3d-48ed-b498-b486498a3b66",
   "metadata": {},
   "outputs": [
    {
     "data": {
      "text/plain": [
       "(5282, 3589)"
      ]
     },
     "execution_count": 180,
     "metadata": {},
     "output_type": "execute_result"
    }
   ],
   "source": [
    "features_train_new.shape"
   ]
  },
  {
   "cell_type": "code",
   "execution_count": 181,
   "id": "04316eb7-e544-48bf-8a5c-dc43632d333f",
   "metadata": {},
   "outputs": [
    {
     "data": {
      "text/plain": [
       "(5282, 3631)"
      ]
     },
     "execution_count": 181,
     "metadata": {},
     "output_type": "execute_result"
    }
   ],
   "source": [
    "X_train_temp.shape"
   ]
  },
  {
   "cell_type": "markdown",
   "id": "740f4fb2-7073-4e95-bd90-e1ab9f0e19fe",
   "metadata": {},
   "source": [
    "然后进行目标编码。这里我们导入gc库方便及时清理临时变量，以清理不必要的内存占用。此外导入tqdm库，方便我们查看循环执行的进度。"
   ]
  },
  {
   "cell_type": "code",
   "execution_count": 182,
   "id": "88c499ef-aade-448f-8b6e-759da7ad1efe",
   "metadata": {
    "tags": []
   },
   "outputs": [
    {
     "name": "stderr",
     "output_type": "stream",
     "text": [
      "  0%|          | 0/3589 [00:00<?, ?it/s]"
     ]
    },
    {
     "name": "stdout",
     "output_type": "stream",
     "text": [
      "['Churn']\n",
      "3589\n"
     ]
    },
    {
     "name": "stderr",
     "output_type": "stream",
     "text": [
      "100%|██████████| 3589/3589 [28:18<00:00,  2.11it/s]\n"
     ]
    },
    {
     "name": "stdout",
     "output_type": "stream",
     "text": [
      "(5282, 32301)\n",
      "(1761, 32301)\n"
     ]
    },
    {
     "data": {
      "text/plain": [
       "0"
      ]
     },
     "execution_count": 182,
     "metadata": {},
     "output_type": "execute_result"
    }
   ],
   "source": [
    "from tqdm import tqdm\n",
    "import gc\n",
    "\n",
    "# 定义标签\n",
    "col_cat = [target]\n",
    "print(col_cat)\n",
    "\n",
    "# 创建容器\n",
    "key_temp = list((features_train_new.columns)).copy()\n",
    "n = len(key_temp)\n",
    "print(n)\n",
    "\n",
    "colNames_train_new = []\n",
    "colNames_test_new = []\n",
    "features_train_new = []\n",
    "features_test_new = []\n",
    "\n",
    "for keyCol in tqdm(key_temp):\n",
    "    features_train1, features_test1, colNames_train_new, colNames_test_new = Target_Encode(keyCol, \n",
    "                                                                                           X_train_temp, \n",
    "                                                                                           y_train,\n",
    "                                                                                           X_test_temp, \n",
    "                                                                                           col_cat=col_cat)\n",
    "    \n",
    "    colNames_train_new.extend(colNames_train)\n",
    "    colNames_test_new.extend(colNames_test)\n",
    "    features_train_new.append(features_train1)\n",
    "    features_test_new.append(features_test1)\n",
    "\n",
    "    col_temp = category_cols.copy()\n",
    "    \n",
    "# 合并数据集\n",
    "train_new_TE_BC = pd.concat(features_train_new, axis=1)\n",
    "test_new_TE_BC = pd.concat(features_test_new, axis=1)\n",
    "print(train_new_TE_BC.shape)\n",
    "print(test_new_TE_BC.shape)\n",
    "\n",
    "# 内存清理\n",
    "gc.collect()"
   ]
  },
  {
   "cell_type": "code",
   "execution_count": 183,
   "id": "fb8492e3-0cda-423c-a826-ed0c50631a39",
   "metadata": {},
   "outputs": [
    {
     "data": {
      "text/plain": [
       "(5282, 32301)"
      ]
     },
     "execution_count": 183,
     "metadata": {},
     "output_type": "execute_result"
    }
   ],
   "source": [
    "train_new_TE_BC.shape"
   ]
  },
  {
   "cell_type": "markdown",
   "id": "88287674-dc40-40dc-8c9c-eaf58139f39f",
   "metadata": {},
   "source": [
    "此处由于我们采用了所有离散变量的双变量交叉组合作为keyCol，因此衍生出了非常多的特征。接下来我们同样通过循环计算判别每个特征的相关系数："
   ]
  },
  {
   "cell_type": "code",
   "execution_count": 184,
   "id": "840adbb4-92cb-4559-b212-c04366099554",
   "metadata": {},
   "outputs": [
    {
     "name": "stderr",
     "output_type": "stream",
     "text": [
      "  0%|          | 0/32302 [00:00<?, ?it/s]C:\\Users\\vdmion\\anaconda3\\lib\\site-packages\\numpy\\lib\\function_base.py:2642: RuntimeWarning: invalid value encountered in true_divide\n",
      "  c /= stddev[:, None]\n",
      "C:\\Users\\vdmion\\anaconda3\\lib\\site-packages\\numpy\\lib\\function_base.py:2643: RuntimeWarning: invalid value encountered in true_divide\n",
      "  c /= stddev[None, :]\n",
      "100%|██████████| 32302/32302 [01:38<00:00, 329.55it/s]\n"
     ]
    },
    {
     "data": {
      "text/plain": [
       "26"
      ]
     },
     "execution_count": 184,
     "metadata": {},
     "output_type": "execute_result"
    }
   ],
   "source": [
    "# 测试相关系数\n",
    "# 修改index\n",
    "train_new_TE_BC.index = X_train.index\n",
    "\n",
    "# 拼接衍生特征与标签\n",
    "df_temp = pd.concat([train_new_TE_BC, y_train], axis=1)\n",
    "\n",
    "# 计算相关系数\n",
    "df_corr = pd.Series(dtype=np.float64)\n",
    "\n",
    "for col in tqdm(df_temp.columns):\n",
    "    corr = np.corrcoef(df_temp[col], df_temp['Churn'])[0, 1]\n",
    "    s = pd.Series(corr, index=[col])\n",
    "    df_corr = df_corr.append(s)\n",
    "\n",
    "# 内存清理\n",
    "gc.collect()"
   ]
  },
  {
   "cell_type": "markdown",
   "id": "08b3b714-1a5f-432c-aed3-e2f559ee602c",
   "metadata": {},
   "source": [
    "然后查看相关性较强的衍生特征都是由那些KeyCol创建的："
   ]
  },
  {
   "cell_type": "code",
   "execution_count": 185,
   "id": "f50d4f4b-3cb3-483f-abe1-62b76422b94d",
   "metadata": {},
   "outputs": [
    {
     "data": {
      "text/plain": [
       "Churn                                                       1.000000\n",
       "Churn_Contract&PaymentMethod_0.0&3.0_mean_kfold             0.048124\n",
       "Churn_Contract&PaymentMethod_0.0&3.0_var_kfold              0.047889\n",
       "Churn_Contract&PaymentMethod_0.0&3.0_count_kfold            0.047669\n",
       "Churn_PaymentMethod&tenure_year_2015_3.0&0.0_count_kfold    0.045870\n",
       "Churn_PaymentMethod&tenure_year_2015_3.0&0.0_q2_kfold       0.045795\n",
       "Churn_PaymentMethod&tenure_year_2015_3.0&0.0_mean_kfold     0.045372\n",
       "Churn_PaymentMethod&tenure_year_2015_3.0&0.0_var_kfold      0.045235\n",
       "Churn_Partner&PaymentMethod_0.0&3.0_q2_kfold                0.042659\n",
       "Churn_Partner&PaymentMethod_0.0&3.0_count_kfold             0.042645\n",
       "Churn_PaymentMethod&tenure_month_5_3.0&0.0_count_kfold      0.041902\n",
       "Churn_PaymentMethod&tenure_month_5_3.0&0.0_q2_kfold         0.041848\n",
       "Churn_PaymentMethod&tenure_year_2014_3.0&0.0_count_kfold    0.041755\n",
       "Churn_PaymentMethod&tenure_year_2014_3.0&0.0_q2_kfold       0.041701\n",
       "Churn_PaymentMethod&tenure_month_5_3.0&0.0_mean_kfold       0.041633\n",
       "Churn_PaymentMethod&tenure_year_2014_3.0&0.0_mean_kfold     0.041519\n",
       "Churn_PaymentMethod&tenure_month_5_3.0&0.0_var_kfold        0.041516\n",
       "Churn_PaymentMethod&tenure_month_3_3.0&0.0_var_kfold        0.041465\n",
       "Churn_PaymentMethod&tenure_year_2014_3.0&0.0_var_kfold      0.041363\n",
       "Churn_PaymentMethod&tenure_month_3_3.0&0.0_mean_kfold       0.041360\n",
       "dtype: float64"
      ]
     },
     "execution_count": 185,
     "metadata": {},
     "output_type": "execute_result"
    }
   ],
   "source": [
    "np.abs(df_corr).sort_values(ascending = False)[: 20]"
   ]
  },
  {
   "cell_type": "code",
   "execution_count": 186,
   "id": "fa0e1ac9-6f06-4c14-a04d-8cfbe06278b4",
   "metadata": {},
   "outputs": [
    {
     "data": {
      "text/plain": [
       "Churn_PaymentMethod&tenure_month_1_3.0&0.0_q2_kfold          0.038604\n",
       "Churn_StreamingMovies&PaperlessBilling_2.0&1.0_mean_kfold    0.038552\n",
       "Churn_PaymentMethod&tenure_year_2017_3.0&0.0_count_kfold     0.038336\n",
       "Churn_StreamingMovies&PaperlessBilling_2.0&1.0_var_kfold     0.038299\n",
       "Churn_PaymentMethod&tenure_year_2017_3.0&0.0_q2_kfold        0.038265\n",
       "Churn_PaymentMethod&tenure_year_2017_3.0&0.0_mean_kfold      0.038190\n",
       "Churn_PaymentMethod&tenure_year_2017_3.0&0.0_var_kfold       0.038023\n",
       "Churn_PaymentMethod&tenure_month_12_3.0&0.0_mean_kfold       0.037821\n",
       "Churn_PaymentMethod&tenure_month_7_3.0&0.0_count_kfold       0.037772\n",
       "Churn_PaymentMethod&tenure_month_7_3.0&0.0_q2_kfold          0.037741\n",
       "Churn_PaymentMethod&tenure_month_12_3.0&0.0_count_kfold      0.037736\n",
       "Churn_PaymentMethod&tenure_month_12_3.0&0.0_q2_kfold         0.037713\n",
       "Churn_PaymentMethod&tenure_month_12_3.0&0.0_var_kfold        0.037682\n",
       "Churn_PaymentMethod&tenure_month_10_3.0&0.0_mean_kfold       0.037666\n",
       "Churn_PaymentMethod&tenure_month_10_3.0&0.0_count_kfold      0.037591\n",
       "Churn_PaymentMethod&tenure_month_10_3.0&0.0_var_kfold        0.037561\n",
       "Churn_PaymentMethod&tenure_quarter_2_3.0&0.0_mean_kfold      0.037540\n",
       "Churn_PaymentMethod&tenure_month_7_3.0&0.0_mean_kfold        0.037497\n",
       "Churn_PaymentMethod&tenure_quarter_2_3.0&0.0_var_kfold       0.037487\n",
       "Churn_PaymentMethod&tenure_month_10_3.0&0.0_q2_kfold         0.037469\n",
       "dtype: float64"
      ]
     },
     "execution_count": 186,
     "metadata": {},
     "output_type": "execute_result"
    }
   ],
   "source": [
    "np.abs(df_corr).sort_values(ascending = False)[60: 80]"
   ]
  },
  {
   "cell_type": "markdown",
   "id": "dfe12ad4-9b7d-4e04-b630-f580ceff9f56",
   "metadata": {},
   "source": [
    "- 有效KeyCol识别"
   ]
  },
  {
   "cell_type": "markdown",
   "id": "8f552171-6352-4b58-a53c-3a88bf8aefeb",
   "metadata": {},
   "source": [
    "&emsp;&emsp;通过观察上述衍生结果我们不难发现，哪些表现较好的双变量交叉组合的KeyCol，原始特征也正是目标编码中表现较好的特征，例如PaymentMethod、tenure_year_2015、StreamingMovies、OnlineBackup等。那么也就是说，尽管我们无法通过原始特征的相关系数判断交叉组合后在目标编码中的表现，但我们可以通过原始特征在目标编码中的表现，判断这些特征是否会在双变量、甚至是三变量交叉组合过程中会有更好的表现。而基于这一判断，我们即可在后续的双变量交叉组合目标编码的过程中提前做好预判、利用有限的算力和时间优先去创建那些在原始状态下目标编码就有较好表现的特征的两两交叉组合作为KeyCol带入到目标编码环节中。当然，在这一判断下，我们甚至能够进一步尝试重要特征的三变量、甚至是四变量交叉组合的目标编码特征衍生。"
   ]
  },
  {
   "cell_type": "markdown",
   "id": "1787a728-4f9a-407c-88d4-53ceba39ccad",
   "metadata": {},
   "source": [
    "&emsp;&emsp;不过需要注意的是，这一规律其实在交叉组特征衍生和分组统计特征衍生中其实也存在，也就是之前描述的“强者恒强”的规律，只不过此时的“强”，不再是通过原始变量的相关系数进行判断，而是通过衍生特征的有效性，判断原始特征是否够“强”。"
   ]
  },
  {
   "cell_type": "markdown",
   "id": "d0f9ea1d-ed80-4cf5-b307-d7a911a6bb8d",
   "metadata": {},
   "source": [
    "#### 6.4 目标编码的执行流程"
   ]
  },
  {
   "cell_type": "markdown",
   "id": "006d12a9-6fe9-41fa-87e9-868f22dc7d23",
   "metadata": {},
   "source": [
    "&emsp;&emsp;进一步的，基于该规律，其实我们就能制定目标编码特征衍生的一般流程。首先对于目标编码来说，仍然是一个由浅入深的过程，首先我们先需要大范围尝试单变量作为KeyCol进行目标编码的结果，同样，这里的单变量可以是原始特征、也可以是时序衍生特征、或者是原始特征独热编码之后的衍生特征，然后根据目标编码结果，挑选那些重要的单变量进行两两组合甚至是三三组合，再将这些交叉组合衍生的特征作为KeyCol进行更深层次的目标编码。"
   ]
  },
  {
   "cell_type": "markdown",
   "id": "eef78c08-d6a3-48f4-882c-0fe3c79ddee3",
   "metadata": {},
   "source": [
    "&emsp;&emsp;当然，另外需要注意的是，在实际建模过程中，交叉组合特征衍生肯定是在目标编码之前执行的，因此在交叉组合特征衍生阶段，我们建议尽可能进行更大范围的组合，以及进行三三组合。交叉组合过程本身并不会特别消耗算力，而组合出来的特征，可以直接作为目标编码过程中的备选KeyCol。"
   ]
  },
  {
   "cell_type": "markdown",
   "id": "50d3f27c-23fc-4c6d-a37d-63c5d27621c6",
   "metadata": {},
   "source": [
    "> 尽管三三组合作为KeyCol的目标编码的确有可能提升模型效果，但在大多数实践环节中，受限于算力和时间，两两组合已经是极限了。"
   ]
  },
  {
   "cell_type": "markdown",
   "id": "65b92b31-cdd5-4191-bee0-9e1281a05b12",
   "metadata": {
    "tags": []
   },
   "source": [
    "### 7.NLP特征衍生"
   ]
  },
  {
   "cell_type": "markdown",
   "id": "de14e49e-57d5-4c72-a4b6-8bba63e56d14",
   "metadata": {},
   "source": [
    "&emsp;&emsp;在特征衍生的最后阶段，我们将考虑进行NLP特征衍生。基于我们对NLP特征衍生的理解，当前数据集的NLP特征衍生总共有以下两种衍生方案，其一是直接带入离散变量进行NLP特征衍生（此时只计算TF-IDF），或者按照分组统计特征衍生的思路，先选择KeyCol，然后分组进行NLP特征衍生，此时可以考虑进行CountVec和TF-IDF两种指标的计算。"
   ]
  },
  {
   "cell_type": "markdown",
   "id": "894d9290-c2d3-4b86-9fcf-036063179d6e",
   "metadata": {},
   "source": [
    "#### 7.1 基于离散变量的NLP特征衍生"
   ]
  },
  {
   "cell_type": "markdown",
   "id": "7ac41fef-574d-4883-8c93-f663df75132b",
   "metadata": {},
   "source": [
    "&emsp;&emsp;首先我们尝试带入全部离散变量，在不进行分组时，NLP特征衍生实际上就是围绕每一列进行TF-IDF计算。"
   ]
  },
  {
   "cell_type": "code",
   "execution_count": 187,
   "id": "122a27fa-d2ae-482b-b53a-6ac1590668e2",
   "metadata": {
    "tags": []
   },
   "outputs": [
    {
     "data": {
      "text/plain": [
       "\u001b[1;31mSignature:\u001b[0m\n",
       "\u001b[0mNLP_Group_Stat\u001b[0m\u001b[1;33m(\u001b[0m\u001b[1;33m\n",
       "\u001b[0m    \u001b[0mX_train\u001b[0m\u001b[1;33m,\u001b[0m\u001b[1;33m\n",
       "\u001b[0m    \u001b[0mX_test\u001b[0m\u001b[1;33m,\u001b[0m\u001b[1;33m\n",
       "\u001b[0m    \u001b[0mcol_cat\u001b[0m\u001b[1;33m,\u001b[0m\u001b[1;33m\n",
       "\u001b[0m    \u001b[0mkeyCol\u001b[0m\u001b[1;33m=\u001b[0m\u001b[1;32mNone\u001b[0m\u001b[1;33m,\u001b[0m\u001b[1;33m\n",
       "\u001b[0m    \u001b[0mtfidf\u001b[0m\u001b[1;33m=\u001b[0m\u001b[1;32mTrue\u001b[0m\u001b[1;33m,\u001b[0m\u001b[1;33m\n",
       "\u001b[0m    \u001b[0mcountVec\u001b[0m\u001b[1;33m=\u001b[0m\u001b[1;32mTrue\u001b[0m\u001b[1;33m,\u001b[0m\u001b[1;33m\n",
       "\u001b[0m\u001b[1;33m)\u001b[0m\u001b[1;33m\u001b[0m\u001b[1;33m\u001b[0m\u001b[0m\n",
       "\u001b[1;31mDocstring:\u001b[0m\n",
       "NLP特征衍生函数\n",
       "\n",
       ":param X_train: 训练集特征\n",
       ":param X_test: 测试集特征\n",
       ":param col_cat: 参与衍生的离散型变量，只能带入多个列\n",
       ":param keyCol: 分组参考的关键变量，输入字符串时代表按照单独列分组，输入list代表按照多个列进行分组\n",
       ":param tfidf: 是否进行tfidf计算  \n",
       ":param countVec: 是否进行CountVectorizer计算\n",
       "\n",
       ":return：NLP特征衍生后的新特征和新特征的名称\n",
       "\u001b[1;31mFile:\u001b[0m      d:\\work\\jupyter\\telco\\正式课程\\features_creation.py\n",
       "\u001b[1;31mType:\u001b[0m      function\n"
      ]
     },
     "metadata": {},
     "output_type": "display_data"
    }
   ],
   "source": [
    "NLP_Group_Stat?"
   ]
  },
  {
   "cell_type": "code",
   "execution_count": 188,
   "id": "d93e40ec-69de-4c60-bb53-c83cb674e7ef",
   "metadata": {},
   "outputs": [
    {
     "name": "stdout",
     "output_type": "stream",
     "text": [
      "(5282, 39)\n"
     ]
    },
    {
     "data": {
      "text/plain": [
       "Churn                     1.000000\n",
       "Contract_tfidf            0.398629\n",
       "tenure_year_2019_tfidf    0.333148\n",
       "OnlineSecurity_tfidf      0.296923\n",
       "TechSupport_tfidf         0.278950\n",
       "PaperlessBilling_tfidf    0.246287\n",
       "tenure_quarter_4_tfidf    0.233339\n",
       "tenure_year_2014_tfidf    0.226298\n",
       "tenure_month_12_tfidf     0.214692\n",
       "PaymentMethod_tfidf       0.186292\n",
       "OnlineBackup_tfidf        0.177502\n",
       "DeviceProtection_tfidf    0.171308\n",
       "SeniorCitizen_tfidf       0.161434\n",
       "tenure_quarter_1_tfidf    0.136922\n",
       "Dependents_tfidf          0.128100\n",
       "Partner_tfidf             0.127240\n",
       "PhoneService_tfidf        0.126132\n",
       "tenure_month_1_tfidf      0.120929\n",
       "tenure_year_2015_tfidf    0.098806\n",
       "MultipleLines_tfidf       0.077045\n",
       "Name: Churn, dtype: float64"
      ]
     },
     "execution_count": 188,
     "metadata": {},
     "output_type": "execute_result"
    }
   ],
   "source": [
    "# 数据集拼接\n",
    "X_train_temp = pd.concat([X_train_OE, X_train_seq], axis=1)\n",
    "X_test_temp = pd.concat([X_test_OE, X_test_seq], axis=1)\n",
    "\n",
    "# 所有离散变量名称\n",
    "col_cat = category_cols + list(X_train_seq.columns)\n",
    "\n",
    "# 进行NLP特征衍生\n",
    "features_train_new, features_test_new, colNames_train_new, colNames_test_new = NLP_Group_Stat(X_train_temp, \n",
    "                                                                                              X_test_temp, \n",
    "                                                                                              col_cat)\n",
    "\n",
    "\n",
    "# 查看衍生数据集规模\n",
    "print(features_train_new.shape)\n",
    "\n",
    "# 测试相关系数\n",
    "# 修改index\n",
    "features_train_new.index = X_train.index\n",
    "\n",
    "# 拼接衍生特征与标签\n",
    "df_temp = pd.concat([features_train_new, y_train], axis=1)\n",
    "\n",
    "# 计算相关系数\n",
    "df_corr = df_temp.corr()['Churn'].sort_values(ascending = False)\n",
    "\n",
    "# 取相关系数绝对值最大的20个特征进行观察\n",
    "np.abs(df_corr).sort_values(ascending = False)[: 20]"
   ]
  },
  {
   "cell_type": "markdown",
   "id": "5a707a3e-8cf0-4706-9ee3-0805a9398731",
   "metadata": {},
   "source": [
    "能够发现，在IF-IDF的特征衍生过程中，仍然还是表现出了“强者恒强”的现象，其中原始状态下Contract、tenure_year_2019、OnlineSecurity等相关性较强的变量，衍生特征仍然表现出了较强的相关性。接下来我们进一步带入模型进行检测："
   ]
  },
  {
   "cell_type": "code",
   "execution_count": 189,
   "id": "fbfc7624-3274-4e5c-a4c6-bd68a609e746",
   "metadata": {},
   "outputs": [
    {
     "data": {
      "text/plain": [
       "['Contract_tfidf', 'tenure_year_2019_tfidf', 'OnlineSecurity_tfidf']"
      ]
     },
     "execution_count": 189,
     "metadata": {},
     "output_type": "execute_result"
    }
   ],
   "source": [
    "new_col = list(np.abs(df_corr).sort_values(ascending = False)[1: 4].index)\n",
    "new_col"
   ]
  },
  {
   "cell_type": "code",
   "execution_count": 190,
   "id": "502ce37f-901d-4d9c-9d8a-5078e2e5dcee",
   "metadata": {},
   "outputs": [
    {
     "name": "stdout",
     "output_type": "stream",
     "text": [
      "47.58120656013489 s\n"
     ]
    },
    {
     "data": {
      "text/plain": [
       "(0.8108676643444855,\n",
       " {'columntransformer__num': 'passthrough',\n",
       "  'logit_threshold__C': 0.1,\n",
       "  'logit_threshold__penalty': 'l2',\n",
       "  'logit_threshold__solver': 'lbfgs'})"
      ]
     },
     "execution_count": 190,
     "metadata": {},
     "output_type": "execute_result"
    }
   ],
   "source": [
    "train_new_temp = features_train_new[new_col]\n",
    "test_new_temp = features_test_new[new_col]\n",
    "\n",
    "# 带入模型进行训练\n",
    "features_test(train_new_temp, \n",
    "              test_new_temp, \n",
    "              X_train_OE, \n",
    "              X_test_OE, \n",
    "              y_train, \n",
    "              y_test, \n",
    "              category_cols, \n",
    "              numeric_cols)"
   ]
  },
  {
   "cell_type": "markdown",
   "id": "924254d8-5cf7-49d7-b2e7-c71d89d12bff",
   "metadata": {},
   "source": [
    "能够发现衍生特征效果不错。"
   ]
  },
  {
   "cell_type": "markdown",
   "id": "88e9c3ea-225b-462b-aa0e-5e1c62a4dfab",
   "metadata": {},
   "source": [
    "#### 7.2 基于分组统计的NLP特征衍生"
   ]
  },
  {
   "cell_type": "markdown",
   "id": "14d74c89-ce9e-4d22-999a-0a965156d21a",
   "metadata": {},
   "source": [
    "&emsp;&emsp;接下来进一步尝试基于分组统计的NLP特征衍生，既然NLP特征衍生过程并不涉及交叉统计，那么我们有理由判断在进行分组NLP特征统计的过程中，KeyCol的选取将表现出和分组统计特征衍生相类似的情况，即重要的KeyCol衍生出重要的特征，甚至两两组合、三三组合而成的KeyCol也是如此。"
   ]
  },
  {
   "cell_type": "markdown",
   "id": "52da42e5-0248-4ca1-901a-aebf52dc29f3",
   "metadata": {},
   "source": [
    "&emsp;&emsp;接下来我们就尝试进行验证。"
   ]
  },
  {
   "cell_type": "markdown",
   "id": "5323e5ae-8f6c-4d41-bc19-d2e0a44f0c4c",
   "metadata": {},
   "source": [
    "- 单变量分组NLP特征衍生"
   ]
  },
  {
   "cell_type": "markdown",
   "id": "ee44e9b8-43d3-476e-a61c-cccefe168c79",
   "metadata": {},
   "source": [
    "&emsp;&emsp;首先是单变量分组情况下的NLP特征衍生，可以通过如下方式实现:"
   ]
  },
  {
   "cell_type": "code",
   "execution_count": 191,
   "id": "496d6008-8dfe-46d9-ad93-047fef873114",
   "metadata": {},
   "outputs": [
    {
     "name": "stdout",
     "output_type": "stream",
     "text": [
      "(5282, 2964)\n",
      "(1761, 2964)\n"
     ]
    },
    {
     "data": {
      "text/plain": [
       "Churn                              1.000000\n",
       "tenure_month_8_Contract_cntv       0.406389\n",
       "Dependents_Contract_tfidf          0.406367\n",
       "tenure_month_12_Contract_tfidf     0.406191\n",
       "OnlineSecurity_Contract_tfidf      0.406165\n",
       "tenure_year_2018_Contract_cntv     0.405956\n",
       "tenure_month_11_Contract_cntv      0.405771\n",
       "Partner_Contract_tfidf             0.405769\n",
       "PaperlessBilling_Contract_tfidf    0.405416\n",
       "DeviceProtection_Contract_tfidf    0.405269\n",
       "SeniorCitizen_Contract_tfidf       0.405048\n",
       "tenure_quarter_3_Contract_cntv     0.404980\n",
       "TechSupport_Contract_tfidf         0.404805\n",
       "tenure_month_10_Contract_cntv      0.404802\n",
       "tenure_year_2019_Contract_tfidf    0.404660\n",
       "tenure_quarter_4_Contract_tfidf    0.404501\n",
       "PaymentMethod_Contract_tfidf       0.404190\n",
       "tenure_quarter_4_Contract_cntv     0.404121\n",
       "tenure_month_7_Contract_cntv       0.404077\n",
       "tenure_month_5_Contract_cntv       0.403653\n",
       "Name: Churn, dtype: float64"
      ]
     },
     "execution_count": 191,
     "metadata": {},
     "output_type": "execute_result"
    }
   ],
   "source": [
    "# 创建容器\n",
    "col_temp = col_cat.copy()\n",
    "colNames_train_new = []\n",
    "colNames_test_new = []\n",
    "features_train_new = []\n",
    "features_test_new = []\n",
    "\n",
    "for i in range(len(col_temp)):\n",
    "    keyCol = col_temp.pop(i)\n",
    "    features_train1, features_test1, colNames_train, colNames_test = NLP_Group_Stat(X_train_temp, \n",
    "                                                                                    X_test_temp, \n",
    "                                                                                    col_temp,\n",
    "                                                                                    keyCol)\n",
    "\n",
    "    colNames_train_new.extend(colNames_train)\n",
    "    colNames_test_new.extend(colNames_test)\n",
    "    features_train_new.append(features_train1)\n",
    "    features_test_new.append(features_test1)\n",
    "    \n",
    "    col_temp = col_cat.copy()\n",
    "\n",
    "\n",
    "# 合并数据集\n",
    "features_train_new = pd.concat(features_train_new, axis=1)\n",
    "features_test_new = pd.concat(features_test_new, axis=1)\n",
    "print(features_train_new.shape)\n",
    "print(features_test_new.shape)\n",
    "\n",
    "# 内存清理\n",
    "gc.collect()\n",
    "\n",
    "# 测试相关系数\n",
    "# 修改index\n",
    "features_train_new.index = X_train.index\n",
    "\n",
    "# 拼接衍生特征与标签\n",
    "df_temp = pd.concat([features_train_new, y_train], axis=1)\n",
    "\n",
    "# 计算相关系数\n",
    "df_corr = df_temp.corr()['Churn'].sort_values(ascending = False)\n",
    "\n",
    "# 取相关系数绝对值最大的20个特征进行观察\n",
    "np.abs(df_corr).sort_values(ascending = False)[: 20]"
   ]
  },
  {
   "cell_type": "markdown",
   "id": "fd7b9529-2e00-4aa9-a5c8-d0c9a7b20f21",
   "metadata": {},
   "source": [
    "能够发现，衍生特征中处于第一梯队的仍然都是以contract作为KeyCol的衍生特征。我们继续查看其他衍生特征："
   ]
  },
  {
   "cell_type": "code",
   "execution_count": 192,
   "id": "ec7024f1-c466-45a0-b2d2-49e3c0daef2e",
   "metadata": {},
   "outputs": [
    {
     "data": {
      "text/plain": [
       "StreamingMovies_Contract_cntv            0.366081\n",
       "tenure_month_8_OnlineSecurity_cntv       0.362731\n",
       "Dependents_OnlineSecurity_tfidf          0.362719\n",
       "tenure_year_2017_OnlineSecurity_cntv     0.362678\n",
       "tenure_month_8_OnlineSecurity_tfidf      0.362612\n",
       "PhoneService_OnlineSecurity_cntv         0.362591\n",
       "gender_OnlineSecurity_cntv               0.362476\n",
       "tenure_quarter_3_OnlineSecurity_cntv     0.362327\n",
       "tenure_year_2020_OnlineSecurity_cntv     0.362078\n",
       "tenure_month_7_OnlineSecurity_cntv       0.361873\n",
       "tenure_month_9_OnlineSecurity_cntv       0.361821\n",
       "tenure_year_2017_OnlineSecurity_tfidf    0.361776\n",
       "tenure_month_10_OnlineSecurity_cntv      0.361756\n",
       "tenure_month_11_OnlineSecurity_cntv      0.361098\n",
       "tenure_quarter_3_Contract_tfidf          0.360663\n",
       "SeniorCitizen_OnlineSecurity_cntv        0.360471\n",
       "StreamingTV_OnlineSecurity_cntv          0.359959\n",
       "gender_OnlineSecurity_tfidf              0.359015\n",
       "tenure_month_6_OnlineSecurity_cntv       0.358508\n",
       "PaymentMethod_OnlineSecurity_cntv        0.358384\n",
       "Name: Churn, dtype: float64"
      ]
     },
     "execution_count": 192,
     "metadata": {},
     "output_type": "execute_result"
    }
   ],
   "source": [
    "np.abs(df_corr).sort_values(ascending = False)[50: 70]"
   ]
  },
  {
   "cell_type": "markdown",
   "id": "3da532e3-12c5-4062-8598-8a4b48ea117c",
   "metadata": {},
   "source": [
    "第二梯队的衍生特征的KeyCol是OnlineSecurity，也是重要特征之一。根据上述结果也最终验证了NLP特征衍生的一般规律，和分组统计衍生一样，NLP分组特征衍生结果也是高度依赖于KeyCol的选取。"
   ]
  },
  {
   "cell_type": "markdown",
   "id": "06b88357-dc47-4853-90b4-7a5393049b9a",
   "metadata": {},
   "source": [
    "- 双变量交叉组合NLP特征衍生"
   ]
  },
  {
   "cell_type": "markdown",
   "id": "bd19edad-cae0-4d8d-978e-a88e79add1f2",
   "metadata": {},
   "source": [
    "&emsp;&emsp;接下来，我们进一步测试以双变量交叉组合作为KeyCol进行NLP特征衍生。当然，根据上述结果我们已经不难判断，在双变量交叉组合的NLP特征衍生过程中，表现较好的特征肯定也是重要特征交叉组合出来的KeyCol的衍生结果。我们可以通过下述方式进行验证，需要注意的是，对于NLP特征衍生来说，我们定义的函数可以自动执行交叉组合的过程，无需另行进行交叉组合特征衍生计算："
   ]
  },
  {
   "cell_type": "code",
   "execution_count": 193,
   "id": "ca55704e-d0d3-47cb-b82d-9d54f7889109",
   "metadata": {
    "tags": []
   },
   "outputs": [
    {
     "data": {
      "text/plain": [
       "\u001b[1;31mSignature:\u001b[0m\n",
       "\u001b[0mNLP_Group_Stat\u001b[0m\u001b[1;33m(\u001b[0m\u001b[1;33m\n",
       "\u001b[0m    \u001b[0mX_train\u001b[0m\u001b[1;33m,\u001b[0m\u001b[1;33m\n",
       "\u001b[0m    \u001b[0mX_test\u001b[0m\u001b[1;33m,\u001b[0m\u001b[1;33m\n",
       "\u001b[0m    \u001b[0mcol_cat\u001b[0m\u001b[1;33m,\u001b[0m\u001b[1;33m\n",
       "\u001b[0m    \u001b[0mkeyCol\u001b[0m\u001b[1;33m=\u001b[0m\u001b[1;32mNone\u001b[0m\u001b[1;33m,\u001b[0m\u001b[1;33m\n",
       "\u001b[0m    \u001b[0mtfidf\u001b[0m\u001b[1;33m=\u001b[0m\u001b[1;32mTrue\u001b[0m\u001b[1;33m,\u001b[0m\u001b[1;33m\n",
       "\u001b[0m    \u001b[0mcountVec\u001b[0m\u001b[1;33m=\u001b[0m\u001b[1;32mTrue\u001b[0m\u001b[1;33m,\u001b[0m\u001b[1;33m\n",
       "\u001b[0m\u001b[1;33m)\u001b[0m\u001b[1;33m\u001b[0m\u001b[1;33m\u001b[0m\u001b[0m\n",
       "\u001b[1;31mDocstring:\u001b[0m\n",
       "NLP特征衍生函数\n",
       "\n",
       ":param X_train: 训练集特征\n",
       ":param X_test: 测试集特征\n",
       ":param col_cat: 参与衍生的离散型变量，只能带入多个列\n",
       ":param keyCol: 分组参考的关键变量，输入字符串时代表按照单独列分组，输入list代表按照多个列进行分组\n",
       ":param tfidf: 是否进行tfidf计算  \n",
       ":param countVec: 是否进行CountVectorizer计算\n",
       "\n",
       ":return：NLP特征衍生后的新特征和新特征的名称\n",
       "\u001b[1;31mFile:\u001b[0m      d:\\work\\jupyter\\telco\\正式课程\\features_creation.py\n",
       "\u001b[1;31mType:\u001b[0m      function\n"
      ]
     },
     "metadata": {},
     "output_type": "display_data"
    }
   ],
   "source": [
    "NLP_Group_Stat?"
   ]
  },
  {
   "cell_type": "code",
   "execution_count": 194,
   "id": "384e9558-397a-4b3c-a6d0-c48ae75bc208",
   "metadata": {
    "tags": []
   },
   "outputs": [
    {
     "name": "stderr",
     "output_type": "stream",
     "text": [
      "100%|██████████| 39/39 [00:16<00:00,  2.38it/s]\n"
     ]
    },
    {
     "name": "stdout",
     "output_type": "stream",
     "text": [
      "(5282, 54834)\n",
      "(1761, 54834)\n"
     ]
    },
    {
     "data": {
      "text/plain": [
       "26"
      ]
     },
     "execution_count": 194,
     "metadata": {},
     "output_type": "execute_result"
    }
   ],
   "source": [
    "# 合并数据集\n",
    "train_temp = pd.concat([X_train_OE[category_cols], X_train_seq], axis=1)\n",
    "test_temp = pd.concat([X_test_OE[category_cols], X_test_seq], axis=1)\n",
    "\n",
    "# 所有离散变量名称列表\n",
    "col_cat = (category_cols + list(X_train_seq.columns)).copy()\n",
    "n = len(col_cat)\n",
    "\n",
    "# 创建容器\n",
    "col_temp = col_cat.copy()\n",
    "keyCol = []\n",
    "colNames_train_new = []\n",
    "colNames_test_new = []\n",
    "features_train_new = []\n",
    "features_test_new = []\n",
    "\n",
    "for i in tqdm(range(n)):\n",
    "    for j in range(i+1, n):\n",
    "        keyCol.append(col_temp.pop(i))\n",
    "        keyCol.append(col_temp.pop(j-1))\n",
    "        features_train1, features_test1, colNames_train, colNames_test = NLP_Group_Stat(train_temp, \n",
    "                                                                                        test_temp, \n",
    "                                                                                        col_temp,\n",
    "                                                                                        keyCol)\n",
    "        \n",
    "        colNames_train_new.extend(colNames_train)\n",
    "        colNames_test_new.extend(colNames_test)\n",
    "        features_train_new.append(features_train1)\n",
    "        features_test_new.append(features_test1)\n",
    "        \n",
    "        keyCol = []\n",
    "        col_temp = col_cat.copy()\n",
    "    \n",
    "# 合并数据集\n",
    "features_train_new = pd.concat(features_train_new, axis=1)\n",
    "features_test_new = pd.concat(features_test_new, axis=1)\n",
    "print(features_train_new.shape)\n",
    "print(features_test_new.shape)\n",
    "\n",
    "# 内存清理\n",
    "gc.collect()"
   ]
  },
  {
   "cell_type": "markdown",
   "id": "0eb597a7-26a1-48c6-9ffb-6c93fe4dd68e",
   "metadata": {},
   "source": [
    "能够发现，由于此处只进行了sum和TF-IDF的计算，相比分组统计特征衍生，整体计算速度要快了很多。接下来进一步进行相关系数检验："
   ]
  },
  {
   "cell_type": "code",
   "execution_count": 195,
   "id": "f499f4a3-862a-411a-bf53-c2ce41d0515b",
   "metadata": {},
   "outputs": [
    {
     "name": "stderr",
     "output_type": "stream",
     "text": [
      "100%|██████████| 54835/54835 [00:39<00:00, 1392.86it/s]\n"
     ]
    },
    {
     "data": {
      "text/plain": [
       "26"
      ]
     },
     "execution_count": 195,
     "metadata": {},
     "output_type": "execute_result"
    }
   ],
   "source": [
    "# 测试相关系数\n",
    "# 修改index\n",
    "features_train_new.index = X_train.index\n",
    "\n",
    "# 拼接衍生特征与标签\n",
    "df_temp = pd.concat([features_train_new, y_train], axis=1)\n",
    "\n",
    "# 计算相关系数\n",
    "df_corr = pd.Series(dtype=np.float64)\n",
    "\n",
    "for col in tqdm(df_temp.columns):\n",
    "    corr = np.corrcoef(df_temp[col], df_temp['Churn'])[0, 1]\n",
    "    s = pd.Series(corr, index=[col])\n",
    "    df_corr = df_corr.append(s)\n",
    "\n",
    "# 内存清理\n",
    "gc.collect()"
   ]
  },
  {
   "cell_type": "code",
   "execution_count": 196,
   "id": "d778c097-25bc-4683-90f3-7e3e1292ada1",
   "metadata": {},
   "outputs": [
    {
     "data": {
      "text/plain": [
       "Churn                                             1.000000\n",
       "tenure_month_11_InternetService&Contract_cntv     0.467464\n",
       "tenure_month_9_InternetService&Contract_cntv      0.466496\n",
       "tenure_month_10_InternetService&Contract_cntv     0.465473\n",
       "tenure_quarter_4_InternetService&Contract_cntv    0.464573\n",
       "tenure_quarter_3_InternetService&Contract_cntv    0.463899\n",
       "PaymentMethod_InternetService&Contract_cntv       0.460555\n",
       "tenure_month_8_InternetService&Contract_cntv      0.459681\n",
       "PaperlessBilling_InternetService&Contract_cntv    0.458440\n",
       "tenure_month_7_InternetService&Contract_cntv      0.458075\n",
       "gender_InternetService&Contract_cntv              0.457934\n",
       "tenure_year_2018_InternetService&Contract_cntv    0.457297\n",
       "tenure_year_2018_OnlineSecurity&Contract_cntv     0.455537\n",
       "tenure_month_8_OnlineSecurity&Contract_cntv       0.454826\n",
       "TechSupport_InternetService&Contract_tfidf        0.454414\n",
       "tenure_month_12_InternetService&Contract_cntv     0.454358\n",
       "tenure_year_2017_OnlineSecurity&Contract_cntv     0.454105\n",
       "tenure_month_9_OnlineSecurity&Contract_cntv       0.453722\n",
       "tenure_quarter_3_OnlineSecurity&Contract_cntv     0.453573\n",
       "tenure_month_6_InternetService&Contract_cntv      0.453025\n",
       "dtype: float64"
      ]
     },
     "execution_count": 196,
     "metadata": {},
     "output_type": "execute_result"
    }
   ],
   "source": [
    "np.abs(df_corr).sort_values(ascending = False)[: 20]"
   ]
  },
  {
   "cell_type": "markdown",
   "id": "6745f442-3804-41cf-bb7e-777b1a5734e5",
   "metadata": {},
   "source": [
    "能够发现，仍然还是原始条件较好的变量在进行交叉组合后衍生出了更好的特征，和我们此前判断的一致。当然我们也可以进一步带入模型进行验证："
   ]
  },
  {
   "cell_type": "code",
   "execution_count": 197,
   "id": "5a04d41d-3731-47a6-92fd-74b883559acf",
   "metadata": {},
   "outputs": [
    {
     "data": {
      "text/plain": [
       "['tenure_month_11_InternetService&Contract_cntv',\n",
       " 'tenure_month_9_InternetService&Contract_cntv',\n",
       " 'tenure_month_10_InternetService&Contract_cntv']"
      ]
     },
     "execution_count": 197,
     "metadata": {},
     "output_type": "execute_result"
    }
   ],
   "source": [
    "new_col = list(np.abs(df_corr).sort_values(ascending = False)[1: 4].index)\n",
    "new_col"
   ]
  },
  {
   "cell_type": "code",
   "execution_count": 198,
   "id": "14b92f58-d6c8-413b-8509-d84ec528aa4d",
   "metadata": {},
   "outputs": [
    {
     "name": "stdout",
     "output_type": "stream",
     "text": [
      "56.599395513534546 s\n"
     ]
    },
    {
     "data": {
      "text/plain": [
       "(0.8101111636707662,\n",
       " {'columntransformer__num': StandardScaler(),\n",
       "  'logit_threshold__C': 0.30000000000000004,\n",
       "  'logit_threshold__penalty': 'l1',\n",
       "  'logit_threshold__solver': 'saga'})"
      ]
     },
     "execution_count": 198,
     "metadata": {},
     "output_type": "execute_result"
    }
   ],
   "source": [
    "train_new_temp = features_train_new[new_col]\n",
    "test_new_temp = features_test_new[new_col]\n",
    "\n",
    "# 带入模型进行训练\n",
    "features_test(train_new_temp, \n",
    "              test_new_temp, \n",
    "              X_train_OE, \n",
    "              X_test_OE, \n",
    "              y_train, \n",
    "              y_test, \n",
    "              category_cols, \n",
    "              numeric_cols)"
   ]
  },
  {
   "cell_type": "markdown",
   "id": "f4212809-ccaa-4b22-a674-ffb2f5c4e710",
   "metadata": {},
   "source": [
    "当然，既然在分组NLP特征衍生过程中，同样也是KeyCol起决定性作用，同学们课后可以进一步尝试通过最为重要的原始离散变量进行三三组合甚至是四四组合，并以交叉组合结果作为KeyCol继续进行NLP特征衍生，相信也能够有不错的结果。整体来看，NLP特征衍生在实践过程中所表现出来的特质和分组统计汇总无异。"
   ]
  },
  {
   "cell_type": "markdown",
   "id": "d503fb69-d946-44c3-b75f-d72a388bf3a2",
   "metadata": {},
   "source": [
    "&emsp;&emsp;至此，我们就完成了所有批量特征衍生的简单实践，接下来我们对上述实践过程进行总结，并最终形成一套能够很好的权衡效率和效果的特征衍生通用流程。"
   ]
  },
  {
   "cell_type": "markdown",
   "id": "4bb7f71c-048a-4b69-aeef-1f8a526bb89e",
   "metadata": {
    "tags": []
   },
   "source": [
    "### 8.批量特征衍生的通用实战流程"
   ]
  },
  {
   "cell_type": "markdown",
   "id": "4e1c1ff4-bd92-4c13-9471-d85c3dc9ed18",
   "metadata": {},
   "source": [
    "&emsp;&emsp;通过上述实践，我们已经基本掌握了每种方法的使用方法和使用技巧，接下来我们将其进行汇总，总结成一套完整、通用的批量特征衍生实战流程，并最终达到保证效果、提高效率的目的。"
   ]
  },
  {
   "cell_type": "markdown",
   "id": "a7f43661-c8a2-4a62-a072-3f4972566b1a",
   "metadata": {},
   "source": [
    "<center><img src=\"https://s2.loli.net/2022/03/20/gkWACzGaDQc1fmy.png\" alt=\"3\" style=\"zoom:50%;\" />"
   ]
  },
  {
   "cell_type": "markdown",
   "id": "ef58908b-7426-45bc-8173-3d6d1c75283c",
   "metadata": {},
   "source": [
    "&emsp;&emsp;至此，我们就完成了所有特征衍生方法的介绍。"
   ]
  }
 ],
 "metadata": {
  "kernelspec": {
   "display_name": "Python 3 (ipykernel)",
   "language": "python",
   "name": "python3"
  },
  "language_info": {
   "codemirror_mode": {
    "name": "ipython",
    "version": 3
   },
   "file_extension": ".py",
   "mimetype": "text/x-python",
   "name": "python",
   "nbconvert_exporter": "python",
   "pygments_lexer": "ipython3",
   "version": "3.10.9"
  },
  "varInspector": {
   "cols": {
    "lenName": 16,
    "lenType": 16,
    "lenVar": 40
   },
   "kernels_config": {
    "python": {
     "delete_cmd_postfix": "",
     "delete_cmd_prefix": "del ",
     "library": "var_list.py",
     "varRefreshCmd": "print(var_dic_list())"
    },
    "r": {
     "delete_cmd_postfix": ") ",
     "delete_cmd_prefix": "rm(",
     "library": "var_list.r",
     "varRefreshCmd": "cat(var_dic_list()) "
    }
   },
   "types_to_exclude": [
    "module",
    "function",
    "builtin_function_or_method",
    "instance",
    "_Feature"
   ],
   "window_display": false
  }
 },
 "nbformat": 4,
 "nbformat_minor": 5
}
