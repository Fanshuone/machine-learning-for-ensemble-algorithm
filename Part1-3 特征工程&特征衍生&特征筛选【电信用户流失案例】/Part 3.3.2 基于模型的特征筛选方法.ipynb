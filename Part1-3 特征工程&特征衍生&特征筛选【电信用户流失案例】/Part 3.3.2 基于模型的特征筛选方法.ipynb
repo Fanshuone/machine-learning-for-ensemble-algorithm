{
 "cells": [
  {
   "cell_type": "markdown",
   "id": "e8152473-d494-4df8-90da-0dcd33acfa60",
   "metadata": {
    "tags": []
   },
   "source": [
    "# <center> 【Kaggle】Telco Customer Churn 电信用户流失预测案例"
   ]
  },
  {
   "cell_type": "markdown",
   "id": "999c3466-8c0f-4d6e-bfc7-ea77c8c1c86b",
   "metadata": {},
   "source": [
    "## <font face=\"仿宋\">第三部分导读"
   ]
  },
  {
   "cell_type": "markdown",
   "id": "3583ef46-e59a-4592-8893-5b8e606c0b9f",
   "metadata": {},
   "source": [
    "&emsp;&emsp;<font face=\"仿宋\">在案例的第二部分中，我们详细介绍了常用特征转化方法，其中有些是模型训练之必须，如自然数编码、独热编码，而有些方法则是以提高数据质量为核心、在大多数时候都是作为模型优化的备选方法，如连续变量分箱、数据标准化等。当然，在此之后，我们首先尝试构建一些可解释性较强的模型来进行用户流失预测，即采用逻辑回归和决策树模型来进行预测，并同时详细介绍了两种模型在实战中的调优技巧，在最终模型训练完成后，我们也重点讨论了关于两种可解释性模型建模结果的解释方法。"
   ]
  },
  {
   "cell_type": "markdown",
   "id": "728cf940-e688-422f-a410-86feab121eea",
   "metadata": {},
   "source": [
    "&emsp;&emsp;<font face=\"仿宋\">从理论上来说，树模型的判别能力是要强于逻辑回归的，但在上一节最后的建模结果中我们发现两个模型的建模并无显著差别，预测准确率都维持在79%-80%之间，这或许说明很多逻辑回归无法正确判别的样本决策树模型也无法判别，据此我们推测，这是一个“入门容易、精通较难”的数据集。当然，如果我们进一步尝试其他“更强”的集成学习算法，如随机森林、XGB、CatBoost等，在当前数据集上的建模结果和逻辑回归也并无太大差异，因此我们亟需通过特征工程方法进一步提升数据集质量，进而提升最终模型效果。"
   ]
  },
  {
   "cell_type": "markdown",
   "id": "9943432d-a101-4295-a000-ed390eed20d5",
   "metadata": {},
   "source": [
    "&emsp;&emsp;<font face=\"仿宋\">当然，哪怕是复杂模型在当前数据集上表现出了更好的效果，采用特征工程方法提升数据质量仍是优化建模结果必不可少的部分，正如时下流行的描述那样，“数据质量决定模型上界，而建模过程只是不断逼近这个上界”，特征工程中的一系列提高数据质量的方法、无论是在工业界实践中还是各大顶级竞赛里，都已然成了最为重要的提升模型效果的手段。"
   ]
  },
  {
   "cell_type": "markdown",
   "id": "fcfd04ae-93c6-4974-9851-9c7bfe0013a0",
   "metadata": {},
   "source": [
    "<center><img src=\"https://tva1.sinaimg.cn/large/008i3skNly1gwllgk4wgqj31hr0u0wh4.jpg\" alt=\"image-20211112170651500\" style=\"zoom:15%;\" />"
   ]
  },
  {
   "cell_type": "markdown",
   "id": "b98ba4e2-9af8-4fb0-9907-b14120c939d1",
   "metadata": {},
   "source": [
    "&emsp;&emsp;<font face=\"仿宋\">不过，所谓的通过特征工程方法提高数据质量，看似简单但实际操作起来却并不容易。其难点并不在于其中具体操作方法的理解，至少相比机器学习算法原理，特征工程的很多方法并不复杂，特征工程的最大难点在于配合模型与数据进行方法选择、以及各种方法的工程化部署实现。一方面，特征工程方法众多，需要根据实际情况“因地制宜”，但数据的情况千变万化，很多时候需要同时结合数据探索结论、建模人员自身经验以及对各种备选方法的熟悉程度，才能快速制定行之有效的特征工程策略；另一方面，很多特征工程方法不像机器学习算法有现成的库可以直接调用，很多方法、尤其是一些围绕当前数据集的定制方法，需要自己手动实现，而这个过程就对建模人员本身的代码编写能力及工程部署能力提出了更高的要求。总而言之，特征工程是一个实践高度相关的技术，这也是为何课程会在介绍案例的过程中同步介绍特征工程常用方法的原因。"
   ]
  },
  {
   "cell_type": "markdown",
   "id": "8a40c1ea-0532-4530-a323-bb11527e9c22",
   "metadata": {},
   "source": [
    "&emsp;&emsp;<font face=\"仿宋\">当然，从宽泛的角度来看，所有围绕数据集的数据调整工作都可以看成是特征工程的一部分，包括此前介绍的缺失值填补、数据编码、特征变换等，这些方法其实都能一定程度提升数据质量，而本节开始，我们将花费一整节的时间来讨论另一类特征工程方法：特征衍生与特征筛选。而该方法通过创建更多特征来提供更多捕捉数据规律的维度，从而提升模型效果。当然特征衍生也是目前公认的最为有效的、能够显著提升数据集质量方法。"
   ]
  },
  {
   "cell_type": "markdown",
   "id": "d4be3012-0f88-4ab2-924f-0e6a9d38402c",
   "metadata": {},
   "source": [
    "# <center>Part 3.特征衍生与特征筛选     "
   ]
  },
  {
   "cell_type": "markdown",
   "id": "3488323c-d5e8-4ae7-a67a-d267c2629fc1",
   "metadata": {},
   "source": [
    "&emsp;&emsp;本节开始，我们将进入到特征筛选部分内容。首先我们需要将必要的库进行导入："
   ]
  },
  {
   "cell_type": "code",
   "execution_count": 1,
   "id": "37fdc977-7f9d-4cbe-8009-a221bf811ab6",
   "metadata": {
    "tags": []
   },
   "outputs": [],
   "source": [
    "# 基础数据科学运算库\n",
    "import numpy as np\n",
    "import pandas as pd\n",
    "\n",
    "# 可视化库\n",
    "import seaborn as sns\n",
    "import matplotlib.pyplot as plt\n",
    "\n",
    "# 时间模块\n",
    "import time\n",
    "\n",
    "# sklearn库\n",
    "# 数据预处理\n",
    "from sklearn import preprocessing\n",
    "from sklearn.compose import ColumnTransformer\n",
    "from sklearn.preprocessing import OrdinalEncoder\n",
    "from sklearn.preprocessing import OneHotEncoder\n",
    "\n",
    "# 实用函数\n",
    "from sklearn.metrics import accuracy_score, recall_score, precision_score, f1_score, roc_auc_score\n",
    "from sklearn.model_selection import train_test_split\n",
    "\n",
    "# 常用评估器\n",
    "from sklearn.pipeline import make_pipeline\n",
    "from sklearn.linear_model import LogisticRegression\n",
    "from sklearn import tree\n",
    "from sklearn.tree import DecisionTreeClassifier\n",
    "from sklearn.feature_selection import f_classif\n",
    "from sklearn.feature_selection import mutual_info_classif\n",
    "from sklearn.feature_selection import chi2\n",
    "\n",
    "from tqdm import tqdm\n",
    "\n",
    "# 网格搜索\n",
    "from sklearn.model_selection import GridSearchCV\n",
    "\n",
    "# 自定义评估器支持模块\n",
    "from sklearn.base import BaseEstimator, TransformerMixin\n",
    "\n",
    "# 自定义模块\n",
    "from telcoFunc import *\n",
    "# 导入特征衍生模块\n",
    "import features_creation as fc\n",
    "from features_creation import *\n",
    "\n",
    "# re模块相关\n",
    "import inspect, re\n",
    "\n",
    "# 其他模块\n",
    "from tqdm import tqdm\n",
    "import gc"
   ]
  },
  {
   "cell_type": "markdown",
   "id": "55a0bd11-ad39-48b0-9b0a-b697d03d7292",
   "metadata": {},
   "source": [
    "&emsp;&emsp;然后执行Part 1中的数据清洗相关工作："
   ]
  },
  {
   "cell_type": "code",
   "execution_count": 2,
   "id": "aab4bcd9-3af4-4020-ac31-d052c966061b",
   "metadata": {},
   "outputs": [],
   "source": [
    "# 读取数据\n",
    "tcc = pd.read_csv('WA_Fn-UseC_-Telco-Customer-Churn.csv')\n",
    "\n",
    "# 标注连续/离散字段\n",
    "# 离散字段\n",
    "category_cols = ['gender', 'SeniorCitizen', 'Partner', 'Dependents',\n",
    "                'PhoneService', 'MultipleLines', 'InternetService', 'OnlineSecurity', 'OnlineBackup', \n",
    "                'DeviceProtection', 'TechSupport', 'StreamingTV', 'StreamingMovies', 'Contract', 'PaperlessBilling',\n",
    "                'PaymentMethod']\n",
    "\n",
    "# 连续字段\n",
    "numeric_cols = ['tenure', 'MonthlyCharges', 'TotalCharges']\n",
    " \n",
    "# 标签\n",
    "target = 'Churn'\n",
    "\n",
    "# ID列\n",
    "ID_col = 'customerID'\n",
    "\n",
    "# 验证是否划分能完全\n",
    "assert len(category_cols) + len(numeric_cols) + 2 == tcc.shape[1]\n",
    "\n",
    "# 连续字段转化\n",
    "tcc['TotalCharges']= tcc['TotalCharges'].apply(lambda x: x if x!= ' ' else np.nan).astype(float)\n",
    "tcc['MonthlyCharges'] = tcc['MonthlyCharges'].astype(float)\n",
    "\n",
    "# 缺失值填补\n",
    "tcc['TotalCharges'] = tcc['TotalCharges'].fillna(0)\n",
    "\n",
    "# 标签值手动转化 \n",
    "tcc['Churn'].replace(to_replace='Yes', value=1, inplace=True)\n",
    "tcc['Churn'].replace(to_replace='No',  value=0, inplace=True)"
   ]
  },
  {
   "cell_type": "code",
   "execution_count": 3,
   "id": "69ddefd6-a7fa-47f5-8d42-c5587700f05a",
   "metadata": {},
   "outputs": [],
   "source": [
    "features = tcc.drop(columns=[ID_col, target]).copy()\n",
    "labels = tcc['Churn'].copy()"
   ]
  },
  {
   "cell_type": "markdown",
   "id": "33068e06-7983-4104-8dad-8ce0e05070ce",
   "metadata": {},
   "source": [
    "&emsp;&emsp;同时，创建自然编码后的数据集以及经过时序特征衍生的数据集："
   ]
  },
  {
   "cell_type": "code",
   "execution_count": 4,
   "id": "72c90ee9-9ec3-4e30-8f18-52770769276e",
   "metadata": {},
   "outputs": [],
   "source": [
    "# 划分训练集和测试集\n",
    "train, test = train_test_split(tcc, random_state=23)\n",
    "\n",
    "X_train = train.drop(columns=[ID_col, target]).copy()\n",
    "X_test = test.drop(columns=[ID_col, target]).copy()\n",
    "\n",
    "y_train = train['Churn'].copy()\n",
    "y_test = test['Churn'].copy()\n",
    "\n",
    "X_train_seq = pd.DataFrame()\n",
    "X_test_seq = pd.DataFrame()\n",
    "\n",
    "# 年份衍生\n",
    "X_train_seq['tenure_year'] = ((72 - X_train['tenure']) // 12) + 2014\n",
    "X_test_seq['tenure_year'] = ((72 - X_test['tenure']) // 12) + 2014\n",
    "\n",
    "# 月份衍生\n",
    "X_train_seq['tenure_month'] = (72 - X_train['tenure']) % 12 + 1\n",
    "X_test_seq['tenure_month'] = (72 - X_test['tenure']) % 12 + 1\n",
    "\n",
    "# 季度衍生\n",
    "X_train_seq['tenure_quarter'] = ((X_train_seq['tenure_month']-1) // 3) + 1\n",
    "X_test_seq['tenure_quarter'] = ((X_test_seq['tenure_month']-1) // 3) + 1\n",
    "\n",
    "# 独热编码\n",
    "enc = preprocessing.OneHotEncoder()\n",
    "enc.fit(X_train_seq)\n",
    "\n",
    "seq_new = list(X_train_seq.columns)\n",
    "\n",
    "# 创建带有列名称的独热编码之后的df\n",
    "X_train_seq = pd.DataFrame(enc.transform(X_train_seq).toarray(), \n",
    "                           columns = cate_colName(enc, seq_new, drop=None))\n",
    "\n",
    "X_test_seq = pd.DataFrame(enc.transform(X_test_seq).toarray(), \n",
    "                          columns = cate_colName(enc, seq_new, drop=None))\n",
    "\n",
    "# 调整index\n",
    "X_train_seq.index = X_train.index\n",
    "X_test_seq.index = X_test.index"
   ]
  },
  {
   "cell_type": "code",
   "execution_count": 5,
   "id": "881c68b5-547a-49e3-860e-d0b44d409877",
   "metadata": {},
   "outputs": [],
   "source": [
    "ord_enc = OrdinalEncoder()\n",
    "ord_enc.fit(X_train[category_cols])\n",
    "\n",
    "X_train_OE = pd.DataFrame(ord_enc.transform(X_train[category_cols]), columns=category_cols)\n",
    "X_train_OE.index = X_train.index\n",
    "X_train_OE = pd.concat([X_train_OE, X_train[numeric_cols]], axis=1)\n",
    "\n",
    "X_test_OE = pd.DataFrame(ord_enc.transform(X_test[category_cols]), columns=category_cols)\n",
    "X_test_OE.index = X_test.index\n",
    "X_test_OE = pd.concat([X_test_OE, X_test[numeric_cols]], axis=1)"
   ]
  },
  {
   "cell_type": "markdown",
   "id": "c633c02d-4740-4ed6-8c4c-b95050242e55",
   "metadata": {},
   "source": [
    "## <center>Ch.2 基于模型的特征筛选"
   ]
  },
  {
   "cell_type": "markdown",
   "id": "65be8c66-7a5c-4a8b-9532-38b966afbfd1",
   "metadata": {},
   "source": [
    "- 特征的粗筛与精选"
   ]
  },
  {
   "cell_type": "markdown",
   "id": "349d70c3-4473-4ace-b4b3-84608a1678fa",
   "metadata": {},
   "source": [
    "&emsp;&emsp;本节开始我们将进一步介绍借助模型进行特征筛选的方法。相比上一小节介绍的特征评价指标，带入模型的特征筛选会更加耗费计算资源，但同时也会更加精准。这些基于模型的特征筛选的实际应用场景有两方面，其一是围绕小规模数据集，进行精准的特征筛选（例如逐个特征进行筛选）；其二则是针对大规模数据集，配合上一小节的特征评价指标，共同进行特征筛选，这个过程往往是特征评价指标进行粗筛、而模型特征筛选进行更精细的特征筛选。"
   ]
  },
  {
   "cell_type": "markdown",
   "id": "a19058e9-09d3-4250-b4c6-6ac71ae6fd65",
   "metadata": {},
   "source": [
    "&emsp;&emsp;不过需要注意的是，本节介绍的基于模型的特征筛选方法并不是传统意义上Wrapper或者Embedding方法，或者说并不会按照Wrapper或者Embedding方法对本节内容进行分类。严格意义上来说，Wrapper或者Embedding也更多指的是特征筛选的思路，而如果本节的方法有和Wrapper或Embedding类似的思路，也会在遇到的时候详细说明。这里我们可以先回顾下Wrapper方法和Embedding方法。"
   ]
  },
  {
   "cell_type": "markdown",
   "id": "9d7c4133-1ed1-46ea-9099-b3560d0b824c",
   "metadata": {},
   "source": [
    "- Wrapper和Embedding方法的基本思想"
   ]
  },
  {
   "cell_type": "markdown",
   "id": "bdbcc89c-6bc6-46d6-b739-9043baf2ca0b",
   "metadata": {},
   "source": [
    "&emsp;&emsp;和上一小节介绍的特征评估指标不同，Wrapper方法和Embedding方法都需要借助模型来完成特征筛选。并且这两种方法的底层思想也是相通的，即认为原始特征矩阵中存在一个最优特征子集（注意是特征的子集、而不是样本子集），找到这个最优子集就能在保证模型效果的同时完成特征筛选。需要注意的是，这里所谓的“最优”指的是模型效果最好，而如果这个子集是真子集（即最优子集特征数量比原始数据集特征数量少），则相当于是进行了特征筛选。例如，一个有10个特征的数据集，通过某种方式我们发现，带入其中3个特征能够让模型效果最好，则完全可以剔除剩余7个特征，并且在这个过程中我们还训练了一个最优模型。"
   ]
  },
  {
   "cell_type": "markdown",
   "id": "c44ebcac-4d11-4b0f-b644-bcb2e28dd574",
   "metadata": {},
   "source": [
    "&emsp;&emsp;而在具体方法选取层面，Wrapper选择了一种更容易理解、但要耗费更大计算量的方式，即将这个寻找最优子集的问题转化为了一个搜索问题，即原始特征集存在有限多个子集，我们完全可以在这些子集中逐个搜索，筛选出最优的那个子集；而Embedding则是从算法原理层面入手，寻找某些能够在模型训练过程中同步进行特征筛选的模型（例如决策树和带正则化项的逻辑回归），此时就能一次性带入全部特征，然后伴随模型训练完成，特征筛选也同步完成。"
   ]
  },
  {
   "cell_type": "markdown",
   "id": "d7a8c880-8ff5-4c4a-a415-11f7bca92425",
   "metadata": {},
   "source": [
    "- 特征筛选的重要性"
   ]
  },
  {
   "cell_type": "markdown",
   "id": "750b787c-3355-46ae-8703-802ee21fd4a2",
   "metadata": {},
   "source": [
    "&emsp;&emsp;而关于特征筛选的重要性，此前我们只是强调，过多的特征会影响模型的训练速度，但实际上，冗余无用的特征也是会影响最终模型结果的，尤其是决策树以及以树模型为基础的集成学习。"
   ]
  },
  {
   "cell_type": "markdown",
   "id": "6f002fbb-b961-4e8e-9911-26ca677231b9",
   "metadata": {},
   "source": [
    "&emsp;&emsp;其实从严格的算法原理层面来说，冗余无用的特征是并不会影响树模型的建模流程的，但包括sklearn在内的诸多机器学习框架，为了更快速的找到合适的树模型的生长切分点，往往会采用一种更加模糊的搜索方式，也就是说，每次树的生长并不一定是选择那个最优的切分点，而此时，冗余无用的特征就会影响最终模型预测结果。也就是说，某些时候，模型会选择冗余无用特征提供的次优切分点进行树的生长。"
   ]
  },
  {
   "cell_type": "markdown",
   "id": "6f7e6303-61f2-4e61-bf01-49924be7b102",
   "metadata": {},
   "source": [
    "&emsp;&emsp;尽管冗余特征对精度的影响并不会特别大，往往也就是在万分位上的差别，但在很多追求模型精度的场景下，万分位的差距也是很大的优化空间。因此对特征进行筛选，就不仅仅是一项提高模型训练速度的事项，更是一项提升模型结果的策略，也就是一项模型优化的策略。其重要性不言而喻。"
   ]
  },
  {
   "cell_type": "markdown",
   "id": "9bceb72d-cf06-4d2d-9f9d-d4425ebbc717",
   "metadata": {},
   "source": [
    "> 其实对于telco数据集来说，删除部分原始特征，反而会得到一个更好的结果"
   ]
  },
  {
   "cell_type": "markdown",
   "id": "b4f41f8d-ef3a-407f-8812-12c0457192d2",
   "metadata": {},
   "source": [
    "- 可解释性优先 vs 模型效果优先"
   ]
  },
  {
   "cell_type": "markdown",
   "id": "9532f5bd-0f1f-4e77-8428-e0a34aa712db",
   "metadata": {},
   "source": [
    "&emsp;&emsp;此外，需要说明的是，为何会出现小规模数据集和大规模数据分别使用不同特征筛选策略的问题，表面上看，面对小规模数据集，例如一个只有10个特征的数据集，在建模过程中我们当然是希望能够精准的选出能让模型效果最好的n个特征，因此可以考虑采用模型来进行特征筛选，但是我们同时知道，进行一定程度的特征衍生是能够有效提升模型效果的，而阻止我们针对当前数据集进行特征衍生，将其从小样本数据集变成“大数据集”的根本原因，往往就是模型本身的可解释性。"
   ]
  },
  {
   "cell_type": "markdown",
   "id": "d1d98d3e-7c2c-4902-9a71-55b2b3332408",
   "metadata": {},
   "source": [
    "&emsp;&emsp;我们知道，从算法大类上来分，机器学习和传统的统计分析有较大的区别，但哪怕是在机器学习算法范畴内，也往往存在两种不同的建模场景，这其中的区别就在于到底是追求模型可解释性还是模型效果。有的时候模型可解释性的优先级高于模型效果，则会优先考虑使用线性方程、决策树等解释性较强的模型，此时模型准确率只是第二优先级，在选定了这些模型后再尽可能的进行结果层面的优化，我们称其为构建可解释性优先的机器学习建模；第二种情况则是优先考虑最终模型预测效果，即模型效果优先级高于模型可解释性，此时我们往往会考虑目前实践效果最好的集成学习配合模型融合方法进行建模，此时我们称其为结果优先的机器学习建模。"
   ]
  },
  {
   "cell_type": "markdown",
   "id": "9b60a376-abc4-4fe5-b27f-c7002ae74e90",
   "metadata": {},
   "source": [
    "&emsp;&emsp;很明显，目的不同、所采用的模型不同、特征筛选的策略方法也会有很大的不同。一般来说可解释性优先的建模场景往往出现在业务主导的工作场景中，采用可解释性模型的根本原因也往往是为了给非算法专业人员解释、从而增加模型结果认可度。由于此时的模型以线性方程和决策树为主，这些模型对特征容忍度并不高，因此在特征衍生环节我们会优先考虑手动特征衍生（或者批量特征衍生后寻找可解释性较强的特征），而在特征筛选环节则会考虑使用更加精细的方法，尽可能提高模型效果。但整个过程受可解释性条件束缚，无法发挥机器学习真正的威力。而如果是结果优先的机器学习建模，则更多的出现在算法主导的工作场景中，此时所作的一切为了模型结果（及泛化能力）。由于此时我们会更倾向于采用集成学习+模型融合的方法，集成学习对特征容忍度相对较高、并且很多融合过程都希望训练出“和而不同”的模型，此时我们甚至可以考虑在训练不同的集成算法时、带入相似但不同的数据。很明显，此时在特征衍生过程也可以更加激进、执行批量特征衍生，然后在特征筛选环节可能也不必进行过于精准的特征筛选，核心需要考虑的是如何在效果和效率上做出平衡。"
   ]
  },
  {
   "cell_type": "markdown",
   "id": "3fff2fc2-793d-4e49-9061-b3671164fb57",
   "metadata": {},
   "source": [
    "&emsp;&emsp;也就是说，建模目的其实往往和特征工程的方法直接相关。而本小结的内容，在介绍模型特征筛选的方法的同时，也会介绍针对不同场景的筛选策略。"
   ]
  },
  {
   "cell_type": "markdown",
   "id": "9ab5732e-c51f-4193-aedc-f8ccf8165b16",
   "metadata": {},
   "source": [
    "## 一、基于模型的特征评估指标"
   ]
  },
  {
   "cell_type": "markdown",
   "id": "077620dc-e407-465c-8578-ff0fef8b32e7",
   "metadata": {},
   "source": [
    "&emsp;&emsp;在基于模型的特征筛选过程中，最简单也是最通用的方法就是根据模型的训练结果对特征进行评估，而我们知道，很多模型在训练完成时就能同步产出特征重要性指标，例如线性方程中的自变量系数coef_、决策树（及基于树模型的集成学习）中的feature_importances_等，都是可以用于特征评估的指标，这些指标往往代表着特征对当前模型训练的贡献程度，通过这些指标，我们也能观察到特征的重要性，进而辅助我们进行特征筛选。"
   ]
  },
  {
   "cell_type": "markdown",
   "id": "e80624b2-dfb7-4a24-a6a0-be9b316b2f97",
   "metadata": {},
   "source": [
    "- 线性方程中的coef_"
   ]
  },
  {
   "cell_type": "markdown",
   "id": "be050896-d25f-4ba1-9296-e9dbf8914276",
   "metadata": {},
   "source": [
    "&emsp;&emsp;首先先看线性方程中的自变量系数，也就是coef_参数。包括线性回归、Lasso、岭回归和逻辑回归在内，线性方程中的自变量系数都是衡量特征重要性的关键指标，自变量系数的绝对值越大、则说明自变量对因变量的取值影响越大、该特征也就越重要。这点在Part 2的逻辑回归模型结果解释部分有详细讨论，此处不做赘述。"
   ]
  },
  {
   "cell_type": "markdown",
   "id": "6874dd39-01c1-4a1e-a332-c799d150c2ca",
   "metadata": {},
   "source": [
    "- 决策树模型中的feature_importances_"
   ]
  },
  {
   "cell_type": "markdown",
   "id": "7b5ff91a-8bac-4bc1-8eca-b74d4d8fa781",
   "metadata": {},
   "source": [
    "&emsp;&emsp;相比线性方程，决策树及基于决策树的集成算法无疑是目前机器学习使用更广、效果更好的算法，因此相比coef_，feature_importances_指标也会频繁的被使用到，并且feature_importances_的本质是特征对标签取值区分度的累计结果，能够衡量包括线性相关在内的任意类型关系（类似于MI值），因此也是一种更加普适的评估指标。"
   ]
  },
  {
   "cell_type": "markdown",
   "id": "2be7d73a-494e-4441-8718-e37a7ce4a476",
   "metadata": {},
   "source": [
    "&emsp;&emsp;不过这些指标看似简单，但实际应用起来却绝不仅仅是根据评分由高到低筛选特征这么简单，因此我们有必要再次回顾feature_importances_的计算流程即计算特性，并据此探究如何应用这些指标进行特征筛选。本节以feature_importances_为例来进行讲解，coef_指标的使用过程也是类似。"
   ]
  },
  {
   "cell_type": "markdown",
   "id": "9944726d-a7bf-4c88-a4c1-f7c25c5bdfef",
   "metadata": {},
   "source": [
    "### 1.feature_importances_的计算过程"
   ]
  },
  {
   "cell_type": "markdown",
   "id": "e5e9d12c-5d5d-4769-a43d-69ba1bbfb556",
   "metadata": {},
   "source": [
    "&emsp;&emsp;这里我们首先通过一组极简的数据，先来探讨决策树feature_importances_指标的计算过程。"
   ]
  },
  {
   "cell_type": "code",
   "execution_count": 6,
   "id": "c935c5b7-e844-4d2d-95a4-153c7f87c5ee",
   "metadata": {
    "tags": []
   },
   "outputs": [
    {
     "data": {
      "text/plain": [
       "\u001b[1;31mInit signature:\u001b[0m\n",
       "\u001b[0mDecisionTreeClassifier\u001b[0m\u001b[1;33m(\u001b[0m\u001b[1;33m\n",
       "\u001b[0m    \u001b[1;33m*\u001b[0m\u001b[1;33m,\u001b[0m\u001b[1;33m\n",
       "\u001b[0m    \u001b[0mcriterion\u001b[0m\u001b[1;33m=\u001b[0m\u001b[1;34m'gini'\u001b[0m\u001b[1;33m,\u001b[0m\u001b[1;33m\n",
       "\u001b[0m    \u001b[0msplitter\u001b[0m\u001b[1;33m=\u001b[0m\u001b[1;34m'best'\u001b[0m\u001b[1;33m,\u001b[0m\u001b[1;33m\n",
       "\u001b[0m    \u001b[0mmax_depth\u001b[0m\u001b[1;33m=\u001b[0m\u001b[1;32mNone\u001b[0m\u001b[1;33m,\u001b[0m\u001b[1;33m\n",
       "\u001b[0m    \u001b[0mmin_samples_split\u001b[0m\u001b[1;33m=\u001b[0m\u001b[1;36m2\u001b[0m\u001b[1;33m,\u001b[0m\u001b[1;33m\n",
       "\u001b[0m    \u001b[0mmin_samples_leaf\u001b[0m\u001b[1;33m=\u001b[0m\u001b[1;36m1\u001b[0m\u001b[1;33m,\u001b[0m\u001b[1;33m\n",
       "\u001b[0m    \u001b[0mmin_weight_fraction_leaf\u001b[0m\u001b[1;33m=\u001b[0m\u001b[1;36m0.0\u001b[0m\u001b[1;33m,\u001b[0m\u001b[1;33m\n",
       "\u001b[0m    \u001b[0mmax_features\u001b[0m\u001b[1;33m=\u001b[0m\u001b[1;32mNone\u001b[0m\u001b[1;33m,\u001b[0m\u001b[1;33m\n",
       "\u001b[0m    \u001b[0mrandom_state\u001b[0m\u001b[1;33m=\u001b[0m\u001b[1;32mNone\u001b[0m\u001b[1;33m,\u001b[0m\u001b[1;33m\n",
       "\u001b[0m    \u001b[0mmax_leaf_nodes\u001b[0m\u001b[1;33m=\u001b[0m\u001b[1;32mNone\u001b[0m\u001b[1;33m,\u001b[0m\u001b[1;33m\n",
       "\u001b[0m    \u001b[0mmin_impurity_decrease\u001b[0m\u001b[1;33m=\u001b[0m\u001b[1;36m0.0\u001b[0m\u001b[1;33m,\u001b[0m\u001b[1;33m\n",
       "\u001b[0m    \u001b[0mclass_weight\u001b[0m\u001b[1;33m=\u001b[0m\u001b[1;32mNone\u001b[0m\u001b[1;33m,\u001b[0m\u001b[1;33m\n",
       "\u001b[0m    \u001b[0mccp_alpha\u001b[0m\u001b[1;33m=\u001b[0m\u001b[1;36m0.0\u001b[0m\u001b[1;33m,\u001b[0m\u001b[1;33m\n",
       "\u001b[0m\u001b[1;33m)\u001b[0m\u001b[1;33m\u001b[0m\u001b[1;33m\u001b[0m\u001b[0m\n",
       "\u001b[1;31mDocstring:\u001b[0m     \n",
       "A decision tree classifier.\n",
       "\n",
       "Read more in the :ref:`User Guide <tree>`.\n",
       "\n",
       "Parameters\n",
       "----------\n",
       "criterion : {\"gini\", \"entropy\"}, default=\"gini\"\n",
       "    The function to measure the quality of a split. Supported criteria are\n",
       "    \"gini\" for the Gini impurity and \"entropy\" for the information gain.\n",
       "\n",
       "splitter : {\"best\", \"random\"}, default=\"best\"\n",
       "    The strategy used to choose the split at each node. Supported\n",
       "    strategies are \"best\" to choose the best split and \"random\" to choose\n",
       "    the best random split.\n",
       "\n",
       "max_depth : int, default=None\n",
       "    The maximum depth of the tree. If None, then nodes are expanded until\n",
       "    all leaves are pure or until all leaves contain less than\n",
       "    min_samples_split samples.\n",
       "\n",
       "min_samples_split : int or float, default=2\n",
       "    The minimum number of samples required to split an internal node:\n",
       "\n",
       "    - If int, then consider `min_samples_split` as the minimum number.\n",
       "    - If float, then `min_samples_split` is a fraction and\n",
       "      `ceil(min_samples_split * n_samples)` are the minimum\n",
       "      number of samples for each split.\n",
       "\n",
       "    .. versionchanged:: 0.18\n",
       "       Added float values for fractions.\n",
       "\n",
       "min_samples_leaf : int or float, default=1\n",
       "    The minimum number of samples required to be at a leaf node.\n",
       "    A split point at any depth will only be considered if it leaves at\n",
       "    least ``min_samples_leaf`` training samples in each of the left and\n",
       "    right branches.  This may have the effect of smoothing the model,\n",
       "    especially in regression.\n",
       "\n",
       "    - If int, then consider `min_samples_leaf` as the minimum number.\n",
       "    - If float, then `min_samples_leaf` is a fraction and\n",
       "      `ceil(min_samples_leaf * n_samples)` are the minimum\n",
       "      number of samples for each node.\n",
       "\n",
       "    .. versionchanged:: 0.18\n",
       "       Added float values for fractions.\n",
       "\n",
       "min_weight_fraction_leaf : float, default=0.0\n",
       "    The minimum weighted fraction of the sum total of weights (of all\n",
       "    the input samples) required to be at a leaf node. Samples have\n",
       "    equal weight when sample_weight is not provided.\n",
       "\n",
       "max_features : int, float or {\"auto\", \"sqrt\", \"log2\"}, default=None\n",
       "    The number of features to consider when looking for the best split:\n",
       "\n",
       "        - If int, then consider `max_features` features at each split.\n",
       "        - If float, then `max_features` is a fraction and\n",
       "          `int(max_features * n_features)` features are considered at each\n",
       "          split.\n",
       "        - If \"auto\", then `max_features=sqrt(n_features)`.\n",
       "        - If \"sqrt\", then `max_features=sqrt(n_features)`.\n",
       "        - If \"log2\", then `max_features=log2(n_features)`.\n",
       "        - If None, then `max_features=n_features`.\n",
       "\n",
       "    Note: the search for a split does not stop until at least one\n",
       "    valid partition of the node samples is found, even if it requires to\n",
       "    effectively inspect more than ``max_features`` features.\n",
       "\n",
       "random_state : int, RandomState instance or None, default=None\n",
       "    Controls the randomness of the estimator. The features are always\n",
       "    randomly permuted at each split, even if ``splitter`` is set to\n",
       "    ``\"best\"``. When ``max_features < n_features``, the algorithm will\n",
       "    select ``max_features`` at random at each split before finding the best\n",
       "    split among them. But the best found split may vary across different\n",
       "    runs, even if ``max_features=n_features``. That is the case, if the\n",
       "    improvement of the criterion is identical for several splits and one\n",
       "    split has to be selected at random. To obtain a deterministic behaviour\n",
       "    during fitting, ``random_state`` has to be fixed to an integer.\n",
       "    See :term:`Glossary <random_state>` for details.\n",
       "\n",
       "max_leaf_nodes : int, default=None\n",
       "    Grow a tree with ``max_leaf_nodes`` in best-first fashion.\n",
       "    Best nodes are defined as relative reduction in impurity.\n",
       "    If None then unlimited number of leaf nodes.\n",
       "\n",
       "min_impurity_decrease : float, default=0.0\n",
       "    A node will be split if this split induces a decrease of the impurity\n",
       "    greater than or equal to this value.\n",
       "\n",
       "    The weighted impurity decrease equation is the following::\n",
       "\n",
       "        N_t / N * (impurity - N_t_R / N_t * right_impurity\n",
       "                            - N_t_L / N_t * left_impurity)\n",
       "\n",
       "    where ``N`` is the total number of samples, ``N_t`` is the number of\n",
       "    samples at the current node, ``N_t_L`` is the number of samples in the\n",
       "    left child, and ``N_t_R`` is the number of samples in the right child.\n",
       "\n",
       "    ``N``, ``N_t``, ``N_t_R`` and ``N_t_L`` all refer to the weighted sum,\n",
       "    if ``sample_weight`` is passed.\n",
       "\n",
       "    .. versionadded:: 0.19\n",
       "\n",
       "class_weight : dict, list of dict or \"balanced\", default=None\n",
       "    Weights associated with classes in the form ``{class_label: weight}``.\n",
       "    If None, all classes are supposed to have weight one. For\n",
       "    multi-output problems, a list of dicts can be provided in the same\n",
       "    order as the columns of y.\n",
       "\n",
       "    Note that for multioutput (including multilabel) weights should be\n",
       "    defined for each class of every column in its own dict. For example,\n",
       "    for four-class multilabel classification weights should be\n",
       "    [{0: 1, 1: 1}, {0: 1, 1: 5}, {0: 1, 1: 1}, {0: 1, 1: 1}] instead of\n",
       "    [{1:1}, {2:5}, {3:1}, {4:1}].\n",
       "\n",
       "    The \"balanced\" mode uses the values of y to automatically adjust\n",
       "    weights inversely proportional to class frequencies in the input data\n",
       "    as ``n_samples / (n_classes * np.bincount(y))``\n",
       "\n",
       "    For multi-output, the weights of each column of y will be multiplied.\n",
       "\n",
       "    Note that these weights will be multiplied with sample_weight (passed\n",
       "    through the fit method) if sample_weight is specified.\n",
       "\n",
       "ccp_alpha : non-negative float, default=0.0\n",
       "    Complexity parameter used for Minimal Cost-Complexity Pruning. The\n",
       "    subtree with the largest cost complexity that is smaller than\n",
       "    ``ccp_alpha`` will be chosen. By default, no pruning is performed. See\n",
       "    :ref:`minimal_cost_complexity_pruning` for details.\n",
       "\n",
       "    .. versionadded:: 0.22\n",
       "\n",
       "Attributes\n",
       "----------\n",
       "classes_ : ndarray of shape (n_classes,) or list of ndarray\n",
       "    The classes labels (single output problem),\n",
       "    or a list of arrays of class labels (multi-output problem).\n",
       "\n",
       "feature_importances_ : ndarray of shape (n_features,)\n",
       "    The impurity-based feature importances.\n",
       "    The higher, the more important the feature.\n",
       "    The importance of a feature is computed as the (normalized)\n",
       "    total reduction of the criterion brought by that feature.  It is also\n",
       "    known as the Gini importance [4]_.\n",
       "\n",
       "    Warning: impurity-based feature importances can be misleading for\n",
       "    high cardinality features (many unique values). See\n",
       "    :func:`sklearn.inspection.permutation_importance` as an alternative.\n",
       "\n",
       "max_features_ : int\n",
       "    The inferred value of max_features.\n",
       "\n",
       "n_classes_ : int or list of int\n",
       "    The number of classes (for single output problems),\n",
       "    or a list containing the number of classes for each\n",
       "    output (for multi-output problems).\n",
       "\n",
       "n_features_ : int\n",
       "    The number of features when ``fit`` is performed.\n",
       "\n",
       "    .. deprecated:: 1.0\n",
       "       `n_features_` is deprecated in 1.0 and will be removed in\n",
       "       1.2. Use `n_features_in_` instead.\n",
       "\n",
       "n_features_in_ : int\n",
       "    Number of features seen during :term:`fit`.\n",
       "\n",
       "    .. versionadded:: 0.24\n",
       "\n",
       "feature_names_in_ : ndarray of shape (`n_features_in_`,)\n",
       "    Names of features seen during :term:`fit`. Defined only when `X`\n",
       "    has feature names that are all strings.\n",
       "\n",
       "    .. versionadded:: 1.0\n",
       "\n",
       "n_outputs_ : int\n",
       "    The number of outputs when ``fit`` is performed.\n",
       "\n",
       "tree_ : Tree instance\n",
       "    The underlying Tree object. Please refer to\n",
       "    ``help(sklearn.tree._tree.Tree)`` for attributes of Tree object and\n",
       "    :ref:`sphx_glr_auto_examples_tree_plot_unveil_tree_structure.py`\n",
       "    for basic usage of these attributes.\n",
       "\n",
       "See Also\n",
       "--------\n",
       "DecisionTreeRegressor : A decision tree regressor.\n",
       "\n",
       "Notes\n",
       "-----\n",
       "The default values for the parameters controlling the size of the trees\n",
       "(e.g. ``max_depth``, ``min_samples_leaf``, etc.) lead to fully grown and\n",
       "unpruned trees which can potentially be very large on some data sets. To\n",
       "reduce memory consumption, the complexity and size of the trees should be\n",
       "controlled by setting those parameter values.\n",
       "\n",
       "The :meth:`predict` method operates using the :func:`numpy.argmax`\n",
       "function on the outputs of :meth:`predict_proba`. This means that in\n",
       "case the highest predicted probabilities are tied, the classifier will\n",
       "predict the tied class with the lowest index in :term:`classes_`.\n",
       "\n",
       "References\n",
       "----------\n",
       "\n",
       ".. [1] https://en.wikipedia.org/wiki/Decision_tree_learning\n",
       "\n",
       ".. [2] L. Breiman, J. Friedman, R. Olshen, and C. Stone, \"Classification\n",
       "       and Regression Trees\", Wadsworth, Belmont, CA, 1984.\n",
       "\n",
       ".. [3] T. Hastie, R. Tibshirani and J. Friedman. \"Elements of Statistical\n",
       "       Learning\", Springer, 2009.\n",
       "\n",
       ".. [4] L. Breiman, and A. Cutler, \"Random Forests\",\n",
       "       https://www.stat.berkeley.edu/~breiman/RandomForests/cc_home.htm\n",
       "\n",
       "Examples\n",
       "--------\n",
       ">>> from sklearn.datasets import load_iris\n",
       ">>> from sklearn.model_selection import cross_val_score\n",
       ">>> from sklearn.tree import DecisionTreeClassifier\n",
       ">>> clf = DecisionTreeClassifier(random_state=0)\n",
       ">>> iris = load_iris()\n",
       ">>> cross_val_score(clf, iris.data, iris.target, cv=10)\n",
       "...                             # doctest: +SKIP\n",
       "...\n",
       "array([ 1.     ,  0.93...,  0.86...,  0.93...,  0.93...,\n",
       "        0.93...,  0.93...,  1.     ,  0.93...,  1.      ])\n",
       "\u001b[1;31mFile:\u001b[0m           d:\\anaconda3\\lib\\site-packages\\sklearn\\tree\\_classes.py\n",
       "\u001b[1;31mType:\u001b[0m           ABCMeta\n",
       "\u001b[1;31mSubclasses:\u001b[0m     ExtraTreeClassifier\n"
      ]
     },
     "metadata": {},
     "output_type": "display_data"
    }
   ],
   "source": [
    "DecisionTreeClassifier?"
   ]
  },
  {
   "cell_type": "code",
   "execution_count": 7,
   "id": "d5624bfe-4f82-4488-8760-210efce1080d",
   "metadata": {},
   "outputs": [
    {
     "data": {
      "text/plain": [
       "(   x0  x1\n",
       " 0   1   1\n",
       " 1   2   2\n",
       " 2   2   1\n",
       " 3   1   2\n",
       " 4   1   1\n",
       " 5   1   2\n",
       " 6   1   2\n",
       " 7   2   1,\n",
       " array([0, 0, 0, 1, 0, 1, 1, 0]))"
      ]
     },
     "execution_count": 7,
     "metadata": {},
     "output_type": "execute_result"
    }
   ],
   "source": [
    "# 准备数据集\n",
    "X = np.array([[1, 1], [2, 2], [2, 1], [1, 2], [1, 1], [1, 2], [1, 2], [2, 1]])\n",
    "X = pd.DataFrame(X, columns=['x0', 'x1'])\n",
    "y = np.array([0, 0, 0, 1, 0, 1, 1, 0])\n",
    "\n",
    "X,y"
   ]
  },
  {
   "cell_type": "code",
   "execution_count": 8,
   "id": "4f2c6461-1eaa-4734-95a0-358dea6eb7e2",
   "metadata": {},
   "outputs": [
    {
     "data": {
      "text/plain": [
       "[Text(0.4, 0.8333333333333334, 'X[1] <= 1.5\\ngini = 0.469\\nsamples = 8\\nvalue = [5, 3]'),\n",
       " Text(0.2, 0.5, 'gini = 0.0\\nsamples = 4\\nvalue = [4, 0]'),\n",
       " Text(0.6, 0.5, 'X[0] <= 1.5\\ngini = 0.375\\nsamples = 4\\nvalue = [1, 3]'),\n",
       " Text(0.4, 0.16666666666666666, 'gini = 0.0\\nsamples = 3\\nvalue = [0, 3]'),\n",
       " Text(0.8, 0.16666666666666666, 'gini = 0.0\\nsamples = 1\\nvalue = [1, 0]')]"
      ]
     },
     "execution_count": 8,
     "metadata": {},
     "output_type": "execute_result"
    },
    {
     "data": {
      "image/png": "[encoded data removed]",
      "text/plain": [
       "<Figure size 900x300 with 1 Axes>"
      ]
     },
     "metadata": {
      "needs_background": "light"
     },
     "output_type": "display_data"
    }
   ],
   "source": [
    "clf = DecisionTreeClassifier().fit(X, y)\n",
    "plt.figure(figsize=(6, 2), dpi=150)\n",
    "tree.plot_tree(clf)"
   ]
  },
  {
   "cell_type": "markdown",
   "id": "ae5da74f-afb0-47d6-9e39-1d45e860ab11",
   "metadata": {},
   "source": [
    "模型训练完后，我们可以查看两个特征的重要性指标："
   ]
  },
  {
   "cell_type": "code",
   "execution_count": 9,
   "id": "1155302a-be24-4326-95ba-472e98d31325",
   "metadata": {},
   "outputs": [
    {
     "data": {
      "text/plain": [
       "array([0.4, 0.6])"
      ]
     },
     "execution_count": 9,
     "metadata": {},
     "output_type": "execute_result"
    }
   ],
   "source": [
    "clf.feature_importances_"
   ]
  },
  {
   "cell_type": "markdown",
   "id": "9b519182-6cdd-43be-99d0-d254d83a0109",
   "metadata": {},
   "source": [
    "而feature_importances_到底是如何计算的呢？这里我们仍然可以回归sklearn的源码来进行查看："
   ]
  },
  {
   "cell_type": "markdown",
   "id": "f0545a4b-af31-4f80-a23c-57d8e30a9a82",
   "metadata": {
    "tags": []
   },
   "source": [
    "<center><img src=\"https://s2.loli.net/2022/04/15/RNElsyd6h5uMKHV.png\" alt=\"image-20220415164435395\" style=\"zoom:50%;\" />"
   ]
  },
  {
   "cell_type": "markdown",
   "id": "4e71fba7-e281-453e-b105-8261037d6df9",
   "metadata": {},
   "source": [
    "这是段cython代码，和Python代码略有差异。但从importance对象的创建过程，仍然能看出其基本计算流程。首先importances是一个累计结果，决策树每生长一次就会进行一次importances的计算，即计算一次本次生长中标签不纯度下降数值，并将其累计到本次生长对应的特征的重要性中。而这里的一次生长过程中不纯度下降值，并不是遵照上一小节的信息增益的计算流程，而是父节点的权重\\*父节点的标签不纯度，减去左右两边子节点的权重\\*子节点标签不纯度，这里父节点、子节点的权重就是各数据集样本数在总样本中的占比。例如上述x0、x1两个特征的重要性可以参照如下过程进行计算："
   ]
  },
  {
   "cell_type": "code",
   "execution_count": 10,
   "id": "a64fa2b6-3595-4b9e-a90f-851b64d05b1c",
   "metadata": {},
   "outputs": [
    {
     "data": {
      "text/plain": [
       "(0.1875, 0.2815)"
      ]
     },
     "execution_count": 10,
     "metadata": {},
     "output_type": "execute_result"
    }
   ],
   "source": [
    "FI_x0 = (4 * 0.375) / 8\n",
    "FI_x1 = (8 * 0.469 - 4 * 0.375) / 8\n",
    "\n",
    "FI_x0, FI_x1"
   ]
  },
  {
   "cell_type": "markdown",
   "id": "6f444ccd-d9d3-47ca-bff2-813e2d681e52",
   "metadata": {},
   "source": [
    "并且为了方便比较，决策树最终输出的feature_importances_实际上是不同特征重要性的占比，即："
   ]
  },
  {
   "cell_type": "code",
   "execution_count": 11,
   "id": "5c30b509-68cd-4ce4-9034-913819cbf38c",
   "metadata": {},
   "outputs": [
    {
     "data": {
      "text/plain": [
       "(0.39978678038379534, 0.6002132196162047)"
      ]
     },
     "execution_count": 11,
     "metadata": {},
     "output_type": "execute_result"
    }
   ],
   "source": [
    "FI_x0/(FI_x0+FI_x1), FI_x1/(FI_x0+FI_x1)"
   ]
  },
  {
   "cell_type": "markdown",
   "id": "b0b86c8e-d03e-42f7-9930-74dcfd7cffe3",
   "metadata": {},
   "source": [
    "### 2.feature_importances_的计算特性"
   ]
  },
  {
   "cell_type": "markdown",
   "id": "c7e8c176-fb95-4f52-8e60-6082a9a97301",
   "metadata": {},
   "source": [
    "&emsp;&emsp;在熟悉了feature_importances_的计算流程后，接下来进一步讨论基于该流程、feature_importances_所展示出的计算特性。"
   ]
  },
  {
   "cell_type": "markdown",
   "id": "6ec193b0-7573-4966-ae67-315748eaa79e",
   "metadata": {},
   "source": [
    "- feature_importances_的随机性"
   ]
  },
  {
   "cell_type": "markdown",
   "id": "8faa367d-9459-41e8-8893-b4d90e470521",
   "metadata": {},
   "source": [
    "&emsp;&emsp;首先需要注意的是，如果数据集更加复杂，则feature_importances_值在实际计算过程中将表现出一定程度的随机性。例如带入telco数据集进行建模，则会得到如下结果："
   ]
  },
  {
   "cell_type": "code",
   "execution_count": 12,
   "id": "05a1b5bb-c047-4f47-b400-9d37c688a1c5",
   "metadata": {},
   "outputs": [
    {
     "data": {
      "text/plain": [
       "array([0.02727689, 0.01658065, 0.02058534, 0.01486696, 0.00308123,\n",
       "       0.01510983, 0.02463827, 0.04888942, 0.01590034, 0.01387519,\n",
       "       0.01621799, 0.00947659, 0.01659499, 0.17219693, 0.02503379,\n",
       "       0.04672867, 0.09925022, 0.18879121, 0.22490549])"
      ]
     },
     "execution_count": 12,
     "metadata": {},
     "output_type": "execute_result"
    }
   ],
   "source": [
    "clf = DecisionTreeClassifier().fit(X_train_OE, y_train)\n",
    "clf.feature_importances_"
   ]
  },
  {
   "cell_type": "code",
   "execution_count": 13,
   "id": "a3cd97a1-563f-49e1-8a1a-8688ab28cf6d",
   "metadata": {
    "tags": []
   },
   "outputs": [
    {
     "data": {
      "text/plain": [
       "TotalCharges        0.224905\n",
       "MonthlyCharges      0.188791\n",
       "Contract            0.172197\n",
       "tenure              0.099250\n",
       "OnlineSecurity      0.048889\n",
       "PaymentMethod       0.046729\n",
       "gender              0.027277\n",
       "PaperlessBilling    0.025034\n",
       "InternetService     0.024638\n",
       "Partner             0.020585\n",
       "StreamingMovies     0.016595\n",
       "SeniorCitizen       0.016581\n",
       "TechSupport         0.016218\n",
       "OnlineBackup        0.015900\n",
       "MultipleLines       0.015110\n",
       "Dependents          0.014867\n",
       "DeviceProtection    0.013875\n",
       "StreamingTV         0.009477\n",
       "PhoneService        0.003081\n",
       "dtype: float64"
      ]
     },
     "execution_count": 13,
     "metadata": {},
     "output_type": "execute_result"
    }
   ],
   "source": [
    "s1 = pd.Series(clf.feature_importances_, index=clf.feature_names_in_).sort_values(ascending=False)\n",
    "s1"
   ]
  },
  {
   "cell_type": "code",
   "execution_count": 14,
   "id": "3e3ccdbe-5f82-4845-b419-05cd4ec089a1",
   "metadata": {},
   "outputs": [
    {
     "data": {
      "text/plain": [
       "array([0.02615012, 0.01897285, 0.02160852, 0.01841412, 0.00340157,\n",
       "       0.01472038, 0.0244306 , 0.04968895, 0.01821232, 0.0122789 ,\n",
       "       0.01896473, 0.00943813, 0.01733306, 0.17219693, 0.02458266,\n",
       "       0.04597754, 0.10512561, 0.17516754, 0.22333546])"
      ]
     },
     "execution_count": 14,
     "metadata": {},
     "output_type": "execute_result"
    }
   ],
   "source": [
    "clf = DecisionTreeClassifier().fit(X_train_OE, y_train)\n",
    "clf.feature_importances_"
   ]
  },
  {
   "cell_type": "code",
   "execution_count": 15,
   "id": "61d1d226-f520-45ca-a8fa-de1b3c02e379",
   "metadata": {
    "tags": []
   },
   "outputs": [
    {
     "data": {
      "text/plain": [
       "TotalCharges        0.223335\n",
       "MonthlyCharges      0.175168\n",
       "Contract            0.172197\n",
       "tenure              0.105126\n",
       "OnlineSecurity      0.049689\n",
       "PaymentMethod       0.045978\n",
       "gender              0.026150\n",
       "PaperlessBilling    0.024583\n",
       "InternetService     0.024431\n",
       "Partner             0.021609\n",
       "SeniorCitizen       0.018973\n",
       "TechSupport         0.018965\n",
       "Dependents          0.018414\n",
       "OnlineBackup        0.018212\n",
       "StreamingMovies     0.017333\n",
       "MultipleLines       0.014720\n",
       "DeviceProtection    0.012279\n",
       "StreamingTV         0.009438\n",
       "PhoneService        0.003402\n",
       "dtype: float64"
      ]
     },
     "execution_count": 15,
     "metadata": {},
     "output_type": "execute_result"
    }
   ],
   "source": [
    "s2 = pd.Series(clf.feature_importances_, index=clf.feature_names_in_).sort_values(ascending=False)\n",
    "s2"
   ]
  },
  {
   "cell_type": "code",
   "execution_count": 16,
   "id": "de618718-b2d4-4baf-9c1c-3204765a27d9",
   "metadata": {},
   "outputs": [
    {
     "data": {
      "text/plain": [
       "array([0.02222983, 0.02118631, 0.02476213, 0.01671562, 0.00322323,\n",
       "       0.01408272, 0.02620733, 0.04766841, 0.01702756, 0.01174515,\n",
       "       0.01968234, 0.01017574, 0.01486987, 0.17219693, 0.02682492,\n",
       "       0.0394415 , 0.10560986, 0.19018292, 0.21616765])"
      ]
     },
     "execution_count": 16,
     "metadata": {},
     "output_type": "execute_result"
    }
   ],
   "source": [
    "clf = DecisionTreeClassifier().fit(X_train_OE, y_train)\n",
    "clf.feature_importances_"
   ]
  },
  {
   "cell_type": "code",
   "execution_count": 17,
   "id": "ae539197-cb36-4bd3-a6dd-3e8b432eddd1",
   "metadata": {
    "tags": []
   },
   "outputs": [
    {
     "data": {
      "text/plain": [
       "TotalCharges        0.216168\n",
       "MonthlyCharges      0.190183\n",
       "Contract            0.172197\n",
       "tenure              0.105610\n",
       "OnlineSecurity      0.047668\n",
       "PaymentMethod       0.039442\n",
       "PaperlessBilling    0.026825\n",
       "InternetService     0.026207\n",
       "Partner             0.024762\n",
       "gender              0.022230\n",
       "SeniorCitizen       0.021186\n",
       "TechSupport         0.019682\n",
       "OnlineBackup        0.017028\n",
       "Dependents          0.016716\n",
       "StreamingMovies     0.014870\n",
       "MultipleLines       0.014083\n",
       "DeviceProtection    0.011745\n",
       "StreamingTV         0.010176\n",
       "PhoneService        0.003223\n",
       "dtype: float64"
      ]
     },
     "execution_count": 17,
     "metadata": {},
     "output_type": "execute_result"
    }
   ],
   "source": [
    "s3 = pd.Series(clf.feature_importances_, index=clf.feature_names_in_).sort_values(ascending=False)\n",
    "s3"
   ]
  },
  {
   "cell_type": "markdown",
   "id": "64065b2b-3f94-4bf8-88ab-72b5f12f780f",
   "metadata": {},
   "source": [
    "当然此时由于没有进行超参数搜索，模型暂时处于严重过拟合状态："
   ]
  },
  {
   "cell_type": "code",
   "execution_count": 18,
   "id": "273080fb-7c88-40c8-ab49-8b90bb808129",
   "metadata": {},
   "outputs": [
    {
     "data": {
      "text/plain": [
       "(0.9982960999621355, 0.7353776263486655)"
      ]
     },
     "execution_count": 18,
     "metadata": {},
     "output_type": "execute_result"
    }
   ],
   "source": [
    "clf.score(X_train_OE, y_train), clf.score(X_test_OE, y_test)"
   ]
  },
  {
   "cell_type": "markdown",
   "id": "905c2e2b-be0a-4ffa-a4d9-ae680a1f51f0",
   "metadata": {},
   "source": [
    "不过这并不影响我们对feature_importances_表现出随机性的探讨。首先我们能够发现，相同参数的决策树模型，在多次训练时feature_importances_会表现出一定的随机性，但这种随机性大多数情况下只是小幅扰动，只在个别情况下才会影响特征重要性排名："
   ]
  },
  {
   "cell_type": "code",
   "execution_count": 19,
   "id": "49b18a10-3952-4bb3-8abf-81a8b3bce524",
   "metadata": {},
   "outputs": [
    {
     "data": {
      "text/html": [
       "<div>\n",
       "<style scoped>\n",
       "    .dataframe tbody tr th:only-of-type {\n",
       "        vertical-align: middle;\n",
       "    }\n",
       "\n",
       "    .dataframe tbody tr th {\n",
       "        vertical-align: top;\n",
       "    }\n",
       "\n",
       "    .dataframe thead th {\n",
       "        text-align: right;\n",
       "    }\n",
       "</style>\n",
       "<table border=\"1\" class=\"dataframe\">\n",
       "  <thead>\n",
       "    <tr style=\"text-align: right;\">\n",
       "      <th></th>\n",
       "      <th>tree-s1</th>\n",
       "      <th>tree-s2</th>\n",
       "      <th>tree-s3</th>\n",
       "    </tr>\n",
       "  </thead>\n",
       "  <tbody>\n",
       "    <tr>\n",
       "      <th>0</th>\n",
       "      <td>TotalCharges</td>\n",
       "      <td>TotalCharges</td>\n",
       "      <td>TotalCharges</td>\n",
       "    </tr>\n",
       "    <tr>\n",
       "      <th>1</th>\n",
       "      <td>MonthlyCharges</td>\n",
       "      <td>MonthlyCharges</td>\n",
       "      <td>MonthlyCharges</td>\n",
       "    </tr>\n",
       "    <tr>\n",
       "      <th>2</th>\n",
       "      <td>Contract</td>\n",
       "      <td>Contract</td>\n",
       "      <td>Contract</td>\n",
       "    </tr>\n",
       "    <tr>\n",
       "      <th>3</th>\n",
       "      <td>tenure</td>\n",
       "      <td>tenure</td>\n",
       "      <td>tenure</td>\n",
       "    </tr>\n",
       "    <tr>\n",
       "      <th>4</th>\n",
       "      <td>OnlineSecurity</td>\n",
       "      <td>OnlineSecurity</td>\n",
       "      <td>OnlineSecurity</td>\n",
       "    </tr>\n",
       "    <tr>\n",
       "      <th>5</th>\n",
       "      <td>PaymentMethod</td>\n",
       "      <td>PaymentMethod</td>\n",
       "      <td>PaymentMethod</td>\n",
       "    </tr>\n",
       "    <tr>\n",
       "      <th>6</th>\n",
       "      <td>gender</td>\n",
       "      <td>gender</td>\n",
       "      <td>PaperlessBilling</td>\n",
       "    </tr>\n",
       "    <tr>\n",
       "      <th>7</th>\n",
       "      <td>PaperlessBilling</td>\n",
       "      <td>PaperlessBilling</td>\n",
       "      <td>InternetService</td>\n",
       "    </tr>\n",
       "    <tr>\n",
       "      <th>8</th>\n",
       "      <td>InternetService</td>\n",
       "      <td>InternetService</td>\n",
       "      <td>Partner</td>\n",
       "    </tr>\n",
       "    <tr>\n",
       "      <th>9</th>\n",
       "      <td>Partner</td>\n",
       "      <td>Partner</td>\n",
       "      <td>gender</td>\n",
       "    </tr>\n",
       "    <tr>\n",
       "      <th>10</th>\n",
       "      <td>StreamingMovies</td>\n",
       "      <td>SeniorCitizen</td>\n",
       "      <td>SeniorCitizen</td>\n",
       "    </tr>\n",
       "    <tr>\n",
       "      <th>11</th>\n",
       "      <td>SeniorCitizen</td>\n",
       "      <td>TechSupport</td>\n",
       "      <td>TechSupport</td>\n",
       "    </tr>\n",
       "    <tr>\n",
       "      <th>12</th>\n",
       "      <td>TechSupport</td>\n",
       "      <td>Dependents</td>\n",
       "      <td>OnlineBackup</td>\n",
       "    </tr>\n",
       "    <tr>\n",
       "      <th>13</th>\n",
       "      <td>OnlineBackup</td>\n",
       "      <td>OnlineBackup</td>\n",
       "      <td>Dependents</td>\n",
       "    </tr>\n",
       "    <tr>\n",
       "      <th>14</th>\n",
       "      <td>MultipleLines</td>\n",
       "      <td>StreamingMovies</td>\n",
       "      <td>StreamingMovies</td>\n",
       "    </tr>\n",
       "    <tr>\n",
       "      <th>15</th>\n",
       "      <td>Dependents</td>\n",
       "      <td>MultipleLines</td>\n",
       "      <td>MultipleLines</td>\n",
       "    </tr>\n",
       "    <tr>\n",
       "      <th>16</th>\n",
       "      <td>DeviceProtection</td>\n",
       "      <td>DeviceProtection</td>\n",
       "      <td>DeviceProtection</td>\n",
       "    </tr>\n",
       "    <tr>\n",
       "      <th>17</th>\n",
       "      <td>StreamingTV</td>\n",
       "      <td>StreamingTV</td>\n",
       "      <td>StreamingTV</td>\n",
       "    </tr>\n",
       "    <tr>\n",
       "      <th>18</th>\n",
       "      <td>PhoneService</td>\n",
       "      <td>PhoneService</td>\n",
       "      <td>PhoneService</td>\n",
       "    </tr>\n",
       "  </tbody>\n",
       "</table>\n",
       "</div>"
      ],
      "text/plain": [
       "             tree-s1           tree-s2           tree-s3\n",
       "0       TotalCharges      TotalCharges      TotalCharges\n",
       "1     MonthlyCharges    MonthlyCharges    MonthlyCharges\n",
       "2           Contract          Contract          Contract\n",
       "3             tenure            tenure            tenure\n",
       "4     OnlineSecurity    OnlineSecurity    OnlineSecurity\n",
       "5      PaymentMethod     PaymentMethod     PaymentMethod\n",
       "6             gender            gender  PaperlessBilling\n",
       "7   PaperlessBilling  PaperlessBilling   InternetService\n",
       "8    InternetService   InternetService           Partner\n",
       "9            Partner           Partner            gender\n",
       "10   StreamingMovies     SeniorCitizen     SeniorCitizen\n",
       "11     SeniorCitizen       TechSupport       TechSupport\n",
       "12       TechSupport        Dependents      OnlineBackup\n",
       "13      OnlineBackup      OnlineBackup        Dependents\n",
       "14     MultipleLines   StreamingMovies   StreamingMovies\n",
       "15        Dependents     MultipleLines     MultipleLines\n",
       "16  DeviceProtection  DeviceProtection  DeviceProtection\n",
       "17       StreamingTV       StreamingTV       StreamingTV\n",
       "18      PhoneService      PhoneService      PhoneService"
      ]
     },
     "execution_count": 19,
     "metadata": {},
     "output_type": "execute_result"
    }
   ],
   "source": [
    "df_temp = pd.DataFrame({'tree-s1':s1.index, 'tree-s2':s2.index, 'tree-s3':s3.index})\n",
    "df_temp"
   ]
  },
  {
   "cell_type": "markdown",
   "id": "ce7a3a2b-e50d-48ca-9536-39d925016c34",
   "metadata": {},
   "source": [
    "不过尽管如此，我们也需要知道这种随机性的来源。通过查看DecisionTreeClassifier的random_state参数解释不难发现，这种随机性源于CART树对切分点的选取。根据评估器的说明，哪怕是max_features=n_features（即每次训练带入全部特征、而max_features<n_features时则每次切分带入部分特征、此时随机性更强），在进行决策树生长时也经常遇到拥有相同效力的备选切分点（即基于基尼系数的信息增益相同），此时只能随机挑选其中一个备选点进行切分，而选取哪个切分点，就必然给对应的特征累计更多的重要性。这也就是为何相同的数据在多次建模时特征重要性会各不相同的原因。"
   ]
  },
  {
   "cell_type": "markdown",
   "id": "ca4e98d6-7245-4a76-9048-73a18199b3ae",
   "metadata": {},
   "source": [
    "> 这种不确定性其实也是feature_importances_指标的缺陷，相比卡方值、方差分析结果和互信息值等更加严谨计算过程，feature_importances_甚至不能看成是严格意义的特征评分方法。"
   ]
  },
  {
   "cell_type": "markdown",
   "id": "d6c713f8-0fc2-4b30-9c7f-4509dfc6b22e",
   "metadata": {},
   "source": [
    "&emsp;&emsp;尽管有随机性干扰，我们还是能从feature_importances_的结果中粗略的判断各个特征的重要性的，例如在上述建模过程中两个连续变量，即TotalCharges和MonthlyCharges表现不俗，相对来说，StreamingTV、PhoneService等特征并没有对模型效果提升做出太大贡献。此外需要注意的是，伴随着数据量（和特征数量）的提升，这种随机性也将会有更大的影响，尤其带入分组统计特征后，大量特征的数值分布都是相同，选哪个特征对标签进行切分都能达到相同的效果，此时这些分组统计的衍生特征的特征重要性将完全由这个随机过程决定；而反之，如果本身数据量较小，则不会存在不同特征的不同切分点都能达到相同效果这一情况，此时特征重要性不会出现随机性。"
   ]
  },
  {
   "cell_type": "markdown",
   "id": "d446409f-11ae-48a1-b3ee-8637453db20b",
   "metadata": {},
   "source": [
    "- feature_importances_受建模过程影响"
   ]
  },
  {
   "cell_type": "markdown",
   "id": "827c9ae8-9f28-498c-958d-10c97777fffd",
   "metadata": {},
   "source": [
    "&emsp;&emsp;略微感到奇怪的是，为何上述三组模型都判断两个连续变量的重要性较强、甚至强于Contract、tenure和OnlineSecurity这些特征呢？根据上一小节互信息发的结论，Contract、tenure等字段是要强于两个连续变量的。此处我们可以简单对比上述决策树输出的特征重要性排名和互信息算得的特征重要性排名："
   ]
  },
  {
   "cell_type": "code",
   "execution_count": 20,
   "id": "4a5c38cc-1d15-48e9-9d33-736bf78ae298",
   "metadata": {},
   "outputs": [],
   "source": [
    "from sklearn.feature_selection import mutual_info_classif"
   ]
  },
  {
   "cell_type": "code",
   "execution_count": 21,
   "id": "7658a8f5-ec2b-4702-9741-03d37790f824",
   "metadata": {
    "tags": []
   },
   "outputs": [
    {
     "data": {
      "text/plain": [
       "[True,\n",
       " True,\n",
       " True,\n",
       " True,\n",
       " True,\n",
       " True,\n",
       " True,\n",
       " True,\n",
       " True,\n",
       " True,\n",
       " True,\n",
       " True,\n",
       " True,\n",
       " True,\n",
       " True,\n",
       " True,\n",
       " False,\n",
       " False,\n",
       " False]"
      ]
     },
     "execution_count": 21,
     "metadata": {},
     "output_type": "execute_result"
    }
   ],
   "source": [
    "mask = [True]*len(category_cols) + [False]*len(numeric_cols)\n",
    "mask"
   ]
  },
  {
   "cell_type": "code",
   "execution_count": 22,
   "id": "731cc55d-cac6-490e-aa57-cfd1f47682a2",
   "metadata": {},
   "outputs": [
    {
     "data": {
      "text/plain": [
       "array([2.51869556e-05, 1.23816755e-02, 1.12934840e-02, 1.44750232e-02,\n",
       "       2.29431150e-05, 5.93559150e-04, 5.44435344e-02, 6.73003276e-02,\n",
       "       4.99549593e-02, 4.58322554e-02, 6.38268975e-02, 3.31442443e-02,\n",
       "       3.33677529e-02, 1.01588946e-01, 1.95195236e-02, 4.64175293e-02,\n",
       "       6.56956879e-02, 5.14837211e-02, 4.64057620e-02])"
      ]
     },
     "execution_count": 22,
     "metadata": {},
     "output_type": "execute_result"
    }
   ],
   "source": [
    "MI = mutual_info_classif(X_train_OE, y_train, discrete_features=mask, random_state=22)\n",
    "MI"
   ]
  },
  {
   "cell_type": "code",
   "execution_count": 23,
   "id": "fb70acf7-7394-445d-9bf4-5872ed4f68b2",
   "metadata": {},
   "outputs": [
    {
     "data": {
      "text/plain": [
       "Contract            0.101589\n",
       "OnlineSecurity      0.067300\n",
       "tenure              0.065696\n",
       "TechSupport         0.063827\n",
       "InternetService     0.054444\n",
       "MonthlyCharges      0.051484\n",
       "OnlineBackup        0.049955\n",
       "PaymentMethod       0.046418\n",
       "TotalCharges        0.046406\n",
       "DeviceProtection    0.045832\n",
       "StreamingMovies     0.033368\n",
       "StreamingTV         0.033144\n",
       "PaperlessBilling    0.019520\n",
       "Dependents          0.014475\n",
       "SeniorCitizen       0.012382\n",
       "Partner             0.011293\n",
       "MultipleLines       0.000594\n",
       "gender              0.000025\n",
       "PhoneService        0.000023\n",
       "dtype: float64"
      ]
     },
     "execution_count": 23,
     "metadata": {},
     "output_type": "execute_result"
    }
   ],
   "source": [
    "s4 = pd.Series(MI, index=clf.feature_names_in_).sort_values(ascending=False)\n",
    "s4"
   ]
  },
  {
   "cell_type": "code",
   "execution_count": 24,
   "id": "a994ac3d-4263-441a-a46b-ed0e4d81c7df",
   "metadata": {},
   "outputs": [
    {
     "data": {
      "text/html": [
       "<div>\n",
       "<style scoped>\n",
       "    .dataframe tbody tr th:only-of-type {\n",
       "        vertical-align: middle;\n",
       "    }\n",
       "\n",
       "    .dataframe tbody tr th {\n",
       "        vertical-align: top;\n",
       "    }\n",
       "\n",
       "    .dataframe thead th {\n",
       "        text-align: right;\n",
       "    }\n",
       "</style>\n",
       "<table border=\"1\" class=\"dataframe\">\n",
       "  <thead>\n",
       "    <tr style=\"text-align: right;\">\n",
       "      <th></th>\n",
       "      <th>tree-s1</th>\n",
       "      <th>tree-s2</th>\n",
       "      <th>tree-s3</th>\n",
       "      <th>MI</th>\n",
       "    </tr>\n",
       "  </thead>\n",
       "  <tbody>\n",
       "    <tr>\n",
       "      <th>0</th>\n",
       "      <td>TotalCharges</td>\n",
       "      <td>TotalCharges</td>\n",
       "      <td>TotalCharges</td>\n",
       "      <td>Contract</td>\n",
       "    </tr>\n",
       "    <tr>\n",
       "      <th>1</th>\n",
       "      <td>MonthlyCharges</td>\n",
       "      <td>MonthlyCharges</td>\n",
       "      <td>MonthlyCharges</td>\n",
       "      <td>OnlineSecurity</td>\n",
       "    </tr>\n",
       "    <tr>\n",
       "      <th>2</th>\n",
       "      <td>Contract</td>\n",
       "      <td>Contract</td>\n",
       "      <td>Contract</td>\n",
       "      <td>tenure</td>\n",
       "    </tr>\n",
       "    <tr>\n",
       "      <th>3</th>\n",
       "      <td>tenure</td>\n",
       "      <td>tenure</td>\n",
       "      <td>tenure</td>\n",
       "      <td>TechSupport</td>\n",
       "    </tr>\n",
       "    <tr>\n",
       "      <th>4</th>\n",
       "      <td>OnlineSecurity</td>\n",
       "      <td>OnlineSecurity</td>\n",
       "      <td>OnlineSecurity</td>\n",
       "      <td>InternetService</td>\n",
       "    </tr>\n",
       "    <tr>\n",
       "      <th>5</th>\n",
       "      <td>PaymentMethod</td>\n",
       "      <td>PaymentMethod</td>\n",
       "      <td>PaymentMethod</td>\n",
       "      <td>MonthlyCharges</td>\n",
       "    </tr>\n",
       "    <tr>\n",
       "      <th>6</th>\n",
       "      <td>gender</td>\n",
       "      <td>gender</td>\n",
       "      <td>PaperlessBilling</td>\n",
       "      <td>OnlineBackup</td>\n",
       "    </tr>\n",
       "    <tr>\n",
       "      <th>7</th>\n",
       "      <td>PaperlessBilling</td>\n",
       "      <td>PaperlessBilling</td>\n",
       "      <td>InternetService</td>\n",
       "      <td>PaymentMethod</td>\n",
       "    </tr>\n",
       "    <tr>\n",
       "      <th>8</th>\n",
       "      <td>InternetService</td>\n",
       "      <td>InternetService</td>\n",
       "      <td>Partner</td>\n",
       "      <td>TotalCharges</td>\n",
       "    </tr>\n",
       "    <tr>\n",
       "      <th>9</th>\n",
       "      <td>Partner</td>\n",
       "      <td>Partner</td>\n",
       "      <td>gender</td>\n",
       "      <td>DeviceProtection</td>\n",
       "    </tr>\n",
       "    <tr>\n",
       "      <th>10</th>\n",
       "      <td>StreamingMovies</td>\n",
       "      <td>SeniorCitizen</td>\n",
       "      <td>SeniorCitizen</td>\n",
       "      <td>StreamingMovies</td>\n",
       "    </tr>\n",
       "    <tr>\n",
       "      <th>11</th>\n",
       "      <td>SeniorCitizen</td>\n",
       "      <td>TechSupport</td>\n",
       "      <td>TechSupport</td>\n",
       "      <td>StreamingTV</td>\n",
       "    </tr>\n",
       "    <tr>\n",
       "      <th>12</th>\n",
       "      <td>TechSupport</td>\n",
       "      <td>Dependents</td>\n",
       "      <td>OnlineBackup</td>\n",
       "      <td>PaperlessBilling</td>\n",
       "    </tr>\n",
       "    <tr>\n",
       "      <th>13</th>\n",
       "      <td>OnlineBackup</td>\n",
       "      <td>OnlineBackup</td>\n",
       "      <td>Dependents</td>\n",
       "      <td>Dependents</td>\n",
       "    </tr>\n",
       "    <tr>\n",
       "      <th>14</th>\n",
       "      <td>MultipleLines</td>\n",
       "      <td>StreamingMovies</td>\n",
       "      <td>StreamingMovies</td>\n",
       "      <td>SeniorCitizen</td>\n",
       "    </tr>\n",
       "    <tr>\n",
       "      <th>15</th>\n",
       "      <td>Dependents</td>\n",
       "      <td>MultipleLines</td>\n",
       "      <td>MultipleLines</td>\n",
       "      <td>Partner</td>\n",
       "    </tr>\n",
       "    <tr>\n",
       "      <th>16</th>\n",
       "      <td>DeviceProtection</td>\n",
       "      <td>DeviceProtection</td>\n",
       "      <td>DeviceProtection</td>\n",
       "      <td>MultipleLines</td>\n",
       "    </tr>\n",
       "    <tr>\n",
       "      <th>17</th>\n",
       "      <td>StreamingTV</td>\n",
       "      <td>StreamingTV</td>\n",
       "      <td>StreamingTV</td>\n",
       "      <td>gender</td>\n",
       "    </tr>\n",
       "    <tr>\n",
       "      <th>18</th>\n",
       "      <td>PhoneService</td>\n",
       "      <td>PhoneService</td>\n",
       "      <td>PhoneService</td>\n",
       "      <td>PhoneService</td>\n",
       "    </tr>\n",
       "  </tbody>\n",
       "</table>\n",
       "</div>"
      ],
      "text/plain": [
       "             tree-s1           tree-s2           tree-s3                MI\n",
       "0       TotalCharges      TotalCharges      TotalCharges          Contract\n",
       "1     MonthlyCharges    MonthlyCharges    MonthlyCharges    OnlineSecurity\n",
       "2           Contract          Contract          Contract            tenure\n",
       "3             tenure            tenure            tenure       TechSupport\n",
       "4     OnlineSecurity    OnlineSecurity    OnlineSecurity   InternetService\n",
       "5      PaymentMethod     PaymentMethod     PaymentMethod    MonthlyCharges\n",
       "6             gender            gender  PaperlessBilling      OnlineBackup\n",
       "7   PaperlessBilling  PaperlessBilling   InternetService     PaymentMethod\n",
       "8    InternetService   InternetService           Partner      TotalCharges\n",
       "9            Partner           Partner            gender  DeviceProtection\n",
       "10   StreamingMovies     SeniorCitizen     SeniorCitizen   StreamingMovies\n",
       "11     SeniorCitizen       TechSupport       TechSupport       StreamingTV\n",
       "12       TechSupport        Dependents      OnlineBackup  PaperlessBilling\n",
       "13      OnlineBackup      OnlineBackup        Dependents        Dependents\n",
       "14     MultipleLines   StreamingMovies   StreamingMovies     SeniorCitizen\n",
       "15        Dependents     MultipleLines     MultipleLines           Partner\n",
       "16  DeviceProtection  DeviceProtection  DeviceProtection     MultipleLines\n",
       "17       StreamingTV       StreamingTV       StreamingTV            gender\n",
       "18      PhoneService      PhoneService      PhoneService      PhoneService"
      ]
     },
     "execution_count": 24,
     "metadata": {},
     "output_type": "execute_result"
    }
   ],
   "source": [
    "df_temp['MI'] = s4.index\n",
    "df_temp"
   ]
  },
  {
   "cell_type": "markdown",
   "id": "f1a16eea-2996-4782-af06-f4c48f8ce28b",
   "metadata": {},
   "source": [
    "能够发现，二者结果存在较大差异，那树模型的结果和MI的结果哪个更“可信”呢？这里就需要回到我们特征评估的最终目的。所有的特征评估其实都是为了找到一组能够更好的帮助模型提升结果和泛化能力的特征，而此时树模型的特征重要性计算结果，其实是在模型过拟合状态下算得得，其结果可信度并不高。"
   ]
  },
  {
   "cell_type": "markdown",
   "id": "34a6ee0e-9c97-4af0-8927-5ad3ea6ab6bf",
   "metadata": {},
   "source": [
    "&emsp;&emsp;回想树模型的特征重要性计算过程我们不难发现，该指标的计算是和当前建模流程直接挂钩的，建模流程不同、选取的切分点不同、最后算得的特征重要性也各不相同。而当前的三个树模型，实际上是严重过拟合的，也就是说在过拟合情况下，两个连续变量重要性是要强于Contract和tenure的，但如果我们是希望训练一个泛化能力更强的模型，上述特征强弱结论就不一定成立了。"
   ]
  },
  {
   "cell_type": "markdown",
   "id": "621b9072-3c1a-495b-8481-49066b5c21fb",
   "metadata": {},
   "source": [
    "&emsp;&emsp;接下来我们尝试围绕决策树进行超参数优化，在保证模型泛化能力情况下，再查看各特征重要性。这里就采用网格搜索进行调参，基本流程如下："
   ]
  },
  {
   "cell_type": "code",
   "execution_count": 25,
   "id": "39ce0e86-8837-4e2c-ac99-25343871cde7",
   "metadata": {},
   "outputs": [],
   "source": [
    "# 实例化决策树评估器\n",
    "tree_model = DecisionTreeClassifier()\n",
    "# 构造参数空间\n",
    "tree_param = {'ccp_alpha': np.arange(0, 1, 0.1).tolist(),\n",
    "              'max_depth': np.arange(2, 8, 1).tolist(), \n",
    "              'min_samples_split': np.arange(2, 5, 1).tolist(), \n",
    "              'min_samples_leaf': np.arange(1, 4, 1).tolist(), \n",
    "              'max_leaf_nodes':np.arange(10,20, 1).tolist()}"
   ]
  },
  {
   "cell_type": "code",
   "execution_count": 26,
   "id": "b00b9df8-0eba-4942-84e0-f6e751e989ce",
   "metadata": {},
   "outputs": [],
   "source": [
    "# 实例化网格搜索评估器\n",
    "tree_search = GridSearchCV(estimator = tree_model,\n",
    "                           param_grid = tree_param,\n",
    "                           n_jobs = 12)"
   ]
  },
  {
   "cell_type": "code",
   "execution_count": 27,
   "id": "4e0df529-c879-4403-9a6a-7c00914fc3ef",
   "metadata": {},
   "outputs": [
    {
     "data": {
      "text/plain": [
       "GridSearchCV(estimator=DecisionTreeClassifier(), n_jobs=12,\n",
       "             param_grid={'ccp_alpha': [0.0, 0.1, 0.2, 0.30000000000000004, 0.4,\n",
       "                                       0.5, 0.6000000000000001,\n",
       "                                       0.7000000000000001, 0.8, 0.9],\n",
       "                         'max_depth': [2, 3, 4, 5, 6, 7],\n",
       "                         'max_leaf_nodes': [10, 11, 12, 13, 14, 15, 16, 17, 18,\n",
       "                                            19],\n",
       "                         'min_samples_leaf': [1, 2, 3],\n",
       "                         'min_samples_split': [2, 3, 4]})"
      ]
     },
     "execution_count": 27,
     "metadata": {},
     "output_type": "execute_result"
    }
   ],
   "source": [
    "tree_search.fit(X_train_OE, y_train)"
   ]
  },
  {
   "cell_type": "code",
   "execution_count": 28,
   "id": "8edb7cbd-1a98-43eb-ad05-55637cf499a0",
   "metadata": {
    "tags": []
   },
   "outputs": [
    {
     "data": {
      "text/plain": [
       "{'ccp_alpha': 0.0,\n",
       " 'max_depth': 5,\n",
       " 'max_leaf_nodes': 16,\n",
       " 'min_samples_leaf': 1,\n",
       " 'min_samples_split': 2}"
      ]
     },
     "execution_count": 28,
     "metadata": {},
     "output_type": "execute_result"
    }
   ],
   "source": [
    "# 查看最优参数组\n",
    "tree_search.best_params_"
   ]
  },
  {
   "cell_type": "code",
   "execution_count": 29,
   "id": "5f0c5b09-d797-43f4-a35a-314a7cda78bd",
   "metadata": {},
   "outputs": [
    {
     "data": {
      "text/plain": [
       "0.7925029027264128"
      ]
     },
     "execution_count": 29,
     "metadata": {},
     "output_type": "execute_result"
    }
   ],
   "source": [
    "# 查看验证集准确率均值\n",
    "tree_search.best_score_"
   ]
  },
  {
   "cell_type": "code",
   "execution_count": 30,
   "id": "4a3fe326-b296-44a0-a3a3-be9f03a40549",
   "metadata": {},
   "outputs": [
    {
     "data": {
      "text/plain": [
       "0.8014009844755774"
      ]
     },
     "execution_count": 30,
     "metadata": {},
     "output_type": "execute_result"
    }
   ],
   "source": [
    "# 查看训练集整体准确率\n",
    "tree_search.score(X_train_OE, y_train)"
   ]
  },
  {
   "cell_type": "code",
   "execution_count": 31,
   "id": "3f20a89a-1d7f-41be-9602-368784d55cd1",
   "metadata": {},
   "outputs": [
    {
     "data": {
      "text/plain": [
       "0.7938671209540034"
      ]
     },
     "execution_count": 31,
     "metadata": {},
     "output_type": "execute_result"
    }
   ],
   "source": [
    "# 查看测试集准确率\n",
    "tree_search.score(X_test_OE, y_test)"
   ]
  },
  {
   "cell_type": "markdown",
   "id": "6bda4862-30d8-4f87-9c81-e04ff99f0fcd",
   "metadata": {},
   "source": [
    "能够看出，此时模型的过拟合倾向已经得到了有效抑制。此时再查看各特征的重要性结果如下："
   ]
  },
  {
   "cell_type": "code",
   "execution_count": 32,
   "id": "f54adda5-002b-4c6e-a12c-ba37d0dd55d3",
   "metadata": {},
   "outputs": [
    {
     "data": {
      "text/plain": [
       "array([0.        , 0.        , 0.        , 0.        , 0.        ,\n",
       "       0.        , 0.07893377, 0.14119719, 0.        , 0.        ,\n",
       "       0.        , 0.        , 0.02460464, 0.55635763, 0.        ,\n",
       "       0.00930132, 0.11528793, 0.02646592, 0.0478516 ])"
      ]
     },
     "execution_count": 32,
     "metadata": {},
     "output_type": "execute_result"
    }
   ],
   "source": [
    "tree_search.best_estimator_.feature_importances_"
   ]
  },
  {
   "cell_type": "code",
   "execution_count": 33,
   "id": "e84d3574-a096-4f00-9731-e96abb136b67",
   "metadata": {},
   "outputs": [
    {
     "data": {
      "text/plain": [
       "array(['gender', 'SeniorCitizen', 'Partner', 'Dependents', 'PhoneService',\n",
       "       'MultipleLines', 'InternetService', 'OnlineSecurity',\n",
       "       'OnlineBackup', 'DeviceProtection', 'TechSupport', 'StreamingTV',\n",
       "       'StreamingMovies', 'Contract', 'PaperlessBilling', 'PaymentMethod',\n",
       "       'tenure', 'MonthlyCharges', 'TotalCharges'], dtype=object)"
      ]
     },
     "execution_count": 33,
     "metadata": {},
     "output_type": "execute_result"
    }
   ],
   "source": [
    "tree_search.best_estimator_.feature_names_in_"
   ]
  },
  {
   "cell_type": "code",
   "execution_count": 34,
   "id": "c42e10fb-a7e7-4541-b910-9df130627e46",
   "metadata": {},
   "outputs": [
    {
     "data": {
      "text/plain": [
       "Contract            0.556358\n",
       "OnlineSecurity      0.141197\n",
       "tenure              0.115288\n",
       "InternetService     0.078934\n",
       "TotalCharges        0.047852\n",
       "MonthlyCharges      0.026466\n",
       "StreamingMovies     0.024605\n",
       "PaymentMethod       0.009301\n",
       "StreamingTV         0.000000\n",
       "PaperlessBilling    0.000000\n",
       "gender              0.000000\n",
       "TechSupport         0.000000\n",
       "SeniorCitizen       0.000000\n",
       "OnlineBackup        0.000000\n",
       "MultipleLines       0.000000\n",
       "PhoneService        0.000000\n",
       "Dependents          0.000000\n",
       "Partner             0.000000\n",
       "DeviceProtection    0.000000\n",
       "dtype: float64"
      ]
     },
     "execution_count": 34,
     "metadata": {},
     "output_type": "execute_result"
    }
   ],
   "source": [
    "ss = pd.Series(tree_search.best_estimator_.feature_importances_, index=tree_search.best_estimator_.feature_names_in_).sort_values(ascending=False)\n",
    "ss"
   ]
  },
  {
   "cell_type": "code",
   "execution_count": 35,
   "id": "80344d0f-ea30-4055-b80d-8d9e147c8fe6",
   "metadata": {},
   "outputs": [
    {
     "data": {
      "text/html": [
       "<div>\n",
       "<style scoped>\n",
       "    .dataframe tbody tr th:only-of-type {\n",
       "        vertical-align: middle;\n",
       "    }\n",
       "\n",
       "    .dataframe tbody tr th {\n",
       "        vertical-align: top;\n",
       "    }\n",
       "\n",
       "    .dataframe thead th {\n",
       "        text-align: right;\n",
       "    }\n",
       "</style>\n",
       "<table border=\"1\" class=\"dataframe\">\n",
       "  <thead>\n",
       "    <tr style=\"text-align: right;\">\n",
       "      <th></th>\n",
       "      <th>tree-s1</th>\n",
       "      <th>tree-s2</th>\n",
       "      <th>tree-s3</th>\n",
       "      <th>MI</th>\n",
       "      <th>tree-search</th>\n",
       "    </tr>\n",
       "  </thead>\n",
       "  <tbody>\n",
       "    <tr>\n",
       "      <th>0</th>\n",
       "      <td>TotalCharges</td>\n",
       "      <td>TotalCharges</td>\n",
       "      <td>TotalCharges</td>\n",
       "      <td>Contract</td>\n",
       "      <td>Contract</td>\n",
       "    </tr>\n",
       "    <tr>\n",
       "      <th>1</th>\n",
       "      <td>MonthlyCharges</td>\n",
       "      <td>MonthlyCharges</td>\n",
       "      <td>MonthlyCharges</td>\n",
       "      <td>OnlineSecurity</td>\n",
       "      <td>OnlineSecurity</td>\n",
       "    </tr>\n",
       "    <tr>\n",
       "      <th>2</th>\n",
       "      <td>Contract</td>\n",
       "      <td>Contract</td>\n",
       "      <td>Contract</td>\n",
       "      <td>tenure</td>\n",
       "      <td>tenure</td>\n",
       "    </tr>\n",
       "    <tr>\n",
       "      <th>3</th>\n",
       "      <td>tenure</td>\n",
       "      <td>tenure</td>\n",
       "      <td>tenure</td>\n",
       "      <td>TechSupport</td>\n",
       "      <td>InternetService</td>\n",
       "    </tr>\n",
       "    <tr>\n",
       "      <th>4</th>\n",
       "      <td>OnlineSecurity</td>\n",
       "      <td>OnlineSecurity</td>\n",
       "      <td>OnlineSecurity</td>\n",
       "      <td>InternetService</td>\n",
       "      <td>TotalCharges</td>\n",
       "    </tr>\n",
       "    <tr>\n",
       "      <th>5</th>\n",
       "      <td>PaymentMethod</td>\n",
       "      <td>PaymentMethod</td>\n",
       "      <td>PaymentMethod</td>\n",
       "      <td>MonthlyCharges</td>\n",
       "      <td>MonthlyCharges</td>\n",
       "    </tr>\n",
       "    <tr>\n",
       "      <th>6</th>\n",
       "      <td>gender</td>\n",
       "      <td>gender</td>\n",
       "      <td>PaperlessBilling</td>\n",
       "      <td>OnlineBackup</td>\n",
       "      <td>StreamingMovies</td>\n",
       "    </tr>\n",
       "    <tr>\n",
       "      <th>7</th>\n",
       "      <td>PaperlessBilling</td>\n",
       "      <td>PaperlessBilling</td>\n",
       "      <td>InternetService</td>\n",
       "      <td>PaymentMethod</td>\n",
       "      <td>PaymentMethod</td>\n",
       "    </tr>\n",
       "    <tr>\n",
       "      <th>8</th>\n",
       "      <td>InternetService</td>\n",
       "      <td>InternetService</td>\n",
       "      <td>Partner</td>\n",
       "      <td>TotalCharges</td>\n",
       "      <td>StreamingTV</td>\n",
       "    </tr>\n",
       "    <tr>\n",
       "      <th>9</th>\n",
       "      <td>Partner</td>\n",
       "      <td>Partner</td>\n",
       "      <td>gender</td>\n",
       "      <td>DeviceProtection</td>\n",
       "      <td>PaperlessBilling</td>\n",
       "    </tr>\n",
       "    <tr>\n",
       "      <th>10</th>\n",
       "      <td>StreamingMovies</td>\n",
       "      <td>SeniorCitizen</td>\n",
       "      <td>SeniorCitizen</td>\n",
       "      <td>StreamingMovies</td>\n",
       "      <td>gender</td>\n",
       "    </tr>\n",
       "    <tr>\n",
       "      <th>11</th>\n",
       "      <td>SeniorCitizen</td>\n",
       "      <td>TechSupport</td>\n",
       "      <td>TechSupport</td>\n",
       "      <td>StreamingTV</td>\n",
       "      <td>TechSupport</td>\n",
       "    </tr>\n",
       "    <tr>\n",
       "      <th>12</th>\n",
       "      <td>TechSupport</td>\n",
       "      <td>Dependents</td>\n",
       "      <td>OnlineBackup</td>\n",
       "      <td>PaperlessBilling</td>\n",
       "      <td>SeniorCitizen</td>\n",
       "    </tr>\n",
       "    <tr>\n",
       "      <th>13</th>\n",
       "      <td>OnlineBackup</td>\n",
       "      <td>OnlineBackup</td>\n",
       "      <td>Dependents</td>\n",
       "      <td>Dependents</td>\n",
       "      <td>OnlineBackup</td>\n",
       "    </tr>\n",
       "    <tr>\n",
       "      <th>14</th>\n",
       "      <td>MultipleLines</td>\n",
       "      <td>StreamingMovies</td>\n",
       "      <td>StreamingMovies</td>\n",
       "      <td>SeniorCitizen</td>\n",
       "      <td>MultipleLines</td>\n",
       "    </tr>\n",
       "    <tr>\n",
       "      <th>15</th>\n",
       "      <td>Dependents</td>\n",
       "      <td>MultipleLines</td>\n",
       "      <td>MultipleLines</td>\n",
       "      <td>Partner</td>\n",
       "      <td>PhoneService</td>\n",
       "    </tr>\n",
       "    <tr>\n",
       "      <th>16</th>\n",
       "      <td>DeviceProtection</td>\n",
       "      <td>DeviceProtection</td>\n",
       "      <td>DeviceProtection</td>\n",
       "      <td>MultipleLines</td>\n",
       "      <td>Dependents</td>\n",
       "    </tr>\n",
       "    <tr>\n",
       "      <th>17</th>\n",
       "      <td>StreamingTV</td>\n",
       "      <td>StreamingTV</td>\n",
       "      <td>StreamingTV</td>\n",
       "      <td>gender</td>\n",
       "      <td>Partner</td>\n",
       "    </tr>\n",
       "    <tr>\n",
       "      <th>18</th>\n",
       "      <td>PhoneService</td>\n",
       "      <td>PhoneService</td>\n",
       "      <td>PhoneService</td>\n",
       "      <td>PhoneService</td>\n",
       "      <td>DeviceProtection</td>\n",
       "    </tr>\n",
       "  </tbody>\n",
       "</table>\n",
       "</div>"
      ],
      "text/plain": [
       "             tree-s1           tree-s2           tree-s3                MI  \\\n",
       "0       TotalCharges      TotalCharges      TotalCharges          Contract   \n",
       "1     MonthlyCharges    MonthlyCharges    MonthlyCharges    OnlineSecurity   \n",
       "2           Contract          Contract          Contract            tenure   \n",
       "3             tenure            tenure            tenure       TechSupport   \n",
       "4     OnlineSecurity    OnlineSecurity    OnlineSecurity   InternetService   \n",
       "5      PaymentMethod     PaymentMethod     PaymentMethod    MonthlyCharges   \n",
       "6             gender            gender  PaperlessBilling      OnlineBackup   \n",
       "7   PaperlessBilling  PaperlessBilling   InternetService     PaymentMethod   \n",
       "8    InternetService   InternetService           Partner      TotalCharges   \n",
       "9            Partner           Partner            gender  DeviceProtection   \n",
       "10   StreamingMovies     SeniorCitizen     SeniorCitizen   StreamingMovies   \n",
       "11     SeniorCitizen       TechSupport       TechSupport       StreamingTV   \n",
       "12       TechSupport        Dependents      OnlineBackup  PaperlessBilling   \n",
       "13      OnlineBackup      OnlineBackup        Dependents        Dependents   \n",
       "14     MultipleLines   StreamingMovies   StreamingMovies     SeniorCitizen   \n",
       "15        Dependents     MultipleLines     MultipleLines           Partner   \n",
       "16  DeviceProtection  DeviceProtection  DeviceProtection     MultipleLines   \n",
       "17       StreamingTV       StreamingTV       StreamingTV            gender   \n",
       "18      PhoneService      PhoneService      PhoneService      PhoneService   \n",
       "\n",
       "         tree-search  \n",
       "0           Contract  \n",
       "1     OnlineSecurity  \n",
       "2             tenure  \n",
       "3    InternetService  \n",
       "4       TotalCharges  \n",
       "5     MonthlyCharges  \n",
       "6    StreamingMovies  \n",
       "7      PaymentMethod  \n",
       "8        StreamingTV  \n",
       "9   PaperlessBilling  \n",
       "10            gender  \n",
       "11       TechSupport  \n",
       "12     SeniorCitizen  \n",
       "13      OnlineBackup  \n",
       "14     MultipleLines  \n",
       "15      PhoneService  \n",
       "16        Dependents  \n",
       "17           Partner  \n",
       "18  DeviceProtection  "
      ]
     },
     "execution_count": 35,
     "metadata": {},
     "output_type": "execute_result"
    }
   ],
   "source": [
    "df_temp['tree-search'] = ss.index\n",
    "df_temp"
   ]
  },
  {
   "cell_type": "markdown",
   "id": "d28f4dc6-64c8-47bc-a8cc-6dc85369df8a",
   "metadata": {},
   "source": [
    "能够发现，最终特征重要性排名和MI结果较为接近（需要注意，StreamingTV后所有特征重要性都为0、也就是完全没有带入进行建模，这些重要性都是0的特征排名部分先后）。"
   ]
  },
  {
   "cell_type": "markdown",
   "id": "b0c31919-5cb6-49a3-97c6-0ccfd75e5f28",
   "metadata": {},
   "source": [
    "&emsp;&emsp;并且，此处如果多次反复执行上述过程，特征重要性排序并不会发生任何变化。这也说明带入交叉验证过程的模型训练，能够获得一个更加稳定的建模过程（树生长的过程）以及特征重要性评估结果。并且通过交叉比对MI的计算结果，也能够发现该结果会更加可信。综上所述，feature_importances_是一个和树模型建模过程高度关联的指标，并且模型结果越好，该指标就越可信。"
   ]
  },
  {
   "cell_type": "markdown",
   "id": "49dcfe23-b93b-4fea-9b71-bef1c54486eb",
   "metadata": {},
   "source": [
    "### 3.基于feature_importances_的特征筛选"
   ]
  },
  {
   "cell_type": "markdown",
   "id": "a8c4a5a3-1c08-46d1-b6f1-c20a067a3db5",
   "metadata": {},
   "source": [
    "&emsp;&emsp;这里我们进一步聚焦上述决策树最后输出的feature_importances_为0的部分特征。需要注意的是，0值表面代表这些特征重要性为0，但根据feature_importances_的计算过程，feature_importances_取值为0实际上代表的是这些特征没有为决策树生长过程提供任何一个有效的切分点，即决策树的生长过程并没有用到这些特征，换而言之，我们把这些特征删除也不会影响最终建模结果："
   ]
  },
  {
   "cell_type": "code",
   "execution_count": 36,
   "id": "338528dc-3f68-42f6-b9c1-2c4c9d5b1302",
   "metadata": {},
   "outputs": [
    {
     "data": {
      "text/plain": [
       "array([False, False, False, False, False, False,  True,  True, False,\n",
       "       False, False, False,  True,  True, False,  True,  True,  True,\n",
       "        True])"
      ]
     },
     "execution_count": 36,
     "metadata": {},
     "output_type": "execute_result"
    }
   ],
   "source": [
    "mask = tree_search.best_estimator_.feature_importances_ != 0\n",
    "mask"
   ]
  },
  {
   "cell_type": "code",
   "execution_count": 37,
   "id": "afe89b47-357a-426b-9906-d77b2a258aba",
   "metadata": {},
   "outputs": [
    {
     "data": {
      "text/plain": [
       "array(['InternetService', 'OnlineSecurity', 'StreamingMovies', 'Contract',\n",
       "       'PaymentMethod', 'tenure', 'MonthlyCharges', 'TotalCharges'],\n",
       "      dtype=object)"
      ]
     },
     "execution_count": 37,
     "metadata": {},
     "output_type": "execute_result"
    }
   ],
   "source": [
    "tree_search.best_estimator_.feature_names_in_[mask]"
   ]
  },
  {
   "cell_type": "code",
   "execution_count": 38,
   "id": "398a308b-b92f-4079-9a84-416f8e483811",
   "metadata": {},
   "outputs": [],
   "source": [
    "X_train_OE_part = X_train_OE[tree_search.best_estimator_.feature_names_in_[mask]]"
   ]
  },
  {
   "cell_type": "code",
   "execution_count": 39,
   "id": "e3e650c9-d4ab-4539-9200-14fb4e8239ae",
   "metadata": {},
   "outputs": [
    {
     "data": {
      "text/html": [
       "<div>\n",
       "<style scoped>\n",
       "    .dataframe tbody tr th:only-of-type {\n",
       "        vertical-align: middle;\n",
       "    }\n",
       "\n",
       "    .dataframe tbody tr th {\n",
       "        vertical-align: top;\n",
       "    }\n",
       "\n",
       "    .dataframe thead th {\n",
       "        text-align: right;\n",
       "    }\n",
       "</style>\n",
       "<table border=\"1\" class=\"dataframe\">\n",
       "  <thead>\n",
       "    <tr style=\"text-align: right;\">\n",
       "      <th></th>\n",
       "      <th>InternetService</th>\n",
       "      <th>OnlineSecurity</th>\n",
       "      <th>StreamingMovies</th>\n",
       "      <th>Contract</th>\n",
       "      <th>PaymentMethod</th>\n",
       "      <th>tenure</th>\n",
       "      <th>MonthlyCharges</th>\n",
       "      <th>TotalCharges</th>\n",
       "    </tr>\n",
       "  </thead>\n",
       "  <tbody>\n",
       "    <tr>\n",
       "      <th>1936</th>\n",
       "      <td>0.0</td>\n",
       "      <td>2.0</td>\n",
       "      <td>0.0</td>\n",
       "      <td>1.0</td>\n",
       "      <td>0.0</td>\n",
       "      <td>51</td>\n",
       "      <td>60.50</td>\n",
       "      <td>3145.15</td>\n",
       "    </tr>\n",
       "    <tr>\n",
       "      <th>6999</th>\n",
       "      <td>0.0</td>\n",
       "      <td>2.0</td>\n",
       "      <td>0.0</td>\n",
       "      <td>0.0</td>\n",
       "      <td>3.0</td>\n",
       "      <td>3</td>\n",
       "      <td>35.45</td>\n",
       "      <td>106.85</td>\n",
       "    </tr>\n",
       "    <tr>\n",
       "      <th>5863</th>\n",
       "      <td>1.0</td>\n",
       "      <td>0.0</td>\n",
       "      <td>2.0</td>\n",
       "      <td>0.0</td>\n",
       "      <td>2.0</td>\n",
       "      <td>21</td>\n",
       "      <td>97.35</td>\n",
       "      <td>2119.50</td>\n",
       "    </tr>\n",
       "    <tr>\n",
       "      <th>131</th>\n",
       "      <td>0.0</td>\n",
       "      <td>2.0</td>\n",
       "      <td>2.0</td>\n",
       "      <td>0.0</td>\n",
       "      <td>1.0</td>\n",
       "      <td>25</td>\n",
       "      <td>58.60</td>\n",
       "      <td>1502.65</td>\n",
       "    </tr>\n",
       "    <tr>\n",
       "      <th>3015</th>\n",
       "      <td>0.0</td>\n",
       "      <td>2.0</td>\n",
       "      <td>2.0</td>\n",
       "      <td>2.0</td>\n",
       "      <td>2.0</td>\n",
       "      <td>59</td>\n",
       "      <td>86.75</td>\n",
       "      <td>5186.00</td>\n",
       "    </tr>\n",
       "  </tbody>\n",
       "</table>\n",
       "</div>"
      ],
      "text/plain": [
       "      InternetService  OnlineSecurity  StreamingMovies  Contract  \\\n",
       "1936              0.0             2.0              0.0       1.0   \n",
       "6999              0.0             2.0              0.0       0.0   \n",
       "5863              1.0             0.0              2.0       0.0   \n",
       "131               0.0             2.0              2.0       0.0   \n",
       "3015              0.0             2.0              2.0       2.0   \n",
       "\n",
       "      PaymentMethod  tenure  MonthlyCharges  TotalCharges  \n",
       "1936            0.0      51           60.50       3145.15  \n",
       "6999            3.0       3           35.45        106.85  \n",
       "5863            2.0      21           97.35       2119.50  \n",
       "131             1.0      25           58.60       1502.65  \n",
       "3015            2.0      59           86.75       5186.00  "
      ]
     },
     "execution_count": 39,
     "metadata": {},
     "output_type": "execute_result"
    }
   ],
   "source": [
    "X_train_OE_part.head()"
   ]
  },
  {
   "cell_type": "code",
   "execution_count": 40,
   "id": "55678876-74de-4679-87c8-85743bd5dbbd",
   "metadata": {},
   "outputs": [],
   "source": [
    "# 实例化决策树评估器\n",
    "tree_model = DecisionTreeClassifier()\n",
    "# 构造参数空间\n",
    "tree_param = {'ccp_alpha': np.arange(0, 1, 0.1).tolist(),\n",
    "              'max_depth': np.arange(2, 8, 1).tolist(), \n",
    "              'min_samples_split': np.arange(2, 5, 1).tolist(), \n",
    "              'min_samples_leaf': np.arange(1, 4, 1).tolist(), \n",
    "              'max_leaf_nodes':np.arange(10,25, 1).tolist()}"
   ]
  },
  {
   "cell_type": "code",
   "execution_count": 41,
   "id": "2487acc6-d7f1-45c0-8c41-b653b359be00",
   "metadata": {},
   "outputs": [],
   "source": [
    "# 实例化网格搜索评估器\n",
    "tree_search1 = GridSearchCV(estimator = tree_model,\n",
    "                            param_grid = tree_param,\n",
    "                            n_jobs = 12)"
   ]
  },
  {
   "cell_type": "code",
   "execution_count": 42,
   "id": "51f55a74-70dc-49fc-b2a9-4b0cc2a957f7",
   "metadata": {},
   "outputs": [
    {
     "data": {
      "text/plain": [
       "GridSearchCV(estimator=DecisionTreeClassifier(), n_jobs=12,\n",
       "             param_grid={'ccp_alpha': [0.0, 0.1, 0.2, 0.30000000000000004, 0.4,\n",
       "                                       0.5, 0.6000000000000001,\n",
       "                                       0.7000000000000001, 0.8, 0.9],\n",
       "                         'max_depth': [2, 3, 4, 5, 6, 7],\n",
       "                         'max_leaf_nodes': [10, 11, 12, 13, 14, 15, 16, 17, 18,\n",
       "                                            19, 20, 21, 22, 23, 24],\n",
       "                         'min_samples_leaf': [1, 2, 3],\n",
       "                         'min_samples_split': [2, 3, 4]})"
      ]
     },
     "execution_count": 42,
     "metadata": {},
     "output_type": "execute_result"
    }
   ],
   "source": [
    "tree_search1.fit(X_train_OE_part, y_train)"
   ]
  },
  {
   "cell_type": "code",
   "execution_count": 43,
   "id": "d7a5b0e3-5203-4b2e-9d8c-50921dccbbcc",
   "metadata": {},
   "outputs": [
    {
     "data": {
      "text/plain": [
       "0.7947763467217108"
      ]
     },
     "execution_count": 43,
     "metadata": {},
     "output_type": "execute_result"
    }
   ],
   "source": [
    "# 查看特征子集的建模结果\n",
    "tree_search1.best_score_"
   ]
  },
  {
   "cell_type": "code",
   "execution_count": 44,
   "id": "d7d5879f-d1a9-411b-a2f5-9116d629ad13",
   "metadata": {},
   "outputs": [
    {
     "data": {
      "text/plain": [
       "{'ccp_alpha': 0.0,\n",
       " 'max_depth': 6,\n",
       " 'max_leaf_nodes': 19,\n",
       " 'min_samples_leaf': 1,\n",
       " 'min_samples_split': 2}"
      ]
     },
     "execution_count": 44,
     "metadata": {},
     "output_type": "execute_result"
    }
   ],
   "source": [
    "tree_search1.best_params_"
   ]
  },
  {
   "cell_type": "code",
   "execution_count": 45,
   "id": "71fb1689-8ae2-4f65-8ed3-565e658a9510",
   "metadata": {},
   "outputs": [
    {
     "data": {
      "text/plain": [
       "0.7925029027264128"
      ]
     },
     "execution_count": 45,
     "metadata": {},
     "output_type": "execute_result"
    }
   ],
   "source": [
    "# 查看原始特征的建模结果\n",
    "tree_search.best_score_"
   ]
  },
  {
   "cell_type": "code",
   "execution_count": 46,
   "id": "7b54af6f-b4d3-45cb-bbe8-8a7cf281293b",
   "metadata": {},
   "outputs": [
    {
     "data": {
      "text/plain": [
       "array([0.07662396, 0.13706538, 0.02388465, 0.54007714, 0.00902914,\n",
       "       0.1188095 , 0.03953651, 0.05497371])"
      ]
     },
     "execution_count": 46,
     "metadata": {},
     "output_type": "execute_result"
    }
   ],
   "source": [
    "tree_search1.best_estimator_.feature_importances_"
   ]
  },
  {
   "cell_type": "markdown",
   "id": "7eb494a9-c515-4360-b2e1-dd3fdc88d3e1",
   "metadata": {},
   "source": [
    "能够看出，在剔除了无关特征后，不但没有影响建模结果，最后的准确率甚至有所提升。当然根据此前的实践情况，很多时候特征都是“过犹不及”，而上述过程其实就是一个通过feature_importances_进行特征筛选、然后提升模型效果的完整过程。并且由于该特征筛选过程直接和模型效果挂钩，最终特征剔除的结果也是显而易见的。而“剔除无关特征会提升模型效果”，也是为何要执行特征筛选的根本原因。"
   ]
  },
  {
   "cell_type": "markdown",
   "id": "52e616d3-9f03-4dc2-a725-db3ff581ac1f",
   "metadata": {},
   "source": [
    "> 对于sklearn的CART树来说，出现剔除部分特征后模型效果反而上升的原因，其实还是在于CART树切分点选取的随机性上，尽管CART树的原理要求遍历所有可能切分点然后寻找最优切分点，但实际代码执行过程中会小幅牺牲精度以换取执行效率，即这个对比的过程是一个粗精度的对比过程。而当特征减少后，需要对比的备选切分点数量明显减少，尽管仍然是粗精度的对比，但备选切分点的减少使得干扰项也随之减少，进而能够小幅提升效果。"
   ]
  },
  {
   "cell_type": "markdown",
   "id": "5613a7df-e6e1-4a08-97b9-9388a2c4e778",
   "metadata": {},
   "source": [
    "&emsp;&emsp;当然，对于这个特征筛选过程，也有几点需要注意，首先是模型层面，为了提供更加可信的feature_importances_结果，模型训练一定要借助交叉验证或者超参数优化器共同执行、以训练一个泛化能力更强的模型；其次是运算效率方面，很明显，带入模型的特征筛选过程需要耗费更大的算力，往往更加适合于小范围高精度的特征筛选；其三，这个特征筛选过程其实已经有Embedding的影子在里面了，在训练模型的同时筛选出了一组有效特征，如果第一次训练的模型就是最优模型、并且特征子集就是最优子集，则上述过程就是一个完整的Embedding过程。"
   ]
  },
  {
   "cell_type": "markdown",
   "id": "1c4a4fd4-b5b9-430d-9480-10abef15cc64",
   "metadata": {},
   "source": [
    "&emsp;&emsp;此外，上述结果还涉及一个非常重要的议题，那就是单独一颗决策树能够利用特征的最大个数问题。其实决策树的结构和决策树能够利用的特征个数是直接相关的，一颗两层的二叉决策树只有一个切分点、最多只能用到一个特征，而一个三层的二叉树则有3个切分点，最多也只能用到三个特征。尽管对于单独一棵决策树来说当前用到的特征一定就是模型训练的最优解，但对于集成学习或者模型融合过程，特征的利用程度却是影响模型效果的重要因素，这点我们会在后面详细讨论。"
   ]
  },
  {
   "cell_type": "markdown",
   "id": "2d4a4a9b-17a8-483c-9556-9dbdc4e1774d",
   "metadata": {},
   "source": [
    "&emsp;&emsp;不过，根据上述结果我们能够很自然的进行联想，那就是我们剔除了feature_importances_=0的特征，最终模型效果得以上升，那如果再剔除一些feature_importances_=0较小的特征，模型结果是否会进一步上升呢？这个问题其实就等价于，当前X_train_OE_part数据集是不是最优子集。要解决这个问题，就需要借助更进一步的搜索方法来解决，也就是所谓的递归消除法（Recursive feature elimination）。"
   ]
  },
  {
   "cell_type": "markdown",
   "id": "44e0d89b-a85a-4335-b690-aa48294b7a4a",
   "metadata": {
    "tags": []
   },
   "source": [
    "## 二、特征递归消除法 Recursive feature elimination（RFE）"
   ]
  },
  {
   "cell_type": "markdown",
   "id": "e37f01a7-8c80-437b-8989-645996248491",
   "metadata": {},
   "source": [
    "### 1.经典递归消除法RFE"
   ]
  },
  {
   "cell_type": "markdown",
   "id": "f7ca42b1-39c1-496c-b177-b58aa1c752cb",
   "metadata": {},
   "source": [
    "#### 1.1 RFE的基本计算过程"
   ]
  },
  {
   "cell_type": "markdown",
   "id": "f8597ac3-13fc-4601-a3f0-dbbfc12792c2",
   "metadata": {},
   "source": [
    "&emsp;&emsp;RFE是一种基于模型训练结果进行特征筛选的方法，并且是一种通过递归不断消除无用特征的方法。该方法的基本执行步骤如下："
   ]
  },
  {
   "cell_type": "markdown",
   "id": "4961634d-49d7-4fd5-9c8d-eb406bc8967a",
   "metadata": {},
   "source": [
    "- Step 1：根据给定的评估器，在当前数据集A1上进行训练并计算每个特征的重要性，即计算每个特征的coef_或feature_importances_；\n",
    "- Step 2：剔除最不重要的特征，即特征重要性计算结果最小的特征，得到特征子集A2，然后再次训练模型，并计算剩余特征的特征重要性；\n",
    "- Step 3：不断重复Step 2，直到特征子集的个数等于n_features_to_select，其中n_features_to_select是人工设置的最终保留特征个数。"
   ]
  },
  {
   "cell_type": "markdown",
   "id": "c0df9a5c-4990-4172-8642-24d62f0a45c9",
   "metadata": {},
   "source": [
    "&emsp;&emsp;不难发现，相比只训练一个模型、然后根据这个模型的feature_importances_对特征重要性进行排名，RFE过程会更加复杂同时也会更加精准，这种精准体现在每次剔除特征后，剩下的特征都是在新环境中进行比较，当然RFE过程由于会涉及到多轮模型训练，需要耗费的计算量肯定也更大。"
   ]
  },
  {
   "cell_type": "markdown",
   "id": "88a725a1-5aff-4364-b03b-376d65ef4693",
   "metadata": {},
   "source": [
    "#### 1.2 RFE在sklearn中的实现"
   ]
  },
  {
   "cell_type": "markdown",
   "id": "c58c9ed0-5e1b-4440-bb1f-1bfb514d364c",
   "metadata": {},
   "source": [
    "&emsp;&emsp;同样，我们可以在sklearn中的feature_selection模块中找到RFE评估器："
   ]
  },
  {
   "cell_type": "code",
   "execution_count": 47,
   "id": "77768e36-16ba-4f74-9030-21b186bcdacb",
   "metadata": {},
   "outputs": [],
   "source": [
    "from sklearn.feature_selection import RFE"
   ]
  },
  {
   "cell_type": "markdown",
   "id": "fe1cce01-a2e3-4c48-a5a8-114a9edd4891",
   "metadata": {},
   "source": [
    "- RFE的调用方法"
   ]
  },
  {
   "cell_type": "markdown",
   "id": "779ec4cb-a809-4efb-b8cd-ffd675d434a0",
   "metadata": {},
   "source": [
    "&emsp;&emsp;首先是RFE评估器，该评估器的参数结构并不复杂，基本解释如下："
   ]
  },
  {
   "cell_type": "markdown",
   "id": "03d6bc29-a393-4b2b-b474-63287cf5e168",
   "metadata": {},
   "source": [
    "| 参数 | 解释 | 说明 |\n",
    "| ------ | ------ | ------ |\n",
    "| estimator | 带入训练的评估器 | 必须要能输出特征重要性指标 |\n",
    "| n_features_to_select | 筛选后特征个数 | 默认保留一半 |\n",
    "| step | 每次剔除特征的个数 | 默认每轮剔除1个特征 |\n",
    "| importance_getter | 特征重要性评估指标 | 默认情况是coef_或者feature_importances_ |"
   ]
  },
  {
   "cell_type": "code",
   "execution_count": 48,
   "id": "c677b539-4de5-4121-a9c0-5471b8cd45bd",
   "metadata": {
    "tags": []
   },
   "outputs": [
    {
     "data": {
      "text/plain": [
       "\u001b[1;31mInit signature:\u001b[0m\n",
       "\u001b[0mRFE\u001b[0m\u001b[1;33m(\u001b[0m\u001b[1;33m\n",
       "\u001b[0m    \u001b[0mestimator\u001b[0m\u001b[1;33m,\u001b[0m\u001b[1;33m\n",
       "\u001b[0m    \u001b[1;33m*\u001b[0m\u001b[1;33m,\u001b[0m\u001b[1;33m\n",
       "\u001b[0m    \u001b[0mn_features_to_select\u001b[0m\u001b[1;33m=\u001b[0m\u001b[1;32mNone\u001b[0m\u001b[1;33m,\u001b[0m\u001b[1;33m\n",
       "\u001b[0m    \u001b[0mstep\u001b[0m\u001b[1;33m=\u001b[0m\u001b[1;36m1\u001b[0m\u001b[1;33m,\u001b[0m\u001b[1;33m\n",
       "\u001b[0m    \u001b[0mverbose\u001b[0m\u001b[1;33m=\u001b[0m\u001b[1;36m0\u001b[0m\u001b[1;33m,\u001b[0m\u001b[1;33m\n",
       "\u001b[0m    \u001b[0mimportance_getter\u001b[0m\u001b[1;33m=\u001b[0m\u001b[1;34m'auto'\u001b[0m\u001b[1;33m,\u001b[0m\u001b[1;33m\n",
       "\u001b[0m\u001b[1;33m)\u001b[0m\u001b[1;33m\u001b[0m\u001b[1;33m\u001b[0m\u001b[0m\n",
       "\u001b[1;31mDocstring:\u001b[0m     \n",
       "Feature ranking with recursive feature elimination.\n",
       "\n",
       "Given an external estimator that assigns weights to features (e.g., the\n",
       "coefficients of a linear model), the goal of recursive feature elimination\n",
       "(RFE) is to select features by recursively considering smaller and smaller\n",
       "sets of features. First, the estimator is trained on the initial set of\n",
       "features and the importance of each feature is obtained either through\n",
       "any specific attribute or callable.\n",
       "Then, the least important features are pruned from current set of features.\n",
       "That procedure is recursively repeated on the pruned set until the desired\n",
       "number of features to select is eventually reached.\n",
       "\n",
       "Read more in the :ref:`User Guide <rfe>`.\n",
       "\n",
       "Parameters\n",
       "----------\n",
       "estimator : ``Estimator`` instance\n",
       "    A supervised learning estimator with a ``fit`` method that provides\n",
       "    information about feature importance\n",
       "    (e.g. `coef_`, `feature_importances_`).\n",
       "\n",
       "n_features_to_select : int or float, default=None\n",
       "    The number of features to select. If `None`, half of the features are\n",
       "    selected. If integer, the parameter is the absolute number of features\n",
       "    to select. If float between 0 and 1, it is the fraction of features to\n",
       "    select.\n",
       "\n",
       "    .. versionchanged:: 0.24\n",
       "       Added float values for fractions.\n",
       "\n",
       "step : int or float, default=1\n",
       "    If greater than or equal to 1, then ``step`` corresponds to the\n",
       "    (integer) number of features to remove at each iteration.\n",
       "    If within (0.0, 1.0), then ``step`` corresponds to the percentage\n",
       "    (rounded down) of features to remove at each iteration.\n",
       "\n",
       "verbose : int, default=0\n",
       "    Controls verbosity of output.\n",
       "\n",
       "importance_getter : str or callable, default='auto'\n",
       "    If 'auto', uses the feature importance either through a `coef_`\n",
       "    or `feature_importances_` attributes of estimator.\n",
       "\n",
       "    Also accepts a string that specifies an attribute name/path\n",
       "    for extracting feature importance (implemented with `attrgetter`).\n",
       "    For example, give `regressor_.coef_` in case of\n",
       "    :class:`~sklearn.compose.TransformedTargetRegressor`  or\n",
       "    `named_steps.clf.feature_importances_` in case of\n",
       "    class:`~sklearn.pipeline.Pipeline` with its last step named `clf`.\n",
       "\n",
       "    If `callable`, overrides the default feature importance getter.\n",
       "    The callable is passed with the fitted estimator and it should\n",
       "    return importance for each feature.\n",
       "\n",
       "    .. versionadded:: 0.24\n",
       "\n",
       "Attributes\n",
       "----------\n",
       "classes_ : ndarray of shape (n_classes,)\n",
       "    The classes labels. Only available when `estimator` is a classifier.\n",
       "\n",
       "estimator_ : ``Estimator`` instance\n",
       "    The fitted estimator used to select features.\n",
       "\n",
       "n_features_ : int\n",
       "    The number of selected features.\n",
       "\n",
       "n_features_in_ : int\n",
       "    Number of features seen during :term:`fit`. Only defined if the\n",
       "    underlying estimator exposes such an attribute when fit.\n",
       "\n",
       "    .. versionadded:: 0.24\n",
       "\n",
       "feature_names_in_ : ndarray of shape (`n_features_in_`,)\n",
       "    Names of features seen during :term:`fit`. Defined only when `X`\n",
       "    has feature names that are all strings.\n",
       "\n",
       "    .. versionadded:: 1.0\n",
       "\n",
       "ranking_ : ndarray of shape (n_features,)\n",
       "    The feature ranking, such that ``ranking_[i]`` corresponds to the\n",
       "    ranking position of the i-th feature. Selected (i.e., estimated\n",
       "    best) features are assigned rank 1.\n",
       "\n",
       "support_ : ndarray of shape (n_features,)\n",
       "    The mask of selected features.\n",
       "\n",
       "See Also\n",
       "--------\n",
       "RFECV : Recursive feature elimination with built-in cross-validated\n",
       "    selection of the best number of features.\n",
       "SelectFromModel : Feature selection based on thresholds of importance\n",
       "    weights.\n",
       "SequentialFeatureSelector : Sequential cross-validation based feature\n",
       "    selection. Does not rely on importance weights.\n",
       "\n",
       "Notes\n",
       "-----\n",
       "Allows NaN/Inf in the input if the underlying estimator does as well.\n",
       "\n",
       "References\n",
       "----------\n",
       "\n",
       ".. [1] Guyon, I., Weston, J., Barnhill, S., & Vapnik, V., \"Gene selection\n",
       "       for cancer classification using support vector machines\",\n",
       "       Mach. Learn., 46(1-3), 389--422, 2002.\n",
       "\n",
       "Examples\n",
       "--------\n",
       "The following example shows how to retrieve the 5 most informative\n",
       "features in the Friedman #1 dataset.\n",
       "\n",
       ">>> from sklearn.datasets import make_friedman1\n",
       ">>> from sklearn.feature_selection import RFE\n",
       ">>> from sklearn.svm import SVR\n",
       ">>> X, y = make_friedman1(n_samples=50, n_features=10, random_state=0)\n",
       ">>> estimator = SVR(kernel=\"linear\")\n",
       ">>> selector = RFE(estimator, n_features_to_select=5, step=1)\n",
       ">>> selector = selector.fit(X, y)\n",
       ">>> selector.support_\n",
       "array([ True,  True,  True,  True,  True, False, False, False, False,\n",
       "       False])\n",
       ">>> selector.ranking_\n",
       "array([1, 1, 1, 1, 1, 6, 4, 3, 2, 5])\n",
       "\u001b[1;31mFile:\u001b[0m           d:\\anaconda3\\lib\\site-packages\\sklearn\\feature_selection\\_rfe.py\n",
       "\u001b[1;31mType:\u001b[0m           ABCMeta\n",
       "\u001b[1;31mSubclasses:\u001b[0m     RFECV\n"
      ]
     },
     "metadata": {},
     "output_type": "display_data"
    }
   ],
   "source": [
    "RFE?"
   ]
  },
  {
   "cell_type": "markdown",
   "id": "e279976f-40c9-4145-96ab-1e9196ed990c",
   "metadata": {},
   "source": [
    "接下来尝试使用该评估器进行特征递归消除："
   ]
  },
  {
   "cell_type": "code",
   "execution_count": 49,
   "id": "1ddf053d-ed99-4110-9d3a-0a32d9e06c9c",
   "metadata": {},
   "outputs": [],
   "source": [
    "# 实例化评估器\n",
    "tree_rfe = DecisionTreeClassifier()\n",
    "rfe = RFE(estimator=tree_rfe)"
   ]
  },
  {
   "cell_type": "code",
   "execution_count": 50,
   "id": "23982346-53c6-4fa3-b055-292563a89230",
   "metadata": {},
   "outputs": [
    {
     "data": {
      "text/plain": [
       "RFE(estimator=DecisionTreeClassifier())"
      ]
     },
     "execution_count": 50,
     "metadata": {},
     "output_type": "execute_result"
    }
   ],
   "source": [
    "rfe.fit(X_train_OE, y_train)"
   ]
  },
  {
   "cell_type": "markdown",
   "id": "db5eda28-c2dd-45f3-b4f8-78dc48ca82e7",
   "metadata": {},
   "source": [
    "在评估器训练完后，将提供非常细致的特征递归消除的结果。首先是原始特征个数与筛选后保留特征个数："
   ]
  },
  {
   "cell_type": "code",
   "execution_count": 51,
   "id": "b8f35d8e-9237-466e-89e7-9c94047483f6",
   "metadata": {},
   "outputs": [
    {
     "data": {
      "text/plain": [
       "19"
      ]
     },
     "execution_count": 51,
     "metadata": {},
     "output_type": "execute_result"
    }
   ],
   "source": [
    "# 总特征个数\n",
    "rfe.n_features_in_"
   ]
  },
  {
   "cell_type": "code",
   "execution_count": 52,
   "id": "a0dd2534-b5ae-4cf7-a289-02c2e1f26b55",
   "metadata": {},
   "outputs": [
    {
     "data": {
      "text/plain": [
       "9"
      ]
     },
     "execution_count": 52,
     "metadata": {},
     "output_type": "execute_result"
    }
   ],
   "source": [
    "# 筛选后特征个数\n",
    "rfe.n_features_"
   ]
  },
  {
   "cell_type": "markdown",
   "id": "6fee5c1f-0fc8-462a-83ee-483af5cecce2",
   "metadata": {},
   "source": [
    "并且能够查看最后筛选出来的特征："
   ]
  },
  {
   "cell_type": "code",
   "execution_count": 53,
   "id": "ee48c45a-f335-4369-934b-f0241020b1dc",
   "metadata": {},
   "outputs": [
    {
     "data": {
      "text/plain": [
       "array([ True, False, False, False, False, False,  True,  True, False,\n",
       "       False, False, False, False,  True,  True,  True,  True,  True,\n",
       "        True])"
      ]
     },
     "execution_count": 53,
     "metadata": {},
     "output_type": "execute_result"
    }
   ],
   "source": [
    "rfe.get_support()"
   ]
  },
  {
   "cell_type": "code",
   "execution_count": 54,
   "id": "8e2edd6b-2c79-48fc-a7a7-6a01443dfd27",
   "metadata": {},
   "outputs": [
    {
     "data": {
      "text/plain": [
       "array(['gender', 'InternetService', 'OnlineSecurity', 'Contract',\n",
       "       'PaperlessBilling', 'PaymentMethod', 'tenure', 'MonthlyCharges',\n",
       "       'TotalCharges'], dtype=object)"
      ]
     },
     "execution_count": 54,
     "metadata": {},
     "output_type": "execute_result"
    }
   ],
   "source": [
    "rfe.feature_names_in_[rfe.get_support()]"
   ]
  },
  {
   "cell_type": "code",
   "execution_count": 55,
   "id": "df1a7d4e-5ade-477c-8a28-df39d69db988",
   "metadata": {},
   "outputs": [
    {
     "data": {
      "text/plain": [
       "array(['gender', 'InternetService', 'OnlineSecurity', 'Contract',\n",
       "       'PaperlessBilling', 'PaymentMethod', 'tenure', 'MonthlyCharges',\n",
       "       'TotalCharges'], dtype=object)"
      ]
     },
     "execution_count": 55,
     "metadata": {},
     "output_type": "execute_result"
    }
   ],
   "source": [
    "rfe.get_feature_names_out()"
   ]
  },
  {
   "cell_type": "markdown",
   "id": "79cf6500-544e-4abb-94c6-0c1616c38c8a",
   "metadata": {},
   "source": [
    "此外，还能够看到特征的评级（rank），即评级越低的特征就是越不重要的特征，也就是越早被剔除的特征，而rank=1的特征则是最终被保留下来的特征，根据rank的取值，我们也能看出每个被剔除的特征被淘汰的时间。例如rank=11的特征就是首先被淘汰的特征："
   ]
  },
  {
   "cell_type": "code",
   "execution_count": 56,
   "id": "08d08be4-659b-459d-be98-e259b244b0c2",
   "metadata": {},
   "outputs": [
    {
     "data": {
      "text/plain": [
       "array([ 1,  5,  2,  6, 11,  7,  1,  1,  3,  9,  4, 10,  8,  1,  1,  1,  1,\n",
       "        1,  1])"
      ]
     },
     "execution_count": 56,
     "metadata": {},
     "output_type": "execute_result"
    }
   ],
   "source": [
    "rfe.ranking_"
   ]
  },
  {
   "cell_type": "code",
   "execution_count": 57,
   "id": "a8d8730e-1868-4f6a-9008-0db85efada91",
   "metadata": {},
   "outputs": [
    {
     "data": {
      "text/plain": [
       "array([ True, False, False, False, False, False,  True,  True, False,\n",
       "       False, False, False, False,  True,  True,  True,  True,  True,\n",
       "        True])"
      ]
     },
     "execution_count": 57,
     "metadata": {},
     "output_type": "execute_result"
    }
   ],
   "source": [
    "rfe.ranking_ == 1"
   ]
  },
  {
   "cell_type": "code",
   "execution_count": 58,
   "id": "869ec153-f0cc-406e-bb87-7615404e10ba",
   "metadata": {},
   "outputs": [
    {
     "data": {
      "text/plain": [
       "array([ True,  True,  True,  True,  True,  True,  True,  True,  True,\n",
       "        True,  True,  True,  True,  True,  True,  True,  True,  True,\n",
       "        True])"
      ]
     },
     "execution_count": 58,
     "metadata": {},
     "output_type": "execute_result"
    }
   ],
   "source": [
    "(rfe.ranking_ == 1) == rfe.get_support()"
   ]
  },
  {
   "cell_type": "markdown",
   "id": "602a5a59-cacd-452a-95d2-dc66ba2fca20",
   "metadata": {},
   "source": [
    "&emsp;&emsp;当然，RFE也提供了围绕当前数据筛选结果进行模型评分的相关功能，分别是用于模型预测的.predict方法，以及直接输出模型评估结果的.score方法："
   ]
  },
  {
   "cell_type": "code",
   "execution_count": 59,
   "id": "3189499b-44fc-4656-a7c7-94731d0378f1",
   "metadata": {},
   "outputs": [
    {
     "data": {
      "text/plain": [
       "array([0, 1, 1, ..., 0, 0, 1], dtype=int64)"
      ]
     },
     "execution_count": 59,
     "metadata": {},
     "output_type": "execute_result"
    }
   ],
   "source": [
    "rfe.predict(X_train_OE)"
   ]
  },
  {
   "cell_type": "code",
   "execution_count": 60,
   "id": "8c9edb23-2445-48a8-ad52-15d657457cee",
   "metadata": {},
   "outputs": [
    {
     "data": {
      "text/plain": [
       "0.9979174555092768"
      ]
     },
     "execution_count": 60,
     "metadata": {},
     "output_type": "execute_result"
    }
   ],
   "source": [
    "rfe.score(X_train_OE, y_train)"
   ]
  },
  {
   "cell_type": "code",
   "execution_count": 61,
   "id": "91c29c33-89b3-4eea-99fc-1288acd82790",
   "metadata": {},
   "outputs": [
    {
     "data": {
      "text/plain": [
       "0.7336740488358887"
      ]
     },
     "execution_count": 61,
     "metadata": {},
     "output_type": "execute_result"
    }
   ],
   "source": [
    "rfe.score(X_test_OE, y_test)"
   ]
  },
  {
   "cell_type": "markdown",
   "id": "0a67394f-8021-4fcc-8ec2-6aef114ecd3e",
   "metadata": {},
   "source": [
    "能够看出，由于是带入的未经调参的决策树模型，模型过拟合问题非常明显。此外需要注意的是这里需要带入训练RFE评估器时的全部数据，但实际上上述过程是选取了那些最后被挑选出来的特征带入进行的预测，并非全部数据。上述结果等价于带入选出的特征、在原有模型超参数结构下进行训练并得出的评分："
   ]
  },
  {
   "cell_type": "code",
   "execution_count": 62,
   "id": "508e7bfb-bc51-4e15-979d-c2c20c4cf080",
   "metadata": {},
   "outputs": [
    {
     "data": {
      "text/plain": [
       "array(['gender', 'InternetService', 'OnlineSecurity', 'Contract',\n",
       "       'PaperlessBilling', 'PaymentMethod', 'tenure', 'MonthlyCharges',\n",
       "       'TotalCharges'], dtype=object)"
      ]
     },
     "execution_count": 62,
     "metadata": {},
     "output_type": "execute_result"
    }
   ],
   "source": [
    "rfe.get_feature_names_out()"
   ]
  },
  {
   "cell_type": "code",
   "execution_count": 63,
   "id": "4f576817-a283-494a-a767-021bfe1c3cd3",
   "metadata": {},
   "outputs": [
    {
     "data": {
      "text/html": [
       "<div>\n",
       "<style scoped>\n",
       "    .dataframe tbody tr th:only-of-type {\n",
       "        vertical-align: middle;\n",
       "    }\n",
       "\n",
       "    .dataframe tbody tr th {\n",
       "        vertical-align: top;\n",
       "    }\n",
       "\n",
       "    .dataframe thead th {\n",
       "        text-align: right;\n",
       "    }\n",
       "</style>\n",
       "<table border=\"1\" class=\"dataframe\">\n",
       "  <thead>\n",
       "    <tr style=\"text-align: right;\">\n",
       "      <th></th>\n",
       "      <th>gender</th>\n",
       "      <th>InternetService</th>\n",
       "      <th>OnlineSecurity</th>\n",
       "      <th>Contract</th>\n",
       "      <th>PaperlessBilling</th>\n",
       "      <th>PaymentMethod</th>\n",
       "      <th>tenure</th>\n",
       "      <th>MonthlyCharges</th>\n",
       "      <th>TotalCharges</th>\n",
       "    </tr>\n",
       "  </thead>\n",
       "  <tbody>\n",
       "    <tr>\n",
       "      <th>1936</th>\n",
       "      <td>0.0</td>\n",
       "      <td>0.0</td>\n",
       "      <td>2.0</td>\n",
       "      <td>1.0</td>\n",
       "      <td>1.0</td>\n",
       "      <td>0.0</td>\n",
       "      <td>51</td>\n",
       "      <td>60.50</td>\n",
       "      <td>3145.15</td>\n",
       "    </tr>\n",
       "    <tr>\n",
       "      <th>6999</th>\n",
       "      <td>1.0</td>\n",
       "      <td>0.0</td>\n",
       "      <td>2.0</td>\n",
       "      <td>0.0</td>\n",
       "      <td>1.0</td>\n",
       "      <td>3.0</td>\n",
       "      <td>3</td>\n",
       "      <td>35.45</td>\n",
       "      <td>106.85</td>\n",
       "    </tr>\n",
       "    <tr>\n",
       "      <th>5863</th>\n",
       "      <td>0.0</td>\n",
       "      <td>1.0</td>\n",
       "      <td>0.0</td>\n",
       "      <td>0.0</td>\n",
       "      <td>1.0</td>\n",
       "      <td>2.0</td>\n",
       "      <td>21</td>\n",
       "      <td>97.35</td>\n",
       "      <td>2119.50</td>\n",
       "    </tr>\n",
       "    <tr>\n",
       "      <th>131</th>\n",
       "      <td>0.0</td>\n",
       "      <td>0.0</td>\n",
       "      <td>2.0</td>\n",
       "      <td>0.0</td>\n",
       "      <td>1.0</td>\n",
       "      <td>1.0</td>\n",
       "      <td>25</td>\n",
       "      <td>58.60</td>\n",
       "      <td>1502.65</td>\n",
       "    </tr>\n",
       "    <tr>\n",
       "      <th>3015</th>\n",
       "      <td>1.0</td>\n",
       "      <td>0.0</td>\n",
       "      <td>2.0</td>\n",
       "      <td>2.0</td>\n",
       "      <td>1.0</td>\n",
       "      <td>2.0</td>\n",
       "      <td>59</td>\n",
       "      <td>86.75</td>\n",
       "      <td>5186.00</td>\n",
       "    </tr>\n",
       "    <tr>\n",
       "      <th>...</th>\n",
       "      <td>...</td>\n",
       "      <td>...</td>\n",
       "      <td>...</td>\n",
       "      <td>...</td>\n",
       "      <td>...</td>\n",
       "      <td>...</td>\n",
       "      <td>...</td>\n",
       "      <td>...</td>\n",
       "      <td>...</td>\n",
       "    </tr>\n",
       "    <tr>\n",
       "      <th>2998</th>\n",
       "      <td>1.0</td>\n",
       "      <td>1.0</td>\n",
       "      <td>0.0</td>\n",
       "      <td>0.0</td>\n",
       "      <td>1.0</td>\n",
       "      <td>2.0</td>\n",
       "      <td>2</td>\n",
       "      <td>74.75</td>\n",
       "      <td>144.80</td>\n",
       "    </tr>\n",
       "    <tr>\n",
       "      <th>1993</th>\n",
       "      <td>0.0</td>\n",
       "      <td>0.0</td>\n",
       "      <td>0.0</td>\n",
       "      <td>0.0</td>\n",
       "      <td>1.0</td>\n",
       "      <td>2.0</td>\n",
       "      <td>1</td>\n",
       "      <td>45.70</td>\n",
       "      <td>45.70</td>\n",
       "    </tr>\n",
       "    <tr>\n",
       "      <th>1064</th>\n",
       "      <td>0.0</td>\n",
       "      <td>0.0</td>\n",
       "      <td>2.0</td>\n",
       "      <td>1.0</td>\n",
       "      <td>0.0</td>\n",
       "      <td>3.0</td>\n",
       "      <td>14</td>\n",
       "      <td>55.70</td>\n",
       "      <td>795.15</td>\n",
       "    </tr>\n",
       "    <tr>\n",
       "      <th>4838</th>\n",
       "      <td>0.0</td>\n",
       "      <td>1.0</td>\n",
       "      <td>0.0</td>\n",
       "      <td>1.0</td>\n",
       "      <td>1.0</td>\n",
       "      <td>1.0</td>\n",
       "      <td>67</td>\n",
       "      <td>109.70</td>\n",
       "      <td>7344.45</td>\n",
       "    </tr>\n",
       "    <tr>\n",
       "      <th>595</th>\n",
       "      <td>0.0</td>\n",
       "      <td>0.0</td>\n",
       "      <td>2.0</td>\n",
       "      <td>0.0</td>\n",
       "      <td>1.0</td>\n",
       "      <td>3.0</td>\n",
       "      <td>12</td>\n",
       "      <td>61.65</td>\n",
       "      <td>713.75</td>\n",
       "    </tr>\n",
       "  </tbody>\n",
       "</table>\n",
       "<p>5282 rows × 9 columns</p>\n",
       "</div>"
      ],
      "text/plain": [
       "      gender  InternetService  OnlineSecurity  Contract  PaperlessBilling  \\\n",
       "1936     0.0              0.0             2.0       1.0               1.0   \n",
       "6999     1.0              0.0             2.0       0.0               1.0   \n",
       "5863     0.0              1.0             0.0       0.0               1.0   \n",
       "131      0.0              0.0             2.0       0.0               1.0   \n",
       "3015     1.0              0.0             2.0       2.0               1.0   \n",
       "...      ...              ...             ...       ...               ...   \n",
       "2998     1.0              1.0             0.0       0.0               1.0   \n",
       "1993     0.0              0.0             0.0       0.0               1.0   \n",
       "1064     0.0              0.0             2.0       1.0               0.0   \n",
       "4838     0.0              1.0             0.0       1.0               1.0   \n",
       "595      0.0              0.0             2.0       0.0               1.0   \n",
       "\n",
       "      PaymentMethod  tenure  MonthlyCharges  TotalCharges  \n",
       "1936            0.0      51           60.50       3145.15  \n",
       "6999            3.0       3           35.45        106.85  \n",
       "5863            2.0      21           97.35       2119.50  \n",
       "131             1.0      25           58.60       1502.65  \n",
       "3015            2.0      59           86.75       5186.00  \n",
       "...             ...     ...             ...           ...  \n",
       "2998            2.0       2           74.75        144.80  \n",
       "1993            2.0       1           45.70         45.70  \n",
       "1064            3.0      14           55.70        795.15  \n",
       "4838            1.0      67          109.70       7344.45  \n",
       "595             3.0      12           61.65        713.75  \n",
       "\n",
       "[5282 rows x 9 columns]"
      ]
     },
     "execution_count": 63,
     "metadata": {},
     "output_type": "execute_result"
    }
   ],
   "source": [
    "X_train_OE[rfe.get_feature_names_out()]"
   ]
  },
  {
   "cell_type": "code",
   "execution_count": 64,
   "id": "6059480f-77ac-43d5-a0c8-647c48072442",
   "metadata": {
    "tags": []
   },
   "outputs": [
    {
     "data": {
      "text/plain": [
       "0.9979174555092768"
      ]
     },
     "execution_count": 64,
     "metadata": {},
     "output_type": "execute_result"
    }
   ],
   "source": [
    "tree_rfe.fit(X_train_OE[rfe.get_feature_names_out()], y_train)\n",
    "tree_rfe.score(X_train_OE[rfe.get_feature_names_out()], y_train)"
   ]
  },
  {
   "cell_type": "markdown",
   "id": "c57bd893-5fde-4523-80e7-a5b7294b4f23",
   "metadata": {},
   "source": [
    "#### 1.3 基于RFE计算过程的特征筛选"
   ]
  },
  {
   "cell_type": "markdown",
   "id": "aae909ec-f0cb-48b6-ac0e-fcf038052b94",
   "metadata": {},
   "source": [
    "- RFE计算过程的模型训练问题"
   ]
  },
  {
   "cell_type": "markdown",
   "id": "d35d2dcf-0749-49fc-a59c-a340932e086c",
   "metadata": {},
   "source": [
    "&emsp;&emsp;我们知道，只有模型本身有效，模型产出的feature_importances_才具有可信度。RFE过程尽管会用到feature_importances_进行特征筛选，但RFE过程只是对模型进行简单训练，并未进行超参数搜索等模型优化，这会使得每一轮的模型都是过拟合的，而基于过拟合模型产出的feature_importances_进行的特征筛选，结果并不可靠。此处设置n_features_to_select=1，最终会剔除到只剩一个特征："
   ]
  },
  {
   "cell_type": "code",
   "execution_count": 65,
   "id": "80354495-38e3-47b5-a61b-03dd2f13a87b",
   "metadata": {},
   "outputs": [],
   "source": [
    "tree_rfe = DecisionTreeClassifier()\n",
    "rfe = RFE(estimator=tree_rfe, n_features_to_select=1).fit(X_train_OE, y_train)"
   ]
  },
  {
   "cell_type": "code",
   "execution_count": 66,
   "id": "e9b6c8a7-5630-4fd6-9d39-d4301ea06dbb",
   "metadata": {},
   "outputs": [
    {
     "data": {
      "text/plain": [
       "array([ 8, 15, 10, 12, 19, 14,  9,  6, 13, 17, 11, 18, 16,  3,  7,  5,  4,\n",
       "        2,  1])"
      ]
     },
     "execution_count": 66,
     "metadata": {},
     "output_type": "execute_result"
    }
   ],
   "source": [
    "rfe.ranking_"
   ]
  },
  {
   "cell_type": "code",
   "execution_count": 67,
   "id": "50d953e0-7ed7-4f07-bd38-440dfc22ebf9",
   "metadata": {},
   "outputs": [
    {
     "data": {
      "text/plain": [
       "1         TotalCharges\n",
       "2       MonthlyCharges\n",
       "3             Contract\n",
       "4               tenure\n",
       "5        PaymentMethod\n",
       "6       OnlineSecurity\n",
       "7     PaperlessBilling\n",
       "8               gender\n",
       "9      InternetService\n",
       "10             Partner\n",
       "11         TechSupport\n",
       "12          Dependents\n",
       "13        OnlineBackup\n",
       "14       MultipleLines\n",
       "15       SeniorCitizen\n",
       "16     StreamingMovies\n",
       "17    DeviceProtection\n",
       "18         StreamingTV\n",
       "19        PhoneService\n",
       "dtype: object"
      ]
     },
     "execution_count": 67,
     "metadata": {},
     "output_type": "execute_result"
    }
   ],
   "source": [
    "rfe_res = pd.Series(rfe.feature_names_in_, index=rfe.ranking_)\n",
    "rfe_res.sort_index(inplace=False)"
   ]
  },
  {
   "cell_type": "code",
   "execution_count": 68,
   "id": "846ccd13-6785-4132-a645-5fa4065aa8b7",
   "metadata": {},
   "outputs": [
    {
     "data": {
      "text/html": [
       "<div>\n",
       "<style scoped>\n",
       "    .dataframe tbody tr th:only-of-type {\n",
       "        vertical-align: middle;\n",
       "    }\n",
       "\n",
       "    .dataframe tbody tr th {\n",
       "        vertical-align: top;\n",
       "    }\n",
       "\n",
       "    .dataframe thead th {\n",
       "        text-align: right;\n",
       "    }\n",
       "</style>\n",
       "<table border=\"1\" class=\"dataframe\">\n",
       "  <thead>\n",
       "    <tr style=\"text-align: right;\">\n",
       "      <th></th>\n",
       "      <th>tree-s1</th>\n",
       "      <th>tree-s2</th>\n",
       "      <th>tree-s3</th>\n",
       "      <th>MI</th>\n",
       "      <th>tree-search</th>\n",
       "      <th>rfe_res</th>\n",
       "    </tr>\n",
       "  </thead>\n",
       "  <tbody>\n",
       "    <tr>\n",
       "      <th>0</th>\n",
       "      <td>TotalCharges</td>\n",
       "      <td>TotalCharges</td>\n",
       "      <td>TotalCharges</td>\n",
       "      <td>Contract</td>\n",
       "      <td>Contract</td>\n",
       "      <td>TotalCharges</td>\n",
       "    </tr>\n",
       "    <tr>\n",
       "      <th>1</th>\n",
       "      <td>MonthlyCharges</td>\n",
       "      <td>MonthlyCharges</td>\n",
       "      <td>MonthlyCharges</td>\n",
       "      <td>OnlineSecurity</td>\n",
       "      <td>OnlineSecurity</td>\n",
       "      <td>MonthlyCharges</td>\n",
       "    </tr>\n",
       "    <tr>\n",
       "      <th>2</th>\n",
       "      <td>Contract</td>\n",
       "      <td>Contract</td>\n",
       "      <td>Contract</td>\n",
       "      <td>tenure</td>\n",
       "      <td>tenure</td>\n",
       "      <td>Contract</td>\n",
       "    </tr>\n",
       "    <tr>\n",
       "      <th>3</th>\n",
       "      <td>tenure</td>\n",
       "      <td>tenure</td>\n",
       "      <td>tenure</td>\n",
       "      <td>TechSupport</td>\n",
       "      <td>InternetService</td>\n",
       "      <td>tenure</td>\n",
       "    </tr>\n",
       "    <tr>\n",
       "      <th>4</th>\n",
       "      <td>OnlineSecurity</td>\n",
       "      <td>OnlineSecurity</td>\n",
       "      <td>OnlineSecurity</td>\n",
       "      <td>InternetService</td>\n",
       "      <td>TotalCharges</td>\n",
       "      <td>PaymentMethod</td>\n",
       "    </tr>\n",
       "    <tr>\n",
       "      <th>5</th>\n",
       "      <td>PaymentMethod</td>\n",
       "      <td>PaymentMethod</td>\n",
       "      <td>PaymentMethod</td>\n",
       "      <td>MonthlyCharges</td>\n",
       "      <td>MonthlyCharges</td>\n",
       "      <td>OnlineSecurity</td>\n",
       "    </tr>\n",
       "    <tr>\n",
       "      <th>6</th>\n",
       "      <td>gender</td>\n",
       "      <td>gender</td>\n",
       "      <td>PaperlessBilling</td>\n",
       "      <td>OnlineBackup</td>\n",
       "      <td>StreamingMovies</td>\n",
       "      <td>PaperlessBilling</td>\n",
       "    </tr>\n",
       "    <tr>\n",
       "      <th>7</th>\n",
       "      <td>PaperlessBilling</td>\n",
       "      <td>PaperlessBilling</td>\n",
       "      <td>InternetService</td>\n",
       "      <td>PaymentMethod</td>\n",
       "      <td>PaymentMethod</td>\n",
       "      <td>gender</td>\n",
       "    </tr>\n",
       "    <tr>\n",
       "      <th>8</th>\n",
       "      <td>InternetService</td>\n",
       "      <td>InternetService</td>\n",
       "      <td>Partner</td>\n",
       "      <td>TotalCharges</td>\n",
       "      <td>StreamingTV</td>\n",
       "      <td>InternetService</td>\n",
       "    </tr>\n",
       "    <tr>\n",
       "      <th>9</th>\n",
       "      <td>Partner</td>\n",
       "      <td>Partner</td>\n",
       "      <td>gender</td>\n",
       "      <td>DeviceProtection</td>\n",
       "      <td>PaperlessBilling</td>\n",
       "      <td>Partner</td>\n",
       "    </tr>\n",
       "    <tr>\n",
       "      <th>10</th>\n",
       "      <td>StreamingMovies</td>\n",
       "      <td>SeniorCitizen</td>\n",
       "      <td>SeniorCitizen</td>\n",
       "      <td>StreamingMovies</td>\n",
       "      <td>gender</td>\n",
       "      <td>TechSupport</td>\n",
       "    </tr>\n",
       "    <tr>\n",
       "      <th>11</th>\n",
       "      <td>SeniorCitizen</td>\n",
       "      <td>TechSupport</td>\n",
       "      <td>TechSupport</td>\n",
       "      <td>StreamingTV</td>\n",
       "      <td>TechSupport</td>\n",
       "      <td>Dependents</td>\n",
       "    </tr>\n",
       "    <tr>\n",
       "      <th>12</th>\n",
       "      <td>TechSupport</td>\n",
       "      <td>Dependents</td>\n",
       "      <td>OnlineBackup</td>\n",
       "      <td>PaperlessBilling</td>\n",
       "      <td>SeniorCitizen</td>\n",
       "      <td>OnlineBackup</td>\n",
       "    </tr>\n",
       "    <tr>\n",
       "      <th>13</th>\n",
       "      <td>OnlineBackup</td>\n",
       "      <td>OnlineBackup</td>\n",
       "      <td>Dependents</td>\n",
       "      <td>Dependents</td>\n",
       "      <td>OnlineBackup</td>\n",
       "      <td>MultipleLines</td>\n",
       "    </tr>\n",
       "    <tr>\n",
       "      <th>14</th>\n",
       "      <td>MultipleLines</td>\n",
       "      <td>StreamingMovies</td>\n",
       "      <td>StreamingMovies</td>\n",
       "      <td>SeniorCitizen</td>\n",
       "      <td>MultipleLines</td>\n",
       "      <td>SeniorCitizen</td>\n",
       "    </tr>\n",
       "    <tr>\n",
       "      <th>15</th>\n",
       "      <td>Dependents</td>\n",
       "      <td>MultipleLines</td>\n",
       "      <td>MultipleLines</td>\n",
       "      <td>Partner</td>\n",
       "      <td>PhoneService</td>\n",
       "      <td>StreamingMovies</td>\n",
       "    </tr>\n",
       "    <tr>\n",
       "      <th>16</th>\n",
       "      <td>DeviceProtection</td>\n",
       "      <td>DeviceProtection</td>\n",
       "      <td>DeviceProtection</td>\n",
       "      <td>MultipleLines</td>\n",
       "      <td>Dependents</td>\n",
       "      <td>DeviceProtection</td>\n",
       "    </tr>\n",
       "    <tr>\n",
       "      <th>17</th>\n",
       "      <td>StreamingTV</td>\n",
       "      <td>StreamingTV</td>\n",
       "      <td>StreamingTV</td>\n",
       "      <td>gender</td>\n",
       "      <td>Partner</td>\n",
       "      <td>StreamingTV</td>\n",
       "    </tr>\n",
       "    <tr>\n",
       "      <th>18</th>\n",
       "      <td>PhoneService</td>\n",
       "      <td>PhoneService</td>\n",
       "      <td>PhoneService</td>\n",
       "      <td>PhoneService</td>\n",
       "      <td>DeviceProtection</td>\n",
       "      <td>PhoneService</td>\n",
       "    </tr>\n",
       "  </tbody>\n",
       "</table>\n",
       "</div>"
      ],
      "text/plain": [
       "             tree-s1           tree-s2           tree-s3                MI  \\\n",
       "0       TotalCharges      TotalCharges      TotalCharges          Contract   \n",
       "1     MonthlyCharges    MonthlyCharges    MonthlyCharges    OnlineSecurity   \n",
       "2           Contract          Contract          Contract            tenure   \n",
       "3             tenure            tenure            tenure       TechSupport   \n",
       "4     OnlineSecurity    OnlineSecurity    OnlineSecurity   InternetService   \n",
       "5      PaymentMethod     PaymentMethod     PaymentMethod    MonthlyCharges   \n",
       "6             gender            gender  PaperlessBilling      OnlineBackup   \n",
       "7   PaperlessBilling  PaperlessBilling   InternetService     PaymentMethod   \n",
       "8    InternetService   InternetService           Partner      TotalCharges   \n",
       "9            Partner           Partner            gender  DeviceProtection   \n",
       "10   StreamingMovies     SeniorCitizen     SeniorCitizen   StreamingMovies   \n",
       "11     SeniorCitizen       TechSupport       TechSupport       StreamingTV   \n",
       "12       TechSupport        Dependents      OnlineBackup  PaperlessBilling   \n",
       "13      OnlineBackup      OnlineBackup        Dependents        Dependents   \n",
       "14     MultipleLines   StreamingMovies   StreamingMovies     SeniorCitizen   \n",
       "15        Dependents     MultipleLines     MultipleLines           Partner   \n",
       "16  DeviceProtection  DeviceProtection  DeviceProtection     MultipleLines   \n",
       "17       StreamingTV       StreamingTV       StreamingTV            gender   \n",
       "18      PhoneService      PhoneService      PhoneService      PhoneService   \n",
       "\n",
       "         tree-search           rfe_res  \n",
       "0           Contract      TotalCharges  \n",
       "1     OnlineSecurity    MonthlyCharges  \n",
       "2             tenure          Contract  \n",
       "3    InternetService            tenure  \n",
       "4       TotalCharges     PaymentMethod  \n",
       "5     MonthlyCharges    OnlineSecurity  \n",
       "6    StreamingMovies  PaperlessBilling  \n",
       "7      PaymentMethod            gender  \n",
       "8        StreamingTV   InternetService  \n",
       "9   PaperlessBilling           Partner  \n",
       "10            gender       TechSupport  \n",
       "11       TechSupport        Dependents  \n",
       "12     SeniorCitizen      OnlineBackup  \n",
       "13      OnlineBackup     MultipleLines  \n",
       "14     MultipleLines     SeniorCitizen  \n",
       "15      PhoneService   StreamingMovies  \n",
       "16        Dependents  DeviceProtection  \n",
       "17           Partner       StreamingTV  \n",
       "18  DeviceProtection      PhoneService  "
      ]
     },
     "execution_count": 68,
     "metadata": {},
     "output_type": "execute_result"
    }
   ],
   "source": [
    "df_temp['rfe_res'] = rfe_res.sort_index(inplace=False).values\n",
    "df_temp"
   ]
  },
  {
   "cell_type": "markdown",
   "id": "8728f7a4-013e-4d49-a63e-cd955e8f7f8f",
   "metadata": {},
   "source": [
    "能够发现，根据RFE特征筛选计算得到的特征重要性排名和模型过拟合时输出的feature_importances_结果基本一致。并且根据此前所说决策树的随机性，上述流程多次重复执行，结果肯定也会较为随机。"
   ]
  },
  {
   "cell_type": "markdown",
   "id": "036a783f-7da6-4fa7-adc6-21c344302558",
   "metadata": {},
   "source": [
    "&emsp;&emsp;要解决该问题，sklearn提供了一个非常便捷的方法，即在实例化RFE评估器时带入一个已经经过网格搜索调参后的模型，即可每一轮特征重要性评估时使用已经训练好的模型，而该模型是已经经过剪枝的决策树模型，不会再表现出过拟合倾向。"
   ]
  },
  {
   "cell_type": "code",
   "execution_count": 69,
   "id": "d2c664f4-2fdd-48a5-b345-ae5832c030d6",
   "metadata": {},
   "outputs": [],
   "source": [
    "# 实例化决策树评估器\n",
    "tree_model = DecisionTreeClassifier()\n",
    "# 构造参数空间\n",
    "tree_param = {'ccp_alpha': np.arange(0, 1, 0.1).tolist(),\n",
    "              'max_depth': np.arange(2, 8, 1).tolist(), \n",
    "              'min_samples_split': np.arange(2, 5, 1).tolist(), \n",
    "              'min_samples_leaf': np.arange(1, 4, 1).tolist(), \n",
    "              'max_leaf_nodes':np.arange(10,20, 1).tolist()}"
   ]
  },
  {
   "cell_type": "code",
   "execution_count": 70,
   "id": "339acabc-b54d-49ba-ad04-54133d336948",
   "metadata": {},
   "outputs": [],
   "source": [
    "# 实例化网格搜索评估器\n",
    "tree_search_RFE = GridSearchCV(estimator = tree_model,\n",
    "                               param_grid = tree_param,\n",
    "                               n_jobs = 12)"
   ]
  },
  {
   "cell_type": "code",
   "execution_count": 71,
   "id": "d01e3b57-466c-483c-af9c-79b43d390faf",
   "metadata": {},
   "outputs": [
    {
     "data": {
      "text/plain": [
       "GridSearchCV(estimator=DecisionTreeClassifier(), n_jobs=12,\n",
       "             param_grid={'ccp_alpha': [0.0, 0.1, 0.2, 0.30000000000000004, 0.4,\n",
       "                                       0.5, 0.6000000000000001,\n",
       "                                       0.7000000000000001, 0.8, 0.9],\n",
       "                         'max_depth': [2, 3, 4, 5, 6, 7],\n",
       "                         'max_leaf_nodes': [10, 11, 12, 13, 14, 15, 16, 17, 18,\n",
       "                                            19],\n",
       "                         'min_samples_leaf': [1, 2, 3],\n",
       "                         'min_samples_split': [2, 3, 4]})"
      ]
     },
     "execution_count": 71,
     "metadata": {},
     "output_type": "execute_result"
    }
   ],
   "source": [
    "tree_search_RFE.fit(X_train_OE, y_train)"
   ]
  },
  {
   "cell_type": "code",
   "execution_count": 72,
   "id": "79c90c7a-835c-49ac-8497-a6bdbca13619",
   "metadata": {},
   "outputs": [
    {
     "data": {
      "text/plain": [
       "{'ccp_alpha': 0.0,\n",
       " 'max_depth': 5,\n",
       " 'max_leaf_nodes': 16,\n",
       " 'min_samples_leaf': 1,\n",
       " 'min_samples_split': 2}"
      ]
     },
     "execution_count": 72,
     "metadata": {},
     "output_type": "execute_result"
    }
   ],
   "source": [
    "tree_search_RFE.best_params_"
   ]
  },
  {
   "cell_type": "markdown",
   "id": "f9d9742a-4bc3-489d-a90b-cae7772c7249",
   "metadata": {},
   "source": [
    "然后带入已经训练好的决策树模型tree_search_RFE.best_estimator_，需要注意的是，当RFE评估器接收到的是一个已经经过训练好的评估器，则在接下来fit时会沿用该评估器的基本结构（也就是决策树参数）来进行模型训练，也就是上面我们看到的'ccp_alpha'=0.0、'max_depth'=5、'max_leaf_nodes'=14等。"
   ]
  },
  {
   "cell_type": "code",
   "execution_count": 73,
   "id": "23f005d4-13c1-40e6-9bee-acccb29822f0",
   "metadata": {},
   "outputs": [
    {
     "data": {
      "text/plain": [
       "DecisionTreeClassifier(max_depth=5, max_leaf_nodes=16)"
      ]
     },
     "execution_count": 73,
     "metadata": {},
     "output_type": "execute_result"
    }
   ],
   "source": [
    "tree_search_RFE.best_estimator_"
   ]
  },
  {
   "cell_type": "code",
   "execution_count": 74,
   "id": "acb25698-990b-49be-8b17-938ae4774055",
   "metadata": {
    "tags": []
   },
   "outputs": [],
   "source": [
    "rfe_search = RFE(estimator=tree_search_RFE.best_estimator_, n_features_to_select=1).fit(X_train_OE, y_train)"
   ]
  },
  {
   "cell_type": "code",
   "execution_count": 75,
   "id": "cbe9af63-8fb4-4161-875d-ef7eb0626f01",
   "metadata": {},
   "outputs": [
    {
     "data": {
      "text/plain": [
       "array([19, 18, 17, 16, 15, 14,  4,  3, 13, 12, 11, 10,  7,  1,  9,  8,  2,\n",
       "        6,  5])"
      ]
     },
     "execution_count": 75,
     "metadata": {},
     "output_type": "execute_result"
    }
   ],
   "source": [
    "rfe_search.ranking_"
   ]
  },
  {
   "cell_type": "code",
   "execution_count": 76,
   "id": "9998f7f5-637e-419b-85b7-29285c1fac8b",
   "metadata": {},
   "outputs": [
    {
     "data": {
      "text/plain": [
       "1             Contract\n",
       "2               tenure\n",
       "3       OnlineSecurity\n",
       "4      InternetService\n",
       "5         TotalCharges\n",
       "6       MonthlyCharges\n",
       "7      StreamingMovies\n",
       "8        PaymentMethod\n",
       "9     PaperlessBilling\n",
       "10         StreamingTV\n",
       "11         TechSupport\n",
       "12    DeviceProtection\n",
       "13        OnlineBackup\n",
       "14       MultipleLines\n",
       "15        PhoneService\n",
       "16          Dependents\n",
       "17             Partner\n",
       "18       SeniorCitizen\n",
       "19              gender\n",
       "dtype: object"
      ]
     },
     "execution_count": 76,
     "metadata": {},
     "output_type": "execute_result"
    }
   ],
   "source": [
    "rfe_res_search = pd.Series(rfe_search.feature_names_in_, index=rfe_search.ranking_)\n",
    "rfe_res_search.sort_index(inplace=False)"
   ]
  },
  {
   "cell_type": "code",
   "execution_count": 77,
   "id": "b513bd4c-f361-4add-b55d-25957dd535d6",
   "metadata": {},
   "outputs": [
    {
     "data": {
      "text/html": [
       "<div>\n",
       "<style scoped>\n",
       "    .dataframe tbody tr th:only-of-type {\n",
       "        vertical-align: middle;\n",
       "    }\n",
       "\n",
       "    .dataframe tbody tr th {\n",
       "        vertical-align: top;\n",
       "    }\n",
       "\n",
       "    .dataframe thead th {\n",
       "        text-align: right;\n",
       "    }\n",
       "</style>\n",
       "<table border=\"1\" class=\"dataframe\">\n",
       "  <thead>\n",
       "    <tr style=\"text-align: right;\">\n",
       "      <th></th>\n",
       "      <th>tree-s1</th>\n",
       "      <th>tree-s2</th>\n",
       "      <th>tree-s3</th>\n",
       "      <th>MI</th>\n",
       "      <th>tree-search</th>\n",
       "      <th>rfe_res</th>\n",
       "      <th>rfe_res_search</th>\n",
       "    </tr>\n",
       "  </thead>\n",
       "  <tbody>\n",
       "    <tr>\n",
       "      <th>0</th>\n",
       "      <td>TotalCharges</td>\n",
       "      <td>TotalCharges</td>\n",
       "      <td>TotalCharges</td>\n",
       "      <td>Contract</td>\n",
       "      <td>Contract</td>\n",
       "      <td>TotalCharges</td>\n",
       "      <td>Contract</td>\n",
       "    </tr>\n",
       "    <tr>\n",
       "      <th>1</th>\n",
       "      <td>MonthlyCharges</td>\n",
       "      <td>MonthlyCharges</td>\n",
       "      <td>MonthlyCharges</td>\n",
       "      <td>OnlineSecurity</td>\n",
       "      <td>OnlineSecurity</td>\n",
       "      <td>MonthlyCharges</td>\n",
       "      <td>tenure</td>\n",
       "    </tr>\n",
       "    <tr>\n",
       "      <th>2</th>\n",
       "      <td>Contract</td>\n",
       "      <td>Contract</td>\n",
       "      <td>Contract</td>\n",
       "      <td>tenure</td>\n",
       "      <td>tenure</td>\n",
       "      <td>Contract</td>\n",
       "      <td>OnlineSecurity</td>\n",
       "    </tr>\n",
       "    <tr>\n",
       "      <th>3</th>\n",
       "      <td>tenure</td>\n",
       "      <td>tenure</td>\n",
       "      <td>tenure</td>\n",
       "      <td>TechSupport</td>\n",
       "      <td>InternetService</td>\n",
       "      <td>tenure</td>\n",
       "      <td>InternetService</td>\n",
       "    </tr>\n",
       "    <tr>\n",
       "      <th>4</th>\n",
       "      <td>OnlineSecurity</td>\n",
       "      <td>OnlineSecurity</td>\n",
       "      <td>OnlineSecurity</td>\n",
       "      <td>InternetService</td>\n",
       "      <td>TotalCharges</td>\n",
       "      <td>PaymentMethod</td>\n",
       "      <td>TotalCharges</td>\n",
       "    </tr>\n",
       "    <tr>\n",
       "      <th>5</th>\n",
       "      <td>PaymentMethod</td>\n",
       "      <td>PaymentMethod</td>\n",
       "      <td>PaymentMethod</td>\n",
       "      <td>MonthlyCharges</td>\n",
       "      <td>MonthlyCharges</td>\n",
       "      <td>OnlineSecurity</td>\n",
       "      <td>MonthlyCharges</td>\n",
       "    </tr>\n",
       "    <tr>\n",
       "      <th>6</th>\n",
       "      <td>gender</td>\n",
       "      <td>gender</td>\n",
       "      <td>PaperlessBilling</td>\n",
       "      <td>OnlineBackup</td>\n",
       "      <td>StreamingMovies</td>\n",
       "      <td>PaperlessBilling</td>\n",
       "      <td>StreamingMovies</td>\n",
       "    </tr>\n",
       "    <tr>\n",
       "      <th>7</th>\n",
       "      <td>PaperlessBilling</td>\n",
       "      <td>PaperlessBilling</td>\n",
       "      <td>InternetService</td>\n",
       "      <td>PaymentMethod</td>\n",
       "      <td>PaymentMethod</td>\n",
       "      <td>gender</td>\n",
       "      <td>PaymentMethod</td>\n",
       "    </tr>\n",
       "    <tr>\n",
       "      <th>8</th>\n",
       "      <td>InternetService</td>\n",
       "      <td>InternetService</td>\n",
       "      <td>Partner</td>\n",
       "      <td>TotalCharges</td>\n",
       "      <td>StreamingTV</td>\n",
       "      <td>InternetService</td>\n",
       "      <td>PaperlessBilling</td>\n",
       "    </tr>\n",
       "    <tr>\n",
       "      <th>9</th>\n",
       "      <td>Partner</td>\n",
       "      <td>Partner</td>\n",
       "      <td>gender</td>\n",
       "      <td>DeviceProtection</td>\n",
       "      <td>PaperlessBilling</td>\n",
       "      <td>Partner</td>\n",
       "      <td>StreamingTV</td>\n",
       "    </tr>\n",
       "    <tr>\n",
       "      <th>10</th>\n",
       "      <td>StreamingMovies</td>\n",
       "      <td>SeniorCitizen</td>\n",
       "      <td>SeniorCitizen</td>\n",
       "      <td>StreamingMovies</td>\n",
       "      <td>gender</td>\n",
       "      <td>TechSupport</td>\n",
       "      <td>TechSupport</td>\n",
       "    </tr>\n",
       "    <tr>\n",
       "      <th>11</th>\n",
       "      <td>SeniorCitizen</td>\n",
       "      <td>TechSupport</td>\n",
       "      <td>TechSupport</td>\n",
       "      <td>StreamingTV</td>\n",
       "      <td>TechSupport</td>\n",
       "      <td>Dependents</td>\n",
       "      <td>DeviceProtection</td>\n",
       "    </tr>\n",
       "    <tr>\n",
       "      <th>12</th>\n",
       "      <td>TechSupport</td>\n",
       "      <td>Dependents</td>\n",
       "      <td>OnlineBackup</td>\n",
       "      <td>PaperlessBilling</td>\n",
       "      <td>SeniorCitizen</td>\n",
       "      <td>OnlineBackup</td>\n",
       "      <td>OnlineBackup</td>\n",
       "    </tr>\n",
       "    <tr>\n",
       "      <th>13</th>\n",
       "      <td>OnlineBackup</td>\n",
       "      <td>OnlineBackup</td>\n",
       "      <td>Dependents</td>\n",
       "      <td>Dependents</td>\n",
       "      <td>OnlineBackup</td>\n",
       "      <td>MultipleLines</td>\n",
       "      <td>MultipleLines</td>\n",
       "    </tr>\n",
       "    <tr>\n",
       "      <th>14</th>\n",
       "      <td>MultipleLines</td>\n",
       "      <td>StreamingMovies</td>\n",
       "      <td>StreamingMovies</td>\n",
       "      <td>SeniorCitizen</td>\n",
       "      <td>MultipleLines</td>\n",
       "      <td>SeniorCitizen</td>\n",
       "      <td>PhoneService</td>\n",
       "    </tr>\n",
       "    <tr>\n",
       "      <th>15</th>\n",
       "      <td>Dependents</td>\n",
       "      <td>MultipleLines</td>\n",
       "      <td>MultipleLines</td>\n",
       "      <td>Partner</td>\n",
       "      <td>PhoneService</td>\n",
       "      <td>StreamingMovies</td>\n",
       "      <td>Dependents</td>\n",
       "    </tr>\n",
       "    <tr>\n",
       "      <th>16</th>\n",
       "      <td>DeviceProtection</td>\n",
       "      <td>DeviceProtection</td>\n",
       "      <td>DeviceProtection</td>\n",
       "      <td>MultipleLines</td>\n",
       "      <td>Dependents</td>\n",
       "      <td>DeviceProtection</td>\n",
       "      <td>Partner</td>\n",
       "    </tr>\n",
       "    <tr>\n",
       "      <th>17</th>\n",
       "      <td>StreamingTV</td>\n",
       "      <td>StreamingTV</td>\n",
       "      <td>StreamingTV</td>\n",
       "      <td>gender</td>\n",
       "      <td>Partner</td>\n",
       "      <td>StreamingTV</td>\n",
       "      <td>SeniorCitizen</td>\n",
       "    </tr>\n",
       "    <tr>\n",
       "      <th>18</th>\n",
       "      <td>PhoneService</td>\n",
       "      <td>PhoneService</td>\n",
       "      <td>PhoneService</td>\n",
       "      <td>PhoneService</td>\n",
       "      <td>DeviceProtection</td>\n",
       "      <td>PhoneService</td>\n",
       "      <td>gender</td>\n",
       "    </tr>\n",
       "  </tbody>\n",
       "</table>\n",
       "</div>"
      ],
      "text/plain": [
       "             tree-s1           tree-s2           tree-s3                MI  \\\n",
       "0       TotalCharges      TotalCharges      TotalCharges          Contract   \n",
       "1     MonthlyCharges    MonthlyCharges    MonthlyCharges    OnlineSecurity   \n",
       "2           Contract          Contract          Contract            tenure   \n",
       "3             tenure            tenure            tenure       TechSupport   \n",
       "4     OnlineSecurity    OnlineSecurity    OnlineSecurity   InternetService   \n",
       "5      PaymentMethod     PaymentMethod     PaymentMethod    MonthlyCharges   \n",
       "6             gender            gender  PaperlessBilling      OnlineBackup   \n",
       "7   PaperlessBilling  PaperlessBilling   InternetService     PaymentMethod   \n",
       "8    InternetService   InternetService           Partner      TotalCharges   \n",
       "9            Partner           Partner            gender  DeviceProtection   \n",
       "10   StreamingMovies     SeniorCitizen     SeniorCitizen   StreamingMovies   \n",
       "11     SeniorCitizen       TechSupport       TechSupport       StreamingTV   \n",
       "12       TechSupport        Dependents      OnlineBackup  PaperlessBilling   \n",
       "13      OnlineBackup      OnlineBackup        Dependents        Dependents   \n",
       "14     MultipleLines   StreamingMovies   StreamingMovies     SeniorCitizen   \n",
       "15        Dependents     MultipleLines     MultipleLines           Partner   \n",
       "16  DeviceProtection  DeviceProtection  DeviceProtection     MultipleLines   \n",
       "17       StreamingTV       StreamingTV       StreamingTV            gender   \n",
       "18      PhoneService      PhoneService      PhoneService      PhoneService   \n",
       "\n",
       "         tree-search           rfe_res    rfe_res_search  \n",
       "0           Contract      TotalCharges          Contract  \n",
       "1     OnlineSecurity    MonthlyCharges            tenure  \n",
       "2             tenure          Contract    OnlineSecurity  \n",
       "3    InternetService            tenure   InternetService  \n",
       "4       TotalCharges     PaymentMethod      TotalCharges  \n",
       "5     MonthlyCharges    OnlineSecurity    MonthlyCharges  \n",
       "6    StreamingMovies  PaperlessBilling   StreamingMovies  \n",
       "7      PaymentMethod            gender     PaymentMethod  \n",
       "8        StreamingTV   InternetService  PaperlessBilling  \n",
       "9   PaperlessBilling           Partner       StreamingTV  \n",
       "10            gender       TechSupport       TechSupport  \n",
       "11       TechSupport        Dependents  DeviceProtection  \n",
       "12     SeniorCitizen      OnlineBackup      OnlineBackup  \n",
       "13      OnlineBackup     MultipleLines     MultipleLines  \n",
       "14     MultipleLines     SeniorCitizen      PhoneService  \n",
       "15      PhoneService   StreamingMovies        Dependents  \n",
       "16        Dependents  DeviceProtection           Partner  \n",
       "17           Partner       StreamingTV     SeniorCitizen  \n",
       "18  DeviceProtection      PhoneService            gender  "
      ]
     },
     "execution_count": 77,
     "metadata": {},
     "output_type": "execute_result"
    }
   ],
   "source": [
    "df_temp['rfe_res_search'] = rfe_res_search.sort_index(inplace=False).values\n",
    "df_temp"
   ]
  },
  {
   "cell_type": "markdown",
   "id": "da191fb1-274e-43ac-9a3b-6339519a5b92",
   "metadata": {},
   "source": [
    "能够发现，此时RFE输出结果会更加接近MI的结果和经过网格搜索后的决策树特征重要性结果，也说明该结果会更加可信。而上述过程就是一个能很好平衡效率和效果的基于模型的筛选过程，同时也是能够同时应用于小样本高精度特征筛选和大量数据高效特征筛选的策略，同时也是我们在面对海量特征时最常用的高精度特征筛选方法。"
   ]
  },
  {
   "cell_type": "markdown",
   "id": "f8794963-efa0-43b3-922b-279e6bea938b",
   "metadata": {},
   "source": [
    "- RFE高效特征筛选流程"
   ]
  },
  {
   "cell_type": "markdown",
   "id": "184d4691-2cb6-4a96-893d-2669a4849e9b",
   "metadata": {},
   "source": [
    "&emsp;&emsp;上述RFE高效特征筛选的流程可以总结如下："
   ]
  },
  {
   "cell_type": "markdown",
   "id": "7906f01b-6f2d-4969-9eb1-dd4fc7594e03",
   "metadata": {},
   "source": [
    "&emsp;&emsp;Step 1.在全量样本上训练一个经过超参数搜索优化后的模型，或者找到一组优化后的超参数；"
   ]
  },
  {
   "cell_type": "markdown",
   "id": "95486eaa-ace1-417d-acc0-631d47150e07",
   "metadata": {},
   "source": [
    "&emsp;&emsp;Step 2.将这个训练后的模型带入RFE搜索过程，并设置RFE参数n_features_to_select=1，在step=1时，RFE过程将每次剔除当前数据集中最不重要的特征，然后根据输入模型的超参数再次进行模型训练，以此往复，遍历全部特征。"
   ]
  },
  {
   "cell_type": "markdown",
   "id": "f44513dd-8f99-4aad-b667-b51f15a03b17",
   "metadata": {},
   "source": [
    "&emsp;&emsp;Step 3.根据RFE评估器的ranking_查看每个特征的重要性排名。"
   ]
  },
  {
   "cell_type": "markdown",
   "id": "58891381-c7f9-49d1-b8f2-379477eee09e",
   "metadata": {},
   "source": [
    "&emsp;&emsp;注意，该过程同时适用于小样本的精准特征重要性评估，同时也适用于海量特征的特征筛选。当特征池拥有海量特征时，假设有一万条特征，则可以抽取其中一千个特征进行模型训练与超参数优化，当然此时可能会更多的采用集成学习。然后将训练好的模型带入RFE过程，按照step=500进行搜索，即每次剔除最不重要的500个特征，并最终保留500个特征（n_features_to_select=500），借此对这一万个特征进行10000/500=20个等级的划分，并根据最终实际情况确定带入后续模型训练环节的特征个数。而这也是目前最为重要的海量特征高精度搜索的策略。"
   ]
  },
  {
   "cell_type": "markdown",
   "id": "325b26e2-462a-4385-8d31-3becba62700d",
   "metadata": {},
   "source": [
    "&emsp;&emsp;关于这套策略具体执行方法，我们将在下一小节详细讨论，这里我们仍然需要解决三个原理层面的问题，其一是相比特征评估指标和单模型feature_importances_，RFE的搜索流程为何会更加精准？其二则是我们明明没有在每一轮特征筛选时进行模型调优，我们如何能相信这种不经过调优模型输出的feature_importances_排名呢？其三则是有了特征排名后，我们要如何确定到底选取多少个特征呢？"
   ]
  },
  {
   "cell_type": "markdown",
   "id": "7b1d55db-eb54-4c6c-a8cd-581e5b68a23e",
   "metadata": {},
   "source": [
    "&emsp;&emsp;我们围绕这几个问题逐一来进行讨论。"
   ]
  },
  {
   "cell_type": "markdown",
   "id": "588e0b2a-5e4e-4e62-831f-abbc210d9034",
   "metadata": {},
   "source": [
    "- RFE高效特征筛选 vs 特征评估指标 vs 单模型feature_importances_"
   ]
  },
  {
   "cell_type": "markdown",
   "id": "df93b8b4-6308-4afe-9e78-798689cfab80",
   "metadata": {},
   "source": [
    "&emsp;&emsp;首先，带入模型的特征评估由于是和模型直接挂钩，因此最终结果肯定要比特征评估指标更加精准。这也是上一小节的特征评估指标往往用于初筛，而模型特征筛选会用于后期更精准特征筛选的原因。在借助模型评估指标进行特征筛选时，RFE本质上也是借助feature_importances_来进行特征筛选，只不过是在不同特征子集中反复计算feature_importances_，然后每次只输出feature_importances_取值最小的特征作为最终结论。很明显，对于RFE来说，其的容错率会高很多，无论feature_importances_计算数值如何、特征feature_importances_排名如何，只要能判断当前数据集中最弱的特征即可。另外，RFE的这种动态计算feature_importances_的过程，能够很好的对每个特征进行评估，而单模型的feature_importances_只能在当前模型能接受的最大范围内对特征进行评估，特征过多则会出现大量的feature_importances_=0的情况。这点对于单独模型来说问题不大，但对于集成学习的模型融合来说影响巨大，模型融合并不是追求单模型效果最好，而是希望最终通过多个模型，能够更深层都挖掘数据集整体信息，此时对于某个单独模型feature_importances_=0的特征，对于别的模型可能就是提高预测结果的关键。"
   ]
  },
  {
   "cell_type": "markdown",
   "id": "6cc696f7-3f02-42c9-a91c-11272a71ea91",
   "metadata": {},
   "source": [
    "- 更加严谨的RFE流程"
   ]
  },
  {
   "cell_type": "markdown",
   "id": "10ed09e9-7bfb-4fcf-89d4-db622ef3005f",
   "metadata": {},
   "source": [
    "&emsp;&emsp;接下来我们讨论第二个问题，那就是，如果模型不是当前数据集上的最有模型，最终特征评估的可信度是多少呢？这里我们可以做一个实验，即如果每一轮剔除一个特征、并且每一轮都重新训练一个模型并对其进行调优，看下最终特征重要性排名结果是否会发生变化。"
   ]
  },
  {
   "cell_type": "markdown",
   "id": "c6e48354-730e-40d7-bc8d-cb88ea83f126",
   "metadata": {},
   "source": [
    "&emsp;&emsp;围绕这个目标，我们可以有两种修改方案，其一是修改网格搜索评估器，可以在外层再嵌套一层评估器，增加.feature_importance_属性（调用best_estimator的.feature_importance属性），然后就可以直接带入到RFE的搜索过程中了。相关方法可以参考Part 2中对逻辑回归评估器的修改；其二则是修改计算流程，即每次使得RFE剔除一个特征，然后利用特征子集训练一个最优超参数搜索后的决策树，然后再将这个模型带入下次RFE特征搜索，过程如下："
   ]
  },
  {
   "cell_type": "code",
   "execution_count": 78,
   "id": "09ba35d4-83c5-4082-b9d4-38f3da9d5f2a",
   "metadata": {
    "tags": []
   },
   "outputs": [
    {
     "name": "stderr",
     "output_type": "stream",
     "text": [
      "100%|██████████████████████████████████████████████████████████████████████████████████| 18/18 [03:41<00:00, 12.32s/it]\n"
     ]
    },
    {
     "data": {
      "text/plain": [
       "4226"
      ]
     },
     "execution_count": 78,
     "metadata": {},
     "output_type": "execute_result"
    }
   ],
   "source": [
    "# 定义参数空间\n",
    "tree_param = {'ccp_alpha': np.arange(0, 1, 0.1).tolist(),\n",
    "              'max_depth': np.arange(2, 8, 1).tolist(), \n",
    "              'min_samples_split': np.arange(2, 5, 1).tolist(), \n",
    "              'min_samples_leaf': np.arange(1, 4, 1).tolist(), \n",
    "              'max_leaf_nodes':np.arange(10,20, 1).tolist()}\n",
    "\n",
    "# 创建容器\n",
    "rfe_res_search1 = []\n",
    "\n",
    "# 执行循环\n",
    "for i in tqdm(range(18)):\n",
    "    \n",
    "    i = 18 - i\n",
    "    # 实例化网格搜索评估器\n",
    "    tree_model = DecisionTreeClassifier()\n",
    "    tree_search_RFE = GridSearchCV(estimator = tree_model,\n",
    "                                   param_grid = tree_param,\n",
    "                                   n_jobs = 12)\n",
    "    \n",
    "    # 首次循环时，创建X_train_temp\n",
    "    if i == 18:\n",
    "        X_train_temp = (X_train_OE).copy()    \n",
    "        \n",
    "    # 训练模型，然后带入RFE评估器\n",
    "    tree_search_RFE.fit(X_train_temp, y_train)\n",
    "    rfe_search = RFE(estimator=tree_search_RFE.best_estimator_, n_features_to_select=i).fit(X_train_temp, y_train)\n",
    "    X_train_temp = X_train_OE[rfe_search.get_feature_names_out()]    \n",
    "        \n",
    "    # 搜索本轮被淘汰的特征，并记入rfe_res_search1\n",
    "    rfe_res_search1.append(rfe_search.feature_names_in_[rfe_search.ranking_ != 1])\n",
    "    \n",
    "# 清除临时变量\n",
    "gc.collect()"
   ]
  },
  {
   "cell_type": "markdown",
   "id": "8bb4c6bd-16b8-4c3c-8778-7b96aae47a8a",
   "metadata": {},
   "source": [
    "注意，这里我们是逐个剔除不重要的特征，并在剩下的特征中、逐轮进行带有超参数搜索的模型训练，由于RFE并不支持在只有1个特征的情况下剔除这个特征，因此总共循环了18次、依次剔除了最不重要的18个特征，当然剩下的特征就是最重要的特征："
   ]
  },
  {
   "cell_type": "code",
   "execution_count": 79,
   "id": "94eba209-a16c-42d4-b0b5-6e9e7fd030de",
   "metadata": {},
   "outputs": [
    {
     "data": {
      "text/plain": [
       "array(['Contract'], dtype=object)"
      ]
     },
     "execution_count": 79,
     "metadata": {},
     "output_type": "execute_result"
    }
   ],
   "source": [
    "rfe_search.get_feature_names_out()"
   ]
  },
  {
   "cell_type": "code",
   "execution_count": 80,
   "id": "1c96aeed-f30b-475c-8d84-ec1d88e8fedc",
   "metadata": {},
   "outputs": [
    {
     "data": {
      "text/plain": [
       "[array(['gender'], dtype=object),\n",
       " array(['SeniorCitizen'], dtype=object),\n",
       " array(['Partner'], dtype=object),\n",
       " array(['Dependents'], dtype=object),\n",
       " array(['PhoneService'], dtype=object),\n",
       " array(['MultipleLines'], dtype=object),\n",
       " array(['OnlineBackup'], dtype=object),\n",
       " array(['DeviceProtection'], dtype=object),\n",
       " array(['TechSupport'], dtype=object),\n",
       " array(['StreamingTV'], dtype=object),\n",
       " array(['PaperlessBilling'], dtype=object),\n",
       " array(['PaymentMethod'], dtype=object),\n",
       " array(['StreamingMovies'], dtype=object),\n",
       " array(['MonthlyCharges'], dtype=object),\n",
       " array(['TotalCharges'], dtype=object),\n",
       " array(['InternetService'], dtype=object),\n",
       " array(['tenure'], dtype=object),\n",
       " array(['OnlineSecurity'], dtype=object)]"
      ]
     },
     "execution_count": 80,
     "metadata": {},
     "output_type": "execute_result"
    }
   ],
   "source": [
    "rfe_res_search1"
   ]
  },
  {
   "cell_type": "code",
   "execution_count": 81,
   "id": "ec3c64b4-44e4-4086-b762-7734867a428d",
   "metadata": {},
   "outputs": [
    {
     "data": {
      "text/plain": [
       "[array(['OnlineSecurity'], dtype=object),\n",
       " array(['tenure'], dtype=object),\n",
       " array(['InternetService'], dtype=object),\n",
       " array(['TotalCharges'], dtype=object),\n",
       " array(['MonthlyCharges'], dtype=object),\n",
       " array(['StreamingMovies'], dtype=object),\n",
       " array(['PaymentMethod'], dtype=object),\n",
       " array(['PaperlessBilling'], dtype=object),\n",
       " array(['StreamingTV'], dtype=object),\n",
       " array(['TechSupport'], dtype=object),\n",
       " array(['DeviceProtection'], dtype=object),\n",
       " array(['OnlineBackup'], dtype=object),\n",
       " array(['MultipleLines'], dtype=object),\n",
       " array(['PhoneService'], dtype=object),\n",
       " array(['Dependents'], dtype=object),\n",
       " array(['Partner'], dtype=object),\n",
       " array(['SeniorCitizen'], dtype=object),\n",
       " array(['gender'], dtype=object)]"
      ]
     },
     "execution_count": 81,
     "metadata": {},
     "output_type": "execute_result"
    }
   ],
   "source": [
    "rfe_res_search1[::-1]"
   ]
  },
  {
   "cell_type": "code",
   "execution_count": 82,
   "id": "0708e33f-5bc4-4ab8-a631-d6d4f0a08b66",
   "metadata": {},
   "outputs": [],
   "source": [
    "rfe_res_search = rfe_search.get_feature_names_out().tolist() + np.array(rfe_res_search1[::-1]).flatten().tolist()"
   ]
  },
  {
   "cell_type": "code",
   "execution_count": 83,
   "id": "87326430-9749-4b82-aa6d-b84e5420e614",
   "metadata": {},
   "outputs": [
    {
     "data": {
      "text/plain": [
       "['Contract',\n",
       " 'OnlineSecurity',\n",
       " 'tenure',\n",
       " 'InternetService',\n",
       " 'TotalCharges',\n",
       " 'MonthlyCharges',\n",
       " 'StreamingMovies',\n",
       " 'PaymentMethod',\n",
       " 'PaperlessBilling',\n",
       " 'StreamingTV',\n",
       " 'TechSupport',\n",
       " 'DeviceProtection',\n",
       " 'OnlineBackup',\n",
       " 'MultipleLines',\n",
       " 'PhoneService',\n",
       " 'Dependents',\n",
       " 'Partner',\n",
       " 'SeniorCitizen',\n",
       " 'gender']"
      ]
     },
     "execution_count": 83,
     "metadata": {},
     "output_type": "execute_result"
    }
   ],
   "source": [
    "rfe_res_search"
   ]
  },
  {
   "cell_type": "markdown",
   "id": "22f9fc80-ac71-45ca-9636-05708fd72e52",
   "metadata": {},
   "source": [
    "&emsp;&emsp;最终我们就得出了一组更加严谨的特征筛选结果。接下来对比此前特征筛选结果："
   ]
  },
  {
   "cell_type": "code",
   "execution_count": 84,
   "id": "76b44f95-2220-4f56-be80-305139bcb805",
   "metadata": {},
   "outputs": [
    {
     "data": {
      "text/html": [
       "<div>\n",
       "<style scoped>\n",
       "    .dataframe tbody tr th:only-of-type {\n",
       "        vertical-align: middle;\n",
       "    }\n",
       "\n",
       "    .dataframe tbody tr th {\n",
       "        vertical-align: top;\n",
       "    }\n",
       "\n",
       "    .dataframe thead th {\n",
       "        text-align: right;\n",
       "    }\n",
       "</style>\n",
       "<table border=\"1\" class=\"dataframe\">\n",
       "  <thead>\n",
       "    <tr style=\"text-align: right;\">\n",
       "      <th></th>\n",
       "      <th>tree-s1</th>\n",
       "      <th>tree-s2</th>\n",
       "      <th>tree-s3</th>\n",
       "      <th>MI</th>\n",
       "      <th>tree-search</th>\n",
       "      <th>rfe_res</th>\n",
       "      <th>rfe_res_search</th>\n",
       "      <th>rfe_res_search1</th>\n",
       "    </tr>\n",
       "  </thead>\n",
       "  <tbody>\n",
       "    <tr>\n",
       "      <th>0</th>\n",
       "      <td>TotalCharges</td>\n",
       "      <td>TotalCharges</td>\n",
       "      <td>TotalCharges</td>\n",
       "      <td>Contract</td>\n",
       "      <td>Contract</td>\n",
       "      <td>TotalCharges</td>\n",
       "      <td>Contract</td>\n",
       "      <td>Contract</td>\n",
       "    </tr>\n",
       "    <tr>\n",
       "      <th>1</th>\n",
       "      <td>MonthlyCharges</td>\n",
       "      <td>MonthlyCharges</td>\n",
       "      <td>MonthlyCharges</td>\n",
       "      <td>OnlineSecurity</td>\n",
       "      <td>OnlineSecurity</td>\n",
       "      <td>MonthlyCharges</td>\n",
       "      <td>tenure</td>\n",
       "      <td>OnlineSecurity</td>\n",
       "    </tr>\n",
       "    <tr>\n",
       "      <th>2</th>\n",
       "      <td>Contract</td>\n",
       "      <td>Contract</td>\n",
       "      <td>Contract</td>\n",
       "      <td>tenure</td>\n",
       "      <td>tenure</td>\n",
       "      <td>Contract</td>\n",
       "      <td>OnlineSecurity</td>\n",
       "      <td>tenure</td>\n",
       "    </tr>\n",
       "    <tr>\n",
       "      <th>3</th>\n",
       "      <td>tenure</td>\n",
       "      <td>tenure</td>\n",
       "      <td>tenure</td>\n",
       "      <td>TechSupport</td>\n",
       "      <td>InternetService</td>\n",
       "      <td>tenure</td>\n",
       "      <td>InternetService</td>\n",
       "      <td>InternetService</td>\n",
       "    </tr>\n",
       "    <tr>\n",
       "      <th>4</th>\n",
       "      <td>OnlineSecurity</td>\n",
       "      <td>OnlineSecurity</td>\n",
       "      <td>OnlineSecurity</td>\n",
       "      <td>InternetService</td>\n",
       "      <td>TotalCharges</td>\n",
       "      <td>PaymentMethod</td>\n",
       "      <td>TotalCharges</td>\n",
       "      <td>TotalCharges</td>\n",
       "    </tr>\n",
       "    <tr>\n",
       "      <th>5</th>\n",
       "      <td>PaymentMethod</td>\n",
       "      <td>PaymentMethod</td>\n",
       "      <td>PaymentMethod</td>\n",
       "      <td>MonthlyCharges</td>\n",
       "      <td>MonthlyCharges</td>\n",
       "      <td>OnlineSecurity</td>\n",
       "      <td>MonthlyCharges</td>\n",
       "      <td>MonthlyCharges</td>\n",
       "    </tr>\n",
       "    <tr>\n",
       "      <th>6</th>\n",
       "      <td>gender</td>\n",
       "      <td>gender</td>\n",
       "      <td>PaperlessBilling</td>\n",
       "      <td>OnlineBackup</td>\n",
       "      <td>StreamingMovies</td>\n",
       "      <td>PaperlessBilling</td>\n",
       "      <td>StreamingMovies</td>\n",
       "      <td>StreamingMovies</td>\n",
       "    </tr>\n",
       "    <tr>\n",
       "      <th>7</th>\n",
       "      <td>PaperlessBilling</td>\n",
       "      <td>PaperlessBilling</td>\n",
       "      <td>InternetService</td>\n",
       "      <td>PaymentMethod</td>\n",
       "      <td>PaymentMethod</td>\n",
       "      <td>gender</td>\n",
       "      <td>PaymentMethod</td>\n",
       "      <td>PaymentMethod</td>\n",
       "    </tr>\n",
       "    <tr>\n",
       "      <th>8</th>\n",
       "      <td>InternetService</td>\n",
       "      <td>InternetService</td>\n",
       "      <td>Partner</td>\n",
       "      <td>TotalCharges</td>\n",
       "      <td>StreamingTV</td>\n",
       "      <td>InternetService</td>\n",
       "      <td>PaperlessBilling</td>\n",
       "      <td>PaperlessBilling</td>\n",
       "    </tr>\n",
       "    <tr>\n",
       "      <th>9</th>\n",
       "      <td>Partner</td>\n",
       "      <td>Partner</td>\n",
       "      <td>gender</td>\n",
       "      <td>DeviceProtection</td>\n",
       "      <td>PaperlessBilling</td>\n",
       "      <td>Partner</td>\n",
       "      <td>StreamingTV</td>\n",
       "      <td>StreamingTV</td>\n",
       "    </tr>\n",
       "    <tr>\n",
       "      <th>10</th>\n",
       "      <td>StreamingMovies</td>\n",
       "      <td>SeniorCitizen</td>\n",
       "      <td>SeniorCitizen</td>\n",
       "      <td>StreamingMovies</td>\n",
       "      <td>gender</td>\n",
       "      <td>TechSupport</td>\n",
       "      <td>TechSupport</td>\n",
       "      <td>TechSupport</td>\n",
       "    </tr>\n",
       "    <tr>\n",
       "      <th>11</th>\n",
       "      <td>SeniorCitizen</td>\n",
       "      <td>TechSupport</td>\n",
       "      <td>TechSupport</td>\n",
       "      <td>StreamingTV</td>\n",
       "      <td>TechSupport</td>\n",
       "      <td>Dependents</td>\n",
       "      <td>DeviceProtection</td>\n",
       "      <td>DeviceProtection</td>\n",
       "    </tr>\n",
       "    <tr>\n",
       "      <th>12</th>\n",
       "      <td>TechSupport</td>\n",
       "      <td>Dependents</td>\n",
       "      <td>OnlineBackup</td>\n",
       "      <td>PaperlessBilling</td>\n",
       "      <td>SeniorCitizen</td>\n",
       "      <td>OnlineBackup</td>\n",
       "      <td>OnlineBackup</td>\n",
       "      <td>OnlineBackup</td>\n",
       "    </tr>\n",
       "    <tr>\n",
       "      <th>13</th>\n",
       "      <td>OnlineBackup</td>\n",
       "      <td>OnlineBackup</td>\n",
       "      <td>Dependents</td>\n",
       "      <td>Dependents</td>\n",
       "      <td>OnlineBackup</td>\n",
       "      <td>MultipleLines</td>\n",
       "      <td>MultipleLines</td>\n",
       "      <td>MultipleLines</td>\n",
       "    </tr>\n",
       "    <tr>\n",
       "      <th>14</th>\n",
       "      <td>MultipleLines</td>\n",
       "      <td>StreamingMovies</td>\n",
       "      <td>StreamingMovies</td>\n",
       "      <td>SeniorCitizen</td>\n",
       "      <td>MultipleLines</td>\n",
       "      <td>SeniorCitizen</td>\n",
       "      <td>PhoneService</td>\n",
       "      <td>PhoneService</td>\n",
       "    </tr>\n",
       "    <tr>\n",
       "      <th>15</th>\n",
       "      <td>Dependents</td>\n",
       "      <td>MultipleLines</td>\n",
       "      <td>MultipleLines</td>\n",
       "      <td>Partner</td>\n",
       "      <td>PhoneService</td>\n",
       "      <td>StreamingMovies</td>\n",
       "      <td>Dependents</td>\n",
       "      <td>Dependents</td>\n",
       "    </tr>\n",
       "    <tr>\n",
       "      <th>16</th>\n",
       "      <td>DeviceProtection</td>\n",
       "      <td>DeviceProtection</td>\n",
       "      <td>DeviceProtection</td>\n",
       "      <td>MultipleLines</td>\n",
       "      <td>Dependents</td>\n",
       "      <td>DeviceProtection</td>\n",
       "      <td>Partner</td>\n",
       "      <td>Partner</td>\n",
       "    </tr>\n",
       "    <tr>\n",
       "      <th>17</th>\n",
       "      <td>StreamingTV</td>\n",
       "      <td>StreamingTV</td>\n",
       "      <td>StreamingTV</td>\n",
       "      <td>gender</td>\n",
       "      <td>Partner</td>\n",
       "      <td>StreamingTV</td>\n",
       "      <td>SeniorCitizen</td>\n",
       "      <td>SeniorCitizen</td>\n",
       "    </tr>\n",
       "    <tr>\n",
       "      <th>18</th>\n",
       "      <td>PhoneService</td>\n",
       "      <td>PhoneService</td>\n",
       "      <td>PhoneService</td>\n",
       "      <td>PhoneService</td>\n",
       "      <td>DeviceProtection</td>\n",
       "      <td>PhoneService</td>\n",
       "      <td>gender</td>\n",
       "      <td>gender</td>\n",
       "    </tr>\n",
       "  </tbody>\n",
       "</table>\n",
       "</div>"
      ],
      "text/plain": [
       "             tree-s1           tree-s2           tree-s3                MI  \\\n",
       "0       TotalCharges      TotalCharges      TotalCharges          Contract   \n",
       "1     MonthlyCharges    MonthlyCharges    MonthlyCharges    OnlineSecurity   \n",
       "2           Contract          Contract          Contract            tenure   \n",
       "3             tenure            tenure            tenure       TechSupport   \n",
       "4     OnlineSecurity    OnlineSecurity    OnlineSecurity   InternetService   \n",
       "5      PaymentMethod     PaymentMethod     PaymentMethod    MonthlyCharges   \n",
       "6             gender            gender  PaperlessBilling      OnlineBackup   \n",
       "7   PaperlessBilling  PaperlessBilling   InternetService     PaymentMethod   \n",
       "8    InternetService   InternetService           Partner      TotalCharges   \n",
       "9            Partner           Partner            gender  DeviceProtection   \n",
       "10   StreamingMovies     SeniorCitizen     SeniorCitizen   StreamingMovies   \n",
       "11     SeniorCitizen       TechSupport       TechSupport       StreamingTV   \n",
       "12       TechSupport        Dependents      OnlineBackup  PaperlessBilling   \n",
       "13      OnlineBackup      OnlineBackup        Dependents        Dependents   \n",
       "14     MultipleLines   StreamingMovies   StreamingMovies     SeniorCitizen   \n",
       "15        Dependents     MultipleLines     MultipleLines           Partner   \n",
       "16  DeviceProtection  DeviceProtection  DeviceProtection     MultipleLines   \n",
       "17       StreamingTV       StreamingTV       StreamingTV            gender   \n",
       "18      PhoneService      PhoneService      PhoneService      PhoneService   \n",
       "\n",
       "         tree-search           rfe_res    rfe_res_search   rfe_res_search1  \n",
       "0           Contract      TotalCharges          Contract          Contract  \n",
       "1     OnlineSecurity    MonthlyCharges            tenure    OnlineSecurity  \n",
       "2             tenure          Contract    OnlineSecurity            tenure  \n",
       "3    InternetService            tenure   InternetService   InternetService  \n",
       "4       TotalCharges     PaymentMethod      TotalCharges      TotalCharges  \n",
       "5     MonthlyCharges    OnlineSecurity    MonthlyCharges    MonthlyCharges  \n",
       "6    StreamingMovies  PaperlessBilling   StreamingMovies   StreamingMovies  \n",
       "7      PaymentMethod            gender     PaymentMethod     PaymentMethod  \n",
       "8        StreamingTV   InternetService  PaperlessBilling  PaperlessBilling  \n",
       "9   PaperlessBilling           Partner       StreamingTV       StreamingTV  \n",
       "10            gender       TechSupport       TechSupport       TechSupport  \n",
       "11       TechSupport        Dependents  DeviceProtection  DeviceProtection  \n",
       "12     SeniorCitizen      OnlineBackup      OnlineBackup      OnlineBackup  \n",
       "13      OnlineBackup     MultipleLines     MultipleLines     MultipleLines  \n",
       "14     MultipleLines     SeniorCitizen      PhoneService      PhoneService  \n",
       "15      PhoneService   StreamingMovies        Dependents        Dependents  \n",
       "16        Dependents  DeviceProtection           Partner           Partner  \n",
       "17           Partner       StreamingTV     SeniorCitizen     SeniorCitizen  \n",
       "18  DeviceProtection      PhoneService            gender            gender  "
      ]
     },
     "execution_count": 84,
     "metadata": {},
     "output_type": "execute_result"
    }
   ],
   "source": [
    "df_temp['rfe_res_search1'] = rfe_res_search\n",
    "df_temp"
   ]
  },
  {
   "cell_type": "markdown",
   "id": "3cc3be07-af31-41a9-aa58-9faef5b4e9f6",
   "metadata": {},
   "source": [
    "&emsp;&emsp;不过从上面的对比结果能够看出，尽管rfe_res_search1采用了一个更加严谨的流程，但却对最终特征筛选结果没有太大影响。"
   ]
  },
  {
   "cell_type": "markdown",
   "id": "ab67845d-a402-4f90-a2a9-0fabb8d158fa",
   "metadata": {},
   "source": [
    "&emsp;&emsp;通过这个过程，一方面我们进一步论证了RFE高效特征筛选结果的可信度，另一方面，如果是希望执行更加严谨或者原则上需要理论严谨的场合（如发表论文），则可以考虑上述更加严谨的RFE计算流程，以确保结果的流程正确性。"
   ]
  },
  {
   "cell_type": "markdown",
   "id": "8327b6b1-159b-45aa-8cf0-73329a886100",
   "metadata": {},
   "source": [
    "- RFE输出模型结果"
   ]
  },
  {
   "cell_type": "markdown",
   "id": "6bb55c36-25b4-4635-a9e5-86f253983783",
   "metadata": {},
   "source": [
    "&emsp;&emsp;尽管我们已经得到了一个相比单模型feature_importance_更精确的特征重要性排名，但我们仍然希望解决之前提出的问题，那就是到底应该选择多少特征才能训练出一个最佳模型呢？这里就需要调用RFE评估器的predict(X)方法来输出每一轮的模型预测结果，或者调用score(X, y)直接输出模型评估结果。在默认情况下，输出结果都是在给定n_features_to_select情况下特征子集的预测结果，如果希望每剔除一个特征后都进行一次模型结果输出，则可以借助循环来执行。"
   ]
  },
  {
   "cell_type": "markdown",
   "id": "53984788-96c0-41fb-b86d-8fa52778eab2",
   "metadata": {},
   "source": [
    "&emsp;&emsp;这里我们同样对比两组结果，分别是从始至终都用一个经过调参的决策树、以及每一轮都重新训练一个经过调参的决策树模型："
   ]
  },
  {
   "cell_type": "code",
   "execution_count": 85,
   "id": "6366fdc7-293b-43a6-b037-0881d238989a",
   "metadata": {
    "tags": []
   },
   "outputs": [
    {
     "name": "stderr",
     "output_type": "stream",
     "text": [
      "100%|██████████████████████████████████████████████████████████████████████████████████| 18/18 [00:00<00:00, 95.49it/s]\n"
     ]
    }
   ],
   "source": [
    "# 创建参数空间\n",
    "tree_param = {'ccp_alpha': np.arange(0, 1, 0.1).tolist(),\n",
    "              'max_depth': np.arange(2, 8, 1).tolist(), \n",
    "              'min_samples_split': np.arange(2, 5, 1).tolist(), \n",
    "              'min_samples_leaf': np.arange(1, 4, 1).tolist(), \n",
    "              'max_leaf_nodes':np.arange(10,20, 1).tolist()}\n",
    "\n",
    "# 实例化网格搜索评估器\n",
    "tree_model = DecisionTreeClassifier()\n",
    "tree_search_RFE = GridSearchCV(estimator = tree_model,\n",
    "                               param_grid = tree_param,\n",
    "                               n_jobs = 12)\n",
    "\n",
    "# 训练网格搜索评估器\n",
    "tree_search_RFE.fit(X_train_OE, y_train)\n",
    "\n",
    "# 创建容器\n",
    "rfe_rs1_cols = []\n",
    "rfe_rs1_train = []\n",
    "rfe_rs1_test = []\n",
    "\n",
    "# 执行循环\n",
    "for i in tqdm(range(18)):\n",
    "    \n",
    "    i = 18 - i\n",
    "    \n",
    "    # 首次循环时，创建X_train_temp和X_test_temp\n",
    "    if i == 18:\n",
    "        X_train_temp = (X_train_OE).copy()   \n",
    "        X_test_temp = (X_test_OE).copy()          \n",
    "\n",
    "    # 执行RFE过程，并计算不同特征子集下训练集和测试集的模型评分\n",
    "    rfe_search = RFE(estimator=tree_search_RFE.best_estimator_, n_features_to_select=i).fit(X_train_temp, y_train)\n",
    "    rfe_rs1_train.append(rfe_search.score(X_train_temp, y_train))\n",
    "    rfe_rs1_test.append(rfe_search.score(X_test_temp, y_test))\n",
    "    \n",
    "    # 修改特征子集\n",
    "    X_train_temp = X_train_OE[rfe_search.get_feature_names_out()]   \n",
    "    X_test_temp = X_test_OE[rfe_search.get_feature_names_out()]\n",
    "        \n",
    "    # 记录本轮循环被剔除的特征\n",
    "    rfe_rs1_cols.append(rfe_search.feature_names_in_[rfe_search.ranking_ != 1])"
   ]
  },
  {
   "cell_type": "markdown",
   "id": "999181d9-fda1-47ad-8e63-7de65dccdc87",
   "metadata": {},
   "source": [
    "&emsp;&emsp;这里需要注意的是，尽管我们输出了训练集和测试集上不同特征子集的预测结果，但根据严谨的机器学习建模流程，我们只能根据训练集上的结果来进行特征筛选，然后比较不同方法的测试集上的结果，挑选出一组更好的结果。"
   ]
  },
  {
   "cell_type": "markdown",
   "id": "8e03bb22-7a38-475c-a54c-624cd1dee5c5",
   "metadata": {},
   "source": [
    "&emsp;&emsp;接下来观察剔除不同特征时训练集的预测结果和对应测试集的预测结果："
   ]
  },
  {
   "cell_type": "code",
   "execution_count": 86,
   "id": "c1ead8d8-867c-4a6b-b88d-8fa98c57a829",
   "metadata": {
    "tags": []
   },
   "outputs": [
    {
     "data": {
      "text/plain": [
       "[0.8014009844755774,\n",
       " 0.8014009844755774,\n",
       " 0.8014009844755774,\n",
       " 0.8014009844755774,\n",
       " 0.8014009844755774,\n",
       " 0.8014009844755774,\n",
       " 0.8014009844755774,\n",
       " 0.8014009844755774,\n",
       " 0.8014009844755774,\n",
       " 0.8014009844755774,\n",
       " 0.8014009844755774,\n",
       " 0.8014009844755774,\n",
       " 0.8014009844755774,\n",
       " 0.7983718288527073,\n",
       " 0.7981825066262779,\n",
       " 0.7854979174555092,\n",
       " 0.7553956834532374,\n",
       " 0.7317304051495646]"
      ]
     },
     "execution_count": 86,
     "metadata": {},
     "output_type": "execute_result"
    }
   ],
   "source": [
    "rfe_rs1_train"
   ]
  },
  {
   "cell_type": "code",
   "execution_count": 87,
   "id": "b500d8f2-2c2b-4ec6-a161-3eb48ecdc4cd",
   "metadata": {
    "tags": []
   },
   "outputs": [
    {
     "data": {
      "text/plain": [
       "[0.7938671209540034,\n",
       " 0.7938671209540034,\n",
       " 0.7938671209540034,\n",
       " 0.7938671209540034,\n",
       " 0.7938671209540034,\n",
       " 0.7938671209540034,\n",
       " 0.7938671209540034,\n",
       " 0.7938671209540034,\n",
       " 0.7938671209540034,\n",
       " 0.7938671209540034,\n",
       " 0.7938671209540034,\n",
       " 0.7938671209540034,\n",
       " 0.7938671209540034,\n",
       " 0.7859170925610448,\n",
       " 0.7859170925610448,\n",
       " 0.7660420215786485,\n",
       " 0.7643384440658717,\n",
       " 0.7433276547416241]"
      ]
     },
     "execution_count": 87,
     "metadata": {},
     "output_type": "execute_result"
    }
   ],
   "source": [
    "rfe_rs1_test"
   ]
  },
  {
   "cell_type": "markdown",
   "id": "f1c12b6e-2bf8-477d-8341-1bfaafda90a8",
   "metadata": {},
   "source": [
    "这里我们发现，如果是带入已经训练好的模型，则最终结论为带入最重要的前七个特征，能够达到最好的建模效果0.8014，此时测试集的得分是0.79386。而如果是每一轮重新训练模型，则结果如下："
   ]
  },
  {
   "cell_type": "code",
   "execution_count": 88,
   "id": "c4377787-cd73-437f-9620-1c7f61daf29d",
   "metadata": {
    "tags": []
   },
   "outputs": [
    {
     "name": "stderr",
     "output_type": "stream",
     "text": [
      "100%|██████████████████████████████████████████████████████████████████████████████████| 18/18 [03:41<00:00, 12.30s/it]\n"
     ]
    }
   ],
   "source": [
    "# 创建参数空间\n",
    "tree_param = {'ccp_alpha': np.arange(0, 1, 0.1).tolist(),\n",
    "              'max_depth': np.arange(2, 8, 1).tolist(), \n",
    "              'min_samples_split': np.arange(2, 5, 1).tolist(), \n",
    "              'min_samples_leaf': np.arange(1, 4, 1).tolist(), \n",
    "              'max_leaf_nodes':np.arange(10,20, 1).tolist()}\n",
    "\n",
    "# 创建容器\n",
    "rfe_rs2_cols = []\n",
    "rfe_rs2_train = []\n",
    "rfe_rs2_test = []\n",
    "\n",
    "# 执行循环\n",
    "for i in tqdm(range(18)):\n",
    "    \n",
    "    i = 18 - i\n",
    "    \n",
    "    # 实例化模型评估器\n",
    "    tree_model = DecisionTreeClassifier()\n",
    "    tree_search_RFE = GridSearchCV(estimator = tree_model,\n",
    "                                   param_grid = tree_param,\n",
    "                                   n_jobs = 12)\n",
    "    \n",
    "    # 首次循环时，创建X_train_temp和X_test_temp\n",
    "    if i == 18:\n",
    "        X_train_temp = (X_train_OE).copy()   \n",
    "        X_test_temp = (X_test_OE).copy()   \n",
    "    \n",
    "    # 训练模型\n",
    "    tree_search_RFE.fit(X_train_temp, y_train)\n",
    "    # 带入RFE过程\n",
    "    rfe_search = RFE(estimator=tree_search_RFE.best_estimator_, n_features_to_select=i).fit(X_train_temp, y_train)\n",
    "    # 计算当前子集情况下训练集和测试集评分\n",
    "    rfe_rs2_train.append(rfe_search.score(X_train_temp, y_train))\n",
    "    rfe_rs2_test.append(rfe_search.score(X_test_temp, y_test))\n",
    "    # 修改数据集\n",
    "    X_train_temp = X_train_OE[rfe_search.get_feature_names_out()]   \n",
    "    X_test_temp = X_test_OE[rfe_search.get_feature_names_out()] \n",
    "        \n",
    "    # 记录本轮循环被剔除的特征\n",
    "    rfe_rs2_cols.append(rfe_search.feature_names_in_[rfe_search.ranking_ != 1])"
   ]
  },
  {
   "cell_type": "code",
   "execution_count": 89,
   "id": "23107891-48a6-475b-af54-112a804003aa",
   "metadata": {},
   "outputs": [
    {
     "data": {
      "text/plain": [
       "[0.8014009844755774,\n",
       " 0.8014009844755774,\n",
       " 0.8014009844755774,\n",
       " 0.8014009844755774,\n",
       " 0.8014009844755774,\n",
       " 0.8014009844755774,\n",
       " 0.8014009844755774,\n",
       " 0.8014009844755774,\n",
       " 0.8034835289663006,\n",
       " 0.8034835289663006,\n",
       " 0.8034835289663006,\n",
       " 0.8027262400605831,\n",
       " 0.8014009844755774,\n",
       " 0.7983718288527073,\n",
       " 0.7981825066262779,\n",
       " 0.7853085952290799,\n",
       " 0.7442256720939038,\n",
       " 0.7317304051495646]"
      ]
     },
     "execution_count": 89,
     "metadata": {},
     "output_type": "execute_result"
    }
   ],
   "source": [
    "rfe_rs2_train"
   ]
  },
  {
   "cell_type": "code",
   "execution_count": 90,
   "id": "be8fcfcb-8740-46dd-9611-08107b228cd9",
   "metadata": {},
   "outputs": [
    {
     "data": {
      "text/plain": [
       "[0.7938671209540034,\n",
       " 0.7938671209540034,\n",
       " 0.7938671209540034,\n",
       " 0.7938671209540034,\n",
       " 0.7938671209540034,\n",
       " 0.7938671209540034,\n",
       " 0.7938671209540034,\n",
       " 0.7938671209540034,\n",
       " 0.794434980124929,\n",
       " 0.794434980124929,\n",
       " 0.794434980124929,\n",
       " 0.7938671209540034,\n",
       " 0.7938671209540034,\n",
       " 0.7859170925610448,\n",
       " 0.7859170925610448,\n",
       " 0.7660420215786485,\n",
       " 0.7370812038614424,\n",
       " 0.7433276547416241]"
      ]
     },
     "execution_count": 90,
     "metadata": {},
     "output_type": "execute_result"
    }
   ],
   "source": [
    "rfe_rs2_test"
   ]
  },
  {
   "cell_type": "markdown",
   "id": "aa836230-09ee-4448-9c18-1e0ffb9f1e53",
   "metadata": {},
   "source": [
    "能够发现，此时结论为带入前九个特征能达到最好的建模效果，此时训练集评分为0.8034，而测试集评分为0.7944。这里两种不同的流程得到了两个不同的结论，二者对比如下："
   ]
  },
  {
   "cell_type": "markdown",
   "id": "954b6271-8fbd-476b-b0d9-3b0871eeff45",
   "metadata": {},
   "source": [
    "| 策略 | 训练集评分 | 测试集评分 |\n",
    "| ------ | ------ | ------ |\n",
    "| 使用单一优化后的模型 | 0.8014 | 0.79386 |\n",
    "| 每一轮训练并优化模型 | 0.8034 | 0.7944|"
   ]
  },
  {
   "cell_type": "markdown",
   "id": "e05a69ae-6a7f-4c5e-abfe-bed628808b79",
   "metadata": {},
   "source": [
    "&emsp;&emsp;对此我们不难看出，在具体确定选入几个特征来进行建模时，两种不同的策略得到了完全不同的结论，不仅是特征选择的数量上，还是最终训练集、测试集评分上，二者都不尽相同。并且很明显，更加严谨的流程得到了一组泛化能力更强的结果。也就是说，在当前数据集情况下，最好带入最重要的前九个特征进行模型训练。"
   ]
  },
  {
   "cell_type": "markdown",
   "id": "20818a63-d9e9-4ed9-8630-8b908fe7f5b7",
   "metadata": {},
   "source": [
    "&emsp;&emsp;网格搜索后的模型已经是超参数最优的模型了，若想进一步提高模型输出结果的可信度，只剩下最后一种方法——交叉验证。即每次针对一个特征子集，都进行训练集和验证集的划分，然后训练集上进行训练、在验证集上输出预测结果，然后选取验证集的平均预测结果作为当前子集最终模型预测结果，以此来提供可信度更高的结论。"
   ]
  },
  {
   "cell_type": "markdown",
   "id": "8e37a3c5-ab39-441d-92ad-5c43a8ef4093",
   "metadata": {},
   "source": [
    "&emsp;&emsp;而在sklearn中，这个过程可以通过RFECV来完成。"
   ]
  },
  {
   "cell_type": "markdown",
   "id": "1e704ad7-e4ed-46e7-8e82-44fce67daad9",
   "metadata": {},
   "source": [
    "### 2.优化后的递归消除法：RFECV"
   ]
  },
  {
   "cell_type": "markdown",
   "id": "499b64a0-e81f-4abc-be8d-e0b633d2fa49",
   "metadata": {},
   "source": [
    "#### 2.1 RFECV的计算流程"
   ]
  },
  {
   "cell_type": "markdown",
   "id": "4ccf1024-ab05-4d46-b827-5a386e1d94ec",
   "metadata": {},
   "source": [
    "&emsp;&emsp;顾名思义，RFECV就是在RFE后面加上CV过程，此外RFECV还对RFE的计算流程进行了优化，RFECV的计算过程如下："
   ]
  },
  {
   "cell_type": "markdown",
   "id": "9ef922ff-beea-4caa-940d-412794892d8c",
   "metadata": {},
   "source": [
    "- Step 1：根据给定的评估器，在当前数据集A1上进行训练，得到模型结果r1，并计算每个特征的重要性，即计算每个特征的coef_或feature_importances_；\n",
    "- Step 2：剔除最不重要的特征，即特征重要性计算结果最小的特征，得到特征子集A2，然后再次训练模型，得到模型结果r2，并计算剩余特征的特征重要性；\n",
    "- Step 3：如果r2优于r1，则保留A2，并在A2基础上进一步剔除最不重要的特征得到特征子集A3，并进行模型训练，得到此时模型结果r3，以及A3各特征重要性，并不断重复该过程；反之如果r1优于r2，则保留A1，停止迭代；或者在多轮迭代过程中，任意子集的建模效果弱于父集，则停止迭代。"
   ]
  },
  {
   "cell_type": "markdown",
   "id": "6c4699b9-2798-4031-8881-c5f7e68e5f1b",
   "metadata": {},
   "source": [
    "这里的min_features_to_select不是RFE中的n_features_to_select，RFE中的n_features_to_select代表一直递减到设置的特征个数为止，而min_features_to_select则表示在最多递减到设置的数值，也有可能在不到这个数值之前就停止迭代了这也就是\"min\"和\"n\"的差异。"
   ]
  },
  {
   "cell_type": "markdown",
   "id": "05acf611-1fd4-424e-8621-a096fffef0be",
   "metadata": {},
   "source": [
    "> 换而言之，对于RFECV来说，特征重要性评估指标只是辅助判断当前数据集情况下哪个特征相对较弱，但最终是否要剔除该特征，还是要比较剔除特征前后模型效果再做决定，并不是只要最弱就一定剔除。"
   ]
  },
  {
   "cell_type": "markdown",
   "id": "5551f80a-0ed1-4392-b8cf-7fa4776f03dd",
   "metadata": {},
   "source": [
    "#### 2.2 RFECV的sklearn实现方法"
   ]
  },
  {
   "cell_type": "markdown",
   "id": "289c225a-2286-4e95-babb-c3dbb2bb7e33",
   "metadata": {},
   "source": [
    "&emsp;&emsp;接下来我们具体查看RFECV在sklearn中的实现过程。首先我们考虑带入没有进行超参数优化的决策树模型，能够得到结果如下："
   ]
  },
  {
   "cell_type": "code",
   "execution_count": 91,
   "id": "8af7263a-3f7a-4bee-954d-dfaf0d07e332",
   "metadata": {},
   "outputs": [],
   "source": [
    "from sklearn.feature_selection import RFECV"
   ]
  },
  {
   "cell_type": "code",
   "execution_count": 92,
   "id": "eede213d-2e95-4951-ab8a-c2de1387d3a4",
   "metadata": {
    "collapsed": true,
    "jupyter": {
     "outputs_hidden": true
    },
    "tags": []
   },
   "outputs": [
    {
     "data": {
      "text/plain": [
       "\u001b[1;31mInit signature:\u001b[0m\n",
       "\u001b[0mRFECV\u001b[0m\u001b[1;33m(\u001b[0m\u001b[1;33m\n",
       "\u001b[0m    \u001b[0mestimator\u001b[0m\u001b[1;33m,\u001b[0m\u001b[1;33m\n",
       "\u001b[0m    \u001b[1;33m*\u001b[0m\u001b[1;33m,\u001b[0m\u001b[1;33m\n",
       "\u001b[0m    \u001b[0mstep\u001b[0m\u001b[1;33m=\u001b[0m\u001b[1;36m1\u001b[0m\u001b[1;33m,\u001b[0m\u001b[1;33m\n",
       "\u001b[0m    \u001b[0mmin_features_to_select\u001b[0m\u001b[1;33m=\u001b[0m\u001b[1;36m1\u001b[0m\u001b[1;33m,\u001b[0m\u001b[1;33m\n",
       "\u001b[0m    \u001b[0mcv\u001b[0m\u001b[1;33m=\u001b[0m\u001b[1;32mNone\u001b[0m\u001b[1;33m,\u001b[0m\u001b[1;33m\n",
       "\u001b[0m    \u001b[0mscoring\u001b[0m\u001b[1;33m=\u001b[0m\u001b[1;32mNone\u001b[0m\u001b[1;33m,\u001b[0m\u001b[1;33m\n",
       "\u001b[0m    \u001b[0mverbose\u001b[0m\u001b[1;33m=\u001b[0m\u001b[1;36m0\u001b[0m\u001b[1;33m,\u001b[0m\u001b[1;33m\n",
       "\u001b[0m    \u001b[0mn_jobs\u001b[0m\u001b[1;33m=\u001b[0m\u001b[1;32mNone\u001b[0m\u001b[1;33m,\u001b[0m\u001b[1;33m\n",
       "\u001b[0m    \u001b[0mimportance_getter\u001b[0m\u001b[1;33m=\u001b[0m\u001b[1;34m'auto'\u001b[0m\u001b[1;33m,\u001b[0m\u001b[1;33m\n",
       "\u001b[0m\u001b[1;33m)\u001b[0m\u001b[1;33m\u001b[0m\u001b[1;33m\u001b[0m\u001b[0m\n",
       "\u001b[1;31mDocstring:\u001b[0m     \n",
       "Recursive feature elimination with cross-validation to select the number of features.\n",
       "\n",
       "See glossary entry for :term:`cross-validation estimator`.\n",
       "\n",
       "Read more in the :ref:`User Guide <rfe>`.\n",
       "\n",
       "Parameters\n",
       "----------\n",
       "estimator : ``Estimator`` instance\n",
       "    A supervised learning estimator with a ``fit`` method that provides\n",
       "    information about feature importance either through a ``coef_``\n",
       "    attribute or through a ``feature_importances_`` attribute.\n",
       "\n",
       "step : int or float, default=1\n",
       "    If greater than or equal to 1, then ``step`` corresponds to the\n",
       "    (integer) number of features to remove at each iteration.\n",
       "    If within (0.0, 1.0), then ``step`` corresponds to the percentage\n",
       "    (rounded down) of features to remove at each iteration.\n",
       "    Note that the last iteration may remove fewer than ``step`` features in\n",
       "    order to reach ``min_features_to_select``.\n",
       "\n",
       "min_features_to_select : int, default=1\n",
       "    The minimum number of features to be selected. This number of features\n",
       "    will always be scored, even if the difference between the original\n",
       "    feature count and ``min_features_to_select`` isn't divisible by\n",
       "    ``step``.\n",
       "\n",
       "    .. versionadded:: 0.20\n",
       "\n",
       "cv : int, cross-validation generator or an iterable, default=None\n",
       "    Determines the cross-validation splitting strategy.\n",
       "    Possible inputs for cv are:\n",
       "\n",
       "    - None, to use the default 5-fold cross-validation,\n",
       "    - integer, to specify the number of folds.\n",
       "    - :term:`CV splitter`,\n",
       "    - An iterable yielding (train, test) splits as arrays of indices.\n",
       "\n",
       "    For integer/None inputs, if ``y`` is binary or multiclass,\n",
       "    :class:`~sklearn.model_selection.StratifiedKFold` is used. If the\n",
       "    estimator is a classifier or if ``y`` is neither binary nor multiclass,\n",
       "    :class:`~sklearn.model_selection.KFold` is used.\n",
       "\n",
       "    Refer :ref:`User Guide <cross_validation>` for the various\n",
       "    cross-validation strategies that can be used here.\n",
       "\n",
       "    .. versionchanged:: 0.22\n",
       "        ``cv`` default value of None changed from 3-fold to 5-fold.\n",
       "\n",
       "scoring : str, callable or None, default=None\n",
       "    A string (see model evaluation documentation) or\n",
       "    a scorer callable object / function with signature\n",
       "    ``scorer(estimator, X, y)``.\n",
       "\n",
       "verbose : int, default=0\n",
       "    Controls verbosity of output.\n",
       "\n",
       "n_jobs : int or None, default=None\n",
       "    Number of cores to run in parallel while fitting across folds.\n",
       "    ``None`` means 1 unless in a :obj:`joblib.parallel_backend` context.\n",
       "    ``-1`` means using all processors. See :term:`Glossary <n_jobs>`\n",
       "    for more details.\n",
       "\n",
       "    .. versionadded:: 0.18\n",
       "\n",
       "importance_getter : str or callable, default='auto'\n",
       "    If 'auto', uses the feature importance either through a `coef_`\n",
       "    or `feature_importances_` attributes of estimator.\n",
       "\n",
       "    Also accepts a string that specifies an attribute name/path\n",
       "    for extracting feature importance.\n",
       "    For example, give `regressor_.coef_` in case of\n",
       "    :class:`~sklearn.compose.TransformedTargetRegressor`  or\n",
       "    `named_steps.clf.feature_importances_` in case of\n",
       "    :class:`~sklearn.pipeline.Pipeline` with its last step named `clf`.\n",
       "\n",
       "    If `callable`, overrides the default feature importance getter.\n",
       "    The callable is passed with the fitted estimator and it should\n",
       "    return importance for each feature.\n",
       "\n",
       "    .. versionadded:: 0.24\n",
       "\n",
       "Attributes\n",
       "----------\n",
       "classes_ : ndarray of shape (n_classes,)\n",
       "    The classes labels. Only available when `estimator` is a classifier.\n",
       "\n",
       "estimator_ : ``Estimator`` instance\n",
       "    The fitted estimator used to select features.\n",
       "\n",
       "grid_scores_ : ndarray of shape (n_subsets_of_features,)\n",
       "    The cross-validation scores such that\n",
       "    ``grid_scores_[i]`` corresponds to\n",
       "    the CV score of the i-th subset of features.\n",
       "\n",
       "    .. deprecated:: 1.0\n",
       "        The `grid_scores_` attribute is deprecated in version 1.0 in favor\n",
       "        of `cv_results_` and will be removed in version 1.2.\n",
       "\n",
       "cv_results_ : dict of ndarrays\n",
       "    A dict with keys:\n",
       "\n",
       "    split(k)_test_score : ndarray of shape (n_features,)\n",
       "        The cross-validation scores across (k)th fold.\n",
       "\n",
       "    mean_test_score : ndarray of shape (n_features,)\n",
       "        Mean of scores over the folds.\n",
       "\n",
       "    std_test_score : ndarray of shape (n_features,)\n",
       "        Standard deviation of scores over the folds.\n",
       "\n",
       "    .. versionadded:: 1.0\n",
       "\n",
       "n_features_ : int\n",
       "    The number of selected features with cross-validation.\n",
       "\n",
       "n_features_in_ : int\n",
       "    Number of features seen during :term:`fit`. Only defined if the\n",
       "    underlying estimator exposes such an attribute when fit.\n",
       "\n",
       "    .. versionadded:: 0.24\n",
       "\n",
       "feature_names_in_ : ndarray of shape (`n_features_in_`,)\n",
       "    Names of features seen during :term:`fit`. Defined only when `X`\n",
       "    has feature names that are all strings.\n",
       "\n",
       "    .. versionadded:: 1.0\n",
       "\n",
       "ranking_ : narray of shape (n_features,)\n",
       "    The feature ranking, such that `ranking_[i]`\n",
       "    corresponds to the ranking\n",
       "    position of the i-th feature.\n",
       "    Selected (i.e., estimated best)\n",
       "    features are assigned rank 1.\n",
       "\n",
       "support_ : ndarray of shape (n_features,)\n",
       "    The mask of selected features.\n",
       "\n",
       "See Also\n",
       "--------\n",
       "RFE : Recursive feature elimination.\n",
       "\n",
       "Notes\n",
       "-----\n",
       "The size of ``grid_scores_`` is equal to\n",
       "``ceil((n_features - min_features_to_select) / step) + 1``,\n",
       "where step is the number of features removed at each iteration.\n",
       "\n",
       "Allows NaN/Inf in the input if the underlying estimator does as well.\n",
       "\n",
       "References\n",
       "----------\n",
       "\n",
       ".. [1] Guyon, I., Weston, J., Barnhill, S., & Vapnik, V., \"Gene selection\n",
       "       for cancer classification using support vector machines\",\n",
       "       Mach. Learn., 46(1-3), 389--422, 2002.\n",
       "\n",
       "Examples\n",
       "--------\n",
       "The following example shows how to retrieve the a-priori not known 5\n",
       "informative features in the Friedman #1 dataset.\n",
       "\n",
       ">>> from sklearn.datasets import make_friedman1\n",
       ">>> from sklearn.feature_selection import RFECV\n",
       ">>> from sklearn.svm import SVR\n",
       ">>> X, y = make_friedman1(n_samples=50, n_features=10, random_state=0)\n",
       ">>> estimator = SVR(kernel=\"linear\")\n",
       ">>> selector = RFECV(estimator, step=1, cv=5)\n",
       ">>> selector = selector.fit(X, y)\n",
       ">>> selector.support_\n",
       "array([ True,  True,  True,  True,  True, False, False, False, False,\n",
       "       False])\n",
       ">>> selector.ranking_\n",
       "array([1, 1, 1, 1, 1, 6, 4, 3, 2, 5])\n",
       "\u001b[1;31mFile:\u001b[0m           d:\\anaconda3\\lib\\site-packages\\sklearn\\feature_selection\\_rfe.py\n",
       "\u001b[1;31mType:\u001b[0m           ABCMeta\n",
       "\u001b[1;31mSubclasses:\u001b[0m     \n"
      ]
     },
     "metadata": {},
     "output_type": "display_data"
    }
   ],
   "source": [
    "RFECV?"
   ]
  },
  {
   "cell_type": "code",
   "execution_count": 93,
   "id": "71d34aba-d147-4384-9fd5-9fa30ccc7380",
   "metadata": {},
   "outputs": [],
   "source": [
    "tree_rfecv = DecisionTreeClassifier()\n",
    "rfecv = RFECV(estimator=tree_rfecv, min_features_to_select=1).fit(X_train_OE, y_train)"
   ]
  },
  {
   "cell_type": "code",
   "execution_count": 94,
   "id": "8a0e3127-d905-4ac3-a624-0c933cd25134",
   "metadata": {},
   "outputs": [
    {
     "data": {
      "text/plain": [
       "array([1, 3, 1, 1, 6, 1, 1, 1, 1, 4, 1, 5, 2, 1, 1, 1, 1, 1, 1])"
      ]
     },
     "execution_count": 94,
     "metadata": {},
     "output_type": "execute_result"
    }
   ],
   "source": [
    "rfecv.ranking_"
   ]
  },
  {
   "cell_type": "code",
   "execution_count": 95,
   "id": "d269d0c3-7eaf-43c5-a254-94edc574c697",
   "metadata": {},
   "outputs": [
    {
     "data": {
      "text/plain": [
       "array([ True, False,  True,  True, False,  True,  True,  True,  True,\n",
       "       False,  True, False, False,  True,  True,  True,  True,  True,\n",
       "        True])"
      ]
     },
     "execution_count": 95,
     "metadata": {},
     "output_type": "execute_result"
    }
   ],
   "source": [
    "rfecv.support_"
   ]
  },
  {
   "cell_type": "code",
   "execution_count": 96,
   "id": "5378cba0-2952-4455-87b8-74bbe1c359f8",
   "metadata": {},
   "outputs": [
    {
     "data": {
      "text/plain": [
       "array(['gender', 'Partner', 'Dependents', 'MultipleLines',\n",
       "       'InternetService', 'OnlineSecurity', 'OnlineBackup', 'TechSupport',\n",
       "       'Contract', 'PaperlessBilling', 'PaymentMethod', 'tenure',\n",
       "       'MonthlyCharges', 'TotalCharges'], dtype=object)"
      ]
     },
     "execution_count": 96,
     "metadata": {},
     "output_type": "execute_result"
    }
   ],
   "source": [
    "rfecv.get_feature_names_out()"
   ]
  },
  {
   "cell_type": "markdown",
   "id": "dfe2328f-f963-404a-aa3f-ab295fbb8d06",
   "metadata": {},
   "source": [
    "能够发现，由于RFECV不是一定会剔除特征，在判断当前特征剔除后模型效果下降的情况下会保留特征，因此最后并未剔除任何一个特征，当然，既然是交叉验证，我们可以通过cv_results_属性查看最后一轮计算时交叉验证的结果："
   ]
  },
  {
   "cell_type": "code",
   "execution_count": 97,
   "id": "61f813d9-3df0-4c57-aee7-b893d39d2136",
   "metadata": {
    "tags": []
   },
   "outputs": [
    {
     "data": {
      "text/plain": [
       "{'mean_test_score': array([0.64275232, 0.71809707, 0.72245689, 0.7188559 , 0.73116148,\n",
       "        0.73078771, 0.72113041, 0.72832774, 0.72605251, 0.72832559,\n",
       "        0.7302181 , 0.73021828, 0.73173433, 0.73343762, 0.72510751,\n",
       "        0.72737809, 0.72737826, 0.73078753, 0.73021649]),\n",
       " 'std_test_score': array([0.01090691, 0.00730096, 0.01504069, 0.00745359, 0.00990181,\n",
       "        0.01301551, 0.01331273, 0.01567215, 0.00931274, 0.01217374,\n",
       "        0.00811091, 0.01384233, 0.0115275 , 0.01015458, 0.01169053,\n",
       "        0.00624402, 0.00888917, 0.010472  , 0.00378509]),\n",
       " 'split0_test_score': array([0.63576159, 0.71901608, 0.69914853, 0.7218543 , 0.72942289,\n",
       "        0.71144749, 0.70577105, 0.71050142, 0.71807001, 0.71239357,\n",
       "        0.71901608, 0.72374645, 0.72280038, 0.72469253, 0.70671712,\n",
       "        0.71901608, 0.71333964, 0.71901608, 0.7256386 ]),\n",
       " 'split1_test_score': array([0.63197729, 0.72847682, 0.72847682, 0.71901608, 0.73793756,\n",
       "        0.72942289, 0.7256386 , 0.71901608, 0.72469253, 0.72847682,\n",
       "        0.72942289, 0.72374645, 0.71996216, 0.72469253, 0.7256386 ,\n",
       "        0.72469253, 0.72942289, 0.72280038, 0.73131504]),\n",
       " 'split2_test_score': array([0.66287879, 0.72159091, 0.73958333, 0.72537879, 0.73390152,\n",
       "        0.75      , 0.74431818, 0.75662879, 0.7405303 , 0.75      ,\n",
       "        0.74431818, 0.74621212, 0.74526515, 0.75      , 0.74242424,\n",
       "        0.73768939, 0.73200758, 0.74905303, 0.73579545]),\n",
       " 'split3_test_score': array([0.63825758, 0.71496212, 0.73390152, 0.72348485, 0.74147727,\n",
       "        0.73863636, 0.71780303, 0.73106061, 0.73200758, 0.72537879,\n",
       "        0.7282197 , 0.74621212, 0.74621212, 0.7405303 , 0.73011364,\n",
       "        0.73011364, 0.73958333, 0.72916667, 0.72632576]),\n",
       " 'split4_test_score': array([0.64488636, 0.70643939, 0.71117424, 0.70454545, 0.71306818,\n",
       "        0.72443182, 0.71212121, 0.72443182, 0.71496212, 0.72537879,\n",
       "        0.73011364, 0.71117424, 0.72443182, 0.72727273, 0.72064394,\n",
       "        0.72537879, 0.72253788, 0.73390152, 0.73200758])}"
      ]
     },
     "execution_count": 97,
     "metadata": {},
     "output_type": "execute_result"
    }
   ],
   "source": [
    "rfecv.cv_results_"
   ]
  },
  {
   "cell_type": "markdown",
   "id": "a9d3bfa4-c2d3-47fa-81eb-1daaf216d0ce",
   "metadata": {},
   "source": [
    "接下来进一步带入经过超参数优化后的模型："
   ]
  },
  {
   "cell_type": "code",
   "execution_count": 98,
   "id": "1bb525de-4051-427c-be42-6831882a719d",
   "metadata": {},
   "outputs": [],
   "source": [
    "# 实例化决策树评估器\n",
    "tree_model = DecisionTreeClassifier()\n",
    "# 构造参数空间\n",
    "tree_param = {'ccp_alpha': np.arange(0, 1, 0.1).tolist(),\n",
    "              'max_depth': np.arange(2, 8, 1).tolist(), \n",
    "              'min_samples_split': np.arange(2, 5, 1).tolist(), \n",
    "              'min_samples_leaf': np.arange(1, 4, 1).tolist(), \n",
    "              'max_leaf_nodes':np.arange(10,20, 1).tolist()}"
   ]
  },
  {
   "cell_type": "code",
   "execution_count": 99,
   "id": "52a9b94d-f176-4ac9-911f-16597ed5eb03",
   "metadata": {},
   "outputs": [],
   "source": [
    "# 实例化网格搜索评估器\n",
    "tree_search_RFECV = GridSearchCV(estimator = tree_model,\n",
    "                                 param_grid = tree_param,\n",
    "                                 n_jobs = 12)"
   ]
  },
  {
   "cell_type": "code",
   "execution_count": 100,
   "id": "1a878ebc-50f0-467d-a1a5-7ad8e1d846ba",
   "metadata": {},
   "outputs": [
    {
     "data": {
      "text/plain": [
       "GridSearchCV(estimator=DecisionTreeClassifier(), n_jobs=12,\n",
       "             param_grid={'ccp_alpha': [0.0, 0.1, 0.2, 0.30000000000000004, 0.4,\n",
       "                                       0.5, 0.6000000000000001,\n",
       "                                       0.7000000000000001, 0.8, 0.9],\n",
       "                         'max_depth': [2, 3, 4, 5, 6, 7],\n",
       "                         'max_leaf_nodes': [10, 11, 12, 13, 14, 15, 16, 17, 18,\n",
       "                                            19],\n",
       "                         'min_samples_leaf': [1, 2, 3],\n",
       "                         'min_samples_split': [2, 3, 4]})"
      ]
     },
     "execution_count": 100,
     "metadata": {},
     "output_type": "execute_result"
    }
   ],
   "source": [
    "tree_search_RFECV.fit(X_train_OE, y_train)"
   ]
  },
  {
   "cell_type": "code",
   "execution_count": 101,
   "id": "2604ce61-a657-4174-a1d2-64b875600bd2",
   "metadata": {},
   "outputs": [
    {
     "data": {
      "text/plain": [
       "{'ccp_alpha': 0.0,\n",
       " 'max_depth': 5,\n",
       " 'max_leaf_nodes': 16,\n",
       " 'min_samples_leaf': 1,\n",
       " 'min_samples_split': 2}"
      ]
     },
     "execution_count": 101,
     "metadata": {},
     "output_type": "execute_result"
    }
   ],
   "source": [
    "tree_search_RFECV.best_params_"
   ]
  },
  {
   "cell_type": "code",
   "execution_count": 102,
   "id": "c9413474-bf2e-4771-982b-9cd1b897bc13",
   "metadata": {},
   "outputs": [
    {
     "data": {
      "text/plain": [
       "0.7925029027264128"
      ]
     },
     "execution_count": 102,
     "metadata": {},
     "output_type": "execute_result"
    }
   ],
   "source": [
    "tree_search_RFECV.best_score_"
   ]
  },
  {
   "cell_type": "markdown",
   "id": "db248642-042b-45ad-8aad-ec0c47434fe2",
   "metadata": {},
   "source": [
    "带入到RFECV进行计算："
   ]
  },
  {
   "cell_type": "code",
   "execution_count": 103,
   "id": "2e29e2ae-e023-4956-a05f-6d777643f151",
   "metadata": {},
   "outputs": [],
   "source": [
    "rfecv = RFECV(estimator=tree_search_RFECV.best_estimator_, min_features_to_select=1).fit(X_train_OE, y_train)"
   ]
  },
  {
   "cell_type": "markdown",
   "id": "9ff0eb62-df28-4511-a7ef-b060095b893d",
   "metadata": {},
   "source": [
    "查看RFECV最终搜索结果："
   ]
  },
  {
   "cell_type": "code",
   "execution_count": 104,
   "id": "2df140f6-b1ec-4500-9b08-1a2b496b34d6",
   "metadata": {},
   "outputs": [
    {
     "data": {
      "text/plain": [
       "array([16, 15, 14, 13, 12, 11,  1,  1, 10,  9,  8,  7,  4,  1,  6,  5,  1,\n",
       "        3,  2])"
      ]
     },
     "execution_count": 104,
     "metadata": {},
     "output_type": "execute_result"
    }
   ],
   "source": [
    "rfecv.ranking_"
   ]
  },
  {
   "cell_type": "code",
   "execution_count": 105,
   "id": "250fc8ca-a83c-4a97-94bd-13afd4d9ef66",
   "metadata": {},
   "outputs": [
    {
     "data": {
      "text/plain": [
       "array([False, False, False, False, False, False,  True,  True, False,\n",
       "       False, False, False, False,  True, False, False,  True, False,\n",
       "       False])"
      ]
     },
     "execution_count": 105,
     "metadata": {},
     "output_type": "execute_result"
    }
   ],
   "source": [
    "rfecv.support_"
   ]
  },
  {
   "cell_type": "code",
   "execution_count": 106,
   "id": "7fbe5381-f81d-470b-9b7b-76ae7898b016",
   "metadata": {},
   "outputs": [
    {
     "data": {
      "text/plain": [
       "array(['InternetService', 'OnlineSecurity', 'Contract', 'tenure'],\n",
       "      dtype=object)"
      ]
     },
     "execution_count": 106,
     "metadata": {},
     "output_type": "execute_result"
    }
   ],
   "source": [
    "rfecv.get_feature_names_out()"
   ]
  },
  {
   "cell_type": "markdown",
   "id": "b9a8277e-da50-4ae6-a0af-31382ac3d203",
   "metadata": {},
   "source": [
    "也就是说，在当前超参数情况下，根据默认五折交叉验证时，RFECV判断'InternetService'、'OnlineSecurity'、'Contract'、'tenure'四个特征是最重要的四个特征，剔除任意一个都将降低模型准确率。这里我们可以进行简单检测，即只带入这四个特征进行模型训练，是否会得到一个比此前tree_search_RFECV.best_score_更好的结果："
   ]
  },
  {
   "cell_type": "code",
   "execution_count": 107,
   "id": "328bfb5a-323d-4446-a952-3c5eea131cff",
   "metadata": {},
   "outputs": [
    {
     "data": {
      "text/plain": [
       "{'ccp_alpha': 0.0,\n",
       " 'max_depth': 5,\n",
       " 'max_leaf_nodes': 14,\n",
       " 'min_samples_leaf': 1,\n",
       " 'min_samples_split': 2}"
      ]
     },
     "execution_count": 107,
     "metadata": {},
     "output_type": "execute_result"
    }
   ],
   "source": [
    "# 实例化网格搜索评估器\n",
    "tree_search_RFECV = GridSearchCV(estimator = tree_model,\n",
    "                                 param_grid = tree_param,\n",
    "                                 n_jobs = 12)\n",
    "\n",
    "# 只带入四个特征进行模型训练\n",
    "tree_search_RFECV.fit(X_train_OE[rfecv.get_feature_names_out()], y_train)\n",
    "\n",
    "tree_search_RFECV.best_params_"
   ]
  },
  {
   "cell_type": "code",
   "execution_count": 108,
   "id": "e2c0f645-9f33-4b4b-94f9-580f838698e9",
   "metadata": {},
   "outputs": [
    {
     "data": {
      "text/plain": [
       "0.7949630529514635"
      ]
     },
     "execution_count": 108,
     "metadata": {},
     "output_type": "execute_result"
    }
   ],
   "source": [
    "tree_search_RFECV.best_score_"
   ]
  },
  {
   "cell_type": "code",
   "execution_count": 109,
   "id": "2031f217-9a67-48b4-8b2a-cdf7db5e3102",
   "metadata": {},
   "outputs": [
    {
     "data": {
      "text/plain": [
       "0.7859170925610448"
      ]
     },
     "execution_count": 109,
     "metadata": {},
     "output_type": "execute_result"
    }
   ],
   "source": [
    "tree_search_RFECV.score(X_test_OE[rfecv.get_feature_names_out()], y_test)"
   ]
  },
  {
   "cell_type": "markdown",
   "id": "67e76eea-9737-42e3-a4a2-d55643dab1bf",
   "metadata": {},
   "source": [
    "相比带入全部特征得到的0.7925029027264128，模型结果确实有所提升，说明RFECV的搜索过程确实有效。"
   ]
  },
  {
   "cell_type": "markdown",
   "id": "158c5015-9add-4cee-9832-f116b0147352",
   "metadata": {},
   "source": [
    "#### 2.3 RFECV高精度特征筛选"
   ]
  },
  {
   "cell_type": "markdown",
   "id": "8fde542e-1c34-4450-b8c6-95300c1bd290",
   "metadata": {},
   "source": [
    "&emsp;&emsp;接下来，我们进行进一步尝试，即修改上述流程，使其每一轮重新训练并调优一个模型，而由于RFECV本身还配合有交叉验证过程，因此这个过程会非常耗费计算量，但同时也是目前机器学习理论范畴内最高精度的特征筛选流程："
   ]
  },
  {
   "cell_type": "code",
   "execution_count": 110,
   "id": "25f75d7f-0314-4c44-aac3-33d07afce33e",
   "metadata": {
    "tags": []
   },
   "outputs": [
    {
     "name": "stderr",
     "output_type": "stream",
     "text": [
      " 56%|█████████████████████████████████████████████▌                                    | 10/18 [02:38<02:06, 15.80s/it]\n"
     ]
    },
    {
     "data": {
      "text/plain": [
       "4923"
      ]
     },
     "execution_count": 110,
     "metadata": {},
     "output_type": "execute_result"
    }
   ],
   "source": [
    "# 创建参数空间\n",
    "tree_param = {'ccp_alpha': np.arange(0, 1, 0.1).tolist(),\n",
    "              'max_depth': np.arange(2, 8, 1).tolist(), \n",
    "              'min_samples_split': np.arange(2, 5, 1).tolist(), \n",
    "              'min_samples_leaf': np.arange(1, 4, 1).tolist(), \n",
    "              'max_leaf_nodes':np.arange(10,20, 1).tolist()}\n",
    "\n",
    "# 创建容器\n",
    "rfe_cv_cols = []\n",
    "rfe_cv_train = []\n",
    "rfe_cv_test = []\n",
    "\n",
    "# 执行循环\n",
    "for i in tqdm(range(18)):\n",
    "    \n",
    "    i = 18 - i\n",
    "    # 实例化网格搜索评估器\n",
    "    tree_model = DecisionTreeClassifier()\n",
    "    tree_search_RFECV = GridSearchCV(estimator = tree_model,\n",
    "                                     param_grid = tree_param,\n",
    "                                     n_jobs = 12)\n",
    "    # 首次循环时，创建X_train_temp\n",
    "    if i == 18:\n",
    "        X_train_temp = (X_train_OE).copy()   \n",
    "        X_test_temp = (X_test_OE).copy()   \n",
    "        \n",
    "    # 训练网格搜索评估器、带入RFECV中\n",
    "    tree_search_RFECV.fit(X_train_temp, y_train)\n",
    "    rfecv_search = RFECV(estimator=tree_search_RFECV.best_estimator_, min_features_to_select=i).fit(X_train_temp, y_train)\n",
    "    \n",
    "    # 若本轮剔除特征\n",
    "    if (rfecv_search.ranking_ != 1).sum() != 0:\n",
    "        # 计算剔除特征后模型评分\n",
    "        rfe_cv_train.append(rfecv_search.score(X_train_temp, y_train))\n",
    "        rfe_cv_test.append(rfecv_search.score(X_test_temp, y_test))\n",
    "        \n",
    "        # 修改数据集\n",
    "        X_train_temp = X_train_temp[rfecv_search.get_feature_names_out()]   \n",
    "        X_test_temp = X_test_temp[rfecv_search.get_feature_names_out()] \n",
    "        \n",
    "        # 将本轮剔除的特征填入rfe_cv_cols\n",
    "        rfe_cv_cols.append(rfecv_search.feature_names_in_[rfecv_search.ranking_ != 1])\n",
    "        \n",
    "    # 若本轮不剔除特征，则结束循环\n",
    "    else:\n",
    "        break\n",
    "        \n",
    "# 清除临时变量\n",
    "gc.collect()"
   ]
  },
  {
   "cell_type": "code",
   "execution_count": 111,
   "id": "6a2ca955-4663-42f8-84af-722eb2c6b64e",
   "metadata": {},
   "outputs": [
    {
     "data": {
      "text/plain": [
       "[array(['gender'], dtype=object),\n",
       " array(['SeniorCitizen'], dtype=object),\n",
       " array(['Partner'], dtype=object),\n",
       " array(['Dependents'], dtype=object),\n",
       " array(['PhoneService'], dtype=object),\n",
       " array(['MultipleLines'], dtype=object),\n",
       " array(['OnlineBackup'], dtype=object),\n",
       " array(['DeviceProtection'], dtype=object),\n",
       " array(['TechSupport'], dtype=object),\n",
       " array(['StreamingTV'], dtype=object)]"
      ]
     },
     "execution_count": 111,
     "metadata": {},
     "output_type": "execute_result"
    }
   ],
   "source": [
    "# 查看剔除的特征\n",
    "rfe_cv_cols"
   ]
  },
  {
   "cell_type": "code",
   "execution_count": 112,
   "id": "68c2c12d-5f7a-4cd5-a438-ec639770931b",
   "metadata": {},
   "outputs": [
    {
     "data": {
      "text/plain": [
       "array(['InternetService', 'OnlineSecurity', 'StreamingMovies', 'Contract',\n",
       "       'PaperlessBilling', 'PaymentMethod', 'tenure', 'MonthlyCharges',\n",
       "       'TotalCharges'], dtype=object)"
      ]
     },
     "execution_count": 112,
     "metadata": {},
     "output_type": "execute_result"
    }
   ],
   "source": [
    "# 查看保留的特征\n",
    "rfecv_search.get_feature_names_out()"
   ]
  },
  {
   "cell_type": "code",
   "execution_count": 113,
   "id": "72a14569-82e1-4c2f-a527-8fafe00f2a96",
   "metadata": {},
   "outputs": [
    {
     "data": {
      "text/plain": [
       "[0.8014009844755774,\n",
       " 0.8014009844755774,\n",
       " 0.8014009844755774,\n",
       " 0.8014009844755774,\n",
       " 0.8014009844755774,\n",
       " 0.8014009844755774,\n",
       " 0.8014009844755774,\n",
       " 0.8014009844755774,\n",
       " 0.8034835289663006,\n",
       " 0.8034835289663006]"
      ]
     },
     "execution_count": 113,
     "metadata": {},
     "output_type": "execute_result"
    }
   ],
   "source": [
    "rfe_cv_train"
   ]
  },
  {
   "cell_type": "code",
   "execution_count": 114,
   "id": "5bee779e-a9d2-47bd-9870-74f4d2940ffa",
   "metadata": {},
   "outputs": [
    {
     "data": {
      "text/plain": [
       "[0.7938671209540034,\n",
       " 0.7938671209540034,\n",
       " 0.7938671209540034,\n",
       " 0.7938671209540034,\n",
       " 0.7938671209540034,\n",
       " 0.7938671209540034,\n",
       " 0.7938671209540034,\n",
       " 0.7938671209540034,\n",
       " 0.794434980124929,\n",
       " 0.794434980124929]"
      ]
     },
     "execution_count": 114,
     "metadata": {},
     "output_type": "execute_result"
    }
   ],
   "source": [
    "rfe_cv_test"
   ]
  },
  {
   "cell_type": "markdown",
   "id": "d8ea4a0a-d7c8-48d8-a0ca-1ab4ea36ea38",
   "metadata": {},
   "source": [
    "| 策略 | 训练集评分 | 测试集评分 |\n",
    "| ------ | ------ | ------ |\n",
    "| 使用单一优化后的模型 | 0.8014 | 0.79386 |\n",
    "| 每一轮训练并优化模型 | 0.8034 | 0.7944|\n",
    "| RFECV| 0.8034 | 0.7944|"
   ]
  },
  {
   "cell_type": "markdown",
   "id": "164fed60-5ce1-49ea-a331-cfb97dc0e418",
   "metadata": {},
   "source": [
    "&emsp;&emsp;至此，我们就完成了特征筛选的核心方法的介绍。总的来看，RFE方法类有高效方法、也有高精度方法，并且能够同时给出最佳特征个数结论和具体选择哪些特征的结果，并且如果是高精度RFECV方法，则可以同时产出最佳模型和最佳特征组合，可以说是非常全面的方法，同时RFE方法簇也是借助模型进行特征筛选最常用的方法类。"
   ]
  },
  {
   "cell_type": "markdown",
   "id": "38fb53d7-e9c3-4a73-9bc4-eba79970ead1",
   "metadata": {},
   "source": [
    "&emsp;&emsp;接下来，我们再补充两种特征筛选方法，分别是：给定特征重要性阈值的进行特征筛选的SelectFromModel，以及给定特征数量进行的向前/向后特征搜索方法。"
   ]
  },
  {
   "cell_type": "markdown",
   "id": "8fca8508-931c-4681-8d4d-f53887878b9d",
   "metadata": {},
   "source": [
    "## 三、通用特征筛选方法"
   ]
  },
  {
   "cell_type": "markdown",
   "id": "e6b0a100-59c4-4a47-b573-3ac8c08be4a6",
   "metadata": {},
   "source": [
    "### 1.向前/向后特征搜索（Sequential Feature Selection）"
   ]
  },
  {
   "cell_type": "markdown",
   "id": "0046f417-18db-4c47-85b5-5183009d49fd",
   "metadata": {},
   "source": [
    "#### 1.1 向前/向后搜索基本原理"
   ]
  },
  {
   "cell_type": "markdown",
   "id": "518e2ca5-ac76-4852-a06f-899ae74a32e5",
   "metadata": {},
   "source": [
    "&emsp;&emsp;有的时候我们会在给定特征数量的情况下，搜索一组最优的特征组合，此时就可以考虑采用Sequential Feature Selection方法。该方法采用了贪心算法，向前或者向后逐步搜索，直到搜索得到一组确定数量的最优特征组合。"
   ]
  },
  {
   "cell_type": "markdown",
   "id": "5ef8a8dd-70eb-4827-b036-f0088409f849",
   "metadata": {},
   "source": [
    "&emsp;&emsp;例如，假设数据集有A、B、C三个特征，现在要求搜索出包含两个特征的最优组合，即要求只带入两个特征的情况下，带入哪两个特征能够训练出一个最优的模型。这是一个典型的搜索问题，需要在{A，B，C}这个集合中搜索出一个最优的包含两个元素的子集。"
   ]
  },
  {
   "cell_type": "markdown",
   "id": "57b41967-2401-43cf-ba23-908b721f864c",
   "metadata": {},
   "source": [
    "&emsp;&emsp;此时最简单的方法是枚举法，即考虑A、B、C的三种不同两两组合形式，分别是{A、B}、{A、C}、{B、C}，分别带入这三组特征进行模型训练，并根据最终模型结果找出最优组合。枚举法思路简单，但往往伴随较大的计算量，尤其是当备选子集个数增加时。为了降低计算量、同时保证最终搜索效果，就诞生了一系列的搜索方法，非常典型的就是向前或者向后逐步搜索法。"
   ]
  },
  {
   "cell_type": "markdown",
   "id": "a7c87870-4484-4e90-a888-2f94fcb1935e",
   "metadata": {},
   "source": [
    "&emsp;&emsp;所谓向前搜索，流程如下：先在三个特征中找到最有效的那一个特征，即单独带入A、B或者C，查看建模效果，假设单独特征情况下A特征效果最好，此时再在B、C中进行搜索，分别和A进行组合，查看哪个组合效果更好，然后挑选更好的组合作为两个特征时最佳特征组合。每次搜索加入一个新的特征，此为向前搜索。如果是更多特征情况，向前逐步搜索过程也是类似。"
   ]
  },
  {
   "cell_type": "markdown",
   "id": "652978c3-8bc8-4cab-9826-3e3ebddbb573",
   "metadata": {},
   "source": [
    "&emsp;&emsp;而向后搜索，则先带入三个全部特征进行建模，然后依次剔除A、B或者C，查看剔除某特征后模型效果变化情况，选择能够使得模型效果提升最大或者损失最小的策略进行特征剔除，最终得到一个包含两个元素的特征子集。当然，如果是更多特征情况，向后逐步搜索过程也是类似。"
   ]
  },
  {
   "cell_type": "markdown",
   "id": "758ded3b-d17a-4634-ad83-3e02a410206b",
   "metadata": {},
   "source": [
    "&emsp;&emsp;无论是向前逐步搜索还是向后逐步搜索，搜索过程都是每次前进一步，而前进的这一步，也是出于当前局部最优考虑，即加入一个能让当前模型效果提升最大、或者删除一个能让当前模型损失最小的特征，这种每次都采用局部最优策略的算法也被称为贪心算法。不过需要注意的是，局部最优不一定能导向全域最优，也就是说，向前逐步搜索或者向后逐步搜索出来的特征子集，只是有较大概率也是最优子集、或者和最优子集差距不大，但不一定就是最优子集。不过呢，这个搜索过程，相比枚举法，效率更高，其实也是一种牺牲精度换取效率的做法，也会在很多场合被使用。"
   ]
  },
  {
   "cell_type": "markdown",
   "id": "002202eb-7b0e-4821-95f7-ff912a7fba3e",
   "metadata": {
    "tags": []
   },
   "source": [
    "#### 1.2 Sequential Feature Selection在sklearn中的实现"
   ]
  },
  {
   "cell_type": "markdown",
   "id": "31bcce87-7d74-43bc-b722-35167d838921",
   "metadata": {},
   "source": [
    "&emsp;&emsp;接下来，考虑如何在sklearn中实现Sequential Feature Selection方法："
   ]
  },
  {
   "cell_type": "code",
   "execution_count": 115,
   "id": "aab9b0b8-b87b-4991-a6a5-0bc9c2204b54",
   "metadata": {},
   "outputs": [],
   "source": [
    "from sklearn.feature_selection import SequentialFeatureSelector"
   ]
  },
  {
   "cell_type": "code",
   "execution_count": 116,
   "id": "bbde9f76-a622-4b54-8333-12207ed57414",
   "metadata": {
    "collapsed": true,
    "jupyter": {
     "outputs_hidden": true
    },
    "tags": []
   },
   "outputs": [
    {
     "data": {
      "text/plain": [
       "\u001b[1;31mInit signature:\u001b[0m\n",
       "\u001b[0mSequentialFeatureSelector\u001b[0m\u001b[1;33m(\u001b[0m\u001b[1;33m\n",
       "\u001b[0m    \u001b[0mestimator\u001b[0m\u001b[1;33m,\u001b[0m\u001b[1;33m\n",
       "\u001b[0m    \u001b[1;33m*\u001b[0m\u001b[1;33m,\u001b[0m\u001b[1;33m\n",
       "\u001b[0m    \u001b[0mn_features_to_select\u001b[0m\u001b[1;33m=\u001b[0m\u001b[1;32mNone\u001b[0m\u001b[1;33m,\u001b[0m\u001b[1;33m\n",
       "\u001b[0m    \u001b[0mdirection\u001b[0m\u001b[1;33m=\u001b[0m\u001b[1;34m'forward'\u001b[0m\u001b[1;33m,\u001b[0m\u001b[1;33m\n",
       "\u001b[0m    \u001b[0mscoring\u001b[0m\u001b[1;33m=\u001b[0m\u001b[1;32mNone\u001b[0m\u001b[1;33m,\u001b[0m\u001b[1;33m\n",
       "\u001b[0m    \u001b[0mcv\u001b[0m\u001b[1;33m=\u001b[0m\u001b[1;36m5\u001b[0m\u001b[1;33m,\u001b[0m\u001b[1;33m\n",
       "\u001b[0m    \u001b[0mn_jobs\u001b[0m\u001b[1;33m=\u001b[0m\u001b[1;32mNone\u001b[0m\u001b[1;33m,\u001b[0m\u001b[1;33m\n",
       "\u001b[0m\u001b[1;33m)\u001b[0m\u001b[1;33m\u001b[0m\u001b[1;33m\u001b[0m\u001b[0m\n",
       "\u001b[1;31mDocstring:\u001b[0m     \n",
       "Transformer that performs Sequential Feature Selection.\n",
       "\n",
       "This Sequential Feature Selector adds (forward selection) or\n",
       "removes (backward selection) features to form a feature subset in a\n",
       "greedy fashion. At each stage, this estimator chooses the best feature to\n",
       "add or remove based on the cross-validation score of an estimator. In\n",
       "the case of unsupervised learning, this Sequential Feature Selector\n",
       "looks only at the features (X), not the desired outputs (y).\n",
       "\n",
       "Read more in the :ref:`User Guide <sequential_feature_selection>`.\n",
       "\n",
       ".. versionadded:: 0.24\n",
       "\n",
       "Parameters\n",
       "----------\n",
       "estimator : estimator instance\n",
       "    An unfitted estimator.\n",
       "\n",
       "n_features_to_select : int or float, default=None\n",
       "    The number of features to select. If `None`, half of the features are\n",
       "    selected. If integer, the parameter is the absolute number of features\n",
       "    to select. If float between 0 and 1, it is the fraction of features to\n",
       "    select.\n",
       "\n",
       "direction : {'forward', 'backward'}, default='forward'\n",
       "    Whether to perform forward selection or backward selection.\n",
       "\n",
       "scoring : str, callable, list/tuple or dict, default=None\n",
       "    A single str (see :ref:`scoring_parameter`) or a callable\n",
       "    (see :ref:`scoring`) to evaluate the predictions on the test set.\n",
       "\n",
       "    NOTE that when using custom scorers, each scorer should return a single\n",
       "    value. Metric functions returning a list/array of values can be wrapped\n",
       "    into multiple scorers that return one value each.\n",
       "\n",
       "    If None, the estimator's score method is used.\n",
       "\n",
       "cv : int, cross-validation generator or an iterable, default=None\n",
       "    Determines the cross-validation splitting strategy.\n",
       "    Possible inputs for cv are:\n",
       "\n",
       "    - None, to use the default 5-fold cross validation,\n",
       "    - integer, to specify the number of folds in a `(Stratified)KFold`,\n",
       "    - :term:`CV splitter`,\n",
       "    - An iterable yielding (train, test) splits as arrays of indices.\n",
       "\n",
       "    For integer/None inputs, if the estimator is a classifier and ``y`` is\n",
       "    either binary or multiclass, :class:`StratifiedKFold` is used. In all\n",
       "    other cases, :class:`KFold` is used. These splitters are instantiated\n",
       "    with `shuffle=False` so the splits will be the same across calls.\n",
       "\n",
       "    Refer :ref:`User Guide <cross_validation>` for the various\n",
       "    cross-validation strategies that can be used here.\n",
       "\n",
       "n_jobs : int, default=None\n",
       "    Number of jobs to run in parallel. When evaluating a new feature to\n",
       "    add or remove, the cross-validation procedure is parallel over the\n",
       "    folds.\n",
       "    ``None`` means 1 unless in a :obj:`joblib.parallel_backend` context.\n",
       "    ``-1`` means using all processors. See :term:`Glossary <n_jobs>`\n",
       "    for more details.\n",
       "\n",
       "Attributes\n",
       "----------\n",
       "n_features_in_ : int\n",
       "    Number of features seen during :term:`fit`. Only defined if the\n",
       "    underlying estimator exposes such an attribute when fit.\n",
       "\n",
       "    .. versionadded:: 0.24\n",
       "\n",
       "feature_names_in_ : ndarray of shape (`n_features_in_`,)\n",
       "    Names of features seen during :term:`fit`. Defined only when `X`\n",
       "    has feature names that are all strings.\n",
       "\n",
       "    .. versionadded:: 1.0\n",
       "\n",
       "n_features_to_select_ : int\n",
       "    The number of features that were selected.\n",
       "\n",
       "support_ : ndarray of shape (n_features,), dtype=bool\n",
       "    The mask of selected features.\n",
       "\n",
       "See Also\n",
       "--------\n",
       "GenericUnivariateSelect : Univariate feature selector with configurable\n",
       "    strategy.\n",
       "RFE : Recursive feature elimination based on importance weights.\n",
       "RFECV : Recursive feature elimination based on importance weights, with\n",
       "    automatic selection of the number of features.\n",
       "SelectFromModel : Feature selection based on thresholds of importance\n",
       "    weights.\n",
       "\n",
       "Examples\n",
       "--------\n",
       ">>> from sklearn.feature_selection import SequentialFeatureSelector\n",
       ">>> from sklearn.neighbors import KNeighborsClassifier\n",
       ">>> from sklearn.datasets import load_iris\n",
       ">>> X, y = load_iris(return_X_y=True)\n",
       ">>> knn = KNeighborsClassifier(n_neighbors=3)\n",
       ">>> sfs = SequentialFeatureSelector(knn, n_features_to_select=3)\n",
       ">>> sfs.fit(X, y)\n",
       "SequentialFeatureSelector(estimator=KNeighborsClassifier(n_neighbors=3),\n",
       "                          n_features_to_select=3)\n",
       ">>> sfs.get_support()\n",
       "array([ True, False,  True,  True])\n",
       ">>> sfs.transform(X).shape\n",
       "(150, 3)\n",
       "\u001b[1;31mFile:\u001b[0m           d:\\anaconda3\\lib\\site-packages\\sklearn\\feature_selection\\_sequential.py\n",
       "\u001b[1;31mType:\u001b[0m           ABCMeta\n",
       "\u001b[1;31mSubclasses:\u001b[0m     \n"
      ]
     },
     "metadata": {},
     "output_type": "display_data"
    }
   ],
   "source": [
    "SequentialFeatureSelector?"
   ]
  },
  {
   "cell_type": "markdown",
   "id": "c6ff10c2-89bf-4dc1-8362-d38f1b5b2dd0",
   "metadata": {},
   "source": [
    "&emsp;&emsp;其中，estimator表示输入的评估器、n_features_to_select（注意不是min_features_to_select）则是筛选出的特征个数，默认筛选出一半的特征；direction表示向前后者向后搜索，默认是'forward'向前搜索，'backward'则是向后搜索。很明显，如果期望选出的特征个数较少，则可以考虑向前搜索，而如果期望选出的特征个数较多，则可以考虑向后搜索；cv表示交叉验证的折数，这里需要注意，Sequential Feature Selection并不是以特征重要性为特征筛选依据，而是以交叉验证的结果（也就是当前特征组合在验证集上的平均得分）作为筛选依据，这会极大的增加计算量（相比SFM和RFE），但同时也使得其可以借助更多不同种类的算法进行特征筛选，而不一定是带有coef_或feature_importances_的算法。"
   ]
  },
  {
   "cell_type": "markdown",
   "id": "5186367c-04b6-458e-9548-da6b8cd49bcb",
   "metadata": {},
   "source": [
    "&emsp;&emsp;接下来先带入默认参数的决策树进行特征筛选："
   ]
  },
  {
   "cell_type": "code",
   "execution_count": 117,
   "id": "4f3d7376-2899-4f41-99dc-2f5822687883",
   "metadata": {},
   "outputs": [],
   "source": [
    "tree_SFS= DecisionTreeClassifier()\n",
    "SFS = SequentialFeatureSelector(tree_SFS, n_features_to_select=10)"
   ]
  },
  {
   "cell_type": "code",
   "execution_count": 118,
   "id": "2b17ffa2-4143-456c-8405-df75ec271bbb",
   "metadata": {},
   "outputs": [
    {
     "data": {
      "text/plain": [
       "SequentialFeatureSelector(estimator=DecisionTreeClassifier(),\n",
       "                          n_features_to_select=10)"
      ]
     },
     "execution_count": 118,
     "metadata": {},
     "output_type": "execute_result"
    }
   ],
   "source": [
    "SFS.fit(X_train_OE, y_train)"
   ]
  },
  {
   "cell_type": "code",
   "execution_count": 119,
   "id": "eb60ed04-2f16-4d7a-be67-ce72bacbf4d6",
   "metadata": {},
   "outputs": [
    {
     "data": {
      "text/plain": [
       "array(['SeniorCitizen', 'Partner', 'Dependents', 'PhoneService',\n",
       "       'InternetService', 'TechSupport', 'StreamingTV', 'Contract',\n",
       "       'PaperlessBilling', 'tenure'], dtype=object)"
      ]
     },
     "execution_count": 119,
     "metadata": {},
     "output_type": "execute_result"
    }
   ],
   "source": [
    "SFS.get_feature_names_out()"
   ]
  },
  {
   "cell_type": "code",
   "execution_count": 120,
   "id": "c1359bef-7adb-4f1d-a0d4-03ab94f88da1",
   "metadata": {},
   "outputs": [
    {
     "data": {
      "text/plain": [
       "array([False,  True,  True,  True,  True, False,  True, False, False,\n",
       "       False,  True,  True, False,  True,  True, False,  True, False,\n",
       "       False])"
      ]
     },
     "execution_count": 120,
     "metadata": {},
     "output_type": "execute_result"
    }
   ],
   "source": [
    "SFS.support_"
   ]
  },
  {
   "cell_type": "markdown",
   "id": "a6307495-fca4-4c22-8837-ed744123194e",
   "metadata": {},
   "source": [
    "同样，默认参数情况下由于训练得到的是过拟合模型，因此特征筛选结果可信度并不高。我们考虑带入一个在全部数据集上经过调参的决策树模型进行特征筛选："
   ]
  },
  {
   "cell_type": "code",
   "execution_count": 121,
   "id": "1a3107d6-6e17-4a2d-a024-67933575786f",
   "metadata": {},
   "outputs": [],
   "source": [
    "tree_param = {'ccp_alpha': np.arange(0, 1, 0.1).tolist(),\n",
    "              'max_depth': np.arange(2, 8, 1).tolist(), \n",
    "              'min_samples_split': np.arange(2, 5, 1).tolist(), \n",
    "              'min_samples_leaf': np.arange(1, 4, 1).tolist(), \n",
    "              'max_leaf_nodes':np.arange(10,20, 1).tolist()}"
   ]
  },
  {
   "cell_type": "code",
   "execution_count": 122,
   "id": "73850fd3-d377-4aea-ba05-b84310ee883a",
   "metadata": {},
   "outputs": [
    {
     "data": {
      "text/plain": [
       "{'ccp_alpha': 0.0,\n",
       " 'max_depth': 5,\n",
       " 'max_leaf_nodes': 16,\n",
       " 'min_samples_leaf': 1,\n",
       " 'min_samples_split': 2}"
      ]
     },
     "execution_count": 122,
     "metadata": {},
     "output_type": "execute_result"
    }
   ],
   "source": [
    "# 实例化网格搜索评估器\n",
    "tree_search_SFS = GridSearchCV(estimator = tree_model,\n",
    "                               param_grid = tree_param,\n",
    "                               n_jobs = 12)\n",
    "\n",
    "\n",
    "tree_search_SFS.fit(X_train_OE, y_train)\n",
    "\n",
    "tree_search_SFS.best_params_"
   ]
  },
  {
   "cell_type": "code",
   "execution_count": 123,
   "id": "694f7634-05ee-4804-8b5d-83515d0e3c73",
   "metadata": {
    "tags": []
   },
   "outputs": [],
   "source": [
    "SFS_search = SequentialFeatureSelector(tree_search_SFS.best_estimator_, n_features_to_select=10, n_jobs=12).fit(X_train_OE, y_train)"
   ]
  },
  {
   "cell_type": "code",
   "execution_count": 124,
   "id": "e052d0d8-85df-4f2f-8fb0-87c1074444b2",
   "metadata": {},
   "outputs": [
    {
     "data": {
      "text/plain": [
       "array(['gender', 'SeniorCitizen', 'Partner', 'Dependents',\n",
       "       'InternetService', 'OnlineSecurity', 'OnlineBackup', 'TechSupport',\n",
       "       'Contract', 'tenure'], dtype=object)"
      ]
     },
     "execution_count": 124,
     "metadata": {},
     "output_type": "execute_result"
    }
   ],
   "source": [
    "SFS_search.get_feature_names_out()"
   ]
  },
  {
   "cell_type": "markdown",
   "id": "d3c0fdc7-486c-4c47-b1eb-90aafb86432d",
   "metadata": {},
   "source": [
    "&emsp;&emsp;至此，我们就完成了关于SFS方法的介绍与尝试。不过这里需要注意的是，尽管我们也可以仿造RFE的高精度搜过过程，借助SFS每剔除（或者增加）一个特征就重新搜索并创建一个模型，但其实这么操作意义并不大。对于上述SFS过程来说，每次剔除（增加）特征后重新搜索模型超参数会耗费大量计算资源、并且仍然无法做到非常精准。主要原因还是在于SFS是在备选子集中通过重复建模挑选最优子集，而每个备选子集的特征都不同，哪怕我们每一轮搜索一组新的最优超参数，但仍然是针对这一批备选子集创建的共同的模型，并不是针对每个子集单独创建模型，因此并不能达到我们期望的非常高精度的结果，有的时候这个过程的精度甚至不如RFECV。"
   ]
  },
  {
   "cell_type": "markdown",
   "id": "e6444d82-b2cb-4121-be00-b6e0abbbc251",
   "metadata": {},
   "source": [
    "> 当然，如果可以每个子集单独进行建模及优化，可以达到非常精准的程度，但同时也会耗费更大的计算量。sklearn中并没有现成的相关方法，需要自行编写代码实现相关功能。"
   ]
  },
  {
   "cell_type": "markdown",
   "id": "69443194-02a9-441a-8983-9180c34d7ca6",
   "metadata": {},
   "source": [
    "&emsp;&emsp;此外，我们也可以借助SFS判断最佳特征个数，即遍历n_features_to_select从1到19，然后计算每个不同特征数量下最优子集的评分，其中评分最高的最优子集就是全域最优的特征子集："
   ]
  },
  {
   "cell_type": "code",
   "execution_count": 159,
   "id": "5f5d5830-eb69-42f4-87af-9448b4c67140",
   "metadata": {
    "tags": []
   },
   "outputs": [],
   "source": [
    "# 创建超参数空间\n",
    "tree_param = {'ccp_alpha': np.arange(0, 1, 0.1).tolist(),\n",
    "              'max_depth': np.arange(2, 8, 1).tolist(), \n",
    "              'min_samples_split': np.arange(2, 5, 1).tolist(), \n",
    "              'min_samples_leaf': np.arange(1, 4, 1).tolist(), \n",
    "              'max_leaf_nodes':np.arange(10,20, 1).tolist()}\n",
    "\n",
    "# 实例化网格搜索评估器\n",
    "tree_search_SFS = GridSearchCV(estimator = tree_model,\n",
    "                               param_grid = tree_param,\n",
    "                               n_jobs = 12)\n",
    "\n",
    "tree_search_SFS.fit(X_train_temp, y_train)\n",
    "\n",
    "# 复制数据集\n",
    "X_train_temp = (X_train_OE).copy()   \n",
    "X_test_temp = (X_test_OE).copy()   \n",
    "\n",
    "# 创建存储容器\n",
    "SFS_train = []\n",
    "SFS_test = []\n",
    "SFS_cols = []\n",
    "\n",
    "# 执行循环\n",
    "for i in range(1, len(X_train_OE.columns)):\n",
    "\n",
    "    SFS_search = SequentialFeatureSelector(estimator=tree_search_SFS.best_estimator_, n_features_to_select=i).fit(X_train_temp, y_train)\n",
    "        \n",
    "    # 计算最优子集\n",
    "    SFS_cols.append(SFS_search.get_feature_names_out())"
   ]
  },
  {
   "cell_type": "code",
   "execution_count": 160,
   "id": "5fc4ffb7-ac49-423d-9685-67920186231e",
   "metadata": {
    "collapsed": true,
    "jupyter": {
     "outputs_hidden": true
    },
    "tags": []
   },
   "outputs": [
    {
     "data": {
      "text/plain": [
       "[array(['tenure'], dtype=object),\n",
       " array(['InternetService', 'tenure'], dtype=object),\n",
       " array(['InternetService', 'TechSupport', 'tenure'], dtype=object),\n",
       " array(['InternetService', 'OnlineSecurity', 'TechSupport', 'tenure'],\n",
       "       dtype=object),\n",
       " array(['InternetService', 'OnlineSecurity', 'TechSupport', 'Contract',\n",
       "        'tenure'], dtype=object),\n",
       " array(['InternetService', 'OnlineSecurity', 'OnlineBackup', 'TechSupport',\n",
       "        'Contract', 'tenure'], dtype=object),\n",
       " array(['gender', 'InternetService', 'OnlineSecurity', 'OnlineBackup',\n",
       "        'TechSupport', 'Contract', 'tenure'], dtype=object),\n",
       " array(['gender', 'SeniorCitizen', 'InternetService', 'OnlineSecurity',\n",
       "        'OnlineBackup', 'TechSupport', 'Contract', 'tenure'], dtype=object),\n",
       " array(['gender', 'SeniorCitizen', 'Partner', 'InternetService',\n",
       "        'OnlineSecurity', 'OnlineBackup', 'TechSupport', 'Contract',\n",
       "        'tenure'], dtype=object),\n",
       " array(['gender', 'SeniorCitizen', 'Partner', 'Dependents',\n",
       "        'InternetService', 'OnlineSecurity', 'OnlineBackup', 'TechSupport',\n",
       "        'Contract', 'tenure'], dtype=object),\n",
       " array(['gender', 'SeniorCitizen', 'Partner', 'Dependents', 'PhoneService',\n",
       "        'InternetService', 'OnlineSecurity', 'OnlineBackup', 'TechSupport',\n",
       "        'Contract', 'tenure'], dtype=object),\n",
       " array(['gender', 'SeniorCitizen', 'Partner', 'Dependents', 'PhoneService',\n",
       "        'MultipleLines', 'InternetService', 'OnlineSecurity',\n",
       "        'OnlineBackup', 'TechSupport', 'Contract', 'tenure'], dtype=object),\n",
       " array(['gender', 'SeniorCitizen', 'Partner', 'Dependents', 'PhoneService',\n",
       "        'MultipleLines', 'InternetService', 'OnlineSecurity',\n",
       "        'OnlineBackup', 'DeviceProtection', 'TechSupport', 'Contract',\n",
       "        'tenure'], dtype=object),\n",
       " array(['gender', 'SeniorCitizen', 'Partner', 'Dependents', 'PhoneService',\n",
       "        'MultipleLines', 'InternetService', 'OnlineSecurity',\n",
       "        'OnlineBackup', 'DeviceProtection', 'TechSupport',\n",
       "        'StreamingMovies', 'Contract', 'tenure'], dtype=object),\n",
       " array(['gender', 'SeniorCitizen', 'Partner', 'Dependents', 'PhoneService',\n",
       "        'MultipleLines', 'InternetService', 'OnlineSecurity',\n",
       "        'OnlineBackup', 'DeviceProtection', 'TechSupport',\n",
       "        'StreamingMovies', 'Contract', 'PaperlessBilling', 'tenure'],\n",
       "       dtype=object),\n",
       " array(['gender', 'SeniorCitizen', 'Partner', 'Dependents', 'PhoneService',\n",
       "        'MultipleLines', 'InternetService', 'OnlineSecurity',\n",
       "        'OnlineBackup', 'DeviceProtection', 'TechSupport',\n",
       "        'StreamingMovies', 'Contract', 'PaperlessBilling', 'PaymentMethod',\n",
       "        'tenure'], dtype=object),\n",
       " array(['gender', 'SeniorCitizen', 'Partner', 'Dependents', 'PhoneService',\n",
       "        'MultipleLines', 'InternetService', 'OnlineSecurity',\n",
       "        'OnlineBackup', 'DeviceProtection', 'TechSupport',\n",
       "        'StreamingMovies', 'Contract', 'PaperlessBilling', 'PaymentMethod',\n",
       "        'tenure', 'TotalCharges'], dtype=object),\n",
       " array(['gender', 'SeniorCitizen', 'Partner', 'Dependents', 'PhoneService',\n",
       "        'MultipleLines', 'InternetService', 'OnlineSecurity',\n",
       "        'OnlineBackup', 'DeviceProtection', 'TechSupport',\n",
       "        'StreamingMovies', 'Contract', 'PaperlessBilling', 'PaymentMethod',\n",
       "        'tenure', 'MonthlyCharges', 'TotalCharges'], dtype=object)]"
      ]
     },
     "execution_count": 160,
     "metadata": {},
     "output_type": "execute_result"
    }
   ],
   "source": [
    "SFS_cols"
   ]
  },
  {
   "cell_type": "markdown",
   "id": "05eaef71-09a6-47b7-b37b-2c2ba920e33e",
   "metadata": {},
   "source": [
    "然后计算不同子集下最优模型得分："
   ]
  },
  {
   "cell_type": "code",
   "execution_count": 173,
   "id": "b8a14058-95a0-4b60-90a1-7a70d28471df",
   "metadata": {
    "tags": []
   },
   "outputs": [
    {
     "name": "stderr",
     "output_type": "stream",
     "text": [
      "100%|██████████████████████████████████████████████████████████████████████████████████| 18/18 [02:46<00:00,  9.24s/it]\n"
     ]
    }
   ],
   "source": [
    "tree_param = {'ccp_alpha': np.arange(0, 1, 0.1).tolist(),\n",
    "              'max_depth': np.arange(2, 8, 1).tolist(), \n",
    "              'min_samples_split': np.arange(2, 5, 1).tolist(), \n",
    "              'min_samples_leaf': np.arange(1, 4, 1).tolist(), \n",
    "              'max_leaf_nodes':np.arange(10,20, 1).tolist()}\n",
    "\n",
    "score = []\n",
    "\n",
    "for i in tqdm(range(len((SFS_cols)))):\n",
    "    subset = SFS_cols[i]\n",
    "    \n",
    "    tree_search_SFS = GridSearchCV(estimator = tree_model,\n",
    "                                   param_grid = tree_param,\n",
    "                                   n_jobs = 12)\n",
    "\n",
    "    tree_search_SFS.fit(X_train_OE[subset], y_train)\n",
    "    score.append(tree_search_SFS.best_score_)"
   ]
  },
  {
   "cell_type": "code",
   "execution_count": 174,
   "id": "035c9d26-0d3e-4d20-8ed0-45e38d5a0197",
   "metadata": {},
   "outputs": [
    {
     "data": {
      "text/plain": [
       "[0.7495289340901923,\n",
       " 0.7925002150167713,\n",
       " 0.7943943335913535,\n",
       " 0.7945839067113901,\n",
       " 0.7947743757346407,\n",
       " 0.7957211662509676,\n",
       " 0.7957211662509676,\n",
       " 0.7957211662509676,\n",
       " 0.7957211662509676,\n",
       " 0.7957211662509676,\n",
       " 0.7957211662509676,\n",
       " 0.7957211662509676,\n",
       " 0.7957211662509676,\n",
       " 0.7957211662509676,\n",
       " 0.7957211662509676,\n",
       " 0.7957211662509676,\n",
       " 0.7940189501447781,\n",
       " 0.7925029027264128]"
      ]
     },
     "execution_count": 174,
     "metadata": {},
     "output_type": "execute_result"
    }
   ],
   "source": [
    "score"
   ]
  },
  {
   "cell_type": "markdown",
   "id": "78a4cda7-9454-4707-bf37-748f4efe9118",
   "metadata": {},
   "source": [
    "能够看出，最终模型挑选出的最优子集为一个包含六个特征的子集："
   ]
  },
  {
   "cell_type": "code",
   "execution_count": 176,
   "id": "a32a6f91-dc92-4284-8303-944b7a2eed2f",
   "metadata": {},
   "outputs": [
    {
     "data": {
      "text/plain": [
       "0.7957211662509676"
      ]
     },
     "execution_count": 176,
     "metadata": {},
     "output_type": "execute_result"
    }
   ],
   "source": [
    "score[5]"
   ]
  },
  {
   "cell_type": "code",
   "execution_count": 177,
   "id": "58f8ebb4-c388-4077-b76a-fd681399ecc8",
   "metadata": {},
   "outputs": [
    {
     "data": {
      "text/plain": [
       "array(['InternetService', 'OnlineSecurity', 'OnlineBackup', 'TechSupport',\n",
       "       'Contract', 'tenure'], dtype=object)"
      ]
     },
     "execution_count": 177,
     "metadata": {},
     "output_type": "execute_result"
    }
   ],
   "source": [
    "SFS_cols[5]"
   ]
  },
  {
   "cell_type": "markdown",
   "id": "b7bfdb32-51b0-4328-a811-128cf0ac0cb7",
   "metadata": {},
   "source": [
    "此时训练集和测试集上的得分为："
   ]
  },
  {
   "cell_type": "code",
   "execution_count": 179,
   "id": "ea0a2951-f6e0-48f1-8453-6804bdbc35b7",
   "metadata": {},
   "outputs": [
    {
     "data": {
      "text/plain": [
       "GridSearchCV(estimator=DecisionTreeClassifier(), n_jobs=12,\n",
       "             param_grid={'ccp_alpha': [0.0, 0.1, 0.2, 0.30000000000000004, 0.4,\n",
       "                                       0.5, 0.6000000000000001,\n",
       "                                       0.7000000000000001, 0.8, 0.9],\n",
       "                         'max_depth': [2, 3, 4, 5, 6, 7],\n",
       "                         'max_leaf_nodes': [10, 11, 12, 13, 14, 15, 16, 17, 18,\n",
       "                                            19],\n",
       "                         'min_samples_leaf': [1, 2, 3],\n",
       "                         'min_samples_split': [2, 3, 4]})"
      ]
     },
     "execution_count": 179,
     "metadata": {},
     "output_type": "execute_result"
    }
   ],
   "source": [
    "tree_search_SFS = GridSearchCV(estimator = tree_model,\n",
    "                               param_grid = tree_param,\n",
    "                               n_jobs = 12)\n",
    "\n",
    "tree_search_SFS.fit(X_train_OE[SFS_cols[5]], y_train)"
   ]
  },
  {
   "cell_type": "code",
   "execution_count": 180,
   "id": "bcf37d48-1e97-498d-b936-ed4ac20474f9",
   "metadata": {},
   "outputs": [
    {
     "data": {
      "text/plain": [
       "0.799697084437713"
      ]
     },
     "execution_count": 180,
     "metadata": {},
     "output_type": "execute_result"
    }
   ],
   "source": [
    "tree_search_SFS.best_estimator_.score(X_train_OE[SFS_cols[5]], y_train)"
   ]
  },
  {
   "cell_type": "code",
   "execution_count": 181,
   "id": "7cfec80b-08a5-41a2-b99c-65610f3fefb4",
   "metadata": {},
   "outputs": [
    {
     "data": {
      "text/plain": [
       "0.7864849517319704"
      ]
     },
     "execution_count": 181,
     "metadata": {},
     "output_type": "execute_result"
    }
   ],
   "source": [
    "tree_search_SFS.best_estimator_.score(X_test_OE[SFS_cols[5]], y_test)"
   ]
  },
  {
   "cell_type": "markdown",
   "id": "0e451c61-272a-4187-b3b6-3f1b2dc227b2",
   "metadata": {},
   "source": [
    "对比此前方法结果如下："
   ]
  },
  {
   "cell_type": "markdown",
   "id": "43cc8af4-2108-4df1-9974-34e413397df7",
   "metadata": {},
   "source": [
    "| 策略 | 训练集评分 | 测试集评分 |\n",
    "| ------ | ------ | ------ |\n",
    "| 使用单一优化后的模型 | 0.8014 | 0.79386 |\n",
    "| 每一轮训练并优化模型 | 0.8034 | 0.7944|\n",
    "| RFECV| 0.8034 | 0.7944 |\n",
    "| SFS筛选 | 0.7996 | 0.7864 |"
   ]
  },
  {
   "cell_type": "markdown",
   "id": "dc9b7255-168c-424b-8723-ddbe711e4908",
   "metadata": {},
   "source": [
    "&emsp;&emsp;能够看出和此前面临描述的问题一样，我们无法针对每个特征子集单独建模，这会对最终特征子集的精度造成一定影响。因此在大多数时候，SFS方法主要应用于给定筛选特征数量的情况下，快速搜索出一组相对更高精度的结果。"
   ]
  },
  {
   "cell_type": "markdown",
   "id": "978cff52-f652-441f-95a3-4592e56a2ed9",
   "metadata": {},
   "source": [
    "### 2.SelectFromModel特征筛选方法"
   ]
  },
  {
   "cell_type": "markdown",
   "id": "45b60ae6-8533-43b8-8046-f728024c92e4",
   "metadata": {},
   "source": [
    "&emsp;&emsp;SelectFromModel方法是一类相对简单的特征筛选方法，其执行过程就是根据输入的评估器计算特征重要性，然后根据给定的阈值进行特征筛选："
   ]
  },
  {
   "cell_type": "code",
   "execution_count": 125,
   "id": "e476f464-1ba2-4a45-81a9-c1706728efd6",
   "metadata": {},
   "outputs": [],
   "source": [
    "from sklearn.feature_selection import SelectFromModel"
   ]
  },
  {
   "cell_type": "code",
   "execution_count": 126,
   "id": "231d7208-0727-4ae3-9a63-96bffdce52bf",
   "metadata": {
    "collapsed": true,
    "jupyter": {
     "outputs_hidden": true
    },
    "tags": []
   },
   "outputs": [
    {
     "data": {
      "text/plain": [
       "\u001b[1;31mInit signature:\u001b[0m\n",
       "\u001b[0mSelectFromModel\u001b[0m\u001b[1;33m(\u001b[0m\u001b[1;33m\n",
       "\u001b[0m    \u001b[0mestimator\u001b[0m\u001b[1;33m,\u001b[0m\u001b[1;33m\n",
       "\u001b[0m    \u001b[1;33m*\u001b[0m\u001b[1;33m,\u001b[0m\u001b[1;33m\n",
       "\u001b[0m    \u001b[0mthreshold\u001b[0m\u001b[1;33m=\u001b[0m\u001b[1;32mNone\u001b[0m\u001b[1;33m,\u001b[0m\u001b[1;33m\n",
       "\u001b[0m    \u001b[0mprefit\u001b[0m\u001b[1;33m=\u001b[0m\u001b[1;32mFalse\u001b[0m\u001b[1;33m,\u001b[0m\u001b[1;33m\n",
       "\u001b[0m    \u001b[0mnorm_order\u001b[0m\u001b[1;33m=\u001b[0m\u001b[1;36m1\u001b[0m\u001b[1;33m,\u001b[0m\u001b[1;33m\n",
       "\u001b[0m    \u001b[0mmax_features\u001b[0m\u001b[1;33m=\u001b[0m\u001b[1;32mNone\u001b[0m\u001b[1;33m,\u001b[0m\u001b[1;33m\n",
       "\u001b[0m    \u001b[0mimportance_getter\u001b[0m\u001b[1;33m=\u001b[0m\u001b[1;34m'auto'\u001b[0m\u001b[1;33m,\u001b[0m\u001b[1;33m\n",
       "\u001b[0m\u001b[1;33m)\u001b[0m\u001b[1;33m\u001b[0m\u001b[1;33m\u001b[0m\u001b[0m\n",
       "\u001b[1;31mDocstring:\u001b[0m     \n",
       "Meta-transformer for selecting features based on importance weights.\n",
       "\n",
       ".. versionadded:: 0.17\n",
       "\n",
       "Read more in the :ref:`User Guide <select_from_model>`.\n",
       "\n",
       "Parameters\n",
       "----------\n",
       "estimator : object\n",
       "    The base estimator from which the transformer is built.\n",
       "    This can be both a fitted (if ``prefit`` is set to True)\n",
       "    or a non-fitted estimator. The estimator should have a\n",
       "    ``feature_importances_`` or ``coef_`` attribute after fitting.\n",
       "    Otherwise, the ``importance_getter`` parameter should be used.\n",
       "\n",
       "threshold : str or float, default=None\n",
       "    The threshold value to use for feature selection. Features whose\n",
       "    importance is greater or equal are kept while the others are\n",
       "    discarded. If \"median\" (resp. \"mean\"), then the ``threshold`` value is\n",
       "    the median (resp. the mean) of the feature importances. A scaling\n",
       "    factor (e.g., \"1.25*mean\") may also be used. If None and if the\n",
       "    estimator has a parameter penalty set to l1, either explicitly\n",
       "    or implicitly (e.g, Lasso), the threshold used is 1e-5.\n",
       "    Otherwise, \"mean\" is used by default.\n",
       "\n",
       "prefit : bool, default=False\n",
       "    Whether a prefit model is expected to be passed into the constructor\n",
       "    directly or not. If True, ``transform`` must be called directly\n",
       "    and SelectFromModel cannot be used with ``cross_val_score``,\n",
       "    ``GridSearchCV`` and similar utilities that clone the estimator.\n",
       "    Otherwise train the model using ``fit`` and then ``transform`` to do\n",
       "    feature selection.\n",
       "\n",
       "norm_order : non-zero int, inf, -inf, default=1\n",
       "    Order of the norm used to filter the vectors of coefficients below\n",
       "    ``threshold`` in the case where the ``coef_`` attribute of the\n",
       "    estimator is of dimension 2.\n",
       "\n",
       "max_features : int, default=None\n",
       "    The maximum number of features to select.\n",
       "    To only select based on ``max_features``, set ``threshold=-np.inf``.\n",
       "\n",
       "    .. versionadded:: 0.20\n",
       "\n",
       "importance_getter : str or callable, default='auto'\n",
       "    If 'auto', uses the feature importance either through a ``coef_``\n",
       "    attribute or ``feature_importances_`` attribute of estimator.\n",
       "\n",
       "    Also accepts a string that specifies an attribute name/path\n",
       "    for extracting feature importance (implemented with `attrgetter`).\n",
       "    For example, give `regressor_.coef_` in case of\n",
       "    :class:`~sklearn.compose.TransformedTargetRegressor`  or\n",
       "    `named_steps.clf.feature_importances_` in case of\n",
       "    :class:`~sklearn.pipeline.Pipeline` with its last step named `clf`.\n",
       "\n",
       "    If `callable`, overrides the default feature importance getter.\n",
       "    The callable is passed with the fitted estimator and it should\n",
       "    return importance for each feature.\n",
       "\n",
       "    .. versionadded:: 0.24\n",
       "\n",
       "Attributes\n",
       "----------\n",
       "estimator_ : an estimator\n",
       "    The base estimator from which the transformer is built.\n",
       "    This is stored only when a non-fitted estimator is passed to the\n",
       "    ``SelectFromModel``, i.e when prefit is False.\n",
       "\n",
       "n_features_in_ : int\n",
       "    Number of features seen during :term:`fit`. Only defined if the\n",
       "    underlying estimator exposes such an attribute when fit.\n",
       "\n",
       "    .. versionadded:: 0.24\n",
       "\n",
       "feature_names_in_ : ndarray of shape (`n_features_in_`,)\n",
       "    Names of features seen during :term:`fit`. Defined only when `X`\n",
       "    has feature names that are all strings.\n",
       "\n",
       "    .. versionadded:: 1.0\n",
       "\n",
       "threshold_ : float\n",
       "    The threshold value used for feature selection.\n",
       "\n",
       "See Also\n",
       "--------\n",
       "RFE : Recursive feature elimination based on importance weights.\n",
       "RFECV : Recursive feature elimination with built-in cross-validated\n",
       "    selection of the best number of features.\n",
       "SequentialFeatureSelector : Sequential cross-validation based feature\n",
       "    selection. Does not rely on importance weights.\n",
       "\n",
       "Notes\n",
       "-----\n",
       "Allows NaN/Inf in the input if the underlying estimator does as well.\n",
       "\n",
       "Examples\n",
       "--------\n",
       ">>> from sklearn.feature_selection import SelectFromModel\n",
       ">>> from sklearn.linear_model import LogisticRegression\n",
       ">>> X = [[ 0.87, -1.34,  0.31 ],\n",
       "...      [-2.79, -0.02, -0.85 ],\n",
       "...      [-1.34, -0.48, -2.55 ],\n",
       "...      [ 1.92,  1.48,  0.65 ]]\n",
       ">>> y = [0, 1, 0, 1]\n",
       ">>> selector = SelectFromModel(estimator=LogisticRegression()).fit(X, y)\n",
       ">>> selector.estimator_.coef_\n",
       "array([[-0.3252302 ,  0.83462377,  0.49750423]])\n",
       ">>> selector.threshold_\n",
       "0.55245...\n",
       ">>> selector.get_support()\n",
       "array([False,  True, False])\n",
       ">>> selector.transform(X)\n",
       "array([[-1.34],\n",
       "       [-0.02],\n",
       "       [-0.48],\n",
       "       [ 1.48]])\n",
       "\u001b[1;31mFile:\u001b[0m           d:\\anaconda3\\lib\\site-packages\\sklearn\\feature_selection\\_from_model.py\n",
       "\u001b[1;31mType:\u001b[0m           ABCMeta\n",
       "\u001b[1;31mSubclasses:\u001b[0m     \n"
      ]
     },
     "metadata": {},
     "output_type": "display_data"
    }
   ],
   "source": [
    "SelectFromModel?"
   ]
  },
  {
   "cell_type": "markdown",
   "id": "45cea9a2-3a5c-46c1-a11f-4c32cfd91ea7",
   "metadata": {},
   "source": [
    "其中需要关注的参数就是threshold和max_features，前者表示特征重要性阈值，该评估器最终会挑选特征重要性高于给定阈值的特征，而后者则表示最大挑选特征个数，如果前者筛选出的特征不足max_features，则保留全部特征，如果前者筛选出来的特征数量大于max_features，则按照特征重要排名选出前max_features个特征。"
   ]
  },
  {
   "cell_type": "markdown",
   "id": "57fdd7e7-b0f2-42f2-9e9e-7fa9c8141daf",
   "metadata": {},
   "source": [
    "&emsp;&emsp;可以带入原始模型测试该评估器功能："
   ]
  },
  {
   "cell_type": "code",
   "execution_count": 187,
   "id": "c35c8d3b-d367-4970-875f-72fb2b6dc060",
   "metadata": {},
   "outputs": [],
   "source": [
    "tree_SFM = DecisionTreeClassifier()"
   ]
  },
  {
   "cell_type": "code",
   "execution_count": 188,
   "id": "429513cc-a537-4689-82a8-28912aae746e",
   "metadata": {},
   "outputs": [],
   "source": [
    "SFM = SelectFromModel(tree_SFM)"
   ]
  },
  {
   "cell_type": "code",
   "execution_count": 189,
   "id": "c4e414ee-c60e-486a-9339-d01754deea6b",
   "metadata": {},
   "outputs": [
    {
     "data": {
      "text/plain": [
       "SelectFromModel(estimator=DecisionTreeClassifier())"
      ]
     },
     "execution_count": 189,
     "metadata": {},
     "output_type": "execute_result"
    }
   ],
   "source": [
    "SFM.fit(X_train_OE, y_train)"
   ]
  },
  {
   "cell_type": "code",
   "execution_count": 190,
   "id": "f2f645db-f119-4ee6-bc70-61a6df3b2811",
   "metadata": {},
   "outputs": [
    {
     "data": {
      "text/plain": [
       "19"
      ]
     },
     "execution_count": 190,
     "metadata": {},
     "output_type": "execute_result"
    }
   ],
   "source": [
    "SFM.n_features_in_"
   ]
  },
  {
   "cell_type": "code",
   "execution_count": 191,
   "id": "e651b5f7-df5f-4ad1-ac4f-38c8382c248f",
   "metadata": {},
   "outputs": [
    {
     "data": {
      "text/plain": [
       "array(['Contract', 'tenure', 'MonthlyCharges', 'TotalCharges'],\n",
       "      dtype=object)"
      ]
     },
     "execution_count": 191,
     "metadata": {},
     "output_type": "execute_result"
    }
   ],
   "source": [
    "SFM.get_feature_names_out()"
   ]
  },
  {
   "cell_type": "code",
   "execution_count": 192,
   "id": "68f7bf7f-9816-4d04-b1a0-d1b2ddfa3c1b",
   "metadata": {},
   "outputs": [
    {
     "data": {
      "text/plain": [
       "4"
      ]
     },
     "execution_count": 192,
     "metadata": {},
     "output_type": "execute_result"
    }
   ],
   "source": [
    "len(SFM.get_feature_names_out())"
   ]
  },
  {
   "cell_type": "code",
   "execution_count": 193,
   "id": "cd9a7c06-0d50-4c11-a908-177e0299fc90",
   "metadata": {},
   "outputs": [
    {
     "data": {
      "text/plain": [
       "0.05263157894736842"
      ]
     },
     "execution_count": 193,
     "metadata": {},
     "output_type": "execute_result"
    }
   ],
   "source": [
    "SFM.threshold_"
   ]
  },
  {
   "cell_type": "code",
   "execution_count": 132,
   "id": "39257a03-60bb-47ae-a48a-d0add855e1ca",
   "metadata": {},
   "outputs": [
    {
     "data": {
      "text/plain": [
       "array([[1.00000e+00, 5.10000e+01, 6.05000e+01, 3.14515e+03],\n",
       "       [0.00000e+00, 3.00000e+00, 3.54500e+01, 1.06850e+02],\n",
       "       [0.00000e+00, 2.10000e+01, 9.73500e+01, 2.11950e+03],\n",
       "       ...,\n",
       "       [1.00000e+00, 1.40000e+01, 5.57000e+01, 7.95150e+02],\n",
       "       [1.00000e+00, 6.70000e+01, 1.09700e+02, 7.34445e+03],\n",
       "       [0.00000e+00, 1.20000e+01, 6.16500e+01, 7.13750e+02]])"
      ]
     },
     "execution_count": 132,
     "metadata": {},
     "output_type": "execute_result"
    }
   ],
   "source": [
    "SFM.transform(X_train_OE)"
   ]
  },
  {
   "cell_type": "code",
   "execution_count": 133,
   "id": "c93d415e-30b0-46a3-8bb4-04e770d69a47",
   "metadata": {},
   "outputs": [
    {
     "data": {
      "text/plain": [
       "array([0.0246001 , 0.01964066, 0.02171092, 0.01796224, 0.00322323,\n",
       "       0.01456247, 0.02463827, 0.04742613, 0.01636686, 0.01853348,\n",
       "       0.01758284, 0.01033803, 0.01679689, 0.17219693, 0.01977217,\n",
       "       0.04677198, 0.10456021, 0.18949086, 0.21382572])"
      ]
     },
     "execution_count": 133,
     "metadata": {},
     "output_type": "execute_result"
    }
   ],
   "source": [
    "tree_SFM.feature_importances_"
   ]
  },
  {
   "cell_type": "code",
   "execution_count": 134,
   "id": "b4f9cd16-56c5-4735-91b5-1b12bc7bc145",
   "metadata": {},
   "outputs": [
    {
     "data": {
      "text/plain": [
       "0.05263157894736842"
      ]
     },
     "execution_count": 134,
     "metadata": {},
     "output_type": "execute_result"
    }
   ],
   "source": [
    "tree_SFM.feature_importances_.mean()"
   ]
  },
  {
   "cell_type": "code",
   "execution_count": 135,
   "id": "435c3dd9-59b1-4bc7-8561-6d4564fcb43b",
   "metadata": {},
   "outputs": [
    {
     "data": {
      "text/plain": [
       "array(['Contract', 'tenure', 'MonthlyCharges', 'TotalCharges'],\n",
       "      dtype=object)"
      ]
     },
     "execution_count": 135,
     "metadata": {},
     "output_type": "execute_result"
    }
   ],
   "source": [
    "SFM.get_feature_names_out()"
   ]
  },
  {
   "cell_type": "code",
   "execution_count": 136,
   "id": "47409b57-62b2-432e-b28a-2db5e43ea009",
   "metadata": {},
   "outputs": [
    {
     "data": {
      "text/plain": [
       "array([False, False, False, False, False, False, False, False, False,\n",
       "       False, False, False, False,  True, False, False,  True,  True,\n",
       "        True])"
      ]
     },
     "execution_count": 136,
     "metadata": {},
     "output_type": "execute_result"
    }
   ],
   "source": [
    "mask = tree_SFM.feature_importances_ > SFM.threshold_\n",
    "mask"
   ]
  },
  {
   "cell_type": "code",
   "execution_count": 137,
   "id": "3b4afaf6-f430-42d1-ae11-3f710af108f9",
   "metadata": {},
   "outputs": [
    {
     "data": {
      "text/plain": [
       "array(['Contract', 'tenure', 'MonthlyCharges', 'TotalCharges'],\n",
       "      dtype=object)"
      ]
     },
     "execution_count": 137,
     "metadata": {},
     "output_type": "execute_result"
    }
   ],
   "source": [
    "SFM.feature_names_in_[mask]"
   ]
  },
  {
   "cell_type": "markdown",
   "id": "c3daf06e-4b94-448e-b120-dc5bc8501a60",
   "metadata": {},
   "source": [
    "&emsp;&emsp;不难发现，上述过程其实就是根据单次模型训练结果的特征重要性对特征进行筛选。当然，我们也可以带入已经训练好的模型："
   ]
  },
  {
   "cell_type": "code",
   "execution_count": 138,
   "id": "ff29ac1d-6241-45ec-a408-8d5c2877d436",
   "metadata": {},
   "outputs": [],
   "source": [
    "tree_param = {'ccp_alpha': np.arange(0, 1, 0.1).tolist(),\n",
    "              'max_depth': np.arange(2, 8, 1).tolist(), \n",
    "              'min_samples_split': np.arange(2, 5, 1).tolist(), \n",
    "              'min_samples_leaf': np.arange(1, 4, 1).tolist(), \n",
    "              'max_leaf_nodes':np.arange(10,20, 1).tolist()}"
   ]
  },
  {
   "cell_type": "code",
   "execution_count": 139,
   "id": "3a83970d-69b1-4309-b091-6a187b5f0522",
   "metadata": {},
   "outputs": [
    {
     "data": {
      "text/plain": [
       "{'ccp_alpha': 0.0,\n",
       " 'max_depth': 5,\n",
       " 'max_leaf_nodes': 16,\n",
       " 'min_samples_leaf': 1,\n",
       " 'min_samples_split': 2}"
      ]
     },
     "execution_count": 139,
     "metadata": {},
     "output_type": "execute_result"
    }
   ],
   "source": [
    "# 实例化网格搜索评估器\n",
    "tree_search_SFM = GridSearchCV(estimator = tree_model,\n",
    "                               param_grid = tree_param,\n",
    "                               n_jobs = 12)\n",
    "\n",
    "# 只带入四个特征进行模型训练\n",
    "tree_search_SFM.fit(X_train_OE, y_train)\n",
    "\n",
    "tree_search_SFM.best_params_"
   ]
  },
  {
   "cell_type": "code",
   "execution_count": 140,
   "id": "0002bae3-8b2a-4542-97f6-6d4d279c768b",
   "metadata": {},
   "outputs": [],
   "source": [
    "SFM = SelectFromModel(tree_search_SFM.best_estimator_).fit(X_train_OE, y_train)"
   ]
  },
  {
   "cell_type": "code",
   "execution_count": 141,
   "id": "03f64094-4302-4f02-990b-ced32ec9937c",
   "metadata": {},
   "outputs": [
    {
     "data": {
      "text/plain": [
       "0.05263157894736842"
      ]
     },
     "execution_count": 141,
     "metadata": {},
     "output_type": "execute_result"
    }
   ],
   "source": [
    "SFM.threshold_"
   ]
  },
  {
   "cell_type": "code",
   "execution_count": 142,
   "id": "c82bb364-7a5c-48ca-bae8-9555619869f1",
   "metadata": {},
   "outputs": [
    {
     "data": {
      "text/plain": [
       "array(['InternetService', 'OnlineSecurity', 'Contract', 'tenure'],\n",
       "      dtype=object)"
      ]
     },
     "execution_count": 142,
     "metadata": {},
     "output_type": "execute_result"
    }
   ],
   "source": [
    "SFM.get_feature_names_out()"
   ]
  },
  {
   "cell_type": "code",
   "execution_count": 143,
   "id": "24e40670-dc1d-457c-ae15-34d4f046ba56",
   "metadata": {},
   "outputs": [
    {
     "data": {
      "text/plain": [
       "array([0.        , 0.        , 0.        , 0.        , 0.        ,\n",
       "       0.        , 0.07893377, 0.14119719, 0.        , 0.        ,\n",
       "       0.        , 0.        , 0.02460464, 0.55635763, 0.        ,\n",
       "       0.00930132, 0.11528793, 0.02646592, 0.0478516 ])"
      ]
     },
     "execution_count": 143,
     "metadata": {},
     "output_type": "execute_result"
    }
   ],
   "source": [
    "tree_search_SFM.best_estimator_.feature_importances_"
   ]
  },
  {
   "cell_type": "code",
   "execution_count": 144,
   "id": "a39a9c4f-4516-492e-8619-51e4f4006bb4",
   "metadata": {},
   "outputs": [
    {
     "data": {
      "text/plain": [
       "0.05263157894736842"
      ]
     },
     "execution_count": 144,
     "metadata": {},
     "output_type": "execute_result"
    }
   ],
   "source": [
    "tree_search_SFM.best_estimator_.feature_importances_.mean()"
   ]
  },
  {
   "cell_type": "code",
   "execution_count": 145,
   "id": "18edcfb4-0d4b-4eb2-a6f0-655e62de5896",
   "metadata": {},
   "outputs": [
    {
     "data": {
      "text/plain": [
       "array([False, False, False, False, False, False,  True,  True, False,\n",
       "       False, False, False, False,  True, False, False,  True, False,\n",
       "       False])"
      ]
     },
     "execution_count": 145,
     "metadata": {},
     "output_type": "execute_result"
    }
   ],
   "source": [
    "mask = tree_search_SFM.best_estimator_.feature_importances_ > SFM.threshold_\n",
    "mask"
   ]
  },
  {
   "cell_type": "code",
   "execution_count": 146,
   "id": "d49ab9fa-a6e5-4f44-adab-d99106a6a4d4",
   "metadata": {},
   "outputs": [
    {
     "data": {
      "text/plain": [
       "array(['InternetService', 'OnlineSecurity', 'Contract', 'tenure'],\n",
       "      dtype=object)"
      ]
     },
     "execution_count": 146,
     "metadata": {},
     "output_type": "execute_result"
    }
   ],
   "source": [
    "SFM.feature_names_in_[mask]"
   ]
  },
  {
   "cell_type": "markdown",
   "id": "47f4f666-ff6c-403d-8f64-887bae5f978d",
   "metadata": {},
   "source": [
    "&emsp;&emsp;该方法的基本思路和实现过程都不辅助，唯一需要注意的是这种方法其实是一种“启发式”的方法，也就是在阈值设置时，有的时候“没有理由”或者是“长期经验”得到的结果，往往也会有不错的效果，例如上述我们以特征重要性的均值为阈值，就筛选出了和RFECV类似的结果。除了均值外，还有类似中位数、或者0.1\\*均值等，都可以作为阈值来进行特征筛选。诚然，启发式方法并不适用于小样本内高精度的特征筛选，但是却是超大规模样本数据集确定特征筛选数量的方法之一，或者说是确定筛选特征数量的依据之一。"
   ]
  }
 ],
 "metadata": {
  "kernelspec": {
   "display_name": "Python 3 (ipykernel)",
   "language": "python",
   "name": "python3"
  },
  "language_info": {
   "codemirror_mode": {
    "name": "ipython",
    "version": 3
   },
   "file_extension": ".py",
   "mimetype": "text/x-python",
   "name": "python",
   "nbconvert_exporter": "python",
   "pygments_lexer": "ipython3",
   "version": "3.10.9"
  },
  "varInspector": {
   "cols": {
    "lenName": 16,
    "lenType": 16,
    "lenVar": 40
   },
   "kernels_config": {
    "python": {
     "delete_cmd_postfix": "",
     "delete_cmd_prefix": "del ",
     "library": "var_list.py",
     "varRefreshCmd": "print(var_dic_list())"
    },
    "r": {
     "delete_cmd_postfix": ") ",
     "delete_cmd_prefix": "rm(",
     "library": "var_list.r",
     "varRefreshCmd": "cat(var_dic_list()) "
    }
   },
   "types_to_exclude": [
    "module",
    "function",
    "builtin_function_or_method",
    "instance",
    "_Feature"
   ],
   "window_display": false
  }
 },
 "nbformat": 4,
 "nbformat_minor": 5
}
