{
 "cells": [
  {
   "cell_type": "markdown",
   "id": "d64e171b-a639-4c3f-85d8-3ed827c3bf61",
   "metadata": {},
   "source": [
    "# <center> LightGBM原理与实践"
   ]
  },
  {
   "cell_type": "markdown",
   "id": "841a35db-252b-4efd-969f-4b59a39dead1",
   "metadata": {},
   "source": [
    "- 高阶集成学习算法"
   ]
  },
  {
   "cell_type": "markdown",
   "id": "272dc855-6f3e-4638-9b28-0cdabec3e43f",
   "metadata": {},
   "source": [
    "&emsp;&emsp;在学习了一系列梯度提升树的改进算法后，接下来，我们将进入到更加前沿的集成学习算法中，即LightGBM算法（全称为Light Gradient Boosting Machine，以下简称LGBM算法）和CatBoost算法（全称为Categorical Boosting）的学习中。和XGBoost算法（以下简称XGB算法）类似，这两个算法也是GBDT的改进算法，并且由于这两个算法诞生时间更晚，因此相比之下，LGBM和CatBoost拥有更多功能上的优化，以便应对更加复杂的当前机器学习应用情况。例如，相比XGB，LGBM有更高效的计算效率和更低的内存占用，并且面对高维数据，LGBM算法拥有更好的过拟合特性，这使得在建模数据量日趋增加的今天，LGBM会更适合作为前期探索性建模的模型（Baseline模型），并且在具体建模效果上，对比XGB也是不遑多让。而CatBoost算法同样在训练效率上比XGB更快，并且更加自动化——在特征衍生和超参数优化已经成为机器学习模型训练标配的今天，CatBoost能够（一定程度上）实现对输入的特征进行自动特征衍生和对超参数进行自动超参数优化。不难看出，LGBM和CatBoost是诞生于新应用环境中的新型集成学习算法，而对LGBM和CatBoost算法的学习，也成为了当今算法工程师的必修课。"
   ]
  },
  {
   "cell_type": "markdown",
   "id": "9c2951d3-ec87-43fb-96fc-2e61782c7c0d",
   "metadata": {},
   "source": [
    "&emsp;&emsp;不过同样需要说明的是，尽管LGBM和CatBoost算法对比XGB有诸多方面的优化，但这并不代表这两种算法相比XGB具有全方位的效果优势。在真实的实战应用，XGB（甚至是随机森林）仍然具有非常高的实践价值，很多时候我们需要尝试多种不同类型的算法，才能获得一个更好的结果。并且，由RF、XGB、LGBM、CatBoost属于“强而不同”的算法，这会导致这些模型结果会非常适合进行更进一步的模型融合，以达到更好的效果，因此在大多数追求极致建模效果的场景下，这些模型都需要训练，并得到一个尽可能好的结果，然后再进行融合。"
   ]
  },
  {
   "cell_type": "markdown",
   "id": "b5778092-2514-4d5e-861f-60dc4ff8bb47",
   "metadata": {},
   "source": [
    "> 而相比其他集成学习算法，例如Bagging、AdaBoost等，RF、XGB、LGBM和CatB可以说是有全方位的效果优势，因此，除非是某些特殊场景，否则一般不会优先考虑使用这些算法。"
   ]
  },
  {
   "cell_type": "markdown",
   "id": "3b935350-a729-4691-b4e4-4793036e5ab8",
   "metadata": {},
   "source": [
    "- LightGBM算法简介"
   ]
  },
  {
   "cell_type": "markdown",
   "id": "a384dd21-63a2-447e-b9ff-77a3693cafd4",
   "metadata": {},
   "source": [
    "&emsp;&emsp;LightGBM 是一种高效的 Gradient Boosting 算法，由 Microsoft Research Asia 团队开发，早期为Microsoft内部处理海量高维数据的专用算法，并于2017年由Guolin Ke, Qi Meng, Thomas Finley等人通过论文形式正式发布。一经推出便引发业内极大关注，LGBM算法凭借其高效、快速、精准等特性，成为继XGB之后又一极具革命性的集成学习算法。        \n",
    "&emsp;&emsp;并且，和传统的GBDT相比，LGBM算法进行了非常多的模型训练层面的优化（主要是高效数值压缩方法），并且同时支持XGB中提出的直方图优化和正则化等方法，同时，作为新一代集成学习算法，LGBM支持分布式并行计算和GPU加速计算，并且能读取多种不同类型的数据进行训练，这使得LGBM在实际运行过程中更低的内存消耗、更快的计算效率和更加精准的预测结果。此外，从功能层面来看，LGBM和XGB类似，都支持多种损失函数，可以执行回归、分类和排序任务，并且内置了多种特征重要性评估方法，便于进行特征解释和筛选。        \n",
    "&emsp;&emsp;总的来说，从实践层面来看，LightGBM是一种预测精度位于第一梯队且功能多样的“次世代”集成学习算法，并且由于其出色的优化策略，使得其计算速度往往远超其他机器学习算法，根据算法提出者的论证，LightGBM在很多场景下的计算用时是GBDT的1/20，并且内存占用率极低。这使得LightGBM算法也是目前处理海量数据最为高效的机器学习算法。"
   ]
  },
  {
   "cell_type": "markdown",
   "id": "ba3153ae-2f55-4020-a952-d89d824eeed6",
   "metadata": {},
   "source": [
    "- LightGBM算法相关论文"
   ]
  },
  {
   "cell_type": "markdown",
   "id": "19dac5f4-738f-492d-b6a9-b972637e34dc",
   "metadata": {},
   "source": [
    "&emsp;&emsp;对于新兴机器学习算法，最权威的介绍材料毫无疑问就是提出者发布的相关论文，这里我们重点推荐开发团队在2017年提出LGBM原理论文以及2019年由Essam Al Daoud提出的算法性能对比论文，两篇论文介绍及地址如下："
   ]
  },
  {
   "cell_type": "markdown",
   "id": "a90829bf-1caf-4b86-b3d6-578b91c6e3b4",
   "metadata": {},
   "source": [
    "&emsp;&emsp;[LightGBM: A Highly Efficient Gradient Boosting Decision Tree (2017)](https://papers.nips.cc/paper/6907-lightgbm-a-highly-efficient-gradient-boosting-decision-tree)        \n",
    "&emsp;&emsp;作者：Guolin Ke, Qi Meng, Thomas Finley, Taifeng Wang, Wei Chen, Weidong Ma, Qiwei Ye, Tie-Yan Liu      \n",
    "&emsp;&emsp;该论文是 LightGBM 的最初论文，详细阐述了 LightGBM 算法的设计思想、技术特点和实验结果。\n",
    "\n",
    "&emsp;&emsp;[Comparison between XGBoost, LightGBM and CatBoost using a home credit dataset (2019)](https://publications.waset.org/10009954/comparison-between-xgboost-lightgbm-and-catboost-using-a-home-credit-dataset)      \n",
    "&emsp;&emsp;作者：Essam Al Daoud      \n",
    "&emsp;&emsp;该论文详细对比了LGBM、XGB和CatB三个模型在信用卡数据上的性能差异，并提出了不同模型的超参数优化基本思路。"
   ]
  },
  {
   "cell_type": "markdown",
   "id": "e7f10bba-5b04-48e7-a1f9-9be4b101acf7",
   "metadata": {},
   "source": [
    "在后续的LGBM算法原理讲解中，我们也将大量借鉴这些论文中的原理介绍相关内容和性能验证方法。"
   ]
  },
  {
   "cell_type": "markdown",
   "id": "1c0ed604-0301-4283-9ccb-6c5498f601e4",
   "metadata": {},
   "source": [
    "> 上述论文可通过点击课件中蓝色链接在线观看，或查看课件网盘中的PDF版本论文。"
   ]
  },
  {
   "cell_type": "markdown",
   "id": "6ff91fce-fab1-4d3f-89a1-68e5a016972d",
   "metadata": {},
   "source": [
    "- LightGBM官方文档与开源项目地址"
   ]
  },
  {
   "cell_type": "markdown",
   "id": "a45d204a-3fa6-4ceb-8e80-630566f44bb1",
   "metadata": {},
   "source": [
    "&emsp;&emsp;此外官方说明文档和Github项目说明也是必不可少的学习材料。对于LightGBM来说，论文中隐藏了大量细节，这些都需要我们通过查阅官方说明文档和项目源码来进行补充。因此在后续的教学过程中，我们也将大量参考或者回归到这些全文说明文档中进行讲解和介绍，具体地址如下："
   ]
  },
  {
   "cell_type": "markdown",
   "id": "95487958-652c-4eaa-a126-607aaaf50d4c",
   "metadata": {},
   "source": [
    "&emsp;&emsp;LightGBM的官方文档：https://lightgbm.readthedocs.io/en/v3.3.5/index.html\n",
    "\n",
    "&emsp;&emsp;LightGBM的GitHub地址：https://github.com/microsoft/LightGBM"
   ]
  },
  {
   "cell_type": "markdown",
   "id": "9bf870c9-169a-46d8-a473-86a4d7159557",
   "metadata": {},
   "source": [
    "最后，需要导入本节课程需要用到的第三方库："
   ]
  },
  {
   "cell_type": "code",
   "execution_count": 17,
   "id": "57c48e7b-9fbb-4a76-a73e-c9b2a8e90a23",
   "metadata": {
    "tags": []
   },
   "outputs": [],
   "source": [
    "# 科学计算模块\n",
    "import numpy as np\n",
    "import pandas as pd\n",
    "\n",
    "# 绘图模块\n",
    "import matplotlib as mpl\n",
    "import matplotlib.pyplot as plt\n",
    "\n",
    "# Scikit-Learn相关模块\n",
    "# 评估器类\n",
    "from sklearn.preprocessing import StandardScaler\n",
    "from sklearn.preprocessing import PolynomialFeatures\n",
    "from sklearn.linear_model import LogisticRegression\n",
    "from sklearn.pipeline import make_pipeline\n",
    "from sklearn.model_selection import GridSearchCV\n",
    "\n",
    "# 实用函数\n",
    "from sklearn.model_selection import train_test_split\n",
    "from sklearn.metrics import accuracy_score\n",
    "\n",
    "# 数据准备\n",
    "from sklearn.datasets import load_iris\n",
    "\n",
    "import lightgbm as lgb\n",
    "from lightgbm import LGBMClassifier,LGBMRegressor"
   ]
  },
  {
   "cell_type": "markdown",
   "id": "32f6c4d1-9432-4da7-b93c-a162c22f40b7",
   "metadata": {},
   "source": [
    "---"
   ]
  },
  {
   "cell_type": "markdown",
   "id": "7c1bbe28-a269-4ced-907d-8ab488a61feb",
   "metadata": {},
   "source": [
    "## <center>Ch5.LightGBM原生API使用与进阶"
   ]
  },
  {
   "cell_type": "markdown",
   "id": "a57e5f55-95e7-4ef4-8332-a65a1fee106d",
   "metadata": {
    "tags": []
   },
   "source": [
    "### 1.LGBM的原生API调用"
   ]
  },
  {
   "cell_type": "markdown",
   "id": "247551d6-1ad0-492a-8dc6-0ccfac62cbcf",
   "metadata": {},
   "source": [
    "&emsp;&emsp;当然，除了sklearn API调用外，我们还可以使用LGBM原生API进行模型训练。LGBM的原生API调用和XGB的原生API调用过程非常类似，一个最简单的流程如下：：        \n",
    "- **Step1.Data Interface**：借助.Dataset方式进行数据集封装；        \n",
    "- **Step2.Setting Parameters**：创建超参数字典，用于向模型传输超参数。若完全使用默认参数，则可设置空的字典作作为超参数列表对象；        \n",
    "- **Step3.Training**：通过.train的方式进行模型训练。        "
   ]
  },
  {
   "cell_type": "markdown",
   "id": "091b2dc8-6fba-4260-95f1-f266bf1b45f2",
   "metadata": {},
   "source": [
    "&emsp;&emsp;首先是数据集的创建："
   ]
  },
  {
   "cell_type": "code",
   "execution_count": 2,
   "id": "34d1c6e8-6a5b-40f0-b8b8-fdd22b5c54cd",
   "metadata": {
    "tags": []
   },
   "outputs": [],
   "source": [
    "# 读取数据\n",
    "iris = load_iris()\n",
    "data = pd.DataFrame(data= np.c_[iris['data'], iris['target']], columns= iris['feature_names'] + ['target'])"
   ]
  },
  {
   "cell_type": "code",
   "execution_count": 3,
   "id": "09083beb-fdca-4505-85f0-e4d3f25b6c75",
   "metadata": {
    "tags": []
   },
   "outputs": [
    {
     "data": {
      "text/html": [
       "<div>\n",
       "<style scoped>\n",
       "    .dataframe tbody tr th:only-of-type {\n",
       "        vertical-align: middle;\n",
       "    }\n",
       "\n",
       "    .dataframe tbody tr th {\n",
       "        vertical-align: top;\n",
       "    }\n",
       "\n",
       "    .dataframe thead th {\n",
       "        text-align: right;\n",
       "    }\n",
       "</style>\n",
       "<table border=\"1\" class=\"dataframe\">\n",
       "  <thead>\n",
       "    <tr style=\"text-align: right;\">\n",
       "      <th></th>\n",
       "      <th>sepal length (cm)</th>\n",
       "      <th>sepal width (cm)</th>\n",
       "      <th>petal length (cm)</th>\n",
       "      <th>petal width (cm)</th>\n",
       "      <th>target</th>\n",
       "    </tr>\n",
       "  </thead>\n",
       "  <tbody>\n",
       "    <tr>\n",
       "      <th>0</th>\n",
       "      <td>5.1</td>\n",
       "      <td>3.5</td>\n",
       "      <td>1.4</td>\n",
       "      <td>0.2</td>\n",
       "      <td>0.0</td>\n",
       "    </tr>\n",
       "    <tr>\n",
       "      <th>1</th>\n",
       "      <td>4.9</td>\n",
       "      <td>3.0</td>\n",
       "      <td>1.4</td>\n",
       "      <td>0.2</td>\n",
       "      <td>0.0</td>\n",
       "    </tr>\n",
       "    <tr>\n",
       "      <th>2</th>\n",
       "      <td>4.7</td>\n",
       "      <td>3.2</td>\n",
       "      <td>1.3</td>\n",
       "      <td>0.2</td>\n",
       "      <td>0.0</td>\n",
       "    </tr>\n",
       "    <tr>\n",
       "      <th>3</th>\n",
       "      <td>4.6</td>\n",
       "      <td>3.1</td>\n",
       "      <td>1.5</td>\n",
       "      <td>0.2</td>\n",
       "      <td>0.0</td>\n",
       "    </tr>\n",
       "    <tr>\n",
       "      <th>4</th>\n",
       "      <td>5.0</td>\n",
       "      <td>3.6</td>\n",
       "      <td>1.4</td>\n",
       "      <td>0.2</td>\n",
       "      <td>0.0</td>\n",
       "    </tr>\n",
       "  </tbody>\n",
       "</table>\n",
       "</div>"
      ],
      "text/plain": [
       "   sepal length (cm)  sepal width (cm)  petal length (cm)  petal width (cm)  \\\n",
       "0                5.1               3.5                1.4               0.2   \n",
       "1                4.9               3.0                1.4               0.2   \n",
       "2                4.7               3.2                1.3               0.2   \n",
       "3                4.6               3.1                1.5               0.2   \n",
       "4                5.0               3.6                1.4               0.2   \n",
       "\n",
       "   target  \n",
       "0     0.0  \n",
       "1     0.0  \n",
       "2     0.0  \n",
       "3     0.0  \n",
       "4     0.0  "
      ]
     },
     "execution_count": 3,
     "metadata": {},
     "output_type": "execute_result"
    }
   ],
   "source": [
    "data.head()"
   ]
  },
  {
   "cell_type": "code",
   "execution_count": 4,
   "id": "f88446e8-c250-44df-a391-483fad70ff02",
   "metadata": {
    "tags": []
   },
   "outputs": [
    {
     "data": {
      "text/plain": [
       "(150, 5)"
      ]
     },
     "execution_count": 4,
     "metadata": {},
     "output_type": "execute_result"
    }
   ],
   "source": [
    "data.shape"
   ]
  },
  {
   "cell_type": "code",
   "execution_count": 5,
   "id": "3f508767-ece0-4261-837a-98db85d0df7c",
   "metadata": {
    "tags": []
   },
   "outputs": [],
   "source": [
    "# 划分数据集\n",
    "X_train, X_test, y_train, y_test = train_test_split(data.drop(\"target\", axis=1), data[\"target\"], test_size=0.2)"
   ]
  },
  {
   "cell_type": "code",
   "execution_count": 6,
   "id": "f1428f3a-bf4b-4025-b050-d4f06d4d7ede",
   "metadata": {
    "tags": []
   },
   "outputs": [
    {
     "data": {
      "text/html": [
       "<div>\n",
       "<style scoped>\n",
       "    .dataframe tbody tr th:only-of-type {\n",
       "        vertical-align: middle;\n",
       "    }\n",
       "\n",
       "    .dataframe tbody tr th {\n",
       "        vertical-align: top;\n",
       "    }\n",
       "\n",
       "    .dataframe thead th {\n",
       "        text-align: right;\n",
       "    }\n",
       "</style>\n",
       "<table border=\"1\" class=\"dataframe\">\n",
       "  <thead>\n",
       "    <tr style=\"text-align: right;\">\n",
       "      <th></th>\n",
       "      <th>sepal length (cm)</th>\n",
       "      <th>sepal width (cm)</th>\n",
       "      <th>petal length (cm)</th>\n",
       "      <th>petal width (cm)</th>\n",
       "    </tr>\n",
       "  </thead>\n",
       "  <tbody>\n",
       "    <tr>\n",
       "      <th>149</th>\n",
       "      <td>5.9</td>\n",
       "      <td>3.0</td>\n",
       "      <td>5.1</td>\n",
       "      <td>1.8</td>\n",
       "    </tr>\n",
       "    <tr>\n",
       "      <th>44</th>\n",
       "      <td>5.1</td>\n",
       "      <td>3.8</td>\n",
       "      <td>1.9</td>\n",
       "      <td>0.4</td>\n",
       "    </tr>\n",
       "    <tr>\n",
       "      <th>112</th>\n",
       "      <td>6.8</td>\n",
       "      <td>3.0</td>\n",
       "      <td>5.5</td>\n",
       "      <td>2.1</td>\n",
       "    </tr>\n",
       "    <tr>\n",
       "      <th>60</th>\n",
       "      <td>5.0</td>\n",
       "      <td>2.0</td>\n",
       "      <td>3.5</td>\n",
       "      <td>1.0</td>\n",
       "    </tr>\n",
       "    <tr>\n",
       "      <th>138</th>\n",
       "      <td>6.0</td>\n",
       "      <td>3.0</td>\n",
       "      <td>4.8</td>\n",
       "      <td>1.8</td>\n",
       "    </tr>\n",
       "  </tbody>\n",
       "</table>\n",
       "</div>"
      ],
      "text/plain": [
       "     sepal length (cm)  sepal width (cm)  petal length (cm)  petal width (cm)\n",
       "149                5.9               3.0                5.1               1.8\n",
       "44                 5.1               3.8                1.9               0.4\n",
       "112                6.8               3.0                5.5               2.1\n",
       "60                 5.0               2.0                3.5               1.0\n",
       "138                6.0               3.0                4.8               1.8"
      ]
     },
     "execution_count": 6,
     "metadata": {},
     "output_type": "execute_result"
    }
   ],
   "source": [
    "X_train.head()"
   ]
  },
  {
   "cell_type": "code",
   "execution_count": 7,
   "id": "ebb6b362-a5ff-452d-a143-2a1e26dbe0ba",
   "metadata": {
    "tags": []
   },
   "outputs": [
    {
     "data": {
      "text/plain": [
       "149    2.0\n",
       "44     0.0\n",
       "112    2.0\n",
       "60     1.0\n",
       "138    2.0\n",
       "      ... \n",
       "63     1.0\n",
       "133    2.0\n",
       "71     1.0\n",
       "103    2.0\n",
       "28     0.0\n",
       "Name: target, Length: 120, dtype: float64"
      ]
     },
     "execution_count": 7,
     "metadata": {},
     "output_type": "execute_result"
    }
   ],
   "source": [
    "y_train"
   ]
  },
  {
   "cell_type": "code",
   "execution_count": 8,
   "id": "31744ef3-487a-46da-a882-ccf2d809571b",
   "metadata": {
    "tags": []
   },
   "outputs": [],
   "source": [
    "# 数据集创建\n",
    "train_data = lgb.Dataset(X_train, label=y_train)"
   ]
  },
  {
   "cell_type": "code",
   "execution_count": 9,
   "id": "3611ed47-810d-40c1-8822-5198eda87193",
   "metadata": {
    "tags": []
   },
   "outputs": [
    {
     "data": {
      "text/plain": [
       "lightgbm.basic.Dataset"
      ]
     },
     "execution_count": 9,
     "metadata": {},
     "output_type": "execute_result"
    }
   ],
   "source": [
    "type(train_data)"
   ]
  },
  {
   "cell_type": "markdown",
   "id": "2ec0af57-6cdc-4926-93ac-73453a2d48fe",
   "metadata": {},
   "source": [
    "然后创建超参数字典。这里我们若全部采用模型默认的超参数，只需要设置空字典即可："
   ]
  },
  {
   "cell_type": "code",
   "execution_count": 10,
   "id": "de5885a1-b2fc-490e-a06f-428e4c8a82a4",
   "metadata": {
    "tags": []
   },
   "outputs": [],
   "source": [
    "# 设置超参数字典\n",
    "param = {}"
   ]
  },
  {
   "cell_type": "markdown",
   "id": "2741a156-340d-4971-a4b6-058854ea48e4",
   "metadata": {},
   "source": [
    "不过这里因为鸢尾花数据是多分类问题，LGBM模型在默认情况下是回归类模型，因此需要通过超参数字典传输建模类型，即objective超参数取值为multiclass（目标为解决多分类问题），同时设置num_class取值为3，即3个类别的多分类问题。"
   ]
  },
  {
   "cell_type": "code",
   "execution_count": 11,
   "id": "b50206c7-34bf-46a4-9b01-93db321bcd18",
   "metadata": {
    "tags": []
   },
   "outputs": [],
   "source": [
    "param['objective'] = ['multiclass']\n",
    "param['num_class'] = [3]"
   ]
  },
  {
   "cell_type": "markdown",
   "id": "3a2501b9-1a1f-4751-bb37-b9be93b33ba9",
   "metadata": {},
   "source": [
    "> 更多LGBM超参数介绍，详见后续课程内容。"
   ]
  },
  {
   "cell_type": "markdown",
   "id": "075e3aaf-ed0f-4675-98ea-6c1920a1f6a8",
   "metadata": {},
   "source": [
    "然后进行训练："
   ]
  },
  {
   "cell_type": "code",
   "execution_count": 12,
   "id": "ff6d6b9f-7a2b-48d7-a77b-922794d605f6",
   "metadata": {
    "collapsed": true,
    "jupyter": {
     "outputs_hidden": true
    },
    "tags": []
   },
   "outputs": [
    {
     "name": "stdout",
     "output_type": "stream",
     "text": [
      "[LightGBM] [Warning] Found whitespace in feature_names, replace with underlines\n",
      "[LightGBM] [Warning] Auto-choosing col-wise multi-threading, the overhead of testing was 0.000293 seconds.\n",
      "You can set `force_col_wise=true` to remove the overhead.\n",
      "[LightGBM] [Info] Total Bins 91\n",
      "[LightGBM] [Info] Number of data points in the train set: 120, number of used features: 4\n",
      "[LightGBM] [Info] Start training from score -1.203973\n",
      "[LightGBM] [Info] Start training from score -0.980829\n",
      "[LightGBM] [Info] Start training from score -1.123930\n",
      "[LightGBM] [Warning] No further splits with positive gain, best gain: -inf\n",
      "[LightGBM] [Warning] No further splits with positive gain, best gain: -inf\n",
      "[LightGBM] [Warning] No further splits with positive gain, best gain: -inf\n",
      "[LightGBM] [Warning] No further splits with positive gain, best gain: -inf\n",
      "[LightGBM] [Warning] No further splits with positive gain, best gain: -inf\n",
      "[LightGBM] [Warning] No further splits with positive gain, best gain: -inf\n",
      "[LightGBM] [Warning] No further splits with positive gain, best gain: -inf\n",
      "[LightGBM] [Warning] No further splits with positive gain, best gain: -inf\n",
      "[LightGBM] [Warning] No further splits with positive gain, best gain: -inf\n",
      "[LightGBM] [Warning] No further splits with positive gain, best gain: -inf\n",
      "[LightGBM] [Warning] No further splits with positive gain, best gain: -inf\n",
      "[LightGBM] [Warning] No further splits with positive gain, best gain: -inf\n",
      "[LightGBM] [Warning] No further splits with positive gain, best gain: -inf\n",
      "[LightGBM] [Warning] No further splits with positive gain, best gain: -inf\n",
      "[LightGBM] [Warning] No further splits with positive gain, best gain: -inf\n",
      "[LightGBM] [Warning] No further splits with positive gain, best gain: -inf\n",
      "[LightGBM] [Warning] No further splits with positive gain, best gain: -inf\n",
      "[LightGBM] [Warning] No further splits with positive gain, best gain: -inf\n",
      "[LightGBM] [Warning] No further splits with positive gain, best gain: -inf\n",
      "[LightGBM] [Warning] No further splits with positive gain, best gain: -inf\n",
      "[LightGBM] [Warning] No further splits with positive gain, best gain: -inf\n",
      "[LightGBM] [Warning] No further splits with positive gain, best gain: -inf\n",
      "[LightGBM] [Warning] No further splits with positive gain, best gain: -inf\n",
      "[LightGBM] [Warning] No further splits with positive gain, best gain: -inf\n",
      "[LightGBM] [Warning] No further splits with positive gain, best gain: -inf\n",
      "[LightGBM] [Warning] No further splits with positive gain, best gain: -inf\n",
      "[LightGBM] [Warning] No further splits with positive gain, best gain: -inf\n",
      "[LightGBM] [Warning] No further splits with positive gain, best gain: -inf\n",
      "[LightGBM] [Warning] No further splits with positive gain, best gain: -inf\n",
      "[LightGBM] [Warning] No further splits with positive gain, best gain: -inf\n",
      "[LightGBM] [Warning] No further splits with positive gain, best gain: -inf\n",
      "[LightGBM] [Warning] No further splits with positive gain, best gain: -inf\n",
      "[LightGBM] [Warning] No further splits with positive gain, best gain: -inf\n",
      "[LightGBM] [Warning] No further splits with positive gain, best gain: -inf\n",
      "[LightGBM] [Warning] No further splits with positive gain, best gain: -inf\n",
      "[LightGBM] [Warning] No further splits with positive gain, best gain: -inf\n",
      "[LightGBM] [Warning] No further splits with positive gain, best gain: -inf\n",
      "[LightGBM] [Warning] No further splits with positive gain, best gain: -inf\n",
      "[LightGBM] [Warning] No further splits with positive gain, best gain: -inf\n",
      "[LightGBM] [Warning] No further splits with positive gain, best gain: -inf\n",
      "[LightGBM] [Warning] No further splits with positive gain, best gain: -inf\n",
      "[LightGBM] [Warning] No further splits with positive gain, best gain: -inf\n",
      "[LightGBM] [Warning] No further splits with positive gain, best gain: -inf\n",
      "[LightGBM] [Warning] No further splits with positive gain, best gain: -inf\n",
      "[LightGBM] [Warning] No further splits with positive gain, best gain: -inf\n",
      "[LightGBM] [Warning] No further splits with positive gain, best gain: -inf\n",
      "[LightGBM] [Warning] No further splits with positive gain, best gain: -inf\n",
      "[LightGBM] [Warning] No further splits with positive gain, best gain: -inf\n",
      "[LightGBM] [Warning] No further splits with positive gain, best gain: -inf\n",
      "[LightGBM] [Warning] No further splits with positive gain, best gain: -inf\n",
      "[LightGBM] [Warning] No further splits with positive gain, best gain: -inf\n",
      "[LightGBM] [Warning] No further splits with positive gain, best gain: -inf\n",
      "[LightGBM] [Warning] No further splits with positive gain, best gain: -inf\n",
      "[LightGBM] [Warning] No further splits with positive gain, best gain: -inf\n",
      "[LightGBM] [Warning] No further splits with positive gain, best gain: -inf\n",
      "[LightGBM] [Warning] No further splits with positive gain, best gain: -inf\n",
      "[LightGBM] [Warning] No further splits with positive gain, best gain: -inf\n",
      "[LightGBM] [Warning] No further splits with positive gain, best gain: -inf\n",
      "[LightGBM] [Warning] No further splits with positive gain, best gain: -inf\n",
      "[LightGBM] [Warning] No further splits with positive gain, best gain: -inf\n",
      "[LightGBM] [Warning] No further splits with positive gain, best gain: -inf\n",
      "[LightGBM] [Warning] No further splits with positive gain, best gain: -inf\n",
      "[LightGBM] [Warning] No further splits with positive gain, best gain: -inf\n",
      "[LightGBM] [Warning] No further splits with positive gain, best gain: -inf\n",
      "[LightGBM] [Warning] No further splits with positive gain, best gain: -inf\n",
      "[LightGBM] [Warning] No further splits with positive gain, best gain: -inf\n",
      "[LightGBM] [Warning] No further splits with positive gain, best gain: -inf\n",
      "[LightGBM] [Warning] No further splits with positive gain, best gain: -inf\n",
      "[LightGBM] [Warning] No further splits with positive gain, best gain: -inf\n",
      "[LightGBM] [Warning] No further splits with positive gain, best gain: -inf\n",
      "[LightGBM] [Warning] No further splits with positive gain, best gain: -inf\n",
      "[LightGBM] [Warning] No further splits with positive gain, best gain: -inf\n",
      "[LightGBM] [Warning] No further splits with positive gain, best gain: -inf\n",
      "[LightGBM] [Warning] No further splits with positive gain, best gain: -inf\n",
      "[LightGBM] [Warning] No further splits with positive gain, best gain: -inf\n",
      "[LightGBM] [Warning] No further splits with positive gain, best gain: -inf\n",
      "[LightGBM] [Warning] No further splits with positive gain, best gain: -inf\n",
      "[LightGBM] [Warning] No further splits with positive gain, best gain: -inf\n",
      "[LightGBM] [Warning] No further splits with positive gain, best gain: -inf\n",
      "[LightGBM] [Warning] No further splits with positive gain, best gain: -inf\n",
      "[LightGBM] [Warning] No further splits with positive gain, best gain: -inf\n",
      "[LightGBM] [Warning] No further splits with positive gain, best gain: -inf\n",
      "[LightGBM] [Warning] No further splits with positive gain, best gain: -inf\n",
      "[LightGBM] [Warning] No further splits with positive gain, best gain: -inf\n",
      "[LightGBM] [Warning] No further splits with positive gain, best gain: -inf\n",
      "[LightGBM] [Warning] No further splits with positive gain, best gain: -inf\n",
      "[LightGBM] [Warning] No further splits with positive gain, best gain: -inf\n",
      "[LightGBM] [Warning] No further splits with positive gain, best gain: -inf\n",
      "[LightGBM] [Warning] No further splits with positive gain, best gain: -inf\n",
      "[LightGBM] [Warning] No further splits with positive gain, best gain: -inf\n",
      "[LightGBM] [Warning] No further splits with positive gain, best gain: -inf\n",
      "[LightGBM] [Warning] No further splits with positive gain, best gain: -inf\n",
      "[LightGBM] [Warning] No further splits with positive gain, best gain: -inf\n",
      "[LightGBM] [Warning] No further splits with positive gain, best gain: -inf\n",
      "[LightGBM] [Warning] No further splits with positive gain, best gain: -inf\n",
      "[LightGBM] [Warning] No further splits with positive gain, best gain: -inf\n",
      "[LightGBM] [Warning] No further splits with positive gain, best gain: -inf\n",
      "[LightGBM] [Warning] No further splits with positive gain, best gain: -inf\n",
      "[LightGBM] [Warning] No further splits with positive gain, best gain: -inf\n",
      "[LightGBM] [Warning] No further splits with positive gain, best gain: -inf\n",
      "[LightGBM] [Warning] No further splits with positive gain, best gain: -inf\n",
      "[LightGBM] [Warning] No further splits with positive gain, best gain: -inf\n",
      "[LightGBM] [Warning] No further splits with positive gain, best gain: -inf\n",
      "[LightGBM] [Warning] No further splits with positive gain, best gain: -inf\n",
      "[LightGBM] [Warning] No further splits with positive gain, best gain: -inf\n",
      "[LightGBM] [Warning] No further splits with positive gain, best gain: -inf\n",
      "[LightGBM] [Warning] No further splits with positive gain, best gain: -inf\n",
      "[LightGBM] [Warning] No further splits with positive gain, best gain: -inf\n",
      "[LightGBM] [Warning] No further splits with positive gain, best gain: -inf\n",
      "[LightGBM] [Warning] No further splits with positive gain, best gain: -inf\n",
      "[LightGBM] [Warning] No further splits with positive gain, best gain: -inf\n",
      "[LightGBM] [Warning] No further splits with positive gain, best gain: -inf\n",
      "[LightGBM] [Warning] No further splits with positive gain, best gain: -inf\n",
      "[LightGBM] [Warning] No further splits with positive gain, best gain: -inf\n",
      "[LightGBM] [Warning] No further splits with positive gain, best gain: -inf\n",
      "[LightGBM] [Warning] No further splits with positive gain, best gain: -inf\n",
      "[LightGBM] [Warning] No further splits with positive gain, best gain: -inf\n",
      "[LightGBM] [Warning] No further splits with positive gain, best gain: -inf\n",
      "[LightGBM] [Warning] No further splits with positive gain, best gain: -inf\n",
      "[LightGBM] [Warning] No further splits with positive gain, best gain: -inf\n",
      "[LightGBM] [Warning] No further splits with positive gain, best gain: -inf\n",
      "[LightGBM] [Warning] No further splits with positive gain, best gain: -inf\n",
      "[LightGBM] [Warning] No further splits with positive gain, best gain: -inf\n",
      "[LightGBM] [Warning] No further splits with positive gain, best gain: -inf\n",
      "[LightGBM] [Warning] No further splits with positive gain, best gain: -inf\n",
      "[LightGBM] [Warning] No further splits with positive gain, best gain: -inf\n",
      "[LightGBM] [Warning] No further splits with positive gain, best gain: -inf\n",
      "[LightGBM] [Warning] No further splits with positive gain, best gain: -inf\n",
      "[LightGBM] [Warning] No further splits with positive gain, best gain: -inf\n",
      "[LightGBM] [Warning] No further splits with positive gain, best gain: -inf\n",
      "[LightGBM] [Warning] No further splits with positive gain, best gain: -inf\n",
      "[LightGBM] [Warning] No further splits with positive gain, best gain: -inf\n",
      "[LightGBM] [Warning] No further splits with positive gain, best gain: -inf\n",
      "[LightGBM] [Warning] No further splits with positive gain, best gain: -inf\n",
      "[LightGBM] [Warning] No further splits with positive gain, best gain: -inf\n",
      "[LightGBM] [Warning] No further splits with positive gain, best gain: -inf\n",
      "[LightGBM] [Warning] No further splits with positive gain, best gain: -inf\n",
      "[LightGBM] [Warning] No further splits with positive gain, best gain: -inf\n",
      "[LightGBM] [Warning] No further splits with positive gain, best gain: -inf\n",
      "[LightGBM] [Warning] No further splits with positive gain, best gain: -inf\n",
      "[LightGBM] [Warning] No further splits with positive gain, best gain: -inf\n",
      "[LightGBM] [Warning] No further splits with positive gain, best gain: -inf\n",
      "[LightGBM] [Warning] No further splits with positive gain, best gain: -inf\n",
      "[LightGBM] [Warning] No further splits with positive gain, best gain: -inf\n",
      "[LightGBM] [Warning] No further splits with positive gain, best gain: -inf\n",
      "[LightGBM] [Warning] No further splits with positive gain, best gain: -inf\n",
      "[LightGBM] [Warning] No further splits with positive gain, best gain: -inf\n",
      "[LightGBM] [Warning] No further splits with positive gain, best gain: -inf\n",
      "[LightGBM] [Warning] No further splits with positive gain, best gain: -inf\n",
      "[LightGBM] [Warning] No further splits with positive gain, best gain: -inf\n",
      "[LightGBM] [Warning] No further splits with positive gain, best gain: -inf\n",
      "[LightGBM] [Warning] No further splits with positive gain, best gain: -inf\n",
      "[LightGBM] [Warning] No further splits with positive gain, best gain: -inf\n",
      "[LightGBM] [Warning] No further splits with positive gain, best gain: -inf\n",
      "[LightGBM] [Warning] No further splits with positive gain, best gain: -inf\n",
      "[LightGBM] [Warning] No further splits with positive gain, best gain: -inf\n",
      "[LightGBM] [Warning] No further splits with positive gain, best gain: -inf\n",
      "[LightGBM] [Warning] No further splits with positive gain, best gain: -inf\n",
      "[LightGBM] [Warning] No further splits with positive gain, best gain: -inf\n",
      "[LightGBM] [Warning] No further splits with positive gain, best gain: -inf\n",
      "[LightGBM] [Warning] No further splits with positive gain, best gain: -inf\n",
      "[LightGBM] [Warning] No further splits with positive gain, best gain: -inf\n",
      "[LightGBM] [Warning] No further splits with positive gain, best gain: -inf\n",
      "[LightGBM] [Warning] No further splits with positive gain, best gain: -inf\n",
      "[LightGBM] [Warning] No further splits with positive gain, best gain: -inf\n",
      "[LightGBM] [Warning] No further splits with positive gain, best gain: -inf\n",
      "[LightGBM] [Warning] No further splits with positive gain, best gain: -inf\n",
      "[LightGBM] [Warning] No further splits with positive gain, best gain: -inf\n",
      "[LightGBM] [Warning] No further splits with positive gain, best gain: -inf\n",
      "[LightGBM] [Warning] No further splits with positive gain, best gain: -inf\n",
      "[LightGBM] [Warning] No further splits with positive gain, best gain: -inf\n",
      "[LightGBM] [Warning] No further splits with positive gain, best gain: -inf\n",
      "[LightGBM] [Warning] No further splits with positive gain, best gain: -inf\n",
      "[LightGBM] [Warning] No further splits with positive gain, best gain: -inf\n",
      "[LightGBM] [Warning] No further splits with positive gain, best gain: -inf\n",
      "[LightGBM] [Warning] No further splits with positive gain, best gain: -inf\n",
      "[LightGBM] [Warning] No further splits with positive gain, best gain: -inf\n",
      "[LightGBM] [Warning] No further splits with positive gain, best gain: -inf\n",
      "[LightGBM] [Warning] No further splits with positive gain, best gain: -inf\n",
      "[LightGBM] [Warning] No further splits with positive gain, best gain: -inf\n",
      "[LightGBM] [Warning] No further splits with positive gain, best gain: -inf\n",
      "[LightGBM] [Warning] No further splits with positive gain, best gain: -inf\n",
      "[LightGBM] [Warning] No further splits with positive gain, best gain: -inf\n",
      "[LightGBM] [Warning] No further splits with positive gain, best gain: -inf\n",
      "[LightGBM] [Warning] No further splits with positive gain, best gain: -inf\n",
      "[LightGBM] [Warning] No further splits with positive gain, best gain: -inf\n",
      "[LightGBM] [Warning] No further splits with positive gain, best gain: -inf\n",
      "[LightGBM] [Warning] No further splits with positive gain, best gain: -inf\n",
      "[LightGBM] [Warning] No further splits with positive gain, best gain: -inf\n",
      "[LightGBM] [Warning] No further splits with positive gain, best gain: -inf\n",
      "[LightGBM] [Warning] No further splits with positive gain, best gain: -inf\n",
      "[LightGBM] [Warning] No further splits with positive gain, best gain: -inf\n",
      "[LightGBM] [Warning] No further splits with positive gain, best gain: -inf\n",
      "[LightGBM] [Warning] No further splits with positive gain, best gain: -inf\n",
      "[LightGBM] [Warning] No further splits with positive gain, best gain: -inf\n",
      "[LightGBM] [Warning] No further splits with positive gain, best gain: -inf\n",
      "[LightGBM] [Warning] No further splits with positive gain, best gain: -inf\n",
      "[LightGBM] [Warning] No further splits with positive gain, best gain: -inf\n",
      "[LightGBM] [Warning] No further splits with positive gain, best gain: -inf\n",
      "[LightGBM] [Warning] No further splits with positive gain, best gain: -inf\n",
      "[LightGBM] [Warning] No further splits with positive gain, best gain: -inf\n",
      "[LightGBM] [Warning] No further splits with positive gain, best gain: -inf\n",
      "[LightGBM] [Warning] No further splits with positive gain, best gain: -inf\n",
      "[LightGBM] [Warning] No further splits with positive gain, best gain: -inf\n",
      "[LightGBM] [Warning] No further splits with positive gain, best gain: -inf\n",
      "[LightGBM] [Warning] No further splits with positive gain, best gain: -inf\n",
      "[LightGBM] [Warning] No further splits with positive gain, best gain: -inf\n",
      "[LightGBM] [Warning] No further splits with positive gain, best gain: -inf\n",
      "[LightGBM] [Warning] No further splits with positive gain, best gain: -inf\n",
      "[LightGBM] [Warning] No further splits with positive gain, best gain: -inf\n",
      "[LightGBM] [Warning] No further splits with positive gain, best gain: -inf\n",
      "[LightGBM] [Warning] No further splits with positive gain, best gain: -inf\n",
      "[LightGBM] [Warning] No further splits with positive gain, best gain: -inf\n",
      "[LightGBM] [Warning] No further splits with positive gain, best gain: -inf\n",
      "[LightGBM] [Warning] No further splits with positive gain, best gain: -inf\n",
      "[LightGBM] [Warning] No further splits with positive gain, best gain: -inf\n",
      "[LightGBM] [Warning] No further splits with positive gain, best gain: -inf\n",
      "[LightGBM] [Warning] No further splits with positive gain, best gain: -inf\n",
      "[LightGBM] [Warning] No further splits with positive gain, best gain: -inf\n",
      "[LightGBM] [Warning] No further splits with positive gain, best gain: -inf\n",
      "[LightGBM] [Warning] No further splits with positive gain, best gain: -inf\n",
      "[LightGBM] [Warning] No further splits with positive gain, best gain: -inf\n",
      "[LightGBM] [Warning] No further splits with positive gain, best gain: -inf\n",
      "[LightGBM] [Warning] No further splits with positive gain, best gain: -inf\n",
      "[LightGBM] [Warning] No further splits with positive gain, best gain: -inf\n",
      "[LightGBM] [Warning] No further splits with positive gain, best gain: -inf\n",
      "[LightGBM] [Warning] No further splits with positive gain, best gain: -inf\n",
      "[LightGBM] [Warning] No further splits with positive gain, best gain: -inf\n",
      "[LightGBM] [Warning] No further splits with positive gain, best gain: -inf\n",
      "[LightGBM] [Warning] No further splits with positive gain, best gain: -inf\n",
      "[LightGBM] [Warning] No further splits with positive gain, best gain: -inf\n",
      "[LightGBM] [Warning] No further splits with positive gain, best gain: -inf\n",
      "[LightGBM] [Warning] No further splits with positive gain, best gain: -inf\n",
      "[LightGBM] [Warning] No further splits with positive gain, best gain: -inf\n",
      "[LightGBM] [Warning] No further splits with positive gain, best gain: -inf\n",
      "[LightGBM] [Warning] No further splits with positive gain, best gain: -inf\n",
      "[LightGBM] [Warning] No further splits with positive gain, best gain: -inf\n",
      "[LightGBM] [Warning] No further splits with positive gain, best gain: -inf\n",
      "[LightGBM] [Warning] No further splits with positive gain, best gain: -inf\n",
      "[LightGBM] [Warning] No further splits with positive gain, best gain: -inf\n",
      "[LightGBM] [Warning] No further splits with positive gain, best gain: -inf\n",
      "[LightGBM] [Warning] No further splits with positive gain, best gain: -inf\n",
      "[LightGBM] [Warning] No further splits with positive gain, best gain: -inf\n",
      "[LightGBM] [Warning] No further splits with positive gain, best gain: -inf\n",
      "[LightGBM] [Warning] No further splits with positive gain, best gain: -inf\n",
      "[LightGBM] [Warning] No further splits with positive gain, best gain: -inf\n",
      "[LightGBM] [Warning] No further splits with positive gain, best gain: -inf\n",
      "[LightGBM] [Warning] No further splits with positive gain, best gain: -inf\n",
      "[LightGBM] [Warning] No further splits with positive gain, best gain: -inf\n",
      "[LightGBM] [Warning] No further splits with positive gain, best gain: -inf\n",
      "[LightGBM] [Warning] No further splits with positive gain, best gain: -inf\n",
      "[LightGBM] [Warning] No further splits with positive gain, best gain: -inf\n",
      "[LightGBM] [Warning] No further splits with positive gain, best gain: -inf\n",
      "[LightGBM] [Warning] No further splits with positive gain, best gain: -inf\n",
      "[LightGBM] [Warning] No further splits with positive gain, best gain: -inf\n",
      "[LightGBM] [Warning] No further splits with positive gain, best gain: -inf\n",
      "[LightGBM] [Warning] No further splits with positive gain, best gain: -inf\n",
      "[LightGBM] [Warning] No further splits with positive gain, best gain: -inf\n",
      "[LightGBM] [Warning] No further splits with positive gain, best gain: -inf\n",
      "[LightGBM] [Warning] No further splits with positive gain, best gain: -inf\n",
      "[LightGBM] [Warning] No further splits with positive gain, best gain: -inf\n",
      "[LightGBM] [Warning] No further splits with positive gain, best gain: -inf\n",
      "[LightGBM] [Warning] No further splits with positive gain, best gain: -inf\n",
      "[LightGBM] [Warning] No further splits with positive gain, best gain: -inf\n",
      "[LightGBM] [Warning] No further splits with positive gain, best gain: -inf\n",
      "[LightGBM] [Warning] No further splits with positive gain, best gain: -inf\n",
      "[LightGBM] [Warning] No further splits with positive gain, best gain: -inf\n",
      "[LightGBM] [Warning] No further splits with positive gain, best gain: -inf\n",
      "[LightGBM] [Warning] No further splits with positive gain, best gain: -inf\n",
      "[LightGBM] [Warning] No further splits with positive gain, best gain: -inf\n",
      "[LightGBM] [Warning] No further splits with positive gain, best gain: -inf\n",
      "[LightGBM] [Warning] No further splits with positive gain, best gain: -inf\n",
      "[LightGBM] [Warning] No further splits with positive gain, best gain: -inf\n",
      "[LightGBM] [Warning] No further splits with positive gain, best gain: -inf\n",
      "[LightGBM] [Warning] No further splits with positive gain, best gain: -inf\n",
      "[LightGBM] [Warning] No further splits with positive gain, best gain: -inf\n",
      "[LightGBM] [Warning] No further splits with positive gain, best gain: -inf\n",
      "[LightGBM] [Warning] No further splits with positive gain, best gain: -inf\n",
      "[LightGBM] [Warning] No further splits with positive gain, best gain: -inf\n",
      "[LightGBM] [Warning] No further splits with positive gain, best gain: -inf\n",
      "[LightGBM] [Warning] No further splits with positive gain, best gain: -inf\n",
      "[LightGBM] [Warning] No further splits with positive gain, best gain: -inf\n",
      "[LightGBM] [Warning] No further splits with positive gain, best gain: -inf\n",
      "[LightGBM] [Warning] No further splits with positive gain, best gain: -inf\n",
      "[LightGBM] [Warning] No further splits with positive gain, best gain: -inf\n",
      "[LightGBM] [Warning] No further splits with positive gain, best gain: -inf\n",
      "[LightGBM] [Warning] No further splits with positive gain, best gain: -inf\n",
      "[LightGBM] [Warning] No further splits with positive gain, best gain: -inf\n",
      "[LightGBM] [Warning] No further splits with positive gain, best gain: -inf\n",
      "[LightGBM] [Warning] No further splits with positive gain, best gain: -inf\n",
      "[LightGBM] [Warning] No further splits with positive gain, best gain: -inf\n",
      "[LightGBM] [Warning] No further splits with positive gain, best gain: -inf\n",
      "[LightGBM] [Warning] No further splits with positive gain, best gain: -inf\n",
      "[LightGBM] [Warning] No further splits with positive gain, best gain: -inf\n",
      "[LightGBM] [Warning] No further splits with positive gain, best gain: -inf\n",
      "[LightGBM] [Warning] No further splits with positive gain, best gain: -inf\n",
      "[LightGBM] [Warning] No further splits with positive gain, best gain: -inf\n",
      "[LightGBM] [Warning] No further splits with positive gain, best gain: -inf\n",
      "[LightGBM] [Warning] No further splits with positive gain, best gain: -inf\n",
      "[LightGBM] [Warning] No further splits with positive gain, best gain: -inf\n"
     ]
    }
   ],
   "source": [
    "bst = lgb.train(param, train_data)"
   ]
  },
  {
   "cell_type": "markdown",
   "id": "4ebb91ee-c130-4f5f-ac56-04c36963e7ab",
   "metadata": {},
   "source": [
    "> 极简流程只需要设置输入数据和超参数字典，其实也是因为lgb.train函数只有这两个必选的参数。"
   ]
  },
  {
   "cell_type": "code",
   "execution_count": 13,
   "id": "88af04bb-6137-4e00-93a9-9036e4737eac",
   "metadata": {
    "collapsed": true,
    "jupyter": {
     "outputs_hidden": true
    },
    "tags": []
   },
   "outputs": [
    {
     "data": {
      "text/plain": [
       "\u001b[1;31mSignature:\u001b[0m\n",
       "\u001b[0mlgb\u001b[0m\u001b[1;33m.\u001b[0m\u001b[0mtrain\u001b[0m\u001b[1;33m(\u001b[0m\u001b[1;33m\n",
       "\u001b[0m    \u001b[0mparams\u001b[0m\u001b[1;33m:\u001b[0m \u001b[0mDict\u001b[0m\u001b[1;33m[\u001b[0m\u001b[0mstr\u001b[0m\u001b[1;33m,\u001b[0m \u001b[0mAny\u001b[0m\u001b[1;33m]\u001b[0m\u001b[1;33m,\u001b[0m\u001b[1;33m\n",
       "\u001b[0m    \u001b[0mtrain_set\u001b[0m\u001b[1;33m:\u001b[0m \u001b[0mlightgbm\u001b[0m\u001b[1;33m.\u001b[0m\u001b[0mbasic\u001b[0m\u001b[1;33m.\u001b[0m\u001b[0mDataset\u001b[0m\u001b[1;33m,\u001b[0m\u001b[1;33m\n",
       "\u001b[0m    \u001b[0mnum_boost_round\u001b[0m\u001b[1;33m:\u001b[0m \u001b[0mint\u001b[0m \u001b[1;33m=\u001b[0m \u001b[1;36m100\u001b[0m\u001b[1;33m,\u001b[0m\u001b[1;33m\n",
       "\u001b[0m    \u001b[0mvalid_sets\u001b[0m\u001b[1;33m:\u001b[0m \u001b[0mOptional\u001b[0m\u001b[1;33m[\u001b[0m\u001b[0mList\u001b[0m\u001b[1;33m[\u001b[0m\u001b[0mlightgbm\u001b[0m\u001b[1;33m.\u001b[0m\u001b[0mbasic\u001b[0m\u001b[1;33m.\u001b[0m\u001b[0mDataset\u001b[0m\u001b[1;33m]\u001b[0m\u001b[1;33m]\u001b[0m \u001b[1;33m=\u001b[0m \u001b[1;32mNone\u001b[0m\u001b[1;33m,\u001b[0m\u001b[1;33m\n",
       "\u001b[0m    \u001b[0mvalid_names\u001b[0m\u001b[1;33m:\u001b[0m \u001b[0mOptional\u001b[0m\u001b[1;33m[\u001b[0m\u001b[0mList\u001b[0m\u001b[1;33m[\u001b[0m\u001b[0mstr\u001b[0m\u001b[1;33m]\u001b[0m\u001b[1;33m]\u001b[0m \u001b[1;33m=\u001b[0m \u001b[1;32mNone\u001b[0m\u001b[1;33m,\u001b[0m\u001b[1;33m\n",
       "\u001b[0m    \u001b[0mfobj\u001b[0m\u001b[1;33m:\u001b[0m \u001b[0mOptional\u001b[0m\u001b[1;33m[\u001b[0m\u001b[0mCallable\u001b[0m\u001b[1;33m[\u001b[0m\u001b[1;33m[\u001b[0m\u001b[0mUnion\u001b[0m\u001b[1;33m[\u001b[0m\u001b[0mList\u001b[0m\u001b[1;33m,\u001b[0m \u001b[0mnumpy\u001b[0m\u001b[1;33m.\u001b[0m\u001b[0mndarray\u001b[0m\u001b[1;33m]\u001b[0m\u001b[1;33m,\u001b[0m \u001b[0mlightgbm\u001b[0m\u001b[1;33m.\u001b[0m\u001b[0mbasic\u001b[0m\u001b[1;33m.\u001b[0m\u001b[0mDataset\u001b[0m\u001b[1;33m]\u001b[0m\u001b[1;33m,\u001b[0m \u001b[0mTuple\u001b[0m\u001b[1;33m[\u001b[0m\u001b[0mUnion\u001b[0m\u001b[1;33m[\u001b[0m\u001b[0mList\u001b[0m\u001b[1;33m,\u001b[0m \u001b[0mnumpy\u001b[0m\u001b[1;33m.\u001b[0m\u001b[0mndarray\u001b[0m\u001b[1;33m]\u001b[0m\u001b[1;33m,\u001b[0m \u001b[0mUnion\u001b[0m\u001b[1;33m[\u001b[0m\u001b[0mList\u001b[0m\u001b[1;33m,\u001b[0m \u001b[0mnumpy\u001b[0m\u001b[1;33m.\u001b[0m\u001b[0mndarray\u001b[0m\u001b[1;33m]\u001b[0m\u001b[1;33m]\u001b[0m\u001b[1;33m]\u001b[0m\u001b[1;33m]\u001b[0m \u001b[1;33m=\u001b[0m \u001b[1;32mNone\u001b[0m\u001b[1;33m,\u001b[0m\u001b[1;33m\n",
       "\u001b[0m    \u001b[0mfeval\u001b[0m\u001b[1;33m:\u001b[0m \u001b[0mUnion\u001b[0m\u001b[1;33m[\u001b[0m\u001b[0mCallable\u001b[0m\u001b[1;33m[\u001b[0m\u001b[1;33m[\u001b[0m\u001b[0mUnion\u001b[0m\u001b[1;33m[\u001b[0m\u001b[0mList\u001b[0m\u001b[1;33m,\u001b[0m \u001b[0mnumpy\u001b[0m\u001b[1;33m.\u001b[0m\u001b[0mndarray\u001b[0m\u001b[1;33m]\u001b[0m\u001b[1;33m,\u001b[0m \u001b[0mlightgbm\u001b[0m\u001b[1;33m.\u001b[0m\u001b[0mbasic\u001b[0m\u001b[1;33m.\u001b[0m\u001b[0mDataset\u001b[0m\u001b[1;33m]\u001b[0m\u001b[1;33m,\u001b[0m \u001b[0mTuple\u001b[0m\u001b[1;33m[\u001b[0m\u001b[0mstr\u001b[0m\u001b[1;33m,\u001b[0m \u001b[0mfloat\u001b[0m\u001b[1;33m,\u001b[0m \u001b[0mbool\u001b[0m\u001b[1;33m]\u001b[0m\u001b[1;33m]\u001b[0m\u001b[1;33m,\u001b[0m \u001b[0mList\u001b[0m\u001b[1;33m[\u001b[0m\u001b[0mCallable\u001b[0m\u001b[1;33m[\u001b[0m\u001b[1;33m[\u001b[0m\u001b[0mUnion\u001b[0m\u001b[1;33m[\u001b[0m\u001b[0mList\u001b[0m\u001b[1;33m,\u001b[0m \u001b[0mnumpy\u001b[0m\u001b[1;33m.\u001b[0m\u001b[0mndarray\u001b[0m\u001b[1;33m]\u001b[0m\u001b[1;33m,\u001b[0m \u001b[0mlightgbm\u001b[0m\u001b[1;33m.\u001b[0m\u001b[0mbasic\u001b[0m\u001b[1;33m.\u001b[0m\u001b[0mDataset\u001b[0m\u001b[1;33m]\u001b[0m\u001b[1;33m,\u001b[0m \u001b[0mTuple\u001b[0m\u001b[1;33m[\u001b[0m\u001b[0mstr\u001b[0m\u001b[1;33m,\u001b[0m \u001b[0mfloat\u001b[0m\u001b[1;33m,\u001b[0m \u001b[0mbool\u001b[0m\u001b[1;33m]\u001b[0m\u001b[1;33m]\u001b[0m\u001b[1;33m]\u001b[0m\u001b[1;33m,\u001b[0m \u001b[0mNoneType\u001b[0m\u001b[1;33m]\u001b[0m \u001b[1;33m=\u001b[0m \u001b[1;32mNone\u001b[0m\u001b[1;33m,\u001b[0m\u001b[1;33m\n",
       "\u001b[0m    \u001b[0minit_model\u001b[0m\u001b[1;33m:\u001b[0m \u001b[0mUnion\u001b[0m\u001b[1;33m[\u001b[0m\u001b[0mstr\u001b[0m\u001b[1;33m,\u001b[0m \u001b[0mpathlib\u001b[0m\u001b[1;33m.\u001b[0m\u001b[0mPath\u001b[0m\u001b[1;33m,\u001b[0m \u001b[0mlightgbm\u001b[0m\u001b[1;33m.\u001b[0m\u001b[0mbasic\u001b[0m\u001b[1;33m.\u001b[0m\u001b[0mBooster\u001b[0m\u001b[1;33m,\u001b[0m \u001b[0mNoneType\u001b[0m\u001b[1;33m]\u001b[0m \u001b[1;33m=\u001b[0m \u001b[1;32mNone\u001b[0m\u001b[1;33m,\u001b[0m\u001b[1;33m\n",
       "\u001b[0m    \u001b[0mfeature_name\u001b[0m\u001b[1;33m:\u001b[0m \u001b[0mUnion\u001b[0m\u001b[1;33m[\u001b[0m\u001b[0mList\u001b[0m\u001b[1;33m[\u001b[0m\u001b[0mstr\u001b[0m\u001b[1;33m]\u001b[0m\u001b[1;33m,\u001b[0m \u001b[0mstr\u001b[0m\u001b[1;33m]\u001b[0m \u001b[1;33m=\u001b[0m \u001b[1;34m'auto'\u001b[0m\u001b[1;33m,\u001b[0m\u001b[1;33m\n",
       "\u001b[0m    \u001b[0mcategorical_feature\u001b[0m\u001b[1;33m:\u001b[0m \u001b[0mUnion\u001b[0m\u001b[1;33m[\u001b[0m\u001b[0mList\u001b[0m\u001b[1;33m[\u001b[0m\u001b[0mstr\u001b[0m\u001b[1;33m]\u001b[0m\u001b[1;33m,\u001b[0m \u001b[0mList\u001b[0m\u001b[1;33m[\u001b[0m\u001b[0mint\u001b[0m\u001b[1;33m]\u001b[0m\u001b[1;33m,\u001b[0m \u001b[0mstr\u001b[0m\u001b[1;33m]\u001b[0m \u001b[1;33m=\u001b[0m \u001b[1;34m'auto'\u001b[0m\u001b[1;33m,\u001b[0m\u001b[1;33m\n",
       "\u001b[0m    \u001b[0mearly_stopping_rounds\u001b[0m\u001b[1;33m:\u001b[0m \u001b[0mOptional\u001b[0m\u001b[1;33m[\u001b[0m\u001b[0mint\u001b[0m\u001b[1;33m]\u001b[0m \u001b[1;33m=\u001b[0m \u001b[1;32mNone\u001b[0m\u001b[1;33m,\u001b[0m\u001b[1;33m\n",
       "\u001b[0m    \u001b[0mevals_result\u001b[0m\u001b[1;33m:\u001b[0m \u001b[0mOptional\u001b[0m\u001b[1;33m[\u001b[0m\u001b[0mDict\u001b[0m\u001b[1;33m[\u001b[0m\u001b[0mstr\u001b[0m\u001b[1;33m,\u001b[0m \u001b[0mAny\u001b[0m\u001b[1;33m]\u001b[0m\u001b[1;33m]\u001b[0m \u001b[1;33m=\u001b[0m \u001b[1;32mNone\u001b[0m\u001b[1;33m,\u001b[0m\u001b[1;33m\n",
       "\u001b[0m    \u001b[0mverbose_eval\u001b[0m\u001b[1;33m:\u001b[0m \u001b[0mUnion\u001b[0m\u001b[1;33m[\u001b[0m\u001b[0mbool\u001b[0m\u001b[1;33m,\u001b[0m \u001b[0mint\u001b[0m\u001b[1;33m,\u001b[0m \u001b[0mstr\u001b[0m\u001b[1;33m]\u001b[0m \u001b[1;33m=\u001b[0m \u001b[1;34m'warn'\u001b[0m\u001b[1;33m,\u001b[0m\u001b[1;33m\n",
       "\u001b[0m    \u001b[0mlearning_rates\u001b[0m\u001b[1;33m:\u001b[0m \u001b[0mUnion\u001b[0m\u001b[1;33m[\u001b[0m\u001b[0mList\u001b[0m\u001b[1;33m[\u001b[0m\u001b[0mfloat\u001b[0m\u001b[1;33m]\u001b[0m\u001b[1;33m,\u001b[0m \u001b[0mCallable\u001b[0m\u001b[1;33m[\u001b[0m\u001b[1;33m[\u001b[0m\u001b[0mint\u001b[0m\u001b[1;33m]\u001b[0m\u001b[1;33m,\u001b[0m \u001b[0mfloat\u001b[0m\u001b[1;33m]\u001b[0m\u001b[1;33m,\u001b[0m \u001b[0mNoneType\u001b[0m\u001b[1;33m]\u001b[0m \u001b[1;33m=\u001b[0m \u001b[1;32mNone\u001b[0m\u001b[1;33m,\u001b[0m\u001b[1;33m\n",
       "\u001b[0m    \u001b[0mkeep_training_booster\u001b[0m\u001b[1;33m:\u001b[0m \u001b[0mbool\u001b[0m \u001b[1;33m=\u001b[0m \u001b[1;32mFalse\u001b[0m\u001b[1;33m,\u001b[0m\u001b[1;33m\n",
       "\u001b[0m    \u001b[0mcallbacks\u001b[0m\u001b[1;33m:\u001b[0m \u001b[0mOptional\u001b[0m\u001b[1;33m[\u001b[0m\u001b[0mList\u001b[0m\u001b[1;33m[\u001b[0m\u001b[0mCallable\u001b[0m\u001b[1;33m]\u001b[0m\u001b[1;33m]\u001b[0m \u001b[1;33m=\u001b[0m \u001b[1;32mNone\u001b[0m\u001b[1;33m,\u001b[0m\u001b[1;33m\n",
       "\u001b[0m\u001b[1;33m)\u001b[0m \u001b[1;33m->\u001b[0m \u001b[0mlightgbm\u001b[0m\u001b[1;33m.\u001b[0m\u001b[0mbasic\u001b[0m\u001b[1;33m.\u001b[0m\u001b[0mBooster\u001b[0m\u001b[1;33m\u001b[0m\u001b[1;33m\u001b[0m\u001b[0m\n",
       "\u001b[1;31mDocstring:\u001b[0m\n",
       "Perform the training with given parameters.\n",
       "\n",
       "Parameters\n",
       "----------\n",
       "params : dict\n",
       "    Parameters for training.\n",
       "train_set : Dataset\n",
       "    Data to be trained on.\n",
       "num_boost_round : int, optional (default=100)\n",
       "    Number of boosting iterations.\n",
       "valid_sets : list of Dataset, or None, optional (default=None)\n",
       "    List of data to be evaluated on during training.\n",
       "valid_names : list of str, or None, optional (default=None)\n",
       "    Names of ``valid_sets``.\n",
       "fobj : callable or None, optional (default=None)\n",
       "    Customized objective function.\n",
       "    Should accept two parameters: preds, train_data,\n",
       "    and return (grad, hess).\n",
       "\n",
       "        preds : list or numpy 1-D array\n",
       "            The predicted values.\n",
       "            Predicted values are returned before any transformation,\n",
       "            e.g. they are raw margin instead of probability of positive class for binary task.\n",
       "        train_data : Dataset\n",
       "            The training dataset.\n",
       "        grad : list or numpy 1-D array\n",
       "            The value of the first order derivative (gradient) of the loss\n",
       "            with respect to the elements of preds for each sample point.\n",
       "        hess : list or numpy 1-D array\n",
       "            The value of the second order derivative (Hessian) of the loss\n",
       "            with respect to the elements of preds for each sample point.\n",
       "\n",
       "    For multi-class task, the preds is group by class_id first, then group by row_id.\n",
       "    If you want to get i-th row preds in j-th class, the access way is score[j * num_data + i]\n",
       "    and you should group grad and hess in this way as well.\n",
       "\n",
       "feval : callable, list of callable, or None, optional (default=None)\n",
       "    Customized evaluation function.\n",
       "    Each evaluation function should accept two parameters: preds, train_data,\n",
       "    and return (eval_name, eval_result, is_higher_better) or list of such tuples.\n",
       "\n",
       "        preds : list or numpy 1-D array\n",
       "            The predicted values.\n",
       "            If ``fobj`` is specified, predicted values are returned before any transformation,\n",
       "            e.g. they are raw margin instead of probability of positive class for binary task in this case.\n",
       "        train_data : Dataset\n",
       "            The training dataset.\n",
       "        eval_name : str\n",
       "            The name of evaluation function (without whitespaces).\n",
       "        eval_result : float\n",
       "            The eval result.\n",
       "        is_higher_better : bool\n",
       "            Is eval result higher better, e.g. AUC is ``is_higher_better``.\n",
       "\n",
       "    For multi-class task, the preds is group by class_id first, then group by row_id.\n",
       "    If you want to get i-th row preds in j-th class, the access way is preds[j * num_data + i].\n",
       "    To ignore the default metric corresponding to the used objective,\n",
       "    set the ``metric`` parameter to the string ``\"None\"`` in ``params``.\n",
       "init_model : str, pathlib.Path, Booster or None, optional (default=None)\n",
       "    Filename of LightGBM model or Booster instance used for continue training.\n",
       "feature_name : list of str, or 'auto', optional (default=\"auto\")\n",
       "    Feature names.\n",
       "    If 'auto' and data is pandas DataFrame, data columns names are used.\n",
       "categorical_feature : list of str or int, or 'auto', optional (default=\"auto\")\n",
       "    Categorical features.\n",
       "    If list of int, interpreted as indices.\n",
       "    If list of str, interpreted as feature names (need to specify ``feature_name`` as well).\n",
       "    If 'auto' and data is pandas DataFrame, pandas unordered categorical columns are used.\n",
       "    All values in categorical features should be less than int32 max value (2147483647).\n",
       "    Large values could be memory consuming. Consider using consecutive integers starting from zero.\n",
       "    All negative values in categorical features will be treated as missing values.\n",
       "    The output cannot be monotonically constrained with respect to a categorical feature.\n",
       "early_stopping_rounds : int or None, optional (default=None)\n",
       "    Activates early stopping. The model will train until the validation score stops improving.\n",
       "    Validation score needs to improve at least every ``early_stopping_rounds`` round(s)\n",
       "    to continue training.\n",
       "    Requires at least one validation data and one metric.\n",
       "    If there's more than one, will check all of them. But the training data is ignored anyway.\n",
       "    To check only the first metric, set the ``first_metric_only`` parameter to ``True`` in ``params``.\n",
       "    The index of iteration that has the best performance will be saved in the ``best_iteration`` field\n",
       "    if early stopping logic is enabled by setting ``early_stopping_rounds``.\n",
       "evals_result : dict or None, optional (default=None)\n",
       "    Dictionary used to store all evaluation results of all the items in ``valid_sets``.\n",
       "    This should be initialized outside of your call to ``train()`` and should be empty.\n",
       "    Any initial contents of the dictionary will be deleted.\n",
       "\n",
       "    .. rubric:: Example\n",
       "\n",
       "    With a ``valid_sets`` = [valid_set, train_set],\n",
       "    ``valid_names`` = ['eval', 'train']\n",
       "    and a ``params`` = {'metric': 'logloss'}\n",
       "    returns {'train': {'logloss': ['0.48253', '0.35953', ...]},\n",
       "    'eval': {'logloss': ['0.480385', '0.357756', ...]}}.\n",
       "\n",
       "verbose_eval : bool or int, optional (default=True)\n",
       "    Requires at least one validation data.\n",
       "    If True, the eval metric on the valid set is printed at each boosting stage.\n",
       "    If int, the eval metric on the valid set is printed at every ``verbose_eval`` boosting stage.\n",
       "    The last boosting stage or the boosting stage found by using ``early_stopping_rounds`` is also printed.\n",
       "\n",
       "    .. rubric:: Example\n",
       "\n",
       "    With ``verbose_eval`` = 4 and at least one item in ``valid_sets``,\n",
       "    an evaluation metric is printed every 4 (instead of 1) boosting stages.\n",
       "\n",
       "learning_rates : list, callable or None, optional (default=None)\n",
       "    List of learning rates for each boosting round\n",
       "    or a callable that calculates ``learning_rate``\n",
       "    in terms of current number of round (e.g. yields learning rate decay).\n",
       "keep_training_booster : bool, optional (default=False)\n",
       "    Whether the returned Booster will be used to keep training.\n",
       "    If False, the returned value will be converted into _InnerPredictor before returning.\n",
       "    This means you won't be able to use ``eval``, ``eval_train`` or ``eval_valid`` methods of the returned Booster.\n",
       "    When your model is very large and cause the memory error,\n",
       "    you can try to set this param to ``True`` to avoid the model conversion performed during the internal call of ``model_to_string``.\n",
       "    You can still use _InnerPredictor as ``init_model`` for future continue training.\n",
       "callbacks : list of callable, or None, optional (default=None)\n",
       "    List of callback functions that are applied at each iteration.\n",
       "    See Callbacks in Python API for more information.\n",
       "\n",
       "Returns\n",
       "-------\n",
       "booster : Booster\n",
       "    The trained Booster model.\n",
       "\u001b[1;31mFile:\u001b[0m      c:\\programdata\\anaconda3\\lib\\site-packages\\lightgbm\\engine.py\n",
       "\u001b[1;31mType:\u001b[0m      function"
      ]
     },
     "metadata": {},
     "output_type": "display_data"
    }
   ],
   "source": [
    "lgb.train?"
   ]
  },
  {
   "cell_type": "markdown",
   "id": "3e73d483-1725-4a4f-b725-a02ba7fcc4c6",
   "metadata": {},
   "source": [
    "然后在测试集上完成预测："
   ]
  },
  {
   "cell_type": "code",
   "execution_count": 14,
   "id": "63cba3bb-444d-4796-bc9c-3fb5b43fdb31",
   "metadata": {
    "collapsed": true,
    "jupyter": {
     "outputs_hidden": true
    },
    "tags": []
   },
   "outputs": [
    {
     "data": {
      "text/html": [
       "<div>\n",
       "<style scoped>\n",
       "    .dataframe tbody tr th:only-of-type {\n",
       "        vertical-align: middle;\n",
       "    }\n",
       "\n",
       "    .dataframe tbody tr th {\n",
       "        vertical-align: top;\n",
       "    }\n",
       "\n",
       "    .dataframe thead th {\n",
       "        text-align: right;\n",
       "    }\n",
       "</style>\n",
       "<table border=\"1\" class=\"dataframe\">\n",
       "  <thead>\n",
       "    <tr style=\"text-align: right;\">\n",
       "      <th></th>\n",
       "      <th>sepal length (cm)</th>\n",
       "      <th>sepal width (cm)</th>\n",
       "      <th>petal length (cm)</th>\n",
       "      <th>petal width (cm)</th>\n",
       "    </tr>\n",
       "  </thead>\n",
       "  <tbody>\n",
       "    <tr>\n",
       "      <th>104</th>\n",
       "      <td>6.5</td>\n",
       "      <td>3.0</td>\n",
       "      <td>5.8</td>\n",
       "      <td>2.2</td>\n",
       "    </tr>\n",
       "    <tr>\n",
       "      <th>21</th>\n",
       "      <td>5.1</td>\n",
       "      <td>3.7</td>\n",
       "      <td>1.5</td>\n",
       "      <td>0.4</td>\n",
       "    </tr>\n",
       "    <tr>\n",
       "      <th>108</th>\n",
       "      <td>6.7</td>\n",
       "      <td>2.5</td>\n",
       "      <td>5.8</td>\n",
       "      <td>1.8</td>\n",
       "    </tr>\n",
       "    <tr>\n",
       "      <th>54</th>\n",
       "      <td>6.5</td>\n",
       "      <td>2.8</td>\n",
       "      <td>4.6</td>\n",
       "      <td>1.5</td>\n",
       "    </tr>\n",
       "    <tr>\n",
       "      <th>49</th>\n",
       "      <td>5.0</td>\n",
       "      <td>3.3</td>\n",
       "      <td>1.4</td>\n",
       "      <td>0.2</td>\n",
       "    </tr>\n",
       "    <tr>\n",
       "      <th>75</th>\n",
       "      <td>6.6</td>\n",
       "      <td>3.0</td>\n",
       "      <td>4.4</td>\n",
       "      <td>1.4</td>\n",
       "    </tr>\n",
       "    <tr>\n",
       "      <th>88</th>\n",
       "      <td>5.6</td>\n",
       "      <td>3.0</td>\n",
       "      <td>4.1</td>\n",
       "      <td>1.3</td>\n",
       "    </tr>\n",
       "    <tr>\n",
       "      <th>101</th>\n",
       "      <td>5.8</td>\n",
       "      <td>2.7</td>\n",
       "      <td>5.1</td>\n",
       "      <td>1.9</td>\n",
       "    </tr>\n",
       "    <tr>\n",
       "      <th>144</th>\n",
       "      <td>6.7</td>\n",
       "      <td>3.3</td>\n",
       "      <td>5.7</td>\n",
       "      <td>2.5</td>\n",
       "    </tr>\n",
       "    <tr>\n",
       "      <th>19</th>\n",
       "      <td>5.1</td>\n",
       "      <td>3.8</td>\n",
       "      <td>1.5</td>\n",
       "      <td>0.3</td>\n",
       "    </tr>\n",
       "    <tr>\n",
       "      <th>47</th>\n",
       "      <td>4.6</td>\n",
       "      <td>3.2</td>\n",
       "      <td>1.4</td>\n",
       "      <td>0.2</td>\n",
       "    </tr>\n",
       "    <tr>\n",
       "      <th>41</th>\n",
       "      <td>4.5</td>\n",
       "      <td>2.3</td>\n",
       "      <td>1.3</td>\n",
       "      <td>0.3</td>\n",
       "    </tr>\n",
       "    <tr>\n",
       "      <th>20</th>\n",
       "      <td>5.4</td>\n",
       "      <td>3.4</td>\n",
       "      <td>1.7</td>\n",
       "      <td>0.2</td>\n",
       "    </tr>\n",
       "    <tr>\n",
       "      <th>74</th>\n",
       "      <td>6.4</td>\n",
       "      <td>2.9</td>\n",
       "      <td>4.3</td>\n",
       "      <td>1.3</td>\n",
       "    </tr>\n",
       "    <tr>\n",
       "      <th>0</th>\n",
       "      <td>5.1</td>\n",
       "      <td>3.5</td>\n",
       "      <td>1.4</td>\n",
       "      <td>0.2</td>\n",
       "    </tr>\n",
       "    <tr>\n",
       "      <th>32</th>\n",
       "      <td>5.2</td>\n",
       "      <td>4.1</td>\n",
       "      <td>1.5</td>\n",
       "      <td>0.1</td>\n",
       "    </tr>\n",
       "    <tr>\n",
       "      <th>13</th>\n",
       "      <td>4.3</td>\n",
       "      <td>3.0</td>\n",
       "      <td>1.1</td>\n",
       "      <td>0.1</td>\n",
       "    </tr>\n",
       "    <tr>\n",
       "      <th>40</th>\n",
       "      <td>5.0</td>\n",
       "      <td>3.5</td>\n",
       "      <td>1.3</td>\n",
       "      <td>0.3</td>\n",
       "    </tr>\n",
       "    <tr>\n",
       "      <th>3</th>\n",
       "      <td>4.6</td>\n",
       "      <td>3.1</td>\n",
       "      <td>1.5</td>\n",
       "      <td>0.2</td>\n",
       "    </tr>\n",
       "    <tr>\n",
       "      <th>111</th>\n",
       "      <td>6.4</td>\n",
       "      <td>2.7</td>\n",
       "      <td>5.3</td>\n",
       "      <td>1.9</td>\n",
       "    </tr>\n",
       "    <tr>\n",
       "      <th>45</th>\n",
       "      <td>4.8</td>\n",
       "      <td>3.0</td>\n",
       "      <td>1.4</td>\n",
       "      <td>0.3</td>\n",
       "    </tr>\n",
       "    <tr>\n",
       "      <th>7</th>\n",
       "      <td>5.0</td>\n",
       "      <td>3.4</td>\n",
       "      <td>1.5</td>\n",
       "      <td>0.2</td>\n",
       "    </tr>\n",
       "    <tr>\n",
       "      <th>31</th>\n",
       "      <td>5.4</td>\n",
       "      <td>3.4</td>\n",
       "      <td>1.5</td>\n",
       "      <td>0.4</td>\n",
       "    </tr>\n",
       "    <tr>\n",
       "      <th>121</th>\n",
       "      <td>5.6</td>\n",
       "      <td>2.8</td>\n",
       "      <td>4.9</td>\n",
       "      <td>2.0</td>\n",
       "    </tr>\n",
       "    <tr>\n",
       "      <th>50</th>\n",
       "      <td>7.0</td>\n",
       "      <td>3.2</td>\n",
       "      <td>4.7</td>\n",
       "      <td>1.4</td>\n",
       "    </tr>\n",
       "    <tr>\n",
       "      <th>148</th>\n",
       "      <td>6.2</td>\n",
       "      <td>3.4</td>\n",
       "      <td>5.4</td>\n",
       "      <td>2.3</td>\n",
       "    </tr>\n",
       "    <tr>\n",
       "      <th>120</th>\n",
       "      <td>6.9</td>\n",
       "      <td>3.2</td>\n",
       "      <td>5.7</td>\n",
       "      <td>2.3</td>\n",
       "    </tr>\n",
       "    <tr>\n",
       "      <th>129</th>\n",
       "      <td>7.2</td>\n",
       "      <td>3.0</td>\n",
       "      <td>5.8</td>\n",
       "      <td>1.6</td>\n",
       "    </tr>\n",
       "    <tr>\n",
       "      <th>136</th>\n",
       "      <td>6.3</td>\n",
       "      <td>3.4</td>\n",
       "      <td>5.6</td>\n",
       "      <td>2.4</td>\n",
       "    </tr>\n",
       "    <tr>\n",
       "      <th>114</th>\n",
       "      <td>5.8</td>\n",
       "      <td>2.8</td>\n",
       "      <td>5.1</td>\n",
       "      <td>2.4</td>\n",
       "    </tr>\n",
       "  </tbody>\n",
       "</table>\n",
       "</div>"
      ],
      "text/plain": [
       "     sepal length (cm)  sepal width (cm)  petal length (cm)  petal width (cm)\n",
       "104                6.5               3.0                5.8               2.2\n",
       "21                 5.1               3.7                1.5               0.4\n",
       "108                6.7               2.5                5.8               1.8\n",
       "54                 6.5               2.8                4.6               1.5\n",
       "49                 5.0               3.3                1.4               0.2\n",
       "75                 6.6               3.0                4.4               1.4\n",
       "88                 5.6               3.0                4.1               1.3\n",
       "101                5.8               2.7                5.1               1.9\n",
       "144                6.7               3.3                5.7               2.5\n",
       "19                 5.1               3.8                1.5               0.3\n",
       "47                 4.6               3.2                1.4               0.2\n",
       "41                 4.5               2.3                1.3               0.3\n",
       "20                 5.4               3.4                1.7               0.2\n",
       "74                 6.4               2.9                4.3               1.3\n",
       "0                  5.1               3.5                1.4               0.2\n",
       "32                 5.2               4.1                1.5               0.1\n",
       "13                 4.3               3.0                1.1               0.1\n",
       "40                 5.0               3.5                1.3               0.3\n",
       "3                  4.6               3.1                1.5               0.2\n",
       "111                6.4               2.7                5.3               1.9\n",
       "45                 4.8               3.0                1.4               0.3\n",
       "7                  5.0               3.4                1.5               0.2\n",
       "31                 5.4               3.4                1.5               0.4\n",
       "121                5.6               2.8                4.9               2.0\n",
       "50                 7.0               3.2                4.7               1.4\n",
       "148                6.2               3.4                5.4               2.3\n",
       "120                6.9               3.2                5.7               2.3\n",
       "129                7.2               3.0                5.8               1.6\n",
       "136                6.3               3.4                5.6               2.4\n",
       "114                5.8               2.8                5.1               2.4"
      ]
     },
     "execution_count": 14,
     "metadata": {},
     "output_type": "execute_result"
    }
   ],
   "source": [
    "X_test"
   ]
  },
  {
   "cell_type": "code",
   "execution_count": 15,
   "id": "53f56561-6ca1-4093-b1d0-caea45068bb6",
   "metadata": {
    "collapsed": true,
    "jupyter": {
     "outputs_hidden": true
    },
    "tags": []
   },
   "outputs": [
    {
     "data": {
      "text/plain": [
       "array([[7.66792951e-06, 4.39862696e-04, 9.99552469e-01],\n",
       "       [9.99927614e-01, 7.17839674e-05, 6.01958547e-07],\n",
       "       [1.90522906e-05, 4.96634227e-03, 9.95014605e-01],\n",
       "       [5.72209418e-06, 9.99752728e-01, 2.41549482e-04],\n",
       "       [9.99883935e-01, 1.15162708e-04, 9.02446325e-07],\n",
       "       [1.73847466e-06, 9.99994640e-01, 3.62104315e-06],\n",
       "       [7.20483167e-06, 9.99979524e-01, 1.32707728e-05],\n",
       "       [2.40667810e-05, 1.66072513e-03, 9.98315208e-01],\n",
       "       [4.78397856e-05, 1.43641655e-03, 9.98515744e-01],\n",
       "       [9.99927614e-01, 7.17839674e-05, 6.01958547e-07],\n",
       "       [9.99777693e-01, 2.20838247e-04, 1.46881426e-06],\n",
       "       [9.94877355e-01, 4.89738222e-03, 2.25263106e-04],\n",
       "       [9.99837202e-01, 1.62113177e-04, 6.84344341e-07],\n",
       "       [1.70698628e-06, 9.99992446e-01, 5.84685654e-06],\n",
       "       [9.99930272e-01, 6.91480127e-05, 5.79854232e-07],\n",
       "       [9.99882811e-01, 1.16606298e-04, 5.82632975e-07],\n",
       "       [9.99598983e-01, 3.94847046e-04, 6.16974341e-06],\n",
       "       [9.99927614e-01, 7.17839674e-05, 6.01958547e-07],\n",
       "       [9.99826945e-01, 1.70576333e-04, 2.47883319e-06],\n",
       "       [6.34208702e-06, 3.44021066e-04, 9.99649637e-01],\n",
       "       [9.99583702e-01, 4.09893624e-04, 6.40485603e-06],\n",
       "       [9.99930272e-01, 6.91480127e-05, 5.79854232e-07],\n",
       "       [9.99864439e-01, 1.34955811e-04, 6.04833712e-07],\n",
       "       [4.98450664e-05, 8.51522019e-03, 9.91434935e-01],\n",
       "       [6.92322824e-06, 9.99984471e-01, 8.60588706e-06],\n",
       "       [4.20460546e-05, 2.35764445e-04, 9.99722190e-01],\n",
       "       [1.61434746e-05, 1.36723492e-03, 9.98616622e-01],\n",
       "       [2.65396090e-04, 8.08173488e-01, 1.91561116e-01],\n",
       "       [4.20890744e-05, 2.35764435e-04, 9.99722146e-01],\n",
       "       [2.34106685e-05, 1.52648208e-03, 9.98450107e-01]])"
      ]
     },
     "execution_count": 15,
     "metadata": {},
     "output_type": "execute_result"
    }
   ],
   "source": [
    "bst.predict(X_test)"
   ]
  },
  {
   "cell_type": "markdown",
   "id": "f730c0b3-37ee-475f-83ab-82ad1acc8629",
   "metadata": {},
   "source": [
    "然后即可将概率预测结果进一步转化为类别预测结果，这里同样可以使用argmax进行计算："
   ]
  },
  {
   "cell_type": "code",
   "execution_count": 16,
   "id": "f869c2bc-d95c-48d2-9ef7-5b82fdbaff55",
   "metadata": {
    "tags": []
   },
   "outputs": [
    {
     "data": {
      "text/plain": [
       "array([2, 0, 2, 1, 0, 1, 1, 2, 2, 0, 0, 0, 0, 1, 0, 0, 0, 0, 0, 2, 0, 0,\n",
       "       0, 2, 1, 2, 2, 1, 2, 2], dtype=int64)"
      ]
     },
     "execution_count": 16,
     "metadata": {},
     "output_type": "execute_result"
    }
   ],
   "source": [
    "bst.predict(X_test).argmax(1)"
   ]
  },
  {
   "cell_type": "markdown",
   "id": "3d8c7da3-e79c-4c5e-8d00-ba3dd4cd77b7",
   "metadata": {},
   "source": [
    "至此我们即完成了通过调用LGBM原生API进行模型训练的完整过程。"
   ]
  },
  {
   "cell_type": "markdown",
   "id": "83897dc0-9e16-4772-9591-ed53143c35cd",
   "metadata": {},
   "source": [
    "&emsp;&emsp;当然，这里我们也可以简单查看两个对象的实际内存占用情况，判断官网介绍的Dataset能够有效压缩内存占用是否属实："
   ]
  },
  {
   "cell_type": "code",
   "execution_count": 94,
   "id": "4c4908ec-27ea-4f68-8da3-ad40d08354f9",
   "metadata": {},
   "outputs": [],
   "source": [
    "import sys"
   ]
  },
  {
   "cell_type": "code",
   "execution_count": 95,
   "id": "68a57877-c0ef-4cff-84bf-c9dbca048279",
   "metadata": {},
   "outputs": [
    {
     "data": {
      "text/plain": [
       "4816"
      ]
     },
     "execution_count": 95,
     "metadata": {},
     "output_type": "execute_result"
    }
   ],
   "source": [
    "sys.getsizeof(X_train)"
   ]
  },
  {
   "cell_type": "code",
   "execution_count": 96,
   "id": "0b828808-4687-4228-a31b-8b775945ba15",
   "metadata": {},
   "outputs": [
    {
     "data": {
      "text/plain": [
       "48"
      ]
     },
     "execution_count": 96,
     "metadata": {},
     "output_type": "execute_result"
    }
   ],
   "source": [
    "sys.getsizeof(train_data)"
   ]
  },
  {
   "cell_type": "markdown",
   "id": "2a253511-c452-42a5-b3e7-ab111382ff85",
   "metadata": {},
   "source": [
    "能够发现，Dataset类型对象内存占用少的惊人，只有48字节，也就是只有48*8=384比特，而原始数据对象则有4816字节，约等于38kb，相比之下确实Dataset内存占用非常少，这里我们先简单记住这个结论，后续有更深度的探讨和解释。"
   ]
  },
  {
   "cell_type": "markdown",
   "id": "81d8b284-b268-4fd1-b90a-f4ed7a646e9e",
   "metadata": {},
   "source": [
    "### 2.LGBM原生API进阶使用方法"
   ]
  },
  {
   "cell_type": "markdown",
   "id": "124dcc0c-4f93-4833-8a4a-bcbc38fea7c1",
   "metadata": {},
   "source": [
    "&emsp;&emsp;相比sklearn API，更加重要、更需要重点掌握的是原生API的使用方法。同样，由于目前我们还未介绍模型原理，因此本部分对LGBM API的讲解更多的是各功能的实现方法，如本地文件读取方法、内存管理方法和GPU加速方法，而关于建模效果层面的超参数优化，我们将介绍完算法原理后再进行介绍。"
   ]
  },
  {
   "cell_type": "markdown",
   "id": "ad26a0eb-0e82-4e15-b57e-cf7170aa638c",
   "metadata": {},
   "source": [
    "- 官网说明"
   ]
  },
  {
   "cell_type": "markdown",
   "id": "38cc048e-6bb8-47a3-9d61-ff129a37aa42",
   "metadata": {},
   "source": [
    "&emsp;&emsp;作为独立的第三方库，LGBM本身拥有非常完整的功能架构。除了可以在Python环境下通过代码形式调用，LGBM模型还支持不同操作系统（如Win、Ubuntu、MacOS系统的）客户端调用方法，以及C、R编程环境下调用，同时还支持多线程运行、分布式运行和GPU加速运行等多种运行方式。因此从功能架构层面来说，LGBM能够非常便捷的部署到任意线上运行环境中。完整的各类LGBM模型安装部署方法详见官网的[Installation Guide](https://lightgbm.readthedocs.io/en/v3.3.5/Installation-Guide.html)。"
   ]
  },
  {
   "cell_type": "markdown",
   "id": "90163dfd-0473-4aff-adfc-e5cd628355b3",
   "metadata": {},
   "source": [
    "<center><img src=\"https://ml2022.oss-cn-hangzhou.aliyuncs.com/img/202303111744318.png\" alt=\"1678527863306\" style=\"zoom:50%;\" />"
   ]
  },
  {
   "cell_type": "markdown",
   "id": "e66e8e11-3605-4574-809e-d3a29240dfb7",
   "metadata": {},
   "source": [
    "当然，不同的安装方式会对应不同的调用方法，不过对于算法工程师来说，首先重点掌握Python中的LGBM调用方法和相关API使用方法。相关方法说明，可以在官网的Python Quick Start中进行查看。这里我们结合当前建模过程中的实际使用重点来进行相关API功能的介绍，其中最主要的就是Data Structure API（数据和模型构建类API）和Training API（模型训练API）两类，两类API各有不同的功能，接下来我们对其一一进行介绍。"
   ]
  },
  {
   "cell_type": "markdown",
   "id": "b4ac8633-1c45-4143-8872-3f805f28fae5",
   "metadata": {},
   "source": [
    "#### 3.1 Dataset API"
   ]
  },
  {
   "cell_type": "markdown",
   "id": "afa95709-9265-4e5b-81b6-4bd0ad11f321",
   "metadata": {},
   "source": [
    "&emsp;&emsp;首先来看Data Structure API，即数据和模型构建类API，这类API的取名具备一定的迷惑性，Data Structure并不是指数据结构或者构造数据的API，而是一系列底层API，也就是关于创建数据和模型的基础类。在LGBM的API设计中，首字母大写的都是类（类似于sklearn的评估器），首字母小写的则都是函数。和sklearn类似，LGBM也存在一些可以执行相同功能的函数和类，以满足不同场景的使用需求。"
   ]
  },
  {
   "cell_type": "markdown",
   "id": "17401ffc-2ed4-4430-a41e-7eae9cd1e902",
   "metadata": {},
   "source": [
    "<center><img src=\"https://ml2022.oss-cn-hangzhou.aliyuncs.com/img/202303112003857.png\" alt=\"1678536205508\" style=\"zoom:30%;\" />"
   ]
  },
  {
   "cell_type": "markdown",
   "id": "c1a1e7d4-c7fc-4aa1-b252-a6dfa04d87b3",
   "metadata": {},
   "source": [
    "而Data Structure API则都是基础类。各类的基本解释如下："
   ]
  },
  {
   "cell_type": "markdown",
   "id": "0ce58de9-0049-47e8-b79b-fb8f5bad6ae2",
   "metadata": {},
   "source": [
    "- Dataset：基础数据集创建类，用于创建LGBM模型训练的数据集； \n",
    "- Booster：基础模型类，用于（实例化）生成一系列可以用于训练的模型并进行建模后的评估（这个过程类似于sklearn的评估器实例化过程）；\n",
    "- CVBooster：基础模型类，和Booster类似，只不过CVBooster实例化的模型支持多次（带入不同数据集）进行训练，并保存多组模型训练结果，方便手动进行交叉验证；\n",
    "- Sequence：序列数据集创建类，用于创建序列型（如时间序列或者排序序列）数据集；"
   ]
  },
  {
   "cell_type": "markdown",
   "id": "b7f7fec0-b616-47b6-8898-30088ff1b470",
   "metadata": {},
   "source": [
    "这里重点介绍Dataset基础类，Booster和CVBooster将配合Training API共同来进行讲解，Sequence相关使用将在后续时间序列模块中进行讲解。"
   ]
  },
  {
   "cell_type": "markdown",
   "id": "ad20aa56-3c8f-439b-a9cf-72972932c6a4",
   "metadata": {},
   "source": [
    "> 当然，我们也可以 Data Structure看成是对象类型，那么无论是什么类，其最终目的都是为了创建某种对象类型，因此无论是创建模型对象还是创建数据对象，都是创建某种对象的API，从这个角度出发，就不难理解为何创建数据集的类和创建模型的类都属于这类API。这也是官网对Data Structure名称的解释。"
   ]
  },
  {
   "cell_type": "markdown",
   "id": "c647dc1b-2112-4247-bf51-494270b6f78f",
   "metadata": {},
   "source": [
    "##### 3.1.1 Dataset类的解释与使用方法"
   ]
  },
  {
   "cell_type": "markdown",
   "id": "d4b42641-c460-4f99-bd3b-e3f31c0e343f",
   "metadata": {},
   "source": [
    "&emsp;&emsp;Dataset类主要用于创建Dataset类型的数据对象，方便带入模型进行训练，这点和XGB的DMatrix类似。对于LGBM来说，借助Dataset进行数据封装，能够非常便捷的进行更多功能拓展，例如直接读取不同类型的本地文件等；并且这种特定的数据格式还能进行非常高效率的数据存储——占用较少内容就能存储大量数据，并且还可以通过标注离散字段来进行高效率的数据重编码以及辅助模型提升预测效果。不难看出，灵活使用Dataset类来进行LGBM数据集封装，能够有效提升建模效率、降低存储空间、提升模型预测效力。从功能上来总结，我们可以借助Dataset类实现以下四类效果："
   ]
  },
  {
   "cell_type": "markdown",
   "id": "ea96a9d0-d9e9-4e78-9830-91ff20ac7cf2",
   "metadata": {},
   "source": [
    "- 便捷读取和存储：不仅可以读取当前编程环境中的Numpy和Pandas对象，同时能够直接读取本地文件，并支持多种文件格式类型的读取（包括LibSVM (zero-based) / TSV / CSV format text file等），同时提供了一种LGBM原生定义的二进制文件，便于更高效的进行读取和存储；\n",
    "- 更多功能拓展：能够在读取数据文件时标注离散变量，以及对离散变量自动编码、自动设置数据集各样本权重等；\n",
    "- 有效优化内存、计算效率和模型预测准确性：相比Numpy和Pandas提供的数据格式，Dataset数据格式能够显著降低内存，同时提高LGBM算法的计算效率，根据官方文档的说明，借助Dataset进行自动离散变量编码，其计算速度是sklearn中encoder的8倍，并且LGBM能够区分离散变量和连续变量（这点sklearn无法做到），因此在Dataset中对离散变量进行标注，能够有效提升算法的预测效力（在没有手动标注离散变量的情况下，系统会自动根据某种标准把取值较少的特征标注为离散变量）；\n",
    "- 支持分布式计算和GPU加速计算：除了多线程计算外，LGBM还支持分布式计算和GPU加速计算，而要实现这两种计算方法，则必须提供Dataset类型数据；"
   ]
  },
  {
   "cell_type": "markdown",
   "id": "f52320cc-5324-4e99-b8e8-41af93b6f4d3",
   "metadata": {},
   "source": [
    "&emsp;&emsp;接下来我们就Dataset类的使用方法进行进一步探讨。"
   ]
  },
  {
   "cell_type": "markdown",
   "id": "a5f8ce9d-e909-46d0-9297-49511ca9bb45",
   "metadata": {},
   "source": [
    "##### 3.1.2 更便捷的读取和存储"
   ]
  },
  {
   "cell_type": "markdown",
   "id": "07146723-2b6f-49cf-ba08-aa853adc4070",
   "metadata": {},
   "source": [
    "&emsp;&emsp;首先，Dataset和sklearn类似，都支持NumPy Arrays、Pandans DataFrame和SciPy sparse matrix（稀疏矩阵）对象类型的读取。例如对于之前的房价数据集，我们可以先读取为Dataframe类型，然后再转化为Dataset类型："
   ]
  },
  {
   "cell_type": "code",
   "execution_count": 121,
   "id": "f2c8882b-528a-4a49-982f-5c6ba52d5c24",
   "metadata": {},
   "outputs": [],
   "source": [
    "data = pd.read_csv(\"train_encode.csv\",index_col=0)"
   ]
  },
  {
   "cell_type": "code",
   "execution_count": 122,
   "id": "fdbf1335-90ce-44b6-8042-d2a4c3999a4f",
   "metadata": {},
   "outputs": [
    {
     "data": {
      "text/html": [
       "<div>\n",
       "<style scoped>\n",
       "    .dataframe tbody tr th:only-of-type {\n",
       "        vertical-align: middle;\n",
       "    }\n",
       "\n",
       "    .dataframe tbody tr th {\n",
       "        vertical-align: top;\n",
       "    }\n",
       "\n",
       "    .dataframe thead th {\n",
       "        text-align: right;\n",
       "    }\n",
       "</style>\n",
       "<table border=\"1\" class=\"dataframe\">\n",
       "  <thead>\n",
       "    <tr style=\"text-align: right;\">\n",
       "      <th></th>\n",
       "      <th>Id</th>\n",
       "      <th>住宅类型</th>\n",
       "      <th>住宅区域</th>\n",
       "      <th>街道接触面积(英尺)</th>\n",
       "      <th>住宅面积</th>\n",
       "      <th>街道路面状况</th>\n",
       "      <th>巷子路面状况</th>\n",
       "      <th>住宅形状(大概)</th>\n",
       "      <th>住宅现状</th>\n",
       "      <th>水电气</th>\n",
       "      <th>...</th>\n",
       "      <th>泳池面积</th>\n",
       "      <th>泳池质量</th>\n",
       "      <th>篱笆质量</th>\n",
       "      <th>其他配置</th>\n",
       "      <th>其他配置的价值</th>\n",
       "      <th>销售月份</th>\n",
       "      <th>销售年份</th>\n",
       "      <th>销售类型</th>\n",
       "      <th>销售状态</th>\n",
       "      <th>SalePrice</th>\n",
       "    </tr>\n",
       "  </thead>\n",
       "  <tbody>\n",
       "    <tr>\n",
       "      <th>0</th>\n",
       "      <td>0.0</td>\n",
       "      <td>5.0</td>\n",
       "      <td>3.0</td>\n",
       "      <td>36.0</td>\n",
       "      <td>327.0</td>\n",
       "      <td>1.0</td>\n",
       "      <td>0.0</td>\n",
       "      <td>3.0</td>\n",
       "      <td>3.0</td>\n",
       "      <td>0.0</td>\n",
       "      <td>...</td>\n",
       "      <td>0.0</td>\n",
       "      <td>0.0</td>\n",
       "      <td>0.0</td>\n",
       "      <td>0.0</td>\n",
       "      <td>0.0</td>\n",
       "      <td>1.0</td>\n",
       "      <td>2.0</td>\n",
       "      <td>8.0</td>\n",
       "      <td>4.0</td>\n",
       "      <td>208500</td>\n",
       "    </tr>\n",
       "    <tr>\n",
       "      <th>1</th>\n",
       "      <td>1.0</td>\n",
       "      <td>0.0</td>\n",
       "      <td>3.0</td>\n",
       "      <td>51.0</td>\n",
       "      <td>498.0</td>\n",
       "      <td>1.0</td>\n",
       "      <td>0.0</td>\n",
       "      <td>3.0</td>\n",
       "      <td>3.0</td>\n",
       "      <td>0.0</td>\n",
       "      <td>...</td>\n",
       "      <td>0.0</td>\n",
       "      <td>0.0</td>\n",
       "      <td>0.0</td>\n",
       "      <td>0.0</td>\n",
       "      <td>0.0</td>\n",
       "      <td>4.0</td>\n",
       "      <td>1.0</td>\n",
       "      <td>8.0</td>\n",
       "      <td>4.0</td>\n",
       "      <td>181500</td>\n",
       "    </tr>\n",
       "    <tr>\n",
       "      <th>2</th>\n",
       "      <td>2.0</td>\n",
       "      <td>5.0</td>\n",
       "      <td>3.0</td>\n",
       "      <td>39.0</td>\n",
       "      <td>702.0</td>\n",
       "      <td>1.0</td>\n",
       "      <td>0.0</td>\n",
       "      <td>0.0</td>\n",
       "      <td>3.0</td>\n",
       "      <td>0.0</td>\n",
       "      <td>...</td>\n",
       "      <td>0.0</td>\n",
       "      <td>0.0</td>\n",
       "      <td>0.0</td>\n",
       "      <td>0.0</td>\n",
       "      <td>0.0</td>\n",
       "      <td>8.0</td>\n",
       "      <td>2.0</td>\n",
       "      <td>8.0</td>\n",
       "      <td>4.0</td>\n",
       "      <td>223500</td>\n",
       "    </tr>\n",
       "    <tr>\n",
       "      <th>3</th>\n",
       "      <td>3.0</td>\n",
       "      <td>6.0</td>\n",
       "      <td>3.0</td>\n",
       "      <td>31.0</td>\n",
       "      <td>489.0</td>\n",
       "      <td>1.0</td>\n",
       "      <td>0.0</td>\n",
       "      <td>0.0</td>\n",
       "      <td>3.0</td>\n",
       "      <td>0.0</td>\n",
       "      <td>...</td>\n",
       "      <td>0.0</td>\n",
       "      <td>0.0</td>\n",
       "      <td>0.0</td>\n",
       "      <td>0.0</td>\n",
       "      <td>0.0</td>\n",
       "      <td>1.0</td>\n",
       "      <td>0.0</td>\n",
       "      <td>8.0</td>\n",
       "      <td>0.0</td>\n",
       "      <td>140000</td>\n",
       "    </tr>\n",
       "    <tr>\n",
       "      <th>4</th>\n",
       "      <td>4.0</td>\n",
       "      <td>5.0</td>\n",
       "      <td>3.0</td>\n",
       "      <td>55.0</td>\n",
       "      <td>925.0</td>\n",
       "      <td>1.0</td>\n",
       "      <td>0.0</td>\n",
       "      <td>0.0</td>\n",
       "      <td>3.0</td>\n",
       "      <td>0.0</td>\n",
       "      <td>...</td>\n",
       "      <td>0.0</td>\n",
       "      <td>0.0</td>\n",
       "      <td>0.0</td>\n",
       "      <td>0.0</td>\n",
       "      <td>0.0</td>\n",
       "      <td>11.0</td>\n",
       "      <td>2.0</td>\n",
       "      <td>8.0</td>\n",
       "      <td>4.0</td>\n",
       "      <td>250000</td>\n",
       "    </tr>\n",
       "  </tbody>\n",
       "</table>\n",
       "<p>5 rows × 81 columns</p>\n",
       "</div>"
      ],
      "text/plain": [
       "    Id  住宅类型  住宅区域  街道接触面积(英尺)   住宅面积  街道路面状况  巷子路面状况  住宅形状(大概)  住宅现状  水电气  \\\n",
       "0  0.0   5.0   3.0        36.0  327.0     1.0     0.0       3.0   3.0  0.0   \n",
       "1  1.0   0.0   3.0        51.0  498.0     1.0     0.0       3.0   3.0  0.0   \n",
       "2  2.0   5.0   3.0        39.0  702.0     1.0     0.0       0.0   3.0  0.0   \n",
       "3  3.0   6.0   3.0        31.0  489.0     1.0     0.0       0.0   3.0  0.0   \n",
       "4  4.0   5.0   3.0        55.0  925.0     1.0     0.0       0.0   3.0  0.0   \n",
       "\n",
       "   ...  泳池面积  泳池质量  篱笆质量  其他配置  其他配置的价值  销售月份  销售年份  销售类型  销售状态  SalePrice  \n",
       "0  ...   0.0   0.0   0.0   0.0      0.0   1.0   2.0   8.0   4.0     208500  \n",
       "1  ...   0.0   0.0   0.0   0.0      0.0   4.0   1.0   8.0   4.0     181500  \n",
       "2  ...   0.0   0.0   0.0   0.0      0.0   8.0   2.0   8.0   4.0     223500  \n",
       "3  ...   0.0   0.0   0.0   0.0      0.0   1.0   0.0   8.0   0.0     140000  \n",
       "4  ...   0.0   0.0   0.0   0.0      0.0  11.0   2.0   8.0   4.0     250000  \n",
       "\n",
       "[5 rows x 81 columns]"
      ]
     },
     "execution_count": 122,
     "metadata": {},
     "output_type": "execute_result"
    }
   ],
   "source": [
    "data.head()"
   ]
  },
  {
   "cell_type": "code",
   "execution_count": 123,
   "id": "4b102d40-d86d-47a7-8369-c5d16b68abdf",
   "metadata": {
    "tags": []
   },
   "outputs": [
    {
     "data": {
      "text/html": [
       "<div>\n",
       "<style scoped>\n",
       "    .dataframe tbody tr th:only-of-type {\n",
       "        vertical-align: middle;\n",
       "    }\n",
       "\n",
       "    .dataframe tbody tr th {\n",
       "        vertical-align: top;\n",
       "    }\n",
       "\n",
       "    .dataframe thead th {\n",
       "        text-align: right;\n",
       "    }\n",
       "</style>\n",
       "<table border=\"1\" class=\"dataframe\">\n",
       "  <thead>\n",
       "    <tr style=\"text-align: right;\">\n",
       "      <th></th>\n",
       "      <th>住宅类型</th>\n",
       "      <th>住宅区域</th>\n",
       "      <th>街道接触面积(英尺)</th>\n",
       "      <th>住宅面积</th>\n",
       "      <th>街道路面状况</th>\n",
       "      <th>巷子路面状况</th>\n",
       "      <th>住宅形状(大概)</th>\n",
       "      <th>住宅现状</th>\n",
       "      <th>水电气</th>\n",
       "      <th>住宅配置</th>\n",
       "      <th>...</th>\n",
       "      <th>半开放式门廊面积</th>\n",
       "      <th>泳池面积</th>\n",
       "      <th>泳池质量</th>\n",
       "      <th>篱笆质量</th>\n",
       "      <th>其他配置</th>\n",
       "      <th>其他配置的价值</th>\n",
       "      <th>销售月份</th>\n",
       "      <th>销售年份</th>\n",
       "      <th>销售类型</th>\n",
       "      <th>销售状态</th>\n",
       "    </tr>\n",
       "  </thead>\n",
       "  <tbody>\n",
       "    <tr>\n",
       "      <th>0</th>\n",
       "      <td>5.0</td>\n",
       "      <td>3.0</td>\n",
       "      <td>36.0</td>\n",
       "      <td>327.0</td>\n",
       "      <td>1.0</td>\n",
       "      <td>0.0</td>\n",
       "      <td>3.0</td>\n",
       "      <td>3.0</td>\n",
       "      <td>0.0</td>\n",
       "      <td>4.0</td>\n",
       "      <td>...</td>\n",
       "      <td>0.0</td>\n",
       "      <td>0.0</td>\n",
       "      <td>0.0</td>\n",
       "      <td>0.0</td>\n",
       "      <td>0.0</td>\n",
       "      <td>0.0</td>\n",
       "      <td>1.0</td>\n",
       "      <td>2.0</td>\n",
       "      <td>8.0</td>\n",
       "      <td>4.0</td>\n",
       "    </tr>\n",
       "    <tr>\n",
       "      <th>1</th>\n",
       "      <td>0.0</td>\n",
       "      <td>3.0</td>\n",
       "      <td>51.0</td>\n",
       "      <td>498.0</td>\n",
       "      <td>1.0</td>\n",
       "      <td>0.0</td>\n",
       "      <td>3.0</td>\n",
       "      <td>3.0</td>\n",
       "      <td>0.0</td>\n",
       "      <td>2.0</td>\n",
       "      <td>...</td>\n",
       "      <td>0.0</td>\n",
       "      <td>0.0</td>\n",
       "      <td>0.0</td>\n",
       "      <td>0.0</td>\n",
       "      <td>0.0</td>\n",
       "      <td>0.0</td>\n",
       "      <td>4.0</td>\n",
       "      <td>1.0</td>\n",
       "      <td>8.0</td>\n",
       "      <td>4.0</td>\n",
       "    </tr>\n",
       "    <tr>\n",
       "      <th>2</th>\n",
       "      <td>5.0</td>\n",
       "      <td>3.0</td>\n",
       "      <td>39.0</td>\n",
       "      <td>702.0</td>\n",
       "      <td>1.0</td>\n",
       "      <td>0.0</td>\n",
       "      <td>0.0</td>\n",
       "      <td>3.0</td>\n",
       "      <td>0.0</td>\n",
       "      <td>4.0</td>\n",
       "      <td>...</td>\n",
       "      <td>0.0</td>\n",
       "      <td>0.0</td>\n",
       "      <td>0.0</td>\n",
       "      <td>0.0</td>\n",
       "      <td>0.0</td>\n",
       "      <td>0.0</td>\n",
       "      <td>8.0</td>\n",
       "      <td>2.0</td>\n",
       "      <td>8.0</td>\n",
       "      <td>4.0</td>\n",
       "    </tr>\n",
       "    <tr>\n",
       "      <th>3</th>\n",
       "      <td>6.0</td>\n",
       "      <td>3.0</td>\n",
       "      <td>31.0</td>\n",
       "      <td>489.0</td>\n",
       "      <td>1.0</td>\n",
       "      <td>0.0</td>\n",
       "      <td>0.0</td>\n",
       "      <td>3.0</td>\n",
       "      <td>0.0</td>\n",
       "      <td>0.0</td>\n",
       "      <td>...</td>\n",
       "      <td>0.0</td>\n",
       "      <td>0.0</td>\n",
       "      <td>0.0</td>\n",
       "      <td>0.0</td>\n",
       "      <td>0.0</td>\n",
       "      <td>0.0</td>\n",
       "      <td>1.0</td>\n",
       "      <td>0.0</td>\n",
       "      <td>8.0</td>\n",
       "      <td>0.0</td>\n",
       "    </tr>\n",
       "    <tr>\n",
       "      <th>4</th>\n",
       "      <td>5.0</td>\n",
       "      <td>3.0</td>\n",
       "      <td>55.0</td>\n",
       "      <td>925.0</td>\n",
       "      <td>1.0</td>\n",
       "      <td>0.0</td>\n",
       "      <td>0.0</td>\n",
       "      <td>3.0</td>\n",
       "      <td>0.0</td>\n",
       "      <td>2.0</td>\n",
       "      <td>...</td>\n",
       "      <td>0.0</td>\n",
       "      <td>0.0</td>\n",
       "      <td>0.0</td>\n",
       "      <td>0.0</td>\n",
       "      <td>0.0</td>\n",
       "      <td>0.0</td>\n",
       "      <td>11.0</td>\n",
       "      <td>2.0</td>\n",
       "      <td>8.0</td>\n",
       "      <td>4.0</td>\n",
       "    </tr>\n",
       "    <tr>\n",
       "      <th>...</th>\n",
       "      <td>...</td>\n",
       "      <td>...</td>\n",
       "      <td>...</td>\n",
       "      <td>...</td>\n",
       "      <td>...</td>\n",
       "      <td>...</td>\n",
       "      <td>...</td>\n",
       "      <td>...</td>\n",
       "      <td>...</td>\n",
       "      <td>...</td>\n",
       "      <td>...</td>\n",
       "      <td>...</td>\n",
       "      <td>...</td>\n",
       "      <td>...</td>\n",
       "      <td>...</td>\n",
       "      <td>...</td>\n",
       "      <td>...</td>\n",
       "      <td>...</td>\n",
       "      <td>...</td>\n",
       "      <td>...</td>\n",
       "      <td>...</td>\n",
       "    </tr>\n",
       "    <tr>\n",
       "      <th>1455</th>\n",
       "      <td>5.0</td>\n",
       "      <td>3.0</td>\n",
       "      <td>33.0</td>\n",
       "      <td>267.0</td>\n",
       "      <td>1.0</td>\n",
       "      <td>0.0</td>\n",
       "      <td>3.0</td>\n",
       "      <td>3.0</td>\n",
       "      <td>0.0</td>\n",
       "      <td>4.0</td>\n",
       "      <td>...</td>\n",
       "      <td>0.0</td>\n",
       "      <td>0.0</td>\n",
       "      <td>0.0</td>\n",
       "      <td>0.0</td>\n",
       "      <td>0.0</td>\n",
       "      <td>0.0</td>\n",
       "      <td>7.0</td>\n",
       "      <td>1.0</td>\n",
       "      <td>8.0</td>\n",
       "      <td>4.0</td>\n",
       "    </tr>\n",
       "    <tr>\n",
       "      <th>1456</th>\n",
       "      <td>0.0</td>\n",
       "      <td>3.0</td>\n",
       "      <td>56.0</td>\n",
       "      <td>866.0</td>\n",
       "      <td>1.0</td>\n",
       "      <td>0.0</td>\n",
       "      <td>3.0</td>\n",
       "      <td>3.0</td>\n",
       "      <td>0.0</td>\n",
       "      <td>4.0</td>\n",
       "      <td>...</td>\n",
       "      <td>0.0</td>\n",
       "      <td>0.0</td>\n",
       "      <td>0.0</td>\n",
       "      <td>2.0</td>\n",
       "      <td>0.0</td>\n",
       "      <td>0.0</td>\n",
       "      <td>1.0</td>\n",
       "      <td>4.0</td>\n",
       "      <td>8.0</td>\n",
       "      <td>4.0</td>\n",
       "    </tr>\n",
       "    <tr>\n",
       "      <th>1457</th>\n",
       "      <td>6.0</td>\n",
       "      <td>3.0</td>\n",
       "      <td>37.0</td>\n",
       "      <td>415.0</td>\n",
       "      <td>1.0</td>\n",
       "      <td>0.0</td>\n",
       "      <td>3.0</td>\n",
       "      <td>3.0</td>\n",
       "      <td>0.0</td>\n",
       "      <td>4.0</td>\n",
       "      <td>...</td>\n",
       "      <td>0.0</td>\n",
       "      <td>0.0</td>\n",
       "      <td>0.0</td>\n",
       "      <td>0.0</td>\n",
       "      <td>2.0</td>\n",
       "      <td>17.0</td>\n",
       "      <td>4.0</td>\n",
       "      <td>4.0</td>\n",
       "      <td>8.0</td>\n",
       "      <td>4.0</td>\n",
       "    </tr>\n",
       "    <tr>\n",
       "      <th>1458</th>\n",
       "      <td>0.0</td>\n",
       "      <td>3.0</td>\n",
       "      <td>39.0</td>\n",
       "      <td>505.0</td>\n",
       "      <td>1.0</td>\n",
       "      <td>0.0</td>\n",
       "      <td>3.0</td>\n",
       "      <td>3.0</td>\n",
       "      <td>0.0</td>\n",
       "      <td>4.0</td>\n",
       "      <td>...</td>\n",
       "      <td>0.0</td>\n",
       "      <td>0.0</td>\n",
       "      <td>0.0</td>\n",
       "      <td>0.0</td>\n",
       "      <td>0.0</td>\n",
       "      <td>0.0</td>\n",
       "      <td>3.0</td>\n",
       "      <td>4.0</td>\n",
       "      <td>8.0</td>\n",
       "      <td>4.0</td>\n",
       "    </tr>\n",
       "    <tr>\n",
       "      <th>1459</th>\n",
       "      <td>0.0</td>\n",
       "      <td>3.0</td>\n",
       "      <td>46.0</td>\n",
       "      <td>532.0</td>\n",
       "      <td>1.0</td>\n",
       "      <td>0.0</td>\n",
       "      <td>3.0</td>\n",
       "      <td>3.0</td>\n",
       "      <td>0.0</td>\n",
       "      <td>4.0</td>\n",
       "      <td>...</td>\n",
       "      <td>0.0</td>\n",
       "      <td>0.0</td>\n",
       "      <td>0.0</td>\n",
       "      <td>0.0</td>\n",
       "      <td>0.0</td>\n",
       "      <td>0.0</td>\n",
       "      <td>5.0</td>\n",
       "      <td>2.0</td>\n",
       "      <td>8.0</td>\n",
       "      <td>4.0</td>\n",
       "    </tr>\n",
       "  </tbody>\n",
       "</table>\n",
       "<p>1460 rows × 79 columns</p>\n",
       "</div>"
      ],
      "text/plain": [
       "      住宅类型  住宅区域  街道接触面积(英尺)   住宅面积  街道路面状况  巷子路面状况  住宅形状(大概)  住宅现状  水电气  \\\n",
       "0      5.0   3.0        36.0  327.0     1.0     0.0       3.0   3.0  0.0   \n",
       "1      0.0   3.0        51.0  498.0     1.0     0.0       3.0   3.0  0.0   \n",
       "2      5.0   3.0        39.0  702.0     1.0     0.0       0.0   3.0  0.0   \n",
       "3      6.0   3.0        31.0  489.0     1.0     0.0       0.0   3.0  0.0   \n",
       "4      5.0   3.0        55.0  925.0     1.0     0.0       0.0   3.0  0.0   \n",
       "...    ...   ...         ...    ...     ...     ...       ...   ...  ...   \n",
       "1455   5.0   3.0        33.0  267.0     1.0     0.0       3.0   3.0  0.0   \n",
       "1456   0.0   3.0        56.0  866.0     1.0     0.0       3.0   3.0  0.0   \n",
       "1457   6.0   3.0        37.0  415.0     1.0     0.0       3.0   3.0  0.0   \n",
       "1458   0.0   3.0        39.0  505.0     1.0     0.0       3.0   3.0  0.0   \n",
       "1459   0.0   3.0        46.0  532.0     1.0     0.0       3.0   3.0  0.0   \n",
       "\n",
       "      住宅配置  ...  半开放式门廊面积  泳池面积  泳池质量  篱笆质量  其他配置  其他配置的价值  销售月份  销售年份  销售类型  \\\n",
       "0      4.0  ...       0.0   0.0   0.0   0.0   0.0      0.0   1.0   2.0   8.0   \n",
       "1      2.0  ...       0.0   0.0   0.0   0.0   0.0      0.0   4.0   1.0   8.0   \n",
       "2      4.0  ...       0.0   0.0   0.0   0.0   0.0      0.0   8.0   2.0   8.0   \n",
       "3      0.0  ...       0.0   0.0   0.0   0.0   0.0      0.0   1.0   0.0   8.0   \n",
       "4      2.0  ...       0.0   0.0   0.0   0.0   0.0      0.0  11.0   2.0   8.0   \n",
       "...    ...  ...       ...   ...   ...   ...   ...      ...   ...   ...   ...   \n",
       "1455   4.0  ...       0.0   0.0   0.0   0.0   0.0      0.0   7.0   1.0   8.0   \n",
       "1456   4.0  ...       0.0   0.0   0.0   2.0   0.0      0.0   1.0   4.0   8.0   \n",
       "1457   4.0  ...       0.0   0.0   0.0   0.0   2.0     17.0   4.0   4.0   8.0   \n",
       "1458   4.0  ...       0.0   0.0   0.0   0.0   0.0      0.0   3.0   4.0   8.0   \n",
       "1459   4.0  ...       0.0   0.0   0.0   0.0   0.0      0.0   5.0   2.0   8.0   \n",
       "\n",
       "      销售状态  \n",
       "0      4.0  \n",
       "1      4.0  \n",
       "2      4.0  \n",
       "3      0.0  \n",
       "4      4.0  \n",
       "...    ...  \n",
       "1455   4.0  \n",
       "1456   4.0  \n",
       "1457   4.0  \n",
       "1458   4.0  \n",
       "1459   4.0  \n",
       "\n",
       "[1460 rows x 79 columns]"
      ]
     },
     "execution_count": 123,
     "metadata": {},
     "output_type": "execute_result"
    }
   ],
   "source": [
    "data.iloc[:, 1:80]"
   ]
  },
  {
   "cell_type": "code",
   "execution_count": 124,
   "id": "03b0ceec-f3c6-4794-b281-6ef24cdd3973",
   "metadata": {
    "tags": []
   },
   "outputs": [
    {
     "data": {
      "text/html": [
       "<div>\n",
       "<style scoped>\n",
       "    .dataframe tbody tr th:only-of-type {\n",
       "        vertical-align: middle;\n",
       "    }\n",
       "\n",
       "    .dataframe tbody tr th {\n",
       "        vertical-align: top;\n",
       "    }\n",
       "\n",
       "    .dataframe thead th {\n",
       "        text-align: right;\n",
       "    }\n",
       "</style>\n",
       "<table border=\"1\" class=\"dataframe\">\n",
       "  <thead>\n",
       "    <tr style=\"text-align: right;\">\n",
       "      <th></th>\n",
       "      <th>SalePrice</th>\n",
       "    </tr>\n",
       "  </thead>\n",
       "  <tbody>\n",
       "    <tr>\n",
       "      <th>0</th>\n",
       "      <td>208500</td>\n",
       "    </tr>\n",
       "    <tr>\n",
       "      <th>1</th>\n",
       "      <td>181500</td>\n",
       "    </tr>\n",
       "    <tr>\n",
       "      <th>2</th>\n",
       "      <td>223500</td>\n",
       "    </tr>\n",
       "    <tr>\n",
       "      <th>3</th>\n",
       "      <td>140000</td>\n",
       "    </tr>\n",
       "    <tr>\n",
       "      <th>4</th>\n",
       "      <td>250000</td>\n",
       "    </tr>\n",
       "    <tr>\n",
       "      <th>...</th>\n",
       "      <td>...</td>\n",
       "    </tr>\n",
       "    <tr>\n",
       "      <th>1455</th>\n",
       "      <td>175000</td>\n",
       "    </tr>\n",
       "    <tr>\n",
       "      <th>1456</th>\n",
       "      <td>210000</td>\n",
       "    </tr>\n",
       "    <tr>\n",
       "      <th>1457</th>\n",
       "      <td>266500</td>\n",
       "    </tr>\n",
       "    <tr>\n",
       "      <th>1458</th>\n",
       "      <td>142125</td>\n",
       "    </tr>\n",
       "    <tr>\n",
       "      <th>1459</th>\n",
       "      <td>147500</td>\n",
       "    </tr>\n",
       "  </tbody>\n",
       "</table>\n",
       "<p>1460 rows × 1 columns</p>\n",
       "</div>"
      ],
      "text/plain": [
       "      SalePrice\n",
       "0        208500\n",
       "1        181500\n",
       "2        223500\n",
       "3        140000\n",
       "4        250000\n",
       "...         ...\n",
       "1455     175000\n",
       "1456     210000\n",
       "1457     266500\n",
       "1458     142125\n",
       "1459     147500\n",
       "\n",
       "[1460 rows x 1 columns]"
      ]
     },
     "execution_count": 124,
     "metadata": {},
     "output_type": "execute_result"
    }
   ],
   "source": [
    "data.iloc[:, 80:81]"
   ]
  },
  {
   "cell_type": "code",
   "execution_count": 125,
   "id": "a1b98f2d-6aab-49dd-b7d4-1e71a45e540f",
   "metadata": {},
   "outputs": [],
   "source": [
    "train_data = lgb.Dataset(data=data.iloc[:, 1:80], label=data.iloc[:, 80:81])"
   ]
  },
  {
   "cell_type": "markdown",
   "id": "87de7d01-12c7-4dab-9f3c-d876789bd7c8",
   "metadata": {},
   "source": [
    "这里需要注意的是特征和标签需要分开输入。"
   ]
  },
  {
   "cell_type": "markdown",
   "id": "cc7bdb5d-0dab-4edb-9955-b20f3f9b26a0",
   "metadata": {},
   "source": [
    "这里我们继续查看此时data和train_data的内存占用情况："
   ]
  },
  {
   "cell_type": "code",
   "execution_count": 126,
   "id": "2cd60b18-15e1-4c26-baa3-08e1b4a50691",
   "metadata": {},
   "outputs": [
    {
     "data": {
      "text/plain": [
       "957776"
      ]
     },
     "execution_count": 126,
     "metadata": {},
     "output_type": "execute_result"
    }
   ],
   "source": [
    "sys.getsizeof(data)"
   ]
  },
  {
   "cell_type": "code",
   "execution_count": 127,
   "id": "fa068683-4ddf-46c1-964a-c344bb2ef388",
   "metadata": {},
   "outputs": [
    {
     "data": {
      "text/plain": [
       "48"
      ]
     },
     "execution_count": 127,
     "metadata": {},
     "output_type": "execute_result"
    }
   ],
   "source": [
    "sys.getsizeof(train_data)"
   ]
  },
  {
   "cell_type": "markdown",
   "id": "c2966f1b-7cbc-4fbf-b9d4-14f2591f4f3d",
   "metadata": {},
   "source": [
    "我们发现，哪怕原始数据集规模增加了数倍，Dataset对象大小仍然不变。这到底是什么原因，我们会从Dataset运行机制层面对其进行解释。"
   ]
  },
  {
   "cell_type": "markdown",
   "id": "ad0c69b5-f57e-4333-9c9b-5d1091346499",
   "metadata": {},
   "source": [
    "&emsp;&emsp;此外需要注意的是，尽管Dataset类型对象不可直接查看内部具体的数据，但仍然可以通过一些方法查看原始数据的相关信息，比如我们可以通过.get_feature_name方法查看原始数据集特征名称，通过.get_data方法查看原始数据集特征，通过.get_label查看原始数据集标签，除了标签外，其他信息的查看需要在创建完Dataset对象类型后训练一次模型才可查看，并且若要查看原始数据集特征和标签，则还需要输入参数free_raw_data=False，该参数表示是否释放创建Dataset类型对象的原始对象。这里条件比较繁琐，但本身并不复杂，通用的查看原始完整数据集的流程是创建Dataset对象时设置free_raw_data=False，然后训练一次模型（相当于加载数据），然后再通过各种方法查看原始数据集。"
   ]
  },
  {
   "cell_type": "code",
   "execution_count": 128,
   "id": "cb1c6d79-7658-43fd-be54-09173fbb581e",
   "metadata": {
    "collapsed": true,
    "jupyter": {
     "outputs_hidden": true
    },
    "tags": []
   },
   "outputs": [
    {
     "data": {
      "text/plain": [
       "\u001b[1;31mInit signature:\u001b[0m\n",
       "\u001b[0mlgb\u001b[0m\u001b[1;33m.\u001b[0m\u001b[0mDataset\u001b[0m\u001b[1;33m(\u001b[0m\u001b[1;33m\n",
       "\u001b[0m    \u001b[0mdata\u001b[0m\u001b[1;33m,\u001b[0m\u001b[1;33m\n",
       "\u001b[0m    \u001b[0mlabel\u001b[0m\u001b[1;33m=\u001b[0m\u001b[1;32mNone\u001b[0m\u001b[1;33m,\u001b[0m\u001b[1;33m\n",
       "\u001b[0m    \u001b[0mreference\u001b[0m\u001b[1;33m=\u001b[0m\u001b[1;32mNone\u001b[0m\u001b[1;33m,\u001b[0m\u001b[1;33m\n",
       "\u001b[0m    \u001b[0mweight\u001b[0m\u001b[1;33m=\u001b[0m\u001b[1;32mNone\u001b[0m\u001b[1;33m,\u001b[0m\u001b[1;33m\n",
       "\u001b[0m    \u001b[0mgroup\u001b[0m\u001b[1;33m=\u001b[0m\u001b[1;32mNone\u001b[0m\u001b[1;33m,\u001b[0m\u001b[1;33m\n",
       "\u001b[0m    \u001b[0minit_score\u001b[0m\u001b[1;33m=\u001b[0m\u001b[1;32mNone\u001b[0m\u001b[1;33m,\u001b[0m\u001b[1;33m\n",
       "\u001b[0m    \u001b[0msilent\u001b[0m\u001b[1;33m=\u001b[0m\u001b[1;34m'warn'\u001b[0m\u001b[1;33m,\u001b[0m\u001b[1;33m\n",
       "\u001b[0m    \u001b[0mfeature_name\u001b[0m\u001b[1;33m=\u001b[0m\u001b[1;34m'auto'\u001b[0m\u001b[1;33m,\u001b[0m\u001b[1;33m\n",
       "\u001b[0m    \u001b[0mcategorical_feature\u001b[0m\u001b[1;33m=\u001b[0m\u001b[1;34m'auto'\u001b[0m\u001b[1;33m,\u001b[0m\u001b[1;33m\n",
       "\u001b[0m    \u001b[0mparams\u001b[0m\u001b[1;33m=\u001b[0m\u001b[1;32mNone\u001b[0m\u001b[1;33m,\u001b[0m\u001b[1;33m\n",
       "\u001b[0m    \u001b[0mfree_raw_data\u001b[0m\u001b[1;33m=\u001b[0m\u001b[1;32mTrue\u001b[0m\u001b[1;33m,\u001b[0m\u001b[1;33m\n",
       "\u001b[0m\u001b[1;33m)\u001b[0m\u001b[1;33m\u001b[0m\u001b[1;33m\u001b[0m\u001b[0m\n",
       "\u001b[1;31mDocstring:\u001b[0m      Dataset in LightGBM.\n",
       "\u001b[1;31mInit docstring:\u001b[0m\n",
       "Initialize Dataset.\n",
       "\n",
       "Parameters\n",
       "----------\n",
       "data : str, pathlib.Path, numpy array, pandas DataFrame, H2O DataTable's Frame, scipy.sparse, Sequence, list of Sequence or list of numpy array\n",
       "    Data source of Dataset.\n",
       "    If str or pathlib.Path, it represents the path to a text file (CSV, TSV, or LibSVM) or a LightGBM Dataset binary file.\n",
       "label : list, numpy 1-D array, pandas Series / one-column DataFrame or None, optional (default=None)\n",
       "    Label of the data.\n",
       "reference : Dataset or None, optional (default=None)\n",
       "    If this is Dataset for validation, training data should be used as reference.\n",
       "weight : list, numpy 1-D array, pandas Series or None, optional (default=None)\n",
       "    Weight for each instance.\n",
       "group : list, numpy 1-D array, pandas Series or None, optional (default=None)\n",
       "    Group/query data.\n",
       "    Only used in the learning-to-rank task.\n",
       "    sum(group) = n_samples.\n",
       "    For example, if you have a 100-document dataset with ``group = [10, 20, 40, 10, 10, 10]``, that means that you have 6 groups,\n",
       "    where the first 10 records are in the first group, records 11-30 are in the second group, records 31-70 are in the third group, etc.\n",
       "init_score : list, list of lists (for multi-class task), numpy array, pandas Series, pandas DataFrame (for multi-class task), or None, optional (default=None)\n",
       "    Init score for Dataset.\n",
       "silent : bool, optional (default=False)\n",
       "    Whether to print messages during construction.\n",
       "feature_name : list of str, or 'auto', optional (default=\"auto\")\n",
       "    Feature names.\n",
       "    If 'auto' and data is pandas DataFrame, data columns names are used.\n",
       "categorical_feature : list of str or int, or 'auto', optional (default=\"auto\")\n",
       "    Categorical features.\n",
       "    If list of int, interpreted as indices.\n",
       "    If list of str, interpreted as feature names (need to specify ``feature_name`` as well).\n",
       "    If 'auto' and data is pandas DataFrame, pandas unordered categorical columns are used.\n",
       "    All values in categorical features should be less than int32 max value (2147483647).\n",
       "    Large values could be memory consuming. Consider using consecutive integers starting from zero.\n",
       "    All negative values in categorical features will be treated as missing values.\n",
       "    The output cannot be monotonically constrained with respect to a categorical feature.\n",
       "params : dict or None, optional (default=None)\n",
       "    Other parameters for Dataset.\n",
       "free_raw_data : bool, optional (default=True)\n",
       "    If True, raw data is freed after constructing inner Dataset.\n",
       "\u001b[1;31mFile:\u001b[0m           d:\\anaconda3\\lib\\site-packages\\lightgbm\\basic.py\n",
       "\u001b[1;31mType:\u001b[0m           type\n",
       "\u001b[1;31mSubclasses:\u001b[0m     \n"
      ]
     },
     "metadata": {},
     "output_type": "display_data"
    }
   ],
   "source": [
    "lgb.Dataset?"
   ]
  },
  {
   "cell_type": "code",
   "execution_count": 129,
   "id": "686fa0fa-0cd1-46c6-a576-c43367c3224b",
   "metadata": {},
   "outputs": [],
   "source": [
    "train_data = lgb.Dataset(data=data.iloc[:, 1:80], label=data.iloc[:, 80:81], free_raw_data=False)"
   ]
  },
  {
   "cell_type": "markdown",
   "id": "4a526762-c414-4418-90a2-5cc88c13a629",
   "metadata": {},
   "source": [
    "在加载数据集之前是无法查看数据集和特征名，只能查看标签信息："
   ]
  },
  {
   "cell_type": "code",
   "execution_count": 130,
   "id": "67e1f53a-95a9-4217-8995-0d0ca2286bb0",
   "metadata": {
    "tags": []
   },
   "outputs": [
    {
     "data": {
      "text/html": [
       "<div>\n",
       "<style scoped>\n",
       "    .dataframe tbody tr th:only-of-type {\n",
       "        vertical-align: middle;\n",
       "    }\n",
       "\n",
       "    .dataframe tbody tr th {\n",
       "        vertical-align: top;\n",
       "    }\n",
       "\n",
       "    .dataframe thead th {\n",
       "        text-align: right;\n",
       "    }\n",
       "</style>\n",
       "<table border=\"1\" class=\"dataframe\">\n",
       "  <thead>\n",
       "    <tr style=\"text-align: right;\">\n",
       "      <th></th>\n",
       "      <th>SalePrice</th>\n",
       "    </tr>\n",
       "  </thead>\n",
       "  <tbody>\n",
       "    <tr>\n",
       "      <th>0</th>\n",
       "      <td>208500</td>\n",
       "    </tr>\n",
       "    <tr>\n",
       "      <th>1</th>\n",
       "      <td>181500</td>\n",
       "    </tr>\n",
       "    <tr>\n",
       "      <th>2</th>\n",
       "      <td>223500</td>\n",
       "    </tr>\n",
       "    <tr>\n",
       "      <th>3</th>\n",
       "      <td>140000</td>\n",
       "    </tr>\n",
       "    <tr>\n",
       "      <th>4</th>\n",
       "      <td>250000</td>\n",
       "    </tr>\n",
       "    <tr>\n",
       "      <th>...</th>\n",
       "      <td>...</td>\n",
       "    </tr>\n",
       "    <tr>\n",
       "      <th>1455</th>\n",
       "      <td>175000</td>\n",
       "    </tr>\n",
       "    <tr>\n",
       "      <th>1456</th>\n",
       "      <td>210000</td>\n",
       "    </tr>\n",
       "    <tr>\n",
       "      <th>1457</th>\n",
       "      <td>266500</td>\n",
       "    </tr>\n",
       "    <tr>\n",
       "      <th>1458</th>\n",
       "      <td>142125</td>\n",
       "    </tr>\n",
       "    <tr>\n",
       "      <th>1459</th>\n",
       "      <td>147500</td>\n",
       "    </tr>\n",
       "  </tbody>\n",
       "</table>\n",
       "<p>1460 rows × 1 columns</p>\n",
       "</div>"
      ],
      "text/plain": [
       "      SalePrice\n",
       "0        208500\n",
       "1        181500\n",
       "2        223500\n",
       "3        140000\n",
       "4        250000\n",
       "...         ...\n",
       "1455     175000\n",
       "1456     210000\n",
       "1457     266500\n",
       "1458     142125\n",
       "1459     147500\n",
       "\n",
       "[1460 rows x 1 columns]"
      ]
     },
     "execution_count": 130,
     "metadata": {},
     "output_type": "execute_result"
    }
   ],
   "source": [
    "train_data.get_label()"
   ]
  },
  {
   "cell_type": "code",
   "execution_count": 131,
   "id": "381d4347-78fd-44af-b5b8-0d6bab9635d7",
   "metadata": {
    "collapsed": true,
    "jupyter": {
     "outputs_hidden": true
    },
    "tags": []
   },
   "outputs": [
    {
     "ename": "Exception",
     "evalue": "Cannot get data before construct Dataset",
     "output_type": "error",
     "traceback": [
      "\u001b[1;31m---------------------------------------------------------------------------\u001b[0m",
      "\u001b[1;31mException\u001b[0m                                 Traceback (most recent call last)",
      "Input \u001b[1;32mIn [131]\u001b[0m, in \u001b[0;36m<cell line: 1>\u001b[1;34m()\u001b[0m\n\u001b[1;32m----> 1\u001b[0m \u001b[43mtrain_data\u001b[49m\u001b[38;5;241;43m.\u001b[39;49m\u001b[43mget_data\u001b[49m\u001b[43m(\u001b[49m\u001b[43m)\u001b[49m\n",
      "File \u001b[1;32mD:\\anaconda3\\lib\\site-packages\\lightgbm\\basic.py:2316\u001b[0m, in \u001b[0;36mDataset.get_data\u001b[1;34m(self)\u001b[0m\n\u001b[0;32m   2308\u001b[0m \u001b[38;5;124;03m\"\"\"Get the raw data of the Dataset.\u001b[39;00m\n\u001b[0;32m   2309\u001b[0m \n\u001b[0;32m   2310\u001b[0m \u001b[38;5;124;03mReturns\u001b[39;00m\n\u001b[1;32m   (...)\u001b[0m\n\u001b[0;32m   2313\u001b[0m \u001b[38;5;124;03m    Raw data used in the Dataset construction.\u001b[39;00m\n\u001b[0;32m   2314\u001b[0m \u001b[38;5;124;03m\"\"\"\u001b[39;00m\n\u001b[0;32m   2315\u001b[0m \u001b[38;5;28;01mif\u001b[39;00m \u001b[38;5;28mself\u001b[39m\u001b[38;5;241m.\u001b[39mhandle \u001b[38;5;129;01mis\u001b[39;00m \u001b[38;5;28;01mNone\u001b[39;00m:\n\u001b[1;32m-> 2316\u001b[0m     \u001b[38;5;28;01mraise\u001b[39;00m \u001b[38;5;167;01mException\u001b[39;00m(\u001b[38;5;124m\"\u001b[39m\u001b[38;5;124mCannot get data before construct Dataset\u001b[39m\u001b[38;5;124m\"\u001b[39m)\n\u001b[0;32m   2317\u001b[0m \u001b[38;5;28;01mif\u001b[39;00m \u001b[38;5;28mself\u001b[39m\u001b[38;5;241m.\u001b[39mneed_slice \u001b[38;5;129;01mand\u001b[39;00m \u001b[38;5;28mself\u001b[39m\u001b[38;5;241m.\u001b[39mused_indices \u001b[38;5;129;01mis\u001b[39;00m \u001b[38;5;129;01mnot\u001b[39;00m \u001b[38;5;28;01mNone\u001b[39;00m \u001b[38;5;129;01mand\u001b[39;00m \u001b[38;5;28mself\u001b[39m\u001b[38;5;241m.\u001b[39mreference \u001b[38;5;129;01mis\u001b[39;00m \u001b[38;5;129;01mnot\u001b[39;00m \u001b[38;5;28;01mNone\u001b[39;00m:\n\u001b[0;32m   2318\u001b[0m     \u001b[38;5;28mself\u001b[39m\u001b[38;5;241m.\u001b[39mdata \u001b[38;5;241m=\u001b[39m \u001b[38;5;28mself\u001b[39m\u001b[38;5;241m.\u001b[39mreference\u001b[38;5;241m.\u001b[39mdata\n",
      "\u001b[1;31mException\u001b[0m: Cannot get data before construct Dataset"
     ]
    }
   ],
   "source": [
    "train_data.get_data()"
   ]
  },
  {
   "cell_type": "code",
   "execution_count": 132,
   "id": "3df8c361-4ae7-4f85-8ced-b9384fccff31",
   "metadata": {
    "collapsed": true,
    "jupyter": {
     "outputs_hidden": true
    },
    "tags": []
   },
   "outputs": [
    {
     "ename": "LightGBMError",
     "evalue": "Cannot get feature_name before construct dataset",
     "output_type": "error",
     "traceback": [
      "\u001b[1;31m---------------------------------------------------------------------------\u001b[0m",
      "\u001b[1;31mLightGBMError\u001b[0m                             Traceback (most recent call last)",
      "Input \u001b[1;32mIn [132]\u001b[0m, in \u001b[0;36m<cell line: 1>\u001b[1;34m()\u001b[0m\n\u001b[1;32m----> 1\u001b[0m \u001b[43mtrain_data\u001b[49m\u001b[38;5;241;43m.\u001b[39;49m\u001b[43mget_feature_name\u001b[49m\u001b[43m(\u001b[49m\u001b[43m)\u001b[49m\n",
      "File \u001b[1;32mD:\\anaconda3\\lib\\site-packages\\lightgbm\\basic.py:2241\u001b[0m, in \u001b[0;36mDataset.get_feature_name\u001b[1;34m(self)\u001b[0m\n\u001b[0;32m   2233\u001b[0m \u001b[38;5;124;03m\"\"\"Get the names of columns (features) in the Dataset.\u001b[39;00m\n\u001b[0;32m   2234\u001b[0m \n\u001b[0;32m   2235\u001b[0m \u001b[38;5;124;03mReturns\u001b[39;00m\n\u001b[1;32m   (...)\u001b[0m\n\u001b[0;32m   2238\u001b[0m \u001b[38;5;124;03m    The names of columns (features) in the Dataset.\u001b[39;00m\n\u001b[0;32m   2239\u001b[0m \u001b[38;5;124;03m\"\"\"\u001b[39;00m\n\u001b[0;32m   2240\u001b[0m \u001b[38;5;28;01mif\u001b[39;00m \u001b[38;5;28mself\u001b[39m\u001b[38;5;241m.\u001b[39mhandle \u001b[38;5;129;01mis\u001b[39;00m \u001b[38;5;28;01mNone\u001b[39;00m:\n\u001b[1;32m-> 2241\u001b[0m     \u001b[38;5;28;01mraise\u001b[39;00m LightGBMError(\u001b[38;5;124m\"\u001b[39m\u001b[38;5;124mCannot get feature_name before construct dataset\u001b[39m\u001b[38;5;124m\"\u001b[39m)\n\u001b[0;32m   2242\u001b[0m num_feature \u001b[38;5;241m=\u001b[39m \u001b[38;5;28mself\u001b[39m\u001b[38;5;241m.\u001b[39mnum_feature()\n\u001b[0;32m   2243\u001b[0m tmp_out_len \u001b[38;5;241m=\u001b[39m ctypes\u001b[38;5;241m.\u001b[39mc_int(\u001b[38;5;241m0\u001b[39m)\n",
      "\u001b[1;31mLightGBMError\u001b[0m: Cannot get feature_name before construct dataset"
     ]
    }
   ],
   "source": [
    "train_data.get_feature_name()"
   ]
  },
  {
   "cell_type": "markdown",
   "id": "eeca0e29-558e-4d2f-844f-a8d322d4fe98",
   "metadata": {},
   "source": [
    "> LGBM为何如此设置？究其原因还是在于标签本身占内存较少，且根据Dataset要求，特征可以本地读取，但标签必须要从当前操作环境中进行读取，这也降低了对标签“反解析”的门槛。LGBM有非常多类似的非常细节的设计，我们会在实际教学过程中逐一为大家进行介绍。"
   ]
  },
  {
   "cell_type": "markdown",
   "id": "ecc769ad-4601-4121-a97c-3b62b910a565",
   "metadata": {},
   "source": [
    "然后加载数据集，用一次模型训练即可完成数据集加载："
   ]
  },
  {
   "cell_type": "code",
   "execution_count": 133,
   "id": "c20e3f08-5fd2-4d5a-825a-82cfb452449b",
   "metadata": {},
   "outputs": [
    {
     "name": "stdout",
     "output_type": "stream",
     "text": [
      "[LightGBM] [Warning] Auto-choosing col-wise multi-threading, the overhead of testing was 0.001801 seconds.\n",
      "You can set `force_col_wise=true` to remove the overhead.\n",
      "[LightGBM] [Info] Total Bins 3368\n",
      "[LightGBM] [Info] Number of data points in the train set: 1460, number of used features: 74\n",
      "[LightGBM] [Info] Start training from score 180921.195890\n"
     ]
    }
   ],
   "source": [
    "param = {}\n",
    "bst = lgb.train(param, train_data)"
   ]
  },
  {
   "cell_type": "markdown",
   "id": "37472f48-7f89-4bed-b650-3c68fe65f2d9",
   "metadata": {},
   "source": [
    "此时即可查看数据集原始数据和特征名称："
   ]
  },
  {
   "cell_type": "code",
   "execution_count": 134,
   "id": "440d326c-440a-4d61-9f37-a7012ee23b78",
   "metadata": {
    "collapsed": true,
    "jupyter": {
     "outputs_hidden": true
    },
    "tags": []
   },
   "outputs": [
    {
     "data": {
      "text/html": [
       "<div>\n",
       "<style scoped>\n",
       "    .dataframe tbody tr th:only-of-type {\n",
       "        vertical-align: middle;\n",
       "    }\n",
       "\n",
       "    .dataframe tbody tr th {\n",
       "        vertical-align: top;\n",
       "    }\n",
       "\n",
       "    .dataframe thead th {\n",
       "        text-align: right;\n",
       "    }\n",
       "</style>\n",
       "<table border=\"1\" class=\"dataframe\">\n",
       "  <thead>\n",
       "    <tr style=\"text-align: right;\">\n",
       "      <th></th>\n",
       "      <th>住宅类型</th>\n",
       "      <th>住宅区域</th>\n",
       "      <th>街道接触面积(英尺)</th>\n",
       "      <th>住宅面积</th>\n",
       "      <th>街道路面状况</th>\n",
       "      <th>巷子路面状况</th>\n",
       "      <th>住宅形状(大概)</th>\n",
       "      <th>住宅现状</th>\n",
       "      <th>水电气</th>\n",
       "      <th>住宅配置</th>\n",
       "      <th>...</th>\n",
       "      <th>半开放式门廊面积</th>\n",
       "      <th>泳池面积</th>\n",
       "      <th>泳池质量</th>\n",
       "      <th>篱笆质量</th>\n",
       "      <th>其他配置</th>\n",
       "      <th>其他配置的价值</th>\n",
       "      <th>销售月份</th>\n",
       "      <th>销售年份</th>\n",
       "      <th>销售类型</th>\n",
       "      <th>销售状态</th>\n",
       "    </tr>\n",
       "  </thead>\n",
       "  <tbody>\n",
       "    <tr>\n",
       "      <th>0</th>\n",
       "      <td>5.0</td>\n",
       "      <td>3.0</td>\n",
       "      <td>36.0</td>\n",
       "      <td>327.0</td>\n",
       "      <td>1.0</td>\n",
       "      <td>0.0</td>\n",
       "      <td>3.0</td>\n",
       "      <td>3.0</td>\n",
       "      <td>0.0</td>\n",
       "      <td>4.0</td>\n",
       "      <td>...</td>\n",
       "      <td>0.0</td>\n",
       "      <td>0.0</td>\n",
       "      <td>0.0</td>\n",
       "      <td>0.0</td>\n",
       "      <td>0.0</td>\n",
       "      <td>0.0</td>\n",
       "      <td>1.0</td>\n",
       "      <td>2.0</td>\n",
       "      <td>8.0</td>\n",
       "      <td>4.0</td>\n",
       "    </tr>\n",
       "    <tr>\n",
       "      <th>1</th>\n",
       "      <td>0.0</td>\n",
       "      <td>3.0</td>\n",
       "      <td>51.0</td>\n",
       "      <td>498.0</td>\n",
       "      <td>1.0</td>\n",
       "      <td>0.0</td>\n",
       "      <td>3.0</td>\n",
       "      <td>3.0</td>\n",
       "      <td>0.0</td>\n",
       "      <td>2.0</td>\n",
       "      <td>...</td>\n",
       "      <td>0.0</td>\n",
       "      <td>0.0</td>\n",
       "      <td>0.0</td>\n",
       "      <td>0.0</td>\n",
       "      <td>0.0</td>\n",
       "      <td>0.0</td>\n",
       "      <td>4.0</td>\n",
       "      <td>1.0</td>\n",
       "      <td>8.0</td>\n",
       "      <td>4.0</td>\n",
       "    </tr>\n",
       "    <tr>\n",
       "      <th>2</th>\n",
       "      <td>5.0</td>\n",
       "      <td>3.0</td>\n",
       "      <td>39.0</td>\n",
       "      <td>702.0</td>\n",
       "      <td>1.0</td>\n",
       "      <td>0.0</td>\n",
       "      <td>0.0</td>\n",
       "      <td>3.0</td>\n",
       "      <td>0.0</td>\n",
       "      <td>4.0</td>\n",
       "      <td>...</td>\n",
       "      <td>0.0</td>\n",
       "      <td>0.0</td>\n",
       "      <td>0.0</td>\n",
       "      <td>0.0</td>\n",
       "      <td>0.0</td>\n",
       "      <td>0.0</td>\n",
       "      <td>8.0</td>\n",
       "      <td>2.0</td>\n",
       "      <td>8.0</td>\n",
       "      <td>4.0</td>\n",
       "    </tr>\n",
       "    <tr>\n",
       "      <th>3</th>\n",
       "      <td>6.0</td>\n",
       "      <td>3.0</td>\n",
       "      <td>31.0</td>\n",
       "      <td>489.0</td>\n",
       "      <td>1.0</td>\n",
       "      <td>0.0</td>\n",
       "      <td>0.0</td>\n",
       "      <td>3.0</td>\n",
       "      <td>0.0</td>\n",
       "      <td>0.0</td>\n",
       "      <td>...</td>\n",
       "      <td>0.0</td>\n",
       "      <td>0.0</td>\n",
       "      <td>0.0</td>\n",
       "      <td>0.0</td>\n",
       "      <td>0.0</td>\n",
       "      <td>0.0</td>\n",
       "      <td>1.0</td>\n",
       "      <td>0.0</td>\n",
       "      <td>8.0</td>\n",
       "      <td>0.0</td>\n",
       "    </tr>\n",
       "    <tr>\n",
       "      <th>4</th>\n",
       "      <td>5.0</td>\n",
       "      <td>3.0</td>\n",
       "      <td>55.0</td>\n",
       "      <td>925.0</td>\n",
       "      <td>1.0</td>\n",
       "      <td>0.0</td>\n",
       "      <td>0.0</td>\n",
       "      <td>3.0</td>\n",
       "      <td>0.0</td>\n",
       "      <td>2.0</td>\n",
       "      <td>...</td>\n",
       "      <td>0.0</td>\n",
       "      <td>0.0</td>\n",
       "      <td>0.0</td>\n",
       "      <td>0.0</td>\n",
       "      <td>0.0</td>\n",
       "      <td>0.0</td>\n",
       "      <td>11.0</td>\n",
       "      <td>2.0</td>\n",
       "      <td>8.0</td>\n",
       "      <td>4.0</td>\n",
       "    </tr>\n",
       "    <tr>\n",
       "      <th>...</th>\n",
       "      <td>...</td>\n",
       "      <td>...</td>\n",
       "      <td>...</td>\n",
       "      <td>...</td>\n",
       "      <td>...</td>\n",
       "      <td>...</td>\n",
       "      <td>...</td>\n",
       "      <td>...</td>\n",
       "      <td>...</td>\n",
       "      <td>...</td>\n",
       "      <td>...</td>\n",
       "      <td>...</td>\n",
       "      <td>...</td>\n",
       "      <td>...</td>\n",
       "      <td>...</td>\n",
       "      <td>...</td>\n",
       "      <td>...</td>\n",
       "      <td>...</td>\n",
       "      <td>...</td>\n",
       "      <td>...</td>\n",
       "      <td>...</td>\n",
       "    </tr>\n",
       "    <tr>\n",
       "      <th>1455</th>\n",
       "      <td>5.0</td>\n",
       "      <td>3.0</td>\n",
       "      <td>33.0</td>\n",
       "      <td>267.0</td>\n",
       "      <td>1.0</td>\n",
       "      <td>0.0</td>\n",
       "      <td>3.0</td>\n",
       "      <td>3.0</td>\n",
       "      <td>0.0</td>\n",
       "      <td>4.0</td>\n",
       "      <td>...</td>\n",
       "      <td>0.0</td>\n",
       "      <td>0.0</td>\n",
       "      <td>0.0</td>\n",
       "      <td>0.0</td>\n",
       "      <td>0.0</td>\n",
       "      <td>0.0</td>\n",
       "      <td>7.0</td>\n",
       "      <td>1.0</td>\n",
       "      <td>8.0</td>\n",
       "      <td>4.0</td>\n",
       "    </tr>\n",
       "    <tr>\n",
       "      <th>1456</th>\n",
       "      <td>0.0</td>\n",
       "      <td>3.0</td>\n",
       "      <td>56.0</td>\n",
       "      <td>866.0</td>\n",
       "      <td>1.0</td>\n",
       "      <td>0.0</td>\n",
       "      <td>3.0</td>\n",
       "      <td>3.0</td>\n",
       "      <td>0.0</td>\n",
       "      <td>4.0</td>\n",
       "      <td>...</td>\n",
       "      <td>0.0</td>\n",
       "      <td>0.0</td>\n",
       "      <td>0.0</td>\n",
       "      <td>2.0</td>\n",
       "      <td>0.0</td>\n",
       "      <td>0.0</td>\n",
       "      <td>1.0</td>\n",
       "      <td>4.0</td>\n",
       "      <td>8.0</td>\n",
       "      <td>4.0</td>\n",
       "    </tr>\n",
       "    <tr>\n",
       "      <th>1457</th>\n",
       "      <td>6.0</td>\n",
       "      <td>3.0</td>\n",
       "      <td>37.0</td>\n",
       "      <td>415.0</td>\n",
       "      <td>1.0</td>\n",
       "      <td>0.0</td>\n",
       "      <td>3.0</td>\n",
       "      <td>3.0</td>\n",
       "      <td>0.0</td>\n",
       "      <td>4.0</td>\n",
       "      <td>...</td>\n",
       "      <td>0.0</td>\n",
       "      <td>0.0</td>\n",
       "      <td>0.0</td>\n",
       "      <td>0.0</td>\n",
       "      <td>2.0</td>\n",
       "      <td>17.0</td>\n",
       "      <td>4.0</td>\n",
       "      <td>4.0</td>\n",
       "      <td>8.0</td>\n",
       "      <td>4.0</td>\n",
       "    </tr>\n",
       "    <tr>\n",
       "      <th>1458</th>\n",
       "      <td>0.0</td>\n",
       "      <td>3.0</td>\n",
       "      <td>39.0</td>\n",
       "      <td>505.0</td>\n",
       "      <td>1.0</td>\n",
       "      <td>0.0</td>\n",
       "      <td>3.0</td>\n",
       "      <td>3.0</td>\n",
       "      <td>0.0</td>\n",
       "      <td>4.0</td>\n",
       "      <td>...</td>\n",
       "      <td>0.0</td>\n",
       "      <td>0.0</td>\n",
       "      <td>0.0</td>\n",
       "      <td>0.0</td>\n",
       "      <td>0.0</td>\n",
       "      <td>0.0</td>\n",
       "      <td>3.0</td>\n",
       "      <td>4.0</td>\n",
       "      <td>8.0</td>\n",
       "      <td>4.0</td>\n",
       "    </tr>\n",
       "    <tr>\n",
       "      <th>1459</th>\n",
       "      <td>0.0</td>\n",
       "      <td>3.0</td>\n",
       "      <td>46.0</td>\n",
       "      <td>532.0</td>\n",
       "      <td>1.0</td>\n",
       "      <td>0.0</td>\n",
       "      <td>3.0</td>\n",
       "      <td>3.0</td>\n",
       "      <td>0.0</td>\n",
       "      <td>4.0</td>\n",
       "      <td>...</td>\n",
       "      <td>0.0</td>\n",
       "      <td>0.0</td>\n",
       "      <td>0.0</td>\n",
       "      <td>0.0</td>\n",
       "      <td>0.0</td>\n",
       "      <td>0.0</td>\n",
       "      <td>5.0</td>\n",
       "      <td>2.0</td>\n",
       "      <td>8.0</td>\n",
       "      <td>4.0</td>\n",
       "    </tr>\n",
       "  </tbody>\n",
       "</table>\n",
       "<p>1460 rows × 79 columns</p>\n",
       "</div>"
      ],
      "text/plain": [
       "      住宅类型  住宅区域  街道接触面积(英尺)   住宅面积  街道路面状况  巷子路面状况  住宅形状(大概)  住宅现状  水电气  \\\n",
       "0      5.0   3.0        36.0  327.0     1.0     0.0       3.0   3.0  0.0   \n",
       "1      0.0   3.0        51.0  498.0     1.0     0.0       3.0   3.0  0.0   \n",
       "2      5.0   3.0        39.0  702.0     1.0     0.0       0.0   3.0  0.0   \n",
       "3      6.0   3.0        31.0  489.0     1.0     0.0       0.0   3.0  0.0   \n",
       "4      5.0   3.0        55.0  925.0     1.0     0.0       0.0   3.0  0.0   \n",
       "...    ...   ...         ...    ...     ...     ...       ...   ...  ...   \n",
       "1455   5.0   3.0        33.0  267.0     1.0     0.0       3.0   3.0  0.0   \n",
       "1456   0.0   3.0        56.0  866.0     1.0     0.0       3.0   3.0  0.0   \n",
       "1457   6.0   3.0        37.0  415.0     1.0     0.0       3.0   3.0  0.0   \n",
       "1458   0.0   3.0        39.0  505.0     1.0     0.0       3.0   3.0  0.0   \n",
       "1459   0.0   3.0        46.0  532.0     1.0     0.0       3.0   3.0  0.0   \n",
       "\n",
       "      住宅配置  ...  半开放式门廊面积  泳池面积  泳池质量  篱笆质量  其他配置  其他配置的价值  销售月份  销售年份  销售类型  \\\n",
       "0      4.0  ...       0.0   0.0   0.0   0.0   0.0      0.0   1.0   2.0   8.0   \n",
       "1      2.0  ...       0.0   0.0   0.0   0.0   0.0      0.0   4.0   1.0   8.0   \n",
       "2      4.0  ...       0.0   0.0   0.0   0.0   0.0      0.0   8.0   2.0   8.0   \n",
       "3      0.0  ...       0.0   0.0   0.0   0.0   0.0      0.0   1.0   0.0   8.0   \n",
       "4      2.0  ...       0.0   0.0   0.0   0.0   0.0      0.0  11.0   2.0   8.0   \n",
       "...    ...  ...       ...   ...   ...   ...   ...      ...   ...   ...   ...   \n",
       "1455   4.0  ...       0.0   0.0   0.0   0.0   0.0      0.0   7.0   1.0   8.0   \n",
       "1456   4.0  ...       0.0   0.0   0.0   2.0   0.0      0.0   1.0   4.0   8.0   \n",
       "1457   4.0  ...       0.0   0.0   0.0   0.0   2.0     17.0   4.0   4.0   8.0   \n",
       "1458   4.0  ...       0.0   0.0   0.0   0.0   0.0      0.0   3.0   4.0   8.0   \n",
       "1459   4.0  ...       0.0   0.0   0.0   0.0   0.0      0.0   5.0   2.0   8.0   \n",
       "\n",
       "      销售状态  \n",
       "0      4.0  \n",
       "1      4.0  \n",
       "2      4.0  \n",
       "3      0.0  \n",
       "4      4.0  \n",
       "...    ...  \n",
       "1455   4.0  \n",
       "1456   4.0  \n",
       "1457   4.0  \n",
       "1458   4.0  \n",
       "1459   4.0  \n",
       "\n",
       "[1460 rows x 79 columns]"
      ]
     },
     "execution_count": 134,
     "metadata": {},
     "output_type": "execute_result"
    }
   ],
   "source": [
    "train_data.get_data()"
   ]
  },
  {
   "cell_type": "code",
   "execution_count": 135,
   "id": "11d038af-7b45-4f95-a747-4a8824756654",
   "metadata": {
    "collapsed": true,
    "jupyter": {
     "outputs_hidden": true
    },
    "tags": []
   },
   "outputs": [
    {
     "data": {
      "text/plain": [
       "['住宅类型',\n",
       " '住宅区域',\n",
       " '街道接触面积(英尺)',\n",
       " '住宅面积',\n",
       " '街道路面状况',\n",
       " '巷子路面状况',\n",
       " '住宅形状(大概)',\n",
       " '住宅现状',\n",
       " '水电气',\n",
       " '住宅配置',\n",
       " '住宅视野',\n",
       " '社区',\n",
       " '住宅周边1',\n",
       " '住宅周边2',\n",
       " '适用家庭',\n",
       " '住宅房型',\n",
       " '装修质量',\n",
       " '整体质量',\n",
       " '建造年份',\n",
       " '法律拆除年份',\n",
       " '天花板类型',\n",
       " '天花板材料',\n",
       " '户外装饰1',\n",
       " '户外装饰2',\n",
       " '砖墙类型',\n",
       " '砖墙面积',\n",
       " '户外材料质量',\n",
       " '户外装修质量',\n",
       " '地下室类型',\n",
       " '地下室深度',\n",
       " '地下室质量',\n",
       " '花园外墙',\n",
       " '地下室现状1',\n",
       " '地下室一层标准面积',\n",
       " '地下室现状2',\n",
       " '地下室二层标准面积',\n",
       " '地下室建造现状',\n",
       " '整体地下室面积',\n",
       " '暖气类型',\n",
       " '暖气质量',\n",
       " '中央空调',\n",
       " '电力系统',\n",
       " '二楼面积',\n",
       " '三楼面积',\n",
       " '全低质量面积',\n",
       " '户外活动空间面积',\n",
       " '全卫地下室',\n",
       " '半卫地下室',\n",
       " '全卫及以上',\n",
       " '半卫及以上',\n",
       " '卧室及以上',\n",
       " '厨房及以上',\n",
       " '厨房质量',\n",
       " '总房间量',\n",
       " '住宅性能',\n",
       " '壁炉数量',\n",
       " '壁炉质量',\n",
       " '车库类型',\n",
       " '车库建造时间',\n",
       " '车库装修现状',\n",
       " '车位数量',\n",
       " '车库面积',\n",
       " '车库质量',\n",
       " '车库现状',\n",
       " '石板路',\n",
       " '木板面积',\n",
       " '开放式门廊面积',\n",
       " '关闭式门廊面积',\n",
       " '三季门廊面积',\n",
       " '半开放式门廊面积',\n",
       " '泳池面积',\n",
       " '泳池质量',\n",
       " '篱笆质量',\n",
       " '其他配置',\n",
       " '其他配置的价值',\n",
       " '销售月份',\n",
       " '销售年份',\n",
       " '销售类型',\n",
       " '销售状态']"
      ]
     },
     "execution_count": 135,
     "metadata": {},
     "output_type": "execute_result"
    }
   ],
   "source": [
    "train_data.get_feature_name()"
   ]
  },
  {
   "cell_type": "markdown",
   "id": "731e6f37-8ed2-495c-9b89-4cd7018f5582",
   "metadata": {},
   "source": [
    "不过通过这个流程，我们也不难发现，其实Dataset对数据集的存储过程其实比较复杂：LGBM提供了一种特殊的数据存储格式，但同时在首次创建Dataset类型对象时其实只保留了原始数据集的核心信息，当我们需要建模时会根据这些“核心信息”对数据集进行“编译”或者加载，但加载得到的这个数据集在默认情况下是个临时数据集，若设置了free_raw_data=False，则这个临时数据集就会变成长期存在的数据集，可以通过.get_等一系列方法来溯源获得，而在默认参数free_raw_data=True的情况下，这个创建的临时数据集将在加载完（也就是模型训练完）之后被释放掉，以此来进行有效的内存管理。"
   ]
  },
  {
   "cell_type": "markdown",
   "id": "aa0fb28d-c092-4d10-986e-48b3a0e32015",
   "metadata": {},
   "source": [
    "&emsp;&emsp;因此，在大多数情况下，都不建议设置free_raw_data=True（会增加隐性内存占用）。此外，另一个需要注意的是，在Dataset对象创建之后，无论原始数据集是否被删除，都不影响Dataset的加载和对应的模型训练过程。也就是说，为了更好的进行内存管理，我们完全可以在创建完Dataset对象后，将原始数据文件（先进行本地保存然后再）删除，以减少内存占用。"
   ]
  },
  {
   "cell_type": "code",
   "execution_count": 136,
   "id": "e2be6090-fabd-40c6-acaa-891508cba117",
   "metadata": {},
   "outputs": [],
   "source": [
    "del(data)"
   ]
  },
  {
   "cell_type": "code",
   "execution_count": 137,
   "id": "4e2f715b-f628-4974-89ff-afd3a690cf35",
   "metadata": {},
   "outputs": [
    {
     "ename": "NameError",
     "evalue": "name 'data' is not defined",
     "output_type": "error",
     "traceback": [
      "\u001b[1;31m---------------------------------------------------------------------------\u001b[0m",
      "\u001b[1;31mNameError\u001b[0m                                 Traceback (most recent call last)",
      "Input \u001b[1;32mIn [137]\u001b[0m, in \u001b[0;36m<cell line: 1>\u001b[1;34m()\u001b[0m\n\u001b[1;32m----> 1\u001b[0m \u001b[43mdata\u001b[49m\n",
      "\u001b[1;31mNameError\u001b[0m: name 'data' is not defined"
     ]
    }
   ],
   "source": [
    "data"
   ]
  },
  {
   "cell_type": "code",
   "execution_count": 138,
   "id": "a4cc5a60-824d-4d18-8dde-c4674d3a528d",
   "metadata": {},
   "outputs": [
    {
     "data": {
      "text/html": [
       "<div>\n",
       "<style scoped>\n",
       "    .dataframe tbody tr th:only-of-type {\n",
       "        vertical-align: middle;\n",
       "    }\n",
       "\n",
       "    .dataframe tbody tr th {\n",
       "        vertical-align: top;\n",
       "    }\n",
       "\n",
       "    .dataframe thead th {\n",
       "        text-align: right;\n",
       "    }\n",
       "</style>\n",
       "<table border=\"1\" class=\"dataframe\">\n",
       "  <thead>\n",
       "    <tr style=\"text-align: right;\">\n",
       "      <th></th>\n",
       "      <th>住宅类型</th>\n",
       "      <th>住宅区域</th>\n",
       "      <th>街道接触面积(英尺)</th>\n",
       "      <th>住宅面积</th>\n",
       "      <th>街道路面状况</th>\n",
       "      <th>巷子路面状况</th>\n",
       "      <th>住宅形状(大概)</th>\n",
       "      <th>住宅现状</th>\n",
       "      <th>水电气</th>\n",
       "      <th>住宅配置</th>\n",
       "      <th>...</th>\n",
       "      <th>半开放式门廊面积</th>\n",
       "      <th>泳池面积</th>\n",
       "      <th>泳池质量</th>\n",
       "      <th>篱笆质量</th>\n",
       "      <th>其他配置</th>\n",
       "      <th>其他配置的价值</th>\n",
       "      <th>销售月份</th>\n",
       "      <th>销售年份</th>\n",
       "      <th>销售类型</th>\n",
       "      <th>销售状态</th>\n",
       "    </tr>\n",
       "  </thead>\n",
       "  <tbody>\n",
       "    <tr>\n",
       "      <th>0</th>\n",
       "      <td>5.0</td>\n",
       "      <td>3.0</td>\n",
       "      <td>36.0</td>\n",
       "      <td>327.0</td>\n",
       "      <td>1.0</td>\n",
       "      <td>0.0</td>\n",
       "      <td>3.0</td>\n",
       "      <td>3.0</td>\n",
       "      <td>0.0</td>\n",
       "      <td>4.0</td>\n",
       "      <td>...</td>\n",
       "      <td>0.0</td>\n",
       "      <td>0.0</td>\n",
       "      <td>0.0</td>\n",
       "      <td>0.0</td>\n",
       "      <td>0.0</td>\n",
       "      <td>0.0</td>\n",
       "      <td>1.0</td>\n",
       "      <td>2.0</td>\n",
       "      <td>8.0</td>\n",
       "      <td>4.0</td>\n",
       "    </tr>\n",
       "    <tr>\n",
       "      <th>1</th>\n",
       "      <td>0.0</td>\n",
       "      <td>3.0</td>\n",
       "      <td>51.0</td>\n",
       "      <td>498.0</td>\n",
       "      <td>1.0</td>\n",
       "      <td>0.0</td>\n",
       "      <td>3.0</td>\n",
       "      <td>3.0</td>\n",
       "      <td>0.0</td>\n",
       "      <td>2.0</td>\n",
       "      <td>...</td>\n",
       "      <td>0.0</td>\n",
       "      <td>0.0</td>\n",
       "      <td>0.0</td>\n",
       "      <td>0.0</td>\n",
       "      <td>0.0</td>\n",
       "      <td>0.0</td>\n",
       "      <td>4.0</td>\n",
       "      <td>1.0</td>\n",
       "      <td>8.0</td>\n",
       "      <td>4.0</td>\n",
       "    </tr>\n",
       "    <tr>\n",
       "      <th>2</th>\n",
       "      <td>5.0</td>\n",
       "      <td>3.0</td>\n",
       "      <td>39.0</td>\n",
       "      <td>702.0</td>\n",
       "      <td>1.0</td>\n",
       "      <td>0.0</td>\n",
       "      <td>0.0</td>\n",
       "      <td>3.0</td>\n",
       "      <td>0.0</td>\n",
       "      <td>4.0</td>\n",
       "      <td>...</td>\n",
       "      <td>0.0</td>\n",
       "      <td>0.0</td>\n",
       "      <td>0.0</td>\n",
       "      <td>0.0</td>\n",
       "      <td>0.0</td>\n",
       "      <td>0.0</td>\n",
       "      <td>8.0</td>\n",
       "      <td>2.0</td>\n",
       "      <td>8.0</td>\n",
       "      <td>4.0</td>\n",
       "    </tr>\n",
       "    <tr>\n",
       "      <th>3</th>\n",
       "      <td>6.0</td>\n",
       "      <td>3.0</td>\n",
       "      <td>31.0</td>\n",
       "      <td>489.0</td>\n",
       "      <td>1.0</td>\n",
       "      <td>0.0</td>\n",
       "      <td>0.0</td>\n",
       "      <td>3.0</td>\n",
       "      <td>0.0</td>\n",
       "      <td>0.0</td>\n",
       "      <td>...</td>\n",
       "      <td>0.0</td>\n",
       "      <td>0.0</td>\n",
       "      <td>0.0</td>\n",
       "      <td>0.0</td>\n",
       "      <td>0.0</td>\n",
       "      <td>0.0</td>\n",
       "      <td>1.0</td>\n",
       "      <td>0.0</td>\n",
       "      <td>8.0</td>\n",
       "      <td>0.0</td>\n",
       "    </tr>\n",
       "    <tr>\n",
       "      <th>4</th>\n",
       "      <td>5.0</td>\n",
       "      <td>3.0</td>\n",
       "      <td>55.0</td>\n",
       "      <td>925.0</td>\n",
       "      <td>1.0</td>\n",
       "      <td>0.0</td>\n",
       "      <td>0.0</td>\n",
       "      <td>3.0</td>\n",
       "      <td>0.0</td>\n",
       "      <td>2.0</td>\n",
       "      <td>...</td>\n",
       "      <td>0.0</td>\n",
       "      <td>0.0</td>\n",
       "      <td>0.0</td>\n",
       "      <td>0.0</td>\n",
       "      <td>0.0</td>\n",
       "      <td>0.0</td>\n",
       "      <td>11.0</td>\n",
       "      <td>2.0</td>\n",
       "      <td>8.0</td>\n",
       "      <td>4.0</td>\n",
       "    </tr>\n",
       "    <tr>\n",
       "      <th>...</th>\n",
       "      <td>...</td>\n",
       "      <td>...</td>\n",
       "      <td>...</td>\n",
       "      <td>...</td>\n",
       "      <td>...</td>\n",
       "      <td>...</td>\n",
       "      <td>...</td>\n",
       "      <td>...</td>\n",
       "      <td>...</td>\n",
       "      <td>...</td>\n",
       "      <td>...</td>\n",
       "      <td>...</td>\n",
       "      <td>...</td>\n",
       "      <td>...</td>\n",
       "      <td>...</td>\n",
       "      <td>...</td>\n",
       "      <td>...</td>\n",
       "      <td>...</td>\n",
       "      <td>...</td>\n",
       "      <td>...</td>\n",
       "      <td>...</td>\n",
       "    </tr>\n",
       "    <tr>\n",
       "      <th>1455</th>\n",
       "      <td>5.0</td>\n",
       "      <td>3.0</td>\n",
       "      <td>33.0</td>\n",
       "      <td>267.0</td>\n",
       "      <td>1.0</td>\n",
       "      <td>0.0</td>\n",
       "      <td>3.0</td>\n",
       "      <td>3.0</td>\n",
       "      <td>0.0</td>\n",
       "      <td>4.0</td>\n",
       "      <td>...</td>\n",
       "      <td>0.0</td>\n",
       "      <td>0.0</td>\n",
       "      <td>0.0</td>\n",
       "      <td>0.0</td>\n",
       "      <td>0.0</td>\n",
       "      <td>0.0</td>\n",
       "      <td>7.0</td>\n",
       "      <td>1.0</td>\n",
       "      <td>8.0</td>\n",
       "      <td>4.0</td>\n",
       "    </tr>\n",
       "    <tr>\n",
       "      <th>1456</th>\n",
       "      <td>0.0</td>\n",
       "      <td>3.0</td>\n",
       "      <td>56.0</td>\n",
       "      <td>866.0</td>\n",
       "      <td>1.0</td>\n",
       "      <td>0.0</td>\n",
       "      <td>3.0</td>\n",
       "      <td>3.0</td>\n",
       "      <td>0.0</td>\n",
       "      <td>4.0</td>\n",
       "      <td>...</td>\n",
       "      <td>0.0</td>\n",
       "      <td>0.0</td>\n",
       "      <td>0.0</td>\n",
       "      <td>2.0</td>\n",
       "      <td>0.0</td>\n",
       "      <td>0.0</td>\n",
       "      <td>1.0</td>\n",
       "      <td>4.0</td>\n",
       "      <td>8.0</td>\n",
       "      <td>4.0</td>\n",
       "    </tr>\n",
       "    <tr>\n",
       "      <th>1457</th>\n",
       "      <td>6.0</td>\n",
       "      <td>3.0</td>\n",
       "      <td>37.0</td>\n",
       "      <td>415.0</td>\n",
       "      <td>1.0</td>\n",
       "      <td>0.0</td>\n",
       "      <td>3.0</td>\n",
       "      <td>3.0</td>\n",
       "      <td>0.0</td>\n",
       "      <td>4.0</td>\n",
       "      <td>...</td>\n",
       "      <td>0.0</td>\n",
       "      <td>0.0</td>\n",
       "      <td>0.0</td>\n",
       "      <td>0.0</td>\n",
       "      <td>2.0</td>\n",
       "      <td>17.0</td>\n",
       "      <td>4.0</td>\n",
       "      <td>4.0</td>\n",
       "      <td>8.0</td>\n",
       "      <td>4.0</td>\n",
       "    </tr>\n",
       "    <tr>\n",
       "      <th>1458</th>\n",
       "      <td>0.0</td>\n",
       "      <td>3.0</td>\n",
       "      <td>39.0</td>\n",
       "      <td>505.0</td>\n",
       "      <td>1.0</td>\n",
       "      <td>0.0</td>\n",
       "      <td>3.0</td>\n",
       "      <td>3.0</td>\n",
       "      <td>0.0</td>\n",
       "      <td>4.0</td>\n",
       "      <td>...</td>\n",
       "      <td>0.0</td>\n",
       "      <td>0.0</td>\n",
       "      <td>0.0</td>\n",
       "      <td>0.0</td>\n",
       "      <td>0.0</td>\n",
       "      <td>0.0</td>\n",
       "      <td>3.0</td>\n",
       "      <td>4.0</td>\n",
       "      <td>8.0</td>\n",
       "      <td>4.0</td>\n",
       "    </tr>\n",
       "    <tr>\n",
       "      <th>1459</th>\n",
       "      <td>0.0</td>\n",
       "      <td>3.0</td>\n",
       "      <td>46.0</td>\n",
       "      <td>532.0</td>\n",
       "      <td>1.0</td>\n",
       "      <td>0.0</td>\n",
       "      <td>3.0</td>\n",
       "      <td>3.0</td>\n",
       "      <td>0.0</td>\n",
       "      <td>4.0</td>\n",
       "      <td>...</td>\n",
       "      <td>0.0</td>\n",
       "      <td>0.0</td>\n",
       "      <td>0.0</td>\n",
       "      <td>0.0</td>\n",
       "      <td>0.0</td>\n",
       "      <td>0.0</td>\n",
       "      <td>5.0</td>\n",
       "      <td>2.0</td>\n",
       "      <td>8.0</td>\n",
       "      <td>4.0</td>\n",
       "    </tr>\n",
       "  </tbody>\n",
       "</table>\n",
       "<p>1460 rows × 79 columns</p>\n",
       "</div>"
      ],
      "text/plain": [
       "      住宅类型  住宅区域  街道接触面积(英尺)   住宅面积  街道路面状况  巷子路面状况  住宅形状(大概)  住宅现状  水电气  \\\n",
       "0      5.0   3.0        36.0  327.0     1.0     0.0       3.0   3.0  0.0   \n",
       "1      0.0   3.0        51.0  498.0     1.0     0.0       3.0   3.0  0.0   \n",
       "2      5.0   3.0        39.0  702.0     1.0     0.0       0.0   3.0  0.0   \n",
       "3      6.0   3.0        31.0  489.0     1.0     0.0       0.0   3.0  0.0   \n",
       "4      5.0   3.0        55.0  925.0     1.0     0.0       0.0   3.0  0.0   \n",
       "...    ...   ...         ...    ...     ...     ...       ...   ...  ...   \n",
       "1455   5.0   3.0        33.0  267.0     1.0     0.0       3.0   3.0  0.0   \n",
       "1456   0.0   3.0        56.0  866.0     1.0     0.0       3.0   3.0  0.0   \n",
       "1457   6.0   3.0        37.0  415.0     1.0     0.0       3.0   3.0  0.0   \n",
       "1458   0.0   3.0        39.0  505.0     1.0     0.0       3.0   3.0  0.0   \n",
       "1459   0.0   3.0        46.0  532.0     1.0     0.0       3.0   3.0  0.0   \n",
       "\n",
       "      住宅配置  ...  半开放式门廊面积  泳池面积  泳池质量  篱笆质量  其他配置  其他配置的价值  销售月份  销售年份  销售类型  \\\n",
       "0      4.0  ...       0.0   0.0   0.0   0.0   0.0      0.0   1.0   2.0   8.0   \n",
       "1      2.0  ...       0.0   0.0   0.0   0.0   0.0      0.0   4.0   1.0   8.0   \n",
       "2      4.0  ...       0.0   0.0   0.0   0.0   0.0      0.0   8.0   2.0   8.0   \n",
       "3      0.0  ...       0.0   0.0   0.0   0.0   0.0      0.0   1.0   0.0   8.0   \n",
       "4      2.0  ...       0.0   0.0   0.0   0.0   0.0      0.0  11.0   2.0   8.0   \n",
       "...    ...  ...       ...   ...   ...   ...   ...      ...   ...   ...   ...   \n",
       "1455   4.0  ...       0.0   0.0   0.0   0.0   0.0      0.0   7.0   1.0   8.0   \n",
       "1456   4.0  ...       0.0   0.0   0.0   2.0   0.0      0.0   1.0   4.0   8.0   \n",
       "1457   4.0  ...       0.0   0.0   0.0   0.0   2.0     17.0   4.0   4.0   8.0   \n",
       "1458   4.0  ...       0.0   0.0   0.0   0.0   0.0      0.0   3.0   4.0   8.0   \n",
       "1459   4.0  ...       0.0   0.0   0.0   0.0   0.0      0.0   5.0   2.0   8.0   \n",
       "\n",
       "      销售状态  \n",
       "0      4.0  \n",
       "1      4.0  \n",
       "2      4.0  \n",
       "3      0.0  \n",
       "4      4.0  \n",
       "...    ...  \n",
       "1455   4.0  \n",
       "1456   4.0  \n",
       "1457   4.0  \n",
       "1458   4.0  \n",
       "1459   4.0  \n",
       "\n",
       "[1460 rows x 79 columns]"
      ]
     },
     "execution_count": 138,
     "metadata": {},
     "output_type": "execute_result"
    }
   ],
   "source": [
    "train_data.get_data()"
   ]
  },
  {
   "cell_type": "code",
   "execution_count": 139,
   "id": "b6de2d43-1804-4660-8b54-2311cc84d001",
   "metadata": {},
   "outputs": [
    {
     "name": "stdout",
     "output_type": "stream",
     "text": [
      "[LightGBM] [Warning] Auto-choosing col-wise multi-threading, the overhead of testing was 0.001163 seconds.\n",
      "You can set `force_col_wise=true` to remove the overhead.\n",
      "[LightGBM] [Info] Total Bins 3368\n",
      "[LightGBM] [Info] Number of data points in the train set: 1460, number of used features: 74\n",
      "[LightGBM] [Info] Start training from score 180921.195890\n"
     ]
    }
   ],
   "source": [
    "param = {}\n",
    "bst = lgb.train(param, train_data)"
   ]
  },
  {
   "cell_type": "code",
   "execution_count": 140,
   "id": "2847bbfb-1da3-431d-8bc9-e8b04d3a132a",
   "metadata": {},
   "outputs": [],
   "source": [
    "# 设置释放临时数据\n",
    "data = pd.read_csv(\"train_encode.csv\",index_col=0)\n",
    "train_data = lgb.Dataset(data=data.iloc[:, 1:80], label=data.iloc[:, 80:81], free_raw_data=True)"
   ]
  },
  {
   "cell_type": "code",
   "execution_count": 141,
   "id": "c64cd305-b636-483b-b52d-7477101b5e7b",
   "metadata": {},
   "outputs": [
    {
     "name": "stdout",
     "output_type": "stream",
     "text": [
      "[LightGBM] [Warning] Auto-choosing col-wise multi-threading, the overhead of testing was 0.001118 seconds.\n",
      "You can set `force_col_wise=true` to remove the overhead.\n",
      "[LightGBM] [Info] Total Bins 3368\n",
      "[LightGBM] [Info] Number of data points in the train set: 1460, number of used features: 74\n",
      "[LightGBM] [Info] Start training from score 180921.195890\n"
     ]
    }
   ],
   "source": [
    "param = {}\n",
    "bst = lgb.train(param, train_data)"
   ]
  },
  {
   "cell_type": "markdown",
   "id": "71772d09-e78d-43ef-aa7e-1a8496fa1c2d",
   "metadata": {},
   "source": [
    "发现仍然可以进行训练。"
   ]
  },
  {
   "cell_type": "code",
   "execution_count": 142,
   "id": "cde98a46-847c-4a3a-904f-347ec7b51d8c",
   "metadata": {},
   "outputs": [
    {
     "data": {
      "text/plain": [
       "3295"
      ]
     },
     "execution_count": 142,
     "metadata": {},
     "output_type": "execute_result"
    }
   ],
   "source": [
    "import gc\n",
    "gc.collect()"
   ]
  },
  {
   "cell_type": "markdown",
   "id": "b630f53c-6a63-4b1e-a812-faa72ab15be8",
   "metadata": {},
   "source": [
    "##### 3.1.3 借助.construct()方法进行数据集加载"
   ]
  },
  {
   "cell_type": "markdown",
   "id": "6da28d7a-10c2-4c06-84c4-42f80c480ba2",
   "metadata": {},
   "source": [
    "&emsp;&emsp;当然，有些时候训练一次模型耗费较大，此时也可以考虑使用.construct()方法进行数据加载，提前验证数据集正确性："
   ]
  },
  {
   "cell_type": "code",
   "execution_count": 143,
   "id": "47705805-0ef1-4187-b522-4bc695a81eed",
   "metadata": {},
   "outputs": [],
   "source": [
    "train_data = lgb.Dataset(data=data.iloc[:, 1:80], label=data.iloc[:, 80:81], free_raw_data=False)"
   ]
  },
  {
   "cell_type": "code",
   "execution_count": 144,
   "id": "5485fd86-268e-4cf7-a71e-0b584535cb35",
   "metadata": {},
   "outputs": [
    {
     "data": {
      "text/plain": [
       "<lightgbm.basic.Dataset at 0x20fd04a8e20>"
      ]
     },
     "execution_count": 144,
     "metadata": {},
     "output_type": "execute_result"
    }
   ],
   "source": [
    "train_data.construct()"
   ]
  },
  {
   "cell_type": "code",
   "execution_count": 145,
   "id": "aa46422a-3732-405b-a832-5b7d51e7695b",
   "metadata": {
    "tags": []
   },
   "outputs": [
    {
     "data": {
      "text/html": [
       "<div>\n",
       "<style scoped>\n",
       "    .dataframe tbody tr th:only-of-type {\n",
       "        vertical-align: middle;\n",
       "    }\n",
       "\n",
       "    .dataframe tbody tr th {\n",
       "        vertical-align: top;\n",
       "    }\n",
       "\n",
       "    .dataframe thead th {\n",
       "        text-align: right;\n",
       "    }\n",
       "</style>\n",
       "<table border=\"1\" class=\"dataframe\">\n",
       "  <thead>\n",
       "    <tr style=\"text-align: right;\">\n",
       "      <th></th>\n",
       "      <th>住宅类型</th>\n",
       "      <th>住宅区域</th>\n",
       "      <th>街道接触面积(英尺)</th>\n",
       "      <th>住宅面积</th>\n",
       "      <th>街道路面状况</th>\n",
       "      <th>巷子路面状况</th>\n",
       "      <th>住宅形状(大概)</th>\n",
       "      <th>住宅现状</th>\n",
       "      <th>水电气</th>\n",
       "      <th>住宅配置</th>\n",
       "      <th>...</th>\n",
       "      <th>半开放式门廊面积</th>\n",
       "      <th>泳池面积</th>\n",
       "      <th>泳池质量</th>\n",
       "      <th>篱笆质量</th>\n",
       "      <th>其他配置</th>\n",
       "      <th>其他配置的价值</th>\n",
       "      <th>销售月份</th>\n",
       "      <th>销售年份</th>\n",
       "      <th>销售类型</th>\n",
       "      <th>销售状态</th>\n",
       "    </tr>\n",
       "  </thead>\n",
       "  <tbody>\n",
       "    <tr>\n",
       "      <th>0</th>\n",
       "      <td>5.0</td>\n",
       "      <td>3.0</td>\n",
       "      <td>36.0</td>\n",
       "      <td>327.0</td>\n",
       "      <td>1.0</td>\n",
       "      <td>0.0</td>\n",
       "      <td>3.0</td>\n",
       "      <td>3.0</td>\n",
       "      <td>0.0</td>\n",
       "      <td>4.0</td>\n",
       "      <td>...</td>\n",
       "      <td>0.0</td>\n",
       "      <td>0.0</td>\n",
       "      <td>0.0</td>\n",
       "      <td>0.0</td>\n",
       "      <td>0.0</td>\n",
       "      <td>0.0</td>\n",
       "      <td>1.0</td>\n",
       "      <td>2.0</td>\n",
       "      <td>8.0</td>\n",
       "      <td>4.0</td>\n",
       "    </tr>\n",
       "    <tr>\n",
       "      <th>1</th>\n",
       "      <td>0.0</td>\n",
       "      <td>3.0</td>\n",
       "      <td>51.0</td>\n",
       "      <td>498.0</td>\n",
       "      <td>1.0</td>\n",
       "      <td>0.0</td>\n",
       "      <td>3.0</td>\n",
       "      <td>3.0</td>\n",
       "      <td>0.0</td>\n",
       "      <td>2.0</td>\n",
       "      <td>...</td>\n",
       "      <td>0.0</td>\n",
       "      <td>0.0</td>\n",
       "      <td>0.0</td>\n",
       "      <td>0.0</td>\n",
       "      <td>0.0</td>\n",
       "      <td>0.0</td>\n",
       "      <td>4.0</td>\n",
       "      <td>1.0</td>\n",
       "      <td>8.0</td>\n",
       "      <td>4.0</td>\n",
       "    </tr>\n",
       "    <tr>\n",
       "      <th>2</th>\n",
       "      <td>5.0</td>\n",
       "      <td>3.0</td>\n",
       "      <td>39.0</td>\n",
       "      <td>702.0</td>\n",
       "      <td>1.0</td>\n",
       "      <td>0.0</td>\n",
       "      <td>0.0</td>\n",
       "      <td>3.0</td>\n",
       "      <td>0.0</td>\n",
       "      <td>4.0</td>\n",
       "      <td>...</td>\n",
       "      <td>0.0</td>\n",
       "      <td>0.0</td>\n",
       "      <td>0.0</td>\n",
       "      <td>0.0</td>\n",
       "      <td>0.0</td>\n",
       "      <td>0.0</td>\n",
       "      <td>8.0</td>\n",
       "      <td>2.0</td>\n",
       "      <td>8.0</td>\n",
       "      <td>4.0</td>\n",
       "    </tr>\n",
       "    <tr>\n",
       "      <th>3</th>\n",
       "      <td>6.0</td>\n",
       "      <td>3.0</td>\n",
       "      <td>31.0</td>\n",
       "      <td>489.0</td>\n",
       "      <td>1.0</td>\n",
       "      <td>0.0</td>\n",
       "      <td>0.0</td>\n",
       "      <td>3.0</td>\n",
       "      <td>0.0</td>\n",
       "      <td>0.0</td>\n",
       "      <td>...</td>\n",
       "      <td>0.0</td>\n",
       "      <td>0.0</td>\n",
       "      <td>0.0</td>\n",
       "      <td>0.0</td>\n",
       "      <td>0.0</td>\n",
       "      <td>0.0</td>\n",
       "      <td>1.0</td>\n",
       "      <td>0.0</td>\n",
       "      <td>8.0</td>\n",
       "      <td>0.0</td>\n",
       "    </tr>\n",
       "    <tr>\n",
       "      <th>4</th>\n",
       "      <td>5.0</td>\n",
       "      <td>3.0</td>\n",
       "      <td>55.0</td>\n",
       "      <td>925.0</td>\n",
       "      <td>1.0</td>\n",
       "      <td>0.0</td>\n",
       "      <td>0.0</td>\n",
       "      <td>3.0</td>\n",
       "      <td>0.0</td>\n",
       "      <td>2.0</td>\n",
       "      <td>...</td>\n",
       "      <td>0.0</td>\n",
       "      <td>0.0</td>\n",
       "      <td>0.0</td>\n",
       "      <td>0.0</td>\n",
       "      <td>0.0</td>\n",
       "      <td>0.0</td>\n",
       "      <td>11.0</td>\n",
       "      <td>2.0</td>\n",
       "      <td>8.0</td>\n",
       "      <td>4.0</td>\n",
       "    </tr>\n",
       "    <tr>\n",
       "      <th>...</th>\n",
       "      <td>...</td>\n",
       "      <td>...</td>\n",
       "      <td>...</td>\n",
       "      <td>...</td>\n",
       "      <td>...</td>\n",
       "      <td>...</td>\n",
       "      <td>...</td>\n",
       "      <td>...</td>\n",
       "      <td>...</td>\n",
       "      <td>...</td>\n",
       "      <td>...</td>\n",
       "      <td>...</td>\n",
       "      <td>...</td>\n",
       "      <td>...</td>\n",
       "      <td>...</td>\n",
       "      <td>...</td>\n",
       "      <td>...</td>\n",
       "      <td>...</td>\n",
       "      <td>...</td>\n",
       "      <td>...</td>\n",
       "      <td>...</td>\n",
       "    </tr>\n",
       "    <tr>\n",
       "      <th>1455</th>\n",
       "      <td>5.0</td>\n",
       "      <td>3.0</td>\n",
       "      <td>33.0</td>\n",
       "      <td>267.0</td>\n",
       "      <td>1.0</td>\n",
       "      <td>0.0</td>\n",
       "      <td>3.0</td>\n",
       "      <td>3.0</td>\n",
       "      <td>0.0</td>\n",
       "      <td>4.0</td>\n",
       "      <td>...</td>\n",
       "      <td>0.0</td>\n",
       "      <td>0.0</td>\n",
       "      <td>0.0</td>\n",
       "      <td>0.0</td>\n",
       "      <td>0.0</td>\n",
       "      <td>0.0</td>\n",
       "      <td>7.0</td>\n",
       "      <td>1.0</td>\n",
       "      <td>8.0</td>\n",
       "      <td>4.0</td>\n",
       "    </tr>\n",
       "    <tr>\n",
       "      <th>1456</th>\n",
       "      <td>0.0</td>\n",
       "      <td>3.0</td>\n",
       "      <td>56.0</td>\n",
       "      <td>866.0</td>\n",
       "      <td>1.0</td>\n",
       "      <td>0.0</td>\n",
       "      <td>3.0</td>\n",
       "      <td>3.0</td>\n",
       "      <td>0.0</td>\n",
       "      <td>4.0</td>\n",
       "      <td>...</td>\n",
       "      <td>0.0</td>\n",
       "      <td>0.0</td>\n",
       "      <td>0.0</td>\n",
       "      <td>2.0</td>\n",
       "      <td>0.0</td>\n",
       "      <td>0.0</td>\n",
       "      <td>1.0</td>\n",
       "      <td>4.0</td>\n",
       "      <td>8.0</td>\n",
       "      <td>4.0</td>\n",
       "    </tr>\n",
       "    <tr>\n",
       "      <th>1457</th>\n",
       "      <td>6.0</td>\n",
       "      <td>3.0</td>\n",
       "      <td>37.0</td>\n",
       "      <td>415.0</td>\n",
       "      <td>1.0</td>\n",
       "      <td>0.0</td>\n",
       "      <td>3.0</td>\n",
       "      <td>3.0</td>\n",
       "      <td>0.0</td>\n",
       "      <td>4.0</td>\n",
       "      <td>...</td>\n",
       "      <td>0.0</td>\n",
       "      <td>0.0</td>\n",
       "      <td>0.0</td>\n",
       "      <td>0.0</td>\n",
       "      <td>2.0</td>\n",
       "      <td>17.0</td>\n",
       "      <td>4.0</td>\n",
       "      <td>4.0</td>\n",
       "      <td>8.0</td>\n",
       "      <td>4.0</td>\n",
       "    </tr>\n",
       "    <tr>\n",
       "      <th>1458</th>\n",
       "      <td>0.0</td>\n",
       "      <td>3.0</td>\n",
       "      <td>39.0</td>\n",
       "      <td>505.0</td>\n",
       "      <td>1.0</td>\n",
       "      <td>0.0</td>\n",
       "      <td>3.0</td>\n",
       "      <td>3.0</td>\n",
       "      <td>0.0</td>\n",
       "      <td>4.0</td>\n",
       "      <td>...</td>\n",
       "      <td>0.0</td>\n",
       "      <td>0.0</td>\n",
       "      <td>0.0</td>\n",
       "      <td>0.0</td>\n",
       "      <td>0.0</td>\n",
       "      <td>0.0</td>\n",
       "      <td>3.0</td>\n",
       "      <td>4.0</td>\n",
       "      <td>8.0</td>\n",
       "      <td>4.0</td>\n",
       "    </tr>\n",
       "    <tr>\n",
       "      <th>1459</th>\n",
       "      <td>0.0</td>\n",
       "      <td>3.0</td>\n",
       "      <td>46.0</td>\n",
       "      <td>532.0</td>\n",
       "      <td>1.0</td>\n",
       "      <td>0.0</td>\n",
       "      <td>3.0</td>\n",
       "      <td>3.0</td>\n",
       "      <td>0.0</td>\n",
       "      <td>4.0</td>\n",
       "      <td>...</td>\n",
       "      <td>0.0</td>\n",
       "      <td>0.0</td>\n",
       "      <td>0.0</td>\n",
       "      <td>0.0</td>\n",
       "      <td>0.0</td>\n",
       "      <td>0.0</td>\n",
       "      <td>5.0</td>\n",
       "      <td>2.0</td>\n",
       "      <td>8.0</td>\n",
       "      <td>4.0</td>\n",
       "    </tr>\n",
       "  </tbody>\n",
       "</table>\n",
       "<p>1460 rows × 79 columns</p>\n",
       "</div>"
      ],
      "text/plain": [
       "      住宅类型  住宅区域  街道接触面积(英尺)   住宅面积  街道路面状况  巷子路面状况  住宅形状(大概)  住宅现状  水电气  \\\n",
       "0      5.0   3.0        36.0  327.0     1.0     0.0       3.0   3.0  0.0   \n",
       "1      0.0   3.0        51.0  498.0     1.0     0.0       3.0   3.0  0.0   \n",
       "2      5.0   3.0        39.0  702.0     1.0     0.0       0.0   3.0  0.0   \n",
       "3      6.0   3.0        31.0  489.0     1.0     0.0       0.0   3.0  0.0   \n",
       "4      5.0   3.0        55.0  925.0     1.0     0.0       0.0   3.0  0.0   \n",
       "...    ...   ...         ...    ...     ...     ...       ...   ...  ...   \n",
       "1455   5.0   3.0        33.0  267.0     1.0     0.0       3.0   3.0  0.0   \n",
       "1456   0.0   3.0        56.0  866.0     1.0     0.0       3.0   3.0  0.0   \n",
       "1457   6.0   3.0        37.0  415.0     1.0     0.0       3.0   3.0  0.0   \n",
       "1458   0.0   3.0        39.0  505.0     1.0     0.0       3.0   3.0  0.0   \n",
       "1459   0.0   3.0        46.0  532.0     1.0     0.0       3.0   3.0  0.0   \n",
       "\n",
       "      住宅配置  ...  半开放式门廊面积  泳池面积  泳池质量  篱笆质量  其他配置  其他配置的价值  销售月份  销售年份  销售类型  \\\n",
       "0      4.0  ...       0.0   0.0   0.0   0.0   0.0      0.0   1.0   2.0   8.0   \n",
       "1      2.0  ...       0.0   0.0   0.0   0.0   0.0      0.0   4.0   1.0   8.0   \n",
       "2      4.0  ...       0.0   0.0   0.0   0.0   0.0      0.0   8.0   2.0   8.0   \n",
       "3      0.0  ...       0.0   0.0   0.0   0.0   0.0      0.0   1.0   0.0   8.0   \n",
       "4      2.0  ...       0.0   0.0   0.0   0.0   0.0      0.0  11.0   2.0   8.0   \n",
       "...    ...  ...       ...   ...   ...   ...   ...      ...   ...   ...   ...   \n",
       "1455   4.0  ...       0.0   0.0   0.0   0.0   0.0      0.0   7.0   1.0   8.0   \n",
       "1456   4.0  ...       0.0   0.0   0.0   2.0   0.0      0.0   1.0   4.0   8.0   \n",
       "1457   4.0  ...       0.0   0.0   0.0   0.0   2.0     17.0   4.0   4.0   8.0   \n",
       "1458   4.0  ...       0.0   0.0   0.0   0.0   0.0      0.0   3.0   4.0   8.0   \n",
       "1459   4.0  ...       0.0   0.0   0.0   0.0   0.0      0.0   5.0   2.0   8.0   \n",
       "\n",
       "      销售状态  \n",
       "0      4.0  \n",
       "1      4.0  \n",
       "2      4.0  \n",
       "3      0.0  \n",
       "4      4.0  \n",
       "...    ...  \n",
       "1455   4.0  \n",
       "1456   4.0  \n",
       "1457   4.0  \n",
       "1458   4.0  \n",
       "1459   4.0  \n",
       "\n",
       "[1460 rows x 79 columns]"
      ]
     },
     "execution_count": 145,
     "metadata": {},
     "output_type": "execute_result"
    }
   ],
   "source": [
    "train_data.get_data()"
   ]
  },
  {
   "cell_type": "markdown",
   "id": "08a4c2f4-dcc3-4ca3-8ca1-0fae20368f8f",
   "metadata": {},
   "source": [
    "##### 3.1.4 Dataset类读取本地文件类型"
   ]
  },
  {
   "cell_type": "markdown",
   "id": "baffb92a-b262-4840-b948-c847f906e800",
   "metadata": {},
   "source": [
    "&emsp;&emsp;而在工业实践中，更为通用的做法是特征工程阶段和模型训练阶段相对独立，在执行完特征工程后，将这些已经处理好的特征进行本地文件保存，然后使用Dataset对本地文件直接进行读取。Dataset类可以直接读取本地LibSVM (zero-based) / TSV / CSV等文本格式文件。其中LibSVM (zero-based)是LibSVM（是一种用于支持向量机SVM训练的软件包）的最常用数据格式，这种文本文件格式使用空格或制表符分隔特征和标签，并使用稀疏表示法来存储特征值，可以有效地压缩数据，并且可以减少内存使用。在LibSVM格式中，每行代表一个样本，第一个数字是该样本的标签，接下来是一系列特征值，每个特征值都由一个特征索引和特征值组成，中间使用空格或制表符分隔，在\"zero-based\"版本中，特征索引从0开始。在稀疏表示法中，只有非零特征值才被列出，其余特征值假定为0。例如，以下是一个简单的\"zero-based\"格式的样本数据："
   ]
  },
  {
   "cell_type": "raw",
   "id": "120e4441-3cf7-47fe-84e2-5dc052624ab7",
   "metadata": {},
   "source": [
    "-1 0:1.2 1:0.7 3:0.9\n",
    "1 0:0.2 2:0.5 3:0.1"
   ]
  },
  {
   "cell_type": "markdown",
   "id": "00f44a50-9d1c-4d2c-8b47-a0f5ddca5977",
   "metadata": {},
   "source": [
    "此处行代表不同样本，第一列代表不同标签，后面的每个单元格代表不同特征下非零的取值。例如0:1则代表第一个特征取值为1.2，3：0.9则代表第四个特征取值为0.9，而未被标注出来的特征对应取值均为零。"
   ]
  },
  {
   "cell_type": "markdown",
   "id": "b6132c61-0174-432f-9360-1decd228e317",
   "metadata": {},
   "source": [
    "&emsp;&emsp;而TSV和我们熟悉的CSV文件区别就在于分隔符的不同，CSV格式文件是用逗号进行分割，而TSV则是用制表符（\\t）进行分割。例如，对于House Price数据集，我们可以直接在本地进行读取:"
   ]
  },
  {
   "cell_type": "code",
   "execution_count": 146,
   "id": "dd224113-24cf-4f65-8e86-affd853d5d8b",
   "metadata": {},
   "outputs": [],
   "source": [
    "train_data = lgb.Dataset('train_encode.csv')"
   ]
  },
  {
   "cell_type": "code",
   "execution_count": 147,
   "id": "7ea11338-dfb7-4b62-9a86-268cabf280c3",
   "metadata": {},
   "outputs": [
    {
     "data": {
      "text/plain": [
       "lightgbm.basic.Dataset"
      ]
     },
     "execution_count": 147,
     "metadata": {},
     "output_type": "execute_result"
    }
   ],
   "source": [
    "type(train_data)"
   ]
  },
  {
   "cell_type": "markdown",
   "id": "400c4770-30e3-447d-9dd1-633abb55f2c7",
   "metadata": {},
   "source": [
    "不过，需要注意的是，Dataset类读取本地文本文件的过程存在非常多限制条件，例如Dataset会自动将文本文件的第一行视作数据而非列名称、将第一列视作ID列而不进行读取，并且这种读取方法无法通过参数调整来进行修正，这就导致我们需要额外手动输入列名称，并且对于Dataset来说，只有特征可以本地读取（或者说只有data参数位上的对象可以本地读取），label还需要从当前变成环境中进行读取，此外，一旦进行本地文本文件的读取，哪怕设置中间结果保存，也只能溯源回本地文本文件的路径而不是一个可以直接在当前编程环境中显示呈现的表。"
   ]
  },
  {
   "cell_type": "markdown",
   "id": "d1d3df6a-c42d-48ee-9b84-768f69e21d4b",
   "metadata": {},
   "source": [
    "> 很多LGBM对本地CSV文件的读取规则都是隐性的，并没有在官方文档中进行明确标注，这点需要注意。"
   ]
  },
  {
   "cell_type": "code",
   "execution_count": 148,
   "id": "dd83c7eb-b06f-419a-b0b6-9612209b5fa0",
   "metadata": {
    "collapsed": true,
    "jupyter": {
     "outputs_hidden": true
    },
    "tags": []
   },
   "outputs": [
    {
     "data": {
      "text/plain": [
       "\u001b[1;31mInit signature:\u001b[0m\n",
       "\u001b[0mlgb\u001b[0m\u001b[1;33m.\u001b[0m\u001b[0mDataset\u001b[0m\u001b[1;33m(\u001b[0m\u001b[1;33m\n",
       "\u001b[0m    \u001b[0mdata\u001b[0m\u001b[1;33m,\u001b[0m\u001b[1;33m\n",
       "\u001b[0m    \u001b[0mlabel\u001b[0m\u001b[1;33m=\u001b[0m\u001b[1;32mNone\u001b[0m\u001b[1;33m,\u001b[0m\u001b[1;33m\n",
       "\u001b[0m    \u001b[0mreference\u001b[0m\u001b[1;33m=\u001b[0m\u001b[1;32mNone\u001b[0m\u001b[1;33m,\u001b[0m\u001b[1;33m\n",
       "\u001b[0m    \u001b[0mweight\u001b[0m\u001b[1;33m=\u001b[0m\u001b[1;32mNone\u001b[0m\u001b[1;33m,\u001b[0m\u001b[1;33m\n",
       "\u001b[0m    \u001b[0mgroup\u001b[0m\u001b[1;33m=\u001b[0m\u001b[1;32mNone\u001b[0m\u001b[1;33m,\u001b[0m\u001b[1;33m\n",
       "\u001b[0m    \u001b[0minit_score\u001b[0m\u001b[1;33m=\u001b[0m\u001b[1;32mNone\u001b[0m\u001b[1;33m,\u001b[0m\u001b[1;33m\n",
       "\u001b[0m    \u001b[0msilent\u001b[0m\u001b[1;33m=\u001b[0m\u001b[1;34m'warn'\u001b[0m\u001b[1;33m,\u001b[0m\u001b[1;33m\n",
       "\u001b[0m    \u001b[0mfeature_name\u001b[0m\u001b[1;33m=\u001b[0m\u001b[1;34m'auto'\u001b[0m\u001b[1;33m,\u001b[0m\u001b[1;33m\n",
       "\u001b[0m    \u001b[0mcategorical_feature\u001b[0m\u001b[1;33m=\u001b[0m\u001b[1;34m'auto'\u001b[0m\u001b[1;33m,\u001b[0m\u001b[1;33m\n",
       "\u001b[0m    \u001b[0mparams\u001b[0m\u001b[1;33m=\u001b[0m\u001b[1;32mNone\u001b[0m\u001b[1;33m,\u001b[0m\u001b[1;33m\n",
       "\u001b[0m    \u001b[0mfree_raw_data\u001b[0m\u001b[1;33m=\u001b[0m\u001b[1;32mTrue\u001b[0m\u001b[1;33m,\u001b[0m\u001b[1;33m\n",
       "\u001b[0m\u001b[1;33m)\u001b[0m\u001b[1;33m\u001b[0m\u001b[1;33m\u001b[0m\u001b[0m\n",
       "\u001b[1;31mDocstring:\u001b[0m      Dataset in LightGBM.\n",
       "\u001b[1;31mInit docstring:\u001b[0m\n",
       "Initialize Dataset.\n",
       "\n",
       "Parameters\n",
       "----------\n",
       "data : str, pathlib.Path, numpy array, pandas DataFrame, H2O DataTable's Frame, scipy.sparse, Sequence, list of Sequence or list of numpy array\n",
       "    Data source of Dataset.\n",
       "    If str or pathlib.Path, it represents the path to a text file (CSV, TSV, or LibSVM) or a LightGBM Dataset binary file.\n",
       "label : list, numpy 1-D array, pandas Series / one-column DataFrame or None, optional (default=None)\n",
       "    Label of the data.\n",
       "reference : Dataset or None, optional (default=None)\n",
       "    If this is Dataset for validation, training data should be used as reference.\n",
       "weight : list, numpy 1-D array, pandas Series or None, optional (default=None)\n",
       "    Weight for each instance.\n",
       "group : list, numpy 1-D array, pandas Series or None, optional (default=None)\n",
       "    Group/query data.\n",
       "    Only used in the learning-to-rank task.\n",
       "    sum(group) = n_samples.\n",
       "    For example, if you have a 100-document dataset with ``group = [10, 20, 40, 10, 10, 10]``, that means that you have 6 groups,\n",
       "    where the first 10 records are in the first group, records 11-30 are in the second group, records 31-70 are in the third group, etc.\n",
       "init_score : list, list of lists (for multi-class task), numpy array, pandas Series, pandas DataFrame (for multi-class task), or None, optional (default=None)\n",
       "    Init score for Dataset.\n",
       "silent : bool, optional (default=False)\n",
       "    Whether to print messages during construction.\n",
       "feature_name : list of str, or 'auto', optional (default=\"auto\")\n",
       "    Feature names.\n",
       "    If 'auto' and data is pandas DataFrame, data columns names are used.\n",
       "categorical_feature : list of str or int, or 'auto', optional (default=\"auto\")\n",
       "    Categorical features.\n",
       "    If list of int, interpreted as indices.\n",
       "    If list of str, interpreted as feature names (need to specify ``feature_name`` as well).\n",
       "    If 'auto' and data is pandas DataFrame, pandas unordered categorical columns are used.\n",
       "    All values in categorical features should be less than int32 max value (2147483647).\n",
       "    Large values could be memory consuming. Consider using consecutive integers starting from zero.\n",
       "    All negative values in categorical features will be treated as missing values.\n",
       "    The output cannot be monotonically constrained with respect to a categorical feature.\n",
       "params : dict or None, optional (default=None)\n",
       "    Other parameters for Dataset.\n",
       "free_raw_data : bool, optional (default=True)\n",
       "    If True, raw data is freed after constructing inner Dataset.\n",
       "\u001b[1;31mFile:\u001b[0m           d:\\anaconda3\\lib\\site-packages\\lightgbm\\basic.py\n",
       "\u001b[1;31mType:\u001b[0m           type\n",
       "\u001b[1;31mSubclasses:\u001b[0m     \n"
      ]
     },
     "metadata": {},
     "output_type": "display_data"
    }
   ],
   "source": [
    "lgb.Dataset?"
   ]
  },
  {
   "cell_type": "markdown",
   "id": "df6eaad8-9de7-4f70-bc0b-23f623b7033d",
   "metadata": {},
   "source": [
    "如此种种，导致直接读取本地文件并不是一个非常便捷而且通用的流程。相比之下，其实更常见的做法是把最终数据集在本地保存为一种LGBM可以读取的二进制文件（LightGBM binary file），然后再进行读取和建模。"
   ]
  },
  {
   "cell_type": "markdown",
   "id": "8af18131-54f4-4373-a978-298e7a25565c",
   "metadata": {},
   "source": [
    "##### 3.1.5 Dataset类读取本地csv文件过程"
   ]
  },
  {
   "cell_type": "markdown",
   "id": "70d31952-a66c-431c-afa9-b61200890f19",
   "metadata": {},
   "source": [
    "&emsp;&emsp;首先先导入完整数据集："
   ]
  },
  {
   "cell_type": "code",
   "execution_count": 29,
   "id": "9ae7de98-a03e-41b5-afeb-c60cada825c9",
   "metadata": {
    "tags": []
   },
   "outputs": [],
   "source": [
    "data = pd.read_csv(\"train_encode.csv\",index_col=0)"
   ]
  },
  {
   "cell_type": "code",
   "execution_count": 30,
   "id": "d9ad721e-ea72-455e-bb9f-fdca61c6ad2c",
   "metadata": {
    "tags": []
   },
   "outputs": [
    {
     "data": {
      "text/html": [
       "<div>\n",
       "<style scoped>\n",
       "    .dataframe tbody tr th:only-of-type {\n",
       "        vertical-align: middle;\n",
       "    }\n",
       "\n",
       "    .dataframe tbody tr th {\n",
       "        vertical-align: top;\n",
       "    }\n",
       "\n",
       "    .dataframe thead th {\n",
       "        text-align: right;\n",
       "    }\n",
       "</style>\n",
       "<table border=\"1\" class=\"dataframe\">\n",
       "  <thead>\n",
       "    <tr style=\"text-align: right;\">\n",
       "      <th></th>\n",
       "      <th>Id</th>\n",
       "      <th>住宅类型</th>\n",
       "      <th>住宅区域</th>\n",
       "      <th>街道接触面积(英尺)</th>\n",
       "      <th>住宅面积</th>\n",
       "      <th>街道路面状况</th>\n",
       "      <th>巷子路面状况</th>\n",
       "      <th>住宅形状(大概)</th>\n",
       "      <th>住宅现状</th>\n",
       "      <th>水电气</th>\n",
       "      <th>...</th>\n",
       "      <th>泳池面积</th>\n",
       "      <th>泳池质量</th>\n",
       "      <th>篱笆质量</th>\n",
       "      <th>其他配置</th>\n",
       "      <th>其他配置的价值</th>\n",
       "      <th>销售月份</th>\n",
       "      <th>销售年份</th>\n",
       "      <th>销售类型</th>\n",
       "      <th>销售状态</th>\n",
       "      <th>SalePrice</th>\n",
       "    </tr>\n",
       "  </thead>\n",
       "  <tbody>\n",
       "    <tr>\n",
       "      <th>0</th>\n",
       "      <td>0.0</td>\n",
       "      <td>5.0</td>\n",
       "      <td>3.0</td>\n",
       "      <td>36.0</td>\n",
       "      <td>327.0</td>\n",
       "      <td>1.0</td>\n",
       "      <td>0.0</td>\n",
       "      <td>3.0</td>\n",
       "      <td>3.0</td>\n",
       "      <td>0.0</td>\n",
       "      <td>...</td>\n",
       "      <td>0.0</td>\n",
       "      <td>0.0</td>\n",
       "      <td>0.0</td>\n",
       "      <td>0.0</td>\n",
       "      <td>0.0</td>\n",
       "      <td>1.0</td>\n",
       "      <td>2.0</td>\n",
       "      <td>8.0</td>\n",
       "      <td>4.0</td>\n",
       "      <td>208500</td>\n",
       "    </tr>\n",
       "    <tr>\n",
       "      <th>1</th>\n",
       "      <td>1.0</td>\n",
       "      <td>0.0</td>\n",
       "      <td>3.0</td>\n",
       "      <td>51.0</td>\n",
       "      <td>498.0</td>\n",
       "      <td>1.0</td>\n",
       "      <td>0.0</td>\n",
       "      <td>3.0</td>\n",
       "      <td>3.0</td>\n",
       "      <td>0.0</td>\n",
       "      <td>...</td>\n",
       "      <td>0.0</td>\n",
       "      <td>0.0</td>\n",
       "      <td>0.0</td>\n",
       "      <td>0.0</td>\n",
       "      <td>0.0</td>\n",
       "      <td>4.0</td>\n",
       "      <td>1.0</td>\n",
       "      <td>8.0</td>\n",
       "      <td>4.0</td>\n",
       "      <td>181500</td>\n",
       "    </tr>\n",
       "    <tr>\n",
       "      <th>2</th>\n",
       "      <td>2.0</td>\n",
       "      <td>5.0</td>\n",
       "      <td>3.0</td>\n",
       "      <td>39.0</td>\n",
       "      <td>702.0</td>\n",
       "      <td>1.0</td>\n",
       "      <td>0.0</td>\n",
       "      <td>0.0</td>\n",
       "      <td>3.0</td>\n",
       "      <td>0.0</td>\n",
       "      <td>...</td>\n",
       "      <td>0.0</td>\n",
       "      <td>0.0</td>\n",
       "      <td>0.0</td>\n",
       "      <td>0.0</td>\n",
       "      <td>0.0</td>\n",
       "      <td>8.0</td>\n",
       "      <td>2.0</td>\n",
       "      <td>8.0</td>\n",
       "      <td>4.0</td>\n",
       "      <td>223500</td>\n",
       "    </tr>\n",
       "    <tr>\n",
       "      <th>3</th>\n",
       "      <td>3.0</td>\n",
       "      <td>6.0</td>\n",
       "      <td>3.0</td>\n",
       "      <td>31.0</td>\n",
       "      <td>489.0</td>\n",
       "      <td>1.0</td>\n",
       "      <td>0.0</td>\n",
       "      <td>0.0</td>\n",
       "      <td>3.0</td>\n",
       "      <td>0.0</td>\n",
       "      <td>...</td>\n",
       "      <td>0.0</td>\n",
       "      <td>0.0</td>\n",
       "      <td>0.0</td>\n",
       "      <td>0.0</td>\n",
       "      <td>0.0</td>\n",
       "      <td>1.0</td>\n",
       "      <td>0.0</td>\n",
       "      <td>8.0</td>\n",
       "      <td>0.0</td>\n",
       "      <td>140000</td>\n",
       "    </tr>\n",
       "    <tr>\n",
       "      <th>4</th>\n",
       "      <td>4.0</td>\n",
       "      <td>5.0</td>\n",
       "      <td>3.0</td>\n",
       "      <td>55.0</td>\n",
       "      <td>925.0</td>\n",
       "      <td>1.0</td>\n",
       "      <td>0.0</td>\n",
       "      <td>0.0</td>\n",
       "      <td>3.0</td>\n",
       "      <td>0.0</td>\n",
       "      <td>...</td>\n",
       "      <td>0.0</td>\n",
       "      <td>0.0</td>\n",
       "      <td>0.0</td>\n",
       "      <td>0.0</td>\n",
       "      <td>0.0</td>\n",
       "      <td>11.0</td>\n",
       "      <td>2.0</td>\n",
       "      <td>8.0</td>\n",
       "      <td>4.0</td>\n",
       "      <td>250000</td>\n",
       "    </tr>\n",
       "  </tbody>\n",
       "</table>\n",
       "<p>5 rows × 81 columns</p>\n",
       "</div>"
      ],
      "text/plain": [
       "    Id  住宅类型  住宅区域  街道接触面积(英尺)   住宅面积  街道路面状况  巷子路面状况  住宅形状(大概)  住宅现状  水电气  \\\n",
       "0  0.0   5.0   3.0        36.0  327.0     1.0     0.0       3.0   3.0  0.0   \n",
       "1  1.0   0.0   3.0        51.0  498.0     1.0     0.0       3.0   3.0  0.0   \n",
       "2  2.0   5.0   3.0        39.0  702.0     1.0     0.0       0.0   3.0  0.0   \n",
       "3  3.0   6.0   3.0        31.0  489.0     1.0     0.0       0.0   3.0  0.0   \n",
       "4  4.0   5.0   3.0        55.0  925.0     1.0     0.0       0.0   3.0  0.0   \n",
       "\n",
       "   ...  泳池面积  泳池质量  篱笆质量  其他配置  其他配置的价值  销售月份  销售年份  销售类型  销售状态  SalePrice  \n",
       "0  ...   0.0   0.0   0.0   0.0      0.0   1.0   2.0   8.0   4.0     208500  \n",
       "1  ...   0.0   0.0   0.0   0.0      0.0   4.0   1.0   8.0   4.0     181500  \n",
       "2  ...   0.0   0.0   0.0   0.0      0.0   8.0   2.0   8.0   4.0     223500  \n",
       "3  ...   0.0   0.0   0.0   0.0      0.0   1.0   0.0   8.0   0.0     140000  \n",
       "4  ...   0.0   0.0   0.0   0.0      0.0  11.0   2.0   8.0   4.0     250000  \n",
       "\n",
       "[5 rows x 81 columns]"
      ]
     },
     "execution_count": 30,
     "metadata": {},
     "output_type": "execute_result"
    }
   ],
   "source": [
    "data.head()"
   ]
  },
  {
   "cell_type": "markdown",
   "id": "df33fd77-bd24-4e82-9353-00616a51d054",
   "metadata": {},
   "source": [
    "然后进行数据清洗（此前已经操作完成），以及训练集和测试集的划分，并且保存标签和列名称："
   ]
  },
  {
   "cell_type": "code",
   "execution_count": 31,
   "id": "f0277eab-0911-42df-b62f-726b95701147",
   "metadata": {
    "tags": []
   },
   "outputs": [],
   "source": [
    "features = data.iloc[:, :80]"
   ]
  },
  {
   "cell_type": "code",
   "execution_count": 32,
   "id": "0e062c1d-ef0e-432b-b656-e13c851114c0",
   "metadata": {
    "tags": []
   },
   "outputs": [
    {
     "data": {
      "text/html": [
       "<div>\n",
       "<style scoped>\n",
       "    .dataframe tbody tr th:only-of-type {\n",
       "        vertical-align: middle;\n",
       "    }\n",
       "\n",
       "    .dataframe tbody tr th {\n",
       "        vertical-align: top;\n",
       "    }\n",
       "\n",
       "    .dataframe thead th {\n",
       "        text-align: right;\n",
       "    }\n",
       "</style>\n",
       "<table border=\"1\" class=\"dataframe\">\n",
       "  <thead>\n",
       "    <tr style=\"text-align: right;\">\n",
       "      <th></th>\n",
       "      <th>Id</th>\n",
       "      <th>住宅类型</th>\n",
       "      <th>住宅区域</th>\n",
       "      <th>街道接触面积(英尺)</th>\n",
       "      <th>住宅面积</th>\n",
       "      <th>街道路面状况</th>\n",
       "      <th>巷子路面状况</th>\n",
       "      <th>住宅形状(大概)</th>\n",
       "      <th>住宅现状</th>\n",
       "      <th>水电气</th>\n",
       "      <th>...</th>\n",
       "      <th>半开放式门廊面积</th>\n",
       "      <th>泳池面积</th>\n",
       "      <th>泳池质量</th>\n",
       "      <th>篱笆质量</th>\n",
       "      <th>其他配置</th>\n",
       "      <th>其他配置的价值</th>\n",
       "      <th>销售月份</th>\n",
       "      <th>销售年份</th>\n",
       "      <th>销售类型</th>\n",
       "      <th>销售状态</th>\n",
       "    </tr>\n",
       "  </thead>\n",
       "  <tbody>\n",
       "    <tr>\n",
       "      <th>0</th>\n",
       "      <td>0.0</td>\n",
       "      <td>5.0</td>\n",
       "      <td>3.0</td>\n",
       "      <td>36.0</td>\n",
       "      <td>327.0</td>\n",
       "      <td>1.0</td>\n",
       "      <td>0.0</td>\n",
       "      <td>3.0</td>\n",
       "      <td>3.0</td>\n",
       "      <td>0.0</td>\n",
       "      <td>...</td>\n",
       "      <td>0.0</td>\n",
       "      <td>0.0</td>\n",
       "      <td>0.0</td>\n",
       "      <td>0.0</td>\n",
       "      <td>0.0</td>\n",
       "      <td>0.0</td>\n",
       "      <td>1.0</td>\n",
       "      <td>2.0</td>\n",
       "      <td>8.0</td>\n",
       "      <td>4.0</td>\n",
       "    </tr>\n",
       "    <tr>\n",
       "      <th>1</th>\n",
       "      <td>1.0</td>\n",
       "      <td>0.0</td>\n",
       "      <td>3.0</td>\n",
       "      <td>51.0</td>\n",
       "      <td>498.0</td>\n",
       "      <td>1.0</td>\n",
       "      <td>0.0</td>\n",
       "      <td>3.0</td>\n",
       "      <td>3.0</td>\n",
       "      <td>0.0</td>\n",
       "      <td>...</td>\n",
       "      <td>0.0</td>\n",
       "      <td>0.0</td>\n",
       "      <td>0.0</td>\n",
       "      <td>0.0</td>\n",
       "      <td>0.0</td>\n",
       "      <td>0.0</td>\n",
       "      <td>4.0</td>\n",
       "      <td>1.0</td>\n",
       "      <td>8.0</td>\n",
       "      <td>4.0</td>\n",
       "    </tr>\n",
       "    <tr>\n",
       "      <th>2</th>\n",
       "      <td>2.0</td>\n",
       "      <td>5.0</td>\n",
       "      <td>3.0</td>\n",
       "      <td>39.0</td>\n",
       "      <td>702.0</td>\n",
       "      <td>1.0</td>\n",
       "      <td>0.0</td>\n",
       "      <td>0.0</td>\n",
       "      <td>3.0</td>\n",
       "      <td>0.0</td>\n",
       "      <td>...</td>\n",
       "      <td>0.0</td>\n",
       "      <td>0.0</td>\n",
       "      <td>0.0</td>\n",
       "      <td>0.0</td>\n",
       "      <td>0.0</td>\n",
       "      <td>0.0</td>\n",
       "      <td>8.0</td>\n",
       "      <td>2.0</td>\n",
       "      <td>8.0</td>\n",
       "      <td>4.0</td>\n",
       "    </tr>\n",
       "    <tr>\n",
       "      <th>3</th>\n",
       "      <td>3.0</td>\n",
       "      <td>6.0</td>\n",
       "      <td>3.0</td>\n",
       "      <td>31.0</td>\n",
       "      <td>489.0</td>\n",
       "      <td>1.0</td>\n",
       "      <td>0.0</td>\n",
       "      <td>0.0</td>\n",
       "      <td>3.0</td>\n",
       "      <td>0.0</td>\n",
       "      <td>...</td>\n",
       "      <td>0.0</td>\n",
       "      <td>0.0</td>\n",
       "      <td>0.0</td>\n",
       "      <td>0.0</td>\n",
       "      <td>0.0</td>\n",
       "      <td>0.0</td>\n",
       "      <td>1.0</td>\n",
       "      <td>0.0</td>\n",
       "      <td>8.0</td>\n",
       "      <td>0.0</td>\n",
       "    </tr>\n",
       "    <tr>\n",
       "      <th>4</th>\n",
       "      <td>4.0</td>\n",
       "      <td>5.0</td>\n",
       "      <td>3.0</td>\n",
       "      <td>55.0</td>\n",
       "      <td>925.0</td>\n",
       "      <td>1.0</td>\n",
       "      <td>0.0</td>\n",
       "      <td>0.0</td>\n",
       "      <td>3.0</td>\n",
       "      <td>0.0</td>\n",
       "      <td>...</td>\n",
       "      <td>0.0</td>\n",
       "      <td>0.0</td>\n",
       "      <td>0.0</td>\n",
       "      <td>0.0</td>\n",
       "      <td>0.0</td>\n",
       "      <td>0.0</td>\n",
       "      <td>11.0</td>\n",
       "      <td>2.0</td>\n",
       "      <td>8.0</td>\n",
       "      <td>4.0</td>\n",
       "    </tr>\n",
       "    <tr>\n",
       "      <th>...</th>\n",
       "      <td>...</td>\n",
       "      <td>...</td>\n",
       "      <td>...</td>\n",
       "      <td>...</td>\n",
       "      <td>...</td>\n",
       "      <td>...</td>\n",
       "      <td>...</td>\n",
       "      <td>...</td>\n",
       "      <td>...</td>\n",
       "      <td>...</td>\n",
       "      <td>...</td>\n",
       "      <td>...</td>\n",
       "      <td>...</td>\n",
       "      <td>...</td>\n",
       "      <td>...</td>\n",
       "      <td>...</td>\n",
       "      <td>...</td>\n",
       "      <td>...</td>\n",
       "      <td>...</td>\n",
       "      <td>...</td>\n",
       "      <td>...</td>\n",
       "    </tr>\n",
       "    <tr>\n",
       "      <th>1455</th>\n",
       "      <td>1455.0</td>\n",
       "      <td>5.0</td>\n",
       "      <td>3.0</td>\n",
       "      <td>33.0</td>\n",
       "      <td>267.0</td>\n",
       "      <td>1.0</td>\n",
       "      <td>0.0</td>\n",
       "      <td>3.0</td>\n",
       "      <td>3.0</td>\n",
       "      <td>0.0</td>\n",
       "      <td>...</td>\n",
       "      <td>0.0</td>\n",
       "      <td>0.0</td>\n",
       "      <td>0.0</td>\n",
       "      <td>0.0</td>\n",
       "      <td>0.0</td>\n",
       "      <td>0.0</td>\n",
       "      <td>7.0</td>\n",
       "      <td>1.0</td>\n",
       "      <td>8.0</td>\n",
       "      <td>4.0</td>\n",
       "    </tr>\n",
       "    <tr>\n",
       "      <th>1456</th>\n",
       "      <td>1456.0</td>\n",
       "      <td>0.0</td>\n",
       "      <td>3.0</td>\n",
       "      <td>56.0</td>\n",
       "      <td>866.0</td>\n",
       "      <td>1.0</td>\n",
       "      <td>0.0</td>\n",
       "      <td>3.0</td>\n",
       "      <td>3.0</td>\n",
       "      <td>0.0</td>\n",
       "      <td>...</td>\n",
       "      <td>0.0</td>\n",
       "      <td>0.0</td>\n",
       "      <td>0.0</td>\n",
       "      <td>2.0</td>\n",
       "      <td>0.0</td>\n",
       "      <td>0.0</td>\n",
       "      <td>1.0</td>\n",
       "      <td>4.0</td>\n",
       "      <td>8.0</td>\n",
       "      <td>4.0</td>\n",
       "    </tr>\n",
       "    <tr>\n",
       "      <th>1457</th>\n",
       "      <td>1457.0</td>\n",
       "      <td>6.0</td>\n",
       "      <td>3.0</td>\n",
       "      <td>37.0</td>\n",
       "      <td>415.0</td>\n",
       "      <td>1.0</td>\n",
       "      <td>0.0</td>\n",
       "      <td>3.0</td>\n",
       "      <td>3.0</td>\n",
       "      <td>0.0</td>\n",
       "      <td>...</td>\n",
       "      <td>0.0</td>\n",
       "      <td>0.0</td>\n",
       "      <td>0.0</td>\n",
       "      <td>0.0</td>\n",
       "      <td>2.0</td>\n",
       "      <td>17.0</td>\n",
       "      <td>4.0</td>\n",
       "      <td>4.0</td>\n",
       "      <td>8.0</td>\n",
       "      <td>4.0</td>\n",
       "    </tr>\n",
       "    <tr>\n",
       "      <th>1458</th>\n",
       "      <td>1458.0</td>\n",
       "      <td>0.0</td>\n",
       "      <td>3.0</td>\n",
       "      <td>39.0</td>\n",
       "      <td>505.0</td>\n",
       "      <td>1.0</td>\n",
       "      <td>0.0</td>\n",
       "      <td>3.0</td>\n",
       "      <td>3.0</td>\n",
       "      <td>0.0</td>\n",
       "      <td>...</td>\n",
       "      <td>0.0</td>\n",
       "      <td>0.0</td>\n",
       "      <td>0.0</td>\n",
       "      <td>0.0</td>\n",
       "      <td>0.0</td>\n",
       "      <td>0.0</td>\n",
       "      <td>3.0</td>\n",
       "      <td>4.0</td>\n",
       "      <td>8.0</td>\n",
       "      <td>4.0</td>\n",
       "    </tr>\n",
       "    <tr>\n",
       "      <th>1459</th>\n",
       "      <td>1459.0</td>\n",
       "      <td>0.0</td>\n",
       "      <td>3.0</td>\n",
       "      <td>46.0</td>\n",
       "      <td>532.0</td>\n",
       "      <td>1.0</td>\n",
       "      <td>0.0</td>\n",
       "      <td>3.0</td>\n",
       "      <td>3.0</td>\n",
       "      <td>0.0</td>\n",
       "      <td>...</td>\n",
       "      <td>0.0</td>\n",
       "      <td>0.0</td>\n",
       "      <td>0.0</td>\n",
       "      <td>0.0</td>\n",
       "      <td>0.0</td>\n",
       "      <td>0.0</td>\n",
       "      <td>5.0</td>\n",
       "      <td>2.0</td>\n",
       "      <td>8.0</td>\n",
       "      <td>4.0</td>\n",
       "    </tr>\n",
       "  </tbody>\n",
       "</table>\n",
       "<p>1460 rows × 80 columns</p>\n",
       "</div>"
      ],
      "text/plain": [
       "          Id  住宅类型  住宅区域  街道接触面积(英尺)   住宅面积  街道路面状况  巷子路面状况  住宅形状(大概)  住宅现状  \\\n",
       "0        0.0   5.0   3.0        36.0  327.0     1.0     0.0       3.0   3.0   \n",
       "1        1.0   0.0   3.0        51.0  498.0     1.0     0.0       3.0   3.0   \n",
       "2        2.0   5.0   3.0        39.0  702.0     1.0     0.0       0.0   3.0   \n",
       "3        3.0   6.0   3.0        31.0  489.0     1.0     0.0       0.0   3.0   \n",
       "4        4.0   5.0   3.0        55.0  925.0     1.0     0.0       0.0   3.0   \n",
       "...      ...   ...   ...         ...    ...     ...     ...       ...   ...   \n",
       "1455  1455.0   5.0   3.0        33.0  267.0     1.0     0.0       3.0   3.0   \n",
       "1456  1456.0   0.0   3.0        56.0  866.0     1.0     0.0       3.0   3.0   \n",
       "1457  1457.0   6.0   3.0        37.0  415.0     1.0     0.0       3.0   3.0   \n",
       "1458  1458.0   0.0   3.0        39.0  505.0     1.0     0.0       3.0   3.0   \n",
       "1459  1459.0   0.0   3.0        46.0  532.0     1.0     0.0       3.0   3.0   \n",
       "\n",
       "      水电气  ...  半开放式门廊面积  泳池面积  泳池质量  篱笆质量  其他配置  其他配置的价值  销售月份  销售年份  销售类型  \\\n",
       "0     0.0  ...       0.0   0.0   0.0   0.0   0.0      0.0   1.0   2.0   8.0   \n",
       "1     0.0  ...       0.0   0.0   0.0   0.0   0.0      0.0   4.0   1.0   8.0   \n",
       "2     0.0  ...       0.0   0.0   0.0   0.0   0.0      0.0   8.0   2.0   8.0   \n",
       "3     0.0  ...       0.0   0.0   0.0   0.0   0.0      0.0   1.0   0.0   8.0   \n",
       "4     0.0  ...       0.0   0.0   0.0   0.0   0.0      0.0  11.0   2.0   8.0   \n",
       "...   ...  ...       ...   ...   ...   ...   ...      ...   ...   ...   ...   \n",
       "1455  0.0  ...       0.0   0.0   0.0   0.0   0.0      0.0   7.0   1.0   8.0   \n",
       "1456  0.0  ...       0.0   0.0   0.0   2.0   0.0      0.0   1.0   4.0   8.0   \n",
       "1457  0.0  ...       0.0   0.0   0.0   0.0   2.0     17.0   4.0   4.0   8.0   \n",
       "1458  0.0  ...       0.0   0.0   0.0   0.0   0.0      0.0   3.0   4.0   8.0   \n",
       "1459  0.0  ...       0.0   0.0   0.0   0.0   0.0      0.0   5.0   2.0   8.0   \n",
       "\n",
       "      销售状态  \n",
       "0      4.0  \n",
       "1      4.0  \n",
       "2      4.0  \n",
       "3      0.0  \n",
       "4      4.0  \n",
       "...    ...  \n",
       "1455   4.0  \n",
       "1456   4.0  \n",
       "1457   4.0  \n",
       "1458   4.0  \n",
       "1459   4.0  \n",
       "\n",
       "[1460 rows x 80 columns]"
      ]
     },
     "execution_count": 32,
     "metadata": {},
     "output_type": "execute_result"
    }
   ],
   "source": [
    "features"
   ]
  },
  {
   "cell_type": "code",
   "execution_count": 33,
   "id": "9f67a6e0-42d5-4e4d-9e2d-9cc56e7c3ad6",
   "metadata": {
    "tags": []
   },
   "outputs": [],
   "source": [
    "labels = data.iloc[:, 80]"
   ]
  },
  {
   "cell_type": "code",
   "execution_count": 34,
   "id": "61aa565c-4a18-4c8b-8f8b-710a7fa20a1e",
   "metadata": {
    "tags": []
   },
   "outputs": [
    {
     "data": {
      "text/plain": [
       "0       208500\n",
       "1       181500\n",
       "2       223500\n",
       "3       140000\n",
       "4       250000\n",
       "         ...  \n",
       "1455    175000\n",
       "1456    210000\n",
       "1457    266500\n",
       "1458    142125\n",
       "1459    147500\n",
       "Name: SalePrice, Length: 1460, dtype: int64"
      ]
     },
     "execution_count": 34,
     "metadata": {},
     "output_type": "execute_result"
    }
   ],
   "source": [
    "labels"
   ]
  },
  {
   "cell_type": "code",
   "execution_count": 35,
   "id": "905ff5da-9646-4fbf-a182-94467f184049",
   "metadata": {
    "tags": []
   },
   "outputs": [],
   "source": [
    "X_train, X_test, y_train, y_test = train_test_split(features, labels, test_size=0.2)"
   ]
  },
  {
   "cell_type": "code",
   "execution_count": 36,
   "id": "fb9a3a29-cc47-487f-9c0c-bac2844660a9",
   "metadata": {
    "tags": []
   },
   "outputs": [
    {
     "data": {
      "text/plain": [
       "(1168, 80)"
      ]
     },
     "execution_count": 36,
     "metadata": {},
     "output_type": "execute_result"
    }
   ],
   "source": [
    "X_train.shape"
   ]
  },
  {
   "cell_type": "code",
   "execution_count": 37,
   "id": "e89e6c07-abe7-430d-9dbd-d5c2f7d37014",
   "metadata": {
    "tags": []
   },
   "outputs": [
    {
     "data": {
      "text/html": [
       "<div>\n",
       "<style scoped>\n",
       "    .dataframe tbody tr th:only-of-type {\n",
       "        vertical-align: middle;\n",
       "    }\n",
       "\n",
       "    .dataframe tbody tr th {\n",
       "        vertical-align: top;\n",
       "    }\n",
       "\n",
       "    .dataframe thead th {\n",
       "        text-align: right;\n",
       "    }\n",
       "</style>\n",
       "<table border=\"1\" class=\"dataframe\">\n",
       "  <thead>\n",
       "    <tr style=\"text-align: right;\">\n",
       "      <th></th>\n",
       "      <th>Id</th>\n",
       "      <th>住宅类型</th>\n",
       "      <th>住宅区域</th>\n",
       "      <th>街道接触面积(英尺)</th>\n",
       "      <th>住宅面积</th>\n",
       "      <th>街道路面状况</th>\n",
       "      <th>巷子路面状况</th>\n",
       "      <th>住宅形状(大概)</th>\n",
       "      <th>住宅现状</th>\n",
       "      <th>水电气</th>\n",
       "      <th>...</th>\n",
       "      <th>半开放式门廊面积</th>\n",
       "      <th>泳池面积</th>\n",
       "      <th>泳池质量</th>\n",
       "      <th>篱笆质量</th>\n",
       "      <th>其他配置</th>\n",
       "      <th>其他配置的价值</th>\n",
       "      <th>销售月份</th>\n",
       "      <th>销售年份</th>\n",
       "      <th>销售类型</th>\n",
       "      <th>销售状态</th>\n",
       "    </tr>\n",
       "  </thead>\n",
       "  <tbody>\n",
       "    <tr>\n",
       "      <th>543</th>\n",
       "      <td>543.0</td>\n",
       "      <td>11.0</td>\n",
       "      <td>2.0</td>\n",
       "      <td>5.0</td>\n",
       "      <td>66.0</td>\n",
       "      <td>1.0</td>\n",
       "      <td>0.0</td>\n",
       "      <td>3.0</td>\n",
       "      <td>3.0</td>\n",
       "      <td>0.0</td>\n",
       "      <td>...</td>\n",
       "      <td>0.0</td>\n",
       "      <td>0.0</td>\n",
       "      <td>0.0</td>\n",
       "      <td>0.0</td>\n",
       "      <td>0.0</td>\n",
       "      <td>0.0</td>\n",
       "      <td>5.0</td>\n",
       "      <td>1.0</td>\n",
       "      <td>8.0</td>\n",
       "      <td>4.0</td>\n",
       "    </tr>\n",
       "    <tr>\n",
       "      <th>294</th>\n",
       "      <td>294.0</td>\n",
       "      <td>0.0</td>\n",
       "      <td>3.0</td>\n",
       "      <td>51.0</td>\n",
       "      <td>498.0</td>\n",
       "      <td>1.0</td>\n",
       "      <td>0.0</td>\n",
       "      <td>3.0</td>\n",
       "      <td>3.0</td>\n",
       "      <td>0.0</td>\n",
       "      <td>...</td>\n",
       "      <td>0.0</td>\n",
       "      <td>0.0</td>\n",
       "      <td>0.0</td>\n",
       "      <td>0.0</td>\n",
       "      <td>0.0</td>\n",
       "      <td>0.0</td>\n",
       "      <td>9.0</td>\n",
       "      <td>3.0</td>\n",
       "      <td>8.0</td>\n",
       "      <td>4.0</td>\n",
       "    </tr>\n",
       "    <tr>\n",
       "      <th>431</th>\n",
       "      <td>431.0</td>\n",
       "      <td>4.0</td>\n",
       "      <td>4.0</td>\n",
       "      <td>31.0</td>\n",
       "      <td>117.0</td>\n",
       "      <td>1.0</td>\n",
       "      <td>0.0</td>\n",
       "      <td>0.0</td>\n",
       "      <td>0.0</td>\n",
       "      <td>0.0</td>\n",
       "      <td>...</td>\n",
       "      <td>0.0</td>\n",
       "      <td>0.0</td>\n",
       "      <td>0.0</td>\n",
       "      <td>2.0</td>\n",
       "      <td>0.0</td>\n",
       "      <td>0.0</td>\n",
       "      <td>8.0</td>\n",
       "      <td>2.0</td>\n",
       "      <td>3.0</td>\n",
       "      <td>0.0</td>\n",
       "    </tr>\n",
       "    <tr>\n",
       "      <th>1062</th>\n",
       "      <td>1062.0</td>\n",
       "      <td>14.0</td>\n",
       "      <td>4.0</td>\n",
       "      <td>56.0</td>\n",
       "      <td>889.0</td>\n",
       "      <td>1.0</td>\n",
       "      <td>0.0</td>\n",
       "      <td>3.0</td>\n",
       "      <td>3.0</td>\n",
       "      <td>0.0</td>\n",
       "      <td>...</td>\n",
       "      <td>0.0</td>\n",
       "      <td>0.0</td>\n",
       "      <td>0.0</td>\n",
       "      <td>0.0</td>\n",
       "      <td>0.0</td>\n",
       "      <td>0.0</td>\n",
       "      <td>8.0</td>\n",
       "      <td>1.0</td>\n",
       "      <td>8.0</td>\n",
       "      <td>4.0</td>\n",
       "    </tr>\n",
       "    <tr>\n",
       "      <th>167</th>\n",
       "      <td>167.0</td>\n",
       "      <td>5.0</td>\n",
       "      <td>3.0</td>\n",
       "      <td>57.0</td>\n",
       "      <td>615.0</td>\n",
       "      <td>1.0</td>\n",
       "      <td>0.0</td>\n",
       "      <td>3.0</td>\n",
       "      <td>3.0</td>\n",
       "      <td>0.0</td>\n",
       "      <td>...</td>\n",
       "      <td>0.0</td>\n",
       "      <td>0.0</td>\n",
       "      <td>0.0</td>\n",
       "      <td>0.0</td>\n",
       "      <td>0.0</td>\n",
       "      <td>0.0</td>\n",
       "      <td>10.0</td>\n",
       "      <td>1.0</td>\n",
       "      <td>6.0</td>\n",
       "      <td>5.0</td>\n",
       "    </tr>\n",
       "  </tbody>\n",
       "</table>\n",
       "<p>5 rows × 80 columns</p>\n",
       "</div>"
      ],
      "text/plain": [
       "          Id  住宅类型  住宅区域  街道接触面积(英尺)   住宅面积  街道路面状况  巷子路面状况  住宅形状(大概)  住宅现状  \\\n",
       "543    543.0  11.0   2.0         5.0   66.0     1.0     0.0       3.0   3.0   \n",
       "294    294.0   0.0   3.0        51.0  498.0     1.0     0.0       3.0   3.0   \n",
       "431    431.0   4.0   4.0        31.0  117.0     1.0     0.0       0.0   0.0   \n",
       "1062  1062.0  14.0   4.0        56.0  889.0     1.0     0.0       3.0   3.0   \n",
       "167    167.0   5.0   3.0        57.0  615.0     1.0     0.0       3.0   3.0   \n",
       "\n",
       "      水电气  ...  半开放式门廊面积  泳池面积  泳池质量  篱笆质量  其他配置  其他配置的价值  销售月份  销售年份  销售类型  \\\n",
       "543   0.0  ...       0.0   0.0   0.0   0.0   0.0      0.0   5.0   1.0   8.0   \n",
       "294   0.0  ...       0.0   0.0   0.0   0.0   0.0      0.0   9.0   3.0   8.0   \n",
       "431   0.0  ...       0.0   0.0   0.0   2.0   0.0      0.0   8.0   2.0   3.0   \n",
       "1062  0.0  ...       0.0   0.0   0.0   0.0   0.0      0.0   8.0   1.0   8.0   \n",
       "167   0.0  ...       0.0   0.0   0.0   0.0   0.0      0.0  10.0   1.0   6.0   \n",
       "\n",
       "      销售状态  \n",
       "543    4.0  \n",
       "294    4.0  \n",
       "431    0.0  \n",
       "1062   4.0  \n",
       "167    5.0  \n",
       "\n",
       "[5 rows x 80 columns]"
      ]
     },
     "execution_count": 37,
     "metadata": {},
     "output_type": "execute_result"
    }
   ],
   "source": [
    "X_test.head()"
   ]
  },
  {
   "cell_type": "code",
   "execution_count": 38,
   "id": "f28c380b-248e-4aac-bbad-18602fb6cfba",
   "metadata": {
    "tags": []
   },
   "outputs": [
    {
     "data": {
      "text/plain": [
       "359    280000\n",
       "794    194500\n",
       "691    755000\n",
       "77     127000\n",
       "974    167500\n",
       "        ...  \n",
       "767    160000\n",
       "972     99500\n",
       "677    109500\n",
       "727    194500\n",
       "643    152000\n",
       "Name: SalePrice, Length: 1168, dtype: int64"
      ]
     },
     "execution_count": 38,
     "metadata": {},
     "output_type": "execute_result"
    }
   ],
   "source": [
    "y_train"
   ]
  },
  {
   "cell_type": "markdown",
   "id": "06c15ade-c457-4cbe-813b-1aa1e9fa8dd5",
   "metadata": {},
   "source": [
    "数据处理好了之后即可进行本地保存。若要LGBM直接读取本地文件，则在保存过程中需要注意两点，其一是LGBM只支持utf-8的编码格式的本地文本文件读取，因此需要输入encoding='utf-8'标注编码格式，其二则是当前LGBM对列名称的读取存在一定的“障碍”，即无法顺利的读取列名称，因此这里建议设置header=None，尽管此时本地保存的文本文件列名称是原始数据集的第一行，但LGBM在后续读取过程中会自动将其识别为第一行："
   ]
  },
  {
   "cell_type": "code",
   "execution_count": 159,
   "id": "715b357f-c34a-4279-8fac-a90aafa8bdb8",
   "metadata": {},
   "outputs": [],
   "source": [
    "X_train.to_csv('X_train.csv', index=False, header=None, encoding='utf-8')\n",
    "X_test.to_csv('X_test.csv', index=False, header=None, encoding='utf-8')\n",
    "y_train.to_csv('y_train.csv', index=False, header=None, encoding='utf-8')\n",
    "y_test.to_csv('y_test.csv', index=False, header=None, encoding='utf-8')"
   ]
  },
  {
   "cell_type": "markdown",
   "id": "62f856fd-e343-460c-8ef0-6288c14bb888",
   "metadata": {},
   "source": [
    "此时保存的本地文件列名称是原始数据集的第一行："
   ]
  },
  {
   "cell_type": "code",
   "execution_count": 160,
   "id": "ad21f075-fbf8-44ab-9c0c-5f249aab17cc",
   "metadata": {},
   "outputs": [
    {
     "data": {
      "text/html": [
       "<div>\n",
       "<style scoped>\n",
       "    .dataframe tbody tr th:only-of-type {\n",
       "        vertical-align: middle;\n",
       "    }\n",
       "\n",
       "    .dataframe tbody tr th {\n",
       "        vertical-align: top;\n",
       "    }\n",
       "\n",
       "    .dataframe thead th {\n",
       "        text-align: right;\n",
       "    }\n",
       "</style>\n",
       "<table border=\"1\" class=\"dataframe\">\n",
       "  <thead>\n",
       "    <tr style=\"text-align: right;\">\n",
       "      <th></th>\n",
       "      <th>60.0</th>\n",
       "      <th>0.0</th>\n",
       "      <th>3.0</th>\n",
       "      <th>34.0</th>\n",
       "      <th>860.0</th>\n",
       "      <th>1.0</th>\n",
       "      <th>0.0.1</th>\n",
       "      <th>3.0.1</th>\n",
       "      <th>3.0.2</th>\n",
       "      <th>0.0.2</th>\n",
       "      <th>...</th>\n",
       "      <th>0.0.17</th>\n",
       "      <th>0.0.18</th>\n",
       "      <th>0.0.19</th>\n",
       "      <th>0.0.20</th>\n",
       "      <th>0.0.21</th>\n",
       "      <th>0.0.22</th>\n",
       "      <th>4.0.6</th>\n",
       "      <th>0.0.23</th>\n",
       "      <th>6.0.1</th>\n",
       "      <th>5.0.4</th>\n",
       "    </tr>\n",
       "  </thead>\n",
       "  <tbody>\n",
       "    <tr>\n",
       "      <th>0</th>\n",
       "      <td>544.0</td>\n",
       "      <td>5.0</td>\n",
       "      <td>3.0</td>\n",
       "      <td>29.0</td>\n",
       "      <td>996.0</td>\n",
       "      <td>1.0</td>\n",
       "      <td>0.0</td>\n",
       "      <td>0.0</td>\n",
       "      <td>3.0</td>\n",
       "      <td>0.0</td>\n",
       "      <td>...</td>\n",
       "      <td>0.0</td>\n",
       "      <td>0.0</td>\n",
       "      <td>0.0</td>\n",
       "      <td>0.0</td>\n",
       "      <td>0.0</td>\n",
       "      <td>0.0</td>\n",
       "      <td>8.0</td>\n",
       "      <td>0.0</td>\n",
       "      <td>6.0</td>\n",
       "      <td>5.0</td>\n",
       "    </tr>\n",
       "    <tr>\n",
       "      <th>1</th>\n",
       "      <td>131.0</td>\n",
       "      <td>5.0</td>\n",
       "      <td>3.0</td>\n",
       "      <td>0.0</td>\n",
       "      <td>800.0</td>\n",
       "      <td>1.0</td>\n",
       "      <td>0.0</td>\n",
       "      <td>0.0</td>\n",
       "      <td>3.0</td>\n",
       "      <td>0.0</td>\n",
       "      <td>...</td>\n",
       "      <td>0.0</td>\n",
       "      <td>0.0</td>\n",
       "      <td>0.0</td>\n",
       "      <td>0.0</td>\n",
       "      <td>0.0</td>\n",
       "      <td>0.0</td>\n",
       "      <td>6.0</td>\n",
       "      <td>3.0</td>\n",
       "      <td>8.0</td>\n",
       "      <td>4.0</td>\n",
       "    </tr>\n",
       "    <tr>\n",
       "      <th>2</th>\n",
       "      <td>278.0</td>\n",
       "      <td>0.0</td>\n",
       "      <td>3.0</td>\n",
       "      <td>78.0</td>\n",
       "      <td>931.0</td>\n",
       "      <td>1.0</td>\n",
       "      <td>0.0</td>\n",
       "      <td>3.0</td>\n",
       "      <td>3.0</td>\n",
       "      <td>0.0</td>\n",
       "      <td>...</td>\n",
       "      <td>18.0</td>\n",
       "      <td>0.0</td>\n",
       "      <td>0.0</td>\n",
       "      <td>0.0</td>\n",
       "      <td>0.0</td>\n",
       "      <td>0.0</td>\n",
       "      <td>4.0</td>\n",
       "      <td>1.0</td>\n",
       "      <td>6.0</td>\n",
       "      <td>5.0</td>\n",
       "    </tr>\n",
       "    <tr>\n",
       "      <th>3</th>\n",
       "      <td>975.0</td>\n",
       "      <td>12.0</td>\n",
       "      <td>1.0</td>\n",
       "      <td>0.0</td>\n",
       "      <td>32.0</td>\n",
       "      <td>1.0</td>\n",
       "      <td>0.0</td>\n",
       "      <td>3.0</td>\n",
       "      <td>3.0</td>\n",
       "      <td>0.0</td>\n",
       "      <td>...</td>\n",
       "      <td>0.0</td>\n",
       "      <td>0.0</td>\n",
       "      <td>0.0</td>\n",
       "      <td>0.0</td>\n",
       "      <td>0.0</td>\n",
       "      <td>0.0</td>\n",
       "      <td>3.0</td>\n",
       "      <td>0.0</td>\n",
       "      <td>8.0</td>\n",
       "      <td>4.0</td>\n",
       "    </tr>\n",
       "    <tr>\n",
       "      <th>4</th>\n",
       "      <td>1226.0</td>\n",
       "      <td>5.0</td>\n",
       "      <td>3.0</td>\n",
       "      <td>57.0</td>\n",
       "      <td>938.0</td>\n",
       "      <td>1.0</td>\n",
       "      <td>0.0</td>\n",
       "      <td>0.0</td>\n",
       "      <td>3.0</td>\n",
       "      <td>0.0</td>\n",
       "      <td>...</td>\n",
       "      <td>0.0</td>\n",
       "      <td>0.0</td>\n",
       "      <td>0.0</td>\n",
       "      <td>0.0</td>\n",
       "      <td>0.0</td>\n",
       "      <td>0.0</td>\n",
       "      <td>0.0</td>\n",
       "      <td>2.0</td>\n",
       "      <td>8.0</td>\n",
       "      <td>4.0</td>\n",
       "    </tr>\n",
       "  </tbody>\n",
       "</table>\n",
       "<p>5 rows × 80 columns</p>\n",
       "</div>"
      ],
      "text/plain": [
       "     60.0   0.0  3.0  34.0  860.0  1.0  0.0.1  3.0.1  3.0.2  0.0.2  ...  \\\n",
       "0   544.0   5.0  3.0  29.0  996.0  1.0    0.0    0.0    3.0    0.0  ...   \n",
       "1   131.0   5.0  3.0   0.0  800.0  1.0    0.0    0.0    3.0    0.0  ...   \n",
       "2   278.0   0.0  3.0  78.0  931.0  1.0    0.0    3.0    3.0    0.0  ...   \n",
       "3   975.0  12.0  1.0   0.0   32.0  1.0    0.0    3.0    3.0    0.0  ...   \n",
       "4  1226.0   5.0  3.0  57.0  938.0  1.0    0.0    0.0    3.0    0.0  ...   \n",
       "\n",
       "   0.0.17  0.0.18  0.0.19  0.0.20  0.0.21  0.0.22  4.0.6  0.0.23  6.0.1  5.0.4  \n",
       "0     0.0     0.0     0.0     0.0     0.0     0.0    8.0     0.0    6.0    5.0  \n",
       "1     0.0     0.0     0.0     0.0     0.0     0.0    6.0     3.0    8.0    4.0  \n",
       "2    18.0     0.0     0.0     0.0     0.0     0.0    4.0     1.0    6.0    5.0  \n",
       "3     0.0     0.0     0.0     0.0     0.0     0.0    3.0     0.0    8.0    4.0  \n",
       "4     0.0     0.0     0.0     0.0     0.0     0.0    0.0     2.0    8.0    4.0  \n",
       "\n",
       "[5 rows x 80 columns]"
      ]
     },
     "execution_count": 160,
     "metadata": {},
     "output_type": "execute_result"
    }
   ],
   "source": [
    "data_temp = pd.read_csv('X_train.csv')\n",
    "data_temp.head()"
   ]
  },
  {
   "cell_type": "code",
   "execution_count": 161,
   "id": "b3582f8a-c279-4edd-8e97-df6483684321",
   "metadata": {},
   "outputs": [
    {
     "data": {
      "text/plain": [
       "(1167, 80)"
      ]
     },
     "execution_count": 161,
     "metadata": {},
     "output_type": "execute_result"
    }
   ],
   "source": [
    "data_temp.shape"
   ]
  },
  {
   "cell_type": "code",
   "execution_count": 162,
   "id": "b79e487c-6779-481f-80ad-7906741e9810",
   "metadata": {},
   "outputs": [
    {
     "data": {
      "text/plain": [
       "(1168, 80)"
      ]
     },
     "execution_count": 162,
     "metadata": {},
     "output_type": "execute_result"
    }
   ],
   "source": [
    "X_train.shape"
   ]
  },
  {
   "cell_type": "markdown",
   "id": "7a7a0dbd-5b90-453d-ae0d-5e8b12ac0ce3",
   "metadata": {},
   "source": [
    "当然，这里我们也可以在读取的时候设置header=None以消除该问题："
   ]
  },
  {
   "cell_type": "code",
   "execution_count": 163,
   "id": "28aca5bf-3485-4887-8cf3-07fd5e0c9c95",
   "metadata": {},
   "outputs": [
    {
     "data": {
      "text/html": [
       "<div>\n",
       "<style scoped>\n",
       "    .dataframe tbody tr th:only-of-type {\n",
       "        vertical-align: middle;\n",
       "    }\n",
       "\n",
       "    .dataframe tbody tr th {\n",
       "        vertical-align: top;\n",
       "    }\n",
       "\n",
       "    .dataframe thead th {\n",
       "        text-align: right;\n",
       "    }\n",
       "</style>\n",
       "<table border=\"1\" class=\"dataframe\">\n",
       "  <thead>\n",
       "    <tr style=\"text-align: right;\">\n",
       "      <th></th>\n",
       "      <th>0</th>\n",
       "      <th>1</th>\n",
       "      <th>2</th>\n",
       "      <th>3</th>\n",
       "      <th>4</th>\n",
       "      <th>5</th>\n",
       "      <th>6</th>\n",
       "      <th>7</th>\n",
       "      <th>8</th>\n",
       "      <th>9</th>\n",
       "      <th>...</th>\n",
       "      <th>70</th>\n",
       "      <th>71</th>\n",
       "      <th>72</th>\n",
       "      <th>73</th>\n",
       "      <th>74</th>\n",
       "      <th>75</th>\n",
       "      <th>76</th>\n",
       "      <th>77</th>\n",
       "      <th>78</th>\n",
       "      <th>79</th>\n",
       "    </tr>\n",
       "  </thead>\n",
       "  <tbody>\n",
       "    <tr>\n",
       "      <th>0</th>\n",
       "      <td>60.0</td>\n",
       "      <td>0.0</td>\n",
       "      <td>3.0</td>\n",
       "      <td>34.0</td>\n",
       "      <td>860.0</td>\n",
       "      <td>1.0</td>\n",
       "      <td>0.0</td>\n",
       "      <td>3.0</td>\n",
       "      <td>3.0</td>\n",
       "      <td>0.0</td>\n",
       "      <td>...</td>\n",
       "      <td>0.0</td>\n",
       "      <td>0.0</td>\n",
       "      <td>0.0</td>\n",
       "      <td>0.0</td>\n",
       "      <td>0.0</td>\n",
       "      <td>0.0</td>\n",
       "      <td>4.0</td>\n",
       "      <td>0.0</td>\n",
       "      <td>6.0</td>\n",
       "      <td>5.0</td>\n",
       "    </tr>\n",
       "    <tr>\n",
       "      <th>1</th>\n",
       "      <td>544.0</td>\n",
       "      <td>5.0</td>\n",
       "      <td>3.0</td>\n",
       "      <td>29.0</td>\n",
       "      <td>996.0</td>\n",
       "      <td>1.0</td>\n",
       "      <td>0.0</td>\n",
       "      <td>0.0</td>\n",
       "      <td>3.0</td>\n",
       "      <td>0.0</td>\n",
       "      <td>...</td>\n",
       "      <td>0.0</td>\n",
       "      <td>0.0</td>\n",
       "      <td>0.0</td>\n",
       "      <td>0.0</td>\n",
       "      <td>0.0</td>\n",
       "      <td>0.0</td>\n",
       "      <td>8.0</td>\n",
       "      <td>0.0</td>\n",
       "      <td>6.0</td>\n",
       "      <td>5.0</td>\n",
       "    </tr>\n",
       "    <tr>\n",
       "      <th>2</th>\n",
       "      <td>131.0</td>\n",
       "      <td>5.0</td>\n",
       "      <td>3.0</td>\n",
       "      <td>0.0</td>\n",
       "      <td>800.0</td>\n",
       "      <td>1.0</td>\n",
       "      <td>0.0</td>\n",
       "      <td>0.0</td>\n",
       "      <td>3.0</td>\n",
       "      <td>0.0</td>\n",
       "      <td>...</td>\n",
       "      <td>0.0</td>\n",
       "      <td>0.0</td>\n",
       "      <td>0.0</td>\n",
       "      <td>0.0</td>\n",
       "      <td>0.0</td>\n",
       "      <td>0.0</td>\n",
       "      <td>6.0</td>\n",
       "      <td>3.0</td>\n",
       "      <td>8.0</td>\n",
       "      <td>4.0</td>\n",
       "    </tr>\n",
       "    <tr>\n",
       "      <th>3</th>\n",
       "      <td>278.0</td>\n",
       "      <td>0.0</td>\n",
       "      <td>3.0</td>\n",
       "      <td>78.0</td>\n",
       "      <td>931.0</td>\n",
       "      <td>1.0</td>\n",
       "      <td>0.0</td>\n",
       "      <td>3.0</td>\n",
       "      <td>3.0</td>\n",
       "      <td>0.0</td>\n",
       "      <td>...</td>\n",
       "      <td>18.0</td>\n",
       "      <td>0.0</td>\n",
       "      <td>0.0</td>\n",
       "      <td>0.0</td>\n",
       "      <td>0.0</td>\n",
       "      <td>0.0</td>\n",
       "      <td>4.0</td>\n",
       "      <td>1.0</td>\n",
       "      <td>6.0</td>\n",
       "      <td>5.0</td>\n",
       "    </tr>\n",
       "    <tr>\n",
       "      <th>4</th>\n",
       "      <td>975.0</td>\n",
       "      <td>12.0</td>\n",
       "      <td>1.0</td>\n",
       "      <td>0.0</td>\n",
       "      <td>32.0</td>\n",
       "      <td>1.0</td>\n",
       "      <td>0.0</td>\n",
       "      <td>3.0</td>\n",
       "      <td>3.0</td>\n",
       "      <td>0.0</td>\n",
       "      <td>...</td>\n",
       "      <td>0.0</td>\n",
       "      <td>0.0</td>\n",
       "      <td>0.0</td>\n",
       "      <td>0.0</td>\n",
       "      <td>0.0</td>\n",
       "      <td>0.0</td>\n",
       "      <td>3.0</td>\n",
       "      <td>0.0</td>\n",
       "      <td>8.0</td>\n",
       "      <td>4.0</td>\n",
       "    </tr>\n",
       "  </tbody>\n",
       "</table>\n",
       "<p>5 rows × 80 columns</p>\n",
       "</div>"
      ],
      "text/plain": [
       "      0     1    2     3      4    5    6    7    8    9   ...    70   71  \\\n",
       "0   60.0   0.0  3.0  34.0  860.0  1.0  0.0  3.0  3.0  0.0  ...   0.0  0.0   \n",
       "1  544.0   5.0  3.0  29.0  996.0  1.0  0.0  0.0  3.0  0.0  ...   0.0  0.0   \n",
       "2  131.0   5.0  3.0   0.0  800.0  1.0  0.0  0.0  3.0  0.0  ...   0.0  0.0   \n",
       "3  278.0   0.0  3.0  78.0  931.0  1.0  0.0  3.0  3.0  0.0  ...  18.0  0.0   \n",
       "4  975.0  12.0  1.0   0.0   32.0  1.0  0.0  3.0  3.0  0.0  ...   0.0  0.0   \n",
       "\n",
       "    72   73   74   75   76   77   78   79  \n",
       "0  0.0  0.0  0.0  0.0  4.0  0.0  6.0  5.0  \n",
       "1  0.0  0.0  0.0  0.0  8.0  0.0  6.0  5.0  \n",
       "2  0.0  0.0  0.0  0.0  6.0  3.0  8.0  4.0  \n",
       "3  0.0  0.0  0.0  0.0  4.0  1.0  6.0  5.0  \n",
       "4  0.0  0.0  0.0  0.0  3.0  0.0  8.0  4.0  \n",
       "\n",
       "[5 rows x 80 columns]"
      ]
     },
     "execution_count": 163,
     "metadata": {},
     "output_type": "execute_result"
    }
   ],
   "source": [
    "data_temp = pd.read_csv('X_train.csv', header=None)\n",
    "data_temp.head()"
   ]
  },
  {
   "cell_type": "code",
   "execution_count": 164,
   "id": "004c1b6b-f83e-4110-a8bb-831ad4d89719",
   "metadata": {},
   "outputs": [
    {
     "data": {
      "text/plain": [
       "(1168, 80)"
      ]
     },
     "execution_count": 164,
     "metadata": {},
     "output_type": "execute_result"
    }
   ],
   "source": [
    "data_temp.shape"
   ]
  },
  {
   "cell_type": "markdown",
   "id": "753c398e-6ed0-44fb-8f63-84452a3eead3",
   "metadata": {},
   "source": [
    "而在LGBM的Dataset函数读取文件的过程中，会自动将csv的列名称一行识别为第一行数据，因此lgb.Dataset在进行读取时无需设置，直接读取即可："
   ]
  },
  {
   "cell_type": "code",
   "execution_count": 165,
   "id": "b0864469-e5f9-453d-9cfb-d0f79ba20ca9",
   "metadata": {},
   "outputs": [],
   "source": [
    "train_data = lgb.Dataset('X_train.csv', label=y_train)"
   ]
  },
  {
   "cell_type": "markdown",
   "id": "4ecf55d9-5af8-43e3-8b98-9a4e1a012cb5",
   "metadata": {},
   "source": [
    "为了验证数据集是否完整读取，可以直接带入模型进行训练测试，此时如果特征和标签行数不同，则会报错"
   ]
  },
  {
   "cell_type": "code",
   "execution_count": 166,
   "id": "24a9709a-db0e-4929-88e1-4acbd41e0f09",
   "metadata": {
    "tags": []
   },
   "outputs": [
    {
     "name": "stdout",
     "output_type": "stream",
     "text": [
      "[LightGBM] [Info] Construct bin mappers from text data time 0.00 seconds\n",
      "[LightGBM] [Warning] Auto-choosing col-wise multi-threading, the overhead of testing was 0.001163 seconds.\n",
      "You can set `force_col_wise=true` to remove the overhead.\n",
      "[LightGBM] [Info] Total Bins 3106\n",
      "[LightGBM] [Info] Number of data points in the train set: 1168, number of used features: 74\n",
      "[LightGBM] [Info] Start training from score 181726.634418\n"
     ]
    }
   ],
   "source": [
    "param = {}\n",
    "bst = lgb.train(param, train_data)"
   ]
  },
  {
   "cell_type": "markdown",
   "id": "9d14d7f2-b425-409a-bb90-89a50281105a",
   "metadata": {},
   "source": [
    "而且，此时由于读取的是本地数据，因此如果选择不释放临时数据，则会返回一个本地数据文件的地址："
   ]
  },
  {
   "cell_type": "code",
   "execution_count": 167,
   "id": "3e603c34-5be7-4172-b24a-5dd49b847b5d",
   "metadata": {},
   "outputs": [
    {
     "name": "stdout",
     "output_type": "stream",
     "text": [
      "[LightGBM] [Info] Construct bin mappers from text data time 0.00 seconds\n",
      "[LightGBM] [Warning] Auto-choosing col-wise multi-threading, the overhead of testing was 0.000940 seconds.\n",
      "You can set `force_col_wise=true` to remove the overhead.\n",
      "[LightGBM] [Info] Total Bins 3106\n",
      "[LightGBM] [Info] Number of data points in the train set: 1168, number of used features: 74\n",
      "[LightGBM] [Info] Start training from score 181726.634418\n"
     ]
    }
   ],
   "source": [
    "train_data = lgb.Dataset('X_train.csv', label=y_train, free_raw_data=False)\n",
    "param = {}\n",
    "bst = lgb.train(param, train_data)"
   ]
  },
  {
   "cell_type": "code",
   "execution_count": 168,
   "id": "11716904-2f65-4e84-b74e-cabde67fea12",
   "metadata": {},
   "outputs": [
    {
     "data": {
      "text/plain": [
       "'X_train.csv'"
      ]
     },
     "execution_count": 168,
     "metadata": {},
     "output_type": "execute_result"
    }
   ],
   "source": [
    "train_data.get_data()"
   ]
  },
  {
   "cell_type": "markdown",
   "id": "56e635c8-32f9-43f9-aaf9-19cca228d54e",
   "metadata": {},
   "source": [
    "同时我们发现，由于读取的数据集并没有列名称，当前返回的数据集列名称是自动创建的结果："
   ]
  },
  {
   "cell_type": "code",
   "execution_count": 169,
   "id": "9fbc5e40-0e1d-4a32-85cf-38b2df4f6d80",
   "metadata": {
    "collapsed": true,
    "jupyter": {
     "outputs_hidden": true
    },
    "tags": []
   },
   "outputs": [
    {
     "data": {
      "text/plain": [
       "['Column_0',\n",
       " 'Column_1',\n",
       " 'Column_2',\n",
       " 'Column_3',\n",
       " 'Column_4',\n",
       " 'Column_5',\n",
       " 'Column_6',\n",
       " 'Column_7',\n",
       " 'Column_8',\n",
       " 'Column_9',\n",
       " 'Column_10',\n",
       " 'Column_11',\n",
       " 'Column_12',\n",
       " 'Column_13',\n",
       " 'Column_14',\n",
       " 'Column_15',\n",
       " 'Column_16',\n",
       " 'Column_17',\n",
       " 'Column_18',\n",
       " 'Column_19',\n",
       " 'Column_20',\n",
       " 'Column_21',\n",
       " 'Column_22',\n",
       " 'Column_23',\n",
       " 'Column_24',\n",
       " 'Column_25',\n",
       " 'Column_26',\n",
       " 'Column_27',\n",
       " 'Column_28',\n",
       " 'Column_29',\n",
       " 'Column_30',\n",
       " 'Column_31',\n",
       " 'Column_32',\n",
       " 'Column_33',\n",
       " 'Column_34',\n",
       " 'Column_35',\n",
       " 'Column_36',\n",
       " 'Column_37',\n",
       " 'Column_38',\n",
       " 'Column_39',\n",
       " 'Column_40',\n",
       " 'Column_41',\n",
       " 'Column_42',\n",
       " 'Column_43',\n",
       " 'Column_44',\n",
       " 'Column_45',\n",
       " 'Column_46',\n",
       " 'Column_47',\n",
       " 'Column_48',\n",
       " 'Column_49',\n",
       " 'Column_50',\n",
       " 'Column_51',\n",
       " 'Column_52',\n",
       " 'Column_53',\n",
       " 'Column_54',\n",
       " 'Column_55',\n",
       " 'Column_56',\n",
       " 'Column_57',\n",
       " 'Column_58',\n",
       " 'Column_59',\n",
       " 'Column_60',\n",
       " 'Column_61',\n",
       " 'Column_62',\n",
       " 'Column_63',\n",
       " 'Column_64',\n",
       " 'Column_65',\n",
       " 'Column_66',\n",
       " 'Column_67',\n",
       " 'Column_68',\n",
       " 'Column_69',\n",
       " 'Column_70',\n",
       " 'Column_71',\n",
       " 'Column_72',\n",
       " 'Column_73',\n",
       " 'Column_74',\n",
       " 'Column_75',\n",
       " 'Column_76',\n",
       " 'Column_77',\n",
       " 'Column_78']"
      ]
     },
     "execution_count": 169,
     "metadata": {},
     "output_type": "execute_result"
    }
   ],
   "source": [
    "train_data.get_feature_name()"
   ]
  },
  {
   "cell_type": "markdown",
   "id": "ba0e79e8-6024-4108-ba4c-297d3c4525da",
   "metadata": {},
   "source": [
    "我们可以通过X_train.columns找到列名称，并通过feature_name传入Dataset："
   ]
  },
  {
   "cell_type": "code",
   "execution_count": 170,
   "id": "b12ac39d-9316-4b13-95d1-b31236606e5a",
   "metadata": {},
   "outputs": [
    {
     "data": {
      "text/plain": [
       "Index(['Id', '住宅类型', '住宅区域', '街道接触面积(英尺)', '住宅面积', '街道路面状况', '巷子路面状况',\n",
       "       '住宅形状(大概)', '住宅现状', '水电气', '住宅配置', '住宅视野', '社区', '住宅周边1', '住宅周边2',\n",
       "       '适用家庭', '住宅房型', '装修质量', '整体质量', '建造年份', '法律拆除年份', '天花板类型', '天花板材料',\n",
       "       '户外装饰1', '户外装饰2', '砖墙类型', '砖墙面积', '户外材料质量', '户外装修质量', '地下室类型', '地下室深度',\n",
       "       '地下室质量', '花园外墙', '地下室现状1', '地下室一层标准面积', '地下室现状2', '地下室二层标准面积',\n",
       "       '地下室建造现状', '整体地下室面积', '暖气类型', '暖气质量', '中央空调', '电力系统', '二楼面积', '三楼面积',\n",
       "       '全低质量面积', '户外活动空间面积', '全卫地下室', '半卫地下室', '全卫及以上', '半卫及以上', '卧室及以上',\n",
       "       '厨房及以上', '厨房质量', '总房间量', '住宅性能', '壁炉数量', '壁炉质量', '车库类型', '车库建造时间',\n",
       "       '车库装修现状', '车位数量', '车库面积', '车库质量', '车库现状', '石板路', '木板面积', '开放式门廊面积',\n",
       "       '关闭式门廊面积', '三季门廊面积', '半开放式门廊面积', '泳池面积', '泳池质量', '篱笆质量', '其他配置',\n",
       "       '其他配置的价值', '销售月份', '销售年份', '销售类型', '销售状态'],\n",
       "      dtype='object')"
      ]
     },
     "execution_count": 170,
     "metadata": {},
     "output_type": "execute_result"
    }
   ],
   "source": [
    "X_train.columns"
   ]
  },
  {
   "cell_type": "code",
   "execution_count": 171,
   "id": "75e151fd-fa1d-4404-9e99-8a48031cba9f",
   "metadata": {
    "tags": []
   },
   "outputs": [
    {
     "data": {
      "text/plain": [
       "79"
      ]
     },
     "execution_count": 171,
     "metadata": {},
     "output_type": "execute_result"
    }
   ],
   "source": [
    "len(list(X_train.columns)[1:])"
   ]
  },
  {
   "cell_type": "code",
   "execution_count": 172,
   "id": "5cb26739-6103-4bb6-b897-1e1fddfc0e81",
   "metadata": {
    "tags": []
   },
   "outputs": [
    {
     "name": "stdout",
     "output_type": "stream",
     "text": [
      "[LightGBM] [Info] Construct bin mappers from text data time 0.00 seconds\n",
      "[LightGBM] [Warning] Auto-choosing col-wise multi-threading, the overhead of testing was 0.000999 seconds.\n",
      "You can set `force_col_wise=true` to remove the overhead.\n",
      "[LightGBM] [Info] Total Bins 3106\n",
      "[LightGBM] [Info] Number of data points in the train set: 1168, number of used features: 74\n",
      "[LightGBM] [Info] Start training from score 181726.634418\n"
     ]
    }
   ],
   "source": [
    "train_data = lgb.Dataset('X_train.csv', feature_name=list(X_train.columns)[1:], label=y_train)\n",
    "param = {}\n",
    "bst = lgb.train(param, train_data)"
   ]
  },
  {
   "cell_type": "code",
   "execution_count": 173,
   "id": "ab915d7c-b6f2-49c0-a1b8-88714fa1c693",
   "metadata": {
    "collapsed": true,
    "jupyter": {
     "outputs_hidden": true
    },
    "tags": []
   },
   "outputs": [
    {
     "data": {
      "text/plain": [
       "['住宅类型',\n",
       " '住宅区域',\n",
       " '街道接触面积(英尺)',\n",
       " '住宅面积',\n",
       " '街道路面状况',\n",
       " '巷子路面状况',\n",
       " '住宅形状(大概)',\n",
       " '住宅现状',\n",
       " '水电气',\n",
       " '住宅配置',\n",
       " '住宅视野',\n",
       " '社区',\n",
       " '住宅周边1',\n",
       " '住宅周边2',\n",
       " '适用家庭',\n",
       " '住宅房型',\n",
       " '装修质量',\n",
       " '整体质量',\n",
       " '建造年份',\n",
       " '法律拆除年份',\n",
       " '天花板类型',\n",
       " '天花板材料',\n",
       " '户外装饰1',\n",
       " '户外装饰2',\n",
       " '砖墙类型',\n",
       " '砖墙面积',\n",
       " '户外材料质量',\n",
       " '户外装修质量',\n",
       " '地下室类型',\n",
       " '地下室深度',\n",
       " '地下室质量',\n",
       " '花园外墙',\n",
       " '地下室现状1',\n",
       " '地下室一层标准面积',\n",
       " '地下室现状2',\n",
       " '地下室二层标准面积',\n",
       " '地下室建造现状',\n",
       " '整体地下室面积',\n",
       " '暖气类型',\n",
       " '暖气质量',\n",
       " '中央空调',\n",
       " '电力系统',\n",
       " '二楼面积',\n",
       " '三楼面积',\n",
       " '全低质量面积',\n",
       " '户外活动空间面积',\n",
       " '全卫地下室',\n",
       " '半卫地下室',\n",
       " '全卫及以上',\n",
       " '半卫及以上',\n",
       " '卧室及以上',\n",
       " '厨房及以上',\n",
       " '厨房质量',\n",
       " '总房间量',\n",
       " '住宅性能',\n",
       " '壁炉数量',\n",
       " '壁炉质量',\n",
       " '车库类型',\n",
       " '车库建造时间',\n",
       " '车库装修现状',\n",
       " '车位数量',\n",
       " '车库面积',\n",
       " '车库质量',\n",
       " '车库现状',\n",
       " '石板路',\n",
       " '木板面积',\n",
       " '开放式门廊面积',\n",
       " '关闭式门廊面积',\n",
       " '三季门廊面积',\n",
       " '半开放式门廊面积',\n",
       " '泳池面积',\n",
       " '泳池质量',\n",
       " '篱笆质量',\n",
       " '其他配置',\n",
       " '其他配置的价值',\n",
       " '销售月份',\n",
       " '销售年份',\n",
       " '销售类型',\n",
       " '销售状态']"
      ]
     },
     "execution_count": 173,
     "metadata": {},
     "output_type": "execute_result"
    }
   ],
   "source": [
    "train_data.get_feature_name()"
   ]
  },
  {
   "cell_type": "markdown",
   "id": "3783c484-6605-4a6d-ac98-a1b342858872",
   "metadata": {},
   "source": [
    "至此，我们就完成了本地csv格式文件读取，正如此前所说，只在某些特殊情况下我们会采用这种数据保存和读取的方法，更常见的做法是保存和读取LGBM binary文件，而非csv文件，用于后续的LGBM建模。"
   ]
  },
  {
   "cell_type": "markdown",
   "id": "8d396551-8f8d-47a2-b59e-6b9e7bd1a321",
   "metadata": {},
   "source": [
    "##### 3.1.6 LGBM binary文件保存和读取方法"
   ]
  },
  {
   "cell_type": "markdown",
   "id": "1c688b89-148b-4748-bb59-6acec185f34d",
   "metadata": {},
   "source": [
    "&emsp;&emsp;LGBM binary文件是LGBM专用的一种非常特殊的二进制文件，可以借助二进制制式进行高效快速的数据存储，并被LGBM模型正确的识别。例如，在此前已经准备好的train_data数据，我们可以通过如下方式进行本地保存："
   ]
  },
  {
   "cell_type": "code",
   "execution_count": 174,
   "id": "1e5c3721-84af-4230-80ff-db3942e79c1b",
   "metadata": {},
   "outputs": [
    {
     "name": "stdout",
     "output_type": "stream",
     "text": [
      "[LightGBM] [Warning] File train.bin exists, cannot save binary to it\n"
     ]
    },
    {
     "data": {
      "text/plain": [
       "<lightgbm.basic.Dataset at 0x20fd612cca0>"
      ]
     },
     "execution_count": 174,
     "metadata": {},
     "output_type": "execute_result"
    }
   ],
   "source": [
    "train_data.save_binary('train.bin')"
   ]
  },
  {
   "cell_type": "markdown",
   "id": "c7164e0b-29e1-4591-aa11-78b4c1351d42",
   "metadata": {},
   "source": [
    "然后在读取时，直接使用lgb.Dataset即可进行读取："
   ]
  },
  {
   "cell_type": "code",
   "execution_count": 175,
   "id": "40eaf42a-d1d9-4486-bf0e-0c9587592803",
   "metadata": {},
   "outputs": [],
   "source": [
    "train_data_bin = lgb.Dataset(\"train.bin\")"
   ]
  },
  {
   "cell_type": "markdown",
   "id": "e89d6780-dac8-4e11-b637-20e82eba7b2b",
   "metadata": {},
   "source": [
    "此时只需要在Dataset参数位置上输入一个二进制文件的读取地址，就能完整创建一个包含全部train_data信息的Dataset对象。需要注意的是，这里不需要额外输入标签，\"train.bin\"文件本身就包含标签信息："
   ]
  },
  {
   "cell_type": "code",
   "execution_count": 176,
   "id": "db8c1f1b-12e6-46ce-9eac-a4ab53ff51bd",
   "metadata": {},
   "outputs": [
    {
     "name": "stdout",
     "output_type": "stream",
     "text": [
      "[LightGBM] [Info] Load from binary file train.bin\n",
      "[LightGBM] [Warning] Auto-choosing col-wise multi-threading, the overhead of testing was 0.001073 seconds.\n",
      "You can set `force_col_wise=true` to remove the overhead.\n",
      "[LightGBM] [Info] Total Bins 2744\n",
      "[LightGBM] [Info] Number of data points in the train set: 1022, number of used features: 74\n",
      "[LightGBM] [Info] Start training from score 181808.296477\n"
     ]
    }
   ],
   "source": [
    "param = {}\n",
    "bst = lgb.train(param, train_data_bin)"
   ]
  },
  {
   "cell_type": "code",
   "execution_count": 177,
   "id": "9b45563f-f7e5-48b5-b67d-a308779d9196",
   "metadata": {
    "tags": []
   },
   "outputs": [
    {
     "data": {
      "text/plain": [
       "79"
      ]
     },
     "execution_count": 177,
     "metadata": {},
     "output_type": "execute_result"
    }
   ],
   "source": [
    "train_data_bin.num_feature()"
   ]
  },
  {
   "cell_type": "code",
   "execution_count": 178,
   "id": "eacb28b8-c628-4907-89ae-4fc8463e8271",
   "metadata": {},
   "outputs": [
    {
     "data": {
      "text/plain": [
       "array([203000., 259500., 160000., ...,  97500., 187500., 395000.],\n",
       "      dtype=float32)"
      ]
     },
     "execution_count": 178,
     "metadata": {},
     "output_type": "execute_result"
    }
   ],
   "source": [
    "train_data_bin.get_label()"
   ]
  },
  {
   "cell_type": "markdown",
   "id": "faaa2196-f5c6-4753-bdc9-90a8d7e263b8",
   "metadata": {},
   "source": [
    "这也拓展了我们对lgb.Dataset函数中data参数的理解：即不仅仅是输入特征，在某些情况下，可以输入包含特征和标签全部信息的对象。"
   ]
  },
  {
   "cell_type": "code",
   "execution_count": 179,
   "id": "6a457513-22ec-41d5-9b11-652de34005d1",
   "metadata": {
    "collapsed": true,
    "jupyter": {
     "outputs_hidden": true
    },
    "tags": []
   },
   "outputs": [
    {
     "data": {
      "text/plain": [
       "\u001b[1;31mInit signature:\u001b[0m\n",
       "\u001b[0mlgb\u001b[0m\u001b[1;33m.\u001b[0m\u001b[0mDataset\u001b[0m\u001b[1;33m(\u001b[0m\u001b[1;33m\n",
       "\u001b[0m    \u001b[0mdata\u001b[0m\u001b[1;33m,\u001b[0m\u001b[1;33m\n",
       "\u001b[0m    \u001b[0mlabel\u001b[0m\u001b[1;33m=\u001b[0m\u001b[1;32mNone\u001b[0m\u001b[1;33m,\u001b[0m\u001b[1;33m\n",
       "\u001b[0m    \u001b[0mreference\u001b[0m\u001b[1;33m=\u001b[0m\u001b[1;32mNone\u001b[0m\u001b[1;33m,\u001b[0m\u001b[1;33m\n",
       "\u001b[0m    \u001b[0mweight\u001b[0m\u001b[1;33m=\u001b[0m\u001b[1;32mNone\u001b[0m\u001b[1;33m,\u001b[0m\u001b[1;33m\n",
       "\u001b[0m    \u001b[0mgroup\u001b[0m\u001b[1;33m=\u001b[0m\u001b[1;32mNone\u001b[0m\u001b[1;33m,\u001b[0m\u001b[1;33m\n",
       "\u001b[0m    \u001b[0minit_score\u001b[0m\u001b[1;33m=\u001b[0m\u001b[1;32mNone\u001b[0m\u001b[1;33m,\u001b[0m\u001b[1;33m\n",
       "\u001b[0m    \u001b[0msilent\u001b[0m\u001b[1;33m=\u001b[0m\u001b[1;34m'warn'\u001b[0m\u001b[1;33m,\u001b[0m\u001b[1;33m\n",
       "\u001b[0m    \u001b[0mfeature_name\u001b[0m\u001b[1;33m=\u001b[0m\u001b[1;34m'auto'\u001b[0m\u001b[1;33m,\u001b[0m\u001b[1;33m\n",
       "\u001b[0m    \u001b[0mcategorical_feature\u001b[0m\u001b[1;33m=\u001b[0m\u001b[1;34m'auto'\u001b[0m\u001b[1;33m,\u001b[0m\u001b[1;33m\n",
       "\u001b[0m    \u001b[0mparams\u001b[0m\u001b[1;33m=\u001b[0m\u001b[1;32mNone\u001b[0m\u001b[1;33m,\u001b[0m\u001b[1;33m\n",
       "\u001b[0m    \u001b[0mfree_raw_data\u001b[0m\u001b[1;33m=\u001b[0m\u001b[1;32mTrue\u001b[0m\u001b[1;33m,\u001b[0m\u001b[1;33m\n",
       "\u001b[0m\u001b[1;33m)\u001b[0m\u001b[1;33m\u001b[0m\u001b[1;33m\u001b[0m\u001b[0m\n",
       "\u001b[1;31mDocstring:\u001b[0m      Dataset in LightGBM.\n",
       "\u001b[1;31mInit docstring:\u001b[0m\n",
       "Initialize Dataset.\n",
       "\n",
       "Parameters\n",
       "----------\n",
       "data : str, pathlib.Path, numpy array, pandas DataFrame, H2O DataTable's Frame, scipy.sparse, Sequence, list of Sequence or list of numpy array\n",
       "    Data source of Dataset.\n",
       "    If str or pathlib.Path, it represents the path to a text file (CSV, TSV, or LibSVM) or a LightGBM Dataset binary file.\n",
       "label : list, numpy 1-D array, pandas Series / one-column DataFrame or None, optional (default=None)\n",
       "    Label of the data.\n",
       "reference : Dataset or None, optional (default=None)\n",
       "    If this is Dataset for validation, training data should be used as reference.\n",
       "weight : list, numpy 1-D array, pandas Series or None, optional (default=None)\n",
       "    Weight for each instance.\n",
       "group : list, numpy 1-D array, pandas Series or None, optional (default=None)\n",
       "    Group/query data.\n",
       "    Only used in the learning-to-rank task.\n",
       "    sum(group) = n_samples.\n",
       "    For example, if you have a 100-document dataset with ``group = [10, 20, 40, 10, 10, 10]``, that means that you have 6 groups,\n",
       "    where the first 10 records are in the first group, records 11-30 are in the second group, records 31-70 are in the third group, etc.\n",
       "init_score : list, list of lists (for multi-class task), numpy array, pandas Series, pandas DataFrame (for multi-class task), or None, optional (default=None)\n",
       "    Init score for Dataset.\n",
       "silent : bool, optional (default=False)\n",
       "    Whether to print messages during construction.\n",
       "feature_name : list of str, or 'auto', optional (default=\"auto\")\n",
       "    Feature names.\n",
       "    If 'auto' and data is pandas DataFrame, data columns names are used.\n",
       "categorical_feature : list of str or int, or 'auto', optional (default=\"auto\")\n",
       "    Categorical features.\n",
       "    If list of int, interpreted as indices.\n",
       "    If list of str, interpreted as feature names (need to specify ``feature_name`` as well).\n",
       "    If 'auto' and data is pandas DataFrame, pandas unordered categorical columns are used.\n",
       "    All values in categorical features should be less than int32 max value (2147483647).\n",
       "    Large values could be memory consuming. Consider using consecutive integers starting from zero.\n",
       "    All negative values in categorical features will be treated as missing values.\n",
       "    The output cannot be monotonically constrained with respect to a categorical feature.\n",
       "params : dict or None, optional (default=None)\n",
       "    Other parameters for Dataset.\n",
       "free_raw_data : bool, optional (default=True)\n",
       "    If True, raw data is freed after constructing inner Dataset.\n",
       "\u001b[1;31mFile:\u001b[0m           d:\\anaconda3\\lib\\site-packages\\lightgbm\\basic.py\n",
       "\u001b[1;31mType:\u001b[0m           type\n",
       "\u001b[1;31mSubclasses:\u001b[0m     \n"
      ]
     },
     "metadata": {},
     "output_type": "display_data"
    }
   ],
   "source": [
    "lgb.Dataset?"
   ]
  },
  {
   "cell_type": "markdown",
   "id": "c07e56db-e901-4a72-a6b9-d81e05235419",
   "metadata": {},
   "source": [
    "##### 3.1.7 借助Dataset标记离散变量"
   ]
  },
  {
   "cell_type": "markdown",
   "id": "fbc6d4b0-ec10-4f27-b39e-819277ff6e05",
   "metadata": {},
   "source": [
    "&emsp;&emsp;同时需要注意的是，和sklearn不同，LGBM是支持离散变量识别的，对于不同类型的特征，LGBM也会有不同的计算流程（具体区别将在下一小节进行讲解），准确的标注离散变量也将有效提升模型预测效果。而目前为止，LGBM只支持借助Dataset对离散变量进行标记，因此如果是调用原生API进行建模，建议通过输入categorical_feature参数来进行离散变量的标记："
   ]
  },
  {
   "cell_type": "code",
   "execution_count": 180,
   "id": "5b131f07-30d8-49d0-9c3f-835d8e027769",
   "metadata": {
    "collapsed": true,
    "jupyter": {
     "outputs_hidden": true
    },
    "tags": []
   },
   "outputs": [
    {
     "data": {
      "text/plain": [
       "\u001b[1;31mInit signature:\u001b[0m\n",
       "\u001b[0mlgb\u001b[0m\u001b[1;33m.\u001b[0m\u001b[0mDataset\u001b[0m\u001b[1;33m(\u001b[0m\u001b[1;33m\n",
       "\u001b[0m    \u001b[0mdata\u001b[0m\u001b[1;33m,\u001b[0m\u001b[1;33m\n",
       "\u001b[0m    \u001b[0mlabel\u001b[0m\u001b[1;33m=\u001b[0m\u001b[1;32mNone\u001b[0m\u001b[1;33m,\u001b[0m\u001b[1;33m\n",
       "\u001b[0m    \u001b[0mreference\u001b[0m\u001b[1;33m=\u001b[0m\u001b[1;32mNone\u001b[0m\u001b[1;33m,\u001b[0m\u001b[1;33m\n",
       "\u001b[0m    \u001b[0mweight\u001b[0m\u001b[1;33m=\u001b[0m\u001b[1;32mNone\u001b[0m\u001b[1;33m,\u001b[0m\u001b[1;33m\n",
       "\u001b[0m    \u001b[0mgroup\u001b[0m\u001b[1;33m=\u001b[0m\u001b[1;32mNone\u001b[0m\u001b[1;33m,\u001b[0m\u001b[1;33m\n",
       "\u001b[0m    \u001b[0minit_score\u001b[0m\u001b[1;33m=\u001b[0m\u001b[1;32mNone\u001b[0m\u001b[1;33m,\u001b[0m\u001b[1;33m\n",
       "\u001b[0m    \u001b[0msilent\u001b[0m\u001b[1;33m=\u001b[0m\u001b[1;34m'warn'\u001b[0m\u001b[1;33m,\u001b[0m\u001b[1;33m\n",
       "\u001b[0m    \u001b[0mfeature_name\u001b[0m\u001b[1;33m=\u001b[0m\u001b[1;34m'auto'\u001b[0m\u001b[1;33m,\u001b[0m\u001b[1;33m\n",
       "\u001b[0m    \u001b[0mcategorical_feature\u001b[0m\u001b[1;33m=\u001b[0m\u001b[1;34m'auto'\u001b[0m\u001b[1;33m,\u001b[0m\u001b[1;33m\n",
       "\u001b[0m    \u001b[0mparams\u001b[0m\u001b[1;33m=\u001b[0m\u001b[1;32mNone\u001b[0m\u001b[1;33m,\u001b[0m\u001b[1;33m\n",
       "\u001b[0m    \u001b[0mfree_raw_data\u001b[0m\u001b[1;33m=\u001b[0m\u001b[1;32mTrue\u001b[0m\u001b[1;33m,\u001b[0m\u001b[1;33m\n",
       "\u001b[0m\u001b[1;33m)\u001b[0m\u001b[1;33m\u001b[0m\u001b[1;33m\u001b[0m\u001b[0m\n",
       "\u001b[1;31mDocstring:\u001b[0m      Dataset in LightGBM.\n",
       "\u001b[1;31mInit docstring:\u001b[0m\n",
       "Initialize Dataset.\n",
       "\n",
       "Parameters\n",
       "----------\n",
       "data : str, pathlib.Path, numpy array, pandas DataFrame, H2O DataTable's Frame, scipy.sparse, Sequence, list of Sequence or list of numpy array\n",
       "    Data source of Dataset.\n",
       "    If str or pathlib.Path, it represents the path to a text file (CSV, TSV, or LibSVM) or a LightGBM Dataset binary file.\n",
       "label : list, numpy 1-D array, pandas Series / one-column DataFrame or None, optional (default=None)\n",
       "    Label of the data.\n",
       "reference : Dataset or None, optional (default=None)\n",
       "    If this is Dataset for validation, training data should be used as reference.\n",
       "weight : list, numpy 1-D array, pandas Series or None, optional (default=None)\n",
       "    Weight for each instance.\n",
       "group : list, numpy 1-D array, pandas Series or None, optional (default=None)\n",
       "    Group/query data.\n",
       "    Only used in the learning-to-rank task.\n",
       "    sum(group) = n_samples.\n",
       "    For example, if you have a 100-document dataset with ``group = [10, 20, 40, 10, 10, 10]``, that means that you have 6 groups,\n",
       "    where the first 10 records are in the first group, records 11-30 are in the second group, records 31-70 are in the third group, etc.\n",
       "init_score : list, list of lists (for multi-class task), numpy array, pandas Series, pandas DataFrame (for multi-class task), or None, optional (default=None)\n",
       "    Init score for Dataset.\n",
       "silent : bool, optional (default=False)\n",
       "    Whether to print messages during construction.\n",
       "feature_name : list of str, or 'auto', optional (default=\"auto\")\n",
       "    Feature names.\n",
       "    If 'auto' and data is pandas DataFrame, data columns names are used.\n",
       "categorical_feature : list of str or int, or 'auto', optional (default=\"auto\")\n",
       "    Categorical features.\n",
       "    If list of int, interpreted as indices.\n",
       "    If list of str, interpreted as feature names (need to specify ``feature_name`` as well).\n",
       "    If 'auto' and data is pandas DataFrame, pandas unordered categorical columns are used.\n",
       "    All values in categorical features should be less than int32 max value (2147483647).\n",
       "    Large values could be memory consuming. Consider using consecutive integers starting from zero.\n",
       "    All negative values in categorical features will be treated as missing values.\n",
       "    The output cannot be monotonically constrained with respect to a categorical feature.\n",
       "params : dict or None, optional (default=None)\n",
       "    Other parameters for Dataset.\n",
       "free_raw_data : bool, optional (default=True)\n",
       "    If True, raw data is freed after constructing inner Dataset.\n",
       "\u001b[1;31mFile:\u001b[0m           d:\\anaconda3\\lib\\site-packages\\lightgbm\\basic.py\n",
       "\u001b[1;31mType:\u001b[0m           type\n",
       "\u001b[1;31mSubclasses:\u001b[0m     \n"
      ]
     },
     "metadata": {},
     "output_type": "display_data"
    }
   ],
   "source": [
    "lgb.Dataset?"
   ]
  },
  {
   "cell_type": "markdown",
   "id": "3fe0c58a-5817-423e-a10c-fc2ba7aaf8fe",
   "metadata": {},
   "source": [
    "categorical_feature参数允许输入int构成的列表或者字符串构成的列表，用于标记离散特征，而其他特征将被自动视作连续变量。其中，当我们输入int构成的列表时，则将被视作离散特征的索引，而如果是输入字符串构成的列表，则字符串会被视作离散特征的列名称。例如对于当前数据集来说，全部特征名为："
   ]
  },
  {
   "cell_type": "code",
   "execution_count": 181,
   "id": "6b7ef918-d149-40f5-956b-09659ca9493c",
   "metadata": {
    "collapsed": true,
    "jupyter": {
     "outputs_hidden": true
    },
    "tags": []
   },
   "outputs": [
    {
     "data": {
      "text/plain": [
       "['住宅类型',\n",
       " '住宅区域',\n",
       " '街道接触面积(英尺)',\n",
       " '住宅面积',\n",
       " '街道路面状况',\n",
       " '巷子路面状况',\n",
       " '住宅形状(大概)',\n",
       " '住宅现状',\n",
       " '水电气',\n",
       " '住宅配置',\n",
       " '住宅视野',\n",
       " '社区',\n",
       " '住宅周边1',\n",
       " '住宅周边2',\n",
       " '适用家庭',\n",
       " '住宅房型',\n",
       " '装修质量',\n",
       " '整体质量',\n",
       " '建造年份',\n",
       " '法律拆除年份',\n",
       " '天花板类型',\n",
       " '天花板材料',\n",
       " '户外装饰1',\n",
       " '户外装饰2',\n",
       " '砖墙类型',\n",
       " '砖墙面积',\n",
       " '户外材料质量',\n",
       " '户外装修质量',\n",
       " '地下室类型',\n",
       " '地下室深度',\n",
       " '地下室质量',\n",
       " '花园外墙',\n",
       " '地下室现状1',\n",
       " '地下室一层标准面积',\n",
       " '地下室现状2',\n",
       " '地下室二层标准面积',\n",
       " '地下室建造现状',\n",
       " '整体地下室面积',\n",
       " '暖气类型',\n",
       " '暖气质量',\n",
       " '中央空调',\n",
       " '电力系统',\n",
       " '二楼面积',\n",
       " '三楼面积',\n",
       " '全低质量面积',\n",
       " '户外活动空间面积',\n",
       " '全卫地下室',\n",
       " '半卫地下室',\n",
       " '全卫及以上',\n",
       " '半卫及以上',\n",
       " '卧室及以上',\n",
       " '厨房及以上',\n",
       " '厨房质量',\n",
       " '总房间量',\n",
       " '住宅性能',\n",
       " '壁炉数量',\n",
       " '壁炉质量',\n",
       " '车库类型',\n",
       " '车库建造时间',\n",
       " '车库装修现状',\n",
       " '车位数量',\n",
       " '车库面积',\n",
       " '车库质量',\n",
       " '车库现状',\n",
       " '石板路',\n",
       " '木板面积',\n",
       " '开放式门廊面积',\n",
       " '关闭式门廊面积',\n",
       " '三季门廊面积',\n",
       " '半开放式门廊面积',\n",
       " '泳池面积',\n",
       " '泳池质量',\n",
       " '篱笆质量',\n",
       " '其他配置',\n",
       " '其他配置的价值',\n",
       " '销售月份',\n",
       " '销售年份',\n",
       " '销售类型',\n",
       " '销售状态']"
      ]
     },
     "execution_count": 181,
     "metadata": {},
     "output_type": "execute_result"
    }
   ],
   "source": [
    "features_name = train_data.get_feature_name().copy()\n",
    "features_name"
   ]
  },
  {
   "cell_type": "markdown",
   "id": "c43709ee-bbe7-4434-9985-b4e3373fa2fe",
   "metadata": {},
   "source": [
    "其中离散变量有："
   ]
  },
  {
   "cell_type": "code",
   "execution_count": 182,
   "id": "de3fd2d7-6889-4615-ad6a-b185b2138ecb",
   "metadata": {
    "tags": []
   },
   "outputs": [],
   "source": [
    "cate_features = ['住宅类型',\n",
    "                 '街道路面状况',\n",
    "                 '巷子路面状况',\n",
    "                 '住宅形状(大概)',\n",
    "                 '住宅现状',\n",
    "                 '水电气',\n",
    "                 '住宅配置',\n",
    "                 '住宅视野',\n",
    "                 '社区',\n",
    "                 '住宅周边1',\n",
    "                 '住宅周边2',\n",
    "                 '适用家庭',\n",
    "                 '住宅房型',\n",
    "                 '装修质量',\n",
    "                 '整体质量',\n",
    "                 '天花板类型',\n",
    "                 '天花板材料',\n",
    "                 '户外装饰1',\n",
    "                 '户外装饰2',\n",
    "                 '砖墙类型',\n",
    "                 '户外材料质量',\n",
    "                 '户外装修质量',\n",
    "                 '地下室类型',\n",
    "                 '地下室质量',\n",
    "                 '花园外墙',\n",
    "                 '地下室现状1',\n",
    "                 '地下室现状2',\n",
    "                 '地下室建造现状',\n",
    "                 '暖气类型',\n",
    "                 '暖气质量',\n",
    "                 '中央空调',\n",
    "                 '电力系统',\n",
    "                 '全卫地下室',\n",
    "                 '半卫地下室',\n",
    "                 '全卫及以上',\n",
    "                 '半卫及以上',\n",
    "                 '卧室及以上',\n",
    "                 '厨房及以上',\n",
    "                 '厨房质量',\n",
    "                 '总房间量',\n",
    "                 '住宅性能',\n",
    "                 '壁炉数量',\n",
    "                 '壁炉质量',\n",
    "                 '车库类型',\n",
    "                 '车库装修现状',\n",
    "                 '车位数量',\n",
    "                 '车库质量',\n",
    "                 '车库现状',\n",
    "                 '石板路',\n",
    "                 '木板面积',\n",
    "                 '泳池质量',\n",
    "                 '篱笆质量',\n",
    "                 '其他配置',\n",
    "                 '销售类型',\n",
    "                 '销售状态']"
   ]
  },
  {
   "cell_type": "markdown",
   "id": "7565a9d7-bdb7-46c4-b9e2-8543bff16b94",
   "metadata": {},
   "source": [
    "> 这里需要注意，一般来说时间字段不能直接划分为连续变量或者离散变量，最好的方法是通过特征衍生对其进行有效信息的提取，然后再将衍生特征视作离散变量带入模型进行建模。相关时序字段的特征衍生方法，我们将在后续的课程中进行深度探讨。"
   ]
  },
  {
   "cell_type": "markdown",
   "id": "592d8ff5-2fcc-4b31-b77c-e03e7535e790",
   "metadata": {},
   "source": [
    "据此，我们可以在创建Dataset对象时输入categorical_feature=cate_features，来标记这些离散列："
   ]
  },
  {
   "cell_type": "code",
   "execution_count": 183,
   "id": "3296791e-b609-4dc4-a203-d5d78c6fcfd7",
   "metadata": {},
   "outputs": [],
   "source": [
    "train_data = lgb.Dataset(X_train, label=y_train, categorical_feature=cate_features)"
   ]
  },
  {
   "cell_type": "code",
   "execution_count": 184,
   "id": "ddae24f6-8d72-4290-9c67-79fb0b1c432b",
   "metadata": {},
   "outputs": [
    {
     "data": {
      "text/plain": [
       "<lightgbm.basic.Dataset at 0x20fd643dc40>"
      ]
     },
     "execution_count": 184,
     "metadata": {},
     "output_type": "execute_result"
    }
   ],
   "source": [
    "train_data.construct()"
   ]
  },
  {
   "cell_type": "code",
   "execution_count": 185,
   "id": "30f30923-29e8-456e-9384-9e86575a438e",
   "metadata": {
    "tags": []
   },
   "outputs": [
    {
     "data": {
      "text/plain": [
       "['住宅类型',\n",
       " '街道路面状况',\n",
       " '巷子路面状况',\n",
       " '住宅形状(大概)',\n",
       " '住宅现状',\n",
       " '水电气',\n",
       " '住宅配置',\n",
       " '住宅视野',\n",
       " '社区',\n",
       " '住宅周边1',\n",
       " '住宅周边2',\n",
       " '适用家庭',\n",
       " '住宅房型',\n",
       " '装修质量',\n",
       " '整体质量',\n",
       " '天花板类型',\n",
       " '天花板材料',\n",
       " '户外装饰1',\n",
       " '户外装饰2',\n",
       " '砖墙类型',\n",
       " '户外材料质量',\n",
       " '户外装修质量',\n",
       " '地下室类型',\n",
       " '地下室质量',\n",
       " '花园外墙',\n",
       " '地下室现状1',\n",
       " '地下室现状2',\n",
       " '地下室建造现状',\n",
       " '暖气类型',\n",
       " '暖气质量',\n",
       " '中央空调',\n",
       " '电力系统',\n",
       " '全卫地下室',\n",
       " '半卫地下室',\n",
       " '全卫及以上',\n",
       " '半卫及以上',\n",
       " '卧室及以上',\n",
       " '厨房及以上',\n",
       " '厨房质量',\n",
       " '总房间量',\n",
       " '住宅性能',\n",
       " '壁炉数量',\n",
       " '壁炉质量',\n",
       " '车库类型',\n",
       " '车库装修现状',\n",
       " '车位数量',\n",
       " '车库质量',\n",
       " '车库现状',\n",
       " '石板路',\n",
       " '木板面积',\n",
       " '泳池质量',\n",
       " '篱笆质量',\n",
       " '其他配置',\n",
       " '销售类型',\n",
       " '销售状态']"
      ]
     },
     "execution_count": 185,
     "metadata": {},
     "output_type": "execute_result"
    }
   ],
   "source": [
    "train_data.categorical_feature"
   ]
  },
  {
   "cell_type": "markdown",
   "id": "17232ba6-cfa3-4b7e-ace4-b7d3e313375c",
   "metadata": {},
   "source": [
    "或者我们也可以直接使用set_categorical_feature修改已经创建好的Dataset对象的离散列标记。不过这里需要注意，当且仅当free_raw_data=False、也就是保留了原数据的情况下，才能对其进行修改："
   ]
  },
  {
   "cell_type": "code",
   "execution_count": 186,
   "id": "27f2bcd8-a02b-4926-80ba-6d1115ecb69b",
   "metadata": {
    "collapsed": true,
    "jupyter": {
     "outputs_hidden": true
    },
    "tags": []
   },
   "outputs": [
    {
     "ename": "LightGBMError",
     "evalue": "Cannot set categorical feature after freed raw data, set free_raw_data=False when construct Dataset to avoid this.",
     "output_type": "error",
     "traceback": [
      "\u001b[1;31m---------------------------------------------------------------------------\u001b[0m",
      "\u001b[1;31mLightGBMError\u001b[0m                             Traceback (most recent call last)",
      "Input \u001b[1;32mIn [186]\u001b[0m, in \u001b[0;36m<cell line: 2>\u001b[1;34m()\u001b[0m\n\u001b[0;32m      1\u001b[0m \u001b[38;5;66;03m# 此时无法进行修改\u001b[39;00m\n\u001b[1;32m----> 2\u001b[0m \u001b[43mtrain_data\u001b[49m\u001b[38;5;241;43m.\u001b[39;49m\u001b[43mset_categorical_feature\u001b[49m\u001b[43m(\u001b[49m\u001b[43m[\u001b[49m\u001b[38;5;241;43m0\u001b[39;49m\u001b[43m]\u001b[49m\u001b[43m)\u001b[49m\n",
      "File \u001b[1;32mD:\\anaconda3\\lib\\site-packages\\lightgbm\\basic.py:2073\u001b[0m, in \u001b[0;36mDataset.set_categorical_feature\u001b[1;34m(self, categorical_feature)\u001b[0m\n\u001b[0;32m   2071\u001b[0m         \u001b[38;5;28;01mreturn\u001b[39;00m \u001b[38;5;28mself\u001b[39m\u001b[38;5;241m.\u001b[39m_free_handle()\n\u001b[0;32m   2072\u001b[0m \u001b[38;5;28;01melse\u001b[39;00m:\n\u001b[1;32m-> 2073\u001b[0m     \u001b[38;5;28;01mraise\u001b[39;00m LightGBMError(\u001b[38;5;124m\"\u001b[39m\u001b[38;5;124mCannot set categorical feature after freed raw data, \u001b[39m\u001b[38;5;124m\"\u001b[39m\n\u001b[0;32m   2074\u001b[0m                         \u001b[38;5;124m\"\u001b[39m\u001b[38;5;124mset free_raw_data=False when construct Dataset to avoid this.\u001b[39m\u001b[38;5;124m\"\u001b[39m)\n",
      "\u001b[1;31mLightGBMError\u001b[0m: Cannot set categorical feature after freed raw data, set free_raw_data=False when construct Dataset to avoid this."
     ]
    }
   ],
   "source": [
    "# 此时无法进行修改\n",
    "train_data.set_categorical_feature([0])"
   ]
  },
  {
   "cell_type": "code",
   "execution_count": 195,
   "id": "bd5ce4da-e8cb-47e1-8597-69d1bf014f93",
   "metadata": {},
   "outputs": [
    {
     "name": "stderr",
     "output_type": "stream",
     "text": [
      "D:\\anaconda3\\lib\\site-packages\\lightgbm\\basic.py:2068: UserWarning: categorical_feature in Dataset is overridden.\n",
      "New categorical_feature is [0]\n",
      "  _log_warning('categorical_feature in Dataset is overridden.\\n'\n"
     ]
    },
    {
     "data": {
      "text/plain": [
       "<lightgbm.basic.Dataset at 0x20fd610eaf0>"
      ]
     },
     "execution_count": 195,
     "metadata": {},
     "output_type": "execute_result"
    }
   ],
   "source": [
    "train_data = lgb.Dataset(X_train, label=y_train, categorical_feature=cate_features, free_raw_data=False)\n",
    "train_data.construct()\n",
    "train_data.set_categorical_feature([0])"
   ]
  },
  {
   "cell_type": "markdown",
   "id": "677aa1e1-6262-4d6b-b4e4-ece46c24f961",
   "metadata": {},
   "source": [
    "并且每次修改都会有提示信息。修改后即可查看当前Dataset的离散列："
   ]
  },
  {
   "cell_type": "code",
   "execution_count": 196,
   "id": "5243c599-a550-4095-976b-9a29eb950691",
   "metadata": {},
   "outputs": [
    {
     "data": {
      "text/plain": [
       "[0]"
      ]
     },
     "execution_count": 196,
     "metadata": {},
     "output_type": "execute_result"
    }
   ],
   "source": [
    "train_data.categorical_feature"
   ]
  },
  {
   "cell_type": "markdown",
   "id": "49728be1-0037-4b35-a47f-f0fcbce78df7",
   "metadata": {},
   "source": [
    "不过需要注意的是，free_raw_data=False会一定程度上牺牲内存占用，并且free_raw_data=True的默认设置，从某个角度来说也相当于对数据进行保护——写死了部分核心信息。"
   ]
  },
  {
   "cell_type": "markdown",
   "id": "6cbf0cf7-20f4-4e07-bd40-72ff28b20c0f",
   "metadata": {},
   "source": [
    "&emsp;&emsp;而这里另一个需要注意的点是，对于lgb.train函数来说，也有离散列的参数输入："
   ]
  },
  {
   "cell_type": "code",
   "execution_count": 197,
   "id": "ff04a868-065e-4023-9aa0-51b7e8efb895",
   "metadata": {
    "collapsed": true,
    "jupyter": {
     "outputs_hidden": true
    },
    "tags": []
   },
   "outputs": [
    {
     "data": {
      "text/plain": [
       "\u001b[1;31mSignature:\u001b[0m\n",
       "\u001b[0mlgb\u001b[0m\u001b[1;33m.\u001b[0m\u001b[0mtrain\u001b[0m\u001b[1;33m(\u001b[0m\u001b[1;33m\n",
       "\u001b[0m    \u001b[0mparams\u001b[0m\u001b[1;33m:\u001b[0m \u001b[0mDict\u001b[0m\u001b[1;33m[\u001b[0m\u001b[0mstr\u001b[0m\u001b[1;33m,\u001b[0m \u001b[0mAny\u001b[0m\u001b[1;33m]\u001b[0m\u001b[1;33m,\u001b[0m\u001b[1;33m\n",
       "\u001b[0m    \u001b[0mtrain_set\u001b[0m\u001b[1;33m:\u001b[0m \u001b[0mlightgbm\u001b[0m\u001b[1;33m.\u001b[0m\u001b[0mbasic\u001b[0m\u001b[1;33m.\u001b[0m\u001b[0mDataset\u001b[0m\u001b[1;33m,\u001b[0m\u001b[1;33m\n",
       "\u001b[0m    \u001b[0mnum_boost_round\u001b[0m\u001b[1;33m:\u001b[0m \u001b[0mint\u001b[0m \u001b[1;33m=\u001b[0m \u001b[1;36m100\u001b[0m\u001b[1;33m,\u001b[0m\u001b[1;33m\n",
       "\u001b[0m    \u001b[0mvalid_sets\u001b[0m\u001b[1;33m:\u001b[0m \u001b[0mOptional\u001b[0m\u001b[1;33m[\u001b[0m\u001b[0mList\u001b[0m\u001b[1;33m[\u001b[0m\u001b[0mlightgbm\u001b[0m\u001b[1;33m.\u001b[0m\u001b[0mbasic\u001b[0m\u001b[1;33m.\u001b[0m\u001b[0mDataset\u001b[0m\u001b[1;33m]\u001b[0m\u001b[1;33m]\u001b[0m \u001b[1;33m=\u001b[0m \u001b[1;32mNone\u001b[0m\u001b[1;33m,\u001b[0m\u001b[1;33m\n",
       "\u001b[0m    \u001b[0mvalid_names\u001b[0m\u001b[1;33m:\u001b[0m \u001b[0mOptional\u001b[0m\u001b[1;33m[\u001b[0m\u001b[0mList\u001b[0m\u001b[1;33m[\u001b[0m\u001b[0mstr\u001b[0m\u001b[1;33m]\u001b[0m\u001b[1;33m]\u001b[0m \u001b[1;33m=\u001b[0m \u001b[1;32mNone\u001b[0m\u001b[1;33m,\u001b[0m\u001b[1;33m\n",
       "\u001b[0m    \u001b[0mfobj\u001b[0m\u001b[1;33m:\u001b[0m \u001b[0mOptional\u001b[0m\u001b[1;33m[\u001b[0m\u001b[0mCallable\u001b[0m\u001b[1;33m[\u001b[0m\u001b[1;33m[\u001b[0m\u001b[0mUnion\u001b[0m\u001b[1;33m[\u001b[0m\u001b[0mList\u001b[0m\u001b[1;33m,\u001b[0m \u001b[0mnumpy\u001b[0m\u001b[1;33m.\u001b[0m\u001b[0mndarray\u001b[0m\u001b[1;33m]\u001b[0m\u001b[1;33m,\u001b[0m \u001b[0mlightgbm\u001b[0m\u001b[1;33m.\u001b[0m\u001b[0mbasic\u001b[0m\u001b[1;33m.\u001b[0m\u001b[0mDataset\u001b[0m\u001b[1;33m]\u001b[0m\u001b[1;33m,\u001b[0m \u001b[0mTuple\u001b[0m\u001b[1;33m[\u001b[0m\u001b[0mUnion\u001b[0m\u001b[1;33m[\u001b[0m\u001b[0mList\u001b[0m\u001b[1;33m,\u001b[0m \u001b[0mnumpy\u001b[0m\u001b[1;33m.\u001b[0m\u001b[0mndarray\u001b[0m\u001b[1;33m]\u001b[0m\u001b[1;33m,\u001b[0m \u001b[0mUnion\u001b[0m\u001b[1;33m[\u001b[0m\u001b[0mList\u001b[0m\u001b[1;33m,\u001b[0m \u001b[0mnumpy\u001b[0m\u001b[1;33m.\u001b[0m\u001b[0mndarray\u001b[0m\u001b[1;33m]\u001b[0m\u001b[1;33m]\u001b[0m\u001b[1;33m]\u001b[0m\u001b[1;33m]\u001b[0m \u001b[1;33m=\u001b[0m \u001b[1;32mNone\u001b[0m\u001b[1;33m,\u001b[0m\u001b[1;33m\n",
       "\u001b[0m    \u001b[0mfeval\u001b[0m\u001b[1;33m:\u001b[0m \u001b[0mUnion\u001b[0m\u001b[1;33m[\u001b[0m\u001b[0mCallable\u001b[0m\u001b[1;33m[\u001b[0m\u001b[1;33m[\u001b[0m\u001b[0mUnion\u001b[0m\u001b[1;33m[\u001b[0m\u001b[0mList\u001b[0m\u001b[1;33m,\u001b[0m \u001b[0mnumpy\u001b[0m\u001b[1;33m.\u001b[0m\u001b[0mndarray\u001b[0m\u001b[1;33m]\u001b[0m\u001b[1;33m,\u001b[0m \u001b[0mlightgbm\u001b[0m\u001b[1;33m.\u001b[0m\u001b[0mbasic\u001b[0m\u001b[1;33m.\u001b[0m\u001b[0mDataset\u001b[0m\u001b[1;33m]\u001b[0m\u001b[1;33m,\u001b[0m \u001b[0mTuple\u001b[0m\u001b[1;33m[\u001b[0m\u001b[0mstr\u001b[0m\u001b[1;33m,\u001b[0m \u001b[0mfloat\u001b[0m\u001b[1;33m,\u001b[0m \u001b[0mbool\u001b[0m\u001b[1;33m]\u001b[0m\u001b[1;33m]\u001b[0m\u001b[1;33m,\u001b[0m \u001b[0mList\u001b[0m\u001b[1;33m[\u001b[0m\u001b[0mCallable\u001b[0m\u001b[1;33m[\u001b[0m\u001b[1;33m[\u001b[0m\u001b[0mUnion\u001b[0m\u001b[1;33m[\u001b[0m\u001b[0mList\u001b[0m\u001b[1;33m,\u001b[0m \u001b[0mnumpy\u001b[0m\u001b[1;33m.\u001b[0m\u001b[0mndarray\u001b[0m\u001b[1;33m]\u001b[0m\u001b[1;33m,\u001b[0m \u001b[0mlightgbm\u001b[0m\u001b[1;33m.\u001b[0m\u001b[0mbasic\u001b[0m\u001b[1;33m.\u001b[0m\u001b[0mDataset\u001b[0m\u001b[1;33m]\u001b[0m\u001b[1;33m,\u001b[0m \u001b[0mTuple\u001b[0m\u001b[1;33m[\u001b[0m\u001b[0mstr\u001b[0m\u001b[1;33m,\u001b[0m \u001b[0mfloat\u001b[0m\u001b[1;33m,\u001b[0m \u001b[0mbool\u001b[0m\u001b[1;33m]\u001b[0m\u001b[1;33m]\u001b[0m\u001b[1;33m]\u001b[0m\u001b[1;33m,\u001b[0m \u001b[0mNoneType\u001b[0m\u001b[1;33m]\u001b[0m \u001b[1;33m=\u001b[0m \u001b[1;32mNone\u001b[0m\u001b[1;33m,\u001b[0m\u001b[1;33m\n",
       "\u001b[0m    \u001b[0minit_model\u001b[0m\u001b[1;33m:\u001b[0m \u001b[0mUnion\u001b[0m\u001b[1;33m[\u001b[0m\u001b[0mstr\u001b[0m\u001b[1;33m,\u001b[0m \u001b[0mpathlib\u001b[0m\u001b[1;33m.\u001b[0m\u001b[0mPath\u001b[0m\u001b[1;33m,\u001b[0m \u001b[0mlightgbm\u001b[0m\u001b[1;33m.\u001b[0m\u001b[0mbasic\u001b[0m\u001b[1;33m.\u001b[0m\u001b[0mBooster\u001b[0m\u001b[1;33m,\u001b[0m \u001b[0mNoneType\u001b[0m\u001b[1;33m]\u001b[0m \u001b[1;33m=\u001b[0m \u001b[1;32mNone\u001b[0m\u001b[1;33m,\u001b[0m\u001b[1;33m\n",
       "\u001b[0m    \u001b[0mfeature_name\u001b[0m\u001b[1;33m:\u001b[0m \u001b[0mUnion\u001b[0m\u001b[1;33m[\u001b[0m\u001b[0mList\u001b[0m\u001b[1;33m[\u001b[0m\u001b[0mstr\u001b[0m\u001b[1;33m]\u001b[0m\u001b[1;33m,\u001b[0m \u001b[0mstr\u001b[0m\u001b[1;33m]\u001b[0m \u001b[1;33m=\u001b[0m \u001b[1;34m'auto'\u001b[0m\u001b[1;33m,\u001b[0m\u001b[1;33m\n",
       "\u001b[0m    \u001b[0mcategorical_feature\u001b[0m\u001b[1;33m:\u001b[0m \u001b[0mUnion\u001b[0m\u001b[1;33m[\u001b[0m\u001b[0mList\u001b[0m\u001b[1;33m[\u001b[0m\u001b[0mstr\u001b[0m\u001b[1;33m]\u001b[0m\u001b[1;33m,\u001b[0m \u001b[0mList\u001b[0m\u001b[1;33m[\u001b[0m\u001b[0mint\u001b[0m\u001b[1;33m]\u001b[0m\u001b[1;33m,\u001b[0m \u001b[0mstr\u001b[0m\u001b[1;33m]\u001b[0m \u001b[1;33m=\u001b[0m \u001b[1;34m'auto'\u001b[0m\u001b[1;33m,\u001b[0m\u001b[1;33m\n",
       "\u001b[0m    \u001b[0mearly_stopping_rounds\u001b[0m\u001b[1;33m:\u001b[0m \u001b[0mOptional\u001b[0m\u001b[1;33m[\u001b[0m\u001b[0mint\u001b[0m\u001b[1;33m]\u001b[0m \u001b[1;33m=\u001b[0m \u001b[1;32mNone\u001b[0m\u001b[1;33m,\u001b[0m\u001b[1;33m\n",
       "\u001b[0m    \u001b[0mevals_result\u001b[0m\u001b[1;33m:\u001b[0m \u001b[0mOptional\u001b[0m\u001b[1;33m[\u001b[0m\u001b[0mDict\u001b[0m\u001b[1;33m[\u001b[0m\u001b[0mstr\u001b[0m\u001b[1;33m,\u001b[0m \u001b[0mAny\u001b[0m\u001b[1;33m]\u001b[0m\u001b[1;33m]\u001b[0m \u001b[1;33m=\u001b[0m \u001b[1;32mNone\u001b[0m\u001b[1;33m,\u001b[0m\u001b[1;33m\n",
       "\u001b[0m    \u001b[0mverbose_eval\u001b[0m\u001b[1;33m:\u001b[0m \u001b[0mUnion\u001b[0m\u001b[1;33m[\u001b[0m\u001b[0mbool\u001b[0m\u001b[1;33m,\u001b[0m \u001b[0mint\u001b[0m\u001b[1;33m,\u001b[0m \u001b[0mstr\u001b[0m\u001b[1;33m]\u001b[0m \u001b[1;33m=\u001b[0m \u001b[1;34m'warn'\u001b[0m\u001b[1;33m,\u001b[0m\u001b[1;33m\n",
       "\u001b[0m    \u001b[0mlearning_rates\u001b[0m\u001b[1;33m:\u001b[0m \u001b[0mUnion\u001b[0m\u001b[1;33m[\u001b[0m\u001b[0mList\u001b[0m\u001b[1;33m[\u001b[0m\u001b[0mfloat\u001b[0m\u001b[1;33m]\u001b[0m\u001b[1;33m,\u001b[0m \u001b[0mCallable\u001b[0m\u001b[1;33m[\u001b[0m\u001b[1;33m[\u001b[0m\u001b[0mint\u001b[0m\u001b[1;33m]\u001b[0m\u001b[1;33m,\u001b[0m \u001b[0mfloat\u001b[0m\u001b[1;33m]\u001b[0m\u001b[1;33m,\u001b[0m \u001b[0mNoneType\u001b[0m\u001b[1;33m]\u001b[0m \u001b[1;33m=\u001b[0m \u001b[1;32mNone\u001b[0m\u001b[1;33m,\u001b[0m\u001b[1;33m\n",
       "\u001b[0m    \u001b[0mkeep_training_booster\u001b[0m\u001b[1;33m:\u001b[0m \u001b[0mbool\u001b[0m \u001b[1;33m=\u001b[0m \u001b[1;32mFalse\u001b[0m\u001b[1;33m,\u001b[0m\u001b[1;33m\n",
       "\u001b[0m    \u001b[0mcallbacks\u001b[0m\u001b[1;33m:\u001b[0m \u001b[0mOptional\u001b[0m\u001b[1;33m[\u001b[0m\u001b[0mList\u001b[0m\u001b[1;33m[\u001b[0m\u001b[0mCallable\u001b[0m\u001b[1;33m]\u001b[0m\u001b[1;33m]\u001b[0m \u001b[1;33m=\u001b[0m \u001b[1;32mNone\u001b[0m\u001b[1;33m,\u001b[0m\u001b[1;33m\n",
       "\u001b[0m\u001b[1;33m)\u001b[0m \u001b[1;33m->\u001b[0m \u001b[0mlightgbm\u001b[0m\u001b[1;33m.\u001b[0m\u001b[0mbasic\u001b[0m\u001b[1;33m.\u001b[0m\u001b[0mBooster\u001b[0m\u001b[1;33m\u001b[0m\u001b[1;33m\u001b[0m\u001b[0m\n",
       "\u001b[1;31mDocstring:\u001b[0m\n",
       "Perform the training with given parameters.\n",
       "\n",
       "Parameters\n",
       "----------\n",
       "params : dict\n",
       "    Parameters for training.\n",
       "train_set : Dataset\n",
       "    Data to be trained on.\n",
       "num_boost_round : int, optional (default=100)\n",
       "    Number of boosting iterations.\n",
       "valid_sets : list of Dataset, or None, optional (default=None)\n",
       "    List of data to be evaluated on during training.\n",
       "valid_names : list of str, or None, optional (default=None)\n",
       "    Names of ``valid_sets``.\n",
       "fobj : callable or None, optional (default=None)\n",
       "    Customized objective function.\n",
       "    Should accept two parameters: preds, train_data,\n",
       "    and return (grad, hess).\n",
       "\n",
       "        preds : list or numpy 1-D array\n",
       "            The predicted values.\n",
       "            Predicted values are returned before any transformation,\n",
       "            e.g. they are raw margin instead of probability of positive class for binary task.\n",
       "        train_data : Dataset\n",
       "            The training dataset.\n",
       "        grad : list or numpy 1-D array\n",
       "            The value of the first order derivative (gradient) of the loss\n",
       "            with respect to the elements of preds for each sample point.\n",
       "        hess : list or numpy 1-D array\n",
       "            The value of the second order derivative (Hessian) of the loss\n",
       "            with respect to the elements of preds for each sample point.\n",
       "\n",
       "    For multi-class task, the preds is group by class_id first, then group by row_id.\n",
       "    If you want to get i-th row preds in j-th class, the access way is score[j * num_data + i]\n",
       "    and you should group grad and hess in this way as well.\n",
       "\n",
       "feval : callable, list of callable, or None, optional (default=None)\n",
       "    Customized evaluation function.\n",
       "    Each evaluation function should accept two parameters: preds, train_data,\n",
       "    and return (eval_name, eval_result, is_higher_better) or list of such tuples.\n",
       "\n",
       "        preds : list or numpy 1-D array\n",
       "            The predicted values.\n",
       "            If ``fobj`` is specified, predicted values are returned before any transformation,\n",
       "            e.g. they are raw margin instead of probability of positive class for binary task in this case.\n",
       "        train_data : Dataset\n",
       "            The training dataset.\n",
       "        eval_name : str\n",
       "            The name of evaluation function (without whitespaces).\n",
       "        eval_result : float\n",
       "            The eval result.\n",
       "        is_higher_better : bool\n",
       "            Is eval result higher better, e.g. AUC is ``is_higher_better``.\n",
       "\n",
       "    For multi-class task, the preds is group by class_id first, then group by row_id.\n",
       "    If you want to get i-th row preds in j-th class, the access way is preds[j * num_data + i].\n",
       "    To ignore the default metric corresponding to the used objective,\n",
       "    set the ``metric`` parameter to the string ``\"None\"`` in ``params``.\n",
       "init_model : str, pathlib.Path, Booster or None, optional (default=None)\n",
       "    Filename of LightGBM model or Booster instance used for continue training.\n",
       "feature_name : list of str, or 'auto', optional (default=\"auto\")\n",
       "    Feature names.\n",
       "    If 'auto' and data is pandas DataFrame, data columns names are used.\n",
       "categorical_feature : list of str or int, or 'auto', optional (default=\"auto\")\n",
       "    Categorical features.\n",
       "    If list of int, interpreted as indices.\n",
       "    If list of str, interpreted as feature names (need to specify ``feature_name`` as well).\n",
       "    If 'auto' and data is pandas DataFrame, pandas unordered categorical columns are used.\n",
       "    All values in categorical features should be less than int32 max value (2147483647).\n",
       "    Large values could be memory consuming. Consider using consecutive integers starting from zero.\n",
       "    All negative values in categorical features will be treated as missing values.\n",
       "    The output cannot be monotonically constrained with respect to a categorical feature.\n",
       "early_stopping_rounds : int or None, optional (default=None)\n",
       "    Activates early stopping. The model will train until the validation score stops improving.\n",
       "    Validation score needs to improve at least every ``early_stopping_rounds`` round(s)\n",
       "    to continue training.\n",
       "    Requires at least one validation data and one metric.\n",
       "    If there's more than one, will check all of them. But the training data is ignored anyway.\n",
       "    To check only the first metric, set the ``first_metric_only`` parameter to ``True`` in ``params``.\n",
       "    The index of iteration that has the best performance will be saved in the ``best_iteration`` field\n",
       "    if early stopping logic is enabled by setting ``early_stopping_rounds``.\n",
       "evals_result : dict or None, optional (default=None)\n",
       "    Dictionary used to store all evaluation results of all the items in ``valid_sets``.\n",
       "    This should be initialized outside of your call to ``train()`` and should be empty.\n",
       "    Any initial contents of the dictionary will be deleted.\n",
       "\n",
       "    .. rubric:: Example\n",
       "\n",
       "    With a ``valid_sets`` = [valid_set, train_set],\n",
       "    ``valid_names`` = ['eval', 'train']\n",
       "    and a ``params`` = {'metric': 'logloss'}\n",
       "    returns {'train': {'logloss': ['0.48253', '0.35953', ...]},\n",
       "    'eval': {'logloss': ['0.480385', '0.357756', ...]}}.\n",
       "\n",
       "verbose_eval : bool or int, optional (default=True)\n",
       "    Requires at least one validation data.\n",
       "    If True, the eval metric on the valid set is printed at each boosting stage.\n",
       "    If int, the eval metric on the valid set is printed at every ``verbose_eval`` boosting stage.\n",
       "    The last boosting stage or the boosting stage found by using ``early_stopping_rounds`` is also printed.\n",
       "\n",
       "    .. rubric:: Example\n",
       "\n",
       "    With ``verbose_eval`` = 4 and at least one item in ``valid_sets``,\n",
       "    an evaluation metric is printed every 4 (instead of 1) boosting stages.\n",
       "\n",
       "learning_rates : list, callable or None, optional (default=None)\n",
       "    List of learning rates for each boosting round\n",
       "    or a callable that calculates ``learning_rate``\n",
       "    in terms of current number of round (e.g. yields learning rate decay).\n",
       "keep_training_booster : bool, optional (default=False)\n",
       "    Whether the returned Booster will be used to keep training.\n",
       "    If False, the returned value will be converted into _InnerPredictor before returning.\n",
       "    This means you won't be able to use ``eval``, ``eval_train`` or ``eval_valid`` methods of the returned Booster.\n",
       "    When your model is very large and cause the memory error,\n",
       "    you can try to set this param to ``True`` to avoid the model conversion performed during the internal call of ``model_to_string``.\n",
       "    You can still use _InnerPredictor as ``init_model`` for future continue training.\n",
       "callbacks : list of callable, or None, optional (default=None)\n",
       "    List of callback functions that are applied at each iteration.\n",
       "    See Callbacks in Python API for more information.\n",
       "\n",
       "Returns\n",
       "-------\n",
       "booster : Booster\n",
       "    The trained Booster model.\n",
       "\u001b[1;31mFile:\u001b[0m      d:\\anaconda3\\lib\\site-packages\\lightgbm\\engine.py\n",
       "\u001b[1;31mType:\u001b[0m      function\n"
      ]
     },
     "metadata": {},
     "output_type": "display_data"
    }
   ],
   "source": [
    "lgb.train?"
   ]
  },
  {
   "cell_type": "markdown",
   "id": "ba09e56d-44a0-4acc-a3cd-4b9233498547",
   "metadata": {},
   "source": [
    "而如果lgb.train的离散列参数和Dataset的离散列参数不一致，则相当于在建模过程中重新标记的离散列，相当于是执行了一个set_categorical_feature过程，此时如果原始Dataset设置的是free_raw_data=True，则会导致报错："
   ]
  },
  {
   "cell_type": "code",
   "execution_count": 199,
   "id": "0b9ae43c-84d1-489d-b081-258e668a9dca",
   "metadata": {
    "collapsed": true,
    "jupyter": {
     "outputs_hidden": true
    },
    "tags": []
   },
   "outputs": [
    {
     "ename": "LightGBMError",
     "evalue": "Cannot set categorical feature after freed raw data, set free_raw_data=False when construct Dataset to avoid this.",
     "output_type": "error",
     "traceback": [
      "\u001b[1;31m---------------------------------------------------------------------------\u001b[0m",
      "\u001b[1;31mLightGBMError\u001b[0m                             Traceback (most recent call last)",
      "Input \u001b[1;32mIn [199]\u001b[0m, in \u001b[0;36m<cell line: 3>\u001b[1;34m()\u001b[0m\n\u001b[0;32m      1\u001b[0m train_data \u001b[38;5;241m=\u001b[39m lgb\u001b[38;5;241m.\u001b[39mDataset(X_train, label\u001b[38;5;241m=\u001b[39my_train, categorical_feature\u001b[38;5;241m=\u001b[39mcate_features, free_raw_data\u001b[38;5;241m=\u001b[39m\u001b[38;5;28;01mTrue\u001b[39;00m)\n\u001b[0;32m      2\u001b[0m train_data\u001b[38;5;241m.\u001b[39mconstruct()\n\u001b[1;32m----> 3\u001b[0m bst \u001b[38;5;241m=\u001b[39m \u001b[43mlgb\u001b[49m\u001b[38;5;241;43m.\u001b[39;49m\u001b[43mtrain\u001b[49m\u001b[43m(\u001b[49m\u001b[43mparam\u001b[49m\u001b[43m,\u001b[49m\u001b[43m \u001b[49m\u001b[43mtrain_data\u001b[49m\u001b[43m)\u001b[49m\n",
      "File \u001b[1;32mD:\\anaconda3\\lib\\site-packages\\lightgbm\\engine.py:201\u001b[0m, in \u001b[0;36mtrain\u001b[1;34m(params, train_set, num_boost_round, valid_sets, valid_names, fobj, feval, init_model, feature_name, categorical_feature, early_stopping_rounds, evals_result, verbose_eval, learning_rates, keep_training_booster, callbacks)\u001b[0m\n\u001b[0;32m    198\u001b[0m \u001b[38;5;28;01mif\u001b[39;00m \u001b[38;5;129;01mnot\u001b[39;00m \u001b[38;5;28misinstance\u001b[39m(train_set, Dataset):\n\u001b[0;32m    199\u001b[0m     \u001b[38;5;28;01mraise\u001b[39;00m \u001b[38;5;167;01mTypeError\u001b[39;00m(\u001b[38;5;124m\"\u001b[39m\u001b[38;5;124mTraining only accepts Dataset object\u001b[39m\u001b[38;5;124m\"\u001b[39m)\n\u001b[1;32m--> 201\u001b[0m \u001b[43mtrain_set\u001b[49m\u001b[38;5;241;43m.\u001b[39;49m\u001b[43m_update_params\u001b[49m\u001b[43m(\u001b[49m\u001b[43mparams\u001b[49m\u001b[43m)\u001b[49m\u001b[43m \u001b[49m\u001b[43m\\\u001b[49m\n\u001b[0;32m    202\u001b[0m \u001b[43m         \u001b[49m\u001b[38;5;241;43m.\u001b[39;49m\u001b[43m_set_predictor\u001b[49m\u001b[43m(\u001b[49m\u001b[43mpredictor\u001b[49m\u001b[43m)\u001b[49m\u001b[43m \u001b[49m\u001b[43m\\\u001b[49m\n\u001b[0;32m    203\u001b[0m \u001b[43m         \u001b[49m\u001b[38;5;241;43m.\u001b[39;49m\u001b[43mset_feature_name\u001b[49m\u001b[43m(\u001b[49m\u001b[43mfeature_name\u001b[49m\u001b[43m)\u001b[49m\u001b[43m \u001b[49m\u001b[43m\\\u001b[49m\n\u001b[0;32m    204\u001b[0m \u001b[43m         \u001b[49m\u001b[38;5;241;43m.\u001b[39;49m\u001b[43mset_categorical_feature\u001b[49m\u001b[43m(\u001b[49m\u001b[43mcategorical_feature\u001b[49m\u001b[43m)\u001b[49m\n\u001b[0;32m    206\u001b[0m is_valid_contain_train \u001b[38;5;241m=\u001b[39m \u001b[38;5;28;01mFalse\u001b[39;00m\n\u001b[0;32m    207\u001b[0m train_data_name \u001b[38;5;241m=\u001b[39m \u001b[38;5;124m\"\u001b[39m\u001b[38;5;124mtraining\u001b[39m\u001b[38;5;124m\"\u001b[39m\n",
      "File \u001b[1;32mD:\\anaconda3\\lib\\site-packages\\lightgbm\\basic.py:2073\u001b[0m, in \u001b[0;36mDataset.set_categorical_feature\u001b[1;34m(self, categorical_feature)\u001b[0m\n\u001b[0;32m   2071\u001b[0m         \u001b[38;5;28;01mreturn\u001b[39;00m \u001b[38;5;28mself\u001b[39m\u001b[38;5;241m.\u001b[39m_free_handle()\n\u001b[0;32m   2072\u001b[0m \u001b[38;5;28;01melse\u001b[39;00m:\n\u001b[1;32m-> 2073\u001b[0m     \u001b[38;5;28;01mraise\u001b[39;00m LightGBMError(\u001b[38;5;124m\"\u001b[39m\u001b[38;5;124mCannot set categorical feature after freed raw data, \u001b[39m\u001b[38;5;124m\"\u001b[39m\n\u001b[0;32m   2074\u001b[0m                         \u001b[38;5;124m\"\u001b[39m\u001b[38;5;124mset free_raw_data=False when construct Dataset to avoid this.\u001b[39m\u001b[38;5;124m\"\u001b[39m)\n",
      "\u001b[1;31mLightGBMError\u001b[0m: Cannot set categorical feature after freed raw data, set free_raw_data=False when construct Dataset to avoid this."
     ]
    }
   ],
   "source": [
    "train_data = lgb.Dataset(X_train, label=y_train, categorical_feature=cate_features, free_raw_data=True)\n",
    "train_data.construct()\n",
    "bst = lgb.train(param, train_data)"
   ]
  },
  {
   "cell_type": "markdown",
   "id": "46a9a33e-a2f0-483f-a613-47c6e4f48bac",
   "metadata": {},
   "source": [
    "在默认情况下，lgb.train的categorical_feature参数取值也是auto，在和Dataset的categorical_feature取值不一致时会报错。"
   ]
  },
  {
   "cell_type": "markdown",
   "id": "9cc3f148-7d48-4a91-959a-419518b868f8",
   "metadata": {},
   "source": [
    "&emsp;&emsp;因此，综合来看，更加建议（初学者）在创建Dataset时更加细心的确定离散变量，然后一次性写死（设置free_raw_data=True，即保留默认设置），即为了节省内存，同时也为了程序的稳定运行。"
   ]
  },
  {
   "cell_type": "markdown",
   "id": "e2863bbd-8176-4133-8e76-ada45d274317",
   "metadata": {},
   "source": [
    "> 不过，从另一个角度来说，Dataset和train函数同时提供了离散列的标记，其实也为某个超参数优化流程提供了便利，即如果不确定哪些变量“最佳”离散列的选择，则可以在Dataset过程设置free_raw_data=False，然后在训练过程不断尝试不同的离散列组合，测试最佳组合。当然如果是初学者，还是建议按部就班先掌握通用流程，然后再进行灵活调整。"
   ]
  },
  {
   "cell_type": "markdown",
   "id": "9bdc52f3-ba28-4cb6-ba34-3062dec6a363",
   "metadata": {},
   "source": [
    "##### 3.1.8 LGBM高效数据保存和读取流程"
   ]
  },
  {
   "cell_type": "markdown",
   "id": "e8785ef9-722b-4b15-9f4c-83208a8f81a7",
   "metadata": {},
   "source": [
    "&emsp;&emsp;在熟悉了一系列LGBM在保存和读取数据相关过程后，我们来总结一套通用的、面向LGBM的高效数据保存和读取流程，需要注意的是，更少的内存占用、更高效的数据读取，也是LGBM的最核心特点之一，也是各算法工作人员的必修功课。"
   ]
  },
  {
   "cell_type": "markdown",
   "id": "d1cad7ae-af9e-417d-9844-c9cd2cf90fda",
   "metadata": {},
   "source": [
    "- Step 1.将本地文件读取为Panda数据类型，并进行数据清洗、特征工程等操作；\n",
    "- Step 2.分别提取训练集和测试集的特征和标签，并分别进行本地存储，避免出现数据丢失等情况；\n",
    "- Step 3.创建Dataset类型对象，并正确输入特征、标签、离散列特征名称等，非必要情况下一般建议free_raw_data=True；\n",
    "- Step 4.本地保存训练数据和测试数据的LGBM binary文件，方便下次模型训练时调用；\n",
    "- Step 5.若继续进行模型训练，则可以考虑在当前操作空间中删除原始数据文件对象，以减少内存占用率。"
   ]
  },
  {
   "cell_type": "markdown",
   "id": "35d6e61d-39be-4f8b-aa99-207120f0cc8c",
   "metadata": {},
   "source": [
    "具体代码实现流程如下："
   ]
  },
  {
   "cell_type": "code",
   "execution_count": 212,
   "id": "7f18a88a-3a42-4467-9e04-1b4221f7744d",
   "metadata": {},
   "outputs": [
    {
     "data": {
      "text/html": [
       "<div>\n",
       "<style scoped>\n",
       "    .dataframe tbody tr th:only-of-type {\n",
       "        vertical-align: middle;\n",
       "    }\n",
       "\n",
       "    .dataframe tbody tr th {\n",
       "        vertical-align: top;\n",
       "    }\n",
       "\n",
       "    .dataframe thead th {\n",
       "        text-align: right;\n",
       "    }\n",
       "</style>\n",
       "<table border=\"1\" class=\"dataframe\">\n",
       "  <thead>\n",
       "    <tr style=\"text-align: right;\">\n",
       "      <th></th>\n",
       "      <th>Id</th>\n",
       "      <th>住宅类型</th>\n",
       "      <th>住宅区域</th>\n",
       "      <th>街道接触面积(英尺)</th>\n",
       "      <th>住宅面积</th>\n",
       "      <th>街道路面状况</th>\n",
       "      <th>巷子路面状况</th>\n",
       "      <th>住宅形状(大概)</th>\n",
       "      <th>住宅现状</th>\n",
       "      <th>水电气</th>\n",
       "      <th>...</th>\n",
       "      <th>泳池面积</th>\n",
       "      <th>泳池质量</th>\n",
       "      <th>篱笆质量</th>\n",
       "      <th>其他配置</th>\n",
       "      <th>其他配置的价值</th>\n",
       "      <th>销售月份</th>\n",
       "      <th>销售年份</th>\n",
       "      <th>销售类型</th>\n",
       "      <th>销售状态</th>\n",
       "      <th>SalePrice</th>\n",
       "    </tr>\n",
       "  </thead>\n",
       "  <tbody>\n",
       "    <tr>\n",
       "      <th>0</th>\n",
       "      <td>0.0</td>\n",
       "      <td>5.0</td>\n",
       "      <td>3.0</td>\n",
       "      <td>36.0</td>\n",
       "      <td>327.0</td>\n",
       "      <td>1.0</td>\n",
       "      <td>0.0</td>\n",
       "      <td>3.0</td>\n",
       "      <td>3.0</td>\n",
       "      <td>0.0</td>\n",
       "      <td>...</td>\n",
       "      <td>0.0</td>\n",
       "      <td>0.0</td>\n",
       "      <td>0.0</td>\n",
       "      <td>0.0</td>\n",
       "      <td>0.0</td>\n",
       "      <td>1.0</td>\n",
       "      <td>2.0</td>\n",
       "      <td>8.0</td>\n",
       "      <td>4.0</td>\n",
       "      <td>208500</td>\n",
       "    </tr>\n",
       "    <tr>\n",
       "      <th>1</th>\n",
       "      <td>1.0</td>\n",
       "      <td>0.0</td>\n",
       "      <td>3.0</td>\n",
       "      <td>51.0</td>\n",
       "      <td>498.0</td>\n",
       "      <td>1.0</td>\n",
       "      <td>0.0</td>\n",
       "      <td>3.0</td>\n",
       "      <td>3.0</td>\n",
       "      <td>0.0</td>\n",
       "      <td>...</td>\n",
       "      <td>0.0</td>\n",
       "      <td>0.0</td>\n",
       "      <td>0.0</td>\n",
       "      <td>0.0</td>\n",
       "      <td>0.0</td>\n",
       "      <td>4.0</td>\n",
       "      <td>1.0</td>\n",
       "      <td>8.0</td>\n",
       "      <td>4.0</td>\n",
       "      <td>181500</td>\n",
       "    </tr>\n",
       "    <tr>\n",
       "      <th>2</th>\n",
       "      <td>2.0</td>\n",
       "      <td>5.0</td>\n",
       "      <td>3.0</td>\n",
       "      <td>39.0</td>\n",
       "      <td>702.0</td>\n",
       "      <td>1.0</td>\n",
       "      <td>0.0</td>\n",
       "      <td>0.0</td>\n",
       "      <td>3.0</td>\n",
       "      <td>0.0</td>\n",
       "      <td>...</td>\n",
       "      <td>0.0</td>\n",
       "      <td>0.0</td>\n",
       "      <td>0.0</td>\n",
       "      <td>0.0</td>\n",
       "      <td>0.0</td>\n",
       "      <td>8.0</td>\n",
       "      <td>2.0</td>\n",
       "      <td>8.0</td>\n",
       "      <td>4.0</td>\n",
       "      <td>223500</td>\n",
       "    </tr>\n",
       "    <tr>\n",
       "      <th>3</th>\n",
       "      <td>3.0</td>\n",
       "      <td>6.0</td>\n",
       "      <td>3.0</td>\n",
       "      <td>31.0</td>\n",
       "      <td>489.0</td>\n",
       "      <td>1.0</td>\n",
       "      <td>0.0</td>\n",
       "      <td>0.0</td>\n",
       "      <td>3.0</td>\n",
       "      <td>0.0</td>\n",
       "      <td>...</td>\n",
       "      <td>0.0</td>\n",
       "      <td>0.0</td>\n",
       "      <td>0.0</td>\n",
       "      <td>0.0</td>\n",
       "      <td>0.0</td>\n",
       "      <td>1.0</td>\n",
       "      <td>0.0</td>\n",
       "      <td>8.0</td>\n",
       "      <td>0.0</td>\n",
       "      <td>140000</td>\n",
       "    </tr>\n",
       "    <tr>\n",
       "      <th>4</th>\n",
       "      <td>4.0</td>\n",
       "      <td>5.0</td>\n",
       "      <td>3.0</td>\n",
       "      <td>55.0</td>\n",
       "      <td>925.0</td>\n",
       "      <td>1.0</td>\n",
       "      <td>0.0</td>\n",
       "      <td>0.0</td>\n",
       "      <td>3.0</td>\n",
       "      <td>0.0</td>\n",
       "      <td>...</td>\n",
       "      <td>0.0</td>\n",
       "      <td>0.0</td>\n",
       "      <td>0.0</td>\n",
       "      <td>0.0</td>\n",
       "      <td>0.0</td>\n",
       "      <td>11.0</td>\n",
       "      <td>2.0</td>\n",
       "      <td>8.0</td>\n",
       "      <td>4.0</td>\n",
       "      <td>250000</td>\n",
       "    </tr>\n",
       "  </tbody>\n",
       "</table>\n",
       "<p>5 rows × 81 columns</p>\n",
       "</div>"
      ],
      "text/plain": [
       "    Id  住宅类型  住宅区域  街道接触面积(英尺)   住宅面积  街道路面状况  巷子路面状况  住宅形状(大概)  住宅现状  水电气  \\\n",
       "0  0.0   5.0   3.0        36.0  327.0     1.0     0.0       3.0   3.0  0.0   \n",
       "1  1.0   0.0   3.0        51.0  498.0     1.0     0.0       3.0   3.0  0.0   \n",
       "2  2.0   5.0   3.0        39.0  702.0     1.0     0.0       0.0   3.0  0.0   \n",
       "3  3.0   6.0   3.0        31.0  489.0     1.0     0.0       0.0   3.0  0.0   \n",
       "4  4.0   5.0   3.0        55.0  925.0     1.0     0.0       0.0   3.0  0.0   \n",
       "\n",
       "   ...  泳池面积  泳池质量  篱笆质量  其他配置  其他配置的价值  销售月份  销售年份  销售类型  销售状态  SalePrice  \n",
       "0  ...   0.0   0.0   0.0   0.0      0.0   1.0   2.0   8.0   4.0     208500  \n",
       "1  ...   0.0   0.0   0.0   0.0      0.0   4.0   1.0   8.0   4.0     181500  \n",
       "2  ...   0.0   0.0   0.0   0.0      0.0   8.0   2.0   8.0   4.0     223500  \n",
       "3  ...   0.0   0.0   0.0   0.0      0.0   1.0   0.0   8.0   0.0     140000  \n",
       "4  ...   0.0   0.0   0.0   0.0      0.0  11.0   2.0   8.0   4.0     250000  \n",
       "\n",
       "[5 rows x 81 columns]"
      ]
     },
     "execution_count": 212,
     "metadata": {},
     "output_type": "execute_result"
    }
   ],
   "source": [
    "# Step 1.读取数据，划分数据集，进行数据清洗等\n",
    "data = pd.read_csv(\"train_encode.csv\",index_col=0)\n",
    "data.head()"
   ]
  },
  {
   "cell_type": "code",
   "execution_count": 213,
   "id": "920ef4b7-e9e7-4562-a203-e238cd6a38e3",
   "metadata": {},
   "outputs": [],
   "source": [
    "#Stap 2.划分训练集和测试集，并进行本地保存，这里划分方式和此前XGB课程中划分方式保一致\n",
    "X_train, X_test, y_train, y_test = train_test_split(data.iloc[:, 1:80], data.iloc[:, 80], test_size=0.3, random_state=1412)\n",
    "X_train.to_csv('X_train.csv')\n",
    "X_test.to_csv('X_test.csv')\n",
    "y_train.to_csv('y_train.csv')\n",
    "y_test.to_csv('y_test.csv')"
   ]
  },
  {
   "cell_type": "code",
   "execution_count": 214,
   "id": "2be8d41d-8673-41a4-b76a-72b00249c6f8",
   "metadata": {},
   "outputs": [
    {
     "data": {
      "text/plain": [
       "<lightgbm.basic.Dataset at 0x20fd6b951c0>"
      ]
     },
     "execution_count": 214,
     "metadata": {},
     "output_type": "execute_result"
    }
   ],
   "source": [
    "# Step 3.创建Dataset类型对象\n",
    "train_data = lgb.Dataset(X_train, label=y_train, categorical_feature=cate_features)\n",
    "test_data = lgb.Dataset(X_test, label=y_test, categorical_feature=cate_features)\n",
    "\n",
    "# 同时进行加载，观察数据集是否正确创建\n",
    "train_data.construct()\n",
    "test_data.construct()"
   ]
  },
  {
   "cell_type": "code",
   "execution_count": 215,
   "id": "072d3b55-4033-4717-bb72-497904ba42ac",
   "metadata": {},
   "outputs": [
    {
     "name": "stdout",
     "output_type": "stream",
     "text": [
      "[LightGBM] [Warning] File train.bin exists, cannot save binary to it\n",
      "[LightGBM] [Warning] File test.bin exists, cannot save binary to it\n"
     ]
    },
    {
     "data": {
      "text/plain": [
       "<lightgbm.basic.Dataset at 0x20fd6b951c0>"
      ]
     },
     "execution_count": 215,
     "metadata": {},
     "output_type": "execute_result"
    }
   ],
   "source": [
    "# Stap 4.本地保存二进制文件，方便后续调用\n",
    "# 需要提前删除此前创建的train.bin，save_binary不会覆盖之前的同名文件\n",
    "train_data.save_binary('train.bin')\n",
    "test_data.save_binary('test.bin')"
   ]
  },
  {
   "cell_type": "code",
   "execution_count": 216,
   "id": "24e82169-3b6a-4c94-a8b9-e224e1c304de",
   "metadata": {},
   "outputs": [
    {
     "data": {
      "text/plain": [
       "1378"
      ]
     },
     "execution_count": 216,
     "metadata": {},
     "output_type": "execute_result"
    }
   ],
   "source": [
    "# Step 5.删除原始数据对象，清理内存\n",
    "del(data)\n",
    "del(X_train, y_train, X_test, y_test)\n",
    "gc.collect()"
   ]
  },
  {
   "cell_type": "markdown",
   "id": "2a1478ec-0bc2-4163-89b1-2f14abf6a79a",
   "metadata": {},
   "source": [
    "然后即可进行模型训练："
   ]
  },
  {
   "cell_type": "code",
   "execution_count": 217,
   "id": "aca486ae-1c1e-4f32-97af-7ed03759a28c",
   "metadata": {},
   "outputs": [
    {
     "name": "stdout",
     "output_type": "stream",
     "text": [
      "[LightGBM] [Warning] Auto-choosing col-wise multi-threading, the overhead of testing was 0.002121 seconds.\n",
      "You can set `force_col_wise=true` to remove the overhead.\n",
      "[LightGBM] [Info] Total Bins 2744\n",
      "[LightGBM] [Info] Number of data points in the train set: 1022, number of used features: 74\n",
      "[LightGBM] [Info] Start training from score 181808.296477\n"
     ]
    }
   ],
   "source": [
    "param = {}\n",
    "bst = lgb.train(param, train_data, categorical_feature=cate_features)"
   ]
  },
  {
   "cell_type": "markdown",
   "id": "24d7ab00-f757-4e55-9679-4fb511c5382c",
   "metadata": {},
   "source": [
    "至此，我们就完成了最为通用的LGBM Dataset设置过程。"
   ]
  },
  {
   "cell_type": "markdown",
   "id": "80bc9482-bec6-4419-a7d3-f445169a2a7e",
   "metadata": {},
   "source": [
    "##### 3.1.9 Dataset类参数讲解"
   ]
  },
  {
   "cell_type": "markdown",
   "id": "62388d3c-2b1d-4346-99a2-da7efff9367c",
   "metadata": {},
   "source": [
    "&emsp;&emsp;在熟悉了Dataset类的核心功能后，我们再来对Dataset类的全部参数进行解释："
   ]
  },
  {
   "cell_type": "code",
   "execution_count": 207,
   "id": "561c2f15-1909-49ef-b7f8-27d53087cfd1",
   "metadata": {
    "collapsed": true,
    "jupyter": {
     "outputs_hidden": true
    },
    "tags": []
   },
   "outputs": [
    {
     "data": {
      "text/plain": [
       "\u001b[1;31mInit signature:\u001b[0m\n",
       "\u001b[0mlgb\u001b[0m\u001b[1;33m.\u001b[0m\u001b[0mDataset\u001b[0m\u001b[1;33m(\u001b[0m\u001b[1;33m\n",
       "\u001b[0m    \u001b[0mdata\u001b[0m\u001b[1;33m,\u001b[0m\u001b[1;33m\n",
       "\u001b[0m    \u001b[0mlabel\u001b[0m\u001b[1;33m=\u001b[0m\u001b[1;32mNone\u001b[0m\u001b[1;33m,\u001b[0m\u001b[1;33m\n",
       "\u001b[0m    \u001b[0mreference\u001b[0m\u001b[1;33m=\u001b[0m\u001b[1;32mNone\u001b[0m\u001b[1;33m,\u001b[0m\u001b[1;33m\n",
       "\u001b[0m    \u001b[0mweight\u001b[0m\u001b[1;33m=\u001b[0m\u001b[1;32mNone\u001b[0m\u001b[1;33m,\u001b[0m\u001b[1;33m\n",
       "\u001b[0m    \u001b[0mgroup\u001b[0m\u001b[1;33m=\u001b[0m\u001b[1;32mNone\u001b[0m\u001b[1;33m,\u001b[0m\u001b[1;33m\n",
       "\u001b[0m    \u001b[0minit_score\u001b[0m\u001b[1;33m=\u001b[0m\u001b[1;32mNone\u001b[0m\u001b[1;33m,\u001b[0m\u001b[1;33m\n",
       "\u001b[0m    \u001b[0msilent\u001b[0m\u001b[1;33m=\u001b[0m\u001b[1;34m'warn'\u001b[0m\u001b[1;33m,\u001b[0m\u001b[1;33m\n",
       "\u001b[0m    \u001b[0mfeature_name\u001b[0m\u001b[1;33m=\u001b[0m\u001b[1;34m'auto'\u001b[0m\u001b[1;33m,\u001b[0m\u001b[1;33m\n",
       "\u001b[0m    \u001b[0mcategorical_feature\u001b[0m\u001b[1;33m=\u001b[0m\u001b[1;34m'auto'\u001b[0m\u001b[1;33m,\u001b[0m\u001b[1;33m\n",
       "\u001b[0m    \u001b[0mparams\u001b[0m\u001b[1;33m=\u001b[0m\u001b[1;32mNone\u001b[0m\u001b[1;33m,\u001b[0m\u001b[1;33m\n",
       "\u001b[0m    \u001b[0mfree_raw_data\u001b[0m\u001b[1;33m=\u001b[0m\u001b[1;32mTrue\u001b[0m\u001b[1;33m,\u001b[0m\u001b[1;33m\n",
       "\u001b[0m\u001b[1;33m)\u001b[0m\u001b[1;33m\u001b[0m\u001b[1;33m\u001b[0m\u001b[0m\n",
       "\u001b[1;31mDocstring:\u001b[0m      Dataset in LightGBM.\n",
       "\u001b[1;31mInit docstring:\u001b[0m\n",
       "Initialize Dataset.\n",
       "\n",
       "Parameters\n",
       "----------\n",
       "data : str, pathlib.Path, numpy array, pandas DataFrame, H2O DataTable's Frame, scipy.sparse, Sequence, list of Sequence or list of numpy array\n",
       "    Data source of Dataset.\n",
       "    If str or pathlib.Path, it represents the path to a text file (CSV, TSV, or LibSVM) or a LightGBM Dataset binary file.\n",
       "label : list, numpy 1-D array, pandas Series / one-column DataFrame or None, optional (default=None)\n",
       "    Label of the data.\n",
       "reference : Dataset or None, optional (default=None)\n",
       "    If this is Dataset for validation, training data should be used as reference.\n",
       "weight : list, numpy 1-D array, pandas Series or None, optional (default=None)\n",
       "    Weight for each instance.\n",
       "group : list, numpy 1-D array, pandas Series or None, optional (default=None)\n",
       "    Group/query data.\n",
       "    Only used in the learning-to-rank task.\n",
       "    sum(group) = n_samples.\n",
       "    For example, if you have a 100-document dataset with ``group = [10, 20, 40, 10, 10, 10]``, that means that you have 6 groups,\n",
       "    where the first 10 records are in the first group, records 11-30 are in the second group, records 31-70 are in the third group, etc.\n",
       "init_score : list, list of lists (for multi-class task), numpy array, pandas Series, pandas DataFrame (for multi-class task), or None, optional (default=None)\n",
       "    Init score for Dataset.\n",
       "silent : bool, optional (default=False)\n",
       "    Whether to print messages during construction.\n",
       "feature_name : list of str, or 'auto', optional (default=\"auto\")\n",
       "    Feature names.\n",
       "    If 'auto' and data is pandas DataFrame, data columns names are used.\n",
       "categorical_feature : list of str or int, or 'auto', optional (default=\"auto\")\n",
       "    Categorical features.\n",
       "    If list of int, interpreted as indices.\n",
       "    If list of str, interpreted as feature names (need to specify ``feature_name`` as well).\n",
       "    If 'auto' and data is pandas DataFrame, pandas unordered categorical columns are used.\n",
       "    All values in categorical features should be less than int32 max value (2147483647).\n",
       "    Large values could be memory consuming. Consider using consecutive integers starting from zero.\n",
       "    All negative values in categorical features will be treated as missing values.\n",
       "    The output cannot be monotonically constrained with respect to a categorical feature.\n",
       "params : dict or None, optional (default=None)\n",
       "    Other parameters for Dataset.\n",
       "free_raw_data : bool, optional (default=True)\n",
       "    If True, raw data is freed after constructing inner Dataset.\n",
       "\u001b[1;31mFile:\u001b[0m           d:\\anaconda3\\lib\\site-packages\\lightgbm\\basic.py\n",
       "\u001b[1;31mType:\u001b[0m           type\n",
       "\u001b[1;31mSubclasses:\u001b[0m     \n"
      ]
     },
     "metadata": {},
     "output_type": "display_data"
    }
   ],
   "source": [
    "lgb.Dataset?"
   ]
  },
  {
   "cell_type": "markdown",
   "id": "80ce4724-8cda-46a7-ae50-b5c0aae76405",
   "metadata": {},
   "source": [
    "|Name|Description|      \n",
    "|:--:|:--:| \n",
    "|data|数据集特征或者LGBM二进制文件，特征可以是当前变成环境中的Array、DataFrame、Spare对象，也可以是本地文件| \n",
    "|label|数据集标签，默认为None，None时需要以来LGBM二进制文件输入标签信息|\n",
    "|reference|参考数据集，若设置当前数据集为验证集，则需要通过此参数指明验证集背后的训练集|\n",
    "|weight|类似于sklearn中的class_weight，用于灵活的设置每个样本的权重|\n",
    "|group|设置样本所属组，在排序问题中需要使用|\n",
    "|init_score|初始化每个样本的得分，同样是在排序问题中使用|\n",
    "|feature_name|特征的列名称，默认是aotu，会使用DataFrame传入的colums作为列名称|\n",
    "|categorical_feature|离散列的列名称，默认是aotu，会将DataFrame传入的Object列视作离散变量|\n",
    "|params|训练过程的相关参数，可以在Dataset过程中提前指定|\n",
    "|free_raw_data|是否释放原始数据|"
   ]
  },
  {
   "cell_type": "markdown",
   "id": "9ec42067-56d2-49a1-93b6-aca12b4dd9e6",
   "metadata": {},
   "source": [
    "更多相关功能，我们将在后续实践过程中逐步用到。"
   ]
  },
  {
   "cell_type": "markdown",
   "id": "2244f907-928b-4b68-a888-9ee9aca647b8",
   "metadata": {},
   "source": [
    "### 3.LGBM Training API使用方法"
   ]
  },
  {
   "cell_type": "markdown",
   "id": "bcc70ad8-6452-418a-b5f4-9befbafe31f4",
   "metadata": {},
   "source": [
    "#### 3.1 train函数基本说明"
   ]
  },
  {
   "cell_type": "code",
   "execution_count": 20,
   "id": "511668d9-9cf1-4cf7-8d1a-c5c1e33c6d37",
   "metadata": {
    "collapsed": true,
    "jupyter": {
     "outputs_hidden": true
    },
    "tags": []
   },
   "outputs": [
    {
     "data": {
      "text/plain": [
       "\u001b[1;31mSignature:\u001b[0m\n",
       "\u001b[0mlgb\u001b[0m\u001b[1;33m.\u001b[0m\u001b[0mtrain\u001b[0m\u001b[1;33m(\u001b[0m\u001b[1;33m\n",
       "\u001b[0m    \u001b[0mparams\u001b[0m\u001b[1;33m:\u001b[0m \u001b[0mDict\u001b[0m\u001b[1;33m[\u001b[0m\u001b[0mstr\u001b[0m\u001b[1;33m,\u001b[0m \u001b[0mAny\u001b[0m\u001b[1;33m]\u001b[0m\u001b[1;33m,\u001b[0m\u001b[1;33m\n",
       "\u001b[0m    \u001b[0mtrain_set\u001b[0m\u001b[1;33m:\u001b[0m \u001b[0mlightgbm\u001b[0m\u001b[1;33m.\u001b[0m\u001b[0mbasic\u001b[0m\u001b[1;33m.\u001b[0m\u001b[0mDataset\u001b[0m\u001b[1;33m,\u001b[0m\u001b[1;33m\n",
       "\u001b[0m    \u001b[0mnum_boost_round\u001b[0m\u001b[1;33m:\u001b[0m \u001b[0mint\u001b[0m \u001b[1;33m=\u001b[0m \u001b[1;36m100\u001b[0m\u001b[1;33m,\u001b[0m\u001b[1;33m\n",
       "\u001b[0m    \u001b[0mvalid_sets\u001b[0m\u001b[1;33m:\u001b[0m \u001b[0mOptional\u001b[0m\u001b[1;33m[\u001b[0m\u001b[0mList\u001b[0m\u001b[1;33m[\u001b[0m\u001b[0mlightgbm\u001b[0m\u001b[1;33m.\u001b[0m\u001b[0mbasic\u001b[0m\u001b[1;33m.\u001b[0m\u001b[0mDataset\u001b[0m\u001b[1;33m]\u001b[0m\u001b[1;33m]\u001b[0m \u001b[1;33m=\u001b[0m \u001b[1;32mNone\u001b[0m\u001b[1;33m,\u001b[0m\u001b[1;33m\n",
       "\u001b[0m    \u001b[0mvalid_names\u001b[0m\u001b[1;33m:\u001b[0m \u001b[0mOptional\u001b[0m\u001b[1;33m[\u001b[0m\u001b[0mList\u001b[0m\u001b[1;33m[\u001b[0m\u001b[0mstr\u001b[0m\u001b[1;33m]\u001b[0m\u001b[1;33m]\u001b[0m \u001b[1;33m=\u001b[0m \u001b[1;32mNone\u001b[0m\u001b[1;33m,\u001b[0m\u001b[1;33m\n",
       "\u001b[0m    \u001b[0mfobj\u001b[0m\u001b[1;33m:\u001b[0m \u001b[0mOptional\u001b[0m\u001b[1;33m[\u001b[0m\u001b[0mCallable\u001b[0m\u001b[1;33m[\u001b[0m\u001b[1;33m[\u001b[0m\u001b[0mUnion\u001b[0m\u001b[1;33m[\u001b[0m\u001b[0mList\u001b[0m\u001b[1;33m,\u001b[0m \u001b[0mnumpy\u001b[0m\u001b[1;33m.\u001b[0m\u001b[0mndarray\u001b[0m\u001b[1;33m]\u001b[0m\u001b[1;33m,\u001b[0m \u001b[0mlightgbm\u001b[0m\u001b[1;33m.\u001b[0m\u001b[0mbasic\u001b[0m\u001b[1;33m.\u001b[0m\u001b[0mDataset\u001b[0m\u001b[1;33m]\u001b[0m\u001b[1;33m,\u001b[0m \u001b[0mTuple\u001b[0m\u001b[1;33m[\u001b[0m\u001b[0mUnion\u001b[0m\u001b[1;33m[\u001b[0m\u001b[0mList\u001b[0m\u001b[1;33m,\u001b[0m \u001b[0mnumpy\u001b[0m\u001b[1;33m.\u001b[0m\u001b[0mndarray\u001b[0m\u001b[1;33m]\u001b[0m\u001b[1;33m,\u001b[0m \u001b[0mUnion\u001b[0m\u001b[1;33m[\u001b[0m\u001b[0mList\u001b[0m\u001b[1;33m,\u001b[0m \u001b[0mnumpy\u001b[0m\u001b[1;33m.\u001b[0m\u001b[0mndarray\u001b[0m\u001b[1;33m]\u001b[0m\u001b[1;33m]\u001b[0m\u001b[1;33m]\u001b[0m\u001b[1;33m]\u001b[0m \u001b[1;33m=\u001b[0m \u001b[1;32mNone\u001b[0m\u001b[1;33m,\u001b[0m\u001b[1;33m\n",
       "\u001b[0m    \u001b[0mfeval\u001b[0m\u001b[1;33m:\u001b[0m \u001b[0mUnion\u001b[0m\u001b[1;33m[\u001b[0m\u001b[0mCallable\u001b[0m\u001b[1;33m[\u001b[0m\u001b[1;33m[\u001b[0m\u001b[0mUnion\u001b[0m\u001b[1;33m[\u001b[0m\u001b[0mList\u001b[0m\u001b[1;33m,\u001b[0m \u001b[0mnumpy\u001b[0m\u001b[1;33m.\u001b[0m\u001b[0mndarray\u001b[0m\u001b[1;33m]\u001b[0m\u001b[1;33m,\u001b[0m \u001b[0mlightgbm\u001b[0m\u001b[1;33m.\u001b[0m\u001b[0mbasic\u001b[0m\u001b[1;33m.\u001b[0m\u001b[0mDataset\u001b[0m\u001b[1;33m]\u001b[0m\u001b[1;33m,\u001b[0m \u001b[0mTuple\u001b[0m\u001b[1;33m[\u001b[0m\u001b[0mstr\u001b[0m\u001b[1;33m,\u001b[0m \u001b[0mfloat\u001b[0m\u001b[1;33m,\u001b[0m \u001b[0mbool\u001b[0m\u001b[1;33m]\u001b[0m\u001b[1;33m]\u001b[0m\u001b[1;33m,\u001b[0m \u001b[0mList\u001b[0m\u001b[1;33m[\u001b[0m\u001b[0mCallable\u001b[0m\u001b[1;33m[\u001b[0m\u001b[1;33m[\u001b[0m\u001b[0mUnion\u001b[0m\u001b[1;33m[\u001b[0m\u001b[0mList\u001b[0m\u001b[1;33m,\u001b[0m \u001b[0mnumpy\u001b[0m\u001b[1;33m.\u001b[0m\u001b[0mndarray\u001b[0m\u001b[1;33m]\u001b[0m\u001b[1;33m,\u001b[0m \u001b[0mlightgbm\u001b[0m\u001b[1;33m.\u001b[0m\u001b[0mbasic\u001b[0m\u001b[1;33m.\u001b[0m\u001b[0mDataset\u001b[0m\u001b[1;33m]\u001b[0m\u001b[1;33m,\u001b[0m \u001b[0mTuple\u001b[0m\u001b[1;33m[\u001b[0m\u001b[0mstr\u001b[0m\u001b[1;33m,\u001b[0m \u001b[0mfloat\u001b[0m\u001b[1;33m,\u001b[0m \u001b[0mbool\u001b[0m\u001b[1;33m]\u001b[0m\u001b[1;33m]\u001b[0m\u001b[1;33m]\u001b[0m\u001b[1;33m,\u001b[0m \u001b[0mNoneType\u001b[0m\u001b[1;33m]\u001b[0m \u001b[1;33m=\u001b[0m \u001b[1;32mNone\u001b[0m\u001b[1;33m,\u001b[0m\u001b[1;33m\n",
       "\u001b[0m    \u001b[0minit_model\u001b[0m\u001b[1;33m:\u001b[0m \u001b[0mUnion\u001b[0m\u001b[1;33m[\u001b[0m\u001b[0mstr\u001b[0m\u001b[1;33m,\u001b[0m \u001b[0mpathlib\u001b[0m\u001b[1;33m.\u001b[0m\u001b[0mPath\u001b[0m\u001b[1;33m,\u001b[0m \u001b[0mlightgbm\u001b[0m\u001b[1;33m.\u001b[0m\u001b[0mbasic\u001b[0m\u001b[1;33m.\u001b[0m\u001b[0mBooster\u001b[0m\u001b[1;33m,\u001b[0m \u001b[0mNoneType\u001b[0m\u001b[1;33m]\u001b[0m \u001b[1;33m=\u001b[0m \u001b[1;32mNone\u001b[0m\u001b[1;33m,\u001b[0m\u001b[1;33m\n",
       "\u001b[0m    \u001b[0mfeature_name\u001b[0m\u001b[1;33m:\u001b[0m \u001b[0mUnion\u001b[0m\u001b[1;33m[\u001b[0m\u001b[0mList\u001b[0m\u001b[1;33m[\u001b[0m\u001b[0mstr\u001b[0m\u001b[1;33m]\u001b[0m\u001b[1;33m,\u001b[0m \u001b[0mstr\u001b[0m\u001b[1;33m]\u001b[0m \u001b[1;33m=\u001b[0m \u001b[1;34m'auto'\u001b[0m\u001b[1;33m,\u001b[0m\u001b[1;33m\n",
       "\u001b[0m    \u001b[0mcategorical_feature\u001b[0m\u001b[1;33m:\u001b[0m \u001b[0mUnion\u001b[0m\u001b[1;33m[\u001b[0m\u001b[0mList\u001b[0m\u001b[1;33m[\u001b[0m\u001b[0mstr\u001b[0m\u001b[1;33m]\u001b[0m\u001b[1;33m,\u001b[0m \u001b[0mList\u001b[0m\u001b[1;33m[\u001b[0m\u001b[0mint\u001b[0m\u001b[1;33m]\u001b[0m\u001b[1;33m,\u001b[0m \u001b[0mstr\u001b[0m\u001b[1;33m]\u001b[0m \u001b[1;33m=\u001b[0m \u001b[1;34m'auto'\u001b[0m\u001b[1;33m,\u001b[0m\u001b[1;33m\n",
       "\u001b[0m    \u001b[0mearly_stopping_rounds\u001b[0m\u001b[1;33m:\u001b[0m \u001b[0mOptional\u001b[0m\u001b[1;33m[\u001b[0m\u001b[0mint\u001b[0m\u001b[1;33m]\u001b[0m \u001b[1;33m=\u001b[0m \u001b[1;32mNone\u001b[0m\u001b[1;33m,\u001b[0m\u001b[1;33m\n",
       "\u001b[0m    \u001b[0mevals_result\u001b[0m\u001b[1;33m:\u001b[0m \u001b[0mOptional\u001b[0m\u001b[1;33m[\u001b[0m\u001b[0mDict\u001b[0m\u001b[1;33m[\u001b[0m\u001b[0mstr\u001b[0m\u001b[1;33m,\u001b[0m \u001b[0mAny\u001b[0m\u001b[1;33m]\u001b[0m\u001b[1;33m]\u001b[0m \u001b[1;33m=\u001b[0m \u001b[1;32mNone\u001b[0m\u001b[1;33m,\u001b[0m\u001b[1;33m\n",
       "\u001b[0m    \u001b[0mverbose_eval\u001b[0m\u001b[1;33m:\u001b[0m \u001b[0mUnion\u001b[0m\u001b[1;33m[\u001b[0m\u001b[0mbool\u001b[0m\u001b[1;33m,\u001b[0m \u001b[0mint\u001b[0m\u001b[1;33m,\u001b[0m \u001b[0mstr\u001b[0m\u001b[1;33m]\u001b[0m \u001b[1;33m=\u001b[0m \u001b[1;34m'warn'\u001b[0m\u001b[1;33m,\u001b[0m\u001b[1;33m\n",
       "\u001b[0m    \u001b[0mlearning_rates\u001b[0m\u001b[1;33m:\u001b[0m \u001b[0mUnion\u001b[0m\u001b[1;33m[\u001b[0m\u001b[0mList\u001b[0m\u001b[1;33m[\u001b[0m\u001b[0mfloat\u001b[0m\u001b[1;33m]\u001b[0m\u001b[1;33m,\u001b[0m \u001b[0mCallable\u001b[0m\u001b[1;33m[\u001b[0m\u001b[1;33m[\u001b[0m\u001b[0mint\u001b[0m\u001b[1;33m]\u001b[0m\u001b[1;33m,\u001b[0m \u001b[0mfloat\u001b[0m\u001b[1;33m]\u001b[0m\u001b[1;33m,\u001b[0m \u001b[0mNoneType\u001b[0m\u001b[1;33m]\u001b[0m \u001b[1;33m=\u001b[0m \u001b[1;32mNone\u001b[0m\u001b[1;33m,\u001b[0m\u001b[1;33m\n",
       "\u001b[0m    \u001b[0mkeep_training_booster\u001b[0m\u001b[1;33m:\u001b[0m \u001b[0mbool\u001b[0m \u001b[1;33m=\u001b[0m \u001b[1;32mFalse\u001b[0m\u001b[1;33m,\u001b[0m\u001b[1;33m\n",
       "\u001b[0m    \u001b[0mcallbacks\u001b[0m\u001b[1;33m:\u001b[0m \u001b[0mOptional\u001b[0m\u001b[1;33m[\u001b[0m\u001b[0mList\u001b[0m\u001b[1;33m[\u001b[0m\u001b[0mCallable\u001b[0m\u001b[1;33m]\u001b[0m\u001b[1;33m]\u001b[0m \u001b[1;33m=\u001b[0m \u001b[1;32mNone\u001b[0m\u001b[1;33m,\u001b[0m\u001b[1;33m\n",
       "\u001b[0m\u001b[1;33m)\u001b[0m \u001b[1;33m->\u001b[0m \u001b[0mlightgbm\u001b[0m\u001b[1;33m.\u001b[0m\u001b[0mbasic\u001b[0m\u001b[1;33m.\u001b[0m\u001b[0mBooster\u001b[0m\u001b[1;33m\u001b[0m\u001b[1;33m\u001b[0m\u001b[0m\n",
       "\u001b[1;31mDocstring:\u001b[0m\n",
       "Perform the training with given parameters.\n",
       "\n",
       "Parameters\n",
       "----------\n",
       "params : dict\n",
       "    Parameters for training.\n",
       "train_set : Dataset\n",
       "    Data to be trained on.\n",
       "num_boost_round : int, optional (default=100)\n",
       "    Number of boosting iterations.\n",
       "valid_sets : list of Dataset, or None, optional (default=None)\n",
       "    List of data to be evaluated on during training.\n",
       "valid_names : list of str, or None, optional (default=None)\n",
       "    Names of ``valid_sets``.\n",
       "fobj : callable or None, optional (default=None)\n",
       "    Customized objective function.\n",
       "    Should accept two parameters: preds, train_data,\n",
       "    and return (grad, hess).\n",
       "\n",
       "        preds : list or numpy 1-D array\n",
       "            The predicted values.\n",
       "            Predicted values are returned before any transformation,\n",
       "            e.g. they are raw margin instead of probability of positive class for binary task.\n",
       "        train_data : Dataset\n",
       "            The training dataset.\n",
       "        grad : list or numpy 1-D array\n",
       "            The value of the first order derivative (gradient) of the loss\n",
       "            with respect to the elements of preds for each sample point.\n",
       "        hess : list or numpy 1-D array\n",
       "            The value of the second order derivative (Hessian) of the loss\n",
       "            with respect to the elements of preds for each sample point.\n",
       "\n",
       "    For multi-class task, the preds is group by class_id first, then group by row_id.\n",
       "    If you want to get i-th row preds in j-th class, the access way is score[j * num_data + i]\n",
       "    and you should group grad and hess in this way as well.\n",
       "\n",
       "feval : callable, list of callable, or None, optional (default=None)\n",
       "    Customized evaluation function.\n",
       "    Each evaluation function should accept two parameters: preds, train_data,\n",
       "    and return (eval_name, eval_result, is_higher_better) or list of such tuples.\n",
       "\n",
       "        preds : list or numpy 1-D array\n",
       "            The predicted values.\n",
       "            If ``fobj`` is specified, predicted values are returned before any transformation,\n",
       "            e.g. they are raw margin instead of probability of positive class for binary task in this case.\n",
       "        train_data : Dataset\n",
       "            The training dataset.\n",
       "        eval_name : str\n",
       "            The name of evaluation function (without whitespaces).\n",
       "        eval_result : float\n",
       "            The eval result.\n",
       "        is_higher_better : bool\n",
       "            Is eval result higher better, e.g. AUC is ``is_higher_better``.\n",
       "\n",
       "    For multi-class task, the preds is group by class_id first, then group by row_id.\n",
       "    If you want to get i-th row preds in j-th class, the access way is preds[j * num_data + i].\n",
       "    To ignore the default metric corresponding to the used objective,\n",
       "    set the ``metric`` parameter to the string ``\"None\"`` in ``params``.\n",
       "init_model : str, pathlib.Path, Booster or None, optional (default=None)\n",
       "    Filename of LightGBM model or Booster instance used for continue training.\n",
       "feature_name : list of str, or 'auto', optional (default=\"auto\")\n",
       "    Feature names.\n",
       "    If 'auto' and data is pandas DataFrame, data columns names are used.\n",
       "categorical_feature : list of str or int, or 'auto', optional (default=\"auto\")\n",
       "    Categorical features.\n",
       "    If list of int, interpreted as indices.\n",
       "    If list of str, interpreted as feature names (need to specify ``feature_name`` as well).\n",
       "    If 'auto' and data is pandas DataFrame, pandas unordered categorical columns are used.\n",
       "    All values in categorical features should be less than int32 max value (2147483647).\n",
       "    Large values could be memory consuming. Consider using consecutive integers starting from zero.\n",
       "    All negative values in categorical features will be treated as missing values.\n",
       "    The output cannot be monotonically constrained with respect to a categorical feature.\n",
       "early_stopping_rounds : int or None, optional (default=None)\n",
       "    Activates early stopping. The model will train until the validation score stops improving.\n",
       "    Validation score needs to improve at least every ``early_stopping_rounds`` round(s)\n",
       "    to continue training.\n",
       "    Requires at least one validation data and one metric.\n",
       "    If there's more than one, will check all of them. But the training data is ignored anyway.\n",
       "    To check only the first metric, set the ``first_metric_only`` parameter to ``True`` in ``params``.\n",
       "    The index of iteration that has the best performance will be saved in the ``best_iteration`` field\n",
       "    if early stopping logic is enabled by setting ``early_stopping_rounds``.\n",
       "evals_result : dict or None, optional (default=None)\n",
       "    Dictionary used to store all evaluation results of all the items in ``valid_sets``.\n",
       "    This should be initialized outside of your call to ``train()`` and should be empty.\n",
       "    Any initial contents of the dictionary will be deleted.\n",
       "\n",
       "    .. rubric:: Example\n",
       "\n",
       "    With a ``valid_sets`` = [valid_set, train_set],\n",
       "    ``valid_names`` = ['eval', 'train']\n",
       "    and a ``params`` = {'metric': 'logloss'}\n",
       "    returns {'train': {'logloss': ['0.48253', '0.35953', ...]},\n",
       "    'eval': {'logloss': ['0.480385', '0.357756', ...]}}.\n",
       "\n",
       "verbose_eval : bool or int, optional (default=True)\n",
       "    Requires at least one validation data.\n",
       "    If True, the eval metric on the valid set is printed at each boosting stage.\n",
       "    If int, the eval metric on the valid set is printed at every ``verbose_eval`` boosting stage.\n",
       "    The last boosting stage or the boosting stage found by using ``early_stopping_rounds`` is also printed.\n",
       "\n",
       "    .. rubric:: Example\n",
       "\n",
       "    With ``verbose_eval`` = 4 and at least one item in ``valid_sets``,\n",
       "    an evaluation metric is printed every 4 (instead of 1) boosting stages.\n",
       "\n",
       "learning_rates : list, callable or None, optional (default=None)\n",
       "    List of learning rates for each boosting round\n",
       "    or a callable that calculates ``learning_rate``\n",
       "    in terms of current number of round (e.g. yields learning rate decay).\n",
       "keep_training_booster : bool, optional (default=False)\n",
       "    Whether the returned Booster will be used to keep training.\n",
       "    If False, the returned value will be converted into _InnerPredictor before returning.\n",
       "    This means you won't be able to use ``eval``, ``eval_train`` or ``eval_valid`` methods of the returned Booster.\n",
       "    When your model is very large and cause the memory error,\n",
       "    you can try to set this param to ``True`` to avoid the model conversion performed during the internal call of ``model_to_string``.\n",
       "    You can still use _InnerPredictor as ``init_model`` for future continue training.\n",
       "callbacks : list of callable, or None, optional (default=None)\n",
       "    List of callback functions that are applied at each iteration.\n",
       "    See Callbacks in Python API for more information.\n",
       "\n",
       "Returns\n",
       "-------\n",
       "booster : Booster\n",
       "    The trained Booster model.\n",
       "\u001b[1;31mFile:\u001b[0m      c:\\programdata\\anaconda3\\lib\\site-packages\\lightgbm\\engine.py\n",
       "\u001b[1;31mType:\u001b[0m      function"
      ]
     },
     "metadata": {},
     "output_type": "display_data"
    }
   ],
   "source": [
    "lgb.train?"
   ]
  },
  {
   "cell_type": "markdown",
   "id": "fbc677e0-5df2-4b3e-b3b1-f51b925e8f4b",
   "metadata": {},
   "source": [
    "- **params**：字典类型，用于设置模型参数和训练参数。这些参数包括：\n",
    "  - `boosting_type`: 提升方法类型（如`gbdt`、`rf`、`dart`、`goss`）。\n",
    "  - `objective`: 目标函数（如`binary`、`multiclass`、`regression`等）。\n",
    "  - `metric`: 评估指标（如`binary_logloss`、`multi_logloss`、`rmse`等）。\n",
    "  - `num_leaves`: 树的最大叶子数。\n",
    "  - `learning_rate`: 学习率。\n",
    "  - `feature_fraction`: 每次迭代中使用特征的比例。\n",
    "  - `bagging_fraction`: 每次迭代中使用数据的比例。\n",
    "  - `bagging_freq`: 控制bagging的频率。\n",
    "\n",
    "- **train_set**：训练数据集，必须是`Dataset`类型的实例。\n",
    "\n",
    "- **num_boost_round**：迭代次数，即树的数量。\n",
    "\n",
    "- **valid_sets**：验证数据集列表，可以包含多个`Dataset`对象。用于在训练过程中评估模型性能。\n",
    "\n",
    "- **valid_names**：验证数据集的名称列表，用于输出时区分不同的验证数据集。\n",
    "\n",
    "- **fobj**：自定义目标函数。该函数接受两个参数：预测值和真实值，返回梯度和二阶导数。\n",
    "\n",
    "- **feval**：自定义评估函数。该函数接受两个参数：预测值和真实值，返回评估指标的名称、值和是否越小越好。\n",
    "\n",
    "- **init_model**：初始化模型，可以是一个已经训练好的模型文件路径或一个`Booster`对象。用于从已有模型继续训练。\n",
    "\n",
    "- **feature_name**：特征名称列表，默认为`'auto'`。如果为`'auto'`，则使用`train_set`的特征名。\n",
    "\n",
    "- **categorical_feature**：类别特征的索引或名称列表，默认为`'auto'`。如果为`'auto'`，则自动识别类别特征。\n",
    "\n",
    "- **early_stopping_rounds**：早停策略。如果在指定轮数内验证集上的评估指标没有改善，则停止训练。\n",
    "\n",
    "- **evals_result**：字典类型，用于存储训练过程中的评估结果。其结构为`evals_result[数据集名称][评估指标]`。\n",
    "\n",
    "- **verbose_eval**：控制训练过程中信息输出的频率。可以是布尔值或整数。如果为布尔值`True`，则每`num_boost_round`次输出一次信息；如果为整数，则每指定轮数输出一次信息。\n",
    "\n",
    "- **learning_rates**：可以是一个函数或列表，定义每轮迭代的学习率。\n",
    "\n",
    "- **keep_training_booster**：布尔值。如果为`True`，则在继续训练时保持原有的`Booster`模型。\n",
    "\n",
    "- **callbacks**：回调函数列表，用于在训练过程中执行自定义操作。常用的回调函数包括：\n",
    "  - `early_stopping()`: 早停。\n",
    "  - `log_evaluation()`: 日志记录。\n",
    "  - `record_evaluation()`: 记录评估结果。"
   ]
  },
  {
   "cell_type": "markdown",
   "id": "27fd83f8-e003-43b0-b632-e93c4153cb6b",
   "metadata": {},
   "source": [
    "#### 3.2 train函数基本调用流程"
   ]
  },
  {
   "cell_type": "code",
   "execution_count": 22,
   "id": "3079dc83-6410-4243-b056-d2c407687f56",
   "metadata": {
    "tags": []
   },
   "outputs": [],
   "source": [
    "# 1. 加载和准备数据\n",
    "iris = load_iris()\n",
    "X = iris.data\n",
    "y = iris.target\n",
    "\n",
    "# 将标签二值化，仅仅为了二分类任务\n",
    "y = (y == 0).astype(int)\n",
    "\n",
    "# 2. 划分训练集和测试集\n",
    "X_train, X_test, y_train, y_test = train_test_split(X, y, test_size=0.2, random_state=42)\n",
    "\n",
    "# 3. 创建LightGBM的数据集\n",
    "train_data = lgb.Dataset(X_train, label=y_train)\n",
    "valid_data = lgb.Dataset(X_test, label=y_test, reference=train_data)"
   ]
  },
  {
   "cell_type": "code",
   "execution_count": 23,
   "id": "16bfa1a5-528d-443d-9742-a75fe7293582",
   "metadata": {
    "tags": []
   },
   "outputs": [],
   "source": [
    "# 4. 设置参数\n",
    "params = {\n",
    "    'boosting_type': 'gbdt',\n",
    "    'objective': 'binary',\n",
    "    'metric': 'binary_logloss',\n",
    "    'num_leaves': 31,\n",
    "    'learning_rate': 0.05,\n",
    "    'feature_fraction': 0.9\n",
    "}\n",
    "\n",
    "# 存储评估结果\n",
    "evals_result = {}"
   ]
  },
  {
   "cell_type": "code",
   "execution_count": 24,
   "id": "1fb9f3f2-38ab-4a12-aaff-cd64cd169fc9",
   "metadata": {
    "collapsed": true,
    "jupyter": {
     "outputs_hidden": true
    },
    "tags": []
   },
   "outputs": [
    {
     "name": "stdout",
     "output_type": "stream",
     "text": [
      "[LightGBM] [Info] Number of positive: 40, number of negative: 80\n",
      "[LightGBM] [Warning] Auto-choosing col-wise multi-threading, the overhead of testing was 0.000248 seconds.\n",
      "You can set `force_col_wise=true` to remove the overhead.\n",
      "[LightGBM] [Info] Total Bins 91\n",
      "[LightGBM] [Info] Number of data points in the train set: 120, number of used features: 4\n",
      "[LightGBM] [Info] [binary:BoostFromScore]: pavg=0.333333 -> initscore=-0.693147\n",
      "[LightGBM] [Info] Start training from score -0.693147\n",
      "[LightGBM] [Warning] No further splits with positive gain, best gain: -inf\n",
      "Training until validation scores don't improve for 10 rounds\n",
      "[LightGBM] [Warning] No further splits with positive gain, best gain: -inf\n",
      "[LightGBM] [Warning] No further splits with positive gain, best gain: -inf\n",
      "[LightGBM] [Warning] No further splits with positive gain, best gain: -inf\n",
      "[LightGBM] [Warning] No further splits with positive gain, best gain: -inf\n",
      "[LightGBM] [Warning] No further splits with positive gain, best gain: -inf\n",
      "[LightGBM] [Warning] No further splits with positive gain, best gain: -inf\n",
      "[LightGBM] [Warning] No further splits with positive gain, best gain: -inf\n",
      "[LightGBM] [Warning] No further splits with positive gain, best gain: -inf\n",
      "[LightGBM] [Warning] No further splits with positive gain, best gain: -inf\n",
      "[10]\tvalid's binary_logloss: 0.326994\n",
      "[LightGBM] [Warning] No further splits with positive gain, best gain: -inf\n",
      "[LightGBM] [Warning] No further splits with positive gain, best gain: -inf\n",
      "[LightGBM] [Warning] No further splits with positive gain, best gain: -inf\n",
      "[LightGBM] [Warning] No further splits with positive gain, best gain: -inf\n",
      "[LightGBM] [Warning] No further splits with positive gain, best gain: -inf\n",
      "[LightGBM] [Warning] No further splits with positive gain, best gain: -inf\n",
      "[LightGBM] [Warning] No further splits with positive gain, best gain: -inf\n",
      "[LightGBM] [Warning] No further splits with positive gain, best gain: -inf\n",
      "[LightGBM] [Warning] No further splits with positive gain, best gain: -inf\n",
      "[LightGBM] [Warning] No further splits with positive gain, best gain: -inf\n",
      "[20]\tvalid's binary_logloss: 0.186312\n",
      "[LightGBM] [Warning] No further splits with positive gain, best gain: -inf\n",
      "[LightGBM] [Warning] No further splits with positive gain, best gain: -inf\n",
      "[LightGBM] [Warning] No further splits with positive gain, best gain: -inf\n",
      "[LightGBM] [Warning] No further splits with positive gain, best gain: -inf\n",
      "[LightGBM] [Warning] No further splits with positive gain, best gain: -inf\n",
      "[LightGBM] [Warning] No further splits with positive gain, best gain: -inf\n",
      "[LightGBM] [Warning] No further splits with positive gain, best gain: -inf\n",
      "[LightGBM] [Warning] No further splits with positive gain, best gain: -inf\n",
      "[LightGBM] [Warning] No further splits with positive gain, best gain: -inf\n",
      "[LightGBM] [Warning] No further splits with positive gain, best gain: -inf\n",
      "[30]\tvalid's binary_logloss: 0.110403\n",
      "[LightGBM] [Warning] No further splits with positive gain, best gain: -inf\n",
      "[LightGBM] [Warning] No further splits with positive gain, best gain: -inf\n",
      "[LightGBM] [Warning] No further splits with positive gain, best gain: -inf\n",
      "[LightGBM] [Warning] No further splits with positive gain, best gain: -inf\n",
      "[LightGBM] [Warning] No further splits with positive gain, best gain: -inf\n",
      "[LightGBM] [Warning] No further splits with positive gain, best gain: -inf\n",
      "[LightGBM] [Warning] No further splits with positive gain, best gain: -inf\n",
      "[LightGBM] [Warning] No further splits with positive gain, best gain: -inf\n",
      "[LightGBM] [Warning] No further splits with positive gain, best gain: -inf\n",
      "[LightGBM] [Warning] No further splits with positive gain, best gain: -inf\n",
      "[40]\tvalid's binary_logloss: 0.0673059\n",
      "[LightGBM] [Warning] No further splits with positive gain, best gain: -inf\n",
      "[LightGBM] [Warning] No further splits with positive gain, best gain: -inf\n",
      "[LightGBM] [Warning] No further splits with positive gain, best gain: -inf\n",
      "[LightGBM] [Warning] No further splits with positive gain, best gain: -inf\n",
      "[LightGBM] [Warning] No further splits with positive gain, best gain: -inf\n",
      "[LightGBM] [Warning] No further splits with positive gain, best gain: -inf\n",
      "[LightGBM] [Warning] No further splits with positive gain, best gain: -inf\n",
      "[LightGBM] [Warning] No further splits with positive gain, best gain: -inf\n",
      "[LightGBM] [Warning] No further splits with positive gain, best gain: -inf\n",
      "[LightGBM] [Warning] No further splits with positive gain, best gain: -inf\n",
      "[50]\tvalid's binary_logloss: 0.0418125\n",
      "[LightGBM] [Warning] No further splits with positive gain, best gain: -inf\n",
      "[LightGBM] [Warning] No further splits with positive gain, best gain: -inf\n",
      "[LightGBM] [Warning] No further splits with positive gain, best gain: -inf\n",
      "[LightGBM] [Warning] No further splits with positive gain, best gain: -inf\n",
      "[LightGBM] [Warning] No further splits with positive gain, best gain: -inf\n",
      "[LightGBM] [Warning] No further splits with positive gain, best gain: -inf\n",
      "[LightGBM] [Warning] No further splits with positive gain, best gain: -inf\n",
      "[LightGBM] [Warning] No further splits with positive gain, best gain: -inf\n",
      "[LightGBM] [Warning] No further splits with positive gain, best gain: -inf\n",
      "[LightGBM] [Warning] No further splits with positive gain, best gain: -inf\n",
      "[60]\tvalid's binary_logloss: 0.0262906\n",
      "[LightGBM] [Warning] No further splits with positive gain, best gain: -inf\n",
      "[LightGBM] [Warning] No further splits with positive gain, best gain: -inf\n",
      "[LightGBM] [Warning] No further splits with positive gain, best gain: -inf\n",
      "[LightGBM] [Warning] No further splits with positive gain, best gain: -inf\n",
      "[LightGBM] [Warning] No further splits with positive gain, best gain: -inf\n",
      "[LightGBM] [Warning] No further splits with positive gain, best gain: -inf\n",
      "[LightGBM] [Warning] No further splits with positive gain, best gain: -inf\n",
      "[LightGBM] [Warning] No further splits with positive gain, best gain: -inf\n",
      "[LightGBM] [Warning] No further splits with positive gain, best gain: -inf\n",
      "[LightGBM] [Warning] No further splits with positive gain, best gain: -inf\n",
      "[70]\tvalid's binary_logloss: 0.0165641\n",
      "[LightGBM] [Warning] No further splits with positive gain, best gain: -inf\n",
      "[LightGBM] [Warning] No further splits with positive gain, best gain: -inf\n",
      "[LightGBM] [Warning] No further splits with positive gain, best gain: -inf\n",
      "[LightGBM] [Warning] No further splits with positive gain, best gain: -inf\n",
      "[LightGBM] [Warning] No further splits with positive gain, best gain: -inf\n",
      "[LightGBM] [Warning] No further splits with positive gain, best gain: -inf\n",
      "[LightGBM] [Warning] No further splits with positive gain, best gain: -inf\n",
      "[LightGBM] [Warning] No further splits with positive gain, best gain: -inf\n",
      "[LightGBM] [Warning] No further splits with positive gain, best gain: -inf\n",
      "[LightGBM] [Warning] No further splits with positive gain, best gain: -inf\n",
      "[80]\tvalid's binary_logloss: 0.010596\n",
      "[LightGBM] [Warning] No further splits with positive gain, best gain: -inf\n",
      "[LightGBM] [Warning] No further splits with positive gain, best gain: -inf\n",
      "[LightGBM] [Warning] No further splits with positive gain, best gain: -inf\n",
      "[LightGBM] [Warning] No further splits with positive gain, best gain: -inf\n",
      "[LightGBM] [Warning] No further splits with positive gain, best gain: -inf\n",
      "[LightGBM] [Warning] No further splits with positive gain, best gain: -inf\n",
      "[LightGBM] [Warning] No further splits with positive gain, best gain: -inf\n",
      "[LightGBM] [Warning] No further splits with positive gain, best gain: -inf\n",
      "[LightGBM] [Warning] No further splits with positive gain, best gain: -inf\n",
      "[LightGBM] [Warning] No further splits with positive gain, best gain: -inf\n",
      "[90]\tvalid's binary_logloss: 0.0068352\n",
      "[LightGBM] [Warning] No further splits with positive gain, best gain: -inf\n",
      "[LightGBM] [Warning] No further splits with positive gain, best gain: -inf\n",
      "[LightGBM] [Warning] No further splits with positive gain, best gain: -inf\n",
      "[LightGBM] [Warning] No further splits with positive gain, best gain: -inf\n",
      "[LightGBM] [Warning] No further splits with positive gain, best gain: -inf\n",
      "[LightGBM] [Warning] No further splits with positive gain, best gain: -inf\n",
      "[LightGBM] [Warning] No further splits with positive gain, best gain: -inf\n",
      "[LightGBM] [Warning] No further splits with positive gain, best gain: -inf\n",
      "[LightGBM] [Warning] No further splits with positive gain, best gain: -inf\n",
      "[LightGBM] [Warning] No further splits with positive gain, best gain: -inf\n",
      "[100]\tvalid's binary_logloss: 0.00442337\n",
      "Did not meet early stopping. Best iteration is:\n",
      "[100]\tvalid's binary_logloss: 0.00442337\n"
     ]
    },
    {
     "name": "stderr",
     "output_type": "stream",
     "text": [
      "C:\\ProgramData\\anaconda3\\lib\\site-packages\\lightgbm\\engine.py:181: UserWarning: 'early_stopping_rounds' argument is deprecated and will be removed in a future release of LightGBM. Pass 'early_stopping()' callback via 'callbacks' argument instead.\n",
      "  _log_warning(\"'early_stopping_rounds' argument is deprecated and will be removed in a future release of LightGBM. \"\n",
      "C:\\ProgramData\\anaconda3\\lib\\site-packages\\lightgbm\\engine.py:239: UserWarning: 'verbose_eval' argument is deprecated and will be removed in a future release of LightGBM. Pass 'log_evaluation()' callback via 'callbacks' argument instead.\n",
      "  _log_warning(\"'verbose_eval' argument is deprecated and will be removed in a future release of LightGBM. \"\n",
      "C:\\ProgramData\\anaconda3\\lib\\site-packages\\lightgbm\\engine.py:260: UserWarning: 'evals_result' argument is deprecated and will be removed in a future release of LightGBM. Pass 'record_evaluation()' callback via 'callbacks' argument instead.\n",
      "  _log_warning(\"'evals_result' argument is deprecated and will be removed in a future release of LightGBM. \"\n"
     ]
    }
   ],
   "source": [
    "# 5. 训练模型\n",
    "bst = lgb.train(params, train_data, num_boost_round=100, valid_sets=[valid_data], valid_names=['valid'],\n",
    "                early_stopping_rounds=10, evals_result=evals_result, verbose_eval=10)"
   ]
  },
  {
   "cell_type": "code",
   "execution_count": 25,
   "id": "215f7fef-c8c2-4cee-acb2-f0208745cb49",
   "metadata": {
    "tags": []
   },
   "outputs": [],
   "source": [
    "# 6. 预测\n",
    "y_pred = bst.predict(X_test, num_iteration=bst.best_iteration)\n",
    "y_pred = (y_pred > 0.5).astype(int)"
   ]
  },
  {
   "cell_type": "code",
   "execution_count": 26,
   "id": "e1ecdaff-d104-4235-ae7d-d153b3613055",
   "metadata": {
    "tags": []
   },
   "outputs": [
    {
     "data": {
      "text/plain": [
       "array([0, 1, 0, 0, 0, 1, 0, 0, 0, 0, 0, 1, 1, 1, 1, 0, 0, 0, 0, 0, 1, 0,\n",
       "       1, 0, 0, 0, 0, 0, 1, 1])"
      ]
     },
     "execution_count": 26,
     "metadata": {},
     "output_type": "execute_result"
    }
   ],
   "source": [
    "y_pred"
   ]
  },
  {
   "cell_type": "code",
   "execution_count": 27,
   "id": "8450c15b-3be9-4cc3-ba3d-3492ec12f004",
   "metadata": {
    "tags": []
   },
   "outputs": [
    {
     "name": "stdout",
     "output_type": "stream",
     "text": [
      "Accuracy: 1.0\n"
     ]
    }
   ],
   "source": [
    "# 7. 评估\n",
    "accuracy = accuracy_score(y_test, y_pred)\n",
    "print(f'Accuracy: {accuracy}')"
   ]
  },
  {
   "cell_type": "code",
   "execution_count": 39,
   "id": "85d4abcc-cc79-4d92-bf87-aaf656aefc81",
   "metadata": {
    "tags": []
   },
   "outputs": [
    {
     "name": "stdout",
     "output_type": "stream",
     "text": [
      "{'valid': OrderedDict([('binary_logloss', [0.5894378311191016, 0.5476931372674004, 0.5103116673595377, 0.4765796449815406, 0.44595252903711147, 0.41800334145214074, 0.3923897328620192, 0.368832103026671, 0.3470985253161487, 0.3269940681119045, 0.30835302537219766, 0.2910331432800769, 0.2749112413209749, 0.2595267035258446, 0.2451429368409141, 0.23198988287009273, 0.21939485522173635, 0.20757480166921416, 0.19673038527473308, 0.18631241782840088, 0.1765064614615712, 0.16730087865955967, 0.1586236540428413, 0.1504376232712111, 0.14274088828633358, 0.13546983542156135, 0.12859323642299472, 0.12212158770646137, 0.11602041032324957, 0.11040321270085983, 0.10490340851981989, 0.09971919429959336, 0.09480961058541688, 0.0903002653573408, 0.085903002047103, 0.08186395526316344, 0.07790441921766371, 0.07411744469056655, 0.07068403393091675, 0.06730592409483066, 0.06409829086633968, 0.0611608088218123, 0.05827697940480994, 0.055536621028356006, 0.05293158438257722, 0.05053037851487978, 0.04813695994153219, 0.04590080430397293, 0.04383973430474733, 0.04181245442478131, 0.039953950539678734, 0.03808274403908121, 0.036339444957437475, 0.034679131493625955, 0.03311113040586521, 0.03160924763370488, 0.030181199262806768, 0.028822318764214722, 0.027526295231079332, 0.026290571341613597, 0.025148077787473425, 0.024028828181364825, 0.022992710682823606, 0.021972710757920188, 0.02086914319912964, 0.019822251519855217, 0.01895067094646425, 0.018118366062512225, 0.01729564376066705, 0.016564132566195, 0.015815828838457398, 0.015103394218086147, 0.014437266317345158, 0.013828615615390321, 0.013209883935824911, 0.01263114913234509, 0.012103919113760945, 0.01156519510288093, 0.011087118467008557, 0.010596031273126066, 0.010148782195030657, 0.009665010334090268, 0.009260496539363566, 0.008854079903510424, 0.008494523730654936, 0.008141302196953984, 0.007785980578692958, 0.007430027151655045, 0.007130640896388864, 0.0068351988528243856, 0.006523948340342039, 0.006262062618562655, 0.0059780317966570485, 0.005731675856186469, 0.005503412012557913, 0.005254785720624557, 0.005029194825795933, 0.00482248348811245, 0.004631298901802782, 0.004423370784977424])])}\n"
     ]
    }
   ],
   "source": [
    "# 输出评估结果，即损失值列表\n",
    "print(evals_result)"
   ]
  },
  {
   "cell_type": "code",
   "execution_count": 44,
   "id": "aecfd8d0-1390-44df-ac23-54deab92a1be",
   "metadata": {
    "collapsed": true,
    "jupyter": {
     "outputs_hidden": true
    },
    "tags": []
   },
   "outputs": [
    {
     "data": {
      "text/plain": [
       "[0.5894378311191016,\n",
       " 0.5476931372674004,\n",
       " 0.5103116673595377,\n",
       " 0.4765796449815406,\n",
       " 0.44595252903711147,\n",
       " 0.41800334145214074,\n",
       " 0.3923897328620192,\n",
       " 0.368832103026671,\n",
       " 0.3470985253161487,\n",
       " 0.3269940681119045,\n",
       " 0.30835302537219766,\n",
       " 0.2910331432800769,\n",
       " 0.2749112413209749,\n",
       " 0.2595267035258446,\n",
       " 0.2451429368409141,\n",
       " 0.23198988287009273,\n",
       " 0.21939485522173635,\n",
       " 0.20757480166921416,\n",
       " 0.19673038527473308,\n",
       " 0.18631241782840088,\n",
       " 0.1765064614615712,\n",
       " 0.16730087865955967,\n",
       " 0.1586236540428413,\n",
       " 0.1504376232712111,\n",
       " 0.14274088828633358,\n",
       " 0.13546983542156135,\n",
       " 0.12859323642299472,\n",
       " 0.12212158770646137,\n",
       " 0.11602041032324957,\n",
       " 0.11040321270085983,\n",
       " 0.10490340851981989,\n",
       " 0.09971919429959336,\n",
       " 0.09480961058541688,\n",
       " 0.0903002653573408,\n",
       " 0.085903002047103,\n",
       " 0.08186395526316344,\n",
       " 0.07790441921766371,\n",
       " 0.07411744469056655,\n",
       " 0.07068403393091675,\n",
       " 0.06730592409483066,\n",
       " 0.06409829086633968,\n",
       " 0.0611608088218123,\n",
       " 0.05827697940480994,\n",
       " 0.055536621028356006,\n",
       " 0.05293158438257722,\n",
       " 0.05053037851487978,\n",
       " 0.04813695994153219,\n",
       " 0.04590080430397293,\n",
       " 0.04383973430474733,\n",
       " 0.04181245442478131,\n",
       " 0.039953950539678734,\n",
       " 0.03808274403908121,\n",
       " 0.036339444957437475,\n",
       " 0.034679131493625955,\n",
       " 0.03311113040586521,\n",
       " 0.03160924763370488,\n",
       " 0.030181199262806768,\n",
       " 0.028822318764214722,\n",
       " 0.027526295231079332,\n",
       " 0.026290571341613597,\n",
       " 0.025148077787473425,\n",
       " 0.024028828181364825,\n",
       " 0.022992710682823606,\n",
       " 0.021972710757920188,\n",
       " 0.02086914319912964,\n",
       " 0.019822251519855217,\n",
       " 0.01895067094646425,\n",
       " 0.018118366062512225,\n",
       " 0.01729564376066705,\n",
       " 0.016564132566195,\n",
       " 0.015815828838457398,\n",
       " 0.015103394218086147,\n",
       " 0.014437266317345158,\n",
       " 0.013828615615390321,\n",
       " 0.013209883935824911,\n",
       " 0.01263114913234509,\n",
       " 0.012103919113760945,\n",
       " 0.01156519510288093,\n",
       " 0.011087118467008557,\n",
       " 0.010596031273126066,\n",
       " 0.010148782195030657,\n",
       " 0.009665010334090268,\n",
       " 0.009260496539363566,\n",
       " 0.008854079903510424,\n",
       " 0.008494523730654936,\n",
       " 0.008141302196953984,\n",
       " 0.007785980578692958,\n",
       " 0.007430027151655045,\n",
       " 0.007130640896388864,\n",
       " 0.0068351988528243856,\n",
       " 0.006523948340342039,\n",
       " 0.006262062618562655,\n",
       " 0.0059780317966570485,\n",
       " 0.005731675856186469,\n",
       " 0.005503412012557913,\n",
       " 0.005254785720624557,\n",
       " 0.005029194825795933,\n",
       " 0.00482248348811245,\n",
       " 0.004631298901802782,\n",
       " 0.004423370784977424]"
      ]
     },
     "execution_count": 44,
     "metadata": {},
     "output_type": "execute_result"
    }
   ],
   "source": [
    "evals_result['valid']['binary_logloss']"
   ]
  },
  {
   "cell_type": "code",
   "execution_count": 45,
   "id": "a336ecf5-c0fd-4508-a8d6-f45b3fa16f1f",
   "metadata": {
    "tags": []
   },
   "outputs": [
    {
     "data": {
      "text/plain": [
       "[<matplotlib.lines.Line2D at 0x1cafc06a530>]"
      ]
     },
     "execution_count": 45,
     "metadata": {},
     "output_type": "execute_result"
    },
    {
     "data": {
      "image/png": "[encoded data removed]",
      "text/plain": [
       "<Figure size 640x480 with 1 Axes>"
      ]
     },
     "metadata": {},
     "output_type": "display_data"
    }
   ],
   "source": [
    "plt.plot(np.arange(1, 101), evals_result['valid']['binary_logloss'])"
   ]
  },
  {
   "cell_type": "markdown",
   "id": "7edd86e7-5ba0-4a10-9079-bb2af6cf8452",
   "metadata": {},
   "source": [
    "- 同时带入训练集和测试集并绘制损失值变化曲线"
   ]
  },
  {
   "cell_type": "code",
   "execution_count": 51,
   "id": "d60ce7e2-482b-4002-8350-6c7554fbdc61",
   "metadata": {
    "collapsed": true,
    "jupyter": {
     "outputs_hidden": true
    },
    "tags": []
   },
   "outputs": [
    {
     "name": "stdout",
     "output_type": "stream",
     "text": [
      "[LightGBM] [Info] Number of positive: 40, number of negative: 80\n",
      "[LightGBM] [Warning] Auto-choosing col-wise multi-threading, the overhead of testing was 0.000270 seconds.\n",
      "You can set `force_col_wise=true` to remove the overhead.\n",
      "[LightGBM] [Info] Total Bins 91\n",
      "[LightGBM] [Info] Number of data points in the train set: 120, number of used features: 4\n",
      "[LightGBM] [Info] [binary:BoostFromScore]: pavg=0.333333 -> initscore=-0.693147\n",
      "[LightGBM] [Info] Start training from score -0.693147\n",
      "[LightGBM] [Warning] No further splits with positive gain, best gain: -inf\n",
      "Training until validation scores don't improve for 10 rounds\n",
      "[LightGBM] [Warning] No further splits with positive gain, best gain: -inf\n",
      "[LightGBM] [Warning] No further splits with positive gain, best gain: -inf\n",
      "[LightGBM] [Warning] No further splits with positive gain, best gain: -inf\n",
      "[LightGBM] [Warning] No further splits with positive gain, best gain: -inf\n",
      "[LightGBM] [Warning] No further splits with positive gain, best gain: -inf\n",
      "[LightGBM] [Warning] No further splits with positive gain, best gain: -inf\n",
      "[LightGBM] [Warning] No further splits with positive gain, best gain: -inf\n",
      "[LightGBM] [Warning] No further splits with positive gain, best gain: -inf\n",
      "[LightGBM] [Warning] No further splits with positive gain, best gain: -inf\n",
      "[10]\ttrain's binary_logloss: 0.32985\tvalid's binary_logloss: 0.326994\n",
      "[LightGBM] [Warning] No further splits with positive gain, best gain: -inf\n",
      "[LightGBM] [Warning] No further splits with positive gain, best gain: -inf\n",
      "[LightGBM] [Warning] No further splits with positive gain, best gain: -inf\n",
      "[LightGBM] [Warning] No further splits with positive gain, best gain: -inf\n",
      "[LightGBM] [Warning] No further splits with positive gain, best gain: -inf\n",
      "[LightGBM] [Warning] No further splits with positive gain, best gain: -inf\n",
      "[LightGBM] [Warning] No further splits with positive gain, best gain: -inf\n",
      "[LightGBM] [Warning] No further splits with positive gain, best gain: -inf\n",
      "[LightGBM] [Warning] No further splits with positive gain, best gain: -inf\n",
      "[LightGBM] [Warning] No further splits with positive gain, best gain: -inf\n",
      "[20]\ttrain's binary_logloss: 0.192817\tvalid's binary_logloss: 0.186312\n",
      "[LightGBM] [Warning] No further splits with positive gain, best gain: -inf\n",
      "[LightGBM] [Warning] No further splits with positive gain, best gain: -inf\n",
      "[LightGBM] [Warning] No further splits with positive gain, best gain: -inf\n",
      "[LightGBM] [Warning] No further splits with positive gain, best gain: -inf\n",
      "[LightGBM] [Warning] No further splits with positive gain, best gain: -inf\n",
      "[LightGBM] [Warning] No further splits with positive gain, best gain: -inf\n",
      "[LightGBM] [Warning] No further splits with positive gain, best gain: -inf\n",
      "[LightGBM] [Warning] No further splits with positive gain, best gain: -inf\n",
      "[LightGBM] [Warning] No further splits with positive gain, best gain: -inf\n",
      "[LightGBM] [Warning] No further splits with positive gain, best gain: -inf\n",
      "[30]\ttrain's binary_logloss: 0.118242\tvalid's binary_logloss: 0.110403\n",
      "[LightGBM] [Warning] No further splits with positive gain, best gain: -inf\n",
      "[LightGBM] [Warning] No further splits with positive gain, best gain: -inf\n",
      "[LightGBM] [Warning] No further splits with positive gain, best gain: -inf\n",
      "[LightGBM] [Warning] No further splits with positive gain, best gain: -inf\n",
      "[LightGBM] [Warning] No further splits with positive gain, best gain: -inf\n",
      "[LightGBM] [Warning] No further splits with positive gain, best gain: -inf\n",
      "[LightGBM] [Warning] No further splits with positive gain, best gain: -inf\n",
      "[LightGBM] [Warning] No further splits with positive gain, best gain: -inf\n",
      "[LightGBM] [Warning] No further splits with positive gain, best gain: -inf\n",
      "[LightGBM] [Warning] No further splits with positive gain, best gain: -inf\n",
      "[40]\ttrain's binary_logloss: 0.0745936\tvalid's binary_logloss: 0.0673059\n",
      "[LightGBM] [Warning] No further splits with positive gain, best gain: -inf\n",
      "[LightGBM] [Warning] No further splits with positive gain, best gain: -inf\n",
      "[LightGBM] [Warning] No further splits with positive gain, best gain: -inf\n",
      "[LightGBM] [Warning] No further splits with positive gain, best gain: -inf\n",
      "[LightGBM] [Warning] No further splits with positive gain, best gain: -inf\n",
      "[LightGBM] [Warning] No further splits with positive gain, best gain: -inf\n",
      "[LightGBM] [Warning] No further splits with positive gain, best gain: -inf\n",
      "[LightGBM] [Warning] No further splits with positive gain, best gain: -inf\n",
      "[LightGBM] [Warning] No further splits with positive gain, best gain: -inf\n",
      "[LightGBM] [Warning] No further splits with positive gain, best gain: -inf\n",
      "[50]\ttrain's binary_logloss: 0.0480275\tvalid's binary_logloss: 0.0418125\n",
      "[LightGBM] [Warning] No further splits with positive gain, best gain: -inf\n",
      "[LightGBM] [Warning] No further splits with positive gain, best gain: -inf\n",
      "[LightGBM] [Warning] No further splits with positive gain, best gain: -inf\n",
      "[LightGBM] [Warning] No further splits with positive gain, best gain: -inf\n",
      "[LightGBM] [Warning] No further splits with positive gain, best gain: -inf\n",
      "[LightGBM] [Warning] No further splits with positive gain, best gain: -inf\n",
      "[LightGBM] [Warning] No further splits with positive gain, best gain: -inf\n",
      "[LightGBM] [Warning] No further splits with positive gain, best gain: -inf\n",
      "[LightGBM] [Warning] No further splits with positive gain, best gain: -inf\n",
      "[LightGBM] [Warning] No further splits with positive gain, best gain: -inf\n",
      "[60]\ttrain's binary_logloss: 0.031511\tvalid's binary_logloss: 0.0262906\n",
      "[LightGBM] [Warning] No further splits with positive gain, best gain: -inf\n",
      "[LightGBM] [Warning] No further splits with positive gain, best gain: -inf\n",
      "[LightGBM] [Warning] No further splits with positive gain, best gain: -inf\n",
      "[LightGBM] [Warning] No further splits with positive gain, best gain: -inf\n",
      "[LightGBM] [Warning] No further splits with positive gain, best gain: -inf\n",
      "[LightGBM] [Warning] No further splits with positive gain, best gain: -inf\n",
      "[LightGBM] [Warning] No further splits with positive gain, best gain: -inf\n",
      "[LightGBM] [Warning] No further splits with positive gain, best gain: -inf\n",
      "[LightGBM] [Warning] No further splits with positive gain, best gain: -inf\n",
      "[LightGBM] [Warning] No further splits with positive gain, best gain: -inf\n",
      "[70]\ttrain's binary_logloss: 0.0207905\tvalid's binary_logloss: 0.0165641\n",
      "[LightGBM] [Warning] No further splits with positive gain, best gain: -inf\n",
      "[LightGBM] [Warning] No further splits with positive gain, best gain: -inf\n",
      "[LightGBM] [Warning] No further splits with positive gain, best gain: -inf\n",
      "[LightGBM] [Warning] No further splits with positive gain, best gain: -inf\n",
      "[LightGBM] [Warning] No further splits with positive gain, best gain: -inf\n",
      "[LightGBM] [Warning] No further splits with positive gain, best gain: -inf\n",
      "[LightGBM] [Warning] No further splits with positive gain, best gain: -inf\n",
      "[LightGBM] [Warning] No further splits with positive gain, best gain: -inf\n",
      "[LightGBM] [Warning] No further splits with positive gain, best gain: -inf\n",
      "[LightGBM] [Warning] No further splits with positive gain, best gain: -inf\n",
      "[80]\ttrain's binary_logloss: 0.0137781\tvalid's binary_logloss: 0.010596\n",
      "[LightGBM] [Warning] No further splits with positive gain, best gain: -inf\n",
      "[LightGBM] [Warning] No further splits with positive gain, best gain: -inf\n",
      "[LightGBM] [Warning] No further splits with positive gain, best gain: -inf\n",
      "[LightGBM] [Warning] No further splits with positive gain, best gain: -inf\n",
      "[LightGBM] [Warning] No further splits with positive gain, best gain: -inf\n",
      "[LightGBM] [Warning] No further splits with positive gain, best gain: -inf\n",
      "[LightGBM] [Warning] No further splits with positive gain, best gain: -inf\n",
      "[LightGBM] [Warning] No further splits with positive gain, best gain: -inf\n",
      "[LightGBM] [Warning] No further splits with positive gain, best gain: -inf\n",
      "[LightGBM] [Warning] No further splits with positive gain, best gain: -inf\n",
      "[90]\ttrain's binary_logloss: 0.00928307\tvalid's binary_logloss: 0.0068352\n",
      "[LightGBM] [Warning] No further splits with positive gain, best gain: -inf\n",
      "[LightGBM] [Warning] No further splits with positive gain, best gain: -inf\n",
      "[LightGBM] [Warning] No further splits with positive gain, best gain: -inf\n",
      "[LightGBM] [Warning] No further splits with positive gain, best gain: -inf\n",
      "[LightGBM] [Warning] No further splits with positive gain, best gain: -inf\n",
      "[LightGBM] [Warning] No further splits with positive gain, best gain: -inf\n",
      "[LightGBM] [Warning] No further splits with positive gain, best gain: -inf\n",
      "[LightGBM] [Warning] No further splits with positive gain, best gain: -inf\n",
      "[LightGBM] [Warning] No further splits with positive gain, best gain: -inf\n",
      "[LightGBM] [Warning] No further splits with positive gain, best gain: -inf\n",
      "[100]\ttrain's binary_logloss: 0.00622963\tvalid's binary_logloss: 0.00442337\n",
      "Did not meet early stopping. Best iteration is:\n",
      "[100]\ttrain's binary_logloss: 0.00622963\tvalid's binary_logloss: 0.00442337\n"
     ]
    },
    {
     "name": "stderr",
     "output_type": "stream",
     "text": [
      "C:\\ProgramData\\anaconda3\\lib\\site-packages\\lightgbm\\engine.py:181: UserWarning: 'early_stopping_rounds' argument is deprecated and will be removed in a future release of LightGBM. Pass 'early_stopping()' callback via 'callbacks' argument instead.\n",
      "  _log_warning(\"'early_stopping_rounds' argument is deprecated and will be removed in a future release of LightGBM. \"\n",
      "C:\\ProgramData\\anaconda3\\lib\\site-packages\\lightgbm\\engine.py:239: UserWarning: 'verbose_eval' argument is deprecated and will be removed in a future release of LightGBM. Pass 'log_evaluation()' callback via 'callbacks' argument instead.\n",
      "  _log_warning(\"'verbose_eval' argument is deprecated and will be removed in a future release of LightGBM. \"\n",
      "C:\\ProgramData\\anaconda3\\lib\\site-packages\\lightgbm\\engine.py:260: UserWarning: 'evals_result' argument is deprecated and will be removed in a future release of LightGBM. Pass 'record_evaluation()' callback via 'callbacks' argument instead.\n",
      "  _log_warning(\"'evals_result' argument is deprecated and will be removed in a future release of LightGBM. \"\n"
     ]
    }
   ],
   "source": [
    "# 创建LightGBM的数据集\n",
    "train_data = lgb.Dataset(X_train, label=y_train)\n",
    "valid_data = lgb.Dataset(X_test, label=y_test, reference=train_data)\n",
    "\n",
    "# 设置参数\n",
    "params = {\n",
    "    'boosting_type': 'gbdt',\n",
    "    'objective': 'binary',\n",
    "    'metric': 'binary_logloss',\n",
    "    'num_leaves': 31,\n",
    "    'learning_rate': 0.05,\n",
    "    'feature_fraction': 0.9\n",
    "}\n",
    "\n",
    "# 存储评估结果\n",
    "evals_result = {}\n",
    "\n",
    "# 训练模型\n",
    "bst = lgb.train(params, train_data, num_boost_round=100, valid_sets=[train_data, valid_data], valid_names=['train', 'valid'],\n",
    "                early_stopping_rounds=10, evals_result=evals_result, verbose_eval=10)\n",
    "\n",
    "# 预测\n",
    "y_pred = bst.predict(X_test, num_iteration=bst.best_iteration)\n",
    "y_pred = (y_pred > 0.5).astype(int)"
   ]
  },
  {
   "cell_type": "code",
   "execution_count": 52,
   "id": "390d27b3-11d9-4c16-9ba9-ac68208977fd",
   "metadata": {
    "tags": []
   },
   "outputs": [
    {
     "name": "stdout",
     "output_type": "stream",
     "text": [
      "Accuracy: 1.0\n"
     ]
    }
   ],
   "source": [
    "# 评估\n",
    "accuracy = accuracy_score(y_test, y_pred)\n",
    "print(f'Accuracy: {accuracy}')"
   ]
  },
  {
   "cell_type": "code",
   "execution_count": 54,
   "id": "d68c2ca6-3c65-4bea-8095-cd11282532ea",
   "metadata": {
    "collapsed": true,
    "jupyter": {
     "outputs_hidden": true
    },
    "tags": []
   },
   "outputs": [
    {
     "name": "stdout",
     "output_type": "stream",
     "text": [
      "Evaluation results per iteration:\n",
      "train - binary_logloss:\n",
      "  Iteration 1: 0.589509696112102\n",
      "  Iteration 2: 0.547935229281464\n",
      "  Iteration 3: 0.5107894475415135\n",
      "  Iteration 4: 0.47733796255928446\n",
      "  Iteration 5: 0.44702271296534685\n",
      "  Iteration 6: 0.41940751890263134\n",
      "  Iteration 7: 0.3941435808837831\n",
      "  Iteration 8: 0.3709466633205685\n",
      "  Iteration 9: 0.34958143971367667\n",
      "  Iteration 10: 0.3298504382858017\n",
      "  Iteration 11: 0.3115860250977701\n",
      "  Iteration 12: 0.2946444619739782\n",
      "  Iteration 13: 0.2789014113434712\n",
      "  Iteration 14: 0.2640498240305381\n",
      "  Iteration 15: 0.2501269620982273\n",
      "  Iteration 16: 0.23727073348649247\n",
      "  Iteration 17: 0.22506307361186398\n",
      "  Iteration 18: 0.21357497282143828\n",
      "  Iteration 19: 0.2029597988557919\n",
      "  Iteration 20: 0.1928169890005094\n",
      "  Iteration 21: 0.18324185725209635\n",
      "  Iteration 22: 0.1743810429629181\n",
      "  Iteration 23: 0.16588071994668632\n",
      "  Iteration 24: 0.15783653361826105\n",
      "  Iteration 25: 0.15027694844231204\n",
      "  Iteration 26: 0.14311227094644466\n",
      "  Iteration 27: 0.13645229009707055\n",
      "  Iteration 28: 0.1300500922861101\n",
      "  Iteration 29: 0.12391433791775307\n",
      "  Iteration 30: 0.11824175626181899\n",
      "  Iteration 31: 0.11289016825538652\n",
      "  Iteration 32: 0.10765149012453631\n",
      "  Iteration 33: 0.10267610455535153\n",
      "  Iteration 34: 0.09805894272689632\n",
      "  Iteration 35: 0.0935834865010076\n",
      "  Iteration 36: 0.08943880942137068\n",
      "  Iteration 37: 0.08538177996808985\n",
      "  Iteration 38: 0.08165151032998792\n",
      "  Iteration 39: 0.07808940093334735\n",
      "  Iteration 40: 0.07459358678495247\n",
      "  Iteration 41: 0.07126466870554429\n",
      "  Iteration 42: 0.06820188337004641\n",
      "  Iteration 43: 0.06533114217284289\n",
      "  Iteration 44: 0.06244943586546286\n",
      "  Iteration 45: 0.059702806914276735\n",
      "  Iteration 46: 0.057169939390587\n",
      "  Iteration 47: 0.05477645439880081\n",
      "  Iteration 48: 0.05239478096370133\n",
      "  Iteration 49: 0.05020163118498281\n",
      "  Iteration 50: 0.04802749365422031\n",
      "  Iteration 51: 0.04604702670333349\n",
      "  Iteration 52: 0.0441540200240234\n",
      "  Iteration 53: 0.042262499434087594\n",
      "  Iteration 54: 0.04045609305737705\n",
      "  Iteration 55: 0.038783830489675396\n",
      "  Iteration 56: 0.03725076667043374\n",
      "  Iteration 57: 0.03567827747973124\n",
      "  Iteration 58: 0.03421919748610992\n",
      "  Iteration 59: 0.032781732423710526\n",
      "  Iteration 60: 0.03151097841776926\n",
      "  Iteration 61: 0.030227702957981117\n",
      "  Iteration 62: 0.028971799003029493\n",
      "  Iteration 63: 0.02780649989175472\n",
      "  Iteration 64: 0.02674848171348139\n",
      "  Iteration 65: 0.025597223976244657\n",
      "  Iteration 66: 0.024503652191746054\n",
      "  Iteration 67: 0.023496902491605378\n",
      "  Iteration 68: 0.022619950346638464\n",
      "  Iteration 69: 0.021652312152468607\n",
      "  Iteration 70: 0.020790514248044126\n",
      "  Iteration 71: 0.019907426861523077\n",
      "  Iteration 72: 0.019065907244048014\n",
      "  Iteration 73: 0.01833710067851213\n",
      "  Iteration 74: 0.017613533763192236\n",
      "  Iteration 75: 0.01687467679930333\n",
      "  Iteration 76: 0.016238098066231013\n",
      "  Iteration 77: 0.015603005461548957\n",
      "  Iteration 78: 0.014952068173108185\n",
      "  Iteration 79: 0.01437493254212895\n",
      "  Iteration 80: 0.013778114659919\n",
      "  Iteration 81: 0.013258018139458667\n",
      "  Iteration 82: 0.012748332449787403\n",
      "  Iteration 83: 0.01227360748732458\n",
      "  Iteration 84: 0.011768375138869384\n",
      "  Iteration 85: 0.011321032450573826\n",
      "  Iteration 86: 0.010904280160029261\n",
      "  Iteration 87: 0.010458081352402447\n",
      "  Iteration 88: 0.010010992668857629\n",
      "  Iteration 89: 0.009633722348669962\n",
      "  Iteration 90: 0.009283072537826148\n",
      "  Iteration 91: 0.008888317714288635\n",
      "  Iteration 92: 0.008556467501964489\n",
      "  Iteration 93: 0.008195056341443109\n",
      "  Iteration 94: 0.00789986063872992\n",
      "  Iteration 95: 0.007607618723740021\n",
      "  Iteration 96: 0.007287950240403037\n",
      "  Iteration 97: 0.006997132579957809\n",
      "  Iteration 98: 0.006747793884670803\n",
      "  Iteration 99: 0.006500211679209751\n",
      "  Iteration 100: 0.0062296283830208165\n",
      "valid - binary_logloss:\n",
      "  Iteration 1: 0.5894378311191016\n",
      "  Iteration 2: 0.5476931372674004\n",
      "  Iteration 3: 0.5103116673595377\n",
      "  Iteration 4: 0.4765796449815406\n",
      "  Iteration 5: 0.44595252903711147\n",
      "  Iteration 6: 0.41800334145214074\n",
      "  Iteration 7: 0.3923897328620192\n",
      "  Iteration 8: 0.368832103026671\n",
      "  Iteration 9: 0.3470985253161487\n",
      "  Iteration 10: 0.3269940681119045\n",
      "  Iteration 11: 0.30835302537219766\n",
      "  Iteration 12: 0.2910331432800769\n",
      "  Iteration 13: 0.2749112413209749\n",
      "  Iteration 14: 0.2595267035258446\n",
      "  Iteration 15: 0.2451429368409141\n",
      "  Iteration 16: 0.23198988287009273\n",
      "  Iteration 17: 0.21939485522173635\n",
      "  Iteration 18: 0.20757480166921416\n",
      "  Iteration 19: 0.19673038527473308\n",
      "  Iteration 20: 0.18631241782840088\n",
      "  Iteration 21: 0.1765064614615712\n",
      "  Iteration 22: 0.16730087865955967\n",
      "  Iteration 23: 0.1586236540428413\n",
      "  Iteration 24: 0.1504376232712111\n",
      "  Iteration 25: 0.14274088828633358\n",
      "  Iteration 26: 0.13546983542156135\n",
      "  Iteration 27: 0.12859323642299472\n",
      "  Iteration 28: 0.12212158770646137\n",
      "  Iteration 29: 0.11602041032324957\n",
      "  Iteration 30: 0.11040321270085983\n",
      "  Iteration 31: 0.10490340851981989\n",
      "  Iteration 32: 0.09971919429959336\n",
      "  Iteration 33: 0.09480961058541688\n",
      "  Iteration 34: 0.0903002653573408\n",
      "  Iteration 35: 0.085903002047103\n",
      "  Iteration 36: 0.08186395526316344\n",
      "  Iteration 37: 0.07790441921766371\n",
      "  Iteration 38: 0.07411744469056655\n",
      "  Iteration 39: 0.07068403393091675\n",
      "  Iteration 40: 0.06730592409483066\n",
      "  Iteration 41: 0.06409829086633968\n",
      "  Iteration 42: 0.0611608088218123\n",
      "  Iteration 43: 0.05827697940480994\n",
      "  Iteration 44: 0.055536621028356006\n",
      "  Iteration 45: 0.05293158438257722\n",
      "  Iteration 46: 0.05053037851487978\n",
      "  Iteration 47: 0.04813695994153219\n",
      "  Iteration 48: 0.04590080430397293\n",
      "  Iteration 49: 0.04383973430474733\n",
      "  Iteration 50: 0.04181245442478131\n",
      "  Iteration 51: 0.039953950539678734\n",
      "  Iteration 52: 0.03808274403908121\n",
      "  Iteration 53: 0.036339444957437475\n",
      "  Iteration 54: 0.034679131493625955\n",
      "  Iteration 55: 0.03311113040586521\n",
      "  Iteration 56: 0.03160924763370488\n",
      "  Iteration 57: 0.030181199262806768\n",
      "  Iteration 58: 0.028822318764214722\n",
      "  Iteration 59: 0.027526295231079332\n",
      "  Iteration 60: 0.026290571341613597\n",
      "  Iteration 61: 0.025148077787473425\n",
      "  Iteration 62: 0.024028828181364825\n",
      "  Iteration 63: 0.022992710682823606\n",
      "  Iteration 64: 0.021972710757920188\n",
      "  Iteration 65: 0.02086914319912964\n",
      "  Iteration 66: 0.019822251519855217\n",
      "  Iteration 67: 0.01895067094646425\n",
      "  Iteration 68: 0.018118366062512225\n",
      "  Iteration 69: 0.01729564376066705\n",
      "  Iteration 70: 0.016564132566195\n",
      "  Iteration 71: 0.015815828838457398\n",
      "  Iteration 72: 0.015103394218086147\n",
      "  Iteration 73: 0.014437266317345158\n",
      "  Iteration 74: 0.013828615615390321\n",
      "  Iteration 75: 0.013209883935824911\n",
      "  Iteration 76: 0.01263114913234509\n",
      "  Iteration 77: 0.012103919113760945\n",
      "  Iteration 78: 0.01156519510288093\n",
      "  Iteration 79: 0.011087118467008557\n",
      "  Iteration 80: 0.010596031273126066\n",
      "  Iteration 81: 0.010148782195030657\n",
      "  Iteration 82: 0.009665010334090268\n",
      "  Iteration 83: 0.009260496539363566\n",
      "  Iteration 84: 0.008854079903510424\n",
      "  Iteration 85: 0.008494523730654936\n",
      "  Iteration 86: 0.008141302196953984\n",
      "  Iteration 87: 0.007785980578692958\n",
      "  Iteration 88: 0.007430027151655045\n",
      "  Iteration 89: 0.007130640896388864\n",
      "  Iteration 90: 0.0068351988528243856\n",
      "  Iteration 91: 0.006523948340342039\n",
      "  Iteration 92: 0.006262062618562655\n",
      "  Iteration 93: 0.0059780317966570485\n",
      "  Iteration 94: 0.005731675856186469\n",
      "  Iteration 95: 0.005503412012557913\n",
      "  Iteration 96: 0.005254785720624557\n",
      "  Iteration 97: 0.005029194825795933\n",
      "  Iteration 98: 0.00482248348811245\n",
      "  Iteration 99: 0.004631298901802782\n",
      "  Iteration 100: 0.004423370784977424\n"
     ]
    }
   ],
   "source": [
    "# 输出评估结果\n",
    "print(\"Evaluation results per iteration:\")\n",
    "for dataset in evals_result.keys():\n",
    "    for metric, values in evals_result[dataset].items():\n",
    "        print(f\"{dataset} - {metric}:\")\n",
    "        for i, value in enumerate(values):\n",
    "            print(f\"  Iteration {i+1}: {value}\")\n"
   ]
  },
  {
   "cell_type": "code",
   "execution_count": 55,
   "id": "b75b74c6-eb71-43fa-8b97-2fa6efa0c1c1",
   "metadata": {
    "tags": []
   },
   "outputs": [
    {
     "data": {
      "image/png": "[encoded data removed]",
      "text/plain": [
       "<Figure size 640x480 with 1 Axes>"
      ]
     },
     "metadata": {},
     "output_type": "display_data"
    }
   ],
   "source": [
    "# 可视化每轮迭代的损失值\n",
    "def plot_metric(evals_result, metric_name):\n",
    "    for dataset in evals_result.keys():\n",
    "        metric_values = evals_result[dataset][metric_name]\n",
    "        plt.plot(metric_values, label=f'{dataset} {metric_name}')\n",
    "    plt.xlabel('Iterations')\n",
    "    plt.ylabel(metric_name)\n",
    "    plt.title(f'{metric_name} over iterations')\n",
    "    plt.legend()\n",
    "    plt.show()\n",
    "\n",
    "# 可视化 binary_logloss\n",
    "plot_metric(evals_result, 'binary_logloss')"
   ]
  },
  {
   "cell_type": "markdown",
   "id": "3f530d1e-daad-4e3c-8068-807e047be780",
   "metadata": {},
   "source": [
    "- 回归类问题建模流程"
   ]
  },
  {
   "cell_type": "code",
   "execution_count": 57,
   "id": "1a298fd3-5fe0-4556-b9d0-29dc6846d6a5",
   "metadata": {
    "tags": []
   },
   "outputs": [],
   "source": [
    "data = pd.read_csv(\"train_encode.csv\",index_col=0)\n",
    "features = data.iloc[:, :80]\n",
    "labels = data.iloc[:, 80]\n",
    "X_train, X_test, y_train, y_test = train_test_split(features, labels, test_size=0.2)"
   ]
  },
  {
   "cell_type": "code",
   "execution_count": 58,
   "id": "27c4f25e-9f01-4731-a823-86b22b3d641c",
   "metadata": {
    "tags": []
   },
   "outputs": [
    {
     "data": {
      "text/html": [
       "<div>\n",
       "<style scoped>\n",
       "    .dataframe tbody tr th:only-of-type {\n",
       "        vertical-align: middle;\n",
       "    }\n",
       "\n",
       "    .dataframe tbody tr th {\n",
       "        vertical-align: top;\n",
       "    }\n",
       "\n",
       "    .dataframe thead th {\n",
       "        text-align: right;\n",
       "    }\n",
       "</style>\n",
       "<table border=\"1\" class=\"dataframe\">\n",
       "  <thead>\n",
       "    <tr style=\"text-align: right;\">\n",
       "      <th></th>\n",
       "      <th>Id</th>\n",
       "      <th>住宅类型</th>\n",
       "      <th>住宅区域</th>\n",
       "      <th>街道接触面积(英尺)</th>\n",
       "      <th>住宅面积</th>\n",
       "      <th>街道路面状况</th>\n",
       "      <th>巷子路面状况</th>\n",
       "      <th>住宅形状(大概)</th>\n",
       "      <th>住宅现状</th>\n",
       "      <th>水电气</th>\n",
       "      <th>...</th>\n",
       "      <th>半开放式门廊面积</th>\n",
       "      <th>泳池面积</th>\n",
       "      <th>泳池质量</th>\n",
       "      <th>篱笆质量</th>\n",
       "      <th>其他配置</th>\n",
       "      <th>其他配置的价值</th>\n",
       "      <th>销售月份</th>\n",
       "      <th>销售年份</th>\n",
       "      <th>销售类型</th>\n",
       "      <th>销售状态</th>\n",
       "    </tr>\n",
       "  </thead>\n",
       "  <tbody>\n",
       "    <tr>\n",
       "      <th>235</th>\n",
       "      <td>235.0</td>\n",
       "      <td>12.0</td>\n",
       "      <td>4.0</td>\n",
       "      <td>0.0</td>\n",
       "      <td>6.0</td>\n",
       "      <td>1.0</td>\n",
       "      <td>0.0</td>\n",
       "      <td>3.0</td>\n",
       "      <td>3.0</td>\n",
       "      <td>0.0</td>\n",
       "      <td>...</td>\n",
       "      <td>0.0</td>\n",
       "      <td>0.0</td>\n",
       "      <td>0.0</td>\n",
       "      <td>0.0</td>\n",
       "      <td>0.0</td>\n",
       "      <td>0.0</td>\n",
       "      <td>7.0</td>\n",
       "      <td>2.0</td>\n",
       "      <td>8.0</td>\n",
       "      <td>4.0</td>\n",
       "    </tr>\n",
       "    <tr>\n",
       "      <th>1033</th>\n",
       "      <td>1033.0</td>\n",
       "      <td>0.0</td>\n",
       "      <td>3.0</td>\n",
       "      <td>0.0</td>\n",
       "      <td>292.0</td>\n",
       "      <td>1.0</td>\n",
       "      <td>0.0</td>\n",
       "      <td>3.0</td>\n",
       "      <td>3.0</td>\n",
       "      <td>0.0</td>\n",
       "      <td>...</td>\n",
       "      <td>0.0</td>\n",
       "      <td>0.0</td>\n",
       "      <td>0.0</td>\n",
       "      <td>0.0</td>\n",
       "      <td>0.0</td>\n",
       "      <td>0.0</td>\n",
       "      <td>1.0</td>\n",
       "      <td>0.0</td>\n",
       "      <td>8.0</td>\n",
       "      <td>4.0</td>\n",
       "    </tr>\n",
       "    <tr>\n",
       "      <th>894</th>\n",
       "      <td>894.0</td>\n",
       "      <td>10.0</td>\n",
       "      <td>3.0</td>\n",
       "      <td>35.0</td>\n",
       "      <td>183.0</td>\n",
       "      <td>1.0</td>\n",
       "      <td>0.0</td>\n",
       "      <td>3.0</td>\n",
       "      <td>0.0</td>\n",
       "      <td>0.0</td>\n",
       "      <td>...</td>\n",
       "      <td>0.0</td>\n",
       "      <td>0.0</td>\n",
       "      <td>0.0</td>\n",
       "      <td>0.0</td>\n",
       "      <td>0.0</td>\n",
       "      <td>0.0</td>\n",
       "      <td>5.0</td>\n",
       "      <td>3.0</td>\n",
       "      <td>8.0</td>\n",
       "      <td>2.0</td>\n",
       "    </tr>\n",
       "    <tr>\n",
       "      <th>1379</th>\n",
       "      <td>1379.0</td>\n",
       "      <td>8.0</td>\n",
       "      <td>3.0</td>\n",
       "      <td>44.0</td>\n",
       "      <td>506.0</td>\n",
       "      <td>1.0</td>\n",
       "      <td>0.0</td>\n",
       "      <td>3.0</td>\n",
       "      <td>3.0</td>\n",
       "      <td>0.0</td>\n",
       "      <td>...</td>\n",
       "      <td>0.0</td>\n",
       "      <td>0.0</td>\n",
       "      <td>0.0</td>\n",
       "      <td>0.0</td>\n",
       "      <td>0.0</td>\n",
       "      <td>0.0</td>\n",
       "      <td>4.0</td>\n",
       "      <td>2.0</td>\n",
       "      <td>8.0</td>\n",
       "      <td>4.0</td>\n",
       "    </tr>\n",
       "    <tr>\n",
       "      <th>1313</th>\n",
       "      <td>1313.0</td>\n",
       "      <td>5.0</td>\n",
       "      <td>3.0</td>\n",
       "      <td>79.0</td>\n",
       "      <td>943.0</td>\n",
       "      <td>1.0</td>\n",
       "      <td>0.0</td>\n",
       "      <td>0.0</td>\n",
       "      <td>3.0</td>\n",
       "      <td>0.0</td>\n",
       "      <td>...</td>\n",
       "      <td>0.0</td>\n",
       "      <td>0.0</td>\n",
       "      <td>0.0</td>\n",
       "      <td>0.0</td>\n",
       "      <td>0.0</td>\n",
       "      <td>0.0</td>\n",
       "      <td>4.0</td>\n",
       "      <td>4.0</td>\n",
       "      <td>8.0</td>\n",
       "      <td>4.0</td>\n",
       "    </tr>\n",
       "  </tbody>\n",
       "</table>\n",
       "<p>5 rows × 80 columns</p>\n",
       "</div>"
      ],
      "text/plain": [
       "          Id  住宅类型  住宅区域  街道接触面积(英尺)   住宅面积  街道路面状况  巷子路面状况  住宅形状(大概)  住宅现状  \\\n",
       "235    235.0  12.0   4.0         0.0    6.0     1.0     0.0       3.0   3.0   \n",
       "1033  1033.0   0.0   3.0         0.0  292.0     1.0     0.0       3.0   3.0   \n",
       "894    894.0  10.0   3.0        35.0  183.0     1.0     0.0       3.0   0.0   \n",
       "1379  1379.0   8.0   3.0        44.0  506.0     1.0     0.0       3.0   3.0   \n",
       "1313  1313.0   5.0   3.0        79.0  943.0     1.0     0.0       0.0   3.0   \n",
       "\n",
       "      水电气  ...  半开放式门廊面积  泳池面积  泳池质量  篱笆质量  其他配置  其他配置的价值  销售月份  销售年份  销售类型  \\\n",
       "235   0.0  ...       0.0   0.0   0.0   0.0   0.0      0.0   7.0   2.0   8.0   \n",
       "1033  0.0  ...       0.0   0.0   0.0   0.0   0.0      0.0   1.0   0.0   8.0   \n",
       "894   0.0  ...       0.0   0.0   0.0   0.0   0.0      0.0   5.0   3.0   8.0   \n",
       "1379  0.0  ...       0.0   0.0   0.0   0.0   0.0      0.0   4.0   2.0   8.0   \n",
       "1313  0.0  ...       0.0   0.0   0.0   0.0   0.0      0.0   4.0   4.0   8.0   \n",
       "\n",
       "      销售状态  \n",
       "235    4.0  \n",
       "1033   4.0  \n",
       "894    2.0  \n",
       "1379   4.0  \n",
       "1313   4.0  \n",
       "\n",
       "[5 rows x 80 columns]"
      ]
     },
     "execution_count": 58,
     "metadata": {},
     "output_type": "execute_result"
    }
   ],
   "source": [
    "X_train.head()"
   ]
  },
  {
   "cell_type": "code",
   "execution_count": 59,
   "id": "c09586fc-9707-40ac-a8a6-7f56bef56306",
   "metadata": {
    "tags": []
   },
   "outputs": [
    {
     "data": {
      "text/plain": [
       "235      89500\n",
       "1033    230000\n",
       "894     118858\n",
       "1379    167500\n",
       "1313    333168\n",
       "Name: SalePrice, dtype: int64"
      ]
     },
     "execution_count": 59,
     "metadata": {},
     "output_type": "execute_result"
    }
   ],
   "source": [
    "y_train.head()"
   ]
  },
  {
   "cell_type": "code",
   "execution_count": 61,
   "id": "227bdd73-ef82-443e-ae9d-b924334c1604",
   "metadata": {
    "tags": []
   },
   "outputs": [],
   "source": [
    "from sklearn.metrics import mean_squared_error"
   ]
  },
  {
   "cell_type": "code",
   "execution_count": 62,
   "id": "af8439fb-3366-402c-a6da-fab22c8affdb",
   "metadata": {
    "tags": []
   },
   "outputs": [
    {
     "name": "stderr",
     "output_type": "stream",
     "text": [
      "C:\\ProgramData\\anaconda3\\lib\\site-packages\\lightgbm\\engine.py:181: UserWarning: 'early_stopping_rounds' argument is deprecated and will be removed in a future release of LightGBM. Pass 'early_stopping()' callback via 'callbacks' argument instead.\n",
      "  _log_warning(\"'early_stopping_rounds' argument is deprecated and will be removed in a future release of LightGBM. \"\n",
      "C:\\ProgramData\\anaconda3\\lib\\site-packages\\lightgbm\\engine.py:239: UserWarning: 'verbose_eval' argument is deprecated and will be removed in a future release of LightGBM. Pass 'log_evaluation()' callback via 'callbacks' argument instead.\n",
      "  _log_warning(\"'verbose_eval' argument is deprecated and will be removed in a future release of LightGBM. \"\n",
      "C:\\ProgramData\\anaconda3\\lib\\site-packages\\lightgbm\\engine.py:260: UserWarning: 'evals_result' argument is deprecated and will be removed in a future release of LightGBM. Pass 'record_evaluation()' callback via 'callbacks' argument instead.\n",
      "  _log_warning(\"'evals_result' argument is deprecated and will be removed in a future release of LightGBM. \"\n"
     ]
    },
    {
     "name": "stdout",
     "output_type": "stream",
     "text": [
      "[LightGBM] [Warning] Auto-choosing col-wise multi-threading, the overhead of testing was 0.002324 seconds.\n",
      "You can set `force_col_wise=true` to remove the overhead.\n",
      "[LightGBM] [Info] Total Bins 3359\n",
      "[LightGBM] [Info] Number of data points in the train set: 1168, number of used features: 73\n",
      "[LightGBM] [Info] Start training from score 182442.585616\n",
      "Training until validation scores don't improve for 10 rounds\n",
      "[10]\ttrain's l2: 3.01047e+09\tvalid's l2: 2.20331e+09\n",
      "[20]\ttrain's l2: 1.56227e+09\tvalid's l2: 1.37312e+09\n",
      "[30]\ttrain's l2: 9.23785e+08\tvalid's l2: 1.10187e+09\n",
      "[40]\ttrain's l2: 6.32706e+08\tvalid's l2: 1.00892e+09\n",
      "[50]\ttrain's l2: 4.90466e+08\tvalid's l2: 9.94278e+08\n",
      "[60]\ttrain's l2: 4.08958e+08\tvalid's l2: 9.88508e+08\n",
      "Early stopping, best iteration is:\n",
      "[57]\ttrain's l2: 4.29686e+08\tvalid's l2: 9.8783e+08\n",
      "Mean Squared Error on test data: 987829652.0492798\n"
     ]
    }
   ],
   "source": [
    "# 3. 创建LightGBM的数据集\n",
    "train_data = lgb.Dataset(X_train, label=y_train)\n",
    "valid_data = lgb.Dataset(X_test, label=y_test, reference=train_data)\n",
    "\n",
    "# 4. 设置参数\n",
    "params = {\n",
    "    'boosting_type': 'gbdt',\n",
    "    'objective': 'regression',\n",
    "    'metric': 'l2',  # 使用均方误差作为评估指标\n",
    "    'num_leaves': 31,\n",
    "    'learning_rate': 0.05,\n",
    "    'feature_fraction': 0.9\n",
    "}\n",
    "\n",
    "# 5. 存储评估结果\n",
    "evals_result = {}\n",
    "\n",
    "# 6. 训练模型\n",
    "bst = lgb.train(params, train_data, num_boost_round=100, valid_sets=[train_data, valid_data], valid_names=['train', 'valid'],\n",
    "                early_stopping_rounds=10, evals_result=evals_result, verbose_eval=10)\n",
    "\n",
    "# 7. 预测和评估\n",
    "y_pred = bst.predict(X_test, num_iteration=bst.best_iteration)\n",
    "mse = mean_squared_error(y_test, y_pred)\n",
    "print(f'Mean Squared Error on test data: {mse}')"
   ]
  },
  {
   "cell_type": "code",
   "execution_count": 63,
   "id": "7c02e776-ddc5-4d00-964b-de652d395a1f",
   "metadata": {
    "tags": []
   },
   "outputs": [],
   "source": [
    "# 8. 可视化训练集和测试集的损失值变化曲线\n",
    "def plot_metric(evals_result, metric_name):\n",
    "    plt.figure(figsize=(10, 5))\n",
    "    \n",
    "    for dataset in evals_result.keys():\n",
    "        metric_values = evals_result[dataset][metric_name]\n",
    "        plt.plot(metric_values, label=f'{dataset} {metric_name}')\n",
    "    \n",
    "    # 设置纵坐标范围，使变化更明显\n",
    "    plt.ylim(min(metric_values) * 0.9, max(metric_values) * 1.1)\n",
    "    \n",
    "    # 添加网格、标题和标签\n",
    "    plt.grid(True)\n",
    "    plt.xlabel('Iterations')\n",
    "    plt.ylabel(metric_name)\n",
    "    plt.title(f'{metric_name} over iterations')\n",
    "    plt.legend()\n",
    "    plt.show()"
   ]
  },
  {
   "cell_type": "code",
   "execution_count": 64,
   "id": "3b1b78e2-6edb-401b-8000-6a9a3ddae384",
   "metadata": {
    "tags": []
   },
   "outputs": [
    {
     "data": {
      "image/png": "[encoded data removed]",
      "text/plain": [
       "<Figure size 1000x500 with 1 Axes>"
      ]
     },
     "metadata": {},
     "output_type": "display_data"
    }
   ],
   "source": [
    "# 可视化 l2 loss\n",
    "plot_metric(evals_result, 'l2')"
   ]
  },
  {
   "cell_type": "markdown",
   "id": "20462d78-884f-4d6a-96c6-218f93f364c3",
   "metadata": {},
   "source": [
    "- lgb.cv：自动交叉验证训练方法"
   ]
  },
  {
   "cell_type": "code",
   "execution_count": 66,
   "id": "8f0c57c1-abe8-475a-85d9-1ffd5d40ff36",
   "metadata": {
    "collapsed": true,
    "jupyter": {
     "outputs_hidden": true
    },
    "tags": []
   },
   "outputs": [
    {
     "data": {
      "text/plain": [
       "\u001b[1;31mSignature:\u001b[0m\n",
       "\u001b[0mlgb\u001b[0m\u001b[1;33m.\u001b[0m\u001b[0mcv\u001b[0m\u001b[1;33m(\u001b[0m\u001b[1;33m\n",
       "\u001b[0m    \u001b[0mparams\u001b[0m\u001b[1;33m,\u001b[0m\u001b[1;33m\n",
       "\u001b[0m    \u001b[0mtrain_set\u001b[0m\u001b[1;33m,\u001b[0m\u001b[1;33m\n",
       "\u001b[0m    \u001b[0mnum_boost_round\u001b[0m\u001b[1;33m=\u001b[0m\u001b[1;36m100\u001b[0m\u001b[1;33m,\u001b[0m\u001b[1;33m\n",
       "\u001b[0m    \u001b[0mfolds\u001b[0m\u001b[1;33m=\u001b[0m\u001b[1;32mNone\u001b[0m\u001b[1;33m,\u001b[0m\u001b[1;33m\n",
       "\u001b[0m    \u001b[0mnfold\u001b[0m\u001b[1;33m=\u001b[0m\u001b[1;36m5\u001b[0m\u001b[1;33m,\u001b[0m\u001b[1;33m\n",
       "\u001b[0m    \u001b[0mstratified\u001b[0m\u001b[1;33m=\u001b[0m\u001b[1;32mTrue\u001b[0m\u001b[1;33m,\u001b[0m\u001b[1;33m\n",
       "\u001b[0m    \u001b[0mshuffle\u001b[0m\u001b[1;33m=\u001b[0m\u001b[1;32mTrue\u001b[0m\u001b[1;33m,\u001b[0m\u001b[1;33m\n",
       "\u001b[0m    \u001b[0mmetrics\u001b[0m\u001b[1;33m=\u001b[0m\u001b[1;32mNone\u001b[0m\u001b[1;33m,\u001b[0m\u001b[1;33m\n",
       "\u001b[0m    \u001b[0mfobj\u001b[0m\u001b[1;33m=\u001b[0m\u001b[1;32mNone\u001b[0m\u001b[1;33m,\u001b[0m\u001b[1;33m\n",
       "\u001b[0m    \u001b[0mfeval\u001b[0m\u001b[1;33m=\u001b[0m\u001b[1;32mNone\u001b[0m\u001b[1;33m,\u001b[0m\u001b[1;33m\n",
       "\u001b[0m    \u001b[0minit_model\u001b[0m\u001b[1;33m=\u001b[0m\u001b[1;32mNone\u001b[0m\u001b[1;33m,\u001b[0m\u001b[1;33m\n",
       "\u001b[0m    \u001b[0mfeature_name\u001b[0m\u001b[1;33m=\u001b[0m\u001b[1;34m'auto'\u001b[0m\u001b[1;33m,\u001b[0m\u001b[1;33m\n",
       "\u001b[0m    \u001b[0mcategorical_feature\u001b[0m\u001b[1;33m=\u001b[0m\u001b[1;34m'auto'\u001b[0m\u001b[1;33m,\u001b[0m\u001b[1;33m\n",
       "\u001b[0m    \u001b[0mearly_stopping_rounds\u001b[0m\u001b[1;33m=\u001b[0m\u001b[1;32mNone\u001b[0m\u001b[1;33m,\u001b[0m\u001b[1;33m\n",
       "\u001b[0m    \u001b[0mfpreproc\u001b[0m\u001b[1;33m=\u001b[0m\u001b[1;32mNone\u001b[0m\u001b[1;33m,\u001b[0m\u001b[1;33m\n",
       "\u001b[0m    \u001b[0mverbose_eval\u001b[0m\u001b[1;33m=\u001b[0m\u001b[1;32mNone\u001b[0m\u001b[1;33m,\u001b[0m\u001b[1;33m\n",
       "\u001b[0m    \u001b[0mshow_stdv\u001b[0m\u001b[1;33m=\u001b[0m\u001b[1;32mTrue\u001b[0m\u001b[1;33m,\u001b[0m\u001b[1;33m\n",
       "\u001b[0m    \u001b[0mseed\u001b[0m\u001b[1;33m=\u001b[0m\u001b[1;36m0\u001b[0m\u001b[1;33m,\u001b[0m\u001b[1;33m\n",
       "\u001b[0m    \u001b[0mcallbacks\u001b[0m\u001b[1;33m=\u001b[0m\u001b[1;32mNone\u001b[0m\u001b[1;33m,\u001b[0m\u001b[1;33m\n",
       "\u001b[0m    \u001b[0meval_train_metric\u001b[0m\u001b[1;33m=\u001b[0m\u001b[1;32mFalse\u001b[0m\u001b[1;33m,\u001b[0m\u001b[1;33m\n",
       "\u001b[0m    \u001b[0mreturn_cvbooster\u001b[0m\u001b[1;33m=\u001b[0m\u001b[1;32mFalse\u001b[0m\u001b[1;33m,\u001b[0m\u001b[1;33m\n",
       "\u001b[0m\u001b[1;33m)\u001b[0m\u001b[1;33m\u001b[0m\u001b[1;33m\u001b[0m\u001b[0m\n",
       "\u001b[1;31mDocstring:\u001b[0m\n",
       "Perform the cross-validation with given parameters.\n",
       "\n",
       "Parameters\n",
       "----------\n",
       "params : dict\n",
       "    Parameters for Booster.\n",
       "train_set : Dataset\n",
       "    Data to be trained on.\n",
       "num_boost_round : int, optional (default=100)\n",
       "    Number of boosting iterations.\n",
       "folds : generator or iterator of (train_idx, test_idx) tuples, scikit-learn splitter object or None, optional (default=None)\n",
       "    If generator or iterator, it should yield the train and test indices for each fold.\n",
       "    If object, it should be one of the scikit-learn splitter classes\n",
       "    (https://scikit-learn.org/stable/modules/classes.html#splitter-classes)\n",
       "    and have ``split`` method.\n",
       "    This argument has highest priority over other data split arguments.\n",
       "nfold : int, optional (default=5)\n",
       "    Number of folds in CV.\n",
       "stratified : bool, optional (default=True)\n",
       "    Whether to perform stratified sampling.\n",
       "shuffle : bool, optional (default=True)\n",
       "    Whether to shuffle before splitting data.\n",
       "metrics : str, list of str, or None, optional (default=None)\n",
       "    Evaluation metrics to be monitored while CV.\n",
       "    If not None, the metric in ``params`` will be overridden.\n",
       "fobj : callable or None, optional (default=None)\n",
       "    Customized objective function.\n",
       "    Should accept two parameters: preds, train_data,\n",
       "    and return (grad, hess).\n",
       "\n",
       "        preds : list or numpy 1-D array\n",
       "            The predicted values.\n",
       "            Predicted values are returned before any transformation,\n",
       "            e.g. they are raw margin instead of probability of positive class for binary task.\n",
       "        train_data : Dataset\n",
       "            The training dataset.\n",
       "        grad : list or numpy 1-D array\n",
       "            The value of the first order derivative (gradient) of the loss\n",
       "            with respect to the elements of preds for each sample point.\n",
       "        hess : list or numpy 1-D array\n",
       "            The value of the second order derivative (Hessian) of the loss\n",
       "            with respect to the elements of preds for each sample point.\n",
       "\n",
       "    For multi-class task, the preds is group by class_id first, then group by row_id.\n",
       "    If you want to get i-th row preds in j-th class, the access way is score[j * num_data + i]\n",
       "    and you should group grad and hess in this way as well.\n",
       "\n",
       "feval : callable, list of callable, or None, optional (default=None)\n",
       "    Customized evaluation function.\n",
       "    Each evaluation function should accept two parameters: preds, train_data,\n",
       "    and return (eval_name, eval_result, is_higher_better) or list of such tuples.\n",
       "\n",
       "        preds : list or numpy 1-D array\n",
       "            The predicted values.\n",
       "            If ``fobj`` is specified, predicted values are returned before any transformation,\n",
       "            e.g. they are raw margin instead of probability of positive class for binary task in this case.\n",
       "        train_data : Dataset\n",
       "            The training dataset.\n",
       "        eval_name : str\n",
       "            The name of evaluation function (without whitespace).\n",
       "        eval_result : float\n",
       "            The eval result.\n",
       "        is_higher_better : bool\n",
       "            Is eval result higher better, e.g. AUC is ``is_higher_better``.\n",
       "\n",
       "    For multi-class task, the preds is group by class_id first, then group by row_id.\n",
       "    If you want to get i-th row preds in j-th class, the access way is preds[j * num_data + i].\n",
       "    To ignore the default metric corresponding to the used objective,\n",
       "    set ``metrics`` to the string ``\"None\"``.\n",
       "init_model : str, pathlib.Path, Booster or None, optional (default=None)\n",
       "    Filename of LightGBM model or Booster instance used for continue training.\n",
       "feature_name : list of str, or 'auto', optional (default=\"auto\")\n",
       "    Feature names.\n",
       "    If 'auto' and data is pandas DataFrame, data columns names are used.\n",
       "categorical_feature : list of str or int, or 'auto', optional (default=\"auto\")\n",
       "    Categorical features.\n",
       "    If list of int, interpreted as indices.\n",
       "    If list of str, interpreted as feature names (need to specify ``feature_name`` as well).\n",
       "    If 'auto' and data is pandas DataFrame, pandas unordered categorical columns are used.\n",
       "    All values in categorical features should be less than int32 max value (2147483647).\n",
       "    Large values could be memory consuming. Consider using consecutive integers starting from zero.\n",
       "    All negative values in categorical features will be treated as missing values.\n",
       "    The output cannot be monotonically constrained with respect to a categorical feature.\n",
       "early_stopping_rounds : int or None, optional (default=None)\n",
       "    Activates early stopping.\n",
       "    CV score needs to improve at least every ``early_stopping_rounds`` round(s)\n",
       "    to continue.\n",
       "    Requires at least one metric. If there's more than one, will check all of them.\n",
       "    To check only the first metric, set the ``first_metric_only`` parameter to ``True`` in ``params``.\n",
       "    Last entry in evaluation history is the one from the best iteration.\n",
       "fpreproc : callable or None, optional (default=None)\n",
       "    Preprocessing function that takes (dtrain, dtest, params)\n",
       "    and returns transformed versions of those.\n",
       "verbose_eval : bool, int, or None, optional (default=None)\n",
       "    Whether to display the progress.\n",
       "    If True, progress will be displayed at every boosting stage.\n",
       "    If int, progress will be displayed at every given ``verbose_eval`` boosting stage.\n",
       "show_stdv : bool, optional (default=True)\n",
       "    Whether to display the standard deviation in progress.\n",
       "    Results are not affected by this parameter, and always contain std.\n",
       "seed : int, optional (default=0)\n",
       "    Seed used to generate the folds (passed to numpy.random.seed).\n",
       "callbacks : list of callable, or None, optional (default=None)\n",
       "    List of callback functions that are applied at each iteration.\n",
       "    See Callbacks in Python API for more information.\n",
       "eval_train_metric : bool, optional (default=False)\n",
       "    Whether to display the train metric in progress.\n",
       "    The score of the metric is calculated again after each training step, so there is some impact on performance.\n",
       "return_cvbooster : bool, optional (default=False)\n",
       "    Whether to return Booster models trained on each fold through ``CVBooster``.\n",
       "\n",
       "Returns\n",
       "-------\n",
       "eval_hist : dict\n",
       "    Evaluation history.\n",
       "    The dictionary has the following format:\n",
       "    {'metric1-mean': [values], 'metric1-stdv': [values],\n",
       "    'metric2-mean': [values], 'metric2-stdv': [values],\n",
       "    ...}.\n",
       "    If ``return_cvbooster=True``, also returns trained boosters via ``cvbooster`` key.\n",
       "\u001b[1;31mFile:\u001b[0m      c:\\programdata\\anaconda3\\lib\\site-packages\\lightgbm\\engine.py\n",
       "\u001b[1;31mType:\u001b[0m      function"
      ]
     },
     "metadata": {},
     "output_type": "display_data"
    }
   ],
   "source": [
    "lgb.cv?"
   ]
  },
  {
   "cell_type": "markdown",
   "id": "20f48d05-df19-4d09-acd2-478ee7c03cf6",
   "metadata": {},
   "source": [
    "lgb.cv特有的一些参数如下：\n",
    "\n",
    "- nfold: 折数，指定交叉验证的折数（例如 5 表示 5 折交叉验证）。\n",
    "- stratified: 布尔值，是否进行分层抽样，主要用于分类任务，确保每个折中类别比例一致。\n",
    "- shuffle: 布尔值，是否在每次分割前进行数据洗牌。\n",
    "- metrics: 自定义评估指标，可以是一个字符串或列表，指定要监控的评估指标。\n",
    "- folds: 用户自定义的交叉验证折叠生成器，可以替代 nfold 和 shuffle 参数。\n",
    "- seed: 随机种子，用于数据分割和特征的随机化。\n",
    "- eval_train_metric: 布尔值，是否在训练过程中输出训练数据的评估指标。\n",
    "- return_cvbooster: 布尔值，是否返回交叉验证中的每个模型。"
   ]
  },
  {
   "cell_type": "code",
   "execution_count": 89,
   "id": "0965dcad-ba39-4bf4-b64d-ed660f453c35",
   "metadata": {
    "tags": []
   },
   "outputs": [],
   "source": [
    "data = pd.read_csv(\"train_encode.csv\",index_col=0)\n",
    "features = data.iloc[:, :80]\n",
    "labels = data.iloc[:, 80]\n",
    "X_train, X_test, y_train, y_test = train_test_split(features, labels, test_size=0.2)"
   ]
  },
  {
   "cell_type": "code",
   "execution_count": 90,
   "id": "d7cdc450-1ce0-413f-8b59-adb6c2c8bfe4",
   "metadata": {
    "tags": []
   },
   "outputs": [
    {
     "name": "stderr",
     "output_type": "stream",
     "text": [
      "C:\\ProgramData\\anaconda3\\lib\\site-packages\\lightgbm\\engine.py:577: UserWarning: 'early_stopping_rounds' argument is deprecated and will be removed in a future release of LightGBM. Pass 'early_stopping()' callback via 'callbacks' argument instead.\n",
      "  _log_warning(\"'early_stopping_rounds' argument is deprecated and will be removed in a future release of LightGBM. \"\n",
      "C:\\ProgramData\\anaconda3\\lib\\site-packages\\lightgbm\\engine.py:620: UserWarning: 'verbose_eval' argument is deprecated and will be removed in a future release of LightGBM. Pass 'log_evaluation()' callback via 'callbacks' argument instead.\n",
      "  _log_warning(\"'verbose_eval' argument is deprecated and will be removed in a future release of LightGBM. \"\n"
     ]
    },
    {
     "name": "stdout",
     "output_type": "stream",
     "text": [
      "[LightGBM] [Warning] Auto-choosing col-wise multi-threading, the overhead of testing was 0.002441 seconds.\n",
      "You can set `force_col_wise=true` to remove the overhead.\n",
      "[LightGBM] [Info] Total Bins 3356\n",
      "[LightGBM] [Info] Number of data points in the train set: 932, number of used features: 74\n",
      "[LightGBM] [Warning] Auto-choosing col-wise multi-threading, the overhead of testing was 0.002496 seconds.\n",
      "You can set `force_col_wise=true` to remove the overhead.\n",
      "[LightGBM] [Info] Total Bins 3356\n",
      "[LightGBM] [Info] Number of data points in the train set: 932, number of used features: 74\n",
      "[LightGBM] [Warning] Auto-choosing col-wise multi-threading, the overhead of testing was 0.002523 seconds.\n",
      "You can set `force_col_wise=true` to remove the overhead.\n",
      "[LightGBM] [Info] Total Bins 3356\n",
      "[LightGBM] [Info] Number of data points in the train set: 932, number of used features: 74\n",
      "[LightGBM] [Warning] Auto-choosing col-wise multi-threading, the overhead of testing was 0.002480 seconds.\n",
      "You can set `force_col_wise=true` to remove the overhead.\n",
      "[LightGBM] [Info] Total Bins 3356\n",
      "[LightGBM] [Info] Number of data points in the train set: 932, number of used features: 74\n",
      "[LightGBM] [Warning] Auto-choosing col-wise multi-threading, the overhead of testing was 0.002521 seconds.\n",
      "You can set `force_col_wise=true` to remove the overhead.\n",
      "[LightGBM] [Info] Total Bins 3356\n",
      "[LightGBM] [Info] Number of data points in the train set: 932, number of used features: 74\n",
      "[LightGBM] [Info] Start training from score 180418.329399\n",
      "[LightGBM] [Info] Start training from score 182896.923820\n",
      "[LightGBM] [Info] Start training from score 180673.828326\n",
      "[LightGBM] [Info] Start training from score 181745.486052\n",
      "[LightGBM] [Info] Start training from score 180272.110515\n",
      "[10]\tcv_agg's l2: 3.34083e+09 + 7.70813e+08\n",
      "[20]\tcv_agg's l2: 2.01101e+09 + 5.27166e+08\n",
      "[30]\tcv_agg's l2: 1.42394e+09 + 3.74057e+08\n",
      "[40]\tcv_agg's l2: 1.16244e+09 + 3.00918e+08\n",
      "[50]\tcv_agg's l2: 1.04529e+09 + 2.92331e+08\n",
      "[60]\tcv_agg's l2: 9.90691e+08 + 2.92704e+08\n",
      "[70]\tcv_agg's l2: 9.57944e+08 + 3.09438e+08\n",
      "[80]\tcv_agg's l2: 9.40577e+08 + 3.19895e+08\n",
      "[90]\tcv_agg's l2: 9.4037e+08 + 3.28149e+08\n"
     ]
    }
   ],
   "source": [
    "# 3. 创建LightGBM的训练数据集\n",
    "train_data = lgb.Dataset(X_train, label=y_train)\n",
    "\n",
    "# 4. 设置参数\n",
    "params = {\n",
    "    'boosting_type': 'gbdt',\n",
    "    'objective': 'regression',\n",
    "    'metric': 'l2',  # 使用均方误差作为评估指标\n",
    "    'num_leaves': 31,\n",
    "    'learning_rate': 0.05,\n",
    "    'feature_fraction': 0.9\n",
    "}\n",
    "\n",
    "# 5. 使用lgb.cv在训练集上进行交叉验证，并记录每轮迭代的训练和验证损失值\n",
    "cv_results = lgb.cv(params, train_data, num_boost_round=100, nfold=5, stratified=False, shuffle=True,\n",
    "                    metrics='l2', early_stopping_rounds=10, verbose_eval=10, seed=42, return_cvbooster=True)"
   ]
  },
  {
   "cell_type": "code",
   "execution_count": 96,
   "id": "01b7a5e5-437b-4f4b-a0b1-420f1c3ea865",
   "metadata": {
    "tags": []
   },
   "outputs": [],
   "source": [
    "# 获取每个折叠的模型\n",
    "cvbooster = cv_results['cvbooster']\n",
    "\n",
    "# 初始化记录训练集和测试集损失值的列表\n",
    "train_loss = np.zeros(100)\n",
    "test_loss = np.zeros(100)"
   ]
  },
  {
   "cell_type": "code",
   "execution_count": 97,
   "id": "e025e0f0-7103-4866-9aa0-4b231277a7d3",
   "metadata": {
    "tags": []
   },
   "outputs": [],
   "source": [
    "# 在训练集和测试集上计算损失值\n",
    "for booster in cvbooster.boosters:\n",
    "    for i in range(1, 101):\n",
    "        # 预测训练集和测试集\n",
    "        train_preds = booster.predict(X_train, num_iteration=i)\n",
    "        test_preds = booster.predict(X_test, num_iteration=i)\n",
    "        \n",
    "        # 计算每轮的损失值\n",
    "        train_loss[i-1] += mean_squared_error(y_train, train_preds)\n",
    "        test_loss[i-1] += mean_squared_error(y_test, test_preds)\n",
    "\n",
    "# 平均每个折叠的损失值\n",
    "train_loss /= len(cvbooster.boosters)\n",
    "test_loss /= len(cvbooster.boosters)"
   ]
  },
  {
   "cell_type": "code",
   "execution_count": 98,
   "id": "11f8cb02-be8f-4184-8295-b5d7de8c6a82",
   "metadata": {
    "tags": []
   },
   "outputs": [
    {
     "data": {
      "text/plain": [
       "array([6.17734015e+09, 5.69791466e+09, 5.26827077e+09, 4.87044602e+09,\n",
       "       4.51069728e+09, 4.18446473e+09, 3.88253916e+09, 3.61016548e+09,\n",
       "       3.36292681e+09, 3.13831471e+09, 2.93176166e+09, 2.74384130e+09,\n",
       "       2.57324292e+09, 2.41616498e+09, 2.27293617e+09, 2.14107293e+09,\n",
       "       2.01532710e+09, 1.90550685e+09, 1.80676561e+09, 1.71667908e+09,\n",
       "       1.62948941e+09, 1.55208644e+09, 1.48103833e+09, 1.41542426e+09,\n",
       "       1.34857688e+09, 1.28851293e+09, 1.23554069e+09, 1.18395472e+09,\n",
       "       1.13750904e+09, 1.09609674e+09, 1.05541595e+09, 1.01833852e+09,\n",
       "       9.85567345e+08, 9.53504588e+08, 9.24835071e+08, 8.99761441e+08,\n",
       "       8.76329807e+08, 8.52707778e+08, 8.31785983e+08, 8.12311058e+08,\n",
       "       7.94257519e+08, 7.76803123e+08, 7.61001386e+08, 7.46130540e+08,\n",
       "       7.30476872e+08, 7.16651668e+08, 7.02943181e+08, 6.90962499e+08,\n",
       "       6.78724999e+08, 6.66827598e+08, 6.57714442e+08, 6.49134679e+08,\n",
       "       6.41134474e+08, 6.32385773e+08, 6.25134542e+08, 6.15825611e+08,\n",
       "       6.08961451e+08, 6.02873474e+08, 5.95087407e+08, 5.89459302e+08,\n",
       "       5.83382049e+08, 5.77365013e+08, 5.71536470e+08, 5.65700546e+08,\n",
       "       5.59523979e+08, 5.54808076e+08, 5.48982335e+08, 5.43731836e+08,\n",
       "       5.38463221e+08, 5.33557685e+08, 5.29012906e+08, 5.24265828e+08,\n",
       "       5.20305938e+08, 5.16251492e+08, 5.12070200e+08, 5.08262681e+08,\n",
       "       5.04967230e+08, 5.01188779e+08, 4.98167449e+08, 4.94584943e+08,\n",
       "       4.91250291e+08, 4.88175957e+08, 4.85370561e+08, 4.82505818e+08,\n",
       "       4.79798667e+08, 4.77505687e+08, 4.74435142e+08, 4.72097894e+08,\n",
       "       4.69145782e+08, 4.67019668e+08, 4.64656255e+08, 4.62029436e+08,\n",
       "       4.59890122e+08, 4.57820723e+08, 4.55368328e+08, 4.55368328e+08,\n",
       "       4.55368328e+08, 4.55368328e+08, 4.55368328e+08, 4.55368328e+08])"
      ]
     },
     "execution_count": 98,
     "metadata": {},
     "output_type": "execute_result"
    }
   ],
   "source": [
    "train_loss"
   ]
  },
  {
   "cell_type": "code",
   "execution_count": 99,
   "id": "16e6b325-9131-46ad-b15f-dc3bb601cb9b",
   "metadata": {
    "tags": []
   },
   "outputs": [],
   "source": [
    "# 6. 可视化训练集和测试集的损失值变化曲线\n",
    "def plot_loss(train_loss, test_loss):\n",
    "    plt.figure(figsize=(10, 5))\n",
    "    plt.plot(train_loss, label='Train l2 loss')\n",
    "    plt.plot(test_loss, label='Test l2 loss')\n",
    "\n",
    "    # 设置纵坐标范围，使变化更明显\n",
    "    min_loss = min(min(train_loss), min(test_loss))\n",
    "    max_loss = max(max(train_loss), max(test_loss))\n",
    "    plt.ylim(min_loss * 0.9, max_loss * 1.1)\n",
    "    \n",
    "    # 添加网格、标题和标签\n",
    "    plt.grid(True)\n",
    "    plt.xlabel('Iterations')\n",
    "    plt.ylabel('l2 loss')\n",
    "    plt.title('l2 loss over iterations')\n",
    "    plt.legend()\n",
    "    plt.show()"
   ]
  },
  {
   "cell_type": "code",
   "execution_count": 100,
   "id": "ec325fd1-fc56-42e3-af29-05cd1610ee18",
   "metadata": {
    "tags": []
   },
   "outputs": [
    {
     "data": {
      "image/png": "[encoded data removed]",
      "text/plain": [
       "<Figure size 1000x500 with 1 Axes>"
      ]
     },
     "metadata": {},
     "output_type": "display_data"
    }
   ],
   "source": [
    "# 可视化训练集和测试集的 l2 loss\n",
    "plot_loss(train_loss, test_loss)"
   ]
  },
  {
   "cell_type": "markdown",
   "id": "4db9a94a-af53-419b-bdfe-23ac0651d4ff",
   "metadata": {},
   "source": [
    "- 超参数优化"
   ]
  },
  {
   "cell_type": "code",
   "execution_count": 104,
   "id": "06de9900-6209-4dee-a9b8-3d6a80517e64",
   "metadata": {
    "tags": []
   },
   "outputs": [],
   "source": [
    "from hyperopt import hp, fmin, tpe, Trials, STATUS_OK"
   ]
  },
  {
   "cell_type": "code",
   "execution_count": 123,
   "id": "cb51c8c4-3fe4-439d-8ff2-d2b58c4919d2",
   "metadata": {
    "tags": []
   },
   "outputs": [],
   "source": [
    "data = pd.read_csv(\"train_encode.csv\",index_col=0)\n",
    "features = data.iloc[:, :80]\n",
    "labels = data.iloc[:, 80]\n",
    "X_train, X_test, y_train, y_test = train_test_split(features, labels, test_size=0.2)\n",
    "\n",
    "# 创建LightGBM的训练数据集\n",
    "train_data = lgb.Dataset(X_train, label=y_train)"
   ]
  },
  {
   "cell_type": "code",
   "execution_count": 124,
   "id": "5e44cf51-74e9-4eb5-8c3a-aef36f44a977",
   "metadata": {
    "tags": []
   },
   "outputs": [],
   "source": [
    "# 定义参数空间\n",
    "param_space = {\n",
    "    'boosting_type': 'gbdt',\n",
    "    'objective': 'regression',\n",
    "    'metric': 'l2',\n",
    "    'num_leaves': hp.choice('num_leaves', range(20, 150)),\n",
    "    'learning_rate': hp.uniform('learning_rate', 0.01, 0.3),\n",
    "    'feature_fraction': hp.uniform('feature_fraction', 0.5, 1.0),\n",
    "    'bagging_fraction': hp.uniform('bagging_fraction', 0.5, 1.0),\n",
    "    'bagging_freq': hp.choice('bagging_freq', range(1, 10)),\n",
    "    'min_data_in_leaf': hp.choice('min_data_in_leaf', range(20, 150)),\n",
    "    'max_depth': hp.choice('max_depth', range(5, 20)),\n",
    "    'lambda_l1': hp.uniform('lambda_l1', 0.0, 1.0),\n",
    "    'lambda_l2': hp.uniform('lambda_l2', 0.0, 1.0),\n",
    "    'feature_pre_filter': False,  \n",
    "    'verbose': -1  # 设置为-1来减少输出信息\n",
    "}"
   ]
  },
  {
   "cell_type": "code",
   "execution_count": 125,
   "id": "a8ef4a76-96d4-45f3-a5f2-939925d86b81",
   "metadata": {
    "tags": []
   },
   "outputs": [],
   "source": [
    "def objective(params):\n",
    "    # 每次运行时创建新的Dataset对象\n",
    "    train_data = lgb.Dataset(X_train, label=y_train)\n",
    "    \n",
    "    # 使用lgb.cv进行交叉验证\n",
    "    cv_results = lgb.cv(params, train_data, num_boost_round=200, nfold=5, stratified=False, shuffle=True,\n",
    "                        metrics='l2', early_stopping_rounds=10, verbose_eval=False, seed=42)\n",
    "    \n",
    "    # 获取最小的均方误差\n",
    "    best_loss = min(cv_results['l2-mean'])\n",
    "    \n",
    "    # 返回结果\n",
    "    return {'loss': best_loss, 'status': STATUS_OK}"
   ]
  },
  {
   "cell_type": "code",
   "execution_count": 126,
   "id": "fa7d0ce6-299c-4a83-865a-80fb623267f4",
   "metadata": {
    "tags": []
   },
   "outputs": [
    {
     "name": "stdout",
     "output_type": "stream",
     "text": [
      "100%|███████████████████████████████████████████████| 100/100 [02:23<00:00,  1.44s/trial, best loss: 859524088.5574011]\n",
      "Best parameters: {'bagging_fraction': 0.8759194287838374, 'bagging_freq': 2, 'feature_fraction': 0.765689824487926, 'lambda_l1': 0.8743034530892744, 'lambda_l2': 0.8651826035007084, 'learning_rate': 0.12072801746249853, 'max_depth': 8, 'min_data_in_leaf': 3, 'num_leaves': 72}\n"
     ]
    }
   ],
   "source": [
    "# 运行Hyperopt进行优化\n",
    "trials = Trials()\n",
    "best = fmin(fn=objective, space=param_space, algo=tpe.suggest, max_evals=100, trials=trials)\n",
    "\n",
    "# 打印最佳参数\n",
    "print(\"Best parameters:\", best)"
   ]
  },
  {
   "cell_type": "code",
   "execution_count": 127,
   "id": "384ea043-fa1c-4a35-9228-eaab4b60280a",
   "metadata": {
    "tags": []
   },
   "outputs": [],
   "source": [
    "# 将最佳参数转换为完整的参数字典\n",
    "best_params = {\n",
    "    'boosting_type': 'gbdt',\n",
    "    'objective': 'regression',\n",
    "    'metric': 'l2',\n",
    "    'num_leaves': best['num_leaves'],\n",
    "    'learning_rate': best['learning_rate'],\n",
    "    'feature_fraction': best['feature_fraction'],\n",
    "    'bagging_fraction': best['bagging_fraction'],\n",
    "    'bagging_freq': best['bagging_freq'],\n",
    "    'min_data_in_leaf': best['min_data_in_leaf'],\n",
    "    'max_depth': best['max_depth'],\n",
    "    'lambda_l1': best['lambda_l1'],\n",
    "    'lambda_l2': best['lambda_l2'],\n",
    "    'feature_pre_filter': False,\n",
    "    'verbose': -1\n",
    "}"
   ]
  },
  {
   "cell_type": "code",
   "execution_count": 128,
   "id": "957177d2-2c90-47e1-9f51-cf71cff9692b",
   "metadata": {
    "tags": []
   },
   "outputs": [],
   "source": [
    "# 重新创建训练数据集\n",
    "train_data = lgb.Dataset(X_train, label=y_train)\n",
    "\n",
    "# 训练最终模型\n",
    "bst = lgb.train(best_params, train_data, num_boost_round=100)"
   ]
  },
  {
   "cell_type": "code",
   "execution_count": 129,
   "id": "099d09a4-354e-460d-a31d-8f868462019e",
   "metadata": {
    "tags": []
   },
   "outputs": [
    {
     "name": "stdout",
     "output_type": "stream",
     "text": [
      "Mean Squared Error on test data: 689005073.3691775\n"
     ]
    }
   ],
   "source": [
    "# 在测试集上进行预测\n",
    "y_test_pred = bst.predict(X_test)\n",
    "\n",
    "# 计算均方误差\n",
    "test_mse = mean_squared_error(y_test, y_test_pred)\n",
    "print(f'Mean Squared Error on test data: {test_mse}')"
   ]
  }
 ],
 "metadata": {
  "kernelspec": {
   "display_name": "Python 3 (ipykernel)",
   "language": "python",
   "name": "python3"
  },
  "language_info": {
   "codemirror_mode": {
    "name": "ipython",
    "version": 3
   },
   "file_extension": ".py",
   "mimetype": "text/x-python",
   "name": "python",
   "nbconvert_exporter": "python",
   "pygments_lexer": "ipython3",
   "version": "3.10.9"
  }
 },
 "nbformat": 4,
 "nbformat_minor": 5
}
