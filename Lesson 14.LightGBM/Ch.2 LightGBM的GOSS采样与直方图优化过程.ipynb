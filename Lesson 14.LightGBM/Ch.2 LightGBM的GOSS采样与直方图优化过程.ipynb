{
 "cells": [
  {
   "cell_type": "code",
   "execution_count": 36,
   "id": "2358aa10-8d4a-4656-85b0-2a7fb3520dc4",
   "metadata": {},
   "outputs": [],
   "source": [
    "# 科学计算模块\n",
    "import numpy as np\n",
    "import pandas as pd\n",
    "\n",
    "# 绘图模块\n",
    "import matplotlib as mpl\n",
    "import matplotlib.pyplot as plt\n",
    "\n",
    "# Scikit-Learn相关模块\n",
    "# 评估器类\n",
    "from sklearn.preprocessing import StandardScaler\n",
    "from sklearn.preprocessing import PolynomialFeatures\n",
    "from sklearn.linear_model import LogisticRegression\n",
    "from sklearn.pipeline import make_pipeline\n",
    "from sklearn.model_selection import GridSearchCV\n",
    "from sklearn.tree import DecisionTreeClassifier\n",
    "\n",
    "# 实用函数\n",
    "from sklearn.model_selection import train_test_split\n",
    "from sklearn.metrics import accuracy_score\n",
    "\n",
    "# 数据准备\n",
    "from sklearn.datasets import load_iris"
   ]
  },
  {
   "cell_type": "markdown",
   "id": "ef716ba7-4caa-493e-846e-f24a8c061805",
   "metadata": {},
   "source": [
    "## <center>Ch.2 LightGBM核心技术：GOSS采样与直方图优化算法"
   ]
  },
  {
   "cell_type": "markdown",
   "id": "e2a1e0d7-f178-4bb8-91d2-16245ec0c72a",
   "metadata": {},
   "source": [
    "&emsp;&emsp;在LGBM算法的计算流程中，当执行完特征压缩后，接下来就将进入到每棵树的建模过程中。不过同样是出于提高计算效率考虑，LGBM并不是带入全部数据进行每棵树的训练，而是采用了一种名为基于梯度的单边采样（Gradient-based One-Side Sampling，GOSS）的下采样方法，缩减实际带入模型训练的样本数量。这是一种非常特殊的采样方法，而其实践效果和EFB类似，都是能够在大幅提高计算效率的同时确保计算精度。并且，当已经完成了GOSS采样之后，在实际决策树生长过程中，LGBM也采用了XGB类似的直方图优化算法，来加速决策树的计算过程。从原理层面来看，LGBM和XGB的直方图优化算法并没有本质上的区别，只是二者在进行直方图计算时采用的指标略有不同，具体区别我们将在介绍直方图算法时具体讲解。此外，LGBM还在直方图的实际计算机计算层面进行了优化，例如Voting Parallel（投票特征并行）方法等。"
   ]
  },
  {
   "cell_type": "markdown",
   "id": "127cc478-7829-4939-8407-ec06015b7662",
   "metadata": {},
   "source": [
    "&emsp;&emsp;总的来说，本节我们将在上一小节数据处理结果基础上，进一步探讨LGBM算法中决策树模型的生长过程，该过程涉及到的核心算法包括GOSS抽样和直方图优化算法，本节我们仍然是理论结合手动实现的示例，来介绍这两个算法。首先导入上一小节处理好的数据data："
   ]
  },
  {
   "cell_type": "code",
   "execution_count": 37,
   "id": "65ff1af3-bd3e-4508-b7dd-66ecc51a24cf",
   "metadata": {
    "tags": []
   },
   "outputs": [
    {
     "data": {
      "text/html": [
       "<div>\n",
       "<style scoped>\n",
       "    .dataframe tbody tr th:only-of-type {\n",
       "        vertical-align: middle;\n",
       "    }\n",
       "\n",
       "    .dataframe tbody tr th {\n",
       "        vertical-align: top;\n",
       "    }\n",
       "\n",
       "    .dataframe thead th {\n",
       "        text-align: right;\n",
       "    }\n",
       "</style>\n",
       "<table border=\"1\" class=\"dataframe\">\n",
       "  <thead>\n",
       "    <tr style=\"text-align: right;\">\n",
       "      <th></th>\n",
       "      <th>x1</th>\n",
       "      <th>x2</th>\n",
       "      <th>x3</th>\n",
       "      <th>x4</th>\n",
       "      <th>y</th>\n",
       "      <th>x1_binned</th>\n",
       "      <th>x2_binned</th>\n",
       "      <th>x2_binned&amp;x4</th>\n",
       "    </tr>\n",
       "  </thead>\n",
       "  <tbody>\n",
       "    <tr>\n",
       "      <th>0</th>\n",
       "      <td>1.2</td>\n",
       "      <td>4.7</td>\n",
       "      <td>1</td>\n",
       "      <td>0</td>\n",
       "      <td>1</td>\n",
       "      <td>0.0</td>\n",
       "      <td>1.0</td>\n",
       "      <td>1.0</td>\n",
       "    </tr>\n",
       "    <tr>\n",
       "      <th>1</th>\n",
       "      <td>2.9</td>\n",
       "      <td>5.5</td>\n",
       "      <td>1</td>\n",
       "      <td>0</td>\n",
       "      <td>0</td>\n",
       "      <td>1.0</td>\n",
       "      <td>1.0</td>\n",
       "      <td>1.0</td>\n",
       "    </tr>\n",
       "    <tr>\n",
       "      <th>2</th>\n",
       "      <td>2.6</td>\n",
       "      <td>3.9</td>\n",
       "      <td>0</td>\n",
       "      <td>1</td>\n",
       "      <td>1</td>\n",
       "      <td>1.0</td>\n",
       "      <td>0.0</td>\n",
       "      <td>2.0</td>\n",
       "    </tr>\n",
       "    <tr>\n",
       "      <th>3</th>\n",
       "      <td>3.3</td>\n",
       "      <td>6.2</td>\n",
       "      <td>1</td>\n",
       "      <td>0</td>\n",
       "      <td>0</td>\n",
       "      <td>1.0</td>\n",
       "      <td>1.0</td>\n",
       "      <td>1.0</td>\n",
       "    </tr>\n",
       "    <tr>\n",
       "      <th>4</th>\n",
       "      <td>2.0</td>\n",
       "      <td>3.5</td>\n",
       "      <td>1</td>\n",
       "      <td>0</td>\n",
       "      <td>1</td>\n",
       "      <td>0.0</td>\n",
       "      <td>0.0</td>\n",
       "      <td>0.0</td>\n",
       "    </tr>\n",
       "    <tr>\n",
       "      <th>5</th>\n",
       "      <td>2.5</td>\n",
       "      <td>4.5</td>\n",
       "      <td>1</td>\n",
       "      <td>1</td>\n",
       "      <td>1</td>\n",
       "      <td>1.0</td>\n",
       "      <td>1.0</td>\n",
       "      <td>3.0</td>\n",
       "    </tr>\n",
       "    <tr>\n",
       "      <th>6</th>\n",
       "      <td>1.4</td>\n",
       "      <td>5.1</td>\n",
       "      <td>1</td>\n",
       "      <td>0</td>\n",
       "      <td>0</td>\n",
       "      <td>0.0</td>\n",
       "      <td>1.0</td>\n",
       "      <td>1.0</td>\n",
       "    </tr>\n",
       "    <tr>\n",
       "      <th>7</th>\n",
       "      <td>2.1</td>\n",
       "      <td>2.7</td>\n",
       "      <td>0</td>\n",
       "      <td>1</td>\n",
       "      <td>0</td>\n",
       "      <td>0.0</td>\n",
       "      <td>0.0</td>\n",
       "      <td>2.0</td>\n",
       "    </tr>\n",
       "    <tr>\n",
       "      <th>8</th>\n",
       "      <td>1.7</td>\n",
       "      <td>4.1</td>\n",
       "      <td>1</td>\n",
       "      <td>0</td>\n",
       "      <td>1</td>\n",
       "      <td>0.0</td>\n",
       "      <td>0.0</td>\n",
       "      <td>0.0</td>\n",
       "    </tr>\n",
       "    <tr>\n",
       "      <th>9</th>\n",
       "      <td>3.0</td>\n",
       "      <td>3.8</td>\n",
       "      <td>1</td>\n",
       "      <td>1</td>\n",
       "      <td>1</td>\n",
       "      <td>1.0</td>\n",
       "      <td>0.0</td>\n",
       "      <td>2.0</td>\n",
       "    </tr>\n",
       "  </tbody>\n",
       "</table>\n",
       "</div>"
      ],
      "text/plain": [
       "    x1   x2  x3  x4  y  x1_binned  x2_binned  x2_binned&x4\n",
       "0  1.2  4.7   1   0  1        0.0        1.0           1.0\n",
       "1  2.9  5.5   1   0  0        1.0        1.0           1.0\n",
       "2  2.6  3.9   0   1  1        1.0        0.0           2.0\n",
       "3  3.3  6.2   1   0  0        1.0        1.0           1.0\n",
       "4  2.0  3.5   1   0  1        0.0        0.0           0.0\n",
       "5  2.5  4.5   1   1  1        1.0        1.0           3.0\n",
       "6  1.4  5.1   1   0  0        0.0        1.0           1.0\n",
       "7  2.1  2.7   0   1  0        0.0        0.0           2.0\n",
       "8  1.7  4.1   1   0  1        0.0        0.0           0.0\n",
       "9  3.0  3.8   1   1  1        1.0        0.0           2.0"
      ]
     },
     "execution_count": 37,
     "metadata": {},
     "output_type": "execute_result"
    }
   ],
   "source": [
    "data = pd.read_csv('data.csv', index_col=0)\n",
    "data"
   ]
  },
  {
   "cell_type": "markdown",
   "id": "b3194e71-fa66-4eb0-9c87-ed2dddcf757d",
   "metadata": {},
   "source": [
    "### 1.基于梯度的单边采样（Gradient-based One-Side Sampling，GOSS）"
   ]
  },
  {
   "cell_type": "markdown",
   "id": "6b0c043c-48fe-44ed-8f71-aebda27f272f",
   "metadata": {},
   "source": [
    "#### 1.1 GOSS基本原理"
   ]
  },
  {
   "cell_type": "markdown",
   "id": "61b7de63-6907-4bbe-ab79-b9305dd0e7b4",
   "metadata": {},
   "source": [
    "&emsp;&emsp;首先来看基于梯度的单边采样（Gradient-based One-Side Sampling）方法，也就是所谓的GOSS抽样方法。不同于简单随机抽样，GOSS是一种非常特殊的基于梯度分布的抽样方法。我们知道在执行优化算法的过程中，每个样本都有一个对应的梯度计算结果，如果某条样本梯度绝对值较小，则说明这条样本已经被正确的分类或者预测结果和真实结果非常接近，在后续的参数更新过程中，这些梯度绝对值较小的样本对参数的改进贡献较小，因此每次迭代计算时再把这些小梯度的样本再算一遍梯度，会一定程度造成资源浪费。而反观那些梯度绝对值较大的样本，这些样本具有更高的误差，因此对模型的训练有更大的贡献。因此GOSS的思路是将全部样本按照梯度绝对值大小进行降序排序，然后抽取梯度绝对值最大的前$a\\%$的样本，然后把其他样本都视作小梯度样本，并从这些小梯度样本中随机抽取$b\\%$个样本，而这些大梯度样本和随机抽取的小梯度样本，就构成了接下来模型训练的数据集。而只针对小梯度样本（一边）进行抽样、保留（另一边）全部大梯度样本，也就是单边采样一词的由来。"
   ]
  },
  {
   "cell_type": "markdown",
   "id": "fe47f26d-721e-4112-8814-e3da1055c062",
   "metadata": {},
   "source": [
    "&emsp;&emsp;而在具体执行GOSS的时候有以下几点需要注意：         \n",
    "\n",
    "- 1.GOSS计算过程是根据梯度的绝对值大小进行样本划分和抽样，并不是样本梯度的真实值；\n",
    "\n",
    "- 2.GOSS中样本选取比例，也就是梯度绝对值最大的前$a\\%$和小样本中随机抽样的$b\\%$，实际上都是超参数，可以在建模过程中灵活调节。这里的$a\\%$可以换成更专业的超参数名称：top_rate，而小样本抽取的$b\\%$更专业的名称则是other_rate；     \n",
    "\n",
    "- 3.我们知道样本梯度是基于预测结果计算而来的（具体来说是损失函数的一阶导数），而在第一棵树构建之前我们就需要进行GOSS采样，此时还没有模型预测结果，梯度计算依据的是LGBM的初始预测值，和其他集成学习类似，LGBM的初始预测值也是根据损失函数的不同类型计算得到的结果；\n",
    "\n",
    "- 4.由于每次迭代都会更新模型参数，因此每次建树之前都会重新进行抽样，而除非人为控制迭代过程（例如使用一种非常特殊的Booster API，后面会详细介绍），否则一般来说top_rate和other_rate设置好了就不会再发生变化；     \n",
    "\n",
    "- 5.关于top_rate和other_rate的数值设置，一般来说top_rate越大other_rate越小，则模型过拟合风险就越大，反之则模型学习能力会被限制，而如果这两个参数同时较大，则会增加模型训练复杂度，增加模型训练时间。关于这组参数，并没有一个普遍适用的取值，还是需要根据实际情况进行超参数优化。\n",
    "\n",
    "- 6.尽管带入训练的数据是GOSS抽样后的数据，但在后续决策树生长的过程中，小梯度样本的梯度（和损失函数二阶导数）会再乘以一个大于1的膨胀系数，再和大梯度样本的梯度（和损失函数二阶导数）进行相加，构成一个数据集的梯度（和损失函数二阶导数），来指导后续的迭代进行。而之所以要让小梯度样本进一步膨胀再加入到样本数据梯度中，其实也是为了尽可能还原原始真实的数据集梯度。也即是说，GOSS抽样并不是想要改变数据集梯度，而是希望通过更小的计算量，来尽可能还原原始数据集完整梯度，以此来提升建模的精确度，其基本过程可以由下图进行表示：<img src=\"https://ml2022.oss-cn-hangzhou.aliyuncs.com/img/202303231809934.png\" alt=\"5a9d29da9104eae4106ca796a7a493c\" style=\"zoom:50%;\" />具体膨胀系数如何计算，其实也并不复杂，就是$\\frac{1-a}{b}$，或者说是$\\frac{1-top\\_rate}{other\\_rate}$。例如当top_rate=0.1，other_rate=0.2时，小样本梯度膨胀系数为：$\\frac{1-top\\_rate}{other\\_rate}=\\frac{1-0.1}{0.2}=4.5$。最终样本梯度=大样本梯度+小样本梯度*4.5算得。"
   ]
  },
  {
   "cell_type": "markdown",
   "id": "464ef3d9-4ca1-4879-80b2-ea47c71fc65f",
   "metadata": {},
   "source": [
    "- 7.GOSS过程带来的误差：最后需要注意的是，尽管GOSS抽样后我们通过膨胀系数来尽可能还原数据集整体的梯度，但这种还原肯定是存在一定误差的。根据原论文描述，这种误差可以通过如下公式进行表示：<center><img src=\"https://ml2022.oss-cn-hangzhou.aliyuncs.com/img/202304091801639.png\" alt=\"1681034491832\" style=\"zoom:50%;\" /></center><br>原论文中的公式并不好理解，这里我们可以将其等价为另一个公式进行解释。首先，假设我们有一个样本集合$I$，其中有$|I|$个样本。对于一个梯度值阈值$a$，我们将样本集合$I$划分为两个子集$I_{large}$和$I_{small}$。$I_{large}$包含所有梯度值大于等于$a$的样本，而$I_{small}$包含所有梯度值小于$a$的样本。用$|I_{large}|$表示$I_{large}$中的样本数量，用$|I_{small}|$表示$I_{small}$中的样本数量。接下来，我们从$I_{small}$中随机采样一定比例（$\\alpha$）的样本，则梯度计算的最大误差估计为：$$\\mathrm{Error} = \\frac{1}{|I|}\\sum_{i \\in I_{large}} g_i - \\frac{1 - \\alpha}{\\alpha |I_{small}|}\\sum_{i \\in I_{small}} g_i$$这里，$g_i$表示第$i$个样本的梯度值。"
   ]
  },
  {
   "cell_type": "markdown",
   "id": "a1130cae-6ec4-4922-923a-62d72997bbf2",
   "metadata": {},
   "source": [
    "> 更多关于GOSS计算流程的介绍，我们将在后续手动示例中进行具体讨论"
   ]
  },
  {
   "cell_type": "markdown",
   "id": "609832d7-8909-4350-8bee-454d5c7a55eb",
   "metadata": {},
   "source": [
    "#### 1.2 GOSS计算过程实例"
   ]
  },
  {
   "cell_type": "markdown",
   "id": "727ec279-65b7-4f81-9a6a-d1ccbae9c237",
   "metadata": {},
   "source": [
    "- 损失函数、梯度与Hessian计算公式"
   ]
  },
  {
   "cell_type": "markdown",
   "id": "70b44286-0432-475d-a87c-4e618ad916a0",
   "metadata": {},
   "source": [
    "&emsp;&emsp;接下来我们继续借助简单示例数据集data来执行一次完整的GOSS采样计算过程。由于GOSS采样计算过程会涉及样本梯度计算，因此这里我们首先需要回顾样本梯度的计算方法。我们知道样本梯度是损失函数在各参数方向上求导得到的结果，因此梯度实际上和损失函数相关。这里data数据集是二分类数据集，因此假设建模过程中的损失函数是二分类交叉熵损失函数，在Lesson 4介绍梯度下降算法时，我们就介绍了二分类交叉熵损失函数的计算公式，以及样本梯度的计算方法，并借助手写代码来进行实现，这里我们快速回顾下交叉熵损失计算公式，对于第i条样本来说，$y_i$是真实标签，而$\\hat y_i$或者$p_i$是概率预测结果，则样本整体二分类交叉熵损失计算公式如下："
   ]
  },
  {
   "cell_type": "markdown",
   "id": "68ebc5a4-9c41-4f56-bf3b-e9586ab3cd12",
   "metadata": {},
   "source": [
    "$$\\mathcal{L}=-\\frac{1}{n} \\sum_{i=1}^{n}\\left[y_{i} \\log p_{i}+\\left(1-y_{i}\\right) \\log \\left(1-p_{i}\\right)\\right]\n",
    "$$"
   ]
  },
  {
   "cell_type": "markdown",
   "id": "bbce193d-f2e5-4355-a41f-a255c9268bba",
   "metadata": {},
   "source": [
    "此时第$i$条样本的梯度就是损失函数对预测样本的一阶偏导数："
   ]
  },
  {
   "cell_type": "markdown",
   "id": "820f95fe-00ee-41c0-b964-cbb83f19158f",
   "metadata": {},
   "source": [
    "$$\\frac{\\partial \\mathcal{L}}{\\partial p_{i}}=\\frac{1-y_{i}}{1-p_{i}}-\\frac{y_{i}}{p_{i}}$$"
   ]
  },
  {
   "cell_type": "markdown",
   "id": "71bdf2d8-3b69-4b97-ae74-523ee2fd047b",
   "metadata": {},
   "source": [
    "更进一步的，由于后续直方图计算过程还需要用到损失函数的二阶偏导数，也就是所谓的Hessian矩阵（值），也被称作黑塞矩阵、海森矩阵等。对于第$i$条样本，损失函数的二阶偏导数计算公式如下："
   ]
  },
  {
   "cell_type": "markdown",
   "id": "600d3ab7-b120-4448-af4a-170f5d809e18",
   "metadata": {},
   "source": [
    "$$\\frac{\\partial^{2} \\mathcal{L}}{\\partial p_{i}^{2}}=\\frac{y_{i}}{p_{i}^{2}}+\\frac{1-y_{i}}{\\left(1-p_{i}\\right)^{2}}\n",
    "$$"
   ]
  },
  {
   "cell_type": "markdown",
   "id": "c09a331d-1667-461a-ab45-b9bd2a272c00",
   "metadata": {},
   "source": [
    "并且，为了方便后续计算，我们可以编写函数来进行损失函数、梯度和Hessian值的计算。其中二分类交叉熵损失可以按照如下方式进行计算："
   ]
  },
  {
   "cell_type": "code",
   "execution_count": 38,
   "id": "f1dda59f-efd1-47e6-b4cb-9f82d190a8a5",
   "metadata": {},
   "outputs": [],
   "source": [
    "def binary_cross_entropy(y_true, y_pred):\n",
    "    \"\"\"\n",
    "    计算二分类交叉熵损失函数\n",
    "    :param y_true: 真实标签，一个 Numpy 数组，形状为 (n_samples,)\n",
    "    :param y_pred: 预测标签，一个 Numpy 数组，形状为 (n_samples,)\n",
    "    :return:二分类交叉熵损失值，一个标量\n",
    "    \"\"\"\n",
    "    # 确保输入的标签为 0 或 1\n",
    "    y_true = np.clip(y_true, 1e-7, 1-1e-7)\n",
    "    y_pred = np.clip(y_pred, 1e-7, 1-1e-7)\n",
    "    # 计算二分类交叉熵损失\n",
    "    loss = -(y_true * np.log(y_pred) + (1 - y_true) * np.log(1 - y_pred)).mean()\n",
    "    return loss"
   ]
  },
  {
   "cell_type": "markdown",
   "id": "0499f500-10e1-4d6e-95cd-5362f85bebec",
   "metadata": {},
   "source": [
    "这里的np.clip函数是用于将输出结果限制在一个范围内，避免出现零值相除的情况（sklearn中用于实现相同功能的log_loss函数也是采用类似的处理方法）。而每条样本的梯度计算函数如下："
   ]
  },
  {
   "cell_type": "code",
   "execution_count": 39,
   "id": "df585e51-2ecf-4354-894c-2ed3132801d0",
   "metadata": {},
   "outputs": [],
   "source": [
    "def binary_cross_entropy_grad(y_true, y_pred):\n",
    "    \"\"\"\n",
    "    计算二分类交叉熵损失函数的一阶导数\n",
    "    :param y_true: 真实标签，一个 Numpy 数组，形状为 (n_samples,)\n",
    "    :param y_pred: 预测标签，一个 Numpy 数组，形状为 (n_samples,)\n",
    "    :return:二分类交叉熵损失函数的一阶导数，一个 Numpy 数组，形状为 (n_samples,)\n",
    "    \"\"\"\n",
    "    # 确保输入的标签为 0 或 1\n",
    "    y_true = np.clip(y_true, 1e-7, 1-1e-7)\n",
    "    y_pred = np.clip(y_pred, 1e-7, 1-1e-7)\n",
    "    # 计算二分类交叉熵损失函数的一阶导数\n",
    "    grad = (1 - y_true) / (1 - y_pred) - y_true / y_pred\n",
    "    return grad"
   ]
  },
  {
   "cell_type": "markdown",
   "id": "adb17372-6071-4fea-8b6f-3a5bc3ec6399",
   "metadata": {},
   "source": [
    "每条样本的Hessian值计算函数如下："
   ]
  },
  {
   "cell_type": "code",
   "execution_count": 40,
   "id": "c04a6b9d-2c4f-4a7f-b3f7-681490393cbb",
   "metadata": {},
   "outputs": [],
   "source": [
    "def binary_cross_entropy_hess(y_true, y_pred):\n",
    "    \"\"\"\n",
    "    计算二分类交叉熵损失函数的二阶导数\n",
    "    :param y_true: 真实标签，一个 Numpy 数组，形状为 (n_samples,)\n",
    "    :param y_pred: 预测标签，一个 Numpy 数组，形状为 (n_samples,)\n",
    "    :return: 生成的特征张和标签张量：二分类交叉熵损失函数的二阶导数，一个 Numpy 数组，形状为 (n_samples,)\n",
    "    \"\"\"\n",
    "    # 确保输入的标签为 0 或 1\n",
    "    y_true = np.clip(y_true, 1e-7, 1 - 1e-7)\n",
    "    y_pred = np.clip(y_pred, 1e-7, 1 - 1e-7)\n",
    "    # 计算二分类交叉熵损失函数的二阶导数\n",
    "    hess = y_true / (y_pred ** 2) + (1 - y_true) / ((1 - y_pred) ** 2)\n",
    "    return hess"
   ]
  },
  {
   "cell_type": "markdown",
   "id": "1bd62509-372a-4ed4-a90d-8e0796518f85",
   "metadata": {},
   "source": [
    "有了这些函数定义后，接下来我们来查看当前数据集在首次建模之前的梯度值如何计算。"
   ]
  },
  {
   "cell_type": "markdown",
   "id": "9e478c3b-d5a3-4e83-a987-44be296a3490",
   "metadata": {},
   "source": [
    "- LGBM初始预测值"
   ]
  },
  {
   "cell_type": "markdown",
   "id": "11f49ac8-3115-458f-a1db-e054f8aa01be",
   "metadata": {},
   "source": [
    "&emsp;&emsp;正如此前所说，首次进行GOSS抽样时梯度计算依据是LGBM算法的初始预测值，如果是交叉熵损失函数，则初始预测值为1类样本占比（或者1类样本总数）的对数几率（log odds）计算结果，并且每条样本初始预测值都相同，具体计算过程可以由如下计算公式表示："
   ]
  },
  {
   "cell_type": "markdown",
   "id": "bbca479a-5b61-49b0-9bbb-eafde2bfdcca",
   "metadata": {},
   "source": [
    "$$\\hat y = ln\\frac{p}{1-p}$$"
   ]
  },
  {
   "cell_type": "markdown",
   "id": "4f67e66c-8060-4f66-8b01-294da86436e8",
   "metadata": {},
   "source": [
    "其中$p$为1类的占比（或者1类总数，计算结果都相同）。例如对于data数据集来说，初始预测值可以按照如下方式进行计算："
   ]
  },
  {
   "cell_type": "code",
   "execution_count": 41,
   "id": "6914636c-9ec0-44d8-8430-e601ff27c350",
   "metadata": {
    "tags": []
   },
   "outputs": [
    {
     "data": {
      "text/html": [
       "<div>\n",
       "<style scoped>\n",
       "    .dataframe tbody tr th:only-of-type {\n",
       "        vertical-align: middle;\n",
       "    }\n",
       "\n",
       "    .dataframe tbody tr th {\n",
       "        vertical-align: top;\n",
       "    }\n",
       "\n",
       "    .dataframe thead th {\n",
       "        text-align: right;\n",
       "    }\n",
       "</style>\n",
       "<table border=\"1\" class=\"dataframe\">\n",
       "  <thead>\n",
       "    <tr style=\"text-align: right;\">\n",
       "      <th></th>\n",
       "      <th>x1</th>\n",
       "      <th>x2</th>\n",
       "      <th>x3</th>\n",
       "      <th>x4</th>\n",
       "      <th>y</th>\n",
       "      <th>x1_binned</th>\n",
       "      <th>x2_binned</th>\n",
       "      <th>x2_binned&amp;x4</th>\n",
       "    </tr>\n",
       "  </thead>\n",
       "  <tbody>\n",
       "    <tr>\n",
       "      <th>0</th>\n",
       "      <td>1.2</td>\n",
       "      <td>4.7</td>\n",
       "      <td>1</td>\n",
       "      <td>0</td>\n",
       "      <td>1</td>\n",
       "      <td>0.0</td>\n",
       "      <td>1.0</td>\n",
       "      <td>1.0</td>\n",
       "    </tr>\n",
       "    <tr>\n",
       "      <th>1</th>\n",
       "      <td>2.9</td>\n",
       "      <td>5.5</td>\n",
       "      <td>1</td>\n",
       "      <td>0</td>\n",
       "      <td>0</td>\n",
       "      <td>1.0</td>\n",
       "      <td>1.0</td>\n",
       "      <td>1.0</td>\n",
       "    </tr>\n",
       "    <tr>\n",
       "      <th>2</th>\n",
       "      <td>2.6</td>\n",
       "      <td>3.9</td>\n",
       "      <td>0</td>\n",
       "      <td>1</td>\n",
       "      <td>1</td>\n",
       "      <td>1.0</td>\n",
       "      <td>0.0</td>\n",
       "      <td>2.0</td>\n",
       "    </tr>\n",
       "    <tr>\n",
       "      <th>3</th>\n",
       "      <td>3.3</td>\n",
       "      <td>6.2</td>\n",
       "      <td>1</td>\n",
       "      <td>0</td>\n",
       "      <td>0</td>\n",
       "      <td>1.0</td>\n",
       "      <td>1.0</td>\n",
       "      <td>1.0</td>\n",
       "    </tr>\n",
       "    <tr>\n",
       "      <th>4</th>\n",
       "      <td>2.0</td>\n",
       "      <td>3.5</td>\n",
       "      <td>1</td>\n",
       "      <td>0</td>\n",
       "      <td>1</td>\n",
       "      <td>0.0</td>\n",
       "      <td>0.0</td>\n",
       "      <td>0.0</td>\n",
       "    </tr>\n",
       "    <tr>\n",
       "      <th>5</th>\n",
       "      <td>2.5</td>\n",
       "      <td>4.5</td>\n",
       "      <td>1</td>\n",
       "      <td>1</td>\n",
       "      <td>1</td>\n",
       "      <td>1.0</td>\n",
       "      <td>1.0</td>\n",
       "      <td>3.0</td>\n",
       "    </tr>\n",
       "    <tr>\n",
       "      <th>6</th>\n",
       "      <td>1.4</td>\n",
       "      <td>5.1</td>\n",
       "      <td>1</td>\n",
       "      <td>0</td>\n",
       "      <td>0</td>\n",
       "      <td>0.0</td>\n",
       "      <td>1.0</td>\n",
       "      <td>1.0</td>\n",
       "    </tr>\n",
       "    <tr>\n",
       "      <th>7</th>\n",
       "      <td>2.1</td>\n",
       "      <td>2.7</td>\n",
       "      <td>0</td>\n",
       "      <td>1</td>\n",
       "      <td>0</td>\n",
       "      <td>0.0</td>\n",
       "      <td>0.0</td>\n",
       "      <td>2.0</td>\n",
       "    </tr>\n",
       "    <tr>\n",
       "      <th>8</th>\n",
       "      <td>1.7</td>\n",
       "      <td>4.1</td>\n",
       "      <td>1</td>\n",
       "      <td>0</td>\n",
       "      <td>1</td>\n",
       "      <td>0.0</td>\n",
       "      <td>0.0</td>\n",
       "      <td>0.0</td>\n",
       "    </tr>\n",
       "    <tr>\n",
       "      <th>9</th>\n",
       "      <td>3.0</td>\n",
       "      <td>3.8</td>\n",
       "      <td>1</td>\n",
       "      <td>1</td>\n",
       "      <td>1</td>\n",
       "      <td>1.0</td>\n",
       "      <td>0.0</td>\n",
       "      <td>2.0</td>\n",
       "    </tr>\n",
       "  </tbody>\n",
       "</table>\n",
       "</div>"
      ],
      "text/plain": [
       "    x1   x2  x3  x4  y  x1_binned  x2_binned  x2_binned&x4\n",
       "0  1.2  4.7   1   0  1        0.0        1.0           1.0\n",
       "1  2.9  5.5   1   0  0        1.0        1.0           1.0\n",
       "2  2.6  3.9   0   1  1        1.0        0.0           2.0\n",
       "3  3.3  6.2   1   0  0        1.0        1.0           1.0\n",
       "4  2.0  3.5   1   0  1        0.0        0.0           0.0\n",
       "5  2.5  4.5   1   1  1        1.0        1.0           3.0\n",
       "6  1.4  5.1   1   0  0        0.0        1.0           1.0\n",
       "7  2.1  2.7   0   1  0        0.0        0.0           2.0\n",
       "8  1.7  4.1   1   0  1        0.0        0.0           0.0\n",
       "9  3.0  3.8   1   1  1        1.0        0.0           2.0"
      ]
     },
     "execution_count": 41,
     "metadata": {},
     "output_type": "execute_result"
    }
   ],
   "source": [
    "data"
   ]
  },
  {
   "cell_type": "code",
   "execution_count": 42,
   "id": "80b18363-e557-4c62-943f-52a2cfc046fe",
   "metadata": {},
   "outputs": [
    {
     "name": "stdout",
     "output_type": "stream",
     "text": [
      "初始预测值： 0.4054651081081642\n"
     ]
    }
   ],
   "source": [
    "# 计算每个类别的频率\n",
    "class_freq = data['y'].value_counts(normalize=True)\n",
    "\n",
    "# 计算初始预测值\n",
    "initial_prediction = np.log(class_freq[1] / class_freq[0])\n",
    "\n",
    "print(\"初始预测值：\", initial_prediction)"
   ]
  },
  {
   "cell_type": "code",
   "execution_count": 43,
   "id": "f6162ff7-9f9c-45f7-9697-8833aff4f1eb",
   "metadata": {},
   "outputs": [
    {
     "data": {
      "text/plain": [
       "1    0.6\n",
       "0    0.4\n",
       "Name: y, dtype: float64"
      ]
     },
     "execution_count": 43,
     "metadata": {},
     "output_type": "execute_result"
    }
   ],
   "source": [
    "class_freq"
   ]
  },
  {
   "cell_type": "code",
   "execution_count": 44,
   "id": "e88ec84d-1a83-4a83-8033-90bb62761057",
   "metadata": {},
   "outputs": [
    {
     "data": {
      "text/plain": [
       "0.6"
      ]
     },
     "execution_count": 44,
     "metadata": {},
     "output_type": "execute_result"
    }
   ],
   "source": [
    "class_freq[1]"
   ]
  },
  {
   "cell_type": "markdown",
   "id": "8788f73a-5d45-4e5c-886f-3d683c2778d2",
   "metadata": {},
   "source": [
    "因此所有样本的初始预测结果为0.4，将其添加到data的最后一列中："
   ]
  },
  {
   "cell_type": "code",
   "execution_count": 45,
   "id": "34cfaa75-f625-4ac3-9f77-a0528b645b3f",
   "metadata": {},
   "outputs": [
    {
     "data": {
      "text/plain": [
       "array([0.4054, 0.4054, 0.4054, 0.4054, 0.4054, 0.4054, 0.4054, 0.4054,\n",
       "       0.4054, 0.4054])"
      ]
     },
     "execution_count": 45,
     "metadata": {},
     "output_type": "execute_result"
    }
   ],
   "source": [
    "y_pred = np.array([0.4054]*10)\n",
    "y_pred"
   ]
  },
  {
   "cell_type": "code",
   "execution_count": 46,
   "id": "a066db15-540c-4cba-8cb6-62fb761e7c8d",
   "metadata": {},
   "outputs": [
    {
     "data": {
      "text/html": [
       "<div>\n",
       "<style scoped>\n",
       "    .dataframe tbody tr th:only-of-type {\n",
       "        vertical-align: middle;\n",
       "    }\n",
       "\n",
       "    .dataframe tbody tr th {\n",
       "        vertical-align: top;\n",
       "    }\n",
       "\n",
       "    .dataframe thead th {\n",
       "        text-align: right;\n",
       "    }\n",
       "</style>\n",
       "<table border=\"1\" class=\"dataframe\">\n",
       "  <thead>\n",
       "    <tr style=\"text-align: right;\">\n",
       "      <th></th>\n",
       "      <th>x1</th>\n",
       "      <th>x2</th>\n",
       "      <th>x3</th>\n",
       "      <th>x4</th>\n",
       "      <th>y</th>\n",
       "      <th>x1_binned</th>\n",
       "      <th>x2_binned</th>\n",
       "      <th>x2_binned&amp;x4</th>\n",
       "      <th>y_pred</th>\n",
       "    </tr>\n",
       "  </thead>\n",
       "  <tbody>\n",
       "    <tr>\n",
       "      <th>0</th>\n",
       "      <td>1.2</td>\n",
       "      <td>4.7</td>\n",
       "      <td>1</td>\n",
       "      <td>0</td>\n",
       "      <td>1</td>\n",
       "      <td>0.0</td>\n",
       "      <td>1.0</td>\n",
       "      <td>1.0</td>\n",
       "      <td>0.4054</td>\n",
       "    </tr>\n",
       "    <tr>\n",
       "      <th>1</th>\n",
       "      <td>2.9</td>\n",
       "      <td>5.5</td>\n",
       "      <td>1</td>\n",
       "      <td>0</td>\n",
       "      <td>0</td>\n",
       "      <td>1.0</td>\n",
       "      <td>1.0</td>\n",
       "      <td>1.0</td>\n",
       "      <td>0.4054</td>\n",
       "    </tr>\n",
       "    <tr>\n",
       "      <th>2</th>\n",
       "      <td>2.6</td>\n",
       "      <td>3.9</td>\n",
       "      <td>0</td>\n",
       "      <td>1</td>\n",
       "      <td>1</td>\n",
       "      <td>1.0</td>\n",
       "      <td>0.0</td>\n",
       "      <td>2.0</td>\n",
       "      <td>0.4054</td>\n",
       "    </tr>\n",
       "    <tr>\n",
       "      <th>3</th>\n",
       "      <td>3.3</td>\n",
       "      <td>6.2</td>\n",
       "      <td>1</td>\n",
       "      <td>0</td>\n",
       "      <td>0</td>\n",
       "      <td>1.0</td>\n",
       "      <td>1.0</td>\n",
       "      <td>1.0</td>\n",
       "      <td>0.4054</td>\n",
       "    </tr>\n",
       "    <tr>\n",
       "      <th>4</th>\n",
       "      <td>2.0</td>\n",
       "      <td>3.5</td>\n",
       "      <td>1</td>\n",
       "      <td>0</td>\n",
       "      <td>1</td>\n",
       "      <td>0.0</td>\n",
       "      <td>0.0</td>\n",
       "      <td>0.0</td>\n",
       "      <td>0.4054</td>\n",
       "    </tr>\n",
       "    <tr>\n",
       "      <th>5</th>\n",
       "      <td>2.5</td>\n",
       "      <td>4.5</td>\n",
       "      <td>1</td>\n",
       "      <td>1</td>\n",
       "      <td>1</td>\n",
       "      <td>1.0</td>\n",
       "      <td>1.0</td>\n",
       "      <td>3.0</td>\n",
       "      <td>0.4054</td>\n",
       "    </tr>\n",
       "    <tr>\n",
       "      <th>6</th>\n",
       "      <td>1.4</td>\n",
       "      <td>5.1</td>\n",
       "      <td>1</td>\n",
       "      <td>0</td>\n",
       "      <td>0</td>\n",
       "      <td>0.0</td>\n",
       "      <td>1.0</td>\n",
       "      <td>1.0</td>\n",
       "      <td>0.4054</td>\n",
       "    </tr>\n",
       "    <tr>\n",
       "      <th>7</th>\n",
       "      <td>2.1</td>\n",
       "      <td>2.7</td>\n",
       "      <td>0</td>\n",
       "      <td>1</td>\n",
       "      <td>0</td>\n",
       "      <td>0.0</td>\n",
       "      <td>0.0</td>\n",
       "      <td>2.0</td>\n",
       "      <td>0.4054</td>\n",
       "    </tr>\n",
       "    <tr>\n",
       "      <th>8</th>\n",
       "      <td>1.7</td>\n",
       "      <td>4.1</td>\n",
       "      <td>1</td>\n",
       "      <td>0</td>\n",
       "      <td>1</td>\n",
       "      <td>0.0</td>\n",
       "      <td>0.0</td>\n",
       "      <td>0.0</td>\n",
       "      <td>0.4054</td>\n",
       "    </tr>\n",
       "    <tr>\n",
       "      <th>9</th>\n",
       "      <td>3.0</td>\n",
       "      <td>3.8</td>\n",
       "      <td>1</td>\n",
       "      <td>1</td>\n",
       "      <td>1</td>\n",
       "      <td>1.0</td>\n",
       "      <td>0.0</td>\n",
       "      <td>2.0</td>\n",
       "      <td>0.4054</td>\n",
       "    </tr>\n",
       "  </tbody>\n",
       "</table>\n",
       "</div>"
      ],
      "text/plain": [
       "    x1   x2  x3  x4  y  x1_binned  x2_binned  x2_binned&x4  y_pred\n",
       "0  1.2  4.7   1   0  1        0.0        1.0           1.0  0.4054\n",
       "1  2.9  5.5   1   0  0        1.0        1.0           1.0  0.4054\n",
       "2  2.6  3.9   0   1  1        1.0        0.0           2.0  0.4054\n",
       "3  3.3  6.2   1   0  0        1.0        1.0           1.0  0.4054\n",
       "4  2.0  3.5   1   0  1        0.0        0.0           0.0  0.4054\n",
       "5  2.5  4.5   1   1  1        1.0        1.0           3.0  0.4054\n",
       "6  1.4  5.1   1   0  0        0.0        1.0           1.0  0.4054\n",
       "7  2.1  2.7   0   1  0        0.0        0.0           2.0  0.4054\n",
       "8  1.7  4.1   1   0  1        0.0        0.0           0.0  0.4054\n",
       "9  3.0  3.8   1   1  1        1.0        0.0           2.0  0.4054"
      ]
     },
     "execution_count": 46,
     "metadata": {},
     "output_type": "execute_result"
    }
   ],
   "source": [
    "data['y_pred'] = y_pred\n",
    "data"
   ]
  },
  {
   "cell_type": "markdown",
   "id": "7255031c-9c8d-4f04-a442-72079e432c27",
   "metadata": {},
   "source": [
    "接下来我们即可依据y_pred来计算每条样本的梯度。"
   ]
  },
  {
   "cell_type": "markdown",
   "id": "c88d67c0-33d3-41b5-b1d1-2648e1b7daa2",
   "metadata": {},
   "source": [
    "- 样本梯度与hes值计算"
   ]
  },
  {
   "cell_type": "markdown",
   "id": "6396b670-81e4-49c7-9a4a-9980377f577c",
   "metadata": {},
   "source": [
    "&emsp;&emsp;这里我们借助刚才定义的binary_cross_entropy_grad函数进行样本梯度计算："
   ]
  },
  {
   "cell_type": "code",
   "execution_count": 47,
   "id": "e0f7fc40-ec3a-4703-b4a8-eecf0c7186a8",
   "metadata": {},
   "outputs": [
    {
     "data": {
      "text/plain": [
       "0   -2.466699\n",
       "1    1.681802\n",
       "2   -2.466699\n",
       "3    1.681802\n",
       "4   -2.466699\n",
       "5   -2.466699\n",
       "6    1.681802\n",
       "7    1.681802\n",
       "8   -2.466699\n",
       "9   -2.466699\n",
       "dtype: float64"
      ]
     },
     "execution_count": 47,
     "metadata": {},
     "output_type": "execute_result"
    }
   ],
   "source": [
    "binary_cross_entropy_grad(data['y'], data['y_pred'])"
   ]
  },
  {
   "cell_type": "markdown",
   "id": "c510234a-33c1-40b0-9f5a-75099af631cc",
   "metadata": {},
   "source": [
    "并将其追加到data数据集中："
   ]
  },
  {
   "cell_type": "code",
   "execution_count": 48,
   "id": "d0645315-3fe2-4f57-aae8-5bbf9085f9ea",
   "metadata": {},
   "outputs": [
    {
     "data": {
      "text/html": [
       "<div>\n",
       "<style scoped>\n",
       "    .dataframe tbody tr th:only-of-type {\n",
       "        vertical-align: middle;\n",
       "    }\n",
       "\n",
       "    .dataframe tbody tr th {\n",
       "        vertical-align: top;\n",
       "    }\n",
       "\n",
       "    .dataframe thead th {\n",
       "        text-align: right;\n",
       "    }\n",
       "</style>\n",
       "<table border=\"1\" class=\"dataframe\">\n",
       "  <thead>\n",
       "    <tr style=\"text-align: right;\">\n",
       "      <th></th>\n",
       "      <th>x1</th>\n",
       "      <th>x2</th>\n",
       "      <th>x3</th>\n",
       "      <th>x4</th>\n",
       "      <th>y</th>\n",
       "      <th>x1_binned</th>\n",
       "      <th>x2_binned</th>\n",
       "      <th>x2_binned&amp;x4</th>\n",
       "      <th>y_pred</th>\n",
       "      <th>grad</th>\n",
       "    </tr>\n",
       "  </thead>\n",
       "  <tbody>\n",
       "    <tr>\n",
       "      <th>0</th>\n",
       "      <td>1.2</td>\n",
       "      <td>4.7</td>\n",
       "      <td>1</td>\n",
       "      <td>0</td>\n",
       "      <td>1</td>\n",
       "      <td>0.0</td>\n",
       "      <td>1.0</td>\n",
       "      <td>1.0</td>\n",
       "      <td>0.4054</td>\n",
       "      <td>-2.466699</td>\n",
       "    </tr>\n",
       "    <tr>\n",
       "      <th>1</th>\n",
       "      <td>2.9</td>\n",
       "      <td>5.5</td>\n",
       "      <td>1</td>\n",
       "      <td>0</td>\n",
       "      <td>0</td>\n",
       "      <td>1.0</td>\n",
       "      <td>1.0</td>\n",
       "      <td>1.0</td>\n",
       "      <td>0.4054</td>\n",
       "      <td>1.681802</td>\n",
       "    </tr>\n",
       "    <tr>\n",
       "      <th>2</th>\n",
       "      <td>2.6</td>\n",
       "      <td>3.9</td>\n",
       "      <td>0</td>\n",
       "      <td>1</td>\n",
       "      <td>1</td>\n",
       "      <td>1.0</td>\n",
       "      <td>0.0</td>\n",
       "      <td>2.0</td>\n",
       "      <td>0.4054</td>\n",
       "      <td>-2.466699</td>\n",
       "    </tr>\n",
       "    <tr>\n",
       "      <th>3</th>\n",
       "      <td>3.3</td>\n",
       "      <td>6.2</td>\n",
       "      <td>1</td>\n",
       "      <td>0</td>\n",
       "      <td>0</td>\n",
       "      <td>1.0</td>\n",
       "      <td>1.0</td>\n",
       "      <td>1.0</td>\n",
       "      <td>0.4054</td>\n",
       "      <td>1.681802</td>\n",
       "    </tr>\n",
       "    <tr>\n",
       "      <th>4</th>\n",
       "      <td>2.0</td>\n",
       "      <td>3.5</td>\n",
       "      <td>1</td>\n",
       "      <td>0</td>\n",
       "      <td>1</td>\n",
       "      <td>0.0</td>\n",
       "      <td>0.0</td>\n",
       "      <td>0.0</td>\n",
       "      <td>0.4054</td>\n",
       "      <td>-2.466699</td>\n",
       "    </tr>\n",
       "    <tr>\n",
       "      <th>5</th>\n",
       "      <td>2.5</td>\n",
       "      <td>4.5</td>\n",
       "      <td>1</td>\n",
       "      <td>1</td>\n",
       "      <td>1</td>\n",
       "      <td>1.0</td>\n",
       "      <td>1.0</td>\n",
       "      <td>3.0</td>\n",
       "      <td>0.4054</td>\n",
       "      <td>-2.466699</td>\n",
       "    </tr>\n",
       "    <tr>\n",
       "      <th>6</th>\n",
       "      <td>1.4</td>\n",
       "      <td>5.1</td>\n",
       "      <td>1</td>\n",
       "      <td>0</td>\n",
       "      <td>0</td>\n",
       "      <td>0.0</td>\n",
       "      <td>1.0</td>\n",
       "      <td>1.0</td>\n",
       "      <td>0.4054</td>\n",
       "      <td>1.681802</td>\n",
       "    </tr>\n",
       "    <tr>\n",
       "      <th>7</th>\n",
       "      <td>2.1</td>\n",
       "      <td>2.7</td>\n",
       "      <td>0</td>\n",
       "      <td>1</td>\n",
       "      <td>0</td>\n",
       "      <td>0.0</td>\n",
       "      <td>0.0</td>\n",
       "      <td>2.0</td>\n",
       "      <td>0.4054</td>\n",
       "      <td>1.681802</td>\n",
       "    </tr>\n",
       "    <tr>\n",
       "      <th>8</th>\n",
       "      <td>1.7</td>\n",
       "      <td>4.1</td>\n",
       "      <td>1</td>\n",
       "      <td>0</td>\n",
       "      <td>1</td>\n",
       "      <td>0.0</td>\n",
       "      <td>0.0</td>\n",
       "      <td>0.0</td>\n",
       "      <td>0.4054</td>\n",
       "      <td>-2.466699</td>\n",
       "    </tr>\n",
       "    <tr>\n",
       "      <th>9</th>\n",
       "      <td>3.0</td>\n",
       "      <td>3.8</td>\n",
       "      <td>1</td>\n",
       "      <td>1</td>\n",
       "      <td>1</td>\n",
       "      <td>1.0</td>\n",
       "      <td>0.0</td>\n",
       "      <td>2.0</td>\n",
       "      <td>0.4054</td>\n",
       "      <td>-2.466699</td>\n",
       "    </tr>\n",
       "  </tbody>\n",
       "</table>\n",
       "</div>"
      ],
      "text/plain": [
       "    x1   x2  x3  x4  y  x1_binned  x2_binned  x2_binned&x4  y_pred      grad\n",
       "0  1.2  4.7   1   0  1        0.0        1.0           1.0  0.4054 -2.466699\n",
       "1  2.9  5.5   1   0  0        1.0        1.0           1.0  0.4054  1.681802\n",
       "2  2.6  3.9   0   1  1        1.0        0.0           2.0  0.4054 -2.466699\n",
       "3  3.3  6.2   1   0  0        1.0        1.0           1.0  0.4054  1.681802\n",
       "4  2.0  3.5   1   0  1        0.0        0.0           0.0  0.4054 -2.466699\n",
       "5  2.5  4.5   1   1  1        1.0        1.0           3.0  0.4054 -2.466699\n",
       "6  1.4  5.1   1   0  0        0.0        1.0           1.0  0.4054  1.681802\n",
       "7  2.1  2.7   0   1  0        0.0        0.0           2.0  0.4054  1.681802\n",
       "8  1.7  4.1   1   0  1        0.0        0.0           0.0  0.4054 -2.466699\n",
       "9  3.0  3.8   1   1  1        1.0        0.0           2.0  0.4054 -2.466699"
      ]
     },
     "execution_count": 48,
     "metadata": {},
     "output_type": "execute_result"
    }
   ],
   "source": [
    "data['grad'] = binary_cross_entropy_grad(data['y'], data['y_pred'])\n",
    "data"
   ]
  },
  {
   "cell_type": "markdown",
   "id": "e5f92fc4-b16b-4843-b532-526ae0b0e780",
   "metadata": {},
   "source": [
    "然后再计算样本的hes值："
   ]
  },
  {
   "cell_type": "code",
   "execution_count": 49,
   "id": "ab64d7e0-3e22-45ea-843f-bb04107d0390",
   "metadata": {},
   "outputs": [
    {
     "data": {
      "text/plain": [
       "0    6.084606\n",
       "1    2.828461\n",
       "2    6.084606\n",
       "3    2.828461\n",
       "4    6.084606\n",
       "5    6.084606\n",
       "6    2.828461\n",
       "7    2.828461\n",
       "8    6.084606\n",
       "9    6.084606\n",
       "dtype: float64"
      ]
     },
     "execution_count": 49,
     "metadata": {},
     "output_type": "execute_result"
    }
   ],
   "source": [
    "binary_cross_entropy_hess(data['y'], data['y_pred'])"
   ]
  },
  {
   "cell_type": "code",
   "execution_count": 50,
   "id": "604ce975-3bab-4baa-8019-6a7f08ed424b",
   "metadata": {},
   "outputs": [
    {
     "data": {
      "text/html": [
       "<div>\n",
       "<style scoped>\n",
       "    .dataframe tbody tr th:only-of-type {\n",
       "        vertical-align: middle;\n",
       "    }\n",
       "\n",
       "    .dataframe tbody tr th {\n",
       "        vertical-align: top;\n",
       "    }\n",
       "\n",
       "    .dataframe thead th {\n",
       "        text-align: right;\n",
       "    }\n",
       "</style>\n",
       "<table border=\"1\" class=\"dataframe\">\n",
       "  <thead>\n",
       "    <tr style=\"text-align: right;\">\n",
       "      <th></th>\n",
       "      <th>x1</th>\n",
       "      <th>x2</th>\n",
       "      <th>x3</th>\n",
       "      <th>x4</th>\n",
       "      <th>y</th>\n",
       "      <th>x1_binned</th>\n",
       "      <th>x2_binned</th>\n",
       "      <th>x2_binned&amp;x4</th>\n",
       "      <th>y_pred</th>\n",
       "      <th>grad</th>\n",
       "      <th>hess</th>\n",
       "    </tr>\n",
       "  </thead>\n",
       "  <tbody>\n",
       "    <tr>\n",
       "      <th>0</th>\n",
       "      <td>1.2</td>\n",
       "      <td>4.7</td>\n",
       "      <td>1</td>\n",
       "      <td>0</td>\n",
       "      <td>1</td>\n",
       "      <td>0.0</td>\n",
       "      <td>1.0</td>\n",
       "      <td>1.0</td>\n",
       "      <td>0.4054</td>\n",
       "      <td>-2.466699</td>\n",
       "      <td>6.084606</td>\n",
       "    </tr>\n",
       "    <tr>\n",
       "      <th>1</th>\n",
       "      <td>2.9</td>\n",
       "      <td>5.5</td>\n",
       "      <td>1</td>\n",
       "      <td>0</td>\n",
       "      <td>0</td>\n",
       "      <td>1.0</td>\n",
       "      <td>1.0</td>\n",
       "      <td>1.0</td>\n",
       "      <td>0.4054</td>\n",
       "      <td>1.681802</td>\n",
       "      <td>2.828461</td>\n",
       "    </tr>\n",
       "    <tr>\n",
       "      <th>2</th>\n",
       "      <td>2.6</td>\n",
       "      <td>3.9</td>\n",
       "      <td>0</td>\n",
       "      <td>1</td>\n",
       "      <td>1</td>\n",
       "      <td>1.0</td>\n",
       "      <td>0.0</td>\n",
       "      <td>2.0</td>\n",
       "      <td>0.4054</td>\n",
       "      <td>-2.466699</td>\n",
       "      <td>6.084606</td>\n",
       "    </tr>\n",
       "    <tr>\n",
       "      <th>3</th>\n",
       "      <td>3.3</td>\n",
       "      <td>6.2</td>\n",
       "      <td>1</td>\n",
       "      <td>0</td>\n",
       "      <td>0</td>\n",
       "      <td>1.0</td>\n",
       "      <td>1.0</td>\n",
       "      <td>1.0</td>\n",
       "      <td>0.4054</td>\n",
       "      <td>1.681802</td>\n",
       "      <td>2.828461</td>\n",
       "    </tr>\n",
       "    <tr>\n",
       "      <th>4</th>\n",
       "      <td>2.0</td>\n",
       "      <td>3.5</td>\n",
       "      <td>1</td>\n",
       "      <td>0</td>\n",
       "      <td>1</td>\n",
       "      <td>0.0</td>\n",
       "      <td>0.0</td>\n",
       "      <td>0.0</td>\n",
       "      <td>0.4054</td>\n",
       "      <td>-2.466699</td>\n",
       "      <td>6.084606</td>\n",
       "    </tr>\n",
       "    <tr>\n",
       "      <th>5</th>\n",
       "      <td>2.5</td>\n",
       "      <td>4.5</td>\n",
       "      <td>1</td>\n",
       "      <td>1</td>\n",
       "      <td>1</td>\n",
       "      <td>1.0</td>\n",
       "      <td>1.0</td>\n",
       "      <td>3.0</td>\n",
       "      <td>0.4054</td>\n",
       "      <td>-2.466699</td>\n",
       "      <td>6.084606</td>\n",
       "    </tr>\n",
       "    <tr>\n",
       "      <th>6</th>\n",
       "      <td>1.4</td>\n",
       "      <td>5.1</td>\n",
       "      <td>1</td>\n",
       "      <td>0</td>\n",
       "      <td>0</td>\n",
       "      <td>0.0</td>\n",
       "      <td>1.0</td>\n",
       "      <td>1.0</td>\n",
       "      <td>0.4054</td>\n",
       "      <td>1.681802</td>\n",
       "      <td>2.828461</td>\n",
       "    </tr>\n",
       "    <tr>\n",
       "      <th>7</th>\n",
       "      <td>2.1</td>\n",
       "      <td>2.7</td>\n",
       "      <td>0</td>\n",
       "      <td>1</td>\n",
       "      <td>0</td>\n",
       "      <td>0.0</td>\n",
       "      <td>0.0</td>\n",
       "      <td>2.0</td>\n",
       "      <td>0.4054</td>\n",
       "      <td>1.681802</td>\n",
       "      <td>2.828461</td>\n",
       "    </tr>\n",
       "    <tr>\n",
       "      <th>8</th>\n",
       "      <td>1.7</td>\n",
       "      <td>4.1</td>\n",
       "      <td>1</td>\n",
       "      <td>0</td>\n",
       "      <td>1</td>\n",
       "      <td>0.0</td>\n",
       "      <td>0.0</td>\n",
       "      <td>0.0</td>\n",
       "      <td>0.4054</td>\n",
       "      <td>-2.466699</td>\n",
       "      <td>6.084606</td>\n",
       "    </tr>\n",
       "    <tr>\n",
       "      <th>9</th>\n",
       "      <td>3.0</td>\n",
       "      <td>3.8</td>\n",
       "      <td>1</td>\n",
       "      <td>1</td>\n",
       "      <td>1</td>\n",
       "      <td>1.0</td>\n",
       "      <td>0.0</td>\n",
       "      <td>2.0</td>\n",
       "      <td>0.4054</td>\n",
       "      <td>-2.466699</td>\n",
       "      <td>6.084606</td>\n",
       "    </tr>\n",
       "  </tbody>\n",
       "</table>\n",
       "</div>"
      ],
      "text/plain": [
       "    x1   x2  x3  x4  y  x1_binned  x2_binned  x2_binned&x4  y_pred      grad  \\\n",
       "0  1.2  4.7   1   0  1        0.0        1.0           1.0  0.4054 -2.466699   \n",
       "1  2.9  5.5   1   0  0        1.0        1.0           1.0  0.4054  1.681802   \n",
       "2  2.6  3.9   0   1  1        1.0        0.0           2.0  0.4054 -2.466699   \n",
       "3  3.3  6.2   1   0  0        1.0        1.0           1.0  0.4054  1.681802   \n",
       "4  2.0  3.5   1   0  1        0.0        0.0           0.0  0.4054 -2.466699   \n",
       "5  2.5  4.5   1   1  1        1.0        1.0           3.0  0.4054 -2.466699   \n",
       "6  1.4  5.1   1   0  0        0.0        1.0           1.0  0.4054  1.681802   \n",
       "7  2.1  2.7   0   1  0        0.0        0.0           2.0  0.4054  1.681802   \n",
       "8  1.7  4.1   1   0  1        0.0        0.0           0.0  0.4054 -2.466699   \n",
       "9  3.0  3.8   1   1  1        1.0        0.0           2.0  0.4054 -2.466699   \n",
       "\n",
       "       hess  \n",
       "0  6.084606  \n",
       "1  2.828461  \n",
       "2  6.084606  \n",
       "3  2.828461  \n",
       "4  6.084606  \n",
       "5  6.084606  \n",
       "6  2.828461  \n",
       "7  2.828461  \n",
       "8  6.084606  \n",
       "9  6.084606  "
      ]
     },
     "execution_count": 50,
     "metadata": {},
     "output_type": "execute_result"
    }
   ],
   "source": [
    "data['hess'] = binary_cross_entropy_hess(data['y'], data['y_pred'])\n",
    "data"
   ]
  },
  {
   "cell_type": "markdown",
   "id": "8eae6ed9-a943-4e30-88ff-7a7b44403766",
   "metadata": {},
   "source": [
    "- GOSS抽样"
   ]
  },
  {
   "cell_type": "markdown",
   "id": "4ccffbd7-6757-4f1c-8e1e-561bffc85754",
   "metadata": {},
   "source": [
    "&emsp;&emsp;据此我们即可进一步执行GOSS抽样。这里我们假设top_rate=0.2，other_rate=0.5，由于我们样本量较少，因此这里设置的比例偏大。此时GOSS抽样过程如下，首先计算样本梯度绝对值："
   ]
  },
  {
   "cell_type": "code",
   "execution_count": 51,
   "id": "be67345d-f926-4bb7-9d45-23fa6fa5a801",
   "metadata": {},
   "outputs": [
    {
     "data": {
      "text/plain": [
       "0    2.466699\n",
       "1    1.681802\n",
       "2    2.466699\n",
       "3    1.681802\n",
       "4    2.466699\n",
       "5    2.466699\n",
       "6    1.681802\n",
       "7    1.681802\n",
       "8    2.466699\n",
       "9    2.466699\n",
       "Name: grad, dtype: float64"
      ]
     },
     "execution_count": 51,
     "metadata": {},
     "output_type": "execute_result"
    }
   ],
   "source": [
    "abs_gradients = np.abs(data['grad'])\n",
    "abs_gradients"
   ]
  },
  {
   "cell_type": "markdown",
   "id": "f3edaea6-bacf-466f-a04c-b39f88be6298",
   "metadata": {},
   "source": [
    "然后进行从大到小的索引排序："
   ]
  },
  {
   "cell_type": "code",
   "execution_count": 52,
   "id": "e1b276ce-f3a2-4183-9804-aa2391e1a1b6",
   "metadata": {},
   "outputs": [
    {
     "data": {
      "text/plain": [
       "0    0\n",
       "1    2\n",
       "2    4\n",
       "3    5\n",
       "4    8\n",
       "5    9\n",
       "6    1\n",
       "7    3\n",
       "8    6\n",
       "9    7\n",
       "Name: grad, dtype: int64"
      ]
     },
     "execution_count": 52,
     "metadata": {},
     "output_type": "execute_result"
    }
   ],
   "source": [
    "sorted_index = np.argsort(-abs_gradients)\n",
    "sorted_index"
   ]
  },
  {
   "cell_type": "markdown",
   "id": "188ba534-c05a-4f00-afcc-7b01d7a1cf96",
   "metadata": {},
   "source": [
    "此时top_rate=0.2，other_rate=0.5，即从10条数据中挑选出梯度最大的2条数据，然后从剩下的8条数据中抽取50%，即抽取4条数据，共同构成本次GOSS抽样得到的训练数据集。这里我们先借助布尔索引先挑选出梯度最大的2条数据："
   ]
  },
  {
   "cell_type": "code",
   "execution_count": 53,
   "id": "5ec6146f-375d-471d-81ce-e2d494a743fa",
   "metadata": {},
   "outputs": [
    {
     "data": {
      "text/plain": [
       "array([0, 2], dtype=int64)"
      ]
     },
     "execution_count": 53,
     "metadata": {},
     "output_type": "execute_result"
    }
   ],
   "source": [
    "topn_index = sorted_index[:2]\n",
    "topn_index.values"
   ]
  },
  {
   "cell_type": "markdown",
   "id": "562bb3a4-7c14-49dd-807e-d10bbfc1a31c",
   "metadata": {},
   "source": [
    "两条数据抽取结果如下："
   ]
  },
  {
   "cell_type": "code",
   "execution_count": 54,
   "id": "2efe6326-6392-4c62-9e62-cebc4921dda8",
   "metadata": {},
   "outputs": [
    {
     "data": {
      "text/html": [
       "<div>\n",
       "<style scoped>\n",
       "    .dataframe tbody tr th:only-of-type {\n",
       "        vertical-align: middle;\n",
       "    }\n",
       "\n",
       "    .dataframe tbody tr th {\n",
       "        vertical-align: top;\n",
       "    }\n",
       "\n",
       "    .dataframe thead th {\n",
       "        text-align: right;\n",
       "    }\n",
       "</style>\n",
       "<table border=\"1\" class=\"dataframe\">\n",
       "  <thead>\n",
       "    <tr style=\"text-align: right;\">\n",
       "      <th></th>\n",
       "      <th>x1</th>\n",
       "      <th>x2</th>\n",
       "      <th>x3</th>\n",
       "      <th>x4</th>\n",
       "      <th>y</th>\n",
       "      <th>x1_binned</th>\n",
       "      <th>x2_binned</th>\n",
       "      <th>x2_binned&amp;x4</th>\n",
       "      <th>y_pred</th>\n",
       "      <th>grad</th>\n",
       "      <th>hess</th>\n",
       "    </tr>\n",
       "  </thead>\n",
       "  <tbody>\n",
       "    <tr>\n",
       "      <th>0</th>\n",
       "      <td>1.2</td>\n",
       "      <td>4.7</td>\n",
       "      <td>1</td>\n",
       "      <td>0</td>\n",
       "      <td>1</td>\n",
       "      <td>0.0</td>\n",
       "      <td>1.0</td>\n",
       "      <td>1.0</td>\n",
       "      <td>0.4054</td>\n",
       "      <td>-2.466699</td>\n",
       "      <td>6.084606</td>\n",
       "    </tr>\n",
       "    <tr>\n",
       "      <th>2</th>\n",
       "      <td>2.6</td>\n",
       "      <td>3.9</td>\n",
       "      <td>0</td>\n",
       "      <td>1</td>\n",
       "      <td>1</td>\n",
       "      <td>1.0</td>\n",
       "      <td>0.0</td>\n",
       "      <td>2.0</td>\n",
       "      <td>0.4054</td>\n",
       "      <td>-2.466699</td>\n",
       "      <td>6.084606</td>\n",
       "    </tr>\n",
       "  </tbody>\n",
       "</table>\n",
       "</div>"
      ],
      "text/plain": [
       "    x1   x2  x3  x4  y  x1_binned  x2_binned  x2_binned&x4  y_pred      grad  \\\n",
       "0  1.2  4.7   1   0  1        0.0        1.0           1.0  0.4054 -2.466699   \n",
       "2  2.6  3.9   0   1  1        1.0        0.0           2.0  0.4054 -2.466699   \n",
       "\n",
       "       hess  \n",
       "0  6.084606  \n",
       "2  6.084606  "
      ]
     },
     "execution_count": 54,
     "metadata": {},
     "output_type": "execute_result"
    }
   ],
   "source": [
    "topn_data = data.iloc[topn_index.values, :]\n",
    "topn_data"
   ]
  },
  {
   "cell_type": "markdown",
   "id": "b1081ae5-227b-45a6-9d34-5368347d1b66",
   "metadata": {},
   "source": [
    "然后再从剩下的数据集中随机抽取4条数据，首先是找到剩余数据集索引："
   ]
  },
  {
   "cell_type": "code",
   "execution_count": 55,
   "id": "28b6f820-31e3-4da5-98b3-7fb2889bf85b",
   "metadata": {},
   "outputs": [
    {
     "data": {
      "text/plain": [
       "0    False\n",
       "1     True\n",
       "2     True\n",
       "3     True\n",
       "4     True\n",
       "5     True\n",
       "6    False\n",
       "7     True\n",
       "8     True\n",
       "9     True\n",
       "Name: grad, dtype: bool"
      ]
     },
     "execution_count": 55,
     "metadata": {},
     "output_type": "execute_result"
    }
   ],
   "source": [
    "sorted_index >= 2"
   ]
  },
  {
   "cell_type": "code",
   "execution_count": 56,
   "id": "aee602ac-89a3-41eb-9f13-090f0cecd357",
   "metadata": {},
   "outputs": [
    {
     "data": {
      "text/plain": [
       "Int64Index([1, 2, 3, 4, 5, 7, 8, 9], dtype='int64')"
      ]
     },
     "execution_count": 56,
     "metadata": {},
     "output_type": "execute_result"
    }
   ],
   "source": [
    "data[sorted_index >= 2].index"
   ]
  },
  {
   "cell_type": "markdown",
   "id": "8a27517f-b7f7-4d6e-9a16-2e5ca5da478a",
   "metadata": {},
   "source": [
    "然后进行抽样，这里采用无放回抽样，并提前设置好随机数种子："
   ]
  },
  {
   "cell_type": "code",
   "execution_count": 57,
   "id": "13b328c8-7923-471b-abd9-3fd253b2f15c",
   "metadata": {},
   "outputs": [
    {
     "data": {
      "text/plain": [
       "array([5, 8, 1, 3], dtype=int64)"
      ]
     },
     "execution_count": 57,
     "metadata": {},
     "output_type": "execute_result"
    }
   ],
   "source": [
    "np.random.seed(12)\n",
    "raten_index = np.random.choice(data[sorted_index >= 2].index, size=4, replace=False)\n",
    "raten_index"
   ]
  },
  {
   "cell_type": "code",
   "execution_count": 58,
   "id": "48fa4c88-9c20-4bd0-bf7d-6aefca11b6c5",
   "metadata": {},
   "outputs": [
    {
     "data": {
      "text/html": [
       "<div>\n",
       "<style scoped>\n",
       "    .dataframe tbody tr th:only-of-type {\n",
       "        vertical-align: middle;\n",
       "    }\n",
       "\n",
       "    .dataframe tbody tr th {\n",
       "        vertical-align: top;\n",
       "    }\n",
       "\n",
       "    .dataframe thead th {\n",
       "        text-align: right;\n",
       "    }\n",
       "</style>\n",
       "<table border=\"1\" class=\"dataframe\">\n",
       "  <thead>\n",
       "    <tr style=\"text-align: right;\">\n",
       "      <th></th>\n",
       "      <th>x1</th>\n",
       "      <th>x2</th>\n",
       "      <th>x3</th>\n",
       "      <th>x4</th>\n",
       "      <th>y</th>\n",
       "      <th>x1_binned</th>\n",
       "      <th>x2_binned</th>\n",
       "      <th>x2_binned&amp;x4</th>\n",
       "      <th>y_pred</th>\n",
       "      <th>grad</th>\n",
       "      <th>hess</th>\n",
       "    </tr>\n",
       "  </thead>\n",
       "  <tbody>\n",
       "    <tr>\n",
       "      <th>5</th>\n",
       "      <td>2.5</td>\n",
       "      <td>4.5</td>\n",
       "      <td>1</td>\n",
       "      <td>1</td>\n",
       "      <td>1</td>\n",
       "      <td>1.0</td>\n",
       "      <td>1.0</td>\n",
       "      <td>3.0</td>\n",
       "      <td>0.4054</td>\n",
       "      <td>-2.466699</td>\n",
       "      <td>6.084606</td>\n",
       "    </tr>\n",
       "    <tr>\n",
       "      <th>8</th>\n",
       "      <td>1.7</td>\n",
       "      <td>4.1</td>\n",
       "      <td>1</td>\n",
       "      <td>0</td>\n",
       "      <td>1</td>\n",
       "      <td>0.0</td>\n",
       "      <td>0.0</td>\n",
       "      <td>0.0</td>\n",
       "      <td>0.4054</td>\n",
       "      <td>-2.466699</td>\n",
       "      <td>6.084606</td>\n",
       "    </tr>\n",
       "    <tr>\n",
       "      <th>1</th>\n",
       "      <td>2.9</td>\n",
       "      <td>5.5</td>\n",
       "      <td>1</td>\n",
       "      <td>0</td>\n",
       "      <td>0</td>\n",
       "      <td>1.0</td>\n",
       "      <td>1.0</td>\n",
       "      <td>1.0</td>\n",
       "      <td>0.4054</td>\n",
       "      <td>1.681802</td>\n",
       "      <td>2.828461</td>\n",
       "    </tr>\n",
       "    <tr>\n",
       "      <th>3</th>\n",
       "      <td>3.3</td>\n",
       "      <td>6.2</td>\n",
       "      <td>1</td>\n",
       "      <td>0</td>\n",
       "      <td>0</td>\n",
       "      <td>1.0</td>\n",
       "      <td>1.0</td>\n",
       "      <td>1.0</td>\n",
       "      <td>0.4054</td>\n",
       "      <td>1.681802</td>\n",
       "      <td>2.828461</td>\n",
       "    </tr>\n",
       "  </tbody>\n",
       "</table>\n",
       "</div>"
      ],
      "text/plain": [
       "    x1   x2  x3  x4  y  x1_binned  x2_binned  x2_binned&x4  y_pred      grad  \\\n",
       "5  2.5  4.5   1   1  1        1.0        1.0           3.0  0.4054 -2.466699   \n",
       "8  1.7  4.1   1   0  1        0.0        0.0           0.0  0.4054 -2.466699   \n",
       "1  2.9  5.5   1   0  0        1.0        1.0           1.0  0.4054  1.681802   \n",
       "3  3.3  6.2   1   0  0        1.0        1.0           1.0  0.4054  1.681802   \n",
       "\n",
       "       hess  \n",
       "5  6.084606  \n",
       "8  6.084606  \n",
       "1  2.828461  \n",
       "3  2.828461  "
      ]
     },
     "execution_count": 58,
     "metadata": {},
     "output_type": "execute_result"
    }
   ],
   "source": [
    "raten_data = data.iloc[raten_index, :]\n",
    "raten_data"
   ]
  },
  {
   "cell_type": "markdown",
   "id": "986cc74b-76c8-4721-81b7-b5bf512bac0d",
   "metadata": {},
   "source": [
    "至此，我们就完成了一次GOSS抽样全过程，接下来我们就将带入我们抽样得到的topn_data和raten_data带入进行模型训练。"
   ]
  },
  {
   "cell_type": "markdown",
   "id": "326b647b-683b-4947-95d3-950bc9b88a91",
   "metadata": {},
   "source": [
    "> 需要注意的是，这里实现的GOSS抽样的代码流程并不是LGBM源码实现流程，源码的计算过程会更加高效且大都由C++编写。"
   ]
  },
  {
   "cell_type": "markdown",
   "id": "5842e0d3-eed2-405c-9be7-0f92f093ede3",
   "metadata": {},
   "source": [
    "### 2.LGBM决策树生长过程与直方图优化算法（Histogram-based Algorithm）"
   ]
  },
  {
   "cell_type": "markdown",
   "id": "76923c55-dfce-4c8d-87d7-cdbd394ed549",
   "metadata": {},
   "source": [
    "&emsp;&emsp;在拿到GOSS抽样的数据集之后，接下来就正式进入到单独一颗决策树的生长过程中。该过程将涉及三个核心概念，LGBM决策树生长的增益计算公式、Leaf wise tree growth（叶节点优先）生长策略以及直方图优化算法。接下来我们逐一对其进行介绍。"
   ]
  },
  {
   "cell_type": "markdown",
   "id": "09ce3f79-f92e-4e6e-a6ef-e150d55a08df",
   "metadata": {},
   "source": [
    "#### 2.1 基本原理介绍"
   ]
  },
  {
   "cell_type": "markdown",
   "id": "123ebc0c-d37d-4f5d-b186-53ae6da5a3d5",
   "metadata": {},
   "source": [
    "- 直方图优化算法（Histogram-based Algorithm）"
   ]
  },
  {
   "cell_type": "markdown",
   "id": "d64c2692-8eba-48da-84d4-02b69d1c6c34",
   "metadata": {},
   "source": [
    "&emsp;&emsp;直方图优化算法与其说是一种算法，不如是一种决策树生长分裂过程中数据集（及其关键信息）的表示方法——即通过直方图来表示数据集（及其关键信息）在决策树生长过程中的分裂即计算过程。这种表示方法能够大幅减少数据集内存占用、提升计算速度，并且方便进行直方图差分计算——子节点的直方图可以通过从父节点的直方图中减去兄弟节点的直方图来得到。<center><img src=\"https://ml2022.oss-cn-hangzhou.aliyuncs.com/img/202303221537628.png\" alt=\"981861843f708f9efb5f74829c336b3\" style=\"zoom: 40%;\" />"
   ]
  },
  {
   "cell_type": "markdown",
   "id": "74859a91-e354-495d-8add-292955bab43e",
   "metadata": {},
   "source": [
    "&emsp;&emsp;需要注意的是，直方图算法最早是XGB算法提出的一种加速计算的方法，LGBM和XGB的直方图算法在直方图的表示形式上并没有任何区别，只是在直方图统计的值方面有区别：XGB是用直方图统计样本值的累加（并对特征进行排序），而LGBM是用直方图统计数据集的一阶导数和Hessian值的累加（并对特征进行排序）。也正因如此，LGBM可以利用直方图进行差分加速，而XGB不行。从这点而言，LGBM的直方图优化算法可以视作XGB直方图优化算法的优化版本。当然除此之外，LGBM还有很多并行计算的策略，进一步加速其计算过程。"
   ]
  },
  {
   "cell_type": "markdown",
   "id": "8c7a0a67-bafe-4c4a-b8e9-7c2516407846",
   "metadata": {},
   "source": [
    "- LGBM决策树生长的增益计算公式"
   ]
  },
  {
   "cell_type": "markdown",
   "id": "6402dac6-c320-48a4-b643-3be4c24dbc33",
   "metadata": {},
   "source": [
    "&emsp;&emsp;而在具体的决策树生长过程中，最重要的是进行切分点的选取，这个过程中最重要的分裂增益的计算方法。不同于CART树的基于基尼系数差的增益计算方法和C4.5的基于信息熵的信息增益，LGBM采用了一种非常特殊的、同时包含梯度和Hessian值得分裂增益计算方法，具体计算公式如下："
   ]
  },
  {
   "cell_type": "markdown",
   "id": "88495deb-1e85-4bee-91dc-9647385b187f",
   "metadata": {},
   "source": [
    "$$Gain = \\frac{G_L^2}{H_L + \\lambda} + \\frac{G_R^2}{H_R + \\lambda} - \\frac{(G_L + G_R)^2}{H_L + H_R + \\lambda} - \\alpha \\cdot (|w_L|+|w_R|)$$"
   ]
  },
  {
   "cell_type": "markdown",
   "id": "41a1d36b-979f-438f-bc09-9011a20bdc05",
   "metadata": {},
   "source": [
    "其中，$G_L$ 和 $G_R$ 分别左节点和右节点的梯度和，$H_L$ 和 $H_R$ 分别是左节点和右节点的Hessian和，$\\lambda$ 是 reg_lambda 参数（L2正则化项），$\\alpha$ 是 reg_alpha 参数（L1正则化项），$w_L$ 和 $w_R$ 分别是左节点和右节点的权重。并且，对于一个节点，权重计算公式如下："
   ]
  },
  {
   "cell_type": "markdown",
   "id": "20deda21-d3b0-4e7f-a569-200576025468",
   "metadata": {},
   "source": [
    "$$w=-\\frac{G}{H+\\lambda}$$"
   ]
  },
  {
   "cell_type": "markdown",
   "id": "351102d6-89a2-4cb4-8008-d959b822fa81",
   "metadata": {},
   "source": [
    "而对于reg_alpha和reg_lambda，其实是模型的两个超参数，也被称作L1正则化参数和L2正则化参数，用于控制模型结构风险。根据分裂增益计算公式不难看出，在数据集梯度和Hessian固定不变的情况下，L1正则化参数和L2正则化参数取值越大，增益计算结果就越小，决策树就越倾向于不分裂。"
   ]
  },
  {
   "cell_type": "markdown",
   "id": "da17e22c-2073-47eb-b485-f3398b070a95",
   "metadata": {},
   "source": [
    "> 这里需要注意的是，LGBM分裂增益计算公式有三个不同的版本，原始论文、官网和源码实现过程分别给出了三种不同的分裂增益计算公式。本节列举的分裂增益计算公式是根据源码公式推导而来，下一小节我们将围绕此问题进行详细的讨论。"
   ]
  },
  {
   "cell_type": "markdown",
   "id": "e1080ef8-8eb9-467f-9573-1b9fb988fe3b",
   "metadata": {},
   "source": [
    "- LGBM的Leaf wise tree growth生长策略"
   ]
  },
  {
   "cell_type": "markdown",
   "id": "f9a7a22e-244f-4a0f-9f1e-f94fbc20bbd2",
   "metadata": {},
   "source": [
    "&emsp;&emsp;在具体生长的过程中，LGBM中的决策树也是同样会比较不同切分点带来的增益，然后选择增益最大的切分点进行分裂，这个过程和其他所有决策树都一样。而所谓的Leaf wise tree growth（叶节点优先）生长策略，则是对比另一种生长策略：Level-wise tree growth（层次优先的生长策略），前者是一次生长一个节点，可以长成不同子树深浅不一的决策树："
   ]
  },
  {
   "cell_type": "markdown",
   "id": "9d1d6ebd-63b1-4b52-bbf1-cce70c823ae2",
   "metadata": {},
   "source": [
    "<center><img src=\"https://ml2022.oss-cn-hangzhou.aliyuncs.com/img/202303221543679.png\" alt=\"33f0d4c90d591b2577698a730d24dfc\" style=\"zoom:50%;\" />"
   ]
  },
  {
   "cell_type": "markdown",
   "id": "3371b1d6-1fa3-412a-bb5c-eadf87fd7732",
   "metadata": {},
   "source": [
    "而Level-wise tree growth则是一次生长一层，最后决策树将是左右子树深度："
   ]
  },
  {
   "cell_type": "markdown",
   "id": "153c2170-8335-4a65-8b93-aa4a7b09aa68",
   "metadata": {},
   "source": [
    "<center><img src=\"https://ml2022.oss-cn-hangzhou.aliyuncs.com/img/202303221541288.png\" alt=\"b4030247c4f8acaee3a8337bb6e7bb2\" style=\"zoom:50%;\" />"
   ]
  },
  {
   "cell_type": "markdown",
   "id": "72d13daa-4e07-4dd0-920c-54621688eb3a",
   "metadata": {},
   "source": [
    "&emsp;&emsp;其实关于这两种不同的生长方式，大家可以回顾Lesson 8决策树的相关内容，其中CART树就是一种Leaf wise tree growth，而C3.0就是Level-wise tree growth，这里我们可以理解为LGBM就是采用了CART树类似的生长流程即可。相比层次优先的生长策略，叶节点优先的生长策略会耗费更多的计算量、但同时也会有更高的预测精度。对于其他大多数集成学习算法来说，为了提高计算效率，其实都是采用的层次优先的生长策略（比如XGB），而LGBM经过了一系列数据压缩和其他优化方法，本来就拥有非常高的计算效率，因此在具体决策树建模的时候采用了一种更高精度叶节点优先的策略，来确保其在压缩后的数据上能够获得更高的预测精度。"
   ]
  },
  {
   "cell_type": "markdown",
   "id": "ea11fe2f-8cb0-40b4-806d-0c9880e5117f",
   "metadata": {},
   "source": [
    "&emsp;&emsp;当然，叶节点优先的生长策略也会增加模型过拟合风险，因此对于LGBM来说，必须要通过限制树的最大深度来解决叶节点优先带来的过拟合问题，因此，对于LGBM来说，在超参数优化时树的最大深度max_depth将会是一个非常重要的超参数。"
   ]
  },
  {
   "cell_type": "markdown",
   "id": "d191e381-186f-4c6e-9e67-dddd6b04bddb",
   "metadata": {},
   "source": [
    "#### 2.2 手动实现流程"
   ]
  },
  {
   "cell_type": "markdown",
   "id": "7cbc77d3-a441-4e30-b81a-c9a493933b9a",
   "metadata": {},
   "source": [
    "&emsp;&emsp;接下来，我们结合data数据集及之前抽样得到的GOSS数据集，来手动执行决策树生长流程。这里我们首先介绍如何手动计算一颗树的生长流程，然后再介绍如何采用直方图算法来优化这个计算流程。这里需要注意的是，实际的LGBM在进行迭代时是围绕伪残差进行拟合，这里为了便于介绍决策树的分裂增益和Leaf wise tree growth生长策略，决策树拟合目标改为数据集标签。在下一小节，我们将详细讨论LGBM伪残差计算公式以及如何围绕伪残差进行决策树建模拟合。"
   ]
  },
  {
   "cell_type": "markdown",
   "id": "8c9fa02a-8036-42e4-aa0c-6cebae80e541",
   "metadata": {},
   "source": [
    "- 数据准备"
   ]
  },
  {
   "cell_type": "markdown",
   "id": "28043a2c-1df4-451c-93ec-0eb897a6b2eb",
   "metadata": {},
   "source": [
    "&emsp;&emsp;首先准备手动计算所需数据集，还是围绕此前介绍的data数据集，我们将GOSS抽样得到的数据集进行合并和标记处理。"
   ]
  },
  {
   "cell_type": "code",
   "execution_count": 59,
   "id": "e51ba6af-d93b-41c1-905b-5367a3adc5d6",
   "metadata": {},
   "outputs": [
    {
     "data": {
      "text/html": [
       "<div>\n",
       "<style scoped>\n",
       "    .dataframe tbody tr th:only-of-type {\n",
       "        vertical-align: middle;\n",
       "    }\n",
       "\n",
       "    .dataframe tbody tr th {\n",
       "        vertical-align: top;\n",
       "    }\n",
       "\n",
       "    .dataframe thead th {\n",
       "        text-align: right;\n",
       "    }\n",
       "</style>\n",
       "<table border=\"1\" class=\"dataframe\">\n",
       "  <thead>\n",
       "    <tr style=\"text-align: right;\">\n",
       "      <th></th>\n",
       "      <th>x1</th>\n",
       "      <th>x2</th>\n",
       "      <th>x3</th>\n",
       "      <th>x4</th>\n",
       "      <th>y</th>\n",
       "      <th>x1_binned</th>\n",
       "      <th>x2_binned</th>\n",
       "      <th>x2_binned&amp;x4</th>\n",
       "      <th>y_pred</th>\n",
       "      <th>grad</th>\n",
       "      <th>hess</th>\n",
       "    </tr>\n",
       "  </thead>\n",
       "  <tbody>\n",
       "    <tr>\n",
       "      <th>0</th>\n",
       "      <td>1.2</td>\n",
       "      <td>4.7</td>\n",
       "      <td>1</td>\n",
       "      <td>0</td>\n",
       "      <td>1</td>\n",
       "      <td>0.0</td>\n",
       "      <td>1.0</td>\n",
       "      <td>1.0</td>\n",
       "      <td>0.4054</td>\n",
       "      <td>-2.466699</td>\n",
       "      <td>6.084606</td>\n",
       "    </tr>\n",
       "    <tr>\n",
       "      <th>1</th>\n",
       "      <td>2.9</td>\n",
       "      <td>5.5</td>\n",
       "      <td>1</td>\n",
       "      <td>0</td>\n",
       "      <td>0</td>\n",
       "      <td>1.0</td>\n",
       "      <td>1.0</td>\n",
       "      <td>1.0</td>\n",
       "      <td>0.4054</td>\n",
       "      <td>1.681802</td>\n",
       "      <td>2.828461</td>\n",
       "    </tr>\n",
       "    <tr>\n",
       "      <th>2</th>\n",
       "      <td>2.6</td>\n",
       "      <td>3.9</td>\n",
       "      <td>0</td>\n",
       "      <td>1</td>\n",
       "      <td>1</td>\n",
       "      <td>1.0</td>\n",
       "      <td>0.0</td>\n",
       "      <td>2.0</td>\n",
       "      <td>0.4054</td>\n",
       "      <td>-2.466699</td>\n",
       "      <td>6.084606</td>\n",
       "    </tr>\n",
       "    <tr>\n",
       "      <th>3</th>\n",
       "      <td>3.3</td>\n",
       "      <td>6.2</td>\n",
       "      <td>1</td>\n",
       "      <td>0</td>\n",
       "      <td>0</td>\n",
       "      <td>1.0</td>\n",
       "      <td>1.0</td>\n",
       "      <td>1.0</td>\n",
       "      <td>0.4054</td>\n",
       "      <td>1.681802</td>\n",
       "      <td>2.828461</td>\n",
       "    </tr>\n",
       "    <tr>\n",
       "      <th>4</th>\n",
       "      <td>2.0</td>\n",
       "      <td>3.5</td>\n",
       "      <td>1</td>\n",
       "      <td>0</td>\n",
       "      <td>1</td>\n",
       "      <td>0.0</td>\n",
       "      <td>0.0</td>\n",
       "      <td>0.0</td>\n",
       "      <td>0.4054</td>\n",
       "      <td>-2.466699</td>\n",
       "      <td>6.084606</td>\n",
       "    </tr>\n",
       "    <tr>\n",
       "      <th>5</th>\n",
       "      <td>2.5</td>\n",
       "      <td>4.5</td>\n",
       "      <td>1</td>\n",
       "      <td>1</td>\n",
       "      <td>1</td>\n",
       "      <td>1.0</td>\n",
       "      <td>1.0</td>\n",
       "      <td>3.0</td>\n",
       "      <td>0.4054</td>\n",
       "      <td>-2.466699</td>\n",
       "      <td>6.084606</td>\n",
       "    </tr>\n",
       "    <tr>\n",
       "      <th>6</th>\n",
       "      <td>1.4</td>\n",
       "      <td>5.1</td>\n",
       "      <td>1</td>\n",
       "      <td>0</td>\n",
       "      <td>0</td>\n",
       "      <td>0.0</td>\n",
       "      <td>1.0</td>\n",
       "      <td>1.0</td>\n",
       "      <td>0.4054</td>\n",
       "      <td>1.681802</td>\n",
       "      <td>2.828461</td>\n",
       "    </tr>\n",
       "    <tr>\n",
       "      <th>7</th>\n",
       "      <td>2.1</td>\n",
       "      <td>2.7</td>\n",
       "      <td>0</td>\n",
       "      <td>1</td>\n",
       "      <td>0</td>\n",
       "      <td>0.0</td>\n",
       "      <td>0.0</td>\n",
       "      <td>2.0</td>\n",
       "      <td>0.4054</td>\n",
       "      <td>1.681802</td>\n",
       "      <td>2.828461</td>\n",
       "    </tr>\n",
       "    <tr>\n",
       "      <th>8</th>\n",
       "      <td>1.7</td>\n",
       "      <td>4.1</td>\n",
       "      <td>1</td>\n",
       "      <td>0</td>\n",
       "      <td>1</td>\n",
       "      <td>0.0</td>\n",
       "      <td>0.0</td>\n",
       "      <td>0.0</td>\n",
       "      <td>0.4054</td>\n",
       "      <td>-2.466699</td>\n",
       "      <td>6.084606</td>\n",
       "    </tr>\n",
       "    <tr>\n",
       "      <th>9</th>\n",
       "      <td>3.0</td>\n",
       "      <td>3.8</td>\n",
       "      <td>1</td>\n",
       "      <td>1</td>\n",
       "      <td>1</td>\n",
       "      <td>1.0</td>\n",
       "      <td>0.0</td>\n",
       "      <td>2.0</td>\n",
       "      <td>0.4054</td>\n",
       "      <td>-2.466699</td>\n",
       "      <td>6.084606</td>\n",
       "    </tr>\n",
       "  </tbody>\n",
       "</table>\n",
       "</div>"
      ],
      "text/plain": [
       "    x1   x2  x3  x4  y  x1_binned  x2_binned  x2_binned&x4  y_pred      grad  \\\n",
       "0  1.2  4.7   1   0  1        0.0        1.0           1.0  0.4054 -2.466699   \n",
       "1  2.9  5.5   1   0  0        1.0        1.0           1.0  0.4054  1.681802   \n",
       "2  2.6  3.9   0   1  1        1.0        0.0           2.0  0.4054 -2.466699   \n",
       "3  3.3  6.2   1   0  0        1.0        1.0           1.0  0.4054  1.681802   \n",
       "4  2.0  3.5   1   0  1        0.0        0.0           0.0  0.4054 -2.466699   \n",
       "5  2.5  4.5   1   1  1        1.0        1.0           3.0  0.4054 -2.466699   \n",
       "6  1.4  5.1   1   0  0        0.0        1.0           1.0  0.4054  1.681802   \n",
       "7  2.1  2.7   0   1  0        0.0        0.0           2.0  0.4054  1.681802   \n",
       "8  1.7  4.1   1   0  1        0.0        0.0           0.0  0.4054 -2.466699   \n",
       "9  3.0  3.8   1   1  1        1.0        0.0           2.0  0.4054 -2.466699   \n",
       "\n",
       "       hess  \n",
       "0  6.084606  \n",
       "1  2.828461  \n",
       "2  6.084606  \n",
       "3  2.828461  \n",
       "4  6.084606  \n",
       "5  6.084606  \n",
       "6  2.828461  \n",
       "7  2.828461  \n",
       "8  6.084606  \n",
       "9  6.084606  "
      ]
     },
     "execution_count": 59,
     "metadata": {},
     "output_type": "execute_result"
    }
   ],
   "source": [
    "data"
   ]
  },
  {
   "cell_type": "markdown",
   "id": "6a5b9bb6-bed5-4618-888a-930b16898f45",
   "metadata": {},
   "source": [
    "抽样得到的数据集如下："
   ]
  },
  {
   "cell_type": "code",
   "execution_count": 60,
   "id": "35e656a3-f575-4b07-977a-a8f18dd32744",
   "metadata": {},
   "outputs": [
    {
     "data": {
      "text/html": [
       "<div>\n",
       "<style scoped>\n",
       "    .dataframe tbody tr th:only-of-type {\n",
       "        vertical-align: middle;\n",
       "    }\n",
       "\n",
       "    .dataframe tbody tr th {\n",
       "        vertical-align: top;\n",
       "    }\n",
       "\n",
       "    .dataframe thead th {\n",
       "        text-align: right;\n",
       "    }\n",
       "</style>\n",
       "<table border=\"1\" class=\"dataframe\">\n",
       "  <thead>\n",
       "    <tr style=\"text-align: right;\">\n",
       "      <th></th>\n",
       "      <th>x1</th>\n",
       "      <th>x2</th>\n",
       "      <th>x3</th>\n",
       "      <th>x4</th>\n",
       "      <th>y</th>\n",
       "      <th>x1_binned</th>\n",
       "      <th>x2_binned</th>\n",
       "      <th>x2_binned&amp;x4</th>\n",
       "      <th>y_pred</th>\n",
       "      <th>grad</th>\n",
       "      <th>hess</th>\n",
       "    </tr>\n",
       "  </thead>\n",
       "  <tbody>\n",
       "    <tr>\n",
       "      <th>0</th>\n",
       "      <td>1.2</td>\n",
       "      <td>4.7</td>\n",
       "      <td>1</td>\n",
       "      <td>0</td>\n",
       "      <td>1</td>\n",
       "      <td>0.0</td>\n",
       "      <td>1.0</td>\n",
       "      <td>1.0</td>\n",
       "      <td>0.4054</td>\n",
       "      <td>-2.466699</td>\n",
       "      <td>6.084606</td>\n",
       "    </tr>\n",
       "    <tr>\n",
       "      <th>2</th>\n",
       "      <td>2.6</td>\n",
       "      <td>3.9</td>\n",
       "      <td>0</td>\n",
       "      <td>1</td>\n",
       "      <td>1</td>\n",
       "      <td>1.0</td>\n",
       "      <td>0.0</td>\n",
       "      <td>2.0</td>\n",
       "      <td>0.4054</td>\n",
       "      <td>-2.466699</td>\n",
       "      <td>6.084606</td>\n",
       "    </tr>\n",
       "  </tbody>\n",
       "</table>\n",
       "</div>"
      ],
      "text/plain": [
       "    x1   x2  x3  x4  y  x1_binned  x2_binned  x2_binned&x4  y_pred      grad  \\\n",
       "0  1.2  4.7   1   0  1        0.0        1.0           1.0  0.4054 -2.466699   \n",
       "2  2.6  3.9   0   1  1        1.0        0.0           2.0  0.4054 -2.466699   \n",
       "\n",
       "       hess  \n",
       "0  6.084606  \n",
       "2  6.084606  "
      ]
     },
     "execution_count": 60,
     "metadata": {},
     "output_type": "execute_result"
    }
   ],
   "source": [
    "topn_data"
   ]
  },
  {
   "cell_type": "code",
   "execution_count": 61,
   "id": "e11aca15-5ef9-49ec-b6fe-411ca3fa267c",
   "metadata": {},
   "outputs": [
    {
     "data": {
      "text/html": [
       "<div>\n",
       "<style scoped>\n",
       "    .dataframe tbody tr th:only-of-type {\n",
       "        vertical-align: middle;\n",
       "    }\n",
       "\n",
       "    .dataframe tbody tr th {\n",
       "        vertical-align: top;\n",
       "    }\n",
       "\n",
       "    .dataframe thead th {\n",
       "        text-align: right;\n",
       "    }\n",
       "</style>\n",
       "<table border=\"1\" class=\"dataframe\">\n",
       "  <thead>\n",
       "    <tr style=\"text-align: right;\">\n",
       "      <th></th>\n",
       "      <th>x1</th>\n",
       "      <th>x2</th>\n",
       "      <th>x3</th>\n",
       "      <th>x4</th>\n",
       "      <th>y</th>\n",
       "      <th>x1_binned</th>\n",
       "      <th>x2_binned</th>\n",
       "      <th>x2_binned&amp;x4</th>\n",
       "      <th>y_pred</th>\n",
       "      <th>grad</th>\n",
       "      <th>hess</th>\n",
       "    </tr>\n",
       "  </thead>\n",
       "  <tbody>\n",
       "    <tr>\n",
       "      <th>5</th>\n",
       "      <td>2.5</td>\n",
       "      <td>4.5</td>\n",
       "      <td>1</td>\n",
       "      <td>1</td>\n",
       "      <td>1</td>\n",
       "      <td>1.0</td>\n",
       "      <td>1.0</td>\n",
       "      <td>3.0</td>\n",
       "      <td>0.4054</td>\n",
       "      <td>-2.466699</td>\n",
       "      <td>6.084606</td>\n",
       "    </tr>\n",
       "    <tr>\n",
       "      <th>8</th>\n",
       "      <td>1.7</td>\n",
       "      <td>4.1</td>\n",
       "      <td>1</td>\n",
       "      <td>0</td>\n",
       "      <td>1</td>\n",
       "      <td>0.0</td>\n",
       "      <td>0.0</td>\n",
       "      <td>0.0</td>\n",
       "      <td>0.4054</td>\n",
       "      <td>-2.466699</td>\n",
       "      <td>6.084606</td>\n",
       "    </tr>\n",
       "    <tr>\n",
       "      <th>1</th>\n",
       "      <td>2.9</td>\n",
       "      <td>5.5</td>\n",
       "      <td>1</td>\n",
       "      <td>0</td>\n",
       "      <td>0</td>\n",
       "      <td>1.0</td>\n",
       "      <td>1.0</td>\n",
       "      <td>1.0</td>\n",
       "      <td>0.4054</td>\n",
       "      <td>1.681802</td>\n",
       "      <td>2.828461</td>\n",
       "    </tr>\n",
       "    <tr>\n",
       "      <th>3</th>\n",
       "      <td>3.3</td>\n",
       "      <td>6.2</td>\n",
       "      <td>1</td>\n",
       "      <td>0</td>\n",
       "      <td>0</td>\n",
       "      <td>1.0</td>\n",
       "      <td>1.0</td>\n",
       "      <td>1.0</td>\n",
       "      <td>0.4054</td>\n",
       "      <td>1.681802</td>\n",
       "      <td>2.828461</td>\n",
       "    </tr>\n",
       "  </tbody>\n",
       "</table>\n",
       "</div>"
      ],
      "text/plain": [
       "    x1   x2  x3  x4  y  x1_binned  x2_binned  x2_binned&x4  y_pred      grad  \\\n",
       "5  2.5  4.5   1   1  1        1.0        1.0           3.0  0.4054 -2.466699   \n",
       "8  1.7  4.1   1   0  1        0.0        0.0           0.0  0.4054 -2.466699   \n",
       "1  2.9  5.5   1   0  0        1.0        1.0           1.0  0.4054  1.681802   \n",
       "3  3.3  6.2   1   0  0        1.0        1.0           1.0  0.4054  1.681802   \n",
       "\n",
       "       hess  \n",
       "5  6.084606  \n",
       "8  6.084606  \n",
       "1  2.828461  \n",
       "3  2.828461  "
      ]
     },
     "execution_count": 61,
     "metadata": {},
     "output_type": "execute_result"
    }
   ],
   "source": [
    "raten_data"
   ]
  },
  {
   "cell_type": "markdown",
   "id": "0497942e-1133-42e4-acf8-7002e39b7163",
   "metadata": {},
   "source": [
    "这里我们将抽样得到的数据集进行拼接，只保留经过分箱和EFB剩下的特征，并保留标签、梯度和hess值:"
   ]
  },
  {
   "cell_type": "code",
   "execution_count": 62,
   "id": "98b142cb-1323-47b2-9c41-8b43fd6a7728",
   "metadata": {},
   "outputs": [
    {
     "data": {
      "text/html": [
       "<div>\n",
       "<style scoped>\n",
       "    .dataframe tbody tr th:only-of-type {\n",
       "        vertical-align: middle;\n",
       "    }\n",
       "\n",
       "    .dataframe tbody tr th {\n",
       "        vertical-align: top;\n",
       "    }\n",
       "\n",
       "    .dataframe thead th {\n",
       "        text-align: right;\n",
       "    }\n",
       "</style>\n",
       "<table border=\"1\" class=\"dataframe\">\n",
       "  <thead>\n",
       "    <tr style=\"text-align: right;\">\n",
       "      <th></th>\n",
       "      <th>x1_binned</th>\n",
       "      <th>x2_binned&amp;x4</th>\n",
       "      <th>x3</th>\n",
       "      <th>y</th>\n",
       "      <th>grad</th>\n",
       "      <th>hess</th>\n",
       "    </tr>\n",
       "  </thead>\n",
       "  <tbody>\n",
       "    <tr>\n",
       "      <th>0</th>\n",
       "      <td>0.0</td>\n",
       "      <td>1.0</td>\n",
       "      <td>1</td>\n",
       "      <td>1</td>\n",
       "      <td>-2.466699</td>\n",
       "      <td>6.084606</td>\n",
       "    </tr>\n",
       "    <tr>\n",
       "      <th>2</th>\n",
       "      <td>1.0</td>\n",
       "      <td>2.0</td>\n",
       "      <td>0</td>\n",
       "      <td>1</td>\n",
       "      <td>-2.466699</td>\n",
       "      <td>6.084606</td>\n",
       "    </tr>\n",
       "    <tr>\n",
       "      <th>5</th>\n",
       "      <td>1.0</td>\n",
       "      <td>3.0</td>\n",
       "      <td>1</td>\n",
       "      <td>1</td>\n",
       "      <td>-2.466699</td>\n",
       "      <td>6.084606</td>\n",
       "    </tr>\n",
       "    <tr>\n",
       "      <th>8</th>\n",
       "      <td>0.0</td>\n",
       "      <td>0.0</td>\n",
       "      <td>1</td>\n",
       "      <td>1</td>\n",
       "      <td>-2.466699</td>\n",
       "      <td>6.084606</td>\n",
       "    </tr>\n",
       "    <tr>\n",
       "      <th>1</th>\n",
       "      <td>1.0</td>\n",
       "      <td>1.0</td>\n",
       "      <td>1</td>\n",
       "      <td>0</td>\n",
       "      <td>1.681802</td>\n",
       "      <td>2.828461</td>\n",
       "    </tr>\n",
       "    <tr>\n",
       "      <th>3</th>\n",
       "      <td>1.0</td>\n",
       "      <td>1.0</td>\n",
       "      <td>1</td>\n",
       "      <td>0</td>\n",
       "      <td>1.681802</td>\n",
       "      <td>2.828461</td>\n",
       "    </tr>\n",
       "  </tbody>\n",
       "</table>\n",
       "</div>"
      ],
      "text/plain": [
       "   x1_binned  x2_binned&x4  x3  y      grad      hess\n",
       "0        0.0           1.0   1  1 -2.466699  6.084606\n",
       "2        1.0           2.0   0  1 -2.466699  6.084606\n",
       "5        1.0           3.0   1  1 -2.466699  6.084606\n",
       "8        0.0           0.0   1  1 -2.466699  6.084606\n",
       "1        1.0           1.0   1  0  1.681802  2.828461\n",
       "3        1.0           1.0   1  0  1.681802  2.828461"
      ]
     },
     "execution_count": 62,
     "metadata": {},
     "output_type": "execute_result"
    }
   ],
   "source": [
    "data_goss = pd.concat([topn_data, raten_data], axis=0)[['x1_binned', 'x2_binned&x4', 'x3', 'y', 'grad', 'hess']]\n",
    "data_goss"
   ]
  },
  {
   "cell_type": "markdown",
   "id": "7408b590-526e-449b-8da6-56f6095052a5",
   "metadata": {},
   "source": [
    "然后新增一个topn二分类变量，用于标记是否是大梯度样本，大梯度样本用1表示，小梯度样本用0标记："
   ]
  },
  {
   "cell_type": "code",
   "execution_count": 63,
   "id": "3390b5ef-9768-4eb7-acd3-1613494f2399",
   "metadata": {},
   "outputs": [
    {
     "data": {
      "text/html": [
       "<div>\n",
       "<style scoped>\n",
       "    .dataframe tbody tr th:only-of-type {\n",
       "        vertical-align: middle;\n",
       "    }\n",
       "\n",
       "    .dataframe tbody tr th {\n",
       "        vertical-align: top;\n",
       "    }\n",
       "\n",
       "    .dataframe thead th {\n",
       "        text-align: right;\n",
       "    }\n",
       "</style>\n",
       "<table border=\"1\" class=\"dataframe\">\n",
       "  <thead>\n",
       "    <tr style=\"text-align: right;\">\n",
       "      <th></th>\n",
       "      <th>x1_binned</th>\n",
       "      <th>x2_binned&amp;x4</th>\n",
       "      <th>x3</th>\n",
       "      <th>y</th>\n",
       "      <th>grad</th>\n",
       "      <th>hess</th>\n",
       "      <th>topn</th>\n",
       "    </tr>\n",
       "  </thead>\n",
       "  <tbody>\n",
       "    <tr>\n",
       "      <th>0</th>\n",
       "      <td>0.0</td>\n",
       "      <td>1.0</td>\n",
       "      <td>1</td>\n",
       "      <td>1</td>\n",
       "      <td>-2.466699</td>\n",
       "      <td>6.084606</td>\n",
       "      <td>1</td>\n",
       "    </tr>\n",
       "    <tr>\n",
       "      <th>2</th>\n",
       "      <td>1.0</td>\n",
       "      <td>2.0</td>\n",
       "      <td>0</td>\n",
       "      <td>1</td>\n",
       "      <td>-2.466699</td>\n",
       "      <td>6.084606</td>\n",
       "      <td>1</td>\n",
       "    </tr>\n",
       "    <tr>\n",
       "      <th>5</th>\n",
       "      <td>1.0</td>\n",
       "      <td>3.0</td>\n",
       "      <td>1</td>\n",
       "      <td>1</td>\n",
       "      <td>-2.466699</td>\n",
       "      <td>6.084606</td>\n",
       "      <td>0</td>\n",
       "    </tr>\n",
       "    <tr>\n",
       "      <th>8</th>\n",
       "      <td>0.0</td>\n",
       "      <td>0.0</td>\n",
       "      <td>1</td>\n",
       "      <td>1</td>\n",
       "      <td>-2.466699</td>\n",
       "      <td>6.084606</td>\n",
       "      <td>0</td>\n",
       "    </tr>\n",
       "    <tr>\n",
       "      <th>1</th>\n",
       "      <td>1.0</td>\n",
       "      <td>1.0</td>\n",
       "      <td>1</td>\n",
       "      <td>0</td>\n",
       "      <td>1.681802</td>\n",
       "      <td>2.828461</td>\n",
       "      <td>0</td>\n",
       "    </tr>\n",
       "    <tr>\n",
       "      <th>3</th>\n",
       "      <td>1.0</td>\n",
       "      <td>1.0</td>\n",
       "      <td>1</td>\n",
       "      <td>0</td>\n",
       "      <td>1.681802</td>\n",
       "      <td>2.828461</td>\n",
       "      <td>0</td>\n",
       "    </tr>\n",
       "  </tbody>\n",
       "</table>\n",
       "</div>"
      ],
      "text/plain": [
       "   x1_binned  x2_binned&x4  x3  y      grad      hess  topn\n",
       "0        0.0           1.0   1  1 -2.466699  6.084606     1\n",
       "2        1.0           2.0   0  1 -2.466699  6.084606     1\n",
       "5        1.0           3.0   1  1 -2.466699  6.084606     0\n",
       "8        0.0           0.0   1  1 -2.466699  6.084606     0\n",
       "1        1.0           1.0   1  0  1.681802  2.828461     0\n",
       "3        1.0           1.0   1  0  1.681802  2.828461     0"
      ]
     },
     "execution_count": 63,
     "metadata": {},
     "output_type": "execute_result"
    }
   ],
   "source": [
    "data_goss['topn'] = [1, 1, 0, 0, 0, 0,]\n",
    "data_goss"
   ]
  },
  {
   "cell_type": "code",
   "execution_count": 64,
   "id": "e1296469-f5ee-4f24-ad4d-43001efd03d6",
   "metadata": {},
   "outputs": [],
   "source": [
    "data_goss.to_csv('data_goss.csv')"
   ]
  },
  {
   "cell_type": "markdown",
   "id": "e52ad8c9-b96b-44d2-af6c-e2f2f70babe4",
   "metadata": {},
   "source": [
    "- 决策树的第一层分裂"
   ]
  },
  {
   "cell_type": "markdown",
   "id": "3d5d853f-9d2a-400a-a9ec-45d84b0a71e6",
   "metadata": {},
   "source": [
    "&emsp;&emsp;接下来，我们尝试进行决策树的生长过程计算。由于现在数据集中只有x1_binned、x2_binned&x4和x3三个离散变量，因此不难发现，备选的切分点只有x1_binned=0.5、x2_binned&x4=0.5、x2_binned&x4=1.5、x2_binned&x4=2.5和x3=0.5五个，因此我们需要分别计算这5个不同切分点取值下决策树分裂的增益，然后选取增益最大的切分点进行切分，从而完成这次的决策树生长。"
   ]
  },
  {
   "cell_type": "markdown",
   "id": "13e354b3-3887-45b0-9fb3-e8aa67f94b6f",
   "metadata": {},
   "source": [
    "&emsp;&emsp;我们先以x1_binned=0.5为切分点计算分裂增益。根据此前介绍，LGBM决策树分裂过程中的增益计算公式如下："
   ]
  },
  {
   "cell_type": "markdown",
   "id": "43b9a934-c9c4-4ab6-bc9d-41057f91530c",
   "metadata": {},
   "source": [
    "$$Gain = \\frac{G_L^2}{H_L + \\lambda} + \\frac{G_R^2}{H_R + \\lambda} - \\frac{(G_L + G_R)^2}{H_L + H_R + \\lambda} - \\alpha \\cdot (|w_L|+|w_R|)$$"
   ]
  },
  {
   "cell_type": "markdown",
   "id": "14de5919-8bf1-44ed-b912-c6f2e3db8bad",
   "metadata": {},
   "source": [
    "其中，$G_L$ 和 $G_R$ 分别左节点和右节点的梯度和，$H_L$ 和 $H_R$ 分别是左节点和右节点的Hessian和，$\\lambda$ 是 reg_lambda 参数（L2正则化项），$\\alpha$ 是 reg_alpha 参数（L1正则化项），$w_L$ 和 $w_R$ 分别是左节点和右节点的权重。并且，对于一个节点，权重计算公式如下："
   ]
  },
  {
   "cell_type": "markdown",
   "id": "770366c4-a3ba-4384-af29-bc3309726ca2",
   "metadata": {},
   "source": [
    "$$w=-\\frac{G}{H+\\lambda}$$"
   ]
  },
  {
   "cell_type": "markdown",
   "id": "ce74f1b3-2342-4b1e-8901-15dbcddfce70",
   "metadata": {},
   "source": [
    "同时，$\\frac{G_L^2}{H_L + \\lambda}$、$\\frac{G_R^2}{H_R + \\lambda}$分别也可以看成是左、右节点的标签不纯度计算指标，$\\frac{(G_L + G_R)^2}{H_L + H_R + \\lambda}$也可以看成是父节点的标签不纯度计算指标，该计算公式和XGB算法的结构分数计算公式完全相同。而不同的是在LGBM的决策树生长过程中，还有一个用于控制整体复杂度的L1正则化项，用于乘以左右节点的权重绝对值之和，作为增益的惩罚项。这里需要注意，XGB中也有叶节点权重的概念，且XGB的叶节点权重和LGBM叶节点权重计算公式完全一致。"
   ]
  },
  {
   "cell_type": "markdown",
   "id": "c2228db9-adf2-40a2-89db-b36cd3f2f37b",
   "metadata": {},
   "source": [
    "这里我们假设$\\alpha=0.02$，$\\lambda=0.1$，则在x1_binned=0.5为切分点时数据集分裂情况如下："
   ]
  },
  {
   "cell_type": "markdown",
   "id": "b77124af-b6cc-464c-91b3-ede750d62a09",
   "metadata": {},
   "source": [
    "<center><img src=\"https://ml2022.oss-cn-hangzhou.aliyuncs.com/img/202303251509196.png\" alt=\"8f2bbe02d4dbc19c4354d434e514301\" style=\"zoom:80%;\" />"
   ]
  },
  {
   "cell_type": "markdown",
   "id": "6faf625d-1513-4ef4-9589-c384ef2145a4",
   "metadata": {},
   "source": [
    "其中GL、HL代表左节点的梯度和及hess和，这里乘以的1.6实际上就是膨胀系数，在之前的GOSS采样过程中，top_rate=0.2，other_rate=0.5，因此膨胀系数$\\theta = \\frac{1-0.2}{0.5}=1.6$，所以我们在计算梯度和及hess和的时候需要把小样本先乘以膨胀系数再和大样本的结果进行相加。对应的GR、HR则代表右边节点的计算结果，在进行子数据集的梯度和及hess和的计算时，我们可以按照原始计算公式把每个子节点的grad和hess带入进行加权计算（小梯度样本需要乘以权重，再和大梯度样本进行求和），此时$GL=-6.413,HL=15.819,GR=-1.031,HR=24.87$，带入计算公式得出此时决策树分裂增益为："
   ]
  },
  {
   "cell_type": "markdown",
   "id": "b857d56b-8c92-4e36-a96e-7481f2e1e8f6",
   "metadata": {},
   "source": [
    "$$Gain_{(x1\\_binned=0.5)} = \\frac{(-6.4)^2}{15.8 + 0.1} + \\frac{(-1.031)^2}{24.87 + 0.1} - \\frac{(-6.4 - 1.03)^2}{15.81 + 24.84 + 0.1}-0.02(\\frac{6.48}{15.81+0.1}+\\frac{1.031}{24.87+0.1})=1.2533$$"
   ]
  },
  {
   "cell_type": "markdown",
   "id": "ca8da75c-2fb5-4a38-9972-cc1352138b47",
   "metadata": {},
   "source": [
    "类似的我们可以继续计算其他备选切分点的增益，这里我们可以通过定义如下函数进行快速的分裂增益计算："
   ]
  },
  {
   "cell_type": "code",
   "execution_count": 96,
   "id": "9163d1bc-28da-4735-b192-8d29d5adac2d",
   "metadata": {},
   "outputs": [
    {
     "name": "stdout",
     "output_type": "stream",
     "text": [
      "备选切分点： {'x1_binned': [0.5], 'x2_binned&x4': [0.5, 1.5, 2.5], 'x3': [0.5]}\n"
     ]
    }
   ],
   "source": [
    "# 获取所有特征列\n",
    "features = ['x1_binned', 'x2_binned&x4', 'x3']\n",
    "\n",
    "# 计算备选切分点\n",
    "split_candidates = {}\n",
    "for feature in features:\n",
    "    unique_values = data_goss[feature].unique()\n",
    "    unique_values.sort()\n",
    "    if len(unique_values) > 1:\n",
    "        split_candidates[feature] = [(unique_values[i] + unique_values[i + 1]) / 2 for i in range(len(unique_values) - 1)]\n",
    "\n",
    "print(\"备选切分点：\", split_candidates)"
   ]
  },
  {
   "cell_type": "code",
   "execution_count": 100,
   "id": "f1c381fb-959c-4981-911e-5f37df44836a",
   "metadata": {},
   "outputs": [
    {
     "name": "stdout",
     "output_type": "stream",
     "text": [
      "分裂增益：\n",
      "x1_binned: [(0.5, 1.2585521787597664)]\n",
      "x2_binned&x4: [(0.5, 0.6086807629778319), (1.5, 1.2585521787597664), (2.5, 0.6086807629778319)]\n",
      "x3: [(0.5, 0.32823985769231157)]\n"
     ]
    }
   ],
   "source": [
    "def calculate_gain(g_left, h_left, g_right, h_right, reg_alpha, reg_lambda):\n",
    "    w_left = -g_left / (h_left + reg_lambda)\n",
    "    w_right = -g_right / (h_right + reg_lambda)\n",
    "    \n",
    "    gain = (g_left ** 2) / (h_left + reg_lambda) + (g_right ** 2) / (h_right + reg_lambda) \\\n",
    "           - ((g_left + g_right) ** 2) / (h_left + h_right + reg_lambda) \\\n",
    "           - reg_alpha * (abs(w_left) + abs(w_right))\n",
    "    return gain\n",
    "\n",
    "\n",
    "def calculate_split_gain(data, feature, split_value, reg_alpha, reg_lambda):\n",
    "    left_mask = data[feature] <= split_value\n",
    "    right_mask = ~left_mask\n",
    "    \n",
    "    left_data = data[left_mask]\n",
    "    right_data = data[right_mask]\n",
    "    \n",
    "    g_left = left_data.loc[left_data['topn'] == 1, 'grad'].sum() + left_data.loc[left_data['topn'] == 0, 'grad'].sum() * 1.6\n",
    "    h_left = left_data.loc[left_data['topn'] == 1, 'hess'].sum() + left_data.loc[left_data['topn'] == 0, 'hess'].sum() * 1.6\n",
    "    \n",
    "    g_right = right_data.loc[right_data['topn'] == 1, 'grad'].sum() + right_data.loc[right_data['topn'] == 0, 'grad'].sum() * 1.6\n",
    "    h_right = right_data.loc[right_data['topn'] == 1, 'hess'].sum() + right_data.loc[right_data['topn'] == 0, 'hess'].sum() * 1.6\n",
    "    \n",
    "    gain = calculate_gain(g_left, h_left, g_right, h_right, reg_alpha, reg_lambda)\n",
    "    return gain\n",
    "\n",
    "\n",
    "reg_alpha = 0.02\n",
    "reg_lambda = 0.1\n",
    "\n",
    "gain_results = {}\n",
    "\n",
    "for feature, split_values in split_candidates.items():\n",
    "    gain_results[feature] = []\n",
    "    for split_value in split_values:\n",
    "        gain = calculate_split_gain(data_goss, feature, split_value, reg_alpha, reg_lambda)\n",
    "        gain_results[feature].append((split_value, gain))\n",
    "\n",
    "print(\"分裂增益：\")\n",
    "for feature, gains in gain_results.items():\n",
    "    print(f\"{feature}: {gains}\")"
   ]
  },
  {
   "cell_type": "markdown",
   "id": "fc88ac0b-8f6c-4b98-95c4-464902aa6a02",
   "metadata": {},
   "source": [
    "能够发现，x1_binned=0.5和x2_binned&x4=2.5分裂增益相同，从算法原理来说此时会随机选取一个点作为分裂点，这里我们就假设以x1_binned=0.5作为第一层的分裂点进行决策树生长，考虑决策树的进一步生长策略。此时我们假设决策树经过第一层生长，分裂的两个子数据集分别为data_goss_1和data_goss_2，两个子数据集如下："
   ]
  },
  {
   "cell_type": "code",
   "execution_count": 119,
   "id": "79fc1ad4-5f73-45ed-b320-4c2619c94c9a",
   "metadata": {},
   "outputs": [
    {
     "data": {
      "text/html": [
       "<div>\n",
       "<style scoped>\n",
       "    .dataframe tbody tr th:only-of-type {\n",
       "        vertical-align: middle;\n",
       "    }\n",
       "\n",
       "    .dataframe tbody tr th {\n",
       "        vertical-align: top;\n",
       "    }\n",
       "\n",
       "    .dataframe thead th {\n",
       "        text-align: right;\n",
       "    }\n",
       "</style>\n",
       "<table border=\"1\" class=\"dataframe\">\n",
       "  <thead>\n",
       "    <tr style=\"text-align: right;\">\n",
       "      <th></th>\n",
       "      <th>x1_binned</th>\n",
       "      <th>x2_binned&amp;x4</th>\n",
       "      <th>x3</th>\n",
       "      <th>y</th>\n",
       "      <th>grad</th>\n",
       "      <th>hess</th>\n",
       "      <th>topn</th>\n",
       "    </tr>\n",
       "  </thead>\n",
       "  <tbody>\n",
       "    <tr>\n",
       "      <th>0</th>\n",
       "      <td>0.0</td>\n",
       "      <td>1.0</td>\n",
       "      <td>1</td>\n",
       "      <td>1</td>\n",
       "      <td>-2.466699</td>\n",
       "      <td>6.084606</td>\n",
       "      <td>1</td>\n",
       "    </tr>\n",
       "    <tr>\n",
       "      <th>8</th>\n",
       "      <td>0.0</td>\n",
       "      <td>0.0</td>\n",
       "      <td>1</td>\n",
       "      <td>1</td>\n",
       "      <td>-2.466699</td>\n",
       "      <td>6.084606</td>\n",
       "      <td>0</td>\n",
       "    </tr>\n",
       "  </tbody>\n",
       "</table>\n",
       "</div>"
      ],
      "text/plain": [
       "   x1_binned  x2_binned&x4  x3  y      grad      hess  topn\n",
       "0        0.0           1.0   1  1 -2.466699  6.084606     1\n",
       "8        0.0           0.0   1  1 -2.466699  6.084606     0"
      ]
     },
     "execution_count": 119,
     "metadata": {},
     "output_type": "execute_result"
    }
   ],
   "source": [
    "data_goss_1 = data_goss.loc[data_goss['x1_binned']==0]\n",
    "data_goss_1"
   ]
  },
  {
   "cell_type": "code",
   "execution_count": 120,
   "id": "807795d6-93be-4940-a98b-40dcd4078500",
   "metadata": {},
   "outputs": [
    {
     "data": {
      "text/html": [
       "<div>\n",
       "<style scoped>\n",
       "    .dataframe tbody tr th:only-of-type {\n",
       "        vertical-align: middle;\n",
       "    }\n",
       "\n",
       "    .dataframe tbody tr th {\n",
       "        vertical-align: top;\n",
       "    }\n",
       "\n",
       "    .dataframe thead th {\n",
       "        text-align: right;\n",
       "    }\n",
       "</style>\n",
       "<table border=\"1\" class=\"dataframe\">\n",
       "  <thead>\n",
       "    <tr style=\"text-align: right;\">\n",
       "      <th></th>\n",
       "      <th>x1_binned</th>\n",
       "      <th>x2_binned&amp;x4</th>\n",
       "      <th>x3</th>\n",
       "      <th>y</th>\n",
       "      <th>grad</th>\n",
       "      <th>hess</th>\n",
       "      <th>topn</th>\n",
       "    </tr>\n",
       "  </thead>\n",
       "  <tbody>\n",
       "    <tr>\n",
       "      <th>2</th>\n",
       "      <td>1.0</td>\n",
       "      <td>2.0</td>\n",
       "      <td>0</td>\n",
       "      <td>1</td>\n",
       "      <td>-2.466699</td>\n",
       "      <td>6.084606</td>\n",
       "      <td>1</td>\n",
       "    </tr>\n",
       "    <tr>\n",
       "      <th>5</th>\n",
       "      <td>1.0</td>\n",
       "      <td>3.0</td>\n",
       "      <td>1</td>\n",
       "      <td>1</td>\n",
       "      <td>-2.466699</td>\n",
       "      <td>6.084606</td>\n",
       "      <td>0</td>\n",
       "    </tr>\n",
       "    <tr>\n",
       "      <th>1</th>\n",
       "      <td>1.0</td>\n",
       "      <td>1.0</td>\n",
       "      <td>1</td>\n",
       "      <td>0</td>\n",
       "      <td>1.681802</td>\n",
       "      <td>2.828461</td>\n",
       "      <td>0</td>\n",
       "    </tr>\n",
       "    <tr>\n",
       "      <th>3</th>\n",
       "      <td>1.0</td>\n",
       "      <td>1.0</td>\n",
       "      <td>1</td>\n",
       "      <td>0</td>\n",
       "      <td>1.681802</td>\n",
       "      <td>2.828461</td>\n",
       "      <td>0</td>\n",
       "    </tr>\n",
       "  </tbody>\n",
       "</table>\n",
       "</div>"
      ],
      "text/plain": [
       "   x1_binned  x2_binned&x4  x3  y      grad      hess  topn\n",
       "2        1.0           2.0   0  1 -2.466699  6.084606     1\n",
       "5        1.0           3.0   1  1 -2.466699  6.084606     0\n",
       "1        1.0           1.0   1  0  1.681802  2.828461     0\n",
       "3        1.0           1.0   1  0  1.681802  2.828461     0"
      ]
     },
     "execution_count": 120,
     "metadata": {},
     "output_type": "execute_result"
    }
   ],
   "source": [
    "data_goss_2 = data_goss.loc[data_goss['x1_binned']==1]\n",
    "data_goss_2"
   ]
  },
  {
   "cell_type": "markdown",
   "id": "cd846c1f-0376-4ee1-ab00-2767d262479d",
   "metadata": {},
   "source": [
    "接下来我们即可继续围绕这两个子数据集进一步探讨决策树下一步生长过程。"
   ]
  },
  {
   "cell_type": "markdown",
   "id": "f61467ec-ca6a-48c2-993f-140dafa87c12",
   "metadata": {},
   "source": [
    "- Leaf wise tree growth生长策略"
   ]
  },
  {
   "cell_type": "markdown",
   "id": "a38c520a-d517-473c-a70e-8681966ecf6a",
   "metadata": {},
   "source": [
    "&emsp;&emsp;由于LGBM决策树算法是采用的Leaf wise tree growth生长策略，因此我们需要对比左、右子树各自的分裂增益，然后选择某一边进行进一步生长。这里左子树对应数据集data_goss_1，右子树对应data_goss_2数据集，很明显对于data_goss_1数据集来说，标签纯度已经达到100%，没有再分裂的必要，因此接下来重点考察右子树data_goss_2的分裂情况。通过观察我们不难发现，data_goss_2在x2_binned&x4=1.5切分点上，能够使得切分子数据集的标签纯度达到100%，因此我们手动尝试围绕这个点进行切分生长，并计算分裂增益。分裂过程如下："
   ]
  },
  {
   "cell_type": "markdown",
   "id": "c9554e1e-87ce-42b3-95ca-263c305f1753",
   "metadata": {},
   "source": [
    "<center><img src=\"https://ml2022.oss-cn-hangzhou.aliyuncs.com/img/202303251609636.png\" alt=\"1679731756120\" style=\"zoom:80%;\" />"
   ]
  },
  {
   "cell_type": "markdown",
   "id": "86802f4f-cbcd-4951-8d40-e1464888d749",
   "metadata": {},
   "source": [
    "类似的我们先尝试进行手动计算，根据每个数据集的grad和hess，我们可以计算目前两个左右节点各自的梯度和及hess和，其中$GL1=5.376$，$HL1=9.0496$，$GR1=-6.396$，$HR1=15.8184$，然后带入增益公式："
   ]
  },
  {
   "cell_type": "markdown",
   "id": "26675cca-70ff-4d49-a2cf-ecdd7f885666",
   "metadata": {},
   "source": [
    "$$Gain = \\frac{G_L^2}{H_L + \\lambda} + \\frac{G_R^2}{H_R + \\lambda} - \\frac{(G_L + G_R)^2}{H_L + H_R + \\lambda} - \\alpha \\cdot (|w_L|+|w_R|)$$"
   ]
  },
  {
   "cell_type": "markdown",
   "id": "401b8227-2a17-4f48-a2f3-bda6509bba85",
   "metadata": {},
   "source": [
    "算得此时增益为：$Gain_{(x2\\_binned \\& x4=1.5)}=5.6862$"
   ]
  },
  {
   "cell_type": "markdown",
   "id": "a8f17657-58b4-4e86-ab97-08b41d74c1b7",
   "metadata": {},
   "source": [
    "&emsp;&emsp;当然，我们也可以借助此前定义的calculate_split_gain函数，快速的计算data_goss_2数据集中全部备选切分点的增益，得到结果如下："
   ]
  },
  {
   "cell_type": "code",
   "execution_count": 121,
   "id": "cd4f359a-a26c-4ea2-9860-62bbaccbaadb",
   "metadata": {},
   "outputs": [
    {
     "name": "stdout",
     "output_type": "stream",
     "text": [
      "分裂增益：\n",
      "x1_binned: [(0.5, -0.0008262766087664918)]\n",
      "x2_binned&x4: [(0.5, -0.0008262766087664918), (1.5, 5.686256576568045), (2.5, 2.0870031523895443)]\n",
      "x3: [(0.5, 1.0407519630596518)]\n"
     ]
    }
   ],
   "source": [
    "reg_alpha = 0.02\n",
    "reg_lambda = 0.1\n",
    "\n",
    "gain_results = {}\n",
    "\n",
    "for feature, split_values in split_candidates.items():\n",
    "    gain_results[feature] = []\n",
    "    for split_value in split_values:\n",
    "        gain = calculate_split_gain(data_goss_2, feature, split_value, reg_alpha, reg_lambda)\n",
    "        gain_results[feature].append((split_value, gain))\n",
    "\n",
    "print(\"分裂增益：\")\n",
    "for feature, gains in gain_results.items():\n",
    "    print(f\"{feature}: {gains}\")"
   ]
  },
  {
   "cell_type": "markdown",
   "id": "e43a3e67-b3ef-4c28-9372-81826876ccde",
   "metadata": {},
   "source": [
    "能够发现，确实𝑥2_𝑏𝑖𝑛𝑛𝑒𝑑&𝑥4=1.5增益是最高的，因此，这层决策树将按照该切分点进行分裂生长。而生长后的决策树全部叶节点的标签纯度都达到了100%，因此不用再进行分裂，这颗决策树的生长到此结束。同时，我们也确实发现该决策树最终左右两边的子树深度并不相同，这也从侧面说明当前决策树是按照Leaf wise tree growth进行生长。"
   ]
  },
  {
   "cell_type": "markdown",
   "id": "d6e73047-b47b-48c8-bba9-8fcc3fa8a372",
   "metadata": {},
   "source": [
    "- 直方图差加速"
   ]
  },
  {
   "cell_type": "markdown",
   "id": "98d2dacb-7ffa-4b7e-a647-3583465a689e",
   "metadata": {},
   "source": [
    "&emsp;&emsp;不难看出，尽管LGBM的决策树生长流程并不复杂，但针对每个备选节点的分裂增益的计算过程却略显繁琐，其中最繁琐的地方在于子数据集的grad和及hess和的计算过程，更具体的来说，繁琐之处在于需要区分大梯度样本和小梯度样本，然后赋予不同的权重进行求和，这个大小梯度样本的检索过程在实际计算机执行过程中是极耗费计算量的。"
   ]
  },
  {
   "cell_type": "markdown",
   "id": "34170447-e2e9-4449-b069-3bd2712e6134",
   "metadata": {},
   "source": [
    "&emsp;&emsp;而为了能够加速子样本的梯度和、hess和的计算过程，LGBM提出了基于梯度和及hess和的直方图优化算法，该算法首先要求用直方图来表示各数据集的梯度和、hess和的累计值，然后从数学层面可以非常简单的证明，在决策树分裂过程中梯度和、hess和整体累计值不变，因此子节点的梯度和、hess和的累计值将和父节点相同，进而在决策树分裂过程中，我们只需要计算父节点和左子树的梯度和、hess和，就能通过相减的方式得到右子树的梯度和、hess和。由此我们就可以摆脱每个节点独立计算梯度和、hess和的计算过程，进而大幅提升决策树建模过程中分裂增益的计算速度、从而加快决策树的建模效率。这个过程也就是直方图优化算法中的差加速优化。"
   ]
  },
  {
   "cell_type": "markdown",
   "id": "7a1ecd18-bbfd-443a-9fac-6f690fafc313",
   "metadata": {},
   "source": [
    "&emsp;&emsp;不难发现，直方图优化的过程涉及两个核心的技术要点，其一是要对每个数据集进行直方图转化，其二则是通过减法求得右子树的直方图。接下来我们尝试通过直方图优化算法来再执行一遍此前决策树模型的生长过程，通过对比来查看直方图具体加速过程的体现。"
   ]
  },
  {
   "cell_type": "markdown",
   "id": "62407b50-7f77-4351-bab9-cbb0a0a40969",
   "metadata": {},
   "source": [
    "&emsp;&emsp;首先需要计算和绘制根节点的直方图，这里的直方图指的是数据集中各变量取不同值时对应的样本的grad和及hess和，例如根节点来说，对于data_goss数据集中x1_binned这一列，0值样本如下："
   ]
  },
  {
   "cell_type": "code",
   "execution_count": 65,
   "id": "21be9e06-8c1f-430e-87c3-9315e95b96bc",
   "metadata": {},
   "outputs": [
    {
     "data": {
      "text/html": [
       "<div>\n",
       "<style scoped>\n",
       "    .dataframe tbody tr th:only-of-type {\n",
       "        vertical-align: middle;\n",
       "    }\n",
       "\n",
       "    .dataframe tbody tr th {\n",
       "        vertical-align: top;\n",
       "    }\n",
       "\n",
       "    .dataframe thead th {\n",
       "        text-align: right;\n",
       "    }\n",
       "</style>\n",
       "<table border=\"1\" class=\"dataframe\">\n",
       "  <thead>\n",
       "    <tr style=\"text-align: right;\">\n",
       "      <th></th>\n",
       "      <th>x1_binned</th>\n",
       "      <th>x2_binned&amp;x4</th>\n",
       "      <th>x3</th>\n",
       "      <th>y</th>\n",
       "      <th>grad</th>\n",
       "      <th>hess</th>\n",
       "      <th>topn</th>\n",
       "    </tr>\n",
       "  </thead>\n",
       "  <tbody>\n",
       "    <tr>\n",
       "      <th>0</th>\n",
       "      <td>0.0</td>\n",
       "      <td>1.0</td>\n",
       "      <td>1</td>\n",
       "      <td>1</td>\n",
       "      <td>-2.466699</td>\n",
       "      <td>6.084606</td>\n",
       "      <td>1</td>\n",
       "    </tr>\n",
       "    <tr>\n",
       "      <th>8</th>\n",
       "      <td>0.0</td>\n",
       "      <td>0.0</td>\n",
       "      <td>1</td>\n",
       "      <td>1</td>\n",
       "      <td>-2.466699</td>\n",
       "      <td>6.084606</td>\n",
       "      <td>0</td>\n",
       "    </tr>\n",
       "  </tbody>\n",
       "</table>\n",
       "</div>"
      ],
      "text/plain": [
       "   x1_binned  x2_binned&x4  x3  y      grad      hess  topn\n",
       "0        0.0           1.0   1  1 -2.466699  6.084606     1\n",
       "8        0.0           0.0   1  1 -2.466699  6.084606     0"
      ]
     },
     "execution_count": 65,
     "metadata": {},
     "output_type": "execute_result"
    }
   ],
   "source": [
    "data_goss[data_goss['x1_binned'] == 0]"
   ]
  },
  {
   "cell_type": "markdown",
   "id": "bb9af503-b9c3-46c6-9b6f-04f25e12a0c5",
   "metadata": {},
   "source": [
    "其中0号样本是大梯度样本，而8号样本是小梯度样本。考虑到此时因此top_rate=0.2，other_rate=0.5，因此膨胀系数$\\theta = \\frac{1-0.2}{0.5}=1.6$，因此x1_binned中0值样本的梯度累加计算过程为0号样本梯度值+$\\theta$ * 8号样本梯度值，计算结果如下："
   ]
  },
  {
   "cell_type": "code",
   "execution_count": 66,
   "id": "f536e54a-5f91-4cfd-9aa4-536ddab7db94",
   "metadata": {},
   "outputs": [
    {
     "data": {
      "text/plain": [
       "-6.4134174"
      ]
     },
     "execution_count": 66,
     "metadata": {},
     "output_type": "execute_result"
    }
   ],
   "source": [
    "-2.466699 + (-2.466699) * 1.6"
   ]
  },
  {
   "cell_type": "markdown",
   "id": "347e92e2-2969-4432-8e88-da51a0c54f91",
   "metadata": {},
   "source": [
    "x1_binned=0的样本对应的hess值也是类似的计算过程："
   ]
  },
  {
   "cell_type": "code",
   "execution_count": 67,
   "id": "250dc4a1-e578-4f17-9b29-83f0d7f19364",
   "metadata": {},
   "outputs": [
    {
     "data": {
      "text/plain": [
       "15.8199756"
      ]
     },
     "execution_count": 67,
     "metadata": {},
     "output_type": "execute_result"
    }
   ],
   "source": [
    "6.084606 + (6.084606) * 1.6"
   ]
  },
  {
   "cell_type": "markdown",
   "id": "7f13b497-5e2d-4e07-b921-5cb501baf3df",
   "metadata": {},
   "source": [
    "类似的我们可以计算x1_binned=1对应的样本的梯度和以及hess和："
   ]
  },
  {
   "cell_type": "code",
   "execution_count": 68,
   "id": "e7abbcc0-1609-460b-b132-2eeb6d3d65c2",
   "metadata": {},
   "outputs": [
    {
     "data": {
      "text/html": [
       "<div>\n",
       "<style scoped>\n",
       "    .dataframe tbody tr th:only-of-type {\n",
       "        vertical-align: middle;\n",
       "    }\n",
       "\n",
       "    .dataframe tbody tr th {\n",
       "        vertical-align: top;\n",
       "    }\n",
       "\n",
       "    .dataframe thead th {\n",
       "        text-align: right;\n",
       "    }\n",
       "</style>\n",
       "<table border=\"1\" class=\"dataframe\">\n",
       "  <thead>\n",
       "    <tr style=\"text-align: right;\">\n",
       "      <th></th>\n",
       "      <th>x1_binned</th>\n",
       "      <th>x2_binned&amp;x4</th>\n",
       "      <th>x3</th>\n",
       "      <th>y</th>\n",
       "      <th>grad</th>\n",
       "      <th>hess</th>\n",
       "      <th>topn</th>\n",
       "    </tr>\n",
       "  </thead>\n",
       "  <tbody>\n",
       "    <tr>\n",
       "      <th>2</th>\n",
       "      <td>1.0</td>\n",
       "      <td>2.0</td>\n",
       "      <td>0</td>\n",
       "      <td>1</td>\n",
       "      <td>-2.466699</td>\n",
       "      <td>6.084606</td>\n",
       "      <td>1</td>\n",
       "    </tr>\n",
       "    <tr>\n",
       "      <th>5</th>\n",
       "      <td>1.0</td>\n",
       "      <td>3.0</td>\n",
       "      <td>1</td>\n",
       "      <td>1</td>\n",
       "      <td>-2.466699</td>\n",
       "      <td>6.084606</td>\n",
       "      <td>0</td>\n",
       "    </tr>\n",
       "    <tr>\n",
       "      <th>1</th>\n",
       "      <td>1.0</td>\n",
       "      <td>1.0</td>\n",
       "      <td>1</td>\n",
       "      <td>0</td>\n",
       "      <td>1.681802</td>\n",
       "      <td>2.828461</td>\n",
       "      <td>0</td>\n",
       "    </tr>\n",
       "    <tr>\n",
       "      <th>3</th>\n",
       "      <td>1.0</td>\n",
       "      <td>1.0</td>\n",
       "      <td>1</td>\n",
       "      <td>0</td>\n",
       "      <td>1.681802</td>\n",
       "      <td>2.828461</td>\n",
       "      <td>0</td>\n",
       "    </tr>\n",
       "  </tbody>\n",
       "</table>\n",
       "</div>"
      ],
      "text/plain": [
       "   x1_binned  x2_binned&x4  x3  y      grad      hess  topn\n",
       "2        1.0           2.0   0  1 -2.466699  6.084606     1\n",
       "5        1.0           3.0   1  1 -2.466699  6.084606     0\n",
       "1        1.0           1.0   1  0  1.681802  2.828461     0\n",
       "3        1.0           1.0   1  0  1.681802  2.828461     0"
      ]
     },
     "execution_count": 68,
     "metadata": {},
     "output_type": "execute_result"
    }
   ],
   "source": [
    "data_goss[data_goss['x1_binned'] == 1]"
   ]
  },
  {
   "cell_type": "code",
   "execution_count": 69,
   "id": "d53acbfa-a39a-43c6-956e-8c49076b1978",
   "metadata": {},
   "outputs": [
    {
     "data": {
      "text/plain": [
       "-1.0316510000000003"
      ]
     },
     "execution_count": 69,
     "metadata": {},
     "output_type": "execute_result"
    }
   ],
   "source": [
    "# 梯度和\n",
    "-2.466699 + (-2.466699 + 1.681802 + 1.681802) * 1.6"
   ]
  },
  {
   "cell_type": "code",
   "execution_count": 70,
   "id": "d64ead7b-6903-4b52-af89-7a9acf8f885c",
   "metadata": {},
   "outputs": [
    {
     "data": {
      "text/plain": [
       "24.8710508"
      ]
     },
     "execution_count": 70,
     "metadata": {},
     "output_type": "execute_result"
    }
   ],
   "source": [
    "# hess和\n",
    "6.084606 + (6.084606 + 2.828461 + 2.828461) * 1.6"
   ]
  },
  {
   "cell_type": "markdown",
   "id": "080ac0ab-7669-475c-b2f6-c8f543858bd6",
   "metadata": {},
   "source": [
    "据此，我们就可以将x1_binned用下图的直方图进行表示，其中直方图的不同柱子用于表示x1_binned特征不同取值下累计的梯度（也就是梯度和）和累计的hess（Hessian和），注意，这个累加的过程就是数值累加，而非绝对值累加："
   ]
  },
  {
   "cell_type": "markdown",
   "id": "50127b11-7463-44b2-86d2-e4d60a131002",
   "metadata": {},
   "source": [
    "<center><img src=\"https://ml2022.oss-cn-hangzhou.aliyuncs.com/img/202303251228005.png\" alt=\"1679718468700\" style=\"zoom:80%;\" />"
   ]
  },
  {
   "cell_type": "markdown",
   "id": "fbc2c7a3-2362-4de5-ae5b-6b076885a779",
   "metadata": {},
   "source": [
    "对应的，我们还需要计算其他特征在不同取值下，对应的数据集的梯度和以及hess和，相关计算我们可以通过如下代码实现："
   ]
  },
  {
   "cell_type": "code",
   "execution_count": 77,
   "id": "bda8a3e0-4d64-4776-93cf-95d5a47907f8",
   "metadata": {},
   "outputs": [],
   "source": [
    "import pandas as pd\n",
    "\n",
    "# 按照 x1_binned 分组\n",
    "groups = data_goss.groupby('x1_binned')\n",
    "\n",
    "# 定义聚合函数\n",
    "agg_func = lambda x: pd.Series({\n",
    "    'grad_sum': x[x['topn']==1]['grad'].sum() + 1.6 * x[x['topn']==0]['grad'].sum(),\n",
    "    'hess_sum': x[x['topn']==1]['hess'].sum() + 1.6 * x[x['topn']==0]['hess'].sum(),\n",
    "})\n",
    "\n",
    "# 对每个分组应用聚合函数\n",
    "result_x1 = groups.apply(agg_func).reset_index()\n",
    "\n",
    "# 按照 x2_binned&x4 分组\n",
    "groups = data_goss.groupby('x2_binned&x4')\n",
    "\n",
    "# 对每个分组应用聚合函数\n",
    "result_x2_x4 = groups.apply(agg_func).reset_index()\n",
    "\n",
    "# 按照 x3 分组\n",
    "groups = data_goss.groupby('x3')\n",
    "\n",
    "# 对每个分组应用聚合函数\n",
    "result_x3 = groups.apply(agg_func).reset_index()"
   ]
  },
  {
   "cell_type": "markdown",
   "id": "3f6ca56d-216b-4456-b9c2-69109916019e",
   "metadata": {},
   "source": [
    "其中groupby、apply等方法我们在特征工程Part2、3中曾有详细介绍，这里我们不再进行赘述。验证计算结果如下："
   ]
  },
  {
   "cell_type": "code",
   "execution_count": 78,
   "id": "66fc30f7-176b-4ffa-a352-bc20e70c9fb7",
   "metadata": {},
   "outputs": [
    {
     "data": {
      "text/html": [
       "<div>\n",
       "<style scoped>\n",
       "    .dataframe tbody tr th:only-of-type {\n",
       "        vertical-align: middle;\n",
       "    }\n",
       "\n",
       "    .dataframe tbody tr th {\n",
       "        vertical-align: top;\n",
       "    }\n",
       "\n",
       "    .dataframe thead th {\n",
       "        text-align: right;\n",
       "    }\n",
       "</style>\n",
       "<table border=\"1\" class=\"dataframe\">\n",
       "  <thead>\n",
       "    <tr style=\"text-align: right;\">\n",
       "      <th></th>\n",
       "      <th>x1_binned</th>\n",
       "      <th>grad_sum</th>\n",
       "      <th>hess_sum</th>\n",
       "    </tr>\n",
       "  </thead>\n",
       "  <tbody>\n",
       "    <tr>\n",
       "      <th>0</th>\n",
       "      <td>0.0</td>\n",
       "      <td>-6.413418</td>\n",
       "      <td>15.819977</td>\n",
       "    </tr>\n",
       "    <tr>\n",
       "      <th>1</th>\n",
       "      <td>1.0</td>\n",
       "      <td>-1.031650</td>\n",
       "      <td>24.871053</td>\n",
       "    </tr>\n",
       "  </tbody>\n",
       "</table>\n",
       "</div>"
      ],
      "text/plain": [
       "   x1_binned  grad_sum   hess_sum\n",
       "0        0.0 -6.413418  15.819977\n",
       "1        1.0 -1.031650  24.871053"
      ]
     },
     "execution_count": 78,
     "metadata": {},
     "output_type": "execute_result"
    }
   ],
   "source": [
    "result_x1"
   ]
  },
  {
   "cell_type": "code",
   "execution_count": 75,
   "id": "9e1a97f4-7a05-40a4-9fcc-c372d96eb26d",
   "metadata": {},
   "outputs": [
    {
     "data": {
      "text/html": [
       "<div>\n",
       "<style scoped>\n",
       "    .dataframe tbody tr th:only-of-type {\n",
       "        vertical-align: middle;\n",
       "    }\n",
       "\n",
       "    .dataframe tbody tr th {\n",
       "        vertical-align: top;\n",
       "    }\n",
       "\n",
       "    .dataframe thead th {\n",
       "        text-align: right;\n",
       "    }\n",
       "</style>\n",
       "<table border=\"1\" class=\"dataframe\">\n",
       "  <thead>\n",
       "    <tr style=\"text-align: right;\">\n",
       "      <th></th>\n",
       "      <th>x2_binned&amp;x4</th>\n",
       "      <th>grad_sum</th>\n",
       "      <th>hess_sum</th>\n",
       "    </tr>\n",
       "  </thead>\n",
       "  <tbody>\n",
       "    <tr>\n",
       "      <th>0</th>\n",
       "      <td>0.0</td>\n",
       "      <td>-3.946719</td>\n",
       "      <td>9.735370</td>\n",
       "    </tr>\n",
       "    <tr>\n",
       "      <th>1</th>\n",
       "      <td>1.0</td>\n",
       "      <td>2.915069</td>\n",
       "      <td>15.135683</td>\n",
       "    </tr>\n",
       "    <tr>\n",
       "      <th>2</th>\n",
       "      <td>2.0</td>\n",
       "      <td>-2.466699</td>\n",
       "      <td>6.084606</td>\n",
       "    </tr>\n",
       "    <tr>\n",
       "      <th>3</th>\n",
       "      <td>3.0</td>\n",
       "      <td>-3.946719</td>\n",
       "      <td>9.735370</td>\n",
       "    </tr>\n",
       "  </tbody>\n",
       "</table>\n",
       "</div>"
      ],
      "text/plain": [
       "   x2_binned&x4  grad_sum   hess_sum\n",
       "0           0.0 -3.946719   9.735370\n",
       "1           1.0  2.915069  15.135683\n",
       "2           2.0 -2.466699   6.084606\n",
       "3           3.0 -3.946719   9.735370"
      ]
     },
     "execution_count": 75,
     "metadata": {},
     "output_type": "execute_result"
    }
   ],
   "source": [
    "result_x2_x4"
   ]
  },
  {
   "cell_type": "code",
   "execution_count": 76,
   "id": "21b09d84-3e4c-415a-8e7a-0a4e368c07d0",
   "metadata": {},
   "outputs": [
    {
     "data": {
      "text/html": [
       "<div>\n",
       "<style scoped>\n",
       "    .dataframe tbody tr th:only-of-type {\n",
       "        vertical-align: middle;\n",
       "    }\n",
       "\n",
       "    .dataframe tbody tr th {\n",
       "        vertical-align: top;\n",
       "    }\n",
       "\n",
       "    .dataframe thead th {\n",
       "        text-align: right;\n",
       "    }\n",
       "</style>\n",
       "<table border=\"1\" class=\"dataframe\">\n",
       "  <thead>\n",
       "    <tr style=\"text-align: right;\">\n",
       "      <th></th>\n",
       "      <th>x3</th>\n",
       "      <th>grad_sum</th>\n",
       "      <th>hess_sum</th>\n",
       "    </tr>\n",
       "  </thead>\n",
       "  <tbody>\n",
       "    <tr>\n",
       "      <th>0</th>\n",
       "      <td>0</td>\n",
       "      <td>-2.466699</td>\n",
       "      <td>6.084606</td>\n",
       "    </tr>\n",
       "    <tr>\n",
       "      <th>1</th>\n",
       "      <td>1</td>\n",
       "      <td>-4.978368</td>\n",
       "      <td>34.606423</td>\n",
       "    </tr>\n",
       "  </tbody>\n",
       "</table>\n",
       "</div>"
      ],
      "text/plain": [
       "   x3  grad_sum   hess_sum\n",
       "0   0 -2.466699   6.084606\n",
       "1   1 -4.978368  34.606423"
      ]
     },
     "execution_count": 76,
     "metadata": {},
     "output_type": "execute_result"
    }
   ],
   "source": [
    "result_x3"
   ]
  },
  {
   "cell_type": "markdown",
   "id": "f6756f4c-1c5e-4b89-90e7-1a45b8682518",
   "metadata": {},
   "source": [
    "据此，我们绘制整个根节点的直方图如下："
   ]
  },
  {
   "cell_type": "markdown",
   "id": "b771cbba-80fd-4db0-aa5c-a3c2204ccbe8",
   "metadata": {},
   "source": [
    "<center><img src=\"https://ml2022.oss-cn-hangzhou.aliyuncs.com/img/202303251244900.png\" alt=\"1679719468765\" style=\"zoom:80%;\" />"
   ]
  },
  {
   "cell_type": "markdown",
   "id": "0247c5d1-2b6d-4d92-995a-666436ee3222",
   "metadata": {},
   "source": [
    "然后我们来进行第一次分裂，之前我们首先尝试了x1_binned=0.5为切分点进行分裂，分裂结果如下："
   ]
  },
  {
   "cell_type": "markdown",
   "id": "17079f04-1757-4e39-8029-62b603515488",
   "metadata": {},
   "source": [
    "<center><img src=\"https://ml2022.oss-cn-hangzhou.aliyuncs.com/img/202303251509196.png\" alt=\"8f2bbe02d4dbc19c4354d434e514301\" style=\"zoom:80%;\" />"
   ]
  },
  {
   "cell_type": "markdown",
   "id": "5df86638-dffc-480f-a300-2a97489c0a3a",
   "metadata": {},
   "source": [
    "此时我们不难发现，$GL$、$HL$、$GR$、$HR$实际上就是根节点中result_x1的计算结果："
   ]
  },
  {
   "cell_type": "code",
   "execution_count": 127,
   "id": "1686a1e8-3718-447d-8282-d3aafeaa7350",
   "metadata": {},
   "outputs": [
    {
     "data": {
      "text/html": [
       "<div>\n",
       "<style scoped>\n",
       "    .dataframe tbody tr th:only-of-type {\n",
       "        vertical-align: middle;\n",
       "    }\n",
       "\n",
       "    .dataframe tbody tr th {\n",
       "        vertical-align: top;\n",
       "    }\n",
       "\n",
       "    .dataframe thead th {\n",
       "        text-align: right;\n",
       "    }\n",
       "</style>\n",
       "<table border=\"1\" class=\"dataframe\">\n",
       "  <thead>\n",
       "    <tr style=\"text-align: right;\">\n",
       "      <th></th>\n",
       "      <th>x1_binned</th>\n",
       "      <th>grad_sum</th>\n",
       "      <th>hess_sum</th>\n",
       "    </tr>\n",
       "  </thead>\n",
       "  <tbody>\n",
       "    <tr>\n",
       "      <th>0</th>\n",
       "      <td>0.0</td>\n",
       "      <td>-6.413418</td>\n",
       "      <td>15.819977</td>\n",
       "    </tr>\n",
       "    <tr>\n",
       "      <th>1</th>\n",
       "      <td>1.0</td>\n",
       "      <td>-1.031650</td>\n",
       "      <td>24.871053</td>\n",
       "    </tr>\n",
       "  </tbody>\n",
       "</table>\n",
       "</div>"
      ],
      "text/plain": [
       "   x1_binned  grad_sum   hess_sum\n",
       "0        0.0 -6.413418  15.819977\n",
       "1        1.0 -1.031650  24.871053"
      ]
     },
     "execution_count": 127,
     "metadata": {},
     "output_type": "execute_result"
    }
   ],
   "source": [
    "result_x1"
   ]
  },
  {
   "cell_type": "markdown",
   "id": "d82a5f68-9112-4df3-a79b-26ece972bbff",
   "metadata": {},
   "source": [
    "<center><img src=\"https://ml2022.oss-cn-hangzhou.aliyuncs.com/img/202303251740904.png\" alt=\"1679737244972\" style=\"zoom:50%;\" />"
   ]
  },
  {
   "cell_type": "markdown",
   "id": "87cdce22-da22-496c-8ff9-486dc8d77ece",
   "metadata": {},
   "source": [
    "因此，如果此前计算过根节点的直方图，就能够非常快速的直接得出现在的子节点的梯度和及hess和。当然，当我们得到两个子节点之后，我们需要围绕这两个数据集分别再进行直方图计算，即不同特征取值下对应的grad和及hess和，并且这里其实我们只需要计算左节点的直方图，右节点的直方图可以通过父节点减去左节点直方图直接计算得到，例如此时左节点的直方图如下："
   ]
  },
  {
   "cell_type": "code",
   "execution_count": 128,
   "id": "209bd922-faa0-4ca0-91ad-e11751968ae2",
   "metadata": {},
   "outputs": [
    {
     "data": {
      "text/html": [
       "<div>\n",
       "<style scoped>\n",
       "    .dataframe tbody tr th:only-of-type {\n",
       "        vertical-align: middle;\n",
       "    }\n",
       "\n",
       "    .dataframe tbody tr th {\n",
       "        vertical-align: top;\n",
       "    }\n",
       "\n",
       "    .dataframe thead th {\n",
       "        text-align: right;\n",
       "    }\n",
       "</style>\n",
       "<table border=\"1\" class=\"dataframe\">\n",
       "  <thead>\n",
       "    <tr style=\"text-align: right;\">\n",
       "      <th></th>\n",
       "      <th>x1_binned</th>\n",
       "      <th>x2_binned&amp;x4</th>\n",
       "      <th>x3</th>\n",
       "      <th>y</th>\n",
       "      <th>grad</th>\n",
       "      <th>hess</th>\n",
       "      <th>topn</th>\n",
       "    </tr>\n",
       "  </thead>\n",
       "  <tbody>\n",
       "    <tr>\n",
       "      <th>0</th>\n",
       "      <td>0.0</td>\n",
       "      <td>1.0</td>\n",
       "      <td>1</td>\n",
       "      <td>1</td>\n",
       "      <td>-2.466699</td>\n",
       "      <td>6.084606</td>\n",
       "      <td>1</td>\n",
       "    </tr>\n",
       "    <tr>\n",
       "      <th>8</th>\n",
       "      <td>0.0</td>\n",
       "      <td>0.0</td>\n",
       "      <td>1</td>\n",
       "      <td>1</td>\n",
       "      <td>-2.466699</td>\n",
       "      <td>6.084606</td>\n",
       "      <td>0</td>\n",
       "    </tr>\n",
       "  </tbody>\n",
       "</table>\n",
       "</div>"
      ],
      "text/plain": [
       "   x1_binned  x2_binned&x4  x3  y      grad      hess  topn\n",
       "0        0.0           1.0   1  1 -2.466699  6.084606     1\n",
       "8        0.0           0.0   1  1 -2.466699  6.084606     0"
      ]
     },
     "execution_count": 128,
     "metadata": {},
     "output_type": "execute_result"
    }
   ],
   "source": [
    "data_goss_1"
   ]
  },
  {
   "cell_type": "code",
   "execution_count": 131,
   "id": "f1535166-c973-490e-8113-97d61de39995",
   "metadata": {},
   "outputs": [],
   "source": [
    "groups = data_goss_1.groupby('x1_binned')\n",
    "\n",
    "# 对每个分组应用聚合函数\n",
    "result_x1 = groups.apply(agg_func).reset_index()\n",
    "\n",
    "# 按照 x2_binned&x4 分组\n",
    "groups = data_goss_1.groupby('x2_binned&x4')\n",
    "\n",
    "# 对每个分组应用聚合函数\n",
    "result_x2_x4 = groups.apply(agg_func).reset_index()\n",
    "\n",
    "# 按照 x3 分组\n",
    "groups = data_goss_1.groupby('x3')\n",
    "\n",
    "# 对每个分组应用聚合函数\n",
    "result_x3 = groups.apply(agg_func).reset_index()"
   ]
  },
  {
   "cell_type": "code",
   "execution_count": 132,
   "id": "fac52918-33b5-491d-bc5f-c04aff6a9efa",
   "metadata": {},
   "outputs": [
    {
     "data": {
      "text/html": [
       "<div>\n",
       "<style scoped>\n",
       "    .dataframe tbody tr th:only-of-type {\n",
       "        vertical-align: middle;\n",
       "    }\n",
       "\n",
       "    .dataframe tbody tr th {\n",
       "        vertical-align: top;\n",
       "    }\n",
       "\n",
       "    .dataframe thead th {\n",
       "        text-align: right;\n",
       "    }\n",
       "</style>\n",
       "<table border=\"1\" class=\"dataframe\">\n",
       "  <thead>\n",
       "    <tr style=\"text-align: right;\">\n",
       "      <th></th>\n",
       "      <th>x1_binned</th>\n",
       "      <th>grad_sum</th>\n",
       "      <th>hess_sum</th>\n",
       "    </tr>\n",
       "  </thead>\n",
       "  <tbody>\n",
       "    <tr>\n",
       "      <th>0</th>\n",
       "      <td>0.0</td>\n",
       "      <td>-6.413418</td>\n",
       "      <td>15.819977</td>\n",
       "    </tr>\n",
       "  </tbody>\n",
       "</table>\n",
       "</div>"
      ],
      "text/plain": [
       "   x1_binned  grad_sum   hess_sum\n",
       "0        0.0 -6.413418  15.819977"
      ]
     },
     "execution_count": 132,
     "metadata": {},
     "output_type": "execute_result"
    }
   ],
   "source": [
    "result_x1"
   ]
  },
  {
   "cell_type": "code",
   "execution_count": 133,
   "id": "2c6df583-a090-4ebc-b476-61078c6c4a17",
   "metadata": {},
   "outputs": [
    {
     "data": {
      "text/html": [
       "<div>\n",
       "<style scoped>\n",
       "    .dataframe tbody tr th:only-of-type {\n",
       "        vertical-align: middle;\n",
       "    }\n",
       "\n",
       "    .dataframe tbody tr th {\n",
       "        vertical-align: top;\n",
       "    }\n",
       "\n",
       "    .dataframe thead th {\n",
       "        text-align: right;\n",
       "    }\n",
       "</style>\n",
       "<table border=\"1\" class=\"dataframe\">\n",
       "  <thead>\n",
       "    <tr style=\"text-align: right;\">\n",
       "      <th></th>\n",
       "      <th>x2_binned&amp;x4</th>\n",
       "      <th>grad_sum</th>\n",
       "      <th>hess_sum</th>\n",
       "    </tr>\n",
       "  </thead>\n",
       "  <tbody>\n",
       "    <tr>\n",
       "      <th>0</th>\n",
       "      <td>0.0</td>\n",
       "      <td>-3.946719</td>\n",
       "      <td>9.735370</td>\n",
       "    </tr>\n",
       "    <tr>\n",
       "      <th>1</th>\n",
       "      <td>1.0</td>\n",
       "      <td>-2.466699</td>\n",
       "      <td>6.084606</td>\n",
       "    </tr>\n",
       "  </tbody>\n",
       "</table>\n",
       "</div>"
      ],
      "text/plain": [
       "   x2_binned&x4  grad_sum  hess_sum\n",
       "0           0.0 -3.946719  9.735370\n",
       "1           1.0 -2.466699  6.084606"
      ]
     },
     "execution_count": 133,
     "metadata": {},
     "output_type": "execute_result"
    }
   ],
   "source": [
    "result_x2_x4"
   ]
  },
  {
   "cell_type": "code",
   "execution_count": 134,
   "id": "1cf0340f-1cc0-4345-a015-4038c21416ea",
   "metadata": {},
   "outputs": [
    {
     "data": {
      "text/html": [
       "<div>\n",
       "<style scoped>\n",
       "    .dataframe tbody tr th:only-of-type {\n",
       "        vertical-align: middle;\n",
       "    }\n",
       "\n",
       "    .dataframe tbody tr th {\n",
       "        vertical-align: top;\n",
       "    }\n",
       "\n",
       "    .dataframe thead th {\n",
       "        text-align: right;\n",
       "    }\n",
       "</style>\n",
       "<table border=\"1\" class=\"dataframe\">\n",
       "  <thead>\n",
       "    <tr style=\"text-align: right;\">\n",
       "      <th></th>\n",
       "      <th>x3</th>\n",
       "      <th>grad_sum</th>\n",
       "      <th>hess_sum</th>\n",
       "    </tr>\n",
       "  </thead>\n",
       "  <tbody>\n",
       "    <tr>\n",
       "      <th>0</th>\n",
       "      <td>1</td>\n",
       "      <td>-6.413418</td>\n",
       "      <td>15.819977</td>\n",
       "    </tr>\n",
       "  </tbody>\n",
       "</table>\n",
       "</div>"
      ],
      "text/plain": [
       "   x3  grad_sum   hess_sum\n",
       "0   1 -6.413418  15.819977"
      ]
     },
     "execution_count": 134,
     "metadata": {},
     "output_type": "execute_result"
    }
   ],
   "source": [
    "result_x3"
   ]
  },
  {
   "cell_type": "markdown",
   "id": "57009f1d-e544-4c0a-a981-5d367f5ea84b",
   "metadata": {},
   "source": [
    "<center><img src=\"https://ml2022.oss-cn-hangzhou.aliyuncs.com/img/202303251728339.png\" alt=\"1679736435248\" style=\"zoom:60%;\" />"
   ]
  },
  {
   "cell_type": "markdown",
   "id": "e321adf9-8b68-4881-a7c3-82ad0ef11841",
   "metadata": {},
   "source": [
    "而右节点直方图，则可以利用父节点直方图直接减去左节点直方图得到："
   ]
  },
  {
   "cell_type": "markdown",
   "id": "8890c5c6-78e6-4604-8aed-3f79e78c3ca8",
   "metadata": {},
   "source": [
    "<center><img src=\"https://ml2022.oss-cn-hangzhou.aliyuncs.com/img/202303251732134.png\" alt=\"1679736744110\" style=\"zoom:80%;\" />"
   ]
  },
  {
   "cell_type": "markdown",
   "id": "8adb797e-4597-4093-b819-3e131726c00d",
   "metadata": {},
   "source": [
    "而这个详见的过程其实非常简单，就是对应位置梯度和及hess和相减即可。"
   ]
  },
  {
   "cell_type": "markdown",
   "id": "184d35c7-d1f0-4f1a-846c-de6f9a84e203",
   "metadata": {},
   "source": [
    "> 该图片的高清原图见课件网盘直方图1.png。"
   ]
  },
  {
   "cell_type": "markdown",
   "id": "0de9648c-4cbf-447e-815a-e2b9e150dad6",
   "metadata": {},
   "source": [
    "而我们完成左右子节点的直方图计算后，即可继续计算不同切分点的分裂增益，同样，由于我们已经得到data_goss_1和data_goss_2两个数据集的直方图，因此这两个数据集的分裂增益计算过程也将变得非常简单，例如我们这里仍然以右节点的x2_binned&x4=1.5为切分点，计算分裂增益，此时的分裂增益计算过类似于根节点的第一次分裂过程，我们只需要根据data_goss_2的直方图就能快速得到分裂子节点的GL1、HL1、GR1和HR1："
   ]
  },
  {
   "cell_type": "markdown",
   "id": "b85abdcc-97b7-4836-8a79-7f006af72553",
   "metadata": {},
   "source": [
    "<center><img src=\"https://ml2022.oss-cn-hangzhou.aliyuncs.com/img/202303251745801.png\" alt=\"1679737530884\" style=\"zoom:60%;\" />"
   ]
  },
  {
   "cell_type": "markdown",
   "id": "94eb1d77-55e7-41b7-aa64-2888f8f698bc",
   "metadata": {},
   "source": [
    "此时GL1=5.38，HL1=9.05，GR1=(-2.46-3.946)=-6.396，HR1=6.084+9.73=15.81。然后就可依据这个结果快速计算分裂增益。这里可以对比此前我们手动计算的结果来验证直方图计算结果是否正确："
   ]
  },
  {
   "cell_type": "markdown",
   "id": "64058259-19bb-4075-af79-6b8bcd46847a",
   "metadata": {},
   "source": [
    "<center><img src=\"https://ml2022.oss-cn-hangzhou.aliyuncs.com/img/202303251609636.png\" alt=\"1679731756120\" style=\"zoom:80%;\" />"
   ]
  },
  {
   "cell_type": "markdown",
   "id": "fdee0f98-ace0-462c-a6fb-8fc3993ae5e3",
   "metadata": {},
   "source": [
    "能够发现，直方图优化算法的计算结果和手动计算结果一致。从而也验证了直方图优化算法本身的正确性。"
   ]
  },
  {
   "cell_type": "markdown",
   "id": "91687bcb-b336-457a-a8c0-409772368f78",
   "metadata": {},
   "source": [
    "- 直方图优化算法的有效性讨论"
   ]
  },
  {
   "cell_type": "markdown",
   "id": "bb29d0f1-e80b-4253-a652-ca36d8bc8a06",
   "metadata": {},
   "source": [
    "&emsp;&emsp;从本质上来说，直方图优化其实是提供了一种特殊的能够保存数据集梯度累加和hess累加的对象（一下简称为直方图对象），然后在决策树的分裂增益计算过程中通过减法计算代替一个节点的梯度和及hess和的计算过程。这个过程看似减少的计算不多，但实际上LGBM算法在实际创建直方图对象的过程中会有非常多的数据类型优化方法，能够进一步加快这个计算过程。同时，哪怕在单次计算中看似提升不大的方法，在海量数据处理时都能带来巨大的计算时间减少。实际上，根据官方说明文档的论述，直方图优化为决策树生长的计算过程了节约了40%的计算时间。"
   ]
  },
  {
   "cell_type": "markdown",
   "id": "c3261ce2-d2ae-4477-8148-edbbbfc45207",
   "metadata": {},
   "source": [
    "&emsp;&emsp;至此，我们就完整介绍了LGBM算法中单独一颗决策树的建模过程。下一小节我们将在这两个小节介绍的基本原理基础之上，来进行完整的LGBM迭代过程的数学推导，帮大家从更加宏观的层面掌握LGBM迭代流程。"
   ]
  }
 ],
 "metadata": {
  "kernelspec": {
   "display_name": "Python 3 (ipykernel)",
   "language": "python",
   "name": "python3"
  },
  "language_info": {
   "codemirror_mode": {
    "name": "ipython",
    "version": 3
   },
   "file_extension": ".py",
   "mimetype": "text/x-python",
   "name": "python",
   "nbconvert_exporter": "python",
   "pygments_lexer": "ipython3",
   "version": "3.9.10"
  }
 },
 "nbformat": 4,
 "nbformat_minor": 5
}
